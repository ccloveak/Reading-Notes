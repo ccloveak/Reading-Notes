{
  "nbformat": 4,
  "nbformat_minor": 0,
  "metadata": {
    "colab": {
      "name": "gitchat总结.ipynb",
      "version": "0.3.2",
      "provenance": [],
      "include_colab_link": true
    },
    "kernelspec": {
      "name": "python3",
      "display_name": "Python 3"
    }
  },
  "cells": [
    {
      "cell_type": "markdown",
      "metadata": {
        "id": "view-in-github",
        "colab_type": "text"
      },
      "source": [
        "<a href=\"https://colab.research.google.com/github/ccloveak/Study_Notes/blob/master/gitchat%E6%80%BB%E7%BB%93.ipynb\" target=\"_parent\"><img src=\"https://colab.research.google.com/assets/colab-badge.svg\" alt=\"Open In Colab\"/></a>"
      ]
    },
    {
      "cell_type": "markdown",
      "metadata": {
        "id": "5MIkRcKtL3iu",
        "colab_type": "text"
      },
      "source": [
        "# 机器学习该如何入门？\n",
        ">https://gitbook.cn/gitchat/activity/59566e2374ea2f222cd663f0"
      ]
    },
    {
      "cell_type": "markdown",
      "metadata": {
        "id": "xNYOUWozMF_K",
        "colab_type": "text"
      },
      "source": [
        "###机器学习特点：\n",
        "\n",
        "1. 机器学习以数据为研究对象，是数据驱动的科学；\n",
        "\n",
        "2. 机器学习的目的是对数据进行预测与分析；\n",
        "\n",
        "3. 机器学习以模型方法为中心，利用统计学习的方法构建模型并且利用模型对未知数据进行预测和分析；\n",
        "\n",
        "4. 统计学习是概率论、统计学、信息论、计算理论、最优化理论以及计算机科学等多领域的交叉学科，并且逐渐形成自己独自的理论体系和方法论。"
      ]
    },
    {
      "cell_type": "markdown",
      "metadata": {
        "id": "zijPle8VNERq",
        "colab_type": "text"
      },
      "source": [
        "### 机器学习对象\n",
        "机器学习研究的对象是多维向量空间的数据。它从各种不同类型的数据（数字，文本，图像，音频，视频）出发，提取数据的特征，抽象出数据的模型，发现数据中的知识，又回到数据的分析与预测中去。"
      ]
    },
    {
      "cell_type": "markdown",
      "metadata": {
        "id": "xQPFu6zPNEZf",
        "colab_type": "text"
      },
      "source": [
        "### 机器学习分类"
      ]
    },
    {
      "cell_type": "markdown",
      "metadata": {
        "id": "zM5RxH5LNEgj",
        "colab_type": "text"
      },
      "source": [
        "* 监督学习  监督学习是指进行训练的数据包含两部分信息：特征向量 + 类别标签。也就是说，他们在训练的时候每一个数据向量所属的类别是事先知道的。在设计学习算法的时候，学习调整参数的过程会根据类标进行调整，类似于学习的过程中被监督了一样，而不是漫无目标地去学习，故此得名。\n",
        "\n"
      ]
    },
    {
      "cell_type": "markdown",
      "metadata": {
        "id": "vX-W5frMNEk6",
        "colab_type": "text"
      },
      "source": [
        "* 无监督学习 相对于有监督而言，无监督方法的训练数据没有类标，只有特征向量。甚至很多时候我们都不知道总共的类别有多少个。因此，无监督学习就不叫做分类，而往往叫做聚类。就是采用一定的算法，把特征性质相近的样本聚在一起成为一类。"
      ]
    },
    {
      "cell_type": "markdown",
      "metadata": {
        "id": "apX2JPabNEoY",
        "colab_type": "text"
      },
      "source": [
        "* 半监督学习 半监督学习是一种结合有监督学习和无监督学习的一种学习方式。它是近年来研究的热点，原因是在真正的模型建立的过程中，往往有类标的数据很少，而绝大多数的数据样本是没有确定类标的。这时候，我们无法直接应用有监督的学习方法进行模型的训练，因为有监督学习算法在有类标数据很少的情况下学习的效果往往很差。但是，我们也不能直接利用无监督学习的方式进行学习，因为这样，我们就没有充分的利用那些已给出的类标的有用信息。"
      ]
    },
    {
      "cell_type": "markdown",
      "metadata": {
        "id": "6CXEoXhzNEr6",
        "colab_type": "text"
      },
      "source": [
        "* 强化学习 所谓强化学习就是智能系统从环境到行为映射的学习，以使奖励信号(强化信号)函数值最大，强化学习不同于连接主义学习中的监督学习，主要表现在教师信号上，强化学习中由环境提供的强化信号是对产生动作的好坏作一种评价(通常为标量信号)，而不是告诉强化学习系统RLS(reinforcement learning system)如何去产生正确的动作。由于外部环境提供的信息很少，RLS必须靠自身的经历进行学习。通过这种方式，RLS在行动-评价的环境中获得知识，改进行动方案以适应环境。"
      ]
    },
    {
      "cell_type": "markdown",
      "metadata": {
        "id": "tvQV96riNEvw",
        "colab_type": "text"
      },
      "source": [
        "### 机器学习的要素"
      ]
    },
    {
      "cell_type": "markdown",
      "metadata": {
        "id": "Syi30_24NE7N",
        "colab_type": "text"
      },
      "source": [
        "\n",
        "\n",
        "*   模型 其实就是机器学习训练的过程中所要学习的条件概率分布或者决策函数。\n",
        "*   策略 就是使用一种什么样的评价度量模型训练过程中的学习好坏的方法，同时根据这个方法去实施的调整模型的参数，以期望训练的模型将来对未知的数据具有最好的预测准确度。\n",
        "*   算法 算法是指模型的具体计算方法。它基于训练数据集，根据学习策略，从假设空间中选择最优模型，最后考虑用什么样的计算方法去求解这个最优模型。\n",
        "\n"
      ]
    },
    {
      "cell_type": "markdown",
      "metadata": {
        "id": "t6l26OC2NE-l",
        "colab_type": "text"
      },
      "source": [
        "### 数学基础"
      ]
    },
    {
      "cell_type": "markdown",
      "metadata": {
        "id": "eVUSa8V_P4Hf",
        "colab_type": "text"
      },
      "source": [
        "\n",
        "\n",
        "*   微积分\n",
        "\n",
        "*   线性代数 乘法 内积运算\n",
        "\n",
        "*   概率与统计 朴素贝叶斯算法\n",
        "\n",
        "\n",
        "*   经典算法学习 \n",
        "\n"
      ]
    },
    {
      "cell_type": "markdown",
      "metadata": {
        "id": "0L2U-AktQtlE",
        "colab_type": "text"
      },
      "source": [
        "#### 经典算法学习"
      ]
    },
    {
      "cell_type": "markdown",
      "metadata": {
        "id": "3afZY2nOQxTy",
        "colab_type": "text"
      },
      "source": [
        "\n",
        "\n",
        "*   分类算法： 逻辑回归（LR），朴素贝叶斯（Naive Bayes），支持向量机（SVM），随机森林（Random Forest），AdaBoost，GDBT，KNN，决策树……\n",
        "\n",
        "*   回归算法： 线性回归（Linear Regression），多项式回归（Polynomial Regression），逐步回归（Stepwise Regression），岭回归（Ridge Regression），套索回归（Lasso Regression）\n",
        "\n",
        "*   聚类算法： K均值（K-Means），谱聚类、DBSCAN聚类、模糊聚类、GMM聚类、层次聚\n",
        "\n",
        "*   降维算法： PCA（主成分分析）、SVD（奇异值分解）\n",
        "\n",
        "*   推荐算法： 协同过滤算法\n",
        "\n"
      ]
    },
    {
      "cell_type": "markdown",
      "metadata": {
        "id": "Mgdx6oIuRbjq",
        "colab_type": "text"
      },
      "source": [
        "### python库"
      ]
    },
    {
      "cell_type": "markdown",
      "metadata": {
        "id": "HQlqHqi8RdYk",
        "colab_type": "text"
      },
      "source": [
        "*  scikit-learn"
      ]
    }
  ]
}