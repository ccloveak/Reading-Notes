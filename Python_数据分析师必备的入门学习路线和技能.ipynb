{
  "nbformat": 4,
  "nbformat_minor": 0,
  "metadata": {
    "colab": {
      "name": "Python 数据分析师必备的入门学习路线和技能.ipynb",
      "version": "0.3.2",
      "provenance": [],
      "collapsed_sections": [
        "a7ka_GMbnpw-",
        "WRo5QlIv1A29",
        "P1Q7SXnj7mlA",
        "SN3u4wY77zZR",
        "IBXync9t9BV1",
        "H63VHDAzAEZD",
        "zZgJTPGPAqjw",
        "SfL6ECm4DWmu"
      ],
      "include_colab_link": true
    },
    "kernelspec": {
      "name": "python3",
      "display_name": "Python 3"
    },
    "accelerator": "GPU"
  },
  "cells": [
    {
      "cell_type": "markdown",
      "metadata": {
        "id": "view-in-github",
        "colab_type": "text"
      },
      "source": [
        "<a href=\"https://colab.research.google.com/github/ccloveak/Study_Notes/blob/master/Python_%E6%95%B0%E6%8D%AE%E5%88%86%E6%9E%90%E5%B8%88%E5%BF%85%E5%A4%87%E7%9A%84%E5%85%A5%E9%97%A8%E5%AD%A6%E4%B9%A0%E8%B7%AF%E7%BA%BF%E5%92%8C%E6%8A%80%E8%83%BD.ipynb\" target=\"_parent\"><img src=\"https://colab.research.google.com/assets/colab-badge.svg\" alt=\"Open In Colab\"/></a>"
      ]
    },
    {
      "cell_type": "markdown",
      "metadata": {
        "id": "a7ka_GMbnpw-",
        "colab_type": "text"
      },
      "source": [
        "#入门学习路线"
      ]
    },
    {
      "cell_type": "markdown",
      "metadata": {
        "id": "eERzDu6Hp9ao",
        "colab_type": "text"
      },
      "source": [
        "###1.1 统计学基本知识\n",
        "概率，平均值，中位数，众数，四分位数，期望，标准差，方差，协方差，相关系数\n"
      ]
    },
    {
      "cell_type": "markdown",
      "metadata": {
        "id": "aOfgKVxNrmT2",
        "colab_type": "text"
      },
      "source": [
        "###1.2 算法\n",
        "用算法实现回归，分类，聚类分析 "
      ]
    },
    {
      "cell_type": "markdown",
      "metadata": {
        "id": "XgVhxIc7q4hY",
        "colab_type": "text"
      },
      "source": [
        "###1.3 编程语言及工具\n",
        "python\n",
        "\n",
        "***\n",
        "***"
      ]
    },
    {
      "cell_type": "markdown",
      "metadata": {
        "id": "KCKtqQvArbV1",
        "colab_type": "text"
      },
      "source": [
        "#数据整理"
      ]
    },
    {
      "cell_type": "markdown",
      "metadata": {
        "id": "ul62h_36sItg",
        "colab_type": "text"
      },
      "source": [
        "数据整理，英文名称 data munging，是指在获取到的原数据基础上，理解这些业务数据，整理清洗它们，作为接下来算法建模的输入数据"
      ]
    },
    {
      "cell_type": "markdown",
      "metadata": {
        "id": "_f91j1c0sRBU",
        "colab_type": "text"
      },
      "source": [
        "###2.1 理解业务数据\n",
        "认真理解业务数据，可以试着理解去每个特征，观察每个特征，理解它们对结果的影响程度"
      ]
    },
    {
      "cell_type": "markdown",
      "metadata": {
        "id": "xz-JDhoFsm-9",
        "colab_type": "text"
      },
      "source": [
        "####可视化工具： seaborn "
      ]
    },
    {
      "cell_type": "code",
      "metadata": {
        "id": "OktP2a_esqqK",
        "colab_type": "code",
        "colab": {}
      },
      "source": [
        "#缺train数据集\n",
        "import matplotlib\n",
        "import matplotlib.pyplot as plt\n",
        "import seaborn as sns\n",
        "colormap = plt.cm.RdBu\n",
        "plt.figure(figsize=(14,12))\n",
        "sns.heatmap(train.astype(float).corr(),linewidths=0.1,vmax=1.0, square=True, cmap=colormap, linecolor='white', annot=True)"
      ],
      "execution_count": 0,
      "outputs": []
    },
    {
      "cell_type": "markdown",
      "metadata": {
        "id": "ICjgHHaLxeAg",
        "colab_type": "text"
      },
      "source": [
        "###2.2 明确各个特征的类型\n",
        "明确数据类型，对数据进行筛选  \n",
        "one-hot 编码  \n",
        "dummy variable 虚拟变量\n"
      ]
    },
    {
      "cell_type": "markdown",
      "metadata": {
        "id": "5MaeU7b_x_h0",
        "colab_type": "text"
      },
      "source": [
        "###2.3 找出异常数据\n",
        "数据存在异常值，绘制箱形图，看一看百分位数  \n",
        "了解数据范围，设定最大值、最小值限度"
      ]
    },
    {
      "cell_type": "markdown",
      "metadata": {
        "id": "n3eDHnLnyOf_",
        "colab_type": "text"
      },
      "source": [
        "###2.4 面对缺失值\n",
        "1.填充缺失数据  \n",
        "2.彻底删除此字段"
      ]
    },
    {
      "cell_type": "markdown",
      "metadata": {
        "id": "yvAHqNKmygQj",
        "colab_type": "text"
      },
      "source": [
        "###2.5 数据不均衡\n",
        "数据量越大，不均衡的问题越容易解决\n",
        "数据量很小，解决起来就比较困难\n",
        "***\n",
        "***\n"
      ]
    },
    {
      "cell_type": "markdown",
      "metadata": {
        "id": "AlwQnOZQygPY",
        "colab_type": "text"
      },
      "source": [
        "#Python 入门必备知识\n",
        "Python 语言主要的特点，通俗的说就是语法简洁，开发效率高，基于 Python 的开发生态环境比较友好。"
      ]
    },
    {
      "cell_type": "markdown",
      "metadata": {
        "id": "N_-cXQ-BzVVL",
        "colab_type": "text"
      },
      "source": [
        "###3.1 Python 最常用的对象\n",
        "Python 最常用的几个对象： list、dict、tuple 以及它们三者的灵活组合。  \n",
        "list`[ ]` 可以看作是线性表和链表的结合体 \n",
        "dict`{ }`可以看作是 key-value 对的组合 \n",
        "tuple`( )`是不可更改的 \"list\"\n",
        "\n"
      ]
    },
    {
      "cell_type": "markdown",
      "metadata": {
        "id": "WRo5QlIv1A29",
        "colab_type": "text"
      },
      "source": [
        "####3.1.1 dict 核心知识\n",
        "dict 就是一种字典结构，key 唯一  \n",
        "两种方法创建dict  \n",
        "1.直接 {}  \n",
        "2.dict 构造函数创建"
      ]
    },
    {
      "cell_type": "code",
      "metadata": {
        "id": "DTTFKrlc4e1e",
        "colab_type": "code",
        "colab": {
          "base_uri": "https://localhost:8080/",
          "height": 34
        },
        "outputId": "23ad2c27-4d16-4a5a-e675-8e9b6273d66d"
      },
      "source": [
        "d = {'a':[1,2,3], 'b':['gz','lg','zx']}\n",
        "d"
      ],
      "execution_count": 4,
      "outputs": [
        {
          "output_type": "execute_result",
          "data": {
            "text/plain": [
              "{'a': [1, 2, 3], 'b': ['gz', 'lg', 'zx']}"
            ]
          },
          "metadata": {
            "tags": []
          },
          "execution_count": 4
        }
      ]
    },
    {
      "cell_type": "code",
      "metadata": {
        "id": "dd7YM03U4mbE",
        "colab_type": "code",
        "colab": {
          "base_uri": "https://localhost:8080/",
          "height": 34
        },
        "outputId": "105a43a8-1bda-473b-c34d-a20320cd188a"
      },
      "source": [
        "d = dict.fromkeys(['a','b'],[1,2,5])\n",
        "d"
      ],
      "execution_count": 5,
      "outputs": [
        {
          "output_type": "execute_result",
          "data": {
            "text/plain": [
              "{'a': [1, 2, 5], 'b': [1, 2, 5]}"
            ]
          },
          "metadata": {
            "tags": []
          },
          "execution_count": 5
        }
      ]
    },
    {
      "cell_type": "markdown",
      "metadata": {
        "id": "AUEzTZWO45lk",
        "colab_type": "text"
      },
      "source": [
        "#####字典内元素的增加、删除、更新、访问\n",
        "增加元素对于 dict 而言就是增加一个键值对"
      ]
    },
    {
      "cell_type": "code",
      "metadata": {
        "id": "AHDdyGun5DiU",
        "colab_type": "code",
        "colab": {
          "base_uri": "https://localhost:8080/",
          "height": 34
        },
        "outputId": "9d216f92-0e85-4a8a-b34f-9b0c1fd4bccc"
      },
      "source": [
        "d = dict.fromkeys(['a','b'],[1,2,3])\n",
        "d"
      ],
      "execution_count": 6,
      "outputs": [
        {
          "output_type": "execute_result",
          "data": {
            "text/plain": [
              "{'a': [1, 2, 3], 'b': [1, 2, 3]}"
            ]
          },
          "metadata": {
            "tags": []
          },
          "execution_count": 6
        }
      ]
    },
    {
      "cell_type": "code",
      "metadata": {
        "id": "weVbCyui5KCI",
        "colab_type": "code",
        "colab": {
          "base_uri": "https://localhost:8080/",
          "height": 34
        },
        "outputId": "bca3aefc-84df-4a24-eed2-e0bf1403de7e"
      },
      "source": [
        "d['c'] = ['gz','lg'] \n",
        "d"
      ],
      "execution_count": 7,
      "outputs": [
        {
          "output_type": "execute_result",
          "data": {
            "text/plain": [
              "{'a': [1, 2, 3], 'b': [1, 2, 3], 'c': ['gz', 'lg']}"
            ]
          },
          "metadata": {
            "tags": []
          },
          "execution_count": 7
        }
      ]
    },
    {
      "cell_type": "markdown",
      "metadata": {
        "id": "6IFsBfWA5QNF",
        "colab_type": "text"
      },
      "source": [
        "如果添加一个键值对时，原字典中此键已经存在，则直接更新"
      ]
    },
    {
      "cell_type": "code",
      "metadata": {
        "id": "76mobeMq5TFw",
        "colab_type": "code",
        "colab": {
          "base_uri": "https://localhost:8080/",
          "height": 34
        },
        "outputId": "8afff511-6d95-4178-dc52-e22258ae4037"
      },
      "source": [
        "d={'a': [1, 2, 3], 'b': [1, 2, 3], 'c': ['gz', 'lg']}\n",
        "d"
      ],
      "execution_count": 8,
      "outputs": [
        {
          "output_type": "execute_result",
          "data": {
            "text/plain": [
              "{'a': [1, 2, 3], 'b': [1, 2, 3], 'c': ['gz', 'lg']}"
            ]
          },
          "metadata": {
            "tags": []
          },
          "execution_count": 8
        }
      ]
    },
    {
      "cell_type": "code",
      "metadata": {
        "id": "yjOgI9pp5bi_",
        "colab_type": "code",
        "colab": {
          "base_uri": "https://localhost:8080/",
          "height": 34
        },
        "outputId": "99196a0d-ac79-43ac-a254-62c5bea3fe16"
      },
      "source": [
        "d['b'] = [3,5,8]\n",
        "d"
      ],
      "execution_count": 9,
      "outputs": [
        {
          "output_type": "execute_result",
          "data": {
            "text/plain": [
              "{'a': [1, 2, 3], 'b': [3, 5, 8], 'c': ['gz', 'lg']}"
            ]
          },
          "metadata": {
            "tags": []
          },
          "execution_count": 9
        }
      ]
    },
    {
      "cell_type": "markdown",
      "metadata": {
        "id": "zx41KP9U5gzY",
        "colab_type": "text"
      },
      "source": [
        "想要删除字典中的某个键值对时，使用 pop，传入想要删除的键值对的键"
      ]
    },
    {
      "cell_type": "code",
      "metadata": {
        "id": "RRXq3tl95jlr",
        "colab_type": "code",
        "colab": {
          "base_uri": "https://localhost:8080/",
          "height": 34
        },
        "outputId": "34597197-83d5-4465-d918-3c4851bc037e"
      },
      "source": [
        "d"
      ],
      "execution_count": 10,
      "outputs": [
        {
          "output_type": "execute_result",
          "data": {
            "text/plain": [
              "{'a': [1, 2, 3], 'b': [3, 5, 8], 'c': ['gz', 'lg']}"
            ]
          },
          "metadata": {
            "tags": []
          },
          "execution_count": 10
        }
      ]
    },
    {
      "cell_type": "code",
      "metadata": {
        "id": "uwuzBgBX5o05",
        "colab_type": "code",
        "colab": {
          "base_uri": "https://localhost:8080/",
          "height": 34
        },
        "outputId": "67e6d5e4-be05-483a-aa6a-4eecc64e686e"
      },
      "source": [
        "d.pop('b')"
      ],
      "execution_count": 11,
      "outputs": [
        {
          "output_type": "execute_result",
          "data": {
            "text/plain": [
              "[3, 5, 8]"
            ]
          },
          "metadata": {
            "tags": []
          },
          "execution_count": 11
        }
      ]
    },
    {
      "cell_type": "code",
      "metadata": {
        "id": "CHmQNY9C5rgh",
        "colab_type": "code",
        "colab": {
          "base_uri": "https://localhost:8080/",
          "height": 34
        },
        "outputId": "af9bf2dc-5b66-490d-d3cd-b347878a4bcd"
      },
      "source": [
        "d"
      ],
      "execution_count": 12,
      "outputs": [
        {
          "output_type": "execute_result",
          "data": {
            "text/plain": [
              "{'a': [1, 2, 3], 'c': ['gz', 'lg']}"
            ]
          },
          "metadata": {
            "tags": []
          },
          "execution_count": 12
        }
      ]
    },
    {
      "cell_type": "markdown",
      "metadata": {
        "id": "g_EFtGaz5yjI",
        "colab_type": "text"
      },
      "source": [
        "如果字典中不存在此键，则返回设置的默认值，比如我们自己设置的： 'key is not in dict' "
      ]
    },
    {
      "cell_type": "code",
      "metadata": {
        "id": "kOKPgPcY51yv",
        "colab_type": "code",
        "colab": {
          "base_uri": "https://localhost:8080/",
          "height": 34
        },
        "outputId": "67664a14-ea0d-41ea-ed11-c95cf39331e0"
      },
      "source": [
        "d"
      ],
      "execution_count": 13,
      "outputs": [
        {
          "output_type": "execute_result",
          "data": {
            "text/plain": [
              "{'a': [1, 2, 3], 'c': ['gz', 'lg']}"
            ]
          },
          "metadata": {
            "tags": []
          },
          "execution_count": 13
        }
      ]
    },
    {
      "cell_type": "code",
      "metadata": {
        "id": "uVeOKxgO51xo",
        "colab_type": "code",
        "colab": {
          "base_uri": "https://localhost:8080/",
          "height": 34
        },
        "outputId": "df02a7eb-f79e-4f3c-b893-05aa94a4eedd"
      },
      "source": [
        "d.pop('b','key is not in dict')"
      ],
      "execution_count": 14,
      "outputs": [
        {
          "output_type": "execute_result",
          "data": {
            "text/plain": [
              "'key is not in dict'"
            ]
          },
          "metadata": {
            "tags": []
          },
          "execution_count": 14
        }
      ]
    },
    {
      "cell_type": "markdown",
      "metadata": {
        "id": "HfUr2wgg59ko",
        "colab_type": "text"
      },
      "source": [
        "访问键值对，只能通过键，访问对应的值"
      ]
    },
    {
      "cell_type": "code",
      "metadata": {
        "id": "OLzGSZja5-pa",
        "colab_type": "code",
        "colab": {
          "base_uri": "https://localhost:8080/",
          "height": 34
        },
        "outputId": "18359dad-753f-4fcd-a7b4-a0232dc7496d"
      },
      "source": [
        "d['a']"
      ],
      "execution_count": 15,
      "outputs": [
        {
          "output_type": "execute_result",
          "data": {
            "text/plain": [
              "[1, 2, 3]"
            ]
          },
          "metadata": {
            "tags": []
          },
          "execution_count": 15
        }
      ]
    },
    {
      "cell_type": "markdown",
      "metadata": {
        "id": "XCNb6pKN6EQo",
        "colab_type": "text"
      },
      "source": [
        "dict 是可迭代的对象类型，可以通过 for 遍历每个键值对，如下直接访问每个键"
      ]
    },
    {
      "cell_type": "code",
      "metadata": {
        "id": "Agx_mKZj6G2j",
        "colab_type": "code",
        "colab": {
          "base_uri": "https://localhost:8080/",
          "height": 51
        },
        "outputId": "9c3ede6d-661d-4d37-8174-033d22e292ff"
      },
      "source": [
        "for i in d: \n",
        "    print(i)"
      ],
      "execution_count": 16,
      "outputs": [
        {
          "output_type": "stream",
          "text": [
            "a\n",
            "c\n"
          ],
          "name": "stdout"
        }
      ]
    },
    {
      "cell_type": "markdown",
      "metadata": {
        "id": "mzB3R7Xk6Sfa",
        "colab_type": "text"
      },
      "source": [
        "要想访问每个键值对，可以借助字典的 items() 访问，items 方法返回字典内每项的视图"
      ]
    },
    {
      "cell_type": "code",
      "metadata": {
        "id": "rZ_rLIDW6aC1",
        "colab_type": "code",
        "colab": {
          "base_uri": "https://localhost:8080/",
          "height": 51
        },
        "outputId": "0e302903-1d30-47c8-b16d-9f3dc4a3f534"
      },
      "source": [
        "for item in d.items(): \n",
        "    print(item)"
      ],
      "execution_count": 17,
      "outputs": [
        {
          "output_type": "stream",
          "text": [
            "('a', [1, 2, 3])\n",
            "('c', ['gz', 'lg'])\n"
          ],
          "name": "stdout"
        }
      ]
    },
    {
      "cell_type": "markdown",
      "metadata": {
        "id": "JThaa8Jw6iC2",
        "colab_type": "text"
      },
      "source": [
        "####3.1.2 tuple 和 set 简介\n",
        "tuple 对象是以 () 创建的，set 对象是以 {} 创建的"
      ]
    },
    {
      "cell_type": "code",
      "metadata": {
        "id": "hGIxtJlu7OX_",
        "colab_type": "code",
        "colab": {
          "base_uri": "https://localhost:8080/",
          "height": 34
        },
        "outputId": "8cc61f7a-d014-4f29-ec17-ff65c18f2f9f"
      },
      "source": [
        "t = ('a',[1,4,6],{'b':[4,2,0]})\n",
        "t"
      ],
      "execution_count": 18,
      "outputs": [
        {
          "output_type": "execute_result",
          "data": {
            "text/plain": [
              "('a', [1, 4, 6], {'b': [4, 2, 0]})"
            ]
          },
          "metadata": {
            "tags": []
          },
          "execution_count": 18
        }
      ]
    },
    {
      "cell_type": "code",
      "metadata": {
        "id": "5zqsSWBa7RbZ",
        "colab_type": "code",
        "colab": {
          "base_uri": "https://localhost:8080/",
          "height": 34
        },
        "outputId": "3e6f668a-6efc-4338-8a8e-44be8d0ea543"
      },
      "source": [
        "s = {1,4,6}\n",
        "s"
      ],
      "execution_count": 19,
      "outputs": [
        {
          "output_type": "execute_result",
          "data": {
            "text/plain": [
              "{1, 4, 6}"
            ]
          },
          "metadata": {
            "tags": []
          },
          "execution_count": 19
        }
      ]
    },
    {
      "cell_type": "markdown",
      "metadata": {
        "id": "C5GNSbo77Yul",
        "colab_type": "text"
      },
      "source": [
        "tuple 是不可更改的对象(immutable)，一旦创建，里面的元素就不能再改动了。  \n",
        "set 是无重复元素的集合体，是可更改的对象(mutable)。"
      ]
    },
    {
      "cell_type": "markdown",
      "metadata": {
        "id": "9NrF5JdM7fNb",
        "colab_type": "text"
      },
      "source": [
        "###3.2 Python 入门必备知识点"
      ]
    },
    {
      "cell_type": "markdown",
      "metadata": {
        "id": "P1Q7SXnj7mlA",
        "colab_type": "text"
      },
      "source": [
        "####3.2.1 对象上的特殊函数\n"
      ]
    },
    {
      "cell_type": "markdown",
      "metadata": {
        "id": "SN3u4wY77zZR",
        "colab_type": "text"
      },
      "source": [
        "#####常用的 Python 解释器 CPython"
      ]
    },
    {
      "cell_type": "code",
      "metadata": {
        "id": "uXDvjxdC71SQ",
        "colab_type": "code",
        "colab": {}
      },
      "source": [
        "class student: \n",
        "    def __init__(self,name):\n",
        "        self.name = name \n",
        "    def __len__(self):\n",
        "        return len(self.name)"
      ],
      "execution_count": 0,
      "outputs": []
    },
    {
      "cell_type": "code",
      "metadata": {
        "id": "hEKHQVVt83IO",
        "colab_type": "code",
        "colab": {
          "base_uri": "https://localhost:8080/",
          "height": 34
        },
        "outputId": "d30d43cb-e8b5-49ab-8562-1bf317c21c75"
      },
      "source": [
        "xiaoming = student('xiaoming')\n",
        "len(xiaoming)"
      ],
      "execution_count": 25,
      "outputs": [
        {
          "output_type": "execute_result",
          "data": {
            "text/plain": [
              "8"
            ]
          },
          "metadata": {
            "tags": []
          },
          "execution_count": 25
        }
      ]
    },
    {
      "cell_type": "markdown",
      "metadata": {
        "id": "IBXync9t9BV1",
        "colab_type": "text"
      },
      "source": [
        "####3.2.2 列表生成式"
      ]
    },
    {
      "cell_type": "code",
      "metadata": {
        "id": "Sb1ntSwN9R-s",
        "colab_type": "code",
        "colab": {
          "base_uri": "https://localhost:8080/",
          "height": 34
        },
        "outputId": "1641b7b3-e088-476a-8367-b356496f62c9"
      },
      "source": [
        "[abs(i) for i in [-4,3,1,-9,2]]  "
      ],
      "execution_count": 26,
      "outputs": [
        {
          "output_type": "execute_result",
          "data": {
            "text/plain": [
              "[4, 3, 1, 9, 2]"
            ]
          },
          "metadata": {
            "tags": []
          },
          "execution_count": 26
        }
      ]
    },
    {
      "cell_type": "markdown",
      "metadata": {
        "id": "0CdJzwGa9Wbe",
        "colab_type": "text"
      },
      "source": [
        "结合 if 和 else，写起来更加简洁"
      ]
    },
    {
      "cell_type": "code",
      "metadata": {
        "id": "QJ87I2P49XPb",
        "colab_type": "code",
        "colab": {
          "base_uri": "https://localhost:8080/",
          "height": 34
        },
        "outputId": "0d867cd7-5da6-477d-f550-36c714c4218b"
      },
      "source": [
        "[i+1 if i>0 else i+1 for i in [-4,3,1,-9,2]]"
      ],
      "execution_count": 29,
      "outputs": [
        {
          "output_type": "execute_result",
          "data": {
            "text/plain": [
              "[-3, 4, 2, -8, 3]"
            ]
          },
          "metadata": {
            "tags": []
          },
          "execution_count": 29
        }
      ]
    },
    {
      "cell_type": "code",
      "metadata": {
        "id": "Gk52wgqv-PLg",
        "colab_type": "code",
        "colab": {
          "base_uri": "https://localhost:8080/",
          "height": 34
        },
        "outputId": "b5c627ad-e213-48aa-dc50-f1b7edf0ec2a"
      },
      "source": [
        "[i+0 if i>0 else i+1 for i in [-4,3,1,-9,2]]"
      ],
      "execution_count": 30,
      "outputs": [
        {
          "output_type": "execute_result",
          "data": {
            "text/plain": [
              "[-3, 3, 1, -8, 2]"
            ]
          },
          "metadata": {
            "tags": []
          },
          "execution_count": 30
        }
      ]
    },
    {
      "cell_type": "code",
      "metadata": {
        "id": "ia4nlz6z-VUY",
        "colab_type": "code",
        "colab": {
          "base_uri": "https://localhost:8080/",
          "height": 34
        },
        "outputId": "fd0b5d03-ebb9-462f-8b92-e66465b62a77"
      },
      "source": [
        "[i+2 if i>0 else i+1 for i in [-4,3,1,-9,2]]"
      ],
      "execution_count": 31,
      "outputs": [
        {
          "output_type": "execute_result",
          "data": {
            "text/plain": [
              "[-3, 5, 3, -8, 4]"
            ]
          },
          "metadata": {
            "tags": []
          },
          "execution_count": 31
        }
      ]
    },
    {
      "cell_type": "code",
      "metadata": {
        "id": "fB28ftdM-ZE4",
        "colab_type": "code",
        "colab": {
          "base_uri": "https://localhost:8080/",
          "height": 34
        },
        "outputId": "292f4dbd-c2ed-4bc8-ae51-b0cfd9bd7840"
      },
      "source": [
        "[i+3 if i>0 else i+1 for i in [-4,3,1,-9,2]]"
      ],
      "execution_count": 32,
      "outputs": [
        {
          "output_type": "execute_result",
          "data": {
            "text/plain": [
              "[-3, 6, 4, -8, 5]"
            ]
          },
          "metadata": {
            "tags": []
          },
          "execution_count": 32
        }
      ]
    },
    {
      "cell_type": "markdown",
      "metadata": {
        "id": "69TEnj4q-hGk",
        "colab_type": "text"
      },
      "source": [
        "####3.2.3 位置参数和关键字参数\n",
        "位置参数 ( positional argument ) 和关键字参数( keyword argument ) "
      ]
    },
    {
      "cell_type": "code",
      "metadata": {
        "id": "XqkuYa-I_Q6Q",
        "colab_type": "code",
        "colab": {}
      },
      "source": [
        "def fun(*args, **kwargs): \n",
        "    print(args,kwargs)"
      ],
      "execution_count": 0,
      "outputs": []
    },
    {
      "cell_type": "markdown",
      "metadata": {
        "id": "Wh_ZO6h5-hFL",
        "colab_type": "text"
      },
      "source": [
        "\n",
        "`*args`表示位置参数，`**kwargs`表示关键字参数\n",
        "\n"
      ]
    },
    {
      "cell_type": "code",
      "metadata": {
        "id": "-yX2Eghy_Y13",
        "colab_type": "code",
        "colab": {
          "base_uri": "https://localhost:8080/",
          "height": 34
        },
        "outputId": "2208ca74-2168-457b-80db-bed43bf2778a"
      },
      "source": [
        "fun([4,3,1],name = 'gz', color = 'red') "
      ],
      "execution_count": 34,
      "outputs": [
        {
          "output_type": "stream",
          "text": [
            "([4, 3, 1],) {'name': 'gz', 'color': 'red'}\n"
          ],
          "name": "stdout"
        }
      ]
    },
    {
      "cell_type": "markdown",
      "metadata": {
        "id": "5j6ZjzTi_pkp",
        "colab_type": "text"
      },
      "source": [
        "*位置参数不能位于关键字参数后面*\n",
        "***\n",
        "***"
      ]
    },
    {
      "cell_type": "markdown",
      "metadata": {
        "id": "ZwlwJXaH_5vG",
        "colab_type": "text"
      },
      "source": [
        "#NumPy 入门必备知识"
      ]
    },
    {
      "cell_type": "markdown",
      "metadata": {
        "id": "H63VHDAzAEZD",
        "colab_type": "text"
      },
      "source": [
        "###4.1 ndarray 对象"
      ]
    },
    {
      "cell_type": "code",
      "metadata": {
        "id": "6mCiVR8eAI9m",
        "colab_type": "code",
        "colab": {}
      },
      "source": [
        "import numpy as np"
      ],
      "execution_count": 0,
      "outputs": []
    },
    {
      "cell_type": "code",
      "metadata": {
        "id": "iZa1DbojAO8E",
        "colab_type": "code",
        "colab": {
          "base_uri": "https://localhost:8080/",
          "height": 34
        },
        "outputId": "81702139-69d3-4aa1-c02a-836679b2c183"
      },
      "source": [
        "n1d = np.array([1,4,5])\n",
        "n1d"
      ],
      "execution_count": 37,
      "outputs": [
        {
          "output_type": "execute_result",
          "data": {
            "text/plain": [
              "array([1, 4, 5])"
            ]
          },
          "metadata": {
            "tags": []
          },
          "execution_count": 37
        }
      ]
    },
    {
      "cell_type": "code",
      "metadata": {
        "id": "Jx7XYN83AeBU",
        "colab_type": "code",
        "colab": {
          "base_uri": "https://localhost:8080/",
          "height": 34
        },
        "outputId": "9cfd00e8-0066-47a3-99bd-f0e8dfbe0b7a"
      },
      "source": [
        "[1,4,5]*3"
      ],
      "execution_count": 38,
      "outputs": [
        {
          "output_type": "execute_result",
          "data": {
            "text/plain": [
              "[1, 4, 5, 1, 4, 5, 1, 4, 5]"
            ]
          },
          "metadata": {
            "tags": []
          },
          "execution_count": 38
        }
      ]
    },
    {
      "cell_type": "code",
      "metadata": {
        "id": "GZwuHCIwAfGD",
        "colab_type": "code",
        "colab": {
          "base_uri": "https://localhost:8080/",
          "height": 34
        },
        "outputId": "beab4f6e-408f-4781-ffb1-1c86f839112d"
      },
      "source": [
        "n1d*3"
      ],
      "execution_count": 39,
      "outputs": [
        {
          "output_type": "execute_result",
          "data": {
            "text/plain": [
              "array([ 3, 12, 15])"
            ]
          },
          "metadata": {
            "tags": []
          },
          "execution_count": 39
        }
      ]
    },
    {
      "cell_type": "code",
      "metadata": {
        "id": "D8tLWtHeAlgB",
        "colab_type": "code",
        "colab": {
          "base_uri": "https://localhost:8080/",
          "height": 34
        },
        "outputId": "aba42f6e-1739-419e-feaf-21805a3ba3c8"
      },
      "source": [
        "[i*3 for i in [1,4,5]]"
      ],
      "execution_count": 40,
      "outputs": [
        {
          "output_type": "execute_result",
          "data": {
            "text/plain": [
              "[3, 12, 15]"
            ]
          },
          "metadata": {
            "tags": []
          },
          "execution_count": 40
        }
      ]
    },
    {
      "cell_type": "markdown",
      "metadata": {
        "id": "zZgJTPGPAqjw",
        "colab_type": "text"
      },
      "source": [
        "###4.2 NumPy 的向量化增强\n",
        "linspace 默认线性切分 50 份，且默认包含边界值"
      ]
    },
    {
      "cell_type": "code",
      "metadata": {
        "id": "Td3IbJQKA1e1",
        "colab_type": "code",
        "colab": {
          "base_uri": "https://localhost:8080/",
          "height": 207
        },
        "outputId": "0de0234d-1b8f-4808-9b88-1533ca3e56f8"
      },
      "source": [
        "b = np.linspace(0,10)\n",
        "b"
      ],
      "execution_count": 41,
      "outputs": [
        {
          "output_type": "execute_result",
          "data": {
            "text/plain": [
              "array([ 0.        ,  0.20408163,  0.40816327,  0.6122449 ,  0.81632653,\n",
              "        1.02040816,  1.2244898 ,  1.42857143,  1.63265306,  1.83673469,\n",
              "        2.04081633,  2.24489796,  2.44897959,  2.65306122,  2.85714286,\n",
              "        3.06122449,  3.26530612,  3.46938776,  3.67346939,  3.87755102,\n",
              "        4.08163265,  4.28571429,  4.48979592,  4.69387755,  4.89795918,\n",
              "        5.10204082,  5.30612245,  5.51020408,  5.71428571,  5.91836735,\n",
              "        6.12244898,  6.32653061,  6.53061224,  6.73469388,  6.93877551,\n",
              "        7.14285714,  7.34693878,  7.55102041,  7.75510204,  7.95918367,\n",
              "        8.16326531,  8.36734694,  8.57142857,  8.7755102 ,  8.97959184,\n",
              "        9.18367347,  9.3877551 ,  9.59183673,  9.79591837, 10.        ])"
            ]
          },
          "metadata": {
            "tags": []
          },
          "execution_count": 41
        }
      ]
    },
    {
      "cell_type": "code",
      "metadata": {
        "id": "wEPBRaliA65-",
        "colab_type": "code",
        "colab": {
          "base_uri": "https://localhost:8080/",
          "height": 207
        },
        "outputId": "c63c77de-a89e-4e0d-d868-14298e8cf4b4"
      },
      "source": [
        "b + 1"
      ],
      "execution_count": 42,
      "outputs": [
        {
          "output_type": "execute_result",
          "data": {
            "text/plain": [
              "array([ 1.        ,  1.20408163,  1.40816327,  1.6122449 ,  1.81632653,\n",
              "        2.02040816,  2.2244898 ,  2.42857143,  2.63265306,  2.83673469,\n",
              "        3.04081633,  3.24489796,  3.44897959,  3.65306122,  3.85714286,\n",
              "        4.06122449,  4.26530612,  4.46938776,  4.67346939,  4.87755102,\n",
              "        5.08163265,  5.28571429,  5.48979592,  5.69387755,  5.89795918,\n",
              "        6.10204082,  6.30612245,  6.51020408,  6.71428571,  6.91836735,\n",
              "        7.12244898,  7.32653061,  7.53061224,  7.73469388,  7.93877551,\n",
              "        8.14285714,  8.34693878,  8.55102041,  8.75510204,  8.95918367,\n",
              "        9.16326531,  9.36734694,  9.57142857,  9.7755102 ,  9.97959184,\n",
              "       10.18367347, 10.3877551 , 10.59183673, 10.79591837, 11.        ])"
            ]
          },
          "metadata": {
            "tags": []
          },
          "execution_count": 42
        }
      ]
    },
    {
      "cell_type": "markdown",
      "metadata": {
        "id": "IHuJRoHQBGf-",
        "colab_type": "text"
      },
      "source": [
        "#####增强 myabs 函数功能，使之具备处理 list 的能力\n",
        "NumPy 的向量化函数 vectorize"
      ]
    },
    {
      "cell_type": "code",
      "metadata": {
        "id": "EwGNi2zqBH0K",
        "colab_type": "code",
        "colab": {
          "base_uri": "https://localhost:8080/",
          "height": 34
        },
        "outputId": "0f6cb7ed-9442-4fb7-de1d-28f0052e58a8"
      },
      "source": [
        "def myabs(a):\n",
        "    return abs(a)\n",
        "zq_myabs = np.vectorize(myabs)\n",
        "zq_myabs([1,3,-5])"
      ],
      "execution_count": 45,
      "outputs": [
        {
          "output_type": "execute_result",
          "data": {
            "text/plain": [
              "array([1, 3, 5])"
            ]
          },
          "metadata": {
            "tags": []
          },
          "execution_count": 45
        }
      ]
    },
    {
      "cell_type": "markdown",
      "metadata": {
        "id": "7GI4U0EnBuu-",
        "colab_type": "text"
      },
      "source": [
        "###4.3 NumPy 的传播机制\n",
        "1.如果两个数组的末尾维度（trailing dimension)的长度相符  \n",
        "2.参与计算的某个维度长度为 1\n",
        "广播会在缺失和（或）长度为 1 的维度上进行\n"
      ]
    },
    {
      "cell_type": "code",
      "metadata": {
        "id": "0Yc_84eLCOny",
        "colab_type": "code",
        "colab": {
          "base_uri": "https://localhost:8080/",
          "height": 68
        },
        "outputId": "c3ff2d18-62e2-4c35-c909-7507e8bb44c0"
      },
      "source": [
        "a = np.array([[1],[-5],[3]]) \n",
        "b = np.array([[5,2,4,9]]) \n",
        "a + b"
      ],
      "execution_count": 46,
      "outputs": [
        {
          "output_type": "execute_result",
          "data": {
            "text/plain": [
              "array([[ 6,  3,  5, 10],\n",
              "       [ 0, -3, -1,  4],\n",
              "       [ 8,  5,  7, 12]])"
            ]
          },
          "metadata": {
            "tags": []
          },
          "execution_count": 46
        }
      ]
    },
    {
      "cell_type": "code",
      "metadata": {
        "id": "M0_gWLRqCOpk",
        "colab_type": "code",
        "colab": {
          "base_uri": "https://localhost:8080/",
          "height": 34
        },
        "outputId": "8dab381f-1fa6-4418-8d17-b12b36aadeed"
      },
      "source": [
        "a.shape"
      ],
      "execution_count": 47,
      "outputs": [
        {
          "output_type": "execute_result",
          "data": {
            "text/plain": [
              "(3, 1)"
            ]
          },
          "metadata": {
            "tags": []
          },
          "execution_count": 47
        }
      ]
    },
    {
      "cell_type": "code",
      "metadata": {
        "id": "UfCPEuWwCa0c",
        "colab_type": "code",
        "colab": {
          "base_uri": "https://localhost:8080/",
          "height": 34
        },
        "outputId": "99b25c3e-df50-420d-9598-41f8261240f1"
      },
      "source": [
        "b.shape"
      ],
      "execution_count": 48,
      "outputs": [
        {
          "output_type": "execute_result",
          "data": {
            "text/plain": [
              "(1, 4)"
            ]
          },
          "metadata": {
            "tags": []
          },
          "execution_count": 48
        }
      ]
    },
    {
      "cell_type": "markdown",
      "metadata": {
        "id": "wmftXBLaDPkc",
        "colab_type": "text"
      },
      "source": [
        "***\n",
        "***"
      ]
    },
    {
      "cell_type": "markdown",
      "metadata": {
        "id": "ZQyEUkznDRZ8",
        "colab_type": "text"
      },
      "source": [
        "#Pandas 数据分析必备入门知识\n"
      ]
    },
    {
      "cell_type": "markdown",
      "metadata": {
        "id": "SfL6ECm4DWmu",
        "colab_type": "text"
      },
      "source": [
        "###5.1 类一维数组 Series\n",
        "Series 是 pandas 两大数据结构中（DataFrame，Series）的一种。  \n",
        "Series 是一种类似于一维数组的对象，它由一组数据（各种 NumPy 数据类型）以及一组与之相关的数据标签和索引组成。  \n",
        "Series 对象也是一个 NumPy 的数组，因此 NumPy 的数组处理函数可以直接对 Series 进行处理。  \n",
        "Series 除了可以使用位置索引作为下标存取元素之外，还可以使用标签下标存取元素。"
      ]
    },
    {
      "cell_type": "markdown",
      "metadata": {
        "id": "g4qSpVbVEcAR",
        "colab_type": "text"
      },
      "source": [
        "#####每个 Series 对象都由两个数组组成\n",
        "1. index：它是从 NumPy 数组继承的 Index 对象，保存标签信息。  \n",
        "2. values：保存值的 NumPy 数组。"
      ]
    },
    {
      "cell_type": "markdown",
      "metadata": {
        "id": "B-06j8RCElVr",
        "colab_type": "text"
      },
      "source": [
        "####5.1.1 创建 Series\n",
        "\n",
        "\n",
        "```\n",
        "Series(data=None, index=None, dtype=None, name=None)\n",
        "```\n",
        "data 为数据部分，index 为标签部分，省略下默认为自增整数索引，dtype 为 str, numpy.dtype, or **ExtensionDtype**\n",
        "\n"
      ]
    },
    {
      "cell_type": "markdown",
      "metadata": {
        "id": "7yKiAcQDF3dv",
        "colab_type": "text"
      },
      "source": [
        "创建一个 series"
      ]
    },
    {
      "cell_type": "code",
      "metadata": {
        "id": "mzvan1G5GL5b",
        "colab_type": "code",
        "colab": {
          "base_uri": "https://localhost:8080/",
          "height": 85
        },
        "outputId": "2bd057db-8cb9-4308-8416-b288b2d01283"
      },
      "source": [
        "import pandas as pd\n",
        "ps = pd.Series(data=[-3,2,1],index=['a','f','b'],dtype=np.float32)\n",
        "ps"
      ],
      "execution_count": 51,
      "outputs": [
        {
          "output_type": "execute_result",
          "data": {
            "text/plain": [
              "a   -3.0\n",
              "f    2.0\n",
              "b    1.0\n",
              "dtype: float32"
            ]
          },
          "metadata": {
            "tags": []
          },
          "execution_count": 51
        }
      ]
    },
    {
      "cell_type": "markdown",
      "metadata": {
        "id": "A8WZO8LNHsiS",
        "colab_type": "text"
      },
      "source": [
        "####5.1.2 增加元素\n",
        "在 ps 基础上增加一个元素，使用 append"
      ]
    },
    {
      "cell_type": "code",
      "metadata": {
        "id": "BfqQNNYbH7up",
        "colab_type": "code",
        "colab": {
          "base_uri": "https://localhost:8080/",
          "height": 102
        },
        "outputId": "bb4548d2-47e4-4541-a2df-0035b61dcc78"
      },
      "source": [
        "ps.append(pd.Series(data=[-8.0],index=['f']))"
      ],
      "execution_count": 52,
      "outputs": [
        {
          "output_type": "execute_result",
          "data": {
            "text/plain": [
              "a   -3.0\n",
              "f    2.0\n",
              "b    1.0\n",
              "f   -8.0\n",
              "dtype: float64"
            ]
          },
          "metadata": {
            "tags": []
          },
          "execution_count": 52
        }
      ]
    },
    {
      "cell_type": "markdown",
      "metadata": {
        "id": "F_Xe2CbfIDs9",
        "colab_type": "text"
      },
      "source": [
        "Pandas 允许包含重复的标签"
      ]
    },
    {
      "cell_type": "code",
      "metadata": {
        "id": "pKe7i0bZII_s",
        "colab_type": "code",
        "colab": {
          "base_uri": "https://localhost:8080/",
          "height": 102
        },
        "outputId": "b61fb534-2d8c-4892-d338-61cf1009cfc1"
      },
      "source": [
        "psn = ps.append(pd.Series(data=[-8.0],index=['f']))\n",
        "psn"
      ],
      "execution_count": 54,
      "outputs": [
        {
          "output_type": "execute_result",
          "data": {
            "text/plain": [
              "a   -3.0\n",
              "f    2.0\n",
              "b    1.0\n",
              "f   -8.0\n",
              "dtype: float64"
            ]
          },
          "metadata": {
            "tags": []
          },
          "execution_count": 54
        }
      ]
    },
    {
      "cell_type": "code",
      "metadata": {
        "id": "069eqnZoISw1",
        "colab_type": "code",
        "colab": {
          "base_uri": "https://localhost:8080/",
          "height": 68
        },
        "outputId": "58eba591-bf3b-47f3-876d-90070f9f61f3"
      },
      "source": [
        "psn['f']"
      ],
      "execution_count": 55,
      "outputs": [
        {
          "output_type": "execute_result",
          "data": {
            "text/plain": [
              "f    2.0\n",
              "f   -8.0\n",
              "dtype: float64"
            ]
          },
          "metadata": {
            "tags": []
          },
          "execution_count": 55
        }
      ]
    },
    {
      "cell_type": "markdown",
      "metadata": {
        "id": "tUvEP2LRIWgp",
        "colab_type": "text"
      },
      "source": [
        "利用标签访问元素，返回所有带标签的数据"
      ]
    },
    {
      "cell_type": "markdown",
      "metadata": {
        "id": "XbOfXS3iIXuu",
        "colab_type": "text"
      },
      "source": [
        "####5.1.3 删除元素\n",
        "使用 drop 删除指定标签的数据"
      ]
    },
    {
      "cell_type": "code",
      "metadata": {
        "id": "a_LyL_9JJYTd",
        "colab_type": "code",
        "colab": {
          "base_uri": "https://localhost:8080/",
          "height": 85
        },
        "outputId": "52453aeb-9162-48eb-c7eb-65a40cbd6af8"
      },
      "source": [
        "ps"
      ],
      "execution_count": 56,
      "outputs": [
        {
          "output_type": "execute_result",
          "data": {
            "text/plain": [
              "a   -3.0\n",
              "f    2.0\n",
              "b    1.0\n",
              "dtype: float32"
            ]
          },
          "metadata": {
            "tags": []
          },
          "execution_count": 56
        }
      ]
    },
    {
      "cell_type": "code",
      "metadata": {
        "id": "06rmHm-xJdOp",
        "colab_type": "code",
        "colab": {
          "base_uri": "https://localhost:8080/",
          "height": 68
        },
        "outputId": "5fe1b0eb-1527-4abd-e463-f86158abbe16"
      },
      "source": [
        "psd = ps.drop('f')\n",
        "psd"
      ],
      "execution_count": 57,
      "outputs": [
        {
          "output_type": "execute_result",
          "data": {
            "text/plain": [
              "a   -3.0\n",
              "b    1.0\n",
              "dtype: float32"
            ]
          },
          "metadata": {
            "tags": []
          },
          "execution_count": 57
        }
      ]
    },
    {
      "cell_type": "markdown",
      "metadata": {
        "id": "aBL-AbwgJnXE",
        "colab_type": "text"
      },
      "source": [
        "*不管是 append 操作，还是 drop 操作，都是发生在原数据的副本上*"
      ]
    },
    {
      "cell_type": "markdown",
      "metadata": {
        "id": "pA9rPB9RJrOU",
        "colab_type": "text"
      },
      "source": [
        "####5.1.3 修改元素\n",
        "改数据，直接通过修改的标签，更新对应的数据"
      ]
    },
    {
      "cell_type": "code",
      "metadata": {
        "id": "Hy-Z2jkfJwk6",
        "colab_type": "code",
        "colab": {
          "base_uri": "https://localhost:8080/",
          "height": 102
        },
        "outputId": "d60b4c10-f594-4499-d236-0b3ebfc10713"
      },
      "source": [
        "psn"
      ],
      "execution_count": 58,
      "outputs": [
        {
          "output_type": "execute_result",
          "data": {
            "text/plain": [
              "a   -3.0\n",
              "f    2.0\n",
              "b    1.0\n",
              "f   -8.0\n",
              "dtype: float64"
            ]
          },
          "metadata": {
            "tags": []
          },
          "execution_count": 58
        }
      ]
    },
    {
      "cell_type": "code",
      "metadata": {
        "id": "lxehdTGgJ1uC",
        "colab_type": "code",
        "colab": {
          "base_uri": "https://localhost:8080/",
          "height": 102
        },
        "outputId": "5ae3c89b-962a-4041-bdef-4feb51f67dde"
      },
      "source": [
        "psn['f'] = 10.0\n",
        "psn"
      ],
      "execution_count": 59,
      "outputs": [
        {
          "output_type": "execute_result",
          "data": {
            "text/plain": [
              "a    -3.0\n",
              "f    10.0\n",
              "b     1.0\n",
              "f    10.0\n",
              "dtype: float64"
            ]
          },
          "metadata": {
            "tags": []
          },
          "execution_count": 59
        }
      ]
    },
    {
      "cell_type": "markdown",
      "metadata": {
        "id": "iiV3n97VJ5aB",
        "colab_type": "text"
      },
      "source": [
        "####5.1.4 访问元素\n",
        "Pandas 提供两种方法  \n",
        "1.通过默认的整数索引，或者在 Series 对象未被显示的指定 label 时，都是通过索引访问  \n",
        "2.通过标签访问"
      ]
    },
    {
      "cell_type": "code",
      "metadata": {
        "id": "Q16wjjNXKNMq",
        "colab_type": "code",
        "colab": {
          "base_uri": "https://localhost:8080/",
          "height": 85
        },
        "outputId": "ce363396-71f4-4e29-d8b1-893fbb9fa61c"
      },
      "source": [
        "ps"
      ],
      "execution_count": 60,
      "outputs": [
        {
          "output_type": "execute_result",
          "data": {
            "text/plain": [
              "a   -3.0\n",
              "f    2.0\n",
              "b    1.0\n",
              "dtype: float32"
            ]
          },
          "metadata": {
            "tags": []
          },
          "execution_count": 60
        }
      ]
    },
    {
      "cell_type": "code",
      "metadata": {
        "id": "N9BTrdRNKRGA",
        "colab_type": "code",
        "colab": {
          "base_uri": "https://localhost:8080/",
          "height": 34
        },
        "outputId": "43f37ceb-82bd-4d08-89b6-3d6aadde7851"
      },
      "source": [
        "ps[2]"
      ],
      "execution_count": 61,
      "outputs": [
        {
          "output_type": "execute_result",
          "data": {
            "text/plain": [
              "1.0"
            ]
          },
          "metadata": {
            "tags": []
          },
          "execution_count": 61
        }
      ]
    },
    {
      "cell_type": "code",
      "metadata": {
        "id": "YR8oMq6WKUTU",
        "colab_type": "code",
        "colab": {
          "base_uri": "https://localhost:8080/",
          "height": 34
        },
        "outputId": "524d288e-95c1-478f-ee3e-b4a90a4f6eff"
      },
      "source": [
        "ps['b']"
      ],
      "execution_count": 62,
      "outputs": [
        {
          "output_type": "execute_result",
          "data": {
            "text/plain": [
              "1.0"
            ]
          },
          "metadata": {
            "tags": []
          },
          "execution_count": 62
        }
      ]
    },
    {
      "cell_type": "markdown",
      "metadata": {
        "id": "sLQOXn2UKaA8",
        "colab_type": "text"
      },
      "source": [
        "###5.2 类二维数组 DataFrame\n",
        "DataFrame 是 Pandas 的两个重要数据结构的另一个，可以看做是 Series 的容器。  \n"
      ]
    },
    {
      "cell_type": "markdown",
      "metadata": {
        "id": "2IbdJEA8KqEz",
        "colab_type": "text"
      },
      "source": [
        "DataFrame 同时具有行、列标签，是二维的数组，行方向轴 axis 为 0, 列方向 axis 为 1\n",
        "\n",
        "\n",
        "```\n",
        "axis : {0 or 'index', 1 or 'columns'}\n",
        "```\n",
        "\n"
      ]
    },
    {
      "cell_type": "markdown",
      "metadata": {
        "id": "QkauOyyUKxuI",
        "colab_type": "text"
      },
      "source": [
        "####5.2.1 创建 DataFrame\n",
        "\n",
        "\n",
        "```\n",
        "DataFrame(data=None, index=None, columns=None, dtype=None, copy=False)\n",
        "```\n",
        "\n"
      ]
    },
    {
      "cell_type": "code",
      "metadata": {
        "id": "IrCG2mcNK51I",
        "colab_type": "code",
        "colab": {
          "base_uri": "https://localhost:8080/",
          "height": 111
        },
        "outputId": "3d25d6a9-6201-4d01-bfd0-1205f0d435e2"
      },
      "source": [
        "df = pd.DataFrame([['gz',4.0,'2019-01-01'],['lg',1.2,'2019-06-01']],index = ['a','f'], columns = ['nm', 'y','da'])                          \n",
        "df"
      ],
      "execution_count": 63,
      "outputs": [
        {
          "output_type": "execute_result",
          "data": {
            "text/html": [
              "<div>\n",
              "<style scoped>\n",
              "    .dataframe tbody tr th:only-of-type {\n",
              "        vertical-align: middle;\n",
              "    }\n",
              "\n",
              "    .dataframe tbody tr th {\n",
              "        vertical-align: top;\n",
              "    }\n",
              "\n",
              "    .dataframe thead th {\n",
              "        text-align: right;\n",
              "    }\n",
              "</style>\n",
              "<table border=\"1\" class=\"dataframe\">\n",
              "  <thead>\n",
              "    <tr style=\"text-align: right;\">\n",
              "      <th></th>\n",
              "      <th>nm</th>\n",
              "      <th>y</th>\n",
              "      <th>da</th>\n",
              "    </tr>\n",
              "  </thead>\n",
              "  <tbody>\n",
              "    <tr>\n",
              "      <th>a</th>\n",
              "      <td>gz</td>\n",
              "      <td>4.0</td>\n",
              "      <td>2019-01-01</td>\n",
              "    </tr>\n",
              "    <tr>\n",
              "      <th>f</th>\n",
              "      <td>lg</td>\n",
              "      <td>1.2</td>\n",
              "      <td>2019-06-01</td>\n",
              "    </tr>\n",
              "  </tbody>\n",
              "</table>\n",
              "</div>"
            ],
            "text/plain": [
              "   nm    y          da\n",
              "a  gz  4.0  2019-01-01\n",
              "f  lg  1.2  2019-06-01"
            ]
          },
          "metadata": {
            "tags": []
          },
          "execution_count": 63
        }
      ]
    },
    {
      "cell_type": "markdown",
      "metadata": {
        "id": "KhhSxUZqLGYD",
        "colab_type": "text"
      },
      "source": [
        "可以通过字典传入，得到一样的数据框"
      ]
    },
    {
      "cell_type": "code",
      "metadata": {
        "id": "0zxqoXndLHu4",
        "colab_type": "code",
        "colab": {
          "base_uri": "https://localhost:8080/",
          "height": 111
        },
        "outputId": "22361cbf-4ae8-4ce5-b1da-a2e3cbf1b00e"
      },
      "source": [
        "df2 = pd.DataFrame({'nm':['gz','lg'],'y':[4.0,1.2], 'da':['2019-01-01', '2019-06-01']},index = ['a','f']) \n",
        "df2"
      ],
      "execution_count": 64,
      "outputs": [
        {
          "output_type": "execute_result",
          "data": {
            "text/html": [
              "<div>\n",
              "<style scoped>\n",
              "    .dataframe tbody tr th:only-of-type {\n",
              "        vertical-align: middle;\n",
              "    }\n",
              "\n",
              "    .dataframe tbody tr th {\n",
              "        vertical-align: top;\n",
              "    }\n",
              "\n",
              "    .dataframe thead th {\n",
              "        text-align: right;\n",
              "    }\n",
              "</style>\n",
              "<table border=\"1\" class=\"dataframe\">\n",
              "  <thead>\n",
              "    <tr style=\"text-align: right;\">\n",
              "      <th></th>\n",
              "      <th>nm</th>\n",
              "      <th>y</th>\n",
              "      <th>da</th>\n",
              "    </tr>\n",
              "  </thead>\n",
              "  <tbody>\n",
              "    <tr>\n",
              "      <th>a</th>\n",
              "      <td>gz</td>\n",
              "      <td>4.0</td>\n",
              "      <td>2019-01-01</td>\n",
              "    </tr>\n",
              "    <tr>\n",
              "      <th>f</th>\n",
              "      <td>lg</td>\n",
              "      <td>1.2</td>\n",
              "      <td>2019-06-01</td>\n",
              "    </tr>\n",
              "  </tbody>\n",
              "</table>\n",
              "</div>"
            ],
            "text/plain": [
              "   nm    y          da\n",
              "a  gz  4.0  2019-01-01\n",
              "f  lg  1.2  2019-06-01"
            ]
          },
          "metadata": {
            "tags": []
          },
          "execution_count": 64
        }
      ]
    },
    {
      "cell_type": "markdown",
      "metadata": {
        "id": "OXM-1sfCLWd0",
        "colab_type": "text"
      },
      "source": [
        "####5.2.2 增加数据"
      ]
    },
    {
      "cell_type": "code",
      "metadata": {
        "id": "UaLi65VoLc6V",
        "colab_type": "code",
        "colab": {
          "base_uri": "https://localhost:8080/",
          "height": 142
        },
        "outputId": "6191aa9c-ecda-494c-8b54-41296d85dd68"
      },
      "source": [
        "dfn = df.append(pd.Series(data=['zx',3.6,'2019-05-01'],index=['nm','y','da'],name='b'))\n",
        "dfn"
      ],
      "execution_count": 91,
      "outputs": [
        {
          "output_type": "execute_result",
          "data": {
            "text/html": [
              "<div>\n",
              "<style scoped>\n",
              "    .dataframe tbody tr th:only-of-type {\n",
              "        vertical-align: middle;\n",
              "    }\n",
              "\n",
              "    .dataframe tbody tr th {\n",
              "        vertical-align: top;\n",
              "    }\n",
              "\n",
              "    .dataframe thead th {\n",
              "        text-align: right;\n",
              "    }\n",
              "</style>\n",
              "<table border=\"1\" class=\"dataframe\">\n",
              "  <thead>\n",
              "    <tr style=\"text-align: right;\">\n",
              "      <th></th>\n",
              "      <th>nm</th>\n",
              "      <th>y</th>\n",
              "      <th>da</th>\n",
              "    </tr>\n",
              "  </thead>\n",
              "  <tbody>\n",
              "    <tr>\n",
              "      <th>a</th>\n",
              "      <td>gz</td>\n",
              "      <td>4.0</td>\n",
              "      <td>2019-01-01</td>\n",
              "    </tr>\n",
              "    <tr>\n",
              "      <th>f</th>\n",
              "      <td>lg</td>\n",
              "      <td>1.2</td>\n",
              "      <td>2019-06-01</td>\n",
              "    </tr>\n",
              "    <tr>\n",
              "      <th>b</th>\n",
              "      <td>zx</td>\n",
              "      <td>3.6</td>\n",
              "      <td>2019-05-01</td>\n",
              "    </tr>\n",
              "  </tbody>\n",
              "</table>\n",
              "</div>"
            ],
            "text/plain": [
              "   nm    y          da\n",
              "a  gz  4.0  2019-01-01\n",
              "f  lg  1.2  2019-06-01\n",
              "b  zx  3.6  2019-05-01"
            ]
          },
          "metadata": {
            "tags": []
          },
          "execution_count": 91
        }
      ]
    },
    {
      "cell_type": "markdown",
      "metadata": {
        "id": "aPOcqoWiLqZn",
        "colab_type": "text"
      },
      "source": [
        "Series 的 index 与数据框的 column 对齐，name 与数据框的 index 对齐"
      ]
    },
    {
      "cell_type": "markdown",
      "metadata": {
        "id": "nnSVljbkLt3v",
        "colab_type": "text"
      },
      "source": [
        "####5.2.3 删除数据\n"
      ]
    },
    {
      "cell_type": "code",
      "metadata": {
        "id": "F0cgc3X0LzLf",
        "colab_type": "code",
        "colab": {
          "base_uri": "https://localhost:8080/",
          "height": 111
        },
        "outputId": "39b24b4b-fce1-4778-8777-3dce040d97dc"
      },
      "source": [
        "dfn.drop('b')"
      ],
      "execution_count": 92,
      "outputs": [
        {
          "output_type": "execute_result",
          "data": {
            "text/html": [
              "<div>\n",
              "<style scoped>\n",
              "    .dataframe tbody tr th:only-of-type {\n",
              "        vertical-align: middle;\n",
              "    }\n",
              "\n",
              "    .dataframe tbody tr th {\n",
              "        vertical-align: top;\n",
              "    }\n",
              "\n",
              "    .dataframe thead th {\n",
              "        text-align: right;\n",
              "    }\n",
              "</style>\n",
              "<table border=\"1\" class=\"dataframe\">\n",
              "  <thead>\n",
              "    <tr style=\"text-align: right;\">\n",
              "      <th></th>\n",
              "      <th>nm</th>\n",
              "      <th>y</th>\n",
              "      <th>da</th>\n",
              "    </tr>\n",
              "  </thead>\n",
              "  <tbody>\n",
              "    <tr>\n",
              "      <th>a</th>\n",
              "      <td>gz</td>\n",
              "      <td>4.0</td>\n",
              "      <td>2019-01-01</td>\n",
              "    </tr>\n",
              "    <tr>\n",
              "      <th>f</th>\n",
              "      <td>lg</td>\n",
              "      <td>1.2</td>\n",
              "      <td>2019-06-01</td>\n",
              "    </tr>\n",
              "  </tbody>\n",
              "</table>\n",
              "</div>"
            ],
            "text/plain": [
              "   nm    y          da\n",
              "a  gz  4.0  2019-01-01\n",
              "f  lg  1.2  2019-06-01"
            ]
          },
          "metadata": {
            "tags": []
          },
          "execution_count": 92
        }
      ]
    },
    {
      "cell_type": "markdown",
      "metadata": {
        "id": "zRoIIXaNL10G",
        "colab_type": "text"
      },
      "source": [
        "如果要删除某列，需要设定 axis 为 1,"
      ]
    },
    {
      "cell_type": "code",
      "metadata": {
        "id": "19LqUN-OL3qz",
        "colab_type": "code",
        "colab": {
          "base_uri": "https://localhost:8080/",
          "height": 142
        },
        "outputId": "293b8d7f-c05b-4b41-a1f7-d75cc9e52430"
      },
      "source": [
        "In [147]: dfn.drop('y',axis=1)"
      ],
      "execution_count": 93,
      "outputs": [
        {
          "output_type": "execute_result",
          "data": {
            "text/html": [
              "<div>\n",
              "<style scoped>\n",
              "    .dataframe tbody tr th:only-of-type {\n",
              "        vertical-align: middle;\n",
              "    }\n",
              "\n",
              "    .dataframe tbody tr th {\n",
              "        vertical-align: top;\n",
              "    }\n",
              "\n",
              "    .dataframe thead th {\n",
              "        text-align: right;\n",
              "    }\n",
              "</style>\n",
              "<table border=\"1\" class=\"dataframe\">\n",
              "  <thead>\n",
              "    <tr style=\"text-align: right;\">\n",
              "      <th></th>\n",
              "      <th>nm</th>\n",
              "      <th>da</th>\n",
              "    </tr>\n",
              "  </thead>\n",
              "  <tbody>\n",
              "    <tr>\n",
              "      <th>a</th>\n",
              "      <td>gz</td>\n",
              "      <td>2019-01-01</td>\n",
              "    </tr>\n",
              "    <tr>\n",
              "      <th>f</th>\n",
              "      <td>lg</td>\n",
              "      <td>2019-06-01</td>\n",
              "    </tr>\n",
              "    <tr>\n",
              "      <th>b</th>\n",
              "      <td>zx</td>\n",
              "      <td>2019-05-01</td>\n",
              "    </tr>\n",
              "  </tbody>\n",
              "</table>\n",
              "</div>"
            ],
            "text/plain": [
              "   nm          da\n",
              "a  gz  2019-01-01\n",
              "f  lg  2019-06-01\n",
              "b  zx  2019-05-01"
            ]
          },
          "metadata": {
            "tags": []
          },
          "execution_count": 93
        }
      ]
    },
    {
      "cell_type": "markdown",
      "metadata": {
        "id": "Pl5tP22PL-WE",
        "colab_type": "text"
      },
      "source": [
        "####5.2.4 修改数据\n",
        "修改依然是先通过索引或标签定位到数据，然后修改"
      ]
    },
    {
      "cell_type": "code",
      "metadata": {
        "id": "Nt7_mdKFMCy-",
        "colab_type": "code",
        "colab": {
          "base_uri": "https://localhost:8080/",
          "height": 142
        },
        "outputId": "33f8450c-4274-44ca-fa61-c4abf829e934"
      },
      "source": [
        "dfn.loc['a','da']='2019-04-01'\n",
        "dfn "
      ],
      "execution_count": 94,
      "outputs": [
        {
          "output_type": "execute_result",
          "data": {
            "text/html": [
              "<div>\n",
              "<style scoped>\n",
              "    .dataframe tbody tr th:only-of-type {\n",
              "        vertical-align: middle;\n",
              "    }\n",
              "\n",
              "    .dataframe tbody tr th {\n",
              "        vertical-align: top;\n",
              "    }\n",
              "\n",
              "    .dataframe thead th {\n",
              "        text-align: right;\n",
              "    }\n",
              "</style>\n",
              "<table border=\"1\" class=\"dataframe\">\n",
              "  <thead>\n",
              "    <tr style=\"text-align: right;\">\n",
              "      <th></th>\n",
              "      <th>nm</th>\n",
              "      <th>y</th>\n",
              "      <th>da</th>\n",
              "    </tr>\n",
              "  </thead>\n",
              "  <tbody>\n",
              "    <tr>\n",
              "      <th>a</th>\n",
              "      <td>gz</td>\n",
              "      <td>4.0</td>\n",
              "      <td>2019-04-01</td>\n",
              "    </tr>\n",
              "    <tr>\n",
              "      <th>f</th>\n",
              "      <td>lg</td>\n",
              "      <td>1.2</td>\n",
              "      <td>2019-06-01</td>\n",
              "    </tr>\n",
              "    <tr>\n",
              "      <th>b</th>\n",
              "      <td>zx</td>\n",
              "      <td>3.6</td>\n",
              "      <td>2019-05-01</td>\n",
              "    </tr>\n",
              "  </tbody>\n",
              "</table>\n",
              "</div>"
            ],
            "text/plain": [
              "   nm    y          da\n",
              "a  gz  4.0  2019-04-01\n",
              "f  lg  1.2  2019-06-01\n",
              "b  zx  3.6  2019-05-01"
            ]
          },
          "metadata": {
            "tags": []
          },
          "execution_count": 94
        }
      ]
    },
    {
      "cell_type": "markdown",
      "metadata": {
        "id": "PiqJL3svML-d",
        "colab_type": "text"
      },
      "source": [
        "***链式赋值( chained assignment)***"
      ]
    },
    {
      "cell_type": "markdown",
      "metadata": {
        "id": "lePgq8aSMRkX",
        "colab_type": "text"
      },
      "source": [
        "####5.2.5 访问数据\n",
        "Pandas 推荐使用访问接口 iloc、loc访问数据"
      ]
    },
    {
      "cell_type": "code",
      "metadata": {
        "id": "yYaw4bP9MW44",
        "colab_type": "code",
        "colab": {
          "base_uri": "https://localhost:8080/",
          "height": 111
        },
        "outputId": "10bcac4e-5f16-44d5-c195-f9ff848072ed"
      },
      "source": [
        "df"
      ],
      "execution_count": 95,
      "outputs": [
        {
          "output_type": "execute_result",
          "data": {
            "text/html": [
              "<div>\n",
              "<style scoped>\n",
              "    .dataframe tbody tr th:only-of-type {\n",
              "        vertical-align: middle;\n",
              "    }\n",
              "\n",
              "    .dataframe tbody tr th {\n",
              "        vertical-align: top;\n",
              "    }\n",
              "\n",
              "    .dataframe thead th {\n",
              "        text-align: right;\n",
              "    }\n",
              "</style>\n",
              "<table border=\"1\" class=\"dataframe\">\n",
              "  <thead>\n",
              "    <tr style=\"text-align: right;\">\n",
              "      <th></th>\n",
              "      <th>nm</th>\n",
              "      <th>y</th>\n",
              "      <th>da</th>\n",
              "    </tr>\n",
              "  </thead>\n",
              "  <tbody>\n",
              "    <tr>\n",
              "      <th>a</th>\n",
              "      <td>gz</td>\n",
              "      <td>4.0</td>\n",
              "      <td>2019-01-01</td>\n",
              "    </tr>\n",
              "    <tr>\n",
              "      <th>f</th>\n",
              "      <td>lg</td>\n",
              "      <td>1.2</td>\n",
              "      <td>2019-06-01</td>\n",
              "    </tr>\n",
              "  </tbody>\n",
              "</table>\n",
              "</div>"
            ],
            "text/plain": [
              "   nm    y          da\n",
              "a  gz  4.0  2019-01-01\n",
              "f  lg  1.2  2019-06-01"
            ]
          },
          "metadata": {
            "tags": []
          },
          "execution_count": 95
        }
      ]
    },
    {
      "cell_type": "code",
      "metadata": {
        "id": "KEVOzE9mMa4C",
        "colab_type": "code",
        "colab": {
          "base_uri": "https://localhost:8080/",
          "height": 85
        },
        "outputId": "9b1c5b1c-f633-45dd-8e49-4738a9519244"
      },
      "source": [
        "df.iloc[1,:] "
      ],
      "execution_count": 96,
      "outputs": [
        {
          "output_type": "execute_result",
          "data": {
            "text/plain": [
              "nm            lg\n",
              "y            1.2\n",
              "da    2019-06-01\n",
              "Name: f, dtype: object"
            ]
          },
          "metadata": {
            "tags": []
          },
          "execution_count": 96
        }
      ]
    },
    {
      "cell_type": "code",
      "metadata": {
        "id": "5kMnbbc-MgUb",
        "colab_type": "code",
        "colab": {
          "base_uri": "https://localhost:8080/",
          "height": 85
        },
        "outputId": "fbbc13ef-19da-4350-85c7-ece39395c053"
      },
      "source": [
        "df.loc['f',:]"
      ],
      "execution_count": 97,
      "outputs": [
        {
          "output_type": "execute_result",
          "data": {
            "text/plain": [
              "nm            lg\n",
              "y            1.2\n",
              "da    2019-06-01\n",
              "Name: f, dtype: object"
            ]
          },
          "metadata": {
            "tags": []
          },
          "execution_count": 97
        }
      ]
    },
    {
      "cell_type": "code",
      "metadata": {
        "id": "CgCBp4HXMnqp",
        "colab_type": "code",
        "colab": {
          "base_uri": "https://localhost:8080/",
          "height": 34
        },
        "outputId": "d1299db6-ec70-4a3f-d912-f5ca4a68dd0e"
      },
      "source": [
        "df.loc['f','nm']"
      ],
      "execution_count": 98,
      "outputs": [
        {
          "output_type": "execute_result",
          "data": {
            "text/plain": [
              "'lg'"
            ]
          },
          "metadata": {
            "tags": []
          },
          "execution_count": 98
        }
      ]
    },
    {
      "cell_type": "markdown",
      "metadata": {
        "id": "X5ZE63eZMr68",
        "colab_type": "text"
      },
      "source": [
        "###5.3 必备的 20 个统计学函数"
      ]
    },
    {
      "cell_type": "markdown",
      "metadata": {
        "id": "RxJuqGSmM4l_",
        "colab_type": "text"
      },
      "source": [
        "|函数|英文术语|中文|\n",
        "| ------ | ------ | ------ |\n",
        "count\t| Number of non-null observations| 观测值的个数  \n",
        "sum\t| Sum of values\t| 求和\n",
        "mean\t| Mean of values\t| 求平均值\n",
        "mad\t| Mean absolute deviation| \t平均绝对方差\n",
        "median\t| Arithmetic median of values\t| 中位数\n",
        "min| \tMinimum| \t最小值\n",
        "max\t| Maximum\t| 最大值\n",
        "mode\t| Mode\t| 众数\n",
        "abs\t| Absolute Value| \t绝对值\n",
        "prod\t| Product of values\t| 乘积\n",
        "std\t| Bessel-corrected sample standard deviation\t| 标准差\n",
        "var| \tUnbiased variance\t| 方差\n",
        "sem\t| Standard error of the mean\t| 标准误差\n",
        "skew\t| Sample skewness (3rd moment)\t| 偏度系数\n",
        "kurt| \tSample kurtosis (4th moment)| \t峰度\n",
        "quantile\t| Sample quantile (value at %)\t| 分位数\n",
        "cumsum\t| Cumulative sum\t| 累加\n",
        "cumprod\t| Cumulative product\t| 累乘\n",
        "cummax| \tCumulative maximum| \t累最大值\n",
        "cummin\t| Cumulative minimum\t| 累最小值\n",
        "cov()\t| covariance\t| 协方差\n",
        "corr()\t| correlation\t| 相关系数\n",
        "rank()\t| rank by values| \t排名\n",
        "pct_change()\t| time change| \t时间序列变化"
      ]
    },
    {
      "cell_type": "markdown",
      "metadata": {
        "id": "Nq-7JCi6OU5e",
        "colab_type": "text"
      },
      "source": [
        "###5.4 必备的缺失值处理技巧\n",
        "Pandas 提供了一些便利的函数，可以帮助我们快速按照设想处理、解决空值"
      ]
    },
    {
      "cell_type": "markdown",
      "metadata": {
        "id": "nNkX7I6EOj8i",
        "colab_type": "text"
      },
      "source": [
        "Pandas 提供了一些便利的函数，可以帮助我们快速按照设想处理、解决空值  \n",
        "函数 isnull、notnull，可以帮助我们快速定位数据集中每个元素是否为空值"
      ]
    },
    {
      "cell_type": "code",
      "metadata": {
        "id": "4MfADATTOsWs",
        "colab_type": "code",
        "colab": {
          "base_uri": "https://localhost:8080/",
          "height": 142
        },
        "outputId": "a3c47e5f-7a37-4915-ee35-e0b8bd203f0e"
      },
      "source": [
        "dfn"
      ],
      "execution_count": 99,
      "outputs": [
        {
          "output_type": "execute_result",
          "data": {
            "text/html": [
              "<div>\n",
              "<style scoped>\n",
              "    .dataframe tbody tr th:only-of-type {\n",
              "        vertical-align: middle;\n",
              "    }\n",
              "\n",
              "    .dataframe tbody tr th {\n",
              "        vertical-align: top;\n",
              "    }\n",
              "\n",
              "    .dataframe thead th {\n",
              "        text-align: right;\n",
              "    }\n",
              "</style>\n",
              "<table border=\"1\" class=\"dataframe\">\n",
              "  <thead>\n",
              "    <tr style=\"text-align: right;\">\n",
              "      <th></th>\n",
              "      <th>nm</th>\n",
              "      <th>y</th>\n",
              "      <th>da</th>\n",
              "    </tr>\n",
              "  </thead>\n",
              "  <tbody>\n",
              "    <tr>\n",
              "      <th>a</th>\n",
              "      <td>gz</td>\n",
              "      <td>4.0</td>\n",
              "      <td>2019-04-01</td>\n",
              "    </tr>\n",
              "    <tr>\n",
              "      <th>f</th>\n",
              "      <td>lg</td>\n",
              "      <td>1.2</td>\n",
              "      <td>2019-06-01</td>\n",
              "    </tr>\n",
              "    <tr>\n",
              "      <th>b</th>\n",
              "      <td>zx</td>\n",
              "      <td>3.6</td>\n",
              "      <td>2019-05-01</td>\n",
              "    </tr>\n",
              "  </tbody>\n",
              "</table>\n",
              "</div>"
            ],
            "text/plain": [
              "   nm    y          da\n",
              "a  gz  4.0  2019-04-01\n",
              "f  lg  1.2  2019-06-01\n",
              "b  zx  3.6  2019-05-01"
            ]
          },
          "metadata": {
            "tags": []
          },
          "execution_count": 99
        }
      ]
    },
    {
      "cell_type": "code",
      "metadata": {
        "id": "pSgVL9zSQNZh",
        "colab_type": "code",
        "colab": {
          "base_uri": "https://localhost:8080/",
          "height": 142
        },
        "outputId": "d8402583-ad43-4dbc-fbbd-4d29564a96a5"
      },
      "source": [
        "pd.isnull(dfn1) "
      ],
      "execution_count": 100,
      "outputs": [
        {
          "output_type": "execute_result",
          "data": {
            "text/html": [
              "<div>\n",
              "<style scoped>\n",
              "    .dataframe tbody tr th:only-of-type {\n",
              "        vertical-align: middle;\n",
              "    }\n",
              "\n",
              "    .dataframe tbody tr th {\n",
              "        vertical-align: top;\n",
              "    }\n",
              "\n",
              "    .dataframe thead th {\n",
              "        text-align: right;\n",
              "    }\n",
              "</style>\n",
              "<table border=\"1\" class=\"dataframe\">\n",
              "  <thead>\n",
              "    <tr style=\"text-align: right;\">\n",
              "      <th></th>\n",
              "      <th>nm</th>\n",
              "      <th>y</th>\n",
              "      <th>da</th>\n",
              "    </tr>\n",
              "  </thead>\n",
              "  <tbody>\n",
              "    <tr>\n",
              "      <th>a</th>\n",
              "      <td>False</td>\n",
              "      <td>False</td>\n",
              "      <td>False</td>\n",
              "    </tr>\n",
              "    <tr>\n",
              "      <th>f</th>\n",
              "      <td>False</td>\n",
              "      <td>False</td>\n",
              "      <td>False</td>\n",
              "    </tr>\n",
              "    <tr>\n",
              "      <th>b</th>\n",
              "      <td>False</td>\n",
              "      <td>False</td>\n",
              "      <td>False</td>\n",
              "    </tr>\n",
              "  </tbody>\n",
              "</table>\n",
              "</div>"
            ],
            "text/plain": [
              "      nm      y     da\n",
              "a  False  False  False\n",
              "f  False  False  False\n",
              "b  False  False  False"
            ]
          },
          "metadata": {
            "tags": []
          },
          "execution_count": 100
        }
      ]
    },
    {
      "cell_type": "markdown",
      "metadata": {
        "id": "P67Gt_IqQ2Fc",
        "colab_type": "text"
      },
      "source": [
        "假设存在空值，可以使用 Pandas 中的 fillna 函数填充空值  \n",
        "fillna 有一个关键参数： method，当设置 method 为 pad 时， 从上一个有效数据传播到下一个有效数据行。"
      ]
    },
    {
      "cell_type": "markdown",
      "metadata": {
        "id": "t1ZPRnyERF_F",
        "colab_type": "text"
      },
      "source": [
        "使用默认值 1.0 填充 y 列:"
      ]
    },
    {
      "cell_type": "code",
      "metadata": {
        "id": "jiKwmLZzRFNl",
        "colab_type": "code",
        "colab": {
          "base_uri": "https://localhost:8080/",
          "height": 142
        },
        "outputId": "08dc7bb2-4e1e-49f6-c768-85311cd22b6d"
      },
      "source": [
        "dfn['y'] = dfn['y'].fillna(1.0)\n",
        "dfn"
      ],
      "execution_count": 101,
      "outputs": [
        {
          "output_type": "execute_result",
          "data": {
            "text/html": [
              "<div>\n",
              "<style scoped>\n",
              "    .dataframe tbody tr th:only-of-type {\n",
              "        vertical-align: middle;\n",
              "    }\n",
              "\n",
              "    .dataframe tbody tr th {\n",
              "        vertical-align: top;\n",
              "    }\n",
              "\n",
              "    .dataframe thead th {\n",
              "        text-align: right;\n",
              "    }\n",
              "</style>\n",
              "<table border=\"1\" class=\"dataframe\">\n",
              "  <thead>\n",
              "    <tr style=\"text-align: right;\">\n",
              "      <th></th>\n",
              "      <th>nm</th>\n",
              "      <th>y</th>\n",
              "      <th>da</th>\n",
              "    </tr>\n",
              "  </thead>\n",
              "  <tbody>\n",
              "    <tr>\n",
              "      <th>a</th>\n",
              "      <td>gz</td>\n",
              "      <td>4.0</td>\n",
              "      <td>2019-04-01</td>\n",
              "    </tr>\n",
              "    <tr>\n",
              "      <th>f</th>\n",
              "      <td>lg</td>\n",
              "      <td>1.2</td>\n",
              "      <td>2019-06-01</td>\n",
              "    </tr>\n",
              "    <tr>\n",
              "      <th>b</th>\n",
              "      <td>zx</td>\n",
              "      <td>3.6</td>\n",
              "      <td>2019-05-01</td>\n",
              "    </tr>\n",
              "  </tbody>\n",
              "</table>\n",
              "</div>"
            ],
            "text/plain": [
              "   nm    y          da\n",
              "a  gz  4.0  2019-04-01\n",
              "f  lg  1.2  2019-06-01\n",
              "b  zx  3.6  2019-05-01"
            ]
          },
          "metadata": {
            "tags": []
          },
          "execution_count": 101
        }
      ]
    },
    {
      "cell_type": "markdown",
      "metadata": {
        "id": "HEKyByvhRPHh",
        "colab_type": "text"
      },
      "source": [
        "检测到了空值数据，但是不想做任何填充，而是仅仅想丢弃这些空值数据  \n",
        "axis, how, 例如组合：axis = 0，how = any，表示某行只要某个元素为空值，就丢弃"
      ]
    },
    {
      "cell_type": "code",
      "metadata": {
        "id": "zuouWU3rRWTh",
        "colab_type": "code",
        "colab": {
          "base_uri": "https://localhost:8080/",
          "height": 142
        },
        "outputId": "53f6b50a-05f3-4a81-bec3-7e4c4db941bd"
      },
      "source": [
        "dfn"
      ],
      "execution_count": 103,
      "outputs": [
        {
          "output_type": "execute_result",
          "data": {
            "text/html": [
              "<div>\n",
              "<style scoped>\n",
              "    .dataframe tbody tr th:only-of-type {\n",
              "        vertical-align: middle;\n",
              "    }\n",
              "\n",
              "    .dataframe tbody tr th {\n",
              "        vertical-align: top;\n",
              "    }\n",
              "\n",
              "    .dataframe thead th {\n",
              "        text-align: right;\n",
              "    }\n",
              "</style>\n",
              "<table border=\"1\" class=\"dataframe\">\n",
              "  <thead>\n",
              "    <tr style=\"text-align: right;\">\n",
              "      <th></th>\n",
              "      <th>nm</th>\n",
              "      <th>y</th>\n",
              "      <th>da</th>\n",
              "    </tr>\n",
              "  </thead>\n",
              "  <tbody>\n",
              "    <tr>\n",
              "      <th>a</th>\n",
              "      <td>gz</td>\n",
              "      <td>4.0</td>\n",
              "      <td>2019-04-01</td>\n",
              "    </tr>\n",
              "    <tr>\n",
              "      <th>f</th>\n",
              "      <td>lg</td>\n",
              "      <td>1.2</td>\n",
              "      <td>2019-06-01</td>\n",
              "    </tr>\n",
              "    <tr>\n",
              "      <th>b</th>\n",
              "      <td>zx</td>\n",
              "      <td>3.6</td>\n",
              "      <td>2019-05-01</td>\n",
              "    </tr>\n",
              "  </tbody>\n",
              "</table>\n",
              "</div>"
            ],
            "text/plain": [
              "   nm    y          da\n",
              "a  gz  4.0  2019-04-01\n",
              "f  lg  1.2  2019-06-01\n",
              "b  zx  3.6  2019-05-01"
            ]
          },
          "metadata": {
            "tags": []
          },
          "execution_count": 103
        }
      ]
    },
    {
      "cell_type": "code",
      "metadata": {
        "id": "cY4HRKT3RZbv",
        "colab_type": "code",
        "colab": {
          "base_uri": "https://localhost:8080/",
          "height": 142
        },
        "outputId": "92a11e12-aed9-4961-ff39-c27d91164bde"
      },
      "source": [
        "dfn.dropna(axis=0,how='any')"
      ],
      "execution_count": 102,
      "outputs": [
        {
          "output_type": "execute_result",
          "data": {
            "text/html": [
              "<div>\n",
              "<style scoped>\n",
              "    .dataframe tbody tr th:only-of-type {\n",
              "        vertical-align: middle;\n",
              "    }\n",
              "\n",
              "    .dataframe tbody tr th {\n",
              "        vertical-align: top;\n",
              "    }\n",
              "\n",
              "    .dataframe thead th {\n",
              "        text-align: right;\n",
              "    }\n",
              "</style>\n",
              "<table border=\"1\" class=\"dataframe\">\n",
              "  <thead>\n",
              "    <tr style=\"text-align: right;\">\n",
              "      <th></th>\n",
              "      <th>nm</th>\n",
              "      <th>y</th>\n",
              "      <th>da</th>\n",
              "    </tr>\n",
              "  </thead>\n",
              "  <tbody>\n",
              "    <tr>\n",
              "      <th>a</th>\n",
              "      <td>gz</td>\n",
              "      <td>4.0</td>\n",
              "      <td>2019-04-01</td>\n",
              "    </tr>\n",
              "    <tr>\n",
              "      <th>f</th>\n",
              "      <td>lg</td>\n",
              "      <td>1.2</td>\n",
              "      <td>2019-06-01</td>\n",
              "    </tr>\n",
              "    <tr>\n",
              "      <th>b</th>\n",
              "      <td>zx</td>\n",
              "      <td>3.6</td>\n",
              "      <td>2019-05-01</td>\n",
              "    </tr>\n",
              "  </tbody>\n",
              "</table>\n",
              "</div>"
            ],
            "text/plain": [
              "   nm    y          da\n",
              "a  gz  4.0  2019-04-01\n",
              "f  lg  1.2  2019-06-01\n",
              "b  zx  3.6  2019-05-01"
            ]
          },
          "metadata": {
            "tags": []
          },
          "execution_count": 102
        }
      ]
    },
    {
      "cell_type": "markdown",
      "metadata": {
        "id": "B6_0mAtyReSg",
        "colab_type": "text"
      },
      "source": [
        "###5.5 必备的数据透视处理函数\n",
        "有类似 Excel 中提供的数据透视功能"
      ]
    },
    {
      "cell_type": "markdown",
      "metadata": {
        "id": "EcaO1leeRoXz",
        "colab_type": "text"
      },
      "source": [
        "构造数据："
      ]
    },
    {
      "cell_type": "code",
      "metadata": {
        "id": "3VEQ1oe3RpXH",
        "colab_type": "code",
        "colab": {
          "base_uri": "https://localhost:8080/",
          "height": 328
        },
        "outputId": "08e16b2b-033f-46fc-ce3b-8b628fe576df"
      },
      "source": [
        "df = pd.DataFrame({\"A\": [\"foo\", \"foo\", \"foo\", \"foo\", \"foo\", \"bar\", \"bar\", \"bar\", \"bar\"],\n",
        "                   \"B\": [\"one\", \"one\", \"one\", \"two\", \"two\", \"one\", \"one\", \"two\", \"two\"], \n",
        "                   \"C\": [\"small\", \"large\", \"large\", \"small\", \"small\", \"large\", \"small\", \"small\", \"large\"], \n",
        "                   \"D\": [1, 2, 2, 3, 3, 4, 5, 6, 7], \n",
        "                   \"E\": [2, 4, 5, 5, 6, 6, 8, 9, 9]})  \n",
        "df                  "
      ],
      "execution_count": 107,
      "outputs": [
        {
          "output_type": "execute_result",
          "data": {
            "text/html": [
              "<div>\n",
              "<style scoped>\n",
              "    .dataframe tbody tr th:only-of-type {\n",
              "        vertical-align: middle;\n",
              "    }\n",
              "\n",
              "    .dataframe tbody tr th {\n",
              "        vertical-align: top;\n",
              "    }\n",
              "\n",
              "    .dataframe thead th {\n",
              "        text-align: right;\n",
              "    }\n",
              "</style>\n",
              "<table border=\"1\" class=\"dataframe\">\n",
              "  <thead>\n",
              "    <tr style=\"text-align: right;\">\n",
              "      <th></th>\n",
              "      <th>A</th>\n",
              "      <th>B</th>\n",
              "      <th>C</th>\n",
              "      <th>D</th>\n",
              "      <th>E</th>\n",
              "    </tr>\n",
              "  </thead>\n",
              "  <tbody>\n",
              "    <tr>\n",
              "      <th>0</th>\n",
              "      <td>foo</td>\n",
              "      <td>one</td>\n",
              "      <td>small</td>\n",
              "      <td>1</td>\n",
              "      <td>2</td>\n",
              "    </tr>\n",
              "    <tr>\n",
              "      <th>1</th>\n",
              "      <td>foo</td>\n",
              "      <td>one</td>\n",
              "      <td>large</td>\n",
              "      <td>2</td>\n",
              "      <td>4</td>\n",
              "    </tr>\n",
              "    <tr>\n",
              "      <th>2</th>\n",
              "      <td>foo</td>\n",
              "      <td>one</td>\n",
              "      <td>large</td>\n",
              "      <td>2</td>\n",
              "      <td>5</td>\n",
              "    </tr>\n",
              "    <tr>\n",
              "      <th>3</th>\n",
              "      <td>foo</td>\n",
              "      <td>two</td>\n",
              "      <td>small</td>\n",
              "      <td>3</td>\n",
              "      <td>5</td>\n",
              "    </tr>\n",
              "    <tr>\n",
              "      <th>4</th>\n",
              "      <td>foo</td>\n",
              "      <td>two</td>\n",
              "      <td>small</td>\n",
              "      <td>3</td>\n",
              "      <td>6</td>\n",
              "    </tr>\n",
              "    <tr>\n",
              "      <th>5</th>\n",
              "      <td>bar</td>\n",
              "      <td>one</td>\n",
              "      <td>large</td>\n",
              "      <td>4</td>\n",
              "      <td>6</td>\n",
              "    </tr>\n",
              "    <tr>\n",
              "      <th>6</th>\n",
              "      <td>bar</td>\n",
              "      <td>one</td>\n",
              "      <td>small</td>\n",
              "      <td>5</td>\n",
              "      <td>8</td>\n",
              "    </tr>\n",
              "    <tr>\n",
              "      <th>7</th>\n",
              "      <td>bar</td>\n",
              "      <td>two</td>\n",
              "      <td>small</td>\n",
              "      <td>6</td>\n",
              "      <td>9</td>\n",
              "    </tr>\n",
              "    <tr>\n",
              "      <th>8</th>\n",
              "      <td>bar</td>\n",
              "      <td>two</td>\n",
              "      <td>large</td>\n",
              "      <td>7</td>\n",
              "      <td>9</td>\n",
              "    </tr>\n",
              "  </tbody>\n",
              "</table>\n",
              "</div>"
            ],
            "text/plain": [
              "     A    B      C  D  E\n",
              "0  foo  one  small  1  2\n",
              "1  foo  one  large  2  4\n",
              "2  foo  one  large  2  5\n",
              "3  foo  two  small  3  5\n",
              "4  foo  two  small  3  6\n",
              "5  bar  one  large  4  6\n",
              "6  bar  one  small  5  8\n",
              "7  bar  two  small  6  9\n",
              "8  bar  two  large  7  9"
            ]
          },
          "metadata": {
            "tags": []
          },
          "execution_count": 107
        }
      ]
    },
    {
      "cell_type": "code",
      "metadata": {
        "id": "-s6arWzJSk1A",
        "colab_type": "code",
        "colab": {
          "base_uri": "https://localhost:8080/",
          "height": 266
        },
        "outputId": "0ca67197-376b-49ab-90ac-2d0d7f81605b"
      },
      "source": [
        "pd.pivot_table(df, values=['D','E'], index=['A','B'], columns='C',aggfunc=[np.mean,np.max])               "
      ],
      "execution_count": 108,
      "outputs": [
        {
          "output_type": "execute_result",
          "data": {
            "text/html": [
              "<div>\n",
              "<style scoped>\n",
              "    .dataframe tbody tr th:only-of-type {\n",
              "        vertical-align: middle;\n",
              "    }\n",
              "\n",
              "    .dataframe tbody tr th {\n",
              "        vertical-align: top;\n",
              "    }\n",
              "\n",
              "    .dataframe thead tr th {\n",
              "        text-align: left;\n",
              "    }\n",
              "\n",
              "    .dataframe thead tr:last-of-type th {\n",
              "        text-align: right;\n",
              "    }\n",
              "</style>\n",
              "<table border=\"1\" class=\"dataframe\">\n",
              "  <thead>\n",
              "    <tr>\n",
              "      <th></th>\n",
              "      <th></th>\n",
              "      <th colspan=\"4\" halign=\"left\">mean</th>\n",
              "      <th colspan=\"4\" halign=\"left\">amax</th>\n",
              "    </tr>\n",
              "    <tr>\n",
              "      <th></th>\n",
              "      <th></th>\n",
              "      <th colspan=\"2\" halign=\"left\">D</th>\n",
              "      <th colspan=\"2\" halign=\"left\">E</th>\n",
              "      <th colspan=\"2\" halign=\"left\">D</th>\n",
              "      <th colspan=\"2\" halign=\"left\">E</th>\n",
              "    </tr>\n",
              "    <tr>\n",
              "      <th></th>\n",
              "      <th>C</th>\n",
              "      <th>large</th>\n",
              "      <th>small</th>\n",
              "      <th>large</th>\n",
              "      <th>small</th>\n",
              "      <th>large</th>\n",
              "      <th>small</th>\n",
              "      <th>large</th>\n",
              "      <th>small</th>\n",
              "    </tr>\n",
              "    <tr>\n",
              "      <th>A</th>\n",
              "      <th>B</th>\n",
              "      <th></th>\n",
              "      <th></th>\n",
              "      <th></th>\n",
              "      <th></th>\n",
              "      <th></th>\n",
              "      <th></th>\n",
              "      <th></th>\n",
              "      <th></th>\n",
              "    </tr>\n",
              "  </thead>\n",
              "  <tbody>\n",
              "    <tr>\n",
              "      <th rowspan=\"2\" valign=\"top\">bar</th>\n",
              "      <th>one</th>\n",
              "      <td>4.0</td>\n",
              "      <td>5.0</td>\n",
              "      <td>6.0</td>\n",
              "      <td>8.0</td>\n",
              "      <td>4.0</td>\n",
              "      <td>5.0</td>\n",
              "      <td>6.0</td>\n",
              "      <td>8.0</td>\n",
              "    </tr>\n",
              "    <tr>\n",
              "      <th>two</th>\n",
              "      <td>7.0</td>\n",
              "      <td>6.0</td>\n",
              "      <td>9.0</td>\n",
              "      <td>9.0</td>\n",
              "      <td>7.0</td>\n",
              "      <td>6.0</td>\n",
              "      <td>9.0</td>\n",
              "      <td>9.0</td>\n",
              "    </tr>\n",
              "    <tr>\n",
              "      <th rowspan=\"2\" valign=\"top\">foo</th>\n",
              "      <th>one</th>\n",
              "      <td>2.0</td>\n",
              "      <td>1.0</td>\n",
              "      <td>4.5</td>\n",
              "      <td>2.0</td>\n",
              "      <td>2.0</td>\n",
              "      <td>1.0</td>\n",
              "      <td>5.0</td>\n",
              "      <td>2.0</td>\n",
              "    </tr>\n",
              "    <tr>\n",
              "      <th>two</th>\n",
              "      <td>NaN</td>\n",
              "      <td>3.0</td>\n",
              "      <td>NaN</td>\n",
              "      <td>5.5</td>\n",
              "      <td>NaN</td>\n",
              "      <td>3.0</td>\n",
              "      <td>NaN</td>\n",
              "      <td>6.0</td>\n",
              "    </tr>\n",
              "  </tbody>\n",
              "</table>\n",
              "</div>"
            ],
            "text/plain": [
              "         mean                    amax                  \n",
              "            D           E           D           E      \n",
              "C       large small large small large small large small\n",
              "A   B                                                  \n",
              "bar one   4.0   5.0   6.0   8.0   4.0   5.0   6.0   8.0\n",
              "    two   7.0   6.0   9.0   9.0   7.0   6.0   9.0   9.0\n",
              "foo one   2.0   1.0   4.5   2.0   2.0   1.0   5.0   2.0\n",
              "    two   NaN   3.0   NaN   5.5   NaN   3.0   NaN   6.0"
            ]
          },
          "metadata": {
            "tags": []
          },
          "execution_count": 108
        }
      ]
    },
    {
      "cell_type": "markdown",
      "metadata": {
        "id": "V9QvzkC9Sx_n",
        "colab_type": "text"
      },
      "source": [
        "#####分步解析数据透视的过程\n",
        "以 A 和 B 两列为 index，一旦选定，内部实现中会根据 A 和 B 形成一个多级索引，并对数据分组。  \n",
        "第二维度，也就是 axis 为 1 的维度，设置为 C 列，这样数据会被重构为这种二维表，并且如果聚合函数缺省情况下，默认统计平均值。  \n",
        "*看不懂，胸口闷，脑壳疼*"
      ]
    },
    {
      "cell_type": "code",
      "metadata": {
        "id": "jVnAUzIaTOfD",
        "colab_type": "code",
        "colab": {
          "base_uri": "https://localhost:8080/",
          "height": 235
        },
        "outputId": "85194ce1-ff5c-407f-dd3d-3f6cfeb00128"
      },
      "source": [
        "pd.pivot_table(df, index=['A','B'],columns='C')"
      ],
      "execution_count": 109,
      "outputs": [
        {
          "output_type": "execute_result",
          "data": {
            "text/html": [
              "<div>\n",
              "<style scoped>\n",
              "    .dataframe tbody tr th:only-of-type {\n",
              "        vertical-align: middle;\n",
              "    }\n",
              "\n",
              "    .dataframe tbody tr th {\n",
              "        vertical-align: top;\n",
              "    }\n",
              "\n",
              "    .dataframe thead tr th {\n",
              "        text-align: left;\n",
              "    }\n",
              "\n",
              "    .dataframe thead tr:last-of-type th {\n",
              "        text-align: right;\n",
              "    }\n",
              "</style>\n",
              "<table border=\"1\" class=\"dataframe\">\n",
              "  <thead>\n",
              "    <tr>\n",
              "      <th></th>\n",
              "      <th></th>\n",
              "      <th colspan=\"2\" halign=\"left\">D</th>\n",
              "      <th colspan=\"2\" halign=\"left\">E</th>\n",
              "    </tr>\n",
              "    <tr>\n",
              "      <th></th>\n",
              "      <th>C</th>\n",
              "      <th>large</th>\n",
              "      <th>small</th>\n",
              "      <th>large</th>\n",
              "      <th>small</th>\n",
              "    </tr>\n",
              "    <tr>\n",
              "      <th>A</th>\n",
              "      <th>B</th>\n",
              "      <th></th>\n",
              "      <th></th>\n",
              "      <th></th>\n",
              "      <th></th>\n",
              "    </tr>\n",
              "  </thead>\n",
              "  <tbody>\n",
              "    <tr>\n",
              "      <th rowspan=\"2\" valign=\"top\">bar</th>\n",
              "      <th>one</th>\n",
              "      <td>4.0</td>\n",
              "      <td>5.0</td>\n",
              "      <td>6.0</td>\n",
              "      <td>8.0</td>\n",
              "    </tr>\n",
              "    <tr>\n",
              "      <th>two</th>\n",
              "      <td>7.0</td>\n",
              "      <td>6.0</td>\n",
              "      <td>9.0</td>\n",
              "      <td>9.0</td>\n",
              "    </tr>\n",
              "    <tr>\n",
              "      <th rowspan=\"2\" valign=\"top\">foo</th>\n",
              "      <th>one</th>\n",
              "      <td>2.0</td>\n",
              "      <td>1.0</td>\n",
              "      <td>4.5</td>\n",
              "      <td>2.0</td>\n",
              "    </tr>\n",
              "    <tr>\n",
              "      <th>two</th>\n",
              "      <td>NaN</td>\n",
              "      <td>3.0</td>\n",
              "      <td>NaN</td>\n",
              "      <td>5.5</td>\n",
              "    </tr>\n",
              "  </tbody>\n",
              "</table>\n",
              "</div>"
            ],
            "text/plain": [
              "            D           E      \n",
              "C       large small large small\n",
              "A   B                          \n",
              "bar one   4.0   5.0   6.0   8.0\n",
              "    two   7.0   6.0   9.0   9.0\n",
              "foo one   2.0   1.0   4.5   2.0\n",
              "    two   NaN   3.0   NaN   5.5"
            ]
          },
          "metadata": {
            "tags": []
          },
          "execution_count": 109
        }
      ]
    },
    {
      "cell_type": "markdown",
      "metadata": {
        "id": "mbut2BIVTsBu",
        "colab_type": "text"
      },
      "source": [
        "当为 pivot_table 设置上 values 来自哪些列，同时定义聚合函数后，就最终得到数据的透视结果。"
      ]
    }
  ]
}