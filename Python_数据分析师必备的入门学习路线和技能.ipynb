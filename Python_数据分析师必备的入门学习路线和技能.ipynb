{
  "nbformat": 4,
  "nbformat_minor": 0,
  "metadata": {
    "colab": {
      "name": "Python 数据分析师必备的入门学习路线和技能.ipynb",
      "version": "0.3.2",
      "provenance": [],
      "collapsed_sections": [
        "a7ka_GMbnpw-",
        "KCKtqQvArbV1",
        "AlwQnOZQygPY",
        "WRo5QlIv1A29",
        "P1Q7SXnj7mlA",
        "SN3u4wY77zZR",
        "IBXync9t9BV1",
        "H63VHDAzAEZD",
        "zZgJTPGPAqjw",
        "SfL6ECm4DWmu"
      ],
      "include_colab_link": true
    },
    "kernelspec": {
      "name": "python3",
      "display_name": "Python 3"
    },
    "accelerator": "GPU"
  },
  "cells": [
    {
      "cell_type": "markdown",
      "metadata": {
        "id": "view-in-github",
        "colab_type": "text"
      },
      "source": [
        "<a href=\"https://colab.research.google.com/github/ccloveak/Study_Notes/blob/master/Python_%E6%95%B0%E6%8D%AE%E5%88%86%E6%9E%90%E5%B8%88%E5%BF%85%E5%A4%87%E7%9A%84%E5%85%A5%E9%97%A8%E5%AD%A6%E4%B9%A0%E8%B7%AF%E7%BA%BF%E5%92%8C%E6%8A%80%E8%83%BD.ipynb\" target=\"_parent\"><img src=\"https://colab.research.google.com/assets/colab-badge.svg\" alt=\"Open In Colab\"/></a>"
      ]
    },
    {
      "cell_type": "markdown",
      "metadata": {
        "id": "a7ka_GMbnpw-",
        "colab_type": "text"
      },
      "source": [
        "#入门学习路线"
      ]
    },
    {
      "cell_type": "markdown",
      "metadata": {
        "id": "eERzDu6Hp9ao",
        "colab_type": "text"
      },
      "source": [
        "###1.1 统计学基本知识\n",
        "概率，平均值，中位数，众数，四分位数，期望，标准差，方差，协方差，相关系数\n"
      ]
    },
    {
      "cell_type": "markdown",
      "metadata": {
        "id": "aOfgKVxNrmT2",
        "colab_type": "text"
      },
      "source": [
        "###1.2 算法\n",
        "用算法实现回归，分类，聚类分析 "
      ]
    },
    {
      "cell_type": "markdown",
      "metadata": {
        "id": "XgVhxIc7q4hY",
        "colab_type": "text"
      },
      "source": [
        "###1.3 编程语言及工具\n",
        "python\n",
        "\n",
        "***\n",
        "***"
      ]
    },
    {
      "cell_type": "markdown",
      "metadata": {
        "id": "KCKtqQvArbV1",
        "colab_type": "text"
      },
      "source": [
        "#数据整理"
      ]
    },
    {
      "cell_type": "markdown",
      "metadata": {
        "id": "ul62h_36sItg",
        "colab_type": "text"
      },
      "source": [
        "数据整理，英文名称 data munging，是指在获取到的原数据基础上，理解这些业务数据，整理清洗它们，作为接下来算法建模的输入数据"
      ]
    },
    {
      "cell_type": "markdown",
      "metadata": {
        "id": "_f91j1c0sRBU",
        "colab_type": "text"
      },
      "source": [
        "###2.1 理解业务数据\n",
        "认真理解业务数据，可以试着理解去每个特征，观察每个特征，理解它们对结果的影响程度"
      ]
    },
    {
      "cell_type": "markdown",
      "metadata": {
        "id": "xz-JDhoFsm-9",
        "colab_type": "text"
      },
      "source": [
        "####可视化工具： seaborn "
      ]
    },
    {
      "cell_type": "code",
      "metadata": {
        "id": "OktP2a_esqqK",
        "colab_type": "code",
        "colab": {}
      },
      "source": [
        "#缺train数据集\n",
        "import matplotlib\n",
        "import matplotlib.pyplot as plt\n",
        "import seaborn as sns\n",
        "colormap = plt.cm.RdBu\n",
        "plt.figure(figsize=(14,12))\n",
        "sns.heatmap(train.astype(float).corr(),linewidths=0.1,vmax=1.0, square=True, cmap=colormap, linecolor='white', annot=True)"
      ],
      "execution_count": 0,
      "outputs": []
    },
    {
      "cell_type": "markdown",
      "metadata": {
        "id": "ICjgHHaLxeAg",
        "colab_type": "text"
      },
      "source": [
        "###2.2 明确各个特征的类型\n",
        "明确数据类型，对数据进行筛选  \n",
        "one-hot 编码  \n",
        "dummy variable 虚拟变量\n"
      ]
    },
    {
      "cell_type": "markdown",
      "metadata": {
        "id": "5MaeU7b_x_h0",
        "colab_type": "text"
      },
      "source": [
        "###2.3 找出异常数据\n",
        "数据存在异常值，绘制箱形图，看一看百分位数  \n",
        "了解数据范围，设定最大值、最小值限度"
      ]
    },
    {
      "cell_type": "markdown",
      "metadata": {
        "id": "n3eDHnLnyOf_",
        "colab_type": "text"
      },
      "source": [
        "###2.4 面对缺失值\n",
        "1.填充缺失数据  \n",
        "2.彻底删除此字段"
      ]
    },
    {
      "cell_type": "markdown",
      "metadata": {
        "id": "yvAHqNKmygQj",
        "colab_type": "text"
      },
      "source": [
        "###2.5 数据不均衡\n",
        "数据量越大，不均衡的问题越容易解决\n",
        "数据量很小，解决起来就比较困难\n",
        "***\n",
        "***\n"
      ]
    },
    {
      "cell_type": "markdown",
      "metadata": {
        "id": "AlwQnOZQygPY",
        "colab_type": "text"
      },
      "source": [
        "#Python 入门必备知识\n",
        "Python 语言主要的特点，通俗的说就是语法简洁，开发效率高，基于 Python 的开发生态环境比较友好。"
      ]
    },
    {
      "cell_type": "markdown",
      "metadata": {
        "id": "N_-cXQ-BzVVL",
        "colab_type": "text"
      },
      "source": [
        "###3.1 Python 最常用的对象\n",
        "Python 最常用的几个对象： list、dict、tuple 以及它们三者的灵活组合。  \n",
        "list`[ ]` 可以看作是线性表和链表的结合体 \n",
        "dict`{ }`可以看作是 key-value 对的组合 \n",
        "tuple`( )`是不可更改的 \"list\"\n",
        "\n"
      ]
    },
    {
      "cell_type": "markdown",
      "metadata": {
        "id": "WRo5QlIv1A29",
        "colab_type": "text"
      },
      "source": [
        "####3.1.1 dict 核心知识\n",
        "dict 就是一种字典结构，key 唯一  \n",
        "两种方法创建dict  \n",
        "1.直接 {}  \n",
        "2.dict 构造函数创建"
      ]
    },
    {
      "cell_type": "code",
      "metadata": {
        "id": "DTTFKrlc4e1e",
        "colab_type": "code",
        "outputId": "23ad2c27-4d16-4a5a-e675-8e9b6273d66d",
        "colab": {
          "base_uri": "https://localhost:8080/",
          "height": 34
        }
      },
      "source": [
        "d = {'a':[1,2,3], 'b':['gz','lg','zx']}\n",
        "d"
      ],
      "execution_count": 0,
      "outputs": [
        {
          "output_type": "execute_result",
          "data": {
            "text/plain": [
              "{'a': [1, 2, 3], 'b': ['gz', 'lg', 'zx']}"
            ]
          },
          "metadata": {
            "tags": []
          },
          "execution_count": 4
        }
      ]
    },
    {
      "cell_type": "code",
      "metadata": {
        "id": "dd7YM03U4mbE",
        "colab_type": "code",
        "outputId": "105a43a8-1bda-473b-c34d-a20320cd188a",
        "colab": {
          "base_uri": "https://localhost:8080/",
          "height": 34
        }
      },
      "source": [
        "d = dict.fromkeys(['a','b'],[1,2,5])\n",
        "d"
      ],
      "execution_count": 0,
      "outputs": [
        {
          "output_type": "execute_result",
          "data": {
            "text/plain": [
              "{'a': [1, 2, 5], 'b': [1, 2, 5]}"
            ]
          },
          "metadata": {
            "tags": []
          },
          "execution_count": 5
        }
      ]
    },
    {
      "cell_type": "markdown",
      "metadata": {
        "id": "AUEzTZWO45lk",
        "colab_type": "text"
      },
      "source": [
        "#####字典内元素的增加、删除、更新、访问\n",
        "增加元素对于 dict 而言就是增加一个键值对"
      ]
    },
    {
      "cell_type": "code",
      "metadata": {
        "id": "AHDdyGun5DiU",
        "colab_type": "code",
        "outputId": "9d216f92-0e85-4a8a-b34f-9b0c1fd4bccc",
        "colab": {
          "base_uri": "https://localhost:8080/",
          "height": 34
        }
      },
      "source": [
        "d = dict.fromkeys(['a','b'],[1,2,3])\n",
        "d"
      ],
      "execution_count": 0,
      "outputs": [
        {
          "output_type": "execute_result",
          "data": {
            "text/plain": [
              "{'a': [1, 2, 3], 'b': [1, 2, 3]}"
            ]
          },
          "metadata": {
            "tags": []
          },
          "execution_count": 6
        }
      ]
    },
    {
      "cell_type": "code",
      "metadata": {
        "id": "weVbCyui5KCI",
        "colab_type": "code",
        "outputId": "bca3aefc-84df-4a24-eed2-e0bf1403de7e",
        "colab": {
          "base_uri": "https://localhost:8080/",
          "height": 34
        }
      },
      "source": [
        "d['c'] = ['gz','lg'] \n",
        "d"
      ],
      "execution_count": 0,
      "outputs": [
        {
          "output_type": "execute_result",
          "data": {
            "text/plain": [
              "{'a': [1, 2, 3], 'b': [1, 2, 3], 'c': ['gz', 'lg']}"
            ]
          },
          "metadata": {
            "tags": []
          },
          "execution_count": 7
        }
      ]
    },
    {
      "cell_type": "markdown",
      "metadata": {
        "id": "6IFsBfWA5QNF",
        "colab_type": "text"
      },
      "source": [
        "如果添加一个键值对时，原字典中此键已经存在，则直接更新"
      ]
    },
    {
      "cell_type": "code",
      "metadata": {
        "id": "76mobeMq5TFw",
        "colab_type": "code",
        "outputId": "8afff511-6d95-4178-dc52-e22258ae4037",
        "colab": {
          "base_uri": "https://localhost:8080/",
          "height": 34
        }
      },
      "source": [
        "d={'a': [1, 2, 3], 'b': [1, 2, 3], 'c': ['gz', 'lg']}\n",
        "d"
      ],
      "execution_count": 0,
      "outputs": [
        {
          "output_type": "execute_result",
          "data": {
            "text/plain": [
              "{'a': [1, 2, 3], 'b': [1, 2, 3], 'c': ['gz', 'lg']}"
            ]
          },
          "metadata": {
            "tags": []
          },
          "execution_count": 8
        }
      ]
    },
    {
      "cell_type": "code",
      "metadata": {
        "id": "yjOgI9pp5bi_",
        "colab_type": "code",
        "outputId": "99196a0d-ac79-43ac-a254-62c5bea3fe16",
        "colab": {
          "base_uri": "https://localhost:8080/",
          "height": 34
        }
      },
      "source": [
        "d['b'] = [3,5,8]\n",
        "d"
      ],
      "execution_count": 0,
      "outputs": [
        {
          "output_type": "execute_result",
          "data": {
            "text/plain": [
              "{'a': [1, 2, 3], 'b': [3, 5, 8], 'c': ['gz', 'lg']}"
            ]
          },
          "metadata": {
            "tags": []
          },
          "execution_count": 9
        }
      ]
    },
    {
      "cell_type": "markdown",
      "metadata": {
        "id": "zx41KP9U5gzY",
        "colab_type": "text"
      },
      "source": [
        "想要删除字典中的某个键值对时，使用 pop，传入想要删除的键值对的键"
      ]
    },
    {
      "cell_type": "code",
      "metadata": {
        "id": "RRXq3tl95jlr",
        "colab_type": "code",
        "outputId": "34597197-83d5-4465-d918-3c4851bc037e",
        "colab": {
          "base_uri": "https://localhost:8080/",
          "height": 34
        }
      },
      "source": [
        "d"
      ],
      "execution_count": 0,
      "outputs": [
        {
          "output_type": "execute_result",
          "data": {
            "text/plain": [
              "{'a': [1, 2, 3], 'b': [3, 5, 8], 'c': ['gz', 'lg']}"
            ]
          },
          "metadata": {
            "tags": []
          },
          "execution_count": 10
        }
      ]
    },
    {
      "cell_type": "code",
      "metadata": {
        "id": "uwuzBgBX5o05",
        "colab_type": "code",
        "outputId": "67e6d5e4-be05-483a-aa6a-4eecc64e686e",
        "colab": {
          "base_uri": "https://localhost:8080/",
          "height": 34
        }
      },
      "source": [
        "d.pop('b')"
      ],
      "execution_count": 0,
      "outputs": [
        {
          "output_type": "execute_result",
          "data": {
            "text/plain": [
              "[3, 5, 8]"
            ]
          },
          "metadata": {
            "tags": []
          },
          "execution_count": 11
        }
      ]
    },
    {
      "cell_type": "code",
      "metadata": {
        "id": "CHmQNY9C5rgh",
        "colab_type": "code",
        "outputId": "af9bf2dc-5b66-490d-d3cd-b347878a4bcd",
        "colab": {
          "base_uri": "https://localhost:8080/",
          "height": 34
        }
      },
      "source": [
        "d"
      ],
      "execution_count": 0,
      "outputs": [
        {
          "output_type": "execute_result",
          "data": {
            "text/plain": [
              "{'a': [1, 2, 3], 'c': ['gz', 'lg']}"
            ]
          },
          "metadata": {
            "tags": []
          },
          "execution_count": 12
        }
      ]
    },
    {
      "cell_type": "markdown",
      "metadata": {
        "id": "g_EFtGaz5yjI",
        "colab_type": "text"
      },
      "source": [
        "如果字典中不存在此键，则返回设置的默认值，比如我们自己设置的： 'key is not in dict' "
      ]
    },
    {
      "cell_type": "code",
      "metadata": {
        "id": "kOKPgPcY51yv",
        "colab_type": "code",
        "outputId": "67664a14-ea0d-41ea-ed11-c95cf39331e0",
        "colab": {
          "base_uri": "https://localhost:8080/",
          "height": 34
        }
      },
      "source": [
        "d"
      ],
      "execution_count": 0,
      "outputs": [
        {
          "output_type": "execute_result",
          "data": {
            "text/plain": [
              "{'a': [1, 2, 3], 'c': ['gz', 'lg']}"
            ]
          },
          "metadata": {
            "tags": []
          },
          "execution_count": 13
        }
      ]
    },
    {
      "cell_type": "code",
      "metadata": {
        "id": "uVeOKxgO51xo",
        "colab_type": "code",
        "outputId": "df02a7eb-f79e-4f3c-b893-05aa94a4eedd",
        "colab": {
          "base_uri": "https://localhost:8080/",
          "height": 34
        }
      },
      "source": [
        "d.pop('b','key is not in dict')"
      ],
      "execution_count": 0,
      "outputs": [
        {
          "output_type": "execute_result",
          "data": {
            "text/plain": [
              "'key is not in dict'"
            ]
          },
          "metadata": {
            "tags": []
          },
          "execution_count": 14
        }
      ]
    },
    {
      "cell_type": "markdown",
      "metadata": {
        "id": "HfUr2wgg59ko",
        "colab_type": "text"
      },
      "source": [
        "访问键值对，只能通过键，访问对应的值"
      ]
    },
    {
      "cell_type": "code",
      "metadata": {
        "id": "OLzGSZja5-pa",
        "colab_type": "code",
        "outputId": "18359dad-753f-4fcd-a7b4-a0232dc7496d",
        "colab": {
          "base_uri": "https://localhost:8080/",
          "height": 34
        }
      },
      "source": [
        "d['a']"
      ],
      "execution_count": 0,
      "outputs": [
        {
          "output_type": "execute_result",
          "data": {
            "text/plain": [
              "[1, 2, 3]"
            ]
          },
          "metadata": {
            "tags": []
          },
          "execution_count": 15
        }
      ]
    },
    {
      "cell_type": "markdown",
      "metadata": {
        "id": "XCNb6pKN6EQo",
        "colab_type": "text"
      },
      "source": [
        "dict 是可迭代的对象类型，可以通过 for 遍历每个键值对，如下直接访问每个键"
      ]
    },
    {
      "cell_type": "code",
      "metadata": {
        "id": "Agx_mKZj6G2j",
        "colab_type": "code",
        "outputId": "9c3ede6d-661d-4d37-8174-033d22e292ff",
        "colab": {
          "base_uri": "https://localhost:8080/",
          "height": 51
        }
      },
      "source": [
        "for i in d: \n",
        "    print(i)"
      ],
      "execution_count": 0,
      "outputs": [
        {
          "output_type": "stream",
          "text": [
            "a\n",
            "c\n"
          ],
          "name": "stdout"
        }
      ]
    },
    {
      "cell_type": "markdown",
      "metadata": {
        "id": "mzB3R7Xk6Sfa",
        "colab_type": "text"
      },
      "source": [
        "要想访问每个键值对，可以借助字典的 items() 访问，items 方法返回字典内每项的视图"
      ]
    },
    {
      "cell_type": "code",
      "metadata": {
        "id": "rZ_rLIDW6aC1",
        "colab_type": "code",
        "outputId": "0e302903-1d30-47c8-b16d-9f3dc4a3f534",
        "colab": {
          "base_uri": "https://localhost:8080/",
          "height": 51
        }
      },
      "source": [
        "for item in d.items(): \n",
        "    print(item)"
      ],
      "execution_count": 0,
      "outputs": [
        {
          "output_type": "stream",
          "text": [
            "('a', [1, 2, 3])\n",
            "('c', ['gz', 'lg'])\n"
          ],
          "name": "stdout"
        }
      ]
    },
    {
      "cell_type": "markdown",
      "metadata": {
        "id": "JThaa8Jw6iC2",
        "colab_type": "text"
      },
      "source": [
        "####3.1.2 tuple 和 set 简介\n",
        "tuple 对象是以 () 创建的，set 对象是以 {} 创建的"
      ]
    },
    {
      "cell_type": "code",
      "metadata": {
        "id": "hGIxtJlu7OX_",
        "colab_type": "code",
        "outputId": "8cc61f7a-d014-4f29-ec17-ff65c18f2f9f",
        "colab": {
          "base_uri": "https://localhost:8080/",
          "height": 34
        }
      },
      "source": [
        "t = ('a',[1,4,6],{'b':[4,2,0]})\n",
        "t"
      ],
      "execution_count": 0,
      "outputs": [
        {
          "output_type": "execute_result",
          "data": {
            "text/plain": [
              "('a', [1, 4, 6], {'b': [4, 2, 0]})"
            ]
          },
          "metadata": {
            "tags": []
          },
          "execution_count": 18
        }
      ]
    },
    {
      "cell_type": "code",
      "metadata": {
        "id": "5zqsSWBa7RbZ",
        "colab_type": "code",
        "outputId": "3e6f668a-6efc-4338-8a8e-44be8d0ea543",
        "colab": {
          "base_uri": "https://localhost:8080/",
          "height": 34
        }
      },
      "source": [
        "s = {1,4,6}\n",
        "s"
      ],
      "execution_count": 0,
      "outputs": [
        {
          "output_type": "execute_result",
          "data": {
            "text/plain": [
              "{1, 4, 6}"
            ]
          },
          "metadata": {
            "tags": []
          },
          "execution_count": 19
        }
      ]
    },
    {
      "cell_type": "markdown",
      "metadata": {
        "id": "C5GNSbo77Yul",
        "colab_type": "text"
      },
      "source": [
        "tuple 是不可更改的对象(immutable)，一旦创建，里面的元素就不能再改动了。  \n",
        "set 是无重复元素的集合体，是可更改的对象(mutable)。"
      ]
    },
    {
      "cell_type": "markdown",
      "metadata": {
        "id": "9NrF5JdM7fNb",
        "colab_type": "text"
      },
      "source": [
        "###3.2 Python 入门必备知识点"
      ]
    },
    {
      "cell_type": "markdown",
      "metadata": {
        "id": "P1Q7SXnj7mlA",
        "colab_type": "text"
      },
      "source": [
        "####3.2.1 对象上的特殊函数\n"
      ]
    },
    {
      "cell_type": "markdown",
      "metadata": {
        "id": "SN3u4wY77zZR",
        "colab_type": "text"
      },
      "source": [
        "#####常用的 Python 解释器 CPython"
      ]
    },
    {
      "cell_type": "code",
      "metadata": {
        "id": "uXDvjxdC71SQ",
        "colab_type": "code",
        "colab": {}
      },
      "source": [
        "class student: \n",
        "    def __init__(self,name):\n",
        "        self.name = name \n",
        "    def __len__(self):\n",
        "        return len(self.name)"
      ],
      "execution_count": 0,
      "outputs": []
    },
    {
      "cell_type": "code",
      "metadata": {
        "id": "hEKHQVVt83IO",
        "colab_type": "code",
        "outputId": "d30d43cb-e8b5-49ab-8562-1bf317c21c75",
        "colab": {
          "base_uri": "https://localhost:8080/",
          "height": 34
        }
      },
      "source": [
        "xiaoming = student('xiaoming')\n",
        "len(xiaoming)"
      ],
      "execution_count": 0,
      "outputs": [
        {
          "output_type": "execute_result",
          "data": {
            "text/plain": [
              "8"
            ]
          },
          "metadata": {
            "tags": []
          },
          "execution_count": 25
        }
      ]
    },
    {
      "cell_type": "markdown",
      "metadata": {
        "id": "IBXync9t9BV1",
        "colab_type": "text"
      },
      "source": [
        "####3.2.2 列表生成式"
      ]
    },
    {
      "cell_type": "code",
      "metadata": {
        "id": "Sb1ntSwN9R-s",
        "colab_type": "code",
        "outputId": "1641b7b3-e088-476a-8367-b356496f62c9",
        "colab": {
          "base_uri": "https://localhost:8080/",
          "height": 34
        }
      },
      "source": [
        "[abs(i) for i in [-4,3,1,-9,2]]  "
      ],
      "execution_count": 0,
      "outputs": [
        {
          "output_type": "execute_result",
          "data": {
            "text/plain": [
              "[4, 3, 1, 9, 2]"
            ]
          },
          "metadata": {
            "tags": []
          },
          "execution_count": 26
        }
      ]
    },
    {
      "cell_type": "markdown",
      "metadata": {
        "id": "0CdJzwGa9Wbe",
        "colab_type": "text"
      },
      "source": [
        "结合 if 和 else，写起来更加简洁"
      ]
    },
    {
      "cell_type": "code",
      "metadata": {
        "id": "QJ87I2P49XPb",
        "colab_type": "code",
        "outputId": "0d867cd7-5da6-477d-f550-36c714c4218b",
        "colab": {
          "base_uri": "https://localhost:8080/",
          "height": 34
        }
      },
      "source": [
        "[i+1 if i>0 else i+1 for i in [-4,3,1,-9,2]]"
      ],
      "execution_count": 0,
      "outputs": [
        {
          "output_type": "execute_result",
          "data": {
            "text/plain": [
              "[-3, 4, 2, -8, 3]"
            ]
          },
          "metadata": {
            "tags": []
          },
          "execution_count": 29
        }
      ]
    },
    {
      "cell_type": "code",
      "metadata": {
        "id": "Gk52wgqv-PLg",
        "colab_type": "code",
        "outputId": "b5c627ad-e213-48aa-dc50-f1b7edf0ec2a",
        "colab": {
          "base_uri": "https://localhost:8080/",
          "height": 34
        }
      },
      "source": [
        "[i+0 if i>0 else i+1 for i in [-4,3,1,-9,2]]"
      ],
      "execution_count": 0,
      "outputs": [
        {
          "output_type": "execute_result",
          "data": {
            "text/plain": [
              "[-3, 3, 1, -8, 2]"
            ]
          },
          "metadata": {
            "tags": []
          },
          "execution_count": 30
        }
      ]
    },
    {
      "cell_type": "code",
      "metadata": {
        "id": "ia4nlz6z-VUY",
        "colab_type": "code",
        "outputId": "fd0b5d03-ebb9-462f-8b92-e66465b62a77",
        "colab": {
          "base_uri": "https://localhost:8080/",
          "height": 34
        }
      },
      "source": [
        "[i+2 if i>0 else i+1 for i in [-4,3,1,-9,2]]"
      ],
      "execution_count": 0,
      "outputs": [
        {
          "output_type": "execute_result",
          "data": {
            "text/plain": [
              "[-3, 5, 3, -8, 4]"
            ]
          },
          "metadata": {
            "tags": []
          },
          "execution_count": 31
        }
      ]
    },
    {
      "cell_type": "code",
      "metadata": {
        "id": "fB28ftdM-ZE4",
        "colab_type": "code",
        "outputId": "292f4dbd-c2ed-4bc8-ae51-b0cfd9bd7840",
        "colab": {
          "base_uri": "https://localhost:8080/",
          "height": 34
        }
      },
      "source": [
        "[i+3 if i>0 else i+1 for i in [-4,3,1,-9,2]]"
      ],
      "execution_count": 0,
      "outputs": [
        {
          "output_type": "execute_result",
          "data": {
            "text/plain": [
              "[-3, 6, 4, -8, 5]"
            ]
          },
          "metadata": {
            "tags": []
          },
          "execution_count": 32
        }
      ]
    },
    {
      "cell_type": "markdown",
      "metadata": {
        "id": "69TEnj4q-hGk",
        "colab_type": "text"
      },
      "source": [
        "####3.2.3 位置参数和关键字参数\n",
        "位置参数 ( positional argument ) 和关键字参数( keyword argument ) "
      ]
    },
    {
      "cell_type": "code",
      "metadata": {
        "id": "XqkuYa-I_Q6Q",
        "colab_type": "code",
        "colab": {}
      },
      "source": [
        "def fun(*args, **kwargs): \n",
        "    print(args,kwargs)"
      ],
      "execution_count": 0,
      "outputs": []
    },
    {
      "cell_type": "markdown",
      "metadata": {
        "id": "Wh_ZO6h5-hFL",
        "colab_type": "text"
      },
      "source": [
        "\n",
        "`*args`表示位置参数，`**kwargs`表示关键字参数\n",
        "\n"
      ]
    },
    {
      "cell_type": "code",
      "metadata": {
        "id": "-yX2Eghy_Y13",
        "colab_type": "code",
        "outputId": "2208ca74-2168-457b-80db-bed43bf2778a",
        "colab": {
          "base_uri": "https://localhost:8080/",
          "height": 34
        }
      },
      "source": [
        "fun([4,3,1],name = 'gz', color = 'red') "
      ],
      "execution_count": 0,
      "outputs": [
        {
          "output_type": "stream",
          "text": [
            "([4, 3, 1],) {'name': 'gz', 'color': 'red'}\n"
          ],
          "name": "stdout"
        }
      ]
    },
    {
      "cell_type": "markdown",
      "metadata": {
        "id": "5j6ZjzTi_pkp",
        "colab_type": "text"
      },
      "source": [
        "*位置参数不能位于关键字参数后面*\n",
        "***\n",
        "***"
      ]
    },
    {
      "cell_type": "markdown",
      "metadata": {
        "id": "ZwlwJXaH_5vG",
        "colab_type": "text"
      },
      "source": [
        "#NumPy 入门必备知识"
      ]
    },
    {
      "cell_type": "markdown",
      "metadata": {
        "id": "H63VHDAzAEZD",
        "colab_type": "text"
      },
      "source": [
        "###4.1 ndarray 对象"
      ]
    },
    {
      "cell_type": "code",
      "metadata": {
        "id": "6mCiVR8eAI9m",
        "colab_type": "code",
        "colab": {}
      },
      "source": [
        "import numpy as np"
      ],
      "execution_count": 0,
      "outputs": []
    },
    {
      "cell_type": "code",
      "metadata": {
        "id": "iZa1DbojAO8E",
        "colab_type": "code",
        "outputId": "81702139-69d3-4aa1-c02a-836679b2c183",
        "colab": {
          "base_uri": "https://localhost:8080/",
          "height": 34
        }
      },
      "source": [
        "n1d = np.array([1,4,5])\n",
        "n1d"
      ],
      "execution_count": 0,
      "outputs": [
        {
          "output_type": "execute_result",
          "data": {
            "text/plain": [
              "array([1, 4, 5])"
            ]
          },
          "metadata": {
            "tags": []
          },
          "execution_count": 37
        }
      ]
    },
    {
      "cell_type": "code",
      "metadata": {
        "id": "Jx7XYN83AeBU",
        "colab_type": "code",
        "outputId": "9cfd00e8-0066-47a3-99bd-f0e8dfbe0b7a",
        "colab": {
          "base_uri": "https://localhost:8080/",
          "height": 34
        }
      },
      "source": [
        "[1,4,5]*3"
      ],
      "execution_count": 0,
      "outputs": [
        {
          "output_type": "execute_result",
          "data": {
            "text/plain": [
              "[1, 4, 5, 1, 4, 5, 1, 4, 5]"
            ]
          },
          "metadata": {
            "tags": []
          },
          "execution_count": 38
        }
      ]
    },
    {
      "cell_type": "code",
      "metadata": {
        "id": "GZwuHCIwAfGD",
        "colab_type": "code",
        "outputId": "beab4f6e-408f-4781-ffb1-1c86f839112d",
        "colab": {
          "base_uri": "https://localhost:8080/",
          "height": 34
        }
      },
      "source": [
        "n1d*3"
      ],
      "execution_count": 0,
      "outputs": [
        {
          "output_type": "execute_result",
          "data": {
            "text/plain": [
              "array([ 3, 12, 15])"
            ]
          },
          "metadata": {
            "tags": []
          },
          "execution_count": 39
        }
      ]
    },
    {
      "cell_type": "code",
      "metadata": {
        "id": "D8tLWtHeAlgB",
        "colab_type": "code",
        "outputId": "aba42f6e-1739-419e-feaf-21805a3ba3c8",
        "colab": {
          "base_uri": "https://localhost:8080/",
          "height": 34
        }
      },
      "source": [
        "[i*3 for i in [1,4,5]]"
      ],
      "execution_count": 0,
      "outputs": [
        {
          "output_type": "execute_result",
          "data": {
            "text/plain": [
              "[3, 12, 15]"
            ]
          },
          "metadata": {
            "tags": []
          },
          "execution_count": 40
        }
      ]
    },
    {
      "cell_type": "markdown",
      "metadata": {
        "id": "zZgJTPGPAqjw",
        "colab_type": "text"
      },
      "source": [
        "###4.2 NumPy 的向量化增强\n",
        "linspace 默认线性切分 50 份，且默认包含边界值"
      ]
    },
    {
      "cell_type": "code",
      "metadata": {
        "id": "Td3IbJQKA1e1",
        "colab_type": "code",
        "outputId": "0de0234d-1b8f-4808-9b88-1533ca3e56f8",
        "colab": {
          "base_uri": "https://localhost:8080/",
          "height": 207
        }
      },
      "source": [
        "b = np.linspace(0,10)\n",
        "b"
      ],
      "execution_count": 0,
      "outputs": [
        {
          "output_type": "execute_result",
          "data": {
            "text/plain": [
              "array([ 0.        ,  0.20408163,  0.40816327,  0.6122449 ,  0.81632653,\n",
              "        1.02040816,  1.2244898 ,  1.42857143,  1.63265306,  1.83673469,\n",
              "        2.04081633,  2.24489796,  2.44897959,  2.65306122,  2.85714286,\n",
              "        3.06122449,  3.26530612,  3.46938776,  3.67346939,  3.87755102,\n",
              "        4.08163265,  4.28571429,  4.48979592,  4.69387755,  4.89795918,\n",
              "        5.10204082,  5.30612245,  5.51020408,  5.71428571,  5.91836735,\n",
              "        6.12244898,  6.32653061,  6.53061224,  6.73469388,  6.93877551,\n",
              "        7.14285714,  7.34693878,  7.55102041,  7.75510204,  7.95918367,\n",
              "        8.16326531,  8.36734694,  8.57142857,  8.7755102 ,  8.97959184,\n",
              "        9.18367347,  9.3877551 ,  9.59183673,  9.79591837, 10.        ])"
            ]
          },
          "metadata": {
            "tags": []
          },
          "execution_count": 41
        }
      ]
    },
    {
      "cell_type": "code",
      "metadata": {
        "id": "wEPBRaliA65-",
        "colab_type": "code",
        "outputId": "c63c77de-a89e-4e0d-d868-14298e8cf4b4",
        "colab": {
          "base_uri": "https://localhost:8080/",
          "height": 207
        }
      },
      "source": [
        "b + 1"
      ],
      "execution_count": 0,
      "outputs": [
        {
          "output_type": "execute_result",
          "data": {
            "text/plain": [
              "array([ 1.        ,  1.20408163,  1.40816327,  1.6122449 ,  1.81632653,\n",
              "        2.02040816,  2.2244898 ,  2.42857143,  2.63265306,  2.83673469,\n",
              "        3.04081633,  3.24489796,  3.44897959,  3.65306122,  3.85714286,\n",
              "        4.06122449,  4.26530612,  4.46938776,  4.67346939,  4.87755102,\n",
              "        5.08163265,  5.28571429,  5.48979592,  5.69387755,  5.89795918,\n",
              "        6.10204082,  6.30612245,  6.51020408,  6.71428571,  6.91836735,\n",
              "        7.12244898,  7.32653061,  7.53061224,  7.73469388,  7.93877551,\n",
              "        8.14285714,  8.34693878,  8.55102041,  8.75510204,  8.95918367,\n",
              "        9.16326531,  9.36734694,  9.57142857,  9.7755102 ,  9.97959184,\n",
              "       10.18367347, 10.3877551 , 10.59183673, 10.79591837, 11.        ])"
            ]
          },
          "metadata": {
            "tags": []
          },
          "execution_count": 42
        }
      ]
    },
    {
      "cell_type": "markdown",
      "metadata": {
        "id": "IHuJRoHQBGf-",
        "colab_type": "text"
      },
      "source": [
        "#####增强 myabs 函数功能，使之具备处理 list 的能力\n",
        "NumPy 的向量化函数 vectorize"
      ]
    },
    {
      "cell_type": "code",
      "metadata": {
        "id": "EwGNi2zqBH0K",
        "colab_type": "code",
        "outputId": "0f6cb7ed-9442-4fb7-de1d-28f0052e58a8",
        "colab": {
          "base_uri": "https://localhost:8080/",
          "height": 34
        }
      },
      "source": [
        "def myabs(a):\n",
        "    return abs(a)\n",
        "zq_myabs = np.vectorize(myabs)\n",
        "zq_myabs([1,3,-5])"
      ],
      "execution_count": 0,
      "outputs": [
        {
          "output_type": "execute_result",
          "data": {
            "text/plain": [
              "array([1, 3, 5])"
            ]
          },
          "metadata": {
            "tags": []
          },
          "execution_count": 45
        }
      ]
    },
    {
      "cell_type": "markdown",
      "metadata": {
        "id": "7GI4U0EnBuu-",
        "colab_type": "text"
      },
      "source": [
        "###4.3 NumPy 的传播机制\n",
        "1.如果两个数组的末尾维度（trailing dimension)的长度相符  \n",
        "2.参与计算的某个维度长度为 1\n",
        "广播会在缺失和（或）长度为 1 的维度上进行\n"
      ]
    },
    {
      "cell_type": "code",
      "metadata": {
        "id": "0Yc_84eLCOny",
        "colab_type": "code",
        "outputId": "c3ff2d18-62e2-4c35-c909-7507e8bb44c0",
        "colab": {
          "base_uri": "https://localhost:8080/",
          "height": 68
        }
      },
      "source": [
        "a = np.array([[1],[-5],[3]]) \n",
        "b = np.array([[5,2,4,9]]) \n",
        "a + b"
      ],
      "execution_count": 0,
      "outputs": [
        {
          "output_type": "execute_result",
          "data": {
            "text/plain": [
              "array([[ 6,  3,  5, 10],\n",
              "       [ 0, -3, -1,  4],\n",
              "       [ 8,  5,  7, 12]])"
            ]
          },
          "metadata": {
            "tags": []
          },
          "execution_count": 46
        }
      ]
    },
    {
      "cell_type": "code",
      "metadata": {
        "id": "M0_gWLRqCOpk",
        "colab_type": "code",
        "outputId": "8dab381f-1fa6-4418-8d17-b12b36aadeed",
        "colab": {
          "base_uri": "https://localhost:8080/",
          "height": 34
        }
      },
      "source": [
        "a.shape"
      ],
      "execution_count": 0,
      "outputs": [
        {
          "output_type": "execute_result",
          "data": {
            "text/plain": [
              "(3, 1)"
            ]
          },
          "metadata": {
            "tags": []
          },
          "execution_count": 47
        }
      ]
    },
    {
      "cell_type": "code",
      "metadata": {
        "id": "UfCPEuWwCa0c",
        "colab_type": "code",
        "outputId": "99b25c3e-df50-420d-9598-41f8261240f1",
        "colab": {
          "base_uri": "https://localhost:8080/",
          "height": 34
        }
      },
      "source": [
        "b.shape"
      ],
      "execution_count": 0,
      "outputs": [
        {
          "output_type": "execute_result",
          "data": {
            "text/plain": [
              "(1, 4)"
            ]
          },
          "metadata": {
            "tags": []
          },
          "execution_count": 48
        }
      ]
    },
    {
      "cell_type": "markdown",
      "metadata": {
        "id": "wmftXBLaDPkc",
        "colab_type": "text"
      },
      "source": [
        "***\n",
        "***"
      ]
    },
    {
      "cell_type": "markdown",
      "metadata": {
        "id": "ZQyEUkznDRZ8",
        "colab_type": "text"
      },
      "source": [
        "#Pandas 数据分析必备入门知识\n"
      ]
    },
    {
      "cell_type": "markdown",
      "metadata": {
        "id": "SfL6ECm4DWmu",
        "colab_type": "text"
      },
      "source": [
        "###5.1 类一维数组 Series\n",
        "Series 是 pandas 两大数据结构中（DataFrame，Series）的一种。  \n",
        "Series 是一种类似于一维数组的对象，它由一组数据（各种 NumPy 数据类型）以及一组与之相关的数据标签和索引组成。  \n",
        "Series 对象也是一个 NumPy 的数组，因此 NumPy 的数组处理函数可以直接对 Series 进行处理。  \n",
        "Series 除了可以使用位置索引作为下标存取元素之外，还可以使用标签下标存取元素。"
      ]
    },
    {
      "cell_type": "markdown",
      "metadata": {
        "id": "g4qSpVbVEcAR",
        "colab_type": "text"
      },
      "source": [
        "#####每个 Series 对象都由两个数组组成\n",
        "1. index：它是从 NumPy 数组继承的 Index 对象，保存标签信息。  \n",
        "2. values：保存值的 NumPy 数组。"
      ]
    },
    {
      "cell_type": "markdown",
      "metadata": {
        "id": "B-06j8RCElVr",
        "colab_type": "text"
      },
      "source": [
        "####5.1.1 创建 Series\n",
        "\n",
        "\n",
        "```\n",
        "Series(data=None, index=None, dtype=None, name=None)\n",
        "```\n",
        "data 为数据部分，index 为标签部分，省略下默认为自增整数索引，dtype 为 str, numpy.dtype, or **ExtensionDtype**\n",
        "\n"
      ]
    },
    {
      "cell_type": "markdown",
      "metadata": {
        "id": "7yKiAcQDF3dv",
        "colab_type": "text"
      },
      "source": [
        "创建一个 series"
      ]
    },
    {
      "cell_type": "code",
      "metadata": {
        "id": "mzvan1G5GL5b",
        "colab_type": "code",
        "outputId": "2bd057db-8cb9-4308-8416-b288b2d01283",
        "colab": {
          "base_uri": "https://localhost:8080/",
          "height": 85
        }
      },
      "source": [
        "import pandas as pd\n",
        "ps = pd.Series(data=[-3,2,1],index=['a','f','b'],dtype=np.float32)\n",
        "ps"
      ],
      "execution_count": 0,
      "outputs": [
        {
          "output_type": "execute_result",
          "data": {
            "text/plain": [
              "a   -3.0\n",
              "f    2.0\n",
              "b    1.0\n",
              "dtype: float32"
            ]
          },
          "metadata": {
            "tags": []
          },
          "execution_count": 51
        }
      ]
    },
    {
      "cell_type": "markdown",
      "metadata": {
        "id": "A8WZO8LNHsiS",
        "colab_type": "text"
      },
      "source": [
        "####5.1.2 增加元素\n",
        "在 ps 基础上增加一个元素，使用 append"
      ]
    },
    {
      "cell_type": "code",
      "metadata": {
        "id": "BfqQNNYbH7up",
        "colab_type": "code",
        "outputId": "bb4548d2-47e4-4541-a2df-0035b61dcc78",
        "colab": {
          "base_uri": "https://localhost:8080/",
          "height": 102
        }
      },
      "source": [
        "ps.append(pd.Series(data=[-8.0],index=['f']))"
      ],
      "execution_count": 0,
      "outputs": [
        {
          "output_type": "execute_result",
          "data": {
            "text/plain": [
              "a   -3.0\n",
              "f    2.0\n",
              "b    1.0\n",
              "f   -8.0\n",
              "dtype: float64"
            ]
          },
          "metadata": {
            "tags": []
          },
          "execution_count": 52
        }
      ]
    },
    {
      "cell_type": "markdown",
      "metadata": {
        "id": "F_Xe2CbfIDs9",
        "colab_type": "text"
      },
      "source": [
        "Pandas 允许包含重复的标签"
      ]
    },
    {
      "cell_type": "code",
      "metadata": {
        "id": "pKe7i0bZII_s",
        "colab_type": "code",
        "outputId": "b61fb534-2d8c-4892-d338-61cf1009cfc1",
        "colab": {
          "base_uri": "https://localhost:8080/",
          "height": 102
        }
      },
      "source": [
        "psn = ps.append(pd.Series(data=[-8.0],index=['f']))\n",
        "psn"
      ],
      "execution_count": 0,
      "outputs": [
        {
          "output_type": "execute_result",
          "data": {
            "text/plain": [
              "a   -3.0\n",
              "f    2.0\n",
              "b    1.0\n",
              "f   -8.0\n",
              "dtype: float64"
            ]
          },
          "metadata": {
            "tags": []
          },
          "execution_count": 54
        }
      ]
    },
    {
      "cell_type": "code",
      "metadata": {
        "id": "069eqnZoISw1",
        "colab_type": "code",
        "outputId": "58eba591-bf3b-47f3-876d-90070f9f61f3",
        "colab": {
          "base_uri": "https://localhost:8080/",
          "height": 68
        }
      },
      "source": [
        "psn['f']"
      ],
      "execution_count": 0,
      "outputs": [
        {
          "output_type": "execute_result",
          "data": {
            "text/plain": [
              "f    2.0\n",
              "f   -8.0\n",
              "dtype: float64"
            ]
          },
          "metadata": {
            "tags": []
          },
          "execution_count": 55
        }
      ]
    },
    {
      "cell_type": "markdown",
      "metadata": {
        "id": "tUvEP2LRIWgp",
        "colab_type": "text"
      },
      "source": [
        "利用标签访问元素，返回所有带标签的数据"
      ]
    },
    {
      "cell_type": "markdown",
      "metadata": {
        "id": "XbOfXS3iIXuu",
        "colab_type": "text"
      },
      "source": [
        "####5.1.3 删除元素\n",
        "使用 drop 删除指定标签的数据"
      ]
    },
    {
      "cell_type": "code",
      "metadata": {
        "id": "a_LyL_9JJYTd",
        "colab_type": "code",
        "outputId": "52453aeb-9162-48eb-c7eb-65a40cbd6af8",
        "colab": {
          "base_uri": "https://localhost:8080/",
          "height": 85
        }
      },
      "source": [
        "ps"
      ],
      "execution_count": 0,
      "outputs": [
        {
          "output_type": "execute_result",
          "data": {
            "text/plain": [
              "a   -3.0\n",
              "f    2.0\n",
              "b    1.0\n",
              "dtype: float32"
            ]
          },
          "metadata": {
            "tags": []
          },
          "execution_count": 56
        }
      ]
    },
    {
      "cell_type": "code",
      "metadata": {
        "id": "06rmHm-xJdOp",
        "colab_type": "code",
        "outputId": "5fe1b0eb-1527-4abd-e463-f86158abbe16",
        "colab": {
          "base_uri": "https://localhost:8080/",
          "height": 68
        }
      },
      "source": [
        "psd = ps.drop('f')\n",
        "psd"
      ],
      "execution_count": 0,
      "outputs": [
        {
          "output_type": "execute_result",
          "data": {
            "text/plain": [
              "a   -3.0\n",
              "b    1.0\n",
              "dtype: float32"
            ]
          },
          "metadata": {
            "tags": []
          },
          "execution_count": 57
        }
      ]
    },
    {
      "cell_type": "markdown",
      "metadata": {
        "id": "aBL-AbwgJnXE",
        "colab_type": "text"
      },
      "source": [
        "*不管是 append 操作，还是 drop 操作，都是发生在原数据的副本上*"
      ]
    },
    {
      "cell_type": "markdown",
      "metadata": {
        "id": "pA9rPB9RJrOU",
        "colab_type": "text"
      },
      "source": [
        "####5.1.3 修改元素\n",
        "改数据，直接通过修改的标签，更新对应的数据"
      ]
    },
    {
      "cell_type": "code",
      "metadata": {
        "id": "Hy-Z2jkfJwk6",
        "colab_type": "code",
        "outputId": "d60b4c10-f594-4499-d236-0b3ebfc10713",
        "colab": {
          "base_uri": "https://localhost:8080/",
          "height": 102
        }
      },
      "source": [
        "psn"
      ],
      "execution_count": 0,
      "outputs": [
        {
          "output_type": "execute_result",
          "data": {
            "text/plain": [
              "a   -3.0\n",
              "f    2.0\n",
              "b    1.0\n",
              "f   -8.0\n",
              "dtype: float64"
            ]
          },
          "metadata": {
            "tags": []
          },
          "execution_count": 58
        }
      ]
    },
    {
      "cell_type": "code",
      "metadata": {
        "id": "lxehdTGgJ1uC",
        "colab_type": "code",
        "outputId": "5ae3c89b-962a-4041-bdef-4feb51f67dde",
        "colab": {
          "base_uri": "https://localhost:8080/",
          "height": 102
        }
      },
      "source": [
        "psn['f'] = 10.0\n",
        "psn"
      ],
      "execution_count": 0,
      "outputs": [
        {
          "output_type": "execute_result",
          "data": {
            "text/plain": [
              "a    -3.0\n",
              "f    10.0\n",
              "b     1.0\n",
              "f    10.0\n",
              "dtype: float64"
            ]
          },
          "metadata": {
            "tags": []
          },
          "execution_count": 59
        }
      ]
    },
    {
      "cell_type": "markdown",
      "metadata": {
        "id": "iiV3n97VJ5aB",
        "colab_type": "text"
      },
      "source": [
        "####5.1.4 访问元素\n",
        "Pandas 提供两种方法  \n",
        "1.通过默认的整数索引，或者在 Series 对象未被显示的指定 label 时，都是通过索引访问  \n",
        "2.通过标签访问"
      ]
    },
    {
      "cell_type": "code",
      "metadata": {
        "id": "Q16wjjNXKNMq",
        "colab_type": "code",
        "outputId": "ce363396-71f4-4e29-d8b1-893fbb9fa61c",
        "colab": {
          "base_uri": "https://localhost:8080/",
          "height": 85
        }
      },
      "source": [
        "ps"
      ],
      "execution_count": 0,
      "outputs": [
        {
          "output_type": "execute_result",
          "data": {
            "text/plain": [
              "a   -3.0\n",
              "f    2.0\n",
              "b    1.0\n",
              "dtype: float32"
            ]
          },
          "metadata": {
            "tags": []
          },
          "execution_count": 60
        }
      ]
    },
    {
      "cell_type": "code",
      "metadata": {
        "id": "N9BTrdRNKRGA",
        "colab_type": "code",
        "outputId": "43f37ceb-82bd-4d08-89b6-3d6aadde7851",
        "colab": {
          "base_uri": "https://localhost:8080/",
          "height": 34
        }
      },
      "source": [
        "ps[2]"
      ],
      "execution_count": 0,
      "outputs": [
        {
          "output_type": "execute_result",
          "data": {
            "text/plain": [
              "1.0"
            ]
          },
          "metadata": {
            "tags": []
          },
          "execution_count": 61
        }
      ]
    },
    {
      "cell_type": "code",
      "metadata": {
        "id": "YR8oMq6WKUTU",
        "colab_type": "code",
        "outputId": "524d288e-95c1-478f-ee3e-b4a90a4f6eff",
        "colab": {
          "base_uri": "https://localhost:8080/",
          "height": 34
        }
      },
      "source": [
        "ps['b']"
      ],
      "execution_count": 0,
      "outputs": [
        {
          "output_type": "execute_result",
          "data": {
            "text/plain": [
              "1.0"
            ]
          },
          "metadata": {
            "tags": []
          },
          "execution_count": 62
        }
      ]
    },
    {
      "cell_type": "markdown",
      "metadata": {
        "id": "sLQOXn2UKaA8",
        "colab_type": "text"
      },
      "source": [
        "###5.2 类二维数组 DataFrame\n",
        "DataFrame 是 Pandas 的两个重要数据结构的另一个，可以看做是 Series 的容器。  \n"
      ]
    },
    {
      "cell_type": "markdown",
      "metadata": {
        "id": "2IbdJEA8KqEz",
        "colab_type": "text"
      },
      "source": [
        "DataFrame 同时具有行、列标签，是二维的数组，行方向轴 axis 为 0, 列方向 axis 为 1\n",
        "\n",
        "\n",
        "```\n",
        "axis : {0 or 'index', 1 or 'columns'}\n",
        "```\n",
        "\n"
      ]
    },
    {
      "cell_type": "markdown",
      "metadata": {
        "id": "QkauOyyUKxuI",
        "colab_type": "text"
      },
      "source": [
        "####5.2.1 创建 DataFrame\n",
        "\n",
        "\n",
        "```\n",
        "DataFrame(data=None, index=None, columns=None, dtype=None, copy=False)\n",
        "```\n",
        "\n"
      ]
    },
    {
      "cell_type": "code",
      "metadata": {
        "id": "IrCG2mcNK51I",
        "colab_type": "code",
        "outputId": "3d25d6a9-6201-4d01-bfd0-1205f0d435e2",
        "colab": {
          "base_uri": "https://localhost:8080/",
          "height": 111
        }
      },
      "source": [
        "df = pd.DataFrame([['gz',4.0,'2019-01-01'],['lg',1.2,'2019-06-01']],index = ['a','f'], columns = ['nm', 'y','da'])                          \n",
        "df"
      ],
      "execution_count": 0,
      "outputs": [
        {
          "output_type": "execute_result",
          "data": {
            "text/html": [
              "<div>\n",
              "<style scoped>\n",
              "    .dataframe tbody tr th:only-of-type {\n",
              "        vertical-align: middle;\n",
              "    }\n",
              "\n",
              "    .dataframe tbody tr th {\n",
              "        vertical-align: top;\n",
              "    }\n",
              "\n",
              "    .dataframe thead th {\n",
              "        text-align: right;\n",
              "    }\n",
              "</style>\n",
              "<table border=\"1\" class=\"dataframe\">\n",
              "  <thead>\n",
              "    <tr style=\"text-align: right;\">\n",
              "      <th></th>\n",
              "      <th>nm</th>\n",
              "      <th>y</th>\n",
              "      <th>da</th>\n",
              "    </tr>\n",
              "  </thead>\n",
              "  <tbody>\n",
              "    <tr>\n",
              "      <th>a</th>\n",
              "      <td>gz</td>\n",
              "      <td>4.0</td>\n",
              "      <td>2019-01-01</td>\n",
              "    </tr>\n",
              "    <tr>\n",
              "      <th>f</th>\n",
              "      <td>lg</td>\n",
              "      <td>1.2</td>\n",
              "      <td>2019-06-01</td>\n",
              "    </tr>\n",
              "  </tbody>\n",
              "</table>\n",
              "</div>"
            ],
            "text/plain": [
              "   nm    y          da\n",
              "a  gz  4.0  2019-01-01\n",
              "f  lg  1.2  2019-06-01"
            ]
          },
          "metadata": {
            "tags": []
          },
          "execution_count": 63
        }
      ]
    },
    {
      "cell_type": "markdown",
      "metadata": {
        "id": "KhhSxUZqLGYD",
        "colab_type": "text"
      },
      "source": [
        "可以通过字典传入，得到一样的数据框"
      ]
    },
    {
      "cell_type": "code",
      "metadata": {
        "id": "0zxqoXndLHu4",
        "colab_type": "code",
        "outputId": "22361cbf-4ae8-4ce5-b1da-a2e3cbf1b00e",
        "colab": {
          "base_uri": "https://localhost:8080/",
          "height": 111
        }
      },
      "source": [
        "df2 = pd.DataFrame({'nm':['gz','lg'],'y':[4.0,1.2], 'da':['2019-01-01', '2019-06-01']},index = ['a','f']) \n",
        "df2"
      ],
      "execution_count": 0,
      "outputs": [
        {
          "output_type": "execute_result",
          "data": {
            "text/html": [
              "<div>\n",
              "<style scoped>\n",
              "    .dataframe tbody tr th:only-of-type {\n",
              "        vertical-align: middle;\n",
              "    }\n",
              "\n",
              "    .dataframe tbody tr th {\n",
              "        vertical-align: top;\n",
              "    }\n",
              "\n",
              "    .dataframe thead th {\n",
              "        text-align: right;\n",
              "    }\n",
              "</style>\n",
              "<table border=\"1\" class=\"dataframe\">\n",
              "  <thead>\n",
              "    <tr style=\"text-align: right;\">\n",
              "      <th></th>\n",
              "      <th>nm</th>\n",
              "      <th>y</th>\n",
              "      <th>da</th>\n",
              "    </tr>\n",
              "  </thead>\n",
              "  <tbody>\n",
              "    <tr>\n",
              "      <th>a</th>\n",
              "      <td>gz</td>\n",
              "      <td>4.0</td>\n",
              "      <td>2019-01-01</td>\n",
              "    </tr>\n",
              "    <tr>\n",
              "      <th>f</th>\n",
              "      <td>lg</td>\n",
              "      <td>1.2</td>\n",
              "      <td>2019-06-01</td>\n",
              "    </tr>\n",
              "  </tbody>\n",
              "</table>\n",
              "</div>"
            ],
            "text/plain": [
              "   nm    y          da\n",
              "a  gz  4.0  2019-01-01\n",
              "f  lg  1.2  2019-06-01"
            ]
          },
          "metadata": {
            "tags": []
          },
          "execution_count": 64
        }
      ]
    },
    {
      "cell_type": "markdown",
      "metadata": {
        "id": "OXM-1sfCLWd0",
        "colab_type": "text"
      },
      "source": [
        "####5.2.2 增加数据"
      ]
    },
    {
      "cell_type": "code",
      "metadata": {
        "id": "UaLi65VoLc6V",
        "colab_type": "code",
        "outputId": "6191aa9c-ecda-494c-8b54-41296d85dd68",
        "colab": {
          "base_uri": "https://localhost:8080/",
          "height": 142
        }
      },
      "source": [
        "dfn = df.append(pd.Series(data=['zx',3.6,'2019-05-01'],index=['nm','y','da'],name='b'))\n",
        "dfn"
      ],
      "execution_count": 0,
      "outputs": [
        {
          "output_type": "execute_result",
          "data": {
            "text/html": [
              "<div>\n",
              "<style scoped>\n",
              "    .dataframe tbody tr th:only-of-type {\n",
              "        vertical-align: middle;\n",
              "    }\n",
              "\n",
              "    .dataframe tbody tr th {\n",
              "        vertical-align: top;\n",
              "    }\n",
              "\n",
              "    .dataframe thead th {\n",
              "        text-align: right;\n",
              "    }\n",
              "</style>\n",
              "<table border=\"1\" class=\"dataframe\">\n",
              "  <thead>\n",
              "    <tr style=\"text-align: right;\">\n",
              "      <th></th>\n",
              "      <th>nm</th>\n",
              "      <th>y</th>\n",
              "      <th>da</th>\n",
              "    </tr>\n",
              "  </thead>\n",
              "  <tbody>\n",
              "    <tr>\n",
              "      <th>a</th>\n",
              "      <td>gz</td>\n",
              "      <td>4.0</td>\n",
              "      <td>2019-01-01</td>\n",
              "    </tr>\n",
              "    <tr>\n",
              "      <th>f</th>\n",
              "      <td>lg</td>\n",
              "      <td>1.2</td>\n",
              "      <td>2019-06-01</td>\n",
              "    </tr>\n",
              "    <tr>\n",
              "      <th>b</th>\n",
              "      <td>zx</td>\n",
              "      <td>3.6</td>\n",
              "      <td>2019-05-01</td>\n",
              "    </tr>\n",
              "  </tbody>\n",
              "</table>\n",
              "</div>"
            ],
            "text/plain": [
              "   nm    y          da\n",
              "a  gz  4.0  2019-01-01\n",
              "f  lg  1.2  2019-06-01\n",
              "b  zx  3.6  2019-05-01"
            ]
          },
          "metadata": {
            "tags": []
          },
          "execution_count": 91
        }
      ]
    },
    {
      "cell_type": "markdown",
      "metadata": {
        "id": "aPOcqoWiLqZn",
        "colab_type": "text"
      },
      "source": [
        "Series 的 index 与数据框的 column 对齐，name 与数据框的 index 对齐"
      ]
    },
    {
      "cell_type": "markdown",
      "metadata": {
        "id": "nnSVljbkLt3v",
        "colab_type": "text"
      },
      "source": [
        "####5.2.3 删除数据\n"
      ]
    },
    {
      "cell_type": "code",
      "metadata": {
        "id": "F0cgc3X0LzLf",
        "colab_type": "code",
        "outputId": "39b24b4b-fce1-4778-8777-3dce040d97dc",
        "colab": {
          "base_uri": "https://localhost:8080/",
          "height": 111
        }
      },
      "source": [
        "dfn.drop('b')"
      ],
      "execution_count": 0,
      "outputs": [
        {
          "output_type": "execute_result",
          "data": {
            "text/html": [
              "<div>\n",
              "<style scoped>\n",
              "    .dataframe tbody tr th:only-of-type {\n",
              "        vertical-align: middle;\n",
              "    }\n",
              "\n",
              "    .dataframe tbody tr th {\n",
              "        vertical-align: top;\n",
              "    }\n",
              "\n",
              "    .dataframe thead th {\n",
              "        text-align: right;\n",
              "    }\n",
              "</style>\n",
              "<table border=\"1\" class=\"dataframe\">\n",
              "  <thead>\n",
              "    <tr style=\"text-align: right;\">\n",
              "      <th></th>\n",
              "      <th>nm</th>\n",
              "      <th>y</th>\n",
              "      <th>da</th>\n",
              "    </tr>\n",
              "  </thead>\n",
              "  <tbody>\n",
              "    <tr>\n",
              "      <th>a</th>\n",
              "      <td>gz</td>\n",
              "      <td>4.0</td>\n",
              "      <td>2019-01-01</td>\n",
              "    </tr>\n",
              "    <tr>\n",
              "      <th>f</th>\n",
              "      <td>lg</td>\n",
              "      <td>1.2</td>\n",
              "      <td>2019-06-01</td>\n",
              "    </tr>\n",
              "  </tbody>\n",
              "</table>\n",
              "</div>"
            ],
            "text/plain": [
              "   nm    y          da\n",
              "a  gz  4.0  2019-01-01\n",
              "f  lg  1.2  2019-06-01"
            ]
          },
          "metadata": {
            "tags": []
          },
          "execution_count": 92
        }
      ]
    },
    {
      "cell_type": "markdown",
      "metadata": {
        "id": "zRoIIXaNL10G",
        "colab_type": "text"
      },
      "source": [
        "如果要删除某列，需要设定 axis 为 1,"
      ]
    },
    {
      "cell_type": "code",
      "metadata": {
        "id": "19LqUN-OL3qz",
        "colab_type": "code",
        "outputId": "293b8d7f-c05b-4b41-a1f7-d75cc9e52430",
        "colab": {
          "base_uri": "https://localhost:8080/",
          "height": 142
        }
      },
      "source": [
        "In [147]: dfn.drop('y',axis=1)"
      ],
      "execution_count": 0,
      "outputs": [
        {
          "output_type": "execute_result",
          "data": {
            "text/html": [
              "<div>\n",
              "<style scoped>\n",
              "    .dataframe tbody tr th:only-of-type {\n",
              "        vertical-align: middle;\n",
              "    }\n",
              "\n",
              "    .dataframe tbody tr th {\n",
              "        vertical-align: top;\n",
              "    }\n",
              "\n",
              "    .dataframe thead th {\n",
              "        text-align: right;\n",
              "    }\n",
              "</style>\n",
              "<table border=\"1\" class=\"dataframe\">\n",
              "  <thead>\n",
              "    <tr style=\"text-align: right;\">\n",
              "      <th></th>\n",
              "      <th>nm</th>\n",
              "      <th>da</th>\n",
              "    </tr>\n",
              "  </thead>\n",
              "  <tbody>\n",
              "    <tr>\n",
              "      <th>a</th>\n",
              "      <td>gz</td>\n",
              "      <td>2019-01-01</td>\n",
              "    </tr>\n",
              "    <tr>\n",
              "      <th>f</th>\n",
              "      <td>lg</td>\n",
              "      <td>2019-06-01</td>\n",
              "    </tr>\n",
              "    <tr>\n",
              "      <th>b</th>\n",
              "      <td>zx</td>\n",
              "      <td>2019-05-01</td>\n",
              "    </tr>\n",
              "  </tbody>\n",
              "</table>\n",
              "</div>"
            ],
            "text/plain": [
              "   nm          da\n",
              "a  gz  2019-01-01\n",
              "f  lg  2019-06-01\n",
              "b  zx  2019-05-01"
            ]
          },
          "metadata": {
            "tags": []
          },
          "execution_count": 93
        }
      ]
    },
    {
      "cell_type": "markdown",
      "metadata": {
        "id": "Pl5tP22PL-WE",
        "colab_type": "text"
      },
      "source": [
        "####5.2.4 修改数据\n",
        "修改依然是先通过索引或标签定位到数据，然后修改"
      ]
    },
    {
      "cell_type": "code",
      "metadata": {
        "id": "Nt7_mdKFMCy-",
        "colab_type": "code",
        "outputId": "33f8450c-4274-44ca-fa61-c4abf829e934",
        "colab": {
          "base_uri": "https://localhost:8080/",
          "height": 142
        }
      },
      "source": [
        "dfn.loc['a','da']='2019-04-01'\n",
        "dfn "
      ],
      "execution_count": 0,
      "outputs": [
        {
          "output_type": "execute_result",
          "data": {
            "text/html": [
              "<div>\n",
              "<style scoped>\n",
              "    .dataframe tbody tr th:only-of-type {\n",
              "        vertical-align: middle;\n",
              "    }\n",
              "\n",
              "    .dataframe tbody tr th {\n",
              "        vertical-align: top;\n",
              "    }\n",
              "\n",
              "    .dataframe thead th {\n",
              "        text-align: right;\n",
              "    }\n",
              "</style>\n",
              "<table border=\"1\" class=\"dataframe\">\n",
              "  <thead>\n",
              "    <tr style=\"text-align: right;\">\n",
              "      <th></th>\n",
              "      <th>nm</th>\n",
              "      <th>y</th>\n",
              "      <th>da</th>\n",
              "    </tr>\n",
              "  </thead>\n",
              "  <tbody>\n",
              "    <tr>\n",
              "      <th>a</th>\n",
              "      <td>gz</td>\n",
              "      <td>4.0</td>\n",
              "      <td>2019-04-01</td>\n",
              "    </tr>\n",
              "    <tr>\n",
              "      <th>f</th>\n",
              "      <td>lg</td>\n",
              "      <td>1.2</td>\n",
              "      <td>2019-06-01</td>\n",
              "    </tr>\n",
              "    <tr>\n",
              "      <th>b</th>\n",
              "      <td>zx</td>\n",
              "      <td>3.6</td>\n",
              "      <td>2019-05-01</td>\n",
              "    </tr>\n",
              "  </tbody>\n",
              "</table>\n",
              "</div>"
            ],
            "text/plain": [
              "   nm    y          da\n",
              "a  gz  4.0  2019-04-01\n",
              "f  lg  1.2  2019-06-01\n",
              "b  zx  3.6  2019-05-01"
            ]
          },
          "metadata": {
            "tags": []
          },
          "execution_count": 94
        }
      ]
    },
    {
      "cell_type": "markdown",
      "metadata": {
        "id": "PiqJL3svML-d",
        "colab_type": "text"
      },
      "source": [
        "***链式赋值( chained assignment)***"
      ]
    },
    {
      "cell_type": "markdown",
      "metadata": {
        "id": "lePgq8aSMRkX",
        "colab_type": "text"
      },
      "source": [
        "####5.2.5 访问数据\n",
        "Pandas 推荐使用访问接口 iloc、loc访问数据"
      ]
    },
    {
      "cell_type": "code",
      "metadata": {
        "id": "yYaw4bP9MW44",
        "colab_type": "code",
        "outputId": "10bcac4e-5f16-44d5-c195-f9ff848072ed",
        "colab": {
          "base_uri": "https://localhost:8080/",
          "height": 111
        }
      },
      "source": [
        "df"
      ],
      "execution_count": 0,
      "outputs": [
        {
          "output_type": "execute_result",
          "data": {
            "text/html": [
              "<div>\n",
              "<style scoped>\n",
              "    .dataframe tbody tr th:only-of-type {\n",
              "        vertical-align: middle;\n",
              "    }\n",
              "\n",
              "    .dataframe tbody tr th {\n",
              "        vertical-align: top;\n",
              "    }\n",
              "\n",
              "    .dataframe thead th {\n",
              "        text-align: right;\n",
              "    }\n",
              "</style>\n",
              "<table border=\"1\" class=\"dataframe\">\n",
              "  <thead>\n",
              "    <tr style=\"text-align: right;\">\n",
              "      <th></th>\n",
              "      <th>nm</th>\n",
              "      <th>y</th>\n",
              "      <th>da</th>\n",
              "    </tr>\n",
              "  </thead>\n",
              "  <tbody>\n",
              "    <tr>\n",
              "      <th>a</th>\n",
              "      <td>gz</td>\n",
              "      <td>4.0</td>\n",
              "      <td>2019-01-01</td>\n",
              "    </tr>\n",
              "    <tr>\n",
              "      <th>f</th>\n",
              "      <td>lg</td>\n",
              "      <td>1.2</td>\n",
              "      <td>2019-06-01</td>\n",
              "    </tr>\n",
              "  </tbody>\n",
              "</table>\n",
              "</div>"
            ],
            "text/plain": [
              "   nm    y          da\n",
              "a  gz  4.0  2019-01-01\n",
              "f  lg  1.2  2019-06-01"
            ]
          },
          "metadata": {
            "tags": []
          },
          "execution_count": 95
        }
      ]
    },
    {
      "cell_type": "code",
      "metadata": {
        "id": "KEVOzE9mMa4C",
        "colab_type": "code",
        "outputId": "9b1c5b1c-f633-45dd-8e49-4738a9519244",
        "colab": {
          "base_uri": "https://localhost:8080/",
          "height": 85
        }
      },
      "source": [
        "df.iloc[1,:] "
      ],
      "execution_count": 0,
      "outputs": [
        {
          "output_type": "execute_result",
          "data": {
            "text/plain": [
              "nm            lg\n",
              "y            1.2\n",
              "da    2019-06-01\n",
              "Name: f, dtype: object"
            ]
          },
          "metadata": {
            "tags": []
          },
          "execution_count": 96
        }
      ]
    },
    {
      "cell_type": "code",
      "metadata": {
        "id": "5kMnbbc-MgUb",
        "colab_type": "code",
        "outputId": "fbbc13ef-19da-4350-85c7-ece39395c053",
        "colab": {
          "base_uri": "https://localhost:8080/",
          "height": 85
        }
      },
      "source": [
        "df.loc['f',:]"
      ],
      "execution_count": 0,
      "outputs": [
        {
          "output_type": "execute_result",
          "data": {
            "text/plain": [
              "nm            lg\n",
              "y            1.2\n",
              "da    2019-06-01\n",
              "Name: f, dtype: object"
            ]
          },
          "metadata": {
            "tags": []
          },
          "execution_count": 97
        }
      ]
    },
    {
      "cell_type": "code",
      "metadata": {
        "id": "CgCBp4HXMnqp",
        "colab_type": "code",
        "outputId": "d1299db6-ec70-4a3f-d912-f5ca4a68dd0e",
        "colab": {
          "base_uri": "https://localhost:8080/",
          "height": 34
        }
      },
      "source": [
        "df.loc['f','nm']"
      ],
      "execution_count": 0,
      "outputs": [
        {
          "output_type": "execute_result",
          "data": {
            "text/plain": [
              "'lg'"
            ]
          },
          "metadata": {
            "tags": []
          },
          "execution_count": 98
        }
      ]
    },
    {
      "cell_type": "markdown",
      "metadata": {
        "id": "X5ZE63eZMr68",
        "colab_type": "text"
      },
      "source": [
        "###5.3 必备的 20 个统计学函数"
      ]
    },
    {
      "cell_type": "markdown",
      "metadata": {
        "id": "RxJuqGSmM4l_",
        "colab_type": "text"
      },
      "source": [
        "|函数|英文术语|中文|\n",
        "| ------ | ------ | ------ |\n",
        "count\t| Number of non-null observations| 观测值的个数  \n",
        "sum\t| Sum of values\t| 求和\n",
        "mean\t| Mean of values\t| 求平均值\n",
        "mad\t| Mean absolute deviation| \t平均绝对方差\n",
        "median\t| Arithmetic median of values\t| 中位数\n",
        "min| \tMinimum| \t最小值\n",
        "max\t| Maximum\t| 最大值\n",
        "mode\t| Mode\t| 众数\n",
        "abs\t| Absolute Value| \t绝对值\n",
        "prod\t| Product of values\t| 乘积\n",
        "std\t| Bessel-corrected sample standard deviation\t| 标准差\n",
        "var| \tUnbiased variance\t| 方差\n",
        "sem\t| Standard error of the mean\t| 标准误差\n",
        "skew\t| Sample skewness (3rd moment)\t| 偏度系数\n",
        "kurt| \tSample kurtosis (4th moment)| \t峰度\n",
        "quantile\t| Sample quantile (value at %)\t| 分位数\n",
        "cumsum\t| Cumulative sum\t| 累加\n",
        "cumprod\t| Cumulative product\t| 累乘\n",
        "cummax| \tCumulative maximum| \t累最大值\n",
        "cummin\t| Cumulative minimum\t| 累最小值\n",
        "cov()\t| covariance\t| 协方差\n",
        "corr()\t| correlation\t| 相关系数\n",
        "rank()\t| rank by values| \t排名\n",
        "pct_change()\t| time change| \t时间序列变化"
      ]
    },
    {
      "cell_type": "markdown",
      "metadata": {
        "id": "Nq-7JCi6OU5e",
        "colab_type": "text"
      },
      "source": [
        "###5.4 必备的缺失值处理技巧\n",
        "Pandas 提供了一些便利的函数，可以帮助我们快速按照设想处理、解决空值"
      ]
    },
    {
      "cell_type": "markdown",
      "metadata": {
        "id": "nNkX7I6EOj8i",
        "colab_type": "text"
      },
      "source": [
        "Pandas 提供了一些便利的函数，可以帮助我们快速按照设想处理、解决空值  \n",
        "函数 isnull、notnull，可以帮助我们快速定位数据集中每个元素是否为空值"
      ]
    },
    {
      "cell_type": "code",
      "metadata": {
        "id": "4MfADATTOsWs",
        "colab_type": "code",
        "outputId": "a3c47e5f-7a37-4915-ee35-e0b8bd203f0e",
        "colab": {
          "base_uri": "https://localhost:8080/",
          "height": 142
        }
      },
      "source": [
        "dfn"
      ],
      "execution_count": 0,
      "outputs": [
        {
          "output_type": "execute_result",
          "data": {
            "text/html": [
              "<div>\n",
              "<style scoped>\n",
              "    .dataframe tbody tr th:only-of-type {\n",
              "        vertical-align: middle;\n",
              "    }\n",
              "\n",
              "    .dataframe tbody tr th {\n",
              "        vertical-align: top;\n",
              "    }\n",
              "\n",
              "    .dataframe thead th {\n",
              "        text-align: right;\n",
              "    }\n",
              "</style>\n",
              "<table border=\"1\" class=\"dataframe\">\n",
              "  <thead>\n",
              "    <tr style=\"text-align: right;\">\n",
              "      <th></th>\n",
              "      <th>nm</th>\n",
              "      <th>y</th>\n",
              "      <th>da</th>\n",
              "    </tr>\n",
              "  </thead>\n",
              "  <tbody>\n",
              "    <tr>\n",
              "      <th>a</th>\n",
              "      <td>gz</td>\n",
              "      <td>4.0</td>\n",
              "      <td>2019-04-01</td>\n",
              "    </tr>\n",
              "    <tr>\n",
              "      <th>f</th>\n",
              "      <td>lg</td>\n",
              "      <td>1.2</td>\n",
              "      <td>2019-06-01</td>\n",
              "    </tr>\n",
              "    <tr>\n",
              "      <th>b</th>\n",
              "      <td>zx</td>\n",
              "      <td>3.6</td>\n",
              "      <td>2019-05-01</td>\n",
              "    </tr>\n",
              "  </tbody>\n",
              "</table>\n",
              "</div>"
            ],
            "text/plain": [
              "   nm    y          da\n",
              "a  gz  4.0  2019-04-01\n",
              "f  lg  1.2  2019-06-01\n",
              "b  zx  3.6  2019-05-01"
            ]
          },
          "metadata": {
            "tags": []
          },
          "execution_count": 99
        }
      ]
    },
    {
      "cell_type": "code",
      "metadata": {
        "id": "pSgVL9zSQNZh",
        "colab_type": "code",
        "outputId": "d8402583-ad43-4dbc-fbbd-4d29564a96a5",
        "colab": {
          "base_uri": "https://localhost:8080/",
          "height": 142
        }
      },
      "source": [
        "pd.isnull(dfn1) "
      ],
      "execution_count": 0,
      "outputs": [
        {
          "output_type": "execute_result",
          "data": {
            "text/html": [
              "<div>\n",
              "<style scoped>\n",
              "    .dataframe tbody tr th:only-of-type {\n",
              "        vertical-align: middle;\n",
              "    }\n",
              "\n",
              "    .dataframe tbody tr th {\n",
              "        vertical-align: top;\n",
              "    }\n",
              "\n",
              "    .dataframe thead th {\n",
              "        text-align: right;\n",
              "    }\n",
              "</style>\n",
              "<table border=\"1\" class=\"dataframe\">\n",
              "  <thead>\n",
              "    <tr style=\"text-align: right;\">\n",
              "      <th></th>\n",
              "      <th>nm</th>\n",
              "      <th>y</th>\n",
              "      <th>da</th>\n",
              "    </tr>\n",
              "  </thead>\n",
              "  <tbody>\n",
              "    <tr>\n",
              "      <th>a</th>\n",
              "      <td>False</td>\n",
              "      <td>False</td>\n",
              "      <td>False</td>\n",
              "    </tr>\n",
              "    <tr>\n",
              "      <th>f</th>\n",
              "      <td>False</td>\n",
              "      <td>False</td>\n",
              "      <td>False</td>\n",
              "    </tr>\n",
              "    <tr>\n",
              "      <th>b</th>\n",
              "      <td>False</td>\n",
              "      <td>False</td>\n",
              "      <td>False</td>\n",
              "    </tr>\n",
              "  </tbody>\n",
              "</table>\n",
              "</div>"
            ],
            "text/plain": [
              "      nm      y     da\n",
              "a  False  False  False\n",
              "f  False  False  False\n",
              "b  False  False  False"
            ]
          },
          "metadata": {
            "tags": []
          },
          "execution_count": 100
        }
      ]
    },
    {
      "cell_type": "markdown",
      "metadata": {
        "id": "P67Gt_IqQ2Fc",
        "colab_type": "text"
      },
      "source": [
        "假设存在空值，可以使用 Pandas 中的 fillna 函数填充空值  \n",
        "fillna 有一个关键参数： method，当设置 method 为 pad 时， 从上一个有效数据传播到下一个有效数据行。"
      ]
    },
    {
      "cell_type": "markdown",
      "metadata": {
        "id": "t1ZPRnyERF_F",
        "colab_type": "text"
      },
      "source": [
        "使用默认值 1.0 填充 y 列:"
      ]
    },
    {
      "cell_type": "code",
      "metadata": {
        "id": "jiKwmLZzRFNl",
        "colab_type": "code",
        "outputId": "08dc7bb2-4e1e-49f6-c768-85311cd22b6d",
        "colab": {
          "base_uri": "https://localhost:8080/",
          "height": 142
        }
      },
      "source": [
        "dfn['y'] = dfn['y'].fillna(1.0)\n",
        "dfn"
      ],
      "execution_count": 0,
      "outputs": [
        {
          "output_type": "execute_result",
          "data": {
            "text/html": [
              "<div>\n",
              "<style scoped>\n",
              "    .dataframe tbody tr th:only-of-type {\n",
              "        vertical-align: middle;\n",
              "    }\n",
              "\n",
              "    .dataframe tbody tr th {\n",
              "        vertical-align: top;\n",
              "    }\n",
              "\n",
              "    .dataframe thead th {\n",
              "        text-align: right;\n",
              "    }\n",
              "</style>\n",
              "<table border=\"1\" class=\"dataframe\">\n",
              "  <thead>\n",
              "    <tr style=\"text-align: right;\">\n",
              "      <th></th>\n",
              "      <th>nm</th>\n",
              "      <th>y</th>\n",
              "      <th>da</th>\n",
              "    </tr>\n",
              "  </thead>\n",
              "  <tbody>\n",
              "    <tr>\n",
              "      <th>a</th>\n",
              "      <td>gz</td>\n",
              "      <td>4.0</td>\n",
              "      <td>2019-04-01</td>\n",
              "    </tr>\n",
              "    <tr>\n",
              "      <th>f</th>\n",
              "      <td>lg</td>\n",
              "      <td>1.2</td>\n",
              "      <td>2019-06-01</td>\n",
              "    </tr>\n",
              "    <tr>\n",
              "      <th>b</th>\n",
              "      <td>zx</td>\n",
              "      <td>3.6</td>\n",
              "      <td>2019-05-01</td>\n",
              "    </tr>\n",
              "  </tbody>\n",
              "</table>\n",
              "</div>"
            ],
            "text/plain": [
              "   nm    y          da\n",
              "a  gz  4.0  2019-04-01\n",
              "f  lg  1.2  2019-06-01\n",
              "b  zx  3.6  2019-05-01"
            ]
          },
          "metadata": {
            "tags": []
          },
          "execution_count": 101
        }
      ]
    },
    {
      "cell_type": "markdown",
      "metadata": {
        "id": "HEKyByvhRPHh",
        "colab_type": "text"
      },
      "source": [
        "检测到了空值数据，但是不想做任何填充，而是仅仅想丢弃这些空值数据  \n",
        "axis, how, 例如组合：axis = 0，how = any，表示某行只要某个元素为空值，就丢弃"
      ]
    },
    {
      "cell_type": "code",
      "metadata": {
        "id": "zuouWU3rRWTh",
        "colab_type": "code",
        "outputId": "53f6b50a-05f3-4a81-bec3-7e4c4db941bd",
        "colab": {
          "base_uri": "https://localhost:8080/",
          "height": 142
        }
      },
      "source": [
        "dfn"
      ],
      "execution_count": 0,
      "outputs": [
        {
          "output_type": "execute_result",
          "data": {
            "text/html": [
              "<div>\n",
              "<style scoped>\n",
              "    .dataframe tbody tr th:only-of-type {\n",
              "        vertical-align: middle;\n",
              "    }\n",
              "\n",
              "    .dataframe tbody tr th {\n",
              "        vertical-align: top;\n",
              "    }\n",
              "\n",
              "    .dataframe thead th {\n",
              "        text-align: right;\n",
              "    }\n",
              "</style>\n",
              "<table border=\"1\" class=\"dataframe\">\n",
              "  <thead>\n",
              "    <tr style=\"text-align: right;\">\n",
              "      <th></th>\n",
              "      <th>nm</th>\n",
              "      <th>y</th>\n",
              "      <th>da</th>\n",
              "    </tr>\n",
              "  </thead>\n",
              "  <tbody>\n",
              "    <tr>\n",
              "      <th>a</th>\n",
              "      <td>gz</td>\n",
              "      <td>4.0</td>\n",
              "      <td>2019-04-01</td>\n",
              "    </tr>\n",
              "    <tr>\n",
              "      <th>f</th>\n",
              "      <td>lg</td>\n",
              "      <td>1.2</td>\n",
              "      <td>2019-06-01</td>\n",
              "    </tr>\n",
              "    <tr>\n",
              "      <th>b</th>\n",
              "      <td>zx</td>\n",
              "      <td>3.6</td>\n",
              "      <td>2019-05-01</td>\n",
              "    </tr>\n",
              "  </tbody>\n",
              "</table>\n",
              "</div>"
            ],
            "text/plain": [
              "   nm    y          da\n",
              "a  gz  4.0  2019-04-01\n",
              "f  lg  1.2  2019-06-01\n",
              "b  zx  3.6  2019-05-01"
            ]
          },
          "metadata": {
            "tags": []
          },
          "execution_count": 103
        }
      ]
    },
    {
      "cell_type": "code",
      "metadata": {
        "id": "cY4HRKT3RZbv",
        "colab_type": "code",
        "outputId": "92a11e12-aed9-4961-ff39-c27d91164bde",
        "colab": {
          "base_uri": "https://localhost:8080/",
          "height": 142
        }
      },
      "source": [
        "dfn.dropna(axis=0,how='any')"
      ],
      "execution_count": 0,
      "outputs": [
        {
          "output_type": "execute_result",
          "data": {
            "text/html": [
              "<div>\n",
              "<style scoped>\n",
              "    .dataframe tbody tr th:only-of-type {\n",
              "        vertical-align: middle;\n",
              "    }\n",
              "\n",
              "    .dataframe tbody tr th {\n",
              "        vertical-align: top;\n",
              "    }\n",
              "\n",
              "    .dataframe thead th {\n",
              "        text-align: right;\n",
              "    }\n",
              "</style>\n",
              "<table border=\"1\" class=\"dataframe\">\n",
              "  <thead>\n",
              "    <tr style=\"text-align: right;\">\n",
              "      <th></th>\n",
              "      <th>nm</th>\n",
              "      <th>y</th>\n",
              "      <th>da</th>\n",
              "    </tr>\n",
              "  </thead>\n",
              "  <tbody>\n",
              "    <tr>\n",
              "      <th>a</th>\n",
              "      <td>gz</td>\n",
              "      <td>4.0</td>\n",
              "      <td>2019-04-01</td>\n",
              "    </tr>\n",
              "    <tr>\n",
              "      <th>f</th>\n",
              "      <td>lg</td>\n",
              "      <td>1.2</td>\n",
              "      <td>2019-06-01</td>\n",
              "    </tr>\n",
              "    <tr>\n",
              "      <th>b</th>\n",
              "      <td>zx</td>\n",
              "      <td>3.6</td>\n",
              "      <td>2019-05-01</td>\n",
              "    </tr>\n",
              "  </tbody>\n",
              "</table>\n",
              "</div>"
            ],
            "text/plain": [
              "   nm    y          da\n",
              "a  gz  4.0  2019-04-01\n",
              "f  lg  1.2  2019-06-01\n",
              "b  zx  3.6  2019-05-01"
            ]
          },
          "metadata": {
            "tags": []
          },
          "execution_count": 102
        }
      ]
    },
    {
      "cell_type": "markdown",
      "metadata": {
        "id": "B6_0mAtyReSg",
        "colab_type": "text"
      },
      "source": [
        "###5.5 必备的数据透视处理函数\n",
        "有类似 Excel 中提供的数据透视功能"
      ]
    },
    {
      "cell_type": "markdown",
      "metadata": {
        "id": "EcaO1leeRoXz",
        "colab_type": "text"
      },
      "source": [
        "构造数据："
      ]
    },
    {
      "cell_type": "code",
      "metadata": {
        "id": "3VEQ1oe3RpXH",
        "colab_type": "code",
        "outputId": "08e16b2b-033f-46fc-ce3b-8b628fe576df",
        "colab": {
          "base_uri": "https://localhost:8080/",
          "height": 328
        }
      },
      "source": [
        "df = pd.DataFrame({\"A\": [\"foo\", \"foo\", \"foo\", \"foo\", \"foo\", \"bar\", \"bar\", \"bar\", \"bar\"],\n",
        "                   \"B\": [\"one\", \"one\", \"one\", \"two\", \"two\", \"one\", \"one\", \"two\", \"two\"], \n",
        "                   \"C\": [\"small\", \"large\", \"large\", \"small\", \"small\", \"large\", \"small\", \"small\", \"large\"], \n",
        "                   \"D\": [1, 2, 2, 3, 3, 4, 5, 6, 7], \n",
        "                   \"E\": [2, 4, 5, 5, 6, 6, 8, 9, 9]})  \n",
        "df                  "
      ],
      "execution_count": 0,
      "outputs": [
        {
          "output_type": "execute_result",
          "data": {
            "text/html": [
              "<div>\n",
              "<style scoped>\n",
              "    .dataframe tbody tr th:only-of-type {\n",
              "        vertical-align: middle;\n",
              "    }\n",
              "\n",
              "    .dataframe tbody tr th {\n",
              "        vertical-align: top;\n",
              "    }\n",
              "\n",
              "    .dataframe thead th {\n",
              "        text-align: right;\n",
              "    }\n",
              "</style>\n",
              "<table border=\"1\" class=\"dataframe\">\n",
              "  <thead>\n",
              "    <tr style=\"text-align: right;\">\n",
              "      <th></th>\n",
              "      <th>A</th>\n",
              "      <th>B</th>\n",
              "      <th>C</th>\n",
              "      <th>D</th>\n",
              "      <th>E</th>\n",
              "    </tr>\n",
              "  </thead>\n",
              "  <tbody>\n",
              "    <tr>\n",
              "      <th>0</th>\n",
              "      <td>foo</td>\n",
              "      <td>one</td>\n",
              "      <td>small</td>\n",
              "      <td>1</td>\n",
              "      <td>2</td>\n",
              "    </tr>\n",
              "    <tr>\n",
              "      <th>1</th>\n",
              "      <td>foo</td>\n",
              "      <td>one</td>\n",
              "      <td>large</td>\n",
              "      <td>2</td>\n",
              "      <td>4</td>\n",
              "    </tr>\n",
              "    <tr>\n",
              "      <th>2</th>\n",
              "      <td>foo</td>\n",
              "      <td>one</td>\n",
              "      <td>large</td>\n",
              "      <td>2</td>\n",
              "      <td>5</td>\n",
              "    </tr>\n",
              "    <tr>\n",
              "      <th>3</th>\n",
              "      <td>foo</td>\n",
              "      <td>two</td>\n",
              "      <td>small</td>\n",
              "      <td>3</td>\n",
              "      <td>5</td>\n",
              "    </tr>\n",
              "    <tr>\n",
              "      <th>4</th>\n",
              "      <td>foo</td>\n",
              "      <td>two</td>\n",
              "      <td>small</td>\n",
              "      <td>3</td>\n",
              "      <td>6</td>\n",
              "    </tr>\n",
              "    <tr>\n",
              "      <th>5</th>\n",
              "      <td>bar</td>\n",
              "      <td>one</td>\n",
              "      <td>large</td>\n",
              "      <td>4</td>\n",
              "      <td>6</td>\n",
              "    </tr>\n",
              "    <tr>\n",
              "      <th>6</th>\n",
              "      <td>bar</td>\n",
              "      <td>one</td>\n",
              "      <td>small</td>\n",
              "      <td>5</td>\n",
              "      <td>8</td>\n",
              "    </tr>\n",
              "    <tr>\n",
              "      <th>7</th>\n",
              "      <td>bar</td>\n",
              "      <td>two</td>\n",
              "      <td>small</td>\n",
              "      <td>6</td>\n",
              "      <td>9</td>\n",
              "    </tr>\n",
              "    <tr>\n",
              "      <th>8</th>\n",
              "      <td>bar</td>\n",
              "      <td>two</td>\n",
              "      <td>large</td>\n",
              "      <td>7</td>\n",
              "      <td>9</td>\n",
              "    </tr>\n",
              "  </tbody>\n",
              "</table>\n",
              "</div>"
            ],
            "text/plain": [
              "     A    B      C  D  E\n",
              "0  foo  one  small  1  2\n",
              "1  foo  one  large  2  4\n",
              "2  foo  one  large  2  5\n",
              "3  foo  two  small  3  5\n",
              "4  foo  two  small  3  6\n",
              "5  bar  one  large  4  6\n",
              "6  bar  one  small  5  8\n",
              "7  bar  two  small  6  9\n",
              "8  bar  two  large  7  9"
            ]
          },
          "metadata": {
            "tags": []
          },
          "execution_count": 107
        }
      ]
    },
    {
      "cell_type": "code",
      "metadata": {
        "id": "-s6arWzJSk1A",
        "colab_type": "code",
        "outputId": "0ca67197-376b-49ab-90ac-2d0d7f81605b",
        "colab": {
          "base_uri": "https://localhost:8080/",
          "height": 266
        }
      },
      "source": [
        "pd.pivot_table(df, values=['D','E'], index=['A','B'], columns='C',aggfunc=[np.mean,np.max])               "
      ],
      "execution_count": 0,
      "outputs": [
        {
          "output_type": "execute_result",
          "data": {
            "text/html": [
              "<div>\n",
              "<style scoped>\n",
              "    .dataframe tbody tr th:only-of-type {\n",
              "        vertical-align: middle;\n",
              "    }\n",
              "\n",
              "    .dataframe tbody tr th {\n",
              "        vertical-align: top;\n",
              "    }\n",
              "\n",
              "    .dataframe thead tr th {\n",
              "        text-align: left;\n",
              "    }\n",
              "\n",
              "    .dataframe thead tr:last-of-type th {\n",
              "        text-align: right;\n",
              "    }\n",
              "</style>\n",
              "<table border=\"1\" class=\"dataframe\">\n",
              "  <thead>\n",
              "    <tr>\n",
              "      <th></th>\n",
              "      <th></th>\n",
              "      <th colspan=\"4\" halign=\"left\">mean</th>\n",
              "      <th colspan=\"4\" halign=\"left\">amax</th>\n",
              "    </tr>\n",
              "    <tr>\n",
              "      <th></th>\n",
              "      <th></th>\n",
              "      <th colspan=\"2\" halign=\"left\">D</th>\n",
              "      <th colspan=\"2\" halign=\"left\">E</th>\n",
              "      <th colspan=\"2\" halign=\"left\">D</th>\n",
              "      <th colspan=\"2\" halign=\"left\">E</th>\n",
              "    </tr>\n",
              "    <tr>\n",
              "      <th></th>\n",
              "      <th>C</th>\n",
              "      <th>large</th>\n",
              "      <th>small</th>\n",
              "      <th>large</th>\n",
              "      <th>small</th>\n",
              "      <th>large</th>\n",
              "      <th>small</th>\n",
              "      <th>large</th>\n",
              "      <th>small</th>\n",
              "    </tr>\n",
              "    <tr>\n",
              "      <th>A</th>\n",
              "      <th>B</th>\n",
              "      <th></th>\n",
              "      <th></th>\n",
              "      <th></th>\n",
              "      <th></th>\n",
              "      <th></th>\n",
              "      <th></th>\n",
              "      <th></th>\n",
              "      <th></th>\n",
              "    </tr>\n",
              "  </thead>\n",
              "  <tbody>\n",
              "    <tr>\n",
              "      <th rowspan=\"2\" valign=\"top\">bar</th>\n",
              "      <th>one</th>\n",
              "      <td>4.0</td>\n",
              "      <td>5.0</td>\n",
              "      <td>6.0</td>\n",
              "      <td>8.0</td>\n",
              "      <td>4.0</td>\n",
              "      <td>5.0</td>\n",
              "      <td>6.0</td>\n",
              "      <td>8.0</td>\n",
              "    </tr>\n",
              "    <tr>\n",
              "      <th>two</th>\n",
              "      <td>7.0</td>\n",
              "      <td>6.0</td>\n",
              "      <td>9.0</td>\n",
              "      <td>9.0</td>\n",
              "      <td>7.0</td>\n",
              "      <td>6.0</td>\n",
              "      <td>9.0</td>\n",
              "      <td>9.0</td>\n",
              "    </tr>\n",
              "    <tr>\n",
              "      <th rowspan=\"2\" valign=\"top\">foo</th>\n",
              "      <th>one</th>\n",
              "      <td>2.0</td>\n",
              "      <td>1.0</td>\n",
              "      <td>4.5</td>\n",
              "      <td>2.0</td>\n",
              "      <td>2.0</td>\n",
              "      <td>1.0</td>\n",
              "      <td>5.0</td>\n",
              "      <td>2.0</td>\n",
              "    </tr>\n",
              "    <tr>\n",
              "      <th>two</th>\n",
              "      <td>NaN</td>\n",
              "      <td>3.0</td>\n",
              "      <td>NaN</td>\n",
              "      <td>5.5</td>\n",
              "      <td>NaN</td>\n",
              "      <td>3.0</td>\n",
              "      <td>NaN</td>\n",
              "      <td>6.0</td>\n",
              "    </tr>\n",
              "  </tbody>\n",
              "</table>\n",
              "</div>"
            ],
            "text/plain": [
              "         mean                    amax                  \n",
              "            D           E           D           E      \n",
              "C       large small large small large small large small\n",
              "A   B                                                  \n",
              "bar one   4.0   5.0   6.0   8.0   4.0   5.0   6.0   8.0\n",
              "    two   7.0   6.0   9.0   9.0   7.0   6.0   9.0   9.0\n",
              "foo one   2.0   1.0   4.5   2.0   2.0   1.0   5.0   2.0\n",
              "    two   NaN   3.0   NaN   5.5   NaN   3.0   NaN   6.0"
            ]
          },
          "metadata": {
            "tags": []
          },
          "execution_count": 108
        }
      ]
    },
    {
      "cell_type": "markdown",
      "metadata": {
        "id": "V9QvzkC9Sx_n",
        "colab_type": "text"
      },
      "source": [
        "#####分步解析数据透视的过程\n",
        "以 A 和 B 两列为 index，一旦选定，内部实现中会根据 A 和 B 形成一个多级索引，并对数据分组。  \n",
        "第二维度，也就是 axis 为 1 的维度，设置为 C 列，这样数据会被重构为这种二维表，并且如果聚合函数缺省情况下，默认统计平均值。  \n",
        "*看不懂，胸口闷，脑壳疼*"
      ]
    },
    {
      "cell_type": "code",
      "metadata": {
        "id": "jVnAUzIaTOfD",
        "colab_type": "code",
        "outputId": "85194ce1-ff5c-407f-dd3d-3f6cfeb00128",
        "colab": {
          "base_uri": "https://localhost:8080/",
          "height": 235
        }
      },
      "source": [
        "pd.pivot_table(df, index=['A','B'],columns='C')"
      ],
      "execution_count": 0,
      "outputs": [
        {
          "output_type": "execute_result",
          "data": {
            "text/html": [
              "<div>\n",
              "<style scoped>\n",
              "    .dataframe tbody tr th:only-of-type {\n",
              "        vertical-align: middle;\n",
              "    }\n",
              "\n",
              "    .dataframe tbody tr th {\n",
              "        vertical-align: top;\n",
              "    }\n",
              "\n",
              "    .dataframe thead tr th {\n",
              "        text-align: left;\n",
              "    }\n",
              "\n",
              "    .dataframe thead tr:last-of-type th {\n",
              "        text-align: right;\n",
              "    }\n",
              "</style>\n",
              "<table border=\"1\" class=\"dataframe\">\n",
              "  <thead>\n",
              "    <tr>\n",
              "      <th></th>\n",
              "      <th></th>\n",
              "      <th colspan=\"2\" halign=\"left\">D</th>\n",
              "      <th colspan=\"2\" halign=\"left\">E</th>\n",
              "    </tr>\n",
              "    <tr>\n",
              "      <th></th>\n",
              "      <th>C</th>\n",
              "      <th>large</th>\n",
              "      <th>small</th>\n",
              "      <th>large</th>\n",
              "      <th>small</th>\n",
              "    </tr>\n",
              "    <tr>\n",
              "      <th>A</th>\n",
              "      <th>B</th>\n",
              "      <th></th>\n",
              "      <th></th>\n",
              "      <th></th>\n",
              "      <th></th>\n",
              "    </tr>\n",
              "  </thead>\n",
              "  <tbody>\n",
              "    <tr>\n",
              "      <th rowspan=\"2\" valign=\"top\">bar</th>\n",
              "      <th>one</th>\n",
              "      <td>4.0</td>\n",
              "      <td>5.0</td>\n",
              "      <td>6.0</td>\n",
              "      <td>8.0</td>\n",
              "    </tr>\n",
              "    <tr>\n",
              "      <th>two</th>\n",
              "      <td>7.0</td>\n",
              "      <td>6.0</td>\n",
              "      <td>9.0</td>\n",
              "      <td>9.0</td>\n",
              "    </tr>\n",
              "    <tr>\n",
              "      <th rowspan=\"2\" valign=\"top\">foo</th>\n",
              "      <th>one</th>\n",
              "      <td>2.0</td>\n",
              "      <td>1.0</td>\n",
              "      <td>4.5</td>\n",
              "      <td>2.0</td>\n",
              "    </tr>\n",
              "    <tr>\n",
              "      <th>two</th>\n",
              "      <td>NaN</td>\n",
              "      <td>3.0</td>\n",
              "      <td>NaN</td>\n",
              "      <td>5.5</td>\n",
              "    </tr>\n",
              "  </tbody>\n",
              "</table>\n",
              "</div>"
            ],
            "text/plain": [
              "            D           E      \n",
              "C       large small large small\n",
              "A   B                          \n",
              "bar one   4.0   5.0   6.0   8.0\n",
              "    two   7.0   6.0   9.0   9.0\n",
              "foo one   2.0   1.0   4.5   2.0\n",
              "    two   NaN   3.0   NaN   5.5"
            ]
          },
          "metadata": {
            "tags": []
          },
          "execution_count": 109
        }
      ]
    },
    {
      "cell_type": "markdown",
      "metadata": {
        "id": "mbut2BIVTsBu",
        "colab_type": "text"
      },
      "source": [
        "当为 pivot_table 设置上 values 来自哪些列，同时定义聚合函数后，就最终得到数据的透视结果。"
      ]
    },
    {
      "cell_type": "markdown",
      "metadata": {
        "id": "wgBB8GTjSJSx",
        "colab_type": "text"
      },
      "source": [
        "***\n",
        "***\n"
      ]
    },
    {
      "cell_type": "markdown",
      "metadata": {
        "id": "Gc2IOpI1SfkB",
        "colab_type": "text"
      },
      "source": [
        "#Matplotlib\n",
        "matplotlib 是基于 Python 语言的开源项目，旨在为 Python 提供一个数据绘图包。"
      ]
    },
    {
      "cell_type": "markdown",
      "metadata": {
        "id": "u3dtlS9bStcc",
        "colab_type": "text"
      },
      "source": [
        "###6.1 必备的绘图理论知识"
      ]
    },
    {
      "cell_type": "code",
      "metadata": {
        "id": "slzSDTkHV3BB",
        "colab_type": "code",
        "colab": {}
      },
      "source": [
        "# object-oriented plot\n",
        "from matplotlib.figure import Figure\n",
        "from matplotlib.backends.backend_agg import FigureCanvasAgg as FigureCanvas\n",
        "\n",
        "fig = Figure()\n",
        "canvas = FigureCanvas(fig)\n",
        "ax = fig.add_axes([0.1, 0.1, 0.8, 0.8])\n",
        "line,  = ax.plot([0,1], [0,1])\n",
        "ax.set_title(\"a straight line \")\n",
        "ax.set_xlabel(\"x label\")\n",
        "ax.set_ylabel(\"y label\")\n",
        "canvas.print_figure('chatpic1.jpg')\n"
      ],
      "execution_count": 0,
      "outputs": []
    },
    {
      "cell_type": "markdown",
      "metadata": {
        "id": "uwlCwxKQXZC4",
        "colab_type": "text"
      },
      "source": [
        "构建了四个对象：\n",
        "\n",
        "*   fig( Figure 类)\n",
        "*   canvas( FigureCanvas 类)\n",
        "*   ax( Axes 类)\n",
        "*   line(Line2D 类)\n",
        " \n",
        "在 matplotlib 中，整个图像为一个Figure 对象，在 Figure 对象中可以包含一个或多个 Axes 对象，每个Axes对象都是一个拥有自己坐标系统的绘图区域。\n",
        "\n",
        "Axes 由 xaxis, yaxis, title, data 构成，xaxis 由坐标轴的线 ，tick以及label构成。\n",
        "![](https://images.gitbook.cn/400780f0-650b-11e9-bccc-93ba4be96177)\n",
        "`ax = fig.add_axes([0.1, 0.1, 0.8, 0.8])`  \n",
        "图形区域的左边界距离整个 figure 左侧 10% ，底部 10%，宽度和高度都为整个 figure 宽度和高度的 80%  \n",
        "\n",
        "canvas 对象，代表了真正进行绘图的后端(backend)。\n"
      ]
    },
    {
      "cell_type": "markdown",
      "metadata": {
        "id": "iPkkdzARYeLK",
        "colab_type": "text"
      },
      "source": [
        "###6.2 绘图必备 100 行代码"
      ]
    },
    {
      "cell_type": "markdown",
      "metadata": {
        "id": "ElTLx1zwYiTU",
        "colab_type": "text"
      },
      "source": [
        "\n",
        "\n",
        "1.   **导入绘图模块：**\n",
        "\n",
        "\n"
      ]
    },
    {
      "cell_type": "code",
      "metadata": {
        "id": "Sr-pdW8xYn_C",
        "colab_type": "code",
        "colab": {}
      },
      "source": [
        "import matplotlib\n",
        "import matplotlib.pyplot as plt  "
      ],
      "execution_count": 0,
      "outputs": []
    },
    {
      "cell_type": "markdown",
      "metadata": {
        "id": "v4drIrMaYrov",
        "colab_type": "text"
      },
      "source": [
        "2.   **导入 NumPy 模块：**"
      ]
    },
    {
      "cell_type": "code",
      "metadata": {
        "id": "VS2LDdGVY4pP",
        "colab_type": "code",
        "colab": {}
      },
      "source": [
        "import numpy as np "
      ],
      "execution_count": 0,
      "outputs": []
    },
    {
      "cell_type": "markdown",
      "metadata": {
        "id": "c4QoG8CHY7wl",
        "colab_type": "text"
      },
      "source": [
        "\n",
        "3.   **准备数据：**\n",
        "\n",
        "\n"
      ]
    },
    {
      "cell_type": "code",
      "metadata": {
        "id": "VwUXyLXQZGN-",
        "colab_type": "code",
        "colab": {}
      },
      "source": [
        "x = np.linspace(0, 5, 10) \n",
        "y = x ** 2  "
      ],
      "execution_count": 0,
      "outputs": []
    },
    {
      "cell_type": "markdown",
      "metadata": {
        "id": "R0qFUNWOZPg4",
        "colab_type": "text"
      },
      "source": [
        "4. **绘制折线图：**"
      ]
    },
    {
      "cell_type": "code",
      "metadata": {
        "id": "T51x24lHZVMt",
        "colab_type": "code",
        "colab": {
          "base_uri": "https://localhost:8080/",
          "height": 295
        },
        "outputId": "7c0f200e-c0fc-4704-d456-f8a334620cec"
      },
      "source": [
        "plt.plot(x, y, 'r') \n",
        "plt.xlabel('x') \n",
        "plt.ylabel('y') \n",
        "plt.title('title') \n",
        "plt.show()"
      ],
      "execution_count": 9,
      "outputs": [
        {
          "output_type": "display_data",
          "data": {
            "image/png": "[encoded data removed]",
            "text/plain": [
              "<Figure size 432x288 with 1 Axes>"
            ]
          },
          "metadata": {
            "tags": []
          }
        }
      ]
    },
    {
      "cell_type": "markdown",
      "metadata": {
        "id": "ux37045qZb2v",
        "colab_type": "text"
      },
      "source": [
        "**第一种绘制多图的方法：**"
      ]
    },
    {
      "cell_type": "code",
      "metadata": {
        "id": "QQoWIm9QZe4a",
        "colab_type": "code",
        "colab": {
          "base_uri": "https://localhost:8080/",
          "height": 269
        },
        "outputId": "919c37bc-9493-40b8-857a-0e8d793662d5"
      },
      "source": [
        "plt.subplot(1,2,1) \n",
        "plt.plot(x, y, 'r--') \n",
        "plt.subplot(1,2,2) \n",
        "plt.plot(y, x, 'g*-') \n",
        "plt.show() "
      ],
      "execution_count": 10,
      "outputs": [
        {
          "output_type": "display_data",
          "data": {
            "image/png": "[encoded data removed]",
            "text/plain": [
              "<Figure size 432x288 with 2 Axes>"
            ]
          },
          "metadata": {
            "tags": []
          }
        }
      ]
    },
    {
      "cell_type": "markdown",
      "metadata": {
        "id": "i16UIIYQaGs0",
        "colab_type": "text"
      },
      "source": [
        "**第二种绘制多图的方法：**"
      ]
    },
    {
      "cell_type": "code",
      "metadata": {
        "id": "a4kKgBhpaH-o",
        "colab_type": "code",
        "colab": {
          "base_uri": "https://localhost:8080/",
          "height": 325
        },
        "outputId": "8f3807b0-d559-45c8-d3a8-fbb3f109db05"
      },
      "source": [
        "fig = plt.figure()\n",
        "\n",
        "axes1 = fig.add_axes([0.1, 0.1, 0.8, 0.8]) # main axes\n",
        "axes2 = fig.add_axes([0.2, 0.5, 0.4, 0.3]) # insert axes\n",
        "\n",
        "# 主图\n",
        "axes1.plot(x, y, 'r')\n",
        "axes1.set_xlabel('x')\n",
        "axes1.set_ylabel('y')\n",
        "axes1.set_title('title')\n",
        "\n",
        "# 插入的图\n",
        "axes2.plot(y, x, 'g')\n",
        "axes2.set_xlabel('y')\n",
        "axes2.set_ylabel('x')\n",
        "axes2.set_title('insert title')"
      ],
      "execution_count": 11,
      "outputs": [
        {
          "output_type": "execute_result",
          "data": {
            "text/plain": [
              "Text(0.5, 1.0, 'insert title')"
            ]
          },
          "metadata": {
            "tags": []
          },
          "execution_count": 11
        },
        {
          "output_type": "display_data",
          "data": {
            "image/png": "[encoded data removed]",
            "text/plain": [
              "<Figure size 432x288 with 2 Axes>"
            ]
          },
          "metadata": {
            "tags": []
          }
        }
      ]
    },
    {
      "cell_type": "markdown",
      "metadata": {
        "id": "gQq9cbwjaMJg",
        "colab_type": "text"
      },
      "source": [
        "**第三种绘制多图的方法：**\n",
        "\n"
      ]
    },
    {
      "cell_type": "code",
      "metadata": {
        "id": "HFTj1n9paNpU",
        "colab_type": "code",
        "colab": {
          "base_uri": "https://localhost:8080/",
          "height": 295
        },
        "outputId": "5e432b97-a4cf-4bc8-92a4-190bd0240e0c"
      },
      "source": [
        "fig, axes = plt.subplots(nrows=1, ncols=2)\n",
        "\n",
        "for ax in axes:\n",
        "    ax.plot(x, y, 'r')\n",
        "    ax.set_xlabel('x')\n",
        "    ax.set_ylabel('y')\n",
        "    ax.set_title('title')"
      ],
      "execution_count": 12,
      "outputs": [
        {
          "output_type": "display_data",
          "data": {
            "image/png": "[encoded data removed]",
            "text/plain": [
              "<Figure size 432x288 with 2 Axes>"
            ]
          },
          "metadata": {
            "tags": []
          }
        }
      ]
    },
    {
      "cell_type": "markdown",
      "metadata": {
        "id": "WqI8zCFiaT_a",
        "colab_type": "text"
      },
      "source": [
        "**保存图片：**"
      ]
    },
    {
      "cell_type": "code",
      "metadata": {
        "id": "fso7inxxaWY5",
        "colab_type": "code",
        "colab": {}
      },
      "source": [
        "fig.savefig(\"chatpic33.png\")"
      ],
      "execution_count": 0,
      "outputs": []
    },
    {
      "cell_type": "markdown",
      "metadata": {
        "id": "Y4MLnMrHaiZJ",
        "colab_type": "text"
      },
      "source": [
        "**设置图例: legend**"
      ]
    },
    {
      "cell_type": "code",
      "metadata": {
        "id": "-c5lsi_BakxL",
        "colab_type": "code",
        "colab": {
          "base_uri": "https://localhost:8080/",
          "height": 295
        },
        "outputId": "7d3e52ce-772d-4cd3-fcc1-91eef3f0f785"
      },
      "source": [
        "fig, ax = plt.subplots()\n",
        "\n",
        "ax.plot(x, x**2, label=\"y = x**2\")\n",
        "ax.plot(x, x**3, label=\"y = x**3\")\n",
        "ax.legend(loc=2); # 上、左角\n",
        "ax.set_xlabel('x')\n",
        "ax.set_ylabel('y')\n",
        "ax.set_title('title');"
      ],
      "execution_count": 14,
      "outputs": [
        {
          "output_type": "display_data",
          "data": {
            "image/png": "[encoded data removed]",
            "text/plain": [
              "<Figure size 432x288 with 1 Axes>"
            ]
          },
          "metadata": {
            "tags": []
          }
        }
      ]
    },
    {
      "cell_type": "markdown",
      "metadata": {
        "id": "o3ZJQ8hdapDY",
        "colab_type": "text"
      },
      "source": [
        "**设置字体，大小：**"
      ]
    },
    {
      "cell_type": "code",
      "metadata": {
        "id": "m19CIz3rap-S",
        "colab_type": "code",
        "colab": {}
      },
      "source": [
        "matplotlib.rcParams.update({'font.size': 18, 'font.family': 'serif'})"
      ],
      "execution_count": 0,
      "outputs": []
    },
    {
      "cell_type": "markdown",
      "metadata": {
        "id": "_s9yBqG6atjV",
        "colab_type": "text"
      },
      "source": [
        "**设置 latex 格式：**"
      ]
    },
    {
      "cell_type": "code",
      "metadata": {
        "id": "PR4zTN-baxSl",
        "colab_type": "code",
        "colab": {
          "base_uri": "https://localhost:8080/",
          "height": 34
        },
        "outputId": "3b1623a5-1b96-4f34-8f92-1e58173a0c8a"
      },
      "source": [
        "ax.plot(x, x**2, label=r\"`$y = \\alpha^2$`\")"
      ],
      "execution_count": 16,
      "outputs": [
        {
          "output_type": "execute_result",
          "data": {
            "text/plain": [
              "[<matplotlib.lines.Line2D at 0x7fd9a8ee67f0>]"
            ]
          },
          "metadata": {
            "tags": []
          },
          "execution_count": 16
        }
      ]
    },
    {
      "cell_type": "markdown",
      "metadata": {
        "id": "02uFNrLVa0Xi",
        "colab_type": "text"
      },
      "source": [
        "**设置颜色，线条：**"
      ]
    },
    {
      "cell_type": "code",
      "metadata": {
        "id": "hLQ6_ePFa2E0",
        "colab_type": "code",
        "colab": {
          "base_uri": "https://localhost:8080/",
          "height": 294
        },
        "outputId": "d9c267c8-410f-493e-9c2f-a89f8af7ff73"
      },
      "source": [
        "fig, ax = plt.subplots()\n",
        "\n",
        "ax.plot(x, x+1, color=\"red\", alpha=0.5) # 半透明红色\n",
        "ax.plot(x, x+2, color=\"#1155dd\")        # 十六进制RGB\n",
        "ax.plot(x, x+3, color=\"#15cc55\")        "
      ],
      "execution_count": 17,
      "outputs": [
        {
          "output_type": "execute_result",
          "data": {
            "text/plain": [
              "[<matplotlib.lines.Line2D at 0x7fd9a8e506d8>]"
            ]
          },
          "metadata": {
            "tags": []
          },
          "execution_count": 17
        },
        {
          "output_type": "display_data",
          "data": {
            "image/png": "[encoded data removed]",
            "text/plain": [
              "<Figure size 432x288 with 1 Axes>"
            ]
          },
          "metadata": {
            "tags": []
          }
        }
      ]
    },
    {
      "cell_type": "markdown",
      "metadata": {
        "id": "gzopVWHqa0WA",
        "colab_type": "text"
      },
      "source": [
        "**添加网格 grid：**"
      ]
    },
    {
      "cell_type": "code",
      "metadata": {
        "id": "sBRSopHZa8_h",
        "colab_type": "code",
        "colab": {
          "base_uri": "https://localhost:8080/",
          "height": 222
        },
        "outputId": "ad64fce6-bde6-47e8-d9e4-94b0b4d91156"
      },
      "source": [
        "fig, axes = plt.subplots(1, 2, figsize=(10,3))\n",
        "\n",
        "# 默认网格显示\n",
        "axes[0].plot(x, x**2, x, x**3, lw=2)\n",
        "axes[0].grid(True)\n",
        "\n",
        "# 定制网格显示\n",
        "axes[1].plot(x, x**2, x, x**3, lw=2)\n",
        "axes[1].grid(color='b', alpha=0.5, linestyle='dashed', linewidth=0.5)"
      ],
      "execution_count": 18,
      "outputs": [
        {
          "output_type": "display_data",
          "data": {
            "image/png": "[encoded data removed]",
            "text/plain": [
              "<Figure size 720x216 with 2 Axes>"
            ]
          },
          "metadata": {
            "tags": []
          }
        }
      ]
    },
    {
      "cell_type": "markdown",
      "metadata": {
        "id": "UtPP5eZCbq0e",
        "colab_type": "text"
      },
      "source": [
        "**双轴显示：**"
      ]
    },
    {
      "cell_type": "code",
      "metadata": {
        "id": "GKquQcv0bxd7",
        "colab_type": "code",
        "colab": {
          "base_uri": "https://localhost:8080/",
          "height": 277
        },
        "outputId": "3d304bdd-9ad7-4d49-ef21-203f4d38ed81"
      },
      "source": [
        "fig, ax1 = plt.subplots()\n",
        "\n",
        "ax1.plot(x, x**2, lw=2, color=\"blue\")\n",
        "ax1.set_ylabel(r\"area `$(m^2)$`\", fontsize=18, color=\"blue\")\n",
        "for label in ax1.get_yticklabels():\n",
        "    label.set_color(\"blue\")\n",
        "\n",
        "ax2 = ax1.twinx()\n",
        "ax2.plot(x, x**3, lw=2, color=\"red\")\n",
        "ax2.set_ylabel(r\"volume `$(m^3)$`\", fontsize=18, color=\"red\")\n",
        "for label in ax2.get_yticklabels():\n",
        "    label.set_color(\"red\")"
      ],
      "execution_count": 19,
      "outputs": [
        {
          "output_type": "display_data",
          "data": {
            "image/png": "[encoded data removed]",
            "text/plain": [
              "<Figure size 432x288 with 2 Axes>"
            ]
          },
          "metadata": {
            "tags": []
          }
        }
      ]
    },
    {
      "cell_type": "markdown",
      "metadata": {
        "id": "2kTEtS0Cb6r2",
        "colab_type": "text"
      },
      "source": [
        "**更多的二维图形展示：**"
      ]
    },
    {
      "cell_type": "code",
      "metadata": {
        "id": "0tWjNRLEb8H5",
        "colab_type": "code",
        "colab": {
          "base_uri": "https://localhost:8080/",
          "height": 259
        },
        "outputId": "9577107b-9616-4bf3-abc6-15b589355980"
      },
      "source": [
        "xx = np.linspace(-0.75, 1., 100)\n",
        "\n",
        "n = np.array([0,1,2,3,4,5])\n",
        "\n",
        "fig, axes = plt.subplots(1, 4, figsize=(12,3))\n",
        "\n",
        "axes[0].scatter(xx, xx + 0.25*np.random.randn(len(xx)))\n",
        "axes[0].set_title(\"scatter\")\n",
        "\n",
        "axes[1].step(n, n**2, lw=2)\n",
        "axes[1].set_title(\"step\")\n",
        "\n",
        "axes[2].bar(n, n**2, align=\"center\", width=0.5, alpha=0.5)\n",
        "axes[2].set_title(\"bar\")\n",
        "\n",
        "axes[3].fill_between(x, x**2, x**3, color=\"green\", alpha=0.5);\n",
        "axes[3].set_title(\"fill_between\")"
      ],
      "execution_count": 20,
      "outputs": [
        {
          "output_type": "execute_result",
          "data": {
            "text/plain": [
              "Text(0.5, 1.0, 'fill_between')"
            ]
          },
          "metadata": {
            "tags": []
          },
          "execution_count": 20
        },
        {
          "output_type": "display_data",
          "data": {
            "image/png": "[encoded data removed]",
            "text/plain": [
              "<Figure size 864x216 with 4 Axes>"
            ]
          },
          "metadata": {
            "tags": []
          }
        }
      ]
    },
    {
      "cell_type": "markdown",
      "metadata": {
        "id": "3T-F_sNwcDds",
        "colab_type": "text"
      },
      "source": [
        "**文本标注：**"
      ]
    },
    {
      "cell_type": "code",
      "metadata": {
        "id": "YwUv-DdBcGGB",
        "colab_type": "code",
        "colab": {
          "base_uri": "https://localhost:8080/",
          "height": 277
        },
        "outputId": "1b0e03cd-8680-413d-c7cf-9385fc557504"
      },
      "source": [
        "fig, ax = plt.subplots()\n",
        "\n",
        "ax.plot(xx, xx**2, xx, xx**3)\n",
        "\n",
        "ax.text(0.15, 0.2, r\"`$y=x^2$`\", fontsize=20, color=\"blue\")\n",
        "ax.text(0.65, 0.1, r\"`$y=x^3$`\", fontsize=20, color=\"green\");"
      ],
      "execution_count": 21,
      "outputs": [
        {
          "output_type": "display_data",
          "data": {
            "image/png": "[encoded data removed]",
            "text/plain": [
              "<Figure size 432x288 with 1 Axes>"
            ]
          },
          "metadata": {
            "tags": []
          }
        }
      ]
    },
    {
      "cell_type": "markdown",
      "metadata": {
        "id": "pDunpej0cMxG",
        "colab_type": "text"
      },
      "source": [
        "**三维图绘制：**"
      ]
    },
    {
      "cell_type": "code",
      "metadata": {
        "id": "p1J6ysDfcPSR",
        "colab_type": "code",
        "colab": {
          "base_uri": "https://localhost:8080/",
          "height": 357
        },
        "outputId": "2d131e73-4051-4763-96d0-8f5e9f580720"
      },
      "source": [
        "from mpl_toolkits.mplot3d.axes3d import Axes3D\n",
        "\n",
        "alpha = 0.7\n",
        "phi_ext = 2 * np.pi * 0.5\n",
        "\n",
        "def flux_qubit_potential(phi_m, phi_p):\n",
        "    return 2 + alpha - 2 * np.cos(phi_p) * np.cos(phi_m) - alpha * np.cos(phi_ext - 2*phi_p)\n",
        "\n",
        "phi_m = np.linspace(0, 2*np.pi, 100)\n",
        "phi_p = np.linspace(0, 2*np.pi, 100)\n",
        "\n",
        "X,Y = np.meshgrid(phi_p, phi_m)\n",
        "Z = flux_qubit_potential(X, Y).T\n",
        "\n",
        "fig = plt.figure(figsize=(14,6))\n",
        "\n",
        "ax = fig.add_subplot(1, 2, 1, projection='3d')\n",
        "\n",
        "p = ax.plot_surface(X, Y, Z, rstride=4, cstride=4, linewidth=0)\n",
        "\n",
        "ax = fig.add_subplot(1, 2, 2, projection='3d')\n",
        "p = ax.plot_surface(X, Y, Z, rstride=1, cstride=1, cmap=matplotlib.cm.coolwarm, linewidth=0, antialiased=False)\n",
        "\n",
        "cb = fig.colorbar(p, shrink=0.5)"
      ],
      "execution_count": 22,
      "outputs": [
        {
          "output_type": "display_data",
          "data": {
            "image/png": "[encoded data removed]",
            "text/plain": [
              "<Figure size 1008x432 with 3 Axes>"
            ]
          },
          "metadata": {
            "tags": []
          }
        }
      ]
    },
    {
      "cell_type": "markdown",
      "metadata": {
        "id": "TGtoldvldgrZ",
        "colab_type": "text"
      },
      "source": [
        "***\n",
        "***"
      ]
    },
    {
      "cell_type": "markdown",
      "metadata": {
        "id": "-SjzfNH-ciRa",
        "colab_type": "text"
      },
      "source": [
        "#机器学习线性回归模型\n",
        "数据分析也和机器学习密不可分，对于手上的数据，我们想了解它最后回归哪个模型，此时机器学习的回归算法就是不二之选"
      ]
    },
    {
      "cell_type": "markdown",
      "metadata": {
        "id": "nnjiIp7hcnxd",
        "colab_type": "text"
      },
      "source": [
        "###7.1  11 个必备基本概念"
      ]
    },
    {
      "cell_type": "markdown",
      "metadata": {
        "id": "lB9a1nqKcuju",
        "colab_type": "text"
      },
      "source": [
        "1. 数据集（data set） 记录的集合，假如我们用 3 个特征，分别为色泽，根蒂，响声来描述西瓜的特点，并且拿到了基于这3个特征的 10 万条记录。如果记录到.csv文件中，这个文件的结构可以记为： `fruit[100000][3] `，这样一个二维数组，行数为 10 万，列数为 3（因为有 3 个特征）。\n",
        "\n",
        "2. 属性（attribute） 反映事件或对象在某方面的表现或性质的事项，例如色泽，根蒂，响声等，又称为特征（feature）。属性上的取值称为属性值（attribute value）。\n",
        "\n",
        "3. 样本空间（sample space） 又称为属性空间（attribute space），或输入空间。它可以理解为训练数据中实际出现的所有属性值构成的集合空间，如上文中提到的 10 万条西瓜记录，每条记录有 3 个属性取值，组成了一个 `fruit[100000][3] `的样本空间。\n",
        "\n",
        "4. 假设空间（hypothetical space） 和样本空间有点类似，它是理论上的所有可能属性值构成的集合空间。\n",
        "\n",
        "5. 特征向量（feature vector） 假如将色泽，根蒂，敲声三个属性作为三个坐标轴 x1, x2, x3，每个西瓜对应一个空间点（一个坐标向量），每个这种示例称为一个特征向量，记为 (x1, x2, x3 )。\n",
        "\n",
        "6. 标记（label） 关于示例结果的信息，比如判断一个西瓜是好瓜，那么这个西瓜便拥有了标记示例，这个西瓜便成了样例（example）。一般用 Xi , yi 表示第 i 个样例，其中 yi 是示例 Xi 的标记。\n",
        "\n",
        "7. 学习（learning） 从数据中学得模型的过程，又称为训练（training）。正如上文所示，10万条西瓜数据集，根据它的三个特征，和每条特征的标记，经过计算最后得到了一个 f，通过这个 f 我们能预测第 10001 个西瓜是否是好瓜，这个过程被称为学习。\n",
        "\n",
        "8. 训练数据 （training data） 训练过程中使用的数据，其中每个样本称为一个训练样本（training sample），训练样本组成的集合称为训练集（training set）。通过这些训练数据通过学习，最终得出一个 f，也就是我们学到的模型。与之相对应的是测试数据，为了测试通过训练数据得到的f准确度能高不高，我们特意预留出一些数据用来专门测试用，这部分数据就被称为测试数据。\n",
        "\n",
        "9. 回归（regression） 如果预测的是连续值，例如预测西瓜的成熟度 ，它必然是个大于 0 的小数值，比如成熟度为 0.9，0.75，抑或是根据房屋面积，使用年限两个特征预测某个房屋的价值，类似这种预测称为回归。\n",
        "\n",
        "11. 分类（classification） 如果我们要预测的是离散值，等于 0,1,2,3 等这类离散值，例如好瓜，坏瓜，称此类学习任务为分类。如果分类的结果为两类，又称此分类为二分类，通常称其中一个为正类（positive class），另一个为反类（negative class）。\n",
        "\n",
        "12. 聚类（clustering） 没有标记的记录集，并且我们还想学习这类数据集，比如想从里头挖出点有用的东西来。然后我们根据某些特征和算法将训练中的西瓜分成若干组，自动形成了几簇，这些簇可能对应一些潜在的概念，比如浅色瓜，深色瓜，本地瓜，这些概念我们都是事先不知道的。\n",
        "\n"
      ]
    },
    {
      "cell_type": "markdown",
      "metadata": {
        "id": "9sqAPGH9draU",
        "colab_type": "text"
      },
      "source": [
        "###7.2 三 个假定"
      ]
    },
    {
      "cell_type": "markdown",
      "metadata": {
        "id": "v87ZoNvYdugz",
        "colab_type": "text"
      },
      "source": [
        "1. 假设真实值与预测值的误差项 ϵ 服从高斯分布，它直接影响线性回归模型是否取得成功，因为如果数据都是离散的，用线性回归预测准确度肯定不好。\n",
        "\n",
        "2. 预测的数据分布和训练时用到的数据分布是相同的\n",
        "\n",
        "3. 假定每个样本之间发生与否都是无关的，这样确保每个样本发生都是独立的。"
      ]
    },
    {
      "cell_type": "markdown",
      "metadata": {
        "id": "qCFna799eHcK",
        "colab_type": "text"
      },
      "source": [
        "###7.3 建立线性回归模型\n",
        "<script type=\"text/javascript\" src=\"http://cdn.mathjax.org/mathjax/latest/MathJax.js?config=default\"></script>\n"
      ]
    },
    {
      "cell_type": "markdown",
      "metadata": {
        "id": "Vl7Pmddmgoj8",
        "colab_type": "text"
      },
      "source": [
        "![](https://images.gitbook.cn/edcd3790-715c-11e9-b0cd-95416de514a5)  \n",
        "一个只含有 n+1个特征参数的等式，f表示误差项取值的概率"
      ]
    },
    {
      "cell_type": "markdown",
      "metadata": {
        "id": "dWY3kvjJg4Vr",
        "colab_type": "text"
      },
      "source": [
        "一般选用最大似然估计求权重参数"
      ]
    },
    {
      "cell_type": "markdown",
      "metadata": {
        "id": "lkZkWLYyg828",
        "colab_type": "text"
      },
      "source": [
        "###7.４ 最大似然估计求参数"
      ]
    },
    {
      "cell_type": "markdown",
      "metadata": {
        "id": "tPL_KsTohAEt",
        "colab_type": "text"
      },
      "source": [
        "最大似然估计就是根据让已经发生的数据取值概率最大"
      ]
    },
    {
      "cell_type": "markdown",
      "metadata": {
        "id": "ov7Md3pIhEuj",
        "colab_type": "text"
      },
      "source": [
        "###7.5 梯度下降求解优化问题"
      ]
    },
    {
      "cell_type": "markdown",
      "metadata": {
        "id": "O5F52v_AhKff",
        "colab_type": "text"
      },
      "source": [
        "![](https://images.gitbook.cn/c3d3ddd0-715d-11e9-aa96-11d2228ed903)\n",
        " \n",
        "η是学习率"
      ]
    },
    {
      "cell_type": "markdown",
      "metadata": {
        "id": "X0lHUB4whbgw",
        "colab_type": "text"
      },
      "source": [
        "###7.6 5 个算子"
      ]
    },
    {
      "cell_type": "markdown",
      "metadata": {
        "id": "jTDnDar7hbfG",
        "colab_type": "text"
      },
      "source": [
        "`'model' `建立的线性回归模型\n",
        "\n",
        "`'cost'` 代价函数\n",
        "\n",
        "`'gradient'  `梯度公式\n",
        "\n",
        "`'theta update'  `参数更新公式\n",
        "\n",
        "`'stop stratege' ` 迭代停止策略：代价函数小于阈值法"
      ]
    },
    {
      "cell_type": "markdown",
      "metadata": {
        "id": "h7lgsWJ-hqJJ",
        "colab_type": "text"
      },
      "source": [
        "#####model"
      ]
    },
    {
      "cell_type": "code",
      "metadata": {
        "id": "vTsyG3YyhuHy",
        "colab_type": "code",
        "colab": {}
      },
      "source": [
        "def model(theta,X):\n",
        "\n",
        "    theta = np.array(theta)\n",
        "\n",
        "    return X.dot(theta)"
      ],
      "execution_count": 0,
      "outputs": []
    },
    {
      "cell_type": "markdown",
      "metadata": {
        "id": "vhvGkrREhw3F",
        "colab_type": "text"
      },
      "source": [
        "#####cost\n",
        "\n"
      ]
    },
    {
      "cell_type": "code",
      "metadata": {
        "id": "oMLfpcqjh0F7",
        "colab_type": "code",
        "colab": {}
      },
      "source": [
        "def cost(m,theta,X,y):\n",
        "\n",
        "    'print(theta)'\n",
        "\n",
        "    ele = y - model(theta,X)\n",
        "\n",
        "    item = ele**2\n",
        "\n",
        "    item_sum = np.sum(item)\n",
        "\n",
        "    return item_sum/2/m"
      ],
      "execution_count": 0,
      "outputs": []
    },
    {
      "cell_type": "markdown",
      "metadata": {
        "id": "k7qo7ymSiA25",
        "colab_type": "text"
      },
      "source": [
        "#####gradient"
      ]
    },
    {
      "cell_type": "code",
      "metadata": {
        "id": "kyXIZ8r2iEMS",
        "colab_type": "code",
        "colab": {}
      },
      "source": [
        "def gradient(m,theta,X,y,cols):\n",
        "\n",
        "    grad_theta = []\n",
        "\n",
        "    for j in range(cols):\n",
        "\n",
        "        grad = (y-model(theta,X)).dot(X[:,j])\n",
        "\n",
        "        grad_sum = np.sum(grad)    \n",
        "\n",
        "        grad_theta.append(-grad_sum/m)\n",
        "\n",
        "    return np.array(grad_theta)"
      ],
      "execution_count": 0,
      "outputs": []
    },
    {
      "cell_type": "markdown",
      "metadata": {
        "id": "OSNxJUY1iKoK",
        "colab_type": "text"
      },
      "source": [
        "#####theta update"
      ]
    },
    {
      "cell_type": "code",
      "metadata": {
        "id": "hY9FICLKiNnB",
        "colab_type": "code",
        "colab": {}
      },
      "source": [
        "def theta_update(grad_theta,theta,sigma):\n",
        "\n",
        "    return theta - sigma * grad_theta"
      ],
      "execution_count": 0,
      "outputs": []
    },
    {
      "cell_type": "markdown",
      "metadata": {
        "id": "hb2Kp35KiOo1",
        "colab_type": "text"
      },
      "source": [
        "#####stop stratege\n",
        "\n"
      ]
    },
    {
      "cell_type": "code",
      "metadata": {
        "id": "t_GNO0dFiQ_Y",
        "colab_type": "code",
        "colab": {}
      },
      "source": [
        "def stop_stratege(cost,cost_update,threshold):\n",
        "\n",
        "    return cost-cost_update < threshold"
      ],
      "execution_count": 0,
      "outputs": []
    },
    {
      "cell_type": "markdown",
      "metadata": {
        "id": "xpe1UgUTiWp-",
        "colab_type": "text"
      },
      "source": [
        "###7.7 整体算法框架"
      ]
    },
    {
      "cell_type": "markdown",
      "metadata": {
        "id": "l4RRAbIkidKb",
        "colab_type": "text"
      },
      "source": [
        "#####OLS 算法整体框架"
      ]
    },
    {
      "cell_type": "code",
      "metadata": {
        "id": "4uyoqpa3ijA5",
        "colab_type": "code",
        "colab": {}
      },
      "source": [
        "def OLS(X,y,threshold):\n",
        "\n",
        "    start = time.clock()\n",
        "\n",
        "    '样本个数'\n",
        "\n",
        "    m=100\n",
        "\n",
        "    '设置权重参数的初始值'\n",
        "\n",
        "    theta = [0,0,0]\n",
        "\n",
        "    '迭代步数'\n",
        "\n",
        "    iters = 0;\n",
        "\n",
        "    '记录代价函数的值'\n",
        "\n",
        "    cost_record=[]\n",
        "\n",
        "    '学习率'\n",
        "\n",
        "    sigma = 0.0001\n",
        "\n",
        "    cost_val = cost(m,theta,X,y)\n",
        "\n",
        "    cost_record.append(cost_val)\n",
        "\n",
        "    while True:\n",
        "\n",
        "        grad = gradient(m,theta,X,y,3)\n",
        "\n",
        "        '参数更新'\n",
        "\n",
        "        theta = theta_update(grad,theta,sigma)\n",
        "\n",
        "        cost_update = cost(m,theta,X,y)\n",
        "\n",
        "        if stop_stratege(cost_val,cost_update,threshold):\n",
        "\n",
        "            break\n",
        "\n",
        "        iters=iters+1\n",
        "\n",
        "        cost_val = cost_update\n",
        "\n",
        "        cost_record.append(cost_val)\n",
        "\n",
        "    end = time.clock()\n",
        "\n",
        "    print(\"OLS convergence duration: %f s\" % (end - start))\n",
        "\n",
        "    return cost_record, iters,theta"
      ],
      "execution_count": 0,
      "outputs": []
    },
    {
      "cell_type": "markdown",
      "metadata": {
        "id": "m7rxTp0bixd4",
        "colab_type": "text"
      },
      "source": [
        "### 7.8 实战案例"
      ]
    },
    {
      "cell_type": "markdown",
      "metadata": {
        "id": "04ODIHuCi23N",
        "colab_type": "text"
      },
      "source": [
        "构建一个含有 100 个样本的，2 个特征的数据集"
      ]
    },
    {
      "cell_type": "markdown",
      "metadata": {
        "id": "HBJR9kEli457",
        "colab_type": "text"
      },
      "source": [
        "**首先导入使用的包：**"
      ]
    },
    {
      "cell_type": "code",
      "metadata": {
        "id": "729xpMHGi8o0",
        "colab_type": "code",
        "colab": {}
      },
      "source": [
        "import time\n",
        "import numpy as np\n",
        "import matplotlib.pyplot as plt\n",
        "from mpl_toolkits.mplot3d.axes3d import Axes3D \n",
        "from matplotlib import cm "
      ],
      "execution_count": 0,
      "outputs": []
    },
    {
      "cell_type": "markdown",
      "metadata": {
        "id": "BiTV_B_0i_LV",
        "colab_type": "text"
      },
      "source": [
        "**编写构建数据的函数**"
      ]
    },
    {
      "cell_type": "code",
      "metadata": {
        "id": "-FGOa2OtjBt5",
        "colab_type": "code",
        "colab": {}
      },
      "source": [
        "def build_data(num_points = 100):\n",
        "    data = []\n",
        "    for i in range(num_points):\n",
        "        x1 = np.random.normal(0.,0.55)\n",
        "        x2 = np.random.normal(0.,0.55)\n",
        "        y1 = x1 * 0.1 + x2 * 0.2 + 0.3 + np.random.normal(0.0,0.03)\n",
        "        data.append([x1,x2,y1])\n",
        "\n",
        "    data = np.array(data)\n",
        "\n",
        "    X = data[:,[0,1]] # 两列特征(theta_1, theta_2; 不包含theta_0)\n",
        "    y = data[:,2] # 标签值\n",
        "    return X, y"
      ],
      "execution_count": 0,
      "outputs": []
    },
    {
      "cell_type": "markdown",
      "metadata": {
        "id": "_BkrjBlijFbm",
        "colab_type": "text"
      },
      "source": [
        "**编写展示数据的函数：**"
      ]
    },
    {
      "cell_type": "code",
      "metadata": {
        "id": "vt_3fdVkjI31",
        "colab_type": "code",
        "colab": {}
      },
      "source": [
        "def show_points(X, y):\n",
        "    plt.scatter(X[:,0],y)\n",
        "    plt.show()\n",
        "    plt.scatter(X[:,1],y)\n",
        "    plt.show()\n",
        "\n",
        "    fig = plt.figure()\n",
        "    ax = Axes3D(fig)\n",
        "    ax.scatter(X[:,0],X[:,1],y,c='b')\n",
        "    ax.set_zlabel('y') #坐标轴\n",
        "    ax.set_ylabel('X2')\n",
        "    ax.set_xlabel('X1')\n",
        "    plt.show() "
      ],
      "execution_count": 0,
      "outputs": []
    },
    {
      "cell_type": "markdown",
      "metadata": {
        "id": "iEcVEa4hjNum",
        "colab_type": "text"
      },
      "source": [
        "**调用这两个函数：**"
      ]
    },
    {
      "cell_type": "code",
      "metadata": {
        "id": "u5GqlkXAjO6L",
        "colab_type": "code",
        "colab": {
          "base_uri": "https://localhost:8080/",
          "height": 839
        },
        "outputId": "18deffc3-695f-4148-d2fb-98d9224584a9"
      },
      "source": [
        "X, y = build_data()\n",
        "show_points(X,y)"
      ],
      "execution_count": 44,
      "outputs": [
        {
          "output_type": "display_data",
          "data": {
            "image/png": "[encoded data removed]",
            "text/plain": [
              "<Figure size 432x288 with 1 Axes>"
            ]
          },
          "metadata": {
            "tags": []
          }
        },
        {
          "output_type": "display_data",
          "data": {
            "image/png": "[encoded data removed]",
            "text/plain": [
              "<Figure size 432x288 with 1 Axes>"
            ]
          },
          "metadata": {
            "tags": []
          }
        },
        {
          "output_type": "display_data",
          "data": {
            "image/png": "[encoded data removed]",
            "text/plain": [
              "<Figure size 432x288 with 1 Axes>"
            ]
          },
          "metadata": {
            "tags": []
          }
        }
      ]
    },
    {
      "cell_type": "markdown",
      "metadata": {
        "id": "XhRIcadzjfRj",
        "colab_type": "text"
      },
      "source": [
        "**本次选用 2 个特征，但是不要忘记线性回归有一个默认特征，通常我们理解的截距，融入后也就是一共 3 个特征：**"
      ]
    },
    {
      "cell_type": "code",
      "metadata": {
        "id": "LRrZaPxUjpLx",
        "colab_type": "code",
        "colab": {}
      },
      "source": [
        "b = np.array([1]).repeat(100) #这就是参数theta_0,初始值都设置为 1\n",
        "X = np.column_stack((b,X)) # 扩展上theta_0特征列"
      ],
      "execution_count": 0,
      "outputs": []
    },
    {
      "cell_type": "markdown",
      "metadata": {
        "id": "X50esBlrkKLV",
        "colab_type": "text"
      },
      "source": [
        "**调用算法框架的主函数：**"
      ]
    },
    {
      "cell_type": "code",
      "metadata": {
        "id": "0ScQoTZckLxO",
        "colab_type": "code",
        "colab": {
          "base_uri": "https://localhost:8080/",
          "height": 34
        },
        "outputId": "635cb0c9-1b7b-4012-a5c7-4ab283e4a499"
      },
      "source": [
        "costs, iters,theta = OLS(X,y,0.000000001)"
      ],
      "execution_count": 47,
      "outputs": [
        {
          "output_type": "stream",
          "text": [
            "OLS convergence duration: 3.898476 s\n"
          ],
          "name": "stdout"
        }
      ]
    },
    {
      "cell_type": "markdown",
      "metadata": {
        "id": "Y8l3jdAJjvrO",
        "colab_type": "text"
      },
      "source": [
        "**绘制成本函数的迭代收敛的曲线：**"
      ]
    },
    {
      "cell_type": "code",
      "metadata": {
        "id": "MO9SPxS_jx_C",
        "colab_type": "code",
        "colab": {
          "base_uri": "https://localhost:8080/",
          "height": 277
        },
        "outputId": "bec1f432-9d87-4139-b818-49d68737639e"
      },
      "source": [
        "plt.plot(costs)\n",
        "plt.show()"
      ],
      "execution_count": 48,
      "outputs": [
        {
          "output_type": "display_data",
          "data": {
            "image/png": "[encoded data removed]",
            "text/plain": [
              "<Figure size 432x288 with 1 Axes>"
            ]
          },
          "metadata": {
            "tags": []
          }
        }
      ]
    },
    {
      "cell_type": "markdown",
      "metadata": {
        "id": "Zy7Qsbn7kf1N",
        "colab_type": "text"
      },
      "source": [
        "#资料分享"
      ]
    },
    {
      "cell_type": "markdown",
      "metadata": {
        "id": "01L_pTGlkg8-",
        "colab_type": "text"
      },
      "source": [
        "[哈佛大学数据分析课程](https://nbviewer.jupyter.org/github/jrjohansson/scientific-python-lectures/tree/master/)  \n",
        "[哈佛大学数据分析课程入口 part2](https://nbviewer.jupyter.org/github/cs109/2014/tree/master/)\n"
      ]
    },
    {
      "cell_type": "markdown",
      "metadata": {
        "id": "28Cjmr93SxZl",
        "colab_type": "text"
      },
      "source": [
        "##备注\n",
        "一级标题  #  \n",
        "二级标题  ###  \n",
        "作者公众号 ：python与算法社区"
      ]
    }
  ]
}