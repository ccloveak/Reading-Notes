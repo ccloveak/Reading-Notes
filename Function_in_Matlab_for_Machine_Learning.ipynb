{
  "nbformat": 4,
  "nbformat_minor": 0,
  "metadata": {
    "colab": {
      "name": "Function in Matlab for Machine Learning.ipynb",
      "version": "0.3.2",
      "provenance": [],
      "include_colab_link": true
    },
    "kernelspec": {
      "name": "python3",
      "display_name": "Python 3"
    }
  },
  "cells": [
    {
      "cell_type": "markdown",
      "metadata": {
        "id": "view-in-github",
        "colab_type": "text"
      },
      "source": [
        "<a href=\"https://colab.research.google.com/github/ccloveak/Study_Notes/blob/master/Function_in_Matlab_for_Machine_Learning.ipynb\" target=\"_parent\"><img src=\"https://colab.research.google.com/assets/colab-badge.svg\" alt=\"Open In Colab\"/></a>"
      ]
    },
    {
      "cell_type": "markdown",
      "metadata": {
        "id": "9VJP_3zyYpx5",
        "colab_type": "text"
      },
      "source": [
        "#Matlab编程过程中遇到的内置函数及其用法"
      ]
    },
    {
      "cell_type": "markdown",
      "metadata": {
        "id": "CD81OGGwYzpt",
        "colab_type": "text"
      },
      "source": [
        "##mean()"
      ]
    },
    {
      "cell_type": "markdown",
      "metadata": {
        "id": "bwcJ22LtZRQP",
        "colab_type": "text"
      },
      "source": [
        "##std()"
      ]
    },
    {
      "cell_type": "markdown",
      "metadata": {
        "id": "mxakdCm3bEty",
        "colab_type": "text"
      },
      "source": [
        "#自己设计的函数及其说明"
      ]
    }
  ]
}