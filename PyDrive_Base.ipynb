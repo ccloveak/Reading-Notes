{
  "nbformat": 4,
  "nbformat_minor": 0,
  "metadata": {
    "colab": {
      "name": "PyDrive Base.ipynb",
      "version": "0.3.2",
      "provenance": [],
      "collapsed_sections": [],
      "include_colab_link": true
    },
    "kernelspec": {
      "name": "python3",
      "display_name": "Python 3"
    }
  },
  "cells": [
    {
      "cell_type": "markdown",
      "metadata": {
        "id": "view-in-github",
        "colab_type": "text"
      },
      "source": [
        "<a href=\"https://colab.research.google.com/github/ccloveak/Study_Notes/blob/master/PyDrive_Base.ipynb\" target=\"_parent\"><img src=\"https://colab.research.google.com/assets/colab-badge.svg\" alt=\"Open In Colab\"/></a>"
      ]
    },
    {
      "cell_type": "markdown",
      "metadata": {
        "id": "CMjcYc_fLO6N",
        "colab_type": "text"
      },
      "source": [
        "#授权登录"
      ]
    },
    {
      "cell_type": "code",
      "metadata": {
        "id": "3cVZAZ3gLLKU",
        "colab_type": "code",
        "colab": {
          "base_uri": "https://localhost:8080/",
          "height": 71
        },
        "outputId": "063c2c42-bc80-4fcc-da99-c71891c23540"
      },
      "source": [
        "# 安装 PyDrive 操作库\n",
        "!pip install -U -q PyDrive\n",
        "from pydrive.auth import GoogleAuth\n",
        "from pydrive.drive import GoogleDrive\n",
        "from google.colab import auth\n",
        "from oauth2client.client import GoogleCredentials"
      ],
      "execution_count": 1,
      "outputs": [
        {
          "output_type": "stream",
          "text": [
            "\u001b[?25l\r\u001b[K     |▎                               | 10kB 15.5MB/s eta 0:00:01\r\u001b[K     |▋                               | 20kB 3.3MB/s eta 0:00:01\r\u001b[K     |█                               | 30kB 4.6MB/s eta 0:00:01\r\u001b[K     |█▎                              | 40kB 3.0MB/s eta 0:00:01\r\u001b[K     |█▋                              | 51kB 3.6MB/s eta 0:00:01\r\u001b[K     |██                              | 61kB 4.3MB/s eta 0:00:01\r\u001b[K     |██▎                             | 71kB 4.9MB/s eta 0:00:01\r\u001b[K     |██▋                             | 81kB 5.5MB/s eta 0:00:01\r\u001b[K     |███                             | 92kB 6.2MB/s eta 0:00:01\r\u001b[K     |███▎                            | 102kB 4.8MB/s eta 0:00:01\r\u001b[K     |███▋                            | 112kB 4.8MB/s eta 0:00:01\r\u001b[K     |████                            | 122kB 4.8MB/s eta 0:00:01\r\u001b[K     |████▎                           | 133kB 4.8MB/s eta 0:00:01\r\u001b[K     |████▋                           | 143kB 4.8MB/s eta 0:00:01\r\u001b[K     |█████                           | 153kB 4.8MB/s eta 0:00:01\r\u001b[K     |█████▎                          | 163kB 4.8MB/s eta 0:00:01\r\u001b[K     |█████▋                          | 174kB 4.8MB/s eta 0:00:01\r\u001b[K     |██████                          | 184kB 4.8MB/s eta 0:00:01\r\u001b[K     |██████▎                         | 194kB 4.8MB/s eta 0:00:01\r\u001b[K     |██████▋                         | 204kB 4.8MB/s eta 0:00:01\r\u001b[K     |███████                         | 215kB 4.8MB/s eta 0:00:01\r\u001b[K     |███████▎                        | 225kB 4.8MB/s eta 0:00:01\r\u001b[K     |███████▋                        | 235kB 4.8MB/s eta 0:00:01\r\u001b[K     |████████                        | 245kB 4.8MB/s eta 0:00:01\r\u001b[K     |████████▎                       | 256kB 4.8MB/s eta 0:00:01\r\u001b[K     |████████▋                       | 266kB 4.8MB/s eta 0:00:01\r\u001b[K     |█████████                       | 276kB 4.8MB/s eta 0:00:01\r\u001b[K     |█████████▎                      | 286kB 4.8MB/s eta 0:00:01\r\u001b[K     |█████████▋                      | 296kB 4.8MB/s eta 0:00:01\r\u001b[K     |██████████                      | 307kB 4.8MB/s eta 0:00:01\r\u001b[K     |██████████▎                     | 317kB 4.8MB/s eta 0:00:01\r\u001b[K     |██████████▋                     | 327kB 4.8MB/s eta 0:00:01\r\u001b[K     |███████████                     | 337kB 4.8MB/s eta 0:00:01\r\u001b[K     |███████████▎                    | 348kB 4.8MB/s eta 0:00:01\r\u001b[K     |███████████▋                    | 358kB 4.8MB/s eta 0:00:01\r\u001b[K     |████████████                    | 368kB 4.8MB/s eta 0:00:01\r\u001b[K     |████████████▎                   | 378kB 4.8MB/s eta 0:00:01\r\u001b[K     |████████████▋                   | 389kB 4.8MB/s eta 0:00:01\r\u001b[K     |█████████████                   | 399kB 4.8MB/s eta 0:00:01\r\u001b[K     |█████████████▎                  | 409kB 4.8MB/s eta 0:00:01\r\u001b[K     |█████████████▋                  | 419kB 4.8MB/s eta 0:00:01\r\u001b[K     |██████████████                  | 430kB 4.8MB/s eta 0:00:01\r\u001b[K     |██████████████▎                 | 440kB 4.8MB/s eta 0:00:01\r\u001b[K     |██████████████▋                 | 450kB 4.8MB/s eta 0:00:01\r\u001b[K     |███████████████                 | 460kB 4.8MB/s eta 0:00:01\r\u001b[K     |███████████████▎                | 471kB 4.8MB/s eta 0:00:01\r\u001b[K     |███████████████▋                | 481kB 4.8MB/s eta 0:00:01\r\u001b[K     |████████████████                | 491kB 4.8MB/s eta 0:00:01\r\u001b[K     |████████████████▎               | 501kB 4.8MB/s eta 0:00:01\r\u001b[K     |████████████████▋               | 512kB 4.8MB/s eta 0:00:01\r\u001b[K     |█████████████████               | 522kB 4.8MB/s eta 0:00:01\r\u001b[K     |█████████████████▎              | 532kB 4.8MB/s eta 0:00:01\r\u001b[K     |█████████████████▋              | 542kB 4.8MB/s eta 0:00:01\r\u001b[K     |██████████████████              | 552kB 4.8MB/s eta 0:00:01\r\u001b[K     |██████████████████▎             | 563kB 4.8MB/s eta 0:00:01\r\u001b[K     |██████████████████▋             | 573kB 4.8MB/s eta 0:00:01\r\u001b[K     |███████████████████             | 583kB 4.8MB/s eta 0:00:01\r\u001b[K     |███████████████████▎            | 593kB 4.8MB/s eta 0:00:01\r\u001b[K     |███████████████████▋            | 604kB 4.8MB/s eta 0:00:01\r\u001b[K     |████████████████████            | 614kB 4.8MB/s eta 0:00:01\r\u001b[K     |████████████████████▎           | 624kB 4.8MB/s eta 0:00:01\r\u001b[K     |████████████████████▋           | 634kB 4.8MB/s eta 0:00:01\r\u001b[K     |█████████████████████           | 645kB 4.8MB/s eta 0:00:01\r\u001b[K     |█████████████████████▎          | 655kB 4.8MB/s eta 0:00:01\r\u001b[K     |█████████████████████▋          | 665kB 4.8MB/s eta 0:00:01\r\u001b[K     |██████████████████████          | 675kB 4.8MB/s eta 0:00:01\r\u001b[K     |██████████████████████▎         | 686kB 4.8MB/s eta 0:00:01\r\u001b[K     |██████████████████████▋         | 696kB 4.8MB/s eta 0:00:01\r\u001b[K     |███████████████████████         | 706kB 4.8MB/s eta 0:00:01\r\u001b[K     |███████████████████████▎        | 716kB 4.8MB/s eta 0:00:01\r\u001b[K     |███████████████████████▋        | 727kB 4.8MB/s eta 0:00:01\r\u001b[K     |████████████████████████        | 737kB 4.8MB/s eta 0:00:01\r\u001b[K     |████████████████████████▎       | 747kB 4.8MB/s eta 0:00:01\r\u001b[K     |████████████████████████▋       | 757kB 4.8MB/s eta 0:00:01\r\u001b[K     |████████████████████████▉       | 768kB 4.8MB/s eta 0:00:01\r\u001b[K     |█████████████████████████▏      | 778kB 4.8MB/s eta 0:00:01\r\u001b[K     |█████████████████████████▌      | 788kB 4.8MB/s eta 0:00:01\r\u001b[K     |█████████████████████████▉      | 798kB 4.8MB/s eta 0:00:01\r\u001b[K     |██████████████████████████▏     | 808kB 4.8MB/s eta 0:00:01\r\u001b[K     |██████████████████████████▌     | 819kB 4.8MB/s eta 0:00:01\r\u001b[K     |██████████████████████████▉     | 829kB 4.8MB/s eta 0:00:01\r\u001b[K     |███████████████████████████▏    | 839kB 4.8MB/s eta 0:00:01\r\u001b[K     |███████████████████████████▌    | 849kB 4.8MB/s eta 0:00:01\r\u001b[K     |███████████████████████████▉    | 860kB 4.8MB/s eta 0:00:01\r\u001b[K     |████████████████████████████▏   | 870kB 4.8MB/s eta 0:00:01\r\u001b[K     |████████████████████████████▌   | 880kB 4.8MB/s eta 0:00:01\r\u001b[K     |████████████████████████████▉   | 890kB 4.8MB/s eta 0:00:01\r\u001b[K     |█████████████████████████████▏  | 901kB 4.8MB/s eta 0:00:01\r\u001b[K     |█████████████████████████████▌  | 911kB 4.8MB/s eta 0:00:01\r\u001b[K     |█████████████████████████████▉  | 921kB 4.8MB/s eta 0:00:01\r\u001b[K     |██████████████████████████████▏ | 931kB 4.8MB/s eta 0:00:01\r\u001b[K     |██████████████████████████████▌ | 942kB 4.8MB/s eta 0:00:01\r\u001b[K     |██████████████████████████████▉ | 952kB 4.8MB/s eta 0:00:01\r\u001b[K     |███████████████████████████████▏| 962kB 4.8MB/s eta 0:00:01\r\u001b[K     |███████████████████████████████▌| 972kB 4.8MB/s eta 0:00:01\r\u001b[K     |███████████████████████████████▉| 983kB 4.8MB/s eta 0:00:01\r\u001b[K     |████████████████████████████████| 993kB 4.8MB/s \n",
            "\u001b[?25h  Building wheel for PyDrive (setup.py) ... \u001b[?25l\u001b[?25hdone\n"
          ],
          "name": "stdout"
        }
      ]
    },
    {
      "cell_type": "code",
      "metadata": {
        "id": "jpLtnwCNLlzP",
        "colab_type": "code",
        "colab": {}
      },
      "source": [
        "# 授权登录\n",
        "auth.authenticate_user()\n",
        "gauth = GoogleAuth()\n",
        "gauth.credentials = GoogleCredentials.get_application_default()\n",
        "drive = GoogleDrive(gauth)"
      ],
      "execution_count": 0,
      "outputs": []
    },
    {
      "cell_type": "markdown",
      "metadata": {
        "id": "Ds6ud44zLO-d",
        "colab_type": "text"
      },
      "source": [
        "#遍历目录"
      ]
    },
    {
      "cell_type": "code",
      "metadata": {
        "id": "S7gXwjzPLy1M",
        "colab_type": "code",
        "colab": {
          "base_uri": "https://localhost:8080/",
          "height": 173
        },
        "outputId": "472c1243-9b03-427c-babc-89e3217756c2"
      },
      "source": [
        "file_list = drive.ListFile({'q': \"'root' in parents and trashed=false\"}).GetList()\n",
        "for file1 in file_list:\n",
        "    print('title: %s, id: %s, mimeType: %s' % (file1['title'], file1['id'], file1[\"mimeType\"]))"
      ],
      "execution_count": 3,
      "outputs": [
        {
          "output_type": "stream",
          "text": [
            "title: 沈仕杰明细5.23.xlsx, id: 1A9CiUpFF_kL0F5aY4GiLdabQscB2gbV9, mimeType: application/vnd.openxmlformats-officedocument.spreadsheetml.sheet\n",
            "title: out.txt, id: 1GiYRSEHZ8UhCsJeCIEWSO4xVtDQLu90a, mimeType: text/plain\n",
            "title: in.txt, id: 1C68dClFgFk_llin_qJ6tOQBy4LtcUZDB, mimeType: text/plain\n",
            "title: coursera machine learning, id: 1C2x3o13Omjn0mpCMAdhD5W3EnNYFqFEO, mimeType: application/vnd.google-apps.folder\n",
            "title: 论文, id: 1ZwmAEjQbs4yV0zlqZCmEBJMPsKtvMsOb, mimeType: application/vnd.google-apps.folder\n",
            "title: Colab Notebooks, id: 1MVMwp8u2fG0p_imGzaYj5FXRXgqf4nCv, mimeType: application/vnd.google-apps.folder\n",
            "title: 前期, id: 10v13_Rax5qI-P2tcbtv5Th5THkTrTU8L, mimeType: application/vnd.google-apps.folder\n",
            "title: N1, id: 0B8VFLHTuE4bpRzFWc1RjX2xaRTg, mimeType: application/vnd.google-apps.folder\n"
          ],
          "name": "stdout"
        }
      ]
    },
    {
      "cell_type": "markdown",
      "metadata": {
        "id": "4GVGGHvzLPCX",
        "colab_type": "text"
      },
      "source": [
        "**查询 Colab Notebooks 文件夹下的文件**"
      ]
    },
    {
      "cell_type": "code",
      "metadata": {
        "id": "R9uZ0T8XMIxG",
        "colab_type": "code",
        "colab": {}
      },
      "source": [
        "file_list = drive.ListFile({'q': \"'1MVMwp8u2fG0p_imGzaYj5FXRXgqf4nCv' in parents and trashed=false\"}).GetList()  \n"
      ],
      "execution_count": 0,
      "outputs": []
    },
    {
      "cell_type": "markdown",
      "metadata": {
        "id": "TLYwljFtM6ed",
        "colab_type": "text"
      },
      "source": [
        "#读取文件内容"
      ]
    },
    {
      "cell_type": "code",
      "metadata": {
        "id": "-B5cQ35GM9jb",
        "colab_type": "code",
        "colab": {
          "base_uri": "https://localhost:8080/",
          "height": 54
        },
        "outputId": "f1e7ee35-fee7-43a6-f547-175caa251bc6"
      },
      "source": [
        "file = drive.CreateFile({'id': \"1C68dClFgFk_llin_qJ6tOQBy4LtcUZDB\"}) \n",
        "file.GetContentString()"
      ],
      "execution_count": 8,
      "outputs": [
        {
          "output_type": "execute_result",
          "data": {
            "text/plain": [
              "'I have a dream that my four little children will one day live in a nation where they will not be judged by the color of their skin but by the content of their character. I have a dream today.\\n\\nI have a dream that one day down in Alabama, with its vicious racists, . . . one day right there in Alabama little black boys and black girls will be able to join hands with little white boys and white girls as sisters and brothers. I have a dream today.\\n\\nI have a dream that one day every valley shall be exalted, every hill and mountain shall be made low, the rough places will be made plain, and the crooked places will be made straight, and the glory of the Lord shall be revealed, and all flesh shall see it together.\\n\\nThis is our hope. . . With this faith we will be able to hew out of the mountain of despair a stone of hope. With this faith we will be able to transform the jangling discords of our nation into a beautiful symphony of brotherhood. With this faith we will be able to work together, to pray together, to struggle together, to go to jail together, to stand up for freedom together, knowing that we will be free one day. . . .\\n\\nAnd when this happens, and when we allow freedom ring, when we let it ring from every village and every hamlet, from every state and every city, we will be able to speed up that day when all of God\\'s children, black men and white men, Jews and Gentiles, Protestants and Catholics, will be able to join hands and sing in the words of the old Negro spiritual: \"Free at last! Free at last! Thank God Almighty, we are free at last!\"\\n'"
            ]
          },
          "metadata": {
            "tags": []
          },
          "execution_count": 8
        }
      ]
    }
  ]
}