{
  "nbformat": 4,
  "nbformat_minor": 0,
  "metadata": {
    "colab": {
      "name": "Raspberry Pie Base",
      "version": "0.3.2",
      "provenance": [],
      "collapsed_sections": [],
      "include_colab_link": true
    },
    "kernelspec": {
      "name": "python3",
      "display_name": "Python 3"
    }
  },
  "cells": [
    {
      "cell_type": "markdown",
      "metadata": {
        "id": "view-in-github",
        "colab_type": "text"
      },
      "source": [
        "<a href=\"https://colab.research.google.com/github/ccloveak/Study_Notes/blob/master/Raspberry_Pie_Base.ipynb\" target=\"_parent\"><img src=\"https://colab.research.google.com/assets/colab-badge.svg\" alt=\"Open In Colab\"/></a>"
      ]
    },
    {
      "cell_type": "markdown",
      "metadata": {
        "id": "iSTBIRBPrJn2",
        "colab_type": "text"
      },
      "source": [
        "#安装"
      ]
    },
    {
      "cell_type": "markdown",
      "metadata": {
        "id": "bjxj0j9grJrg",
        "colab_type": "text"
      },
      "source": [
        "###Raspbian 系统下载   \n",
        "\n",
        "`https://www.raspberrypi.org/downloads/raspbian/`"
      ]
    },
    {
      "cell_type": "markdown",
      "metadata": {
        "id": "rzxiHqBGrJuR",
        "colab_type": "text"
      },
      "source": [
        " ### TF 卡写入  \n",
        "    TF 卡写入工具：image writer  \n",
        " "
      ]
    },
    {
      "cell_type": "markdown",
      "metadata": {
        "id": "FlBRuP-WrJw1",
        "colab_type": "text"
      },
      "source": [
        "###配置 ssh  \n",
        "    在 TF 卡根目录放置一个名为 ssh 的空白文件"
      ]
    },
    {
      "cell_type": "markdown",
      "metadata": {
        "id": "NxztCzZ9rJ8I",
        "colab_type": "text"
      },
      "source": [
        "###配置网络  \n",
        "    通过 Wi-Fi 连接网络，在根目录在放置一个名为 wpa_supplicant.conf 的文件  \n",
        "    \n",
        "\n",
        "```\n",
        "country=JP\n",
        "ctrl_interface=DIR=/var/run/wpa_supplicant GROUP=netdev\n",
        "update_config=1\n",
        " \n",
        "network={\n",
        "    ssid=\"ccloveak\n",
        "    psk=\"17171177\"\n",
        "    key_mgmt=WPA-PSK\n",
        "\n",
        "}\n",
        "\n",
        "```\n",
        "\n"
      ]
    },
    {
      "cell_type": "markdown",
      "metadata": {
        "id": "FADBtdmqrJ_D",
        "colab_type": "text"
      },
      "source": [
        "###SSH 连接  \n",
        "     \n",
        "    通过路由器`192.168.1.253`管理页面找到树莓派的 IP  \n",
        "    \n",
        "    树莓派默认用户名密码：  \n",
        "    \n",
        "\n",
        "```\n",
        "用户名：pi\n",
        "密码：raspberry\n",
        "```\n",
        "    终端，输入：\n",
        "\n",
        "```\n",
        "ssh pi@192.168.1.106\n",
        "```\n",
        "\n",
        "\n",
        "\n"
      ]
    },
    {
      "cell_type": "markdown",
      "metadata": {
        "id": "TbySA7ujrKBf",
        "colab_type": "text"
      },
      "source": [
        "###初始化  \n",
        " 1.  修改默认密码：`sudo passwd pi`     \n",
        "       `1012`\n",
        "\n",
        "\n",
        "2.   使用 raspi-config 进行简单配置：\n",
        "\n",
        "```\n",
        "sudo raspi-config\n",
        "```  \n",
        "\n",
        "3. 设置时区：  \n",
        "    \n",
        "```\n",
        "Internationalisation Options > Change Timezone > Asia > Tokyo\n",
        "```  \n",
        "\n",
        "4. update vim\n",
        "    \n",
        "\n",
        "```\n",
        "sudo apt-get remove vim-common  #delete vim\n",
        "\n",
        "sudo apt-get install vim        #install vim\n",
        "```\n",
        "***\n",
        "***\n",
        "\n",
        "\n",
        "\n",
        "\n",
        "\n",
        "\n"
      ]
    },
    {
      "cell_type": "markdown",
      "metadata": {
        "id": "Uq8Y4Qlvmego",
        "colab_type": "text"
      },
      "source": [
        "#配置静态IP"
      ]
    },
    {
      "cell_type": "markdown",
      "metadata": {
        "id": "FjXBgPYbsK47",
        "colab_type": "text"
      },
      "source": [
        "###  第一次配置"
      ]
    },
    {
      "cell_type": "markdown",
      "metadata": {
        "id": "b1phl9WTml7J",
        "colab_type": "text"
      },
      "source": [
        "* $ sudo vim /etc/dhcpcd.conf\n",
        "\n",
        "\n",
        "\n",
        "```\n",
        "interface eth0\n",
        "static ip_address=192.168.1.110/24\n",
        "static routers=192.168.123.1.1\n",
        "static domain_name_servers=202.219.2.40 202.248.130.120\n",
        "```\n",
        "* $  sudo reboot\n",
        "\n",
        "\n"
      ]
    },
    {
      "cell_type": "markdown",
      "metadata": {
        "id": "Ci4CAMmGml4v",
        "colab_type": "text"
      },
      "source": [
        "* 已经可以通过ping 192.168.1.110连接树莓派了，可是路由器管理界面上显示的还是192.168.1.102 惆怅\n",
        "\n",
        "\n",
        "*   设置dmz服务器 用4g ping 外网ip 失败\n",
        "\n",
        "*   设置192.168.1.110:1080  用4g ping 外网ip 失败\n",
        "\n",
        "*   设置192.168.1.102:1080  用4g ping 外网ip 失败\n"
      ]
    },
    {
      "cell_type": "markdown",
      "metadata": {
        "id": "iyHzVWvPml2u",
        "colab_type": "text"
      },
      "source": [
        "### 第二次配置"
      ]
    },
    {
      "cell_type": "markdown",
      "metadata": {
        "id": "YsXStz5LmetN",
        "colab_type": "text"
      },
      "source": [
        "\n",
        "\n",
        "```\n",
        "$ sudo ifconfig\n",
        "```\n",
        "\n",
        "\n",
        "|inet | netmask | broadcast |\n",
        "|:----|:----|:----|\n",
        "192.168.1.110  | 255.255.255.0 | 192.168.1.255\n",
        "\n",
        "\n",
        "```\n",
        "$ netstat -nr\n",
        "```\n",
        " |Destination   |  Gateway|\n",
        "|:----|:----|\n",
        "0.0.0.0       |  192.168.1.1     \n",
        "192.168.1.0    | 0.0.0.0         \n",
        "\n"
      ]
    },
    {
      "cell_type": "markdown",
      "metadata": {
        "id": "sUTDzeFNv1HH",
        "colab_type": "text"
      },
      "source": [
        "\n",
        "\n",
        "\n",
        "*  $ sudo vim  /etc/dhcpcd.conf\n",
        "\n",
        "\n",
        "\n",
        "```\n",
        "interface eth0\n",
        "static ip_address=192.168.1.110/24\n",
        "static routers=192.168.123.1.1\n",
        "static domain_name_servers=192.168.1.1\n",
        "```\n",
        "\n",
        "\n",
        "*   设置192.168.1.110:1080  用4g ping 外网ip 失败\n",
        "*   设置192.168.1.110:1080 用4g ping  外网ip :1080  失败\n",
        "*   设置192.168.1.102:1080  用4g ping 外网ip 失败\n",
        "*   设置192.168.1.102:1080 用4g ping  外网ip :1080  失败\n",
        "*   设置192.168.1.110:80  用4g ping 外网ip 失败\n",
        "*   在路由器上固定mac 跟 ip\n",
        "\n",
        "\n",
        "\n",
        "\n"
      ]
    },
    {
      "cell_type": "markdown",
      "metadata": {
        "id": "kGVk0eKtuHFw",
        "colab_type": "text"
      },
      "source": [
        "# 初始化树莓派"
      ]
    },
    {
      "cell_type": "markdown",
      "metadata": {
        "id": "VV_IBsVGuK4z",
        "colab_type": "text"
      },
      "source": [
        "* 由于不知道还得几次重置树莓派系统，特意写一下备忘\n",
        "    * DISKPART\n",
        "    * List Disk\n",
        "    * Select Disk 1\n",
        "    * List volume\n",
        "    *   Select  volume 4\n",
        "    *   clean\n",
        "    *   create partition primary\n",
        "    *   active\n",
        "    *  快速格式化\n",
        "    *  用win32磁盘工具写入树莓派系统\n",
        "\n",
        "\n",
        "\n"
      ]
    },
    {
      "cell_type": "markdown",
      "metadata": {
        "id": "5AlFdFWTb10s",
        "colab_type": "text"
      },
      "source": [
        "# 一般步骤\n"
      ]
    },
    {
      "cell_type": "markdown",
      "metadata": {
        "id": "b8KreH_Jb7yw",
        "colab_type": "text"
      },
      "source": [
        "## 设置root密码"
      ]
    },
    {
      "cell_type": "markdown",
      "metadata": {
        "id": "KHgktFZxcAXC",
        "colab_type": "text"
      },
      "source": [
        "## 进入root账户"
      ]
    },
    {
      "cell_type": "markdown",
      "metadata": {
        "id": "fD0AmXEecDMl",
        "colab_type": "text"
      },
      "source": [
        "## 查看python版本"
      ]
    },
    {
      "cell_type": "markdown",
      "metadata": {
        "id": "8buaalQCcDWU",
        "colab_type": "text"
      },
      "source": [
        "\n",
        "\n",
        "*   最新版本树莓派内置python3.7.3 命令 python3\n",
        "*   安装pip3 \n",
        "    *   sudo apt-get install python3-pip python3-dev\n",
        "  \n",
        "\n",
        "\n",
        "\n",
        "\n",
        "\n"
      ]
    },
    {
      "cell_type": "markdown",
      "metadata": {
        "id": "pOBt_hirctIt",
        "colab_type": "text"
      },
      "source": [
        "#外部访问\n"
      ]
    },
    {
      "cell_type": "markdown",
      "metadata": {
        "id": "zzYHLdOTcvb7",
        "colab_type": "text"
      },
      "source": [
        "\n",
        "\n",
        "1.   查看当前路由器wan口ip\n",
        "2.   路由器设置 \n",
        "        *   dmz主机 树莓派暴露在广域网\n",
        "        *   想设置防护措施但是还是渣渣\n",
        "3.   清空下本地ip密码记录\n",
        "        *   cd ~/.ssh\n",
        "        *   rm known_hosts\n",
        "        \n",
        "4. ssh连接树莓派\n",
        "\n",
        "\n",
        "\n",
        "    *   ssh pi@路由器ip\n",
        "\n",
        "    *   输入pi 密码\n",
        "    \n",
        "    *   进入管理员账户  su root\n",
        "\n",
        "\n",
        "\n",
        "\n",
        "\n"
      ]
    }
  ]
}