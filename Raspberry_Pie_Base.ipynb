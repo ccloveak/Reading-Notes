{
  "nbformat": 4,
  "nbformat_minor": 0,
  "metadata": {
    "colab": {
      "name": "Raspberry Pie Base.ipynb",
      "version": "0.3.2",
      "provenance": [],
      "collapsed_sections": []
    },
    "kernelspec": {
      "name": "python3",
      "display_name": "Python 3"
    }
  },
  "cells": [
    {
      "cell_type": "markdown",
      "metadata": {
        "id": "iSTBIRBPrJn2",
        "colab_type": "text"
      },
      "source": [
        "#安装"
      ]
    },
    {
      "cell_type": "markdown",
      "metadata": {
        "id": "bjxj0j9grJrg",
        "colab_type": "text"
      },
      "source": [
        "###Raspbian 系统下载   \n",
        "\n",
        "`https://www.raspberrypi.org/downloads/raspbian/`"
      ]
    },
    {
      "cell_type": "markdown",
      "metadata": {
        "id": "rzxiHqBGrJuR",
        "colab_type": "text"
      },
      "source": [
        " ### TF 卡写入  \n",
        "    TF 卡写入工具：Etcher  \n",
        "    \n",
        "    https://www.balena.io/etcher/"
      ]
    },
    {
      "cell_type": "markdown",
      "metadata": {
        "id": "FlBRuP-WrJw1",
        "colab_type": "text"
      },
      "source": [
        "###配置 ssh  \n",
        "    在 TF 卡根目录放置一个名为 ssh 的空白文件"
      ]
    },
    {
      "cell_type": "markdown",
      "metadata": {
        "id": "NxztCzZ9rJ8I",
        "colab_type": "text"
      },
      "source": [
        "###配置网络  \n",
        "    通过 Wi-Fi 连接网络，在根目录在放置一个名为 wpa_supplicant.conf 的文件  \n",
        "    \n",
        "\n",
        "```\n",
        "country=CN\n",
        "ctrl_interface=DIR=/var/run/wpa_supplicant GROUP=netdev\n",
        "update_config=1\n",
        " \n",
        "network={\n",
        "    ssid=\"WiFi-A\"\n",
        "    psk=\"12345678\"\n",
        "    key_mgmt=WPA-PSK\n",
        "    priority=1\n",
        "}\n",
        " \n",
        "network={\n",
        "    ssid=\"ccloveak\"\n",
        "    key_mgmt=WPA-PSK\n",
        "    psk=\"17171177\"\n",
        "    priority=10\n",
        "    scan_ssid=1\n",
        "}\n",
        "```\n",
        "\n"
      ]
    },
    {
      "cell_type": "markdown",
      "metadata": {
        "id": "FADBtdmqrJ_D",
        "colab_type": "text"
      },
      "source": [
        "###SSH 连接  \n",
        "     \n",
        "    通过路由器`192.168.1.253`管理页面找到树莓派的 IP  \n",
        "    \n",
        "    树莓派默认用户名密码：  \n",
        "    \n",
        "\n",
        "```\n",
        "用户名：pi\n",
        "密码：raspberry\n",
        "```\n",
        "    终端，输入：\n",
        "\n",
        "```\n",
        "ssh pi@192.168.1.xx\n",
        "```\n",
        "\n",
        "\n",
        "\n"
      ]
    },
    {
      "cell_type": "markdown",
      "metadata": {
        "id": "TbySA7ujrKBf",
        "colab_type": "text"
      },
      "source": [
        "###初始化  \n",
        "    修改默认密码： \n",
        "    \n",
        "\n",
        "```\n",
        "sudo passwd pi\n",
        "```\n",
        "    使用 raspi-config 进行简单配置：\n",
        "    \n",
        "\n",
        "```\n",
        "sudo raspi-config\n",
        "```  \n",
        "    选择 `Expand Filesystem`选项确保TF卡所有空间被使用\n",
        "\n",
        "    设置时区：  \n",
        "    \n",
        "\n",
        "```\n",
        "Internationalisation Options > Change Timezone > Asia > Tokyo\n",
        "```  \n",
        "    添加中文支持：  \n",
        "    \n",
        "\n",
        "```\n",
        "sudo apt-get install ttf-wqy-zenhei\n",
        "sudo apt-get install scim-pinyin\n",
        "```\n",
        "\n",
        "\n",
        "\n",
        "\n",
        "\n"
      ]
    }
  ]
}