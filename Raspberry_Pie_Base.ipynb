{
  "nbformat": 4,
  "nbformat_minor": 0,
  "metadata": {
    "colab": {
      "name": "Raspberry Pie Base",
      "version": "0.3.2",
      "provenance": [],
      "collapsed_sections": [],
      "include_colab_link": true
    },
    "kernelspec": {
      "name": "python3",
      "display_name": "Python 3"
    }
  },
  "cells": [
    {
      "cell_type": "markdown",
      "metadata": {
        "id": "view-in-github",
        "colab_type": "text"
      },
      "source": [
        "<a href=\"https://colab.research.google.com/github/ccloveak/Study_Notes/blob/master/Raspberry_Pie_Base.ipynb\" target=\"_parent\"><img src=\"https://colab.research.google.com/assets/colab-badge.svg\" alt=\"Open In Colab\"/></a>"
      ]
    },
    {
      "cell_type": "markdown",
      "metadata": {
        "id": "iSTBIRBPrJn2",
        "colab_type": "text"
      },
      "source": [
        "#安装"
      ]
    },
    {
      "cell_type": "markdown",
      "metadata": {
        "id": "bjxj0j9grJrg",
        "colab_type": "text"
      },
      "source": [
        "###Raspbian 系统下载   \n",
        "\n",
        "`https://www.raspberrypi.org/downloads/raspbian/`"
      ]
    },
    {
      "cell_type": "markdown",
      "metadata": {
        "id": "rzxiHqBGrJuR",
        "colab_type": "text"
      },
      "source": [
        " ### TF 卡写入  \n",
        "    TF 卡写入工具：image writer  \n",
        " "
      ]
    },
    {
      "cell_type": "markdown",
      "metadata": {
        "id": "FlBRuP-WrJw1",
        "colab_type": "text"
      },
      "source": [
        "###配置 ssh  \n",
        "    在 TF 卡根目录放置一个名为 ssh 的空白文件"
      ]
    },
    {
      "cell_type": "markdown",
      "metadata": {
        "id": "NxztCzZ9rJ8I",
        "colab_type": "text"
      },
      "source": [
        "###配置网络  \n",
        "    通过 Wi-Fi 连接网络，在根目录在放置一个名为 wpa_supplicant.conf 的文件  \n",
        "    \n",
        "\n",
        "```\n",
        "country=JP\n",
        "ctrl_interface=DIR=/var/run/wpa_supplicant GROUP=netdev\n",
        "update_config=1\n",
        " \n",
        "network={\n",
        "    ssid=\"ccloveak\n",
        "    psk=\"17171177\"\n",
        "    key_mgmt=WPA-PSK\n",
        "\n",
        "}\n",
        "\n",
        "```\n",
        "\n"
      ]
    },
    {
      "cell_type": "markdown",
      "metadata": {
        "id": "FADBtdmqrJ_D",
        "colab_type": "text"
      },
      "source": [
        "###SSH 连接  \n",
        "     \n",
        "    通过路由器`192.168.1.253`管理页面找到树莓派的 IP  \n",
        "    \n",
        "    树莓派默认用户名密码：  \n",
        "    \n",
        "\n",
        "```\n",
        "用户名：pi\n",
        "密码：raspberry\n",
        "```\n",
        "    终端，输入：\n",
        "\n",
        "```\n",
        "ssh pi@192.168.1.106\n",
        "```\n",
        "\n",
        "\n",
        "\n"
      ]
    },
    {
      "cell_type": "markdown",
      "metadata": {
        "id": "TbySA7ujrKBf",
        "colab_type": "text"
      },
      "source": [
        "###初始化  \n",
        " 1.  修改默认密码：`sudo passwd pi`     \n",
        "       `1012`\n",
        "\n",
        "\n",
        "2.   使用 raspi-config 进行简单配置：\n",
        "\n",
        "```\n",
        "sudo raspi-config\n",
        "```  \n",
        "\n",
        "3. 设置时区：  \n",
        "    \n",
        "```\n",
        "Internationalisation Options > Change Timezone > Asia > Tokyo\n",
        "```  \n",
        "\n",
        "4. update vim\n",
        "    \n",
        "\n",
        "```\n",
        "sudo apt-get remove vim-common  #delete vim\n",
        "\n",
        "sudo apt-get install vim        #install vim\n",
        "```\n",
        "***\n",
        "***\n",
        "\n",
        "\n",
        "\n",
        "\n",
        "\n",
        "\n"
      ]
    },
    {
      "cell_type": "markdown",
      "metadata": {
        "id": "Uq8Y4Qlvmego",
        "colab_type": "text"
      },
      "source": [
        "#配置静态IP"
      ]
    },
    {
      "cell_type": "markdown",
      "metadata": {
        "id": "FjXBgPYbsK47",
        "colab_type": "text"
      },
      "source": [
        "###  第一次配置"
      ]
    },
    {
      "cell_type": "markdown",
      "metadata": {
        "id": "b1phl9WTml7J",
        "colab_type": "text"
      },
      "source": [
        "* $ sudo vim /etc/dhcpcd.conf\n",
        "\n",
        "\n",
        "\n",
        "```\n",
        "interface eth0\n",
        "static ip_address=192.168.1.110/24\n",
        "static routers=192.168.123.1.1\n",
        "static domain_name_servers=202.219.2.40 202.248.130.120\n",
        "```\n",
        "* $  sudo reboot\n",
        "\n",
        "\n"
      ]
    },
    {
      "cell_type": "markdown",
      "metadata": {
        "id": "Ci4CAMmGml4v",
        "colab_type": "text"
      },
      "source": [
        "* 已经可以通过ping 192.168.1.110连接树莓派了，可是路由器管理界面上显示的还是192.168.1.102 惆怅\n",
        "\n",
        "\n",
        "*   设置dmz服务器 用4g ping 外网ip 失败\n",
        "\n",
        "*   设置192.168.1.110:1080  用4g ping 外网ip 失败\n",
        "\n",
        "*   设置192.168.1.102:1080  用4g ping 外网ip 失败\n"
      ]
    },
    {
      "cell_type": "markdown",
      "metadata": {
        "id": "iyHzVWvPml2u",
        "colab_type": "text"
      },
      "source": [
        "### 第二次配置"
      ]
    },
    {
      "cell_type": "markdown",
      "metadata": {
        "id": "YsXStz5LmetN",
        "colab_type": "text"
      },
      "source": [
        "\n",
        "\n",
        "```\n",
        "$ sudo ifconfig\n",
        "```\n",
        "\n",
        "\n",
        "|inet | netmask | broadcast |\n",
        "|:----|:----|:----|\n",
        "192.168.1.110  | 255.255.255.0 | 192.168.1.255\n",
        "\n",
        "\n",
        "```\n",
        "$ netstat -nr\n",
        "```\n",
        " |Destination   |  Gateway|\n",
        "|:----|:----|\n",
        "0.0.0.0       |  192.168.1.1     \n",
        "192.168.1.0    | 0.0.0.0         \n",
        "\n"
      ]
    },
    {
      "cell_type": "markdown",
      "metadata": {
        "id": "sUTDzeFNv1HH",
        "colab_type": "text"
      },
      "source": [
        "\n",
        "\n",
        "\n",
        "*  $ sudo vim  /etc/dhcpcd.conf\n",
        "\n",
        "\n",
        "\n",
        "```\n",
        "interface eth0\n",
        "static ip_address=192.168.1.110/24\n",
        "static routers=192.168.123.1.1\n",
        "static domain_name_servers=192.168.1.1\n",
        "```\n",
        "\n",
        "\n",
        "*   设置192.168.1.110:1080  用4g ping 外网ip 失败\n",
        "*   设置192.168.1.110:1080 用4g ping  外网ip :1080  失败\n",
        "*   设置192.168.1.102:1080  用4g ping 外网ip 失败\n",
        "*   设置192.168.1.102:1080 用4g ping  外网ip :1080  失败\n",
        "*   设置192.168.1.110:80  用4g ping 外网ip 失败\n",
        "*   在路由器上固定mac 跟 ip\n",
        "\n",
        "\n",
        "\n",
        "\n"
      ]
    },
    {
      "cell_type": "markdown",
      "metadata": {
        "id": "96LQaQlZQhmp",
        "colab_type": "text"
      },
      "source": [
        "# Next maybe i should do something to protect my Raspberry Pie"
      ]
    }
  ]
}