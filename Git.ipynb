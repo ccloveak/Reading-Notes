{
  "nbformat": 4,
  "nbformat_minor": 0,
  "metadata": {
    "colab": {
      "name": "Git.ipynb",
      "version": "0.3.2",
      "provenance": [],
      "collapsed_sections": [
        "1C9uxXdYq8hg",
        "nMzvUJ0grhGS",
        "PP2yPgoUrzvh",
        "jkAFeSZesRsg",
        "Nc7oj6jbtL8u",
        "53CRA_eCtx-g",
        "Wh8yGsLLyUD0",
        "t8exdtjDyvQx",
        "xFLoYFVIzkDP",
        "pZhfH5aS1B9U",
        "Rr3_NXZB1hE4",
        "8Eu7D5FQ1oY1",
        "u4vWE3yOg42K",
        "kGJqD21LgxZu",
        "U0iccQmxhTvf",
        "93hao16MhXBL",
        "1MKrhj4ghXL-",
        "DTfs28PyhXTv",
        "iN1W_kx4hXZK",
        "2hXMHuvFhXeN",
        "2eDbJp6ihXmM",
        "lQXYq-pphXyB",
        "bU0eRA7OhX3f",
        "uguYdlZHpulQ",
        "rlwj6nkYpuzN",
        "r1BRNuoqpupq",
        "qkpN3sZF30aD",
        "zuTNMkwf30l0",
        "sT2yrrgU30sm",
        "rE-4xp5ncMlg",
        "bW439TStcM4P",
        "H8OdJLjanhgG",
        "5o275YydE-9q",
        "ypO2BzQ6Cldh",
        "qz5uAK2CDCw-",
        "6Ak8IBVbDDJ3",
        "CCcX53ZvSlMy",
        "4DrcBdZ_SlVE",
        "HvN2Qs2nfmX-",
        "5-3YivtqQ60L"
      ],
      "include_colab_link": true
    },
    "kernelspec": {
      "name": "python3",
      "display_name": "Python 3"
    }
  },
  "cells": [
    {
      "cell_type": "markdown",
      "metadata": {
        "id": "view-in-github",
        "colab_type": "text"
      },
      "source": [
        "<a href=\"https://colab.research.google.com/github/ccloveak/Study_Notes/blob/master/Git.ipynb\" target=\"_parent\"><img src=\"https://colab.research.google.com/assets/colab-badge.svg\" alt=\"Open In Colab\"/></a>"
      ]
    },
    {
      "cell_type": "markdown",
      "metadata": {
        "id": "1C9uxXdYq8hg",
        "colab_type": "text"
      },
      "source": [
        "#起步"
      ]
    },
    {
      "cell_type": "markdown",
      "metadata": {
        "id": "nMzvUJ0grhGS",
        "colab_type": "text"
      },
      "source": [
        "##1.1 关于版本控制"
      ]
    },
    {
      "cell_type": "markdown",
      "metadata": {
        "id": "tBzLwe4grvva",
        "colab_type": "text"
      },
      "source": [
        "版本控制是一种记录一个或若干文件内容变化，以便将来查阅特定版本修订情况的系统。"
      ]
    },
    {
      "cell_type": "markdown",
      "metadata": {
        "id": "PP2yPgoUrzvh",
        "colab_type": "text"
      },
      "source": [
        "###本地版本控制系统\n"
      ]
    },
    {
      "cell_type": "markdown",
      "metadata": {
        "id": "bmkMShFSr3_P",
        "colab_type": "text"
      },
      "source": [
        "许多人习惯用复制整个项目目录的方式来保存不同的版本，或许还会改名加上备份时间以示区别。 这么做唯一的好处就是简单，但是特别容易犯错。 有时候会混淆所在的工作目录，一不小心会写错文件或者覆盖意想外的文件。"
      ]
    },
    {
      "cell_type": "markdown",
      "metadata": {
        "id": "bUAcTpK7r8i4",
        "colab_type": "text"
      },
      "source": [
        "许多种本地版本控制系统，大多都是采用某种简单的数据库来记录文件的历次更新差异。![本地版本控制.](https://git-scm.com/book/en/v2/images/local.png)"
      ]
    },
    {
      "cell_type": "markdown",
      "metadata": {
        "id": "jkAFeSZesRsg",
        "colab_type": "text"
      },
      "source": [
        "###集中化的版本控制系统"
      ]
    },
    {
      "cell_type": "markdown",
      "metadata": {
        "id": "8kq-HFA9sUdS",
        "colab_type": "text"
      },
      "source": [
        "让在不同系统上的开发者协同工作"
      ]
    },
    {
      "cell_type": "markdown",
      "metadata": {
        "id": "OF7jqyf4sdCF",
        "colab_type": "text"
      },
      "source": [
        "有一个单一的集中管理的服务器，保存所有文件的修订版本，而协同工作的人们都通过客户端连到这台服务器，取出最新的文件或者提交更新![集中化的版本控制](https://git-scm.com/book/en/v2/images/centralized.png)"
      ]
    },
    {
      "cell_type": "markdown",
      "metadata": {
        "id": "VaZGq3LTsdA_",
        "colab_type": "text"
      },
      "source": [
        "###分布式版本控制系统"
      ]
    },
    {
      "cell_type": "markdown",
      "metadata": {
        "id": "Q1iEd8vCsyz5",
        "colab_type": "text"
      },
      "source": [
        "客户端并不只提取最新版本的文件快照，而是把代码仓库完整地镜像下来。 这么一来，任何一处协同工作用的服务器发生故障，事后都可以用任何一个镜像出来的本地仓库恢复。 因为每一次的克隆操作，实际上都是一次对代码仓库的完整备份。![分布式版本控制](https://git-scm.com/book/en/v2/images/distributed.png)\n",
        "许多这类系统都可以指定和若干不同的远端代码仓库进行交互。可以在同一个项目中，分别和不同工作小组的人相互协作。"
      ]
    },
    {
      "cell_type": "markdown",
      "metadata": {
        "id": "LMN2Brv5tKjV",
        "colab_type": "text"
      },
      "source": [
        "***"
      ]
    },
    {
      "cell_type": "markdown",
      "metadata": {
        "id": "Nc7oj6jbtL8u",
        "colab_type": "text"
      },
      "source": [
        "##1.2 Git 简史\n"
      ]
    },
    {
      "cell_type": "markdown",
      "metadata": {
        "id": "nYDkCwH_tSnb",
        "colab_type": "text"
      },
      "source": [
        " Linux 的缔造者 Linus Torvalds基于使用 BitKeeper 时的经验教训，开发出版本系统\n",
        "\n",
        "*   速度\n",
        "\n",
        "*   简单的设计\n",
        "\n",
        "*   对非线性开发模式的强力支持（允许成千上万个并行开发的分支）\n",
        "\n",
        "*   完全分布式\n",
        "\n",
        "*   有能力高效管理类似 Linux 内核一样的超大规模项目（速度和数据量）\n",
        "\n",
        "适合管理大项目，有着令人难以置信的非线性分支管理系统\n"
      ]
    },
    {
      "cell_type": "markdown",
      "metadata": {
        "id": "7cMPfC7Atw3Z",
        "colab_type": "text"
      },
      "source": [
        "***"
      ]
    },
    {
      "cell_type": "markdown",
      "metadata": {
        "id": "53CRA_eCtx-g",
        "colab_type": "text"
      },
      "source": [
        "##1.3 Git 基础"
      ]
    },
    {
      "cell_type": "markdown",
      "metadata": {
        "id": "r7ozPguxt3TA",
        "colab_type": "text"
      },
      "source": [
        "其它版本控制系统（包括 Subversion 和近似工具）![存储每个文件与初始版本的差异](https://git-scm.com/book/en/v2/images/deltas.png)"
      ]
    },
    {
      "cell_type": "markdown",
      "metadata": {
        "id": "75RBhyi5uI3F",
        "colab_type": "text"
      },
      "source": [
        " Git 对待数据更像是一个 快照流。 ![存储项目随时间改变的快照](https://git-scm.com/book/en/v2/images/snapshots.png)"
      ]
    },
    {
      "cell_type": "markdown",
      "metadata": {
        "id": "i3LFQeHDuSrl",
        "colab_type": "text"
      },
      "source": [
        "Git 更像是一个小型的文件系统，提供了许多以此为基础构建的超强工具，而不只是一个简单的 VCS。"
      ]
    },
    {
      "cell_type": "markdown",
      "metadata": {
        "id": "4CK59KAmubF3",
        "colab_type": "text"
      },
      "source": [
        "###近乎所有操作都是本地执行"
      ]
    },
    {
      "cell_type": "markdown",
      "metadata": {
        "id": "c6FBahj8ue3A",
        "colab_type": "text"
      },
      "source": [
        "在 Git 中的绝大多数操作都只需要访问本地文件和资源"
      ]
    },
    {
      "cell_type": "markdown",
      "metadata": {
        "id": "MpCRPjPxuoyQ",
        "colab_type": "text"
      },
      "source": [
        "###Git 保证完整性"
      ]
    },
    {
      "cell_type": "markdown",
      "metadata": {
        "id": "lxnbApzLusbG",
        "colab_type": "text"
      },
      "source": [
        "Git 中所有数据在存储前都计算校验和，然后以校验和来引用。   \n",
        "意味着不可能在 Git 不知情时更改任何文件内容或目录内容。  \n",
        "这个功能建构在 Git 底层，是构成 Git 哲学不可或缺的部分。  \n",
        "Git 用以计算校验和的机制叫做 SHA-1 散列（hash，哈希）  \n",
        "SHA-1 哈希看起来是这样：24b9da6552252987aa493b52f8696cd6d3b00373\n"
      ]
    },
    {
      "cell_type": "markdown",
      "metadata": {
        "id": "kJ1ZewhdvtEA",
        "colab_type": "text"
      },
      "source": [
        ""
      ]
    },
    {
      "cell_type": "markdown",
      "metadata": {
        "id": "wy3N82_avtFi",
        "colab_type": "text"
      },
      "source": [
        "###Git 一般只添加数据"
      ]
    },
    {
      "cell_type": "markdown",
      "metadata": {
        "id": "HmOkFsvNvu-V",
        "colab_type": "text"
      },
      "source": [
        "只往 Git 数据库中增加数据  \n",
        "很难让 Git 执行任何不可逆操作，或者让它以任何方式清除数据。  \n",
        "一旦你提交快照到 Git 中，就难以再丢失数据，特别是如果你定期的推送数据库到其它仓库的话"
      ]
    },
    {
      "cell_type": "markdown",
      "metadata": {
        "id": "oEL5-gbav8rh",
        "colab_type": "text"
      },
      "source": [
        ""
      ]
    },
    {
      "cell_type": "markdown",
      "metadata": {
        "id": "q1YK3Wl_v8tB",
        "colab_type": "text"
      },
      "source": [
        "###三种状态"
      ]
    },
    {
      "cell_type": "markdown",
      "metadata": {
        "id": "IvKY1A8RwAa7",
        "colab_type": "text"
      },
      "source": [
        "Git 有三种状态\n",
        "\n",
        "*   已提交（committed） 已提交表示数据已经安全的保存在本地数据库中。\n",
        "*   已修改（modified）已修改表示修改了文件，但还没保存到数据库中。\n",
        "*   已暂存（staged）已暂存表示对一个已修改文件的当前版本做了标记，使之包含在下次提交的快照中。  \n",
        "\n",
        "Git 项目的三个工作区域的概念：Git 仓库、工作目录以及暂存区域\n",
        "![工作目录、暂存区域以及 Git 仓库](https://git-scm.com/book/en/v2/images/areas.png)  \n",
        "Git 仓库目录是 Git 用来保存项目的元数据和对象数据库的地方。 这是 Git 中最重要的部分，从其它计算机克隆仓库时，拷贝的就是这里的数据。  \n",
        "\n",
        "工作目录是对项目的某个版本独立提取出来的内容。 这些从 Git 仓库的压缩数据库中提取出来的文件，放在磁盘上供你使用或修改。  \n",
        "\n",
        "暂存区域是一个文件，保存了下次将提交的文件列表信息，一般在 Git 仓库目录中。 有时候也被称作`‘索引’'，不过一般说法还是叫暂存区域。\n",
        "\n",
        "基本的 Git 工作流程如下：\n",
        "\n",
        "\n",
        "1. 在工作目录中修改文件。\n",
        "2. 暂存文件，将文件的快照放入暂存区域。\n",
        "3. 提交更新，找到暂存区域的文件，将快照永久性存储到 Git 仓库目录  \n",
        "\n",
        "如果 Git 目录中保存着特定版本的文件，就属于已提交状态。 如果作了修改并已放入暂存区域，就属于已暂存状态。 如果自上次取出后，作了修改但还没有放到暂存区域，就是已修改状态。\n",
        "***\n",
        "\n"
      ]
    },
    {
      "cell_type": "markdown",
      "metadata": {
        "id": "Wh8yGsLLyUD0",
        "colab_type": "text"
      },
      "source": [
        "##1.4 命令行"
      ]
    },
    {
      "cell_type": "markdown",
      "metadata": {
        "id": "AJARVkQlydyK",
        "colab_type": "text"
      },
      "source": [
        "只有在命令行模式下你才能执行 Git 的 所有 命令，而大多数的 GUI 软件只实现了 Git 所有功能的一个子集以降低操作难度。  \n",
        "学会了在命令行下如何操作，那么在操作 GUI 软件时应该也不会遇到什么困难\n",
        "***"
      ]
    },
    {
      "cell_type": "markdown",
      "metadata": {
        "id": "WNY59xGqyriD",
        "colab_type": "text"
      },
      "source": [
        "##1.5 安装 Git"
      ]
    },
    {
      "cell_type": "markdown",
      "metadata": {
        "id": "t8exdtjDyvQx",
        "colab_type": "text"
      },
      "source": [
        "####在 Mac 上安装"
      ]
    },
    {
      "cell_type": "markdown",
      "metadata": {
        "id": "SMglwee3y7rW",
        "colab_type": "text"
      },
      "source": [
        "[OSX Git 安装程序](http://git-scm.com/download/mac)\n",
        "***"
      ]
    },
    {
      "cell_type": "markdown",
      "metadata": {
        "id": "xFLoYFVIzkDP",
        "colab_type": "text"
      },
      "source": [
        "##1.6 初次运行 Git 前的配置\n"
      ]
    },
    {
      "cell_type": "markdown",
      "metadata": {
        "id": "vk8va0Kgz7UQ",
        "colab_type": "text"
      },
      "source": [
        "每台计算机上只需要配置一次，程序升级时会保留配置信息。"
      ]
    },
    {
      "cell_type": "markdown",
      "metadata": {
        "id": "_uR96aOs0Aav",
        "colab_type": "text"
      },
      "source": [
        "Git 自带一个 git config 的工具来帮助设置控制 Git 外观和行为的配置变量。  \n",
        "这些变量存储在三个不同的位置：  \n",
        "\n",
        "\n",
        "1.   /etc/gitconfig 文件: 包含系统上每一个用户及他们仓库的通用配置。 如果使用带有 --system 选项的 git config 时，它会从此文件读写配置变量。\n",
        "2.   ~/.gitconfig 或 ~/.config/git/config 文件：只针对当前用户。 可以传递 --global 选项让 Git 读写此文件。\n",
        "3. 当前使用仓库的 Git 目录中的 config 文件（就是 .git/config）：针对该仓库  \n",
        "\n",
        "每一个级别覆盖上一级别的配置，所以 .git/config 的配置变量会覆盖 /etc/gitconfig 中的配置变量。\n"
      ]
    },
    {
      "cell_type": "markdown",
      "metadata": {
        "id": "0cdT9BAu0Wen",
        "colab_type": "text"
      },
      "source": [
        "###用户信息\n",
        "第一件事就是设置用户名称与邮件地址  \n",
        "每一个 Git 的提交都会使用这些信息，并且它会写入到你的每一次提交中，不可更改\n",
        "\n",
        "```\n",
        "$ git config --global user.name \"ccloveak\"\n",
        "$ git config --global user.email johndoe@example.com\n",
        "```\n",
        "\n"
      ]
    },
    {
      "cell_type": "markdown",
      "metadata": {
        "id": "Rbjg_v9j0y7U",
        "colab_type": "text"
      },
      "source": [
        "###文本编辑器\n",
        "Git 需要你输入信息时会调用它  \n",
        "Git 会使用操作系统默认的文本编辑器，通常是 Vim"
      ]
    },
    {
      "cell_type": "markdown",
      "metadata": {
        "id": "pZhfH5aS1B9U",
        "colab_type": "text"
      },
      "source": [
        "###检查配置信息 \n",
        "使用` git config --list `命令"
      ]
    },
    {
      "cell_type": "markdown",
      "metadata": {
        "id": "EN9Ly52F1Qnj",
        "colab_type": "text"
      },
      "source": [
        "输入 `git config <key> `来检查 Git 的某一项配置  \n",
        "\n",
        "\n",
        "```\n",
        "$ git config user.name\n",
        "ccloveak\n",
        "```\n",
        "***\n",
        "\n"
      ]
    },
    {
      "cell_type": "markdown",
      "metadata": {
        "id": "Rr3_NXZB1hE4",
        "colab_type": "text"
      },
      "source": [
        "##1.7 获取帮助\n"
      ]
    },
    {
      "cell_type": "markdown",
      "metadata": {
        "id": "hY5GyZwN1oaB",
        "colab_type": "text"
      },
      "source": [
        "三种方法可以找到 Git 命令的使用手册：\n",
        "\n",
        "1.   `git help <verb>`\n",
        "2.   `git <verb> --help`\n",
        "3.   `$ man git-<verb>`\n",
        "例如 要想获得 config 命令的手册  \n",
        "\n",
        "\n",
        "```\n",
        "$ git help config\n",
        "```\n",
        "\n",
        "***\n",
        "\n"
      ]
    },
    {
      "cell_type": "markdown",
      "metadata": {
        "id": "8Eu7D5FQ1oY1",
        "colab_type": "text"
      },
      "source": [
        "##1.8  总结\n"
      ]
    },
    {
      "cell_type": "markdown",
      "metadata": {
        "id": "EY7B1M74ggZF",
        "colab_type": "text"
      },
      "source": [
        "\n",
        "```\n",
        "$ git version\n",
        "\n",
        "git version 2.19.2\n",
        "```\n",
        "***\n",
        "***"
      ]
    },
    {
      "cell_type": "markdown",
      "metadata": {
        "id": "u4vWE3yOg42K",
        "colab_type": "text"
      },
      "source": [
        "#Git 基础"
      ]
    },
    {
      "cell_type": "markdown",
      "metadata": {
        "id": "kGJqD21LgxZu",
        "colab_type": "text"
      },
      "source": [
        "##2.1 获取 Git 仓库"
      ]
    },
    {
      "cell_type": "markdown",
      "metadata": {
        "id": "U0iccQmxhTvf",
        "colab_type": "text"
      },
      "source": [
        "###获取 Git 仓库"
      ]
    },
    {
      "cell_type": "markdown",
      "metadata": {
        "id": "rucwRtVvhV9q",
        "colab_type": "text"
      },
      "source": [
        "两种取得 Git 项目仓库的方法：  \n",
        "第一种是在现有项目或目录下导入所有文件到 Git 中；   \n",
        "第二种是从一个服务器克隆一个现有的 Git 仓库。"
      ]
    },
    {
      "cell_type": "markdown",
      "metadata": {
        "id": "93hao16MhXBL",
        "colab_type": "text"
      },
      "source": [
        "###在现有目录中初始化仓库"
      ]
    },
    {
      "cell_type": "markdown",
      "metadata": {
        "id": "twp42gPyhXEM",
        "colab_type": "text"
      },
      "source": [
        "用 Git 来对现有的项目进行管理，你只需要进入该项目目录并输入\n",
        "\n",
        "```\n",
        "$ git init\n",
        "```\n",
        "\n"
      ]
    },
    {
      "cell_type": "markdown",
      "metadata": {
        "id": "dULsEdpahXGn",
        "colab_type": "text"
      },
      "source": [
        "在一个已经存在文件的文件夹（而不是空文件夹）中初始化 Git 仓库来进行版本控制，应该开始跟踪这些文件并提交  \n",
        "通过 git add 命令来实现对指定文件的跟踪，然后执行 git commit 提交：\n",
        "\n"
      ]
    },
    {
      "cell_type": "markdown",
      "metadata": {
        "id": "AWBw3uwphXJQ",
        "colab_type": "text"
      },
      "source": [
        "\n",
        "\n",
        "```\n",
        "$ git add *.c\n",
        "$ git add LICENSE\n",
        "$ git commit -m 'initial project version'\n",
        "```\n",
        "\n"
      ]
    },
    {
      "cell_type": "markdown",
      "metadata": {
        "id": "1MKrhj4ghXL-",
        "colab_type": "text"
      },
      "source": [
        "###克隆现有的仓库  \n",
        "举例：  \n",
        "要克隆 Git 的可链接库 libgit2：  \n",
        "\n",
        "\n",
        "```\n",
        "$ git clone https://github.com/libgit2/libgit2\n",
        "```\n",
        "\n",
        "会在当前目录下创建一个名为 “libgit2” 的目录，并在这个目录下初始化一个 .git 文件夹，从远程仓库拉取下所有数据放入 .git 文件夹，然后从中读取最新版本的文件的拷贝"
      ]
    },
    {
      "cell_type": "markdown",
      "metadata": {
        "id": "QwlnaJ2fhXOn",
        "colab_type": "text"
      },
      "source": [
        "在克隆远程仓库的时候，自定义本地仓库的名字：  \n",
        "\n",
        "\n",
        "```\n",
        "$ git clone https://github.com/libgit2/libgit2 mylibgit\n",
        "```\n",
        "\n"
      ]
    },
    {
      "cell_type": "markdown",
      "metadata": {
        "id": "K4q4FnlHhXRM",
        "colab_type": "text"
      },
      "source": [
        "###Git 支持多种数据传输协议  \n",
        "\n",
        "\n",
        "*    https:// 协议\n",
        "*    git:// 协议  \n",
        "*    SSH 传输协议\n",
        "\n"
      ]
    },
    {
      "cell_type": "markdown",
      "metadata": {
        "id": "DTfs28PyhXTv",
        "colab_type": "text"
      },
      "source": [
        "##2.2 记录每次更新到仓库"
      ]
    },
    {
      "cell_type": "markdown",
      "metadata": {
        "id": "hQNEXhvbhXWZ",
        "colab_type": "text"
      },
      "source": [
        "编辑过某些文件之后，由于自上次提交后对它们做了修改，Git 将它们标记为已修改文件。 我们逐步将这些修改过的文件放入暂存区，然后提交所有暂存了的修改，如此反复。使用 Git 时文件的生命周期如下：  \n",
        "![文件的状态变化周期](https://git-scm.com/book/en/v2/images/lifecycle.png)"
      ]
    },
    {
      "cell_type": "markdown",
      "metadata": {
        "id": "iN1W_kx4hXZK",
        "colab_type": "text"
      },
      "source": [
        "###检查当前文件状态"
      ]
    },
    {
      "cell_type": "markdown",
      "metadata": {
        "id": "oA1Ih9o4hXb1",
        "colab_type": "text"
      },
      "source": [
        "查看哪些文件处于什么状态，可以用 git status 命令  \n",
        "\n",
        "\n",
        "```\n",
        "$ git status\n",
        "```\n",
        "\n"
      ]
    },
    {
      "cell_type": "markdown",
      "metadata": {
        "id": "2hXMHuvFhXeN",
        "colab_type": "text"
      },
      "source": [
        "###跟踪新文件"
      ]
    },
    {
      "cell_type": "markdown",
      "metadata": {
        "id": "xhw8ovsmhXhD",
        "colab_type": "text"
      },
      "source": [
        "使用命令 git add 开始跟踪一个文件  \n",
        "\n",
        "\n",
        "```\n",
        "$ git add README\n",
        "```\n",
        "\n"
      ]
    },
    {
      "cell_type": "markdown",
      "metadata": {
        "id": "ldXQYlvGhXjk",
        "colab_type": "text"
      },
      "source": [
        "再运行 git status 命令，会看到 README 文件已被跟踪，并处于暂存状态  \n",
        "\n",
        "\n",
        "```\n",
        "$ git status\n",
        "```\n",
        "只要在` Changes to be committed `这行下面的，就说明是已暂存状态。  \n",
        "如果此时提交，那么该文件此时此刻的版本将被留存在历史记录中。  \n",
        "之前使用 git init 后就运行了 git add (files) 命令，开始跟踪当前目录下的文件。  \n",
        "**git add 命令使用文件或目录的路径作为参数；如果参数是目录的路径，该命令将递归地跟踪该目录下的所有文件。**\n",
        "\n",
        "\n"
      ]
    },
    {
      "cell_type": "markdown",
      "metadata": {
        "id": "2eDbJp6ihXmM",
        "colab_type": "text"
      },
      "source": [
        "\n",
        "###暂存已修改文件"
      ]
    },
    {
      "cell_type": "markdown",
      "metadata": {
        "id": "MzZLdQDmhXqh",
        "colab_type": "text"
      },
      "source": [
        "修改一个已被跟踪的文件。 如果修改了一个名为 `CONTRIBUTING.md `的已被跟踪的文件，然后运行 git status 命令，会看到下面内容：  \n",
        "\n",
        "\n",
        "```  \n",
        "Changes not staged for commit:\n",
        "\n",
        "modified:   CONTRIBUTING.md\n",
        "```  \n",
        "说明已跟踪文件的内容发生了变化，但还没有放到暂存区。  \n",
        "要暂存这次更新，需要运行 git add 命令。  \n",
        "**可以用git add 命令开始跟踪新文件，或者把已跟踪的文件放到暂存区，还能用于合并时把有冲突的文件标记为已解决状态等。 **  \n",
        "再用git status 命令查看状态：\n",
        "\n",
        "\n",
        "```\n",
        "Changes to be committed:  \n",
        "\n",
        "new file:   README\n",
        "modified:   CONTRIBUTING.md\n",
        "```\n",
        "两个文件都已暂存，下次提交时就会一并记录到仓库  \n",
        "\n",
        "\n",
        "\n",
        "\n"
      ]
    },
    {
      "cell_type": "markdown",
      "metadata": {
        "id": "9bOq0EPEhXvj",
        "colab_type": "text"
      },
      "source": [
        "假设此时，你想要在 CONTRIBUTING.md 里再加条注释， 重新编辑存盘后，准备好提交。 不过且慢，再运行 git status 看看  \n",
        "\n",
        "\n",
        "```\n",
        "Changes to be committed:  \n",
        "\n",
        "new file:   README\n",
        "modified:   CONTRIBUTING.md  \n",
        "\n",
        "Changes not staged for commit:  \n",
        "modified:   CONTRIBUTING.md\n",
        "```\n",
        "  \n",
        " CONTRIBUTING.md 文件同时出现在暂存区和非暂存区  \n",
        " Git 只不过暂存了运行 git add 命令时的版本  \n",
        " 需要重新运行 git add 把最新版本重新暂存起来\n"
      ]
    },
    {
      "cell_type": "markdown",
      "metadata": {
        "id": "lQXYq-pphXyB",
        "colab_type": "text"
      },
      "source": [
        "###状态简览"
      ]
    },
    {
      "cell_type": "markdown",
      "metadata": {
        "id": "aIpVpiEHhX0r",
        "colab_type": "text"
      },
      "source": [
        "使用 git status -s 命令或 git status --short 命令  \n",
        "\n",
        "运行 git status -s ，状态报告输出如下：\n",
        "\n",
        "```\n",
        "$ git status -s\n",
        " M README\n",
        "MM Rakefile\n",
        "A  lib/git.rb\n",
        "M  lib/simplegit.rb\n",
        "?? LICENSE.txt\n",
        "```\n",
        "\n",
        "\n",
        "*   ?? 标记：新添加的未跟踪文件\n",
        "*   A 标记：新添加到暂存区中的文件\n",
        "*   右边的标记：该文件被修改了但是还没放入暂存区\n",
        "*   右边的标记：该文件被修改了并放入了暂存区\n",
        "\n",
        "\n",
        "\n",
        "\n"
      ]
    },
    {
      "cell_type": "markdown",
      "metadata": {
        "id": "bU0eRA7OhX3f",
        "colab_type": "text"
      },
      "source": [
        "###忽略文件"
      ]
    },
    {
      "cell_type": "markdown",
      "metadata": {
        "id": "sXM4KkGnhX8o",
        "colab_type": "text"
      },
      "source": [
        "创建一个名为 .gitignore 的文件，列出要忽略的文件模式"
      ]
    },
    {
      "cell_type": "markdown",
      "metadata": {
        "id": "ZuVI2KP0hX7A",
        "colab_type": "text"
      },
      "source": [
        "\n",
        "```\n",
        "*.[oa]\n",
        "*~\n",
        "```\n",
        "第一行告诉 Git 忽略所有以 .o 或 .a 结尾的文件。  \n",
        "第二行告诉 Git 忽略所有以波浪符（~）结尾的文件。\n"
      ]
    },
    {
      "cell_type": "markdown",
      "metadata": {
        "id": "bHpttYQlpuX4",
        "colab_type": "text"
      },
      "source": [
        "**要养成一开始就设置好 .gitignore 文件的习惯，以免将来误提交这类无用的文件。**"
      ]
    },
    {
      "cell_type": "markdown",
      "metadata": {
        "id": "K2unEK9mpuc0",
        "colab_type": "text"
      },
      "source": [
        "文件 .gitignore 的格式规范如下：\n",
        "\n",
        "*   所有空行或者以 ＃ 开头的行都会被 Git 忽略。\n",
        "\n",
        "*   可以使用标准的 glob 模式匹配。\n",
        "\n",
        "*   匹配模式可以以（/）开头防止递归。\n",
        "\n",
        "*   匹配模式可以以（/）结尾指定目录。\n",
        "\n",
        "*   要忽略指定模式以外的文件或目录，可以在模式前加上惊叹号（!）取反。\n",
        "  \n",
        "glob 模式是指 shell 所使用的简化了的正则表达式  \n",
        "星号（*）匹配零个或多个任意字符\n",
        "`[abc] `匹配任何一个列在方括号中的字符（这个例子要么匹配一个 a，要么匹配一个 b，要么匹配一个 c）  \n",
        "问号（?）只匹配一个任意字符  \n",
        "如果在方括号中使用短划线分隔两个字符，表示所有在这两个字符范围内的都可以匹配（比如 `[0-9] `表示匹配所有 0 到 9 的数字）  \n",
        "使用两个星号（*) 表示匹配任意中间目录，比如 a/**/z 可以匹配 a/z , a/b/z 或 a/b/c/z\n"
      ]
    },
    {
      "cell_type": "markdown",
      "metadata": {
        "id": "XFcU3Bglpuf7",
        "colab_type": "text"
      },
      "source": [
        ".gitignore 文件的例子：  \n",
        "\n",
        "\n",
        "```\n",
        "# no .a files\n",
        "*.a\n",
        "\n",
        "# but do track lib.a, even though you're ignoring .a files above\n",
        "!lib.a\n",
        "\n",
        "# only ignore the TODO file in the current directory, not subdir/TODO\n",
        "/TODO\n",
        "\n",
        "# ignore all files in the build/ directory\n",
        "build/\n",
        "\n",
        "# ignore doc/notes.txt, but not doc/server/arch.txt\n",
        "doc/*.txt\n",
        "\n",
        "# ignore all .pdf files in the doc/ directory\n",
        "doc/**/*.pdf\n",
        "```  \n",
        "\n",
        "[.gitignore 文件列表](https://github.com/github/gitignore)\n"
      ]
    },
    {
      "cell_type": "markdown",
      "metadata": {
        "id": "uguYdlZHpulQ",
        "colab_type": "text"
      },
      "source": [
        "###查看已暂存和未暂存的修改"
      ]
    },
    {
      "cell_type": "markdown",
      "metadata": {
        "id": "teUKERPXpuql",
        "colab_type": "text"
      },
      "source": [
        "用 git diff 命令查看具体修改了什么地方，通过文件补丁的格式显示具体哪些行发生了改变。  \n",
        "比较的是工作目录中当前文件和暂存区域快照之间的差异， 也就是修改之后还没有暂存起来的变化内容。"
      ]
    },
    {
      "cell_type": "markdown",
      "metadata": {
        "id": "GP7wxYBPputW",
        "colab_type": "text"
      },
      "source": [
        "若要查看已暂存的将要添加到下次提交里的内容，可以用 `git diff --staged`"
      ]
    },
    {
      "cell_type": "markdown",
      "metadata": {
        "id": "vYFeJrjvpuwp",
        "colab_type": "text"
      },
      "source": [
        "git diff 本身只显示尚未暂存的改动，而不是自上次提交以来所做的所有改动\n"
      ]
    },
    {
      "cell_type": "markdown",
      "metadata": {
        "id": "rlwj6nkYpuzN",
        "colab_type": "text"
      },
      "source": [
        "###提交更新"
      ]
    },
    {
      "cell_type": "markdown",
      "metadata": {
        "id": "4wXKi1hDpu10",
        "colab_type": "text"
      },
      "source": [
        "每次准备提交前，先用 git status 看下，是不是都已暂存起来了， 然后再运行提交命令 git commit  \n",
        "会启动文本编辑器以便输入本次提交的说明"
      ]
    },
    {
      "cell_type": "markdown",
      "metadata": {
        "id": "J2GYc5papu4W",
        "colab_type": "text"
      },
      "source": [
        "在 commit 命令后添加 -m 选项，将提交信息与命令放在同一行  \n",
        "\n",
        "\n",
        "```\n",
        "$ git commit -m \"Story 182: Fix benchmarks for speed\"\n",
        "[master 463dc4f] Story 182: Fix benchmarks for speed\n",
        " 2 files changed, 2 insertions(+)\n",
        " create mode 100644 README\n",
        "```\n",
        "\n"
      ]
    },
    {
      "cell_type": "markdown",
      "metadata": {
        "id": "wWG946h5pvlb",
        "colab_type": "text"
      },
      "source": [
        "每一次运行提交操作，都是对你项目作一次快照，以后可以回到这个状态，或者进行比较。"
      ]
    },
    {
      "cell_type": "markdown",
      "metadata": {
        "id": "r1BRNuoqpupq",
        "colab_type": "text"
      },
      "source": [
        "###跳过使用暂存区域"
      ]
    },
    {
      "cell_type": "markdown",
      "metadata": {
        "id": "0GGePnkH30W6",
        "colab_type": "text"
      },
      "source": [
        "Git 提供了一个跳过使用暂存区域的方式， 只要在提交的时候，给 git commit 加上 -a 选项，Git 就会自动把所有已经跟踪过的文件暂存起来一并提交，从而跳过 git add 步骤。  \n",
        "\n",
        "\n",
        "```\n",
        "$ git commit -a -m 'added new benchmarks\n",
        "```\n",
        "\n"
      ]
    },
    {
      "cell_type": "markdown",
      "metadata": {
        "id": "qkpN3sZF30aD",
        "colab_type": "text"
      },
      "source": [
        "###移除文件"
      ]
    },
    {
      "cell_type": "markdown",
      "metadata": {
        "id": "nkz55i1w30cf",
        "colab_type": "text"
      },
      "source": [
        "要从 Git 中移除某个文件，就必须要从已跟踪文件清单中移除（确切地说，是从暂存区域移除），然后提交。 可以用 git rm 命令完成此项工作，并连带从工作目录中删除指定的文件，这样以后就不会出现在未跟踪文件清单中了。  \n",
        "如果只是简单地从工作目录中手工删除文件，运行 git status 时就会在 “Changes not staged for commit” 部分（也就是 未暂存清单）看到  \n",
        "\n",
        "\n",
        "```\n",
        "$ rm PROJECTS.md\n",
        "$ git status\n",
        "On branch master\n",
        "Your branch is up-to-date with 'origin/master'.\n",
        "Changes not staged for commit:\n",
        "  (use \"git add/rm <file>...\" to update what will be committed)\n",
        "  (use \"git checkout -- <file>...\" to discard changes in working directory)\n",
        "\n",
        "        deleted:    PROJECTS.md\n",
        "\n",
        "no changes added to commit (use \"git add\" and/or \"git commit -a\")\n",
        "```\n",
        "然后再运行 git rm 记录此次移除文件的操作：  \n",
        "\n",
        "\n",
        "```\n",
        "$ git rm PROJECTS.md\n",
        "rm 'PROJECTS.md'\n",
        "$ git status\n",
        "On branch master\n",
        "Changes to be committed:\n",
        "  (use \"git reset HEAD <file>...\" to unstage)\n",
        "\n",
        "    deleted:    PROJECTS.md\n",
        "```\n",
        "\n",
        "\n"
      ]
    },
    {
      "cell_type": "markdown",
      "metadata": {
        "id": "p0LF6oaC30hB",
        "colab_type": "text"
      },
      "source": [
        "下一次提交时，该文件就不再纳入版本管理了。 如果删除之前修改过并且已经放到暂存区域的话，则必须要用强制删除选项 -f（译注：即 force 的首字母）"
      ]
    },
    {
      "cell_type": "markdown",
      "metadata": {
        "id": "kkoFM_xd30jY",
        "colab_type": "text"
      },
      "source": [
        "想让文件保留在磁盘，但是并不想让 Git 继续跟踪，使用 --cached 选项：\n",
        "\n",
        "```\n",
        "$ git rm --cached README  \n",
        "\n",
        "```\n",
        "git rm 命令后面可以列出文件或者目录的名字，也可以使用 glob 模式  \n",
        "\n",
        "\n",
        "```\n",
        "$ git rm log/\\*.log\n",
        "```\n",
        "删除 log/ 目录下扩展名为 .log 的所有文件  \n",
        "\n",
        "\n",
        "```\n",
        "$ git rm \\*~\n",
        "```\n",
        "删除以 ~ 结尾的所有文件\n",
        "\n",
        "\n",
        "\n"
      ]
    },
    {
      "cell_type": "markdown",
      "metadata": {
        "id": "zuTNMkwf30l0",
        "colab_type": "text"
      },
      "source": [
        "###移动文件"
      ]
    },
    {
      "cell_type": "markdown",
      "metadata": {
        "id": "XoZwMVvn30oE",
        "colab_type": "text"
      },
      "source": [
        "Git 并不显式跟踪文件移动操作  \n",
        "\n",
        "运行 git mv 就相当于运行了下面三条命令  \n",
        "\n",
        "\n",
        "```\n",
        "$ mv README.md README\n",
        "$ git rm README.md\n",
        "$ git add README\n",
        "```\n",
        "Git 也会意识到这是一次改名\n"
      ]
    },
    {
      "cell_type": "markdown",
      "metadata": {
        "id": "sT2yrrgU30sm",
        "colab_type": "text"
      },
      "source": [
        "##2.3 Git  查看提交历史"
      ]
    },
    {
      "cell_type": "markdown",
      "metadata": {
        "id": "qAWR2-4930vZ",
        "colab_type": "text"
      },
      "source": [
        "提交了若干更新，克隆了某个项目之后，想回顾下提交历史  \n",
        "\n",
        "\n",
        "```\n",
        "$ git log\n",
        "```\n",
        "\n"
      ]
    },
    {
      "cell_type": "markdown",
      "metadata": {
        "id": "_nsRec84300B",
        "colab_type": "text"
      },
      "source": [
        "常用的选项是 `-p`，显示每次提交的内容差异  \n",
        "` -2` 来仅显示最近两次提交  \n",
        "\n",
        "\n",
        "```\n",
        "$ git log -p -2\n",
        "```\n",
        "附带了每次 commit 的变化  \n",
        "进行代码审查，或者快速浏览某个搭档提交的 commit 所带来的变化的时候，这个参数就非常有用  \n",
        "每次提交的简略的统计信息，--stat 选项  \n",
        "\n",
        "\n",
        "```\n",
        "$ git log --stat\n",
        "```\n",
        "--stat 选项在每次提交的下面列出所有被修改过的文件、有多少文件被修改了以及被修改过的文件的哪些行被移除或是添加了。 在每次提交的最后还有一个总结。  \n",
        "另外一个常用的选项是 --pretty 指定使用不同于默认格式的方式展示提交历史  \n",
        "\n",
        "\n",
        "```\n",
        "$ git log --pretty=oneline\n",
        "```\n",
        " format，可以定制要显示的记录格式  \n",
        "\n",
        "\n",
        "```\n",
        " $ git log --pretty=format:\"%h - %an, %ar : %s\"\n",
        "```\n",
        "\n",
        "**`git log --pretty=format `常用的选项**\n",
        "\n",
        "| 选项  | 说明 |\n",
        "|   ----  | :----  |\n",
        "%H | 提交对象（commit）的完整哈希字串\n",
        "%h | 提交对象的简短哈希字串\n",
        "%T |树对象（tree）的完整哈希字串\n",
        "%t |树对象的简短哈希字串\n",
        "%P |父对象（parent）的完整哈希字串\n",
        "%p |父对象的简短哈希字串\n",
        "%an |作者（author）的名字\n",
        "%ae |作者的电子邮件地址\n",
        "%ad |作者修订日期（可以用 --date= 选项定制格式）\n",
        "%ar |作者修订日期，按多久以前的方式显示\n",
        "%cn |提交者（committer）的名字\n",
        "%ce |提交者的电子邮件地址\n",
        "%cd |提交日期\n",
        "%cr |提交日期，按多久以前的方式显示\n",
        "%s |提交说明\n",
        "\n",
        "\n"
      ]
    },
    {
      "cell_type": "markdown",
      "metadata": {
        "id": "SyxrgRRw302g",
        "colab_type": "text"
      },
      "source": [
        "作者 和 提交者 差别  \n",
        "作者指的是实际作出修改的人  \n",
        "交者指的是最后将此工作成果提交到仓库的人"
      ]
    },
    {
      "cell_type": "markdown",
      "metadata": {
        "id": "RAGAlvzU305U",
        "colab_type": "text"
      },
      "source": [
        "形象地展示分支、合并历史：  \n",
        "\n",
        "\n",
        "```\n",
        "$ git log --pretty=format:\"%h %s\" --graph\n",
        "```\n",
        "\n"
      ]
    },
    {
      "cell_type": "markdown",
      "metadata": {
        "id": "1vKw7Hh130x4",
        "colab_type": "text"
      },
      "source": [
        "**git log 的常用选项**   \n",
        "\n",
        "| 选项  | 说明 |  \n",
        "|   : ----  | :----  |\n",
        "-p|按补丁格式显示每个更新之间的差异。\n",
        "--stat|显示每次更新的文件修改统计信息。\n",
        "--shortstat|只显示 --stat 中最后的行数修改添加移除统计。\n",
        "--name-only|仅在提交信息后显示已修改的文件清单。\n",
        "--name-status|显示新增、修改、删除的文件清单。\n",
        "--abbrev-commit|仅显示 SHA-1 的前几个字符，而非所有的 40 个字符。\n",
        "--relative-date|使用较短的相对时间显示（比如，“2 weeks ago”）。\n",
        "--graph|显示 ASCII 图形表示的分支合并历史。\n",
        "--pretty|使用其他格式显示历史提交信息。可用的选项包括 oneline，short，full，fuller 和 format（后跟指定格式）。"
      ]
    },
    {
      "cell_type": "markdown",
      "metadata": {
        "id": "jHRm-8np30qr",
        "colab_type": "text"
      },
      "source": [
        "###限制输出长度"
      ]
    },
    {
      "cell_type": "markdown",
      "metadata": {
        "id": "VmUcmh4x30et",
        "colab_type": "text"
      },
      "source": [
        "按照时间作限制的选项，比如 --since 和 --until   \n",
        "下面的命令列出所有最近两周内的提交：  \n",
        "\n",
        "\n",
        "```\n",
        "$ git log --since=2.weeks\n",
        "```  \n",
        "找出添加或移除了某一个特定函数的引用的提交  \n",
        "\n",
        "\n",
        "```\n",
        "$ git log -Sfunction_name\n",
        "\n",
        "```\n",
        "\n",
        "**限制 git log 输出的选项**    \n",
        "\n",
        "| 选项  | 说明 |  \n",
        "|   : ----  | :----  |\n",
        "-(n)| 仅显示最近的 n 条提交\n",
        "--since, --after| 仅显示指定时间之后的提交。\n",
        "--until, --before| 仅显示指定时间之前的提交。\n",
        "--author| 仅显示指定作者相关的提交。\n",
        "--committer| 仅显示指定提交者相关的提交。\n",
        "--grep| 仅显示含指定关键字的提交\n",
        "-S| 仅显示添加或移除了某个关键字的提交  \n",
        "\n",
        "\n",
        "要查看 Git 仓库中，2008 年 10 月期间，Junio Hamano 提交的但未合并的测试文件  \n",
        "\n",
        "\n",
        "```\n",
        "$ git log --pretty=\"%h - %s\" --author=gitster --since=\"2008-10-01\" \\\n",
        "   --before=\"2008-11-01\" --no-merges -- t/\n",
        "```\n",
        "\n",
        "\n",
        "\n"
      ]
    },
    {
      "cell_type": "markdown",
      "metadata": {
        "id": "rE-4xp5ncMlg",
        "colab_type": "text"
      },
      "source": [
        "##2.4 Git 基础 - 撤消操作"
      ]
    },
    {
      "cell_type": "markdown",
      "metadata": {
        "id": "xrR0syUecMpM",
        "colab_type": "text"
      },
      "source": [
        "提交完了才发现漏掉了几个文件没有添加，或者提交信息写错了。 此时，可以运行带有 --amend 选项的提交命令尝试重新提交：\n",
        "\n",
        "\n",
        "\n",
        "```\n",
        "$ git commit --amend\n",
        "```\n",
        "将暂存区中的文件提交。  \n",
        "如果自上次提交以来未做任何修改（例如，在上次提交后马上执行了此命令），那么快照会保持不变，修改的只是提交信息。  \n",
        "文本编辑器启动后，可以看到之前的提交信息。 编辑后保存会覆盖原来的提交信息。  \n",
        "就是备注的内容。\n"
      ]
    },
    {
      "cell_type": "markdown",
      "metadata": {
        "id": "7WejR9E0cMsv",
        "colab_type": "text"
      },
      "source": [
        "提交后发现忘记了暂存某些需要的修改，可以像下面这样操作：  \n",
        "\n",
        "\n",
        "```\n",
        "$ git commit -m 'initial commit'\n",
        "$ git add forgotten_file\n",
        "$ git commit --amend\n",
        "\n",
        "```  \n",
        "只会有一个提交 - 第二次提交将代替第一次提交的结果\n",
        "\n"
      ]
    },
    {
      "cell_type": "markdown",
      "metadata": {
        "id": "1BSp378ucMvw",
        "colab_type": "text"
      },
      "source": [
        "###取消暂存的文件"
      ]
    },
    {
      "cell_type": "markdown",
      "metadata": {
        "id": "RfGcpMXmcMyi",
        "colab_type": "text"
      },
      "source": [
        "你已经修改了两个文件并且想要将它们作为两次独立的修改提交，但是却意外地输入了 git add * 暂存了它们两个。 如何只取消暂存两个中的一个  \n",
        "git status 命令提示了你  \n",
        "\n",
        "\n",
        "```\n",
        "$ git add *\n",
        "$ git status  \n",
        "On branch master\n",
        "Changes to be committed:\n",
        "  (use \"git reset HEAD <file>...\" to unstage)\n",
        "\n",
        "    renamed:    README.md -> README\n",
        "    modified:   CONTRIBUTING.md\n",
        "```\n",
        " 取消暂存 CONTRIBUTING.md 文件：  \n",
        " \n",
        "\n",
        "```\n",
        "$ git reset HEAD CONTRIBUTING.md\n",
        "```\n",
        "\n",
        "在调用时加上 --hard 选项可以令 git reset 成为一个危险的命令（译注：可能导致工作目录中所有当前进度丢失！\n"
      ]
    },
    {
      "cell_type": "markdown",
      "metadata": {
        "id": "uCtdvxfjcM1L",
        "colab_type": "text"
      },
      "source": [
        "###撤消对文件的修改  \n",
        "撤消修改 - 将它还原成上次提交时的样子  \n",
        "\n",
        "\n",
        "```\n",
        "$ git checkout -- CONTRIBUTING.md\n",
        "```\n",
        "` git checkout -- [file] `对那个文件做的任何修改都会消失  \n",
        "\n",
        "在 Git 中任何 已提交的 东西几乎总是可以恢复的。 甚至那些被删除的分支中的提交或使用 --amend 选项覆盖的提交也可以恢复  \n",
        "然而，任何未提交的东西丢失后很可能再也找不到了。\n",
        "\n",
        "\n"
      ]
    },
    {
      "cell_type": "markdown",
      "metadata": {
        "id": "bW439TStcM4P",
        "colab_type": "text"
      },
      "source": [
        "##2.5  远程仓库的使用"
      ]
    },
    {
      "cell_type": "markdown",
      "metadata": {
        "id": "PHCBTbLqcM-V",
        "colab_type": "text"
      },
      "source": [
        "**如何管理自己的远程仓库**"
      ]
    },
    {
      "cell_type": "markdown",
      "metadata": {
        "id": "LH3thVnbcNBc",
        "colab_type": "text"
      },
      "source": [
        "远程仓库是指托管在因特网或其他网络中的项目的版本库。  \n",
        "可以有好几个远程仓库，通常有些仓库只读，有些仓库可以读写。   \n",
        "与他人协作涉及管理远程仓库以及根据需要推送或拉取数据。  \n",
        "管理远程仓库包括了解如何添加远程仓库、移除无效的远程仓库、管理不同的远程分支并定义它们是否被跟踪等等。"
      ]
    },
    {
      "cell_type": "markdown",
      "metadata": {
        "id": "SSwTU1fgcNEh",
        "colab_type": "text"
      },
      "source": [
        "###查看远程仓库"
      ]
    },
    {
      "cell_type": "markdown",
      "metadata": {
        "id": "9eTIIgxNngoa",
        "colab_type": "text"
      },
      "source": [
        "想查看已经配置的远程仓库服务器  \n",
        "\n",
        "\n",
        "```\n",
        "$git remote\n",
        "```\n",
        "列出指定的每一个远程服务器的简写\n"
      ]
    },
    {
      "cell_type": "markdown",
      "metadata": {
        "id": "K8Wpw16KngrZ",
        "colab_type": "text"
      },
      "source": [
        "指定选项 -v，会显示需要读写远程仓库使用的 Git 保存的简写与其对应的 URL  \n",
        "\n",
        "\n",
        "```\n",
        "$ git remote -v\n",
        "origin\thttps://github.com/schacon/ticgit (fetch)\n",
        "origin\thttps://github.com/schacon/ticgit (push)\n",
        "```\n",
        "\n",
        "拥有多个远程仓库的仓库  \n",
        "\n",
        "\n",
        "```\n",
        "$ cd grit\n",
        "$ git remote -v\n",
        "bakkdoor  https://github.com/bakkdoor/grit (fetch)\n",
        "bakkdoor  https://github.com/bakkdoor/grit (push)\n",
        "cho45     https://github.com/cho45/grit (fetch)\n",
        "cho45     https://github.com/cho45/grit (push)\n",
        "defunkt   https://github.com/defunkt/grit (fetch)\n",
        "defunkt   https://github.com/defunkt/grit (push)\n",
        "koke      git://github.com/koke/grit.git (fetch)\n",
        "koke      git://github.com/koke/grit.git (push)\n",
        "origin    git@github.com:mojombo/grit.git (fetch)\n",
        "origin    git@github.com:mojombo/grit.git (push)\n",
        "```\n",
        "这些远程仓库使用了不同的协议；  \n",
        "将会在 在服务器上搭建 Git 中了解更多信息\n"
      ]
    },
    {
      "cell_type": "markdown",
      "metadata": {
        "id": "3SibhDTnngze",
        "colab_type": "text"
      },
      "source": [
        "###添加远程仓库  \n",
        "运行 `git remote add <shortname> <url> `添加一个新的远程 Git 仓库，同时指定一个可以轻松引用的简写  \n",
        "\n",
        "\n",
        "```\n",
        "$ git remote add pb https://github.com/paulboone/ticgit\n",
        "$ git remote -v\n",
        "origin\thttps://github.com/schacon/ticgit (fetch)\n",
        "origin\thttps://github.com/schacon/ticgit (push)\n",
        "pb\thttps://github.com/paulboone/ticgit (fetch)\n",
        "pb\thttps://github.com/paulboone/ticgit (push)\n",
        "\n",
        "```\n",
        "现在可以在命令行中使用字符串 pb 来代替整个 URL。 例如，如果你想拉取 Paul 的仓库中有但你没有的信息，可以运行 `git fetch pb`：\n",
        "\n",
        "\n",
        "```\n",
        "$ git fetch pb\n",
        "remote: Counting objects: 43, done.\n",
        "remote: Compressing objects: 100% (36/36), done.\n",
        "remote: Total 43 (delta 10), reused 31 (delta 5)\n",
        "Unpacking objects: 100% (43/43), done.\n",
        "From https://github.com/paulboone/ticgit\n",
        " * [new branch]      master     -> pb/master\n",
        " * [new branch]      ticgit     -> pb/ticgit\n",
        "```\n",
        "\n"
      ]
    },
    {
      "cell_type": "markdown",
      "metadata": {
        "id": "gaTK3AyAng2O",
        "colab_type": "text"
      },
      "source": [
        "###从远程仓库中抓取与拉取"
      ]
    },
    {
      "cell_type": "markdown",
      "metadata": {
        "id": "bmsSO-mong5C",
        "colab_type": "text"
      },
      "source": [
        "从远程仓库中获得数据，可以执行：  \n",
        "\n",
        "\n",
        "`$ git fetch [remote-name]`"
      ]
    },
    {
      "cell_type": "markdown",
      "metadata": {
        "id": "OoFAFV5lng74",
        "colab_type": "text"
      },
      "source": [
        "`git fetch origin `会抓取克隆（或上一次抓取）后新推送的所有工作  \n",
        "当准备好时必须手动将其合并入自己的库。"
      ]
    },
    {
      "cell_type": "markdown",
      "metadata": {
        "id": "SaM3eO6hng_B",
        "colab_type": "text"
      },
      "source": [
        "如果有一个分支设置为跟踪一个远程分支，可以使用 git pull 命令来自动的抓取然后合并远程分支到当前分支  \n",
        "运行 git pull 通常会从最初克隆的服务器上抓取数据并自动尝试合并到当前所在的分支"
      ]
    },
    {
      "cell_type": "markdown",
      "metadata": {
        "id": "h2YkAPkAnhB4",
        "colab_type": "text"
      },
      "source": [
        "###推送到远程仓库"
      ]
    },
    {
      "cell_type": "markdown",
      "metadata": {
        "id": "FuNa0tHTnhE9",
        "colab_type": "text"
      },
      "source": [
        "分享自己的项目时，必须将其推送到上游。 命令：`git push [remote-name] [branch-name`]  \n",
        "运行这个命令可以将所做的工作备份到服务器  \n",
        "\n",
        "```\n",
        "$ git push origin master\n",
        "```\n",
        "有所克隆服务器的写入权限，并且之前没有人推送过时，这条命令才能生效  \n",
        "\n"
      ]
    },
    {
      "cell_type": "markdown",
      "metadata": {
        "id": "ezMFDqH5nhHs",
        "colab_type": "text"
      },
      "source": [
        "###查看远程仓库"
      ]
    },
    {
      "cell_type": "markdown",
      "metadata": {
        "id": "iftRr1VVnhKs",
        "colab_type": "text"
      },
      "source": [
        "想要查看某一个远程仓库的更多信息，可以使用 `git remote show [remote-name] `命令  \n",
        "\n",
        "\n",
        "```\n",
        "$ git remote show origin\n",
        "```\n",
        "\n",
        "出远程仓库的 URL 与跟踪分支的信息  \n",
        "如果运行 git pull，就会抓取所有的远程引用，然后将远程 master 分支合并到本地 master 分支"
      ]
    },
    {
      "cell_type": "markdown",
      "metadata": {
        "id": "N6bUED-FnhNs",
        "colab_type": "text"
      },
      "source": [
        ""
      ]
    },
    {
      "cell_type": "markdown",
      "metadata": {
        "id": "2EX4L4gnnhQl",
        "colab_type": "text"
      },
      "source": [
        ""
      ]
    },
    {
      "cell_type": "markdown",
      "metadata": {
        "id": "qYsmyKLJnhTf",
        "colab_type": "text"
      },
      "source": [
        "###远程仓库的移除与重命名"
      ]
    },
    {
      "cell_type": "markdown",
      "metadata": {
        "id": "tUQURW7mnhWd",
        "colab_type": "text"
      },
      "source": [
        "想要重命名引用的名字可以运行` git remote rename` 去修改一个远程仓库的简写名  \n",
        "\n",
        "\n",
        "```\n",
        "$ git remote rename pb paul\n",
        "```\n",
        "这同样也会修改远程分支名字\n"
      ]
    },
    {
      "cell_type": "markdown",
      "metadata": {
        "id": "illLz-SHnhZd",
        "colab_type": "text"
      },
      "source": [
        "**想要移除一个远程仓库**"
      ]
    },
    {
      "cell_type": "markdown",
      "metadata": {
        "id": "cihctvlRnhcr",
        "colab_type": "text"
      },
      "source": [
        "`$ git remote rm paul`"
      ]
    },
    {
      "cell_type": "markdown",
      "metadata": {
        "id": "H8OdJLjanhgG",
        "colab_type": "text"
      },
      "source": [
        "##2.6打标签"
      ]
    },
    {
      "cell_type": "markdown",
      "metadata": {
        "id": "Egk4aI5Mnhm3",
        "colab_type": "text"
      },
      "source": [
        "Git 可以给历史中的某一个提交打上标签，以示重要"
      ]
    },
    {
      "cell_type": "markdown",
      "metadata": {
        "id": "RtVxcONEnhrP",
        "colab_type": "text"
      },
      "source": [
        "###列出标签\n"
      ]
    },
    {
      "cell_type": "markdown",
      "metadata": {
        "id": "bMIqtrnOCP5Q",
        "colab_type": "text"
      },
      "source": [
        "Git 中列出已有的标签是非常简单直观  \n",
        "\n",
        "\n",
        "```\n",
        "$ git tag\n",
        "v0.1\n",
        "v1.3\n",
        "```\n",
        "\n"
      ]
    },
    {
      "cell_type": "markdown",
      "metadata": {
        "id": "n_9qFkg1CP8F",
        "colab_type": "text"
      },
      "source": [
        "只对 1.8.5 系列感兴趣"
      ]
    },
    {
      "cell_type": "markdown",
      "metadata": {
        "id": "Lp8t06aECQFe",
        "colab_type": "text"
      },
      "source": [
        "\n",
        "```\n",
        "$ git tag -l 'v1.8.5*'\n",
        "v1.8.5\n",
        "v1.8.5-rc0\n",
        "v1.8.5-rc1\n",
        "v1.8.5-rc2\n",
        "v1.8.5-rc3\n",
        "v1.8.5.1\n",
        "\n",
        "```\n",
        "\n"
      ]
    },
    {
      "cell_type": "markdown",
      "metadata": {
        "id": "wq5gltkACQPi",
        "colab_type": "text"
      },
      "source": [
        "###创建标签\n"
      ]
    },
    {
      "cell_type": "markdown",
      "metadata": {
        "id": "Mjk7uWdICQSA",
        "colab_type": "text"
      },
      "source": [
        "Git 使用两种主要类型的标签：轻量标签（lightweight）与附注标签（annotated）。"
      ]
    },
    {
      "cell_type": "markdown",
      "metadata": {
        "id": "Q_X_74rWCQW3",
        "colab_type": "text"
      },
      "source": [
        "*  轻量标签很像一个不会改变的分支 - 它只是一个特定提交的引用  \n",
        "\n",
        "\n",
        "*   附注标签是存储在 Git 数据库中的一个完整对象  \n"
      ]
    },
    {
      "cell_type": "markdown",
      "metadata": {
        "id": "9xDRfOPoCQZ7",
        "colab_type": "text"
      },
      "source": [
        "Git 中创建一个附注标签  \n",
        "\n",
        "\n",
        "```\n",
        "$ git tag -a v1.4 -m 'my version 1.4'\n",
        "```\n",
        "通过使用 git show 命令可以看到标签信息与对应的提交信息：  \n",
        "\n",
        "\n",
        "```\n",
        "$ git show v1.4\n",
        "```\n",
        "\n",
        "\n"
      ]
    },
    {
      "cell_type": "markdown",
      "metadata": {
        "id": "sAHviCQDCQde",
        "colab_type": "text"
      },
      "source": [
        "轻量标签本质上是将提交校验和存储到一个文件中 - 没有保存任何其他信息。 创建轻量标签，不需要使用 -a、-s 或 -m 选项，只需要提供标签名字：  \n",
        "\n",
        "\n",
        "```\n",
        "$ git tag v1.4-lw\n",
        "```\n",
        "在标签上运行 git show  \n",
        "\n",
        "\n",
        "```\n",
        "$ git show v1.4-lw\n",
        "commit ca82a6dff817ec66f44342007202690a93763949\n",
        "Author: Scott Chacon <schacon@gee-mail.com>\n",
        "Date:   Mon Mar 17 21:52:11 2008 -0700\n",
        "\n",
        "    changed the version number\n",
        "\n",
        "```\n",
        "\n",
        "\n"
      ]
    },
    {
      "cell_type": "markdown",
      "metadata": {
        "id": "RetjC2fYCQgf",
        "colab_type": "text"
      },
      "source": [
        "###后期打标签"
      ]
    },
    {
      "cell_type": "markdown",
      "metadata": {
        "id": "tpAuQEdRCQjH",
        "colab_type": "text"
      },
      "source": [
        "命令的末尾指定提交的校验和（或部分校验和）:  \n",
        "\n",
        "\n",
        "```\n",
        "$ git tag -a v1.2 9fceb02\n",
        "```\n",
        "\n"
      ]
    },
    {
      "cell_type": "markdown",
      "metadata": {
        "id": "ucZ15VKMCQU_",
        "colab_type": "text"
      },
      "source": [
        "###共享标签"
      ]
    },
    {
      "cell_type": "markdown",
      "metadata": {
        "id": "F0HG-9lGCQDW",
        "colab_type": "text"
      },
      "source": [
        "`git push `命令并不会传送标签到远程仓库服务器上  \n",
        "在创建完标签后你必须显式地推送标签到共享服务器上。   \n",
        "这个过程就像共享远程分支一样 - 运行` git push origin [tagname]`  \n",
        "\n",
        "\n",
        "```\n",
        "$ git push origin v1.5\n",
        "```\n",
        "一次性推送很多标签，可以使用带有 --tags 选项的 git push 命令  \n",
        "\n",
        "把所有不在远程仓库服务器上的标签全部传送到那里\n",
        "\n",
        "```\n",
        "$ git push origin --tags\n",
        "```\n",
        "\n",
        "\n"
      ]
    },
    {
      "cell_type": "markdown",
      "metadata": {
        "id": "tlnDF6xFCQBq",
        "colab_type": "text"
      },
      "source": [
        "###删除标签"
      ]
    },
    {
      "cell_type": "markdown",
      "metadata": {
        "id": "Zr9LxZZyCP_E",
        "colab_type": "text"
      },
      "source": [
        "删除掉本地仓库上的标签，可以使用命令` git tag -d <tagname>`  \n",
        "可以使用下面的命令删除掉一个轻量级标签： \n",
        "\n",
        "\n",
        "```\n",
        "$ git tag -d v1.4-lw\n",
        "Deleted tag 'v1.4-lw' (was e7d5add)\n",
        "```\n",
        "\n"
      ]
    },
    {
      "cell_type": "markdown",
      "metadata": {
        "id": "yii00pEHE-p-",
        "colab_type": "text"
      },
      "source": [
        "使用 `git push <remote> :refs/tags/<tagname> `来更新远程仓库：  \n",
        "\n",
        "```\n",
        "$ git push origin :refs/tags/v1.4-lw\n",
        "```\n",
        "\n"
      ]
    },
    {
      "cell_type": "markdown",
      "metadata": {
        "id": "a-CcFD1-E-s4",
        "colab_type": "text"
      },
      "source": [
        "###检出标签"
      ]
    },
    {
      "cell_type": "markdown",
      "metadata": {
        "id": "cnJKjIWtE-wE",
        "colab_type": "text"
      },
      "source": [
        "想查看某个标签所指向的文件版本，可以使用 git checkout 命令"
      ]
    },
    {
      "cell_type": "markdown",
      "metadata": {
        "id": "zFgrLuc1E-y-",
        "colab_type": "text"
      },
      "source": [
        "在“分离头指针”状态下，如果你做了某些更改然后提交它们，标签不会发生变化，但你的新提交将不属于任何分支，并且将无法访问，除非确切的提交哈希"
      ]
    },
    {
      "cell_type": "markdown",
      "metadata": {
        "id": "ObWMbivWE-4i",
        "colab_type": "text"
      },
      "source": [
        "如果需要进行更改——比如修复旧版本的错误——需要创建一个新分支  \n",
        "\n",
        "\n",
        "```\n",
        "$ git checkout -b version2 v2.0.0\n",
        "```\n",
        "\n"
      ]
    },
    {
      "cell_type": "markdown",
      "metadata": {
        "id": "5o275YydE-9q",
        "colab_type": "text"
      },
      "source": [
        "##2.7  Git 别名  "
      ]
    },
    {
      "cell_type": "markdown",
      "metadata": {
        "id": "UuhGFYgmE_Bl",
        "colab_type": "text"
      },
      "source": [
        "通过 git config 文件来轻松地为每一个命令设置一个别名  \n",
        "\n",
        "\n",
        "```\n",
        "$ git config --global alias.co checkout\n",
        "$ git config --global alias.br branch\n",
        "$ git config --global alias.ci commit\n",
        "$ git config --global alias.st status\n",
        "```\n",
        "\n"
      ]
    },
    {
      "cell_type": "markdown",
      "metadata": {
        "id": "biqZDI_6E_Hx",
        "colab_type": "text"
      },
      "source": [
        "向 Git 中添加你自己的取消暂存别名：  \n",
        "\n",
        "\n",
        "```\n",
        "$ git config --global alias.unstage 'reset HEAD --'\n",
        "```\n",
        "\n"
      ]
    },
    {
      "cell_type": "markdown",
      "metadata": {
        "id": "EIwGlmudE_Gf",
        "colab_type": "text"
      },
      "source": [
        "**添加一个 last 命令  **\n",
        "\n",
        "\n",
        "```\n",
        "$ git config --global alias.last 'log -1 HEAD'\n",
        "```\n",
        "\n"
      ]
    },
    {
      "cell_type": "markdown",
      "metadata": {
        "id": "eGkLkNxpE-7e",
        "colab_type": "text"
      },
      "source": [
        "想要执行外部命令，而不是一个 Git 子命令，可以在命令前面加入 ! 符号  \n",
        "将 git visual 定义为 gitk 的别名：\n",
        "\n",
        "\n",
        "\n",
        "```\n",
        "$ git config --global alias.visual '!gitk'\n",
        "```\n",
        "\n"
      ]
    },
    {
      "cell_type": "markdown",
      "metadata": {
        "id": "7poXQWluE-2Y",
        "colab_type": "text"
      },
      "source": [
        "##2.8 总结"
      ]
    },
    {
      "cell_type": "markdown",
      "metadata": {
        "id": "JrSQVcKMGugK",
        "colab_type": "text"
      },
      "source": [
        "基本的 Git 本地操作－创建或者克隆一个仓库、做更改、暂存并提交这些更改、浏览你的仓库从创建到现在的所有更改的历史"
      ]
    },
    {
      "cell_type": "markdown",
      "metadata": {
        "id": "RUtrC_TBGujB",
        "colab_type": "text"
      },
      "source": [
        "***\n",
        "***"
      ]
    },
    {
      "cell_type": "markdown",
      "metadata": {
        "id": "ypO2BzQ6Cldh",
        "colab_type": "text"
      },
      "source": [
        "# Git 分支"
      ]
    },
    {
      "cell_type": "markdown",
      "metadata": {
        "id": "PUUr-zyJCrYE",
        "colab_type": "text"
      },
      "source": [
        "使用分支意味着可以把工作从开发主线上分离开来，以免影响开发主线。"
      ]
    },
    {
      "cell_type": "markdown",
      "metadata": {
        "id": "qz5uAK2CDCw-",
        "colab_type": "text"
      },
      "source": [
        "## 3.1分支简介"
      ]
    },
    {
      "cell_type": "markdown",
      "metadata": {
        "id": "r51gAa2hDCzM",
        "colab_type": "text"
      },
      "source": [
        "首次提交对象及其树结构  \n",
        "![首次提交对象及其树结构](https://git-scm.com/book/en/v2/images/commit-and-tree.png)"
      ]
    },
    {
      "cell_type": "markdown",
      "metadata": {
        "id": "LW8xaoX-DC2b",
        "colab_type": "text"
      },
      "source": [
        "做些修改后再次提交，那么这次产生的提交对象会包含一个指向上次提交对象（父对象）的指针。![提交对象及其父对象](https://git-scm.com/book/en/v2/images/commits-and-parents.png)  \n",
        "  \n",
        "  \n",
        "\n",
        "*   Git 的分支，其实本质上仅仅是指向提交对象的可变指针。\n",
        "*   在多次提交操作之后，有一个指向最后那个提交对象的 master 分支。\n",
        "*   会在每次的提交操作中自动向前移动。\n"
      ]
    },
    {
      "cell_type": "markdown",
      "metadata": {
        "id": "AAoTVXtaDC52",
        "colab_type": "text"
      },
      "source": [
        "![分支及其提交历史](https://git-scm.com/book/en/v2/images/branch-and-history.png)"
      ]
    },
    {
      "cell_type": "markdown",
      "metadata": {
        "id": "MvyFdIUtDC8h",
        "colab_type": "text"
      },
      "source": [
        "### 分支创建"
      ]
    },
    {
      "cell_type": "markdown",
      "metadata": {
        "id": "c0MROtCBDC--",
        "colab_type": "text"
      },
      "source": [
        "Git 创建了一个可以移动的新的指针。  \n",
        "创建一个 testing 分支， 你需要使用 git branch 命令：\n",
        "\n",
        "```\n",
        "$ git branch testing\n",
        "```\n",
        "\n"
      ]
    },
    {
      "cell_type": "markdown",
      "metadata": {
        "id": "dA_QvhigDDCH",
        "colab_type": "text"
      },
      "source": [
        "![两个指向相同提交历史的分支](https://git-scm.com/book/en/v2/images/two-branches.png)  \n",
        "Git 有一个名为 HEAD 的特殊指针，指向当前所在的本地分支。  \n",
        "![HEAD 指向当前所在的分支](https://git-scm.com/book/en/v2/images/head-to-master.png)  \n",
        "\n",
        "使用 git log 命令查看各个分支当前所指的对象，功能的参数是 --decorate。  \n",
        "\n",
        "\n",
        "```\n",
        "$ git log --oneline --decorate\n",
        "f30ab (HEAD, master, testing) add feature #32 - ability to add new\n",
        "34ac2 fixed bug #1328 - stack overflow under certain conditions\n",
        "98ca9 initial commit of my project\n",
        "```\n",
        "\n"
      ]
    },
    {
      "cell_type": "markdown",
      "metadata": {
        "id": "ygc8GIDtDDEj",
        "colab_type": "text"
      },
      "source": [
        "### 分支切换"
      ]
    },
    {
      "cell_type": "markdown",
      "metadata": {
        "id": "OnABA8zXDDHL",
        "colab_type": "text"
      },
      "source": [
        "切换到一个已存在的分支，使用 git checkout 命令  \n",
        "切换到新创建的 testing 分支  \n",
        "\n",
        "\n",
        "```\n",
        "$ git checkout testing\n",
        "```\n",
        "![HEAD 指向当前所在的分支](https://git-scm.com/book/en/v2/images/head-to-testing.png)\n",
        "\n",
        "再一次提交：  \n",
        "\n",
        "\n",
        "```\n",
        "$ vim test.rb\n",
        "$ git commit -a -m 'made a change'\n",
        "```\n",
        "\n",
        "![HEAD 分支随着提交操作自动向前移动](https://git-scm.com/book/en/v2/images/advance-testing.png) \n",
        "\n",
        "切回 master\n",
        "\n",
        "\n",
        "```\n",
        "$ git checkout master\n",
        "```\n",
        "\n",
        "![检出时 HEAD 随之移动](https://git-scm.com/book/en/v2/images/checkout-master.png)  \n",
        "\n",
        " *分支切换会改变你工作目录中的文件*\n",
        " \n",
        "稍微做些修改并提交：\n",
        "\n",
        "\n",
        "```\n",
        "$ vim test.rb\n",
        "$ git commit -a -m 'made other changes'\n",
        "```\n",
        "\n",
        "![项目分叉历史](https://git-scm.com/book/en/v2/images/advance-master.png)  \n",
        "使用 git log 命令查看分叉历史  \n",
        "运行 `git log --oneline --decorate --graph --all`输出提交历史、各个分支的指向以及项目的分支分叉情况  \n",
        "\n",
        " Git 的分支实质上仅是包含所指对象校验和（长度为 40 的 SHA-1 值字符串）的文件，所以它的创建和销毁都异常高效"
      ]
    },
    {
      "cell_type": "markdown",
      "metadata": {
        "id": "6Ak8IBVbDDJ3",
        "colab_type": "text"
      },
      "source": [
        "## 3.2 分支的新建与合并\n"
      ]
    },
    {
      "cell_type": "markdown",
      "metadata": {
        "id": "9heW4VbZDDMi",
        "colab_type": "text"
      },
      "source": [
        "### 分支的新建与合并  \n",
        "实际工作中的工作流 \n",
        "\n",
        "1.   开发某个网站\n",
        "2.   为实现某个新的需求，创建一个分支 \n",
        "3.   在这个分支上开展工作\n",
        "\n",
        "按照如下方式处理突发情况：\n",
        "\n",
        "\n",
        "\n",
        "1.   切换到你的线上分支（production branch）\n",
        "2.   为这个紧急任务新建一个分支，并在其中修复它 \n",
        "3.  在测试通过之后，切换回线上分支，然后合并这个修补分支，最后将改动推送到线上分支\n",
        "4.  切换回你最初工作的分支上，继续工作\n",
        "\n",
        "\n",
        "\n",
        "\n",
        "\n"
      ]
    },
    {
      "cell_type": "markdown",
      "metadata": {
        "id": "ZME8WiHPDDP0",
        "colab_type": "text"
      },
      "source": [
        "###新建分支"
      ]
    },
    {
      "cell_type": "markdown",
      "metadata": {
        "id": "0MBKIfn6Sk4E",
        "colab_type": "text"
      },
      "source": [
        "正在项目上工作，并且已经有一些提交\n",
        "![一个简单提交历史](https://git-scm.com/book/en/v2/images/basic-branching-1.png)\n",
        "解决问题追踪系统中的 #53 问题。 想要新建一个分支并同时切换到那个分支上，可以运行一个带有 -b 参数的 git checkout\n",
        "\n",
        "\n",
        "```\n",
        "$ git checkout -b iss53\n",
        "Switched to a new branch \"iss53\"\n",
        "```\n",
        "是两条指令的简写\n",
        "\n",
        "\n",
        "```\n",
        "$ git branch iss53\n",
        "$ git checkout iss53\n",
        "```\n",
        "![创建一个新分支指针](https://git-scm.com/book/en/v2/images/basic-branching-2.png)\n",
        "\n",
        "继续在 #53 问题上工作，并且做了一些提交。 在此过程中，iss53 分支在不断的向前推进， HEAD 指针指向了 iss53 分支\n",
        "\n",
        "\n",
        "```\n",
        "$ vim index.html\n",
        "$ git commit -a -m 'added a new footer [issue 53]'\n",
        "\n",
        "```\n",
        "![iss53 分支随着工作的进展向前推进](https://git-scm.com/book/en/v2/images/basic-branching-3.png)\n",
        "\n",
        "有个紧急问题。不必把紧急问题和 iss53 的修改混在一起，也不需要还原关于 53# 问题的修改，然后再添加关于这个紧急问题的修改，最后将这个修改提交到线上分支。 仅仅是切换回 master 分支。  \n",
        "要留意工作目录和暂存区里那些还没有被提交的修改，它可能会和即将检出的分支产生冲突从而阻止 Git 切换到该分支。 最好的方法是，在切换分支之前，保持好一个干净的状态。 有一些方法可以绕过这个问题（即，保存进度（stashing） 和 修补提交（commit amending））。 现在，假设已经把修改全部提交，切换回 master 分支了：\n",
        "\n",
        "\n",
        "```\n",
        "$ git checkout master\n",
        "Switched to branch 'master'\n",
        "```\n",
        "\n",
        "当切换分支的时候，Git 会重置工作目录，使其看起来像回到了那个分支上最后一次提交的样子。 Git 会自动添加、删除、修改文件以确保此时工作目录和这个分支最后一次提交时的样子一模一样。  \n",
        "建立一个针对该紧急问题的分支（hotfix branch），在该分支上工作直到问题解决：\n",
        "\n",
        "```\n",
        "$ git checkout -b hotfix\n",
        "Switched to a new branch 'hotfix'\n",
        "$ vim index.html\n",
        "$ git commit -a -m 'fixed the broken email address'\n",
        "[hotfix 1fb7853] fixed the broken email address\n",
        " 1 file changed, 2 insertions(+)\n",
        "```\n",
        "\n",
        "![基于 master 分支的紧急问题分支 hotfix branch](https://git-scm.com/book/en/v2/images/basic-branching-4.png)\n",
        "运行测试，确保修改是正确的，然后将其合并回master 分支来部署到线上。 可以使用 git merge 命令来达到上述目的：  \n",
        "\n",
        "\n",
        "```\n",
        "$ git checkout master\n",
        "$ git merge hotfix\n",
        "Updating f42c576..3a0874c\n",
        "Fast-forward\n",
        " index.html | 2 ++\n",
        " 1 file changed, 2 insertions(+)\n",
        "```\n",
        "\n",
        "在合并的时候，注意到了\"快进（fast-forward）\"这个词。 由于当前 master 分支所指向的提交是当前提交（有关 hotfix 的提交）的直接上游，所以 Git 只是简单的将指针向前移动。 换句话说，当你试图合并两个分支时，如果顺着一个分支走下去能够到达另一个分支，那么 Git 在合并两者的时候，只会简单的将指针向前推进（指针右移），因为这种情况下的合并操作没有需要解决的分歧——这就叫做 “快进（fast-forward）”。  \n",
        "最新的修改已经在 master 分支所指向的提交快照中，可以着手发布该修复了。  \n",
        "![master 被快进到 hotfix](https://git-scm.com/book/en/v2/images/basic-branching-5.png)  \n",
        "关于这个紧急问题的解决方案发布之后，准备回到被打断之前时的工作中。应该先删除 hotfix 分支，因为你已经不再需要它了 —— master 分支已经指向了同一个位置。 可以使用带 -d 选项的 git branch 命令来删除分支：  \n",
        "\n",
        "\n",
        "```\n",
        "$ git branch -d hotfix\n",
        "Deleted branch hotfix (3a0874c).\n",
        "```\n",
        "\n",
        "可以切换回正在工作的分支继续工作，也就是针对 #53 问题的那个分支  \n",
        "\n",
        "\n",
        "```\n",
        "$ git checkout iss53\n",
        "Switched to branch \"iss53\"\n",
        "$ vim index.html\n",
        "$ git commit -a -m 'finished the new footer [issue 53]'\n",
        "[iss53 ad82d7a] finished the new footer [issue 53]\n",
        "1 file changed, 1 insertion(+)\n",
        "```\n",
        "![继续在 iss53 分支上的工作](https://git-scm.com/book/en/v2/images/basic-branching-6.png)\n",
        "在 hotfix 分支上所做的工作并没有包含到 iss53 分支中。 如果需要拉取 hotfix 所做的修改，可以使用 git merge master 命令将 master 分支合并入 iss53 分支，或者也可以等到 iss53 分支完成其使命，再将其合并回 master 分支。"
      ]
    },
    {
      "cell_type": "markdown",
      "metadata": {
        "id": "yXij_hVtSlA0",
        "colab_type": "text"
      },
      "source": [
        "### 分支的合并"
      ]
    },
    {
      "cell_type": "markdown",
      "metadata": {
        "id": "Eqz4EwrgSlD-",
        "colab_type": "text"
      },
      "source": [
        "假设已经修正了 #53 问题，将工作合并入 master 分支。 为此，需要合并 iss53 分支到 master 分支，这和之前合并 hotfix 分支所做的工作差不多。 只需要检出到想合并入的分支，然后运行 git merge 命令：\n",
        "\n",
        "```\n",
        "$ git checkout master\n",
        "Switched to branch 'master'\n",
        "$ git merge iss53\n",
        "Merge made by the 'recursive' strategy.\n",
        "index.html |    1 +\n",
        "1 file changed, 1 insertion(+)\n",
        "```\n",
        "\n",
        "master 分支所在提交并不是 iss53 分支所在提交的直接祖先，Git 不得不做一些额外的工作。 出现这种情况的时候，Git 会使用两个分支的末端所指的快照（C4 和 C5）以及这两个分支的工作祖先（C2），做一个简单的三方合并\n",
        "![一次典型合并中所用到的三个快照](https://git-scm.com/book/en/v2/images/basic-merging-1.png)\n",
        "Git 将此次三方合并的结果做了一个新的快照并且自动创建一个新的提交指向它。 这个被称作一次合并提交，它的特别之处在于他有不止一个父提交。\n",
        "![一个合并提交](https://git-scm.com/book/en/v2/images/basic-merging-2.png)\n",
        "Git 会自行决定选取哪一个提交作为最优的共同祖先，并以此作为合并的基础  \n",
        "\n",
        "修改已经合并进来了，已经不再需要 iss53 分支了。 可以在任务追踪系统中关闭此项任务，并删除这个分支  \n",
        "\n",
        "\n",
        "```\n",
        "$ git branch -d iss53\n",
        "```\n",
        "\n"
      ]
    },
    {
      "cell_type": "markdown",
      "metadata": {
        "id": "HN6smIs6SlG4",
        "colab_type": "text"
      },
      "source": [
        "### 遇到冲突时的分支合并"
      ]
    },
    {
      "cell_type": "markdown",
      "metadata": {
        "id": "GYH0vOJISlJy",
        "colab_type": "text"
      },
      "source": [
        "有时候合并操作不会如此顺利。 如果在两个不同的分支中，对同一个文件的同一个部分进行了不同的修改，Git 就没法干净的合并它们。 如果对 #53 问题的修改和有关 hotfix 的修改都涉及到同一个文件的同一处，在合并它们的时候就会产生合并冲突\n",
        "\n",
        "```\n",
        "$ git merge iss53\n",
        "Auto-merging index.html\n",
        "CONFLICT (content): Merge conflict in index.html\n",
        "Automatic merge failed; fix conflicts and then commit the result.\n",
        "```\n",
        "\n",
        "此时 Git 做了合并，但是没有自动地创建一个新的合并提交。 Git 会暂停下来，等待解决合并产生的冲突。 可以在合并冲突后的任意时刻使用 git status 命令来查看那些因包含合并冲突而处于未合并（unmerged）状态的文件： \n",
        "\n",
        "\n",
        "```\n",
        "$ git status\n",
        "On branch master\n",
        "You have unmerged paths.\n",
        "  (fix conflicts and run \"git commit\")\n",
        "\n",
        "Unmerged paths:\n",
        "  (use \"git add <file>...\" to mark resolution)\n",
        "\n",
        "    both modified:      index.html\n",
        "\n",
        "no changes added to commit (use \"git add\" and/or \"git commit -a\")\n",
        "```\n",
        "任何因包含合并冲突而有待解决的文件，都会以未合并状态标识出来。 Git 会在有冲突的文件中加入标准的冲突解决标记，这样可以打开这些包含冲突的文件然后手动解决冲突。 出现冲突的文件会包含一些特殊区段，看起来像下面这个样子：\n",
        "\n",
        "\n",
        "```\n",
        "<<<<<<< HEAD:index.html\n",
        "<div id=\"footer\">contact : email.support@github.com</div>\n",
        "=======\n",
        "<div id=\"footer\">\n",
        " please contact us at support@github.com\n",
        "</div>\n",
        ">>>>>>> iss53:index.html\n",
        "```\n",
        "\n",
        "\n",
        "表示 HEAD 所指示的版本，在这个区段的上半部分（======= 的上半部分），而 iss53 分支所指示的版本在 ======= 的下半部分。 为了解决冲突，必须选择使用由 ======= 分割的两部分中的一个，或者你也可以自行合并这些内容。 例如，可以通过把这段内容换成下面的样子来解决冲突：\n",
        "\n",
        "```\n",
        "<div id=\"footer\">\n",
        "please contact us at email.support@github.com\n",
        "</div>\n",
        "```\n",
        "\n",
        "上述的冲突解决方案仅保留了其中一个分支的修改，并且 <<<<<<< , ======= , 和 >>>>>>> 这些行被完全删除了。\n",
        "\n",
        "在解决了所有文件里的冲突之后，对每个文件使用 git add 命令来将其标记为冲突已解决。一旦暂存这些原本有冲突的文件，Git 就会将它们标记为冲突已解决。  \n",
        "\n",
        "如果想使用图形化工具来解决冲突，可以运行 git mergetool，该命令会启动一个合适的可视化合并工具，并带领你一步一步解决这些冲突：\n",
        "\n",
        "\n",
        "```\n",
        "$ git mergetool\n",
        "```\n",
        "\n",
        "\n",
        "如果想使用除默认工具（在这里 Git 使用 opendiff 做为默认的合并工具，因为作者在 Mac 上运行该程序）外的其他合并工具，你可以在 “下列工具中（one of the following tools）” 这句后面看到所有支持的合并工具。 然后输入喜欢的工具名字就可以了。  \n",
        "等退出合并工具之后，Git 会询问刚才的合并是否成功。如果回答是，Git 会暂存那些文件以表明冲突已解决： 可以再次运行 git status 来确认所有的合并冲突都已被解决：  \n",
        "\n",
        "\n",
        "```\n",
        "$ git status\n",
        "On branch master\n",
        "All conflicts fixed but you are still merging.\n",
        "  (use \"git commit\" to conclude merge)\n",
        "\n",
        "Changes to be committed:\n",
        "\n",
        "    modified:   index.html\n",
        "```\n",
        "\n",
        "如果对结果感到满意，并且确定之前有冲突的的文件都已经暂存了，这时可以输入 git commit 来完成合并提交。\n"
      ]
    },
    {
      "cell_type": "markdown",
      "metadata": {
        "id": "CCcX53ZvSlMy",
        "colab_type": "text"
      },
      "source": [
        "## 3.3  分支管理"
      ]
    },
    {
      "cell_type": "markdown",
      "metadata": {
        "id": "zQyNpHpISlPh",
        "colab_type": "text"
      },
      "source": [
        "###分支管理"
      ]
    },
    {
      "cell_type": "markdown",
      "metadata": {
        "id": "hVnGACYXSlSf",
        "colab_type": "text"
      },
      "source": [
        "一些常用的分支管理工具  \n",
        "git branch 可以创建与删除分支，不加任何参数运行它，会得到当前所有分支的一个列表\n",
        "\n",
        "\n",
        "```\n",
        "$ git branch\n",
        "  iss53\n",
        "* master\n",
        "  testing\n",
        "```\n",
        "master 分支前的 * 字符：它代表现在检出的那一个分支（也就是说，当前 HEAD 指针所指向的分支）。 这意味着如果在这时候提交，master 分支将会随着新的工作向前移动。\n",
        "\n",
        "\n",
        "\n",
        "*    git branch -v 命令 查看每一个分支的最后一次提交\n",
        "\n",
        "*   git branch --merged 查看哪些分支已经合并到当前分支\n",
        "*   git branch --no-merged  查看所有包含未合并工作的分支\n",
        "\n",
        "*  $ git branch -D testing 删除分支并丢掉工作\n",
        "\n"
      ]
    },
    {
      "cell_type": "markdown",
      "metadata": {
        "id": "4DrcBdZ_SlVE",
        "colab_type": "text"
      },
      "source": [
        "## 3.4 分支开发工作流"
      ]
    },
    {
      "cell_type": "markdown",
      "metadata": {
        "id": "XNm8QuM0fmHx",
        "colab_type": "text"
      },
      "source": [
        "###分支开发工作流\n",
        "一些常见的利用分支进行开发的工作流程\n",
        "\n",
        "\n",
        "*   长期分支\n",
        "\n",
        "*   特性分支\n",
        "\n"
      ]
    },
    {
      "cell_type": "markdown",
      "metadata": {
        "id": "bnOk4SZyfmLZ",
        "colab_type": "text"
      },
      "source": [
        "### 长期分支"
      ]
    },
    {
      "cell_type": "markdown",
      "metadata": {
        "id": "6YyAxKf_fmRp",
        "colab_type": "text"
      },
      "source": [
        "Git 使用简单的三方合并，所以就算在一段较长的时间内，反复把一个分支合并入另一个分支，也不是什么难事。 也就是说，在整个项目开发周期的不同阶段，可以同时拥有多个开放的分支；可以定期地把某些特性分支合并入其他分支中。  许多使用 Git 的开发者都喜欢使用这种方式来工作，比如只在 master 分支上保留完全稳定的代码——有可能仅仅是已经发布或即将发布的代码。 他们还有一些名为 develop 或者 next 的平行分支，被用来做后续开发或者测试稳定性——这些分支不必保持绝对稳定，但是一旦达到稳定状态，它们就可以被合并入 master 分支了。  \n",
        "在确保这些已完成的特性分支（短期分支，比如之前的 iss53 分支）能够通过所有测试，并且不会引入更多 bug 之后，就可以合并入主干分支中，等待下一次的发布。\n",
        "\n",
        "稳定分支的指针总是在提交历史中落后一大截，而前沿分支的指针往往比较靠前。\n",
        "![渐进稳定分支的线性图](https://git-scm.com/book/en/v2/images/lr-branches-1.png)\n",
        "\n",
        "想象成流水线（work silos），那些经过测试考验的提交会被遴选到更加稳定的流水线上去。\n",
        "\n",
        "![渐进稳定分支的流水线（“silo”）视图](https://git-scm.com/book/en/v2/images/lr-branches-2.png) \n",
        "\n",
        "用这种方法维护不同层次的稳定性。 一些大型项目还有一个 proposed（建议） 或 pu: proposed updates（建议更新）分支，它可能因包含一些不成熟的内容而不能进入 next 或者 master 分支。 这么做的目的是使分支具有不同级别的稳定性；当它们具有一定程度的稳定性后，再把它们合并入具有更高级别稳定性的分支中。 再次强调一下，使用多个长期分支的方法并非必要，但是这么做通常很有帮助，尤其是在一个非常庞大或者复杂的项目中工作时。\n",
        "\n",
        "\n"
      ]
    },
    {
      "cell_type": "markdown",
      "metadata": {
        "id": "aiW0VrqtfmUu",
        "colab_type": "text"
      },
      "source": [
        "### 特性分支\n",
        "特性分支对任何规模的项目都适用。 特性分支是一种短期分支，它被用来实现单一特性或其相关工作。\n",
        "\n",
        "考虑这样一个例子：  \n",
        "![拥有多个特性分支的提交历史](https://git-scm.com/book/en/v2/images/topic-branches-1.png)\n",
        "假设两件事情：决定使用第二个方案来解决那个问题，即使用在 iss91v2 分支中方案；另外，将 dumbidea 分支拿给你的同事看过之后，结果发现这是个惊人之举。 这时你可以抛弃 iss91 分支（即丢弃 C5 和 C6 提交），然后把另外两个分支合并入主干分支。 最终你的提交历史看起来像下面这个样子： \n",
        "![合并了 dumbidea 和 iss91v2 分支之后的提交历史](https://git-scm.com/book/en/v2/images/topic-branches-2.png)  \n",
        "做这么多操作的时候，这些分支全部都存于本地。 当你新建和合并分支的时候，所有这一切都只发生在你本地的 Git 版本库中 —— 没有与服务器发生交互。"
      ]
    },
    {
      "cell_type": "markdown",
      "metadata": {
        "id": "HvN2Qs2nfmX-",
        "colab_type": "text"
      },
      "source": [
        "## 3.5 远程分支"
      ]
    },
    {
      "cell_type": "markdown",
      "metadata": {
        "id": "Yr895L91hxo4",
        "colab_type": "text"
      },
      "source": [
        "###远程分支"
      ]
    },
    {
      "cell_type": "markdown",
      "metadata": {
        "id": "GUeb3O3jhxsH",
        "colab_type": "text"
      },
      "source": [
        "\n",
        "远程引用是对远程仓库的引用（指针），包括分支、标签等等。 可以通过` git ls-remote (remote) `来显式地获得远程引用的完整列表，或者通过` git remote show (remote) `获得远程分支的更多信息。 然而，一个更常见的做法是利用远程跟踪分支。  \n",
        "远程跟踪分支是远程分支状态的引用。 它们是不能移动的本地引用，当做任何网络通信操作时，它们会自动移动。 远程跟踪分支像是你上次连接到远程仓库时，那些分支所处状态的书签。  \n",
        "它们以 (remote)/(branch) 形式命名。 例如，如果你想要看你最后一次与远程仓库 origin 通信时 master 分支的状态，你可以查看 origin/master 分支。 你与同事合作解决一个问题并且他们推送了一个 iss53 分支，你可能有自己的本地 iss53 分支；但是在服务器上的分支会指向 origin/iss53 的提交。  \n",
        "例子： \n",
        "假设网络里有一个在 git.ourcompany.com 的 Git 服务器。 如果从这里克隆，Git 的 clone 命令会自动将其命名为 origin，拉取它的所有数据，创建一个指向它的 master 分支的指针，并且在本地将其命名为 origin/master。 Git 也会给一个与 origin 的 master 分支在指向同一个地方的本地 master 分支，这样就有工作的基础。  \n",
        "![克隆之后的服务器与本地仓库](https://git-scm.com/book/en/v2/images/remote-branches-1.png)\n",
        "如果在本地的 master 分支做了一些工作，然而在同一时间，其他人推送提交到 git.ourcompany.com 并更新了它的 master 分支，那么你的提交历史将向不同的方向前进。 也许，只要你不与 origin 服务器连接，你的 origin/master 指针就不会移动。  \n",
        "![本地与远程的工作可以分叉](https://git-scm.com/book/en/v2/images/remote-branches-2.png)  \n",
        "如果要同步你的工作，运行 git fetch origin 命令。 这个命令查找 “origin” 是哪一个服务器（在本例中，它是 git.ourcompany.com），从中抓取本地没有的数据，并且更新本地数据库，移动 origin/master 指针指向新的、更新后的位置。  \n",
        "![git fetch 更新你的远程仓库引用](https://git-scm.com/book/en/v2/images/remote-branches-3.png)  \n",
        "为了演示有多个远程仓库与远程分支的情况，我们假定你有另一个内部 Git 服务器，仅用于你的 sprint 小组的开发工作。 这个服务器位于 git.team1.ourcompany.com。 你可以运行 git remote add 命令添加一个新的远程仓库引用到当前的项目。 将这个远程仓库命名为 teamone，将其作为整个 URL 的缩写。\n",
        "![添加另一个远程仓库](https://git-scm.com/book/en/v2/images/remote-branches-4.png)  \n",
        "可以运行 git fetch teamone 来抓取远程仓库 teamone 有而本地没有的数据。 因为那台服务器上现有的数据是 origin 服务器上的一个子集，所以 Git 并不会抓取数据而是会设置远程跟踪分支 teamone/master 指向 teamone 的 master 分支![远程跟踪分支 teamone/master](https://git-scm.com/book/en/v2/images/remote-branches-5.png)\n",
        "\n"
      ]
    },
    {
      "cell_type": "markdown",
      "metadata": {
        "id": "6hn93D4uhxvk",
        "colab_type": "text"
      },
      "source": [
        "### 推送"
      ]
    },
    {
      "cell_type": "markdown",
      "metadata": {
        "id": "fN1MJSQ8mSKO",
        "colab_type": "text"
      },
      "source": [
        "公开分享一个分支时，需要将其推送到有写入权限的远程仓库上。 本地的分支并不会自动与远程仓库同步 - 你必须显式地推送想要分享的分支，可以把不愿意分享的内容放到私人分支上，而将需要和别人协作的内容推送到公开分支。"
      ]
    },
    {
      "cell_type": "markdown",
      "metadata": {
        "id": "9ini-P6umSWI",
        "colab_type": "text"
      },
      "source": [
        "如果希望和别人一起在名为 serverfix 的分支上工作，你可以像推送第一个分支那样推送它。 运行 git push (remote) (branch):\n",
        "\n",
        "\n",
        "\n",
        "```\n",
        "$ git push origin serverfix\n",
        "Counting objects: 24, done.\n",
        "Delta compression using up to 8 threads.\n",
        "Compressing objects: 100% (15/15), done.\n",
        "Writing objects: 100% (24/24), 1.91 KiB | 0 bytes/s, done.\n",
        "Total 24 (delta 2), reused 0 (delta 0)\n",
        "To https://github.com/schacon/simplegit\n",
        " * [new branch]      serverfix -> serverfix\n",
        "```\n",
        "Git 自动将 serverfix 分支名字展开为 refs/heads/serverfix:refs/heads/serverfix，那意味着，“推送本地的 serverfix 分支来更新远程仓库上的 serverfix 分支。”\n",
        "\n",
        "你也可以运行 `git push origin serverfix:serverfix`，它会做同样的事 - 相当于它说，“推送本地的 serverfix 分支，将其作为远程仓库的 serverfix 分支” 可以通过这种格式来推送本地分支到一个命名不相同的远程分支。 如果并不想让远程仓库上的分支叫做 serverfix，可以运行` git push origin serverfix:awesomebranch` 来将本地的 serverfix 分支推送到远程仓库上的 awesomebranch 分支。\n",
        "\n",
        "**如何避免每次输入密码**  \n",
        "如果你正在使用 HTTPS URL 来推送，Git 服务器会询问用户名与密码。 默认情况下它会在终端中提示服务器是否允许你进行推送。\n",
        "\n",
        "如果不想在每一次推送时都输入用户名与密码，你可以设置一个 “credential cache”。 最简单的方式就是将其保存在内存中几分钟，可以简单地运行 git config --global credential.helper cache 来设置它。  \n",
        "\n",
        "下一次其他协作者从服务器上抓取数据时，他们会在本地生成一个远程分支 origin/serverfix，指向服务器的 serverfix 分支的引用：  \n",
        "\n",
        "\n",
        "```\n",
        "$ git fetch origin\n",
        "remote: Counting objects: 7, done.\n",
        "remote: Compressing objects: 100% (2/2), done.\n",
        "remote: Total 3 (delta 0), reused 3 (delta 0)\n",
        "Unpacking objects: 100% (3/3), done.\n",
        "From https://github.com/schacon/simplegit\n",
        " * [new branch]      serverfix    -> origin/serverfix\n",
        "```\n",
        "\n",
        "当抓取到新的远程跟踪分支时，本地不会自动生成一份可编辑的副本（拷贝）。 换一句话说，这种情况下，不会有一个新的 serverfix 分支 - 只有一个不可以修改的 origin/serverfix 指针。  \n",
        "\n",
        "可以运行 git merge origin/serverfix 将这些工作合并到当前所在的分支。 如果想要在自己的 serverfix 分支上工作，可以将其建立在远程跟踪分支之上：\n",
        "\n",
        "```\n",
        "$ git checkout -b serverfix origin/serverfix\n",
        "Branch serverfix set up to track remote branch serverfix from origin.\n",
        "Switched to a new branch 'serverfix'\n",
        "```\n",
        "\n",
        "这会给你一个用于工作的本地分支，并且起点位于 origin/serverfix。\n",
        "\n",
        "\n"
      ]
    },
    {
      "cell_type": "markdown",
      "metadata": {
        "id": "GbMH9yvqmSZz",
        "colab_type": "text"
      },
      "source": [
        "### 跟踪分支"
      ]
    },
    {
      "cell_type": "markdown",
      "metadata": {
        "id": "YuBuCx7_mSdG",
        "colab_type": "text"
      },
      "source": [
        "从一个远程跟踪分支检出一个本地分支会自动创建所谓的 “跟踪分支”（它跟踪的分支叫做 “上游分支”）。 跟踪分支是与远程分支有直接关系的本地分支。 如果在一个跟踪分支上输入 git pull，Git 能自动地识别去哪个服务器上抓取、合并到哪个分支。  \n",
        "\n",
        "克隆一个仓库时，它通常会自动地创建一个跟踪 origin/master 的 master 分支。 然而，如果你愿意的话可以设置其他的跟踪分支 - 其他远程仓库上的跟踪分支，或者不跟踪 master 分支。 最简单的就是之前看到的例子，运行` git checkout -b [branch] [remotename]/[branch]`。 这是一个十分常用的操作所以 Git 提供了 --track 快捷方式：\n",
        "\n",
        " \n",
        "\n",
        "```\n",
        "$ git checkout --track origin/serverfix\n",
        "Branch serverfix set up to track remote branch serverfix from origin.\n",
        "Switched to a new branch 'serverfix'\n",
        "```\n",
        "\n",
        "将本地分支与远程分支设置为不同名字  \n",
        "\n",
        "\n",
        "```\n",
        "$ git checkout -b sf origin/serverfix\n",
        "Branch sf set up to track remote branch serverfix from origin.\n",
        "Switched to a new branch 'sf'\n",
        "```\n",
        "\n",
        "本地分支 sf 会自动从 origin/serverfix 拉取   \n",
        "\n",
        "设置已有的本地分支跟踪一个刚刚拉取下来的远程分支，或者想要修改正在跟踪的上游分支，你可以在任意时间使用 -u 或 --set-upstream-to 选项运行 git branch 来显式地设置  \n",
        "\n",
        "\n",
        "```\n",
        "$ git branch -u origin/serverfix\n",
        "Branch serverfix set up to track remote branch serverfix from origin.\n",
        "```\n",
        "\n",
        "想要查看设置的所有跟踪分支，可以使用 git branch 的 -vv 选项  \n",
        "会将所有的本地分支列出来并且包含更多的信息，如每一个分支正在跟踪哪个远程分支与本地分支是否是领先、落后或是都有\n",
        "\n",
        "```\n",
        "$ git branch -vv\n",
        "  iss53     7e424c3 [origin/iss53: ahead 2] forgot the brackets\n",
        "  master    1ae2a45 [origin/master] deploying index fix\n",
        "* serverfix f8674d9 [teamone/server-fix-good: ahead 3, behind 1] this should do it\n",
        "  testing   5ea463a trying something new\n",
        "```\n",
        "\n",
        "这些数字的值来自于你从每个服务器上最后一次抓取的数据。 这个命令并没有连接服务器，它只会告诉你关于本地缓存的服务器数据。 如果想要统计最新的领先与落后数字，需要在运行此命令前抓取所有的远程仓库。 可以像这样做：$ git fetch --all; git branch -vv\n",
        "\n"
      ]
    },
    {
      "cell_type": "markdown",
      "metadata": {
        "id": "OCIwJwVdpAxm",
        "colab_type": "text"
      },
      "source": [
        "### 拉取\n"
      ]
    },
    {
      "cell_type": "markdown",
      "metadata": {
        "id": "4uaV1f98pBDl",
        "colab_type": "text"
      },
      "source": [
        "当 git fetch 命令从服务器上抓取本地没有的数据时，它并不会修改工作目录中的内容。 它只会获取数据然后让你自己合并。  \n",
        "有一个命令叫作 git pull 在大多数情况下它的含义是一个 git fetch 紧接着一个 git merge 命令  \n",
        "有一个像之前章节中演示的设置好的跟踪分支，不管它是显式地设置还是通过 clone 或 checkout 命令为你创建的，git pull 都会查找当前分支所跟踪的服务器与分支，从服务器上抓取数据然后尝试合并入那个远程分支  \n",
        "\n",
        "由于 git pull 的魔法经常令人困惑所以通常单独显式地使用 fetch 与 merge 命令会更好一些"
      ]
    },
    {
      "cell_type": "markdown",
      "metadata": {
        "id": "B6OsrHEfpBG-",
        "colab_type": "text"
      },
      "source": [
        "### 删除远程分支"
      ]
    },
    {
      "cell_type": "markdown",
      "metadata": {
        "id": "f8BPBOEspTKh",
        "colab_type": "text"
      },
      "source": [
        "运行带有 --delete 选项的 git push 命令来删除一个远程分支。 如果想要从服务器上删除 serverfix 分支，运行下面的命令：  \n",
        "\n",
        "\n",
        "```\n",
        "$ git push origin --delete serverfix\n",
        "To https://github.com/schacon/simplegit\n",
        " - [deleted]         serverfix\n",
        "```\n",
        "这个命令做的只是从服务器上移除这个指针。 Git 服务器通常会保留数据一段时间直到垃圾回收运行，所以如果不小心删除掉了，通常是很容易恢复的。\n"
      ]
    },
    {
      "cell_type": "markdown",
      "metadata": {
        "id": "jJTjx60OpTNX",
        "colab_type": "text"
      },
      "source": [
        "##  3.6 变基\n"
      ]
    },
    {
      "cell_type": "markdown",
      "metadata": {
        "id": "aHUEKVS5pTSk",
        "colab_type": "text"
      },
      "source": [
        "###变基\n",
        "\n",
        "\n",
        "\n"
      ]
    },
    {
      "cell_type": "markdown",
      "metadata": {
        "id": "BkbSndyYpTQY",
        "colab_type": "text"
      },
      "source": [
        "在 Git 中整合来自不同分支的修改主要有两种方法：merge 以及 rebase"
      ]
    },
    {
      "cell_type": "markdown",
      "metadata": {
        "id": "_V_SQxA5pwYW",
        "colab_type": "text"
      },
      "source": [
        "### 变基的基本操作\n"
      ]
    },
    {
      "cell_type": "markdown",
      "metadata": {
        "id": "tTRtkOcLpwbs",
        "colab_type": "text"
      },
      "source": [
        "提取在 C4 中引入的补丁和修改，然后在 C3 的基础上应用一次。 在 Git 中，这种操作就叫做 变基  \n",
        "使用 rebase 命令将提交到某一分支上的所有修改都移至另一分支上，就好像“重新播放”一样\n",
        "\n",
        "```\n",
        "$ git checkout experiment\n",
        "$ git rebase master\n",
        "First, rewinding head to replay your work on top of it...\n",
        "Applying: added staged command\n",
        "```\n",
        "\n",
        "原理是首先找到这两个分支（即当前分支 experiment、变基操作的目标基底分支 master）的最近共同祖先 C2，然后对比当前分支相对于该祖先的历次提交，提取相应的修改并存为临时文件，然后将当前分支指向目标基底 C3, 最后以此将之前另存为临时文件的修改依序应用。![将 C4 中的修改变基到 C3 上](https://git-scm.com/book/en/v2/images/basic-rebase-3.png)  \n",
        "回到 master 分支，进行一次快进合并  \n",
        "\n",
        "\n",
        "```\n",
        "$ git checkout master\n",
        "$ git merge experiment\n",
        "```\n",
        "\n",
        "![master 分支的快进合并](https://git-scm.com/book/en/v2/images/basic-rebase-4.png)  \n",
        "变基使得提交历史更加整洁。 你在查看一个经过变基的分支的历史记录时会发现，尽管实际的开发工作是并行的，但它们看上去就像是串行的一样，提交历史是一条直线没有分叉。  \n",
        "一般我们这样做的目的是为了确保在向远程分支推送时能保持提交历史的整洁——例如向某个其他人维护的项目贡献代码时。 在这种情况下，你首先在自己的分支里进行开发，当开发完成时你需要先将你的代码变基到 origin/master 上，然后再向主项目提交修改。 这样的话，该项目的维护者就不再需要进行整合工作，只需要快进合并便可。  \n",
        "无论是通过变基，还是通过三方合并，整合的最终结果所指向的快照始终是一样的，只不过提交历史不同罢了。 变基是将一系列提交按照原有次序依次应用到另一分支上，而合并是把最终结果合在一起。\n"
      ]
    },
    {
      "cell_type": "markdown",
      "metadata": {
        "id": "ix1zAkgcpwe4",
        "colab_type": "text"
      },
      "source": [
        "### 更有趣的变基例子"
      ]
    },
    {
      "cell_type": "markdown",
      "metadata": {
        "id": "mz3CuNyAqsRa",
        "colab_type": "text"
      },
      "source": [
        "对两个分支进行变基时，所生成的“重放”并不一定要在目标分支上应用，你也可以指定另外的一个分支进行应用。 就像 从一个特性分支里再分出一个特性分支的提交历史 中的例子那样。 你创建了一个特性分支 server，为服务端添加了一些功能，提交了 C3 和 C4。 然后从 C3 上创建了特性分支 client，为客户端添加了一些功能，提交了 C8 和 C9。 最后，你回到 server 分支，又提交了 C10。  \n",
        "![从一个特性分支里再分出一个特性分支的提交历史](https://git-scm.com/book/en/v2/images/interesting-rebase-1.png)  \n",
        "希望将 client 中的修改合并到主分支并发布，但暂时并不想合并 server 中的修改，因为它们还需要经过更全面的测试。 这时，你就可以使用 git rebase 命令的 --onto 选项，选中在 client 分支里但不在 server 分支里的修改（即 C8 和 C9），将它们在 master 分支上重放：\n",
        "\n",
        "```\n",
        "$ git rebase --onto master server client\n",
        "```\n",
        "以上命令的意思是：“取出 client 分支，找出处于 client 分支和 server 分支的共同祖先之后的修改，然后把它们在 master 分支上重放一遍”。 这理解起来有一点复杂，不过效果非常酷。  \n",
        "![截取特性分支上的另一个特性分支，然后变基到其他分支](https://git-scm.com/book/en/v2/images/interesting-rebase-2.png)  \n",
        "现在可以快进合并 master 分支了\n",
        "\n",
        "\n",
        "```\n",
        "$ git checkout master\n",
        "$ git merge client\n",
        "```\n",
        "\n",
        "![快进合并 master 分支，使之包含来自 client 分支的修改](https://git-scm.com/book/en/v2/images/interesting-rebase-3.png)\n",
        "决定将 server 分支中的修改也整合进来。 使用 git rebase [basebranch] [topicbranch] 命令可以直接将特性分支（即本例中的 server）变基到目标分支（即 master）上\n",
        "\n",
        "```\n",
        "$ git rebase master server\n",
        "```\n",
        "\n",
        "  将 server 中的修改变基到 master 上 所示，server 中的代码被“续”到了 master 后面。  \n",
        "  ![将 server 中的修改变基到 master 上](https://git-scm.com/book/en/v2/images/interesting-rebase-4.png)  \n",
        "  快进合并主分支 master \n",
        "  \n",
        "\n",
        "```\n",
        "$ git checkout master\n",
        "$ git merge server\n",
        "```\n",
        "\n",
        "client 和 server 分支中的修改都已经整合到主分支里了，可以删除这两个分支，最终提交历史会变成图 最终的提交历史 中的样子  \n",
        "\n",
        "\n",
        "\n",
        "```\n",
        "$ git branch -d client\n",
        "$ git branch -d server\n",
        "\n",
        "```\n",
        "![最终的提交历史](https://git-scm.com/book/en/v2/images/interesting-rebase-5.png)"
      ]
    },
    {
      "cell_type": "markdown",
      "metadata": {
        "id": "QKfAKaqEsKyN",
        "colab_type": "text"
      },
      "source": [
        "### 变基的风险"
      ]
    },
    {
      "cell_type": "markdown",
      "metadata": {
        "id": "G7Z2buNxsLBR",
        "colab_type": "text"
      },
      "source": [
        "**不要对在你的仓库外有副本的分支执行变基。**"
      ]
    },
    {
      "cell_type": "markdown",
      "metadata": {
        "id": "MIx9XQCYsLIx",
        "colab_type": "text"
      },
      "source": [
        "变基操作的实质是丢弃一些现有的提交，然后相应地新建一些内容一样但实际上不同的提交。 如果你已经将提交推送至某个仓库，而其他人也已经从该仓库拉取提交并进行了后续工作，此时，如果你用 git rebase 命令重新整理了提交并再次推送，你的同伴因此将不得不再次将他们手头的工作与你的提交进行整合，如果接下来你还要拉取并整合他们修改过的提交，事情就会变得一团糟。"
      ]
    },
    {
      "cell_type": "markdown",
      "metadata": {
        "id": "J6vHpdz8sohK",
        "colab_type": "text"
      },
      "source": [
        "### 用变基解决变基"
      ]
    },
    {
      "cell_type": "markdown",
      "metadata": {
        "id": "LWnxz_D8sokf",
        "colab_type": "text"
      },
      "source": [
        " 如果团队中的某人强制推送并覆盖了一些你所基于的提交，你需要做的就是检查你做了哪些修改，以及他们覆盖了哪些修改。  \n",
        " \n",
        " Git 除了对整个提交计算 SHA-1 校验和以外，也对本次提交所引入的修改计算了校验和—— 即 “patch-id”。\n",
        "\n"
      ]
    },
    {
      "cell_type": "markdown",
      "metadata": {
        "id": "LBUY7MtGsonW",
        "colab_type": "text"
      },
      "source": [
        "如果遇到前面提到的 有人推送了经过变基的提交，并丢弃了你的本地开发所基于的一些提交 那种情境，如果我们不是执行合并，而是执行 git rebase teamone/master, Git 将会：\n",
        "\n",
        "\n",
        "\n",
        "1.   检查哪些提交是我们的分支上独有的（C2，C3，C4，C6，C7）\n",
        "\n",
        "2.   检查其中哪些提交不是合并操作的结果（C2，C3，C4）\n",
        "3.   检查哪些提交在对方覆盖更新时并没有被纳入目标分支（只有 C2 和 C3，因为 C4 其实就是 C4'）\n",
        "\n",
        "\n",
        "4.   把查到的这些提交应用在 teamone/master 上面\n",
        "\n",
        "![在一个被变基然后强制推送的分支上再次执行变基](https://git-scm.com/book/en/v2/images/perils-of-rebasing-5.png)  \n",
        "在本例中另一种简单的方法是使用 git pull --rebase 命令而不是直接 git pull。 又或者你可以自己手动完成这个过程，先 git fetch，再 git rebase teamone/master  \n",
        "\n",
        "如果你习惯使用 git pull ，同时又希望默认使用选项 --rebase，你可以执行这条语句 git config --global pull.rebase true 来更改 pull.rebase 的默认配置。\n",
        "\n",
        "只要你把变基命令当作是在推送前清理提交使之整洁的工具，并且只在从未推送至共用仓库的提交上执行变基命令，就不会有事  \n",
        "\n",
        "如果你或你的同事在某些情形下决意要这么做，请一定要通知每个人执行 git pull --rebase 命令，这样尽管不能避免伤痛，但能有所缓解。\n",
        "\n"
      ]
    },
    {
      "cell_type": "markdown",
      "metadata": {
        "id": "qBMozEZ9tqpl",
        "colab_type": "text"
      },
      "source": [
        "### 变基 vs. 合并"
      ]
    },
    {
      "cell_type": "markdown",
      "metadata": {
        "id": "Ysj31wvrtpEg",
        "colab_type": "text"
      },
      "source": [
        "1. 仓库的提交历史即是 记录实际发生过什么。 它是针对历史的文档，本身就有价值，不能乱改。 从这个角度看来，改变提交历史是一种亵渎，你使用 谎言 掩盖了实际发生过的事情。 如果由合并产生的提交历史是一团糟怎么办？ 既然事实就是如此，那么这些痕迹就应该被保留下来，让后人能够查阅。"
      ]
    },
    {
      "cell_type": "markdown",
      "metadata": {
        "id": "uLVZE3nrtxxy",
        "colab_type": "text"
      },
      "source": [
        "2. 提交历史是 项目过程中发生的事。 没人会出版一本书的第一版草稿，软件维护手册也是需要反复修订才能方便使用。 持这一观点的人会使用 rebase 及 filter-branch 等工具来编写故事，怎么方便后来的读者就怎么写。"
      ]
    },
    {
      "cell_type": "markdown",
      "metadata": {
        "id": "l3DYGD-LuAEX",
        "colab_type": "text"
      },
      "source": [
        "***\n",
        "***"
      ]
    },
    {
      "cell_type": "markdown",
      "metadata": {
        "id": "5-3YivtqQ60L",
        "colab_type": "text"
      },
      "source": [
        "# 服务器上的 Git"
      ]
    },
    {
      "cell_type": "markdown",
      "metadata": {
        "id": "R8qwI85rRDVK",
        "colab_type": "text"
      },
      "source": [
        "一个远程仓库通常只是一个裸仓库（bare repository）— 即一个没有当前工作目录的仓库。 因为该仓库仅仅作为合作媒介，不需要从磁盘检查快照；存放的只有 Git 的资料。 简单的说，裸仓库就是你工程目录内的 .git 子目录内容，不包含其他资料"
      ]
    },
    {
      "cell_type": "markdown",
      "metadata": {
        "id": "wfJEj5r7RV6g",
        "colab_type": "text"
      },
      "source": [
        "##  4.1 协议"
      ]
    },
    {
      "cell_type": "markdown",
      "metadata": {
        "id": "XP7luNhVRWEL",
        "colab_type": "text"
      },
      "source": [
        "Git 可以使用四种主要的协议来传输资料\n",
        "\n",
        "\n",
        "1.   本地协议（Local）\n",
        "2.   HTTP 协议\n",
        "3.   SSH（Secure Shell）协议\n",
        "\n",
        "4.   Git 协议\n",
        "\n"
      ]
    },
    {
      "cell_type": "markdown",
      "metadata": {
        "id": "rpOx7UCJRWHE",
        "colab_type": "text"
      },
      "source": [
        "### 本地协议"
      ]
    },
    {
      "cell_type": "markdown",
      "metadata": {
        "id": "rwb38vBbRWJn",
        "colab_type": "text"
      },
      "source": [
        "从本地版本库克隆（clone）、推送（push）以及拉取（pull）\n",
        "\n",
        "\n",
        "```\n",
        "$ git clone /opt/git/project.git\n",
        "```\n",
        "***\n",
        "\n",
        "\n",
        "```\n",
        "$ git clone file:///opt/git/project.git\n",
        "#取得一个没有外部参考（extraneous references）或对象（object）的干净版本库副本– 通常是在从其他版本控制系统导入后或一些类似情况\n",
        "```\n",
        "\n",
        "\n"
      ]
    },
    {
      "cell_type": "markdown",
      "metadata": {
        "id": "sHO8cO-_RWLs",
        "colab_type": "text"
      },
      "source": [
        "要增加一个本地版本库到现有的 Git 项目\n",
        "\n",
        "\n",
        "```\n",
        "$ git remote add local_proj /opt/git/project.git\n",
        "```\n",
        "可以像在网络上一样从远端版本库推送和拉取更新  \n",
        "\n",
        "优点：基于文件系统的版本库的优点是简单，并且直接使用了现有的文件权限和网络访问权限  \n",
        "缺点：通常共享文件系统比较难配置\n"
      ]
    },
    {
      "cell_type": "markdown",
      "metadata": {
        "id": "38RUXOBfRWOS",
        "colab_type": "text"
      },
      "source": [
        "### HTTP 协议  \n",
        " Git 1.6.6 版本之前只有一个方式可用，十分简单并且通常是只读模式\n"
      ]
    },
    {
      "cell_type": "markdown",
      "metadata": {
        "id": "1XsRl_7lRWQo",
        "colab_type": "text"
      },
      "source": [
        "### 智能（Smart） HTTP 协议  \n",
        "* 运行在标准的 HTTP/S 端口上并且可以使用各种 HTTP 验证机制\n",
        "* 可以使用 HTTP 协议的用户名／密码的基础授权，免去设置 SSH 公钥"
      ]
    },
    {
      "cell_type": "markdown",
      "metadata": {
        "id": "YFrAEXhDRWTN",
        "colab_type": "text"
      },
      "source": [
        "### 哑（Dumb） HTTP 协议  \n",
        "\n",
        "\n",
        "*    哑 HTTP 协议里 web 服务器仅把裸版本库当作普通文件来对待，提供文件服务。\n",
        "\n",
        "*   哑 HTTP 协议的优美之处在于设置起来简单。\n",
        "*   只需要把一个裸版本库放在 HTTP 根目录，设置一个叫做 post-update 的挂钩就可以了\n",
        "\n",
        "\n",
        "*   只要能访问 web 服务器上你的版本库，就可以克隆你的版本库\n",
        "\n",
        "\n",
        "设置从 HTTP 访问版本库的方法\n",
        "\n",
        "\n",
        "```\n",
        "$ cd /var/www/htdocs/\n",
        "$ git clone --bare /path/to/git_project gitproject.git\n",
        "$ cd gitproject.git\n",
        "$ mv hooks/post-update.sample hooks/post-update\n",
        "$ chmod a+x hooks/post-update\n",
        "```\n",
        "\n",
        "会在可以提供读／写的智能 HTTP 服务和简单的只读的哑 HTTP 服务之间选一个"
      ]
    },
    {
      "cell_type": "markdown",
      "metadata": {
        "id": "0UwijNl0RWVh",
        "colab_type": "text"
      },
      "source": [
        "### SSH 协议\n",
        "\n",
        "\n",
        "```\n",
        "$ git clone user@server:project.git\n",
        "```\n",
        "\n"
      ]
    },
    {
      "cell_type": "markdown",
      "metadata": {
        "id": "_UzGc3MhRWYA",
        "colab_type": "text"
      },
      "source": [
        "优势：\n",
        "\n",
        "1.   SSH 架设相对简单 —— SSH 守护进程很常见，多数管理员都有使用经验，并且多数操作系统都包含了它及相关的管理工具\n",
        "2.  通过 SSH 访问是安全的 —— 所有传输数据都要经过授权和加密\n",
        "3.  SSH 协议很高效，在传输前也会尽量压缩数据。\n"
      ]
    },
    {
      "cell_type": "markdown",
      "metadata": {
        "id": "gmYGZV31kNVK",
        "colab_type": "text"
      },
      "source": [
        "缺点：\n",
        "\n",
        "\n",
        "1.   SSH 协议的缺点在于你不能通过他实现匿名访问。只要读取数据，使用者也要有通过 SSH 访问你的主机的权限，这使得 SSH 协议不利于开源的项目。\n",
        "\n",
        "2.   除了为自己推送架设 SSH 服务以外，还得架设一个可以让其他人访问的服务。\n"
      ]
    },
    {
      "cell_type": "markdown",
      "metadata": {
        "id": "6lWlugtpkpJy",
        "colab_type": "text"
      },
      "source": [
        "### Git 协议"
      ]
    },
    {
      "cell_type": "markdown",
      "metadata": {
        "id": "3xnc1utFkpMY",
        "colab_type": "text"
      },
      "source": [
        "包含在 Git 里的一个特殊的守护进程；它监听在一个特定的端口（9418），类似于 SSH 服务，但是访问无需任何授权"
      ]
    },
    {
      "cell_type": "markdown",
      "metadata": {
        "id": "ZB0qvWwZkpO0",
        "colab_type": "text"
      },
      "source": [
        "优点：\n",
        "\n",
        "*   Git 协议是 Git 使用的网络传输协议里最快的\n",
        "缺点：\n",
        "\n",
        "*   Git 协议缺点是缺乏授权机制\n",
        "\n",
        "\n",
        "\n"
      ]
    },
    {
      "cell_type": "markdown",
      "metadata": {
        "id": "Z75-ZPZYkpRT",
        "colab_type": "text"
      },
      "source": [
        "一般的做法\n",
        "\n",
        "\n",
        "*   同时提供 SSH 或者 HTTPS 协议的访问服务，只让少数几个开发者有推送（写）权限\n",
        "*   其他人通过 git:// 访问只有读权限。\n",
        "\n",
        "Git 协议也许也是最难架设的。 它要求有自己的守护进程，这就要配置 xinetd 或者其他的程序，这些工作并不简单。 它还要求防火墙开放 9418 端口，但是企业防火墙一般不会开放这个非标准端口。 而大型的企业防火墙通常会封锁这个端口。"
      ]
    },
    {
      "cell_type": "markdown",
      "metadata": {
        "id": "IcOsz1Bwlmiw",
        "colab_type": "text"
      },
      "source": [
        "## 4.2 在服务器上搭建 Git"
      ]
    },
    {
      "cell_type": "markdown",
      "metadata": {
        "id": "6fbF63LGmZJw",
        "colab_type": "text"
      },
      "source": [
        "### [把裸仓库放到服务器上](https://git-scm.com/book/zh/v2/%E6%9C%8D%E5%8A%A1%E5%99%A8%E4%B8%8A%E7%9A%84-Git-%E5%9C%A8%E6%9C%8D%E5%8A%A1%E5%99%A8%E4%B8%8A%E6%90%AD%E5%BB%BA-Git)\n"
      ]
    },
    {
      "cell_type": "markdown",
      "metadata": {
        "id": "antx16wvmZbO",
        "colab_type": "text"
      },
      "source": [
        "###  小型安装\n",
        "架设 Git 服务最复杂的地方在于用户管理。 如果需要仓库对特定的用户可读，而给另一部分用户读写权限，那么访问和许可安排就会比较困难。"
      ]
    },
    {
      "cell_type": "markdown",
      "metadata": {
        "id": "Z_7rTaO6mZeK",
        "colab_type": "text"
      },
      "source": [
        "### SSH 连接\n",
        "* 使用服务器操作系统的普通的文件系统权限来设置复杂的访问控制权限\n",
        "* 如果需要团队里的每个人都对仓库有写权限，又不能给每个人在服务器上建立账户，那么提供 SSH 连接就是唯一的选择了\n"
      ]
    },
    {
      "cell_type": "markdown",
      "metadata": {
        "id": "PSU7gfejmZg5",
        "colab_type": "text"
      },
      "source": [
        "有几个方法可以使你给团队每个成员提供访问权\n",
        "\n",
        "\n",
        "1.   第一个就是给团队里的每个人创建账号\n",
        "2.   第二个办法是在主机上建立一个 git 账户，让每个需要写权限的人发送一个 SSH 公钥，然后将其加入 git 账户的 ~/.ssh/authorized_keys 文件\n",
        "3.   另一个办法是让 SSH 服务器通过某个 LDAP 服务，或者其他已经设定好的集中授权机制，来进行授权。 \n"
      ]
    },
    {
      "cell_type": "markdown",
      "metadata": {
        "id": "G1aF6WLymZkB",
        "colab_type": "text"
      },
      "source": [
        "## 4.3  生成 SSH 公钥\n",
        "\n",
        "\n",
        "```\n",
        "$ cd ~/.ssh\n",
        "$ ls\n",
        "```\n",
        "寻找一对以 id_dsa 或 id_rsa 命名的文件，其中一个带有 .pub 扩展名。 .pub 文件是公钥，另一个则是私钥。\n",
        "\n",
        "将公钥发送给任意一个 Git 服务器管理员（假设服务器正在使用基于公钥的 SSH 验证设置）。 他们所要做的就是复制各自的 .pub 文件内容，并将其通过邮件发送。"
      ]
    },
    {
      "cell_type": "markdown",
      "metadata": {
        "id": "aCUywK4Co1Gq",
        "colab_type": "text"
      },
      "source": [
        "## 4.4  配置服务器"
      ]
    },
    {
      "cell_type": "markdown",
      "metadata": {
        "id": "8WbJa1ybo4h9",
        "colab_type": "text"
      },
      "source": [
        "### 配置服务器\n",
        "创建一个操作系统用户 git，并为其建立一个 .ssh 目录\n",
        "\n",
        "\n",
        "```\n",
        "$ sudo adduser git\n",
        "$ su git\n",
        "$ cd\n",
        "$ mkdir .ssh && chmod 700 .ssh\n",
        "$ touch .ssh/authorized_keys && chmod 600 .ssh/authorized_keys\n",
        "```\n",
        "接着，需要为系统用户 git 的 authorized_keys 文件添加一些开发者 SSH 公钥。 假设已经获得了若干受信任的公钥，并将它们保存在临时文件中。\n",
        "\n",
        "\n",
        "```\n",
        "$ cat /tmp/id_rsa.john.pub\n",
        "ssh-rsa AAAAB3NzaC1yc2EAAAADAQABAAABAQCB007n/ww+ouN4gSLKssMxXnBOvf9LGt4L\n",
        "ojG6rs6hPB09j9R/T17/x4lhJA0F3FR1rP6kYBRsWj2aThGw6HXLm9/5zytK6Ztg3RPKK+4k\n",
        "Yjh6541NYsnEAZuXz0jTTyAUfrtU3Z5E003C4oxOj6H0rfIF1kKI9MAQLMdpGW1GYEIgS9Ez\n",
        "Sdfd8AcCIicTDWbqLAcU4UpkaX8KyGlLwsNuuGztobF8m72ALC/nLF6JLtPofwFBlgc+myiv\n",
        "O7TCUSBdLQlgMVOFq1I2uPWQOkOWQAHukEOmfjy2jctxSDBQ220ymjaNsHT4kgtZg2AYYgPq\n",
        "dAv8JggJICUvax2T9va5 gsg-keypair\n",
        "```\n",
        "将这些公钥加入系统用户 git 的 .ssh 目录下 authorized_keys 文件的末尾：\n",
        "\n",
        "```\n",
        "$ cat /tmp/id_rsa.john.pub >> ~/.ssh/authorized_keys\n",
        "$ cat /tmp/id_rsa.josie.pub >> ~/.ssh/authorized_keys\n",
        "$ cat /tmp/id_rsa.jessica.pub >> ~/.ssh/authorized_keys\n",
        "```\n",
        "\n",
        "现在我们来为开发者新建一个空仓库。可以借助带 --bare 选项的 git init 命令来做到这一点，该命令在初始化仓库时不会创建工作目录：\n",
        "\n",
        "\n",
        "```\n",
        "$ cd /opt/git\n",
        "$ mkdir project.git\n",
        "$ cd project.git\n",
        "$ git init --bare\n",
        "Initialized empty Git repository in /opt/git/project.git/\n",
        "```\n",
        "\n",
        "每添加一个新项目，都需要有人登录服务器取得 shell，并创建一个裸仓库。 我们假定这个设置了 git 用户和 Git 仓库的服务器使用 gitserver 作为主机名。 同时，假设该服务器运行在内网，并且你已在 DNS 配置中将 gitserver 指向此服务器。那么我们可以运行如下命令（假定 myproject 是已有项目且其中已包含文件）：\n",
        "\n",
        "\n",
        "```\n",
        "# on John's computer\n",
        "$ cd myproject\n",
        "$ git init\n",
        "$ git add .\n",
        "$ git commit -m 'initial commit'\n",
        "$ git remote add origin git@gitserver:/opt/git/project.git\n",
        "$ git push origin master\n",
        "```\n",
        "其他开发者可以克隆此仓库，并推回各自的改动\n",
        "\n",
        "```\n",
        "$ git clone git@gitserver:/opt/git/project.git\n",
        "$ cd project\n",
        "$ vim README\n",
        "$ git commit -am 'fix for the README file'\n",
        "$ git push origin master\n",
        "```\n",
        "\n",
        "\n",
        "\n",
        "通过这种方法，可以快速搭建一个具有读写权限、面向多个开发者的 Git 服务器。\n",
        "\n",
        "\n",
        "借助一个名为 git-shell 的受限 shell 工具，你可以方便地将用户 git 的活动限制在与 Git 相关的范围内。该工具随 Git 软件包一同提供。 如果将 git-shell 设置为用户 git 的登录 shell（login shell），那么用户 git 便不能获得此服务器的普通 shell 访问权限。 若要使用 git-shell，需要用它替换掉 bash 或 csh，使其成为系统用户的登录 shell。 为进行上述操作，首先你必须确保 git-shell 已存在于 /etc/shells 文件中：\n",
        "\n",
        "\n",
        "```\n",
        "$ cat /etc/shells   # see if `git-shell` is already in there.  If not...\n",
        "$ which git-shell   # make sure git-shell is installed on your system.\n",
        "$ sudo vim /etc/shells  # and add the path to git-shell from last command\n",
        "```\n",
        "\n",
        "可以使用 chsh <username> 命令修改任一系统用户的 shell：\n",
        "\n",
        "```\n",
        "$ sudo chsh git  # and enter the path to git-shell, usually: /usr/bin/git-shell\n",
        "```\n",
        "\n",
        "用户 git 就只能利用 SSH 连接对 Git 仓库进行推送和拉取操作，而不能登录机器并取得普通 shell。 如果试图登录，你会发现尝试被拒绝，像这样：\n",
        "\n",
        "```\n",
        "$ ssh git@gitserver\n",
        "fatal: Interactive git shell is not enabled.\n",
        "hint: ~/git-shell-commands should exist and have read and execute access.\n",
        "Connection to gitserver closed.\n",
        "```\n",
        "\n",
        "简单来说就是管理员只给别人 git文件夹得管理权限 ，其他得内容无法访问"
      ]
    },
    {
      "cell_type": "markdown",
      "metadata": {
        "id": "Qe1UAdVSo4kY",
        "colab_type": "text"
      },
      "source": [
        "## 4.5  Git 守护进程"
      ]
    },
    {
      "cell_type": "markdown",
      "metadata": {
        "id": "-RyGPGkNo4mw",
        "colab_type": "text"
      },
      "source": [
        "以守护进程的形式运行该命令：\n",
        "\n",
        "\n",
        "```\n",
        "git daemon --reuseaddr --base-path=/opt/git/ /opt/git/\n",
        "```\n",
        "\n",
        "--reuseaddr 允许服务器在无需等待旧连接超时的情况下重启，--base-path 选项允许用户在未完全指定路径的条件下克隆项目，结尾的路径将告诉 Git 守护进程从何处寻找仓库来导出。 如果有防火墙正在运行，你需要开放端口 9418 的通信权限。"
      ]
    },
    {
      "cell_type": "markdown",
      "metadata": {
        "id": "reqNdC5to4pE",
        "colab_type": "text"
      },
      "source": [
        "一台 Ubuntu 机器上，可以使用一份 Upstart 脚本。 \n",
        "找到如下文件：\n",
        "\n",
        "```\n",
        "/etc/event.d/local-git-daemon\n",
        "```\n",
        "并添加下列脚本内容：\n",
        "\n",
        "```\n",
        "start on startup\n",
        "stop on shutdown\n",
        "exec /usr/bin/git daemon \\\n",
        "    --user=git --group=git \\\n",
        "    --reuseaddr \\\n",
        "    --base-path=/opt/git/ \\\n",
        "    /opt/git/\n",
        "respawn\n",
        "```\n",
        "出于安全考虑，强烈建议使用一个对仓库拥有只读权限的用户身份来运行该守护进程 - 你可以创建一个新用户 git-ro 并且以该用户身份来运行守护进程。 为简便起见，我们将像 git-shell 一样，同样使用 git 用户来运行它。  \n",
        "\n",
        " 为了在不重启的情况下直接运行，可以运行以下命令：\n",
        "\n",
        "```\n",
        "initctl start local-git-daemon\n",
        "```\n",
        "\n",
        "需要告诉 Git 哪些仓库允许基于服务器的无授权访问。 你可以在每个仓库下创建一个名为 git-daemon-export-ok 的文件来实现。\n",
        "\n",
        "\n",
        "```\n",
        "$ cd /path/to/project.git\n",
        "$ touch git-daemon-export-ok\n",
        "```\n",
        "该文件将允许 Git 提供无需授权的项目访问服务。\n"
      ]
    },
    {
      "cell_type": "markdown",
      "metadata": {
        "id": "AHXabjlFo4rs",
        "colab_type": "text"
      },
      "source": [
        "## 4.6 Smart HTTP\n",
        "原理是使用一个 Git 附带的，名为 git-http-backend 的 CGI。它被引用来处理协商通过 HTTP 发送和接收的数据。 它本身并不包含任何授权功能，但是授权功能可以在 Web 服务器层引用它时被轻松实现。 可以在任何所有可以处理 CGI 的 Web 服务器上办到这点。"
      ]
    },
    {
      "cell_type": "markdown",
      "metadata": {
        "id": "ZBuKHGjX8G0e",
        "colab_type": "text"
      },
      "source": [
        "## 4.7  GitWeb"
      ]
    },
    {
      "cell_type": "markdown",
      "metadata": {
        "id": "cqvx_ngT8G7x",
        "colab_type": "text"
      },
      "source": [
        "*  对项目有读写权限或只读权限，你可能需要建立起一个基于网页的简易查看器。 Git 提供了一个叫做 GitWeb 的 CGI 脚本来做这项工作。  \n",
        "\n",
        "*   Git 提供了一个命令来让你启动一个临时的服务器。 在 Linux 系统的电脑上，lighttpd 通常已经安装了，所以你只需要在项目目录里执行 git instaweb 命令即可。 如果你使用 Mac 系统， Mac OS X Leopard 系统已经预安装了 Ruby，所以 webrick 或许是你最好的选择。 如果不想使用 lighttpd 启动 instaweb 命令，你需要在执行时加入 --httpd 参数。\n",
        "\n",
        "```\n",
        "$ git instaweb --httpd=webrick\n",
        "\n",
        "```\n",
        "\n",
        "这个命令启动了一个监听 1234 端口的 HTTP 服务器，并且自动打开了浏览器 \n",
        "\n",
        "* 完成了工作并想关闭这个服务器，可以执行同一个命令，并加上 --stop 选项 \n",
        "\n",
        "\n",
        "```\n",
        "$ git instaweb --httpd=webrick --stop\n",
        "```\n",
        "**GitWeb 可以通过任何一个支持 CGI 或 Perl 的网络服务器架设**\n"
      ]
    },
    {
      "cell_type": "markdown",
      "metadata": {
        "id": "PlkgYhSS8G35",
        "colab_type": "text"
      },
      "source": [
        "##  4.8  GitLab\n",
        "一个更现代，功能更全的 Git 服务器  \n"
      ]
    },
    {
      "cell_type": "markdown",
      "metadata": {
        "id": "GtV4l9DQ9MRY",
        "colab_type": "text"
      },
      "source": [
        "### 安装\n",
        "*  GitLab 是一个数据库支持的 web 应用，所以相比于其他 git 服务器，它的安装过程涉及到更多的东西。 \n",
        "*   在 https://bitnami.com/stack/gitlab 上获取一键安装包，同时调整配置使之符合你特定的环境。 Bitnami 的一个优点在于它的登录界面（通过 alt-&rarr 键进入；）；它会告诉你安装好的 GitLab 的 IP 地址以及默认的用户名和密码。"
      ]
    },
    {
      "cell_type": "markdown",
      "metadata": {
        "id": "KXj1qYFl9Rlf",
        "colab_type": "text"
      },
      "source": [
        "### 管理\n",
        "GitLab 的管理界面是通过网络进入的。 将浏览器转到已经安装 GitLab 的 主机名或 IP 地址，然后以管理员身份登录即可。"
      ]
    },
    {
      "cell_type": "markdown",
      "metadata": {
        "id": "UqoETJBq9RoU",
        "colab_type": "text"
      },
      "source": [
        "### 使用者\n",
        "GitLab 上的用户指的是对应协作者的帐号。 用户帐号没有很多复杂的地方，主要是包含登录数据的用户信息集合。 每一个用户账号都有一个 命名空间 ，即该用户项目的逻辑集合。 如果一个叫 jane 的用户拥有一个名称是 project 的项目，那么这个项目的 url 会是 http://server/jane/project 。"
      ]
    },
    {
      "cell_type": "markdown",
      "metadata": {
        "id": "2GmiilB19RrY",
        "colab_type": "text"
      },
      "source": [
        "### 组\n",
        "一个 GitLab 的组是一些项目的集合，连同关于多少用户可以访问这些项目的数据。 每一个组都有一个项目命名空间（与用户一样），所以如果一个叫 training 的组拥有一个名称是 materials 的项目，那么这个项目的 url 会是 http://server/training/materials 。"
      ]
    },
    {
      "cell_type": "markdown",
      "metadata": {
        "id": "rggZcVmz-EuM",
        "colab_type": "text"
      },
      "source": [
        "### 项目\n",
        "一个 GitLab 的项目相当于 git 的版本库。 每一个项目都属于一个用户或者一个组的单个命名空间。 如果这个项目属于一个用户，那么这个拥有者对所有可以获取这个项目的人拥有直接管理权；如果这个项目属于一个组，那么该组中用户级别的权限也会起作用。  \n",
        "每一个项目都有一个可视级别，控制着谁可以看到这个项目页面和仓库。 如果一个项目是 私有 的，这个项目的拥有者必须明确授权从而使特定的用户可以访问。 一个 内部 的项目可以被所有登录的人看到，而一个 公开 的项目则是对所有人可见的。 注意，这种控制既包括 git “fetch” 的使用也包括对项目 web 用户界面的访问。"
      ]
    },
    {
      "cell_type": "markdown",
      "metadata": {
        "id": "TQMdE_cr-Ewy",
        "colab_type": "text"
      },
      "source": [
        "### 钩子\n",
        "GitLab 在项目和系统级别上都支持钩子程序。 对任意级别，当有相关事件发生时，GitLab 的服务器会执行一个包含描述性 JSON 数据的 HTTP 请求。 这是自动化连接你的 git 版本库和 GitLab 实例到其他的开发工具，比如 CI 服务器，聊天室，或者部署工具的一个极好方法。"
      ]
    },
    {
      "cell_type": "markdown",
      "metadata": {
        "id": "wYTDe3fI-Ezs",
        "colab_type": "text"
      },
      "source": [
        "### 基本用途\n",
        "在 GitLab 做的第一件事就是建立一个新项目。 这通过点击工具栏上的 “+” 图标完成。 要求填写项目名称，也就是这个项目所属的命名空间，以及它的可视层级。 绝大多数的设定并不是永久的，可以通过设置界面重新调整。 点击 “Create Project”。\n",
        "\n",
        "项目存在后，将它与本地的 Git 版本库连接。 每一个项目都可以通过 HTTPS 或者 SSH 连接，任意两者都可以被用来配置远程 Git。 在项目主页的顶栏可以看到这个项目的 URLs。 对于一个存在的本地版本库，这个命令将会向主机位置添加一个叫 gitlab 的远程仓库：\n",
        "\n",
        "```\n",
        "$ git remote add gitlab https://server/namespace/project.git\n",
        "```\n",
        "\n",
        "如果本地没有版本库的副本，可以这样做\n",
        "\n",
        "```\n",
        "如果你的本地没有版本库的副本，你可以这样做\n",
        "```\n",
        "\n",
        "web 用户界面提供了几个有用的获取版本库信息的网页。 每一个项目的主页都显示了最近的活动，并且通过顶部的链接可以浏览项目文件以及提交日志。"
      ]
    },
    {
      "cell_type": "markdown",
      "metadata": {
        "id": "O8hl5RQb-zav",
        "colab_type": "text"
      },
      "source": [
        "### 一起工作  \n",
        "一个 GitLab 项目上一起工作的最简单方法就是赋予协作者对 git 版本库的直接 push 权限。 可以通过项目设定的 “Members（成员）” 部分向一个项目添加写作者，并且将这个新的协作者与一个访问级别关联（不同的访问级别在 组 中已简单讨论）。 通过赋予一个协作者 “Developer（开发者）” 或者更高的访问级别，这个用户就可以毫无约束地直接向版本库或者向分支进行提交。\n",
        "\n",
        "另外一个让合作更解耦的方法就是使用合并请求。 它的优点在于让任何能够看到这个项目的协作者在被管控的情况下对这个项目作出贡献。 可以直接访问的协作者能够简单的创建一个分支，向这个分支进行提交，也可以开启一个向 master 或者其他任何一个分支的合并请求。 对版本库没有推送权限的协作者则可以 “fork” 这个版本库（即创建属于自己的这个库的副本），向 那个 副本进行提交，然后从那个副本开启一个到主项目的合并请求。 这个模型使得项目拥有者完全控制着向版本库的提交，以及什么时候允许加入陌生协作者的贡献。  \n",
        "在 GitLab 中合并请求和问题是一个长久讨论的主要部分。 每一个合并请求都允许在提出改变的行进行讨论（它支持一个轻量级的代码审查），也允许对一个总体性话题进行讨论。 两者都可以被分配给用户，或者组织到 milestones（里程碑） 界面。\n",
        "\n",
        " GitLab 的一个优点在于，服务器设置和运行以后，将很少需要调整配置文件或通过 SSH 连接服务器；绝大多数的管理和日常使用都可以在浏览器界面中完成。"
      ]
    },
    {
      "cell_type": "markdown",
      "metadata": {
        "id": "lLK0BWqf_Ogq",
        "colab_type": "text"
      },
      "source": [
        "## 4.9  第三方托管的选择"
      ]
    },
    {
      "cell_type": "markdown",
      "metadata": {
        "id": "NS_8B2uC_TZZ",
        "colab_type": "text"
      },
      "source": [
        "不想设立自己的 Git 服务器，可以选择将你的 Git 项目托管到一个外部专业的托管网站\n",
        "\n",
        "[GitHosting 页面]( https://git.wiki.kernel.org/index.php/GitHosting)"
      ]
    },
    {
      "cell_type": "markdown",
      "metadata": {
        "id": "hevhQ-Bm_icy",
        "colab_type": "text"
      },
      "source": [
        "##4.10  总结"
      ]
    },
    {
      "cell_type": "markdown",
      "metadata": {
        "id": "xbht5jcA_l43",
        "colab_type": "text"
      },
      "source": [
        "选择合适的合作 分享方式"
      ]
    },
    {
      "cell_type": "markdown",
      "metadata": {
        "id": "3x59E0Jm_l7c",
        "colab_type": "text"
      },
      "source": [
        "***\n",
        "***"
      ]
    }
  ]
}