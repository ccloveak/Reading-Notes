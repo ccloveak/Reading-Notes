{
  "nbformat": 4,
  "nbformat_minor": 0,
  "metadata": {
    "colab": {
      "name": "小甲鱼python课后题.ipynb",
      "version": "0.3.2",
      "provenance": [],
      "collapsed_sections": [
        "9dmJHivHU8ZM",
        "BZAnHYLgOi4j",
        "ifHoZfE5Oy7g",
        "1HFTtmbgUtVC",
        "TfCqXZ0EQQP8",
        "UFWTi4V2Q5DQ",
        "yJxHJLM8UdxH",
        "XV4QW1b2VnMK",
        "RFjSxcSyUA0Y",
        "SFVoQnFSWo-L",
        "akoAfEeTXs_0",
        "semgmeG_YtMz",
        "3PaNOzQ3ZZhv"
      ],
      "include_colab_link": true
    },
    "kernelspec": {
      "name": "python3",
      "display_name": "Python 3"
    }
  },
  "cells": [
    {
      "cell_type": "markdown",
      "metadata": {
        "id": "view-in-github",
        "colab_type": "text"
      },
      "source": [
        "<a href=\"https://colab.research.google.com/github/ccloveak/Study_Notes/blob/master/%E5%B0%8F%E7%94%B2%E9%B1%BCpython%E8%AF%BE%E5%90%8E%E9%A2%98.ipynb\" target=\"_parent\"><img src=\"https://colab.research.google.com/assets/colab-badge.svg\" alt=\"Open In Colab\"/></a>"
      ]
    },
    {
      "cell_type": "markdown",
      "metadata": {
        "id": "9dmJHivHU8ZM",
        "colab_type": "text"
      },
      "source": [
        "# 第001讲：我和Python的第一次亲密接触"
      ]
    },
    {
      "cell_type": "markdown",
      "metadata": {
        "id": "FiBALyFFMfDW",
        "colab_type": "text"
      },
      "source": [
        "\n",
        "### 0. Python 是什么类型的语言？\n",
        "\n",
        "Python是脚本语言\n",
        "\n",
        "\n",
        "### 1. IDLE 是什么？\n",
        "\n",
        "IDLE是一个Python Shell。可以利用IDLE这个shell与Python进行互动。\n",
        "\n",
        "\n",
        "### 2. print() 的作用是什么？\n",
        "\n",
        "print() 会在输出窗口中显示一些文本（在这一讲中，输出窗口就是IDLE shell窗口）。\n",
        "\n",
        "\n",
        "### 3. Python 中表示乘法的符号是什么？\n",
        "\n",
        "Python中的乘号是*（星号）\n",
        "\n",
        "\n",
        "###4. 为什么 `>>>print('I love fishc.com ' * 5) `可以正常执行，但 `>>>print('I love fishc.com ' + 5) `却报错？\n",
        "\n",
        "在 Python 中不能把两个完全不同的东西加在一起，比如说数字和文本，正是这个原因，>>>print('I love fishc.com ' + 5) 才会报错。  \n",
        "`>>>print('I love fishc.com ' * 5) `是将 \"I love fishc.com\" 这个字符串打印五次。\n",
        "\n",
        "\n",
        "###5. 如果我需要在一个字符串中嵌入一个双引号，正确的做法是？\n",
        "\n",
        "可以利用反斜杠（\\）对双引号转义：\\\"  \n",
        "用单引号引起这个字符串 ： ' I l\"o\"ve fishc.com '\n",
        "\n",
        "***"
      ]
    },
    {
      "cell_type": "markdown",
      "metadata": {
        "id": "BZAnHYLgOi4j",
        "colab_type": "text"
      },
      "source": [
        "###0. 动手试试直接输入 >>>5+8 与输入 >>>print(5+8) 有何不同？"
      ]
    },
    {
      "cell_type": "code",
      "metadata": {
        "id": "wvtWF5UMMMl-",
        "colab_type": "code",
        "colab": {}
      },
      "source": [
        "5+8 "
      ],
      "execution_count": 0,
      "outputs": []
    },
    {
      "cell_type": "code",
      "metadata": {
        "id": "X6hUOCPaOpkO",
        "colab_type": "code",
        "colab": {}
      },
      "source": [
        "print(5+8)"
      ],
      "execution_count": 0,
      "outputs": []
    },
    {
      "cell_type": "markdown",
      "metadata": {
        "id": "ifHoZfE5Oy7g",
        "colab_type": "text"
      },
      "source": [
        "###1. 在交互模式中，使用 Python 计算一年有多少秒？"
      ]
    },
    {
      "cell_type": "code",
      "metadata": {
        "id": "Cy_la1phO5xm",
        "colab_type": "code",
        "colab": {}
      },
      "source": [
        "print( 365 * 24 * 60 * 60 )"
      ],
      "execution_count": 0,
      "outputs": []
    },
    {
      "cell_type": "markdown",
      "metadata": {
        "id": "Kthmxzh-1GAT",
        "colab_type": "text"
      },
      "source": [
        "***\n",
        "***"
      ]
    },
    {
      "cell_type": "markdown",
      "metadata": {
        "id": "1HFTtmbgUtVC",
        "colab_type": "text"
      },
      "source": [
        "#第002讲：用Python设计第一个游戏"
      ]
    },
    {
      "cell_type": "markdown",
      "metadata": {
        "id": "yRxjhOCjO-HF",
        "colab_type": "text"
      },
      "source": [
        "\n",
        "###0. 什么是BIF？\n",
        "\n",
        "BIF 就是 Built-in Functions，内置函数。\n",
        "\n",
        "###1. 用课堂上小甲鱼教的方法数一数 Python3 提供了多少个 BIF？\n",
        "\n",
        "在 Python 或 IDLE 中，输入 dir(__builtins__) 可以看到 Python 提供的内置方法列表（注意，builtins 前后是两个下划线哦）其中小写的就是 BIF。答案是 68 个。\n",
        "\n",
        "###2. 在 Python 看来：'FishC' 和 'fishc' 一样吗？\n",
        "\n",
        "python严格区分大小写。\n",
        "\n",
        "\n",
        "###3. 在小甲鱼看来，Python 中什么是最重要的？你赞同吗？\n",
        "\n",
        "缩进！  \n",
        "在 Python 里对待缩进代码要十分小心，如果没有正确地缩进，代码所做的事情可能和你的期望相去甚远。如果在正确的位置输入冒号“:”，IDLE 会自动将下一行缩进！\n",
        "\n",
        "\n",
        "###4. 这节课的例子中出现了“=”和“==”，他们表示不同的含义，你在编程的过程中会不小心把“==”误写成“=”吗？有没有好的办法可以解决这个问题呢？\n",
        "\n",
        "Python 不允许 if 条件中赋值，所以 if c = 1: 会报错！\n",
        "\n",
        "###5. 你听说过“拼接”这个词吗？\n",
        "\n",
        "将两个字符串“相加”在一起，如：'I' + 'Love' + 'FishC' 会得到 'ILoveFishC'，在 Python 里，这种做法叫做拼接字符串。\n",
        "***\n"
      ]
    },
    {
      "cell_type": "markdown",
      "metadata": {
        "id": "TfCqXZ0EQQP8",
        "colab_type": "text"
      },
      "source": [
        "###0. 编写程序：hello.py，要求用户输入姓名并打印“你好，姓名！”"
      ]
    },
    {
      "cell_type": "code",
      "metadata": {
        "id": "xXt8Q0KTQR7X",
        "colab_type": "code",
        "outputId": "309f7c8e-60ba-4017-f6a9-e4fac81409e7",
        "colab": {
          "base_uri": "https://localhost:8080/",
          "height": 51
        }
      },
      "source": [
        "name = input(\"请输入您的姓名：\")\n",
        "print('你好，' + name + '!')"
      ],
      "execution_count": 0,
      "outputs": [
        {
          "output_type": "stream",
          "text": [
            "请输入您的姓名：张盛伟\n",
            "你好，张盛伟!\n"
          ],
          "name": "stdout"
        }
      ]
    },
    {
      "cell_type": "markdown",
      "metadata": {
        "id": "UFWTi4V2Q5DQ",
        "colab_type": "text"
      },
      "source": [
        "###1. 编写程序：calc.py 要求用户输入1到100之间数字并判断，输入符合要求打印“你妹好漂亮”，不符合要求则打印“你大爷好丑”"
      ]
    },
    {
      "cell_type": "code",
      "metadata": {
        "id": "36Sk7GXGQ_pm",
        "colab_type": "code",
        "colab": {}
      },
      "source": [
        "temp = input(\"请输入1到100之间的数字：\")\n",
        "num = int(temp)\n",
        "if 1 <= num <= 100:\n",
        "    print('你妹^_^')\n",
        "else:\n",
        "    print('你大爷T_T')\n"
      ],
      "execution_count": 0,
      "outputs": []
    },
    {
      "cell_type": "markdown",
      "metadata": {
        "id": "zZmQrzxv26wl",
        "colab_type": "text"
      },
      "source": [
        "***\n",
        "***"
      ]
    },
    {
      "cell_type": "markdown",
      "metadata": {
        "id": "yJxHJLM8UdxH",
        "colab_type": "text"
      },
      "source": [
        "#第003讲：插曲之变量和字符串"
      ]
    },
    {
      "cell_type": "markdown",
      "metadata": {
        "id": "gtCAYXZKRHgc",
        "colab_type": "text"
      },
      "source": [
        "\n",
        "###0. 以下哪个变量的命名不正确？为什么？  \n",
        "(A) MM_520 (B) _MM520_ (C) 520_MM (D) _520_MM  \n",
        "(C)选项不正确，因为 Python 中的变量名不能以数字开头。\n",
        "\n",
        "###1. 除了使用饭斜杠（\\）进行字符转义，还有什么方法可以打印：Let's go! 这个字符串？\n",
        "\n",
        "`\"Let's go!\"`\n",
        "\n",
        "###2. 如果非要在原始字符串结尾输入反斜杠，可以如何灵活处理？\n",
        "\n",
        "`str = r'C:\\Program Files\\FishC\\Good''\\\\'`\n",
        "\n",
        "***"
      ]
    },
    {
      "cell_type": "markdown",
      "metadata": {
        "id": "HdV-rQZMSaRN",
        "colab_type": "text"
      },
      "source": [
        "### 0. 还记得我们第一讲的动动手的题目吗？这一次要求使用变量，计算一年有多少秒？"
      ]
    },
    {
      "cell_type": "code",
      "metadata": {
        "id": "aaDuWhZfScq2",
        "colab_type": "code",
        "colab": {}
      },
      "source": [
        "DaysPerYear = 365\n",
        "HoursPerDay = 24\n",
        "MinutesPerHour = 60\n",
        "SecondsPerMinute = 60\n",
        "result = DaysPerYear * HoursPerDay * MinutesPerHour * SecondsPerMinute\n",
        "print(result)"
      ],
      "execution_count": 0,
      "outputs": []
    },
    {
      "cell_type": "markdown",
      "metadata": {
        "id": "OfKr2Vbz5dtk",
        "colab_type": "text"
      },
      "source": [
        "***\n",
        "***"
      ]
    },
    {
      "cell_type": "markdown",
      "metadata": {
        "id": "XV4QW1b2VnMK",
        "colab_type": "text"
      },
      "source": [
        "#第004讲：改进我们的小游戏 "
      ]
    },
    {
      "cell_type": "markdown",
      "metadata": {
        "id": "VxFW8AOySlcG",
        "colab_type": "text"
      },
      "source": [
        "\n",
        "###0. 请写出与 10 < cost < 50 等价的表达式\n",
        "(10 < cost) and (cost < 50)\n",
        "###1. Python3 中，一行可以书写多个语句吗？\n",
        "可以，语句之间用分号隔开即可\n",
        "` print('I love fishc');print('very much!') `\n",
        " ### 2. Python3 中，一个语句可以分成多行书写吗？\n",
        "一行过长的语句可以使用反斜杠或者括号分解成几行\n",
        "### 3. 听说过“短路逻辑（short-circuit logic）”吗？\n",
        "逻辑操作符有个有趣的特性：在不需要求值的时候不进行操作。举个例子，表达式 x and y，需要 x 和 y 两个变量同时为真(True)的时候，结果才为真。  \n",
        "如果当 x 变量得知是假(False)的时候，表达式就会立刻返回 False，而不用去管 y 变量的值。  \n",
        "这种行为被称为短路逻辑（short-circuit logic）或者惰性求值（lazy evaluation），这种行为同样也应用与 or 操作符。  \n",
        "实际上，Python 的做法是如果 x 为假，表达式会返回 x 的值(0)，否则它就会返回 y 的值\n",
        "\n",
        "***\n",
        " "
      ]
    },
    {
      "cell_type": "markdown",
      "metadata": {
        "id": "RFjSxcSyUA0Y",
        "colab_type": "text"
      },
      "source": [
        "###0. 完善第二个改进要求（为用户提供三次机会尝试，机会用完或者用户猜中答案均退出循环）并改进视频中小甲鱼的代码。"
      ]
    },
    {
      "cell_type": "code",
      "metadata": {
        "id": "fTb18PPxUC-t",
        "colab_type": "code",
        "colab": {}
      },
      "source": [
        "import random\n",
        "times = 3\n",
        "secret = random.randint(1,10)\n",
        "print('------------------我爱鱼C工作室------------------')\n",
        "# 这里先给guess赋值（赋一个绝对不等于secret的值）\n",
        "guess = 0\n",
        "# print()默认是打印完字符串会自动添加一个换行符，end=\" \"参数告诉print()用空格代替换行\n",
        "# 嗯，小甲鱼觉得富有创意的你应该会尝试用 end=\"JJ\"？\n",
        "print(\"不妨猜一下小甲鱼现在心里想的是哪个数字：\", end=\" \")\n",
        "while (guess != secret) and (times > 0):\n",
        "    temp = input()\n",
        "    guess = int(temp)\n",
        "    times = times - 1 # 用户每输入一次，可用机会就-1\n",
        "    if guess == secret:\n",
        "        print(\"我草，你是小甲鱼心里的蛔虫吗？！\")\n",
        "        print(\"哼，猜中了也没有奖励！\")\n",
        "    else:\n",
        "        if guess > secret:\n",
        "            print(\"哥，大了大了~~~\")\n",
        "        else:\n",
        "            print(\"嘿，小了，小了~~~\")\n",
        "        if times > 0:\n",
        "            print(\"再试一次吧：\", end=\" \")\n",
        "        else:\n",
        "            print(\"机会用光咯T_T\")\n",
        "print(\"游戏结束，不玩啦^_^\")"
      ],
      "execution_count": 0,
      "outputs": []
    },
    {
      "cell_type": "markdown",
      "metadata": {
        "id": "SFVoQnFSWo-L",
        "colab_type": "text"
      },
      "source": [
        "###1. 尝试写代码实现输入一个整数，打印从1到该整数内的所有数字。\n"
      ]
    },
    {
      "cell_type": "code",
      "metadata": {
        "id": "jB3smhSjW4fh",
        "colab_type": "code",
        "colab": {}
      },
      "source": [
        "temp = input('请输入一个整数:')\n",
        "number = int(temp)\n",
        "i = 1\n",
        "while number:\n",
        "    print(i)\n",
        "    i = i + 1\n",
        "    number = number - 1"
      ],
      "execution_count": 0,
      "outputs": []
    },
    {
      "cell_type": "markdown",
      "metadata": {
        "id": "UMFAn1-YXGsV",
        "colab_type": "text"
      },
      "source": [
        "###2. 尝试写代码实现输入一个整数，打印该整数层的倒三角"
      ]
    },
    {
      "cell_type": "code",
      "metadata": {
        "id": "KImxLXolXZtk",
        "colab_type": "code",
        "colab": {}
      },
      "source": [
        "temp = input('请输入一个整数:')\n",
        "number = int(temp)\n",
        "while number:\n",
        "    i = number - 1\n",
        "    while i:\n",
        "        print(' ', end = '')\n",
        "        i = i - 1\n",
        "    j = number\n",
        "    while j:\n",
        "        print('*', end = '')\n",
        "        j = j - 1\n",
        "    print()\n",
        "    number = number - 1"
      ],
      "execution_count": 0,
      "outputs": []
    },
    {
      "cell_type": "markdown",
      "metadata": {
        "id": "PhRMGJFb9f_n",
        "colab_type": "text"
      },
      "source": [
        "***\n",
        "***"
      ]
    },
    {
      "cell_type": "markdown",
      "metadata": {
        "id": "akoAfEeTXs_0",
        "colab_type": "text"
      },
      "source": [
        "#第005讲：闲聊之Python的数据类型"
      ]
    },
    {
      "cell_type": "markdown",
      "metadata": {
        "id": "sub6Zd-iXwmV",
        "colab_type": "text"
      },
      "source": [
        "###0. 在 Python 中，int 表示整型，那你还记得 bool、float 和 str 分别表示什么吗？\n",
        "\n",
        "bool 表示布尔类型  \n",
        "float 表示浮点型  \n",
        "str 表示字符串  \n",
        "\n",
        "\n",
        "###1. 你知道为什么布尔类型(bool)的 True 和 False 分别用 1 和 0 来代替吗？\n",
        "\n",
        "计算机只认识二进制数，所以所有的编程语言最终都会转换成简单的二进制序列给 CPU 按照一定的规则解析。  \n",
        "由于二进制只有两个数：0 和 1，因此用 0 和 1 来表示 False 和 True 不用浪费资源在转换的过程上！\n",
        "\n",
        "\n",
        "###2. 使用 int() 将小数转换为整数，结果是向上取整还是向下取整呢？\n",
        "\n",
        "对于正数来说，向下取整。  \n",
        "注：5.5 向上取整为 6，向下取整为 5  \n",
        "对于负数来说 —— 向上取整。\n",
        "\n",
        "\n",
        "###3. 我们人类思维是习惯于“四舍五入”法，你有什么办法使得 int() 按照“四舍五入”的方式取整吗？\n",
        "\n",
        "5.4 “四舍五入”结果为：5，int(5.4+0.5) == 5  \n",
        "5.6 “四舍五入”结果为：6，int(5.6+0.5) == 6\n",
        "\n",
        "\n",
        "###4. 取得一个变量的类型，视频中介绍可以使用 type() 和 isinstance()，你更倾向于使用哪个？\n",
        "\n",
        "使用 isinstance()，它的返回结果比较直接。\n",
        "\n",
        "\n",
        "###5. Python3 可以给变量命名中文名，知道为什么吗？\n",
        "\n",
        "Pyhton3 源码文件默认使用utf-8编码（支持中文）\n",
        "\n",
        "***"
      ]
    },
    {
      "cell_type": "markdown",
      "metadata": {
        "id": "semgmeG_YtMz",
        "colab_type": "text"
      },
      "source": [
        "###0. 针对视频中小甲鱼提到的小漏洞，再次改进我们的小游戏：当用户输入错误类型的时候，及时提醒用户重新输入，防止程序崩溃。"
      ]
    },
    {
      "cell_type": "code",
      "metadata": {
        "id": "k6pPXzTOY9yd",
        "colab_type": "code",
        "colab": {}
      },
      "source": [
        "import random\n",
        "\n",
        "times = 3\n",
        "secret = random.randint(1,10)\n",
        "\n",
        "print('------------------我爱鱼C工作室------------------')\n",
        "guess = 0\n",
        "print(\"不妨猜一下小甲鱼现在心里想的是哪个数字：\", end=\" \")\n",
        "\n",
        "while (guess != secret) and (times > 0):\n",
        "    temp = input()\n",
        "    \n",
        "    if temp.isdigit():\n",
        "        guess = int(temp)\n",
        "        if guess == secret:\n",
        "            print(\"我草，你是小甲鱼心里的蛔虫吗？！\")\n",
        "            print(\"哼，猜中了也没有奖励！\")\n",
        "        else:\n",
        "            if guess > secret:\n",
        "                print(\"哥，大了大了~~~\")\n",
        "            else:\n",
        "                print(\"嘿，小了，小了~~~\")\n",
        "            if times > 1:\n",
        "                print(\"再试一次吧：\", end='')\n",
        "            else:\n",
        "                print(\"机会用光咯T_T\")\n",
        "    else:\n",
        "        print(\"抱歉，您的输入有误，请输入一个整数：\", end='')\n",
        "\n",
        "    times = times - 1 # 用户每输入一次，可用机会就-1\n",
        "\n",
        "print(\"游戏结束，不玩啦^_^\")\n"
      ],
      "execution_count": 0,
      "outputs": []
    },
    {
      "cell_type": "markdown",
      "metadata": {
        "id": "yv7Awn2HBgfh",
        "colab_type": "text"
      },
      "source": [
        "s 为字符串\n",
        "\n",
        "s.isalnum()  所有字符都是数字或者字母，为真返回 True，否则返回 False。\n",
        "\n",
        "s.isalpha()   所有字符都是字母，为真返回 True，否则返回 False。\n",
        "\n",
        "s.isdigit()     所有字符都是数字，为真返回 True，否则返回 False。\n",
        "\n",
        "s.islower()    所有字符都是小写，为真返回 True，否则返回 False。\n",
        "\n",
        "s.isupper()   所有字符都是大写，为真返回 True，否则返回 False。\n",
        "\n",
        "s.istitle()      所有单词都是首字母大写，为真返回 True，否则返回 False。\n",
        "\n",
        "s.isspace()   所有字符都是空白字符，为真返回 True，否则返回 False。 "
      ]
    },
    {
      "cell_type": "markdown",
      "metadata": {
        "id": "_cffi2PSZEzR",
        "colab_type": "text"
      },
      "source": [
        "###1. 写一个程序，判断给定年份是否为闰年。"
      ]
    },
    {
      "cell_type": "code",
      "metadata": {
        "id": "YmudQ4NyZR4m",
        "colab_type": "code",
        "colab": {}
      },
      "source": [
        "temp = input('请输入一个年份：')\n",
        "while not temp.isdigit():\n",
        "    temp = input(\"抱歉，您的输入有误，请输入一个整数：\")\n",
        "\n",
        "year = int(temp)\n",
        "if year/400 == int(year/400):\n",
        "    print(temp + ' 是闰年！')\n",
        "else:\n",
        "    if (year/4 == int(year/4)) and (year/100 != int(year/100)):\n",
        "        print(temp + ' 是闰年！')\n",
        "    else:\n",
        "        print(temp + ' 不是闰年！')"
      ],
      "execution_count": 0,
      "outputs": []
    },
    {
      "cell_type": "markdown",
      "metadata": {
        "id": "DJzvLCXPAYi6",
        "colab_type": "text"
      },
      "source": [
        "***\n",
        "***"
      ]
    },
    {
      "cell_type": "markdown",
      "metadata": {
        "id": "3PaNOzQ3ZZhv",
        "colab_type": "text"
      },
      "source": [
        "#第006讲：Pyhon之常用操作符"
      ]
    },
    {
      "cell_type": "markdown",
      "metadata": {
        "id": "7f2GMuidZlbI",
        "colab_type": "text"
      },
      "source": [
        "###0. Python 的 floor 除法现在使用 “//” 实现，那 3.0 // 2.0 您目测会显示什么内容呢？\n",
        "\n",
        "Python 会严格执行 floor 除法原则  \n",
        "答案是：1.0\n",
        "\n",
        "\n",
        "###1. a < b < c 事实上是等于？\n",
        "\n",
        "(a < b) and (b < c)\n",
        "\n",
        "\n",
        "###2. 不使用 IDLE，你可以轻松说出 5 ** -2 的值吗？\n",
        "\n",
        "1/25\n",
        "\n",
        "幂运算操作符比其左侧的一元操作符优先级高，比其右侧的一元操作符优先级低。\n",
        "\n",
        "\n",
        "###3. 如何简单判断一个数是奇数还是偶数？\n",
        "\n",
        "使用求余可以简单得到答案：能被 2 整除为偶数，所以 x % 2 == 0，否则为奇数。\n",
        "\n",
        "\n",
        "###4. 请用最快速度说出答案：not 1 or 0 and 1 or 3 and 4 or 5 and 6 or 7 and 8 and 9\n",
        "\n",
        "\n",
        "答案是：4\n",
        "\n",
        "not or and 的优先级是不同的：not > and > or\n",
        "\n",
        "按照优先级给它们加上括号：(not 1) or (0 and 1) or (3 and 4) or (5 and 6) or (7 and 8 and 9)\n",
        "== 0 or 0 or 4 or 6 or 9== 4\n",
        "\n",
        "第四讲作业提到的“短路逻辑”吗？3 and 4 == 4，而 3 or 4 == 3。\n",
        "\n",
        "\n",
        "*温馨提示：为了更好的表达你的程序，有些括号还是不能省下的，毕竟不是所有程序员都跟你一样都将优先级烂透于心的。*\n",
        "\n",
        "\n",
        "###5. 还记得我们上节课那个求闰年的作业吗？如果还没有学到“求余”操作，还记得用什么方法可以“委曲求全”代替“%”的功能呢？\n",
        "\n",
        "`“if year/400 == int(year/400)”`"
      ]
    },
    {
      "cell_type": "markdown",
      "metadata": {
        "id": "Nid1SUrpebXR",
        "colab_type": "text"
      },
      "source": [
        "###0. 请写一个程序打印出 0~100 所有的奇数。"
      ]
    },
    {
      "cell_type": "code",
      "metadata": {
        "id": "VZqf25FkeWCw",
        "colab_type": "code",
        "outputId": "01cb3630-1838-4bda-bdb8-ca5148e95150",
        "colab": {
          "base_uri": "https://localhost:8080/",
          "height": 34
        }
      },
      "source": [
        "i = 0\n",
        "while i <= 100:\n",
        "    if i % 2 != 0:\n",
        "        print(i, end=' ')\n",
        "        i += 1\n",
        "    else:\n",
        "        i += 1"
      ],
      "execution_count": 0,
      "outputs": [
        {
          "output_type": "stream",
          "text": [
            "1 3 5 7 9 11 13 15 17 19 21 23 25 27 29 31 33 35 37 39 41 43 45 47 49 51 53 55 57 59 61 63 65 67 69 71 73 75 77 79 81 83 85 87 89 91 93 95 97 99 "
          ],
          "name": "stdout"
        }
      ]
    },
    {
      "cell_type": "markdown",
      "metadata": {
        "id": "o4gYXJNRlJzd",
        "colab_type": "text"
      },
      "source": [
        "###1. 题目：请编程求解该阶梯至少有多少阶？\n",
        "爱因斯坦曾出过这样一道有趣的数学题：有一个长阶梯，若每步上2阶，最后剩1阶；若每步上3阶，最后剩2阶；若每步上5阶，最后剩4阶；若每步上6阶，最后剩5阶；只有每步上7阶，最后刚好一阶也不剩。"
      ]
    },
    {
      "cell_type": "code",
      "metadata": {
        "id": "QgwxAEOElNai",
        "colab_type": "code",
        "outputId": "4ff2a84a-6ad4-4dcc-e3c3-e1f02837047f",
        "colab": {
          "base_uri": "https://localhost:8080/",
          "height": 34
        }
      },
      "source": [
        "x = 7\n",
        "i = 1\n",
        "flag = 0\n",
        "\n",
        "while i <= 100:\n",
        "    if (x%2 == 1) and (x%3 == 2) and (x%5 == 4) and (x%6==5):\n",
        "        flag = 1\n",
        "    else:\n",
        "        x = 7 * (i+1) # 根据题意，x一定是7的整数倍，所以每次乘以7\n",
        "    i += 1\n",
        "\n",
        "if flag == 1:\n",
        "    print('阶梯数是：', x)\n",
        "else:\n",
        "    print('在程序限定的范围内找不到答案！')"
      ],
      "execution_count": 0,
      "outputs": [
        {
          "output_type": "stream",
          "text": [
            "阶梯数是： 119\n"
          ],
          "name": "stdout"
        }
      ]
    },
    {
      "cell_type": "markdown",
      "metadata": {
        "id": "sy7HAJq4Cn6j",
        "colab_type": "text"
      },
      "source": [
        "***\n",
        "***"
      ]
    },
    {
      "cell_type": "markdown",
      "metadata": {
        "id": "x7JP2PhrnL7U",
        "colab_type": "text"
      },
      "source": [
        "#第007、008讲：了不起的分支和循环2"
      ]
    },
    {
      "cell_type": "markdown",
      "metadata": {
        "id": "DXJToZQMnOU0",
        "colab_type": "text"
      },
      "source": [
        "###0. if not (money < 100): 这行代码相当于？\n",
        "  \n",
        "if money >= 100:\n",
        "  \n",
        "  \n",
        "###1. assert 的作用是什么？\n",
        "  \n",
        "assert这个关键字我们称之为“断言”，当这个关键字后边的条件为假的时候，程序自动崩溃并抛出AssertionError的异常。\n",
        "####什么情况下我们会需要这样的代码呢？\n",
        "当我们在测试程序的时候就很好用，因为与其让错误的条件导致程序今后莫名其妙地崩溃，不如在错误条件出现的那一瞬间我们实现“自爆”。  \n",
        "一般来说我们可以用Ta再程序中置入检查点，当需要确保程序中的某个条件一定为真才能让程序正常工作的话，assert关键字就非常有用了。\n",
        "  \n",
        "  \n",
        "###2. 假设有 x = 1，y = 2，z = 3，请问如何快速将三个变量的值互相交换？\n",
        "  \n",
        "`x, y, z = z, y, x`\n",
        "  \n",
        "  \n",
        "###3. 猜猜 `(x < y and [x] or [y])[0]` 实现什么样的功能？\n",
        "  \n",
        " Python 的作者还没有为 Python 加入三元操作符之前，Python 社区的小伙伴们灵活的使用 and 和 or  搭配来实现三元操作符的功能。\n",
        "  \n",
        "  \n",
        "###4. 你听说过成员资格运算符吗？\n",
        "  \n",
        "Python 有一个成员资格运算符：in，用于检查一个值是否在序列中，如果在序列中返回 True，否则返回 False。\n",
        "***"
      ]
    },
    {
      "cell_type": "markdown",
      "metadata": {
        "id": "Sju8jIbIpNFs",
        "colab_type": "text"
      },
      "source": [
        "###0. 视频中小甲鱼使用 if elif else 在大多数情况下效率要比全部使用 if 要高，但根据一般的统计规律，一个班的成绩一般服从正态分布，也就是说平均成绩一般集中在 70~80 分之间，因此根据统计规律，我们还可以改进下程序以提高效率。"
      ]
    },
    {
      "cell_type": "code",
      "metadata": {
        "id": "67rvhVilpTS2",
        "colab_type": "code",
        "colab": {}
      },
      "source": [
        "score = int(input('请输入一个分数：'))\n",
        "if 80 > score >= 60:\n",
        "    print('C')\n",
        "elif 90 > score >= 80:\n",
        "    print('B')\n",
        "elif 60 > score >= 0:\n",
        "    print('D')\n",
        "elif 100 >= score >= 90:\n",
        "    print('A')\n",
        "else:\n",
        "    print('输入错误！')"
      ],
      "execution_count": 0,
      "outputs": []
    },
    {
      "cell_type": "markdown",
      "metadata": {
        "id": "XR1e8hXmpmxW",
        "colab_type": "text"
      },
      "source": [
        "###1. Python 的作者在很长一段时间不肯加入三元操作符就是怕跟C语言一样搞出国际乱码大赛，蛋疼的复杂度让初学者望而生畏，不过，如果你一旦搞清楚了三元操作符的使用技巧，或许一些比较复杂的问题反而迎刃而解。\n",
        "\n",
        "将以下代码修改为三元操作符实现：\n",
        "```\n",
        "x, y, z = 6, 5, 4\n",
        "if x < y:\n",
        "    small = x\n",
        "    if z < small:\n",
        "        small = z\n",
        "elif y < z:\n",
        "    small = y\n",
        "else:\n",
        "    small = z\n",
        "```\n",
        "\n"
      ]
    },
    {
      "cell_type": "code",
      "metadata": {
        "id": "uwGfhN6DpwM2",
        "colab_type": "code",
        "colab": {}
      },
      "source": [
        "x = 6\n",
        "y = 5\n",
        "z = 4\n",
        "small = x if (x < y and x < z) else (y if y < z else z)\n",
        "small"
      ],
      "execution_count": 0,
      "outputs": []
    },
    {
      "cell_type": "markdown",
      "metadata": {
        "id": "OOOyYaFdEAZ3",
        "colab_type": "text"
      },
      "source": [
        "***\n",
        "***"
      ]
    },
    {
      "cell_type": "markdown",
      "metadata": {
        "id": "vh8-1kHGsTw3",
        "colab_type": "text"
      },
      "source": [
        "#第009讲：了不起的分支和循环3"
      ]
    },
    {
      "cell_type": "markdown",
      "metadata": {
        "id": "Lkcjvz7AtaQn",
        "colab_type": "text"
      },
      "source": [
        "###0. 回顾一下 break 和 continue 在循环中起到的作用\n",
        " break语句的作用是终止当前循环，跳出循环体。  \n",
        "continue语句的作用是终止本轮循环并开始下一轮循环（这里要注意的是：在开始下一轮循环之前，会先测试循环条件）。\n",
        "###1. 请问 range(10) 生成哪些数？\n",
        "        \n",
        "会生成 range(0, 10)，list(range(0, 10)) 转换成列表是：`[0, 1, 2, 3, 4, 5, 6, 7, 8, 9]`，不包含 10 。\n",
        "###2. 目测以下程序会打印什么？\n",
        "\n",
        "\n",
        "```\n",
        "while True:\n",
        "    while True:\n",
        "        break\n",
        "        print(1)\n",
        "    print(2)\n",
        "    break\n",
        "print(3)\n",
        "```\n",
        "2  \n",
        "3  \n",
        "break 只能跳出一层循环\n",
        "###3. 什么情况下我们要使循环永远为真？\n",
        "\n",
        "```\n",
        "while Ture:\n",
        "   循环体\n",
        "\n",
        "```\n",
        "\n",
        "\n",
        "同样用于游戏实现，因为游戏只要运行着，就需要时刻接收用户输入，因此使用永远为真确保游戏“在线”。操作系统也是同样的道理，时刻待命，操作系统永远为真的这个循环叫做消息循环。另外，许多通讯服务器的客户端/服务器系统也是通过这样的原理来工作的。  \n",
        "所以永远为“真”虽然是“死循环”，但不一定是坏事，再说了，我们可以随时用 break 来跳出循环！\n",
        "***"
      ]
    },
    {
      "cell_type": "markdown",
      "metadata": {
        "id": "I2w3-eePu-kJ",
        "colab_type": "text"
      },
      "source": [
        "###0. 设计一个验证用户密码程序，用户只有三次机会输入错误，不过如果用户输入的内容中包含\"*\"则不计算在内。"
      ]
    },
    {
      "cell_type": "code",
      "metadata": {
        "id": "M5rCh69vu_xx",
        "colab_type": "code",
        "colab": {}
      },
      "source": [
        "count = 3\n",
        "password = 'FishC.com'\n",
        "\n",
        "while count:\n",
        "    passwd = input('请输入密码：')\n",
        "    if passwd == password:\n",
        "        print('密码正确，进入程序......')\n",
        "        break\n",
        "    elif '*' in passwd:\n",
        "        print('密码中不能含有\"*\"号！您还有', count, '次机会！', end=' ')\n",
        "        continue\n",
        "    else:\n",
        "        print('密码输入错误！您还有', count-1, '次机会！', end=' ')    \n",
        "    count -= 1"
      ],
      "execution_count": 0,
      "outputs": []
    },
    {
      "cell_type": "markdown",
      "metadata": {
        "id": "vKmPXMdYvjgt",
        "colab_type": "text"
      },
      "source": [
        "###1. 编写一个程序，求 100~999 之间的所有水仙花数。"
      ]
    },
    {
      "cell_type": "code",
      "metadata": {
        "id": "2pfU6tAsvmmo",
        "colab_type": "code",
        "colab": {}
      },
      "source": [
        "for i in range(100, 1000):\n",
        "    sum = 0\n",
        "    temp = i\n",
        "    while temp:\n",
        "        sum = sum + (temp%10) ** 3\n",
        "        temp //= 10         # 注意这里要使用地板除哦~\n",
        "    if sum == i:\n",
        "        print(i)"
      ],
      "execution_count": 0,
      "outputs": []
    },
    {
      "cell_type": "markdown",
      "metadata": {
        "id": "V9eZsaZLzTKX",
        "colab_type": "text"
      },
      "source": [
        "###2.有红、黄、蓝三种颜色的求，其中红球 3 个，黄球 3 个，绿球 6 个。先将这 12 个球混合放在一个盒子中，从中任意摸出 8 个球，编程计算摸出球的各种颜色搭配。"
      ]
    },
    {
      "cell_type": "code",
      "metadata": {
        "id": "DFRCeqrQzbt9",
        "colab_type": "code",
        "outputId": "12de1ed3-ea6b-4562-9526-d7c08c3c0a9a",
        "colab": {
          "base_uri": "https://localhost:8080/",
          "height": 255
        }
      },
      "source": [
        "print('red\\tyellow\\tgreen')\n",
        "for red in range(0, 4):\n",
        "    for yellow in range(0, 4):\n",
        "        for green in range(2, 7):\n",
        "            if red + yellow + green == 8:\n",
        "                # 注意，下边不是字符串拼接，因此不用“+”哦~\n",
        "                print(red, '\\t', yellow, '\\t', green)"
      ],
      "execution_count": 0,
      "outputs": [
        {
          "output_type": "stream",
          "text": [
            "red\tyellow\tgreen\n",
            "0 \t 2 \t 6\n",
            "0 \t 3 \t 5\n",
            "1 \t 1 \t 6\n",
            "1 \t 2 \t 5\n",
            "1 \t 3 \t 4\n",
            "2 \t 0 \t 6\n",
            "2 \t 1 \t 5\n",
            "2 \t 2 \t 4\n",
            "2 \t 3 \t 3\n",
            "3 \t 0 \t 5\n",
            "3 \t 1 \t 4\n",
            "3 \t 2 \t 3\n",
            "3 \t 3 \t 2\n"
          ],
          "name": "stdout"
        }
      ]
    },
    {
      "cell_type": "markdown",
      "metadata": {
        "id": "49ow9iRlGGA6",
        "colab_type": "text"
      },
      "source": [
        "***\n",
        "***"
      ]
    },
    {
      "cell_type": "markdown",
      "metadata": {
        "id": "_4eHrNu80Dob",
        "colab_type": "text"
      },
      "source": [
        "#第010讲：列表：一个打了激素的数组"
      ]
    },
    {
      "cell_type": "markdown",
      "metadata": {
        "id": "690oznqdze6V",
        "colab_type": "text"
      },
      "source": [
        "\n",
        "###0. 列表都可以存放一些什么东西？\n",
        "  \n",
        "我们说 Python 的列表是一个打了激素的数组，如果把数组比喻成集装箱，那么 Python 的列表就是一个大仓库，Ta 可以存放我们已经学习过的任何数据类型。\n",
        "\n",
        " `mix = [1, ‘小甲鱼’, 3.14, [1, 2, 3]]`\n",
        "  \n",
        "  \n",
        "###1. 向列表增加元素有哪些方法？\n",
        "  \n",
        "append()  \n",
        "extend()   \n",
        "insert()\n",
        "  \n",
        "  \n",
        "###2. append() 方法和 extend() 方法都是向列表的末尾增加元素，请问他们有什么区别？\n",
        "  \n",
        "append() 方法是将参数作为一个元素增加到列表的末尾。\n",
        "extend() 方法则是将参数作为一个列表去扩展列表的末尾。\n",
        "\n",
        "\n",
        "```\n",
        ">>> name = ['F', 'i', 's', 'h']\n",
        ">>> name.append('C')\n",
        ">>> name\n",
        "['F', 'i', 's', 'h', 'C']\n",
        ">>> name.extend(['.', 'c'])\n",
        ">>> name\n",
        "['F', 'i', 's', 'h', 'C', '.', 'c']\n",
        ">>> name.append(['o', 'm'])\n",
        ">>> name\n",
        "['F', 'i', 's', 'h', 'C', '.', 'c', ['o', 'm']]\n",
        "```\n",
        "\n",
        "\n",
        "\n",
        "###3. 有列表 `name = ['F', 'i', 'h', 'C']`，如果想要在元素 'i' 和 'h' 之间插入元素 's'，应该使用什么方法来插入？\n",
        "  \n",
        "`name.insert(2, 's')`\n",
        "\n",
        "***"
      ]
    },
    {
      "cell_type": "markdown",
      "metadata": {
        "id": "g3syfbDU3IT0",
        "colab_type": "text"
      },
      "source": [
        "###0. 自己动手试试看，并分析在这种情况下，向列表添加数据应当采用哪种方法比较好？\n",
        "\n",
        "假设给定以下列表：  \n",
        "\n",
        "`member = ['小甲鱼', '黑夜', '迷途', '怡静', '秋舞斜阳']`\n",
        "\n",
        "要求将列表修改为：\n",
        "\n",
        "`member = ['小甲鱼', 88, '黑夜', 90, '迷途', 85, '怡静', 90, '秋舞斜阳', 88]`\n",
        "\n",
        "方法一：使用 insert() 和 append() 方法修改列表。  \n",
        "\n",
        "方法二：重新创建一个同名字的列表覆盖。"
      ]
    },
    {
      "cell_type": "code",
      "metadata": {
        "id": "8zqBIo1C3RyU",
        "colab_type": "code",
        "colab": {
          "base_uri": "https://localhost:8080/",
          "height": 34
        },
        "outputId": "05c42438-03c5-404b-c287-f7b5f12a2cda"
      },
      "source": [
        "member = ['小甲鱼', '黑夜', '迷途', '怡静', '秋舞斜阳']\n",
        "member.insert(1, 88)\n",
        "member.insert(3, 90)\n",
        "member.insert(5, 85)\n",
        "member.insert(7, 90)\n",
        "member.append(88)\n",
        "member"
      ],
      "execution_count": 2,
      "outputs": [
        {
          "output_type": "execute_result",
          "data": {
            "text/plain": [
              "['小甲鱼', 88, '黑夜', 90, '迷途', 85, '怡静', 90, '秋舞斜阳', 88]"
            ]
          },
          "metadata": {
            "tags": []
          },
          "execution_count": 2
        }
      ]
    },
    {
      "cell_type": "code",
      "metadata": {
        "id": "2LwGuq8x3jYj",
        "colab_type": "code",
        "colab": {
          "base_uri": "https://localhost:8080/",
          "height": 34
        },
        "outputId": "6e6be8e5-f1a3-4ff2-8f0c-ca563494f058"
      },
      "source": [
        "member = ['小甲鱼', 88, '黑夜', 90, '迷途', 85, '怡静', 90, '秋舞斜阳', 88]\n",
        "member"
      ],
      "execution_count": 3,
      "outputs": [
        {
          "output_type": "execute_result",
          "data": {
            "text/plain": [
              "['小甲鱼', 88, '黑夜', 90, '迷途', 85, '怡静', 90, '秋舞斜阳', 88]"
            ]
          },
          "metadata": {
            "tags": []
          },
          "execution_count": 3
        }
      ]
    },
    {
      "cell_type": "markdown",
      "metadata": {
        "id": "VDFsRCpw3rqU",
        "colab_type": "text"
      },
      "source": [
        "###1. 利用 for 循环打印上边 member 列表中的每个内容"
      ]
    },
    {
      "cell_type": "code",
      "metadata": {
        "id": "mMQdYKGY3uVU",
        "colab_type": "code",
        "colab": {}
      },
      "source": [
        "member = ['小甲鱼', 88, '黑夜', 90, '迷途', 85, '怡静', 90, '秋舞斜阳', 88]\n",
        "for each in member:\n",
        "    print(each)"
      ],
      "execution_count": 0,
      "outputs": []
    },
    {
      "cell_type": "markdown",
      "metadata": {
        "id": "iI0u2aNI35d-",
        "colab_type": "text"
      },
      "source": [
        "###2.修改一下代码打印成下图的样式\n",
        "![](https://xxx.ilovefishc.com/forum/201310/05/060640if12iygzasr3z2jm.png)"
      ]
    },
    {
      "cell_type": "code",
      "metadata": {
        "id": "UGggaOhJ37tK",
        "colab_type": "code",
        "colab": {}
      },
      "source": [
        "count = 0\n",
        "length = len(member)\n",
        "while count < length:\n",
        "    print(member[count], member[count+1])\n",
        "    count += 2"
      ],
      "execution_count": 0,
      "outputs": []
    },
    {
      "cell_type": "code",
      "metadata": {
        "id": "mUqQYOTA4KpC",
        "colab_type": "code",
        "colab": {}
      },
      "source": [
        "for each in range(len(member)):\n",
        "    if each%2 == 0:\n",
        "        print(member[each], member[each+1])"
      ],
      "execution_count": 0,
      "outputs": []
    },
    {
      "cell_type": "markdown",
      "metadata": {
        "id": "_97vByoKIMcr",
        "colab_type": "text"
      },
      "source": [
        "***\n",
        "***"
      ]
    },
    {
      "cell_type": "markdown",
      "metadata": {
        "id": "YmPfwcUr4fDL",
        "colab_type": "text"
      },
      "source": [
        "#第011讲：列表：一个打了激素的数组2"
      ]
    },
    {
      "cell_type": "markdown",
      "metadata": {
        "id": "2a92oGYI4sS-",
        "colab_type": "text"
      },
      "source": [
        "###0. 下边的列表分片操作会打印什么内容？\n",
        "\n",
        "\n",
        "```\n",
        ">>> list1 = [1, 3, 2, 9, 7, 8]\n",
        ">>> list1[2:5]\n",
        "```\n",
        "`[2, 9, 7]`\n",
        "\n",
        "\n",
        "###1. 请问` list1[0] `和` list1[0:1]` 一样吗？\n",
        "  \n",
        "不一样，`list1[0] `返回第0个元素的值，`list1[0:1]` 返回一个只含有第0个元素的列表。\n",
        "  \n",
        "  \n",
        "###2. 如果你每次想从列表的末尾取出一个元素，并将这个元素插入到列表的最前边，你会怎么做\n",
        "`>>> list1.insert(0, list1.pop())`\n",
        "\n",
        "####3. Python 支持负数索引\n",
        "![Python 支持负数索引](https://xxx.ilovefishc.com/forum/201310/14/2228276q2qb480qtt7k4k7.png)\n",
        "正常索引是从左到右索引，负数索引是从右到左。\n",
        " \n",
        "\n",
        "###4. 在进行分片的时候，我们知道分片的开始和结束位置需要进行指定，但其实还有另外一个隐藏的设置：步长。\n",
        "1) 之前提到的“简洁”分片操作在这里有效\n",
        "\n",
        "\n",
        "```\n",
        ">>> list1[::2]\n",
        "[1, 2, 7]\n",
        "```\n",
        "\n",
        "\n",
        "2) 步长不能为0，要不就走不动了：\n",
        "\n",
        "\n",
        "```\n",
        ">>> list1[::0]\n",
        "Traceback (most recent call last):\n",
        "  File \"<pyshell#11>\", line 1, in <module>\n",
        "    list1[::0]\n",
        "ValueError: slice step cannot be zero\n",
        "```\n",
        "\n",
        "\n",
        "\n",
        "3) 步长可以是负数，改变方向（从尾部开始向左走）：\n",
        "\n",
        "\n",
        "```\n",
        ">>> list1[::-2]\n",
        "[8, 9, 3]\n",
        "```\n",
        "\n",
        "\n",
        "###5. 课堂上小甲鱼说可以利用分片完成列表的拷贝 `list2 = list1[:]`，那事实上可不可以直接写成 list2 = list1 更加简洁呢？\n",
        "\n",
        "不可以！\n",
        "\n",
        "\n",
        "```\n",
        ">>> list1 = [1, 3, 2, 9, 7, 8]\n",
        ">>> list2 = list1[:]\n",
        ">>> list2\n",
        "[1, 3, 2, 9, 7, 8]\n",
        ">>> list3 = list1\n",
        ">>> list3\n",
        "[1, 3, 2, 9, 7, 8]\n",
        "```\n",
        "\n",
        "![替代文字](https://xxx.ilovefishc.com/forum/201310/08/042949n159vjspz1ach8o2.png)\n",
        "\n",
        "\n",
        "\n",
        "***"
      ]
    },
    {
      "cell_type": "markdown",
      "metadata": {
        "id": "mU4OgsG47tz0",
        "colab_type": "text"
      },
      "source": [
        "#第012讲：列表：一个打了激素的数组3"
      ]
    },
    {
      "cell_type": "markdown",
      "metadata": {
        "id": "sA_2Dv137yfB",
        "colab_type": "text"
      },
      "source": [
        "###0. 请问如何将下边这个列表的'小甲鱼'修改为'小鱿鱼'？"
      ]
    },
    {
      "cell_type": "code",
      "metadata": {
        "id": "XYHm6xmh8EY-",
        "colab_type": "code",
        "colab": {
          "base_uri": "https://localhost:8080/",
          "height": 34
        },
        "outputId": "92fa7968-a34b-4fa5-ccd1-7c336627b579"
      },
      "source": [
        "list1 = [1, [1, 2, ['小甲鱼']], 3, 5, 8, 13, 18]\n",
        "list1[1][2][0] = '小鱿鱼'\n",
        "list1"
      ],
      "execution_count": 4,
      "outputs": [
        {
          "output_type": "execute_result",
          "data": {
            "text/plain": [
              "[1, [1, 2, ['小鱿鱼']], 3, 5, 8, 13, 18]"
            ]
          },
          "metadata": {
            "tags": []
          },
          "execution_count": 4
        }
      ]
    },
    {
      "cell_type": "markdown",
      "metadata": {
        "id": "DWV5Lt7b8OiL",
        "colab_type": "text"
      },
      "source": [
        "###1.要对一个列表进行顺序排序，请问使用什么方法？\n",
        "`>>> 列表名.sort()`"
      ]
    },
    {
      "cell_type": "markdown",
      "metadata": {
        "id": "DmNCJjsk94S0",
        "colab_type": "text"
      },
      "source": [
        "###2. 要对一个列表进行逆序排序，请问使用什么方法？\n",
        "方法1\n",
        "\n",
        "```\n",
        ">>> 列表名.sort()\n",
        ">>> 列表名.reverse()\n",
        "```\n",
        "方法2\n",
        "\n",
        "`>>> 列表名.sort(reverse=True)`"
      ]
    },
    {
      "cell_type": "markdown",
      "metadata": {
        "id": "6F78WGrl-Hdu",
        "colab_type": "text"
      },
      "source": [
        "###3. 列表还有两个内置方法：copy() 和 clear()"
      ]
    },
    {
      "cell_type": "code",
      "metadata": {
        "id": "VfkbhZoq-SAb",
        "colab_type": "code",
        "colab": {}
      },
      "source": [
        "#copy() 方法跟使用切片拷贝是一样的\n",
        ">>> list2 = list1.copy()\n",
        ">>> list2\n"
      ],
      "execution_count": 0,
      "outputs": []
    },
    {
      "cell_type": "code",
      "metadata": {
        "id": "x-6HBf57-lPj",
        "colab_type": "code",
        "colab": {}
      },
      "source": [
        "#clear() 方法用于清空列表的元素，清空完后列表仍然还在哦，只是变成一个空列表\n",
        ">>> list2.clear()\n",
        ">>> list2\n"
      ],
      "execution_count": 0,
      "outputs": []
    },
    {
      "cell_type": "markdown",
      "metadata": {
        "id": "koEByGzq-1vM",
        "colab_type": "text"
      },
      "source": [
        "###4. 列表推导式(列表解析)"
      ]
    },
    {
      "cell_type": "code",
      "metadata": {
        "id": "EKJcE59d-56x",
        "colab_type": "code",
        "outputId": "79b94c02-d148-4844-e987-580917440989",
        "colab": {
          "base_uri": "https://localhost:8080/",
          "height": 34
        }
      },
      "source": [
        ">>> [ i*i for i in range(10) ]"
      ],
      "execution_count": 0,
      "outputs": [
        {
          "output_type": "execute_result",
          "data": {
            "text/plain": [
              "[0, 1, 4, 9, 16, 25, 36, 49, 64, 81]"
            ]
          },
          "metadata": {
            "tags": []
          },
          "execution_count": 39
        }
      ]
    },
    {
      "cell_type": "markdown",
      "metadata": {
        "id": "fAhmbrlG_tPn",
        "colab_type": "text"
      },
      "source": [
        "####语法如：`[有关A的表达式 for A in B]`"
      ]
    },
    {
      "cell_type": "code",
      "metadata": {
        "id": "hE2BEVua_0ED",
        "colab_type": "code",
        "outputId": "cb78dd11-288e-445a-9a04-6c3e56748c79",
        "colab": {
          "base_uri": "https://localhost:8080/",
          "height": 34
        }
      },
      "source": [
        ">>> list1 = [x**2 for x in range(10)]\n",
        ">>> list1"
      ],
      "execution_count": 0,
      "outputs": [
        {
          "output_type": "execute_result",
          "data": {
            "text/plain": [
              "[0, 1, 4, 9, 16, 25, 36, 49, 64, 81]"
            ]
          },
          "metadata": {
            "tags": []
          },
          "execution_count": 40
        }
      ]
    },
    {
      "cell_type": "code",
      "metadata": {
        "id": "tUM5us-p_75W",
        "colab_type": "code",
        "outputId": "e8690e38-55c6-472c-b354-7d7b109a8c7c",
        "colab": {
          "base_uri": "https://localhost:8080/",
          "height": 34
        }
      },
      "source": [
        "list1 = []\n",
        "for x in range(10):\n",
        "    list1.append(x**2)\n",
        "list1"
      ],
      "execution_count": 0,
      "outputs": [
        {
          "output_type": "execute_result",
          "data": {
            "text/plain": [
              "[0, 1, 4, 9, 16, 25, 36, 49, 64, 81]"
            ]
          },
          "metadata": {
            "tags": []
          },
          "execution_count": 42
        }
      ]
    },
    {
      "cell_type": "markdown",
      "metadata": {
        "id": "kdqBkpuqAOGI",
        "colab_type": "text"
      },
      "source": [
        "###5. 问题：请先在 IDLE 中获得下边列表的结果，并按照上方例子把列表推导式还原出来。\n",
        "\n"
      ]
    },
    {
      "cell_type": "code",
      "metadata": {
        "id": "COUabbj5ASNi",
        "colab_type": "code",
        "colab": {}
      },
      "source": [
        "list1 = [(x, y) for x in range(10) for y in range(10) if x%2==0 if y%2!=0]\n",
        "list1"
      ],
      "execution_count": 0,
      "outputs": []
    },
    {
      "cell_type": "code",
      "metadata": {
        "id": "e8zvLg05AZJv",
        "colab_type": "code",
        "colab": {}
      },
      "source": [
        "list1 = []\n",
        "for x in range(10):\n",
        "    for y in range(10):\n",
        "        if x%2 == 0:\n",
        "            if y%2 != 0:\n",
        "                list1.append((x, y))\n",
        "list1"
      ],
      "execution_count": 0,
      "outputs": []
    },
    {
      "cell_type": "markdown",
      "metadata": {
        "id": "pRzEfBRFMLQe",
        "colab_type": "text"
      },
      "source": [
        "###6. 活学活用：请使用列表推导式补充被小甲鱼不小心涂掉的部分\n",
        "![](https://xxx.ilovefishc.com/forum/201310/12/044035qddrqkmrqod4cqmr.png)"
      ]
    },
    {
      "cell_type": "code",
      "metadata": {
        "id": "abm5vDJZMVRy",
        "colab_type": "code",
        "colab": {}
      },
      "source": [
        ">>> list3 = [name + '：' + slogan[2:] for slogan in list1 for name in list2 if slogan[0] == name[0]]"
      ],
      "execution_count": 0,
      "outputs": []
    },
    {
      "cell_type": "markdown",
      "metadata": {
        "id": "ruME3dFwMd7U",
        "colab_type": "text"
      },
      "source": [
        "***\n",
        "***"
      ]
    },
    {
      "cell_type": "markdown",
      "metadata": {
        "id": "_hJqVXp6BsKH",
        "colab_type": "text"
      },
      "source": [
        "#`[扩展阅读] `字符串的方法及注释"
      ]
    },
    {
      "cell_type": "markdown",
      "metadata": {
        "id": "iuB_i0i1ByCO",
        "colab_type": "text"
      },
      "source": [
        "###capitalize()  \n",
        "把字符串的第一个字符改为大写\n",
        "###casefold()\n",
        "把整个字符串的所有字符改为小写\n",
        "###center(width)\n",
        "将字符串居中，并使用空格填充至长度 width 的新字符串\n",
        "###count(sub[, start[, end]])\n",
        "返回 sub 在字符串里边出现的次数，start 和 end 参数表示范围，可选。\n",
        "###encode(encoding='utf-8', errors='strict')\n",
        "以 encoding 指定的编码格式对字符串进行编码。\n",
        "###endswith(sub[, start[, end]])\n",
        "检查字符串是否以 sub 子字符串结束，如果是返回 True，否则返回 False。start 和 end 参数表示范围，可选。\n",
        "###expandtabs([tabsize=8])\n",
        "把字符串中的 tab 符号（\\t）转换为空格，如不指定参数，默认的空格数是 tabsize=8。\n",
        "###find(sub[, start[, end]])\n",
        "检测 sub 是否包含在字符串中，如果有则返回索引值，否则返回 -1，start 和 end 参数表示范围，可选。\n",
        "###index(sub[, start[, end]])\n",
        "跟 find 方法一样，不过如果 sub 不在 string 中会产生一个异常。\n",
        "###isalnum()\n",
        "如果字符串至少有一个字符并且所有字符都是字母或数字则返回 True，否则返回 False。\n",
        "###isalpha()\n",
        "如果字符串至少有一个字符并且所有字符都是字母则返回 True，否则返回 False。\n",
        "###isdecimal()\n",
        "如果字符串只包含十进制数字则返回 True，否则返回 False。\n",
        "###isdigit()\n",
        "如果字符串只包含数字则返回 True，否则返回 False。\n",
        "###islower()\n",
        "如果字符串中至少包含一个区分大小写的字符，并且这些字符都是小写，则返回 True，否则返回 False。\n",
        "###isnumeric()\n",
        "如果字符串中只包含数字字符，则返回 True，否则返回 False。\n",
        "###isspace()\n",
        "如果字符串中只包含空格，则返回 True，否则返回 False。\n",
        "###istitle()\n",
        "如果字符串是标题化（所有的单词都是以大写开始，其余字母均小写），则返回 True，否则返回 False。\n",
        "###isupper()\n",
        "如果字符串中至少包含一个区分大小写的字符，并且这些字符都是大写，则返回 True，否则返回 False。\n",
        "###join(sub)\n",
        "以字符串作为分隔符，插入到 sub 中所有的字符之间。\n",
        "###ljust(width)\n",
        "返回一个左对齐的字符串，并使用空格填充至长度为 width 的新字符串。\n",
        "###lower()\n",
        "转换字符串中所有大写字符为小写。\n",
        "###lstrip()\n",
        "去掉字符串左边的所有空格\n",
        "###partition(sub)\n",
        "找到子字符串 sub，把字符串分成一个 3 元组 (pre_sub, sub, fol_sub)，如果字符串中不包含 sub 则返回 ('原字符串', '', '')\n",
        "###replace(old, new[, count])\n",
        "把字符串中的 old 子字符串替换成 new 子字符串，如果 count 指定，则替换不超过 count 次。\n",
        "###rfind(sub[, start[, end]])\n",
        "类似于 find() 方法，不过是从右边开始查找。\n",
        "###rindex(sub[, start[, end]])\n",
        "类似于 index() 方法，不过是从右边开始。\n",
        "###rjust(width)\n",
        "返回一个右对齐的字符串，并使用空格填充至长度为 width 的新字符串。\n",
        "###rpartition(sub)\n",
        "类似于 partition() 方法，不过是从右边开始查找。\n",
        "###rstrip()\n",
        "删除字符串末尾的空格。\n",
        "###split(sep=None, maxsplit=-1)\n",
        "不带参数默认是以空格为分隔符切片字符串，如果 maxsplit 参数有设置，则仅分隔 maxsplit 个子字符串，返回切片后的子字符串拼接的列表。\n",
        "###splitlines(([keepends]))\n",
        "在输出结果里是否去掉换行符，默认为 False，不包含换行符；如果为 True，则保留换行符。。\n",
        "###startswith(prefix[, start[, end]])\n",
        "检查字符串是否以 prefix 开头，是则返回 True，否则返回 False。start 和 end 参数可以指定范围检查，可选。\n",
        "###strip([chars])\n",
        "删除字符串前边和后边所有的空格，chars 参数可以定制删除的字符，可选。\n",
        "###swapcase()\n",
        "翻转字符串中的大小写。\n",
        "###title()\n",
        "返回标题化（所有的单词都是以大写开始，其余字母均小写）的字符串。\n",
        "###translate(table)\n",
        "根据 table 的规则（可以由 str.maketrans('a', 'b') 定制）转换字符串中的字符。\n",
        "###upper()\n",
        "转换字符串中的所有小写字符为大写。\n",
        "###zfill(width)\n",
        "返回长度为 width 的字符串，原字符串右对齐，前边用 0 填充。\n",
        "\n",
        "***\n",
        "***"
      ]
    },
    {
      "cell_type": "markdown",
      "metadata": {
        "id": "92KWaeocCpTO",
        "colab_type": "text"
      },
      "source": [
        "#第013讲：元组：戴上了枷锁的列表"
      ]
    },
    {
      "cell_type": "markdown",
      "metadata": {
        "id": "SF_3A4iEC0XN",
        "colab_type": "text"
      },
      "source": [
        "###0. 请用一句话描述什么是列表？再用一句话描述什么是元组？\n",
        " 列表：一个大仓库，你可以随时往里边添加和删除任何东西。  \n",
        "元组：封闭的列表，一旦定义，就不可改变（不能添加、删除或修改）。\n",
        "  \n",
        "  \n",
        "###1. 什么情况下你需要使用元组而不是列表？\n",
        "  \n",
        "当我们希望内容不被轻易改写的时候，我们使用元组（把权力关进牢笼）。  \n",
        "当我们需要频繁修改数据，我们使用列表。\n",
        "  \n",
        "  \n",
        "###2. 当元组和列表掉下水，你会救谁？\n",
        "  \n",
        "我会救列表，因为列表提供了比元组更丰富的内置方法，这相当大的提高了编程的灵活性。  \n",
        "元组固然安全，但元组一定创建就无法修改（除非通过新建一个元组来间接修改，但这就带来了消耗），而我们人是经常摇摆不定的，所以元组只有在特殊的情况才用到，平时还是列表用的多。\n",
        "\n",
        "还因为元组比较封闭，不会进水。\n",
        "\n",
        "###3. 请将左边列表的内置方法与右边的注释连线，并圈出元组可以使用的方法。\n",
        "\n",
        "![](https://xxx.ilovefishc.com/forum/201310/20/1622359kx0oefz63c16zhx.gif)\n",
        "\n",
        "###4. 创建一个元组，什么情况下逗号和小括号必须同时存在，缺一不可？\n",
        "\n",
        "在拼接只有一个元素的元组的时候\n",
        "\n",
        "\n",
        "\n",
        "```\n",
        ">>> temp = (‘小甲鱼’, ‘黑夜’, ‘迷途’, ‘小布丁’)\n",
        "# 如果我想在“黑夜”和“迷途”之间插入“怡静”，我们应该：\n",
        ">>> temp = temp[:2] + (‘怡静’,) + temp[2:]\n",
        "```\n",
        "\n",
        "###5. x, y, z = 1, 2, 3 请问x, y, z是元组吗？\n",
        "所有的多对象的、逗号分隔的、没有明确用符号定义的这些集合默认的类型都是元组\n",
        "\n",
        "###6. 请写出以下情景中应该使用列表还是元组来保存数据：\n",
        "1)游戏中角色的属性：列表\n",
        "  \n",
        "2) 你的身份证信息：元组\n",
        "  \n",
        "3) 论坛的会员：列表\n",
        "  \n",
        "4) 团队合作开发程序，传递给一个你并不了解具体实现的函数的参数：元组\n",
        "  \n",
        "5) 航天火箭各个组件的具体配置参数：元组\n",
        "  \n",
        "6) NASA系统中记录已经发现的行星数据：列表\n",
        " \n",
        " ###7. 上节课我们通过课后作业的形式学习到了“列表推导式”，那请问如果我把中括号改为小括号，会不会得到“元组推导式”呢？自己动手试试看再看答案哦^_^\n",
        " \n",
        " \n",
        "\n",
        "```\n",
        ">>> tuple1 = (x**2 for x in range(10))\n",
        ">>> type(tuple1)\n",
        "<class 'generator'>\n",
        "```\n",
        "生成器：\n",
        "\n",
        "```\n",
        ">>> tuple1.__next__()\n",
        "0\n",
        ">>> tuple1.__next__()\n",
        "1\n",
        ">>> tuple1.__next__()\n",
        "4\n",
        ">>> tuple1.__next__()\n",
        "9\n",
        ">>> tuple1.__next__()\n",
        "16\n",
        ">>> tuple1.__next__()\n",
        "25\n",
        ">>> tuple1.__next__()\n",
        "36\n",
        "```\n",
        "\n",
        "***\n",
        "***\n",
        "\n",
        "\n"
      ]
    }
  ]
}