{
  "nbformat": 4,
  "nbformat_minor": 0,
  "metadata": {
    "colab": {
      "name": "小甲鱼python课后题",
      "version": "0.3.2",
      "provenance": [],
      "collapsed_sections": [
        "9dmJHivHU8ZM",
        "BZAnHYLgOi4j",
        "ifHoZfE5Oy7g",
        "1HFTtmbgUtVC",
        "TfCqXZ0EQQP8",
        "UFWTi4V2Q5DQ",
        "yJxHJLM8UdxH",
        "XV4QW1b2VnMK",
        "RFjSxcSyUA0Y",
        "SFVoQnFSWo-L",
        "akoAfEeTXs_0",
        "semgmeG_YtMz",
        "3PaNOzQ3ZZhv"
      ],
      "include_colab_link": true
    },
    "kernelspec": {
      "name": "python3",
      "display_name": "Python 3"
    }
  },
  "cells": [
    {
      "cell_type": "markdown",
      "metadata": {
        "id": "view-in-github",
        "colab_type": "text"
      },
      "source": [
        "<a href=\"https://colab.research.google.com/github/ccloveak/Study_Notes/blob/master/%E5%B0%8F%E7%94%B2%E9%B1%BCpython%E8%AF%BE%E5%90%8E%E9%A2%98.ipynb\" target=\"_parent\"><img src=\"https://colab.research.google.com/assets/colab-badge.svg\" alt=\"Open In Colab\"/></a>"
      ]
    },
    {
      "cell_type": "markdown",
      "metadata": {
        "id": "9dmJHivHU8ZM",
        "colab_type": "text"
      },
      "source": [
        "# 第001讲：我和Python的第一次亲密接触"
      ]
    },
    {
      "cell_type": "markdown",
      "metadata": {
        "id": "FiBALyFFMfDW",
        "colab_type": "text"
      },
      "source": [
        "\n",
        "### 0. Python 是什么类型的语言？\n",
        "\n",
        "Python是脚本语言\n",
        "\n",
        "\n",
        "### 1. IDLE 是什么？\n",
        "\n",
        "IDLE是一个Python Shell。可以利用IDLE这个shell与Python进行互动。\n",
        "\n",
        "\n",
        "### 2. print() 的作用是什么？\n",
        "\n",
        "print() 会在输出窗口中显示一些文本（在这一讲中，输出窗口就是IDLE shell窗口）。\n",
        "\n",
        "\n",
        "### 3. Python 中表示乘法的符号是什么？\n",
        "\n",
        "Python中的乘号是*（星号）\n",
        "\n",
        "\n",
        "###4. 为什么 `>>>print('I love fishc.com ' * 5) `可以正常执行，但 `>>>print('I love fishc.com ' + 5) `却报错？\n",
        "\n",
        "在 Python 中不能把两个完全不同的东西加在一起，比如说数字和文本，正是这个原因，>>>print('I love fishc.com ' + 5) 才会报错。  \n",
        "`>>>print('I love fishc.com ' * 5) `是将 \"I love fishc.com\" 这个字符串打印五次。\n",
        "\n",
        "\n",
        "###5. 如果我需要在一个字符串中嵌入一个双引号，正确的做法是？\n",
        "\n",
        "可以利用反斜杠（\\）对双引号转义：\\\"  \n",
        "用单引号引起这个字符串 ： ' I l\"o\"ve fishc.com '\n",
        "\n",
        "***"
      ]
    },
    {
      "cell_type": "markdown",
      "metadata": {
        "id": "BZAnHYLgOi4j",
        "colab_type": "text"
      },
      "source": [
        "###0. 动手试试直接输入 >>>5+8 与输入 >>>print(5+8) 有何不同？"
      ]
    },
    {
      "cell_type": "code",
      "metadata": {
        "id": "wvtWF5UMMMl-",
        "colab_type": "code",
        "colab": {}
      },
      "source": [
        "5+8 "
      ],
      "execution_count": 0,
      "outputs": []
    },
    {
      "cell_type": "code",
      "metadata": {
        "id": "X6hUOCPaOpkO",
        "colab_type": "code",
        "colab": {}
      },
      "source": [
        "print(5+8)"
      ],
      "execution_count": 0,
      "outputs": []
    },
    {
      "cell_type": "markdown",
      "metadata": {
        "id": "ifHoZfE5Oy7g",
        "colab_type": "text"
      },
      "source": [
        "###1. 在交互模式中，使用 Python 计算一年有多少秒？"
      ]
    },
    {
      "cell_type": "code",
      "metadata": {
        "id": "Cy_la1phO5xm",
        "colab_type": "code",
        "colab": {}
      },
      "source": [
        "print( 365 * 24 * 60 * 60 )"
      ],
      "execution_count": 0,
      "outputs": []
    },
    {
      "cell_type": "markdown",
      "metadata": {
        "id": "Kthmxzh-1GAT",
        "colab_type": "text"
      },
      "source": [
        "***\n",
        "***"
      ]
    },
    {
      "cell_type": "markdown",
      "metadata": {
        "id": "1HFTtmbgUtVC",
        "colab_type": "text"
      },
      "source": [
        "#第002讲：用Python设计第一个游戏"
      ]
    },
    {
      "cell_type": "markdown",
      "metadata": {
        "id": "yRxjhOCjO-HF",
        "colab_type": "text"
      },
      "source": [
        "\n",
        "###0. 什么是BIF？\n",
        "\n",
        "BIF 就是 Built-in Functions，内置函数。\n",
        "\n",
        "###1. 用课堂上小甲鱼教的方法数一数 Python3 提供了多少个 BIF？\n",
        "\n",
        "在 Python 或 IDLE 中，输入 dir(__builtins__) 可以看到 Python 提供的内置方法列表（注意，builtins 前后是两个下划线哦）其中小写的就是 BIF。答案是 68 个。\n",
        "\n",
        "###2. 在 Python 看来：'FishC' 和 'fishc' 一样吗？\n",
        "\n",
        "python严格区分大小写。\n",
        "\n",
        "\n",
        "###3. 在小甲鱼看来，Python 中什么是最重要的？你赞同吗？\n",
        "\n",
        "缩进！  \n",
        "在 Python 里对待缩进代码要十分小心，如果没有正确地缩进，代码所做的事情可能和你的期望相去甚远。如果在正确的位置输入冒号“:”，IDLE 会自动将下一行缩进！\n",
        "\n",
        "\n",
        "###4. 这节课的例子中出现了“=”和“==”，他们表示不同的含义，你在编程的过程中会不小心把“==”误写成“=”吗？有没有好的办法可以解决这个问题呢？\n",
        "\n",
        "Python 不允许 if 条件中赋值，所以 if c = 1: 会报错！\n",
        "\n",
        "###5. 你听说过“拼接”这个词吗？\n",
        "\n",
        "将两个字符串“相加”在一起，如：'I' + 'Love' + 'FishC' 会得到 'ILoveFishC'，在 Python 里，这种做法叫做拼接字符串。\n",
        "***\n"
      ]
    },
    {
      "cell_type": "markdown",
      "metadata": {
        "id": "TfCqXZ0EQQP8",
        "colab_type": "text"
      },
      "source": [
        "###0. 编写程序：hello.py，要求用户输入姓名并打印“你好，姓名！”"
      ]
    },
    {
      "cell_type": "code",
      "metadata": {
        "id": "xXt8Q0KTQR7X",
        "colab_type": "code",
        "outputId": "309f7c8e-60ba-4017-f6a9-e4fac81409e7",
        "colab": {
          "base_uri": "https://localhost:8080/",
          "height": 51
        }
      },
      "source": [
        "name = input(\"请输入您的姓名：\")\n",
        "print('你好，' + name + '!')"
      ],
      "execution_count": 0,
      "outputs": [
        {
          "output_type": "stream",
          "text": [
            "请输入您的姓名：张盛伟\n",
            "你好，张盛伟!\n"
          ],
          "name": "stdout"
        }
      ]
    },
    {
      "cell_type": "markdown",
      "metadata": {
        "id": "UFWTi4V2Q5DQ",
        "colab_type": "text"
      },
      "source": [
        "###1. 编写程序：calc.py 要求用户输入1到100之间数字并判断，输入符合要求打印“你妹好漂亮”，不符合要求则打印“你大爷好丑”"
      ]
    },
    {
      "cell_type": "code",
      "metadata": {
        "id": "36Sk7GXGQ_pm",
        "colab_type": "code",
        "colab": {}
      },
      "source": [
        "temp = input(\"请输入1到100之间的数字：\")\n",
        "num = int(temp)\n",
        "if 1 <= num <= 100:\n",
        "    print('你妹^_^')\n",
        "else:\n",
        "    print('你大爷T_T')\n"
      ],
      "execution_count": 0,
      "outputs": []
    },
    {
      "cell_type": "markdown",
      "metadata": {
        "id": "zZmQrzxv26wl",
        "colab_type": "text"
      },
      "source": [
        "***\n",
        "***"
      ]
    },
    {
      "cell_type": "markdown",
      "metadata": {
        "id": "yJxHJLM8UdxH",
        "colab_type": "text"
      },
      "source": [
        "#第003讲：插曲之变量和字符串"
      ]
    },
    {
      "cell_type": "markdown",
      "metadata": {
        "id": "gtCAYXZKRHgc",
        "colab_type": "text"
      },
      "source": [
        "\n",
        "###0. 以下哪个变量的命名不正确？为什么？  \n",
        "(A) MM_520 (B) _MM520_ (C) 520_MM (D) _520_MM  \n",
        "(C)选项不正确，因为 Python 中的变量名不能以数字开头。\n",
        "\n",
        "###1. 除了使用饭斜杠（\\）进行字符转义，还有什么方法可以打印：Let's go! 这个字符串？\n",
        "\n",
        "`\"Let's go!\"`\n",
        "\n",
        "###2. 如果非要在原始字符串结尾输入反斜杠，可以如何灵活处理？\n",
        "\n",
        "`str = r'C:\\Program Files\\FishC\\Good''\\\\'`\n",
        "\n",
        "***"
      ]
    },
    {
      "cell_type": "markdown",
      "metadata": {
        "id": "HdV-rQZMSaRN",
        "colab_type": "text"
      },
      "source": [
        "### 0. 还记得我们第一讲的动动手的题目吗？这一次要求使用变量，计算一年有多少秒？"
      ]
    },
    {
      "cell_type": "code",
      "metadata": {
        "id": "aaDuWhZfScq2",
        "colab_type": "code",
        "colab": {}
      },
      "source": [
        "DaysPerYear = 365\n",
        "HoursPerDay = 24\n",
        "MinutesPerHour = 60\n",
        "SecondsPerMinute = 60\n",
        "result = DaysPerYear * HoursPerDay * MinutesPerHour * SecondsPerMinute\n",
        "print(result)"
      ],
      "execution_count": 0,
      "outputs": []
    },
    {
      "cell_type": "markdown",
      "metadata": {
        "id": "OfKr2Vbz5dtk",
        "colab_type": "text"
      },
      "source": [
        "***\n",
        "***"
      ]
    },
    {
      "cell_type": "markdown",
      "metadata": {
        "id": "XV4QW1b2VnMK",
        "colab_type": "text"
      },
      "source": [
        "#第004讲：改进我们的小游戏 "
      ]
    },
    {
      "cell_type": "markdown",
      "metadata": {
        "id": "VxFW8AOySlcG",
        "colab_type": "text"
      },
      "source": [
        "\n",
        "###0. 请写出与 10 < cost < 50 等价的表达式\n",
        "(10 < cost) and (cost < 50)\n",
        "###1. Python3 中，一行可以书写多个语句吗？\n",
        "可以，语句之间用分号隔开即可\n",
        "` print('I love fishc');print('very much!') `\n",
        " ### 2. Python3 中，一个语句可以分成多行书写吗？\n",
        "一行过长的语句可以使用反斜杠或者括号分解成几行\n",
        "### 3. 听说过“短路逻辑（short-circuit logic）”吗？\n",
        "逻辑操作符有个有趣的特性：在不需要求值的时候不进行操作。举个例子，表达式 x and y，需要 x 和 y 两个变量同时为真(True)的时候，结果才为真。  \n",
        "如果当 x 变量得知是假(False)的时候，表达式就会立刻返回 False，而不用去管 y 变量的值。  \n",
        "这种行为被称为短路逻辑（short-circuit logic）或者惰性求值（lazy evaluation），这种行为同样也应用与 or 操作符。  \n",
        "实际上，Python 的做法是如果 x 为假，表达式会返回 x 的值(0)，否则它就会返回 y 的值\n",
        "\n",
        "***\n",
        " "
      ]
    },
    {
      "cell_type": "markdown",
      "metadata": {
        "id": "RFjSxcSyUA0Y",
        "colab_type": "text"
      },
      "source": [
        "###0. 完善第二个改进要求（为用户提供三次机会尝试，机会用完或者用户猜中答案均退出循环）并改进视频中小甲鱼的代码。"
      ]
    },
    {
      "cell_type": "code",
      "metadata": {
        "id": "fTb18PPxUC-t",
        "colab_type": "code",
        "colab": {}
      },
      "source": [
        "import random\n",
        "times = 3\n",
        "secret = random.randint(1,10)\n",
        "print('------------------我爱鱼C工作室------------------')\n",
        "# 这里先给guess赋值（赋一个绝对不等于secret的值）\n",
        "guess = 0\n",
        "# print()默认是打印完字符串会自动添加一个换行符，end=\" \"参数告诉print()用空格代替换行\n",
        "# 嗯，小甲鱼觉得富有创意的你应该会尝试用 end=\"JJ\"？\n",
        "print(\"不妨猜一下小甲鱼现在心里想的是哪个数字：\", end=\" \")\n",
        "while (guess != secret) and (times > 0):\n",
        "    temp = input()\n",
        "    guess = int(temp)\n",
        "    times = times - 1 # 用户每输入一次，可用机会就-1\n",
        "    if guess == secret:\n",
        "        print(\"我草，你是小甲鱼心里的蛔虫吗？！\")\n",
        "        print(\"哼，猜中了也没有奖励！\")\n",
        "    else:\n",
        "        if guess > secret:\n",
        "            print(\"哥，大了大了~~~\")\n",
        "        else:\n",
        "            print(\"嘿，小了，小了~~~\")\n",
        "        if times > 0:\n",
        "            print(\"再试一次吧：\", end=\" \")\n",
        "        else:\n",
        "            print(\"机会用光咯T_T\")\n",
        "print(\"游戏结束，不玩啦^_^\")"
      ],
      "execution_count": 0,
      "outputs": []
    },
    {
      "cell_type": "markdown",
      "metadata": {
        "id": "SFVoQnFSWo-L",
        "colab_type": "text"
      },
      "source": [
        "###1. 尝试写代码实现输入一个整数，打印从1到该整数内的所有数字。\n"
      ]
    },
    {
      "cell_type": "code",
      "metadata": {
        "id": "jB3smhSjW4fh",
        "colab_type": "code",
        "colab": {}
      },
      "source": [
        "temp = input('请输入一个整数:')\n",
        "number = int(temp)\n",
        "i = 1\n",
        "while number:\n",
        "    print(i)\n",
        "    i = i + 1\n",
        "    number = number - 1"
      ],
      "execution_count": 0,
      "outputs": []
    },
    {
      "cell_type": "markdown",
      "metadata": {
        "id": "UMFAn1-YXGsV",
        "colab_type": "text"
      },
      "source": [
        "###2. 尝试写代码实现输入一个整数，打印该整数层的倒三角"
      ]
    },
    {
      "cell_type": "code",
      "metadata": {
        "id": "KImxLXolXZtk",
        "colab_type": "code",
        "colab": {}
      },
      "source": [
        "temp = input('请输入一个整数:')\n",
        "number = int(temp)\n",
        "while number:\n",
        "    i = number - 1\n",
        "    while i:\n",
        "        print(' ', end = '')\n",
        "        i = i - 1\n",
        "    j = number\n",
        "    while j:\n",
        "        print('*', end = '')\n",
        "        j = j - 1\n",
        "    print()\n",
        "    number = number - 1"
      ],
      "execution_count": 0,
      "outputs": []
    },
    {
      "cell_type": "markdown",
      "metadata": {
        "id": "PhRMGJFb9f_n",
        "colab_type": "text"
      },
      "source": [
        "***\n",
        "***"
      ]
    },
    {
      "cell_type": "markdown",
      "metadata": {
        "id": "akoAfEeTXs_0",
        "colab_type": "text"
      },
      "source": [
        "#第005讲：闲聊之Python的数据类型"
      ]
    },
    {
      "cell_type": "markdown",
      "metadata": {
        "id": "sub6Zd-iXwmV",
        "colab_type": "text"
      },
      "source": [
        "###0. 在 Python 中，int 表示整型，那你还记得 bool、float 和 str 分别表示什么吗？\n",
        "\n",
        "bool 表示布尔类型  \n",
        "float 表示浮点型  \n",
        "str 表示字符串  \n",
        "\n",
        "\n",
        "###1. 你知道为什么布尔类型(bool)的 True 和 False 分别用 1 和 0 来代替吗？\n",
        "\n",
        "计算机只认识二进制数，所以所有的编程语言最终都会转换成简单的二进制序列给 CPU 按照一定的规则解析。  \n",
        "由于二进制只有两个数：0 和 1，因此用 0 和 1 来表示 False 和 True 不用浪费资源在转换的过程上！\n",
        "\n",
        "\n",
        "###2. 使用 int() 将小数转换为整数，结果是向上取整还是向下取整呢？\n",
        "\n",
        "对于正数来说，向下取整。  \n",
        "注：5.5 向上取整为 6，向下取整为 5  \n",
        "对于负数来说 —— 向上取整。\n",
        "\n",
        "\n",
        "###3. 我们人类思维是习惯于“四舍五入”法，你有什么办法使得 int() 按照“四舍五入”的方式取整吗？\n",
        "\n",
        "5.4 “四舍五入”结果为：5，int(5.4+0.5) == 5  \n",
        "5.6 “四舍五入”结果为：6，int(5.6+0.5) == 6\n",
        "\n",
        "\n",
        "###4. 取得一个变量的类型，视频中介绍可以使用 type() 和 isinstance()，你更倾向于使用哪个？\n",
        "\n",
        "使用 isinstance()，它的返回结果比较直接。\n",
        "\n",
        "\n",
        "###5. Python3 可以给变量命名中文名，知道为什么吗？\n",
        "\n",
        "Pyhton3 源码文件默认使用utf-8编码（支持中文）\n",
        "\n",
        "***"
      ]
    },
    {
      "cell_type": "markdown",
      "metadata": {
        "id": "semgmeG_YtMz",
        "colab_type": "text"
      },
      "source": [
        "###0. 针对视频中小甲鱼提到的小漏洞，再次改进我们的小游戏：当用户输入错误类型的时候，及时提醒用户重新输入，防止程序崩溃。"
      ]
    },
    {
      "cell_type": "code",
      "metadata": {
        "id": "k6pPXzTOY9yd",
        "colab_type": "code",
        "colab": {}
      },
      "source": [
        "import random\n",
        "\n",
        "times = 3\n",
        "secret = random.randint(1,10)\n",
        "\n",
        "print('------------------我爱鱼C工作室------------------')\n",
        "guess = 0\n",
        "print(\"不妨猜一下小甲鱼现在心里想的是哪个数字：\", end=\" \")\n",
        "\n",
        "while (guess != secret) and (times > 0):\n",
        "    temp = input()\n",
        "    \n",
        "    if temp.isdigit():\n",
        "        guess = int(temp)\n",
        "        if guess == secret:\n",
        "            print(\"我草，你是小甲鱼心里的蛔虫吗？！\")\n",
        "            print(\"哼，猜中了也没有奖励！\")\n",
        "        else:\n",
        "            if guess > secret:\n",
        "                print(\"哥，大了大了~~~\")\n",
        "            else:\n",
        "                print(\"嘿，小了，小了~~~\")\n",
        "            if times > 1:\n",
        "                print(\"再试一次吧：\", end='')\n",
        "            else:\n",
        "                print(\"机会用光咯T_T\")\n",
        "    else:\n",
        "        print(\"抱歉，您的输入有误，请输入一个整数：\", end='')\n",
        "\n",
        "    times = times - 1 # 用户每输入一次，可用机会就-1\n",
        "\n",
        "print(\"游戏结束，不玩啦^_^\")\n"
      ],
      "execution_count": 0,
      "outputs": []
    },
    {
      "cell_type": "markdown",
      "metadata": {
        "id": "yv7Awn2HBgfh",
        "colab_type": "text"
      },
      "source": [
        "s 为字符串\n",
        "\n",
        "s.isalnum()  所有字符都是数字或者字母，为真返回 True，否则返回 False。\n",
        "\n",
        "s.isalpha()   所有字符都是字母，为真返回 True，否则返回 False。\n",
        "\n",
        "s.isdigit()     所有字符都是数字，为真返回 True，否则返回 False。\n",
        "\n",
        "s.islower()    所有字符都是小写，为真返回 True，否则返回 False。\n",
        "\n",
        "s.isupper()   所有字符都是大写，为真返回 True，否则返回 False。\n",
        "\n",
        "s.istitle()      所有单词都是首字母大写，为真返回 True，否则返回 False。\n",
        "\n",
        "s.isspace()   所有字符都是空白字符，为真返回 True，否则返回 False。 "
      ]
    },
    {
      "cell_type": "markdown",
      "metadata": {
        "id": "_cffi2PSZEzR",
        "colab_type": "text"
      },
      "source": [
        "###1. 写一个程序，判断给定年份是否为闰年。"
      ]
    },
    {
      "cell_type": "code",
      "metadata": {
        "id": "YmudQ4NyZR4m",
        "colab_type": "code",
        "colab": {}
      },
      "source": [
        "temp = input('请输入一个年份：')\n",
        "while not temp.isdigit():\n",
        "    temp = input(\"抱歉，您的输入有误，请输入一个整数：\")\n",
        "\n",
        "year = int(temp)\n",
        "if year/400 == int(year/400):\n",
        "    print(temp + ' 是闰年！')\n",
        "else:\n",
        "    if (year/4 == int(year/4)) and (year/100 != int(year/100)):\n",
        "        print(temp + ' 是闰年！')\n",
        "    else:\n",
        "        print(temp + ' 不是闰年！')"
      ],
      "execution_count": 0,
      "outputs": []
    },
    {
      "cell_type": "markdown",
      "metadata": {
        "id": "DJzvLCXPAYi6",
        "colab_type": "text"
      },
      "source": [
        "***\n",
        "***"
      ]
    },
    {
      "cell_type": "markdown",
      "metadata": {
        "id": "3PaNOzQ3ZZhv",
        "colab_type": "text"
      },
      "source": [
        "#第006讲：Pyhon之常用操作符"
      ]
    },
    {
      "cell_type": "markdown",
      "metadata": {
        "id": "7f2GMuidZlbI",
        "colab_type": "text"
      },
      "source": [
        "###0. Python 的 floor 除法现在使用 “//” 实现，那 3.0 // 2.0 您目测会显示什么内容呢？\n",
        "\n",
        "Python 会严格执行 floor 除法原则  \n",
        "答案是：1.0\n",
        "\n",
        "\n",
        "###1. a < b < c 事实上是等于？\n",
        "\n",
        "(a < b) and (b < c)\n",
        "\n",
        "\n",
        "###2. 不使用 IDLE，你可以轻松说出 5 ** -2 的值吗？\n",
        "\n",
        "1/25\n",
        "\n",
        "幂运算操作符比其左侧的一元操作符优先级高，比其右侧的一元操作符优先级低。\n",
        "\n",
        "\n",
        "###3. 如何简单判断一个数是奇数还是偶数？\n",
        "\n",
        "使用求余可以简单得到答案：能被 2 整除为偶数，所以 x % 2 == 0，否则为奇数。\n",
        "\n",
        "\n",
        "###4. 请用最快速度说出答案：not 1 or 0 and 1 or 3 and 4 or 5 and 6 or 7 and 8 and 9\n",
        "\n",
        "\n",
        "答案是：4\n",
        "\n",
        "not or and 的优先级是不同的：not > and > or\n",
        "\n",
        "按照优先级给它们加上括号：(not 1) or (0 and 1) or (3 and 4) or (5 and 6) or (7 and 8 and 9)\n",
        "== 0 or 0 or 4 or 6 or 9== 4\n",
        "\n",
        "第四讲作业提到的“短路逻辑”吗？3 and 4 == 4，而 3 or 4 == 3。\n",
        "\n",
        "\n",
        "*温馨提示：为了更好的表达你的程序，有些括号还是不能省下的，毕竟不是所有程序员都跟你一样都将优先级烂透于心的。*\n",
        "\n",
        "\n",
        "###5. 还记得我们上节课那个求闰年的作业吗？如果还没有学到“求余”操作，还记得用什么方法可以“委曲求全”代替“%”的功能呢？\n",
        "\n",
        "`“if year/400 == int(year/400)”`"
      ]
    },
    {
      "cell_type": "markdown",
      "metadata": {
        "id": "Nid1SUrpebXR",
        "colab_type": "text"
      },
      "source": [
        "###0. 请写一个程序打印出 0~100 所有的奇数。"
      ]
    },
    {
      "cell_type": "code",
      "metadata": {
        "id": "VZqf25FkeWCw",
        "colab_type": "code",
        "outputId": "01cb3630-1838-4bda-bdb8-ca5148e95150",
        "colab": {
          "base_uri": "https://localhost:8080/",
          "height": 34
        }
      },
      "source": [
        "i = 0\n",
        "while i <= 100:\n",
        "    if i % 2 != 0:\n",
        "        print(i, end=' ')\n",
        "        i += 1\n",
        "    else:\n",
        "        i += 1"
      ],
      "execution_count": 0,
      "outputs": [
        {
          "output_type": "stream",
          "text": [
            "1 3 5 7 9 11 13 15 17 19 21 23 25 27 29 31 33 35 37 39 41 43 45 47 49 51 53 55 57 59 61 63 65 67 69 71 73 75 77 79 81 83 85 87 89 91 93 95 97 99 "
          ],
          "name": "stdout"
        }
      ]
    },
    {
      "cell_type": "markdown",
      "metadata": {
        "id": "o4gYXJNRlJzd",
        "colab_type": "text"
      },
      "source": [
        "###1. 题目：请编程求解该阶梯至少有多少阶？\n",
        "爱因斯坦曾出过这样一道有趣的数学题：有一个长阶梯，若每步上2阶，最后剩1阶；若每步上3阶，最后剩2阶；若每步上5阶，最后剩4阶；若每步上6阶，最后剩5阶；只有每步上7阶，最后刚好一阶也不剩。"
      ]
    },
    {
      "cell_type": "code",
      "metadata": {
        "id": "QgwxAEOElNai",
        "colab_type": "code",
        "outputId": "4ff2a84a-6ad4-4dcc-e3c3-e1f02837047f",
        "colab": {
          "base_uri": "https://localhost:8080/",
          "height": 34
        }
      },
      "source": [
        "x = 7\n",
        "i = 1\n",
        "flag = 0\n",
        "\n",
        "while i <= 100:\n",
        "    if (x%2 == 1) and (x%3 == 2) and (x%5 == 4) and (x%6==5):\n",
        "        flag = 1\n",
        "    else:\n",
        "        x = 7 * (i+1) # 根据题意，x一定是7的整数倍，所以每次乘以7\n",
        "    i += 1\n",
        "\n",
        "if flag == 1:\n",
        "    print('阶梯数是：', x)\n",
        "else:\n",
        "    print('在程序限定的范围内找不到答案！')"
      ],
      "execution_count": 0,
      "outputs": [
        {
          "output_type": "stream",
          "text": [
            "阶梯数是： 119\n"
          ],
          "name": "stdout"
        }
      ]
    },
    {
      "cell_type": "markdown",
      "metadata": {
        "id": "sy7HAJq4Cn6j",
        "colab_type": "text"
      },
      "source": [
        "***\n",
        "***"
      ]
    },
    {
      "cell_type": "markdown",
      "metadata": {
        "id": "x7JP2PhrnL7U",
        "colab_type": "text"
      },
      "source": [
        "#第007、008讲：了不起的分支和循环2"
      ]
    },
    {
      "cell_type": "markdown",
      "metadata": {
        "id": "DXJToZQMnOU0",
        "colab_type": "text"
      },
      "source": [
        "###0. if not (money < 100): 这行代码相当于？\n",
        "  \n",
        "if money >= 100:\n",
        "  \n",
        "  \n",
        "###1. assert 的作用是什么？\n",
        "  \n",
        "assert这个关键字我们称之为“断言”，当这个关键字后边的条件为假的时候，程序自动崩溃并抛出AssertionError的异常。\n",
        "####什么情况下我们会需要这样的代码呢？\n",
        "当我们在测试程序的时候就很好用，因为与其让错误的条件导致程序今后莫名其妙地崩溃，不如在错误条件出现的那一瞬间我们实现“自爆”。  \n",
        "一般来说我们可以用Ta再程序中置入检查点，当需要确保程序中的某个条件一定为真才能让程序正常工作的话，assert关键字就非常有用了。\n",
        "  \n",
        "  \n",
        "###2. 假设有 x = 1，y = 2，z = 3，请问如何快速将三个变量的值互相交换？\n",
        "  \n",
        "`x, y, z = z, y, x`\n",
        "  \n",
        "  \n",
        "###3. 猜猜 `(x < y and [x] or [y])[0]` 实现什么样的功能？\n",
        "  \n",
        " Python 的作者还没有为 Python 加入三元操作符之前，Python 社区的小伙伴们灵活的使用 and 和 or  搭配来实现三元操作符的功能。\n",
        "  \n",
        "  \n",
        "###4. 你听说过成员资格运算符吗？\n",
        "  \n",
        "Python 有一个成员资格运算符：in，用于检查一个值是否在序列中，如果在序列中返回 True，否则返回 False。\n",
        "***"
      ]
    },
    {
      "cell_type": "markdown",
      "metadata": {
        "id": "Sju8jIbIpNFs",
        "colab_type": "text"
      },
      "source": [
        "###0. 视频中小甲鱼使用 if elif else 在大多数情况下效率要比全部使用 if 要高，但根据一般的统计规律，一个班的成绩一般服从正态分布，也就是说平均成绩一般集中在 70~80 分之间，因此根据统计规律，我们还可以改进下程序以提高效率。"
      ]
    },
    {
      "cell_type": "code",
      "metadata": {
        "id": "67rvhVilpTS2",
        "colab_type": "code",
        "colab": {}
      },
      "source": [
        "score = int(input('请输入一个分数：'))\n",
        "if 80 > score >= 60:\n",
        "    print('C')\n",
        "elif 90 > score >= 80:\n",
        "    print('B')\n",
        "elif 60 > score >= 0:\n",
        "    print('D')\n",
        "elif 100 >= score >= 90:\n",
        "    print('A')\n",
        "else:\n",
        "    print('输入错误！')"
      ],
      "execution_count": 0,
      "outputs": []
    },
    {
      "cell_type": "markdown",
      "metadata": {
        "id": "XR1e8hXmpmxW",
        "colab_type": "text"
      },
      "source": [
        "###1. Python 的作者在很长一段时间不肯加入三元操作符就是怕跟C语言一样搞出国际乱码大赛，蛋疼的复杂度让初学者望而生畏，不过，如果你一旦搞清楚了三元操作符的使用技巧，或许一些比较复杂的问题反而迎刃而解。\n",
        "\n",
        "将以下代码修改为三元操作符实现：\n",
        "```\n",
        "x, y, z = 6, 5, 4\n",
        "if x < y:\n",
        "    small = x\n",
        "    if z < small:\n",
        "        small = z\n",
        "elif y < z:\n",
        "    small = y\n",
        "else:\n",
        "    small = z\n",
        "```\n",
        "\n"
      ]
    },
    {
      "cell_type": "code",
      "metadata": {
        "id": "uwGfhN6DpwM2",
        "colab_type": "code",
        "colab": {}
      },
      "source": [
        "x = 6\n",
        "y = 5\n",
        "z = 4\n",
        "small = x if (x < y and x < z) else (y if y < z else z)\n",
        "small"
      ],
      "execution_count": 0,
      "outputs": []
    },
    {
      "cell_type": "markdown",
      "metadata": {
        "id": "OOOyYaFdEAZ3",
        "colab_type": "text"
      },
      "source": [
        "***\n",
        "***"
      ]
    },
    {
      "cell_type": "markdown",
      "metadata": {
        "id": "vh8-1kHGsTw3",
        "colab_type": "text"
      },
      "source": [
        "#第009讲：了不起的分支和循环3"
      ]
    },
    {
      "cell_type": "markdown",
      "metadata": {
        "id": "Lkcjvz7AtaQn",
        "colab_type": "text"
      },
      "source": [
        "###0. 回顾一下 break 和 continue 在循环中起到的作用\n",
        " break语句的作用是终止当前循环，跳出循环体。  \n",
        "continue语句的作用是终止本轮循环并开始下一轮循环（这里要注意的是：在开始下一轮循环之前，会先测试循环条件）。\n",
        "###1. 请问 range(10) 生成哪些数？\n",
        "        \n",
        "会生成 range(0, 10)，list(range(0, 10)) 转换成列表是：`[0, 1, 2, 3, 4, 5, 6, 7, 8, 9]`，不包含 10 。\n",
        "###2. 目测以下程序会打印什么？\n",
        "\n",
        "\n",
        "```\n",
        "while True:\n",
        "    while True:\n",
        "        break\n",
        "        print(1)\n",
        "    print(2)\n",
        "    break\n",
        "print(3)\n",
        "```\n",
        "2  \n",
        "3  \n",
        "break 只能跳出一层循环\n",
        "###3. 什么情况下我们要使循环永远为真？\n",
        "\n",
        "```\n",
        "while Ture:\n",
        "   循环体\n",
        "\n",
        "```\n",
        "\n",
        "\n",
        "同样用于游戏实现，因为游戏只要运行着，就需要时刻接收用户输入，因此使用永远为真确保游戏“在线”。操作系统也是同样的道理，时刻待命，操作系统永远为真的这个循环叫做消息循环。另外，许多通讯服务器的客户端/服务器系统也是通过这样的原理来工作的。  \n",
        "所以永远为“真”虽然是“死循环”，但不一定是坏事，再说了，我们可以随时用 break 来跳出循环！\n",
        "***"
      ]
    },
    {
      "cell_type": "markdown",
      "metadata": {
        "id": "I2w3-eePu-kJ",
        "colab_type": "text"
      },
      "source": [
        "###0. 设计一个验证用户密码程序，用户只有三次机会输入错误，不过如果用户输入的内容中包含\"*\"则不计算在内。"
      ]
    },
    {
      "cell_type": "code",
      "metadata": {
        "id": "M5rCh69vu_xx",
        "colab_type": "code",
        "colab": {}
      },
      "source": [
        "count = 3\n",
        "password = 'FishC.com'\n",
        "\n",
        "while count:\n",
        "    passwd = input('请输入密码：')\n",
        "    if passwd == password:\n",
        "        print('密码正确，进入程序......')\n",
        "        break\n",
        "    elif '*' in passwd:\n",
        "        print('密码中不能含有\"*\"号！您还有', count, '次机会！', end=' ')\n",
        "        continue\n",
        "    else:\n",
        "        print('密码输入错误！您还有', count-1, '次机会！', end=' ')    \n",
        "    count -= 1"
      ],
      "execution_count": 0,
      "outputs": []
    },
    {
      "cell_type": "markdown",
      "metadata": {
        "id": "vKmPXMdYvjgt",
        "colab_type": "text"
      },
      "source": [
        "###1. 编写一个程序，求 100~999 之间的所有水仙花数。"
      ]
    },
    {
      "cell_type": "code",
      "metadata": {
        "id": "2pfU6tAsvmmo",
        "colab_type": "code",
        "colab": {}
      },
      "source": [
        "for i in range(100, 1000):\n",
        "    sum = 0\n",
        "    temp = i\n",
        "    while temp:\n",
        "        sum = sum + (temp%10) ** 3\n",
        "        temp //= 10         # 注意这里要使用地板除哦~\n",
        "    if sum == i:\n",
        "        print(i)"
      ],
      "execution_count": 0,
      "outputs": []
    },
    {
      "cell_type": "markdown",
      "metadata": {
        "id": "V9eZsaZLzTKX",
        "colab_type": "text"
      },
      "source": [
        "###2.有红、黄、蓝三种颜色的求，其中红球 3 个，黄球 3 个，绿球 6 个。先将这 12 个球混合放在一个盒子中，从中任意摸出 8 个球，编程计算摸出球的各种颜色搭配。"
      ]
    },
    {
      "cell_type": "code",
      "metadata": {
        "id": "DFRCeqrQzbt9",
        "colab_type": "code",
        "outputId": "12de1ed3-ea6b-4562-9526-d7c08c3c0a9a",
        "colab": {
          "base_uri": "https://localhost:8080/",
          "height": 255
        }
      },
      "source": [
        "print('red\\tyellow\\tgreen')\n",
        "for red in range(0, 4):\n",
        "    for yellow in range(0, 4):\n",
        "        for green in range(2, 7):\n",
        "            if red + yellow + green == 8:\n",
        "                # 注意，下边不是字符串拼接，因此不用“+”哦~\n",
        "                print(red, '\\t', yellow, '\\t', green)"
      ],
      "execution_count": 0,
      "outputs": [
        {
          "output_type": "stream",
          "text": [
            "red\tyellow\tgreen\n",
            "0 \t 2 \t 6\n",
            "0 \t 3 \t 5\n",
            "1 \t 1 \t 6\n",
            "1 \t 2 \t 5\n",
            "1 \t 3 \t 4\n",
            "2 \t 0 \t 6\n",
            "2 \t 1 \t 5\n",
            "2 \t 2 \t 4\n",
            "2 \t 3 \t 3\n",
            "3 \t 0 \t 5\n",
            "3 \t 1 \t 4\n",
            "3 \t 2 \t 3\n",
            "3 \t 3 \t 2\n"
          ],
          "name": "stdout"
        }
      ]
    },
    {
      "cell_type": "markdown",
      "metadata": {
        "id": "49ow9iRlGGA6",
        "colab_type": "text"
      },
      "source": [
        "***\n",
        "***"
      ]
    },
    {
      "cell_type": "markdown",
      "metadata": {
        "id": "_4eHrNu80Dob",
        "colab_type": "text"
      },
      "source": [
        "#第010讲：列表：一个打了激素的数组"
      ]
    },
    {
      "cell_type": "markdown",
      "metadata": {
        "id": "690oznqdze6V",
        "colab_type": "text"
      },
      "source": [
        "\n",
        "###0. 列表都可以存放一些什么东西？\n",
        "  \n",
        "我们说 Python 的列表是一个打了激素的数组，如果把数组比喻成集装箱，那么 Python 的列表就是一个大仓库，Ta 可以存放我们已经学习过的任何数据类型。\n",
        "\n",
        " `mix = [1, ‘小甲鱼’, 3.14, [1, 2, 3]]`\n",
        "  \n",
        "  \n",
        "###1. 向列表增加元素有哪些方法？\n",
        "  \n",
        "append()  \n",
        "extend()   \n",
        "insert()\n",
        "  \n",
        "  \n",
        "###2. append() 方法和 extend() 方法都是向列表的末尾增加元素，请问他们有什么区别？\n",
        "  \n",
        "append() 方法是将参数作为一个元素增加到列表的末尾。\n",
        "extend() 方法则是将参数作为一个列表去扩展列表的末尾。\n",
        "\n",
        "\n",
        "```\n",
        ">>> name = ['F', 'i', 's', 'h']\n",
        ">>> name.append('C')\n",
        ">>> name\n",
        "['F', 'i', 's', 'h', 'C']\n",
        ">>> name.extend(['.', 'c'])\n",
        ">>> name\n",
        "['F', 'i', 's', 'h', 'C', '.', 'c']\n",
        ">>> name.append(['o', 'm'])\n",
        ">>> name\n",
        "['F', 'i', 's', 'h', 'C', '.', 'c', ['o', 'm']]\n",
        "```\n",
        "\n",
        "\n",
        "\n",
        "###3. 有列表 `name = ['F', 'i', 'h', 'C']`，如果想要在元素 'i' 和 'h' 之间插入元素 's'，应该使用什么方法来插入？\n",
        "  \n",
        "`name.insert(2, 's')`\n",
        "\n",
        "***"
      ]
    },
    {
      "cell_type": "markdown",
      "metadata": {
        "id": "g3syfbDU3IT0",
        "colab_type": "text"
      },
      "source": [
        "###0. 自己动手试试看，并分析在这种情况下，向列表添加数据应当采用哪种方法比较好？\n",
        "\n",
        "假设给定以下列表：  \n",
        "\n",
        "`member = ['小甲鱼', '黑夜', '迷途', '怡静', '秋舞斜阳']`\n",
        "\n",
        "要求将列表修改为：\n",
        "\n",
        "`member = ['小甲鱼', 88, '黑夜', 90, '迷途', 85, '怡静', 90, '秋舞斜阳', 88]`\n",
        "\n",
        "方法一：使用 insert() 和 append() 方法修改列表。  \n",
        "\n",
        "方法二：重新创建一个同名字的列表覆盖。"
      ]
    },
    {
      "cell_type": "code",
      "metadata": {
        "id": "8zqBIo1C3RyU",
        "colab_type": "code",
        "outputId": "05c42438-03c5-404b-c287-f7b5f12a2cda",
        "colab": {
          "base_uri": "https://localhost:8080/",
          "height": 34
        }
      },
      "source": [
        "member = ['小甲鱼', '黑夜', '迷途', '怡静', '秋舞斜阳']\n",
        "member.insert(1, 88)\n",
        "member.insert(3, 90)\n",
        "member.insert(5, 85)\n",
        "member.insert(7, 90)\n",
        "member.append(88)\n",
        "member"
      ],
      "execution_count": 0,
      "outputs": [
        {
          "output_type": "execute_result",
          "data": {
            "text/plain": [
              "['小甲鱼', 88, '黑夜', 90, '迷途', 85, '怡静', 90, '秋舞斜阳', 88]"
            ]
          },
          "metadata": {
            "tags": []
          },
          "execution_count": 2
        }
      ]
    },
    {
      "cell_type": "code",
      "metadata": {
        "id": "2LwGuq8x3jYj",
        "colab_type": "code",
        "outputId": "6e6be8e5-f1a3-4ff2-8f0c-ca563494f058",
        "colab": {
          "base_uri": "https://localhost:8080/",
          "height": 34
        }
      },
      "source": [
        "member = ['小甲鱼', 88, '黑夜', 90, '迷途', 85, '怡静', 90, '秋舞斜阳', 88]\n",
        "member"
      ],
      "execution_count": 0,
      "outputs": [
        {
          "output_type": "execute_result",
          "data": {
            "text/plain": [
              "['小甲鱼', 88, '黑夜', 90, '迷途', 85, '怡静', 90, '秋舞斜阳', 88]"
            ]
          },
          "metadata": {
            "tags": []
          },
          "execution_count": 3
        }
      ]
    },
    {
      "cell_type": "markdown",
      "metadata": {
        "id": "VDFsRCpw3rqU",
        "colab_type": "text"
      },
      "source": [
        "###1. 利用 for 循环打印上边 member 列表中的每个内容"
      ]
    },
    {
      "cell_type": "code",
      "metadata": {
        "id": "mMQdYKGY3uVU",
        "colab_type": "code",
        "outputId": "26505e0d-90eb-4cf6-d0a3-6746a05f9a63",
        "colab": {
          "base_uri": "https://localhost:8080/",
          "height": 187
        }
      },
      "source": [
        "member = ['小甲鱼', 88, '黑夜', 90, '迷途', 85, '怡静', 90, '秋舞斜阳', 88]\n",
        "for each in member:\n",
        "    print(each)"
      ],
      "execution_count": 0,
      "outputs": [
        {
          "output_type": "stream",
          "text": [
            "小甲鱼\n",
            "88\n",
            "黑夜\n",
            "90\n",
            "迷途\n",
            "85\n",
            "怡静\n",
            "90\n",
            "秋舞斜阳\n",
            "88\n"
          ],
          "name": "stdout"
        }
      ]
    },
    {
      "cell_type": "markdown",
      "metadata": {
        "id": "iI0u2aNI35d-",
        "colab_type": "text"
      },
      "source": [
        "###2.修改一下代码打印成下图的样式\n",
        "![](https://xxx.ilovefishc.com/forum/201310/05/060640if12iygzasr3z2jm.png)"
      ]
    },
    {
      "cell_type": "code",
      "metadata": {
        "id": "UGggaOhJ37tK",
        "colab_type": "code",
        "outputId": "accce444-7720-44ef-fd18-6f985b59e08f",
        "colab": {
          "base_uri": "https://localhost:8080/",
          "height": 102
        }
      },
      "source": [
        "count = 0\n",
        "length = len(member)\n",
        "while count < length:\n",
        "    print(member[count], member[count+1])\n",
        "    count += 2"
      ],
      "execution_count": 0,
      "outputs": [
        {
          "output_type": "stream",
          "text": [
            "小甲鱼 88\n",
            "黑夜 90\n",
            "迷途 85\n",
            "怡静 90\n",
            "秋舞斜阳 88\n"
          ],
          "name": "stdout"
        }
      ]
    },
    {
      "cell_type": "code",
      "metadata": {
        "id": "mUqQYOTA4KpC",
        "colab_type": "code",
        "outputId": "ab932a7e-0335-4ef9-f899-763d1930646a",
        "colab": {
          "base_uri": "https://localhost:8080/",
          "height": 102
        }
      },
      "source": [
        "for each in range(len(member)):\n",
        "    if each%2 == 0:\n",
        "        print(member[each], member[each+1])"
      ],
      "execution_count": 0,
      "outputs": [
        {
          "output_type": "stream",
          "text": [
            "小甲鱼 88\n",
            "黑夜 90\n",
            "迷途 85\n",
            "怡静 90\n",
            "秋舞斜阳 88\n"
          ],
          "name": "stdout"
        }
      ]
    },
    {
      "cell_type": "markdown",
      "metadata": {
        "id": "_97vByoKIMcr",
        "colab_type": "text"
      },
      "source": [
        "***\n",
        "***"
      ]
    },
    {
      "cell_type": "markdown",
      "metadata": {
        "id": "YmPfwcUr4fDL",
        "colab_type": "text"
      },
      "source": [
        "#第011讲：列表：一个打了激素的数组2"
      ]
    },
    {
      "cell_type": "markdown",
      "metadata": {
        "id": "2a92oGYI4sS-",
        "colab_type": "text"
      },
      "source": [
        "###0. 下边的列表分片操作会打印什么内容？\n",
        "\n",
        "\n",
        "```\n",
        ">>> list1 = [1, 3, 2, 9, 7, 8]\n",
        ">>> list1[2:5]\n",
        "```\n",
        "`[2, 9, 7]`\n",
        "\n",
        "\n",
        "###1. 请问` list1[0] `和` list1[0:1]` 一样吗？\n",
        "  \n",
        "不一样，`list1[0] `返回第0个元素的值，`list1[0:1]` 返回一个只含有第0个元素的列表。\n",
        "  \n",
        "  \n",
        "###2. 如果你每次想从列表的末尾取出一个元素，并将这个元素插入到列表的最前边，你会怎么做\n",
        "`>>> list1.insert(0, list1.pop())`\n",
        "\n",
        "####3. Python 支持负数索引\n",
        "![Python 支持负数索引](https://xxx.ilovefishc.com/forum/201310/14/2228276q2qb480qtt7k4k7.png)\n",
        "正常索引是从左到右索引，负数索引是从右到左。\n",
        " \n",
        "\n",
        "###4. 在进行分片的时候，我们知道分片的开始和结束位置需要进行指定，但其实还有另外一个隐藏的设置：步长。\n",
        "1) 之前提到的“简洁”分片操作在这里有效\n",
        "\n",
        "\n",
        "```\n",
        ">>> list1[::2]\n",
        "[1, 2, 7]\n",
        "```\n",
        "\n",
        "\n",
        "2) 步长不能为0，要不就走不动了：\n",
        "\n",
        "\n",
        "```\n",
        ">>> list1[::0]\n",
        "Traceback (most recent call last):\n",
        "  File \"<pyshell#11>\", line 1, in <module>\n",
        "    list1[::0]\n",
        "ValueError: slice step cannot be zero\n",
        "```\n",
        "\n",
        "\n",
        "\n",
        "3) 步长可以是负数，改变方向（从尾部开始向左走）：\n",
        "\n",
        "\n",
        "```\n",
        ">>> list1[::-2]\n",
        "[8, 9, 3]\n",
        "```\n",
        "\n",
        "\n",
        "###5. 课堂上小甲鱼说可以利用分片完成列表的拷贝 `list2 = list1[:]`，那事实上可不可以直接写成 list2 = list1 更加简洁呢？\n",
        "\n",
        "不可以！\n",
        "\n",
        "\n",
        "```\n",
        ">>> list1 = [1, 3, 2, 9, 7, 8]\n",
        ">>> list2 = list1[:]\n",
        ">>> list2\n",
        "[1, 3, 2, 9, 7, 8]\n",
        ">>> list3 = list1\n",
        ">>> list3\n",
        "[1, 3, 2, 9, 7, 8]\n",
        "```\n",
        "\n",
        "![替代文字](https://xxx.ilovefishc.com/forum/201310/08/042949n159vjspz1ach8o2.png)\n",
        "\n",
        "\n",
        "\n",
        "***"
      ]
    },
    {
      "cell_type": "markdown",
      "metadata": {
        "id": "mU4OgsG47tz0",
        "colab_type": "text"
      },
      "source": [
        "#第012讲：列表：一个打了激素的数组3"
      ]
    },
    {
      "cell_type": "markdown",
      "metadata": {
        "id": "sA_2Dv137yfB",
        "colab_type": "text"
      },
      "source": [
        "###0. 请问如何将下边这个列表的'小甲鱼'修改为'小鱿鱼'？"
      ]
    },
    {
      "cell_type": "code",
      "metadata": {
        "id": "XYHm6xmh8EY-",
        "colab_type": "code",
        "outputId": "92fa7968-a34b-4fa5-ccd1-7c336627b579",
        "colab": {
          "base_uri": "https://localhost:8080/",
          "height": 34
        }
      },
      "source": [
        "list1 = [1, [1, 2, ['小甲鱼']], 3, 5, 8, 13, 18]\n",
        "list1[1][2][0] = '小鱿鱼'\n",
        "list1"
      ],
      "execution_count": 0,
      "outputs": [
        {
          "output_type": "execute_result",
          "data": {
            "text/plain": [
              "[1, [1, 2, ['小鱿鱼']], 3, 5, 8, 13, 18]"
            ]
          },
          "metadata": {
            "tags": []
          },
          "execution_count": 4
        }
      ]
    },
    {
      "cell_type": "markdown",
      "metadata": {
        "id": "DWV5Lt7b8OiL",
        "colab_type": "text"
      },
      "source": [
        "###1.要对一个列表进行顺序排序，请问使用什么方法？\n",
        "`>>> 列表名.sort()`"
      ]
    },
    {
      "cell_type": "markdown",
      "metadata": {
        "id": "DmNCJjsk94S0",
        "colab_type": "text"
      },
      "source": [
        "###2. 要对一个列表进行逆序排序，请问使用什么方法？\n",
        "方法1\n",
        "\n",
        "```\n",
        ">>> 列表名.sort()\n",
        ">>> 列表名.reverse()\n",
        "```\n",
        "方法2\n",
        "\n",
        "`>>> 列表名.sort(reverse=True)`"
      ]
    },
    {
      "cell_type": "markdown",
      "metadata": {
        "id": "6F78WGrl-Hdu",
        "colab_type": "text"
      },
      "source": [
        "###3. 列表还有两个内置方法：copy() 和 clear()"
      ]
    },
    {
      "cell_type": "code",
      "metadata": {
        "id": "VfkbhZoq-SAb",
        "colab_type": "code",
        "colab": {}
      },
      "source": [
        "#copy() 方法跟使用切片拷贝是一样的\n",
        ">>> list2 = list1.copy()\n",
        ">>> list2\n"
      ],
      "execution_count": 0,
      "outputs": []
    },
    {
      "cell_type": "code",
      "metadata": {
        "id": "x-6HBf57-lPj",
        "colab_type": "code",
        "colab": {}
      },
      "source": [
        "#clear() 方法用于清空列表的元素，清空完后列表仍然还在哦，只是变成一个空列表\n",
        ">>> list2.clear()\n",
        ">>> list2\n"
      ],
      "execution_count": 0,
      "outputs": []
    },
    {
      "cell_type": "markdown",
      "metadata": {
        "id": "koEByGzq-1vM",
        "colab_type": "text"
      },
      "source": [
        "###4. 列表推导式(列表解析)"
      ]
    },
    {
      "cell_type": "code",
      "metadata": {
        "id": "EKJcE59d-56x",
        "colab_type": "code",
        "outputId": "79b94c02-d148-4844-e987-580917440989",
        "colab": {
          "base_uri": "https://localhost:8080/",
          "height": 34
        }
      },
      "source": [
        ">>> [ i*i for i in range(10) ]"
      ],
      "execution_count": 0,
      "outputs": [
        {
          "output_type": "execute_result",
          "data": {
            "text/plain": [
              "[0, 1, 4, 9, 16, 25, 36, 49, 64, 81]"
            ]
          },
          "metadata": {
            "tags": []
          },
          "execution_count": 39
        }
      ]
    },
    {
      "cell_type": "markdown",
      "metadata": {
        "id": "fAhmbrlG_tPn",
        "colab_type": "text"
      },
      "source": [
        "####语法如：`[有关A的表达式 for A in B]`"
      ]
    },
    {
      "cell_type": "code",
      "metadata": {
        "id": "hE2BEVua_0ED",
        "colab_type": "code",
        "outputId": "cb78dd11-288e-445a-9a04-6c3e56748c79",
        "colab": {
          "base_uri": "https://localhost:8080/",
          "height": 34
        }
      },
      "source": [
        ">>> list1 = [x**2 for x in range(10)]\n",
        ">>> list1"
      ],
      "execution_count": 0,
      "outputs": [
        {
          "output_type": "execute_result",
          "data": {
            "text/plain": [
              "[0, 1, 4, 9, 16, 25, 36, 49, 64, 81]"
            ]
          },
          "metadata": {
            "tags": []
          },
          "execution_count": 40
        }
      ]
    },
    {
      "cell_type": "code",
      "metadata": {
        "id": "tUM5us-p_75W",
        "colab_type": "code",
        "outputId": "e8690e38-55c6-472c-b354-7d7b109a8c7c",
        "colab": {
          "base_uri": "https://localhost:8080/",
          "height": 34
        }
      },
      "source": [
        "list1 = []\n",
        "for x in range(10):\n",
        "    list1.append(x**2)\n",
        "list1"
      ],
      "execution_count": 0,
      "outputs": [
        {
          "output_type": "execute_result",
          "data": {
            "text/plain": [
              "[0, 1, 4, 9, 16, 25, 36, 49, 64, 81]"
            ]
          },
          "metadata": {
            "tags": []
          },
          "execution_count": 42
        }
      ]
    },
    {
      "cell_type": "markdown",
      "metadata": {
        "id": "kdqBkpuqAOGI",
        "colab_type": "text"
      },
      "source": [
        "###5. 问题：请先在 IDLE 中获得下边列表的结果，并按照上方例子把列表推导式还原出来。\n",
        "\n"
      ]
    },
    {
      "cell_type": "code",
      "metadata": {
        "id": "COUabbj5ASNi",
        "colab_type": "code",
        "colab": {}
      },
      "source": [
        "list1 = [(x, y) for x in range(10) for y in range(10) if x%2==0 if y%2!=0]\n",
        "list1"
      ],
      "execution_count": 0,
      "outputs": []
    },
    {
      "cell_type": "code",
      "metadata": {
        "id": "e8zvLg05AZJv",
        "colab_type": "code",
        "colab": {}
      },
      "source": [
        "list1 = []\n",
        "for x in range(10):\n",
        "    for y in range(10):\n",
        "        if x%2 == 0:\n",
        "            if y%2 != 0:\n",
        "                list1.append((x, y))\n",
        "list1"
      ],
      "execution_count": 0,
      "outputs": []
    },
    {
      "cell_type": "markdown",
      "metadata": {
        "id": "pRzEfBRFMLQe",
        "colab_type": "text"
      },
      "source": [
        "###6. 活学活用：请使用列表推导式补充被小甲鱼不小心涂掉的部分\n",
        "![](https://xxx.ilovefishc.com/forum/201310/12/044035qddrqkmrqod4cqmr.png)"
      ]
    },
    {
      "cell_type": "code",
      "metadata": {
        "id": "abm5vDJZMVRy",
        "colab_type": "code",
        "colab": {}
      },
      "source": [
        ">>> list3 = [name + '：' + slogan[2:] for slogan in list1 for name in list2 if slogan[0] == name[0]]"
      ],
      "execution_count": 0,
      "outputs": []
    },
    {
      "cell_type": "markdown",
      "metadata": {
        "id": "ruME3dFwMd7U",
        "colab_type": "text"
      },
      "source": [
        "***\n",
        "***"
      ]
    },
    {
      "cell_type": "markdown",
      "metadata": {
        "id": "_hJqVXp6BsKH",
        "colab_type": "text"
      },
      "source": [
        "#`[扩展阅读] `字符串的方法及注释"
      ]
    },
    {
      "cell_type": "markdown",
      "metadata": {
        "id": "iuB_i0i1ByCO",
        "colab_type": "text"
      },
      "source": [
        "###capitalize()  \n",
        "把字符串的第一个字符改为大写\n",
        "###casefold()\n",
        "把整个字符串的所有字符改为小写\n",
        "###center(width)\n",
        "将字符串居中，并使用空格填充至长度 width 的新字符串\n",
        "###count(sub[, start[, end]])\n",
        "返回 sub 在字符串里边出现的次数，start 和 end 参数表示范围，可选。\n",
        "###encode(encoding='utf-8', errors='strict')\n",
        "以 encoding 指定的编码格式对字符串进行编码。\n",
        "###endswith(sub[, start[, end]])\n",
        "检查字符串是否以 sub 子字符串结束，如果是返回 True，否则返回 False。start 和 end 参数表示范围，可选。\n",
        "###expandtabs([tabsize=8])\n",
        "把字符串中的 tab 符号（\\t）转换为空格，如不指定参数，默认的空格数是 tabsize=8。\n",
        "###find(sub[, start[, end]])\n",
        "检测 sub 是否包含在字符串中，如果有则返回索引值，否则返回 -1，start 和 end 参数表示范围，可选。\n",
        "###index(sub[, start[, end]])\n",
        "跟 find 方法一样，不过如果 sub 不在 string 中会产生一个异常。\n",
        "###isalnum()\n",
        "如果字符串至少有一个字符并且所有字符都是字母或数字则返回 True，否则返回 False。\n",
        "###isalpha()\n",
        "如果字符串至少有一个字符并且所有字符都是字母则返回 True，否则返回 False。\n",
        "###isdecimal()\n",
        "如果字符串只包含十进制数字则返回 True，否则返回 False。\n",
        "###isdigit()\n",
        "如果字符串只包含数字则返回 True，否则返回 False。\n",
        "###islower()\n",
        "如果字符串中至少包含一个区分大小写的字符，并且这些字符都是小写，则返回 True，否则返回 False。\n",
        "###isnumeric()\n",
        "如果字符串中只包含数字字符，则返回 True，否则返回 False。\n",
        "###isspace()\n",
        "如果字符串中只包含空格，则返回 True，否则返回 False。\n",
        "###istitle()\n",
        "如果字符串是标题化（所有的单词都是以大写开始，其余字母均小写），则返回 True，否则返回 False。\n",
        "###isupper()\n",
        "如果字符串中至少包含一个区分大小写的字符，并且这些字符都是大写，则返回 True，否则返回 False。\n",
        "###join(sub)\n",
        "以字符串作为分隔符，插入到 sub 中所有的字符之间。\n",
        "###ljust(width)\n",
        "返回一个左对齐的字符串，并使用空格填充至长度为 width 的新字符串。\n",
        "###lower()\n",
        "转换字符串中所有大写字符为小写。\n",
        "###lstrip()\n",
        "去掉字符串左边的所有空格\n",
        "###partition(sub)\n",
        "找到子字符串 sub，把字符串分成一个 3 元组 (pre_sub, sub, fol_sub)，如果字符串中不包含 sub 则返回 ('原字符串', '', '')\n",
        "###replace(old, new[, count])\n",
        "把字符串中的 old 子字符串替换成 new 子字符串，如果 count 指定，则替换不超过 count 次。\n",
        "###rfind(sub[, start[, end]])\n",
        "类似于 find() 方法，不过是从右边开始查找。\n",
        "###rindex(sub[, start[, end]])\n",
        "类似于 index() 方法，不过是从右边开始。\n",
        "###rjust(width)\n",
        "返回一个右对齐的字符串，并使用空格填充至长度为 width 的新字符串。\n",
        "###rpartition(sub)\n",
        "类似于 partition() 方法，不过是从右边开始查找。\n",
        "###rstrip()\n",
        "删除字符串末尾的空格。\n",
        "###split(sep=None, maxsplit=-1)\n",
        "不带参数默认是以空格为分隔符切片字符串，如果 maxsplit 参数有设置，则仅分隔 maxsplit 个子字符串，返回切片后的子字符串拼接的列表。\n",
        "###splitlines(([keepends]))\n",
        "在输出结果里是否去掉换行符，默认为 False，不包含换行符；如果为 True，则保留换行符。。\n",
        "###startswith(prefix[, start[, end]])\n",
        "检查字符串是否以 prefix 开头，是则返回 True，否则返回 False。start 和 end 参数可以指定范围检查，可选。\n",
        "###strip([chars])\n",
        "删除字符串前边和后边所有的空格，chars 参数可以定制删除的字符，可选。\n",
        "###swapcase()\n",
        "翻转字符串中的大小写。\n",
        "###title()\n",
        "返回标题化（所有的单词都是以大写开始，其余字母均小写）的字符串。\n",
        "###translate(table)\n",
        "根据 table 的规则（可以由 str.maketrans('a', 'b') 定制）转换字符串中的字符。\n",
        "###upper()\n",
        "转换字符串中的所有小写字符为大写。\n",
        "###zfill(width)\n",
        "返回长度为 width 的字符串，原字符串右对齐，前边用 0 填充。\n",
        "\n",
        "***\n",
        "***"
      ]
    },
    {
      "cell_type": "markdown",
      "metadata": {
        "id": "92KWaeocCpTO",
        "colab_type": "text"
      },
      "source": [
        "#第013讲：元组：戴上了枷锁的列表"
      ]
    },
    {
      "cell_type": "markdown",
      "metadata": {
        "id": "SF_3A4iEC0XN",
        "colab_type": "text"
      },
      "source": [
        "###0. 请用一句话描述什么是列表？再用一句话描述什么是元组？\n",
        " 列表：一个大仓库，你可以随时往里边添加和删除任何东西。  \n",
        "元组：封闭的列表，一旦定义，就不可改变（不能添加、删除或修改）。\n",
        "  \n",
        "  \n",
        "###1. 什么情况下你需要使用元组而不是列表？\n",
        "  \n",
        "当我们希望内容不被轻易改写的时候，我们使用元组（把权力关进牢笼）。  \n",
        "当我们需要频繁修改数据，我们使用列表。\n",
        "  \n",
        "  \n",
        "###2. 当元组和列表掉下水，你会救谁？\n",
        "  \n",
        "我会救列表，因为列表提供了比元组更丰富的内置方法，这相当大的提高了编程的灵活性。  \n",
        "元组固然安全，但元组一定创建就无法修改（除非通过新建一个元组来间接修改，但这就带来了消耗），而我们人是经常摇摆不定的，所以元组只有在特殊的情况才用到，平时还是列表用的多。\n",
        "\n",
        "还因为元组比较封闭，不会进水。\n",
        "\n",
        "###3. 请将左边列表的内置方法与右边的注释连线，并圈出元组可以使用的方法。\n",
        "\n",
        "![](https://xxx.ilovefishc.com/forum/201310/20/1622359kx0oefz63c16zhx.gif)\n",
        "\n",
        "###4. 创建一个元组，什么情况下逗号和小括号必须同时存在，缺一不可？\n",
        "\n",
        "在拼接只有一个元素的元组的时候\n",
        "\n",
        "\n",
        "\n",
        "```\n",
        ">>> temp = (‘小甲鱼’, ‘黑夜’, ‘迷途’, ‘小布丁’)\n",
        "# 如果我想在“黑夜”和“迷途”之间插入“怡静”，我们应该：\n",
        ">>> temp = temp[:2] + (‘怡静’,) + temp[2:]\n",
        "```\n",
        "\n",
        "###5. x, y, z = 1, 2, 3 请问x, y, z是元组吗？\n",
        "所有的多对象的、逗号分隔的、没有明确用符号定义的这些集合默认的类型都是元组\n",
        "\n",
        "###6. 请写出以下情景中应该使用列表还是元组来保存数据：\n",
        "1)游戏中角色的属性：列表\n",
        "  \n",
        "2) 你的身份证信息：元组\n",
        "  \n",
        "3) 论坛的会员：列表\n",
        "  \n",
        "4) 团队合作开发程序，传递给一个你并不了解具体实现的函数的参数：元组\n",
        "  \n",
        "5) 航天火箭各个组件的具体配置参数：元组\n",
        "  \n",
        "6) NASA系统中记录已经发现的行星数据：列表\n",
        " \n",
        " ###7. 上节课我们通过课后作业的形式学习到了“列表推导式”，那请问如果我把中括号改为小括号，会不会得到“元组推导式”呢？自己动手试试看再看答案哦^_^\n",
        " \n",
        " \n",
        "\n",
        "```\n",
        ">>> tuple1 = (x**2 for x in range(10))\n",
        ">>> type(tuple1)\n",
        "<class 'generator'>\n",
        "```\n",
        "生成器：\n",
        "\n",
        "```\n",
        ">>> tuple1.__next__()\n",
        "0\n",
        ">>> tuple1.__next__()\n",
        "1\n",
        ">>> tuple1.__next__()\n",
        "4\n",
        ">>> tuple1.__next__()\n",
        "9\n",
        ">>> tuple1.__next__()\n",
        "16\n",
        ">>> tuple1.__next__()\n",
        "25\n",
        ">>> tuple1.__next__()\n",
        "36\n",
        "```\n",
        "\n",
        "***\n",
        "***\n",
        "\n",
        "\n"
      ]
    },
    {
      "cell_type": "markdown",
      "metadata": {
        "id": "0zIE-qgsO0JD",
        "colab_type": "text"
      },
      "source": [
        "#第014讲：字符串：各种奇葩的内置方法"
      ]
    },
    {
      "cell_type": "markdown",
      "metadata": {
        "id": "IMFkYf5tPCuX",
        "colab_type": "text"
      },
      "source": [
        "###0. 还记得如何定义一个跨越多行的字符串吗（请至少写出两种实现的方法）？\n",
        "  \n",
        "方法一：\n",
        "   \n",
        "\n",
        "\n",
        "```\n",
        "str1 = '''待我长发及腰，将军归来可好？\n",
        "此身君子意逍遥，怎料山河萧萧。\n",
        "天光乍破遇，暮雪白头老。\n",
        "寒剑默听奔雷，长枪独守空壕。\n",
        "醉卧沙场君莫笑，一夜吹彻画角。\n",
        "江南晚来客，红绳结发梢。'''\n",
        "```\n",
        "\n",
        "\n",
        "   \n",
        "方法二：\n",
        "\n",
        "```\n",
        "str2 = '待卿长发及腰，我必凯旋回朝。\\\n",
        "昔日纵马任逍遥，俱是少年英豪。\\\n",
        "东都霞色好，西湖烟波渺。\\\n",
        "执枪血战八方，誓守山河多娇。\\\n",
        "应有得胜归来日，与卿共度良宵。\\\n",
        "盼携手终老，愿与子同袍。'\n",
        "```\n",
        "\n",
        "\n",
        "方法三：\n",
        "\n",
        "``` \n",
        "str3 = ('待卿长发及腰，我必凯旋回朝。'\n",
        "'昔日纵马任逍遥，俱是少年英豪。'\n",
        "'东都霞色好，西湖烟波渺。'\n",
        "'执枪血战八方，誓守山河多娇。'\n",
        "'应有得胜归来日，与卿共度良宵。'\n",
        "'盼携手终老，愿与子同袍。')\n",
        "    \n",
        "```\n",
        "###1. 三引号字符串通常我们用于做什么使用？  \n",
        "三引号字符串不赋值的情况下，通常当作跨行注释使用，例如：  \n",
        "\n",
        "\n",
        "```\n",
        "'''这是一个三引号字符串用于注释的例子，\n",
        "例子虽然只是简简单单的一句话，\n",
        "却毫无遮掩地体现了作者用情至深，\n",
        "所谓爱至深处情至简！'''\n",
        "\n",
        "print(\"I love FishC.com!\")\n",
        "```\n",
        "\n"
      ]
    },
    {
      "cell_type": "markdown",
      "metadata": {
        "id": "sbjXrNX1PC5T",
        "colab_type": "text"
      },
      "source": [
        "### 2.file1 = open('C:\\windows\\temp\\readme.txt', 'r') 表示以只读方式打开“C:\\windows\\temp\\readme.txt”这个文本文件，但事实上这个语句会报错，知道为什么吗？你会如何修改？  \n",
        "\n",
        "会报错是因为在字符串中，我们约定“\\t”和“\\r”分别表示“横向制表符（TAB）”和“回车符”（详见：[字符串格式化符号含义及转义字符含义](http://bbs.fishc.com/thread-92997-1-1.html)）\n",
        "Python 为我们铺好了解决的道路，只需要使用原始字符串操作符（R或r）即可：  \n",
        "\n",
        "\n",
        "```\n",
        "file1 = open(r'C:\\windows\\temp\\readme.txt', 'r')\n",
        "```\n",
        "\n"
      ]
    },
    {
      "cell_type": "markdown",
      "metadata": {
        "id": "nUEvvGxLPC8V",
        "colab_type": "text"
      },
      "source": [
        "### 3. 有字符串：`str1 = '<a href=\"http://www.fishc.com/dvd\" target=\"_blank\">鱼C资源打包</a>'`，请问如何提取出子字符串：`'www.fishc.com'`  \n",
        "\n",
        "\n",
        "```\n",
        "str1[16:29]\n",
        "```\n",
        "\n"
      ]
    },
    {
      "cell_type": "markdown",
      "metadata": {
        "id": "DBAi9b0_PC_X",
        "colab_type": "text"
      },
      "source": [
        "### 4. 如果使用负数作为索引值进行分片操作，按照第三题的要求你能够正确目测出结果吗？  \n",
        "\n",
        "\n",
        "\n",
        "```\n",
        "str1[-45:-32]\n",
        "```\n",
        "\n"
      ]
    },
    {
      "cell_type": "markdown",
      "metadata": {
        "id": "ULjJDXG7PDEJ",
        "colab_type": "text"
      },
      "source": [
        "### 5.第三题那个字符串，请问下边语句会显示什么内容？\n",
        "\n",
        "\n",
        "```\n",
        "str1[20:-36]\n",
        "```\n",
        "'fishc'，加入了负数索引\n"
      ]
    },
    {
      "cell_type": "markdown",
      "metadata": {
        "id": "fd-eQPh1PDHa",
        "colab_type": "text"
      },
      "source": [
        "### 6. 据说只有智商高于150的鱼油才能解开这个字符串（还原为有意义的字符串）：`str1 = 'i2sl54ovvvb4e3bferi32s56h;$c43.sfc67o0cm99'`  \n",
        "\n",
        "\n",
        "```\n",
        "str1[::3]\n",
        "```\n",
        "***\n",
        "\n"
      ]
    },
    {
      "cell_type": "markdown",
      "metadata": {
        "id": "uD1ShKHxPDSX",
        "colab_type": "text"
      },
      "source": [
        "### 0. 请写一个密码安全性检查的代码代码：check.py"
      ]
    },
    {
      "cell_type": "code",
      "metadata": {
        "id": "ToSdht7KSLMh",
        "colab_type": "code",
        "outputId": "a3f4dc38-e26e-4684-a197-ae1ded403660",
        "colab": {
          "base_uri": "https://localhost:8080/",
          "height": 119
        }
      },
      "source": [
        "\n",
        "# 密码安全性检查代码\n",
        "#\n",
        "# 低级密码要求：\n",
        "#   1. 密码由单纯的数字或字母组成\n",
        "#   2. 密码长度小于等于8位\n",
        "#\n",
        "# 中级密码要求：\n",
        "#   1. 密码必须由数字、字母或特殊字符（仅限：~!@#$%^&*()_=-/,.?<>;:[]{}|\\）任意两种组合\n",
        "#   2. 密码长度不能低于8位\n",
        "#\n",
        "# 高级密码要求：\n",
        "#   1. 密码必须由数字、字母及特殊字符（仅限：~!@#$%^&*()_=-/,.?<>;:[]{}|\\）三种组合\n",
        "#   2. 密码只能由字母开头\n",
        "#   3. 密码长度不能低于16位\n",
        "\n",
        "symbols = r'''`!@#$%^&*()_+-=/*{}[]\\|'\";:/?,.<>'''\n",
        "chars = 'abcdefghijklmnopqrstuvwxyzABCDEFGHIJKLMNOPQRSTUVWXYZ'\n",
        "nums = '0123456789'\n",
        "\n",
        "passwd = input('请输入需要检查的密码组合：')\n",
        "\n",
        "# 判断长度\n",
        "length = len(passwd)\n",
        "\n",
        "while (passwd.isspace() or length == 0) :\n",
        "    passwd = input(\"您输入的密码为空（或空格），请重新输入：\")\n",
        "    length = len(passwd)\n",
        "\n",
        "if length <= 8:\n",
        "    flag_len = 1\n",
        "elif 8 < length < 16:\n",
        "    flag_len = 2\n",
        "else:\n",
        "    flag_len = 3\n",
        "\n",
        "flag_con = 0\n",
        "\n",
        "# 判断是否包含特殊字符\n",
        "for each in passwd:\n",
        "    if each in symbols:\n",
        "        flag_con += 1\n",
        "        break\n",
        "    \n",
        "# 判断是否包含字母\n",
        "for each in passwd:\n",
        "    if each in chars:\n",
        "        flag_con += 1\n",
        "        break\n",
        "\n",
        "# 判断是否包含数字\n",
        "for each in passwd:\n",
        "    if each in nums:\n",
        "        flag_con += 1\n",
        "        break    \n",
        "\n",
        "# 打印结果\n",
        "while 1 :\n",
        "    print(\"您的密码安全级别评定为：\", end='')\n",
        "    if flag_len == 1 or flag_con == 1 :\n",
        "        print(\"低\")\n",
        "    elif flag_len == 3 and flag_con == 3 and (passwd[0] in chars):\n",
        "        print(\"高\")\n",
        "        print(\"请继续保持\")\n",
        "        break\n",
        "    else:\n",
        "        print(\"中\")\n",
        "\n",
        "    print(\"请按以下方式提升您的密码安全级别：\\n\\\n",
        "    \\t1. 密码必须由数字、字母及特殊字符三种组合\\n\\\n",
        "    \\t2. 密码只能由字母开头\\n\\\n",
        "    \\t3. 密码长度不能低于16位\")\n",
        "    break"
      ],
      "execution_count": 0,
      "outputs": [
        {
          "output_type": "stream",
          "text": [
            "请输入需要检查的密码组合：aws43421\n",
            "您的密码安全级别评定为：低\n",
            "请按以下方式提升您的密码安全级别：\n",
            "    \t1. 密码必须由数字、字母及特殊字符三种组合\n",
            "    \t2. 密码只能由字母开头\n",
            "    \t3. 密码长度不能低于16位\n"
          ],
          "name": "stdout"
        }
      ]
    },
    {
      "cell_type": "markdown",
      "metadata": {
        "id": "k_vhTJR2PDVV",
        "colab_type": "text"
      },
      "source": [
        "**1. 为啥要用 while 1 呢？主要是为了实现“如果结果是低或中则打印如何提升密码安全级别的提示，而高则直接退出”**\n",
        "\n",
        "**2. 为啥把“高”放中间呢？因为其判断最为麻烦（注意还要求必须是字母开头），所以很有可能满足了“中”却因为额外的条件满足不了“高”，因此我们把事儿比较多的高放中间判断，满足不了“高”，那就只能是最后的 else“中”了。**  \n",
        "\n",
        "***\n",
        "***"
      ]
    },
    {
      "cell_type": "markdown",
      "metadata": {
        "id": "iHMgD13sPDYS",
        "colab_type": "text"
      },
      "source": [
        "#第015讲：字符串：格式化 "
      ]
    },
    {
      "cell_type": "markdown",
      "metadata": {
        "id": "KyLkUJE2PDCb",
        "colab_type": "text"
      },
      "source": [
        "###0. 根据说明填写相应的字符串格式化符号\n",
        "\n",
        "  |符   号|说     明|\n",
        "   | ---- |:----|\n",
        "     %c|格式化字符及其ASCII码\n",
        "     %s|格式化字符串\n",
        "     %d|格式化整数\n",
        "     %o |格式化无符号八进制数\n",
        "     %x|格式化无符号十六进制数\n",
        "     %X|   格式化无符号十六进制数（大写）\n",
        "     %f| 格式化定点数，可指定小数点后的精度\n",
        "     %e|  用科学计数法格式化定点数\n",
        "     %E|  作用同%e，用科学计数法格式化定点数\n",
        "     %g\t  | 根据值的大小决定使用%f或者%e\n",
        "     %G|作用同%g，根据值的大小决定使用%F或者%E\n",
        "  "
      ]
    },
    {
      "cell_type": "markdown",
      "metadata": {
        "id": "02N8sR7MZMHb",
        "colab_type": "text"
      },
      "source": [
        "###1. 请问以下这行代码会打印什么内容？  \n",
        "\n"
      ]
    },
    {
      "cell_type": "code",
      "metadata": {
        "id": "NiZht3TXZcCt",
        "colab_type": "code",
        "colab": {
          "base_uri": "https://localhost:8080/",
          "height": 34
        },
        "outputId": "0d71072d-2eae-4b58-8946-bdb39159ea5b"
      },
      "source": [
        "\"{{1}}\".format(\"不打印\", \"打印\")\n"
      ],
      "execution_count": 2,
      "outputs": [
        {
          "output_type": "execute_result",
          "data": {
            "text/plain": [
              "'{1}'"
            ]
          },
          "metadata": {
            "tags": []
          },
          "execution_count": 2
        }
      ]
    },
    {
      "cell_type": "markdown",
      "metadata": {
        "id": "fuJB-MtCZTDd",
        "colab_type": "text"
      },
      "source": [
        "### 2. 以下代码中，a, b, c是什么参数？"
      ]
    },
    {
      "cell_type": "code",
      "metadata": {
        "id": "VZ_dIW-0Zsgw",
        "colab_type": "code",
        "colab": {
          "base_uri": "https://localhost:8080/",
          "height": 34
        },
        "outputId": "dd275ff7-86d2-47ef-851c-1a39ed9ed587"
      },
      "source": [
        ">>> \"{a} love {b}.{c}\".format(a=\"I\", b=\"FishC\", c=\"com\")\n"
      ],
      "execution_count": 3,
      "outputs": [
        {
          "output_type": "execute_result",
          "data": {
            "text/plain": [
              "'I love FishC.com'"
            ]
          },
          "metadata": {
            "tags": []
          },
          "execution_count": 3
        }
      ]
    },
    {
      "cell_type": "markdown",
      "metadata": {
        "id": "cyi9wDIfZTGa",
        "colab_type": "text"
      },
      "source": [
        "关键字参数"
      ]
    },
    {
      "cell_type": "markdown",
      "metadata": {
        "id": "N3-ktMbYZTLe",
        "colab_type": "text"
      },
      "source": [
        "### 3. 以下代码中，{0}, {1}, {2}是什么参数？  \n"
      ]
    },
    {
      "cell_type": "code",
      "metadata": {
        "id": "MkbGbmo1aP7h",
        "colab_type": "code",
        "colab": {
          "base_uri": "https://localhost:8080/",
          "height": 34
        },
        "outputId": "6f055e5d-1606-4226-9dcb-0d520ab7ef69"
      },
      "source": [
        " \"{0} love {1}.{3}\".format(\"I\", \"FishC\", \"com\",\"net\")\n"
      ],
      "execution_count": 5,
      "outputs": [
        {
          "output_type": "execute_result",
          "data": {
            "text/plain": [
              "'I love FishC.net'"
            ]
          },
          "metadata": {
            "tags": []
          },
          "execution_count": 5
        }
      ]
    },
    {
      "cell_type": "markdown",
      "metadata": {
        "id": "t-LFoyV1ZTOd",
        "colab_type": "text"
      },
      "source": [
        "### 4. 如果想要显示Pi = 3.14，format前边的字符串应该怎么填写呢？"
      ]
    },
    {
      "cell_type": "code",
      "metadata": {
        "id": "fBh5tAGgbN4-",
        "colab_type": "code",
        "colab": {
          "base_uri": "https://localhost:8080/",
          "height": 34
        },
        "outputId": "83aa8732-cdc1-4924-f49d-c67bd2e85956"
      },
      "source": [
        " '{0}{1:.2f}'.format('Pi = ', 3.1415926535)\n"
      ],
      "execution_count": 9,
      "outputs": [
        {
          "output_type": "execute_result",
          "data": {
            "text/plain": [
              "'Pi = 3.14'"
            ]
          },
          "metadata": {
            "tags": []
          },
          "execution_count": 9
        }
      ]
    },
    {
      "cell_type": "markdown",
      "metadata": {
        "id": "PQ28SLl2bL6J",
        "colab_type": "text"
      },
      "source": [
        "***"
      ]
    },
    {
      "cell_type": "markdown",
      "metadata": {
        "id": "G7pPATGwZTRa",
        "colab_type": "text"
      },
      "source": [
        "### 0. 编写一个进制转换程序"
      ]
    },
    {
      "cell_type": "code",
      "metadata": {
        "id": "kwLz8BBhcTI4",
        "colab_type": "code",
        "colab": {
          "base_uri": "https://localhost:8080/",
          "height": 102
        },
        "outputId": "9981f762-17cf-4962-cd15-a61595e332d6"
      },
      "source": [
        "q = True\n",
        "while q:\n",
        "    num = input('请输入一个整数(输入Q结束程序)：')\n",
        "    if num != 'Q':\n",
        "        num = int(num)\n",
        "        print('十进制 -> 十六进制 : %d -> 0x%x' % (num, num))\n",
        "        print('十进制 -> 八进制 : %d -> 0o%o' % (num, num))\n",
        "        print('十进制 -> 二进制 : %d -> ' % num, bin(num))\n",
        "    else:\n",
        "        q = False\n"
      ],
      "execution_count": 12,
      "outputs": [
        {
          "output_type": "stream",
          "text": [
            "请输入一个整数(输入Q结束程序)：45\n",
            "十进制 -> 十六进制 : 45 -> 0x2d\n",
            "十进制 -> 八进制 : 45 -> 0o55\n",
            "十进制 -> 二进制 : 45 ->  0b101101\n",
            "请输入一个整数(输入Q结束程序)：Q\n"
          ],
          "name": "stdout"
        }
      ]
    },
    {
      "cell_type": "markdown",
      "metadata": {
        "id": "KKaM4aJQZTUp",
        "colab_type": "text"
      },
      "source": [
        "***\n",
        "***\n"
      ]
    },
    {
      "cell_type": "markdown",
      "metadata": {
        "id": "o0NK2YoFZTgw",
        "colab_type": "text"
      },
      "source": [
        "#第016讲：序列！序列！"
      ]
    },
    {
      "cell_type": "markdown",
      "metadata": {
        "id": "U-MrUggoZTkJ",
        "colab_type": "text"
      },
      "source": [
        "### 0. 我们根据列表、元组和字符串的共同特点，把它们三统称为什么？\n",
        "   \n",
        "序列，因为他们有以下共同点：\n",
        "    \n",
        "1. 都可以通过索引得到每一个元素\n",
        "2. 默认索引值总是从0开始（当然灵活的Python还支持负数索引）\n",
        "3. 可以通过分片的方法得到一个范围内的元素的集合\n",
        "4. 有很多共同的操作符（重复操作符、拼接操作符、成员关系操作符）"
      ]
    },
    {
      "cell_type": "markdown",
      "metadata": {
        "id": "8pXiTB2oZTJ-",
        "colab_type": "text"
      },
      "source": [
        "### 1. 请问分别使用什么BIF，可以把一个可迭代对象转换为列表、元组和字符串？"
      ]
    },
    {
      "cell_type": "markdown",
      "metadata": {
        "id": "6hr51iAIea_0",
        "colab_type": "text"
      },
      "source": [
        "\n",
        "\n",
        "\n",
        "*    `list([iterable]) `把可迭代对象转换为列表\n",
        "  \n",
        "*    `tuple([iterable]) `把可迭代对象转换为元组\n",
        "  \n",
        "*    `str(obj) ` 把对象转换为字符串\n",
        "\n",
        "\n"
      ]
    },
    {
      "cell_type": "code",
      "metadata": {
        "id": "vCL-Vn_Lf3hj",
        "colab_type": "code",
        "colab": {
          "base_uri": "https://localhost:8080/",
          "height": 306
        },
        "outputId": "2a1bf0af-6c31-458c-eeec-29c65185482f"
      },
      "source": [
        "temp = 'I love FishC.com!'\n",
        "list(temp)\n"
      ],
      "execution_count": 14,
      "outputs": [
        {
          "output_type": "execute_result",
          "data": {
            "text/plain": [
              "['I',\n",
              " ' ',\n",
              " 'l',\n",
              " 'o',\n",
              " 'v',\n",
              " 'e',\n",
              " ' ',\n",
              " 'F',\n",
              " 'i',\n",
              " 's',\n",
              " 'h',\n",
              " 'C',\n",
              " '.',\n",
              " 'c',\n",
              " 'o',\n",
              " 'm',\n",
              " '!']"
            ]
          },
          "metadata": {
            "tags": []
          },
          "execution_count": 14
        }
      ]
    },
    {
      "cell_type": "markdown",
      "metadata": {
        "id": "Dyrq6r8kebDp",
        "colab_type": "text"
      },
      "source": [
        "### 2. 你还能复述出“迭代”的概念吗？"
      ]
    },
    {
      "cell_type": "markdown",
      "metadata": {
        "id": "vTvFJvH8ebHS",
        "colab_type": "text"
      },
      "source": [
        "所谓迭代，是重复反馈过程的活动，其目的通常是为了接近并到达所需的目标或结果。  \n",
        "每一次对过程的重复被称为一次“迭代”，而每一次迭代得到的结果会被用来作为下一次迭代的初始值。"
      ]
    },
    {
      "cell_type": "markdown",
      "metadata": {
        "id": "BNfZLA3mebKP",
        "colab_type": "text"
      },
      "source": [
        "### 3. 调用 max('I love FishC.com') 会返回什么值？为什么？"
      ]
    },
    {
      "cell_type": "markdown",
      "metadata": {
        "id": "Fj4juHq7ebPh",
        "colab_type": "text"
      },
      "source": [
        "会返回：'v'，因为字符串在计算机中是以ASCII码的形式存储 [ASCII对照表](http://bbs.fishc.com/thread-41199-1-1.html)参数中ASCII码值最大的是'v'对应的118"
      ]
    },
    {
      "cell_type": "markdown",
      "metadata": {
        "id": "BCiCaHCFebSm",
        "colab_type": "text"
      },
      "source": [
        "### 4. 补全代码  \n",
        "![](https://xxx.ilovefishc.com/forum/201312/14/212245ym3vtjyv1m10njmg.png)"
      ]
    },
    {
      "cell_type": "code",
      "metadata": {
        "id": "DCxlw_PHgu-d",
        "colab_type": "code",
        "colab": {
          "base_uri": "https://localhost:8080/",
          "height": 51
        },
        "outputId": "f59c8bc5-3eb4-4096-ea08-533f7d99e0f5"
      },
      "source": [
        "\n",
        "name = input('请输入待查找的用户名：')\n",
        "score = [['迷途', 85], ['黑夜', 80], ['小布丁', 65], ['福禄娃娃', 95], ['怡静', 90]]\n",
        "IsFind = False\n",
        "\n",
        "for each in score:\n",
        "    if name in each:\n",
        "        print(name + '的得分是：', each[1])\n",
        "        IsFind = True\n",
        "        break\n",
        "    \n",
        "if IsFind == False:\n",
        "    print('查找的数据不存在！')\n",
        "\n"
      ],
      "execution_count": 15,
      "outputs": [
        {
          "output_type": "stream",
          "text": [
            "请输入待查找的用户名：黑夜\n",
            "黑夜的得分是： 80\n"
          ],
          "name": "stdout"
        }
      ]
    },
    {
      "cell_type": "markdown",
      "metadata": {
        "id": "8b65pdc-ebVo",
        "colab_type": "text"
      },
      "source": [
        "***"
      ]
    },
    {
      "cell_type": "markdown",
      "metadata": {
        "id": "BpzvYKDVebY0",
        "colab_type": "text"
      },
      "source": [
        "### 0. 猜想一下 min() 这个BIF的实现过程"
      ]
    },
    {
      "cell_type": "code",
      "metadata": {
        "id": "_idw8bfYhKx4",
        "colab_type": "code",
        "colab": {
          "base_uri": "https://localhost:8080/",
          "height": 34
        },
        "outputId": "f0de7261-f509-47c9-df85-345d34a6c819"
      },
      "source": [
        "def min(x):\n",
        "    least = x[0]\n",
        "\n",
        "    for each in x:\n",
        "        if each < least:\n",
        "            least = each\n",
        "\n",
        "    return least\n",
        "\n",
        "print(min('3456789'))"
      ],
      "execution_count": 17,
      "outputs": [
        {
          "output_type": "stream",
          "text": [
            "3\n"
          ],
          "name": "stdout"
        }
      ]
    },
    {
      "cell_type": "markdown",
      "metadata": {
        "id": "5j0vCQu-ebe_",
        "colab_type": "text"
      },
      "source": [
        "### 1. 视频中我们说 sum() 这个BIF有个缺陷，就是如果参数里有字符串类型的话就会报错，请写出一个新的实现过程，自动“无视”参数里的字符串并返回正确的计算结果"
      ]
    },
    {
      "cell_type": "code",
      "metadata": {
        "id": "ZOU5LghzhnvT",
        "colab_type": "code",
        "colab": {
          "base_uri": "https://localhost:8080/",
          "height": 34
        },
        "outputId": "6c0fb883-7f16-4b77-c441-2e4a72e9a6fe"
      },
      "source": [
        "def sum(x):\n",
        "    result = 0\n",
        "    \n",
        "    for each in x:\n",
        "        if (type(each) == int) or (type(each) == float):\n",
        "            result += each\n",
        "        else:\n",
        "            continue\n",
        "\n",
        "    return result\n",
        "\n",
        "print(sum([1, 2.1, 2.3, 'a', '1', True]))"
      ],
      "execution_count": 18,
      "outputs": [
        {
          "output_type": "stream",
          "text": [
            "5.4\n"
          ],
          "name": "stdout"
        }
      ]
    },
    {
      "cell_type": "markdown",
      "metadata": {
        "id": "l301CMMwebcC",
        "colab_type": "text"
      },
      "source": [
        "***\n",
        "***"
      ]
    },
    {
      "cell_type": "markdown",
      "metadata": {
        "id": "Ml71F5gPiFFZ",
        "colab_type": "text"
      },
      "source": [
        "# 第017讲：函数 - Python的乐高积木"
      ]
    },
    {
      "cell_type": "markdown",
      "metadata": {
        "id": "ETGK4MGGiLfT",
        "colab_type": "text"
      },
      "source": [
        "### 0. 你有听说过DRY吗？\n",
        "       \n",
        "Don't Repeat Yourself. \n"
      ]
    },
    {
      "cell_type": "markdown",
      "metadata": {
        "id": "os2dz45EiLrq",
        "colab_type": "text"
      },
      "source": [
        "### 1. 都是重复一段代码，为什么我要使用函数（而不使用简单的拷贝黏贴）呢？"
      ]
    },
    {
      "cell_type": "markdown",
      "metadata": {
        "id": "U91fw7qniLvE",
        "colab_type": "text"
      },
      "source": [
        "\n",
        "\n",
        "*  可以降低代码量（调用函数只需要一行，而拷贝黏贴需要N倍代码）\n",
        "*  可以降低维护成本（函数只需修改def部分内容，而拷贝黏贴则需要每一处出现的地方都作修改）\n",
        "*  使序更容易阅读（没有人会希望看到一个程序重复一万行“I love FishC.com”）\n",
        "*\n",
        "\n"
      ]
    },
    {
      "cell_type": "markdown",
      "metadata": {
        "id": "Mp_5BmROiLyj",
        "colab_type": "text"
      },
      "source": [
        "### 2. 函数可以有多个参数吗？"
      ]
    },
    {
      "cell_type": "markdown",
      "metadata": {
        "id": "IdoLId_IiMAm",
        "colab_type": "text"
      },
      "source": [
        "可以的，理论上你想要有多少个就可以有多少个，只不过如果函数的参数过多，在调用的时候出错的机率就会大大提高，因而写这个函数的程序员也会被相应的问候祖宗"
      ]
    },
    {
      "cell_type": "markdown",
      "metadata": {
        "id": "8SocaFqBiMDu",
        "colab_type": "text"
      },
      "source": [
        "### 3. 创建函数使用什么关键字，要注意什么？"
      ]
    },
    {
      "cell_type": "markdown",
      "metadata": {
        "id": "c16LkbitsDcn",
        "colab_type": "text"
      },
      "source": [
        "使用“def”关键字，要注意函数名后边要加上小括号“()”，然后小括号后边是冒号“:”，然后缩进部分均属于函数体的内容\n",
        "\n",
        "\n",
        "\n",
        "```\n",
        "def MyFun():\n",
        "    # 我是函数体\n",
        "    # 我也是函数体\n",
        "    # 我们都属于函数MyFun()\n",
        "\n",
        "# 噢，我不属于MyFun()函数的了\n",
        "```\n",
        "\n"
      ]
    },
    {
      "cell_type": "markdown",
      "metadata": {
        "id": "mg3S51g6sDgh",
        "colab_type": "text"
      },
      "source": [
        "### 5. 请问调用以下这个函数会打印什么内容？\n",
        "\n",
        "\n",
        "```\n",
        " def hello():\n",
        "        print('Hello World!')\n",
        "        return\n",
        "        print('Welcome To FishC.com!')\n",
        "```\n",
        "\n",
        "\n",
        "\n",
        "```\n",
        "Hello World!\n",
        "```\n",
        "\n",
        "当Python执行到return语句的时候，Python认为函数到此结束，需要返回了（尽管没有任何返回值）  \n",
        "***"
      ]
    },
    {
      "cell_type": "markdown",
      "metadata": {
        "id": "-WsCYhVlsDtj",
        "colab_type": "text"
      },
      "source": [
        "### 0. 编写一个函数power()模拟内建函数pow()，即power(x, y)为计算并返回x的y次幂的值。"
      ]
    },
    {
      "cell_type": "code",
      "metadata": {
        "id": "KtR59UrmunNY",
        "colab_type": "code",
        "colab": {
          "base_uri": "https://localhost:8080/",
          "height": 34
        },
        "outputId": "8adc8c3c-c238-4dcb-9ebb-96962a2ce577"
      },
      "source": [
        "def power(x, y):\n",
        "    result = 1\n",
        "    \n",
        "    for i in range(y):\n",
        "        result *= x\n",
        "\n",
        "    return result\n",
        "\n",
        "print(power(2, 1))\n"
      ],
      "execution_count": 20,
      "outputs": [
        {
          "output_type": "stream",
          "text": [
            "2\n"
          ],
          "name": "stdout"
        }
      ]
    },
    {
      "cell_type": "markdown",
      "metadata": {
        "id": "AxxJ9xTtsDw8",
        "colab_type": "text"
      },
      "source": [
        "### 1. 编写一个函数，利用[欧几里得算法](https://baike.baidu.com/item/%E8%BE%97%E8%BD%AC%E7%9B%B8%E9%99%A4%E6%B3%95)求最大公约数，例如gcd(x, y)返回值为参数x和参数y的最大公约数。"
      ]
    },
    {
      "cell_type": "code",
      "metadata": {
        "id": "S6M_fzdnyjVc",
        "colab_type": "code",
        "colab": {
          "base_uri": "https://localhost:8080/",
          "height": 34
        },
        "outputId": "5734f087-5a30-4520-9e21-69a48a02744f"
      },
      "source": [
        "def gcd(x, y):\n",
        "    while y:\n",
        "        t = x % y\n",
        "        x = y\n",
        "        y = t\n",
        "\n",
        "    return x\n",
        "    \n",
        "print(gcd(4, 6))\n"
      ],
      "execution_count": 21,
      "outputs": [
        {
          "output_type": "stream",
          "text": [
            "2\n"
          ],
          "name": "stdout"
        }
      ]
    },
    {
      "cell_type": "markdown",
      "metadata": {
        "id": "nqGMd2XhsDa1",
        "colab_type": "text"
      },
      "source": [
        "### 2. 编写一个将十进制转换为二进制的函数，要求采用“除2取余”（脑补链接）的方式，结果与调用bin()一样返回字符串形式。"
      ]
    },
    {
      "cell_type": "code",
      "metadata": {
        "id": "mp1whJ0Dyu7a",
        "colab_type": "code",
        "colab": {
          "base_uri": "https://localhost:8080/",
          "height": 34
        },
        "outputId": "b1f03af9-7ce9-47fc-cafa-8d8afa76edd5"
      },
      "source": [
        "def Dec2Bin(dec):\n",
        "    temp = []\n",
        "    result = ''\n",
        "    \n",
        "    while dec:\n",
        "        quo = dec % 2\n",
        "        dec = dec // 2\n",
        "        temp.append(quo)\n",
        "\n",
        "    while temp:\n",
        "        result += str(temp.pop())\n",
        "    \n",
        "    return result\n",
        "\n",
        "print(Dec2Bin(62))\n"
      ],
      "execution_count": 22,
      "outputs": [
        {
          "output_type": "stream",
          "text": [
            "111110\n"
          ],
          "name": "stdout"
        }
      ]
    },
    {
      "cell_type": "code",
      "metadata": {
        "id": "nuIcv_9uy4kk",
        "colab_type": "code",
        "colab": {
          "base_uri": "https://localhost:8080/",
          "height": 34
        },
        "outputId": "161dfecb-cf18-4c7b-c863-e45a43882026"
      },
      "source": [
        "print(bin(62))"
      ],
      "execution_count": 23,
      "outputs": [
        {
          "output_type": "stream",
          "text": [
            "0b111110\n"
          ],
          "name": "stdout"
        }
      ]
    },
    {
      "cell_type": "markdown",
      "metadata": {
        "id": "O5YIEVRQzBIj",
        "colab_type": "text"
      },
      "source": [
        "*** \n",
        "***"
      ]
    },
    {
      "cell_type": "markdown",
      "metadata": {
        "id": "HGjrgItKzBL2",
        "colab_type": "text"
      },
      "source": [
        "# 第018讲：函数：灵活即强大 "
      ]
    },
    {
      "cell_type": "markdown",
      "metadata": {
        "id": "R8FuhepBzH_f",
        "colab_type": "text"
      },
      "source": [
        "### 0. 请问以下哪个是形参哪个是实参？ \n",
        "\n",
        "\n",
        "```\n",
        "def MyFun(x):\n",
        "    return x ** 3\n",
        "\n",
        "y = 3\n",
        "print(MyFun(y))\n",
        "\n",
        "```\n",
        "\n",
        "x是形式参数（形参），y是实际参数（实参）  \n",
        "形参指的是函数创建和定义过程中小括号里的参数  \n",
        "实参指的是函数在调用过程中传递进去的参数"
      ]
    },
    {
      "cell_type": "markdown",
      "metadata": {
        "id": "i5s5Ed20zIEk",
        "colab_type": "text"
      },
      "source": [
        "### 1.函数文档和直接用“#”为函数写注释有什么不同？  \n",
        "给函数写文档是为了让别人可以更好的理解你的函数  \n",
        "\n",
        "\n",
        "```\n",
        "def MyFirstFunction(name):\n",
        "        '函数文档在函数定义的最开头部分，用不记名字符串表示'\n",
        "        print('I love FishC.com!')\n",
        "```\n",
        "\n",
        "我们看到在函数开头写下的字符串Ta是不会打印出来的，但Ta会作为函数的一部分存储起来，这个我们称之为函数文档字符串，Ta的功能跟注释是一样的。  \n",
        "\n",
        "函数的文档字符串可以按如下方式访问：\n",
        "```\n",
        " MyFirstFunction.__doc__\n",
        "'函数文档在函数定义的最开头部分，用不记名字符串表示'\n",
        "```\n",
        "\n",
        "\n",
        "\n"
      ]
    },
    {
      "cell_type": "markdown",
      "metadata": {
        "id": "6IVylRa_zIJs",
        "colab_type": "text"
      },
      "source": [
        "help()来访问这个函数也可以看到这个文档字符串：  \n"
      ]
    },
    {
      "cell_type": "code",
      "metadata": {
        "id": "OM_JRHm1285F",
        "colab_type": "code",
        "colab": {}
      },
      "source": [
        ">>> def MyFirstFunction(name):\n",
        "        '函数文档在函数定义的最开头部分，用不记名字符串表示'\n",
        "        print('I love FishC.com!')"
      ],
      "execution_count": 0,
      "outputs": []
    },
    {
      "cell_type": "code",
      "metadata": {
        "id": "KCXTlYvT3AAj",
        "colab_type": "code",
        "colab": {
          "base_uri": "https://localhost:8080/",
          "height": 102
        },
        "outputId": "f679b70c-749a-41b6-d331-dc03a3dca608"
      },
      "source": [
        "help(MyFirstFunction)"
      ],
      "execution_count": 25,
      "outputs": [
        {
          "output_type": "stream",
          "text": [
            "Help on function MyFirstFunction in module __main__:\n",
            "\n",
            "MyFirstFunction(name)\n",
            "    函数文档在函数定义的最开头部分，用不记名字符串表示\n",
            "\n"
          ],
          "name": "stdout"
        }
      ]
    },
    {
      "cell_type": "markdown",
      "metadata": {
        "id": "YrVRBqy5zIPM",
        "colab_type": "text"
      },
      "source": [
        "### 2. 使用关键字参数，可以有效避免什么问题的出现呢？  \n",
        "关键字参数，是指函数在调用的时候，带上参数的名字去指定具体调用的是哪个参数，从而可以不用按照参数的顺序调用函数"
      ]
    },
    {
      "cell_type": "code",
      "metadata": {
        "id": "TaGM1g9Y3eLV",
        "colab_type": "code",
        "colab": {
          "base_uri": "https://localhost:8080/",
          "height": 34
        },
        "outputId": "be48910d-0dc0-46b4-b511-c815ef23b062"
      },
      "source": [
        "def SaySome(name, words):\n",
        "        print(name + '->' + words)\n",
        "\n",
        "SaySome(words='让编程改变世界！', name='小甲鱼')"
      ],
      "execution_count": 26,
      "outputs": [
        {
          "output_type": "stream",
          "text": [
            "小甲鱼->让编程改变世界！\n"
          ],
          "name": "stdout"
        }
      ]
    },
    {
      "cell_type": "markdown",
      "metadata": {
        "id": "MV1lAFGy3k1X",
        "colab_type": "text"
      },
      "source": [
        "使用关键字参数，可以有效避免因不小心搞乱参数的顺序导致的BUG出现"
      ]
    },
    {
      "cell_type": "markdown",
      "metadata": {
        "id": "KmGWsSGy67zK",
        "colab_type": "text"
      },
      "source": [
        "### 3. 使用help(print)查看print()这个BIF有哪些默认参数？分别起到什么作用？"
      ]
    },
    {
      "cell_type": "code",
      "metadata": {
        "id": "3bUNnCEq7rdk",
        "colab_type": "code",
        "colab": {
          "base_uri": "https://localhost:8080/",
          "height": 241
        },
        "outputId": "a5f46c23-e744-4c3c-9741-265f0c8c1ec0"
      },
      "source": [
        "help(print)"
      ],
      "execution_count": 27,
      "outputs": [
        {
          "output_type": "stream",
          "text": [
            "Help on built-in function print in module builtins:\n",
            "\n",
            "print(...)\n",
            "    print(value, ..., sep=' ', end='\\n', file=sys.stdout, flush=False)\n",
            "    \n",
            "    Prints the values to a stream, or to sys.stdout by default.\n",
            "    Optional keyword arguments:\n",
            "    file:  a file-like object (stream); defaults to the current sys.stdout.\n",
            "    sep:   string inserted between values, default a space.\n",
            "    end:   string appended after the last value, default a newline.\n",
            "    flush: whether to forcibly flush the stream.\n",
            "\n"
          ],
          "name": "stdout"
        }
      ]
    },
    {
      "cell_type": "markdown",
      "metadata": {
        "id": "2CfXcplP7tbV",
        "colab_type": "text"
      },
      "source": [
        "*   file:  a file-like object (stream); defaults to the current sys.stdout.    \n",
        "文件类型对象，默认是sys.stdout（标准输出流）\n",
        "*    sep:   string inserted between values, default a space.  \n",
        "第一个参数如果有多个值（第一个参数是收集参数），各个值之间默认用空格（space）隔开\n",
        "*    end:   string appended after the last value, default a newline.  \n",
        "打印最后一个值之后默认参数一个新行标识符(‘\\n’)\n",
        "*    flush: whether to forcibly flush the strea  \n",
        "是否强制刷新流"
      ]
    },
    {
      "cell_type": "markdown",
      "metadata": {
        "id": "HMCxM-1B8Vo2",
        "colab_type": "text"
      },
      "source": [
        "### 4. 默认参数和关键字参数表面最大的区别是什么？"
      ]
    },
    {
      "cell_type": "markdown",
      "metadata": {
        "id": "ncK7R8-gBNsL",
        "colab_type": "text"
      },
      "source": [
        "关键字参数是在函数调用的时候，通过参数名制定需要赋值的参数，这样做就不怕因为搞不清参数的顺序而导致函数调用出错。  \n",
        "默认参数是在参数定义的过程中，为形参赋初值，当函数调用的时候，不传递实参，则默认使用形参的初始值代替。  \n",
        "***"
      ]
    },
    {
      "cell_type": "markdown",
      "metadata": {
        "id": "5_Nq3n6CBbUF",
        "colab_type": "text"
      },
      "source": [
        "###0. 编写一个符合以下要求的函数：\n",
        "    a) 计算打印所有参数的和乘以基数（base=3）的结果\n",
        "    \n",
        "    b) 如果参数中最后一个参数为（base=5），则设定基数为5，基数不参与求和计算。"
      ]
    },
    {
      "cell_type": "code",
      "metadata": {
        "id": "T7rF40nsB3LJ",
        "colab_type": "code",
        "colab": {
          "base_uri": "https://localhost:8080/",
          "height": 34
        },
        "outputId": "36a5a1d6-af37-43af-890c-7c4f27af0af9"
      },
      "source": [
        "def mFun(*param, base=3):\n",
        "    result = 0\n",
        "    for each in param:\n",
        "        result += each\n",
        "\n",
        "    result *= base\n",
        "    \n",
        "    print('结果是：', result)\n",
        "\n",
        "mFun(1, 2, 3, 4, 5, base=5)\n"
      ],
      "execution_count": 28,
      "outputs": [
        {
          "output_type": "stream",
          "text": [
            "结果是： 75\n"
          ],
          "name": "stdout"
        }
      ]
    },
    {
      "cell_type": "markdown",
      "metadata": {
        "id": "-SDGc8xZEOeK",
        "colab_type": "text"
      },
      "source": [
        "###1. 寻找水仙花数\n",
        "\n",
        "如果一个3位数等于其各位数字的立方和，则称这个数为水仙花数。例如153 = 1^3+5^3+3^3，因此153是一个水仙花数。编写一个程序，找出所有的水仙花数。"
      ]
    },
    {
      "cell_type": "code",
      "metadata": {
        "id": "oXrtMxK3Em28",
        "colab_type": "code",
        "colab": {
          "base_uri": "https://localhost:8080/",
          "height": 34
        },
        "outputId": "9608dc50-9612-4636-b567-afc429267c92"
      },
      "source": [
        "def Narcissus():\n",
        "    for each in range(100, 1000):\n",
        "        temp = each\n",
        "        sum = 0\n",
        "        while temp:\n",
        "            sum = sum + (temp%10) ** 3\n",
        "            temp = temp // 10  # 注意这里用地板除\n",
        "\n",
        "        if sum == each:\n",
        "            print(each, end='\\t')\n",
        "\n",
        "print(\"所有的水仙花数分别是：\", end='')\n",
        "Narcissus()\n"
      ],
      "execution_count": 29,
      "outputs": [
        {
          "output_type": "stream",
          "text": [
            "所有的水仙花数分别是：153\t370\t371\t407\t"
          ],
          "name": "stdout"
        }
      ]
    },
    {
      "cell_type": "markdown",
      "metadata": {
        "id": "ZhFUK6aWEtvr",
        "colab_type": "text"
      },
      "source": [
        "### 2. 编写一个函数 findstr()  \n",
        "统计一个长度为 2 的子字符串在另一个字符串中出现的次数。例如：假定输入的字符串为“You cannot improve your past, but you can improve your future. Once time is wasted, life is wasted.”，子字符串为“im”，函数执行后打印“子字母串在目标字符串中共出现 3 次”"
      ]
    },
    {
      "cell_type": "code",
      "metadata": {
        "id": "GYLlRg00GMsm",
        "colab_type": "code",
        "colab": {
          "base_uri": "https://localhost:8080/",
          "height": 88
        },
        "outputId": "610ac068-3bd3-49dd-f4c7-d8bf49825ebd"
      },
      "source": [
        "def findStr(desStr, subStr):\n",
        "    count = 0\n",
        "    length = len(desStr)\n",
        "    if subStr not in desStr:\n",
        "        print('在目标字符串中未找到字符串!')\n",
        "    else:\n",
        "        for each1 in range(length-1):      \n",
        "            if desStr[each1] == subStr[0]:\n",
        "                if desStr[each1+1] == subStr[1]:\n",
        "                    count += 1\n",
        "                    \n",
        "        print('子字符串在目标字符串中共出现 %d 次' % count)\n",
        "\n",
        "desStr = input('请输入目标字符串：')\n",
        "subStr = input('请输入子字符串(两个字符)：')\n",
        "findStr(desStr, subStr)\n"
      ],
      "execution_count": 30,
      "outputs": [
        {
          "output_type": "stream",
          "text": [
            "请输入目标字符串：You cannot improve your past, but you can improve your future. Once time is wasted, life is wasted\n",
            "请输入子字符串(两个字符)：ou\n",
            "子字符串在目标字符串中共出现 4 次\n"
          ],
          "name": "stdout"
        }
      ]
    }
  ]
}