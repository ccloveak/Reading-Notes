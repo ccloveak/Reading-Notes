{
  "nbformat": 4,
  "nbformat_minor": 0,
  "metadata": {
    "colab": {
      "name": "Knowledge Base.ipynb",
      "version": "0.3.2",
      "provenance": [],
      "collapsed_sections": [],
      "include_colab_link": true
    },
    "kernelspec": {
      "name": "python3",
      "display_name": "Python 3"
    }
  },
  "cells": [
    {
      "cell_type": "markdown",
      "metadata": {
        "id": "view-in-github",
        "colab_type": "text"
      },
      "source": [
        "<a href=\"https://colab.research.google.com/github/ccloveak/Study_Notes/blob/master/Knowledge_Base.ipynb\" target=\"_parent\"><img src=\"https://colab.research.google.com/assets/colab-badge.svg\" alt=\"Open In Colab\"/></a>"
      ]
    },
    {
      "cell_type": "markdown",
      "metadata": {
        "id": "xy6UCNzp7fwz",
        "colab_type": "text"
      },
      "source": [
        "#1. SSH"
      ]
    },
    {
      "cell_type": "markdown",
      "metadata": {
        "id": "8-0kRET77ogF",
        "colab_type": "text"
      },
      "source": [
        "###生成SSH key  \n",
        "\n",
        "`$ ssh-keygen -t rsa -C \"superstarzsw@gmail.com\"`"
      ]
    },
    {
      "cell_type": "markdown",
      "metadata": {
        "id": "cXLtZzph742h",
        "colab_type": "text"
      },
      "source": [
        "###确认公钥  \n",
        "\n",
        "\n",
        "```\n",
        "$ cd ~/.ssh\n",
        "$ ls\n",
        "```\n",
        "\n"
      ]
    },
    {
      "cell_type": "markdown",
      "metadata": {
        "id": "VETkxvcE8E_7",
        "colab_type": "text"
      },
      "source": [
        "### 打开公钥  \n",
        "\n",
        "\n",
        "```\n",
        "cat ~/.ssh/id_rsa.pub\n",
        "```\n",
        "\n"
      ]
    },
    {
      "cell_type": "markdown",
      "metadata": {
        "id": "-hqNHaXT82sr",
        "colab_type": "text"
      },
      "source": [
        "###将SSH Key添加到GitHub中  \n",
        "\n",
        "https://github.com/settings/keys"
      ]
    },
    {
      "cell_type": "markdown",
      "metadata": {
        "id": "lfMpYO7u9RN-",
        "colab_type": "text"
      },
      "source": [
        "###测试github是否连接成功  \n",
        "\n",
        "\n",
        "```\n",
        "$ssh -T git@github.com\n",
        "```\n",
        "\n"
      ]
    },
    {
      "cell_type": "markdown",
      "metadata": {
        "id": "136Y3DGF9h2o",
        "colab_type": "text"
      },
      "source": [
        "### 参考\n",
        "[Mac下Github的SSH公钥生成记录](https://www.jianshu.com/p/63edbb08bd5f)"
      ]
    }
  ]
}