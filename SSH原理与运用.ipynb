{
  "nbformat": 4,
  "nbformat_minor": 0,
  "metadata": {
    "colab": {
      "name": "SSH原理与运用.ipynb",
      "version": "0.3.2",
      "provenance": [],
      "collapsed_sections": [],
      "include_colab_link": true
    },
    "kernelspec": {
      "name": "python3",
      "display_name": "Python 3"
    }
  },
  "cells": [
    {
      "cell_type": "markdown",
      "metadata": {
        "id": "view-in-github",
        "colab_type": "text"
      },
      "source": [
        "<a href=\"https://colab.research.google.com/github/ccloveak/Study_Notes/blob/master/SSH%E5%8E%9F%E7%90%86%E4%B8%8E%E8%BF%90%E7%94%A8.ipynb\" target=\"_parent\"><img src=\"https://colab.research.google.com/assets/colab-badge.svg\" alt=\"Open In Colab\"/></a>"
      ]
    },
    {
      "cell_type": "markdown",
      "metadata": {
        "id": "4YNDvbvCD7Gn",
        "colab_type": "text"
      },
      "source": [
        "#1.什么是SSH？"
      ]
    },
    {
      "cell_type": "markdown",
      "metadata": {
        "id": "F-AzJ7iQEG2g",
        "colab_type": "text"
      },
      "source": [
        "SSH是一种网络协议，用于计算机之间的加密登录"
      ]
    },
    {
      "cell_type": "markdown",
      "metadata": {
        "id": "jmqRvaghEKZW",
        "colab_type": "text"
      },
      "source": [
        "如果一个用户从本地计算机，使用SSH协议登录另一台远程计算机，我们就可以认为，这种登录是安全的，即使被中途截获，密码也不会泄露。  \n"
      ]
    },
    {
      "cell_type": "markdown",
      "metadata": {
        "id": "iGEuvyS2Epfb",
        "colab_type": "text"
      },
      "source": [
        "#2.最基本的用法"
      ]
    },
    {
      "cell_type": "markdown",
      "metadata": {
        "id": "bH7w0d9vEwFQ",
        "colab_type": "text"
      },
      "source": [
        "1. 以用户名user，登录远程主机host\n",
        "\n",
        "\n",
        "```\n",
        "　　$ ssh user@host\n",
        "```\n",
        "2. 如果本地用户名与远程用户名一致，登录时可以省略用户名\n",
        "\n",
        "\n",
        "```\n",
        "$ ssh host\n",
        "```\n",
        "3. SSH的默认端口是22，也就是说，你的登录请求会送进远程主机的22端口。使用p参数，可以修改这个端口。ssh直接连接远程主机的2222端口。\n",
        "\n",
        "\n",
        "```\n",
        "　　$ ssh -p 2222 user@host\n",
        "```\n",
        "\n",
        "\n",
        "\n",
        "\n"
      ]
    },
    {
      "cell_type": "markdown",
      "metadata": {
        "id": "Z9vV5usMFgAl",
        "colab_type": "text"
      },
      "source": [
        "#3. 中间人攻击"
      ]
    },
    {
      "cell_type": "markdown",
      "metadata": {
        "id": "-6iRbOXmFiRz",
        "colab_type": "text"
      },
      "source": [
        "SSH之所以能够保证安全，原因在于它采用了公钥加密。  \n",
        "整个过程：\n",
        "\n",
        "1.   远程主机收到用户的登录请求，把自己的公钥发给用户。\n",
        "2. 用户使用这个公钥，将登录密码加密后，发送回来。 \n",
        "3.  远程主机用自己的私钥，解密登录密码，如果密码正确，就同意用户登录。\n",
        "\n",
        "实施的时候存在一个风险：如果有人截获了登录请求，然后冒充远程主机，将伪造的公钥发给用户，那么用户很难辨别真伪。    \n",
        "\"中间人攻击\"（Man-in-the-middle attack）：如果攻击者插在用户与远程主机之间（比如在公共的wifi区域），用伪造的公钥，获取用户的登录密码。再用这个密码登录远程主机，那么SSH的安全机制就荡然无存了。"
      ]
    },
    {
      "cell_type": "markdown",
      "metadata": {
        "id": "TYgVOeSIGdEv",
        "colab_type": "text"
      },
      "source": [
        "#4. 口令登录"
      ]
    },
    {
      "cell_type": "markdown",
      "metadata": {
        "id": "1zajCOuMGdGH",
        "colab_type": "text"
      },
      "source": [
        "如果你是第一次登录对方主机，系统会出现下面的提示：  \n",
        "\n",
        "\n",
        "```\n",
        "$ ssh user@host\n",
        "\n",
        "　　The authenticity of host 'host (12.18.429.21)' can't be established.\n",
        "\n",
        "　　RSA key fingerprint is 98:2e:d7:e0:de:9f:ac:67:28:c2:42:2d:37:16:58:4d.\n",
        "\n",
        "　　Are you sure you want to continue connecting (yes/no)?\n",
        "```\n",
        "假定经过风险衡量以后，用户决定接受这个远程主机的公钥。\n",
        "\n",
        "\n",
        "```\n",
        "Are you sure you want to continue connecting (yes/no)? yes\n",
        "```\n",
        "系统会出现一句提示，表示host主机已经得到认可。\n",
        "\n",
        "\n",
        "\n",
        "```\n",
        "Warning: Permanently added 'host,12.18.429.21' (RSA) to the list of known hosts.\n",
        "```\n",
        "然后，会要求输入密码\n",
        "\n",
        "\n",
        "```\n",
        "　Password: (enter password)\n",
        "```\n",
        "\n",
        "如果密码正确，就可以登录了  \n",
        "\n",
        "当远程主机的公钥被接受以后，它就会被保存在文件$HOME/.ssh/known_hosts之中。下次再连接这台主机，系统就会认出它的公钥已经保存在本地了，从而跳过警告部分，直接提示输入密码。\n",
        "\n",
        "每个SSH用户都有自己的known_hosts文件，此外系统也有一个这样的文件，通常是/etc/ssh/ssh_known_hosts，保存一些对所有用户都可信赖的远程主机的公钥。  \n",
        "\n",
        "\n",
        "\n",
        "\n",
        "\n",
        "\n",
        "\n"
      ]
    },
    {
      "cell_type": "markdown",
      "metadata": {
        "id": "RVKYiGrCH24W",
        "colab_type": "text"
      },
      "source": [
        "#5. 公钥登录"
      ]
    },
    {
      "cell_type": "markdown",
      "metadata": {
        "id": "XAqkjMk3IBeT",
        "colab_type": "text"
      },
      "source": [
        "SSH还提供了公钥登录，可以省去输入密码的步骤。"
      ]
    },
    {
      "cell_type": "markdown",
      "metadata": {
        "id": "V-tUrPb9IEdY",
        "colab_type": "text"
      },
      "source": [
        "用户将自己的公钥储存在远程主机上。登录的时候，远程主机会向用户发送一段随机字符串，用户用自己的私钥加密后，再发回来。远程主机用事先储存的公钥进行解密，如果成功，就证明用户是可信的，直接允许登录shell，不再要求密码。\n",
        "\n"
      ]
    },
    {
      "cell_type": "markdown",
      "metadata": {
        "id": "OYFVbAJBIh6E",
        "colab_type": "text"
      },
      "source": [
        "要求用户必须提供自己的公钥。如果没有现成的，可以直接用ssh-keygen生成一个： \n",
        "\n",
        "\n",
        "```\n",
        "$ ssh-keygen\n",
        "```\n",
        "一路回车。  \n",
        "要不要对私钥设置口令（passphrase）：如果担心私钥的安全，这里可以设置一个。  \n",
        "\n",
        "输入下面的命令，将公钥传送到远程主机host上面  \n",
        "\n",
        "\n",
        "```\n",
        "$ ssh-copy-id user@host\n",
        "```\n",
        "\n",
        "如果还是不行，就打开远程主机的/etc/ssh/sshd_config这个文件，检查下面几行前面\"#\"注释是否取掉。\n",
        "\n",
        "\n",
        "```\n",
        "RSAAuthentication yes\n",
        "　　PubkeyAuthentication yes\n",
        "　　AuthorizedKeysFile .ssh/authorized_keys\n",
        "```  \n",
        "重启远程主机的ssh服务  \n",
        "\n",
        "\n",
        "```\n",
        "　　// ubuntu系统\n",
        "　　service ssh restart\n",
        "\n",
        "　　// debian系统\n",
        "　　/etc/init.d/ssh restart\n",
        "```\n",
        "\n",
        "\n",
        "\n"
      ]
    },
    {
      "cell_type": "markdown",
      "metadata": {
        "id": "cz5jxwERRekF",
        "colab_type": "text"
      },
      "source": [
        "#6. authorized_keys文件"
      ]
    },
    {
      "cell_type": "markdown",
      "metadata": {
        "id": "gtJBUP3MRei8",
        "colab_type": "text"
      },
      "source": [
        "远程主机将用户的公钥，保存在登录后的用户主目录的`$HOME/.ssh/authorized_keys`文件中。公钥就是一段字符串，只要把它追加在`authorized_keys`文件的末尾就行了。"
      ]
    },
    {
      "cell_type": "markdown",
      "metadata": {
        "id": "jYP8uVo3Rrvt",
        "colab_type": "text"
      },
      "source": [
        "**解释公钥的保存过程： **   \n",
        "\n",
        "\n",
        "```\n",
        "$ ssh user@host 'mkdir -p .ssh && cat >> .ssh/authorized_keys' < ~/.ssh/id_rsa.pub\n",
        "\n",
        "\n",
        "``` \n",
        "\n",
        "\n",
        "1.   `\"$ ssh user@host\"`，表示登录远程主机\n",
        "2. 单引号中的`mkdir .ssh && cat >> .ssh/authorized_keys`，表示登录后在远程shell上执行的命令：\n",
        "3. `\"$ mkdir -p .ssh\"`的作用是，如果用户主目录中的.ssh目录不存在，就创建一个；\n",
        "4.  `'cat >> .ssh/authorized_keys' < ~/.ssh/id_rsa.pub`的作用是，将本地的公钥文件`~/.ssh/id_rsa.pub`重定向追加到远程文件`authorized_keys`的末尾。\n",
        "\n",
        "\n",
        "\n",
        "\n",
        "\n"
      ]
    },
    {
      "cell_type": "markdown",
      "metadata": {
        "id": "R1JXWHLkSzDM",
        "colab_type": "text"
      },
      "source": [
        "#7. 远程操作"
      ]
    },
    {
      "cell_type": "markdown",
      "metadata": {
        "id": "ACRuxaU9S3Bl",
        "colab_type": "text"
      },
      "source": [
        "SSH不仅可以用于远程主机登录，还可以直接在远程主机上执行操作。"
      ]
    },
    {
      "cell_type": "markdown",
      "metadata": {
        "id": "69VfjSiIS6LW",
        "colab_type": "text"
      },
      "source": [
        "\n",
        "\n",
        "```\n",
        "　　$ ssh user@host 'mkdir -p .ssh && cat >> .ssh/authorized_keys' < ~/.ssh/id_rsa.pub\n",
        "```\n",
        "单引号中间的部分，表示在远程主机上执行的操作；后面的输入重定向，表示数据通过SSH传向远程主机。  \n",
        "这就是说，SSH可以在用户和远程主机之间，建立命令和数据的传输通道，因此很多事情都可以通过SSH来完成。\n"
      ]
    },
    {
      "cell_type": "markdown",
      "metadata": {
        "id": "DHQxzLR5TCKc",
        "colab_type": "text"
      },
      "source": [
        "将`$HOME/src/`目录下面的所有文件，复制到远程主机的`$HOME/src/`目录。  \n",
        "\n",
        "\n",
        "```\n",
        "$ cd && tar czv src | ssh user@host 'tar xz'\n",
        "```  \n",
        "将远程主机`$HOME/src/`目录下面的所有文件，复制到用户的当前目录。  \n",
        "\n",
        "\n",
        "```\n",
        "$ ssh user@host 'tar cz src' | tar xzv\n",
        "```\n",
        "查看远程主机是否运行进程httpd  \n",
        "\n",
        "\n",
        "```\n",
        "　　$ ssh user@host 'ps ax | grep [h]ttpd'\n",
        "```\n",
        "\n",
        "\n",
        "\n",
        "\n"
      ]
    },
    {
      "cell_type": "markdown",
      "metadata": {
        "id": "SL8SAAygTaY4",
        "colab_type": "text"
      },
      "source": [
        "#8. 绑定本地端口"
      ]
    },
    {
      "cell_type": "markdown",
      "metadata": {
        "id": "hALstnfoTrMy",
        "colab_type": "text"
      },
      "source": [
        "既然SSH可以传送数据，可以让那些不加密的网络连接，全部改走SSH连接，从而提高安全性。"
      ]
    },
    {
      "cell_type": "markdown",
      "metadata": {
        "id": "973UELbsTw0H",
        "colab_type": "text"
      },
      "source": [
        "假定要让8080端口的数据，都通过SSH传向远程主机，命令就这样写  \n",
        "\n",
        "\n",
        "```\n",
        "$ ssh -D 8080 user@host\n",
        "```\n",
        "SSH会建立一个socket，去监听本地的8080端口。一旦有数据传向那个端口，就自动把它转移到SSH连接上面，发往远程主机。可以想象，如果8080端口原来是一个不加密端口，现在将变成一个加密端口。\n"
      ]
    },
    {
      "cell_type": "markdown",
      "metadata": {
        "id": "J3KoMCcQT7ai",
        "colab_type": "text"
      },
      "source": [
        "#9. 本地端口转发"
      ]
    },
    {
      "cell_type": "markdown",
      "metadata": {
        "id": "zytvt76zT_qa",
        "colab_type": "text"
      },
      "source": [
        "绑定本地端口还不够，还必须指定数据传送的目标主机，从而形成点对点的\"端口转发\"。  \n",
        "为了区别后文的\"远程端口转发\"，我们把这种情况称为\"本地端口转发\"（Local forwarding）  \n",
        "\n",
        "假定host1是本地主机，host2是远程主机。由于种种原因，这两台主机之间无法连通。但是，另外还有一台host3，可以同时连通前面两台主机。   \n",
        "很自然的想法就是，通过host3，将host1连上host2。  \n",
        "我们在host1执行下面的命令  \n",
        "\n",
        "\n",
        "```\n",
        "　$ ssh -L 2121:host2:21 host3\n",
        "```\n",
        "\n",
        "命令中的L参数一共接受三个值，分别是\"本地端口:目标主机:目标主机端口\"  \n",
        "指定SSH绑定本地端口2121，然后指定host3将所有的数据，转发到目标主机host2的21端口（假定host2运行FTP，默认端口为21）  \n",
        "只要连接host1的2121端口，就等于连上了host2的21端口  \n",
        "\n",
        "\n",
        "```\n",
        "$ ftp localhost:2121\n",
        "```\n",
        "\n",
        "\"本地端口转发\"使得host1和host3之间仿佛形成一个数据传输的秘密隧道，因此又被称为\"SSH隧道\"。"
      ]
    },
    {
      "cell_type": "markdown",
      "metadata": {
        "id": "sxQlKeocUhJp",
        "colab_type": "text"
      },
      "source": [
        "一个比较有趣的例子  \n",
        "\n",
        "\n",
        "```\n",
        "　$ ssh -L 5900:localhost:5900 host3\n",
        "```\n",
        "\n",
        "将本机的5900端口绑定host3的5900端口（这里的localhost指的是host3，因为目标主机是相对host3而言的）  \n"
      ]
    },
    {
      "cell_type": "markdown",
      "metadata": {
        "id": "YuX_2KcOUqTa",
        "colab_type": "text"
      },
      "source": [
        "另一个例子是通过host3的端口转发，ssh登录host2  \n",
        "\n",
        "\n",
        "```\n",
        "$ ssh -L 9001:host2:22 host3\n",
        "```\n",
        "这时，只要ssh登录本机的9001端口，就相当于登录host2了  \n",
        "\n",
        "\n",
        "```\n",
        "$ ssh -p 9001 localhost\n",
        "```\n",
        "上面的-p参数表示指定登录端口\n",
        "\n"
      ]
    },
    {
      "cell_type": "markdown",
      "metadata": {
        "id": "3kqcxct4U2J9",
        "colab_type": "text"
      },
      "source": [
        "# 10. 远程端口转发"
      ]
    },
    {
      "cell_type": "markdown",
      "metadata": {
        "id": "Ihk6lJSbU69t",
        "colab_type": "text"
      },
      "source": [
        "\"本地端口转发\"是指绑定本地端口的转发  \n",
        "\"远程端口转发\"（remote forwarding）是指绑定远程端口的转发"
      ]
    },
    {
      "cell_type": "markdown",
      "metadata": {
        "id": "pKTCRNSVVACl",
        "colab_type": "text"
      },
      "source": [
        "接着看上面那个例子，host1与host2之间无法连通，必须借助host3转发。但是，特殊情况出现了，host3是一台内网机器，它可以连接外网的host1，但是反过来就不行，外网的host1连不上内网的host3。  \n",
        "解决办法是，既然host3可以连host1，那么就从host3上建立与host1的SSH连接，然后在host1上使用这条连接就可以了。"
      ]
    },
    {
      "cell_type": "markdown",
      "metadata": {
        "id": "DmYV1SFwVMaJ",
        "colab_type": "text"
      },
      "source": [
        "在host3执行下面的命令：  \n",
        "\n",
        "\n",
        "```\n",
        "$ ssh -R 2121:host2:21 host1\n",
        "```\n",
        "R参数也是接受三个值，分别是\"远程主机端口:目标主机:目标主机端口\"。  \n",
        "让host1监听它自己的2121端口，然后将所有数据经由host3，转发到host2的21端口。  \n",
        "由于对于host3来说，host1是远程主机，所以这种情况就被称为\"远程端口绑定\"\n"
      ]
    },
    {
      "cell_type": "markdown",
      "metadata": {
        "id": "J53G5awfVXPP",
        "colab_type": "text"
      },
      "source": [
        "绑定之后，我们在host1就可以连接host2了：  \n",
        "\n",
        "\n",
        "```\n",
        "$ ftp localhost:2121\n",
        "```\n",
        "\"远程端口转发\"的前提条件是，host1和host3两台主机都有sshD和ssh客户端\n"
      ]
    },
    {
      "cell_type": "markdown",
      "metadata": {
        "id": "_jA4C50MVd9R",
        "colab_type": "text"
      },
      "source": [
        "#11. SSH的其他参数"
      ]
    },
    {
      "cell_type": "markdown",
      "metadata": {
        "id": "pg-aovhzVgvG",
        "colab_type": "text"
      },
      "source": [
        "N参数，表示只连接远程主机，不打开远程shell；T参数，表示不为这个连接分配TTY。这个两个参数可以放在一起用，代表这个SSH连接只用来传数据，不执行远程操作。  \n",
        "\n",
        "\n",
        "```\n",
        "$ ssh -NT -D 8080 host\n",
        "```\n",
        "\n"
      ]
    },
    {
      "cell_type": "markdown",
      "metadata": {
        "id": "BRYYOXg3WDwJ",
        "colab_type": "text"
      },
      "source": [
        "f参数，表示SSH连接成功后，转入后台运行。这样一来，你就可以在不中断SSH连接的情况下，在本地shell中执行其他操作  \n",
        "\n",
        "\n",
        "```\n",
        "f参数，表示SSH连接成功后，转入后台运行。这样一来，你就可以在不中断SSH连接的情况下，在本地shell中执行其他操作\n",
        "```\n",
        "\n"
      ]
    },
    {
      "cell_type": "markdown",
      "metadata": {
        "id": "87WLCmYMWKhW",
        "colab_type": "text"
      },
      "source": [
        "#12. 参考文献"
      ]
    },
    {
      "cell_type": "markdown",
      "metadata": {
        "id": "5CntMhUnWOPH",
        "colab_type": "text"
      },
      "source": [
        "Jianing YANG：[ssh隧道技术简介  ](https://wenku.baidu.com/view/f1b4471bbe23482fb4da4ca8.html)  \n",
        "IBM developerWorks: [实战 SSH 端口转发](https://www.ibm.com/developerworks/cn/linux/l-cn-sshforward/index.html)"
      ]
    }
  ]
}