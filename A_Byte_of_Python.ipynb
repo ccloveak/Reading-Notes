{
  "nbformat": 4,
  "nbformat_minor": 0,
  "metadata": {
    "colab": {
      "name": "A Byte of Python.ipynb",
      "version": "0.3.2",
      "provenance": [],
      "collapsed_sections": [],
      "include_colab_link": true
    },
    "kernelspec": {
      "name": "python3",
      "display_name": "Python 3"
    }
  },
  "cells": [
    {
      "cell_type": "markdown",
      "metadata": {
        "id": "view-in-github",
        "colab_type": "text"
      },
      "source": [
        "<a href=\"https://colab.research.google.com/github/ccloveak/Study_Notes/blob/master/A_Byte_of_Python.ipynb\" target=\"_parent\"><img src=\"https://colab.research.google.com/assets/colab-badge.svg\" alt=\"Open In Colab\"/></a>"
      ]
    },
    {
      "cell_type": "code",
      "metadata": {
        "id": "6fSpY-bZMzit",
        "colab_type": "code",
        "outputId": "6f63476e-af94-42a8-e7cb-f384d0f3e6d5",
        "colab": {
          "base_uri": "https://localhost:8080/",
          "height": 37
        }
      },
      "source": [
        "print(\"Hello World\")\n"
      ],
      "execution_count": 0,
      "outputs": [
        {
          "output_type": "stream",
          "text": [
            "Hello World\n"
          ],
          "name": "stdout"
        }
      ]
    },
    {
      "cell_type": "code",
      "metadata": {
        "id": "NdMwFp9FOg14",
        "colab_type": "code",
        "outputId": "876c97da-3f89-4c60-b746-67157b00fc66",
        "colab": {
          "base_uri": "https://localhost:8080/",
          "height": 57
        }
      },
      "source": [
        "age = 20\n",
        "name = 'Swaroop'\n",
        "print('{0} was {1} years old when he wrote this book'.format(name, age))\n",
        "print('Why is {0} playing with that python?'.format(name))"
      ],
      "execution_count": 0,
      "outputs": [
        {
          "output_type": "stream",
          "text": [
            "Swaroop was 20 years old when he wrote this book\n",
            "Why is Swaroop playing with that python?\n"
          ],
          "name": "stdout"
        }
      ]
    },
    {
      "cell_type": "code",
      "metadata": {
        "id": "A3CtSF7BOxTp",
        "colab_type": "code",
        "outputId": "1fa901a4-deed-4763-a4c1-861aa3c2475b",
        "colab": {
          "base_uri": "https://localhost:8080/",
          "height": 37
        }
      },
      "source": [
        "name + 'is' +str(age) + 'years old'\n"
      ],
      "execution_count": 0,
      "outputs": [
        {
          "output_type": "execute_result",
          "data": {
            "text/plain": [
              "'Swaroopis20years old'"
            ]
          },
          "metadata": {
            "tags": []
          },
          "execution_count": 3
        }
      ]
    },
    {
      "cell_type": "markdown",
      "metadata": {
        "id": "0x32VHnVO9ZD",
        "colab_type": "text"
      },
      "source": [
        "Python 中 format 方法所做的事情便是将每个参数值替换至格式所在的位置。"
      ]
    },
    {
      "cell_type": "code",
      "metadata": {
        "id": "JtA1RamrPDRn",
        "colab_type": "code",
        "outputId": "8a15ac4d-b4a8-4fb4-fae0-d2f87188f1d5",
        "colab": {
          "base_uri": "https://localhost:8080/",
          "height": 77
        }
      },
      "source": [
        "# 对于浮点数 '0.333' 保留小数点(.)后三位\n",
        "print('{0:.3f}'.format(1.0/3))\n",
        "# 使用下划线填充文本，并保持文字处于中间位置\n",
        "# 使用 (^) 定义 '___hello___'字符串长度为 11\n",
        "print('{0:_^11}'.format('hello'))\n",
        "# 基于关键词输出 'Swaroop wrote A Byte of Python'\n",
        "print('{name} wrote {book}'.format(name='Swaroop', book='A Byte of Python'))"
      ],
      "execution_count": 0,
      "outputs": [
        {
          "output_type": "stream",
          "text": [
            "0.333\n",
            "___hello___\n",
            "Swaroop wrote A Byte of Python\n"
          ],
          "name": "stdout"
        }
      ]
    },
    {
      "cell_type": "markdown",
      "metadata": {
        "id": "_ZOYr86rPq5u",
        "colab_type": "text"
      },
      "source": [
        "通过 end 指定其应以空白结尾：\n",
        "\n",
        "```\n",
        "print('a', end='')\n",
        "print('b', end='')\n",
        "\n",
        "```\n",
        "\n"
      ]
    },
    {
      "cell_type": "markdown",
      "metadata": {
        "id": "dg5zsHngQmw-",
        "colab_type": "text"
      },
      "source": [
        "原始字符串\n",
        "\n",
        "\n",
        "```\n",
        "r\"Newlines are indicated by \\n\"\n",
        "\n",
        "```\n",
        "\n"
      ]
    },
    {
      "cell_type": "code",
      "metadata": {
        "id": "gPkq2oF2Q3hU",
        "colab_type": "code",
        "outputId": "28eaa09e-0188-495a-88d0-370bcb31d728",
        "colab": {
          "base_uri": "https://localhost:8080/",
          "height": 97
        }
      },
      "source": [
        "i = 5\n",
        "print(i)\n",
        "i = i + 1\n",
        "print(i)\n",
        "s = '''This is a multi-line string.\n",
        "This is the second line.'''\n",
        "print(s)\n"
      ],
      "execution_count": 0,
      "outputs": [
        {
          "output_type": "stream",
          "text": [
            "5\n",
            "6\n",
            "This is a multi-line string.\n",
            "This is the second line.\n"
          ],
          "name": "stdout"
        }
      ]
    },
    {
      "cell_type": "markdown",
      "metadata": {
        "id": "d9CeBGmPRAg7",
        "colab_type": "text"
      },
      "source": [
        "Python 鼓励每一行使用一句独立语句从而使得代码更加可\n",
        "读。"
      ]
    },
    {
      "cell_type": "markdown",
      "metadata": {
        "id": "MlN-EQ6ySLeE",
        "colab_type": "text"
      },
      "source": [
        "乘\n",
        "\n",
        "*  给出两个数的乘积，或返回字符串重复指定次数后的结果。\n",
        "\n",
        "*   2 * 3 输出 6 。 'la' * 3 输出 'lalala' 。\n",
        "\n",
        "\n"
      ]
    },
    {
      "cell_type": "markdown",
      "metadata": {
        "id": "gXx_QXK5SV7r",
        "colab_type": "text"
      },
      "source": [
        "乘方\n",
        "\n",
        "*   返回 x 的 y 次方\n",
        "*   3 ** 4 输出 81 （即 3 * 3 * 3 * 3 ）\n"
      ]
    },
    {
      "cell_type": "markdown",
      "metadata": {
        "id": "g9cv1E-uSqKM",
        "colab_type": "text"
      },
      "source": [
        "// （整除）\n",
        "*  x 除以 y 并对结果向下取整至最接近的整数。\n",
        "*  13 // 3 输出 4 。\n",
        "*  -13 // 3 输出 -5 。"
      ]
    },
    {
      "cell_type": "markdown",
      "metadata": {
        "id": "Ii8fviWSSqRa",
        "colab_type": "text"
      },
      "source": [
        "% （取模）\n",
        "*  返回除法运算后的余数。\n",
        "^  13 % 3 输出 1 。 -25.5 % 2.25 输出 1.5 。\n"
      ]
    },
    {
      "cell_type": "code",
      "metadata": {
        "id": "Q_2mOk0KTaJa",
        "colab_type": "code",
        "outputId": "900c6f79-e2a9-4854-8bbd-63641186ce2d",
        "colab": {
          "base_uri": "https://localhost:8080/",
          "height": 57
        }
      },
      "source": [
        "length = 5\n",
        "breadth = 2\n",
        "area = length * breadth\n",
        "print('Area is', area)\n",
        "print('Perimeter is', 2 * (length + breadth))\n"
      ],
      "execution_count": 0,
      "outputs": [
        {
          "output_type": "stream",
          "text": [
            "Area is 10\n",
            "Perimeter is 14\n"
          ],
          "name": "stdout"
        }
      ]
    },
    {
      "cell_type": "markdown",
      "metadata": {
        "id": "L-fEJ5ZEU1HR",
        "colab_type": "text"
      },
      "source": [
        "if 语句  \n",
        "以检查条件：如果 条件为真（True），我们将运行一块语句（称作 if-block 或 if\n",
        "块），否则 我们将运行另一块语句（称作 else-block 或 else 块）。"
      ]
    },
    {
      "cell_type": "code",
      "metadata": {
        "id": "wZtTy_C5VNOA",
        "colab_type": "code",
        "outputId": "6a1d4615-7436-499d-e534-2291c3076802",
        "colab": {
          "base_uri": "https://localhost:8080/",
          "height": 77
        }
      },
      "source": [
        "number = 23\n",
        "guess = int(input('Enter an integer : '))\n",
        "if guess == number:\n",
        "# 新块从这里开始\n",
        "    print('Congratulations, you guessed it.')\n",
        "    print('(but you do not win any prizes!)')\n",
        "# 新块在这里结束\n",
        "elif guess < number:\n",
        "# 另一代码块\n",
        "    print('No, it is a little higher than that')\n",
        "# 你可以在此做任何你希望在该代码块内进行的事情\n",
        "else:\n",
        "    print('No, it is a little lower than that')\n",
        "# 你必须通过猜测一个大于（>）设置数的数字来到达这里。\n",
        "print('Done')\n"
      ],
      "execution_count": 0,
      "outputs": [
        {
          "output_type": "stream",
          "text": [
            "Enter an integer : 21\n",
            "No, it is a little higher than that\n",
            "Done\n"
          ],
          "name": "stdout"
        }
      ]
    },
    {
      "cell_type": "markdown",
      "metadata": {
        "id": "KLJQJ8NbU1ju",
        "colab_type": "text"
      },
      "source": [
        "while 语句  \n",
        "while 语句能够让你在条件为真的前提下重复执行某块语句。 while 语句是 循环\n",
        "（Looping） 语句的一种。"
      ]
    },
    {
      "cell_type": "code",
      "metadata": {
        "id": "Do_2LKH-VoeL",
        "colab_type": "code",
        "outputId": "48cfb440-38af-4680-d179-6fd30df91a55",
        "colab": {
          "base_uri": "https://localhost:8080/",
          "height": 177
        }
      },
      "source": [
        "number = 23\n",
        "running = True\n",
        "while running:\n",
        "    guess = int(input('Enter an integer : '))\n",
        "    if guess == number:\n",
        "        print('Congratulations, you guessed it.')\n",
        "# 这将导致 while 循环中止\n",
        "        running = False\n",
        "    elif guess < number:\n",
        "        print('No, it is a little higher than that.')\n",
        "    else:\n",
        "        print('No, it is a little lower than that.')\n",
        "else:\n",
        "    print('The while loop is over.')\n",
        "# 在这里你可以做你想做的任何事\n",
        "print('Done')\n"
      ],
      "execution_count": 0,
      "outputs": [
        {
          "output_type": "stream",
          "text": [
            "Enter an integer : 22\n",
            "No, it is a little higher than that.\n",
            "Enter an integer : 24\n",
            "No, it is a little lower than that.\n",
            "Enter an integer : 23\n",
            "Congratulations, you guessed it.\n",
            "The while loop is over.\n",
            "Done\n"
          ],
          "name": "stdout"
        }
      ]
    },
    {
      "cell_type": "markdown",
      "metadata": {
        "id": "-GlGT8nbU1mR",
        "colab_type": "text"
      },
      "source": [
        "for 循环  \n",
        "for...in 语句是另一种循环语句，其特点是会在一系列对象上进行迭代（Iterates），意即它会遍历序列中的每一个项目。\n"
      ]
    },
    {
      "cell_type": "code",
      "metadata": {
        "id": "MXd5E0cZTaTE",
        "colab_type": "code",
        "outputId": "93b1e5db-7706-49de-9484-a50ec0ff52a0",
        "colab": {
          "base_uri": "https://localhost:8080/",
          "height": 117
        }
      },
      "source": [
        "for i in range(1, 5):\n",
        "    print(i)\n",
        "else:\n",
        "    print('The for loop is over')\n"
      ],
      "execution_count": 0,
      "outputs": [
        {
          "output_type": "stream",
          "text": [
            "1\n",
            "2\n",
            "3\n",
            "4\n",
            "The for loop is over\n"
          ],
          "name": "stdout"
        }
      ]
    },
    {
      "cell_type": "markdown",
      "metadata": {
        "id": "vy_rztDZMq8j",
        "colab_type": "text"
      },
      "source": [
        "break 语句  \n",
        "break 语句用以中断（Break）循环语句，也就是中止循环语句的执行，即使循环条件没有变更为 False ，或队列中的项目尚未完全迭代依旧如此。\n"
      ]
    },
    {
      "cell_type": "code",
      "metadata": {
        "id": "_mCVm8NjXHaO",
        "colab_type": "code",
        "outputId": "4f83e449-1067-482e-d219-9228bbfa4b9b",
        "colab": {
          "base_uri": "https://localhost:8080/",
          "height": 137
        }
      },
      "source": [
        "while True:\n",
        "    s = input('Enter something : ')\n",
        "    if s == 'quit':\n",
        "        break\n",
        "    print('Length of the string is', len(s))\n",
        "print('Done')"
      ],
      "execution_count": 0,
      "outputs": [
        {
          "output_type": "stream",
          "text": [
            "Enter something : 23123\n",
            "Length of the string is 5\n",
            "Enter something : 7676\n",
            "Length of the string is 4\n",
            "Enter something : quit\n",
            "Done\n"
          ],
          "name": "stdout"
        }
      ]
    },
    {
      "cell_type": "markdown",
      "metadata": {
        "id": "R0j7JaoMMq_2",
        "colab_type": "text"
      },
      "source": [
        "continue 语句  \n",
        "continue 语句用以告诉 Python 跳过当前循环块中的剩余语句，并继续该循环的下一次迭代。\n"
      ]
    },
    {
      "cell_type": "code",
      "metadata": {
        "id": "w4WTP-UlXi8c",
        "colab_type": "code",
        "colab": {}
      },
      "source": [
        "while True:\n",
        "    s = input('Enter something : ')\n",
        "    if s == 'quit':\n",
        "        break\n",
        "    if len(s) < 3:\n",
        "        print('Too small')\n",
        "        continue\n",
        "    print('Input is of sufficient length')"
      ],
      "execution_count": 0,
      "outputs": []
    },
    {
      "cell_type": "markdown",
      "metadata": {
        "id": "Re4HeSYOMrCr",
        "colab_type": "text"
      },
      "source": [
        "函数  \n",
        "函数（Functions）是指可重复使用的程序片段。它们允许你为某个代码块赋予名字，允许你通过这一特殊的名字在你的程序任何地方来运行代码块，并可重复任何次数。这就是所谓的调用（Calling）函数。\n",
        "\n"
      ]
    },
    {
      "cell_type": "code",
      "metadata": {
        "id": "CiPgGqm5bH-s",
        "colab_type": "code",
        "outputId": "bd690b2d-b3c1-422f-bcd0-262a15438d23",
        "colab": {
          "base_uri": "https://localhost:8080/",
          "height": 57
        }
      },
      "source": [
        "def say_hello():\n",
        "    # 该块属于这一函数\n",
        "    print('hello world')\n",
        "# 函数结束\n",
        "say_hello() # 调用函数\n",
        "say_hello() # 再次调用函数"
      ],
      "execution_count": 0,
      "outputs": [
        {
          "output_type": "stream",
          "text": [
            "hello world\n",
            "hello world\n"
          ],
          "name": "stdout"
        }
      ]
    },
    {
      "cell_type": "markdown",
      "metadata": {
        "id": "Xbb1j5Y8bboW",
        "colab_type": "text"
      },
      "source": [
        "函数参数  \n",
        "函数可以获取参数，这个参数的值由你所提供，借此，函数便可以利用这些值来做一些事情。这些参数与变量类似，这些变量的值在我们调用函数时已被定义，且在函数运行时均已赋值完成。  \n",
        "函数中的参数通过将其放置在用以定义函数的一对圆括号中指定，并通过逗号予以分隔。当我们调用函数时，我们以同样的形式提供需要的值。要注意在此使用的术语——在定义函数时给定的名称称作“形参”（Parameters），在调用函数时你所提供给函数的值称作“实参”（Arguments）。\n"
      ]
    },
    {
      "cell_type": "code",
      "metadata": {
        "id": "5TvBGmbkbrYB",
        "colab_type": "code",
        "outputId": "498e9944-5808-425a-9603-9f0baa532295",
        "colab": {
          "base_uri": "https://localhost:8080/",
          "height": 34
        }
      },
      "source": [
        "def print_max(a, b):\n",
        "    if a > b:\n",
        "        print(a, 'is maximum')\n",
        "    elif a == b:\n",
        "        print(a, 'is equal to', b)\n",
        "    else:\n",
        "        print(b, 'is maximum')\n",
        "# 直接传递字面值\n",
        "print_max(3, 4)"
      ],
      "execution_count": 0,
      "outputs": [
        {
          "output_type": "stream",
          "text": [
            "4 is maximum\n"
          ],
          "name": "stdout"
        }
      ]
    },
    {
      "cell_type": "code",
      "metadata": {
        "id": "GC2UGHajoxEZ",
        "colab_type": "code",
        "outputId": "4774e8e0-bfed-43ba-84ed-71f452d40e04",
        "colab": {
          "base_uri": "https://localhost:8080/",
          "height": 34
        }
      },
      "source": [
        "x = 5\n",
        "y = 7\n",
        "\n",
        "# 以参数的形式传递变量\n",
        "print_max(x, y)"
      ],
      "execution_count": 0,
      "outputs": [
        {
          "output_type": "stream",
          "text": [
            "7 is maximum\n"
          ],
          "name": "stdout"
        }
      ]
    },
    {
      "cell_type": "markdown",
      "metadata": {
        "id": "RJEfO-EYo4mu",
        "colab_type": "text"
      },
      "source": [
        "局部变量  \n",
        "当你在一个函数的定义中声明变量时，它们不会以任何方式与身处函数之外但具有相同名称的变量产生关系，也就是说，这些变量名只存在于函数这一局部（Local）。这被称为变量的作用域（Scope）"
      ]
    },
    {
      "cell_type": "code",
      "metadata": {
        "id": "MeEFZQxDpA2D",
        "colab_type": "code",
        "outputId": "d1503b65-b6c3-4313-f25c-788a567e453d",
        "colab": {
          "base_uri": "https://localhost:8080/",
          "height": 68
        }
      },
      "source": [
        "x = 50\n",
        "\n",
        "\n",
        "def func(x):\n",
        "    print('x is', x)\n",
        "    x = 2\n",
        "    print('Changed local x to', x)\n",
        "\n",
        "\n",
        "func(x)\n",
        "print('x is still', x)"
      ],
      "execution_count": 0,
      "outputs": [
        {
          "output_type": "stream",
          "text": [
            "x is 50\n",
            "Changed local x to 2\n",
            "x is still 50\n"
          ],
          "name": "stdout"
        }
      ]
    },
    {
      "cell_type": "markdown",
      "metadata": {
        "id": "JlamRcG1pUlx",
        "colab_type": "text"
      },
      "source": [
        "global 语句  \n",
        "给一个在程序顶层的变量赋值（也就是说它不存在于任何作用域中，无论是函数还是类），那么你必须告诉 Python 这一变量并非局部的，而是全局（Global）的。我们需要通过 global 语句来完成这件事。\n",
        "\n"
      ]
    },
    {
      "cell_type": "code",
      "metadata": {
        "id": "vnxnmUNhq5vL",
        "colab_type": "code",
        "outputId": "fddcf740-45c4-4d80-f236-28723bc95984",
        "colab": {
          "base_uri": "https://localhost:8080/",
          "height": 68
        }
      },
      "source": [
        "x = 50\n",
        "\n",
        "\n",
        "def func():\n",
        "    global x\n",
        "\n",
        "    print('x is', x)\n",
        "    x = 2\n",
        "    print('Changed global x to', x)\n",
        "\n",
        "\n",
        "func()\n",
        "print('Value of x is', x)"
      ],
      "execution_count": 0,
      "outputs": [
        {
          "output_type": "stream",
          "text": [
            "x is 50\n",
            "Changed global x to 2\n",
            "Value of x is 2\n"
          ],
          "name": "stdout"
        }
      ]
    },
    {
      "cell_type": "markdown",
      "metadata": {
        "id": "GvkHOxBhq7y9",
        "colab_type": "text"
      },
      "source": [
        "默认参数值  \n",
        "使一些参数可选并使用默认的值，以避免用户不想为他们提供值的情况。默认参数值可以有效帮助解决这一情况。"
      ]
    },
    {
      "cell_type": "code",
      "metadata": {
        "id": "sTBF8goerA1k",
        "colab_type": "code",
        "outputId": "f794a9bc-f9bd-43f4-e2b6-d5b5672af5d2",
        "colab": {
          "base_uri": "https://localhost:8080/",
          "height": 51
        }
      },
      "source": [
        "def say(message, times=1):\n",
        "    print(message * times)\n",
        "\n",
        "say('Hello')\n",
        "say('World')"
      ],
      "execution_count": 0,
      "outputs": [
        {
          "output_type": "stream",
          "text": [
            "Hello\n",
            "World\n"
          ],
          "name": "stdout"
        }
      ]
    },
    {
      "cell_type": "markdown",
      "metadata": {
        "id": "zJWWvp_yrV7f",
        "colab_type": "text"
      },
      "source": [
        "只有那些位于参数列表末尾的参数才能被赋予默认参数值，意即在函数的参数列表中拥有默认参数值的参数不能位于没有默认参数值的参数之前。  \n",
        "举例来说，def func(a, b=5) 是有效的，但 def func(a=5, b) 是无效的。\n"
      ]
    },
    {
      "cell_type": "markdown",
      "metadata": {
        "id": "v3bF22gBrlHu",
        "colab_type": "text"
      },
      "source": [
        "关键字参数  \n",
        "具有许多参数的函数，而你又希望只对其中的一些进行指定，那么你可以通过命名它们来给这些参数赋值  \n"
      ]
    },
    {
      "cell_type": "code",
      "metadata": {
        "id": "19QUXWHqr4HY",
        "colab_type": "code",
        "colab": {
          "base_uri": "https://localhost:8080/",
          "height": 68
        },
        "outputId": "a8220eb6-0602-4539-b6de-b1b51a6ce6b9"
      },
      "source": [
        "def func(a, b=5, c=10):\n",
        "    print('a is', a, 'and b is', b, 'and c is', c)\n",
        "\n",
        "func(3, 7)\n",
        "func(25, c=24)\n",
        "func(c=50, a=100)"
      ],
      "execution_count": 27,
      "outputs": [
        {
          "output_type": "stream",
          "text": [
            "a is 3 and b is 7 and c is 10\n",
            "a is 25 and b is 5 and c is 24\n",
            "a is 100 and b is 5 and c is 50\n"
          ],
          "name": "stdout"
        }
      ]
    },
    {
      "cell_type": "markdown",
      "metadata": {
        "id": "5aCg2W6NsNJ3",
        "colab_type": "text"
      },
      "source": [
        "可变参数  \n",
        "想定义的函数里面能够有任意数量的变量，也就是参数数量是可变的，这可以通过使用星号来实现"
      ]
    },
    {
      "cell_type": "code",
      "metadata": {
        "id": "vO2bUlQ7saLv",
        "colab_type": "code",
        "colab": {
          "base_uri": "https://localhost:8080/",
          "height": 170
        },
        "outputId": "8bb5039c-014a-4b16-d3b3-49911bd82e94"
      },
      "source": [
        "def total(a=5, *numbers, **phonebook):\n",
        "    print('a', a)\n",
        "\n",
        "    #遍历元组中的所有项目\n",
        "    for single_item in numbers:\n",
        "        print('single_item', single_item)\n",
        "\n",
        "    #遍历字典中的所有项目\n",
        "    for first_part, second_part in phonebook.items():\n",
        "        print(first_part,second_part)\n",
        "\n",
        "print(total(10,1,2,2,3,Jack=1123,John=2231,Inge=1560))\n"
      ],
      "execution_count": 29,
      "outputs": [
        {
          "output_type": "stream",
          "text": [
            "a 10\n",
            "single_item 1\n",
            "single_item 2\n",
            "single_item 2\n",
            "single_item 3\n",
            "Jack 1123\n",
            "John 2231\n",
            "Inge 1560\n",
            "None\n"
          ],
          "name": "stdout"
        }
      ]
    },
    {
      "cell_type": "markdown",
      "metadata": {
        "id": "bujLtC0_ttY1",
        "colab_type": "text"
      },
      "source": [
        "* 诸如 *param 的星号参数时，从此处开始直到结束的所有位置参数（Positional Arguments）都将被收集并汇集成一个称为“param”的元组（Tuple）。\n",
        "*  我们声明一个诸如` **param` 的双星号参数时，从此处开始直至结束的所有关键字参数都将被收集并汇集成一个名为 param 的字典（Dictionary）。"
      ]
    },
    {
      "cell_type": "markdown",
      "metadata": {
        "id": "PY0qeSn1uRdp",
        "colab_type": "text"
      },
      "source": [
        "return 语句  \n",
        "return 语句用于从函数中返回，也就是中断函数。我们也可以选择在中断函数时从函数中返回一个值。"
      ]
    },
    {
      "cell_type": "code",
      "metadata": {
        "id": "uhL-As2CuZvm",
        "colab_type": "code",
        "colab": {
          "base_uri": "https://localhost:8080/",
          "height": 34
        },
        "outputId": "a9cb06f7-4ca9-4913-ed7e-32a5251057b3"
      },
      "source": [
        "def maximum(x, y):\n",
        "    if x > y:\n",
        "        return x\n",
        "    elif x == y:\n",
        "        return 'The numbers are equal'\n",
        "    else:\n",
        "        return y\n",
        "\n",
        "print(maximum(2, 3))"
      ],
      "execution_count": 30,
      "outputs": [
        {
          "output_type": "stream",
          "text": [
            "3\n"
          ],
          "name": "stdout"
        }
      ]
    },
    {
      "cell_type": "markdown",
      "metadata": {
        "id": "4F2mVgkfup_6",
        "colab_type": "text"
      },
      "source": [
        "有一个名为 max 的内置函数已经实现了“找到最大数”这一功能，所以尽可能地使用这一内置函数。"
      ]
    },
    {
      "cell_type": "markdown",
      "metadata": {
        "id": "n1IbQs5auwV3",
        "colab_type": "text"
      },
      "source": [
        "DocStrings  \n",
        "程序实际运行时，我们甚至可以通过一个函数来获取文档！"
      ]
    },
    {
      "cell_type": "code",
      "metadata": {
        "id": "480Hpc74u7KC",
        "colab_type": "code",
        "colab": {
          "base_uri": "https://localhost:8080/",
          "height": 85
        },
        "outputId": "d565fad6-744a-45e8-9da8-a7a708228a13"
      },
      "source": [
        "def print_max(x, y):\n",
        "    '''打印两个数值中的最大数。\n",
        "\n",
        "    这两个数都应该是整数'''\n",
        "    # 如果可能，将其转换至整数类型\n",
        "    x = int(x)\n",
        "    y = int(y)\n",
        "\n",
        "    if x > y:\n",
        "        print(x, 'is maximum')\n",
        "    else:\n",
        "        print(y, 'is maximum')\n",
        "\n",
        "print_max(3, 5)\n",
        "print(print_max.__doc__)"
      ],
      "execution_count": 31,
      "outputs": [
        {
          "output_type": "stream",
          "text": [
            "5 is maximum\n",
            "打印两个数值中的最大数。\n",
            "\n",
            "    这两个数都应该是整数\n"
          ],
          "name": "stdout"
        }
      ]
    },
    {
      "cell_type": "markdown",
      "metadata": {
        "id": "Y_PLjRQtvAk-",
        "colab_type": "text"
      },
      "source": [
        "第一行逻辑行中的字符串是该函数的 文档字符串（DocString）。这里要注意文档字符串也适用于后面相关章节将提到的模块（Modules）与类（Class）  \n",
        "第一行以某一大写字母开始，以句号结束。第二行为空行，后跟的第三行开始是任何详细的解释说明。"
      ]
    },
    {
      "cell_type": "code",
      "metadata": {
        "id": "YY6mRuCavRgU",
        "colab_type": "code",
        "colab": {
          "base_uri": "https://localhost:8080/",
          "height": 136
        },
        "outputId": "fc8a4a6b-acee-4659-de83-ea3def6a9993"
      },
      "source": [
        "help(print_max)"
      ],
      "execution_count": 32,
      "outputs": [
        {
          "output_type": "stream",
          "text": [
            "Help on function print_max in module __main__:\n",
            "\n",
            "print_max(x, y)\n",
            "    打印两个数值中的最大数。\n",
            "    \n",
            "    这两个数都应该是整数\n",
            "\n"
          ],
          "name": "stdout"
        }
      ]
    },
    {
      "cell_type": "markdown",
      "metadata": {
        "id": "Jfpy05xevXfv",
        "colab_type": "text"
      },
      "source": [
        "1. 编写模块有很多种方法，其中最简单的一种便是创建一个包含函数与变量、以 .py 为后缀的文件。\n",
        "\n",
        "2. 使用撰写 Python 解释器本身的本地语言来编写模块。举例来说，你可以使用 C 语言来撰写 Python 模块，并且在编译后，你可以通过标准 Python 解释器在你的 Python 代码中使用它们。\n"
      ]
    },
    {
      "cell_type": "code",
      "metadata": {
        "id": "ZWU1fR5wwALL",
        "colab_type": "code",
        "colab": {
          "base_uri": "https://localhost:8080/",
          "height": 173
        },
        "outputId": "d75c456c-4cda-4332-9b8f-393dc00b6ce5"
      },
      "source": [
        "import sys\n",
        "\n",
        "print('The command line arguments are:')\n",
        "for i in sys.argv:\n",
        "    print(i)\n",
        "\n",
        "print('\\n\\nThe PYTHONPATH is', sys.path, '\\n')"
      ],
      "execution_count": 33,
      "outputs": [
        {
          "output_type": "stream",
          "text": [
            "The command line arguments are:\n",
            "/usr/local/lib/python3.6/dist-packages/ipykernel_launcher.py\n",
            "-f\n",
            "/root/.local/share/jupyter/runtime/kernel-efbc84de-abc3-4e13-a7b1-db4c424ef313.json\n",
            "\n",
            "\n",
            "The PYTHONPATH is ['', '/env/python', '/usr/lib/python36.zip', '/usr/lib/python3.6', '/usr/lib/python3.6/lib-dynload', '/usr/local/lib/python3.6/dist-packages', '/usr/lib/python3/dist-packages', '/usr/local/lib/python3.6/dist-packages/IPython/extensions', '/root/.ipython'] \n",
            "\n"
          ],
          "name": "stdout"
        }
      ]
    },
    {
      "cell_type": "markdown",
      "metadata": {
        "id": "jc_uf9adwOD2",
        "colab_type": "text"
      },
      "source": [
        "\n",
        "\n",
        "*   通过 import 语句导入 sys 模块。基本上，这句代码将转化为我们告诉 Python 我们希望使用这一模块\n",
        "*   sys 模块包含了与 Python 解释器及其环境相关的功能，也就是所谓的系统功能（system）\n",
        "\n",
        "\n",
        "*   sys.path 内包含了导入模块的字典名称列表。\n",
        "*   当前目录指的是程序启动的目录。你可以通过运行 import os\n",
        "\n",
        "\n",
        "\n"
      ]
    },
    {
      "cell_type": "code",
      "metadata": {
        "id": "eB6cgm8Lw8fE",
        "colab_type": "code",
        "colab": {
          "base_uri": "https://localhost:8080/",
          "height": 34
        },
        "outputId": "3ac14bf0-cfad-4e90-e691-a894e991ef32"
      },
      "source": [
        "import os; \n",
        "print(os.getcwd())"
      ],
      "execution_count": 34,
      "outputs": [
        {
          "output_type": "stream",
          "text": [
            "/content\n"
          ],
          "name": "stdout"
        }
      ]
    },
    {
      "cell_type": "markdown",
      "metadata": {
        "id": "n89yT5iExKpu",
        "colab_type": "text"
      },
      "source": [
        "按字节码编译的 .pyc 文件  \n",
        "* 导入一个模块是一件代价高昂的事情，因此 Python 引入了一些技巧使其能够更快速的完成。其中一种方式便是创建按字节码编译的（Byte-Compiled）文件，这一文件以 .pyc 为其扩展名，是将 Python 转换成中间形式的文件\n",
        "* .pyc 文件通常会创建在与对应的 .py 文件所处的目录中。如果 Python 没有相应的权限对这一目录进行写入文件的操作，那么 .pyc 文件将不会被创建。"
      ]
    },
    {
      "cell_type": "markdown",
      "metadata": {
        "id": "h9mzZC8cxKoh",
        "colab_type": "text"
      },
      "source": [
        "from..import 语句  \n",
        "如果你希望直接将 argv 变量导入你的程序（为了避免每次都要输入 sys.），那么你可以通过使用 from sys import argv 语句来实现这一点。"
      ]
    },
    {
      "cell_type": "code",
      "metadata": {
        "id": "u6VtJVkFxkU7",
        "colab_type": "code",
        "colab": {
          "base_uri": "https://localhost:8080/",
          "height": 34
        },
        "outputId": "a042929f-d1d1-44c2-8ed6-e72ab44ce4ae"
      },
      "source": [
        "from math import sqrt\n",
        "print(\"Square root of 16 is\", sqrt(16))"
      ],
      "execution_count": 35,
      "outputs": [
        {
          "output_type": "stream",
          "text": [
            "Square root of 16 is 4.0\n"
          ],
          "name": "stdout"
        }
      ]
    },
    {
      "cell_type": "markdown",
      "metadata": {
        "id": "IB-USmhFxvz1",
        "colab_type": "text"
      },
      "source": [
        "模块的 `__name__`  \n",
        "每个模块都有一个名称，而模块中的语句可以找到它们所处的模块的名称。这对于确定模块是独立运行的还是被导入进来运行的这一特定目的来说大为有用。正如先前所提到的，当模块第一次被导入时，它所包含的代码将被执行。我们可以通过这一特性来使模块以不同的方式运行，这取决于它是为自己所用还是从其它从的模块中导入而来。这可以通过使用模块的` __name__` 属性来实现。\n",
        "\n"
      ]
    },
    {
      "cell_type": "code",
      "metadata": {
        "id": "HGTCrhSQx_v6",
        "colab_type": "code",
        "colab": {
          "base_uri": "https://localhost:8080/",
          "height": 34
        },
        "outputId": "0c1385d0-633e-4790-c0e8-ae3bcb5ae7c4"
      },
      "source": [
        "if __name__ == '__main__':\n",
        "    print('This program is being run by itself')\n",
        "else:\n",
        "    print('I am being imported from another module')"
      ],
      "execution_count": 36,
      "outputs": [
        {
          "output_type": "stream",
          "text": [
            "This program is being run by itself\n"
          ],
          "name": "stdout"
        }
      ]
    },
    {
      "cell_type": "markdown",
      "metadata": {
        "id": "mAHjYUHfxvyw",
        "colab_type": "text"
      },
      "source": [
        "每一个 Python 模块都定义了它的 __name__ 属性。如果它与 __main__ 属性相同则代表这一模块是由用户独立运行的，因此我们便可以采取适当的行动。"
      ]
    },
    {
      "cell_type": "markdown",
      "metadata": {
        "id": "YVVyrvi7ycmA",
        "colab_type": "text"
      },
      "source": [
        "编写你自己的模块"
      ]
    },
    {
      "cell_type": "code",
      "metadata": {
        "id": "rKeOckAHykNX",
        "colab_type": "code",
        "colab": {}
      },
      "source": [
        "def say_hi():\n",
        "    print('Hi, this is mymodule speaking.')\n",
        "\n",
        "__version__ = '0.1'\n"
      ],
      "execution_count": 0,
      "outputs": []
    },
    {
      "cell_type": "markdown",
      "metadata": {
        "id": "4ofBnlG_y_xD",
        "colab_type": "text"
      },
      "source": [
        "我们使用相同的点符来访问模块中的成员。Python 很好地重用了其中的符号，这充满了“Pythonic”式的气息，这使得我们可以不必学习新的方式来完成同样的事情。"
      ]
    },
    {
      "cell_type": "markdown",
      "metadata": {
        "id": "M59W1yMgzyqD",
        "colab_type": "text"
      },
      "source": [
        "dir 函数  \n",
        "*  内置的 dir() 函数能够返回由对象所定义的名称列表。 如果这一对象是一个模块，则该列表会包括函数内所定义的函数、类与变量。  \n",
        "*  内置的 dir() 函数能够返回由对象所定义的名称列表。 如果这一对象是一个模块，则该列表会包括函数内所定义的函数、类与变量。"
      ]
    },
    {
      "cell_type": "code",
      "metadata": {
        "id": "Ut5whPEL0Eel",
        "colab_type": "code",
        "colab": {
          "base_uri": "https://localhost:8080/",
          "height": 1513
        },
        "outputId": "453c610d-38cd-4dcc-f27f-09921729a1de"
      },
      "source": [
        "import sys\n",
        "dir(sys)"
      ],
      "execution_count": 45,
      "outputs": [
        {
          "output_type": "execute_result",
          "data": {
            "text/plain": [
              "['__displayhook__',\n",
              " '__doc__',\n",
              " '__excepthook__',\n",
              " '__interactivehook__',\n",
              " '__loader__',\n",
              " '__name__',\n",
              " '__package__',\n",
              " '__spec__',\n",
              " '__stderr__',\n",
              " '__stdin__',\n",
              " '__stdout__',\n",
              " '_clear_type_cache',\n",
              " '_current_frames',\n",
              " '_debugmallocstats',\n",
              " '_getframe',\n",
              " '_git',\n",
              " '_home',\n",
              " '_xoptions',\n",
              " 'abiflags',\n",
              " 'api_version',\n",
              " 'argv',\n",
              " 'base_exec_prefix',\n",
              " 'base_prefix',\n",
              " 'builtin_module_names',\n",
              " 'byteorder',\n",
              " 'call_tracing',\n",
              " 'callstats',\n",
              " 'copyright',\n",
              " 'displayhook',\n",
              " 'dont_write_bytecode',\n",
              " 'exc_info',\n",
              " 'excepthook',\n",
              " 'exec_prefix',\n",
              " 'executable',\n",
              " 'exit',\n",
              " 'flags',\n",
              " 'float_info',\n",
              " 'float_repr_style',\n",
              " 'get_asyncgen_hooks',\n",
              " 'get_coroutine_wrapper',\n",
              " 'getallocatedblocks',\n",
              " 'getcheckinterval',\n",
              " 'getdefaultencoding',\n",
              " 'getdlopenflags',\n",
              " 'getfilesystemencodeerrors',\n",
              " 'getfilesystemencoding',\n",
              " 'getprofile',\n",
              " 'getrecursionlimit',\n",
              " 'getrefcount',\n",
              " 'getsizeof',\n",
              " 'getswitchinterval',\n",
              " 'gettrace',\n",
              " 'hash_info',\n",
              " 'hexversion',\n",
              " 'implementation',\n",
              " 'int_info',\n",
              " 'intern',\n",
              " 'is_finalizing',\n",
              " 'last_traceback',\n",
              " 'last_type',\n",
              " 'last_value',\n",
              " 'maxsize',\n",
              " 'maxunicode',\n",
              " 'meta_path',\n",
              " 'modules',\n",
              " 'path',\n",
              " 'path_hooks',\n",
              " 'path_importer_cache',\n",
              " 'platform',\n",
              " 'prefix',\n",
              " 'ps1',\n",
              " 'ps2',\n",
              " 'ps3',\n",
              " 'set_asyncgen_hooks',\n",
              " 'set_coroutine_wrapper',\n",
              " 'setcheckinterval',\n",
              " 'setdlopenflags',\n",
              " 'setprofile',\n",
              " 'setrecursionlimit',\n",
              " 'setswitchinterval',\n",
              " 'settrace',\n",
              " 'stderr',\n",
              " 'stdin',\n",
              " 'stdout',\n",
              " 'thread_info',\n",
              " 'version',\n",
              " 'version_info',\n",
              " 'warnoptions']"
            ]
          },
          "metadata": {
            "tags": []
          },
          "execution_count": 45
        }
      ]
    },
    {
      "cell_type": "code",
      "metadata": {
        "id": "FuPP8Ksg0RMH",
        "colab_type": "code",
        "colab": {
          "base_uri": "https://localhost:8080/",
          "height": 1598
        },
        "outputId": "63fae209-5383-4cb7-c439-3c7119ba75fa"
      },
      "source": [
        "dir()"
      ],
      "execution_count": 46,
      "outputs": [
        {
          "output_type": "execute_result",
          "data": {
            "text/plain": [
              "['In',\n",
              " 'Out',\n",
              " '_',\n",
              " '_3',\n",
              " '_45',\n",
              " '__',\n",
              " '___',\n",
              " '__builtin__',\n",
              " '__builtins__',\n",
              " '__doc__',\n",
              " '__loader__',\n",
              " '__name__',\n",
              " '__package__',\n",
              " '__spec__',\n",
              " '__version__',\n",
              " '_dh',\n",
              " '_i',\n",
              " '_i1',\n",
              " '_i10',\n",
              " '_i11',\n",
              " '_i12',\n",
              " '_i13',\n",
              " '_i14',\n",
              " '_i15',\n",
              " '_i16',\n",
              " '_i17',\n",
              " '_i18',\n",
              " '_i19',\n",
              " '_i2',\n",
              " '_i20',\n",
              " '_i21',\n",
              " '_i22',\n",
              " '_i23',\n",
              " '_i24',\n",
              " '_i25',\n",
              " '_i26',\n",
              " '_i27',\n",
              " '_i28',\n",
              " '_i29',\n",
              " '_i3',\n",
              " '_i30',\n",
              " '_i31',\n",
              " '_i32',\n",
              " '_i33',\n",
              " '_i34',\n",
              " '_i35',\n",
              " '_i36',\n",
              " '_i37',\n",
              " '_i38',\n",
              " '_i39',\n",
              " '_i4',\n",
              " '_i40',\n",
              " '_i41',\n",
              " '_i42',\n",
              " '_i43',\n",
              " '_i44',\n",
              " '_i45',\n",
              " '_i46',\n",
              " '_i5',\n",
              " '_i6',\n",
              " '_i7',\n",
              " '_i8',\n",
              " '_i9',\n",
              " '_ih',\n",
              " '_ii',\n",
              " '_iii',\n",
              " '_oh',\n",
              " '_sh',\n",
              " 'age',\n",
              " 'area',\n",
              " 'breadth',\n",
              " 'exit',\n",
              " 'func',\n",
              " 'get_ipython',\n",
              " 'guess',\n",
              " 'i',\n",
              " 'length',\n",
              " 'maximum',\n",
              " 'name',\n",
              " 'number',\n",
              " 'os',\n",
              " 'print_max',\n",
              " 'quit',\n",
              " 'running',\n",
              " 's',\n",
              " 'say',\n",
              " 'say_hello',\n",
              " 'say_hi',\n",
              " 'sqrt',\n",
              " 'sys',\n",
              " 'total',\n",
              " 'x',\n",
              " 'y']"
            ]
          },
          "metadata": {
            "tags": []
          },
          "execution_count": 46
        }
      ]
    },
    {
      "cell_type": "code",
      "metadata": {
        "id": "C_NCAnbU0T5C",
        "colab_type": "code",
        "colab": {
          "base_uri": "https://localhost:8080/",
          "height": 1649
        },
        "outputId": "897e0dbc-3595-4d54-c4a9-3d84c326b2a9"
      },
      "source": [
        "a = 5\n",
        "dir()"
      ],
      "execution_count": 47,
      "outputs": [
        {
          "output_type": "execute_result",
          "data": {
            "text/plain": [
              "['In',\n",
              " 'Out',\n",
              " '_',\n",
              " '_3',\n",
              " '_45',\n",
              " '_46',\n",
              " '__',\n",
              " '___',\n",
              " '__builtin__',\n",
              " '__builtins__',\n",
              " '__doc__',\n",
              " '__loader__',\n",
              " '__name__',\n",
              " '__package__',\n",
              " '__spec__',\n",
              " '__version__',\n",
              " '_dh',\n",
              " '_i',\n",
              " '_i1',\n",
              " '_i10',\n",
              " '_i11',\n",
              " '_i12',\n",
              " '_i13',\n",
              " '_i14',\n",
              " '_i15',\n",
              " '_i16',\n",
              " '_i17',\n",
              " '_i18',\n",
              " '_i19',\n",
              " '_i2',\n",
              " '_i20',\n",
              " '_i21',\n",
              " '_i22',\n",
              " '_i23',\n",
              " '_i24',\n",
              " '_i25',\n",
              " '_i26',\n",
              " '_i27',\n",
              " '_i28',\n",
              " '_i29',\n",
              " '_i3',\n",
              " '_i30',\n",
              " '_i31',\n",
              " '_i32',\n",
              " '_i33',\n",
              " '_i34',\n",
              " '_i35',\n",
              " '_i36',\n",
              " '_i37',\n",
              " '_i38',\n",
              " '_i39',\n",
              " '_i4',\n",
              " '_i40',\n",
              " '_i41',\n",
              " '_i42',\n",
              " '_i43',\n",
              " '_i44',\n",
              " '_i45',\n",
              " '_i46',\n",
              " '_i47',\n",
              " '_i5',\n",
              " '_i6',\n",
              " '_i7',\n",
              " '_i8',\n",
              " '_i9',\n",
              " '_ih',\n",
              " '_ii',\n",
              " '_iii',\n",
              " '_oh',\n",
              " '_sh',\n",
              " 'a',\n",
              " 'age',\n",
              " 'area',\n",
              " 'breadth',\n",
              " 'exit',\n",
              " 'func',\n",
              " 'get_ipython',\n",
              " 'guess',\n",
              " 'i',\n",
              " 'length',\n",
              " 'maximum',\n",
              " 'name',\n",
              " 'number',\n",
              " 'os',\n",
              " 'print_max',\n",
              " 'quit',\n",
              " 'running',\n",
              " 's',\n",
              " 'say',\n",
              " 'say_hello',\n",
              " 'say_hi',\n",
              " 'sqrt',\n",
              " 'sys',\n",
              " 'total',\n",
              " 'x',\n",
              " 'y']"
            ]
          },
          "metadata": {
            "tags": []
          },
          "execution_count": 47
        }
      ]
    },
    {
      "cell_type": "code",
      "metadata": {
        "id": "RiyfcZ1L0Zl3",
        "colab_type": "code",
        "colab": {
          "base_uri": "https://localhost:8080/",
          "height": 1666
        },
        "outputId": "12f41303-da7a-41d3-c02d-ab1cc144987d"
      },
      "source": [
        "del a\n",
        "\n",
        "dir()"
      ],
      "execution_count": 48,
      "outputs": [
        {
          "output_type": "execute_result",
          "data": {
            "text/plain": [
              "['In',\n",
              " 'Out',\n",
              " '_',\n",
              " '_3',\n",
              " '_45',\n",
              " '_46',\n",
              " '_47',\n",
              " '__',\n",
              " '___',\n",
              " '__builtin__',\n",
              " '__builtins__',\n",
              " '__doc__',\n",
              " '__loader__',\n",
              " '__name__',\n",
              " '__package__',\n",
              " '__spec__',\n",
              " '__version__',\n",
              " '_dh',\n",
              " '_i',\n",
              " '_i1',\n",
              " '_i10',\n",
              " '_i11',\n",
              " '_i12',\n",
              " '_i13',\n",
              " '_i14',\n",
              " '_i15',\n",
              " '_i16',\n",
              " '_i17',\n",
              " '_i18',\n",
              " '_i19',\n",
              " '_i2',\n",
              " '_i20',\n",
              " '_i21',\n",
              " '_i22',\n",
              " '_i23',\n",
              " '_i24',\n",
              " '_i25',\n",
              " '_i26',\n",
              " '_i27',\n",
              " '_i28',\n",
              " '_i29',\n",
              " '_i3',\n",
              " '_i30',\n",
              " '_i31',\n",
              " '_i32',\n",
              " '_i33',\n",
              " '_i34',\n",
              " '_i35',\n",
              " '_i36',\n",
              " '_i37',\n",
              " '_i38',\n",
              " '_i39',\n",
              " '_i4',\n",
              " '_i40',\n",
              " '_i41',\n",
              " '_i42',\n",
              " '_i43',\n",
              " '_i44',\n",
              " '_i45',\n",
              " '_i46',\n",
              " '_i47',\n",
              " '_i48',\n",
              " '_i5',\n",
              " '_i6',\n",
              " '_i7',\n",
              " '_i8',\n",
              " '_i9',\n",
              " '_ih',\n",
              " '_ii',\n",
              " '_iii',\n",
              " '_oh',\n",
              " '_sh',\n",
              " 'age',\n",
              " 'area',\n",
              " 'breadth',\n",
              " 'exit',\n",
              " 'func',\n",
              " 'get_ipython',\n",
              " 'guess',\n",
              " 'i',\n",
              " 'length',\n",
              " 'maximum',\n",
              " 'name',\n",
              " 'number',\n",
              " 'os',\n",
              " 'print_max',\n",
              " 'quit',\n",
              " 'running',\n",
              " 's',\n",
              " 'say',\n",
              " 'say_hello',\n",
              " 'say_hi',\n",
              " 'sqrt',\n",
              " 'sys',\n",
              " 'total',\n",
              " 'x',\n",
              " 'y']"
            ]
          },
          "metadata": {
            "tags": []
          },
          "execution_count": 48
        }
      ]
    },
    {
      "cell_type": "markdown",
      "metadata": {
        "id": "ZDKMMrCEAyYH",
        "colab_type": "text"
      },
      "source": [
        " vars() 函数也可以返回给你这些值的属性"
      ]
    },
    {
      "cell_type": "markdown",
      "metadata": {
        "id": "EP2bNdK3AyVU",
        "colab_type": "text"
      },
      "source": [
        "包  \n",
        "\n",
        "\n",
        "*   变量通常位于函数内部，函数与全局变量通常位于模块内部。如果你希望组织起这些模块的话，应该怎么办？这便是包（Packages）应当登场的时刻。\n",
        "*   包是指一个包含模块与一个特殊的 __init__.py 文件的文件夹，后者向 Python 表明这一文件夹是特别的，因为其包含了 Python 模块。\n",
        "\n"
      ]
    },
    {
      "cell_type": "markdown",
      "metadata": {
        "id": "klsvoMgdBDFE",
        "colab_type": "text"
      },
      "source": [
        "模块是一种可重用的程序。包是用以组织模块的另一种层次结构。Python 所附带的标准库就是这样一组有关包与模块的例子。"
      ]
    },
    {
      "cell_type": "markdown",
      "metadata": {
        "id": "h31Y7E0wBbck",
        "colab_type": "text"
      },
      "source": [
        "数据结构  \n",
        "只是一种结构，能够将一些数据聚合在一起。换句话说，它们是用来存储一系列相关数据的集合"
      ]
    },
    {
      "cell_type": "markdown",
      "metadata": {
        "id": "CljGosauBh6l",
        "colab_type": "text"
      },
      "source": [
        "Python 中有四种内置的数据结构\n",
        "\n",
        "1.   列表（List）\n",
        "2.   元组（Tuple）\n",
        "3.   字典（Dictionary）\n",
        "4.   集合（Set）\n",
        "\n"
      ]
    },
    {
      "cell_type": "markdown",
      "metadata": {
        "id": "8VKUuan-Buc6",
        "colab_type": "text"
      },
      "source": [
        "* 列表 是一种用于保存一系列有序项目的集合  \n",
        "* 列表是使用对象与类的实例"
      ]
    },
    {
      "cell_type": "code",
      "metadata": {
        "id": "cUjev1HUDLnd",
        "colab_type": "code",
        "colab": {
          "base_uri": "https://localhost:8080/",
          "height": 190
        },
        "outputId": "186112ca-2a3d-4c07-d8c5-a0bf48ff55bf"
      },
      "source": [
        "# This is my shopping list\n",
        "shoplist = ['apple', 'mango', 'carrot', 'banana']\n",
        "\n",
        "print('I have', len(shoplist), 'items to purchase.')\n",
        "\n",
        "print('These items are:', end=' ')\n",
        "for item in shoplist:\n",
        "    print(item, end=' ')\n",
        "\n",
        "print('\\nI also have to buy rice.')\n",
        "shoplist.append('rice')\n",
        "print('My shopping list is now', shoplist)\n",
        "\n",
        "print('I will sort my list now')\n",
        "shoplist.sort()\n",
        "print('Sorted shopping list is', shoplist)\n",
        "\n",
        "print('The first item I will buy is', shoplist[0])\n",
        "olditem = shoplist[0]\n",
        "del shoplist[0]\n",
        "print('I bought the', olditem)\n",
        "print('My shopping list is now', shoplist)"
      ],
      "execution_count": 49,
      "outputs": [
        {
          "output_type": "stream",
          "text": [
            "I have 4 items to purchase.\n",
            "These items are: apple mango carrot banana \n",
            "I also have to buy rice.\n",
            "My shopping list is now ['apple', 'mango', 'carrot', 'banana', 'rice']\n",
            "I will sort my list now\n",
            "Sorted shopping list is ['apple', 'banana', 'carrot', 'mango', 'rice']\n",
            "The first item I will buy is apple\n",
            "I bought the apple\n",
            "My shopping list is now ['banana', 'carrot', 'mango', 'rice']\n"
          ],
          "name": "stdout"
        }
      ]
    },
    {
      "cell_type": "markdown",
      "metadata": {
        "id": "PAh6yK5rIKRE",
        "colab_type": "text"
      },
      "source": [
        "元组  \n",
        "* 元组的一大特征类似于字符串，它们是不可变的，也就是说，你不能编辑或更改元组。  \n",
        "* 元组通常用于保证某一语句或某一用户定义的函数可以安全地采用一组数值，意即元组内的数值不会改变。"
      ]
    },
    {
      "cell_type": "code",
      "metadata": {
        "id": "maesRZn3IZ_R",
        "colab_type": "code",
        "colab": {
          "base_uri": "https://localhost:8080/",
          "height": 139
        },
        "outputId": "7fbec16d-3d70-49e0-d53f-6f4df6a03964"
      },
      "source": [
        "zoo = ('python', 'elephant', 'penguin')\n",
        "print('Number of animals in the zoo is', len(zoo))\n",
        "\n",
        "new_zoo = 'monkey', 'camel', zoo\n",
        "print('Number of cages in the new zoo is', len(new_zoo))\n",
        "print('All animals in new zoo are', new_zoo)\n",
        "print('Animals brought from old zoo are', new_zoo[2])\n",
        "print('Last animal brought from old zoo is', new_zoo[2][2])\n",
        "print('Number of animals in the new zoo is',\n",
        "      len(new_zoo)-1+len(new_zoo[2]))"
      ],
      "execution_count": 50,
      "outputs": [
        {
          "output_type": "stream",
          "text": [
            "Number of animals in the zoo is 3\n",
            "Number of cages in the new zoo is 3\n",
            "All animals in new zoo are ('monkey', 'camel', ('python', 'elephant', 'penguin'))\n",
            "Animals brought from old zoo are ('python', 'elephant', 'penguin')\n",
            "Last animal brought from old zoo is penguin\n",
            "Number of animals in the new zoo is 5\n"
          ],
          "name": "stdout"
        }
      ]
    },
    {
      "cell_type": "markdown",
      "metadata": {
        "id": "Gabv0haBJZxs",
        "colab_type": "text"
      },
      "source": [
        "字典  \n",
        "将键值（Keys）（即姓名）与值（Values）（即地址等详细信息）联立到一起。在这里要注意到键值必须是唯一的，正如在现实中面对两个完全同名的人你没办法找出有关他们的正确信息。"
      ]
    },
    {
      "cell_type": "code",
      "metadata": {
        "id": "C_NodP5iJoJT",
        "colab_type": "code",
        "colab": {
          "base_uri": "https://localhost:8080/",
          "height": 170
        },
        "outputId": "b8eb491b-9d96-4a65-c6f7-59804ccaad1c"
      },
      "source": [
        "ab = {\n",
        "    'Swaroop': 'swaroop@swaroopch.com',\n",
        "    'Larry': 'larry@wall.org',\n",
        "    'Matsumoto': 'matz@ruby-lang.org',\n",
        "    'Spammer': 'spammer@hotmail.com'\n",
        "}\n",
        "print(\"Swaroop's address is\", ab['Swaroop'])\n",
        "\n",
        "# 删除一对键值—值配对\n",
        "del ab['Spammer']\n",
        "\n",
        "print('\\nThere are {} contacts in the address-book\\n'.format(len(ab)))\n",
        "\n",
        "for name, address in ab.items():\n",
        "    print('Contact {} at {}'.format(name, address))\n",
        "\n",
        "# 添加一对键值—值配对\n",
        "ab['Guido'] = 'guido@python.org'\n",
        "\n",
        "if 'Guido' in ab:\n",
        "    print(\"\\nGuido's address is\", ab['Guido'])"
      ],
      "execution_count": 51,
      "outputs": [
        {
          "output_type": "stream",
          "text": [
            "Swaroop's address is swaroop@swaroopch.com\n",
            "\n",
            "There are 3 contacts in the address-book\n",
            "\n",
            "Contact Swaroop at swaroop@swaroopch.com\n",
            "Contact Larry at larry@wall.org\n",
            "Contact Matsumoto at matz@ruby-lang.org\n",
            "\n",
            "Guido's address is guido@python.org\n"
          ],
          "name": "stdout"
        }
      ]
    },
    {
      "cell_type": "markdown",
      "metadata": {
        "id": "tU99oeXRKvVZ",
        "colab_type": "text"
      },
      "source": [
        "使用字典的 items 方法来访问字典中的每一对键值—值配对信息，这一操作将返回一份包含元组的列表，每一元组中则包含了每一对相应的信息——键值以及其相应的值"
      ]
    },
    {
      "cell_type": "markdown",
      "metadata": {
        "id": "1BGqbCk0KvUE",
        "colab_type": "text"
      },
      "source": [
        "序列  \n",
        "序列的主要功能是资格测试（Membership Test）（也就是 in 与 not in 表达式）和索引操作（Indexing Operations），它们能够允许我们直接获取序列中的特定项目。"
      ]
    },
    {
      "cell_type": "code",
      "metadata": {
        "id": "gW0Ymw0IN7tk",
        "colab_type": "code",
        "colab": {
          "base_uri": "https://localhost:8080/",
          "height": 272
        },
        "outputId": "b0451a57-5717-43ac-a369-49a89bef8085"
      },
      "source": [
        "shoplist = ['apple', 'mango', 'carrot', 'banana']\n",
        "name = 'swaroop'\n",
        "\n",
        "# Indexing or 'Subscription' operation #\n",
        "# 索引或“下标（Subscription）”操作符 #\n",
        "print('Item 0 is', shoplist[0])\n",
        "print('Item 1 is', shoplist[1])\n",
        "print('Item 2 is', shoplist[2])\n",
        "print('Item 3 is', shoplist[3])\n",
        "print('Item -1 is', shoplist[-1])\n",
        "print('Item -2 is', shoplist[-2])\n",
        "print('Character 0 is', name[0])\n",
        "\n",
        "# Slicing on a list #\n",
        "print('Item 1 to 3 is', shoplist[1:3])\n",
        "print('Item 2 to end is', shoplist[2:])\n",
        "print('Item 1 to -1 is', shoplist[1:-1])\n",
        "print('Item start to end is', shoplist[:])\n",
        "\n",
        "# 从某一字符串中切片 #\n",
        "print('characters 1 to 3 is', name[1:3])\n",
        "print('characters 2 to end is', name[2:])\n",
        "print('characters 1 to -1 is', name[1:-1])\n",
        "print('characters start to end is', name[:])"
      ],
      "execution_count": 52,
      "outputs": [
        {
          "output_type": "stream",
          "text": [
            "Item 0 is apple\n",
            "Item 1 is mango\n",
            "Item 2 is carrot\n",
            "Item 3 is banana\n",
            "Item -1 is banana\n",
            "Item -2 is carrot\n",
            "Character 0 is s\n",
            "Item 1 to 3 is ['mango', 'carrot']\n",
            "Item 2 to end is ['carrot', 'banana']\n",
            "Item 1 to -1 is ['mango', 'carrot']\n",
            "Item start to end is ['apple', 'mango', 'carrot', 'banana']\n",
            "characters 1 to 3 is wa\n",
            "characters 2 to end is aroop\n",
            "characters 1 to -1 is waroo\n",
            "characters start to end is swaroop\n"
          ],
          "name": "stdout"
        }
      ]
    },
    {
      "cell_type": "code",
      "metadata": {
        "id": "29sHQtMaPLeq",
        "colab_type": "code",
        "colab": {
          "base_uri": "https://localhost:8080/",
          "height": 34
        },
        "outputId": "c89d58cc-c362-45bb-fcd2-ae0acb235b69"
      },
      "source": [
        "shoplist[:-1]"
      ],
      "execution_count": 53,
      "outputs": [
        {
          "output_type": "execute_result",
          "data": {
            "text/plain": [
              "['apple', 'mango', 'carrot']"
            ]
          },
          "metadata": {
            "tags": []
          },
          "execution_count": 53
        }
      ]
    },
    {
      "cell_type": "code",
      "metadata": {
        "id": "N--JCS09PWXJ",
        "colab_type": "code",
        "colab": {
          "base_uri": "https://localhost:8080/",
          "height": 34
        },
        "outputId": "76ed21a7-9368-4251-fe3e-cf4b850552d3"
      },
      "source": [
        "shoplist[::-1]"
      ],
      "execution_count": 54,
      "outputs": [
        {
          "output_type": "execute_result",
          "data": {
            "text/plain": [
              "['banana', 'carrot', 'mango', 'apple']"
            ]
          },
          "metadata": {
            "tags": []
          },
          "execution_count": 54
        }
      ]
    },
    {
      "cell_type": "markdown",
      "metadata": {
        "id": "MPCQplWuPvNN",
        "colab_type": "text"
      },
      "source": [
        "集合  \n",
        "* 集合（Set）是简单对象的无序集（Collection）。当集合中的项目存在与否比起次序或其出现次数更加重要时，我们就会使用集合。\n",
        "* 通过使用集合，你可以测试某些对象的资格或情况，检查它们是否是其它集合的子集，找到两个集合的交集，等等。"
      ]
    },
    {
      "cell_type": "code",
      "metadata": {
        "id": "_0KGeEP9P6cY",
        "colab_type": "code",
        "colab": {
          "base_uri": "https://localhost:8080/",
          "height": 34
        },
        "outputId": "b7f96707-ca4a-4f54-ec97-30d6a543cf69"
      },
      "source": [
        "bri = set(['brazil', 'russia', 'india'])\n",
        "'india' in bri\n"
      ],
      "execution_count": 55,
      "outputs": [
        {
          "output_type": "execute_result",
          "data": {
            "text/plain": [
              "True"
            ]
          },
          "metadata": {
            "tags": []
          },
          "execution_count": 55
        }
      ]
    },
    {
      "cell_type": "code",
      "metadata": {
        "id": "njmsjrF8QH7r",
        "colab_type": "code",
        "colab": {
          "base_uri": "https://localhost:8080/",
          "height": 34
        },
        "outputId": "d5cb9266-4372-49f5-fb60-71bf48c55f1e"
      },
      "source": [
        "'usa' in bri"
      ],
      "execution_count": 56,
      "outputs": [
        {
          "output_type": "execute_result",
          "data": {
            "text/plain": [
              "False"
            ]
          },
          "metadata": {
            "tags": []
          },
          "execution_count": 56
        }
      ]
    },
    {
      "cell_type": "code",
      "metadata": {
        "id": "iM3_3Sc-QTeD",
        "colab_type": "code",
        "colab": {
          "base_uri": "https://localhost:8080/",
          "height": 34
        },
        "outputId": "3cd20d95-2e6a-4945-9089-d6d17fba9efb"
      },
      "source": [
        "bric = bri.copy()\n",
        "bric.add('china')\n",
        "bric.issuperset(bri)"
      ],
      "execution_count": 57,
      "outputs": [
        {
          "output_type": "execute_result",
          "data": {
            "text/plain": [
              "True"
            ]
          },
          "metadata": {
            "tags": []
          },
          "execution_count": 57
        }
      ]
    },
    {
      "cell_type": "markdown",
      "metadata": {
        "id": "Wfqx0DsIQ--J",
        "colab_type": "text"
      },
      "source": [
        "引用  \n",
        "创建了一个对象并将其分配给某个变量时，变量只会查阅（Refer）某个对象，并且它也不会代表对象本身  \n",
        "变量名只是指向你计算机内存中存储了相应对象的那一部分。这叫作将名称绑定（Binding）给那一个对象。"
      ]
    },
    {
      "cell_type": "code",
      "metadata": {
        "id": "VqduN2ctRMUm",
        "colab_type": "code",
        "colab": {
          "base_uri": "https://localhost:8080/",
          "height": 119
        },
        "outputId": "283c3b4e-af21-4b73-d794-357b52002438"
      },
      "source": [
        "print('Simple Assignment')\n",
        "shoplist = ['apple', 'mango', 'carrot', 'banana']\n",
        "# mylist 只是指向同一对象的另一种名称\n",
        "mylist = shoplist\n",
        "\n",
        "# 我购买了第一项项目，所以我将其从列表中删除\n",
        "del shoplist[0]\n",
        "\n",
        "print('shoplist is', shoplist)\n",
        "print('mylist is', mylist)\n",
        "# 注意到 shoplist 和 mylist 二者都\n",
        "# 打印出了其中都没有 apple 的同样的列表，以此我们确认\n",
        "# 它们指向的是同一个对象\n",
        "\n",
        "print('Copy by making a full slice')\n",
        "# 通过生成一份完整的切片制作一份列表的副本\n",
        "mylist = shoplist[:]\n",
        "# 删除第一个项目\n",
        "del mylist[0]\n",
        "\n",
        "print('shoplist is', shoplist)\n",
        "print('mylist is', mylist)\n",
        "# 注意到现在两份列表已出现不同"
      ],
      "execution_count": 58,
      "outputs": [
        {
          "output_type": "stream",
          "text": [
            "Simple Assignment\n",
            "shoplist is ['mango', 'carrot', 'banana']\n",
            "mylist is ['mango', 'carrot', 'banana']\n",
            "Copy by making a full slice\n",
            "shoplist is ['mango', 'carrot', 'banana']\n",
            "mylist is ['carrot', 'banana']\n"
          ],
          "name": "stdout"
        }
      ]
    },
    {
      "cell_type": "markdown",
      "metadata": {
        "id": "2XlSKsRjSXzj",
        "colab_type": "text"
      },
      "source": [
        "有关字符串的更多内容\n"
      ]
    },
    {
      "cell_type": "code",
      "metadata": {
        "id": "eoZTJ-_nSd8A",
        "colab_type": "code",
        "colab": {
          "base_uri": "https://localhost:8080/",
          "height": 85
        },
        "outputId": "4953d2bc-82aa-41ee-85a2-90ff1f4d905d"
      },
      "source": [
        "name = 'Swaroop'\n",
        "\n",
        "if name.startswith('Swa'):\n",
        "    print('Yes, the string starts with \"Swa\"')\n",
        "\n",
        "if 'a' in name:\n",
        "    print('Yes, it contains the string \"a\"')\n",
        "\n",
        "if name.find('war') != -1:\n",
        "    print('Yes, it contains the string \"war\"')\n",
        "\n",
        "delimiter = '_*_'\n",
        "mylist = ['Brazil', 'Russia', 'India', 'China']\n",
        "print(delimiter.join(mylist))"
      ],
      "execution_count": 59,
      "outputs": [
        {
          "output_type": "stream",
          "text": [
            "Yes, the string starts with \"Swa\"\n",
            "Yes, it contains the string \"a\"\n",
            "Yes, it contains the string \"war\"\n",
            "Brazil_*_Russia_*_India_*_China\n"
          ],
          "name": "stdout"
        }
      ]
    },
    {
      "cell_type": "markdown",
      "metadata": {
        "id": "JiNV7jQ3URjA",
        "colab_type": "text"
      },
      "source": [
        "问题  \n",
        "备份我所有的重要文件 \n",
        "\n",
        "\n",
        "*   需要备份的文件与目录应在一份列表中予以指定。\n",
        "\n",
        "*   备份必须存储在一个主备份目录中\n",
        "\n",
        "*   备份文件将打包压缩成 zip 文件。\n",
        "\n",
        "*   zip 压缩文件的文件名由当前日期与时间构成。\n",
        "*   我们使用在任何 GNU/Linux 或 Unix 发行版中都会默认提供的标准 zip 命令进行打包。在这里你需要了解到只要有命令行界面，你就可以使用任何需要用到的压缩或归档命令\n",
        "\n",
        "\n",
        "\n",
        "\n"
      ]
    },
    {
      "cell_type": "markdown",
      "metadata": {
        "id": "4xstW83aUl20",
        "colab_type": "text"
      },
      "source": [
        "解决方案  \n",
        "可以开始编写代码，这个过程我们称之为实现（Implementation）我们的解决方案。"
      ]
    },
    {
      "cell_type": "code",
      "metadata": {
        "id": "SR1oFYz-U8ke",
        "colab_type": "code",
        "colab": {}
      },
      "source": [
        "import os\n",
        "import time\n",
        "\n",
        "# 1. 需要备份的文件与目录将被\n",
        "# 指定在一个列表中。\n",
        "# 例如在 Windows 下：\n",
        "# source = ['\"C:\\\\My Documents\"', 'C:\\\\Code']\n",
        "# 又例如在 Mac OS X 与 Linux 下：\n",
        "source = ['/Users/swa/notes']\n",
        "# 在这里要注意到我们必须在字符串中使用双引号\n",
        "# 用以括起其中包含空格的名称。\n",
        "\n",
        "#2. 备份文件必须存储在一个\n",
        "#主备份目录中\n",
        "#例如在 Windows 下：\n",
        "# target_dir = 'E:\\\\Backup'\n",
        "# 又例如在 Mac OS X 和 Linux 下：\n",
        "target_dir = '/Users/swa/backup'\n",
        "# 要记得将这里的目录地址修改至你将使用的路径\n",
        "\n",
        "# 3. 备份文件将打包压缩成 zip 文件。\n",
        "# 4. zip 压缩文件的文件名由当前日期与时间构成。\n",
        "target = target_dir + os.sep + \\\n",
        "         time.strftime('%Y%m%d%H%M%S') + '.zip'\n",
        "\n",
        "# 如果目标目录还不存在，则进行创建\n",
        "if not os.path.exists(target_dir):\n",
        "    os.mkdir(target_dir)  # 创建目录\n",
        "\n",
        "# 5. 我们使用 zip 命令将文件打包成 zip 格式\n",
        "zip_command = 'zip -r {0} {1}'.format(target,\n",
        "                                      ' '.join(source))\n",
        "\n",
        "# 运行备份\n",
        "print('Zip command is:')\n",
        "print(zip_command)\n",
        "print('Running:')\n",
        "if os.system(zip_command) == 0:\n",
        "    print('Successful backup to', target)\n",
        "else:\n",
        "    print('Backup FAILED')"
      ],
      "execution_count": 0,
      "outputs": []
    },
    {
      "cell_type": "markdown",
      "metadata": {
        "id": "QhGQIL-RXDVM",
        "colab_type": "text"
      },
      "source": [
        "软件的维护（Maintenance）阶段"
      ]
    },
    {
      "cell_type": "code",
      "metadata": {
        "id": "HwzGiZTmXQjF",
        "colab_type": "code",
        "colab": {}
      },
      "source": [
        "import os\n",
        "import time\n",
        "\n",
        "# 1. 需要备份的文件与目录将被\n",
        "# 指定在一个列表中。\n",
        "# 例如在 Windows 下：\n",
        "# source = ['\"C:\\\\My Documents\"', 'C:\\\\Code']\n",
        "# 又例如在 Mac OS X 与 Linux 下：\n",
        "source = ['/Users/swa/notes']\n",
        "# 在这里要注意到我们必须在字符串中使用双引号\n",
        "# 用以括起其中包含空格的名称。\n",
        "\n",
        "# 2. 备份文件必须存储在一个\n",
        "# 主备份目录中\n",
        "# 例如在 Windows 下：\n",
        "# target_dir = 'E:\\\\Backup'\n",
        "# 又例如在 Mac OS X 和 Linux 下：\n",
        "target_dir = '/Users/swa/backup'\n",
        "# 要记得将这里的目录地址修改至你将使用的路径\n",
        "\n",
        "# 如果目标目录不存在则创建目录\n",
        "if not os.path.exists(target_dir):\n",
        "    os.mkdir(target_dir)  # 创建目录\n",
        "\n",
        "# 3. 备份文件将打包压缩成 zip 文件。\n",
        "# 4. 将当前日期作为主备份目录下的子目录名称\n",
        "today = target_dir + os.sep + time.strftime('%Y%m%d')\n",
        "# 将当前时间作为 zip 文件的文件名\n",
        "now = time.strftime('%H%M%S')\n",
        "\n",
        "# zip 文件名称格式\n",
        "target = today + os.sep + now + '.zip'\n",
        "\n",
        "# 如果子目录尚不存在则创建一个\n",
        "if not os.path.exists(today):\n",
        "    os.mkdir(today)\n",
        "    print('Successfully created directory', today)\n",
        "\n",
        "# 5. 我们使用 zip 命令将文件打包成 zip 格式\n",
        "zip_command = 'zip -r {0} {1}'.format(target,\n",
        "                                      ' '.join(source))\n",
        "\n",
        "# 运行备份\n",
        "print('Zip command is:')\n",
        "print(zip_command)\n",
        "print('Running:')\n",
        "if os.system(zip_command) == 0:\n",
        "    print('Successful backup to', target)\n",
        "else:\n",
        "    print('Backup FAILED')"
      ],
      "execution_count": 0,
      "outputs": []
    },
    {
      "cell_type": "code",
      "metadata": {
        "id": "aeE2hSsQYVKH",
        "colab_type": "code",
        "colab": {}
      },
      "source": [
        "import os\n",
        "import time\n",
        "\n",
        "# 1. 需要备份的文件与目录将被\n",
        "# 指定在一个列表中。\n",
        "# 例如在 Windows 下：\n",
        "# source = ['\"C:\\\\My Documents\"', 'C:\\\\Code']\n",
        "# 又例如在 Mac OS X 与 Linux 下：\n",
        "source = ['/Users/swa/notes']\n",
        "# 在这里要注意到我们必须在字符串中使用双引号\n",
        "# 用以括起其中包含空格的名称。\n",
        "\n",
        "# 2. 备份文件必须存储在一个\n",
        "# 主备份目录中\n",
        "# 例如在 Windows 下：\n",
        "# target_dir = 'E:\\\\Backup'\n",
        "# 又例如在 Mac OS X 和 Linux 下：\n",
        "target_dir = '/Users/swa/backup'\n",
        "# 要记得将这里的目录地址修改至你将使用的路径\n",
        "\n",
        "# 如果目标目录还不存在，则进行创建\n",
        "if not os.path.exists(target_dir):\n",
        "    os.mkdir(target_dir)  # 创建目录\n",
        "\n",
        "# 3. 备份文件将打包压缩成 zip 文件。\n",
        "# 4. 将当前日期作为主备份目录下的\n",
        "# 子目录名称\n",
        "today = target_dir + os.sep + time.strftime('%Y%m%d')\n",
        "# 将当前时间作为 zip 文件的文件名\n",
        "now = time.strftime('%H%M%S')\n",
        "\n",
        "# 添加一条来自用户的注释以创建\n",
        "# zip 文件的文件名\n",
        "comment = input('Enter a comment --> ')\n",
        "# 检查是否有评论键入\n",
        "if len(comment) == 0:\n",
        "    target = today + os.sep + now + '.zip'\n",
        "else:\n",
        "    target = today + os.sep + now + '_' + \\\n",
        "        comment.replace(' ', '_') + '.zip'\n",
        "\n",
        "# 如果子目录尚不存在则创建一个\n",
        "if not os.path.exists(today):\n",
        "    os.mkdir(today)\n",
        "    print('Successfully created directory', today)\n",
        "\n",
        "# 5. 我们使用 zip 命令将文件打包成 zip 格式\n",
        "zip_command = 'zip -r {0} {1}'.format(target,\n",
        "                                      ' '.join(source))\n",
        "\n",
        "# 运行备份\n",
        "print('Zip command is:')\n",
        "print(zip_command)\n",
        "print('Running:')\n",
        "if os.system(zip_command) == 0:\n",
        "    print('Successful backup to', target)\n",
        "else:\n",
        "    print('Backup FAILED')\n"
      ],
      "execution_count": 0,
      "outputs": []
    },
    {
      "cell_type": "markdown",
      "metadata": {
        "id": "PziXneafdIcN",
        "colab_type": "text"
      },
      "source": [
        "面向对象编程  　　\n",
        "* 类与对象是面向对象编程的两个主要方面  \n",
        "一个类（Class）能够创建一种新的类型（Type），其中对象（Object）就是类的实例（Instance）  \n",
        "* 对象可以使用属于它的普通变量来存储数据。  \n",
        "* 从属于对象或类的变量叫作字段（Field）\n",
        "*  对象还可以使用属于类的函数来实现某些功能，这种函数叫作类的方法（Method）\n",
        "* 字段与方法通称类的属性（Attribute）。\n",
        "\n",
        "字段有两种类型——它们属于某一类的各个实例或对象，或是从属于某一类本身。它们被分别称作实例变量（Instance Variables）与类变量（Class Variables）。\n",
        "\n",
        "\n"
      ]
    },
    {
      "cell_type": "markdown",
      "metadata": {
        "id": "6w6K4NqZjMd8",
        "colab_type": "text"
      },
      "source": [
        "self  \n",
        "类方法与普通函数只有一种特定的区别——前者必须多加一个参数在参数列表开头，这个名字必须添加到参数列表的开头，但是你不用在你调用这个功能时为这个参数赋值，Python 会为它提供。  \n",
        "这种特定的变量引用的是对象本身，按照惯例，它被赋予 self 这一名称。  \n",
        "如果你有一个没有参数的方法，你依旧必须拥有一个参数——self\n"
      ]
    },
    {
      "cell_type": "markdown",
      "metadata": {
        "id": "VHpKJeGQjsD-",
        "colab_type": "text"
      },
      "source": [
        "最简单的类（Class）可以通过下面的案例来展示"
      ]
    },
    {
      "cell_type": "code",
      "metadata": {
        "id": "Mf_nvDZnjuKA",
        "colab_type": "code",
        "colab": {
          "base_uri": "https://localhost:8080/",
          "height": 34
        },
        "outputId": "4a41d30a-f4db-4acb-9557-5c959c1bfeeb"
      },
      "source": [
        "class Person:\n",
        "    pass  # 一个空的代码块\n",
        "\n",
        "p = Person()\n",
        "print(p)"
      ],
      "execution_count": 60,
      "outputs": [
        {
          "output_type": "stream",
          "text": [
            "<__main__.Person object at 0x7fe60a3b2780>\n"
          ],
          "name": "stdout"
        }
      ]
    },
    {
      "cell_type": "markdown",
      "metadata": {
        "id": "pyiYxqsvn0Ei",
        "colab_type": "text"
      },
      "source": [
        "使用 class 语句与这个类的名称来创建一个新类。在它之后是一个缩进的语句块，代表这个类的主体"
      ]
    },
    {
      "cell_type": "markdown",
      "metadata": {
        "id": "-zW5Iy08CI_d",
        "colab_type": "text"
      },
      "source": [
        "方法  \n",
        "类与对象一如函数那般都可以带有方法（Method），唯一的不同在于我们还拥有一个额外的 self 变量\n"
      ]
    },
    {
      "cell_type": "code",
      "metadata": {
        "id": "eNGc0DYWCQjJ",
        "colab_type": "code",
        "colab": {
          "base_uri": "https://localhost:8080/",
          "height": 51
        },
        "outputId": "f65ba8e2-ed9b-4ffd-83a0-9d51528bbca2"
      },
      "source": [
        "class Person:\n",
        "    def say_hi(self):\n",
        "        print('Hello, how are you?')\n",
        "\n",
        "p = Person()\n",
        "p.say_hi()\n",
        "p = Person().say_hi()"
      ],
      "execution_count": 63,
      "outputs": [
        {
          "output_type": "stream",
          "text": [
            "Hello, how are you?\n",
            "Hello, how are you?\n"
          ],
          "name": "stdout"
        }
      ]
    },
    {
      "cell_type": "markdown",
      "metadata": {
        "id": "cVeC9Y6tCqLK",
        "colab_type": "text"
      },
      "source": [
        "__init__ 方法  \n",
        "__init__ 方法会在类的对象被实例化（Instantiated）时立即运行。这一方法可以对任何你想进行操作的目标对象进行初始化（Initialization）操作。"
      ]
    },
    {
      "cell_type": "code",
      "metadata": {
        "id": "khIzobjJC-Xg",
        "colab_type": "code",
        "colab": {
          "base_uri": "https://localhost:8080/",
          "height": 51
        },
        "outputId": "3fdfdbc9-c588-4d23-dcb2-5981195ac397"
      },
      "source": [
        "class Person:\n",
        "    def __init__(self, name):\n",
        "        self.name = name\n",
        "\n",
        "    def say_hi(self):\n",
        "        print('Hello, my name is', self.name)\n",
        "\n",
        "p = Person('Swaroop')\n",
        "p.say_hi()\n",
        "# 前面两行同时也能写作\n",
        "# Person('Swaroop').say_hi()\n",
        "p = Person('Swaroop').say_hi()"
      ],
      "execution_count": 65,
      "outputs": [
        {
          "output_type": "stream",
          "text": [
            "Hello, my name is Swaroop\n",
            "Hello, my name is Swaroop\n"
          ],
          "name": "stdout"
        }
      ]
    },
    {
      "cell_type": "markdown",
      "metadata": {
        "id": "K8toGH6oCqJg",
        "colab_type": "text"
      },
      "source": [
        "我们定义一个接受 name 参数（当然还有 self 参数）的 __init__ 方法。在这里，我们创建了一个字段，同样称为 name。要注意到尽管它们的名字都是“name”，但这是两个不相同的变量。虽说如此，但这并不会造成任何问题，因为 self.name 中的点号意味着这个叫作“name”的东西是某个叫作“self”的对象的一部分，而另一个 name 则是一个局部变量。由于我们已经如上这般明确指出了我们所指的是哪一个名字，所以它不会引发混乱"
      ]
    },
    {
      "cell_type": "markdown",
      "metadata": {
        "id": "87XwFFf8IthX",
        "colab_type": "text"
      },
      "source": [
        "类变量与对象变量  \n",
        "数据部分——也就是字段——只不过是绑定（Bound）到类与对象的命名空间（Namespace）的普通变量  \n",
        "字段（Field）有两种类型——类变量与对象变量，它们根据究竟是类还是对象拥有这些变量来进行分类。\n",
        "\n",
        "*   类变量（Class Variable）是共享的（Shared）——它们可以被属于该类的所有实例访问。该类变量只拥有一个副本，当任何一个对象对类变量作出改变时，发生的变动将在其它所有实例中都会得到体现。\n",
        "*   对象变量（Object variable）由类的每一个独立的对象或实例所拥有。在这种情况下，每个对象都拥有属于它自己的字段的副本，也就是说，它们不会被共享，也不会以任何方式与其它不同实例中的相同名称的字段产生关联。\n",
        "\n"
      ]
    },
    {
      "cell_type": "code",
      "metadata": {
        "id": "NwCPwv8tJAlZ",
        "colab_type": "code",
        "colab": {
          "base_uri": "https://localhost:8080/",
          "height": 272
        },
        "outputId": "511f034f-abf2-47de-ff79-5d64f0e29e98"
      },
      "source": [
        "class Robot:\n",
        "    \"\"\"表示有一个带有名字的机器人。\"\"\"\n",
        "\n",
        "    # 一个类变量，用来计数机器人的数量\n",
        "    population = 0\n",
        "\n",
        "    def __init__(self, name):\n",
        "        \"\"\"初始化数据\"\"\"\n",
        "        self.name = name\n",
        "        print(\"(Initializing {})\".format(self.name))\n",
        "\n",
        "        # 当有人被创建时，机器人\n",
        "        # 将会增加人口数量\n",
        "        Robot.population += 1\n",
        "\n",
        "    def die(self):\n",
        "        \"\"\"我挂了。\"\"\"\n",
        "        print(\"{} is being destroyed!\".format(self.name))\n",
        "\n",
        "        Robot.population -= 1\n",
        "\n",
        "        if Robot.population == 0:\n",
        "            print(\"{} was the last one.\".format(self.name))\n",
        "        else:\n",
        "            print(\"There are still {:d} robots working.\".format(\n",
        "                Robot.population))\n",
        "\n",
        "    def say_hi(self):\n",
        "        \"\"\"来自机器人的诚挚问候\n",
        "\n",
        "        没问题，你做得到。\"\"\"\n",
        "        print(\"Greetings, my masters call me {}.\".format(self.name))\n",
        "\n",
        "    @classmethod\n",
        "    def how_many(cls):\n",
        "        \"\"\"打印出当前的人口数量\"\"\"\n",
        "        print(\"We have {:d} robots.\".format(cls.population))\n",
        "\n",
        "\n",
        "droid1 = Robot(\"R2-D2\")\n",
        "droid1.say_hi()\n",
        "Robot.how_many()\n",
        "\n",
        "droid2 = Robot(\"C-3PO\")\n",
        "droid2.say_hi()\n",
        "Robot.how_many()\n",
        "\n",
        "print(\"\\nRobots can do some work here.\\n\")\n",
        "\n",
        "print(\"Robots have finished their work. So let's destroy them.\")\n",
        "droid1.die()\n",
        "droid2.die()\n",
        "\n",
        "Robot.how_many()"
      ],
      "execution_count": 1,
      "outputs": [
        {
          "output_type": "stream",
          "text": [
            "(Initializing R2-D2)\n",
            "Greetings, my masters call me R2-D2.\n",
            "We have 1 robots.\n",
            "(Initializing C-3PO)\n",
            "Greetings, my masters call me C-3PO.\n",
            "We have 2 robots.\n",
            "\n",
            "Robots can do some work here.\n",
            "\n",
            "Robots have finished their work. So let's destroy them.\n",
            "R2-D2 is being destroyed!\n",
            "There are still 1 robots working.\n",
            "C-3PO is being destroyed!\n",
            "C-3PO was the last one.\n",
            "We have 0 robots.\n"
          ],
          "name": "stdout"
        }
      ]
    }
  ]
}