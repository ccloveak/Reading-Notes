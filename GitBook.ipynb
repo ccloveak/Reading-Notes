{
  "nbformat": 4,
  "nbformat_minor": 0,
  "metadata": {
    "colab": {
      "name": "GitBook.ipynb",
      "version": "0.3.2",
      "provenance": [],
      "collapsed_sections": [
        "1C9uxXdYq8hg",
        "nMzvUJ0grhGS",
        "PP2yPgoUrzvh",
        "jkAFeSZesRsg",
        "Nc7oj6jbtL8u",
        "53CRA_eCtx-g",
        "Wh8yGsLLyUD0",
        "t8exdtjDyvQx",
        "xFLoYFVIzkDP",
        "pZhfH5aS1B9U",
        "Rr3_NXZB1hE4",
        "8Eu7D5FQ1oY1",
        "u4vWE3yOg42K",
        "kGJqD21LgxZu",
        "U0iccQmxhTvf",
        "93hao16MhXBL",
        "1MKrhj4ghXL-",
        "DTfs28PyhXTv",
        "iN1W_kx4hXZK",
        "2hXMHuvFhXeN",
        "2eDbJp6ihXmM",
        "lQXYq-pphXyB",
        "bU0eRA7OhX3f",
        "uguYdlZHpulQ",
        "rlwj6nkYpuzN",
        "r1BRNuoqpupq",
        "qkpN3sZF30aD",
        "zuTNMkwf30l0",
        "sT2yrrgU30sm",
        "rE-4xp5ncMlg",
        "bW439TStcM4P",
        "H8OdJLjanhgG",
        "5o275YydE-9q",
        "7poXQWluE-2Y"
      ],
      "include_colab_link": true
    },
    "kernelspec": {
      "name": "python3",
      "display_name": "Python 3"
    }
  },
  "cells": [
    {
      "cell_type": "markdown",
      "metadata": {
        "id": "view-in-github",
        "colab_type": "text"
      },
      "source": [
        "<a href=\"https://colab.research.google.com/github/ccloveak/Study_Notes/blob/master/GitBook.ipynb\" target=\"_parent\"><img src=\"https://colab.research.google.com/assets/colab-badge.svg\" alt=\"Open In Colab\"/></a>"
      ]
    },
    {
      "cell_type": "markdown",
      "metadata": {
        "id": "1C9uxXdYq8hg",
        "colab_type": "text"
      },
      "source": [
        "#起步"
      ]
    },
    {
      "cell_type": "markdown",
      "metadata": {
        "id": "nMzvUJ0grhGS",
        "colab_type": "text"
      },
      "source": [
        "##1.1 关于版本控制"
      ]
    },
    {
      "cell_type": "markdown",
      "metadata": {
        "id": "tBzLwe4grvva",
        "colab_type": "text"
      },
      "source": [
        "版本控制是一种记录一个或若干文件内容变化，以便将来查阅特定版本修订情况的系统。"
      ]
    },
    {
      "cell_type": "markdown",
      "metadata": {
        "id": "PP2yPgoUrzvh",
        "colab_type": "text"
      },
      "source": [
        "###本地版本控制系统\n"
      ]
    },
    {
      "cell_type": "markdown",
      "metadata": {
        "id": "bmkMShFSr3_P",
        "colab_type": "text"
      },
      "source": [
        "许多人习惯用复制整个项目目录的方式来保存不同的版本，或许还会改名加上备份时间以示区别。 这么做唯一的好处就是简单，但是特别容易犯错。 有时候会混淆所在的工作目录，一不小心会写错文件或者覆盖意想外的文件。"
      ]
    },
    {
      "cell_type": "markdown",
      "metadata": {
        "id": "bUAcTpK7r8i4",
        "colab_type": "text"
      },
      "source": [
        "许多种本地版本控制系统，大多都是采用某种简单的数据库来记录文件的历次更新差异。![本地版本控制.](https://git-scm.com/book/en/v2/images/local.png)"
      ]
    },
    {
      "cell_type": "markdown",
      "metadata": {
        "id": "jkAFeSZesRsg",
        "colab_type": "text"
      },
      "source": [
        "###集中化的版本控制系统"
      ]
    },
    {
      "cell_type": "markdown",
      "metadata": {
        "id": "8kq-HFA9sUdS",
        "colab_type": "text"
      },
      "source": [
        "让在不同系统上的开发者协同工作"
      ]
    },
    {
      "cell_type": "markdown",
      "metadata": {
        "id": "OF7jqyf4sdCF",
        "colab_type": "text"
      },
      "source": [
        "有一个单一的集中管理的服务器，保存所有文件的修订版本，而协同工作的人们都通过客户端连到这台服务器，取出最新的文件或者提交更新![集中化的版本控制](https://git-scm.com/book/en/v2/images/centralized.png)"
      ]
    },
    {
      "cell_type": "markdown",
      "metadata": {
        "id": "VaZGq3LTsdA_",
        "colab_type": "text"
      },
      "source": [
        "###分布式版本控制系统"
      ]
    },
    {
      "cell_type": "markdown",
      "metadata": {
        "id": "Q1iEd8vCsyz5",
        "colab_type": "text"
      },
      "source": [
        "客户端并不只提取最新版本的文件快照，而是把代码仓库完整地镜像下来。 这么一来，任何一处协同工作用的服务器发生故障，事后都可以用任何一个镜像出来的本地仓库恢复。 因为每一次的克隆操作，实际上都是一次对代码仓库的完整备份。![分布式版本控制](https://git-scm.com/book/en/v2/images/distributed.png)\n",
        "许多这类系统都可以指定和若干不同的远端代码仓库进行交互。可以在同一个项目中，分别和不同工作小组的人相互协作。"
      ]
    },
    {
      "cell_type": "markdown",
      "metadata": {
        "id": "LMN2Brv5tKjV",
        "colab_type": "text"
      },
      "source": [
        "***"
      ]
    },
    {
      "cell_type": "markdown",
      "metadata": {
        "id": "Nc7oj6jbtL8u",
        "colab_type": "text"
      },
      "source": [
        "##1.2 Git 简史\n"
      ]
    },
    {
      "cell_type": "markdown",
      "metadata": {
        "id": "nYDkCwH_tSnb",
        "colab_type": "text"
      },
      "source": [
        " Linux 的缔造者 Linus Torvalds基于使用 BitKeeper 时的经验教训，开发出版本系统\n",
        "\n",
        "*   速度\n",
        "\n",
        "*   简单的设计\n",
        "\n",
        "*   对非线性开发模式的强力支持（允许成千上万个并行开发的分支）\n",
        "\n",
        "*   完全分布式\n",
        "\n",
        "*   有能力高效管理类似 Linux 内核一样的超大规模项目（速度和数据量）\n",
        "\n",
        "适合管理大项目，有着令人难以置信的非线性分支管理系统\n"
      ]
    },
    {
      "cell_type": "markdown",
      "metadata": {
        "id": "7cMPfC7Atw3Z",
        "colab_type": "text"
      },
      "source": [
        "***"
      ]
    },
    {
      "cell_type": "markdown",
      "metadata": {
        "id": "53CRA_eCtx-g",
        "colab_type": "text"
      },
      "source": [
        "##1.3 Git 基础"
      ]
    },
    {
      "cell_type": "markdown",
      "metadata": {
        "id": "r7ozPguxt3TA",
        "colab_type": "text"
      },
      "source": [
        "其它版本控制系统（包括 Subversion 和近似工具）![存储每个文件与初始版本的差异](https://git-scm.com/book/en/v2/images/deltas.png)"
      ]
    },
    {
      "cell_type": "markdown",
      "metadata": {
        "id": "75RBhyi5uI3F",
        "colab_type": "text"
      },
      "source": [
        " Git 对待数据更像是一个 快照流。 ![存储项目随时间改变的快照](https://git-scm.com/book/en/v2/images/snapshots.png)"
      ]
    },
    {
      "cell_type": "markdown",
      "metadata": {
        "id": "i3LFQeHDuSrl",
        "colab_type": "text"
      },
      "source": [
        "Git 更像是一个小型的文件系统，提供了许多以此为基础构建的超强工具，而不只是一个简单的 VCS。"
      ]
    },
    {
      "cell_type": "markdown",
      "metadata": {
        "id": "4CK59KAmubF3",
        "colab_type": "text"
      },
      "source": [
        "###近乎所有操作都是本地执行"
      ]
    },
    {
      "cell_type": "markdown",
      "metadata": {
        "id": "c6FBahj8ue3A",
        "colab_type": "text"
      },
      "source": [
        "在 Git 中的绝大多数操作都只需要访问本地文件和资源"
      ]
    },
    {
      "cell_type": "markdown",
      "metadata": {
        "id": "MpCRPjPxuoyQ",
        "colab_type": "text"
      },
      "source": [
        "###Git 保证完整性"
      ]
    },
    {
      "cell_type": "markdown",
      "metadata": {
        "id": "lxnbApzLusbG",
        "colab_type": "text"
      },
      "source": [
        "Git 中所有数据在存储前都计算校验和，然后以校验和来引用。   \n",
        "意味着不可能在 Git 不知情时更改任何文件内容或目录内容。  \n",
        "这个功能建构在 Git 底层，是构成 Git 哲学不可或缺的部分。  \n",
        "Git 用以计算校验和的机制叫做 SHA-1 散列（hash，哈希）  \n",
        "SHA-1 哈希看起来是这样：24b9da6552252987aa493b52f8696cd6d3b00373\n"
      ]
    },
    {
      "cell_type": "markdown",
      "metadata": {
        "id": "kJ1ZewhdvtEA",
        "colab_type": "text"
      },
      "source": [
        ""
      ]
    },
    {
      "cell_type": "markdown",
      "metadata": {
        "id": "wy3N82_avtFi",
        "colab_type": "text"
      },
      "source": [
        "###Git 一般只添加数据"
      ]
    },
    {
      "cell_type": "markdown",
      "metadata": {
        "id": "HmOkFsvNvu-V",
        "colab_type": "text"
      },
      "source": [
        "只往 Git 数据库中增加数据  \n",
        "很难让 Git 执行任何不可逆操作，或者让它以任何方式清除数据。  \n",
        "一旦你提交快照到 Git 中，就难以再丢失数据，特别是如果你定期的推送数据库到其它仓库的话"
      ]
    },
    {
      "cell_type": "markdown",
      "metadata": {
        "id": "oEL5-gbav8rh",
        "colab_type": "text"
      },
      "source": [
        ""
      ]
    },
    {
      "cell_type": "markdown",
      "metadata": {
        "id": "q1YK3Wl_v8tB",
        "colab_type": "text"
      },
      "source": [
        "###三种状态"
      ]
    },
    {
      "cell_type": "markdown",
      "metadata": {
        "id": "IvKY1A8RwAa7",
        "colab_type": "text"
      },
      "source": [
        "Git 有三种状态\n",
        "\n",
        "*   已提交（committed） 已提交表示数据已经安全的保存在本地数据库中。\n",
        "*   已修改（modified）已修改表示修改了文件，但还没保存到数据库中。\n",
        "*   已暂存（staged）已暂存表示对一个已修改文件的当前版本做了标记，使之包含在下次提交的快照中。  \n",
        "\n",
        "Git 项目的三个工作区域的概念：Git 仓库、工作目录以及暂存区域\n",
        "![工作目录、暂存区域以及 Git 仓库](https://git-scm.com/book/en/v2/images/areas.png)  \n",
        "Git 仓库目录是 Git 用来保存项目的元数据和对象数据库的地方。 这是 Git 中最重要的部分，从其它计算机克隆仓库时，拷贝的就是这里的数据。  \n",
        "\n",
        "工作目录是对项目的某个版本独立提取出来的内容。 这些从 Git 仓库的压缩数据库中提取出来的文件，放在磁盘上供你使用或修改。  \n",
        "\n",
        "暂存区域是一个文件，保存了下次将提交的文件列表信息，一般在 Git 仓库目录中。 有时候也被称作`‘索引’'，不过一般说法还是叫暂存区域。\n",
        "\n",
        "基本的 Git 工作流程如下：\n",
        "\n",
        "\n",
        "1. 在工作目录中修改文件。\n",
        "2. 暂存文件，将文件的快照放入暂存区域。\n",
        "3. 提交更新，找到暂存区域的文件，将快照永久性存储到 Git 仓库目录  \n",
        "\n",
        "如果 Git 目录中保存着特定版本的文件，就属于已提交状态。 如果作了修改并已放入暂存区域，就属于已暂存状态。 如果自上次取出后，作了修改但还没有放到暂存区域，就是已修改状态。\n",
        "***\n",
        "\n"
      ]
    },
    {
      "cell_type": "markdown",
      "metadata": {
        "id": "Wh8yGsLLyUD0",
        "colab_type": "text"
      },
      "source": [
        "##1.4 命令行"
      ]
    },
    {
      "cell_type": "markdown",
      "metadata": {
        "id": "AJARVkQlydyK",
        "colab_type": "text"
      },
      "source": [
        "只有在命令行模式下你才能执行 Git 的 所有 命令，而大多数的 GUI 软件只实现了 Git 所有功能的一个子集以降低操作难度。  \n",
        "学会了在命令行下如何操作，那么在操作 GUI 软件时应该也不会遇到什么困难\n",
        "***"
      ]
    },
    {
      "cell_type": "markdown",
      "metadata": {
        "id": "WNY59xGqyriD",
        "colab_type": "text"
      },
      "source": [
        "##1.5 安装 Git"
      ]
    },
    {
      "cell_type": "markdown",
      "metadata": {
        "id": "t8exdtjDyvQx",
        "colab_type": "text"
      },
      "source": [
        "####在 Mac 上安装"
      ]
    },
    {
      "cell_type": "markdown",
      "metadata": {
        "id": "SMglwee3y7rW",
        "colab_type": "text"
      },
      "source": [
        "[OSX Git 安装程序](http://git-scm.com/download/mac)\n",
        "***"
      ]
    },
    {
      "cell_type": "markdown",
      "metadata": {
        "id": "xFLoYFVIzkDP",
        "colab_type": "text"
      },
      "source": [
        "##1.6 初次运行 Git 前的配置\n"
      ]
    },
    {
      "cell_type": "markdown",
      "metadata": {
        "id": "vk8va0Kgz7UQ",
        "colab_type": "text"
      },
      "source": [
        "每台计算机上只需要配置一次，程序升级时会保留配置信息。"
      ]
    },
    {
      "cell_type": "markdown",
      "metadata": {
        "id": "_uR96aOs0Aav",
        "colab_type": "text"
      },
      "source": [
        "Git 自带一个 git config 的工具来帮助设置控制 Git 外观和行为的配置变量。  \n",
        "这些变量存储在三个不同的位置：  \n",
        "\n",
        "\n",
        "1.   /etc/gitconfig 文件: 包含系统上每一个用户及他们仓库的通用配置。 如果使用带有 --system 选项的 git config 时，它会从此文件读写配置变量。\n",
        "2.   ~/.gitconfig 或 ~/.config/git/config 文件：只针对当前用户。 可以传递 --global 选项让 Git 读写此文件。\n",
        "3. 当前使用仓库的 Git 目录中的 config 文件（就是 .git/config）：针对该仓库  \n",
        "\n",
        "每一个级别覆盖上一级别的配置，所以 .git/config 的配置变量会覆盖 /etc/gitconfig 中的配置变量。\n"
      ]
    },
    {
      "cell_type": "markdown",
      "metadata": {
        "id": "0cdT9BAu0Wen",
        "colab_type": "text"
      },
      "source": [
        "###用户信息\n",
        "第一件事就是设置用户名称与邮件地址  \n",
        "每一个 Git 的提交都会使用这些信息，并且它会写入到你的每一次提交中，不可更改\n",
        "\n",
        "```\n",
        "$ git config --global user.name \"ccloveak\"\n",
        "$ git config --global user.email johndoe@example.com\n",
        "```\n",
        "\n"
      ]
    },
    {
      "cell_type": "markdown",
      "metadata": {
        "id": "Rbjg_v9j0y7U",
        "colab_type": "text"
      },
      "source": [
        "###文本编辑器\n",
        "Git 需要你输入信息时会调用它  \n",
        "Git 会使用操作系统默认的文本编辑器，通常是 Vim"
      ]
    },
    {
      "cell_type": "markdown",
      "metadata": {
        "id": "pZhfH5aS1B9U",
        "colab_type": "text"
      },
      "source": [
        "###检查配置信息 \n",
        "使用` git config --list `命令"
      ]
    },
    {
      "cell_type": "markdown",
      "metadata": {
        "id": "EN9Ly52F1Qnj",
        "colab_type": "text"
      },
      "source": [
        "输入 `git config <key> `来检查 Git 的某一项配置  \n",
        "\n",
        "\n",
        "```\n",
        "$ git config user.name\n",
        "ccloveak\n",
        "```\n",
        "***\n",
        "\n"
      ]
    },
    {
      "cell_type": "markdown",
      "metadata": {
        "id": "Rr3_NXZB1hE4",
        "colab_type": "text"
      },
      "source": [
        "##1.7 获取帮助\n"
      ]
    },
    {
      "cell_type": "markdown",
      "metadata": {
        "id": "hY5GyZwN1oaB",
        "colab_type": "text"
      },
      "source": [
        "三种方法可以找到 Git 命令的使用手册：\n",
        "\n",
        "1.   `git help <verb>`\n",
        "2.   `git <verb> --help`\n",
        "3.   `$ man git-<verb>`\n",
        "例如 要想获得 config 命令的手册  \n",
        "\n",
        "\n",
        "```\n",
        "$ git help config\n",
        "```\n",
        "\n",
        "***\n",
        "\n"
      ]
    },
    {
      "cell_type": "markdown",
      "metadata": {
        "id": "8Eu7D5FQ1oY1",
        "colab_type": "text"
      },
      "source": [
        "##1.8  总结\n"
      ]
    },
    {
      "cell_type": "markdown",
      "metadata": {
        "id": "EY7B1M74ggZF",
        "colab_type": "text"
      },
      "source": [
        "\n",
        "```\n",
        "$ git version\n",
        "\n",
        "git version 2.19.2\n",
        "```\n",
        "***\n",
        "***"
      ]
    },
    {
      "cell_type": "markdown",
      "metadata": {
        "id": "u4vWE3yOg42K",
        "colab_type": "text"
      },
      "source": [
        "#Git 基础"
      ]
    },
    {
      "cell_type": "markdown",
      "metadata": {
        "id": "kGJqD21LgxZu",
        "colab_type": "text"
      },
      "source": [
        "##2.1 获取 Git 仓库"
      ]
    },
    {
      "cell_type": "markdown",
      "metadata": {
        "id": "U0iccQmxhTvf",
        "colab_type": "text"
      },
      "source": [
        "###获取 Git 仓库"
      ]
    },
    {
      "cell_type": "markdown",
      "metadata": {
        "id": "rucwRtVvhV9q",
        "colab_type": "text"
      },
      "source": [
        "两种取得 Git 项目仓库的方法：  \n",
        "第一种是在现有项目或目录下导入所有文件到 Git 中；   \n",
        "第二种是从一个服务器克隆一个现有的 Git 仓库。"
      ]
    },
    {
      "cell_type": "markdown",
      "metadata": {
        "id": "93hao16MhXBL",
        "colab_type": "text"
      },
      "source": [
        "###在现有目录中初始化仓库"
      ]
    },
    {
      "cell_type": "markdown",
      "metadata": {
        "id": "twp42gPyhXEM",
        "colab_type": "text"
      },
      "source": [
        "用 Git 来对现有的项目进行管理，你只需要进入该项目目录并输入\n",
        "\n",
        "```\n",
        "$ git init\n",
        "```\n",
        "\n"
      ]
    },
    {
      "cell_type": "markdown",
      "metadata": {
        "id": "dULsEdpahXGn",
        "colab_type": "text"
      },
      "source": [
        "在一个已经存在文件的文件夹（而不是空文件夹）中初始化 Git 仓库来进行版本控制，应该开始跟踪这些文件并提交  \n",
        "通过 git add 命令来实现对指定文件的跟踪，然后执行 git commit 提交：\n",
        "\n"
      ]
    },
    {
      "cell_type": "markdown",
      "metadata": {
        "id": "AWBw3uwphXJQ",
        "colab_type": "text"
      },
      "source": [
        "\n",
        "\n",
        "```\n",
        "$ git add *.c\n",
        "$ git add LICENSE\n",
        "$ git commit -m 'initial project version'\n",
        "```\n",
        "\n"
      ]
    },
    {
      "cell_type": "markdown",
      "metadata": {
        "id": "1MKrhj4ghXL-",
        "colab_type": "text"
      },
      "source": [
        "###克隆现有的仓库  \n",
        "举例：  \n",
        "要克隆 Git 的可链接库 libgit2：  \n",
        "\n",
        "\n",
        "```\n",
        "$ git clone https://github.com/libgit2/libgit2\n",
        "```\n",
        "\n",
        "会在当前目录下创建一个名为 “libgit2” 的目录，并在这个目录下初始化一个 .git 文件夹，从远程仓库拉取下所有数据放入 .git 文件夹，然后从中读取最新版本的文件的拷贝"
      ]
    },
    {
      "cell_type": "markdown",
      "metadata": {
        "id": "QwlnaJ2fhXOn",
        "colab_type": "text"
      },
      "source": [
        "在克隆远程仓库的时候，自定义本地仓库的名字：  \n",
        "\n",
        "\n",
        "```\n",
        "$ git clone https://github.com/libgit2/libgit2 mylibgit\n",
        "```\n",
        "\n"
      ]
    },
    {
      "cell_type": "markdown",
      "metadata": {
        "id": "K4q4FnlHhXRM",
        "colab_type": "text"
      },
      "source": [
        "###Git 支持多种数据传输协议  \n",
        "\n",
        "\n",
        "*    https:// 协议\n",
        "*    git:// 协议  \n",
        "*    SSH 传输协议\n",
        "\n"
      ]
    },
    {
      "cell_type": "markdown",
      "metadata": {
        "id": "DTfs28PyhXTv",
        "colab_type": "text"
      },
      "source": [
        "##2.2 记录每次更新到仓库"
      ]
    },
    {
      "cell_type": "markdown",
      "metadata": {
        "id": "hQNEXhvbhXWZ",
        "colab_type": "text"
      },
      "source": [
        "编辑过某些文件之后，由于自上次提交后对它们做了修改，Git 将它们标记为已修改文件。 我们逐步将这些修改过的文件放入暂存区，然后提交所有暂存了的修改，如此反复。使用 Git 时文件的生命周期如下：  \n",
        "![文件的状态变化周期](https://git-scm.com/book/en/v2/images/lifecycle.png)"
      ]
    },
    {
      "cell_type": "markdown",
      "metadata": {
        "id": "iN1W_kx4hXZK",
        "colab_type": "text"
      },
      "source": [
        "###检查当前文件状态"
      ]
    },
    {
      "cell_type": "markdown",
      "metadata": {
        "id": "oA1Ih9o4hXb1",
        "colab_type": "text"
      },
      "source": [
        "查看哪些文件处于什么状态，可以用 git status 命令  \n",
        "\n",
        "\n",
        "```\n",
        "$ git status\n",
        "```\n",
        "\n"
      ]
    },
    {
      "cell_type": "markdown",
      "metadata": {
        "id": "2hXMHuvFhXeN",
        "colab_type": "text"
      },
      "source": [
        "###跟踪新文件"
      ]
    },
    {
      "cell_type": "markdown",
      "metadata": {
        "id": "xhw8ovsmhXhD",
        "colab_type": "text"
      },
      "source": [
        "使用命令 git add 开始跟踪一个文件  \n",
        "\n",
        "\n",
        "```\n",
        "$ git add README\n",
        "```\n",
        "\n"
      ]
    },
    {
      "cell_type": "markdown",
      "metadata": {
        "id": "ldXQYlvGhXjk",
        "colab_type": "text"
      },
      "source": [
        "再运行 git status 命令，会看到 README 文件已被跟踪，并处于暂存状态  \n",
        "\n",
        "\n",
        "```\n",
        "$ git status\n",
        "```\n",
        "只要在` Changes to be committed `这行下面的，就说明是已暂存状态。  \n",
        "如果此时提交，那么该文件此时此刻的版本将被留存在历史记录中。  \n",
        "之前使用 git init 后就运行了 git add (files) 命令，开始跟踪当前目录下的文件。  \n",
        "**git add 命令使用文件或目录的路径作为参数；如果参数是目录的路径，该命令将递归地跟踪该目录下的所有文件。**\n",
        "\n",
        "\n"
      ]
    },
    {
      "cell_type": "markdown",
      "metadata": {
        "id": "2eDbJp6ihXmM",
        "colab_type": "text"
      },
      "source": [
        "\n",
        "###暂存已修改文件"
      ]
    },
    {
      "cell_type": "markdown",
      "metadata": {
        "id": "MzZLdQDmhXqh",
        "colab_type": "text"
      },
      "source": [
        "修改一个已被跟踪的文件。 如果修改了一个名为 `CONTRIBUTING.md `的已被跟踪的文件，然后运行 git status 命令，会看到下面内容：  \n",
        "\n",
        "\n",
        "```  \n",
        "Changes not staged for commit:\n",
        "\n",
        "modified:   CONTRIBUTING.md\n",
        "```  \n",
        "说明已跟踪文件的内容发生了变化，但还没有放到暂存区。  \n",
        "要暂存这次更新，需要运行 git add 命令。  \n",
        "**可以用git add 命令开始跟踪新文件，或者把已跟踪的文件放到暂存区，还能用于合并时把有冲突的文件标记为已解决状态等。 **  \n",
        "再用git status 命令查看状态：\n",
        "\n",
        "\n",
        "```\n",
        "Changes to be committed:  \n",
        "\n",
        "new file:   README\n",
        "modified:   CONTRIBUTING.md\n",
        "```\n",
        "两个文件都已暂存，下次提交时就会一并记录到仓库  \n",
        "\n",
        "\n",
        "\n",
        "\n"
      ]
    },
    {
      "cell_type": "markdown",
      "metadata": {
        "id": "9bOq0EPEhXvj",
        "colab_type": "text"
      },
      "source": [
        "假设此时，你想要在 CONTRIBUTING.md 里再加条注释， 重新编辑存盘后，准备好提交。 不过且慢，再运行 git status 看看  \n",
        "\n",
        "\n",
        "```\n",
        "Changes to be committed:  \n",
        "\n",
        "new file:   README\n",
        "modified:   CONTRIBUTING.md  \n",
        "\n",
        "Changes not staged for commit:  \n",
        "modified:   CONTRIBUTING.md\n",
        "```\n",
        "  \n",
        " CONTRIBUTING.md 文件同时出现在暂存区和非暂存区  \n",
        " Git 只不过暂存了运行 git add 命令时的版本  \n",
        " 需要重新运行 git add 把最新版本重新暂存起来\n"
      ]
    },
    {
      "cell_type": "markdown",
      "metadata": {
        "id": "lQXYq-pphXyB",
        "colab_type": "text"
      },
      "source": [
        "###状态简览"
      ]
    },
    {
      "cell_type": "markdown",
      "metadata": {
        "id": "aIpVpiEHhX0r",
        "colab_type": "text"
      },
      "source": [
        "使用 git status -s 命令或 git status --short 命令  \n",
        "\n",
        "运行 git status -s ，状态报告输出如下：\n",
        "\n",
        "```\n",
        "$ git status -s\n",
        " M README\n",
        "MM Rakefile\n",
        "A  lib/git.rb\n",
        "M  lib/simplegit.rb\n",
        "?? LICENSE.txt\n",
        "```\n",
        "\n",
        "\n",
        "*   ?? 标记：新添加的未跟踪文件\n",
        "*   A 标记：新添加到暂存区中的文件\n",
        "*   右边的标记：该文件被修改了但是还没放入暂存区\n",
        "*   右边的标记：该文件被修改了并放入了暂存区\n",
        "\n",
        "\n",
        "\n",
        "\n"
      ]
    },
    {
      "cell_type": "markdown",
      "metadata": {
        "id": "bU0eRA7OhX3f",
        "colab_type": "text"
      },
      "source": [
        "###忽略文件"
      ]
    },
    {
      "cell_type": "markdown",
      "metadata": {
        "id": "sXM4KkGnhX8o",
        "colab_type": "text"
      },
      "source": [
        "创建一个名为 .gitignore 的文件，列出要忽略的文件模式"
      ]
    },
    {
      "cell_type": "markdown",
      "metadata": {
        "id": "ZuVI2KP0hX7A",
        "colab_type": "text"
      },
      "source": [
        "\n",
        "```\n",
        "*.[oa]\n",
        "*~\n",
        "```\n",
        "第一行告诉 Git 忽略所有以 .o 或 .a 结尾的文件。  \n",
        "第二行告诉 Git 忽略所有以波浪符（~）结尾的文件。\n"
      ]
    },
    {
      "cell_type": "markdown",
      "metadata": {
        "id": "bHpttYQlpuX4",
        "colab_type": "text"
      },
      "source": [
        "**要养成一开始就设置好 .gitignore 文件的习惯，以免将来误提交这类无用的文件。**"
      ]
    },
    {
      "cell_type": "markdown",
      "metadata": {
        "id": "K2unEK9mpuc0",
        "colab_type": "text"
      },
      "source": [
        "文件 .gitignore 的格式规范如下：\n",
        "\n",
        "*   所有空行或者以 ＃ 开头的行都会被 Git 忽略。\n",
        "\n",
        "*   可以使用标准的 glob 模式匹配。\n",
        "\n",
        "*   匹配模式可以以（/）开头防止递归。\n",
        "\n",
        "*   匹配模式可以以（/）结尾指定目录。\n",
        "\n",
        "*   要忽略指定模式以外的文件或目录，可以在模式前加上惊叹号（!）取反。\n",
        "  \n",
        "glob 模式是指 shell 所使用的简化了的正则表达式  \n",
        "星号（*）匹配零个或多个任意字符\n",
        "`[abc] `匹配任何一个列在方括号中的字符（这个例子要么匹配一个 a，要么匹配一个 b，要么匹配一个 c）  \n",
        "问号（?）只匹配一个任意字符  \n",
        "如果在方括号中使用短划线分隔两个字符，表示所有在这两个字符范围内的都可以匹配（比如 `[0-9] `表示匹配所有 0 到 9 的数字）  \n",
        "使用两个星号（*) 表示匹配任意中间目录，比如 a/**/z 可以匹配 a/z , a/b/z 或 a/b/c/z\n"
      ]
    },
    {
      "cell_type": "markdown",
      "metadata": {
        "id": "XFcU3Bglpuf7",
        "colab_type": "text"
      },
      "source": [
        ".gitignore 文件的例子：  \n",
        "\n",
        "\n",
        "```\n",
        "# no .a files\n",
        "*.a\n",
        "\n",
        "# but do track lib.a, even though you're ignoring .a files above\n",
        "!lib.a\n",
        "\n",
        "# only ignore the TODO file in the current directory, not subdir/TODO\n",
        "/TODO\n",
        "\n",
        "# ignore all files in the build/ directory\n",
        "build/\n",
        "\n",
        "# ignore doc/notes.txt, but not doc/server/arch.txt\n",
        "doc/*.txt\n",
        "\n",
        "# ignore all .pdf files in the doc/ directory\n",
        "doc/**/*.pdf\n",
        "```  \n",
        "\n",
        "[.gitignore 文件列表](https://github.com/github/gitignore)\n"
      ]
    },
    {
      "cell_type": "markdown",
      "metadata": {
        "id": "uguYdlZHpulQ",
        "colab_type": "text"
      },
      "source": [
        "###查看已暂存和未暂存的修改"
      ]
    },
    {
      "cell_type": "markdown",
      "metadata": {
        "id": "teUKERPXpuql",
        "colab_type": "text"
      },
      "source": [
        "用 git diff 命令查看具体修改了什么地方，通过文件补丁的格式显示具体哪些行发生了改变。  \n",
        "比较的是工作目录中当前文件和暂存区域快照之间的差异， 也就是修改之后还没有暂存起来的变化内容。"
      ]
    },
    {
      "cell_type": "markdown",
      "metadata": {
        "id": "GP7wxYBPputW",
        "colab_type": "text"
      },
      "source": [
        "若要查看已暂存的将要添加到下次提交里的内容，可以用 `git diff --staged`"
      ]
    },
    {
      "cell_type": "markdown",
      "metadata": {
        "id": "vYFeJrjvpuwp",
        "colab_type": "text"
      },
      "source": [
        "git diff 本身只显示尚未暂存的改动，而不是自上次提交以来所做的所有改动\n"
      ]
    },
    {
      "cell_type": "markdown",
      "metadata": {
        "id": "rlwj6nkYpuzN",
        "colab_type": "text"
      },
      "source": [
        "###提交更新"
      ]
    },
    {
      "cell_type": "markdown",
      "metadata": {
        "id": "4wXKi1hDpu10",
        "colab_type": "text"
      },
      "source": [
        "每次准备提交前，先用 git status 看下，是不是都已暂存起来了， 然后再运行提交命令 git commit  \n",
        "会启动文本编辑器以便输入本次提交的说明"
      ]
    },
    {
      "cell_type": "markdown",
      "metadata": {
        "id": "J2GYc5papu4W",
        "colab_type": "text"
      },
      "source": [
        "在 commit 命令后添加 -m 选项，将提交信息与命令放在同一行  \n",
        "\n",
        "\n",
        "```\n",
        "$ git commit -m \"Story 182: Fix benchmarks for speed\"\n",
        "[master 463dc4f] Story 182: Fix benchmarks for speed\n",
        " 2 files changed, 2 insertions(+)\n",
        " create mode 100644 README\n",
        "```\n",
        "\n"
      ]
    },
    {
      "cell_type": "markdown",
      "metadata": {
        "id": "wWG946h5pvlb",
        "colab_type": "text"
      },
      "source": [
        "每一次运行提交操作，都是对你项目作一次快照，以后可以回到这个状态，或者进行比较。"
      ]
    },
    {
      "cell_type": "markdown",
      "metadata": {
        "id": "r1BRNuoqpupq",
        "colab_type": "text"
      },
      "source": [
        "###跳过使用暂存区域"
      ]
    },
    {
      "cell_type": "markdown",
      "metadata": {
        "id": "0GGePnkH30W6",
        "colab_type": "text"
      },
      "source": [
        "Git 提供了一个跳过使用暂存区域的方式， 只要在提交的时候，给 git commit 加上 -a 选项，Git 就会自动把所有已经跟踪过的文件暂存起来一并提交，从而跳过 git add 步骤。  \n",
        "\n",
        "\n",
        "```\n",
        "$ git commit -a -m 'added new benchmarks\n",
        "```\n",
        "\n"
      ]
    },
    {
      "cell_type": "markdown",
      "metadata": {
        "id": "qkpN3sZF30aD",
        "colab_type": "text"
      },
      "source": [
        "###移除文件"
      ]
    },
    {
      "cell_type": "markdown",
      "metadata": {
        "id": "nkz55i1w30cf",
        "colab_type": "text"
      },
      "source": [
        "要从 Git 中移除某个文件，就必须要从已跟踪文件清单中移除（确切地说，是从暂存区域移除），然后提交。 可以用 git rm 命令完成此项工作，并连带从工作目录中删除指定的文件，这样以后就不会出现在未跟踪文件清单中了。  \n",
        "如果只是简单地从工作目录中手工删除文件，运行 git status 时就会在 “Changes not staged for commit” 部分（也就是 未暂存清单）看到  \n",
        "\n",
        "\n",
        "```\n",
        "$ rm PROJECTS.md\n",
        "$ git status\n",
        "On branch master\n",
        "Your branch is up-to-date with 'origin/master'.\n",
        "Changes not staged for commit:\n",
        "  (use \"git add/rm <file>...\" to update what will be committed)\n",
        "  (use \"git checkout -- <file>...\" to discard changes in working directory)\n",
        "\n",
        "        deleted:    PROJECTS.md\n",
        "\n",
        "no changes added to commit (use \"git add\" and/or \"git commit -a\")\n",
        "```\n",
        "然后再运行 git rm 记录此次移除文件的操作：  \n",
        "\n",
        "\n",
        "```\n",
        "$ git rm PROJECTS.md\n",
        "rm 'PROJECTS.md'\n",
        "$ git status\n",
        "On branch master\n",
        "Changes to be committed:\n",
        "  (use \"git reset HEAD <file>...\" to unstage)\n",
        "\n",
        "    deleted:    PROJECTS.md\n",
        "```\n",
        "\n",
        "\n"
      ]
    },
    {
      "cell_type": "markdown",
      "metadata": {
        "id": "p0LF6oaC30hB",
        "colab_type": "text"
      },
      "source": [
        "下一次提交时，该文件就不再纳入版本管理了。 如果删除之前修改过并且已经放到暂存区域的话，则必须要用强制删除选项 -f（译注：即 force 的首字母）"
      ]
    },
    {
      "cell_type": "markdown",
      "metadata": {
        "id": "kkoFM_xd30jY",
        "colab_type": "text"
      },
      "source": [
        "想让文件保留在磁盘，但是并不想让 Git 继续跟踪，使用 --cached 选项：\n",
        "\n",
        "```\n",
        "$ git rm --cached README  \n",
        "\n",
        "```\n",
        "git rm 命令后面可以列出文件或者目录的名字，也可以使用 glob 模式  \n",
        "\n",
        "\n",
        "```\n",
        "$ git rm log/\\*.log\n",
        "```\n",
        "删除 log/ 目录下扩展名为 .log 的所有文件  \n",
        "\n",
        "\n",
        "```\n",
        "$ git rm \\*~\n",
        "```\n",
        "删除以 ~ 结尾的所有文件\n",
        "\n",
        "\n",
        "\n"
      ]
    },
    {
      "cell_type": "markdown",
      "metadata": {
        "id": "zuTNMkwf30l0",
        "colab_type": "text"
      },
      "source": [
        "###移动文件"
      ]
    },
    {
      "cell_type": "markdown",
      "metadata": {
        "id": "XoZwMVvn30oE",
        "colab_type": "text"
      },
      "source": [
        "Git 并不显式跟踪文件移动操作  \n",
        "\n",
        "运行 git mv 就相当于运行了下面三条命令  \n",
        "\n",
        "\n",
        "```\n",
        "$ mv README.md README\n",
        "$ git rm README.md\n",
        "$ git add README\n",
        "```\n",
        "Git 也会意识到这是一次改名\n"
      ]
    },
    {
      "cell_type": "markdown",
      "metadata": {
        "id": "sT2yrrgU30sm",
        "colab_type": "text"
      },
      "source": [
        "##2.3 Git  查看提交历史"
      ]
    },
    {
      "cell_type": "markdown",
      "metadata": {
        "id": "qAWR2-4930vZ",
        "colab_type": "text"
      },
      "source": [
        "提交了若干更新，克隆了某个项目之后，想回顾下提交历史  \n",
        "\n",
        "\n",
        "```\n",
        "$ git log\n",
        "```\n",
        "\n"
      ]
    },
    {
      "cell_type": "markdown",
      "metadata": {
        "id": "_nsRec84300B",
        "colab_type": "text"
      },
      "source": [
        "常用的选项是 `-p`，显示每次提交的内容差异  \n",
        "` -2` 来仅显示最近两次提交  \n",
        "\n",
        "\n",
        "```\n",
        "$ git log -p -2\n",
        "```\n",
        "附带了每次 commit 的变化  \n",
        "进行代码审查，或者快速浏览某个搭档提交的 commit 所带来的变化的时候，这个参数就非常有用  \n",
        "每次提交的简略的统计信息，--stat 选项  \n",
        "\n",
        "\n",
        "```\n",
        "$ git log --stat\n",
        "```\n",
        "--stat 选项在每次提交的下面列出所有被修改过的文件、有多少文件被修改了以及被修改过的文件的哪些行被移除或是添加了。 在每次提交的最后还有一个总结。  \n",
        "另外一个常用的选项是 --pretty 指定使用不同于默认格式的方式展示提交历史  \n",
        "\n",
        "\n",
        "```\n",
        "$ git log --pretty=oneline\n",
        "```\n",
        " format，可以定制要显示的记录格式  \n",
        "\n",
        "\n",
        "```\n",
        " $ git log --pretty=format:\"%h - %an, %ar : %s\"\n",
        "```\n",
        "\n",
        "**`git log --pretty=format `常用的选项**\n",
        "\n",
        "| 选项  | 说明 |\n",
        "|   ----  | :----  |\n",
        "%H | 提交对象（commit）的完整哈希字串\n",
        "%h | 提交对象的简短哈希字串\n",
        "%T |树对象（tree）的完整哈希字串\n",
        "%t |树对象的简短哈希字串\n",
        "%P |父对象（parent）的完整哈希字串\n",
        "%p |父对象的简短哈希字串\n",
        "%an |作者（author）的名字\n",
        "%ae |作者的电子邮件地址\n",
        "%ad |作者修订日期（可以用 --date= 选项定制格式）\n",
        "%ar |作者修订日期，按多久以前的方式显示\n",
        "%cn |提交者（committer）的名字\n",
        "%ce |提交者的电子邮件地址\n",
        "%cd |提交日期\n",
        "%cr |提交日期，按多久以前的方式显示\n",
        "%s |提交说明\n",
        "\n",
        "\n"
      ]
    },
    {
      "cell_type": "markdown",
      "metadata": {
        "id": "SyxrgRRw302g",
        "colab_type": "text"
      },
      "source": [
        "作者 和 提交者 差别  \n",
        "作者指的是实际作出修改的人  \n",
        "交者指的是最后将此工作成果提交到仓库的人"
      ]
    },
    {
      "cell_type": "markdown",
      "metadata": {
        "id": "RAGAlvzU305U",
        "colab_type": "text"
      },
      "source": [
        "形象地展示分支、合并历史：  \n",
        "\n",
        "\n",
        "```\n",
        "$ git log --pretty=format:\"%h %s\" --graph\n",
        "```\n",
        "\n"
      ]
    },
    {
      "cell_type": "markdown",
      "metadata": {
        "id": "1vKw7Hh130x4",
        "colab_type": "text"
      },
      "source": [
        "**git log 的常用选项**   \n",
        "\n",
        "| 选项  | 说明 |  \n",
        "|   : ----  | :----  |\n",
        "-p|按补丁格式显示每个更新之间的差异。\n",
        "--stat|显示每次更新的文件修改统计信息。\n",
        "--shortstat|只显示 --stat 中最后的行数修改添加移除统计。\n",
        "--name-only|仅在提交信息后显示已修改的文件清单。\n",
        "--name-status|显示新增、修改、删除的文件清单。\n",
        "--abbrev-commit|仅显示 SHA-1 的前几个字符，而非所有的 40 个字符。\n",
        "--relative-date|使用较短的相对时间显示（比如，“2 weeks ago”）。\n",
        "--graph|显示 ASCII 图形表示的分支合并历史。\n",
        "--pretty|使用其他格式显示历史提交信息。可用的选项包括 oneline，short，full，fuller 和 format（后跟指定格式）。"
      ]
    },
    {
      "cell_type": "markdown",
      "metadata": {
        "id": "jHRm-8np30qr",
        "colab_type": "text"
      },
      "source": [
        "###限制输出长度"
      ]
    },
    {
      "cell_type": "markdown",
      "metadata": {
        "id": "VmUcmh4x30et",
        "colab_type": "text"
      },
      "source": [
        "按照时间作限制的选项，比如 --since 和 --until   \n",
        "下面的命令列出所有最近两周内的提交：  \n",
        "\n",
        "\n",
        "```\n",
        "$ git log --since=2.weeks\n",
        "```  \n",
        "找出添加或移除了某一个特定函数的引用的提交  \n",
        "\n",
        "\n",
        "```\n",
        "$ git log -Sfunction_name\n",
        "\n",
        "```\n",
        "\n",
        "**限制 git log 输出的选项**    \n",
        "\n",
        "| 选项  | 说明 |  \n",
        "|   : ----  | :----  |\n",
        "-(n)| 仅显示最近的 n 条提交\n",
        "--since, --after| 仅显示指定时间之后的提交。\n",
        "--until, --before| 仅显示指定时间之前的提交。\n",
        "--author| 仅显示指定作者相关的提交。\n",
        "--committer| 仅显示指定提交者相关的提交。\n",
        "--grep| 仅显示含指定关键字的提交\n",
        "-S| 仅显示添加或移除了某个关键字的提交  \n",
        "\n",
        "\n",
        "要查看 Git 仓库中，2008 年 10 月期间，Junio Hamano 提交的但未合并的测试文件  \n",
        "\n",
        "\n",
        "```\n",
        "$ git log --pretty=\"%h - %s\" --author=gitster --since=\"2008-10-01\" \\\n",
        "   --before=\"2008-11-01\" --no-merges -- t/\n",
        "```\n",
        "\n",
        "\n",
        "\n"
      ]
    },
    {
      "cell_type": "markdown",
      "metadata": {
        "id": "rE-4xp5ncMlg",
        "colab_type": "text"
      },
      "source": [
        "##2.4 Git 基础 - 撤消操作"
      ]
    },
    {
      "cell_type": "markdown",
      "metadata": {
        "id": "xrR0syUecMpM",
        "colab_type": "text"
      },
      "source": [
        "提交完了才发现漏掉了几个文件没有添加，或者提交信息写错了。 此时，可以运行带有 --amend 选项的提交命令尝试重新提交：\n",
        "\n",
        "\n",
        "\n",
        "```\n",
        "$ git commit --amend\n",
        "```\n",
        "将暂存区中的文件提交。  \n",
        "如果自上次提交以来未做任何修改（例如，在上次提交后马上执行了此命令），那么快照会保持不变，修改的只是提交信息。  \n",
        "文本编辑器启动后，可以看到之前的提交信息。 编辑后保存会覆盖原来的提交信息。  \n",
        "就是备注的内容。\n"
      ]
    },
    {
      "cell_type": "markdown",
      "metadata": {
        "id": "7WejR9E0cMsv",
        "colab_type": "text"
      },
      "source": [
        "提交后发现忘记了暂存某些需要的修改，可以像下面这样操作：  \n",
        "\n",
        "\n",
        "```\n",
        "$ git commit -m 'initial commit'\n",
        "$ git add forgotten_file\n",
        "$ git commit --amend\n",
        "\n",
        "```  \n",
        "只会有一个提交 - 第二次提交将代替第一次提交的结果\n",
        "\n"
      ]
    },
    {
      "cell_type": "markdown",
      "metadata": {
        "id": "1BSp378ucMvw",
        "colab_type": "text"
      },
      "source": [
        "###取消暂存的文件"
      ]
    },
    {
      "cell_type": "markdown",
      "metadata": {
        "id": "RfGcpMXmcMyi",
        "colab_type": "text"
      },
      "source": [
        "你已经修改了两个文件并且想要将它们作为两次独立的修改提交，但是却意外地输入了 git add * 暂存了它们两个。 如何只取消暂存两个中的一个  \n",
        "git status 命令提示了你  \n",
        "\n",
        "\n",
        "```\n",
        "$ git add *\n",
        "$ git status  \n",
        "On branch master\n",
        "Changes to be committed:\n",
        "  (use \"git reset HEAD <file>...\" to unstage)\n",
        "\n",
        "    renamed:    README.md -> README\n",
        "    modified:   CONTRIBUTING.md\n",
        "```\n",
        " 取消暂存 CONTRIBUTING.md 文件：  \n",
        " \n",
        "\n",
        "```\n",
        "$ git reset HEAD CONTRIBUTING.md\n",
        "```\n",
        "\n",
        "在调用时加上 --hard 选项可以令 git reset 成为一个危险的命令（译注：可能导致工作目录中所有当前进度丢失！\n"
      ]
    },
    {
      "cell_type": "markdown",
      "metadata": {
        "id": "uCtdvxfjcM1L",
        "colab_type": "text"
      },
      "source": [
        "###撤消对文件的修改  \n",
        "撤消修改 - 将它还原成上次提交时的样子  \n",
        "\n",
        "\n",
        "```\n",
        "$ git checkout -- CONTRIBUTING.md\n",
        "```\n",
        "` git checkout -- [file] `对那个文件做的任何修改都会消失  \n",
        "\n",
        "在 Git 中任何 已提交的 东西几乎总是可以恢复的。 甚至那些被删除的分支中的提交或使用 --amend 选项覆盖的提交也可以恢复  \n",
        "然而，任何未提交的东西丢失后很可能再也找不到了。\n",
        "\n",
        "\n"
      ]
    },
    {
      "cell_type": "markdown",
      "metadata": {
        "id": "bW439TStcM4P",
        "colab_type": "text"
      },
      "source": [
        "##2.5  远程仓库的使用"
      ]
    },
    {
      "cell_type": "markdown",
      "metadata": {
        "id": "PHCBTbLqcM-V",
        "colab_type": "text"
      },
      "source": [
        "**如何管理自己的远程仓库**"
      ]
    },
    {
      "cell_type": "markdown",
      "metadata": {
        "id": "LH3thVnbcNBc",
        "colab_type": "text"
      },
      "source": [
        "远程仓库是指托管在因特网或其他网络中的项目的版本库。  \n",
        "可以有好几个远程仓库，通常有些仓库只读，有些仓库可以读写。   \n",
        "与他人协作涉及管理远程仓库以及根据需要推送或拉取数据。  \n",
        "管理远程仓库包括了解如何添加远程仓库、移除无效的远程仓库、管理不同的远程分支并定义它们是否被跟踪等等。"
      ]
    },
    {
      "cell_type": "markdown",
      "metadata": {
        "id": "SSwTU1fgcNEh",
        "colab_type": "text"
      },
      "source": [
        "###查看远程仓库"
      ]
    },
    {
      "cell_type": "markdown",
      "metadata": {
        "id": "9eTIIgxNngoa",
        "colab_type": "text"
      },
      "source": [
        "想查看已经配置的远程仓库服务器  \n",
        "\n",
        "\n",
        "```\n",
        "$git remote\n",
        "```\n",
        "列出指定的每一个远程服务器的简写\n"
      ]
    },
    {
      "cell_type": "markdown",
      "metadata": {
        "id": "K8Wpw16KngrZ",
        "colab_type": "text"
      },
      "source": [
        "指定选项 -v，会显示需要读写远程仓库使用的 Git 保存的简写与其对应的 URL  \n",
        "\n",
        "\n",
        "```\n",
        "$ git remote -v\n",
        "origin\thttps://github.com/schacon/ticgit (fetch)\n",
        "origin\thttps://github.com/schacon/ticgit (push)\n",
        "```\n",
        "\n",
        "拥有多个远程仓库的仓库  \n",
        "\n",
        "\n",
        "```\n",
        "$ cd grit\n",
        "$ git remote -v\n",
        "bakkdoor  https://github.com/bakkdoor/grit (fetch)\n",
        "bakkdoor  https://github.com/bakkdoor/grit (push)\n",
        "cho45     https://github.com/cho45/grit (fetch)\n",
        "cho45     https://github.com/cho45/grit (push)\n",
        "defunkt   https://github.com/defunkt/grit (fetch)\n",
        "defunkt   https://github.com/defunkt/grit (push)\n",
        "koke      git://github.com/koke/grit.git (fetch)\n",
        "koke      git://github.com/koke/grit.git (push)\n",
        "origin    git@github.com:mojombo/grit.git (fetch)\n",
        "origin    git@github.com:mojombo/grit.git (push)\n",
        "```\n",
        "这些远程仓库使用了不同的协议；  \n",
        "将会在 在服务器上搭建 Git 中了解更多信息\n"
      ]
    },
    {
      "cell_type": "markdown",
      "metadata": {
        "id": "3SibhDTnngze",
        "colab_type": "text"
      },
      "source": [
        "###添加远程仓库  \n",
        "运行 `git remote add <shortname> <url> `添加一个新的远程 Git 仓库，同时指定一个可以轻松引用的简写  \n",
        "\n",
        "\n",
        "```\n",
        "$ git remote add pb https://github.com/paulboone/ticgit\n",
        "$ git remote -v\n",
        "origin\thttps://github.com/schacon/ticgit (fetch)\n",
        "origin\thttps://github.com/schacon/ticgit (push)\n",
        "pb\thttps://github.com/paulboone/ticgit (fetch)\n",
        "pb\thttps://github.com/paulboone/ticgit (push)\n",
        "\n",
        "```\n",
        "现在可以在命令行中使用字符串 pb 来代替整个 URL。 例如，如果你想拉取 Paul 的仓库中有但你没有的信息，可以运行 `git fetch pb`：\n",
        "\n",
        "\n",
        "```\n",
        "$ git fetch pb\n",
        "remote: Counting objects: 43, done.\n",
        "remote: Compressing objects: 100% (36/36), done.\n",
        "remote: Total 43 (delta 10), reused 31 (delta 5)\n",
        "Unpacking objects: 100% (43/43), done.\n",
        "From https://github.com/paulboone/ticgit\n",
        " * [new branch]      master     -> pb/master\n",
        " * [new branch]      ticgit     -> pb/ticgit\n",
        "```\n",
        "\n"
      ]
    },
    {
      "cell_type": "markdown",
      "metadata": {
        "id": "gaTK3AyAng2O",
        "colab_type": "text"
      },
      "source": [
        "###从远程仓库中抓取与拉取"
      ]
    },
    {
      "cell_type": "markdown",
      "metadata": {
        "id": "bmsSO-mong5C",
        "colab_type": "text"
      },
      "source": [
        "从远程仓库中获得数据，可以执行：  \n",
        "\n",
        "\n",
        "`$ git fetch [remote-name]`"
      ]
    },
    {
      "cell_type": "markdown",
      "metadata": {
        "id": "OoFAFV5lng74",
        "colab_type": "text"
      },
      "source": [
        "`git fetch origin `会抓取克隆（或上一次抓取）后新推送的所有工作  \n",
        "当准备好时必须手动将其合并入自己的库。"
      ]
    },
    {
      "cell_type": "markdown",
      "metadata": {
        "id": "SaM3eO6hng_B",
        "colab_type": "text"
      },
      "source": [
        "如果有一个分支设置为跟踪一个远程分支，可以使用 git pull 命令来自动的抓取然后合并远程分支到当前分支  \n",
        "运行 git pull 通常会从最初克隆的服务器上抓取数据并自动尝试合并到当前所在的分支"
      ]
    },
    {
      "cell_type": "markdown",
      "metadata": {
        "id": "h2YkAPkAnhB4",
        "colab_type": "text"
      },
      "source": [
        "###推送到远程仓库"
      ]
    },
    {
      "cell_type": "markdown",
      "metadata": {
        "id": "FuNa0tHTnhE9",
        "colab_type": "text"
      },
      "source": [
        "分享自己的项目时，必须将其推送到上游。 命令：`git push [remote-name] [branch-name`]  \n",
        "运行这个命令可以将所做的工作备份到服务器  \n",
        "\n",
        "```\n",
        "$ git push origin master\n",
        "```\n",
        "有所克隆服务器的写入权限，并且之前没有人推送过时，这条命令才能生效  \n",
        "\n"
      ]
    },
    {
      "cell_type": "markdown",
      "metadata": {
        "id": "ezMFDqH5nhHs",
        "colab_type": "text"
      },
      "source": [
        "###查看远程仓库"
      ]
    },
    {
      "cell_type": "markdown",
      "metadata": {
        "id": "iftRr1VVnhKs",
        "colab_type": "text"
      },
      "source": [
        "想要查看某一个远程仓库的更多信息，可以使用 `git remote show [remote-name] `命令  \n",
        "\n",
        "\n",
        "```\n",
        "$ git remote show origin\n",
        "```\n",
        "\n",
        "出远程仓库的 URL 与跟踪分支的信息  \n",
        "如果运行 git pull，就会抓取所有的远程引用，然后将远程 master 分支合并到本地 master 分支"
      ]
    },
    {
      "cell_type": "markdown",
      "metadata": {
        "id": "N6bUED-FnhNs",
        "colab_type": "text"
      },
      "source": [
        ""
      ]
    },
    {
      "cell_type": "markdown",
      "metadata": {
        "id": "2EX4L4gnnhQl",
        "colab_type": "text"
      },
      "source": [
        ""
      ]
    },
    {
      "cell_type": "markdown",
      "metadata": {
        "id": "qYsmyKLJnhTf",
        "colab_type": "text"
      },
      "source": [
        "###远程仓库的移除与重命名"
      ]
    },
    {
      "cell_type": "markdown",
      "metadata": {
        "id": "tUQURW7mnhWd",
        "colab_type": "text"
      },
      "source": [
        "想要重命名引用的名字可以运行` git remote rename` 去修改一个远程仓库的简写名  \n",
        "\n",
        "\n",
        "```\n",
        "$ git remote rename pb paul\n",
        "```\n",
        "这同样也会修改远程分支名字\n"
      ]
    },
    {
      "cell_type": "markdown",
      "metadata": {
        "id": "illLz-SHnhZd",
        "colab_type": "text"
      },
      "source": [
        "**想要移除一个远程仓库**"
      ]
    },
    {
      "cell_type": "markdown",
      "metadata": {
        "id": "cihctvlRnhcr",
        "colab_type": "text"
      },
      "source": [
        "`$ git remote rm paul`"
      ]
    },
    {
      "cell_type": "markdown",
      "metadata": {
        "id": "H8OdJLjanhgG",
        "colab_type": "text"
      },
      "source": [
        "##2.6打标签"
      ]
    },
    {
      "cell_type": "markdown",
      "metadata": {
        "id": "Egk4aI5Mnhm3",
        "colab_type": "text"
      },
      "source": [
        "Git 可以给历史中的某一个提交打上标签，以示重要"
      ]
    },
    {
      "cell_type": "markdown",
      "metadata": {
        "id": "RtVxcONEnhrP",
        "colab_type": "text"
      },
      "source": [
        "###列出标签\n"
      ]
    },
    {
      "cell_type": "markdown",
      "metadata": {
        "id": "bMIqtrnOCP5Q",
        "colab_type": "text"
      },
      "source": [
        "Git 中列出已有的标签是非常简单直观  \n",
        "\n",
        "\n",
        "```\n",
        "$ git tag\n",
        "v0.1\n",
        "v1.3\n",
        "```\n",
        "\n"
      ]
    },
    {
      "cell_type": "markdown",
      "metadata": {
        "id": "n_9qFkg1CP8F",
        "colab_type": "text"
      },
      "source": [
        "只对 1.8.5 系列感兴趣"
      ]
    },
    {
      "cell_type": "markdown",
      "metadata": {
        "id": "Lp8t06aECQFe",
        "colab_type": "text"
      },
      "source": [
        "\n",
        "```\n",
        "$ git tag -l 'v1.8.5*'\n",
        "v1.8.5\n",
        "v1.8.5-rc0\n",
        "v1.8.5-rc1\n",
        "v1.8.5-rc2\n",
        "v1.8.5-rc3\n",
        "v1.8.5.1\n",
        "\n",
        "```\n",
        "\n"
      ]
    },
    {
      "cell_type": "markdown",
      "metadata": {
        "id": "wq5gltkACQPi",
        "colab_type": "text"
      },
      "source": [
        "###创建标签\n"
      ]
    },
    {
      "cell_type": "markdown",
      "metadata": {
        "id": "Mjk7uWdICQSA",
        "colab_type": "text"
      },
      "source": [
        "Git 使用两种主要类型的标签：轻量标签（lightweight）与附注标签（annotated）。"
      ]
    },
    {
      "cell_type": "markdown",
      "metadata": {
        "id": "Q_X_74rWCQW3",
        "colab_type": "text"
      },
      "source": [
        "*  轻量标签很像一个不会改变的分支 - 它只是一个特定提交的引用  \n",
        "\n",
        "\n",
        "*   附注标签是存储在 Git 数据库中的一个完整对象  \n"
      ]
    },
    {
      "cell_type": "markdown",
      "metadata": {
        "id": "9xDRfOPoCQZ7",
        "colab_type": "text"
      },
      "source": [
        "Git 中创建一个附注标签  \n",
        "\n",
        "\n",
        "```\n",
        "$ git tag -a v1.4 -m 'my version 1.4'\n",
        "```\n",
        "通过使用 git show 命令可以看到标签信息与对应的提交信息：  \n",
        "\n",
        "\n",
        "```\n",
        "$ git show v1.4\n",
        "```\n",
        "\n",
        "\n"
      ]
    },
    {
      "cell_type": "markdown",
      "metadata": {
        "id": "sAHviCQDCQde",
        "colab_type": "text"
      },
      "source": [
        "轻量标签本质上是将提交校验和存储到一个文件中 - 没有保存任何其他信息。 创建轻量标签，不需要使用 -a、-s 或 -m 选项，只需要提供标签名字：  \n",
        "\n",
        "\n",
        "```\n",
        "$ git tag v1.4-lw\n",
        "```\n",
        "在标签上运行 git show  \n",
        "\n",
        "\n",
        "```\n",
        "$ git show v1.4-lw\n",
        "commit ca82a6dff817ec66f44342007202690a93763949\n",
        "Author: Scott Chacon <schacon@gee-mail.com>\n",
        "Date:   Mon Mar 17 21:52:11 2008 -0700\n",
        "\n",
        "    changed the version number\n",
        "\n",
        "```\n",
        "\n",
        "\n"
      ]
    },
    {
      "cell_type": "markdown",
      "metadata": {
        "id": "RetjC2fYCQgf",
        "colab_type": "text"
      },
      "source": [
        "###后期打标签"
      ]
    },
    {
      "cell_type": "markdown",
      "metadata": {
        "id": "tpAuQEdRCQjH",
        "colab_type": "text"
      },
      "source": [
        "命令的末尾指定提交的校验和（或部分校验和）:  \n",
        "\n",
        "\n",
        "```\n",
        "$ git tag -a v1.2 9fceb02\n",
        "```\n",
        "\n"
      ]
    },
    {
      "cell_type": "markdown",
      "metadata": {
        "id": "ucZ15VKMCQU_",
        "colab_type": "text"
      },
      "source": [
        "###共享标签"
      ]
    },
    {
      "cell_type": "markdown",
      "metadata": {
        "id": "F0HG-9lGCQDW",
        "colab_type": "text"
      },
      "source": [
        "`git push `命令并不会传送标签到远程仓库服务器上  \n",
        "在创建完标签后你必须显式地推送标签到共享服务器上。   \n",
        "这个过程就像共享远程分支一样 - 运行` git push origin [tagname]`  \n",
        "\n",
        "\n",
        "```\n",
        "$ git push origin v1.5\n",
        "```\n",
        "一次性推送很多标签，可以使用带有 --tags 选项的 git push 命令  \n",
        "\n",
        "把所有不在远程仓库服务器上的标签全部传送到那里\n",
        "\n",
        "```\n",
        "$ git push origin --tags\n",
        "```\n",
        "\n",
        "\n"
      ]
    },
    {
      "cell_type": "markdown",
      "metadata": {
        "id": "tlnDF6xFCQBq",
        "colab_type": "text"
      },
      "source": [
        "###删除标签"
      ]
    },
    {
      "cell_type": "markdown",
      "metadata": {
        "id": "Zr9LxZZyCP_E",
        "colab_type": "text"
      },
      "source": [
        "删除掉本地仓库上的标签，可以使用命令` git tag -d <tagname>`  \n",
        "可以使用下面的命令删除掉一个轻量级标签： \n",
        "\n",
        "\n",
        "```\n",
        "$ git tag -d v1.4-lw\n",
        "Deleted tag 'v1.4-lw' (was e7d5add)\n",
        "```\n",
        "\n"
      ]
    },
    {
      "cell_type": "markdown",
      "metadata": {
        "id": "yii00pEHE-p-",
        "colab_type": "text"
      },
      "source": [
        "使用 `git push <remote> :refs/tags/<tagname> `来更新远程仓库：  \n",
        "\n",
        "```\n",
        "$ git push origin :refs/tags/v1.4-lw\n",
        "```\n",
        "\n"
      ]
    },
    {
      "cell_type": "markdown",
      "metadata": {
        "id": "a-CcFD1-E-s4",
        "colab_type": "text"
      },
      "source": [
        "###检出标签"
      ]
    },
    {
      "cell_type": "markdown",
      "metadata": {
        "id": "cnJKjIWtE-wE",
        "colab_type": "text"
      },
      "source": [
        "想查看某个标签所指向的文件版本，可以使用 git checkout 命令"
      ]
    },
    {
      "cell_type": "markdown",
      "metadata": {
        "id": "zFgrLuc1E-y-",
        "colab_type": "text"
      },
      "source": [
        "在“分离头指针”状态下，如果你做了某些更改然后提交它们，标签不会发生变化，但你的新提交将不属于任何分支，并且将无法访问，除非确切的提交哈希"
      ]
    },
    {
      "cell_type": "markdown",
      "metadata": {
        "id": "ObWMbivWE-4i",
        "colab_type": "text"
      },
      "source": [
        "如果需要进行更改——比如修复旧版本的错误——需要创建一个新分支  \n",
        "\n",
        "\n",
        "```\n",
        "$ git checkout -b version2 v2.0.0\n",
        "```\n",
        "\n"
      ]
    },
    {
      "cell_type": "markdown",
      "metadata": {
        "id": "5o275YydE-9q",
        "colab_type": "text"
      },
      "source": [
        "##2.7  Git 别名  "
      ]
    },
    {
      "cell_type": "markdown",
      "metadata": {
        "id": "UuhGFYgmE_Bl",
        "colab_type": "text"
      },
      "source": [
        "通过 git config 文件来轻松地为每一个命令设置一个别名  \n",
        "\n",
        "\n",
        "```\n",
        "$ git config --global alias.co checkout\n",
        "$ git config --global alias.br branch\n",
        "$ git config --global alias.ci commit\n",
        "$ git config --global alias.st status\n",
        "```\n",
        "\n"
      ]
    },
    {
      "cell_type": "markdown",
      "metadata": {
        "id": "biqZDI_6E_Hx",
        "colab_type": "text"
      },
      "source": [
        "向 Git 中添加你自己的取消暂存别名：  \n",
        "\n",
        "\n",
        "```\n",
        "$ git config --global alias.unstage 'reset HEAD --'\n",
        "```\n",
        "\n"
      ]
    },
    {
      "cell_type": "markdown",
      "metadata": {
        "id": "EIwGlmudE_Gf",
        "colab_type": "text"
      },
      "source": [
        "**添加一个 last 命令  **\n",
        "\n",
        "\n",
        "```\n",
        "$ git config --global alias.last 'log -1 HEAD'\n",
        "```\n",
        "\n"
      ]
    },
    {
      "cell_type": "markdown",
      "metadata": {
        "id": "eGkLkNxpE-7e",
        "colab_type": "text"
      },
      "source": [
        "想要执行外部命令，而不是一个 Git 子命令，可以在命令前面加入 ! 符号  \n",
        "将 git visual 定义为 gitk 的别名：\n",
        "\n",
        "\n",
        "\n",
        "```\n",
        "$ git config --global alias.visual '!gitk'\n",
        "```\n",
        "\n"
      ]
    },
    {
      "cell_type": "markdown",
      "metadata": {
        "id": "7poXQWluE-2Y",
        "colab_type": "text"
      },
      "source": [
        "##2.8 总结"
      ]
    },
    {
      "cell_type": "markdown",
      "metadata": {
        "id": "JrSQVcKMGugK",
        "colab_type": "text"
      },
      "source": [
        "基本的 Git 本地操作－创建或者克隆一个仓库、做更改、暂存并提交这些更改、浏览你的仓库从创建到现在的所有更改的历史"
      ]
    },
    {
      "cell_type": "markdown",
      "metadata": {
        "id": "RUtrC_TBGujB",
        "colab_type": "text"
      },
      "source": [
        "***\n",
        "***"
      ]
    }
  ]
}