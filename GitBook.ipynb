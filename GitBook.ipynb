{
  "nbformat": 4,
  "nbformat_minor": 0,
  "metadata": {
    "colab": {
      "name": "GitBook.ipynb",
      "version": "0.3.2",
      "provenance": [],
      "collapsed_sections": [
        "PP2yPgoUrzvh",
        "jkAFeSZesRsg",
        "WNY59xGqyriD",
        "xFLoYFVIzkDP"
      ],
      "include_colab_link": true
    },
    "kernelspec": {
      "name": "python3",
      "display_name": "Python 3"
    }
  },
  "cells": [
    {
      "cell_type": "markdown",
      "metadata": {
        "id": "view-in-github",
        "colab_type": "text"
      },
      "source": [
        "<a href=\"https://colab.research.google.com/github/ccloveak/Study_Notes/blob/master/GitBook.ipynb\" target=\"_parent\"><img src=\"https://colab.research.google.com/assets/colab-badge.svg\" alt=\"Open In Colab\"/></a>"
      ]
    },
    {
      "cell_type": "markdown",
      "metadata": {
        "id": "1C9uxXdYq8hg",
        "colab_type": "text"
      },
      "source": [
        "#起步"
      ]
    },
    {
      "cell_type": "markdown",
      "metadata": {
        "id": "nMzvUJ0grhGS",
        "colab_type": "text"
      },
      "source": [
        "##1.1 关于版本控制"
      ]
    },
    {
      "cell_type": "markdown",
      "metadata": {
        "id": "tBzLwe4grvva",
        "colab_type": "text"
      },
      "source": [
        "版本控制是一种记录一个或若干文件内容变化，以便将来查阅特定版本修订情况的系统。"
      ]
    },
    {
      "cell_type": "markdown",
      "metadata": {
        "id": "PP2yPgoUrzvh",
        "colab_type": "text"
      },
      "source": [
        "###本地版本控制系统\n"
      ]
    },
    {
      "cell_type": "markdown",
      "metadata": {
        "id": "bmkMShFSr3_P",
        "colab_type": "text"
      },
      "source": [
        "许多人习惯用复制整个项目目录的方式来保存不同的版本，或许还会改名加上备份时间以示区别。 这么做唯一的好处就是简单，但是特别容易犯错。 有时候会混淆所在的工作目录，一不小心会写错文件或者覆盖意想外的文件。"
      ]
    },
    {
      "cell_type": "markdown",
      "metadata": {
        "id": "bUAcTpK7r8i4",
        "colab_type": "text"
      },
      "source": [
        "许多种本地版本控制系统，大多都是采用某种简单的数据库来记录文件的历次更新差异。![本地版本控制.](https://git-scm.com/book/en/v2/images/local.png)"
      ]
    },
    {
      "cell_type": "markdown",
      "metadata": {
        "id": "jkAFeSZesRsg",
        "colab_type": "text"
      },
      "source": [
        "###集中化的版本控制系统"
      ]
    },
    {
      "cell_type": "markdown",
      "metadata": {
        "id": "8kq-HFA9sUdS",
        "colab_type": "text"
      },
      "source": [
        "让在不同系统上的开发者协同工作"
      ]
    },
    {
      "cell_type": "markdown",
      "metadata": {
        "id": "OF7jqyf4sdCF",
        "colab_type": "text"
      },
      "source": [
        "有一个单一的集中管理的服务器，保存所有文件的修订版本，而协同工作的人们都通过客户端连到这台服务器，取出最新的文件或者提交更新![集中化的版本控制](https://git-scm.com/book/en/v2/images/centralized.png)"
      ]
    },
    {
      "cell_type": "markdown",
      "metadata": {
        "id": "VaZGq3LTsdA_",
        "colab_type": "text"
      },
      "source": [
        "###分布式版本控制系统"
      ]
    },
    {
      "cell_type": "markdown",
      "metadata": {
        "id": "Q1iEd8vCsyz5",
        "colab_type": "text"
      },
      "source": [
        "客户端并不只提取最新版本的文件快照，而是把代码仓库完整地镜像下来。 这么一来，任何一处协同工作用的服务器发生故障，事后都可以用任何一个镜像出来的本地仓库恢复。 因为每一次的克隆操作，实际上都是一次对代码仓库的完整备份。![分布式版本控制](https://git-scm.com/book/en/v2/images/distributed.png)\n",
        "许多这类系统都可以指定和若干不同的远端代码仓库进行交互。可以在同一个项目中，分别和不同工作小组的人相互协作。"
      ]
    },
    {
      "cell_type": "markdown",
      "metadata": {
        "id": "LMN2Brv5tKjV",
        "colab_type": "text"
      },
      "source": [
        "***"
      ]
    },
    {
      "cell_type": "markdown",
      "metadata": {
        "id": "Nc7oj6jbtL8u",
        "colab_type": "text"
      },
      "source": [
        "##1.2 Git 简史\n"
      ]
    },
    {
      "cell_type": "markdown",
      "metadata": {
        "id": "nYDkCwH_tSnb",
        "colab_type": "text"
      },
      "source": [
        " Linux 的缔造者 Linus Torvalds基于使用 BitKeeper 时的经验教训，开发出版本系统\n",
        "\n",
        "*   速度\n",
        "\n",
        "*   简单的设计\n",
        "\n",
        "*   对非线性开发模式的强力支持（允许成千上万个并行开发的分支）\n",
        "\n",
        "*   完全分布式\n",
        "\n",
        "*   有能力高效管理类似 Linux 内核一样的超大规模项目（速度和数据量）\n",
        "\n",
        "适合管理大项目，有着令人难以置信的非线性分支管理系统\n"
      ]
    },
    {
      "cell_type": "markdown",
      "metadata": {
        "id": "7cMPfC7Atw3Z",
        "colab_type": "text"
      },
      "source": [
        "***"
      ]
    },
    {
      "cell_type": "markdown",
      "metadata": {
        "id": "53CRA_eCtx-g",
        "colab_type": "text"
      },
      "source": [
        "##1.3 Git 基础"
      ]
    },
    {
      "cell_type": "markdown",
      "metadata": {
        "id": "r7ozPguxt3TA",
        "colab_type": "text"
      },
      "source": [
        "其它版本控制系统（包括 Subversion 和近似工具）![存储每个文件与初始版本的差异](https://git-scm.com/book/en/v2/images/deltas.png)"
      ]
    },
    {
      "cell_type": "markdown",
      "metadata": {
        "id": "75RBhyi5uI3F",
        "colab_type": "text"
      },
      "source": [
        " Git 对待数据更像是一个 快照流。 ![存储项目随时间改变的快照](https://git-scm.com/book/en/v2/images/snapshots.png)"
      ]
    },
    {
      "cell_type": "markdown",
      "metadata": {
        "id": "i3LFQeHDuSrl",
        "colab_type": "text"
      },
      "source": [
        "Git 更像是一个小型的文件系统，提供了许多以此为基础构建的超强工具，而不只是一个简单的 VCS。"
      ]
    },
    {
      "cell_type": "markdown",
      "metadata": {
        "id": "4CK59KAmubF3",
        "colab_type": "text"
      },
      "source": [
        "###近乎所有操作都是本地执行"
      ]
    },
    {
      "cell_type": "markdown",
      "metadata": {
        "id": "c6FBahj8ue3A",
        "colab_type": "text"
      },
      "source": [
        "在 Git 中的绝大多数操作都只需要访问本地文件和资源"
      ]
    },
    {
      "cell_type": "markdown",
      "metadata": {
        "id": "MpCRPjPxuoyQ",
        "colab_type": "text"
      },
      "source": [
        "###Git 保证完整性"
      ]
    },
    {
      "cell_type": "markdown",
      "metadata": {
        "id": "lxnbApzLusbG",
        "colab_type": "text"
      },
      "source": [
        "Git 中所有数据在存储前都计算校验和，然后以校验和来引用。   \n",
        "意味着不可能在 Git 不知情时更改任何文件内容或目录内容。  \n",
        "这个功能建构在 Git 底层，是构成 Git 哲学不可或缺的部分。  \n",
        "Git 用以计算校验和的机制叫做 SHA-1 散列（hash，哈希）  \n",
        "SHA-1 哈希看起来是这样：24b9da6552252987aa493b52f8696cd6d3b00373\n"
      ]
    },
    {
      "cell_type": "markdown",
      "metadata": {
        "id": "kJ1ZewhdvtEA",
        "colab_type": "text"
      },
      "source": [
        ""
      ]
    },
    {
      "cell_type": "markdown",
      "metadata": {
        "id": "wy3N82_avtFi",
        "colab_type": "text"
      },
      "source": [
        "###Git 一般只添加数据"
      ]
    },
    {
      "cell_type": "markdown",
      "metadata": {
        "id": "HmOkFsvNvu-V",
        "colab_type": "text"
      },
      "source": [
        "只往 Git 数据库中增加数据  \n",
        "很难让 Git 执行任何不可逆操作，或者让它以任何方式清除数据。  \n",
        "一旦你提交快照到 Git 中，就难以再丢失数据，特别是如果你定期的推送数据库到其它仓库的话"
      ]
    },
    {
      "cell_type": "markdown",
      "metadata": {
        "id": "oEL5-gbav8rh",
        "colab_type": "text"
      },
      "source": [
        ""
      ]
    },
    {
      "cell_type": "markdown",
      "metadata": {
        "id": "q1YK3Wl_v8tB",
        "colab_type": "text"
      },
      "source": [
        "###三种状态"
      ]
    },
    {
      "cell_type": "markdown",
      "metadata": {
        "id": "IvKY1A8RwAa7",
        "colab_type": "text"
      },
      "source": [
        "Git 有三种状态\n",
        "\n",
        "*   已提交（committed） 已提交表示数据已经安全的保存在本地数据库中。\n",
        "*   已修改（modified）已修改表示修改了文件，但还没保存到数据库中。\n",
        "*   已暂存（staged）已暂存表示对一个已修改文件的当前版本做了标记，使之包含在下次提交的快照中。  \n",
        "\n",
        "Git 项目的三个工作区域的概念：Git 仓库、工作目录以及暂存区域\n",
        "![工作目录、暂存区域以及 Git 仓库](https://git-scm.com/book/en/v2/images/areas.png)  \n",
        "Git 仓库目录是 Git 用来保存项目的元数据和对象数据库的地方。 这是 Git 中最重要的部分，从其它计算机克隆仓库时，拷贝的就是这里的数据。  \n",
        "\n",
        "工作目录是对项目的某个版本独立提取出来的内容。 这些从 Git 仓库的压缩数据库中提取出来的文件，放在磁盘上供你使用或修改。  \n",
        "\n",
        "暂存区域是一个文件，保存了下次将提交的文件列表信息，一般在 Git 仓库目录中。 有时候也被称作`‘索引’'，不过一般说法还是叫暂存区域。\n",
        "\n",
        "基本的 Git 工作流程如下：\n",
        "\n",
        "\n",
        "1. 在工作目录中修改文件。\n",
        "2. 暂存文件，将文件的快照放入暂存区域。\n",
        "3. 提交更新，找到暂存区域的文件，将快照永久性存储到 Git 仓库目录  \n",
        "\n",
        "如果 Git 目录中保存着特定版本的文件，就属于已提交状态。 如果作了修改并已放入暂存区域，就属于已暂存状态。 如果自上次取出后，作了修改但还没有放到暂存区域，就是已修改状态。\n",
        "***\n",
        "\n"
      ]
    },
    {
      "cell_type": "markdown",
      "metadata": {
        "id": "Wh8yGsLLyUD0",
        "colab_type": "text"
      },
      "source": [
        "##1.4 命令行"
      ]
    },
    {
      "cell_type": "markdown",
      "metadata": {
        "id": "AJARVkQlydyK",
        "colab_type": "text"
      },
      "source": [
        "只有在命令行模式下你才能执行 Git 的 所有 命令，而大多数的 GUI 软件只实现了 Git 所有功能的一个子集以降低操作难度。  \n",
        "学会了在命令行下如何操作，那么在操作 GUI 软件时应该也不会遇到什么困难\n",
        "***"
      ]
    },
    {
      "cell_type": "markdown",
      "metadata": {
        "id": "WNY59xGqyriD",
        "colab_type": "text"
      },
      "source": [
        "##1.5 安装 Git"
      ]
    },
    {
      "cell_type": "markdown",
      "metadata": {
        "id": "t8exdtjDyvQx",
        "colab_type": "text"
      },
      "source": [
        "###在 Mac 上安装"
      ]
    },
    {
      "cell_type": "markdown",
      "metadata": {
        "id": "SMglwee3y7rW",
        "colab_type": "text"
      },
      "source": [
        "[OSX Git 安装程序](http://git-scm.com/download/mac)\n",
        "***"
      ]
    },
    {
      "cell_type": "markdown",
      "metadata": {
        "id": "xFLoYFVIzkDP",
        "colab_type": "text"
      },
      "source": [
        "##1.6 初次运行 Git 前的配置\n"
      ]
    },
    {
      "cell_type": "markdown",
      "metadata": {
        "id": "vk8va0Kgz7UQ",
        "colab_type": "text"
      },
      "source": [
        "每台计算机上只需要配置一次，程序升级时会保留配置信息。"
      ]
    },
    {
      "cell_type": "markdown",
      "metadata": {
        "id": "_uR96aOs0Aav",
        "colab_type": "text"
      },
      "source": [
        "Git 自带一个 git config 的工具来帮助设置控制 Git 外观和行为的配置变量。  \n",
        "这些变量存储在三个不同的位置：  \n",
        "\n",
        "\n",
        "1.   /etc/gitconfig 文件: 包含系统上每一个用户及他们仓库的通用配置。 如果使用带有 --system 选项的 git config 时，它会从此文件读写配置变量。\n",
        "2.   ~/.gitconfig 或 ~/.config/git/config 文件：只针对当前用户。 可以传递 --global 选项让 Git 读写此文件。\n",
        "3. 当前使用仓库的 Git 目录中的 config 文件（就是 .git/config）：针对该仓库  \n",
        "\n",
        "每一个级别覆盖上一级别的配置，所以 .git/config 的配置变量会覆盖 /etc/gitconfig 中的配置变量。\n"
      ]
    },
    {
      "cell_type": "markdown",
      "metadata": {
        "id": "0cdT9BAu0Wen",
        "colab_type": "text"
      },
      "source": [
        "###用户信息\n",
        "第一件事就是设置用户名称与邮件地址  \n",
        "每一个 Git 的提交都会使用这些信息，并且它会写入到你的每一次提交中，不可更改\n",
        "\n",
        "```\n",
        "$ git config --global user.name \"ccloveak\"\n",
        "$ git config --global user.email johndoe@example.com\n",
        "```\n",
        "\n"
      ]
    },
    {
      "cell_type": "markdown",
      "metadata": {
        "id": "Rbjg_v9j0y7U",
        "colab_type": "text"
      },
      "source": [
        "###文本编辑器\n",
        "Git 需要你输入信息时会调用它  \n",
        "Git 会使用操作系统默认的文本编辑器，通常是 Vim"
      ]
    },
    {
      "cell_type": "markdown",
      "metadata": {
        "id": "pZhfH5aS1B9U",
        "colab_type": "text"
      },
      "source": [
        "###检查配置信息 \n",
        "使用` git config --list `命令"
      ]
    },
    {
      "cell_type": "markdown",
      "metadata": {
        "id": "EN9Ly52F1Qnj",
        "colab_type": "text"
      },
      "source": [
        "输入 `git config <key> `来检查 Git 的某一项配置  \n",
        "\n",
        "\n",
        "```\n",
        "$ git config user.name\n",
        "ccloveak\n",
        "```\n",
        "***\n",
        "\n"
      ]
    },
    {
      "cell_type": "markdown",
      "metadata": {
        "id": "Rr3_NXZB1hE4",
        "colab_type": "text"
      },
      "source": [
        "##1.7 获取帮助\n"
      ]
    },
    {
      "cell_type": "markdown",
      "metadata": {
        "id": "hY5GyZwN1oaB",
        "colab_type": "text"
      },
      "source": [
        "三种方法可以找到 Git 命令的使用手册：\n",
        "\n",
        "1.   `git help <verb>`\n",
        "2.   `git <verb> --help`\n",
        "3.   `$ man git-<verb>`\n",
        "例如 要想获得 config 命令的手册  \n",
        "\n",
        "\n",
        "```\n",
        "$ git help config\n",
        "```\n",
        "\n",
        "***\n",
        "\n"
      ]
    },
    {
      "cell_type": "markdown",
      "metadata": {
        "id": "8Eu7D5FQ1oY1",
        "colab_type": "text"
      },
      "source": [
        "##1.8  总结\n",
        "\n",
        "\n",
        "\n",
        "```\n",
        "$ git version\n",
        "\n",
        "git version 2.19.2\n",
        "```\n",
        "***\n",
        "***\n",
        "\n"
      ]
    }
  ]
}