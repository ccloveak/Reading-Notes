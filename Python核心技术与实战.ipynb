{
  "nbformat": 4,
  "nbformat_minor": 0,
  "metadata": {
    "colab": {
      "name": "Python核心技术与实战.ipynb",
      "version": "0.3.2",
      "provenance": [],
      "collapsed_sections": [],
      "include_colab_link": true
    },
    "kernelspec": {
      "name": "python3",
      "display_name": "Python 3"
    }
  },
  "cells": [
    {
      "cell_type": "markdown",
      "metadata": {
        "id": "view-in-github",
        "colab_type": "text"
      },
      "source": [
        "<a href=\"https://colab.research.google.com/github/ccloveak/Study_Notes/blob/master/Python%E6%A0%B8%E5%BF%83%E6%8A%80%E6%9C%AF%E4%B8%8E%E5%AE%9E%E6%88%98.ipynb\" target=\"_parent\"><img src=\"https://colab.research.google.com/assets/colab-badge.svg\" alt=\"Open In Colab\"/></a>"
      ]
    },
    {
      "cell_type": "markdown",
      "metadata": {
        "id": "tlMJ3BzeX5AH",
        "colab_type": "text"
      },
      "source": [
        "#列表和元组"
      ]
    },
    {
      "cell_type": "markdown",
      "metadata": {
        "id": "3v0gMiHxYWcY",
        "colab_type": "text"
      },
      "source": [
        "\n",
        "###列表和元组，都是一个可以放置任意数据类型的有序集合\n",
        "\n"
      ]
    },
    {
      "cell_type": "code",
      "metadata": {
        "id": "xN8fkfJHYT6z",
        "colab_type": "code",
        "outputId": "eda80c11-d739-4b60-f09d-73008e3b4233",
        "colab": {
          "base_uri": "https://localhost:8080/",
          "height": 34
        }
      },
      "source": [
        "l = [1, 2, 'hello', 'world']\n",
        "l"
      ],
      "execution_count": 0,
      "outputs": [
        {
          "output_type": "execute_result",
          "data": {
            "text/plain": [
              "[1, 2, 'hello', 'world']"
            ]
          },
          "metadata": {
            "tags": []
          },
          "execution_count": 1
        }
      ]
    },
    {
      "cell_type": "code",
      "metadata": {
        "id": "9aqbqyAWZRBr",
        "colab_type": "code",
        "outputId": "aa174e96-b6d6-4b9e-d4d1-0422cf42bd2e",
        "colab": {
          "base_uri": "https://localhost:8080/",
          "height": 34
        }
      },
      "source": [
        "tup = ('jason', 22)\n",
        "\n",
        "tup\n"
      ],
      "execution_count": 0,
      "outputs": [
        {
          "output_type": "execute_result",
          "data": {
            "text/plain": [
              "('jason', 22)"
            ]
          },
          "metadata": {
            "tags": []
          },
          "execution_count": 2
        }
      ]
    },
    {
      "cell_type": "markdown",
      "metadata": {
        "id": "Thc77weGZ1GX",
        "colab_type": "text"
      },
      "source": [
        "###列表是动态的，长度大小不固定，可以随意地增加、删减或者改变元素（mutable）。  \n",
        "###元组是静态的，长度大小固定，无法增加删减或者改变（immutable）。\n"
      ]
    },
    {
      "cell_type": "code",
      "metadata": {
        "id": "WKB31KW6aXia",
        "colab_type": "code",
        "outputId": "bffb899e-23fe-4cbe-82ee-a0537d15f103",
        "colab": {
          "base_uri": "https://localhost:8080/",
          "height": 34
        }
      },
      "source": [
        "l = [1, 2, 3, 4]\n",
        "l[3] = 40 \n",
        "l"
      ],
      "execution_count": 0,
      "outputs": [
        {
          "output_type": "execute_result",
          "data": {
            "text/plain": [
              "[1, 2, 3, 40]"
            ]
          },
          "metadata": {
            "tags": []
          },
          "execution_count": 63
        }
      ]
    },
    {
      "cell_type": "code",
      "metadata": {
        "id": "pmqQjlykanVK",
        "colab_type": "code",
        "outputId": "17412a88-f473-4db2-e43f-b8293de8d3f9",
        "colab": {
          "base_uri": "https://localhost:8080/",
          "height": 205
        }
      },
      "source": [
        "tup = (1, 2, 3, 4)\n",
        "tup[3] = 40"
      ],
      "execution_count": 0,
      "outputs": [
        {
          "output_type": "error",
          "ename": "TypeError",
          "evalue": "ignored",
          "traceback": [
            "\u001b[0;31m---------------------------------------------------------------------------\u001b[0m",
            "\u001b[0;31mTypeError\u001b[0m                                 Traceback (most recent call last)",
            "\u001b[0;32m<ipython-input-3-c2b03e8e4127>\u001b[0m in \u001b[0;36m<module>\u001b[0;34m()\u001b[0m\n\u001b[1;32m      1\u001b[0m \u001b[0mtup\u001b[0m \u001b[0;34m=\u001b[0m \u001b[0;34m(\u001b[0m\u001b[0;36m1\u001b[0m\u001b[0;34m,\u001b[0m \u001b[0;36m2\u001b[0m\u001b[0;34m,\u001b[0m \u001b[0;36m3\u001b[0m\u001b[0;34m,\u001b[0m \u001b[0;36m4\u001b[0m\u001b[0;34m)\u001b[0m\u001b[0;34m\u001b[0m\u001b[0;34m\u001b[0m\u001b[0m\n\u001b[0;32m----> 2\u001b[0;31m \u001b[0mtup\u001b[0m\u001b[0;34m[\u001b[0m\u001b[0;36m3\u001b[0m\u001b[0;34m]\u001b[0m \u001b[0;34m=\u001b[0m \u001b[0;36m40\u001b[0m\u001b[0;34m\u001b[0m\u001b[0;34m\u001b[0m\u001b[0m\n\u001b[0m",
            "\u001b[0;31mTypeError\u001b[0m: 'tuple' object does not support item assignment"
          ]
        }
      ]
    },
    {
      "cell_type": "markdown",
      "metadata": {
        "id": "ZRAGlqZFa5od",
        "colab_type": "text"
      },
      "source": [
        "###列表和元组增加一个元素"
      ]
    },
    {
      "cell_type": "code",
      "metadata": {
        "id": "ke6FwXM5bD_O",
        "colab_type": "code",
        "outputId": "9f6c7d01-0ebd-43a3-a682-0d2903aef874",
        "colab": {
          "base_uri": "https://localhost:8080/",
          "height": 34
        }
      },
      "source": [
        "tup = (1, 2, 3, 4)\n",
        "new_tup = tup + (5, ) # 创建新的元组 new_tup，并依次填充原元组的值\n",
        "new_tup"
      ],
      "execution_count": 0,
      "outputs": [
        {
          "output_type": "execute_result",
          "data": {
            "text/plain": [
              "(1, 2, 3, 4, 5)"
            ]
          },
          "metadata": {
            "tags": []
          },
          "execution_count": 4
        }
      ]
    },
    {
      "cell_type": "code",
      "metadata": {
        "id": "lsKh1VEXbOoQ",
        "colab_type": "code",
        "outputId": "19c1212d-8a7a-499d-84c0-89dde9720d62",
        "colab": {
          "base_uri": "https://localhost:8080/",
          "height": 34
        }
      },
      "source": [
        "l = [1, 2, 3, 4]\n",
        "l.append(5) # 添加元素 5 到原列表的末尾\n",
        "l"
      ],
      "execution_count": 0,
      "outputs": [
        {
          "output_type": "execute_result",
          "data": {
            "text/plain": [
              "[1, 2, 3, 4, 5]"
            ]
          },
          "metadata": {
            "tags": []
          },
          "execution_count": 5
        }
      ]
    },
    {
      "cell_type": "markdown",
      "metadata": {
        "id": "76jDDynBbe-C",
        "colab_type": "text"
      },
      "source": [
        "###列表和元组都支持负数索引，-1 表示最后一个元素，-2 表示倒数第二个元素。"
      ]
    },
    {
      "cell_type": "code",
      "metadata": {
        "id": "aNBrAxYCbh6g",
        "colab_type": "code",
        "outputId": "dc115cd3-1ea1-4ce7-f57f-fa25e9be91e8",
        "colab": {
          "base_uri": "https://localhost:8080/",
          "height": 34
        }
      },
      "source": [
        "l = [1, 2, 3, 4]\n",
        "l[-1]"
      ],
      "execution_count": 0,
      "outputs": [
        {
          "output_type": "execute_result",
          "data": {
            "text/plain": [
              "4"
            ]
          },
          "metadata": {
            "tags": []
          },
          "execution_count": 6
        }
      ]
    },
    {
      "cell_type": "code",
      "metadata": {
        "id": "gu6qeprYbpdt",
        "colab_type": "code",
        "outputId": "32be97cf-d3ec-46c6-8584-dba31932573b",
        "colab": {
          "base_uri": "https://localhost:8080/",
          "height": 34
        }
      },
      "source": [
        "tup = (1, 2, 3, 4)\n",
        "tup[-1]"
      ],
      "execution_count": 0,
      "outputs": [
        {
          "output_type": "execute_result",
          "data": {
            "text/plain": [
              "4"
            ]
          },
          "metadata": {
            "tags": []
          },
          "execution_count": 7
        }
      ]
    },
    {
      "cell_type": "markdown",
      "metadata": {
        "id": "6rZF3VVLbvRz",
        "colab_type": "text"
      },
      "source": [
        "###列表和元组都支持切片操作"
      ]
    },
    {
      "cell_type": "code",
      "metadata": {
        "id": "I7jeo6dFbyox",
        "colab_type": "code",
        "outputId": "c063d0be-85f5-4d93-ece6-01f55009325c",
        "colab": {
          "base_uri": "https://localhost:8080/",
          "height": 34
        }
      },
      "source": [
        "l = [1, 2, 3, 4]\n",
        "l[1:3] # 返回列表中索引从 1 到 2 的子列表\n"
      ],
      "execution_count": 0,
      "outputs": [
        {
          "output_type": "execute_result",
          "data": {
            "text/plain": [
              "[2, 3]"
            ]
          },
          "metadata": {
            "tags": []
          },
          "execution_count": 8
        }
      ]
    },
    {
      "cell_type": "code",
      "metadata": {
        "id": "4Lrjw4wvb1q7",
        "colab_type": "code",
        "outputId": "5f379876-e43b-4ea7-b711-b6d03356482c",
        "colab": {
          "base_uri": "https://localhost:8080/",
          "height": 34
        }
      },
      "source": [
        "tup = (1, 2, 3, 4)\n",
        "tup[1:3] # 返回元组中索引从 1 到 2 的子元组\n"
      ],
      "execution_count": 0,
      "outputs": [
        {
          "output_type": "execute_result",
          "data": {
            "text/plain": [
              "(2, 3)"
            ]
          },
          "metadata": {
            "tags": []
          },
          "execution_count": 9
        }
      ]
    },
    {
      "cell_type": "markdown",
      "metadata": {
        "id": "lpyQTzHHcJWe",
        "colab_type": "text"
      },
      "source": [
        "###列表和元组都可以随意嵌套"
      ]
    },
    {
      "cell_type": "code",
      "metadata": {
        "id": "NX8QMlstcMVA",
        "colab_type": "code",
        "outputId": "eb168c62-a95c-47fa-eb3f-861f822b8c2a",
        "colab": {
          "base_uri": "https://localhost:8080/",
          "height": 34
        }
      },
      "source": [
        "l = [[1, 2, 3], [4, 5]] # 列表的每一个元素也是一个列表\n",
        "l"
      ],
      "execution_count": 0,
      "outputs": [
        {
          "output_type": "execute_result",
          "data": {
            "text/plain": [
              "[[1, 2, 3], [4, 5]]"
            ]
          },
          "metadata": {
            "tags": []
          },
          "execution_count": 10
        }
      ]
    },
    {
      "cell_type": "code",
      "metadata": {
        "id": "YwjKySxXcMgI",
        "colab_type": "code",
        "outputId": "a51e5637-d059-4e2b-a341-a38174aed028",
        "colab": {
          "base_uri": "https://localhost:8080/",
          "height": 34
        }
      },
      "source": [
        "tup = ((1, 2, 3), (4, 5, 6)) # 元组的每一个元素也是一元组\n",
        "tup"
      ],
      "execution_count": 0,
      "outputs": [
        {
          "output_type": "execute_result",
          "data": {
            "text/plain": [
              "((1, 2, 3), (4, 5, 6))"
            ]
          },
          "metadata": {
            "tags": []
          },
          "execution_count": 11
        }
      ]
    },
    {
      "cell_type": "markdown",
      "metadata": {
        "id": "O8svH2sJcmWk",
        "colab_type": "text"
      },
      "source": [
        "###元组跟列表通过 list() 和 tuple() 函数相互转化"
      ]
    },
    {
      "cell_type": "code",
      "metadata": {
        "id": "ucRA1Y56cyvH",
        "colab_type": "code",
        "outputId": "6c808929-ba86-43e6-c8ef-769b75415e2f",
        "colab": {
          "base_uri": "https://localhost:8080/",
          "height": 34
        }
      },
      "source": [
        "list((1,2,3))"
      ],
      "execution_count": 0,
      "outputs": [
        {
          "output_type": "execute_result",
          "data": {
            "text/plain": [
              "[1, 2, 3]"
            ]
          },
          "metadata": {
            "tags": []
          },
          "execution_count": 1
        }
      ]
    },
    {
      "cell_type": "code",
      "metadata": {
        "id": "lTwuaWRLc4zX",
        "colab_type": "code",
        "outputId": "28869321-e00d-43c3-95bb-709df06807a4",
        "colab": {
          "base_uri": "https://localhost:8080/",
          "height": 34
        }
      },
      "source": [
        "tuple([1, 2, 3])"
      ],
      "execution_count": 0,
      "outputs": [
        {
          "output_type": "execute_result",
          "data": {
            "text/plain": [
              "(1, 2, 3)"
            ]
          },
          "metadata": {
            "tags": []
          },
          "execution_count": 12
        }
      ]
    },
    {
      "cell_type": "markdown",
      "metadata": {
        "id": "xrjtH8EsflVz",
        "colab_type": "text"
      },
      "source": [
        "###列表和元组常用的内置函数"
      ]
    },
    {
      "cell_type": "code",
      "metadata": {
        "id": "mNPjTEekfwZf",
        "colab_type": "code",
        "outputId": "63397930-33a7-43ac-c68b-9ef18742007b",
        "colab": {
          "base_uri": "https://localhost:8080/",
          "height": 34
        }
      },
      "source": [
        "l = [3, 2, 3, 7, 8, 1] #count(item) 表示统计列表 / 元组中 item 出现的次数\n",
        "l.count(3)"
      ],
      "execution_count": 0,
      "outputs": [
        {
          "output_type": "execute_result",
          "data": {
            "text/plain": [
              "2"
            ]
          },
          "metadata": {
            "tags": []
          },
          "execution_count": 21
        }
      ]
    },
    {
      "cell_type": "code",
      "metadata": {
        "id": "M62BTOe8f1_U",
        "colab_type": "code",
        "outputId": "604aac6a-865a-4f9e-8123-bc6be971c552",
        "colab": {
          "base_uri": "https://localhost:8080/",
          "height": 34
        }
      },
      "source": [
        "l.index(7)"
      ],
      "execution_count": 0,
      "outputs": [
        {
          "output_type": "execute_result",
          "data": {
            "text/plain": [
              "3"
            ]
          },
          "metadata": {
            "tags": []
          },
          "execution_count": 14
        }
      ]
    },
    {
      "cell_type": "code",
      "metadata": {
        "id": "gwgl1mY7f2Jd",
        "colab_type": "code",
        "outputId": "2f2f5148-9513-4504-e17c-dd1bbdfcf057",
        "colab": {
          "base_uri": "https://localhost:8080/",
          "height": 34
        }
      },
      "source": [
        "l.reverse()\n",
        "l"
      ],
      "execution_count": 0,
      "outputs": [
        {
          "output_type": "execute_result",
          "data": {
            "text/plain": [
              "[1, 8, 7, 3, 2, 3]"
            ]
          },
          "metadata": {
            "tags": []
          },
          "execution_count": 15
        }
      ]
    },
    {
      "cell_type": "code",
      "metadata": {
        "id": "9tRIP-hEf2SW",
        "colab_type": "code",
        "colab": {}
      },
      "source": [
        "l.sort()\n",
        "l"
      ],
      "execution_count": 0,
      "outputs": []
    },
    {
      "cell_type": "code",
      "metadata": {
        "id": "OhdM2Mkbg38t",
        "colab_type": "code",
        "outputId": "5b2e20de-7466-4e0f-b826-ff39ee438a44",
        "colab": {
          "base_uri": "https://localhost:8080/",
          "height": 34
        }
      },
      "source": [
        "tup = (3, 2, 3, 7, 8, 1)\n",
        "tup.count(3)"
      ],
      "execution_count": 0,
      "outputs": [
        {
          "output_type": "execute_result",
          "data": {
            "text/plain": [
              "2"
            ]
          },
          "metadata": {
            "tags": []
          },
          "execution_count": 17
        }
      ]
    },
    {
      "cell_type": "code",
      "metadata": {
        "id": "Lc-Wz7jgg4M2",
        "colab_type": "code",
        "outputId": "2090b6fd-d46a-4f78-f337-d941fbd019fc",
        "colab": {
          "base_uri": "https://localhost:8080/",
          "height": 34
        }
      },
      "source": [
        "tup = (3, 2, 3, 7, 8, 1)\n",
        "tup.index(7)"
      ],
      "execution_count": 0,
      "outputs": [
        {
          "output_type": "execute_result",
          "data": {
            "text/plain": [
              "3"
            ]
          },
          "metadata": {
            "tags": []
          },
          "execution_count": 18
        }
      ]
    },
    {
      "cell_type": "code",
      "metadata": {
        "id": "IjtxOhnkhDvw",
        "colab_type": "code",
        "outputId": "79affe4d-5b15-4e7c-9693-3159d206606b",
        "colab": {
          "base_uri": "https://localhost:8080/",
          "height": 34
        }
      },
      "source": [
        "tup = (3, 2, 3, 7, 8, 1)\n",
        "list(reversed(tup))"
      ],
      "execution_count": 0,
      "outputs": [
        {
          "output_type": "execute_result",
          "data": {
            "text/plain": [
              "[1, 8, 7, 3, 2, 3]"
            ]
          },
          "metadata": {
            "tags": []
          },
          "execution_count": 19
        }
      ]
    },
    {
      "cell_type": "code",
      "metadata": {
        "id": "64iDTxqDhjEW",
        "colab_type": "code",
        "outputId": "4326b441-beda-40d0-c2d8-c3895b4b730f",
        "colab": {
          "base_uri": "https://localhost:8080/",
          "height": 34
        }
      },
      "source": [
        "sorted(tup)"
      ],
      "execution_count": 0,
      "outputs": [
        {
          "output_type": "execute_result",
          "data": {
            "text/plain": [
              "[1, 2, 3, 3, 7, 8]"
            ]
          },
          "metadata": {
            "tags": []
          },
          "execution_count": 20
        }
      ]
    },
    {
      "cell_type": "markdown",
      "metadata": {
        "id": "lwxXhUX-h5mG",
        "colab_type": "text"
      },
      "source": [
        "###列表和元组存储方式的差异：\n",
        "列表是动态的，它需要存储指针，来指向对应的元素  \n",
        "列表可变，所以需要额外存储已经分配的长度大小（8 字节）  \n",
        "元组长度大小固定，元素不可变，所以存储空间固定"
      ]
    },
    {
      "cell_type": "code",
      "metadata": {
        "id": "vmLVlNKTiTZg",
        "colab_type": "code",
        "outputId": "d4132afb-582b-43e3-f8b9-3d4ebf61f26d",
        "colab": {
          "base_uri": "https://localhost:8080/",
          "height": 34
        }
      },
      "source": [
        "l = [1, 2, 3]\n",
        "l.__sizeof__()"
      ],
      "execution_count": 0,
      "outputs": [
        {
          "output_type": "execute_result",
          "data": {
            "text/plain": [
              "64"
            ]
          },
          "metadata": {
            "tags": []
          },
          "execution_count": 22
        }
      ]
    },
    {
      "cell_type": "code",
      "metadata": {
        "id": "mlP5GlCHiZOW",
        "colab_type": "code",
        "outputId": "e429b455-ca35-412f-ab63-f4b6758e55a5",
        "colab": {
          "base_uri": "https://localhost:8080/",
          "height": 34
        }
      },
      "source": [
        "tup = (1, 2, 3)\n",
        "tup.__sizeof__()"
      ],
      "execution_count": 0,
      "outputs": [
        {
          "output_type": "execute_result",
          "data": {
            "text/plain": [
              "48"
            ]
          },
          "metadata": {
            "tags": []
          },
          "execution_count": 23
        }
      ]
    },
    {
      "cell_type": "code",
      "metadata": {
        "id": "4eztv8Txiya5",
        "colab_type": "code",
        "outputId": "1f08926e-3d09-48da-8769-4ff8fbd20b80",
        "colab": {
          "base_uri": "https://localhost:8080/",
          "height": 34
        }
      },
      "source": [
        "l = []\n",
        "l.__sizeof__()"
      ],
      "execution_count": 0,
      "outputs": [
        {
          "output_type": "execute_result",
          "data": {
            "text/plain": [
              "40"
            ]
          },
          "metadata": {
            "tags": []
          },
          "execution_count": 24
        }
      ]
    },
    {
      "cell_type": "code",
      "metadata": {
        "id": "UD97kLAPiyjI",
        "colab_type": "code",
        "outputId": "12204ad1-46d9-4f8a-a591-4e72e53b4774",
        "colab": {
          "base_uri": "https://localhost:8080/",
          "height": 34
        }
      },
      "source": [
        "l.append(1)\n",
        "l.__sizeof__() \n"
      ],
      "execution_count": 0,
      "outputs": [
        {
          "output_type": "execute_result",
          "data": {
            "text/plain": [
              "72"
            ]
          },
          "metadata": {
            "tags": []
          },
          "execution_count": 25
        }
      ]
    },
    {
      "cell_type": "code",
      "metadata": {
        "id": "44YSTh7HjNOE",
        "colab_type": "code",
        "outputId": "0c8d3059-5363-4c6e-cd89-267fba52d42d",
        "colab": {
          "base_uri": "https://localhost:8080/",
          "height": 34
        }
      },
      "source": [
        "l.append(2) \n",
        "l.__sizeof__()"
      ],
      "execution_count": 0,
      "outputs": [
        {
          "output_type": "execute_result",
          "data": {
            "text/plain": [
              "72"
            ]
          },
          "metadata": {
            "tags": []
          },
          "execution_count": 26
        }
      ]
    },
    {
      "cell_type": "code",
      "metadata": {
        "id": "X2F9SCjkjQQl",
        "colab_type": "code",
        "outputId": "5e61e975-b242-4ef3-935d-d4fc387cacf0",
        "colab": {
          "base_uri": "https://localhost:8080/",
          "height": 34
        }
      },
      "source": [
        "l.append(3)\n",
        "l.__sizeof__() "
      ],
      "execution_count": 0,
      "outputs": [
        {
          "output_type": "execute_result",
          "data": {
            "text/plain": [
              "72"
            ]
          },
          "metadata": {
            "tags": []
          },
          "execution_count": 27
        }
      ]
    },
    {
      "cell_type": "code",
      "metadata": {
        "id": "8am45x0fjVw0",
        "colab_type": "code",
        "outputId": "8f0cb10a-7721-4a04-bf64-66cf24471dd8",
        "colab": {
          "base_uri": "https://localhost:8080/",
          "height": 34
        }
      },
      "source": [
        "l.append(4)\n",
        "l.__sizeof__() "
      ],
      "execution_count": 0,
      "outputs": [
        {
          "output_type": "execute_result",
          "data": {
            "text/plain": [
              "72"
            ]
          },
          "metadata": {
            "tags": []
          },
          "execution_count": 28
        }
      ]
    },
    {
      "cell_type": "code",
      "metadata": {
        "id": "RLNQiqs_jVzu",
        "colab_type": "code",
        "outputId": "6fe52335-0539-42cd-a0d3-aafdb2c571b6",
        "colab": {
          "base_uri": "https://localhost:8080/",
          "height": 34
        }
      },
      "source": [
        "l.append(5)\n",
        "l.__sizeof__() "
      ],
      "execution_count": 0,
      "outputs": [
        {
          "output_type": "execute_result",
          "data": {
            "text/plain": [
              "104"
            ]
          },
          "metadata": {
            "tags": []
          },
          "execution_count": 29
        }
      ]
    },
    {
      "cell_type": "markdown",
      "metadata": {
        "id": "WfHys8n9j-B6",
        "colab_type": "text"
      },
      "source": [
        "###列表和元组的性能：\n",
        "元组要比列表更加轻量级一些，元组的性能速度要略优于列表"
      ]
    },
    {
      "cell_type": "markdown",
      "metadata": {
        "id": "ggJC2hbvl9nC",
        "colab_type": "text"
      },
      "source": [
        "###列表和元组的使用场景\n",
        "如果存储的数据和数量不变,用元组。  \n",
        "如果存储的数据或数量是可变的，用列表。"
      ]
    },
    {
      "cell_type": "markdown",
      "metadata": {
        "id": "0OFKrDbLbWfj",
        "colab_type": "text"
      },
      "source": [
        "###列表和元组的性能\n"
      ]
    },
    {
      "cell_type": "markdown",
      "metadata": {
        "id": "yvpZAKtDbjbl",
        "colab_type": "text"
      },
      "source": [
        "初始化的速度"
      ]
    },
    {
      "cell_type": "code",
      "metadata": {
        "id": "hgrBC36ua2ou",
        "colab_type": "code",
        "outputId": "63ec395d-b601-4436-80fc-d2b303d2a7c4",
        "colab": {
          "base_uri": "https://localhost:8080/",
          "height": 34
        }
      },
      "source": [
        "!python3 -m timeit 'x=(1,2,3,4,5,6)'\n"
      ],
      "execution_count": 0,
      "outputs": [
        {
          "output_type": "stream",
          "text": [
            "10000000 loops, best of 3: 0.0282 usec per loop\n"
          ],
          "name": "stdout"
        }
      ]
    },
    {
      "cell_type": "code",
      "metadata": {
        "id": "Juc1bCqca79Z",
        "colab_type": "code",
        "outputId": "5dc49ac3-c786-4250-ced7-3d04007f5239",
        "colab": {
          "base_uri": "https://localhost:8080/",
          "height": 34
        }
      },
      "source": [
        "!python3 -m timeit 'x=[1,2,3,4,5,6]'"
      ],
      "execution_count": 0,
      "outputs": [
        {
          "output_type": "stream",
          "text": [
            "10000000 loops, best of 3: 0.13 usec per loop\n"
          ],
          "name": "stdout"
        }
      ]
    },
    {
      "cell_type": "markdown",
      "metadata": {
        "id": "uf0fVDYDbnXd",
        "colab_type": "text"
      },
      "source": [
        "索引操作的速度"
      ]
    },
    {
      "cell_type": "code",
      "metadata": {
        "id": "e-sYLsDFbqAD",
        "colab_type": "code",
        "outputId": "07a2025e-7fc4-4112-f623-9100dcdd64b6",
        "colab": {
          "base_uri": "https://localhost:8080/",
          "height": 34
        }
      },
      "source": [
        "!python3 -m timeit -s 'x=[1,2,3,4,5,6]' 'y=x[3]'"
      ],
      "execution_count": 0,
      "outputs": [
        {
          "output_type": "stream",
          "text": [
            "10000000 loops, best of 3: 0.0472 usec per loop\n"
          ],
          "name": "stdout"
        }
      ]
    },
    {
      "cell_type": "code",
      "metadata": {
        "id": "reFz8e3XbqLG",
        "colab_type": "code",
        "outputId": "fd9adf65-2b5a-44fa-f924-717f120cd20f",
        "colab": {
          "base_uri": "https://localhost:8080/",
          "height": 34
        }
      },
      "source": [
        "!python3 -m timeit -s 'x=(1,2,3,4,5,6)' 'y=x[3]'\n"
      ],
      "execution_count": 0,
      "outputs": [
        {
          "output_type": "stream",
          "text": [
            "10000000 loops, best of 3: 0.0458 usec per loop\n"
          ],
          "name": "stdout"
        }
      ]
    },
    {
      "cell_type": "markdown",
      "metadata": {
        "id": "FoZjZ1-Cb2Jo",
        "colab_type": "text"
      },
      "source": [
        "***\n",
        "***"
      ]
    },
    {
      "cell_type": "markdown",
      "metadata": {
        "id": "XDSi4s4XdFBW",
        "colab_type": "text"
      },
      "source": [
        "#字典和集合"
      ]
    },
    {
      "cell_type": "markdown",
      "metadata": {
        "id": "cuH5u0t2dm5C",
        "colab_type": "text"
      },
      "source": [
        "###字典和集合基础\n",
        "字典是一系列无序元素的组合，其长度大小可变，元素可以任意地删减和改变。  \n",
        "*元素，一对键（key）和值（value）的配对*\n",
        "\n",
        "集合是一系列无序的、唯一的元素组合。\n"
      ]
    },
    {
      "cell_type": "markdown",
      "metadata": {
        "id": "O6ir5ypDjP_V",
        "colab_type": "text"
      },
      "source": [
        "###字典和集合的创建"
      ]
    },
    {
      "cell_type": "code",
      "metadata": {
        "id": "X4N6fM7deT7F",
        "colab_type": "code",
        "outputId": "895efba6-303e-4e60-e709-f40958a675dd",
        "colab": {
          "base_uri": "https://localhost:8080/",
          "height": 34
        }
      },
      "source": [
        "d1 = {'name': 'jason', 'age': 20, 'gender': 'male'}\n",
        "d2 = dict({'name': 'jason', 'age': 20, 'gender': 'male'})\n",
        "d3 = dict([('name', 'jason'), ('age', 20), ('gender', 'male')])\n",
        "d4 = dict(name='jason', age=20, gender='male') \n",
        "d1 == d2 == d3 ==d4"
      ],
      "execution_count": 0,
      "outputs": [
        {
          "output_type": "execute_result",
          "data": {
            "text/plain": [
              "True"
            ]
          },
          "metadata": {
            "tags": []
          },
          "execution_count": 36
        }
      ]
    },
    {
      "cell_type": "code",
      "metadata": {
        "id": "xQolahaOjfFP",
        "colab_type": "code",
        "outputId": "2548fc8a-0014-45a3-ab41-9125d28efbb0",
        "colab": {
          "base_uri": "https://localhost:8080/",
          "height": 34
        }
      },
      "source": [
        "s1 = {1, 2, 3}\n",
        "s2 = set([1, 2, 3])\n",
        "s1 == s2"
      ],
      "execution_count": 0,
      "outputs": [
        {
          "output_type": "execute_result",
          "data": {
            "text/plain": [
              "True"
            ]
          },
          "metadata": {
            "tags": []
          },
          "execution_count": 38
        }
      ]
    },
    {
      "cell_type": "markdown",
      "metadata": {
        "id": "QZw-ii8TqMor",
        "colab_type": "text"
      },
      "source": [
        "###元素访问"
      ]
    },
    {
      "cell_type": "markdown",
      "metadata": {
        "id": "JokTSJvzqTmk",
        "colab_type": "text"
      },
      "source": [
        "字典访问可以直接索引键，如果不存在，就会抛出异常：\n"
      ]
    },
    {
      "cell_type": "code",
      "metadata": {
        "id": "dMTJQPZ2qY2u",
        "colab_type": "code",
        "outputId": "a568a836-d959-4e18-c8d5-aad030d6dc6e",
        "colab": {
          "base_uri": "https://localhost:8080/",
          "height": 34
        }
      },
      "source": [
        "d = {'name': 'jason', 'age': 20}\n",
        "d['name']"
      ],
      "execution_count": 0,
      "outputs": [
        {
          "output_type": "execute_result",
          "data": {
            "text/plain": [
              "'jason'"
            ]
          },
          "metadata": {
            "tags": []
          },
          "execution_count": 39
        }
      ]
    },
    {
      "cell_type": "code",
      "metadata": {
        "id": "LMV3mrQwq3fd",
        "colab_type": "code",
        "outputId": "6ab229d2-f889-4e6b-e747-4ca4d813e4aa",
        "colab": {
          "base_uri": "https://localhost:8080/",
          "height": 188
        }
      },
      "source": [
        "d['location']"
      ],
      "execution_count": 0,
      "outputs": [
        {
          "output_type": "error",
          "ename": "KeyError",
          "evalue": "ignored",
          "traceback": [
            "\u001b[0;31m---------------------------------------------------------------------------\u001b[0m",
            "\u001b[0;31mKeyError\u001b[0m                                  Traceback (most recent call last)",
            "\u001b[0;32m<ipython-input-40-46d978634ca1>\u001b[0m in \u001b[0;36m<module>\u001b[0;34m()\u001b[0m\n\u001b[0;32m----> 1\u001b[0;31m \u001b[0md\u001b[0m\u001b[0;34m[\u001b[0m\u001b[0;34m'location'\u001b[0m\u001b[0;34m]\u001b[0m\u001b[0;34m\u001b[0m\u001b[0;34m\u001b[0m\u001b[0m\n\u001b[0m",
            "\u001b[0;31mKeyError\u001b[0m: 'location'"
          ]
        }
      ]
    },
    {
      "cell_type": "markdown",
      "metadata": {
        "id": "JZ0F-xqYq-Jv",
        "colab_type": "text"
      },
      "source": [
        "get(key, default) 函数来进行索引  \n",
        "如果键不存在，调用 get() 函数可以返回一个默认值\n",
        "\n"
      ]
    },
    {
      "cell_type": "code",
      "metadata": {
        "id": "9nLPnMaurO_G",
        "colab_type": "code",
        "outputId": "4d65c554-d3d8-4c63-c753-459f1ceb412e",
        "colab": {
          "base_uri": "https://localhost:8080/",
          "height": 34
        }
      },
      "source": [
        "d = {'name': 'jason', 'age': 20}\n",
        "d.get('name')\n"
      ],
      "execution_count": 0,
      "outputs": [
        {
          "output_type": "execute_result",
          "data": {
            "text/plain": [
              "'jason'"
            ]
          },
          "metadata": {
            "tags": []
          },
          "execution_count": 44
        }
      ]
    },
    {
      "cell_type": "code",
      "metadata": {
        "id": "rRdHZ8PjrVvJ",
        "colab_type": "code",
        "outputId": "0bf3aa0c-e197-4c6c-b8cb-5f0e689e1cad",
        "colab": {
          "base_uri": "https://localhost:8080/",
          "height": 34
        }
      },
      "source": [
        "d.get('location', 'null')\n",
        "'null'\n"
      ],
      "execution_count": 0,
      "outputs": [
        {
          "output_type": "execute_result",
          "data": {
            "text/plain": [
              "'null'"
            ]
          },
          "metadata": {
            "tags": []
          },
          "execution_count": 45
        }
      ]
    },
    {
      "cell_type": "markdown",
      "metadata": {
        "id": "m6g7GdtjrsJH",
        "colab_type": "text"
      },
      "source": [
        "集合并不支持索引操作，集合本质上是一个哈希表，和列表不一样。"
      ]
    },
    {
      "cell_type": "markdown",
      "metadata": {
        "id": "i7vk25m5r4nh",
        "colab_type": "text"
      },
      "source": [
        "判断一个元素在不在字典或集合内，用 value in dict/set 来判断。"
      ]
    },
    {
      "cell_type": "markdown",
      "metadata": {
        "id": "9dCwhFjZsKvQ",
        "colab_type": "text"
      },
      "source": [
        "###字典和集合的增加、删除、更新操作"
      ]
    },
    {
      "cell_type": "code",
      "metadata": {
        "id": "sndgjjpRsYWI",
        "colab_type": "code",
        "outputId": "0ad6cc86-d42e-41bb-8279-38b3f399ebf7",
        "colab": {
          "base_uri": "https://localhost:8080/",
          "height": 34
        }
      },
      "source": [
        "d = {'name': 'jason', 'age': 20}\n",
        "d['gender'] = 'male' # 增加元素对'gender': 'male'\n",
        "d['dob'] = '1999-02-01' # 增加元素对'dob': '1999-02-01'\n",
        "d\n"
      ],
      "execution_count": 0,
      "outputs": [
        {
          "output_type": "execute_result",
          "data": {
            "text/plain": [
              "{'age': 20, 'dob': '1999-02-01', 'gender': 'male', 'name': 'jason'}"
            ]
          },
          "metadata": {
            "tags": []
          },
          "execution_count": 46
        }
      ]
    },
    {
      "cell_type": "code",
      "metadata": {
        "id": "0cXDx33_sZzl",
        "colab_type": "code",
        "outputId": "4f6a443f-a508-4ea1-97ec-dae1bd3da81b",
        "colab": {
          "base_uri": "https://localhost:8080/",
          "height": 34
        }
      },
      "source": [
        "d.pop('dob') # 删除键为'dob'的元素对\n"
      ],
      "execution_count": 0,
      "outputs": [
        {
          "output_type": "execute_result",
          "data": {
            "text/plain": [
              "'1999-02-01'"
            ]
          },
          "metadata": {
            "tags": []
          },
          "execution_count": 47
        }
      ]
    },
    {
      "cell_type": "code",
      "metadata": {
        "id": "Waxrnyl4saBH",
        "colab_type": "code",
        "outputId": "a4e26e56-e915-4b52-a9aa-3446828a91e8",
        "colab": {
          "base_uri": "https://localhost:8080/",
          "height": 34
        }
      },
      "source": [
        "d"
      ],
      "execution_count": 0,
      "outputs": [
        {
          "output_type": "execute_result",
          "data": {
            "text/plain": [
              "{'age': 20, 'gender': 'male', 'name': 'jason'}"
            ]
          },
          "metadata": {
            "tags": []
          },
          "execution_count": 48
        }
      ]
    },
    {
      "cell_type": "code",
      "metadata": {
        "id": "VPAj7RfKs5Fi",
        "colab_type": "code",
        "outputId": "d2ec9cdb-07a2-4d18-b973-1b23424ad2bb",
        "colab": {
          "base_uri": "https://localhost:8080/",
          "height": 34
        }
      },
      "source": [
        "s = {1, 2, 3}\n",
        "s.add(4) # 增加元素 4 到集合\n",
        "s"
      ],
      "execution_count": 0,
      "outputs": [
        {
          "output_type": "execute_result",
          "data": {
            "text/plain": [
              "{1, 2, 3, 4}"
            ]
          },
          "metadata": {
            "tags": []
          },
          "execution_count": 49
        }
      ]
    },
    {
      "cell_type": "code",
      "metadata": {
        "id": "Roz8tp00tqkQ",
        "colab_type": "code",
        "outputId": "1767798a-3e0b-43dd-e881-8fb43ea10e62",
        "colab": {
          "base_uri": "https://localhost:8080/",
          "height": 34
        }
      },
      "source": [
        "\n",
        "s.remove(4) # 从集合中删除元素 4\n",
        "s\n"
      ],
      "execution_count": 0,
      "outputs": [
        {
          "output_type": "execute_result",
          "data": {
            "text/plain": [
              "{1, 2, 3}"
            ]
          },
          "metadata": {
            "tags": []
          },
          "execution_count": 50
        }
      ]
    },
    {
      "cell_type": "markdown",
      "metadata": {
        "id": "T7qsOn3ctu4p",
        "colab_type": "text"
      },
      "source": [
        "集合的 pop() 操作是删除集合中最后一个元素，可是集合本身是无序的，无法知道会删除哪个元素。"
      ]
    },
    {
      "cell_type": "markdown",
      "metadata": {
        "id": "sc0cBe5OezZ4",
        "colab_type": "text"
      },
      "source": [
        "###对字典和集合进行排序"
      ]
    },
    {
      "cell_type": "markdown",
      "metadata": {
        "id": "nepdL5hga8ya",
        "colab_type": "text"
      },
      "source": [
        "####对字典进行排序"
      ]
    },
    {
      "cell_type": "code",
      "metadata": {
        "id": "OVBSM0vCYcr0",
        "colab_type": "code",
        "outputId": "38f51b70-041c-4584-a6df-be5f7f02b00a",
        "colab": {
          "base_uri": "https://localhost:8080/",
          "height": 34
        }
      },
      "source": [
        "d = {'b': 1, 'a': 2, 'c': 10}\n",
        "d_sorted_by_key = sorted(d.items(), key=lambda x: x[0]) # 根据字典键的升序排序\n",
        "d_sorted_by_key\n"
      ],
      "execution_count": 0,
      "outputs": [
        {
          "output_type": "execute_result",
          "data": {
            "text/plain": [
              "[('a', 2), ('b', 1), ('c', 10)]"
            ]
          },
          "metadata": {
            "tags": []
          },
          "execution_count": 51
        }
      ]
    },
    {
      "cell_type": "code",
      "metadata": {
        "id": "THPFc_-qaHJv",
        "colab_type": "code",
        "outputId": "89331819-8e4b-4af4-fa3d-9b6f9f8b4411",
        "colab": {
          "base_uri": "https://localhost:8080/",
          "height": 34
        }
      },
      "source": [
        "d_sorted_by_value = sorted(d.items(), key=lambda x: x[1]) # 根据字典值的升序排序\n",
        "d_sorted_by_value"
      ],
      "execution_count": 0,
      "outputs": [
        {
          "output_type": "execute_result",
          "data": {
            "text/plain": [
              "[('b', 1), ('a', 2), ('c', 10)]"
            ]
          },
          "metadata": {
            "tags": []
          },
          "execution_count": 52
        }
      ]
    },
    {
      "cell_type": "markdown",
      "metadata": {
        "id": "vAFWUYJtbZAJ",
        "colab_type": "text"
      },
      "source": [
        "####对集合进行排序"
      ]
    },
    {
      "cell_type": "code",
      "metadata": {
        "id": "7kEKnuX8bczf",
        "colab_type": "code",
        "outputId": "f366446c-c295-4f76-b87d-8824be3143e3",
        "colab": {
          "base_uri": "https://localhost:8080/",
          "height": 34
        }
      },
      "source": [
        "s = {3, 4, 2, 1}\n",
        "sorted(s) # 对集合的元素进行升序排序\n",
        "\n"
      ],
      "execution_count": 0,
      "outputs": [
        {
          "output_type": "execute_result",
          "data": {
            "text/plain": [
              "[1, 2, 3, 4]"
            ]
          },
          "metadata": {
            "tags": []
          },
          "execution_count": 53
        }
      ]
    },
    {
      "cell_type": "markdown",
      "metadata": {
        "id": "ei0CpyNnbt15",
        "colab_type": "text"
      },
      "source": [
        "###字典和集合性能\n"
      ]
    },
    {
      "cell_type": "markdown",
      "metadata": {
        "id": "KFec43CmucHa",
        "colab_type": "text"
      },
      "source": [
        "**商企业的后台，存储了每件产品的 ID、名称和价格。现在的需求是，给定某件商品的 ID，我们要找出其价格**\n"
      ]
    },
    {
      "cell_type": "code",
      "metadata": {
        "id": "crlr8GFVukDZ",
        "colab_type": "code",
        "outputId": "1030876a-30c6-49bf-c99e-a70d3efdfacf",
        "colab": {
          "base_uri": "https://localhost:8080/",
          "height": 34
        }
      },
      "source": [
        "def find_product_price(products, product_id):\n",
        "    for id, price in products:\n",
        "        if id == product_id:\n",
        "            return price\n",
        "    return None \n",
        "     \n",
        "products = {\n",
        "  143121312: 100,\n",
        "  432314553: 30,\n",
        "  32421912367: 150\n",
        "}\n",
        "print('The price of product 432314553 is {}'.format(products[432314553])) \n"
      ],
      "execution_count": 68,
      "outputs": [
        {
          "output_type": "stream",
          "text": [
            "The price of product 432314553 is 30\n"
          ],
          "name": "stdout"
        }
      ]
    },
    {
      "cell_type": "markdown",
      "metadata": {
        "id": "aFYC0vl_c7gW",
        "colab_type": "text"
      },
      "source": [
        "####在列表中查找"
      ]
    },
    {
      "cell_type": "code",
      "metadata": {
        "id": "8OdmhD1Pc-SH",
        "colab_type": "code",
        "outputId": "af804c6c-0e52-46de-9155-18cff3479070",
        "colab": {
          "base_uri": "https://localhost:8080/",
          "height": 34
        }
      },
      "source": [
        "# list version\n",
        "def find_unique_price_using_list(products):\n",
        "    unique_price_list = []\n",
        "    for _, price in products: # A\n",
        "        if price not in unique_price_list: #B\n",
        "            unique_price_list.append(price)\n",
        "    return len(unique_price_list)\n",
        "\n",
        "products = [\n",
        "    (143121312, 100), \n",
        "    (432314553, 30),\n",
        "    (32421912367, 150),\n",
        "    (937153201, 30)\n",
        "]\n",
        "print('number of unique price is: {}'.format(find_unique_price_using_list(products)))\n",
        "\n"
      ],
      "execution_count": 69,
      "outputs": [
        {
          "output_type": "stream",
          "text": [
            "number of unique price is: 3\n"
          ],
          "name": "stdout"
        }
      ]
    },
    {
      "cell_type": "markdown",
      "metadata": {
        "id": "-EEb_2YadILe",
        "colab_type": "text"
      },
      "source": [
        "####在集合中查找"
      ]
    },
    {
      "cell_type": "code",
      "metadata": {
        "id": "zo6YLcHedMF1",
        "colab_type": "code",
        "outputId": "e77ea3ae-26b8-4584-a49a-07d83097d9b9",
        "colab": {
          "base_uri": "https://localhost:8080/",
          "height": 34
        }
      },
      "source": [
        "# set version\n",
        "def find_unique_price_using_set(products):\n",
        "    unique_price_set = set()\n",
        "    for _, price in products:\n",
        "        unique_price_set.add(price)\n",
        "    return len(unique_price_set)        \n",
        "\n",
        "products = [\n",
        "    (143121312, 100), \n",
        "    (432314553, 30),\n",
        "    (32421912367, 150),\n",
        "    (937153201, 30)\n",
        "]\n",
        "print('number of unique price is: {}'.format(find_unique_price_using_set(products)))"
      ],
      "execution_count": 70,
      "outputs": [
        {
          "output_type": "stream",
          "text": [
            "number of unique price is: 3\n"
          ],
          "name": "stdout"
        }
      ]
    },
    {
      "cell_type": "markdown",
      "metadata": {
        "id": "gMJX3GSkdvAV",
        "colab_type": "text"
      },
      "source": [
        "####使用列表和集合来统计产品价格数量的运行时间\n",
        "\n"
      ]
    },
    {
      "cell_type": "code",
      "metadata": {
        "id": "auW8c4hVd5Cj",
        "colab_type": "code",
        "outputId": "1b35ba84-175e-417a-d10c-6564fe192934",
        "colab": {
          "base_uri": "https://localhost:8080/",
          "height": 34
        }
      },
      "source": [
        "import time\n",
        "id = [x for x in range(0, 100000)]\n",
        "price = [x for x in range(200000, 300000)]\n",
        "products = list(zip(id, price))\n",
        "\n",
        "# 计算列表版本的时间\n",
        "start_using_list = time.perf_counter()\n",
        "find_unique_price_using_list(products)\n",
        "end_using_list = time.perf_counter()\n",
        "print(\"time elapse using list: {}\".format(end_using_list - start_using_list))"
      ],
      "execution_count": 71,
      "outputs": [
        {
          "output_type": "stream",
          "text": [
            "time elapse using list: 53.53159475800021\n"
          ],
          "name": "stdout"
        }
      ]
    },
    {
      "cell_type": "code",
      "metadata": {
        "id": "5eLSPMWPeDmi",
        "colab_type": "code",
        "outputId": "4c9594d7-0128-4855-ce1f-0040ef70464b",
        "colab": {
          "base_uri": "https://localhost:8080/",
          "height": 34
        }
      },
      "source": [
        "\n",
        "# 计算集合版本的时间\n",
        "start_using_set = time.perf_counter()\n",
        "find_unique_price_using_set(products)\n",
        "end_using_set = time.perf_counter()\n",
        "print(\"time elapse using set: {}\".format(end_using_set - start_using_set))\n",
        "\n"
      ],
      "execution_count": 72,
      "outputs": [
        {
          "output_type": "stream",
          "text": [
            "time elapse using set: 0.025639798999691266\n"
          ],
          "name": "stdout"
        }
      ]
    },
    {
      "cell_type": "markdown",
      "metadata": {
        "id": "0RmWmXA_zL8Y",
        "colab_type": "text"
      },
      "source": [
        "###字典和集合的工作原理"
      ]
    },
    {
      "cell_type": "markdown",
      "metadata": {
        "id": "99zR2hTazSMY",
        "colab_type": "text"
      },
      "source": [
        "字典和集合的内部结构都是一张哈希表  \n",
        "对于字典而言，这张表存储了哈希值（hash）、键和值这 3个元素  \n",
        "对集合来说，区别就是哈希表内没有键和值的配对，只有单一的元素"
      ]
    }
  ]
}