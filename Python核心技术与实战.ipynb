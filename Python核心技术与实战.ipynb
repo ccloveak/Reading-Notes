{
  "nbformat": 4,
  "nbformat_minor": 0,
  "metadata": {
    "colab": {
      "name": "Python核心技术与实战.ipynb",
      "version": "0.3.2",
      "provenance": [],
      "include_colab_link": true
    },
    "kernelspec": {
      "name": "python3",
      "display_name": "Python 3"
    }
  },
  "cells": [
    {
      "cell_type": "markdown",
      "metadata": {
        "id": "view-in-github",
        "colab_type": "text"
      },
      "source": [
        "<a href=\"https://colab.research.google.com/github/ccloveak/Study_Notes/blob/master/Python%E6%A0%B8%E5%BF%83%E6%8A%80%E6%9C%AF%E4%B8%8E%E5%AE%9E%E6%88%98.ipynb\" target=\"_parent\"><img src=\"https://colab.research.google.com/assets/colab-badge.svg\" alt=\"Open In Colab\"/></a>"
      ]
    },
    {
      "cell_type": "markdown",
      "metadata": {
        "id": "tlMJ3BzeX5AH",
        "colab_type": "text"
      },
      "source": [
        "#列表和元组"
      ]
    },
    {
      "cell_type": "markdown",
      "metadata": {
        "id": "3v0gMiHxYWcY",
        "colab_type": "text"
      },
      "source": [
        "\n",
        "###列表和元组，都是一个可以放置任意数据类型的有序集合\n",
        "\n"
      ]
    },
    {
      "cell_type": "code",
      "metadata": {
        "id": "xN8fkfJHYT6z",
        "colab_type": "code",
        "outputId": "eda80c11-d739-4b60-f09d-73008e3b4233",
        "colab": {
          "base_uri": "https://localhost:8080/",
          "height": 34
        }
      },
      "source": [
        "l = [1, 2, 'hello', 'world']\n",
        "l"
      ],
      "execution_count": 1,
      "outputs": [
        {
          "output_type": "execute_result",
          "data": {
            "text/plain": [
              "[1, 2, 'hello', 'world']"
            ]
          },
          "metadata": {
            "tags": []
          },
          "execution_count": 1
        }
      ]
    },
    {
      "cell_type": "code",
      "metadata": {
        "id": "9aqbqyAWZRBr",
        "colab_type": "code",
        "outputId": "aa174e96-b6d6-4b9e-d4d1-0422cf42bd2e",
        "colab": {
          "base_uri": "https://localhost:8080/",
          "height": 34
        }
      },
      "source": [
        "tup = ('jason', 22)\n",
        "\n",
        "tup\n"
      ],
      "execution_count": 2,
      "outputs": [
        {
          "output_type": "execute_result",
          "data": {
            "text/plain": [
              "('jason', 22)"
            ]
          },
          "metadata": {
            "tags": []
          },
          "execution_count": 2
        }
      ]
    },
    {
      "cell_type": "markdown",
      "metadata": {
        "id": "Thc77weGZ1GX",
        "colab_type": "text"
      },
      "source": [
        "###列表是动态的，长度大小不固定，可以随意地增加、删减或者改变元素（mutable）。  \n",
        "###元组是静态的，长度大小固定，无法增加删减或者改变（immutable）。\n"
      ]
    },
    {
      "cell_type": "code",
      "metadata": {
        "id": "WKB31KW6aXia",
        "colab_type": "code",
        "outputId": "bffb899e-23fe-4cbe-82ee-a0537d15f103",
        "colab": {
          "base_uri": "https://localhost:8080/",
          "height": 34
        }
      },
      "source": [
        "l = [1, 2, 3, 4]\n",
        "l[3] = 40 \n",
        "l"
      ],
      "execution_count": 0,
      "outputs": [
        {
          "output_type": "execute_result",
          "data": {
            "text/plain": [
              "[1, 2, 3, 40]"
            ]
          },
          "metadata": {
            "tags": []
          },
          "execution_count": 63
        }
      ]
    },
    {
      "cell_type": "code",
      "metadata": {
        "id": "pmqQjlykanVK",
        "colab_type": "code",
        "colab": {
          "base_uri": "https://localhost:8080/",
          "height": 205
        },
        "outputId": "17412a88-f473-4db2-e43f-b8293de8d3f9"
      },
      "source": [
        "tup = (1, 2, 3, 4)\n",
        "tup[3] = 40"
      ],
      "execution_count": 3,
      "outputs": [
        {
          "output_type": "error",
          "ename": "TypeError",
          "evalue": "ignored",
          "traceback": [
            "\u001b[0;31m---------------------------------------------------------------------------\u001b[0m",
            "\u001b[0;31mTypeError\u001b[0m                                 Traceback (most recent call last)",
            "\u001b[0;32m<ipython-input-3-c2b03e8e4127>\u001b[0m in \u001b[0;36m<module>\u001b[0;34m()\u001b[0m\n\u001b[1;32m      1\u001b[0m \u001b[0mtup\u001b[0m \u001b[0;34m=\u001b[0m \u001b[0;34m(\u001b[0m\u001b[0;36m1\u001b[0m\u001b[0;34m,\u001b[0m \u001b[0;36m2\u001b[0m\u001b[0;34m,\u001b[0m \u001b[0;36m3\u001b[0m\u001b[0;34m,\u001b[0m \u001b[0;36m4\u001b[0m\u001b[0;34m)\u001b[0m\u001b[0;34m\u001b[0m\u001b[0;34m\u001b[0m\u001b[0m\n\u001b[0;32m----> 2\u001b[0;31m \u001b[0mtup\u001b[0m\u001b[0;34m[\u001b[0m\u001b[0;36m3\u001b[0m\u001b[0;34m]\u001b[0m \u001b[0;34m=\u001b[0m \u001b[0;36m40\u001b[0m\u001b[0;34m\u001b[0m\u001b[0;34m\u001b[0m\u001b[0m\n\u001b[0m",
            "\u001b[0;31mTypeError\u001b[0m: 'tuple' object does not support item assignment"
          ]
        }
      ]
    },
    {
      "cell_type": "markdown",
      "metadata": {
        "id": "ZRAGlqZFa5od",
        "colab_type": "text"
      },
      "source": [
        "###列表和元组增加一个元素"
      ]
    },
    {
      "cell_type": "code",
      "metadata": {
        "id": "ke6FwXM5bD_O",
        "colab_type": "code",
        "colab": {
          "base_uri": "https://localhost:8080/",
          "height": 34
        },
        "outputId": "9f6c7d01-0ebd-43a3-a682-0d2903aef874"
      },
      "source": [
        "tup = (1, 2, 3, 4)\n",
        "new_tup = tup + (5, ) # 创建新的元组 new_tup，并依次填充原元组的值\n",
        "new_tup"
      ],
      "execution_count": 4,
      "outputs": [
        {
          "output_type": "execute_result",
          "data": {
            "text/plain": [
              "(1, 2, 3, 4, 5)"
            ]
          },
          "metadata": {
            "tags": []
          },
          "execution_count": 4
        }
      ]
    },
    {
      "cell_type": "code",
      "metadata": {
        "id": "lsKh1VEXbOoQ",
        "colab_type": "code",
        "colab": {
          "base_uri": "https://localhost:8080/",
          "height": 34
        },
        "outputId": "19c1212d-8a7a-499d-84c0-89dde9720d62"
      },
      "source": [
        "l = [1, 2, 3, 4]\n",
        "l.append(5) # 添加元素 5 到原列表的末尾\n",
        "l"
      ],
      "execution_count": 5,
      "outputs": [
        {
          "output_type": "execute_result",
          "data": {
            "text/plain": [
              "[1, 2, 3, 4, 5]"
            ]
          },
          "metadata": {
            "tags": []
          },
          "execution_count": 5
        }
      ]
    },
    {
      "cell_type": "markdown",
      "metadata": {
        "id": "76jDDynBbe-C",
        "colab_type": "text"
      },
      "source": [
        "###列表和元组都支持负数索引，-1 表示最后一个元素，-2 表示倒数第二个元素。"
      ]
    },
    {
      "cell_type": "code",
      "metadata": {
        "id": "aNBrAxYCbh6g",
        "colab_type": "code",
        "colab": {
          "base_uri": "https://localhost:8080/",
          "height": 34
        },
        "outputId": "dc115cd3-1ea1-4ce7-f57f-fa25e9be91e8"
      },
      "source": [
        "l = [1, 2, 3, 4]\n",
        "l[-1]"
      ],
      "execution_count": 6,
      "outputs": [
        {
          "output_type": "execute_result",
          "data": {
            "text/plain": [
              "4"
            ]
          },
          "metadata": {
            "tags": []
          },
          "execution_count": 6
        }
      ]
    },
    {
      "cell_type": "code",
      "metadata": {
        "id": "gu6qeprYbpdt",
        "colab_type": "code",
        "colab": {
          "base_uri": "https://localhost:8080/",
          "height": 34
        },
        "outputId": "32be97cf-d3ec-46c6-8584-dba31932573b"
      },
      "source": [
        "tup = (1, 2, 3, 4)\n",
        "tup[-1]"
      ],
      "execution_count": 7,
      "outputs": [
        {
          "output_type": "execute_result",
          "data": {
            "text/plain": [
              "4"
            ]
          },
          "metadata": {
            "tags": []
          },
          "execution_count": 7
        }
      ]
    },
    {
      "cell_type": "markdown",
      "metadata": {
        "id": "6rZF3VVLbvRz",
        "colab_type": "text"
      },
      "source": [
        "###列表和元组都支持切片操作"
      ]
    },
    {
      "cell_type": "code",
      "metadata": {
        "id": "I7jeo6dFbyox",
        "colab_type": "code",
        "colab": {
          "base_uri": "https://localhost:8080/",
          "height": 34
        },
        "outputId": "c063d0be-85f5-4d93-ece6-01f55009325c"
      },
      "source": [
        "l = [1, 2, 3, 4]\n",
        "l[1:3] # 返回列表中索引从 1 到 2 的子列表\n"
      ],
      "execution_count": 8,
      "outputs": [
        {
          "output_type": "execute_result",
          "data": {
            "text/plain": [
              "[2, 3]"
            ]
          },
          "metadata": {
            "tags": []
          },
          "execution_count": 8
        }
      ]
    },
    {
      "cell_type": "code",
      "metadata": {
        "id": "4Lrjw4wvb1q7",
        "colab_type": "code",
        "colab": {
          "base_uri": "https://localhost:8080/",
          "height": 34
        },
        "outputId": "5f379876-e43b-4ea7-b711-b6d03356482c"
      },
      "source": [
        "tup = (1, 2, 3, 4)\n",
        "tup[1:3] # 返回元组中索引从 1 到 2 的子元组\n"
      ],
      "execution_count": 9,
      "outputs": [
        {
          "output_type": "execute_result",
          "data": {
            "text/plain": [
              "(2, 3)"
            ]
          },
          "metadata": {
            "tags": []
          },
          "execution_count": 9
        }
      ]
    },
    {
      "cell_type": "markdown",
      "metadata": {
        "id": "lpyQTzHHcJWe",
        "colab_type": "text"
      },
      "source": [
        "###列表和元组都可以随意嵌套"
      ]
    },
    {
      "cell_type": "code",
      "metadata": {
        "id": "NX8QMlstcMVA",
        "colab_type": "code",
        "colab": {
          "base_uri": "https://localhost:8080/",
          "height": 34
        },
        "outputId": "eb168c62-a95c-47fa-eb3f-861f822b8c2a"
      },
      "source": [
        "l = [[1, 2, 3], [4, 5]] # 列表的每一个元素也是一个列表\n",
        "l"
      ],
      "execution_count": 10,
      "outputs": [
        {
          "output_type": "execute_result",
          "data": {
            "text/plain": [
              "[[1, 2, 3], [4, 5]]"
            ]
          },
          "metadata": {
            "tags": []
          },
          "execution_count": 10
        }
      ]
    },
    {
      "cell_type": "code",
      "metadata": {
        "id": "YwjKySxXcMgI",
        "colab_type": "code",
        "colab": {
          "base_uri": "https://localhost:8080/",
          "height": 34
        },
        "outputId": "a51e5637-d059-4e2b-a341-a38174aed028"
      },
      "source": [
        "tup = ((1, 2, 3), (4, 5, 6)) # 元组的每一个元素也是一元组\n",
        "tup"
      ],
      "execution_count": 11,
      "outputs": [
        {
          "output_type": "execute_result",
          "data": {
            "text/plain": [
              "((1, 2, 3), (4, 5, 6))"
            ]
          },
          "metadata": {
            "tags": []
          },
          "execution_count": 11
        }
      ]
    },
    {
      "cell_type": "markdown",
      "metadata": {
        "id": "O8svH2sJcmWk",
        "colab_type": "text"
      },
      "source": [
        "###元组跟列表通过 list() 和 tuple() 函数相互转化"
      ]
    },
    {
      "cell_type": "code",
      "metadata": {
        "id": "ucRA1Y56cyvH",
        "colab_type": "code",
        "outputId": "6c808929-ba86-43e6-c8ef-769b75415e2f",
        "colab": {
          "base_uri": "https://localhost:8080/",
          "height": 34
        }
      },
      "source": [
        "list((1,2,3))"
      ],
      "execution_count": 0,
      "outputs": [
        {
          "output_type": "execute_result",
          "data": {
            "text/plain": [
              "[1, 2, 3]"
            ]
          },
          "metadata": {
            "tags": []
          },
          "execution_count": 1
        }
      ]
    },
    {
      "cell_type": "code",
      "metadata": {
        "id": "lTwuaWRLc4zX",
        "colab_type": "code",
        "colab": {
          "base_uri": "https://localhost:8080/",
          "height": 34
        },
        "outputId": "28869321-e00d-43c3-95bb-709df06807a4"
      },
      "source": [
        "tuple([1, 2, 3])"
      ],
      "execution_count": 12,
      "outputs": [
        {
          "output_type": "execute_result",
          "data": {
            "text/plain": [
              "(1, 2, 3)"
            ]
          },
          "metadata": {
            "tags": []
          },
          "execution_count": 12
        }
      ]
    },
    {
      "cell_type": "markdown",
      "metadata": {
        "id": "xrjtH8EsflVz",
        "colab_type": "text"
      },
      "source": [
        "###列表和元组常用的内置函数"
      ]
    },
    {
      "cell_type": "code",
      "metadata": {
        "id": "mNPjTEekfwZf",
        "colab_type": "code",
        "colab": {
          "base_uri": "https://localhost:8080/",
          "height": 34
        },
        "outputId": "63397930-33a7-43ac-c68b-9ef18742007b"
      },
      "source": [
        "l = [3, 2, 3, 7, 8, 1] #count(item) 表示统计列表 / 元组中 item 出现的次数\n",
        "l.count(3)"
      ],
      "execution_count": 21,
      "outputs": [
        {
          "output_type": "execute_result",
          "data": {
            "text/plain": [
              "2"
            ]
          },
          "metadata": {
            "tags": []
          },
          "execution_count": 21
        }
      ]
    },
    {
      "cell_type": "code",
      "metadata": {
        "id": "M62BTOe8f1_U",
        "colab_type": "code",
        "colab": {
          "base_uri": "https://localhost:8080/",
          "height": 34
        },
        "outputId": "604aac6a-865a-4f9e-8123-bc6be971c552"
      },
      "source": [
        "l.index(7)"
      ],
      "execution_count": 14,
      "outputs": [
        {
          "output_type": "execute_result",
          "data": {
            "text/plain": [
              "3"
            ]
          },
          "metadata": {
            "tags": []
          },
          "execution_count": 14
        }
      ]
    },
    {
      "cell_type": "code",
      "metadata": {
        "id": "gwgl1mY7f2Jd",
        "colab_type": "code",
        "colab": {
          "base_uri": "https://localhost:8080/",
          "height": 34
        },
        "outputId": "2f2f5148-9513-4504-e17c-dd1bbdfcf057"
      },
      "source": [
        "l.reverse()\n",
        "l"
      ],
      "execution_count": 15,
      "outputs": [
        {
          "output_type": "execute_result",
          "data": {
            "text/plain": [
              "[1, 8, 7, 3, 2, 3]"
            ]
          },
          "metadata": {
            "tags": []
          },
          "execution_count": 15
        }
      ]
    },
    {
      "cell_type": "code",
      "metadata": {
        "id": "9tRIP-hEf2SW",
        "colab_type": "code",
        "colab": {}
      },
      "source": [
        "l.sort()\n",
        "l"
      ],
      "execution_count": 0,
      "outputs": []
    },
    {
      "cell_type": "code",
      "metadata": {
        "id": "OhdM2Mkbg38t",
        "colab_type": "code",
        "colab": {
          "base_uri": "https://localhost:8080/",
          "height": 34
        },
        "outputId": "5b2e20de-7466-4e0f-b826-ff39ee438a44"
      },
      "source": [
        "tup = (3, 2, 3, 7, 8, 1)\n",
        "tup.count(3)"
      ],
      "execution_count": 17,
      "outputs": [
        {
          "output_type": "execute_result",
          "data": {
            "text/plain": [
              "2"
            ]
          },
          "metadata": {
            "tags": []
          },
          "execution_count": 17
        }
      ]
    },
    {
      "cell_type": "code",
      "metadata": {
        "id": "Lc-Wz7jgg4M2",
        "colab_type": "code",
        "colab": {
          "base_uri": "https://localhost:8080/",
          "height": 34
        },
        "outputId": "2090b6fd-d46a-4f78-f337-d941fbd019fc"
      },
      "source": [
        "tup = (3, 2, 3, 7, 8, 1)\n",
        "tup.index(7)"
      ],
      "execution_count": 18,
      "outputs": [
        {
          "output_type": "execute_result",
          "data": {
            "text/plain": [
              "3"
            ]
          },
          "metadata": {
            "tags": []
          },
          "execution_count": 18
        }
      ]
    },
    {
      "cell_type": "code",
      "metadata": {
        "id": "IjtxOhnkhDvw",
        "colab_type": "code",
        "outputId": "79affe4d-5b15-4e7c-9693-3159d206606b",
        "colab": {
          "base_uri": "https://localhost:8080/",
          "height": 34
        }
      },
      "source": [
        "tup = (3, 2, 3, 7, 8, 1)\n",
        "list(reversed(tup))"
      ],
      "execution_count": 19,
      "outputs": [
        {
          "output_type": "execute_result",
          "data": {
            "text/plain": [
              "[1, 8, 7, 3, 2, 3]"
            ]
          },
          "metadata": {
            "tags": []
          },
          "execution_count": 19
        }
      ]
    },
    {
      "cell_type": "code",
      "metadata": {
        "id": "64iDTxqDhjEW",
        "colab_type": "code",
        "outputId": "4326b441-beda-40d0-c2d8-c3895b4b730f",
        "colab": {
          "base_uri": "https://localhost:8080/",
          "height": 34
        }
      },
      "source": [
        "sorted(tup)"
      ],
      "execution_count": 20,
      "outputs": [
        {
          "output_type": "execute_result",
          "data": {
            "text/plain": [
              "[1, 2, 3, 3, 7, 8]"
            ]
          },
          "metadata": {
            "tags": []
          },
          "execution_count": 20
        }
      ]
    },
    {
      "cell_type": "markdown",
      "metadata": {
        "id": "lwxXhUX-h5mG",
        "colab_type": "text"
      },
      "source": [
        "###列表和元组存储方式的差异：\n",
        "列表是动态的，它需要存储指针，来指向对应的元素  \n",
        "列表可变，所以需要额外存储已经分配的长度大小（8 字节）  \n",
        "元组长度大小固定，元素不可变，所以存储空间固定"
      ]
    },
    {
      "cell_type": "code",
      "metadata": {
        "id": "vmLVlNKTiTZg",
        "colab_type": "code",
        "colab": {
          "base_uri": "https://localhost:8080/",
          "height": 34
        },
        "outputId": "d4132afb-582b-43e3-f8b9-3d4ebf61f26d"
      },
      "source": [
        "l = [1, 2, 3]\n",
        "l.__sizeof__()"
      ],
      "execution_count": 22,
      "outputs": [
        {
          "output_type": "execute_result",
          "data": {
            "text/plain": [
              "64"
            ]
          },
          "metadata": {
            "tags": []
          },
          "execution_count": 22
        }
      ]
    },
    {
      "cell_type": "code",
      "metadata": {
        "id": "mlP5GlCHiZOW",
        "colab_type": "code",
        "colab": {
          "base_uri": "https://localhost:8080/",
          "height": 34
        },
        "outputId": "e429b455-ca35-412f-ab63-f4b6758e55a5"
      },
      "source": [
        "tup = (1, 2, 3)\n",
        "tup.__sizeof__()"
      ],
      "execution_count": 23,
      "outputs": [
        {
          "output_type": "execute_result",
          "data": {
            "text/plain": [
              "48"
            ]
          },
          "metadata": {
            "tags": []
          },
          "execution_count": 23
        }
      ]
    },
    {
      "cell_type": "code",
      "metadata": {
        "id": "4eztv8Txiya5",
        "colab_type": "code",
        "colab": {
          "base_uri": "https://localhost:8080/",
          "height": 34
        },
        "outputId": "1f08926e-3d09-48da-8769-4ff8fbd20b80"
      },
      "source": [
        "l = []\n",
        "l.__sizeof__()"
      ],
      "execution_count": 24,
      "outputs": [
        {
          "output_type": "execute_result",
          "data": {
            "text/plain": [
              "40"
            ]
          },
          "metadata": {
            "tags": []
          },
          "execution_count": 24
        }
      ]
    },
    {
      "cell_type": "code",
      "metadata": {
        "id": "UD97kLAPiyjI",
        "colab_type": "code",
        "colab": {
          "base_uri": "https://localhost:8080/",
          "height": 34
        },
        "outputId": "12204ad1-46d9-4f8a-a591-4e72e53b4774"
      },
      "source": [
        "l.append(1)\n",
        "l.__sizeof__() \n"
      ],
      "execution_count": 25,
      "outputs": [
        {
          "output_type": "execute_result",
          "data": {
            "text/plain": [
              "72"
            ]
          },
          "metadata": {
            "tags": []
          },
          "execution_count": 25
        }
      ]
    },
    {
      "cell_type": "code",
      "metadata": {
        "id": "44YSTh7HjNOE",
        "colab_type": "code",
        "colab": {
          "base_uri": "https://localhost:8080/",
          "height": 34
        },
        "outputId": "0c8d3059-5363-4c6e-cd89-267fba52d42d"
      },
      "source": [
        "l.append(2) \n",
        "l.__sizeof__()"
      ],
      "execution_count": 26,
      "outputs": [
        {
          "output_type": "execute_result",
          "data": {
            "text/plain": [
              "72"
            ]
          },
          "metadata": {
            "tags": []
          },
          "execution_count": 26
        }
      ]
    },
    {
      "cell_type": "code",
      "metadata": {
        "id": "X2F9SCjkjQQl",
        "colab_type": "code",
        "colab": {
          "base_uri": "https://localhost:8080/",
          "height": 34
        },
        "outputId": "5e61e975-b242-4ef3-935d-d4fc387cacf0"
      },
      "source": [
        "l.append(3)\n",
        "l.__sizeof__() "
      ],
      "execution_count": 27,
      "outputs": [
        {
          "output_type": "execute_result",
          "data": {
            "text/plain": [
              "72"
            ]
          },
          "metadata": {
            "tags": []
          },
          "execution_count": 27
        }
      ]
    },
    {
      "cell_type": "code",
      "metadata": {
        "id": "8am45x0fjVw0",
        "colab_type": "code",
        "colab": {
          "base_uri": "https://localhost:8080/",
          "height": 34
        },
        "outputId": "8f0cb10a-7721-4a04-bf64-66cf24471dd8"
      },
      "source": [
        "l.append(4)\n",
        "l.__sizeof__() "
      ],
      "execution_count": 28,
      "outputs": [
        {
          "output_type": "execute_result",
          "data": {
            "text/plain": [
              "72"
            ]
          },
          "metadata": {
            "tags": []
          },
          "execution_count": 28
        }
      ]
    },
    {
      "cell_type": "code",
      "metadata": {
        "id": "RLNQiqs_jVzu",
        "colab_type": "code",
        "colab": {
          "base_uri": "https://localhost:8080/",
          "height": 34
        },
        "outputId": "6fe52335-0539-42cd-a0d3-aafdb2c571b6"
      },
      "source": [
        "l.append(5)\n",
        "l.__sizeof__() "
      ],
      "execution_count": 29,
      "outputs": [
        {
          "output_type": "execute_result",
          "data": {
            "text/plain": [
              "104"
            ]
          },
          "metadata": {
            "tags": []
          },
          "execution_count": 29
        }
      ]
    },
    {
      "cell_type": "markdown",
      "metadata": {
        "id": "WfHys8n9j-B6",
        "colab_type": "text"
      },
      "source": [
        "###列表和元组的性能：\n",
        "元组要比列表更加轻量级一些，元组的性能速度要略优于列表"
      ]
    },
    {
      "cell_type": "markdown",
      "metadata": {
        "id": "ggJC2hbvl9nC",
        "colab_type": "text"
      },
      "source": [
        "###列表和元组的使用场景\n",
        "如果存储的数据和数量不变,用元组。  \n",
        "如果存储的数据或数量是可变的，用列表。"
      ]
    },
    {
      "cell_type": "markdown",
      "metadata": {
        "id": "0OFKrDbLbWfj",
        "colab_type": "text"
      },
      "source": [
        "###列表和元组的性能\n"
      ]
    },
    {
      "cell_type": "markdown",
      "metadata": {
        "id": "yvpZAKtDbjbl",
        "colab_type": "text"
      },
      "source": [
        "初始化的速度"
      ]
    },
    {
      "cell_type": "code",
      "metadata": {
        "id": "hgrBC36ua2ou",
        "colab_type": "code",
        "colab": {
          "base_uri": "https://localhost:8080/",
          "height": 34
        },
        "outputId": "63ec395d-b601-4436-80fc-d2b303d2a7c4"
      },
      "source": [
        "!python3 -m timeit 'x=(1,2,3,4,5,6)'\n"
      ],
      "execution_count": 30,
      "outputs": [
        {
          "output_type": "stream",
          "text": [
            "10000000 loops, best of 3: 0.0282 usec per loop\n"
          ],
          "name": "stdout"
        }
      ]
    },
    {
      "cell_type": "code",
      "metadata": {
        "id": "Juc1bCqca79Z",
        "colab_type": "code",
        "colab": {
          "base_uri": "https://localhost:8080/",
          "height": 34
        },
        "outputId": "5dc49ac3-c786-4250-ced7-3d04007f5239"
      },
      "source": [
        "!python3 -m timeit 'x=[1,2,3,4,5,6]'"
      ],
      "execution_count": 33,
      "outputs": [
        {
          "output_type": "stream",
          "text": [
            "10000000 loops, best of 3: 0.13 usec per loop\n"
          ],
          "name": "stdout"
        }
      ]
    },
    {
      "cell_type": "markdown",
      "metadata": {
        "id": "uf0fVDYDbnXd",
        "colab_type": "text"
      },
      "source": [
        "索引操作的速度"
      ]
    },
    {
      "cell_type": "code",
      "metadata": {
        "id": "e-sYLsDFbqAD",
        "colab_type": "code",
        "colab": {
          "base_uri": "https://localhost:8080/",
          "height": 34
        },
        "outputId": "07a2025e-7fc4-4112-f623-9100dcdd64b6"
      },
      "source": [
        "!python3 -m timeit -s 'x=[1,2,3,4,5,6]' 'y=x[3]'"
      ],
      "execution_count": 35,
      "outputs": [
        {
          "output_type": "stream",
          "text": [
            "10000000 loops, best of 3: 0.0472 usec per loop\n"
          ],
          "name": "stdout"
        }
      ]
    },
    {
      "cell_type": "code",
      "metadata": {
        "id": "reFz8e3XbqLG",
        "colab_type": "code",
        "colab": {
          "base_uri": "https://localhost:8080/",
          "height": 34
        },
        "outputId": "fd9adf65-2b5a-44fa-f924-717f120cd20f"
      },
      "source": [
        "!python3 -m timeit -s 'x=(1,2,3,4,5,6)' 'y=x[3]'\n"
      ],
      "execution_count": 34,
      "outputs": [
        {
          "output_type": "stream",
          "text": [
            "10000000 loops, best of 3: 0.0458 usec per loop\n"
          ],
          "name": "stdout"
        }
      ]
    },
    {
      "cell_type": "markdown",
      "metadata": {
        "id": "FoZjZ1-Cb2Jo",
        "colab_type": "text"
      },
      "source": [
        "***\n",
        "***"
      ]
    }
  ]
}