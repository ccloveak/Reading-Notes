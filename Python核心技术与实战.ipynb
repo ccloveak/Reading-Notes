{
  "nbformat": 4,
  "nbformat_minor": 0,
  "metadata": {
    "colab": {
      "name": "Python核心技术与实战",
      "version": "0.3.2",
      "provenance": [],
      "collapsed_sections": [
        "tlMJ3BzeX5AH",
        "3v0gMiHxYWcY",
        "XDSi4s4XdFBW",
        "qlFg3E084cOC",
        "TldBICq_9rRh",
        "-EK1y7au4X-x",
        "YN4ElYaU4cgN",
        "o9Yv2ixl4cz7",
        "tWgwQbp7M6KB",
        "KaOxPvJUM6cN",
        "N9TwZal_o5ua",
        "-AV_TX90w9Oo",
        "LGzdnuCP0w5p"
      ],
      "include_colab_link": true
    },
    "kernelspec": {
      "name": "python3",
      "display_name": "Python 3"
    }
  },
  "cells": [
    {
      "cell_type": "markdown",
      "metadata": {
        "id": "view-in-github",
        "colab_type": "text"
      },
      "source": [
        "<a href=\"https://colab.research.google.com/github/ccloveak/Study_Notes/blob/master/Python%E6%A0%B8%E5%BF%83%E6%8A%80%E6%9C%AF%E4%B8%8E%E5%AE%9E%E6%88%98.ipynb\" target=\"_parent\"><img src=\"https://colab.research.google.com/assets/colab-badge.svg\" alt=\"Open In Colab\"/></a>"
      ]
    },
    {
      "cell_type": "markdown",
      "metadata": {
        "id": "tlMJ3BzeX5AH",
        "colab_type": "text"
      },
      "source": [
        "#列表和元组"
      ]
    },
    {
      "cell_type": "markdown",
      "metadata": {
        "id": "3v0gMiHxYWcY",
        "colab_type": "text"
      },
      "source": [
        "\n",
        "###列表和元组，都是一个可以放置任意数据类型的有序集合\n",
        "\n"
      ]
    },
    {
      "cell_type": "code",
      "metadata": {
        "id": "xN8fkfJHYT6z",
        "colab_type": "code",
        "outputId": "eda80c11-d739-4b60-f09d-73008e3b4233",
        "colab": {
          "base_uri": "https://localhost:8080/",
          "height": 34
        }
      },
      "source": [
        "l = [1, 2, 'hello', 'world']\n",
        "l"
      ],
      "execution_count": 0,
      "outputs": [
        {
          "output_type": "execute_result",
          "data": {
            "text/plain": [
              "[1, 2, 'hello', 'world']"
            ]
          },
          "metadata": {
            "tags": []
          },
          "execution_count": 1
        }
      ]
    },
    {
      "cell_type": "code",
      "metadata": {
        "id": "9aqbqyAWZRBr",
        "colab_type": "code",
        "outputId": "aa174e96-b6d6-4b9e-d4d1-0422cf42bd2e",
        "colab": {
          "base_uri": "https://localhost:8080/",
          "height": 34
        }
      },
      "source": [
        "tup = ('jason', 22)\n",
        "\n",
        "tup\n"
      ],
      "execution_count": 0,
      "outputs": [
        {
          "output_type": "execute_result",
          "data": {
            "text/plain": [
              "('jason', 22)"
            ]
          },
          "metadata": {
            "tags": []
          },
          "execution_count": 2
        }
      ]
    },
    {
      "cell_type": "markdown",
      "metadata": {
        "id": "Thc77weGZ1GX",
        "colab_type": "text"
      },
      "source": [
        "###列表是动态的，长度大小不固定，可以随意地增加、删减或者改变元素（mutable）。  \n",
        "###元组是静态的，长度大小固定，无法增加删减或者改变（immutable）。\n"
      ]
    },
    {
      "cell_type": "code",
      "metadata": {
        "id": "WKB31KW6aXia",
        "colab_type": "code",
        "outputId": "bffb899e-23fe-4cbe-82ee-a0537d15f103",
        "colab": {
          "base_uri": "https://localhost:8080/",
          "height": 34
        }
      },
      "source": [
        "l = [1, 2, 3, 4]\n",
        "l[3] = 40 \n",
        "l"
      ],
      "execution_count": 0,
      "outputs": [
        {
          "output_type": "execute_result",
          "data": {
            "text/plain": [
              "[1, 2, 3, 40]"
            ]
          },
          "metadata": {
            "tags": []
          },
          "execution_count": 63
        }
      ]
    },
    {
      "cell_type": "code",
      "metadata": {
        "id": "pmqQjlykanVK",
        "colab_type": "code",
        "outputId": "17412a88-f473-4db2-e43f-b8293de8d3f9",
        "colab": {
          "base_uri": "https://localhost:8080/",
          "height": 205
        }
      },
      "source": [
        "tup = (1, 2, 3, 4)\n",
        "tup[3] = 40"
      ],
      "execution_count": 0,
      "outputs": [
        {
          "output_type": "error",
          "ename": "TypeError",
          "evalue": "ignored",
          "traceback": [
            "\u001b[0;31m---------------------------------------------------------------------------\u001b[0m",
            "\u001b[0;31mTypeError\u001b[0m                                 Traceback (most recent call last)",
            "\u001b[0;32m<ipython-input-3-c2b03e8e4127>\u001b[0m in \u001b[0;36m<module>\u001b[0;34m()\u001b[0m\n\u001b[1;32m      1\u001b[0m \u001b[0mtup\u001b[0m \u001b[0;34m=\u001b[0m \u001b[0;34m(\u001b[0m\u001b[0;36m1\u001b[0m\u001b[0;34m,\u001b[0m \u001b[0;36m2\u001b[0m\u001b[0;34m,\u001b[0m \u001b[0;36m3\u001b[0m\u001b[0;34m,\u001b[0m \u001b[0;36m4\u001b[0m\u001b[0;34m)\u001b[0m\u001b[0;34m\u001b[0m\u001b[0;34m\u001b[0m\u001b[0m\n\u001b[0;32m----> 2\u001b[0;31m \u001b[0mtup\u001b[0m\u001b[0;34m[\u001b[0m\u001b[0;36m3\u001b[0m\u001b[0;34m]\u001b[0m \u001b[0;34m=\u001b[0m \u001b[0;36m40\u001b[0m\u001b[0;34m\u001b[0m\u001b[0;34m\u001b[0m\u001b[0m\n\u001b[0m",
            "\u001b[0;31mTypeError\u001b[0m: 'tuple' object does not support item assignment"
          ]
        }
      ]
    },
    {
      "cell_type": "markdown",
      "metadata": {
        "id": "ZRAGlqZFa5od",
        "colab_type": "text"
      },
      "source": [
        "###列表和元组增加一个元素"
      ]
    },
    {
      "cell_type": "code",
      "metadata": {
        "id": "ke6FwXM5bD_O",
        "colab_type": "code",
        "outputId": "9f6c7d01-0ebd-43a3-a682-0d2903aef874",
        "colab": {
          "base_uri": "https://localhost:8080/",
          "height": 34
        }
      },
      "source": [
        "tup = (1, 2, 3, 4)\n",
        "new_tup = tup + (5, ) # 创建新的元组 new_tup，并依次填充原元组的值\n",
        "new_tup"
      ],
      "execution_count": 0,
      "outputs": [
        {
          "output_type": "execute_result",
          "data": {
            "text/plain": [
              "(1, 2, 3, 4, 5)"
            ]
          },
          "metadata": {
            "tags": []
          },
          "execution_count": 4
        }
      ]
    },
    {
      "cell_type": "code",
      "metadata": {
        "id": "lsKh1VEXbOoQ",
        "colab_type": "code",
        "outputId": "19c1212d-8a7a-499d-84c0-89dde9720d62",
        "colab": {
          "base_uri": "https://localhost:8080/",
          "height": 34
        }
      },
      "source": [
        "l = [1, 2, 3, 4]\n",
        "l.append(5) # 添加元素 5 到原列表的末尾\n",
        "l"
      ],
      "execution_count": 0,
      "outputs": [
        {
          "output_type": "execute_result",
          "data": {
            "text/plain": [
              "[1, 2, 3, 4, 5]"
            ]
          },
          "metadata": {
            "tags": []
          },
          "execution_count": 5
        }
      ]
    },
    {
      "cell_type": "markdown",
      "metadata": {
        "id": "76jDDynBbe-C",
        "colab_type": "text"
      },
      "source": [
        "###列表和元组都支持负数索引，-1 表示最后一个元素，-2 表示倒数第二个元素。"
      ]
    },
    {
      "cell_type": "code",
      "metadata": {
        "id": "aNBrAxYCbh6g",
        "colab_type": "code",
        "outputId": "dc115cd3-1ea1-4ce7-f57f-fa25e9be91e8",
        "colab": {
          "base_uri": "https://localhost:8080/",
          "height": 34
        }
      },
      "source": [
        "l = [1, 2, 3, 4]\n",
        "l[-1]"
      ],
      "execution_count": 0,
      "outputs": [
        {
          "output_type": "execute_result",
          "data": {
            "text/plain": [
              "4"
            ]
          },
          "metadata": {
            "tags": []
          },
          "execution_count": 6
        }
      ]
    },
    {
      "cell_type": "code",
      "metadata": {
        "id": "gu6qeprYbpdt",
        "colab_type": "code",
        "outputId": "32be97cf-d3ec-46c6-8584-dba31932573b",
        "colab": {
          "base_uri": "https://localhost:8080/",
          "height": 34
        }
      },
      "source": [
        "tup = (1, 2, 3, 4)\n",
        "tup[-1]"
      ],
      "execution_count": 0,
      "outputs": [
        {
          "output_type": "execute_result",
          "data": {
            "text/plain": [
              "4"
            ]
          },
          "metadata": {
            "tags": []
          },
          "execution_count": 7
        }
      ]
    },
    {
      "cell_type": "markdown",
      "metadata": {
        "id": "6rZF3VVLbvRz",
        "colab_type": "text"
      },
      "source": [
        "###列表和元组都支持切片操作"
      ]
    },
    {
      "cell_type": "code",
      "metadata": {
        "id": "I7jeo6dFbyox",
        "colab_type": "code",
        "outputId": "c063d0be-85f5-4d93-ece6-01f55009325c",
        "colab": {
          "base_uri": "https://localhost:8080/",
          "height": 34
        }
      },
      "source": [
        "l = [1, 2, 3, 4]\n",
        "l[1:3] # 返回列表中索引从 1 到 2 的子列表\n"
      ],
      "execution_count": 0,
      "outputs": [
        {
          "output_type": "execute_result",
          "data": {
            "text/plain": [
              "[2, 3]"
            ]
          },
          "metadata": {
            "tags": []
          },
          "execution_count": 8
        }
      ]
    },
    {
      "cell_type": "code",
      "metadata": {
        "id": "4Lrjw4wvb1q7",
        "colab_type": "code",
        "outputId": "5f379876-e43b-4ea7-b711-b6d03356482c",
        "colab": {
          "base_uri": "https://localhost:8080/",
          "height": 34
        }
      },
      "source": [
        "tup = (1, 2, 3, 4)\n",
        "tup[1:3] # 返回元组中索引从 1 到 2 的子元组\n"
      ],
      "execution_count": 0,
      "outputs": [
        {
          "output_type": "execute_result",
          "data": {
            "text/plain": [
              "(2, 3)"
            ]
          },
          "metadata": {
            "tags": []
          },
          "execution_count": 9
        }
      ]
    },
    {
      "cell_type": "markdown",
      "metadata": {
        "id": "lpyQTzHHcJWe",
        "colab_type": "text"
      },
      "source": [
        "###列表和元组都可以随意嵌套"
      ]
    },
    {
      "cell_type": "code",
      "metadata": {
        "id": "NX8QMlstcMVA",
        "colab_type": "code",
        "outputId": "eb168c62-a95c-47fa-eb3f-861f822b8c2a",
        "colab": {
          "base_uri": "https://localhost:8080/",
          "height": 34
        }
      },
      "source": [
        "l = [[1, 2, 3], [4, 5]] # 列表的每一个元素也是一个列表\n",
        "l"
      ],
      "execution_count": 0,
      "outputs": [
        {
          "output_type": "execute_result",
          "data": {
            "text/plain": [
              "[[1, 2, 3], [4, 5]]"
            ]
          },
          "metadata": {
            "tags": []
          },
          "execution_count": 10
        }
      ]
    },
    {
      "cell_type": "code",
      "metadata": {
        "id": "YwjKySxXcMgI",
        "colab_type": "code",
        "outputId": "a51e5637-d059-4e2b-a341-a38174aed028",
        "colab": {
          "base_uri": "https://localhost:8080/",
          "height": 34
        }
      },
      "source": [
        "tup = ((1, 2, 3), (4, 5, 6)) # 元组的每一个元素也是一元组\n",
        "tup"
      ],
      "execution_count": 0,
      "outputs": [
        {
          "output_type": "execute_result",
          "data": {
            "text/plain": [
              "((1, 2, 3), (4, 5, 6))"
            ]
          },
          "metadata": {
            "tags": []
          },
          "execution_count": 11
        }
      ]
    },
    {
      "cell_type": "markdown",
      "metadata": {
        "id": "O8svH2sJcmWk",
        "colab_type": "text"
      },
      "source": [
        "###元组跟列表通过 list() 和 tuple() 函数相互转化"
      ]
    },
    {
      "cell_type": "code",
      "metadata": {
        "id": "ucRA1Y56cyvH",
        "colab_type": "code",
        "outputId": "6c808929-ba86-43e6-c8ef-769b75415e2f",
        "colab": {
          "base_uri": "https://localhost:8080/",
          "height": 34
        }
      },
      "source": [
        "list((1,2,3))"
      ],
      "execution_count": 0,
      "outputs": [
        {
          "output_type": "execute_result",
          "data": {
            "text/plain": [
              "[1, 2, 3]"
            ]
          },
          "metadata": {
            "tags": []
          },
          "execution_count": 1
        }
      ]
    },
    {
      "cell_type": "code",
      "metadata": {
        "id": "lTwuaWRLc4zX",
        "colab_type": "code",
        "outputId": "28869321-e00d-43c3-95bb-709df06807a4",
        "colab": {
          "base_uri": "https://localhost:8080/",
          "height": 34
        }
      },
      "source": [
        "tuple([1, 2, 3])"
      ],
      "execution_count": 0,
      "outputs": [
        {
          "output_type": "execute_result",
          "data": {
            "text/plain": [
              "(1, 2, 3)"
            ]
          },
          "metadata": {
            "tags": []
          },
          "execution_count": 12
        }
      ]
    },
    {
      "cell_type": "markdown",
      "metadata": {
        "id": "xrjtH8EsflVz",
        "colab_type": "text"
      },
      "source": [
        "###列表和元组常用的内置函数"
      ]
    },
    {
      "cell_type": "code",
      "metadata": {
        "id": "mNPjTEekfwZf",
        "colab_type": "code",
        "outputId": "63397930-33a7-43ac-c68b-9ef18742007b",
        "colab": {
          "base_uri": "https://localhost:8080/",
          "height": 34
        }
      },
      "source": [
        "l = [3, 2, 3, 7, 8, 1] #count(item) 表示统计列表 / 元组中 item 出现的次数\n",
        "l.count(3)"
      ],
      "execution_count": 0,
      "outputs": [
        {
          "output_type": "execute_result",
          "data": {
            "text/plain": [
              "2"
            ]
          },
          "metadata": {
            "tags": []
          },
          "execution_count": 21
        }
      ]
    },
    {
      "cell_type": "code",
      "metadata": {
        "id": "M62BTOe8f1_U",
        "colab_type": "code",
        "outputId": "604aac6a-865a-4f9e-8123-bc6be971c552",
        "colab": {
          "base_uri": "https://localhost:8080/",
          "height": 34
        }
      },
      "source": [
        "l.index(7)"
      ],
      "execution_count": 0,
      "outputs": [
        {
          "output_type": "execute_result",
          "data": {
            "text/plain": [
              "3"
            ]
          },
          "metadata": {
            "tags": []
          },
          "execution_count": 14
        }
      ]
    },
    {
      "cell_type": "code",
      "metadata": {
        "id": "gwgl1mY7f2Jd",
        "colab_type": "code",
        "outputId": "328c70f0-3f08-4b98-ca86-27772c901363",
        "colab": {
          "base_uri": "https://localhost:8080/",
          "height": 185
        }
      },
      "source": [
        "l.reverse()\n",
        "l"
      ],
      "execution_count": 0,
      "outputs": [
        {
          "output_type": "error",
          "ename": "NameError",
          "evalue": "ignored",
          "traceback": [
            "\u001b[0;31m---------------------------------------------------------------------------\u001b[0m",
            "\u001b[0;31mNameError\u001b[0m                                 Traceback (most recent call last)",
            "\u001b[0;32m<ipython-input-13-d7c97f222350>\u001b[0m in \u001b[0;36m<module>\u001b[0;34m()\u001b[0m\n\u001b[0;32m----> 1\u001b[0;31m \u001b[0ml\u001b[0m\u001b[0;34m.\u001b[0m\u001b[0mreverse\u001b[0m\u001b[0;34m(\u001b[0m\u001b[0;34m)\u001b[0m\u001b[0;34m\u001b[0m\u001b[0;34m\u001b[0m\u001b[0m\n\u001b[0m\u001b[1;32m      2\u001b[0m \u001b[0ml\u001b[0m\u001b[0;34m\u001b[0m\u001b[0;34m\u001b[0m\u001b[0m\n",
            "\u001b[0;31mNameError\u001b[0m: name 'l' is not defined"
          ]
        }
      ]
    },
    {
      "cell_type": "code",
      "metadata": {
        "id": "9tRIP-hEf2SW",
        "colab_type": "code",
        "colab": {}
      },
      "source": [
        "l.sort()\n",
        "l"
      ],
      "execution_count": 0,
      "outputs": []
    },
    {
      "cell_type": "code",
      "metadata": {
        "id": "OhdM2Mkbg38t",
        "colab_type": "code",
        "outputId": "5b2e20de-7466-4e0f-b826-ff39ee438a44",
        "colab": {
          "base_uri": "https://localhost:8080/",
          "height": 34
        }
      },
      "source": [
        "tup = (3, 2, 3, 7, 8, 1)\n",
        "tup.count(3)"
      ],
      "execution_count": 0,
      "outputs": [
        {
          "output_type": "execute_result",
          "data": {
            "text/plain": [
              "2"
            ]
          },
          "metadata": {
            "tags": []
          },
          "execution_count": 17
        }
      ]
    },
    {
      "cell_type": "code",
      "metadata": {
        "id": "Lc-Wz7jgg4M2",
        "colab_type": "code",
        "outputId": "2090b6fd-d46a-4f78-f337-d941fbd019fc",
        "colab": {
          "base_uri": "https://localhost:8080/",
          "height": 34
        }
      },
      "source": [
        "tup = (3, 2, 3, 7, 8, 1)\n",
        "tup.index(7)"
      ],
      "execution_count": 0,
      "outputs": [
        {
          "output_type": "execute_result",
          "data": {
            "text/plain": [
              "3"
            ]
          },
          "metadata": {
            "tags": []
          },
          "execution_count": 18
        }
      ]
    },
    {
      "cell_type": "code",
      "metadata": {
        "id": "IjtxOhnkhDvw",
        "colab_type": "code",
        "outputId": "79affe4d-5b15-4e7c-9693-3159d206606b",
        "colab": {
          "base_uri": "https://localhost:8080/",
          "height": 34
        }
      },
      "source": [
        "tup = (3, 2, 3, 7, 8, 1)\n",
        "list(reversed(tup))"
      ],
      "execution_count": 0,
      "outputs": [
        {
          "output_type": "execute_result",
          "data": {
            "text/plain": [
              "[1, 8, 7, 3, 2, 3]"
            ]
          },
          "metadata": {
            "tags": []
          },
          "execution_count": 19
        }
      ]
    },
    {
      "cell_type": "code",
      "metadata": {
        "id": "64iDTxqDhjEW",
        "colab_type": "code",
        "outputId": "4326b441-beda-40d0-c2d8-c3895b4b730f",
        "colab": {
          "base_uri": "https://localhost:8080/",
          "height": 34
        }
      },
      "source": [
        "sorted(tup)"
      ],
      "execution_count": 0,
      "outputs": [
        {
          "output_type": "execute_result",
          "data": {
            "text/plain": [
              "[1, 2, 3, 3, 7, 8]"
            ]
          },
          "metadata": {
            "tags": []
          },
          "execution_count": 20
        }
      ]
    },
    {
      "cell_type": "markdown",
      "metadata": {
        "id": "lwxXhUX-h5mG",
        "colab_type": "text"
      },
      "source": [
        "###列表和元组存储方式的差异：\n",
        "列表是动态的，它需要存储指针，来指向对应的元素  \n",
        "列表可变，所以需要额外存储已经分配的长度大小（8 字节）  \n",
        "元组长度大小固定，元素不可变，所以存储空间固定"
      ]
    },
    {
      "cell_type": "code",
      "metadata": {
        "id": "vmLVlNKTiTZg",
        "colab_type": "code",
        "outputId": "d4132afb-582b-43e3-f8b9-3d4ebf61f26d",
        "colab": {
          "base_uri": "https://localhost:8080/",
          "height": 34
        }
      },
      "source": [
        "l = [1, 2, 3]\n",
        "l.__sizeof__()"
      ],
      "execution_count": 0,
      "outputs": [
        {
          "output_type": "execute_result",
          "data": {
            "text/plain": [
              "64"
            ]
          },
          "metadata": {
            "tags": []
          },
          "execution_count": 22
        }
      ]
    },
    {
      "cell_type": "code",
      "metadata": {
        "id": "mlP5GlCHiZOW",
        "colab_type": "code",
        "outputId": "e429b455-ca35-412f-ab63-f4b6758e55a5",
        "colab": {
          "base_uri": "https://localhost:8080/",
          "height": 34
        }
      },
      "source": [
        "tup = (1, 2, 3)\n",
        "tup.__sizeof__()"
      ],
      "execution_count": 0,
      "outputs": [
        {
          "output_type": "execute_result",
          "data": {
            "text/plain": [
              "48"
            ]
          },
          "metadata": {
            "tags": []
          },
          "execution_count": 23
        }
      ]
    },
    {
      "cell_type": "code",
      "metadata": {
        "id": "4eztv8Txiya5",
        "colab_type": "code",
        "outputId": "1f08926e-3d09-48da-8769-4ff8fbd20b80",
        "colab": {
          "base_uri": "https://localhost:8080/",
          "height": 34
        }
      },
      "source": [
        "l = []\n",
        "l.__sizeof__()"
      ],
      "execution_count": 0,
      "outputs": [
        {
          "output_type": "execute_result",
          "data": {
            "text/plain": [
              "40"
            ]
          },
          "metadata": {
            "tags": []
          },
          "execution_count": 24
        }
      ]
    },
    {
      "cell_type": "code",
      "metadata": {
        "id": "UD97kLAPiyjI",
        "colab_type": "code",
        "outputId": "12204ad1-46d9-4f8a-a591-4e72e53b4774",
        "colab": {
          "base_uri": "https://localhost:8080/",
          "height": 34
        }
      },
      "source": [
        "l.append(1)\n",
        "l.__sizeof__() \n"
      ],
      "execution_count": 0,
      "outputs": [
        {
          "output_type": "execute_result",
          "data": {
            "text/plain": [
              "72"
            ]
          },
          "metadata": {
            "tags": []
          },
          "execution_count": 25
        }
      ]
    },
    {
      "cell_type": "code",
      "metadata": {
        "id": "44YSTh7HjNOE",
        "colab_type": "code",
        "outputId": "0c8d3059-5363-4c6e-cd89-267fba52d42d",
        "colab": {
          "base_uri": "https://localhost:8080/",
          "height": 34
        }
      },
      "source": [
        "l.append(2) \n",
        "l.__sizeof__()"
      ],
      "execution_count": 0,
      "outputs": [
        {
          "output_type": "execute_result",
          "data": {
            "text/plain": [
              "72"
            ]
          },
          "metadata": {
            "tags": []
          },
          "execution_count": 26
        }
      ]
    },
    {
      "cell_type": "code",
      "metadata": {
        "id": "X2F9SCjkjQQl",
        "colab_type": "code",
        "outputId": "5e61e975-b242-4ef3-935d-d4fc387cacf0",
        "colab": {
          "base_uri": "https://localhost:8080/",
          "height": 34
        }
      },
      "source": [
        "l.append(3)\n",
        "l.__sizeof__() "
      ],
      "execution_count": 0,
      "outputs": [
        {
          "output_type": "execute_result",
          "data": {
            "text/plain": [
              "72"
            ]
          },
          "metadata": {
            "tags": []
          },
          "execution_count": 27
        }
      ]
    },
    {
      "cell_type": "code",
      "metadata": {
        "id": "8am45x0fjVw0",
        "colab_type": "code",
        "outputId": "8f0cb10a-7721-4a04-bf64-66cf24471dd8",
        "colab": {
          "base_uri": "https://localhost:8080/",
          "height": 34
        }
      },
      "source": [
        "l.append(4)\n",
        "l.__sizeof__() "
      ],
      "execution_count": 0,
      "outputs": [
        {
          "output_type": "execute_result",
          "data": {
            "text/plain": [
              "72"
            ]
          },
          "metadata": {
            "tags": []
          },
          "execution_count": 28
        }
      ]
    },
    {
      "cell_type": "code",
      "metadata": {
        "id": "RLNQiqs_jVzu",
        "colab_type": "code",
        "outputId": "6fe52335-0539-42cd-a0d3-aafdb2c571b6",
        "colab": {
          "base_uri": "https://localhost:8080/",
          "height": 34
        }
      },
      "source": [
        "l.append(5)\n",
        "l.__sizeof__() "
      ],
      "execution_count": 0,
      "outputs": [
        {
          "output_type": "execute_result",
          "data": {
            "text/plain": [
              "104"
            ]
          },
          "metadata": {
            "tags": []
          },
          "execution_count": 29
        }
      ]
    },
    {
      "cell_type": "markdown",
      "metadata": {
        "id": "WfHys8n9j-B6",
        "colab_type": "text"
      },
      "source": [
        "###列表和元组的性能：\n",
        "元组要比列表更加轻量级一些，元组的性能速度要略优于列表"
      ]
    },
    {
      "cell_type": "markdown",
      "metadata": {
        "id": "ggJC2hbvl9nC",
        "colab_type": "text"
      },
      "source": [
        "###列表和元组的使用场景\n",
        "如果存储的数据和数量不变,用元组。  \n",
        "如果存储的数据或数量是可变的，用列表。"
      ]
    },
    {
      "cell_type": "markdown",
      "metadata": {
        "id": "0OFKrDbLbWfj",
        "colab_type": "text"
      },
      "source": [
        "###列表和元组的性能\n"
      ]
    },
    {
      "cell_type": "markdown",
      "metadata": {
        "id": "yvpZAKtDbjbl",
        "colab_type": "text"
      },
      "source": [
        "初始化的速度"
      ]
    },
    {
      "cell_type": "code",
      "metadata": {
        "id": "hgrBC36ua2ou",
        "colab_type": "code",
        "outputId": "63ec395d-b601-4436-80fc-d2b303d2a7c4",
        "colab": {
          "base_uri": "https://localhost:8080/",
          "height": 34
        }
      },
      "source": [
        "!python3 -m timeit 'x=(1,2,3,4,5,6)'\n"
      ],
      "execution_count": 0,
      "outputs": [
        {
          "output_type": "stream",
          "text": [
            "10000000 loops, best of 3: 0.0282 usec per loop\n"
          ],
          "name": "stdout"
        }
      ]
    },
    {
      "cell_type": "code",
      "metadata": {
        "id": "Juc1bCqca79Z",
        "colab_type": "code",
        "outputId": "5dc49ac3-c786-4250-ced7-3d04007f5239",
        "colab": {
          "base_uri": "https://localhost:8080/",
          "height": 34
        }
      },
      "source": [
        "!python3 -m timeit 'x=[1,2,3,4,5,6]'"
      ],
      "execution_count": 0,
      "outputs": [
        {
          "output_type": "stream",
          "text": [
            "10000000 loops, best of 3: 0.13 usec per loop\n"
          ],
          "name": "stdout"
        }
      ]
    },
    {
      "cell_type": "markdown",
      "metadata": {
        "id": "uf0fVDYDbnXd",
        "colab_type": "text"
      },
      "source": [
        "索引操作的速度"
      ]
    },
    {
      "cell_type": "code",
      "metadata": {
        "id": "e-sYLsDFbqAD",
        "colab_type": "code",
        "outputId": "07a2025e-7fc4-4112-f623-9100dcdd64b6",
        "colab": {
          "base_uri": "https://localhost:8080/",
          "height": 34
        }
      },
      "source": [
        "!python3 -m timeit -s 'x=[1,2,3,4,5,6]' 'y=x[3]'"
      ],
      "execution_count": 0,
      "outputs": [
        {
          "output_type": "stream",
          "text": [
            "10000000 loops, best of 3: 0.0472 usec per loop\n"
          ],
          "name": "stdout"
        }
      ]
    },
    {
      "cell_type": "code",
      "metadata": {
        "id": "reFz8e3XbqLG",
        "colab_type": "code",
        "outputId": "fd9adf65-2b5a-44fa-f924-717f120cd20f",
        "colab": {
          "base_uri": "https://localhost:8080/",
          "height": 34
        }
      },
      "source": [
        "!python3 -m timeit -s 'x=(1,2,3,4,5,6)' 'y=x[3]'\n"
      ],
      "execution_count": 0,
      "outputs": [
        {
          "output_type": "stream",
          "text": [
            "10000000 loops, best of 3: 0.0458 usec per loop\n"
          ],
          "name": "stdout"
        }
      ]
    },
    {
      "cell_type": "markdown",
      "metadata": {
        "id": "FoZjZ1-Cb2Jo",
        "colab_type": "text"
      },
      "source": [
        "***\n",
        "***"
      ]
    },
    {
      "cell_type": "markdown",
      "metadata": {
        "id": "XDSi4s4XdFBW",
        "colab_type": "text"
      },
      "source": [
        "#字典和集合"
      ]
    },
    {
      "cell_type": "markdown",
      "metadata": {
        "id": "cuH5u0t2dm5C",
        "colab_type": "text"
      },
      "source": [
        "###字典和集合基础\n",
        "字典是一系列无序元素的组合，其长度大小可变，元素可以任意地删减和改变。  \n",
        "*元素，一对键（key）和值（value）的配对*\n",
        "\n",
        "集合是一系列无序的、唯一的元素组合。\n"
      ]
    },
    {
      "cell_type": "markdown",
      "metadata": {
        "id": "O6ir5ypDjP_V",
        "colab_type": "text"
      },
      "source": [
        "###字典和集合的创建"
      ]
    },
    {
      "cell_type": "code",
      "metadata": {
        "id": "X4N6fM7deT7F",
        "colab_type": "code",
        "outputId": "895efba6-303e-4e60-e709-f40958a675dd",
        "colab": {
          "base_uri": "https://localhost:8080/",
          "height": 34
        }
      },
      "source": [
        "d1 = {'name': 'jason', 'age': 20, 'gender': 'male'}\n",
        "d2 = dict({'name': 'jason', 'age': 20, 'gender': 'male'})\n",
        "d3 = dict([('name', 'jason'), ('age', 20), ('gender', 'male')])\n",
        "d4 = dict(name='jason', age=20, gender='male') \n",
        "d1 == d2 == d3 ==d4"
      ],
      "execution_count": 0,
      "outputs": [
        {
          "output_type": "execute_result",
          "data": {
            "text/plain": [
              "True"
            ]
          },
          "metadata": {
            "tags": []
          },
          "execution_count": 36
        }
      ]
    },
    {
      "cell_type": "code",
      "metadata": {
        "id": "xQolahaOjfFP",
        "colab_type": "code",
        "outputId": "2548fc8a-0014-45a3-ab41-9125d28efbb0",
        "colab": {
          "base_uri": "https://localhost:8080/",
          "height": 34
        }
      },
      "source": [
        "s1 = {1, 2, 3}\n",
        "s2 = set([1, 2, 3])\n",
        "s1 == s2"
      ],
      "execution_count": 0,
      "outputs": [
        {
          "output_type": "execute_result",
          "data": {
            "text/plain": [
              "True"
            ]
          },
          "metadata": {
            "tags": []
          },
          "execution_count": 38
        }
      ]
    },
    {
      "cell_type": "markdown",
      "metadata": {
        "id": "QZw-ii8TqMor",
        "colab_type": "text"
      },
      "source": [
        "###元素访问"
      ]
    },
    {
      "cell_type": "markdown",
      "metadata": {
        "id": "JokTSJvzqTmk",
        "colab_type": "text"
      },
      "source": [
        "字典访问可以直接索引键，如果不存在，就会抛出异常：\n"
      ]
    },
    {
      "cell_type": "code",
      "metadata": {
        "id": "dMTJQPZ2qY2u",
        "colab_type": "code",
        "outputId": "a568a836-d959-4e18-c8d5-aad030d6dc6e",
        "colab": {
          "base_uri": "https://localhost:8080/",
          "height": 34
        }
      },
      "source": [
        "d = {'name': 'jason', 'age': 20}\n",
        "d['name']"
      ],
      "execution_count": 0,
      "outputs": [
        {
          "output_type": "execute_result",
          "data": {
            "text/plain": [
              "'jason'"
            ]
          },
          "metadata": {
            "tags": []
          },
          "execution_count": 39
        }
      ]
    },
    {
      "cell_type": "code",
      "metadata": {
        "id": "LMV3mrQwq3fd",
        "colab_type": "code",
        "outputId": "6ab229d2-f889-4e6b-e747-4ca4d813e4aa",
        "colab": {
          "base_uri": "https://localhost:8080/",
          "height": 188
        }
      },
      "source": [
        "d['location']"
      ],
      "execution_count": 0,
      "outputs": [
        {
          "output_type": "error",
          "ename": "KeyError",
          "evalue": "ignored",
          "traceback": [
            "\u001b[0;31m---------------------------------------------------------------------------\u001b[0m",
            "\u001b[0;31mKeyError\u001b[0m                                  Traceback (most recent call last)",
            "\u001b[0;32m<ipython-input-40-46d978634ca1>\u001b[0m in \u001b[0;36m<module>\u001b[0;34m()\u001b[0m\n\u001b[0;32m----> 1\u001b[0;31m \u001b[0md\u001b[0m\u001b[0;34m[\u001b[0m\u001b[0;34m'location'\u001b[0m\u001b[0;34m]\u001b[0m\u001b[0;34m\u001b[0m\u001b[0;34m\u001b[0m\u001b[0m\n\u001b[0m",
            "\u001b[0;31mKeyError\u001b[0m: 'location'"
          ]
        }
      ]
    },
    {
      "cell_type": "markdown",
      "metadata": {
        "id": "JZ0F-xqYq-Jv",
        "colab_type": "text"
      },
      "source": [
        "get(key, default) 函数来进行索引  \n",
        "如果键不存在，调用 get() 函数可以返回一个默认值\n",
        "\n"
      ]
    },
    {
      "cell_type": "code",
      "metadata": {
        "id": "9nLPnMaurO_G",
        "colab_type": "code",
        "outputId": "4d65c554-d3d8-4c63-c753-459f1ceb412e",
        "colab": {
          "base_uri": "https://localhost:8080/",
          "height": 34
        }
      },
      "source": [
        "d = {'name': 'jason', 'age': 20}\n",
        "d.get('name')\n"
      ],
      "execution_count": 0,
      "outputs": [
        {
          "output_type": "execute_result",
          "data": {
            "text/plain": [
              "'jason'"
            ]
          },
          "metadata": {
            "tags": []
          },
          "execution_count": 44
        }
      ]
    },
    {
      "cell_type": "code",
      "metadata": {
        "id": "rRdHZ8PjrVvJ",
        "colab_type": "code",
        "outputId": "0bf3aa0c-e197-4c6c-b8cb-5f0e689e1cad",
        "colab": {
          "base_uri": "https://localhost:8080/",
          "height": 34
        }
      },
      "source": [
        "d.get('location', 'null')\n",
        "'null'\n"
      ],
      "execution_count": 0,
      "outputs": [
        {
          "output_type": "execute_result",
          "data": {
            "text/plain": [
              "'null'"
            ]
          },
          "metadata": {
            "tags": []
          },
          "execution_count": 45
        }
      ]
    },
    {
      "cell_type": "markdown",
      "metadata": {
        "id": "m6g7GdtjrsJH",
        "colab_type": "text"
      },
      "source": [
        "集合并不支持索引操作，集合本质上是一个哈希表，和列表不一样。"
      ]
    },
    {
      "cell_type": "markdown",
      "metadata": {
        "id": "i7vk25m5r4nh",
        "colab_type": "text"
      },
      "source": [
        "判断一个元素在不在字典或集合内，用 value in dict/set 来判断。"
      ]
    },
    {
      "cell_type": "markdown",
      "metadata": {
        "id": "9dCwhFjZsKvQ",
        "colab_type": "text"
      },
      "source": [
        "###字典和集合的增加、删除、更新操作"
      ]
    },
    {
      "cell_type": "code",
      "metadata": {
        "id": "sndgjjpRsYWI",
        "colab_type": "code",
        "outputId": "0ad6cc86-d42e-41bb-8279-38b3f399ebf7",
        "colab": {
          "base_uri": "https://localhost:8080/",
          "height": 34
        }
      },
      "source": [
        "d = {'name': 'jason', 'age': 20}\n",
        "d['gender'] = 'male' # 增加元素对'gender': 'male'\n",
        "d['dob'] = '1999-02-01' # 增加元素对'dob': '1999-02-01'\n",
        "d\n"
      ],
      "execution_count": 0,
      "outputs": [
        {
          "output_type": "execute_result",
          "data": {
            "text/plain": [
              "{'age': 20, 'dob': '1999-02-01', 'gender': 'male', 'name': 'jason'}"
            ]
          },
          "metadata": {
            "tags": []
          },
          "execution_count": 46
        }
      ]
    },
    {
      "cell_type": "code",
      "metadata": {
        "id": "0cXDx33_sZzl",
        "colab_type": "code",
        "outputId": "4f6a443f-a508-4ea1-97ec-dae1bd3da81b",
        "colab": {
          "base_uri": "https://localhost:8080/",
          "height": 34
        }
      },
      "source": [
        "d.pop('dob') # 删除键为'dob'的元素对\n"
      ],
      "execution_count": 0,
      "outputs": [
        {
          "output_type": "execute_result",
          "data": {
            "text/plain": [
              "'1999-02-01'"
            ]
          },
          "metadata": {
            "tags": []
          },
          "execution_count": 47
        }
      ]
    },
    {
      "cell_type": "code",
      "metadata": {
        "id": "Waxrnyl4saBH",
        "colab_type": "code",
        "outputId": "a4e26e56-e915-4b52-a9aa-3446828a91e8",
        "colab": {
          "base_uri": "https://localhost:8080/",
          "height": 34
        }
      },
      "source": [
        "d"
      ],
      "execution_count": 0,
      "outputs": [
        {
          "output_type": "execute_result",
          "data": {
            "text/plain": [
              "{'age': 20, 'gender': 'male', 'name': 'jason'}"
            ]
          },
          "metadata": {
            "tags": []
          },
          "execution_count": 48
        }
      ]
    },
    {
      "cell_type": "code",
      "metadata": {
        "id": "VPAj7RfKs5Fi",
        "colab_type": "code",
        "outputId": "d2ec9cdb-07a2-4d18-b973-1b23424ad2bb",
        "colab": {
          "base_uri": "https://localhost:8080/",
          "height": 34
        }
      },
      "source": [
        "s = {1, 2, 3}\n",
        "s.add(4) # 增加元素 4 到集合\n",
        "s"
      ],
      "execution_count": 0,
      "outputs": [
        {
          "output_type": "execute_result",
          "data": {
            "text/plain": [
              "{1, 2, 3, 4}"
            ]
          },
          "metadata": {
            "tags": []
          },
          "execution_count": 49
        }
      ]
    },
    {
      "cell_type": "code",
      "metadata": {
        "id": "Roz8tp00tqkQ",
        "colab_type": "code",
        "outputId": "1767798a-3e0b-43dd-e881-8fb43ea10e62",
        "colab": {
          "base_uri": "https://localhost:8080/",
          "height": 34
        }
      },
      "source": [
        "\n",
        "s.remove(4) # 从集合中删除元素 4\n",
        "s\n"
      ],
      "execution_count": 0,
      "outputs": [
        {
          "output_type": "execute_result",
          "data": {
            "text/plain": [
              "{1, 2, 3}"
            ]
          },
          "metadata": {
            "tags": []
          },
          "execution_count": 50
        }
      ]
    },
    {
      "cell_type": "markdown",
      "metadata": {
        "id": "T7qsOn3ctu4p",
        "colab_type": "text"
      },
      "source": [
        "集合的 pop() 操作是删除集合中最后一个元素，可是集合本身是无序的，无法知道会删除哪个元素。"
      ]
    },
    {
      "cell_type": "markdown",
      "metadata": {
        "id": "sc0cBe5OezZ4",
        "colab_type": "text"
      },
      "source": [
        "###对字典和集合进行排序"
      ]
    },
    {
      "cell_type": "markdown",
      "metadata": {
        "id": "nepdL5hga8ya",
        "colab_type": "text"
      },
      "source": [
        "####对字典进行排序"
      ]
    },
    {
      "cell_type": "code",
      "metadata": {
        "id": "OVBSM0vCYcr0",
        "colab_type": "code",
        "outputId": "38f51b70-041c-4584-a6df-be5f7f02b00a",
        "colab": {
          "base_uri": "https://localhost:8080/",
          "height": 34
        }
      },
      "source": [
        "d = {'b': 1, 'a': 2, 'c': 10}\n",
        "d_sorted_by_key = sorted(d.items(), key=lambda x: x[0]) # 根据字典键的升序排序\n",
        "d_sorted_by_key\n"
      ],
      "execution_count": 0,
      "outputs": [
        {
          "output_type": "execute_result",
          "data": {
            "text/plain": [
              "[('a', 2), ('b', 1), ('c', 10)]"
            ]
          },
          "metadata": {
            "tags": []
          },
          "execution_count": 51
        }
      ]
    },
    {
      "cell_type": "code",
      "metadata": {
        "id": "THPFc_-qaHJv",
        "colab_type": "code",
        "outputId": "89331819-8e4b-4af4-fa3d-9b6f9f8b4411",
        "colab": {
          "base_uri": "https://localhost:8080/",
          "height": 34
        }
      },
      "source": [
        "d_sorted_by_value = sorted(d.items(), key=lambda x: x[1]) # 根据字典值的升序排序\n",
        "d_sorted_by_value"
      ],
      "execution_count": 0,
      "outputs": [
        {
          "output_type": "execute_result",
          "data": {
            "text/plain": [
              "[('b', 1), ('a', 2), ('c', 10)]"
            ]
          },
          "metadata": {
            "tags": []
          },
          "execution_count": 52
        }
      ]
    },
    {
      "cell_type": "markdown",
      "metadata": {
        "id": "vAFWUYJtbZAJ",
        "colab_type": "text"
      },
      "source": [
        "####对集合进行排序"
      ]
    },
    {
      "cell_type": "code",
      "metadata": {
        "id": "7kEKnuX8bczf",
        "colab_type": "code",
        "outputId": "f366446c-c295-4f76-b87d-8824be3143e3",
        "colab": {
          "base_uri": "https://localhost:8080/",
          "height": 34
        }
      },
      "source": [
        "s = {3, 4, 2, 1}\n",
        "sorted(s) # 对集合的元素进行升序排序\n",
        "\n"
      ],
      "execution_count": 0,
      "outputs": [
        {
          "output_type": "execute_result",
          "data": {
            "text/plain": [
              "[1, 2, 3, 4]"
            ]
          },
          "metadata": {
            "tags": []
          },
          "execution_count": 53
        }
      ]
    },
    {
      "cell_type": "markdown",
      "metadata": {
        "id": "ei0CpyNnbt15",
        "colab_type": "text"
      },
      "source": [
        "###字典和集合性能\n"
      ]
    },
    {
      "cell_type": "markdown",
      "metadata": {
        "id": "KFec43CmucHa",
        "colab_type": "text"
      },
      "source": [
        "**商企业的后台，存储了每件产品的 ID、名称和价格。现在的需求是，给定某件商品的 ID，我们要找出其价格**\n"
      ]
    },
    {
      "cell_type": "code",
      "metadata": {
        "id": "crlr8GFVukDZ",
        "colab_type": "code",
        "outputId": "1030876a-30c6-49bf-c99e-a70d3efdfacf",
        "colab": {
          "base_uri": "https://localhost:8080/",
          "height": 34
        }
      },
      "source": [
        "def find_product_price(products, product_id):\n",
        "    for id, price in products:\n",
        "        if id == product_id:\n",
        "            return price\n",
        "    return None \n",
        "     \n",
        "products = {\n",
        "  143121312: 100,\n",
        "  432314553: 30,\n",
        "  32421912367: 150\n",
        "}\n",
        "print('The price of product 432314553 is {}'.format(products[432314553])) \n"
      ],
      "execution_count": 0,
      "outputs": [
        {
          "output_type": "stream",
          "text": [
            "The price of product 432314553 is 30\n"
          ],
          "name": "stdout"
        }
      ]
    },
    {
      "cell_type": "markdown",
      "metadata": {
        "id": "aFYC0vl_c7gW",
        "colab_type": "text"
      },
      "source": [
        "####在列表中查找"
      ]
    },
    {
      "cell_type": "code",
      "metadata": {
        "id": "8OdmhD1Pc-SH",
        "colab_type": "code",
        "outputId": "af804c6c-0e52-46de-9155-18cff3479070",
        "colab": {
          "base_uri": "https://localhost:8080/",
          "height": 34
        }
      },
      "source": [
        "# list version\n",
        "def find_unique_price_using_list(products):\n",
        "    unique_price_list = []\n",
        "    for _, price in products: # A\n",
        "        if price not in unique_price_list: #B\n",
        "            unique_price_list.append(price)\n",
        "    return len(unique_price_list)\n",
        "\n",
        "products = [\n",
        "    (143121312, 100), \n",
        "    (432314553, 30),\n",
        "    (32421912367, 150),\n",
        "    (937153201, 30)\n",
        "]\n",
        "print('number of unique price is: {}'.format(find_unique_price_using_list(products)))\n",
        "\n"
      ],
      "execution_count": 0,
      "outputs": [
        {
          "output_type": "stream",
          "text": [
            "number of unique price is: 3\n"
          ],
          "name": "stdout"
        }
      ]
    },
    {
      "cell_type": "markdown",
      "metadata": {
        "id": "-EEb_2YadILe",
        "colab_type": "text"
      },
      "source": [
        "####在集合中查找"
      ]
    },
    {
      "cell_type": "code",
      "metadata": {
        "id": "zo6YLcHedMF1",
        "colab_type": "code",
        "outputId": "e77ea3ae-26b8-4584-a49a-07d83097d9b9",
        "colab": {
          "base_uri": "https://localhost:8080/",
          "height": 34
        }
      },
      "source": [
        "# set version\n",
        "def find_unique_price_using_set(products):\n",
        "    unique_price_set = set()\n",
        "    for _, price in products:\n",
        "        unique_price_set.add(price)\n",
        "    return len(unique_price_set)        \n",
        "\n",
        "products = [\n",
        "    (143121312, 100), \n",
        "    (432314553, 30),\n",
        "    (32421912367, 150),\n",
        "    (937153201, 30)\n",
        "]\n",
        "print('number of unique price is: {}'.format(find_unique_price_using_set(products)))"
      ],
      "execution_count": 0,
      "outputs": [
        {
          "output_type": "stream",
          "text": [
            "number of unique price is: 3\n"
          ],
          "name": "stdout"
        }
      ]
    },
    {
      "cell_type": "markdown",
      "metadata": {
        "id": "gMJX3GSkdvAV",
        "colab_type": "text"
      },
      "source": [
        "####使用列表和集合来统计产品价格数量的运行时间\n",
        "\n"
      ]
    },
    {
      "cell_type": "code",
      "metadata": {
        "id": "auW8c4hVd5Cj",
        "colab_type": "code",
        "outputId": "1b35ba84-175e-417a-d10c-6564fe192934",
        "colab": {
          "base_uri": "https://localhost:8080/",
          "height": 34
        }
      },
      "source": [
        "import time\n",
        "id = [x for x in range(0, 100000)]\n",
        "price = [x for x in range(200000, 300000)]\n",
        "products = list(zip(id, price))\n",
        "\n",
        "# 计算列表版本的时间\n",
        "start_using_list = time.perf_counter()\n",
        "find_unique_price_using_list(products)\n",
        "end_using_list = time.perf_counter()\n",
        "print(\"time elapse using list: {}\".format(end_using_list - start_using_list))"
      ],
      "execution_count": 0,
      "outputs": [
        {
          "output_type": "stream",
          "text": [
            "time elapse using list: 53.53159475800021\n"
          ],
          "name": "stdout"
        }
      ]
    },
    {
      "cell_type": "code",
      "metadata": {
        "id": "5eLSPMWPeDmi",
        "colab_type": "code",
        "outputId": "4c9594d7-0128-4855-ce1f-0040ef70464b",
        "colab": {
          "base_uri": "https://localhost:8080/",
          "height": 34
        }
      },
      "source": [
        "\n",
        "# 计算集合版本的时间\n",
        "start_using_set = time.perf_counter()\n",
        "find_unique_price_using_set(products)\n",
        "end_using_set = time.perf_counter()\n",
        "print(\"time elapse using set: {}\".format(end_using_set - start_using_set))\n",
        "\n"
      ],
      "execution_count": 0,
      "outputs": [
        {
          "output_type": "stream",
          "text": [
            "time elapse using set: 0.025639798999691266\n"
          ],
          "name": "stdout"
        }
      ]
    },
    {
      "cell_type": "markdown",
      "metadata": {
        "id": "0RmWmXA_zL8Y",
        "colab_type": "text"
      },
      "source": [
        "###字典和集合的工作原理"
      ]
    },
    {
      "cell_type": "markdown",
      "metadata": {
        "id": "99zR2hTazSMY",
        "colab_type": "text"
      },
      "source": [
        "字典和集合的内部结构都是一张哈希表  \n",
        "对于字典而言，这张表存储了哈希值（hash）、键和值这 3个元素  \n",
        "对集合来说，区别就是哈希表内没有键和值的配对，只有单一的元素"
      ]
    },
    {
      "cell_type": "markdown",
      "metadata": {
        "id": "dZgjtSYf4aNo",
        "colab_type": "text"
      },
      "source": [
        "***\n",
        "***"
      ]
    },
    {
      "cell_type": "markdown",
      "metadata": {
        "id": "qlFg3E084cOC",
        "colab_type": "text"
      },
      "source": [
        "#字符串"
      ]
    },
    {
      "cell_type": "markdown",
      "metadata": {
        "id": "z5mPDbjI4h6e",
        "colab_type": "text"
      },
      "source": [
        "###字符串基础\n",
        "字符串是由独立字符组成的一个序列，通常包含在单引号`（''）`双引号`（\"\"）`或者三引号之中`（''' '''或\"\"\" \"\"\"）`\n",
        "\n",
        "\n"
      ]
    },
    {
      "cell_type": "code",
      "metadata": {
        "id": "Al7KFHsK40uL",
        "colab_type": "code",
        "colab": {}
      },
      "source": [
        "name = 'jason'\n",
        "city = 'beijing'\n",
        "text = \"welcome to jike shijian\"\n"
      ],
      "execution_count": 0,
      "outputs": []
    },
    {
      "cell_type": "code",
      "metadata": {
        "id": "5Zj_JpEK48Ez",
        "colab_type": "code",
        "outputId": "d4a7a046-3be2-4768-8613-54679444a21b",
        "colab": {
          "base_uri": "https://localhost:8080/",
          "height": 34
        }
      },
      "source": [
        "s1 = 'hello'\n",
        "s2 = \"hello\"\n",
        "s3 = \"\"\"hello\"\"\"\n",
        "s1 == s2 == s3\n"
      ],
      "execution_count": 0,
      "outputs": [
        {
          "output_type": "execute_result",
          "data": {
            "text/plain": [
              "True"
            ]
          },
          "metadata": {
            "tags": []
          },
          "execution_count": 76
        }
      ]
    },
    {
      "cell_type": "markdown",
      "metadata": {
        "id": "MSfa5xHH5NEk",
        "colab_type": "text"
      },
      "source": [
        "###转义符\n",
        "![](https://static001.geekbang.org/resource/image/b7/52/b7a296ab8d26664e03a076fa50d5b152.png)"
      ]
    },
    {
      "cell_type": "code",
      "metadata": {
        "id": "D6CpV0BP5c6T",
        "colab_type": "code",
        "outputId": "d92d085f-d3f5-44fa-aff3-29ed110bf777",
        "colab": {
          "base_uri": "https://localhost:8080/",
          "height": 51
        }
      },
      "source": [
        "s = 'a\\nb\\tc'\n",
        "print(s)"
      ],
      "execution_count": 0,
      "outputs": [
        {
          "output_type": "stream",
          "text": [
            "a\n",
            "b\tc\n"
          ],
          "name": "stdout"
        }
      ]
    },
    {
      "cell_type": "markdown",
      "metadata": {
        "id": "MnctW7QI5mwy",
        "colab_type": "text"
      },
      "source": [
        "###字符串的常用操作\n",
        "Python 的字符串支持索引，切片和遍历\n",
        "\n",
        "\n"
      ]
    },
    {
      "cell_type": "code",
      "metadata": {
        "id": "6wkshkXd5vTE",
        "colab_type": "code",
        "outputId": "7dab8199-4b41-4c6e-8a88-968ac32c23da",
        "colab": {
          "base_uri": "https://localhost:8080/",
          "height": 34
        }
      },
      "source": [
        "name = 'jason'\n",
        "name[0]\n",
        "\n"
      ],
      "execution_count": 0,
      "outputs": [
        {
          "output_type": "execute_result",
          "data": {
            "text/plain": [
              "'j'"
            ]
          },
          "metadata": {
            "tags": []
          },
          "execution_count": 78
        }
      ]
    },
    {
      "cell_type": "code",
      "metadata": {
        "id": "SJ0DbJqQ5x__",
        "colab_type": "code",
        "outputId": "1891afed-edc1-4f1c-da2a-3a007323413b",
        "colab": {
          "base_uri": "https://localhost:8080/",
          "height": 34
        }
      },
      "source": [
        "name[1:3]"
      ],
      "execution_count": 0,
      "outputs": [
        {
          "output_type": "execute_result",
          "data": {
            "text/plain": [
              "'as'"
            ]
          },
          "metadata": {
            "tags": []
          },
          "execution_count": 80
        }
      ]
    },
    {
      "cell_type": "markdown",
      "metadata": {
        "id": "vI3B0dho58mV",
        "colab_type": "text"
      },
      "source": [
        "字符串的索引同样从 0 开始  \n",
        "index=0 表示第一个元素（字符），`[index:index+2] `则表示第 index 个元素到 index+1 个元素组成的子字符串。\n"
      ]
    },
    {
      "cell_type": "markdown",
      "metadata": {
        "id": "eqKAQ8C_6MCc",
        "colab_type": "text"
      },
      "source": [
        "遍历字符串相当于遍历字符串中的每个字符。\n"
      ]
    },
    {
      "cell_type": "code",
      "metadata": {
        "id": "mX4CXC2u6RRr",
        "colab_type": "code",
        "outputId": "e7f08ef4-dc4a-4820-a977-d1be4d361bc7",
        "colab": {
          "base_uri": "https://localhost:8080/",
          "height": 34
        }
      },
      "source": [
        "for char in name:\n",
        "    print(char,end=' ')   \n"
      ],
      "execution_count": 0,
      "outputs": [
        {
          "output_type": "stream",
          "text": [
            "j a s o n "
          ],
          "name": "stdout"
        }
      ]
    },
    {
      "cell_type": "markdown",
      "metadata": {
        "id": "ZCdeIWBA6fsS",
        "colab_type": "text"
      },
      "source": [
        "Python 的字符串是不可变的（immutable）。\n"
      ]
    },
    {
      "cell_type": "markdown",
      "metadata": {
        "id": "oehvI4rr6jGG",
        "colab_type": "text"
      },
      "source": [
        "复制代码Python 中字符串的改变，通常只能通过创建新的字符串来完成。\n"
      ]
    },
    {
      "cell_type": "code",
      "metadata": {
        "id": "bSaY5yrQ6mkp",
        "colab_type": "code",
        "outputId": "e854986e-3376-469a-98fb-4b6cc6966889",
        "colab": {
          "base_uri": "https://localhost:8080/",
          "height": 34
        }
      },
      "source": [
        "s = 'hello'\n",
        "s = 'H' + s[1:] \n",
        "s\n"
      ],
      "execution_count": 0,
      "outputs": [
        {
          "output_type": "execute_result",
          "data": {
            "text/plain": [
              "'Hello'"
            ]
          },
          "metadata": {
            "tags": []
          },
          "execution_count": 87
        }
      ]
    },
    {
      "cell_type": "code",
      "metadata": {
        "id": "3bX7ws2l60A7",
        "colab_type": "code",
        "outputId": "6f7df60d-eb46-424f-b1bc-8fc0ab863062",
        "colab": {
          "base_uri": "https://localhost:8080/",
          "height": 34
        }
      },
      "source": [
        "s = s.replace( 'H','h')\n",
        "s"
      ],
      "execution_count": 0,
      "outputs": [
        {
          "output_type": "execute_result",
          "data": {
            "text/plain": [
              "'hello'"
            ]
          },
          "metadata": {
            "tags": []
          },
          "execution_count": 88
        }
      ]
    },
    {
      "cell_type": "markdown",
      "metadata": {
        "id": "YS5BOQle7NPo",
        "colab_type": "text"
      },
      "source": [
        "**加法操作符'+='的字符串拼接方法**  \n",
        "\n",
        "`str1 += str2  # 表示 str1 = str1 + str2`\n"
      ]
    },
    {
      "cell_type": "code",
      "metadata": {
        "id": "z3jpBS4H7aME",
        "colab_type": "code",
        "colab": {}
      },
      "source": [
        "s = ''\n",
        "for n in range(0, 100000):\n",
        "    s += str(n)\n",
        "s"
      ],
      "execution_count": 0,
      "outputs": []
    },
    {
      "cell_type": "markdown",
      "metadata": {
        "id": "81cuFe0P7zLY",
        "colab_type": "text"
      },
      "source": [
        "**字符串内置的 join 函数**\n"
      ]
    },
    {
      "cell_type": "code",
      "metadata": {
        "id": "oXGO-x0Z8CSI",
        "colab_type": "code",
        "colab": {}
      },
      "source": [
        "l = []\n",
        "for n in range(0, 100000):\n",
        "    l.append(str(n))\n",
        "l = ' '.join(l) \n",
        "l\n"
      ],
      "execution_count": 0,
      "outputs": []
    },
    {
      "cell_type": "markdown",
      "metadata": {
        "id": "daZI8MTyPak-",
        "colab_type": "text"
      },
      "source": [
        "**Pythonic 拼接方法**"
      ]
    },
    {
      "cell_type": "code",
      "metadata": {
        "id": "yICOKF9NOFKy",
        "colab_type": "code",
        "colab": {}
      },
      "source": [
        "s1 = \" \".join(map(str, range(0, 10000)))\n",
        "s1"
      ],
      "execution_count": 0,
      "outputs": []
    },
    {
      "cell_type": "markdown",
      "metadata": {
        "id": "nQBHbIhh8UM7",
        "colab_type": "text"
      },
      "source": [
        "**字符串的分割函数 split()**  \n",
        "`string.split(separator)`  \n",
        "常常应用于对数据的解析处理，比如读取了某个文件的路径，想要调用数据库的 API，去读取对应的数据\n",
        "\n"
      ]
    },
    {
      "cell_type": "code",
      "metadata": {
        "id": "xoGizHrD8xYu",
        "colab_type": "code",
        "colab": {}
      },
      "source": [
        "def query_data(namespace, table):\n",
        "    \"\"\"\n",
        "    given namespace and table, query database to get corresponding\n",
        "    data         \n",
        "    \"\"\"\n",
        "\n",
        "path = 'hive://ads/training_table'\n",
        "namespace = path.split('//')[1].split('/')[0] # 返回'ads'\n",
        "table = path.split('//')[1].split('/')[1] # 返回 'training_table'\n",
        "data = query_data(namespace, table) \n"
      ],
      "execution_count": 0,
      "outputs": []
    },
    {
      "cell_type": "markdown",
      "metadata": {
        "id": "FrRXVxI59AyR",
        "colab_type": "text"
      },
      "source": [
        "####常见的函数\n",
        "\n",
        "\n",
        "*   string.strip(str)，表示去掉首尾的 str 字符串\n",
        "\n",
        "*   string.lstrip(str)，表示只去掉开头的str 字符串\n",
        "\n",
        "*   string.rstrip(str)，表示只去掉尾部的str 字符串\n",
        "\n",
        "\n",
        "\n",
        "\n"
      ]
    },
    {
      "cell_type": "markdown",
      "metadata": {
        "id": "JqYLlUwk9gNm",
        "colab_type": "text"
      },
      "source": [
        "从文件读进来的字符串中，开头和结尾都含有空字符，我们需要去掉空字符\n",
        "\n"
      ]
    },
    {
      "cell_type": "code",
      "metadata": {
        "id": "1i8sSavB9kjc",
        "colab_type": "code",
        "outputId": "f2552c25-5c5c-49b0-bc6a-e56d22e27a2e",
        "colab": {
          "base_uri": "https://localhost:8080/",
          "height": 34
        }
      },
      "source": [
        "s = ' my name is jason '\n",
        "s.strip()"
      ],
      "execution_count": 0,
      "outputs": [
        {
          "output_type": "execute_result",
          "data": {
            "text/plain": [
              "'my name is jason'"
            ]
          },
          "metadata": {
            "tags": []
          },
          "execution_count": 97
        }
      ]
    },
    {
      "cell_type": "markdown",
      "metadata": {
        "id": "TldBICq_9rRh",
        "colab_type": "text"
      },
      "source": [
        "###字符串的格式化"
      ]
    },
    {
      "cell_type": "markdown",
      "metadata": {
        "id": "wPzPM7aW97NZ",
        "colab_type": "text"
      },
      "source": [
        "使用一个字符串作为模板，模板中会有格式符。这些格式符为后续真实值预留位置，以呈现出真实值应该呈现的格式。  \n",
        "字符串的格式化，通常会用在程序的输出、logging 等场景。\n",
        "\n"
      ]
    },
    {
      "cell_type": "markdown",
      "metadata": {
        "id": "aGS5U2kp-JF6",
        "colab_type": "text"
      },
      "source": [
        "给定一个用户的 userid，要去数据库中查询该用户的一些信，并返回。  \n",
        "如果数据库中没有此人的信息，通常会记录下来。  \n",
        "这样有利于往后的日志分析，或者是线上bug 的调试。\n",
        "\n",
        "\n"
      ]
    },
    {
      "cell_type": "markdown",
      "metadata": {
        "id": "ipv7dfaG-s4W",
        "colab_type": "text"
      },
      "source": [
        "\n",
        "\n",
        "```\n",
        "print('no data available for person with id: {}, name: {}'.format(id, name))\n",
        "```\n",
        "\n",
        "string.format()，就是格式化函数；  \n",
        "大括号{}就是格式符，用来为后面的真实值——变量 name预留位置。  \n",
        "如果id = '123'、name='jason'，那么输出便是：\n",
        "\n",
        "```\n",
        "'no data available for person with id: 123, name: jason'\n",
        "\n",
        "```\n",
        "\n",
        "\n"
      ]
    },
    {
      "cell_type": "markdown",
      "metadata": {
        "id": "y9bfYAji_SQw",
        "colab_type": "text"
      },
      "source": [
        "**string.format() 是最新的字符串格式函数与规范**  \n",
        "\n",
        "\n",
        "在 Python 之前版本中，字符串格式化通常用 % 来表示\n",
        "\n",
        "\n",
        "\n",
        "```\n",
        "print('no data available for person with id: %s, name: %s' % (id, name))\n",
        "\n",
        "```\n",
        "小甲鱼的python视频就是%d\n",
        "\n"
      ]
    },
    {
      "cell_type": "markdown",
      "metadata": {
        "id": "-9LXtj3tMpeZ",
        "colab_type": "text"
      },
      "source": [
        "%s 表示字符串型，%d 表示整型\n"
      ]
    },
    {
      "cell_type": "markdown",
      "metadata": {
        "id": "33o3tASqMxA1",
        "colab_type": "text"
      },
      "source": [
        "###总结\n",
        "\n",
        "\n",
        "*   Python 中字符串使用单引号、双引号或三引号表示，三者意义相同，并没有什么区别。其中，三引号的字符串通常用在多行字符的场景。\n",
        "*    Python 中字符串是不可变的（前面所讲的新版本 Python 中拼接操作’+='是个例外）。因此，随意改变字符串中字符的值，是不被允许的。\n",
        "*   Python 新版本（2.5+）中，字符串的拼接变得比以前高效了许多，可以放心使用。\n",
        "*   Python 中字符串的格式化（string.format）常常用在输出、日志的记录等场景。\n",
        "\n",
        "\n",
        "\n"
      ]
    },
    {
      "cell_type": "markdown",
      "metadata": {
        "id": "4tsYyB6iOb-_",
        "colab_type": "text"
      },
      "source": [
        "***\n",
        "***"
      ]
    },
    {
      "cell_type": "markdown",
      "metadata": {
        "id": "-EK1y7au4X-x",
        "colab_type": "text"
      },
      "source": [
        "#输入和输出"
      ]
    },
    {
      "cell_type": "markdown",
      "metadata": {
        "id": "YN4ElYaU4cgN",
        "colab_type": "text"
      },
      "source": [
        "###输入输出基础\n",
        "\n"
      ]
    },
    {
      "cell_type": "markdown",
      "metadata": {
        "id": "wX60nL1h4cr_",
        "colab_type": "text"
      },
      "source": [
        "*    input() 函数暂停程序运行，等待键盘输入，回车被按下，函数的参数为提示语，输入的类型永远是字符串型（str）\n",
        "*    print() 函数则接受字符串、数字、字典、列表  \n",
        "\n",
        "\n",
        "\n",
        "\n",
        "\n"
      ]
    },
    {
      "cell_type": "code",
      "metadata": {
        "id": "gDoC2O7F8Rjx",
        "colab_type": "code",
        "outputId": "13204c13-ce5e-4e38-90f8-05ae811617cb",
        "colab": {
          "base_uri": "https://localhost:8080/",
          "height": 85
        }
      },
      "source": [
        "name = input('your name:')\n",
        "gender = input('you are a boy?(y/n)')\n",
        "welcome_str = 'Welcome to the matrix {prefix} {name}.'\n",
        "welcome_dic = {\n",
        "    'prefix': 'Mr.' if gender == 'y' else 'Mrs',\n",
        "    'name': name\n",
        "}\n",
        "\n",
        "print('authorizing...')\n",
        "print(welcome_str.format(**welcome_dic))"
      ],
      "execution_count": 0,
      "outputs": [
        {
          "output_type": "stream",
          "text": [
            "your name:zhang\n",
            "you are a boy?(y/n)y\n",
            "authorizing...\n",
            "Welcome to the matrix Mr. zhang.\n"
          ],
          "name": "stdout"
        }
      ]
    },
    {
      "cell_type": "markdown",
      "metadata": {
        "id": "r_YM37_o4cu7",
        "colab_type": "text"
      },
      "source": [
        "    \n",
        "*   str 强制转换为 int 用 `int()`  \n",
        "    \n",
        "*   str 强制转换浮点数用 `float()`  \n",
        "    \n",
        "*   工作中使用强制转换时，加上`try except`\n",
        "\n",
        "\n",
        "\n",
        "\n"
      ]
    },
    {
      "cell_type": "code",
      "metadata": {
        "id": "zTXZd2Xg9cu-",
        "colab_type": "code",
        "outputId": "c280b980-29fb-4030-e4cb-01ccb270bae7",
        "colab": {
          "base_uri": "https://localhost:8080/",
          "height": 51
        }
      },
      "source": [
        "a = input()\n",
        "b = input()"
      ],
      "execution_count": 0,
      "outputs": [
        {
          "output_type": "stream",
          "text": [
            "10\n",
            "20\n"
          ],
          "name": "stdout"
        }
      ]
    },
    {
      "cell_type": "code",
      "metadata": {
        "id": "uI6UClYL-JTu",
        "colab_type": "code",
        "outputId": "3ed73195-9aa9-455e-be3b-74492ea41ede",
        "colab": {
          "base_uri": "https://localhost:8080/",
          "height": 34
        }
      },
      "source": [
        "print('a + b = {}'.format(a + b))"
      ],
      "execution_count": 0,
      "outputs": [
        {
          "output_type": "stream",
          "text": [
            "a + b = 1020\n"
          ],
          "name": "stdout"
        }
      ]
    },
    {
      "cell_type": "code",
      "metadata": {
        "id": "0NOGdhBf9wPf",
        "colab_type": "code",
        "outputId": "549b2a7e-9655-484e-fae5-16f16394f74f",
        "colab": {
          "base_uri": "https://localhost:8080/",
          "height": 34
        }
      },
      "source": [
        "print('type of a is {}, type of b is {}'.format(type(a), type(b)))"
      ],
      "execution_count": 0,
      "outputs": [
        {
          "output_type": "stream",
          "text": [
            "type of a is <class 'str'>, type of b is <class 'str'>\n"
          ],
          "name": "stdout"
        }
      ]
    },
    {
      "cell_type": "code",
      "metadata": {
        "id": "ZUXKks5R9ctZ",
        "colab_type": "code",
        "outputId": "e5263635-29ff-4724-abba-8ed31e392cda",
        "colab": {
          "base_uri": "https://localhost:8080/",
          "height": 34
        }
      },
      "source": [
        "print('a + b = {}'.format(int(a) + int(b)))"
      ],
      "execution_count": 0,
      "outputs": [
        {
          "output_type": "stream",
          "text": [
            "a + b = 30\n"
          ],
          "name": "stdout"
        }
      ]
    },
    {
      "cell_type": "markdown",
      "metadata": {
        "id": "7GLZASyM4cxi",
        "colab_type": "text"
      },
      "source": [
        "Python 对 int 类型没有最大限制,对 float 类型有精度限制。生产环境中也要时刻提防，避免因为对边界条件判断不清而造成 bug 甚至 0day（危重安全漏洞）。\n"
      ]
    },
    {
      "cell_type": "markdown",
      "metadata": {
        "id": "o9Yv2ixl4cz7",
        "colab_type": "text"
      },
      "source": [
        "###文件输入输出"
      ]
    },
    {
      "cell_type": "markdown",
      "metadata": {
        "id": "E4jNgsjf4c4s",
        "colab_type": "text"
      },
      "source": [
        "生产级别的 Python 代码，大部分 I/O 则来自于文件、网络、其他进程的消息\n"
      ]
    },
    {
      "cell_type": "markdown",
      "metadata": {
        "id": "-iIaaFVv4c7C",
        "colab_type": "text"
      },
      "source": [
        "一个文本文件读写例子"
      ]
    },
    {
      "cell_type": "code",
      "metadata": {
        "id": "9O-llVaTCZr9",
        "colab_type": "code",
        "colab": {}
      },
      "source": [
        "I have a dream that my four little children will one day live in a nation where they will not be judged by the color of their skin but by the content of their character. I have a dream today.\n",
        "\n",
        "I have a dream that one day down in Alabama, with its vicious racists, . . . one day right there in Alabama little black boys and black girls will be able to join hands with little white boys and white girls as sisters and brothers. I have a dream today.\n",
        "\n",
        "I have a dream that one day every valley shall be exalted, every hill and mountain shall be made low, the rough places will be made plain, and the crooked places will be made straight, and the glory of the Lord shall be revealed, and all flesh shall see it together.\n",
        "\n",
        "This is our hope. . . With this faith we will be able to hew out of the mountain of despair a stone of hope. With this faith we will be able to transform the jangling discords of our nation into a beautiful symphony of brotherhood. With this faith we will be able to work together, to pray together, to struggle together, to go to jail together, to stand up for freedom together, knowing that we will be free one day. . . .\n",
        "\n",
        "And when this happens, and when we allow freedom ring, when we let it ring from every village and every hamlet, from every state and every city, we will be able to speed up that day when all of God's children, black men and white men, Jews and Gentiles, Protestants and Catholics, will be able to join hands and sing in the words of the old Negro spiritual: \"Free at last! Free at last! Thank God Almighty, we are free at last!\"\n"
      ],
      "execution_count": 0,
      "outputs": []
    },
    {
      "cell_type": "markdown",
      "metadata": {
        "id": "nbhr5R0P4c9J",
        "colab_type": "text"
      },
      "source": [
        "基本步骤：\n",
        "\n",
        "1.   读取文件\n",
        "2.   去除所有标点符号和换行符，并把所有大写变成小写\n",
        "3.   合并相同的词，统计每个词出现的频率，并按照词频从大到小排序\n",
        "4.   将结果按行输出到文件 out.txt\n",
        "\n",
        "\n",
        "\n",
        "\n"
      ]
    },
    {
      "cell_type": "code",
      "metadata": {
        "id": "77hp7A97G718",
        "colab_type": "code",
        "colab": {}
      },
      "source": [
        "!pip install -U -q PyDrive\n",
        "from pydrive.auth import GoogleAuth\n",
        "from pydrive.drive import GoogleDrive\n",
        "from google.colab import auth\n",
        "from oauth2client.client import GoogleCredentials  \n",
        "auth.authenticate_user()\n",
        "gauth = GoogleAuth()\n",
        "gauth.credentials = GoogleCredentials.get_application_default()\n",
        "drive = GoogleDrive(gauth)"
      ],
      "execution_count": 0,
      "outputs": []
    },
    {
      "cell_type": "code",
      "metadata": {
        "colab_type": "code",
        "outputId": "58a96551-85b0-45a0-b80b-55b42f777cef",
        "id": "CCbJVqR_QN7w",
        "colab": {
          "base_uri": "https://localhost:8080/",
          "height": 173
        }
      },
      "source": [
        "file_list = drive.ListFile({'q': \"'root' in parents and trashed=false\"}).GetList()\n",
        "for file1 in file_list:\n",
        "    print('title: %s, id: %s, mimeType: %s' % (file1['title'], file1['id'], file1[\"mimeType\"]))"
      ],
      "execution_count": 0,
      "outputs": [
        {
          "output_type": "stream",
          "text": [
            "title: 沈仕杰明细5.23.xlsx, id: 1A9CiUpFF_kL0F5aY4GiLdabQscB2gbV9, mimeType: application/vnd.openxmlformats-officedocument.spreadsheetml.sheet\n",
            "title: out.txt, id: 1GiYRSEHZ8UhCsJeCIEWSO4xVtDQLu90a, mimeType: text/plain\n",
            "title: in.txt, id: 1C68dClFgFk_llin_qJ6tOQBy4LtcUZDB, mimeType: text/plain\n",
            "title: coursera machine learning, id: 1C2x3o13Omjn0mpCMAdhD5W3EnNYFqFEO, mimeType: application/vnd.google-apps.folder\n",
            "title: 论文, id: 1ZwmAEjQbs4yV0zlqZCmEBJMPsKtvMsOb, mimeType: application/vnd.google-apps.folder\n",
            "title: Colab Notebooks, id: 1MVMwp8u2fG0p_imGzaYj5FXRXgqf4nCv, mimeType: application/vnd.google-apps.folder\n",
            "title: 前期, id: 10v13_Rax5qI-P2tcbtv5Th5THkTrTU8L, mimeType: application/vnd.google-apps.folder\n",
            "title: N1, id: 0B8VFLHTuE4bpRzFWc1RjX2xaRTg, mimeType: application/vnd.google-apps.folder\n"
          ],
          "name": "stdout"
        }
      ]
    },
    {
      "cell_type": "code",
      "metadata": {
        "colab_type": "code",
        "outputId": "934f8750-507e-4715-ca4f-079a12fad1b7",
        "id": "DW_esl6RQDYD",
        "colab": {
          "base_uri": "https://localhost:8080/",
          "height": 275
        }
      },
      "source": [
        "\n",
        "file_list = drive.ListFile({'q': \"'1MVMwp8u2fG0p_imGzaYj5FXRXgqf4nCv' in parents and trashed=false\"}).GetList()\n",
        "for each in file_list:\n",
        "    print (each)"
      ],
      "execution_count": 0,
      "outputs": [
        {
          "output_type": "stream",
          "text": [
            "GoogleDriveFile({'kind': 'drive#file', 'id': '1pAQDnqQdW_ytcTNlioK7bfRCSHh_4T6E', 'etag': '\"Pu5D-rrLQ1obLibLazOjcgPU6jw/MTU1ODYyNDgxNTkwNg\"', 'selfLink': 'https://www.googleapis.com/drive/v2/files/1pAQDnqQdW_ytcTNlioK7bfRCSHh_4T6E', 'webContentLink': 'https://drive.google.com/uc?id=1pAQDnqQdW_ytcTNlioK7bfRCSHh_4T6E&export=download', 'alternateLink': 'https://drive.google.com/file/d/1pAQDnqQdW_ytcTNlioK7bfRCSHh_4T6E/view?usp=drivesdk', 'embedLink': 'https://drive.google.com/file/d/1pAQDnqQdW_ytcTNlioK7bfRCSHh_4T6E/preview?usp=drivesdk', 'iconLink': 'https://drive-thirdparty.googleusercontent.com/16/type/application/vnd.google.colaboratory', 'thumbnailLink': 'https://lh3.googleusercontent.com/PbN8i3cWD7BvWYaTq9cOObsgQ_FicvMpepiv_lbRQwuK-RltHtAl9Rd_4uIIBWTSP47H1RYE17Y=s220', 'title': 'Python核心技术与实战', 'mimeType': 'application/vnd.google.colaboratory', 'description': 'Colaboratory notebook', 'labels': {'starred': False, 'hidden': False, 'trashed': False, 'restricted': False, 'viewed': True}, 'copyRequiresWriterPermission': False, 'createdDate': '2019-05-21T07:15:07.727Z', 'modifiedDate': '2019-05-23T15:20:15.906Z', 'modifiedByMeDate': '2019-05-23T15:20:15.906Z', 'lastViewedByMeDate': '2019-05-23T15:20:15.906Z', 'markedViewedByMeDate': '1970-01-01T00:00:00.000Z', 'version': '411', 'parents': [{'kind': 'drive#parentReference', 'id': '1MVMwp8u2fG0p_imGzaYj5FXRXgqf4nCv', 'selfLink': 'https://www.googleapis.com/drive/v2/files/1pAQDnqQdW_ytcTNlioK7bfRCSHh_4T6E/parents/1MVMwp8u2fG0p_imGzaYj5FXRXgqf4nCv', 'parentLink': 'https://www.googleapis.com/drive/v2/files/1MVMwp8u2fG0p_imGzaYj5FXRXgqf4nCv', 'isRoot': False}], 'downloadUrl': 'https://doc-08-2g-docs.googleusercontent.com/docs/securesc/bkq63emdigm6o2kt650njsdir3gb97p4/jd4la87ipcj4ahhap9urb4d1k8dgb16g/1558620000000/14647605510400259227/14647605510400259227/1pAQDnqQdW_ytcTNlioK7bfRCSHh_4T6E?e=download&gd=true', 'userPermission': {'kind': 'drive#permission', 'etag': '\"Pu5D-rrLQ1obLibLazOjcgPU6jw/_VaLnDy3FwzDHDSdqBn0ZTWUdjA\"', 'id': 'me', 'selfLink': 'https://www.googleapis.com/drive/v2/files/1pAQDnqQdW_ytcTNlioK7bfRCSHh_4T6E/permissions/me', 'role': 'owner', 'type': 'user'}, 'originalFilename': 'Python核心技术与实战', 'fileExtension': '', 'md5Checksum': 'a777bc9e9b9547d84a3eac26ed49bfaf', 'fileSize': '101370', 'quotaBytesUsed': '101370', 'ownerNames': ['張盛偉'], 'owners': [{'kind': 'drive#user', 'displayName': '張盛偉', 'isAuthenticatedUser': True, 'permissionId': '14647605510400259227', 'emailAddress': 'superstarzsw@gmail.com'}], 'lastModifyingUserName': '張盛偉', 'lastModifyingUser': {'kind': 'drive#user', 'displayName': '張盛偉', 'isAuthenticatedUser': True, 'permissionId': '14647605510400259227', 'emailAddress': 'superstarzsw@gmail.com'}, 'capabilities': {'canCopy': True, 'canEdit': True}, 'editable': True, 'copyable': True, 'writersCanShare': True, 'shared': False, 'explicitlyTrashed': False, 'appDataContents': False, 'headRevisionId': '0B4YiuH1LC1_bT29YSjNpM0dvS1NYS0wrYVRGVzhaRGY0M1NzPQ', 'properties': [{'kind': 'drive#property', 'etag': '\"Pu5D-rrLQ1obLibLazOjcgPU6jw/SEMW78CDbUXgLFOdpnTokQFUuF8\"', 'key': 'revisionCounter', 'visibility': 'PUBLIC', 'value': '150'}, {'kind': 'drive#property', 'etag': '\"Pu5D-rrLQ1obLibLazOjcgPU6jw/k-zeWx8gBtGrB5Sa5rQ57KDsuh8\"', 'key': 'disableRealtime', 'visibility': 'PUBLIC', 'value': '1'}], 'spaces': ['drive']})\n",
            "GoogleDriveFile({'kind': 'drive#file', 'id': '1GO7-vSfvLdJCGcnjIUXPQtxrsKa9xD1M', 'etag': '\"Pu5D-rrLQ1obLibLazOjcgPU6jw/MTU1ODYyMzcyNDY5Ng\"', 'selfLink': 'https://www.googleapis.com/drive/v2/files/1GO7-vSfvLdJCGcnjIUXPQtxrsKa9xD1M', 'webContentLink': 'https://drive.google.com/uc?id=1GO7-vSfvLdJCGcnjIUXPQtxrsKa9xD1M&export=download', 'alternateLink': 'https://drive.google.com/file/d/1GO7-vSfvLdJCGcnjIUXPQtxrsKa9xD1M/view?usp=drivesdk', 'embedLink': 'https://drive.google.com/file/d/1GO7-vSfvLdJCGcnjIUXPQtxrsKa9xD1M/preview?usp=drivesdk', 'iconLink': 'https://drive-thirdparty.googleusercontent.com/16/type/application/vnd.google.colaboratory', 'title': 'PyDrive Base.ipynb', 'mimeType': 'application/vnd.google.colaboratory', 'description': 'Colaboratory notebook', 'labels': {'starred': False, 'hidden': False, 'trashed': False, 'restricted': False, 'viewed': True}, 'copyRequiresWriterPermission': False, 'createdDate': '2019-05-23T14:51:11.485Z', 'modifiedDate': '2019-05-23T15:02:04.696Z', 'modifiedByMeDate': '2019-05-23T15:02:04.696Z', 'lastViewedByMeDate': '2019-05-23T15:02:04.696Z', 'markedViewedByMeDate': '1970-01-01T00:00:00.000Z', 'version': '42', 'parents': [{'kind': 'drive#parentReference', 'id': '1MVMwp8u2fG0p_imGzaYj5FXRXgqf4nCv', 'selfLink': 'https://www.googleapis.com/drive/v2/files/1GO7-vSfvLdJCGcnjIUXPQtxrsKa9xD1M/parents/1MVMwp8u2fG0p_imGzaYj5FXRXgqf4nCv', 'parentLink': 'https://www.googleapis.com/drive/v2/files/1MVMwp8u2fG0p_imGzaYj5FXRXgqf4nCv', 'isRoot': False}], 'downloadUrl': 'https://doc-10-2g-docs.googleusercontent.com/docs/securesc/bkq63emdigm6o2kt650njsdir3gb97p4/8rerkqt6fsa8kb6mege022kq4lhcr9dj/1558620000000/14647605510400259227/14647605510400259227/1GO7-vSfvLdJCGcnjIUXPQtxrsKa9xD1M?e=download&gd=true', 'userPermission': {'kind': 'drive#permission', 'etag': '\"Pu5D-rrLQ1obLibLazOjcgPU6jw/03Wvq-EI_o--DYzffJFAKRqgo34\"', 'id': 'me', 'selfLink': 'https://www.googleapis.com/drive/v2/files/1GO7-vSfvLdJCGcnjIUXPQtxrsKa9xD1M/permissions/me', 'role': 'owner', 'type': 'user'}, 'originalFilename': 'PyDrive Base.ipynb', 'fileExtension': 'ipynb', 'md5Checksum': '15a54aaa9458b806c60a582ee50db737', 'fileSize': '16188', 'quotaBytesUsed': '16188', 'ownerNames': ['張盛偉'], 'owners': [{'kind': 'drive#user', 'displayName': '張盛偉', 'isAuthenticatedUser': True, 'permissionId': '14647605510400259227', 'emailAddress': 'superstarzsw@gmail.com'}], 'lastModifyingUserName': '張盛偉', 'lastModifyingUser': {'kind': 'drive#user', 'displayName': '張盛偉', 'isAuthenticatedUser': True, 'permissionId': '14647605510400259227', 'emailAddress': 'superstarzsw@gmail.com'}, 'capabilities': {'canCopy': True, 'canEdit': True}, 'editable': True, 'copyable': True, 'writersCanShare': True, 'shared': False, 'explicitlyTrashed': False, 'appDataContents': False, 'headRevisionId': '0B4YiuH1LC1_bdUJ4S3luSzdYbnZFSG9tZS9JQlBFR1djRmdFPQ', 'properties': [{'kind': 'drive#property', 'etag': '\"Pu5D-rrLQ1obLibLazOjcgPU6jw/k-zeWx8gBtGrB5Sa5rQ57KDsuh8\"', 'key': 'disableRealtime', 'visibility': 'PUBLIC', 'value': '1'}, {'kind': 'drive#property', 'etag': '\"Pu5D-rrLQ1obLibLazOjcgPU6jw/xoeenncgmDLagAOe3iKluYL61q0\"', 'key': 'revisionCounter', 'visibility': 'PUBLIC', 'value': '19'}], 'spaces': ['drive']})\n",
            "GoogleDriveFile({'kind': 'drive#file', 'id': '19ns5HiJD6zEehNICBBTgj2bDdIoIiEwO', 'etag': '\"Pu5D-rrLQ1obLibLazOjcgPU6jw/MTU1ODYxNjExOTAxNw\"', 'selfLink': 'https://www.googleapis.com/drive/v2/files/19ns5HiJD6zEehNICBBTgj2bDdIoIiEwO', 'webContentLink': 'https://drive.google.com/uc?id=19ns5HiJD6zEehNICBBTgj2bDdIoIiEwO&export=download', 'alternateLink': 'https://drive.google.com/file/d/19ns5HiJD6zEehNICBBTgj2bDdIoIiEwO/view?usp=drivesdk', 'embedLink': 'https://drive.google.com/file/d/19ns5HiJD6zEehNICBBTgj2bDdIoIiEwO/preview?usp=drivesdk', 'iconLink': 'https://drive-thirdparty.googleusercontent.com/16/type/application/vnd.google.colaboratory', 'title': 'External data: Drive, Sheets, and Cloud Storage', 'mimeType': 'application/vnd.google.colaboratory', 'description': 'Colaboratory notebook', 'labels': {'starred': False, 'hidden': False, 'trashed': False, 'restricted': False, 'viewed': True}, 'copyRequiresWriterPermission': False, 'createdDate': '2019-05-23T11:56:19.254Z', 'modifiedDate': '2019-05-23T12:55:19.017Z', 'modifiedByMeDate': '2019-05-23T12:55:19.017Z', 'lastViewedByMeDate': '2019-05-23T11:56:19.254Z', 'markedViewedByMeDate': '1970-01-01T00:00:00.000Z', 'version': '3', 'parents': [{'kind': 'drive#parentReference', 'id': '1MVMwp8u2fG0p_imGzaYj5FXRXgqf4nCv', 'selfLink': 'https://www.googleapis.com/drive/v2/files/19ns5HiJD6zEehNICBBTgj2bDdIoIiEwO/parents/1MVMwp8u2fG0p_imGzaYj5FXRXgqf4nCv', 'parentLink': 'https://www.googleapis.com/drive/v2/files/1MVMwp8u2fG0p_imGzaYj5FXRXgqf4nCv', 'isRoot': False}], 'downloadUrl': 'https://doc-0o-2g-docs.googleusercontent.com/docs/securesc/bkq63emdigm6o2kt650njsdir3gb97p4/k27cf8tcn2d8r4bgm251sso9cm1h7pm2/1558620000000/14647605510400259227/14647605510400259227/19ns5HiJD6zEehNICBBTgj2bDdIoIiEwO?e=download&gd=true', 'userPermission': {'kind': 'drive#permission', 'etag': '\"Pu5D-rrLQ1obLibLazOjcgPU6jw/MF9T6EqMYCtCn14YDu6XI427GyM\"', 'id': 'me', 'selfLink': 'https://www.googleapis.com/drive/v2/files/19ns5HiJD6zEehNICBBTgj2bDdIoIiEwO/permissions/me', 'role': 'owner', 'type': 'user'}, 'originalFilename': '“External data: Drive, Sheets, and Cloud Storage”的副本', 'fileExtension': '', 'md5Checksum': '4c02c65ef95505224f06cdfe2a063f48', 'fileSize': '23905', 'quotaBytesUsed': '23905', 'ownerNames': ['張盛偉'], 'owners': [{'kind': 'drive#user', 'displayName': '張盛偉', 'isAuthenticatedUser': True, 'permissionId': '14647605510400259227', 'emailAddress': 'superstarzsw@gmail.com'}], 'lastModifyingUserName': '張盛偉', 'lastModifyingUser': {'kind': 'drive#user', 'displayName': '張盛偉', 'isAuthenticatedUser': True, 'permissionId': '14647605510400259227', 'emailAddress': 'superstarzsw@gmail.com'}, 'capabilities': {'canCopy': True, 'canEdit': True}, 'editable': True, 'copyable': True, 'writersCanShare': True, 'shared': False, 'explicitlyTrashed': False, 'appDataContents': False, 'headRevisionId': '0B4YiuH1LC1_bSG96Um5HY1ZnbjdLVElNMWJ4Y05lbDZvTHJ3PQ', 'properties': [{'kind': 'drive#property', 'etag': '\"Pu5D-rrLQ1obLibLazOjcgPU6jw/H-jI_SZqvFcaXdw-gelh8iGj358\"', 'key': 'revisionCounter', 'visibility': 'PUBLIC', 'value': '0'}, {'kind': 'drive#property', 'etag': '\"Pu5D-rrLQ1obLibLazOjcgPU6jw/k-zeWx8gBtGrB5Sa5rQ57KDsuh8\"', 'key': 'disableRealtime', 'visibility': 'PUBLIC', 'value': '1'}], 'spaces': ['drive']})\n",
            "GoogleDriveFile({'kind': 'drive#file', 'id': '1WFDt9Xj1P1vKzVT9h-RsrFEyQ-rf2hQB', 'etag': '\"Pu5D-rrLQ1obLibLazOjcgPU6jw/MTU1ODU4MjgzNTgzOA\"', 'selfLink': 'https://www.googleapis.com/drive/v2/files/1WFDt9Xj1P1vKzVT9h-RsrFEyQ-rf2hQB', 'webContentLink': 'https://drive.google.com/uc?id=1WFDt9Xj1P1vKzVT9h-RsrFEyQ-rf2hQB&export=download', 'alternateLink': 'https://drive.google.com/file/d/1WFDt9Xj1P1vKzVT9h-RsrFEyQ-rf2hQB/view?usp=drivesdk', 'embedLink': 'https://drive.google.com/file/d/1WFDt9Xj1P1vKzVT9h-RsrFEyQ-rf2hQB/preview?usp=drivesdk', 'iconLink': 'https://drive-thirdparty.googleusercontent.com/16/type/application/vnd.google.colaboratory', 'title': 'Raspberry Pie Base.ipynb', 'mimeType': 'application/vnd.google.colaboratory', 'description': 'Colaboratory notebook', 'labels': {'starred': False, 'hidden': False, 'trashed': False, 'restricted': False, 'viewed': True}, 'copyRequiresWriterPermission': False, 'createdDate': '2019-05-23T02:58:51.349Z', 'modifiedDate': '2019-05-23T03:40:35.838Z', 'modifiedByMeDate': '2019-05-23T03:40:35.838Z', 'lastViewedByMeDate': '2019-05-23T03:40:35.838Z', 'markedViewedByMeDate': '1970-01-01T00:00:00.000Z', 'version': '80', 'parents': [{'kind': 'drive#parentReference', 'id': '1MVMwp8u2fG0p_imGzaYj5FXRXgqf4nCv', 'selfLink': 'https://www.googleapis.com/drive/v2/files/1WFDt9Xj1P1vKzVT9h-RsrFEyQ-rf2hQB/parents/1MVMwp8u2fG0p_imGzaYj5FXRXgqf4nCv', 'parentLink': 'https://www.googleapis.com/drive/v2/files/1MVMwp8u2fG0p_imGzaYj5FXRXgqf4nCv', 'isRoot': False}], 'downloadUrl': 'https://doc-04-2g-docs.googleusercontent.com/docs/securesc/bkq63emdigm6o2kt650njsdir3gb97p4/dln38etjbo22duu8osu02pg0jsi93t75/1558620000000/14647605510400259227/14647605510400259227/1WFDt9Xj1P1vKzVT9h-RsrFEyQ-rf2hQB?e=download&gd=true', 'userPermission': {'kind': 'drive#permission', 'etag': '\"Pu5D-rrLQ1obLibLazOjcgPU6jw/uWFRhbMmdbuHpkToEq04dL_vfVo\"', 'id': 'me', 'selfLink': 'https://www.googleapis.com/drive/v2/files/1WFDt9Xj1P1vKzVT9h-RsrFEyQ-rf2hQB/permissions/me', 'role': 'owner', 'type': 'user'}, 'originalFilename': 'Raspberry Pie Base.ipynb', 'fileExtension': 'ipynb', 'md5Checksum': 'ec7d57bdebcb5ffcd3bba6bc50f85cf1', 'fileSize': '2529', 'quotaBytesUsed': '5846', 'ownerNames': ['張盛偉'], 'owners': [{'kind': 'drive#user', 'displayName': '張盛偉', 'isAuthenticatedUser': True, 'permissionId': '14647605510400259227', 'emailAddress': 'superstarzsw@gmail.com'}], 'lastModifyingUserName': '張盛偉', 'lastModifyingUser': {'kind': 'drive#user', 'displayName': '張盛偉', 'isAuthenticatedUser': True, 'permissionId': '14647605510400259227', 'emailAddress': 'superstarzsw@gmail.com'}, 'capabilities': {'canCopy': True, 'canEdit': True}, 'editable': True, 'copyable': True, 'writersCanShare': True, 'shared': False, 'explicitlyTrashed': False, 'appDataContents': False, 'headRevisionId': '0B4YiuH1LC1_bakhOekd5YWF1aitYa0RtcnpmL0JrMGJaV2pNPQ', 'properties': [{'kind': 'drive#property', 'etag': '\"Pu5D-rrLQ1obLibLazOjcgPU6jw/W22X3ClW--lz9CRE9CicvGjhj00\"', 'key': 'revisionCounter', 'visibility': 'PUBLIC', 'value': '36'}, {'kind': 'drive#property', 'etag': '\"Pu5D-rrLQ1obLibLazOjcgPU6jw/k-zeWx8gBtGrB5Sa5rQ57KDsuh8\"', 'key': 'disableRealtime', 'visibility': 'PUBLIC', 'value': '1'}], 'spaces': ['drive']})\n",
            "GoogleDriveFile({'kind': 'drive#file', 'id': '1RKeTOfr7-IAA0AC6HFSuJBUZu04NNu2W', 'etag': '\"Pu5D-rrLQ1obLibLazOjcgPU6jw/MTU1ODUzODE3MzE0Ng\"', 'selfLink': 'https://www.googleapis.com/drive/v2/files/1RKeTOfr7-IAA0AC6HFSuJBUZu04NNu2W', 'webContentLink': 'https://drive.google.com/uc?id=1RKeTOfr7-IAA0AC6HFSuJBUZu04NNu2W&export=download', 'alternateLink': 'https://drive.google.com/file/d/1RKeTOfr7-IAA0AC6HFSuJBUZu04NNu2W/view?usp=drivesdk', 'embedLink': 'https://drive.google.com/file/d/1RKeTOfr7-IAA0AC6HFSuJBUZu04NNu2W/preview?usp=drivesdk', 'iconLink': 'https://drive-thirdparty.googleusercontent.com/16/type/application/vnd.google.colaboratory', 'thumbnailLink': 'https://lh3.googleusercontent.com/KVata6TB4ucOMuXPNYWIom1Gs3kq4B0fWxvibuokf_ex9wmoe7ks0ZWqM0RokNn0cUR7BiKuaBpe=s220', 'title': 'GitBook.ipynb', 'mimeType': 'application/vnd.google.colaboratory', 'description': 'Colaboratory notebook', 'labels': {'starred': False, 'hidden': False, 'trashed': False, 'restricted': False, 'viewed': True}, 'copyRequiresWriterPermission': False, 'createdDate': '2019-05-21T09:14:07.502Z', 'modifiedDate': '2019-05-22T15:16:13.146Z', 'modifiedByMeDate': '2019-05-22T15:16:13.146Z', 'lastViewedByMeDate': '2019-05-22T15:16:13.146Z', 'markedViewedByMeDate': '1970-01-01T00:00:00.000Z', 'version': '622', 'parents': [{'kind': 'drive#parentReference', 'id': '1MVMwp8u2fG0p_imGzaYj5FXRXgqf4nCv', 'selfLink': 'https://www.googleapis.com/drive/v2/files/1RKeTOfr7-IAA0AC6HFSuJBUZu04NNu2W/parents/1MVMwp8u2fG0p_imGzaYj5FXRXgqf4nCv', 'parentLink': 'https://www.googleapis.com/drive/v2/files/1MVMwp8u2fG0p_imGzaYj5FXRXgqf4nCv', 'isRoot': False}], 'downloadUrl': 'https://doc-0o-2g-docs.googleusercontent.com/docs/securesc/bkq63emdigm6o2kt650njsdir3gb97p4/se4514i5hchqe628i6stv1njvjh2q28p/1558620000000/14647605510400259227/14647605510400259227/1RKeTOfr7-IAA0AC6HFSuJBUZu04NNu2W?e=download&gd=true', 'userPermission': {'kind': 'drive#permission', 'etag': '\"Pu5D-rrLQ1obLibLazOjcgPU6jw/5aQoVM4DzltUajLSkz3yz9wD9no\"', 'id': 'me', 'selfLink': 'https://www.googleapis.com/drive/v2/files/1RKeTOfr7-IAA0AC6HFSuJBUZu04NNu2W/permissions/me', 'role': 'owner', 'type': 'user'}, 'originalFilename': 'GitBook.ipynb', 'fileExtension': 'ipynb', 'md5Checksum': '55673bc53debedee41d7fd2b28875202', 'fileSize': '47057', 'quotaBytesUsed': '58736', 'ownerNames': ['張盛偉'], 'owners': [{'kind': 'drive#user', 'displayName': '張盛偉', 'isAuthenticatedUser': True, 'permissionId': '14647605510400259227', 'emailAddress': 'superstarzsw@gmail.com'}], 'lastModifyingUserName': '張盛偉', 'lastModifyingUser': {'kind': 'drive#user', 'displayName': '張盛偉', 'isAuthenticatedUser': True, 'permissionId': '14647605510400259227', 'emailAddress': 'superstarzsw@gmail.com'}, 'capabilities': {'canCopy': True, 'canEdit': True}, 'editable': True, 'copyable': True, 'writersCanShare': True, 'shared': False, 'explicitlyTrashed': False, 'appDataContents': False, 'headRevisionId': '0B4YiuH1LC1_bTTNuYkdOWXJ0NFFDb213SitjS05EMnV4YytrPQ', 'properties': [{'kind': 'drive#property', 'etag': '\"Pu5D-rrLQ1obLibLazOjcgPU6jw/k-zeWx8gBtGrB5Sa5rQ57KDsuh8\"', 'key': 'disableRealtime', 'visibility': 'PUBLIC', 'value': '1'}, {'kind': 'drive#property', 'etag': '\"Pu5D-rrLQ1obLibLazOjcgPU6jw/JvB-Gc7hnlP0ZzpxLWaf5xKH3O0\"', 'key': 'revisionCounter', 'visibility': 'PUBLIC', 'value': '311'}], 'spaces': ['drive']})\n",
            "GoogleDriveFile({'kind': 'drive#file', 'id': '1VjbmpOeVk5z3NKjcy3h8foi7_fu9-Hgb', 'etag': '\"Pu5D-rrLQ1obLibLazOjcgPU6jw/MTU1ODUwMjE2MDE0OA\"', 'selfLink': 'https://www.googleapis.com/drive/v2/files/1VjbmpOeVk5z3NKjcy3h8foi7_fu9-Hgb', 'webContentLink': 'https://drive.google.com/uc?id=1VjbmpOeVk5z3NKjcy3h8foi7_fu9-Hgb&export=download', 'alternateLink': 'https://drive.google.com/file/d/1VjbmpOeVk5z3NKjcy3h8foi7_fu9-Hgb/view?usp=drivesdk', 'embedLink': 'https://drive.google.com/file/d/1VjbmpOeVk5z3NKjcy3h8foi7_fu9-Hgb/preview?usp=drivesdk', 'iconLink': 'https://drive-thirdparty.googleusercontent.com/16/type/application/vnd.google.colaboratory', 'title': 'Knowledge Base.ipynb', 'mimeType': 'application/vnd.google.colaboratory', 'description': 'Colaboratory notebook', 'labels': {'starred': False, 'hidden': False, 'trashed': False, 'restricted': False, 'viewed': True}, 'copyRequiresWriterPermission': False, 'createdDate': '2019-05-22T05:04:06.215Z', 'modifiedDate': '2019-05-22T05:16:00.148Z', 'modifiedByMeDate': '2019-05-22T05:16:00.148Z', 'lastViewedByMeDate': '2019-05-22T05:16:00.148Z', 'markedViewedByMeDate': '1970-01-01T00:00:00.000Z', 'version': '37', 'parents': [{'kind': 'drive#parentReference', 'id': '1MVMwp8u2fG0p_imGzaYj5FXRXgqf4nCv', 'selfLink': 'https://www.googleapis.com/drive/v2/files/1VjbmpOeVk5z3NKjcy3h8foi7_fu9-Hgb/parents/1MVMwp8u2fG0p_imGzaYj5FXRXgqf4nCv', 'parentLink': 'https://www.googleapis.com/drive/v2/files/1MVMwp8u2fG0p_imGzaYj5FXRXgqf4nCv', 'isRoot': False}], 'downloadUrl': 'https://doc-00-2g-docs.googleusercontent.com/docs/securesc/bkq63emdigm6o2kt650njsdir3gb97p4/mdgqank0rhvr39titjbf132g4gshgif5/1558620000000/14647605510400259227/14647605510400259227/1VjbmpOeVk5z3NKjcy3h8foi7_fu9-Hgb?e=download&gd=true', 'userPermission': {'kind': 'drive#permission', 'etag': '\"Pu5D-rrLQ1obLibLazOjcgPU6jw/uftAeUna265xfCg17TOXsINIFrE\"', 'id': 'me', 'selfLink': 'https://www.googleapis.com/drive/v2/files/1VjbmpOeVk5z3NKjcy3h8foi7_fu9-Hgb/permissions/me', 'role': 'owner', 'type': 'user'}, 'originalFilename': 'Knowledge Base.ipynb', 'fileExtension': 'ipynb', 'md5Checksum': 'a46e5a65c4b843f67994c29564357667', 'fileSize': '1357', 'quotaBytesUsed': '1793', 'ownerNames': ['張盛偉'], 'owners': [{'kind': 'drive#user', 'displayName': '張盛偉', 'isAuthenticatedUser': True, 'permissionId': '14647605510400259227', 'emailAddress': 'superstarzsw@gmail.com'}], 'lastModifyingUserName': '張盛偉', 'lastModifyingUser': {'kind': 'drive#user', 'displayName': '張盛偉', 'isAuthenticatedUser': True, 'permissionId': '14647605510400259227', 'emailAddress': 'superstarzsw@gmail.com'}, 'capabilities': {'canCopy': True, 'canEdit': True}, 'editable': True, 'copyable': True, 'writersCanShare': True, 'shared': False, 'explicitlyTrashed': False, 'appDataContents': False, 'headRevisionId': '0B4YiuH1LC1_bMTlEem5xZi9lcDBTZ2xkUnE1cnc0VS82RWpZPQ', 'properties': [{'kind': 'drive#property', 'etag': '\"Pu5D-rrLQ1obLibLazOjcgPU6jw/zM6wHsuT253ViHm6lVPw_lKpjtw\"', 'key': 'revisionCounter', 'visibility': 'PUBLIC', 'value': '16'}, {'kind': 'drive#property', 'etag': '\"Pu5D-rrLQ1obLibLazOjcgPU6jw/k-zeWx8gBtGrB5Sa5rQ57KDsuh8\"', 'key': 'disableRealtime', 'visibility': 'PUBLIC', 'value': '1'}], 'spaces': ['drive']})\n",
            "GoogleDriveFile({'kind': 'drive#file', 'id': '17zsNgcjceM-lq7ovRwXmJMKs6oXwFjfM', 'etag': '\"Pu5D-rrLQ1obLibLazOjcgPU6jw/MTU1ODQ1OTI5MDkzNA\"', 'selfLink': 'https://www.googleapis.com/drive/v2/files/17zsNgcjceM-lq7ovRwXmJMKs6oXwFjfM', 'webContentLink': 'https://drive.google.com/uc?id=17zsNgcjceM-lq7ovRwXmJMKs6oXwFjfM&export=download', 'alternateLink': 'https://drive.google.com/file/d/17zsNgcjceM-lq7ovRwXmJMKs6oXwFjfM/view?usp=drivesdk', 'embedLink': 'https://drive.google.com/file/d/17zsNgcjceM-lq7ovRwXmJMKs6oXwFjfM/preview?usp=drivesdk', 'iconLink': 'https://drive-thirdparty.googleusercontent.com/16/type/application/vnd.google.colaboratory', 'title': 'Matplotlib可视化最有价值的 50 个图表.ipynb', 'mimeType': 'application/vnd.google.colaboratory', 'description': 'Colaboratory notebook', 'labels': {'starred': False, 'hidden': False, 'trashed': False, 'restricted': False, 'viewed': True}, 'copyRequiresWriterPermission': False, 'createdDate': '2019-05-21T17:09:01.204Z', 'modifiedDate': '2019-05-21T17:21:30.934Z', 'modifiedByMeDate': '2019-05-21T17:21:30.934Z', 'lastViewedByMeDate': '2019-05-21T17:21:30.934Z', 'markedViewedByMeDate': '1970-01-01T00:00:00.000Z', 'version': '20', 'parents': [{'kind': 'drive#parentReference', 'id': '1MVMwp8u2fG0p_imGzaYj5FXRXgqf4nCv', 'selfLink': 'https://www.googleapis.com/drive/v2/files/17zsNgcjceM-lq7ovRwXmJMKs6oXwFjfM/parents/1MVMwp8u2fG0p_imGzaYj5FXRXgqf4nCv', 'parentLink': 'https://www.googleapis.com/drive/v2/files/1MVMwp8u2fG0p_imGzaYj5FXRXgqf4nCv', 'isRoot': False}], 'downloadUrl': 'https://doc-04-2g-docs.googleusercontent.com/docs/securesc/bkq63emdigm6o2kt650njsdir3gb97p4/hiu1ln5hb0u50d153mrnv0l9qndio6lc/1558620000000/14647605510400259227/14647605510400259227/17zsNgcjceM-lq7ovRwXmJMKs6oXwFjfM?e=download&gd=true', 'userPermission': {'kind': 'drive#permission', 'etag': '\"Pu5D-rrLQ1obLibLazOjcgPU6jw/ksqhD4AZkA23oK4xRiIs5n4lwUQ\"', 'id': 'me', 'selfLink': 'https://www.googleapis.com/drive/v2/files/17zsNgcjceM-lq7ovRwXmJMKs6oXwFjfM/permissions/me', 'role': 'owner', 'type': 'user'}, 'originalFilename': 'Matplotlib可视化最有价值的 50 个图表.ipynb', 'fileExtension': 'ipynb', 'md5Checksum': '01cdf8ae07e18060c84447e8b2f5e1c7', 'fileSize': '83428', 'quotaBytesUsed': '166861', 'ownerNames': ['張盛偉'], 'owners': [{'kind': 'drive#user', 'displayName': '張盛偉', 'isAuthenticatedUser': True, 'permissionId': '14647605510400259227', 'emailAddress': 'superstarzsw@gmail.com'}], 'lastModifyingUserName': '張盛偉', 'lastModifyingUser': {'kind': 'drive#user', 'displayName': '張盛偉', 'isAuthenticatedUser': True, 'permissionId': '14647605510400259227', 'emailAddress': 'superstarzsw@gmail.com'}, 'capabilities': {'canCopy': True, 'canEdit': True}, 'editable': True, 'copyable': True, 'writersCanShare': True, 'shared': False, 'explicitlyTrashed': False, 'appDataContents': False, 'headRevisionId': '0B4YiuH1LC1_bYkRoNUcyZVdWN2IxZ0d1czZqUDZSdmhuN2pNPQ', 'properties': [{'kind': 'drive#property', 'etag': '\"Pu5D-rrLQ1obLibLazOjcgPU6jw/YHiVDCny8432HfXEnGBRJzgcJwE\"', 'key': 'revisionCounter', 'visibility': 'PUBLIC', 'value': '4'}, {'kind': 'drive#property', 'etag': '\"Pu5D-rrLQ1obLibLazOjcgPU6jw/k-zeWx8gBtGrB5Sa5rQ57KDsuh8\"', 'key': 'disableRealtime', 'visibility': 'PUBLIC', 'value': '1'}], 'spaces': ['drive']})\n",
            "GoogleDriveFile({'kind': 'drive#file', 'id': '1J8xvOo4qe4CnMyHvrIo6mB7k7TvoFMkR', 'etag': '\"Pu5D-rrLQ1obLibLazOjcgPU6jw/MTU1ODQ0MTY2NTQ5MA\"', 'selfLink': 'https://www.googleapis.com/drive/v2/files/1J8xvOo4qe4CnMyHvrIo6mB7k7TvoFMkR', 'webContentLink': 'https://drive.google.com/uc?id=1J8xvOo4qe4CnMyHvrIo6mB7k7TvoFMkR&export=download', 'alternateLink': 'https://drive.google.com/file/d/1J8xvOo4qe4CnMyHvrIo6mB7k7TvoFMkR/view?usp=drivesdk', 'embedLink': 'https://drive.google.com/file/d/1J8xvOo4qe4CnMyHvrIo6mB7k7TvoFMkR/preview?usp=drivesdk', 'iconLink': 'https://drive-thirdparty.googleusercontent.com/16/type/application/vnd.google.colaboratory', 'title': 'SSH原理与运用.ipynb', 'mimeType': 'application/vnd.google.colaboratory', 'description': 'Colaboratory notebook', 'labels': {'starred': False, 'hidden': False, 'trashed': False, 'restricted': False, 'viewed': True}, 'copyRequiresWriterPermission': False, 'createdDate': '2019-05-21T11:01:17.960Z', 'modifiedDate': '2019-05-21T12:27:45.490Z', 'modifiedByMeDate': '2019-05-21T12:27:45.490Z', 'lastViewedByMeDate': '2019-05-21T12:27:45.490Z', 'markedViewedByMeDate': '1970-01-01T00:00:00.000Z', 'version': '154', 'parents': [{'kind': 'drive#parentReference', 'id': '1MVMwp8u2fG0p_imGzaYj5FXRXgqf4nCv', 'selfLink': 'https://www.googleapis.com/drive/v2/files/1J8xvOo4qe4CnMyHvrIo6mB7k7TvoFMkR/parents/1MVMwp8u2fG0p_imGzaYj5FXRXgqf4nCv', 'parentLink': 'https://www.googleapis.com/drive/v2/files/1MVMwp8u2fG0p_imGzaYj5FXRXgqf4nCv', 'isRoot': False}], 'downloadUrl': 'https://doc-0k-2g-docs.googleusercontent.com/docs/securesc/bkq63emdigm6o2kt650njsdir3gb97p4/tu3giugsqpbjhk092qi9p0nqhsagt1e6/1558620000000/14647605510400259227/14647605510400259227/1J8xvOo4qe4CnMyHvrIo6mB7k7TvoFMkR?e=download&gd=true', 'userPermission': {'kind': 'drive#permission', 'etag': '\"Pu5D-rrLQ1obLibLazOjcgPU6jw/oRZxcnkbc1PDnPHOKhM3FdQKP-A\"', 'id': 'me', 'selfLink': 'https://www.googleapis.com/drive/v2/files/1J8xvOo4qe4CnMyHvrIo6mB7k7TvoFMkR/permissions/me', 'role': 'owner', 'type': 'user'}, 'originalFilename': 'SSH原理与运用.ipynb', 'fileExtension': 'ipynb', 'md5Checksum': '6b944a0374ac4886bb62be9cdeea7fac', 'fileSize': '14178', 'quotaBytesUsed': '28356', 'ownerNames': ['張盛偉'], 'owners': [{'kind': 'drive#user', 'displayName': '張盛偉', 'isAuthenticatedUser': True, 'permissionId': '14647605510400259227', 'emailAddress': 'superstarzsw@gmail.com'}], 'lastModifyingUserName': '張盛偉', 'lastModifyingUser': {'kind': 'drive#user', 'displayName': '張盛偉', 'isAuthenticatedUser': True, 'permissionId': '14647605510400259227', 'emailAddress': 'superstarzsw@gmail.com'}, 'capabilities': {'canCopy': True, 'canEdit': True}, 'editable': True, 'copyable': True, 'writersCanShare': True, 'shared': False, 'explicitlyTrashed': False, 'appDataContents': False, 'headRevisionId': '0B4YiuH1LC1_bWU15c3A5UjY3cU5JZDREZUJNOUwvRUdsM2NJPQ', 'properties': [{'kind': 'drive#property', 'etag': '\"Pu5D-rrLQ1obLibLazOjcgPU6jw/k-zeWx8gBtGrB5Sa5rQ57KDsuh8\"', 'key': 'disableRealtime', 'visibility': 'PUBLIC', 'value': '1'}, {'kind': 'drive#property', 'etag': '\"Pu5D-rrLQ1obLibLazOjcgPU6jw/RvK8npFsMzXXUPQmm-r3N__J3cc\"', 'key': 'revisionCounter', 'visibility': 'PUBLIC', 'value': '75'}], 'spaces': ['drive']})\n",
            "GoogleDriveFile({'kind': 'drive#file', 'id': '1gEzi5Dt9AMnQgQLk3sAkM4Ta9svpdc5y', 'etag': '\"Pu5D-rrLQ1obLibLazOjcgPU6jw/MTU1ODQyODgxMjgzMw\"', 'selfLink': 'https://www.googleapis.com/drive/v2/files/1gEzi5Dt9AMnQgQLk3sAkM4Ta9svpdc5y', 'webContentLink': 'https://drive.google.com/uc?id=1gEzi5Dt9AMnQgQLk3sAkM4Ta9svpdc5y&export=download', 'alternateLink': 'https://drive.google.com/file/d/1gEzi5Dt9AMnQgQLk3sAkM4Ta9svpdc5y/view?usp=drivesdk', 'embedLink': 'https://drive.google.com/file/d/1gEzi5Dt9AMnQgQLk3sAkM4Ta9svpdc5y/preview?usp=drivesdk', 'iconLink': 'https://drive-thirdparty.googleusercontent.com/16/type/application/vnd.google.colaboratory', 'title': 'Python 数据分析师必备的入门学习路线和技能.ipynb', 'mimeType': 'application/vnd.google.colaboratory', 'description': 'Colaboratory notebook', 'labels': {'starred': False, 'hidden': False, 'trashed': False, 'restricted': False, 'viewed': True}, 'copyRequiresWriterPermission': False, 'createdDate': '2019-05-19T05:43:45.382Z', 'modifiedDate': '2019-05-21T08:53:32.833Z', 'modifiedByMeDate': '2019-05-21T08:53:32.833Z', 'lastViewedByMeDate': '2019-05-21T08:53:32.833Z', 'markedViewedByMeDate': '1970-01-01T00:00:00.000Z', 'version': '743', 'parents': [{'kind': 'drive#parentReference', 'id': '1MVMwp8u2fG0p_imGzaYj5FXRXgqf4nCv', 'selfLink': 'https://www.googleapis.com/drive/v2/files/1gEzi5Dt9AMnQgQLk3sAkM4Ta9svpdc5y/parents/1MVMwp8u2fG0p_imGzaYj5FXRXgqf4nCv', 'parentLink': 'https://www.googleapis.com/drive/v2/files/1MVMwp8u2fG0p_imGzaYj5FXRXgqf4nCv', 'isRoot': False}], 'downloadUrl': 'https://doc-0k-2g-docs.googleusercontent.com/docs/securesc/bkq63emdigm6o2kt650njsdir3gb97p4/3pds4bbl1r051c2mc4013g1vgnfj2nvv/1558620000000/14647605510400259227/14647605510400259227/1gEzi5Dt9AMnQgQLk3sAkM4Ta9svpdc5y?e=download&gd=true', 'userPermission': {'kind': 'drive#permission', 'etag': '\"Pu5D-rrLQ1obLibLazOjcgPU6jw/syDWEDaswrTcgq-85LoccP30rSs\"', 'id': 'me', 'selfLink': 'https://www.googleapis.com/drive/v2/files/1gEzi5Dt9AMnQgQLk3sAkM4Ta9svpdc5y/permissions/me', 'role': 'owner', 'type': 'user'}, 'originalFilename': 'Python 数据分析师必备的入门学习路线和技能.ipynb', 'fileExtension': 'ipynb', 'md5Checksum': 'd73cdcb819bcf417efe473840dbf6276', 'fileSize': '533299', 'quotaBytesUsed': '675082', 'ownerNames': ['張盛偉'], 'owners': [{'kind': 'drive#user', 'displayName': '張盛偉', 'isAuthenticatedUser': True, 'permissionId': '14647605510400259227', 'emailAddress': 'superstarzsw@gmail.com'}], 'lastModifyingUserName': '張盛偉', 'lastModifyingUser': {'kind': 'drive#user', 'displayName': '張盛偉', 'isAuthenticatedUser': True, 'permissionId': '14647605510400259227', 'emailAddress': 'superstarzsw@gmail.com'}, 'capabilities': {'canCopy': True, 'canEdit': True}, 'editable': True, 'copyable': True, 'writersCanShare': True, 'shared': False, 'explicitlyTrashed': False, 'appDataContents': False, 'headRevisionId': '0B4YiuH1LC1_bU1pxU0hsTkZUQjBoNFFoWncvU1RmeE1SclA0PQ', 'properties': [{'kind': 'drive#property', 'etag': '\"Pu5D-rrLQ1obLibLazOjcgPU6jw/UZXyjlewxUYv_FdmTB-QUnvwbyY\"', 'key': 'revisionCounter', 'visibility': 'PUBLIC', 'value': '324'}, {'kind': 'drive#property', 'etag': '\"Pu5D-rrLQ1obLibLazOjcgPU6jw/k-zeWx8gBtGrB5Sa5rQ57KDsuh8\"', 'key': 'disableRealtime', 'visibility': 'PUBLIC', 'value': '1'}], 'spaces': ['drive']})\n",
            "GoogleDriveFile({'kind': 'drive#file', 'id': '1tjWa_3GYpk1uZQIcfPYhoj2Ytp2jYKsl', 'etag': '\"Pu5D-rrLQ1obLibLazOjcgPU6jw/MTU1ODI3NTQ2MTg5Mg\"', 'selfLink': 'https://www.googleapis.com/drive/v2/files/1tjWa_3GYpk1uZQIcfPYhoj2Ytp2jYKsl', 'webContentLink': 'https://drive.google.com/uc?id=1tjWa_3GYpk1uZQIcfPYhoj2Ytp2jYKsl&export=download', 'alternateLink': 'https://drive.google.com/file/d/1tjWa_3GYpk1uZQIcfPYhoj2Ytp2jYKsl/view?usp=drivesdk', 'embedLink': 'https://drive.google.com/file/d/1tjWa_3GYpk1uZQIcfPYhoj2Ytp2jYKsl/preview?usp=drivesdk', 'iconLink': 'https://drive-thirdparty.googleusercontent.com/16/type/application/vnd.google.colaboratory', 'title': 'Mathematics Symbol Test.ipynb', 'mimeType': 'application/vnd.google.colaboratory', 'description': 'Colaboratory notebook', 'labels': {'starred': False, 'hidden': False, 'trashed': False, 'restricted': False, 'viewed': True}, 'copyRequiresWriterPermission': False, 'createdDate': '2019-05-19T13:20:25.185Z', 'modifiedDate': '2019-05-19T14:17:41.892Z', 'modifiedByMeDate': '2019-05-19T14:17:41.892Z', 'lastViewedByMeDate': '2019-05-19T14:17:41.892Z', 'markedViewedByMeDate': '1970-01-01T00:00:00.000Z', 'version': '67', 'parents': [{'kind': 'drive#parentReference', 'id': '1MVMwp8u2fG0p_imGzaYj5FXRXgqf4nCv', 'selfLink': 'https://www.googleapis.com/drive/v2/files/1tjWa_3GYpk1uZQIcfPYhoj2Ytp2jYKsl/parents/1MVMwp8u2fG0p_imGzaYj5FXRXgqf4nCv', 'parentLink': 'https://www.googleapis.com/drive/v2/files/1MVMwp8u2fG0p_imGzaYj5FXRXgqf4nCv', 'isRoot': False}], 'downloadUrl': 'https://doc-0g-2g-docs.googleusercontent.com/docs/securesc/bkq63emdigm6o2kt650njsdir3gb97p4/pbh3a6luqod4obs9tcoh5d8fk164cc9j/1558620000000/14647605510400259227/14647605510400259227/1tjWa_3GYpk1uZQIcfPYhoj2Ytp2jYKsl?e=download&gd=true', 'userPermission': {'kind': 'drive#permission', 'etag': '\"Pu5D-rrLQ1obLibLazOjcgPU6jw/f0ykZOTJk7UnrSo8gPXQ1mVvIj4\"', 'id': 'me', 'selfLink': 'https://www.googleapis.com/drive/v2/files/1tjWa_3GYpk1uZQIcfPYhoj2Ytp2jYKsl/permissions/me', 'role': 'owner', 'type': 'user'}, 'originalFilename': 'Mathematics Symbol Test.ipynb', 'fileExtension': 'ipynb', 'md5Checksum': '81721fc60d125e68f017c4f3647989e2', 'fileSize': '4646', 'quotaBytesUsed': '4646', 'ownerNames': ['張盛偉'], 'owners': [{'kind': 'drive#user', 'displayName': '張盛偉', 'isAuthenticatedUser': True, 'permissionId': '14647605510400259227', 'emailAddress': 'superstarzsw@gmail.com'}], 'lastModifyingUserName': '張盛偉', 'lastModifyingUser': {'kind': 'drive#user', 'displayName': '張盛偉', 'isAuthenticatedUser': True, 'permissionId': '14647605510400259227', 'emailAddress': 'superstarzsw@gmail.com'}, 'capabilities': {'canCopy': True, 'canEdit': True}, 'editable': True, 'copyable': True, 'writersCanShare': True, 'shared': False, 'explicitlyTrashed': False, 'appDataContents': False, 'headRevisionId': '0B4YiuH1LC1_bWEdLRjA1Y0FuWngzYkgxSnhEVHlQMDdQaFRRPQ', 'properties': [{'kind': 'drive#property', 'etag': '\"Pu5D-rrLQ1obLibLazOjcgPU6jw/VhfgVdO3N5N-a7JYUJJN7vCO6yA\"', 'key': 'revisionCounter', 'visibility': 'PUBLIC', 'value': '30'}, {'kind': 'drive#property', 'etag': '\"Pu5D-rrLQ1obLibLazOjcgPU6jw/k-zeWx8gBtGrB5Sa5rQ57KDsuh8\"', 'key': 'disableRealtime', 'visibility': 'PUBLIC', 'value': '1'}], 'spaces': ['drive']})\n",
            "GoogleDriveFile({'kind': 'drive#file', 'id': '1QKJQbL2Sl9UXtbzbP2NihRrZlfVyHLpI', 'etag': '\"Pu5D-rrLQ1obLibLazOjcgPU6jw/MTU1ODI0MzUxNTAzMQ\"', 'selfLink': 'https://www.googleapis.com/drive/v2/files/1QKJQbL2Sl9UXtbzbP2NihRrZlfVyHLpI', 'webContentLink': 'https://drive.google.com/uc?id=1QKJQbL2Sl9UXtbzbP2NihRrZlfVyHLpI&export=download', 'alternateLink': 'https://drive.google.com/file/d/1QKJQbL2Sl9UXtbzbP2NihRrZlfVyHLpI/view?usp=drivesdk', 'embedLink': 'https://drive.google.com/file/d/1QKJQbL2Sl9UXtbzbP2NihRrZlfVyHLpI/preview?usp=drivesdk', 'iconLink': 'https://drive-thirdparty.googleusercontent.com/16/type/application/vnd.google.colaboratory', 'title': 'Oxford Pets Image Segmentation.ipynb', 'mimeType': 'application/vnd.google.colaboratory', 'description': 'Colaboratory notebook', 'labels': {'starred': False, 'hidden': False, 'trashed': False, 'restricted': False, 'viewed': True}, 'copyRequiresWriterPermission': False, 'createdDate': '2019-05-17T13:32:41.178Z', 'modifiedDate': '2019-05-19T05:25:15.031Z', 'modifiedByMeDate': '2019-05-19T05:25:15.031Z', 'lastViewedByMeDate': '2019-05-19T05:25:15.031Z', 'markedViewedByMeDate': '1970-01-01T00:00:00.000Z', 'version': '152', 'parents': [{'kind': 'drive#parentReference', 'id': '1MVMwp8u2fG0p_imGzaYj5FXRXgqf4nCv', 'selfLink': 'https://www.googleapis.com/drive/v2/files/1QKJQbL2Sl9UXtbzbP2NihRrZlfVyHLpI/parents/1MVMwp8u2fG0p_imGzaYj5FXRXgqf4nCv', 'parentLink': 'https://www.googleapis.com/drive/v2/files/1MVMwp8u2fG0p_imGzaYj5FXRXgqf4nCv', 'isRoot': False}], 'downloadUrl': 'https://doc-0o-2g-docs.googleusercontent.com/docs/securesc/bkq63emdigm6o2kt650njsdir3gb97p4/ns8e3poq73pk2vd5233q4191it9eit5l/1558620000000/14647605510400259227/14647605510400259227/1QKJQbL2Sl9UXtbzbP2NihRrZlfVyHLpI?e=download&gd=true', 'userPermission': {'kind': 'drive#permission', 'etag': '\"Pu5D-rrLQ1obLibLazOjcgPU6jw/bfibfoce_mvHq6H3V37jI-st3jY\"', 'id': 'me', 'selfLink': 'https://www.googleapis.com/drive/v2/files/1QKJQbL2Sl9UXtbzbP2NihRrZlfVyHLpI/permissions/me', 'role': 'owner', 'type': 'user'}, 'originalFilename': 'Oxford Pets Image Segmentation.ipynb', 'fileExtension': 'ipynb', 'md5Checksum': '01780e38cdacbc7f2ed11720373ed473', 'fileSize': '1298107', 'quotaBytesUsed': '1298107', 'ownerNames': ['張盛偉'], 'owners': [{'kind': 'drive#user', 'displayName': '張盛偉', 'isAuthenticatedUser': True, 'permissionId': '14647605510400259227', 'emailAddress': 'superstarzsw@gmail.com'}], 'lastModifyingUserName': '張盛偉', 'lastModifyingUser': {'kind': 'drive#user', 'displayName': '張盛偉', 'isAuthenticatedUser': True, 'permissionId': '14647605510400259227', 'emailAddress': 'superstarzsw@gmail.com'}, 'capabilities': {'canCopy': True, 'canEdit': True}, 'editable': True, 'copyable': True, 'writersCanShare': True, 'shared': False, 'explicitlyTrashed': False, 'appDataContents': False, 'headRevisionId': '0B4YiuH1LC1_baFlJSGliaXVseGhWLzFuV2ZPcjB1S09HSzMwPQ', 'properties': [{'kind': 'drive#property', 'etag': '\"Pu5D-rrLQ1obLibLazOjcgPU6jw/zbxezCegRd2hzKb8rBFSzUkL9NU\"', 'key': 'revisionCounter', 'visibility': 'PUBLIC', 'value': '41'}, {'kind': 'drive#property', 'etag': '\"Pu5D-rrLQ1obLibLazOjcgPU6jw/k-zeWx8gBtGrB5Sa5rQ57KDsuh8\"', 'key': 'disableRealtime', 'visibility': 'PUBLIC', 'value': '1'}], 'spaces': ['drive']})\n",
            "GoogleDriveFile({'kind': 'drive#file', 'id': '1ipmAHRq9kOhjPDclG-jAD0_BDXvB0yTY', 'etag': '\"Pu5D-rrLQ1obLibLazOjcgPU6jw/MTU1ODI0MTMwMjU4NA\"', 'selfLink': 'https://www.googleapis.com/drive/v2/files/1ipmAHRq9kOhjPDclG-jAD0_BDXvB0yTY', 'webContentLink': 'https://drive.google.com/uc?id=1ipmAHRq9kOhjPDclG-jAD0_BDXvB0yTY&export=download', 'alternateLink': 'https://drive.google.com/file/d/1ipmAHRq9kOhjPDclG-jAD0_BDXvB0yTY/view?usp=drivesdk', 'embedLink': 'https://drive.google.com/file/d/1ipmAHRq9kOhjPDclG-jAD0_BDXvB0yTY/preview?usp=drivesdk', 'iconLink': 'https://drive-thirdparty.googleusercontent.com/16/type/application/vnd.google.colaboratory', 'thumbnailLink': 'https://lh3.googleusercontent.com/l9edmIO131fo845qEu4DV34OUmmEj0Yld6k8TQtyirxgLrlhPYiw-SMVS3RAB-K1KCTs7Sae-Eo=s220', 'title': 'learnpython（南京大学）.ipynb', 'mimeType': 'application/vnd.google.colaboratory', 'description': 'Colaboratory notebook', 'labels': {'starred': False, 'hidden': False, 'trashed': False, 'restricted': False, 'viewed': True}, 'copyRequiresWriterPermission': False, 'createdDate': '2019-05-17T01:32:15.197Z', 'modifiedDate': '2019-05-19T04:48:22.584Z', 'modifiedByMeDate': '2019-05-19T04:48:22.584Z', 'lastViewedByMeDate': '2019-05-17T05:06:14.904Z', 'markedViewedByMeDate': '1970-01-01T00:00:00.000Z', 'version': '25', 'parents': [{'kind': 'drive#parentReference', 'id': '1MVMwp8u2fG0p_imGzaYj5FXRXgqf4nCv', 'selfLink': 'https://www.googleapis.com/drive/v2/files/1ipmAHRq9kOhjPDclG-jAD0_BDXvB0yTY/parents/1MVMwp8u2fG0p_imGzaYj5FXRXgqf4nCv', 'parentLink': 'https://www.googleapis.com/drive/v2/files/1MVMwp8u2fG0p_imGzaYj5FXRXgqf4nCv', 'isRoot': False}], 'downloadUrl': 'https://doc-0c-2g-docs.googleusercontent.com/docs/securesc/bkq63emdigm6o2kt650njsdir3gb97p4/vjnpc7h424jat33kbrrps44g5kekojgg/1558620000000/14647605510400259227/14647605510400259227/1ipmAHRq9kOhjPDclG-jAD0_BDXvB0yTY?e=download&gd=true', 'userPermission': {'kind': 'drive#permission', 'etag': '\"Pu5D-rrLQ1obLibLazOjcgPU6jw/8hKfG4bAYWatQCZQ8HhmcqzGTAI\"', 'id': 'me', 'selfLink': 'https://www.googleapis.com/drive/v2/files/1ipmAHRq9kOhjPDclG-jAD0_BDXvB0yTY/permissions/me', 'role': 'owner', 'type': 'user'}, 'originalFilename': 'learnpython.ipynb', 'fileExtension': 'ipynb', 'md5Checksum': '1bc24301ff07ee93f887e0257f7d9aa5', 'fileSize': '16369', 'quotaBytesUsed': '16369', 'ownerNames': ['張盛偉'], 'owners': [{'kind': 'drive#user', 'displayName': '張盛偉', 'isAuthenticatedUser': True, 'permissionId': '14647605510400259227', 'emailAddress': 'superstarzsw@gmail.com'}], 'lastModifyingUserName': '張盛偉', 'lastModifyingUser': {'kind': 'drive#user', 'displayName': '張盛偉', 'isAuthenticatedUser': True, 'permissionId': '14647605510400259227', 'emailAddress': 'superstarzsw@gmail.com'}, 'capabilities': {'canCopy': True, 'canEdit': True}, 'editable': True, 'copyable': True, 'writersCanShare': True, 'shared': False, 'explicitlyTrashed': False, 'appDataContents': False, 'headRevisionId': '0B4YiuH1LC1_bWWRmQUNNQmVVbmRXMTM5QjNidGZEMWJpeS9ZPQ', 'properties': [{'kind': 'drive#property', 'etag': '\"Pu5D-rrLQ1obLibLazOjcgPU6jw/SLr9jiy5xNSEAGBPicjWllFz2Cw\"', 'key': 'revisionCounter', 'visibility': 'PUBLIC', 'value': '6'}, {'kind': 'drive#property', 'etag': '\"Pu5D-rrLQ1obLibLazOjcgPU6jw/k-zeWx8gBtGrB5Sa5rQ57KDsuh8\"', 'key': 'disableRealtime', 'visibility': 'PUBLIC', 'value': '1'}], 'spaces': ['drive']})\n",
            "GoogleDriveFile({'kind': 'drive#file', 'id': '1k7FLFlo46LmRfR5XlORt2ljOThRp2Vjj', 'etag': '\"Pu5D-rrLQ1obLibLazOjcgPU6jw/MTU1ODIzODg3NDkxMQ\"', 'selfLink': 'https://www.googleapis.com/drive/v2/files/1k7FLFlo46LmRfR5XlORt2ljOThRp2Vjj', 'webContentLink': 'https://drive.google.com/uc?id=1k7FLFlo46LmRfR5XlORt2ljOThRp2Vjj&export=download', 'alternateLink': 'https://drive.google.com/file/d/1k7FLFlo46LmRfR5XlORt2ljOThRp2Vjj/view?usp=drivesdk', 'embedLink': 'https://drive.google.com/file/d/1k7FLFlo46LmRfR5XlORt2ljOThRp2Vjj/preview?usp=drivesdk', 'iconLink': 'https://drive-thirdparty.googleusercontent.com/16/type/application/vnd.google.colaboratory', 'thumbnailLink': 'https://lh3.googleusercontent.com/SmfqhImUnJ6Hsgj7Njv7oZptOa8L7NTenVRbSnK5X1sX-iwD68Ly9zdLWQsbcDUIiUNeVrQTbDQA=s220', 'title': '小甲鱼python课后题.ipynb', 'mimeType': 'application/vnd.google.colaboratory', 'description': 'Colaboratory notebook', 'labels': {'starred': False, 'hidden': False, 'trashed': False, 'restricted': False, 'viewed': True}, 'copyRequiresWriterPermission': False, 'createdDate': '2019-05-17T05:08:11.889Z', 'modifiedDate': '2019-05-19T04:07:54.911Z', 'modifiedByMeDate': '2019-05-19T04:07:54.911Z', 'lastViewedByMeDate': '2019-05-19T04:07:54.911Z', 'markedViewedByMeDate': '1970-01-01T00:00:00.000Z', 'version': '1037', 'parents': [{'kind': 'drive#parentReference', 'id': '1MVMwp8u2fG0p_imGzaYj5FXRXgqf4nCv', 'selfLink': 'https://www.googleapis.com/drive/v2/files/1k7FLFlo46LmRfR5XlORt2ljOThRp2Vjj/parents/1MVMwp8u2fG0p_imGzaYj5FXRXgqf4nCv', 'parentLink': 'https://www.googleapis.com/drive/v2/files/1MVMwp8u2fG0p_imGzaYj5FXRXgqf4nCv', 'isRoot': False}], 'downloadUrl': 'https://doc-08-2g-docs.googleusercontent.com/docs/securesc/bkq63emdigm6o2kt650njsdir3gb97p4/ditcnve1ataopj9ute1kucg90n3e7bdk/1558620000000/14647605510400259227/14647605510400259227/1k7FLFlo46LmRfR5XlORt2ljOThRp2Vjj?e=download&gd=true', 'userPermission': {'kind': 'drive#permission', 'etag': '\"Pu5D-rrLQ1obLibLazOjcgPU6jw/8wfgpbG8dUlfp231Tsk5Wyp8emA\"', 'id': 'me', 'selfLink': 'https://www.googleapis.com/drive/v2/files/1k7FLFlo46LmRfR5XlORt2ljOThRp2Vjj/permissions/me', 'role': 'owner', 'type': 'user'}, 'originalFilename': '小甲鱼python课后题.ipynb', 'fileExtension': 'ipynb', 'md5Checksum': '6507919cb37e1316db08854a577dc6ac', 'fileSize': '48083', 'quotaBytesUsed': '48083', 'ownerNames': ['張盛偉'], 'owners': [{'kind': 'drive#user', 'displayName': '張盛偉', 'isAuthenticatedUser': True, 'permissionId': '14647605510400259227', 'emailAddress': 'superstarzsw@gmail.com'}], 'lastModifyingUserName': '張盛偉', 'lastModifyingUser': {'kind': 'drive#user', 'displayName': '張盛偉', 'isAuthenticatedUser': True, 'permissionId': '14647605510400259227', 'emailAddress': 'superstarzsw@gmail.com'}, 'capabilities': {'canCopy': True, 'canEdit': True}, 'editable': True, 'copyable': True, 'writersCanShare': True, 'shared': False, 'explicitlyTrashed': False, 'appDataContents': False, 'headRevisionId': '0B4YiuH1LC1_bdFlOKzJPOG1SVkJsRDJiY3pKc0hmUHpHcnRJPQ', 'properties': [{'kind': 'drive#property', 'etag': '\"Pu5D-rrLQ1obLibLazOjcgPU6jw/k-zeWx8gBtGrB5Sa5rQ57KDsuh8\"', 'key': 'disableRealtime', 'visibility': 'PUBLIC', 'value': '1'}, {'kind': 'drive#property', 'etag': '\"Pu5D-rrLQ1obLibLazOjcgPU6jw/lQqqIC-qEeGom7-KGUrJu9Adclo\"', 'key': 'revisionCounter', 'visibility': 'PUBLIC', 'value': '254'}], 'spaces': ['drive']})\n",
            "GoogleDriveFile({'kind': 'drive#file', 'id': '1_INmqZvdb8-t_yVzDuVPEa5Dch-M6a95', 'etag': '\"Pu5D-rrLQ1obLibLazOjcgPU6jw/MTU1ODE1NjE3ODI4MA\"', 'selfLink': 'https://www.googleapis.com/drive/v2/files/1_INmqZvdb8-t_yVzDuVPEa5Dch-M6a95', 'webContentLink': 'https://drive.google.com/uc?id=1_INmqZvdb8-t_yVzDuVPEa5Dch-M6a95&export=download', 'alternateLink': 'https://drive.google.com/file/d/1_INmqZvdb8-t_yVzDuVPEa5Dch-M6a95/view?usp=drivesdk', 'embedLink': 'https://drive.google.com/file/d/1_INmqZvdb8-t_yVzDuVPEa5Dch-M6a95/preview?usp=drivesdk', 'iconLink': 'https://drive-thirdparty.googleusercontent.com/16/type/application/vnd.google.colaboratory', 'title': 'deep learning from scratch.ipynb', 'mimeType': 'application/vnd.google.colaboratory', 'description': 'Colaboratory notebook', 'labels': {'starred': False, 'hidden': False, 'trashed': False, 'restricted': False, 'viewed': True}, 'copyRequiresWriterPermission': False, 'createdDate': '2019-05-18T04:34:58.116Z', 'modifiedDate': '2019-05-18T05:09:38.280Z', 'modifiedByMeDate': '2019-05-18T05:09:38.280Z', 'lastViewedByMeDate': '2019-05-18T05:09:38.280Z', 'markedViewedByMeDate': '1970-01-01T00:00:00.000Z', 'version': '78', 'parents': [{'kind': 'drive#parentReference', 'id': '1MVMwp8u2fG0p_imGzaYj5FXRXgqf4nCv', 'selfLink': 'https://www.googleapis.com/drive/v2/files/1_INmqZvdb8-t_yVzDuVPEa5Dch-M6a95/parents/1MVMwp8u2fG0p_imGzaYj5FXRXgqf4nCv', 'parentLink': 'https://www.googleapis.com/drive/v2/files/1MVMwp8u2fG0p_imGzaYj5FXRXgqf4nCv', 'isRoot': False}], 'downloadUrl': 'https://doc-0o-2g-docs.googleusercontent.com/docs/securesc/bkq63emdigm6o2kt650njsdir3gb97p4/1upuuljnb6u5iub256tnqgb32kaf8phm/1558620000000/14647605510400259227/14647605510400259227/1_INmqZvdb8-t_yVzDuVPEa5Dch-M6a95?e=download&gd=true', 'userPermission': {'kind': 'drive#permission', 'etag': '\"Pu5D-rrLQ1obLibLazOjcgPU6jw/NxzGCf3AO24BM1gCIGDwTo7YQ8I\"', 'id': 'me', 'selfLink': 'https://www.googleapis.com/drive/v2/files/1_INmqZvdb8-t_yVzDuVPEa5Dch-M6a95/permissions/me', 'role': 'owner', 'type': 'user'}, 'originalFilename': 'deep learning from scratch.ipynb', 'fileExtension': 'ipynb', 'md5Checksum': 'd8d5963711a7bc06a1ea5316273c5351', 'fileSize': '4156', 'quotaBytesUsed': '4156', 'ownerNames': ['張盛偉'], 'owners': [{'kind': 'drive#user', 'displayName': '張盛偉', 'isAuthenticatedUser': True, 'permissionId': '14647605510400259227', 'emailAddress': 'superstarzsw@gmail.com'}], 'lastModifyingUserName': '張盛偉', 'lastModifyingUser': {'kind': 'drive#user', 'displayName': '張盛偉', 'isAuthenticatedUser': True, 'permissionId': '14647605510400259227', 'emailAddress': 'superstarzsw@gmail.com'}, 'capabilities': {'canCopy': True, 'canEdit': True}, 'editable': True, 'copyable': True, 'writersCanShare': True, 'shared': False, 'explicitlyTrashed': False, 'appDataContents': False, 'headRevisionId': '0B4YiuH1LC1_bR2VSRTZXSGt5OEh2NGVkUHJ0NEJOeEljRUxvPQ', 'properties': [{'kind': 'drive#property', 'etag': '\"Pu5D-rrLQ1obLibLazOjcgPU6jw/4TbTXi0nd82N1ga3UArJU93y8xE\"', 'key': 'revisionCounter', 'visibility': 'PUBLIC', 'value': '28'}, {'kind': 'drive#property', 'etag': '\"Pu5D-rrLQ1obLibLazOjcgPU6jw/k-zeWx8gBtGrB5Sa5rQ57KDsuh8\"', 'key': 'disableRealtime', 'visibility': 'PUBLIC', 'value': '1'}], 'spaces': ['drive']})\n"
          ],
          "name": "stdout"
        }
      ]
    },
    {
      "cell_type": "code",
      "metadata": {
        "colab_type": "code",
        "outputId": "67ddcd55-00bf-4809-b23b-61fcb0e2fe8d",
        "id": "Oscuk45cQCXc",
        "colab": {
          "base_uri": "https://localhost:8080/",
          "height": 54
        }
      },
      "source": [
        "file = drive.CreateFile({'id': \"1C68dClFgFk_llin_qJ6tOQBy4LtcUZDB\"}) \n",
        "file.GetContentString()\n"
      ],
      "execution_count": 0,
      "outputs": [
        {
          "output_type": "execute_result",
          "data": {
            "text/plain": [
              "'I have a dream that my four little children will one day live in a nation where they will not be judged by the color of their skin but by the content of their character. I have a dream today.\\n\\nI have a dream that one day down in Alabama, with its vicious racists, . . . one day right there in Alabama little black boys and black girls will be able to join hands with little white boys and white girls as sisters and brothers. I have a dream today.\\n\\nI have a dream that one day every valley shall be exalted, every hill and mountain shall be made low, the rough places will be made plain, and the crooked places will be made straight, and the glory of the Lord shall be revealed, and all flesh shall see it together.\\n\\nThis is our hope. . . With this faith we will be able to hew out of the mountain of despair a stone of hope. With this faith we will be able to transform the jangling discords of our nation into a beautiful symphony of brotherhood. With this faith we will be able to work together, to pray together, to struggle together, to go to jail together, to stand up for freedom together, knowing that we will be free one day. . . .\\n\\nAnd when this happens, and when we allow freedom ring, when we let it ring from every village and every hamlet, from every state and every city, we will be able to speed up that day when all of God\\'s children, black men and white men, Jews and Gentiles, Protestants and Catholics, will be able to join hands and sing in the words of the old Negro spiritual: \"Free at last! Free at last! Thank God Almighty, we are free at last!\"\\n'"
            ]
          },
          "metadata": {
            "tags": []
          },
          "execution_count": 21
        }
      ]
    },
    {
      "cell_type": "code",
      "metadata": {
        "id": "aq-o-J6bE_Lw",
        "colab_type": "code",
        "outputId": "77bb516e-2d56-4441-bfad-f72edd49ec8d",
        "colab": {
          "base_uri": "https://localhost:8080/",
          "height": 2193
        }
      },
      "source": [
        "import re \n",
        "from openpyxl.writer.excel import save_virtual_workbook\n",
        "\n",
        "# 你不用太关心这个函数\n",
        "def parse(text):\n",
        "    # 使用正则表达式去除标点符号和换行符\n",
        "    text = re.sub(r'[^\\w ]', '', text)\n",
        "\n",
        "    # 转为小写\n",
        "    text = text.lower()\n",
        "    \n",
        "    # 生成所有单词的列表\n",
        "    word_list = text.split(' ')\n",
        "    \n",
        "    # 去除空白单词\n",
        "    word_list = filter(None, word_list)\n",
        "    \n",
        "    # 生成单词和词频的字典\n",
        "    word_cnt = {}\n",
        "    for word in word_list:\n",
        "        if word not in word_cnt:\n",
        "            word_cnt[word] = 0\n",
        "        word_cnt[word] += 1\n",
        "    \n",
        "    # 按照词频排序\n",
        "    sorted_word_cnt = sorted(word_cnt.items(), key=lambda kv: kv[1], reverse=True)\n",
        "    \n",
        "    return sorted_word_cnt\n",
        "\n",
        "\n",
        "text = file.GetContentString()\n",
        "\n",
        "word_and_freq = parse(text)\n",
        "\n",
        "for word, freq in word_and_freq:\n",
        "    print(word, freq)\n",
        "\n"
      ],
      "execution_count": 0,
      "outputs": [
        {
          "output_type": "stream",
          "text": [
            "and 15\n",
            "be 13\n",
            "will 11\n",
            "to 11\n",
            "the 10\n",
            "of 10\n",
            "a 8\n",
            "we 8\n",
            "day 6\n",
            "able 6\n",
            "every 6\n",
            "have 5\n",
            "dream 5\n",
            "that 5\n",
            "one 5\n",
            "with 5\n",
            "together 5\n",
            "in 4\n",
            "shall 4\n",
            "this 4\n",
            "free 4\n",
            "when 4\n",
            "i 3\n",
            "little 3\n",
            "black 3\n",
            "white 3\n",
            "made 3\n",
            "faith 3\n",
            "at 3\n",
            "last 3\n",
            "children 2\n",
            "nation 2\n",
            "by 2\n",
            "their 2\n",
            "todayi 2\n",
            "alabama 2\n",
            "boys 2\n",
            "girls 2\n",
            "join 2\n",
            "hands 2\n",
            "mountain 2\n",
            "places 2\n",
            "all 2\n",
            "it 2\n",
            "our 2\n",
            "hope 2\n",
            "up 2\n",
            "freedom 2\n",
            "ring 2\n",
            "from 2\n",
            "men 2\n",
            "my 1\n",
            "four 1\n",
            "live 1\n",
            "where 1\n",
            "they 1\n",
            "not 1\n",
            "judged 1\n",
            "color 1\n",
            "skin 1\n",
            "but 1\n",
            "content 1\n",
            "character 1\n",
            "down 1\n",
            "its 1\n",
            "vicious 1\n",
            "racists 1\n",
            "right 1\n",
            "there 1\n",
            "as 1\n",
            "sisters 1\n",
            "brothers 1\n",
            "valley 1\n",
            "exalted 1\n",
            "hill 1\n",
            "low 1\n",
            "rough 1\n",
            "plain 1\n",
            "crooked 1\n",
            "straight 1\n",
            "glory 1\n",
            "lord 1\n",
            "revealed 1\n",
            "flesh 1\n",
            "see 1\n",
            "togetherthis 1\n",
            "is 1\n",
            "hew 1\n",
            "out 1\n",
            "despair 1\n",
            "stone 1\n",
            "transform 1\n",
            "jangling 1\n",
            "discords 1\n",
            "into 1\n",
            "beautiful 1\n",
            "symphony 1\n",
            "brotherhood 1\n",
            "work 1\n",
            "pray 1\n",
            "struggle 1\n",
            "go 1\n",
            "jail 1\n",
            "stand 1\n",
            "for 1\n",
            "knowing 1\n",
            "happens 1\n",
            "allow 1\n",
            "let 1\n",
            "village 1\n",
            "hamlet 1\n",
            "state 1\n",
            "city 1\n",
            "speed 1\n",
            "gods 1\n",
            "jews 1\n",
            "gentiles 1\n",
            "protestants 1\n",
            "catholics 1\n",
            "sing 1\n",
            "words 1\n",
            "old 1\n",
            "negro 1\n",
            "spiritual 1\n",
            "thank 1\n",
            "god 1\n",
            "almighty 1\n",
            "are 1\n"
          ],
          "name": "stdout"
        }
      ]
    },
    {
      "cell_type": "markdown",
      "metadata": {
        "id": "gYikVhHv4dCN",
        "colab_type": "text"
      },
      "source": [
        "*   parse() 函数  把输入的 text 字符串，转化为需要的排序后的词频统计\n",
        "*   open() 函数拿到文件的指针。第一个参数指定文件位置（相对位置或者绝对位置）第二个参数，如果是 'r'表示读取，如果是'w' 则表示写入，当然也可以用 'rw' ，表示读写都要。\n",
        "*   read() 函数  读取文件的全部内容  代码 `text = fin.read()`\n",
        "\n",
        "\n",
        "\n"
      ]
    },
    {
      "cell_type": "markdown",
      "metadata": {
        "id": "YcXmGIV_4dJm",
        "colab_type": "text"
      },
      "source": [
        "###JSON 序列化与实战\n",
        "\n",
        "\n",
        "\n"
      ]
    },
    {
      "cell_type": "markdown",
      "metadata": {
        "id": "ID6-osOx4dO0",
        "colab_type": "text"
      },
      "source": [
        "\n",
        "\n",
        "*   输入这些杂七杂八的信息，比如 Python 字典，输出一个字符串\n",
        "\n",
        "*   输入这个字符串，可以输出包含原始信息的 Python 字典。\n",
        "\n"
      ]
    },
    {
      "cell_type": "code",
      "metadata": {
        "id": "Fu33J7tOZ_Ev",
        "colab_type": "code",
        "outputId": "319b333b-e67c-469b-a63b-63a8ca277008",
        "colab": {
          "base_uri": "https://localhost:8080/",
          "height": 85
        }
      },
      "source": [
        "import json\n",
        "\n",
        "params = {\n",
        "    'symbol': '123456',\n",
        "    'type': 'limit',\n",
        "    'price': 123.4,\n",
        "    'amount': 23\n",
        "}\n",
        "\n",
        "params_str = json.dumps(params)\n",
        "\n",
        "print('after json serialization')\n",
        "print('type of params_str = {}, params_str = {}'.format(type(params_str), params))\n",
        "\n",
        "original_params = json.loads(params_str)\n",
        "\n",
        "print('after json deserialization')\n",
        "print('type of original_params = {}, original_params = {}'.format(type(original_params), original_params))\n",
        "\n"
      ],
      "execution_count": 0,
      "outputs": [
        {
          "output_type": "stream",
          "text": [
            "after json serialization\n",
            "type of params_str = <class 'str'>, params_str = {'symbol': '123456', 'type': 'limit', 'price': 123.4, 'amount': 23}\n",
            "after json deserialization\n",
            "type of original_params = <class 'dict'>, original_params = {'symbol': '123456', 'type': 'limit', 'price': 123.4, 'amount': 23}\n"
          ],
          "name": "stdout"
        }
      ]
    },
    {
      "cell_type": "markdown",
      "metadata": {
        "id": "rrVqvI9a4dID",
        "colab_type": "text"
      },
      "source": [
        "\n",
        "\n",
        "*   json.dumps() 这个函数，接受 Python 的基本数据类型，然后将其序列化为 string；\n",
        "\n",
        "\n",
        "*   json.loads() 这个函数，接受一个合法字符串，然后将其反序列化为 Python 的基本数据类型。\n"
      ]
    },
    {
      "cell_type": "markdown",
      "metadata": {
        "id": "X3173Tsy4dEz",
        "colab_type": "text"
      },
      "source": [
        "输出字符串到文件，或者从文件中读取 JSON 字符串\n",
        "\n"
      ]
    },
    {
      "cell_type": "code",
      "metadata": {
        "id": "4zBUIJtGam3_",
        "colab_type": "code",
        "outputId": "f29feada-5afc-43fe-9296-74a9b4333ee3",
        "colab": {
          "base_uri": "https://localhost:8080/",
          "height": 51
        }
      },
      "source": [
        "import json\n",
        "\n",
        "params = {\n",
        "    'symbol': '123456',\n",
        "    'type': 'limit',\n",
        "    'price': 123.4,\n",
        "    'amount': 23\n",
        "}\n",
        "\n",
        "with open('params.json', 'w') as fout:\n",
        "    params_str = json.dump(params, fout)\n",
        "\n",
        "with open('params.json', 'r') as fin:\n",
        "    original_params = json.load(fin)\n",
        "\n",
        "print('after json deserialization')\n",
        "print('type of original_params = {}, original_params = {}'.format(type(original_params), original_params))\n"
      ],
      "execution_count": 0,
      "outputs": [
        {
          "output_type": "stream",
          "text": [
            "after json deserialization\n",
            "type of original_params = <class 'dict'>, original_params = {'symbol': '123456', 'type': 'limit', 'price': 123.4, 'amount': 23}\n"
          ],
          "name": "stdout"
        }
      ]
    },
    {
      "cell_type": "markdown",
      "metadata": {
        "id": "ByL2fd8Ta1Tm",
        "colab_type": "text"
      },
      "source": [
        "###总结"
      ]
    },
    {
      "cell_type": "markdown",
      "metadata": {
        "id": "2riSGNG2a6Vn",
        "colab_type": "text"
      },
      "source": [
        "\n",
        "\n",
        "*   I/O 操作需谨慎，一定要进行充分的错误处理，并细心编码，防止出现编码漏洞\n",
        "\n",
        "\n",
        "\n",
        "*   编码时，对内存占用和磁盘占用要有充分的估计，这样在出错时可以更容易找到原因\n",
        "\n",
        "*   JSON 序列化是很方便的工具，要结合实战多多练习\n",
        "\n",
        "*   代码尽量简洁、清晰\n",
        "*   Protocol Buffer\n",
        "\n"
      ]
    },
    {
      "cell_type": "markdown",
      "metadata": {
        "id": "IKIM-7EuMun6",
        "colab_type": "text"
      },
      "source": [
        "***\n",
        "***"
      ]
    },
    {
      "cell_type": "markdown",
      "metadata": {
        "id": "RIgrbbM8MzIh",
        "colab_type": "text"
      },
      "source": [
        "#条件与循环"
      ]
    },
    {
      "cell_type": "markdown",
      "metadata": {
        "id": "tWgwQbp7M6KB",
        "colab_type": "text"
      },
      "source": [
        "###条件语句"
      ]
    },
    {
      "cell_type": "markdown",
      "metadata": {
        "id": "l75YK6MWM6To",
        "colab_type": "text"
      },
      "source": [
        "*   不能在条件语句中加括号\n",
        "*   在条件语句的末尾必须加上冒号（:）\n",
        "*   当存在多个条件判断时，需要用 else if 来实现\n",
        "*   省略判断的条件\n",
        "\n"
      ]
    },
    {
      "cell_type": "markdown",
      "metadata": {
        "id": "I9tspPFuM6WW",
        "colab_type": "text"
      },
      "source": [
        "**省略判断条件的常见用法**\n",
        "![](https://static001.geekbang.org/resource/image/94/45/949742df36600c086c31e399ce515f45.png)"
      ]
    },
    {
      "cell_type": "markdown",
      "metadata": {
        "id": "6oOu9v2MM6Zd",
        "colab_type": "text"
      },
      "source": [
        "在实际写代码时，除了 boolean 类型的数据，条件判断最好是显性的。\n"
      ]
    },
    {
      "cell_type": "markdown",
      "metadata": {
        "id": "KaOxPvJUM6cN",
        "colab_type": "text"
      },
      "source": [
        "###循环语句"
      ]
    },
    {
      "cell_type": "markdown",
      "metadata": {
        "id": "ZSKmKUYXM6fQ",
        "colab_type": "text"
      },
      "source": [
        "\n",
        "*   本质上就是遍历集合中的元素\n",
        "*   Python 中的循环一般通过 for 循环和 while循环实现\n",
        "\n",
        "\n",
        "\n"
      ]
    },
    {
      "cell_type": "code",
      "metadata": {
        "id": "ja1vSYegW-1S",
        "colab_type": "code",
        "outputId": "3adb56ed-de1e-498b-bafd-ff17ccaf9353",
        "colab": {
          "base_uri": "https://localhost:8080/",
          "height": 85
        }
      },
      "source": [
        "l = [1, 2, 3, 4]\n",
        "for item in l:\n",
        "    print(item)\n"
      ],
      "execution_count": 0,
      "outputs": [
        {
          "output_type": "stream",
          "text": [
            "1\n",
            "2\n",
            "3\n",
            "4\n"
          ],
          "name": "stdout"
        }
      ]
    },
    {
      "cell_type": "markdown",
      "metadata": {
        "id": "GW3f35g3M6h0",
        "colab_type": "text"
      },
      "source": [
        "Python 中的数据结构只要是可迭代的（iterable），比如列表、集合等等，那么都可以通过下面这种方式遍历：\n",
        "\n",
        "\n",
        "\n",
        "```\n",
        "for item in <iterable>:\n",
        "    ...\n",
        "\n",
        "```\n",
        "\n"
      ]
    },
    {
      "cell_type": "markdown",
      "metadata": {
        "id": "paKOvz7YXWQt",
        "colab_type": "text"
      },
      "source": [
        "字典本身只有键是可迭代的，如果我们要遍历它的值或者是键值对，就需要通过其内置的函数 values() 或者 items() 实现。  \n",
        "\n",
        "*   values() 返回字典的值的集合。  \n",
        "*   items() 返回键值对的集合。\n",
        "\n",
        "\n"
      ]
    },
    {
      "cell_type": "code",
      "metadata": {
        "id": "KyYXNgy2XuUL",
        "colab_type": "code",
        "outputId": "58a6c40c-34c4-46a1-8bb0-06f9f2b6a769",
        "colab": {
          "base_uri": "https://localhost:8080/",
          "height": 68
        }
      },
      "source": [
        "d = {'name': 'jason', 'dob': '2000-01-01', 'gender': 'male'}\n",
        "for k in d: # 遍历字典的键\n",
        "    print(k)\n",
        "\n"
      ],
      "execution_count": 0,
      "outputs": [
        {
          "output_type": "stream",
          "text": [
            "name\n",
            "dob\n",
            "gender\n"
          ],
          "name": "stdout"
        }
      ]
    },
    {
      "cell_type": "code",
      "metadata": {
        "id": "0MeJqdFbXxkM",
        "colab_type": "code",
        "outputId": "8b57d623-f4c5-4b0d-c5bc-dc43c2c0103f",
        "colab": {
          "base_uri": "https://localhost:8080/",
          "height": 68
        }
      },
      "source": [
        "for v in d.values(): # 遍历字典的值\n",
        "    print(v)\n"
      ],
      "execution_count": 0,
      "outputs": [
        {
          "output_type": "stream",
          "text": [
            "jason\n",
            "2000-01-01\n",
            "male\n"
          ],
          "name": "stdout"
        }
      ]
    },
    {
      "cell_type": "code",
      "metadata": {
        "id": "qbPa9T1EX7kQ",
        "colab_type": "code",
        "outputId": "70617ef4-04ff-4b30-f80d-04b78194efa6",
        "colab": {
          "base_uri": "https://localhost:8080/",
          "height": 68
        }
      },
      "source": [
        "for k, v in d.items(): \n",
        "    print('key: {}, value: {}'.format(k, v))\n"
      ],
      "execution_count": 0,
      "outputs": [
        {
          "output_type": "stream",
          "text": [
            "key: name, value: jason\n",
            "key: dob, value: 2000-01-01\n",
            "key: gender, value: male\n"
          ],
          "name": "stdout"
        }
      ]
    },
    {
      "cell_type": "markdown",
      "metadata": {
        "id": "IXWAND_BXWjL",
        "colab_type": "text"
      },
      "source": [
        "通常通过 range() 这个函数，拿到索引，再去遍历访问集合中的元素\n"
      ]
    },
    {
      "cell_type": "code",
      "metadata": {
        "id": "ZKPOeSWzYc46",
        "colab_type": "code",
        "outputId": "ac5ea1e0-ee5e-402e-8171-44aba21cd8e5",
        "colab": {
          "base_uri": "https://localhost:8080/",
          "height": 102
        }
      },
      "source": [
        "l = [1, 2, 3, 4, 5, 6, 7]\n",
        "for index in range(0, len(l)):\n",
        "    if index < 5:\n",
        "        print(l[index])        \n",
        "        "
      ],
      "execution_count": 0,
      "outputs": [
        {
          "output_type": "stream",
          "text": [
            "1\n",
            "2\n",
            "3\n",
            "4\n",
            "5\n"
          ],
          "name": "stdout"
        }
      ]
    },
    {
      "cell_type": "markdown",
      "metadata": {
        "id": "s0eAWnDdXWnc",
        "colab_type": "text"
      },
      "source": [
        "Python 内置的函数 enumerate()，遍历集合，不仅返回每个元素，并且还返回其对应的索引\n"
      ]
    },
    {
      "cell_type": "code",
      "metadata": {
        "id": "NZKNnA3JZxuI",
        "colab_type": "code",
        "outputId": "2ce47bf0-122d-418b-cb97-36205cd085c4",
        "colab": {
          "base_uri": "https://localhost:8080/",
          "height": 102
        }
      },
      "source": [
        "l = [1, 2, 3, 4, 5, 6, 7]\n",
        "for index, item in enumerate(l):\n",
        "    if index < 5:\n",
        "        print(item)  "
      ],
      "execution_count": 0,
      "outputs": [
        {
          "output_type": "stream",
          "text": [
            "1\n",
            "2\n",
            "3\n",
            "4\n",
            "5\n"
          ],
          "name": "stdout"
        }
      ]
    },
    {
      "cell_type": "markdown",
      "metadata": {
        "id": "kRfrFMsEXWPN",
        "colab_type": "text"
      },
      "source": [
        "搭配 continue 和 break \n",
        "\n",
        "*   continue，是让程序跳过当前这层循环，继续执行下面的循环\n",
        "*   break ，是指完全跳出所在的整个循环体\n",
        "\n",
        "\n"
      ]
    },
    {
      "cell_type": "markdown",
      "metadata": {
        "id": "ySur5UnraX5Z",
        "colab_type": "text"
      },
      "source": [
        "比较\n",
        "\n",
        "```\n",
        "# name_price: 产品名称 (str) 到价格 (int) 的映射字典\n",
        "# name_color: 产品名字 (str) 到颜色 (list of str) 的映射字典\n",
        "for name, price in name_price.items():\n",
        "    if price < 1000:\n",
        "        if name in name_color:\n",
        "            for color in name_color[name]:\n",
        "                if color != 'red':\n",
        "                    print('name: {}, color: {}'.format(name, color))\n",
        "        else:\n",
        "            print('name: {}, color: {}'.format(name, 'None'))\n",
        "\n",
        "```\n",
        "***\n",
        "\n",
        "\n",
        "```\n",
        "# name_price: 产品名称 (str) 到价格 (int) 的映射字典\n",
        "# name_color: 产品名字 (str) 到颜色 (list of str) 的映射字典\n",
        "for name, price in name_price.items():\n",
        "    if price >= 1000:\n",
        "        continue\n",
        "    if name not in name_color:\n",
        "        print('name: {}, color: {}'.format(name, 'None'))\n",
        "        continue\n",
        "    for color in name_color[name]:\n",
        "        if color == 'red':\n",
        "            continue\n",
        "        print('name: {}, color: {}'.format(name, color))\n",
        "\n",
        "```\n",
        "\n",
        "\n",
        "尽量避免多层嵌套\n"
      ]
    },
    {
      "cell_type": "markdown",
      "metadata": {
        "id": "V6DYC7YHcXpU",
        "colab_type": "text"
      },
      "source": [
        "for 循环和 while 循环可以互相转换\n",
        "\n",
        "\n",
        "```\n",
        "l = [1, 2, 3, 4]\n",
        "index = 0\n",
        "while index < len(l):\n",
        "    print(l[index])\n",
        "    index += 1\n",
        "\n",
        "```\n",
        "\n"
      ]
    },
    {
      "cell_type": "markdown",
      "metadata": {
        "id": "atbdx1cYmxg8",
        "colab_type": "text"
      },
      "source": [
        "两者的使用场景区别\n",
        "\n",
        "\n",
        "*   for循环 ：遍历一个已知的集合，找出满足条件的元素，并进行相应的操作\n",
        "\n",
        "*   while循环：需要在满足某个条件前，不停地重复某些操作，并且没有特定的集合需要去遍历\n",
        "\n"
      ]
    },
    {
      "cell_type": "markdown",
      "metadata": {
        "id": "pVUtQEufnROs",
        "colab_type": "text"
      },
      "source": [
        "某个交互式问答系统，用户输入文字，系统会根据内容做出相应的回答\n",
        "\n",
        "\n",
        "```\n",
        "while True:\n",
        "    try:\n",
        "        text = input('Please enter your questions, enter \"q\" to exit')\n",
        "        if text == 'q':\n",
        "            print('Exit system')\n",
        "            break\n",
        "        ...\n",
        "        ...\n",
        "        print(response)\n",
        "    except as err:\n",
        "        print('Encountered error: {}'.format(err))\n",
        "        break \n",
        "\n",
        "```\n",
        "\n"
      ]
    },
    {
      "cell_type": "markdown",
      "metadata": {
        "id": "pjAcXlnOntLb",
        "colab_type": "text"
      },
      "source": [
        "for 循环和 while 循环的效率问题\n",
        "\n",
        "\n",
        "```\n",
        "i = 0\n",
        "while i < 1000000\n",
        "    i += 1\n",
        "\n",
        "```\n",
        "***\n",
        "\n",
        "for i in range(0, 1000000):\n",
        "    pass\n",
        "\n",
        "```\n",
        "for循环效率更高\n",
        "\n"
      ]
    },
    {
      "cell_type": "markdown",
      "metadata": {
        "id": "N9TwZal_o5ua",
        "colab_type": "text"
      },
      "source": [
        "### 条件与循环的复用"
      ]
    },
    {
      "cell_type": "markdown",
      "metadata": {
        "id": "yekuBEb9pDDv",
        "colab_type": "text"
      },
      "source": [
        "将条件与循环并做一行\n",
        "\n",
        "\n",
        "\n",
        "```\n",
        "expression1 if condition else expression2 for item in iterable\n",
        "\n",
        "```\n",
        "\n"
      ]
    },
    {
      "cell_type": "markdown",
      "metadata": {
        "id": "YnNbtH2npDP_",
        "colab_type": "text"
      },
      "source": [
        "拆分开来\n",
        "\n",
        "```\n",
        "for item in iterable:\n",
        "    if condition:\n",
        "        expression1\n",
        "    else:\n",
        "        expression2\n",
        "\n",
        "```\n",
        "没有else语句的表达方式：  \n",
        "\n",
        "\n",
        "```\n",
        "expression for item in iterable if condition\n",
        "\n",
        "```\n",
        "\n",
        "\n"
      ]
    },
    {
      "cell_type": "markdown",
      "metadata": {
        "id": "YGr3o18dp3GK",
        "colab_type": "text"
      },
      "source": [
        "绘制 y = 2*|x| + 5 的函数图像，给定集合 x的数据点，需要计算出 y 的数据集合\n",
        "\n",
        "\n",
        "```\n",
        "y = [value * 2 + 5 if value > 0 else -value * 2 + 5 for value in x]\n",
        "\n",
        "```\n",
        "\n"
      ]
    },
    {
      "cell_type": "markdown",
      "metadata": {
        "id": "-AV_TX90w9Oo",
        "colab_type": "text"
      },
      "source": [
        "###总结"
      ]
    },
    {
      "cell_type": "markdown",
      "metadata": {
        "id": "EgkdQ9pvxdB5",
        "colab_type": "text"
      },
      "source": [
        "\n",
        "\n",
        "\n",
        "*   在条件语句中，if 可以单独使用，但是 elif 和 else 必须和 if 同时搭配使用；而 If 条件语句的判断，除了 boolean 类型外，其他的最好显示出来。\n",
        "\n",
        "*   在 for 循环中，如果需要同时访问索引和元素，你可以使用enumerate() 函数来简化代码。\n",
        "\n",
        "\n",
        "*   写条件与循环时，合理利用 continue 或者 break来避免复杂的嵌套\n",
        "\n",
        "\n",
        "*   注意条件与循环的复用，简单功能往往可以用一行直接完成\n",
        "\n",
        "\n",
        "\n"
      ]
    },
    {
      "cell_type": "code",
      "metadata": {
        "id": "IGIIcVVOyqCM",
        "colab_type": "code",
        "outputId": "e6bea457-c0fa-4877-cd86-8f232b1bf56d",
        "colab": {
          "base_uri": "https://localhost:8080/",
          "height": 68
        }
      },
      "source": [
        "attributes = ['name', 'dob', 'gender']\n",
        "values = [['jason', '2000-01-01', 'male'], \n",
        "['mike', '1999-01-01', 'male'],\n",
        "['nancy', '2001-02-01', 'female']\n",
        "]\n",
        "[dict(zip(attributes,v)) for v in values]"
      ],
      "execution_count": 0,
      "outputs": [
        {
          "output_type": "execute_result",
          "data": {
            "text/plain": [
              "[{'dob': '2000-01-01', 'gender': 'male', 'name': 'jason'},\n",
              " {'dob': '1999-01-01', 'gender': 'male', 'name': 'mike'},\n",
              " {'dob': '2001-02-01', 'gender': 'female', 'name': 'nancy'}]"
            ]
          },
          "metadata": {
            "tags": []
          },
          "execution_count": 7
        }
      ]
    },
    {
      "cell_type": "code",
      "metadata": {
        "id": "Ln81PT50zJUM",
        "colab_type": "code",
        "outputId": "08901aaa-a686-4f55-f829-a082437e311a",
        "colab": {
          "base_uri": "https://localhost:8080/",
          "height": 68
        }
      },
      "source": [
        "attributes = ['name', 'dob', 'gender']\n",
        "values = [['jason', '2000-01-01', 'male'], \n",
        "['mike', '1999-01-01', 'male'],\n",
        "['nancy', '2001-02-01', 'female']\n",
        "]\n",
        "l = []\n",
        "for value in values:\n",
        "    d = {}\n",
        "    for i in range(len(attributes)):\n",
        "        d[attributes[i]] = value[i]\n",
        "    l.append(d)\n",
        "l"
      ],
      "execution_count": 0,
      "outputs": [
        {
          "output_type": "execute_result",
          "data": {
            "text/plain": [
              "[{'dob': '2000-01-01', 'gender': 'male', 'name': 'jason'},\n",
              " {'dob': '1999-01-01', 'gender': 'male', 'name': 'mike'},\n",
              " {'dob': '2001-02-01', 'gender': 'female', 'name': 'nancy'}]"
            ]
          },
          "metadata": {
            "tags": []
          },
          "execution_count": 9
        }
      ]
    },
    {
      "cell_type": "markdown",
      "metadata": {
        "id": "um7EH_6f0vVk",
        "colab_type": "text"
      },
      "source": [
        "***\n",
        "***"
      ]
    },
    {
      "cell_type": "markdown",
      "metadata": {
        "id": "LGzdnuCP0w5p",
        "colab_type": "text"
      },
      "source": [
        "#异常处理"
      ]
    },
    {
      "cell_type": "markdown",
      "metadata": {
        "id": "h2RZsQDY1JVk",
        "colab_type": "text"
      },
      "source": [
        "###错误与异常\n"
      ]
    },
    {
      "cell_type": "markdown",
      "metadata": {
        "id": "V_Y9tY5X1SSf",
        "colab_type": "text"
      },
      "source": [
        "程序中的错误至少包括两种\n",
        "1.   语法错误：写的代码不符合编程规范，无法被识别与执行\n",
        "\n",
        "\n",
        "```\n",
        "if name is not None\n",
        "    print(name)\n",
        "\n",
        "```\n",
        "\n",
        "\n",
        "2.   异常：程序的语法正确，也可以被执行，但在执行过程中遇到了错误，抛出异常\n",
        "\n",
        "\n",
        "```\n",
        "10 / 0\n",
        "ZeroDivisionError\n",
        "\n",
        "\n",
        "order * 2\n",
        "NameError\n",
        "\n",
        "\n",
        "1 + [1, 2]\n",
        "TypeError\n",
        "\n",
        "```\n",
        "\n",
        "\n",
        "\n"
      ]
    },
    {
      "cell_type": "markdown",
      "metadata": {
        "id": "WH-mIRTv1SVe",
        "colab_type": "text"
      },
      "source": [
        "\n",
        "\n",
        "*   KeyError: 字典中的键找不到\n",
        "\n",
        "\n",
        "*   FileNotFoundError: 发送了读取文件的请求，但相应的文件不存在\n",
        "\n",
        "\n",
        "[参考资料](https://docs.python.org/3/library/exceptions.html#bltin-exceptions)\n",
        "\n"
      ]
    },
    {
      "cell_type": "markdown",
      "metadata": {
        "id": "PnS0Phr31Sya",
        "colab_type": "text"
      },
      "source": [
        "###如何处理异常\n"
      ]
    },
    {
      "cell_type": "markdown",
      "metadata": {
        "id": "gWQPDWZY8UN4",
        "colab_type": "text"
      },
      "source": [
        "通常使用 try 和 except \n",
        "\n",
        "\n",
        "```\n",
        "try:\n",
        "    s = input('please enter two numbers separated by comma: ')\n",
        "    num1 = int(s.split(',')[0].strip())\n",
        "    num2 = int(s.split(',')[1].strip())\n",
        "    ... \n",
        "except ValueError as err:\n",
        "    print('Value Error: {}'.format(err))\n",
        "\n",
        "print('continue')\n",
        "...\n",
        "\n",
        "```\n",
        "\n",
        "\n"
      ]
    },
    {
      "cell_type": "markdown",
      "metadata": {
        "id": "lvKC3xOeB6Gx",
        "colab_type": "text"
      },
      "source": [
        "在 except block 中加入多种异常的类型\n",
        "\n",
        "\n",
        "\n",
        "```\n",
        "try:\n",
        "    s = input('please enter two numbers separated by comma: ')\n",
        "    num1 = int(s.split(',')[0].strip())\n",
        "    num2 = int(s.split(',')[1].strip())\n",
        "    ...\n",
        "except (ValueError, IndexError) as err:\n",
        "    print('Error: {}'.format(err))\n",
        "    \n",
        "print('continue')\n",
        "...\n",
        "\n",
        "```\n",
        "***\n",
        "\n",
        "\n",
        "```\n",
        "try:\n",
        "    s = input('please enter two numbers separated by comma: ')\n",
        "    num1 = int(s.split(',')[0].strip())\n",
        "    num2 = int(s.split(',')[1].strip())\n",
        "    ...\n",
        "except (ValueError, IndexError) as err:\n",
        "    print('Error: {}'.format(err))\n",
        "    \n",
        "print('continue')\n",
        "...\n",
        "\n",
        "```\n",
        "在最后一个 except block，声明其处理的异常类型是Exception\n",
        "\n",
        "\n",
        "\n",
        "```\n",
        "try:\n",
        "    s = input('please enter two numbers separated by comma: ')\n",
        "    num1 = int(s.split(',')[0].strip())\n",
        "    num2 = int(s.split(',')[1].strip())\n",
        "    ...\n",
        "except ValueError as err:\n",
        "    print('Value Error: {}'.format(err))\n",
        "except IndexError as err:\n",
        "    print('Index Error: {}'.format(err))\n",
        "except Exception as err:\n",
        "    print('Other error: {}'.format(err))\n",
        "\n",
        "print('continue')\n",
        "...\n",
        "\n",
        "```\n",
        "在 except 后面省略异常类型，这表示与任意异常相匹配（包括系统异常等）：\n",
        "\n",
        "\n",
        "```\n",
        "try:\n",
        "    s = input('please enter two numbers separated by comma: ')\n",
        "    num1 = int(s.split(',')[0].strip())\n",
        "    num2 = int(s.split(',')[1].strip())\n",
        "    ...\n",
        "except ValueError as err:\n",
        "    print('Value Error: {}'.format(err))\n",
        "except IndexError as err:\n",
        "    print('Index Error: {}'.format(err))\n",
        "except:\n",
        "    print('Other error')\n",
        "\n",
        "print('continue')\n",
        "...\n",
        "\n",
        "```\n",
        "如果多个 except 声明的异常类型都与实际相匹配，那么只有最前面的 except block 会被执行，其他则被忽略"
      ]
    },
    {
      "cell_type": "markdown",
      "metadata": {
        "id": "Ha8PYf-kGAXD",
        "colab_type": "text"
      },
      "source": [
        "*  常见的用法： finally， try，except\n",
        "\n",
        "*  无论发生什么情况，finally block 中的语句都会被执行\n",
        "\n",
        "\n",
        "```\n",
        "import sys\n",
        "try:\n",
        "    f = open('file.txt', 'r')\n",
        "    .... # some data processing\n",
        "except OSError as err:\n",
        "    print('OS error: {}'.format(err))\n",
        "except:\n",
        "    print('Unexpected error:', sys.exc_info()[0])\n",
        "finally:\n",
        "    f.close()\n",
        "\n",
        "```\n",
        "在 finally 中，我们通常会放一些无论如何都要执行的语句\n",
        "\n"
      ]
    },
    {
      "cell_type": "markdown",
      "metadata": {
        "id": "tUzVnqODG9ZO",
        "colab_type": "text"
      },
      "source": [
        "###用户自定义异常\n"
      ]
    },
    {
      "cell_type": "markdown",
      "metadata": {
        "id": "_kHqMFd_HZtF",
        "colab_type": "text"
      },
      "source": [
        "创建了自定义的异常类型 MyInputErro，定义并实现了初始化函数和 str 函数（直接 print 时调用）：\n",
        "\n",
        "\n",
        "```\n",
        "class MyInputError(Exception):\n",
        "    \"\"\"Exception raised when there're errors in input\"\"\"\n",
        "    def __init__(self, value): # 自定义异常类型的初始化\n",
        "        self.value = value\n",
        "    def __str__(self): # 自定义异常类型的 string 表达形式\n",
        "        return (\"{} is invalid input\".format(repr(self.value)))\n",
        "    \n",
        "try:\n",
        "    raise MyInputError(1) # 抛出 MyInputError 这个异常\n",
        "except MyInputError as err:\n",
        "    print('error: {}'.format(err))\n",
        "\n",
        "```\n",
        "\n",
        "***\n",
        "让异常更加详细、可读，想增加一些异常类型的其他功能\n",
        "\n"
      ]
    },
    {
      "cell_type": "markdown",
      "metadata": {
        "id": "fTrIuLQAH5tR",
        "colab_type": "text"
      },
      "source": [
        "###异常的使用场景与注意点\n",
        "\n"
      ]
    },
    {
      "cell_type": "markdown",
      "metadata": {
        "id": "FK4IYjRzH7Pt",
        "colab_type": "text"
      },
      "source": [
        "在程序中，如果不确定某段代码能否成功执行，这个地方就需要使用异常处理\n"
      ]
    },
    {
      "cell_type": "markdown",
      "metadata": {
        "id": "_IGpr-DyIwgH",
        "colab_type": "text"
      },
      "source": [
        "*   大型社交网站的后台，需要针对用户发送的请求返回相应记录。用户记录往往储存在 key-value 结构的数据库中，每次有请求过来后，我们拿到用户的 ID，并用 ID 查询数据库中此人的记录，就能返回相应的结果。\n",
        "\n",
        "*   数据库返回的原始数据，往往是 json string 的形式，这就需要我们首先对 json string 进行 decode\n",
        "\n",
        "\n",
        "```\n",
        "import json\n",
        "raw_data = queryDB(uid) # 根据用户的 id，返回相应的信息\n",
        "data = json.loads(raw_data)\n",
        "\n",
        "```\n",
        "加上异常处理\n",
        "\n",
        "\n",
        "\n",
        "```\n",
        "try:\n",
        "    data = json.loads(raw_data)\n",
        "    ....\n",
        "except JSONDecodeError as err:\n",
        "    print('JSONDecodeError: {}'.format(err))\n",
        "\n",
        "```\n",
        "\n"
      ]
    },
    {
      "cell_type": "markdown",
      "metadata": {
        "id": "iTQOqWicRaTK",
        "colab_type": "text"
      },
      "source": [
        "对于 flow-control（流程控制）的代码逻辑，一般不用异常处理。字典这个例子，写成下面这样就很好。\n",
        "\n",
        "\n",
        "```\n",
        "if 'dob' in d:\n",
        "    value = d['dob']\n",
        "    ...\n",
        "\n",
        "```\n",
        "\n"
      ]
    },
    {
      "cell_type": "markdown",
      "metadata": {
        "id": "bPKRZmXhSCG1",
        "colab_type": "text"
      },
      "source": [
        "###总结"
      ]
    },
    {
      "cell_type": "markdown",
      "metadata": {
        "id": "YlX-nnGpSCFH",
        "colab_type": "text"
      },
      "source": [
        "\n",
        "\n",
        "*   异常，通常是指程序运行的过程中遇到了错误，终止并退出。我们通常使用 try except 语句去处理异常，这样程序就不会被终止，仍能继续执行。\n",
        "\n",
        "*   处理异常时，如果有必须执行的语句，比如文件打开后必须关闭等等，则可以放在 finally block 中。\n",
        "\n",
        "\n",
        "*   异常处理，通常用在你不确定某段代码能否成功执行，也无法轻易判断的情况下，比如数据库的连接、读取等等。正常的 flow-control 逻辑，不要使用异常处理，直接用条件语句解决就可以了。\n",
        "***\n",
        "***"
      ]
    },
    {
      "cell_type": "markdown",
      "metadata": {
        "id": "qRB6Ple8M9HP",
        "colab_type": "text"
      },
      "source": [
        "#自定义函数\n"
      ]
    },
    {
      "cell_type": "markdown",
      "metadata": {
        "id": "zPd_WRqhNG7s",
        "colab_type": "text"
      },
      "source": [
        "### 函数基础"
      ]
    },
    {
      "cell_type": "markdown",
      "metadata": {
        "id": "PKDIeoiXNG_S",
        "colab_type": "text"
      },
      "source": [
        "\n",
        "\n",
        "```\n",
        "def my_func(message):\n",
        "    print('Got a message: {}'.format(message))\n",
        "\n",
        "# 调用函数 my_func()\n",
        "my_func('Hello World')\n",
        "# 输出\n",
        "Got a message: Hello World\n",
        "\n",
        "```\n",
        "\n",
        "\n",
        "*   def 是函数的声明；\n",
        "\n",
        "*   my_func 是函数的名称；\n",
        "\n",
        "*   括号里面的 message 则是函数的参数；\n",
        "\n",
        "*   print 那行则是函数的主体部分，可以执行相应的语句；\n",
        "\n",
        "\n",
        "\n",
        "```\n",
        "def name(param1, param2, ..., paramN):\n",
        "    statements\n",
        "    return/yield value # optional\n",
        "\n",
        "```\n",
        "\n",
        "def 是可执行语句，这意味着函数直到被调用前，都是不存在的。当程序调用函数时，def 语句才会创建一个新的函数对象，并赋予其名字。\n",
        "\n",
        "\n",
        "```\n",
        "def my_sum(a, b):\n",
        "    return a + b\n",
        "\n",
        "result = my_sum(3, 5)\n",
        "print(result)\n",
        "\n",
        "# 输出\n",
        "8\n",
        "\n",
        "```\n",
        "***\n",
        "\n",
        "\n",
        "```\n",
        "def find_largest_element(l):\n",
        "    if not isinstance(l, list):\n",
        "        print('input is not type of list')\n",
        "        return\n",
        "    if len(l) == 0:\n",
        "        print('empty input')\n",
        "        return\n",
        "    largest_element = l[0]\n",
        "    for item in l:\n",
        "        if item > largest_element:\n",
        "            largest_element = item\n",
        "    print('largest element is: {}'.format(largest_element)) \n",
        "      \n",
        "find_largest_element([8, 1,-3, 2, 0])\n",
        "\n",
        "# 输出\n",
        "largest element is: 8\n",
        "\n",
        "```\n",
        "\n",
        "\n",
        "def 是可执行语句。函数的声明和调用哪个在前、哪个在后都无所谓。只不过很多时候，我们更习惯声明定义在前、调用在后。"
      ]
    },
    {
      "cell_type": "markdown",
      "metadata": {
        "id": "0WMrDyACjYXM",
        "colab_type": "text"
      },
      "source": [
        "Python 函数的参数可以设定默认值\n",
        "\n",
        "\n",
        "\n",
        "```\n",
        "def func(param = 0):\n",
        "    ...\n",
        "\n",
        "```\n",
        "在调用函数 func() 时，如果参数 param 没有传入，则参数默认为 0；而如果传入了参数 param，其就会覆盖默认值。\n",
        "\n"
      ]
    },
    {
      "cell_type": "markdown",
      "metadata": {
        "id": "nwKSpb5GNHCO",
        "colab_type": "text"
      },
      "source": [
        "Python 和其他语言相比的一大特点是，Python 是dynamically typed 的，可以接受任何数据类型（整型，浮点，字符串等等）\n",
        "\n",
        "\n",
        "```\n",
        "print(my_sum([1, 2], [3, 4]))\n",
        "\n",
        "# 输出\n",
        "[1, 2, 3, 4]\n",
        "\n",
        "```\n",
        "***\n",
        "\n",
        "\n",
        "```\n",
        "print(my_sum('hello ', 'world'))\n",
        "\n",
        "# 输出\n",
        "hello world\n",
        "\n",
        "```\n",
        "如果两个参数的数据类型不同，比如一个是列表、一个是字符串，两者无法相加，那就会报错：\n",
        "\n",
        "\n",
        "```\n",
        "print(my_sum([1, 2], 'hello'))\n",
        "TypeError: can only concatenate list (not \"str\") to list\n",
        "\n",
        "```\n",
        "\n",
        "**在实际使用中也会带来诸多问题。因此，必要时在开头加上数据的类型检查。**\n"
      ]
    },
    {
      "cell_type": "markdown",
      "metadata": {
        "id": "9XcaorokNHE9",
        "colab_type": "text"
      },
      "source": [
        "Python 支持函数的嵌套\n",
        "\n",
        "\n",
        "```\n",
        "def f1():\n",
        "    print('hello')\n",
        "    def f2():\n",
        "        print('world')\n",
        "    f2()\n",
        "f1()\n",
        "\n",
        "# 输出\n",
        "hello\n",
        "world\n",
        "\n",
        "```\n",
        "函数的嵌套，主要有下面两个方面的作用\n",
        "\n",
        "\n",
        "\n",
        "1.  函数的嵌套能够保证内部函数的隐私。内部函数只能被外部函数所调用和访问，不会暴露在全局作用域，因此，如果你的函数内部有一些隐私数据（比如数据库的用户、密码等），不想暴露在外，那你就可以使用函数的的嵌套，将其封装在内部函数中，只通过外部函来访问\n",
        "\n",
        "\n",
        "\n",
        "```\n",
        "def connect_DB():\n",
        "    def get_DB_configuration():\n",
        "        ...\n",
        "        return host, username, password\n",
        "    conn = connector.connect(get_DB_configuration())\n",
        "    return conn\n",
        "\n",
        "```\n",
        "\n",
        "\n",
        "2.  合理的使用函数嵌套，能够提高程序的运行效率\n",
        "\n",
        "\n",
        "\n",
        "```\n",
        "def factorial(input):\n",
        "    # validation check\n",
        "    if not isinstance(input, int):\n",
        "        raise Exception('input must be an integer.')\n",
        "    if input < 0:\n",
        "        raise Exception('input must be greater or equal to 0' )\n",
        "    ...\n",
        "\n",
        "    def inner_factorial(input):\n",
        "        if input <= 1:\n",
        "            return 1\n",
        "        return input * inner_factorial(input-1)\n",
        "    return inner_factorial(input)\n",
        "\n",
        "\n",
        "print(factorial(5))\n",
        "\n",
        "```\n",
        "\n",
        "\n",
        " **validation check**  \n",
        " \n",
        "  \n",
        "\n",
        "```\n",
        "  if not isinstance(input, int):\n",
        "        raise Exception('input must be an integer.')\n",
        "    if input < 0:\n",
        "        raise Exception('input must be greater or equal to 0' )\n",
        "    ...\n",
        "```\n",
        "对输入变量只进行一次检查\n",
        "\n",
        "\n"
      ]
    },
    {
      "cell_type": "markdown",
      "metadata": {
        "id": "RdDwEfglNHHT",
        "colab_type": "text"
      },
      "source": [
        "### 函数变量作用域\n"
      ]
    },
    {
      "cell_type": "markdown",
      "metadata": {
        "id": "sxtMqFBwNHJw",
        "colab_type": "text"
      },
      "source": [
        "对于嵌套函数来说，内部函数可以访问外部函数定义的变量，但是无法修改，若要修改，必须加上 nonlocal 这个关键字\n",
        "\n",
        "\n",
        "\n",
        "```\n",
        "def outer():\n",
        "    x = \"local\"\n",
        "    def inner():\n",
        "        nonlocal x # nonlocal 关键字表示这里的 x 就是外部函数 outer 定义的变量 x\n",
        "        x = 'nonlocal'\n",
        "        print(\"inner:\", x)\n",
        "    inner()\n",
        "    print(\"outer:\", x)\n",
        "outer()\n",
        "# 输出\n",
        "inner: nonlocal\n",
        "outer: nonlocal\n",
        "\n",
        "```\n",
        "*  如果遇到函数内部局部变量和全局变量同名的情况，那么在函数内部，局部变量会覆盖全局变量\n",
        "\n",
        "*  如果不加上 nonlocal 这个关键字，而内部函数的变量又和外部函数变量同名，那么同样的，内部函数变量会覆盖外部函数的变量。\n"
      ]
    },
    {
      "cell_type": "markdown",
      "metadata": {
        "id": "tCe6OXRKNHMo",
        "colab_type": "text"
      },
      "source": [
        "### 闭包 closure"
      ]
    },
    {
      "cell_type": "markdown",
      "metadata": {
        "id": "3GDG4Nazw-jl",
        "colab_type": "text"
      },
      "source": [
        "用闭包计算一个数的 n 次幂\n",
        "\n",
        "\n",
        "\n",
        "```\n",
        "def nth_power(exponent):\n",
        "    def exponent_of(base):\n",
        "        return base ** exponent\n",
        "    return exponent_of # 返回值是 exponent_of 函数\n",
        "\n",
        "square = nth_power(2) # 计算一个数的平方\n",
        "cube = nth_power(3) # 计算一个数的立方 \n",
        "square\n",
        "# 输出\n",
        "<function __main__.nth_power.<locals>.exponent(base)>\n",
        "\n",
        "cube\n",
        "# 输出\n",
        "<function __main__.nth_power.<locals>.exponent(base)>\n",
        "\n",
        "print(square(2))  # 计算 2 的平方\n",
        "print(cube(2)) # 计算 2 的立方\n",
        "# 输出\n",
        "4 # 2^2\n",
        "8 # 2^3\n",
        "\n",
        "```\n",
        "闭包常常和装饰器（decorator）一起使用\n"
      ]
    },
    {
      "cell_type": "markdown",
      "metadata": {
        "id": "CuGthAyJw-mF",
        "colab_type": "text"
      },
      "source": [
        "### 总结"
      ]
    },
    {
      "cell_type": "markdown",
      "metadata": {
        "id": "dqRixOQcx63_",
        "colab_type": "text"
      },
      "source": [
        "\n",
        "\n",
        "1.   Python 中函数的参数可以接受任意的数据类型，使用起来需要注意，必要时请在函数开头加入数据类型的检查\n",
        "\n",
        "2.   和其他语言不同，Python 中函数的参数可以设定默认值\n",
        "\n",
        "3.   嵌套函数的使用，能保证数据的隐私性，提高程序运行效率\n",
        "\n",
        "4.   合理地使用闭包，则可以简化程序的复杂度，提高可读性。\n",
        "\n"
      ]
    },
    {
      "cell_type": "markdown",
      "metadata": {
        "id": "JEkWzMYPw-o0",
        "colab_type": "text"
      },
      "source": [
        "*** \n",
        "***"
      ]
    }
  ]
}