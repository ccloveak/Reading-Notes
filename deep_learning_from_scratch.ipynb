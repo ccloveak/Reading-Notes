{
  "nbformat": 4,
  "nbformat_minor": 0,
  "metadata": {
    "colab": {
      "name": "deep learning from scratch.ipynb",
      "version": "0.3.2",
      "provenance": [],
      "collapsed_sections": [
        "ESG6XkqNOp8H",
        "CCq2egm9O2rH",
        "iRKBSRnKPdcp",
        "Scr13FVbSqvJ"
      ],
      "include_colab_link": true
    },
    "kernelspec": {
      "name": "python3",
      "display_name": "Python 3"
    }
  },
  "cells": [
    {
      "cell_type": "markdown",
      "metadata": {
        "id": "view-in-github",
        "colab_type": "text"
      },
      "source": [
        "<a href=\"https://colab.research.google.com/github/ccloveak/Study_Notes/blob/master/deep_learning_from_scratch.ipynb\" target=\"_parent\"><img src=\"https://colab.research.google.com/assets/colab-badge.svg\" alt=\"Open In Colab\"/></a>"
      ]
    },
    {
      "cell_type": "markdown",
      "metadata": {
        "id": "ESG6XkqNOp8H",
        "colab_type": "text"
      },
      "source": [
        "#第1章 Python 入门"
      ]
    },
    {
      "cell_type": "markdown",
      "metadata": {
        "id": "CCq2egm9O2rH",
        "colab_type": "text"
      },
      "source": [
        "##Python 是什么"
      ]
    },
    {
      "cell_type": "markdown",
      "metadata": {
        "id": "r8S61YH1O5W_",
        "colab_type": "text"
      },
      "source": [
        "Python 是一个简单、易读、易记的编程语言。  \n",
        "Python 是最适合数据科学领域的编程语言。"
      ]
    },
    {
      "cell_type": "markdown",
      "metadata": {
        "id": "iRKBSRnKPdcp",
        "colab_type": "text"
      },
      "source": [
        "##NumPy"
      ]
    },
    {
      "cell_type": "markdown",
      "metadata": {
        "id": "ktK3HvU8R5KF",
        "colab_type": "text"
      },
      "source": [
        "在深度学习的实现中，经常出现数组和矩阵的计算。NumPy 的数组类（numpy.array）中提供了很多便捷的方法。"
      ]
    },
    {
      "cell_type": "code",
      "metadata": {
        "id": "6PTpFuk7RALr",
        "colab_type": "code",
        "colab": {}
      },
      "source": [
        "import numpy as np"
      ],
      "execution_count": 0,
      "outputs": []
    },
    {
      "cell_type": "code",
      "metadata": {
        "id": "WN3BrLeTRr1J",
        "colab_type": "code",
        "colab": {}
      },
      "source": [
        "x = np.array([1.0, 2.0, 3.0])\n",
        "print(x)"
      ],
      "execution_count": 0,
      "outputs": []
    },
    {
      "cell_type": "code",
      "metadata": {
        "id": "kPyN0045Rx_M",
        "colab_type": "code",
        "colab": {}
      },
      "source": [
        "type(x)"
      ],
      "execution_count": 0,
      "outputs": []
    },
    {
      "cell_type": "markdown",
      "metadata": {
        "id": "_c6Bpl_PSRnF",
        "colab_type": "text"
      },
      "source": [
        "###NumPy 的 N 维数组"
      ]
    },
    {
      "cell_type": "code",
      "metadata": {
        "id": "e86vEQlOSXqa",
        "colab_type": "code",
        "colab": {}
      },
      "source": [
        "A = np.array([[1, 2], [3, 4]])\n",
        "print(A)"
      ],
      "execution_count": 0,
      "outputs": []
    },
    {
      "cell_type": "code",
      "metadata": {
        "id": "gYmtP6jYScGG",
        "colab_type": "code",
        "colab": {}
      },
      "source": [
        "A.shape"
      ],
      "execution_count": 0,
      "outputs": []
    },
    {
      "cell_type": "code",
      "metadata": {
        "id": "19dwCRLHSf7j",
        "colab_type": "code",
        "colab": {}
      },
      "source": [
        "A.dtype"
      ],
      "execution_count": 0,
      "outputs": []
    },
    {
      "cell_type": "markdown",
      "metadata": {
        "id": "Scr13FVbSqvJ",
        "colab_type": "text"
      },
      "source": [
        "##Matplotlib"
      ]
    },
    {
      "cell_type": "markdown",
      "metadata": {
        "id": "QoguWKosSyYD",
        "colab_type": "text"
      },
      "source": [
        "在深度学习的实验中，图形的绘制和数据的可视化非常重要。Matplotlib 是用于绘制图形的库，使用 Matplotlib 可以轻松地绘制图形和实现数据的可视化。"
      ]
    },
    {
      "cell_type": "markdown",
      "metadata": {
        "id": "QaATEe-oS54d",
        "colab_type": "text"
      },
      "source": [
        "###绘制简单图形"
      ]
    },
    {
      "cell_type": "code",
      "metadata": {
        "id": "d_OOJXM-TAUW",
        "colab_type": "code",
        "colab": {}
      },
      "source": [
        "import numpy as np\n",
        "import matplotlib.pyplot as plt\n",
        "\n",
        "# 生成数据\n",
        "x = np.arange(0, 6, 0.1) # 以0.1为单位，生成0到6的数据\n",
        "y = np.sin(x)\n",
        "\n",
        "# 绘制图形\n",
        "plt.plot(x, y)\n",
        "plt.show()"
      ],
      "execution_count": 0,
      "outputs": []
    },
    {
      "cell_type": "markdown",
      "metadata": {
        "id": "5jbS_WBFTTfe",
        "colab_type": "text"
      },
      "source": [
        "###pyplot 的功能"
      ]
    },
    {
      "cell_type": "code",
      "metadata": {
        "id": "4RUghHETTZnR",
        "colab_type": "code",
        "colab": {}
      },
      "source": [
        "import numpy as np\n",
        "import matplotlib.pyplot as plt\n",
        "\n",
        "# 生成数据\n",
        "x = np.arange(0, 6, 0.1) # 以0.1为单位，生成0到6的数据\n",
        "y1 = np.sin(x)\n",
        "y2 = np.cos(x)\n",
        "\n",
        "# 绘制图形\n",
        "plt.plot(x, y1, label=\"sin\")\n",
        "plt.plot(x, y2, linestyle = \"--\", label=\"cos\") # 用虚线绘制\n",
        "plt.xlabel(\"x\") # x轴标签\n",
        "plt.ylabel(\"y\") # y轴标签\n",
        "plt.title('sin & cos') # 标题\n",
        "plt.legend()\n",
        "plt.show()"
      ],
      "execution_count": 0,
      "outputs": []
    },
    {
      "cell_type": "markdown",
      "metadata": {
        "id": "q9E1x2bETd2g",
        "colab_type": "text"
      },
      "source": [
        "###显示图像"
      ]
    },
    {
      "cell_type": "code",
      "metadata": {
        "id": "LM96M921Tgo9",
        "colab_type": "code",
        "colab": {}
      },
      "source": [
        "import matplotlib.pyplot as plt\n",
        "from matplotlib.image import imread\n",
        "img = imread('https://github.com/oreilly-japan/deep-learning-from-scratch/blob/master/dataset/lena.png?raw=true') # 读入图像（设定合适的路径！）\n",
        "plt.imshow(img)\n",
        "\n",
        "plt.show()"
      ],
      "execution_count": 0,
      "outputs": []
    }
  ]
}