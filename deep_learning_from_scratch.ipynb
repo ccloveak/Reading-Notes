{
  "nbformat": 4,
  "nbformat_minor": 0,
  "metadata": {
    "colab": {
      "name": "deep learning from scratch.ipynb",
      "version": "0.3.2",
      "provenance": [],
      "collapsed_sections": [
        "ESG6XkqNOp8H",
        "CCq2egm9O2rH",
        "iRKBSRnKPdcp",
        "Scr13FVbSqvJ"
      ],
      "include_colab_link": true
    },
    "kernelspec": {
      "name": "python3",
      "display_name": "Python 3"
    }
  },
  "cells": [
    {
      "cell_type": "markdown",
      "metadata": {
        "id": "view-in-github",
        "colab_type": "text"
      },
      "source": [
        "<a href=\"https://colab.research.google.com/github/ccloveak/Study_Notes/blob/master/deep_learning_from_scratch.ipynb\" target=\"_parent\"><img src=\"https://colab.research.google.com/assets/colab-badge.svg\" alt=\"Open In Colab\"/></a>"
      ]
    },
    {
      "cell_type": "markdown",
      "metadata": {
        "id": "ESG6XkqNOp8H",
        "colab_type": "text"
      },
      "source": [
        "#第1章 Python 入门"
      ]
    },
    {
      "cell_type": "markdown",
      "metadata": {
        "id": "CCq2egm9O2rH",
        "colab_type": "text"
      },
      "source": [
        "##Python 是什么"
      ]
    },
    {
      "cell_type": "markdown",
      "metadata": {
        "id": "r8S61YH1O5W_",
        "colab_type": "text"
      },
      "source": [
        "Python 是一个简单、易读、易记的编程语言。  \n",
        "Python 是最适合数据科学领域的编程语言。"
      ]
    },
    {
      "cell_type": "markdown",
      "metadata": {
        "id": "iRKBSRnKPdcp",
        "colab_type": "text"
      },
      "source": [
        "##NumPy"
      ]
    },
    {
      "cell_type": "markdown",
      "metadata": {
        "id": "ktK3HvU8R5KF",
        "colab_type": "text"
      },
      "source": [
        "在深度学习的实现中，经常出现数组和矩阵的计算。NumPy 的数组类（numpy.array）中提供了很多便捷的方法。"
      ]
    },
    {
      "cell_type": "code",
      "metadata": {
        "id": "6PTpFuk7RALr",
        "colab_type": "code",
        "colab": {}
      },
      "source": [
        "import numpy as np"
      ],
      "execution_count": 0,
      "outputs": []
    },
    {
      "cell_type": "code",
      "metadata": {
        "id": "WN3BrLeTRr1J",
        "colab_type": "code",
        "colab": {}
      },
      "source": [
        "x = np.array([1.0, 2.0, 3.0])\n",
        "print(x)"
      ],
      "execution_count": 0,
      "outputs": []
    },
    {
      "cell_type": "code",
      "metadata": {
        "id": "kPyN0045Rx_M",
        "colab_type": "code",
        "colab": {}
      },
      "source": [
        "type(x)"
      ],
      "execution_count": 0,
      "outputs": []
    },
    {
      "cell_type": "markdown",
      "metadata": {
        "id": "_c6Bpl_PSRnF",
        "colab_type": "text"
      },
      "source": [
        "###NumPy 的 N 维数组"
      ]
    },
    {
      "cell_type": "code",
      "metadata": {
        "id": "e86vEQlOSXqa",
        "colab_type": "code",
        "colab": {}
      },
      "source": [
        "A = np.array([[1, 2], [3, 4]])\n",
        "print(A)"
      ],
      "execution_count": 0,
      "outputs": []
    },
    {
      "cell_type": "code",
      "metadata": {
        "id": "gYmtP6jYScGG",
        "colab_type": "code",
        "colab": {}
      },
      "source": [
        "A.shape"
      ],
      "execution_count": 0,
      "outputs": []
    },
    {
      "cell_type": "code",
      "metadata": {
        "id": "19dwCRLHSf7j",
        "colab_type": "code",
        "colab": {}
      },
      "source": [
        "A.dtype"
      ],
      "execution_count": 0,
      "outputs": []
    },
    {
      "cell_type": "markdown",
      "metadata": {
        "id": "Scr13FVbSqvJ",
        "colab_type": "text"
      },
      "source": [
        "##Matplotlib"
      ]
    },
    {
      "cell_type": "markdown",
      "metadata": {
        "id": "QoguWKosSyYD",
        "colab_type": "text"
      },
      "source": [
        "在深度学习的实验中，图形的绘制和数据的可视化非常重要。Matplotlib 是用于绘制图形的库，使用 Matplotlib 可以轻松地绘制图形和实现数据的可视化。"
      ]
    },
    {
      "cell_type": "markdown",
      "metadata": {
        "id": "QaATEe-oS54d",
        "colab_type": "text"
      },
      "source": [
        "###绘制简单图形"
      ]
    },
    {
      "cell_type": "code",
      "metadata": {
        "id": "d_OOJXM-TAUW",
        "colab_type": "code",
        "colab": {}
      },
      "source": [
        "import numpy as np\n",
        "import matplotlib.pyplot as plt\n",
        "\n",
        "# 生成数据\n",
        "x = np.arange(0, 6, 0.1) # 以0.1为单位，生成0到6的数据\n",
        "y = np.sin(x)\n",
        "\n",
        "# 绘制图形\n",
        "plt.plot(x, y)\n",
        "plt.show()"
      ],
      "execution_count": 0,
      "outputs": []
    },
    {
      "cell_type": "markdown",
      "metadata": {
        "id": "5jbS_WBFTTfe",
        "colab_type": "text"
      },
      "source": [
        "###pyplot 的功能"
      ]
    },
    {
      "cell_type": "code",
      "metadata": {
        "id": "4RUghHETTZnR",
        "colab_type": "code",
        "colab": {}
      },
      "source": [
        "import numpy as np\n",
        "import matplotlib.pyplot as plt\n",
        "\n",
        "# 生成数据\n",
        "x = np.arange(0, 6, 0.1) # 以0.1为单位，生成0到6的数据\n",
        "y1 = np.sin(x)\n",
        "y2 = np.cos(x)\n",
        "\n",
        "# 绘制图形\n",
        "plt.plot(x, y1, label=\"sin\")\n",
        "plt.plot(x, y2, linestyle = \"--\", label=\"cos\") # 用虚线绘制\n",
        "plt.xlabel(\"x\") # x轴标签\n",
        "plt.ylabel(\"y\") # y轴标签\n",
        "plt.title('sin & cos') # 标题\n",
        "plt.legend()\n",
        "plt.show()"
      ],
      "execution_count": 0,
      "outputs": []
    },
    {
      "cell_type": "markdown",
      "metadata": {
        "id": "q9E1x2bETd2g",
        "colab_type": "text"
      },
      "source": [
        "###显示图像"
      ]
    },
    {
      "cell_type": "code",
      "metadata": {
        "id": "LM96M921Tgo9",
        "colab_type": "code",
        "colab": {}
      },
      "source": [
        "import matplotlib.pyplot as plt\n",
        "from matplotlib.image import imread\n",
        "img = imread('https://github.com/oreilly-japan/deep-learning-from-scratch/blob/master/dataset/lena.png?raw=true') # 读入图像（设定合适的路径！）\n",
        "plt.imshow(img)\n",
        "\n",
        "plt.show()"
      ],
      "execution_count": 0,
      "outputs": []
    },
    {
      "cell_type": "markdown",
      "metadata": {
        "id": "NP7OpWV9Y8kZ",
        "colab_type": "text"
      },
      "source": [
        "#第2章 感知机"
      ]
    },
    {
      "cell_type": "markdown",
      "metadata": {
        "id": "zoVc5vBFZWBP",
        "colab_type": "text"
      },
      "source": [
        "感知机是作为神经网络的起源的算法。  \n",
        "学习感知机的构造就是学习通向神经网络和深度学习的一种重要思想。"
      ]
    },
    {
      "cell_type": "markdown",
      "metadata": {
        "id": "m1jADq_5Zfrr",
        "colab_type": "text"
      },
      "source": [
        "##感知机是什么"
      ]
    },
    {
      "cell_type": "markdown",
      "metadata": {
        "id": "ELNE8RprZqyT",
        "colab_type": "text"
      },
      "source": [
        "感知机接收多个输入信号，输出一个信号。"
      ]
    },
    {
      "cell_type": "markdown",
      "metadata": {
        "id": "-qWBgzVNamwE",
        "colab_type": "text"
      },
      "source": [
        "###感知机的运行原理\n",
        "![一个接收两个输入信号的感知机](http://www.ituring.com.cn/figures/2018/DeepLearning/006.png)\n",
        "![数学表达式](http://www.ituring.com.cn/figures/2018/DeepLearning/182.png)\n"
      ]
    },
    {
      "cell_type": "markdown",
      "metadata": {
        "id": "z168cLkYbfS4",
        "colab_type": "text"
      },
      "source": [
        "##简单逻辑电路"
      ]
    },
    {
      "cell_type": "markdown",
      "metadata": {
        "id": "MFQuPIP0bZiB",
        "colab_type": "text"
      },
      "source": [
        "###与门\n",
        "![](http://www.ituring.com.cn/figures/2018/DeepLearning/007.png)\n",
        "###与非门\n",
        "![](http://www.ituring.com.cn/figures/2018/DeepLearning/008.png)\n",
        "###或门\n",
        "![](http://www.ituring.com.cn/figures/2018/DeepLearning/009.png)"
      ]
    },
    {
      "cell_type": "markdown",
      "metadata": {
        "id": "NHGTPKc8cce3",
        "colab_type": "text"
      },
      "source": [
        "##感知机的实现"
      ]
    },
    {
      "cell_type": "markdown",
      "metadata": {
        "id": "ESD1cfo_dy-f",
        "colab_type": "text"
      },
      "source": [
        "###原理\n",
        "![](http://www.ituring.com.cn/figures/2018/DeepLearning/183.png)"
      ]
    },
    {
      "cell_type": "markdown",
      "metadata": {
        "id": "9_ZaUAWReu0h",
        "colab_type": "text"
      },
      "source": [
        "###实现"
      ]
    },
    {
      "cell_type": "code",
      "metadata": {
        "id": "LKBozHjAdwwT",
        "colab_type": "code",
        "colab": {}
      },
      "source": [
        "import numpy as np\n",
        "def AND(x1, x2):\n",
        "    x = np.array([x1, x2])\n",
        "    w = np.array([0.5, 0.5])\n",
        "    b = -0.7\n",
        "    tmp = np.sum(w*x) + b\n",
        "    if tmp <= 0:\n",
        "       return 0\n",
        "    else:\n",
        "       return 1"
      ],
      "execution_count": 0,
      "outputs": []
    },
    {
      "cell_type": "code",
      "metadata": {
        "id": "1IGxk0d_eMQd",
        "colab_type": "code",
        "colab": {}
      },
      "source": [
        "def NAND(x1, x2):\n",
        "    x = np.array([x1, x2])\n",
        "    w = np.array([-0.5, -0.5]) # 仅权重和偏置与AND不同！\n",
        "    b = 0.7\n",
        "    tmp = np.sum(w*x) + b\n",
        "    if tmp <= 0:\n",
        "        return 0\n",
        "    else:\n",
        "        return 1"
      ],
      "execution_count": 0,
      "outputs": []
    },
    {
      "cell_type": "code",
      "metadata": {
        "id": "zGsXguAGeQ5u",
        "colab_type": "code",
        "colab": {}
      },
      "source": [
        "def OR(x1, x2):\n",
        "    x = np.array([x1, x2])\n",
        "    w = np.array([0.5, 0.5]) # 仅权重和偏置与AND不同！\n",
        "    b = -0.2\n",
        "    tmp = np.sum(w*x) + b\n",
        "    if tmp <= 0:\n",
        "        return 0\n",
        "    else:\n",
        "        return 1"
      ],
      "execution_count": 0,
      "outputs": []
    },
    {
      "cell_type": "markdown",
      "metadata": {
        "id": "z4pU8aUvfLqA",
        "colab_type": "text"
      },
      "source": [
        "###异或门\n",
        "![](http://www.ituring.com.cn/figures/2018/DeepLearning/017.png)\n",
        "###物理实现\n",
        "![](http://www.ituring.com.cn/figures/2018/DeepLearning/014.png)\n",
        "![](http://www.ituring.com.cn/figures/2018/DeepLearning/016.png)"
      ]
    },
    {
      "cell_type": "code",
      "metadata": {
        "id": "dxysw9EAfpEY",
        "colab_type": "code",
        "colab": {}
      },
      "source": [
        "def XOR(x1, x2):\n",
        "    s1 = NAND(x1, x2)\n",
        "    s2 = OR(x1, x2)\n",
        "    y = AND(s1, s2)\n",
        "    return y"
      ],
      "execution_count": 0,
      "outputs": []
    },
    {
      "cell_type": "code",
      "metadata": {
        "id": "Rgd6imVcf3Km",
        "colab_type": "code",
        "colab": {
          "base_uri": "https://localhost:8080/",
          "height": 34
        },
        "outputId": "d9dbd713-3b4f-429a-cc03-2b70075a7c25"
      },
      "source": [
        "XOR(0, 0)"
      ],
      "execution_count": 18,
      "outputs": [
        {
          "output_type": "execute_result",
          "data": {
            "text/plain": [
              "0"
            ]
          },
          "metadata": {
            "tags": []
          },
          "execution_count": 18
        }
      ]
    },
    {
      "cell_type": "code",
      "metadata": {
        "id": "47g6b5rWgSWx",
        "colab_type": "code",
        "colab": {
          "base_uri": "https://localhost:8080/",
          "height": 34
        },
        "outputId": "7ab95b0d-5574-4d6c-c9d0-7519586ad639"
      },
      "source": [
        "XOR(1, 0)"
      ],
      "execution_count": 19,
      "outputs": [
        {
          "output_type": "execute_result",
          "data": {
            "text/plain": [
              "1"
            ]
          },
          "metadata": {
            "tags": []
          },
          "execution_count": 19
        }
      ]
    },
    {
      "cell_type": "code",
      "metadata": {
        "id": "eB2_2WDKgT9W",
        "colab_type": "code",
        "colab": {
          "base_uri": "https://localhost:8080/",
          "height": 34
        },
        "outputId": "a9d20b8c-23bb-498d-9a47-3d6d0409e084"
      },
      "source": [
        "XOR(1, 1)"
      ],
      "execution_count": 21,
      "outputs": [
        {
          "output_type": "execute_result",
          "data": {
            "text/plain": [
              "0"
            ]
          },
          "metadata": {
            "tags": []
          },
          "execution_count": 21
        }
      ]
    },
    {
      "cell_type": "code",
      "metadata": {
        "id": "411R0wqQgUGV",
        "colab_type": "code",
        "colab": {
          "base_uri": "https://localhost:8080/",
          "height": 34
        },
        "outputId": "87f1933f-9dd2-4b5d-f831-5f338fe35f26"
      },
      "source": [
        "XOR(0, 1)"
      ],
      "execution_count": 20,
      "outputs": [
        {
          "output_type": "execute_result",
          "data": {
            "text/plain": [
              "1"
            ]
          },
          "metadata": {
            "tags": []
          },
          "execution_count": 20
        }
      ]
    },
    {
      "cell_type": "markdown",
      "metadata": {
        "id": "amHmjaaFgiYk",
        "colab_type": "text"
      },
      "source": [
        "###图解\n",
        "![替代文字](http://www.ituring.com.cn/figures/2018/DeepLearning/018.png)"
      ]
    }
  ]
}