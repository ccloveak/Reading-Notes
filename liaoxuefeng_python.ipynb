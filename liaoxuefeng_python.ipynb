{
  "nbformat": 4,
  "nbformat_minor": 0,
  "metadata": {
    "colab": {
      "name": "liaoxuefeng python.ipynb",
      "version": "0.3.2",
      "provenance": [],
      "collapsed_sections": [
        "Q-zyBQQ-fF88",
        "7d6--PkDKRjH",
        "D6I0jFhXOQa_",
        "lryMUXxHcg1m",
        "Yxe6THBEjh3d",
        "XkBkIpiJloAH",
        "Y3BdKHcUln4m",
        "Ont9oWivnpb0",
        "Hb2HWz9OnpjM",
        "IYIuooK1qnNW",
        "bt-7QP02qnI9",
        "ixRUnnRzwRz4",
        "6mIGojBtfRjf",
        "EJQh1OoEEAvX",
        "li3he_t5EPzw",
        "-VWnSkjShR8c",
        "OhSoQSawiIZM",
        "ghVUdzRW94G4",
        "EKYeE0wCxjw6",
        "SzdKavXLRQxH",
        "AFk7QAKLRRDt",
        "H2PQnEaB0-4T"
      ],
      "include_colab_link": true
    },
    "kernelspec": {
      "name": "python3",
      "display_name": "Python 3"
    }
  },
  "cells": [
    {
      "cell_type": "markdown",
      "metadata": {
        "id": "view-in-github",
        "colab_type": "text"
      },
      "source": [
        "<a href=\"https://colab.research.google.com/github/ccloveak/Study_Notes/blob/master/liaoxuefeng_python.ipynb\" target=\"_parent\"><img src=\"https://colab.research.google.com/assets/colab-badge.svg\" alt=\"Open In Colab\"/></a>"
      ]
    },
    {
      "cell_type": "markdown",
      "metadata": {
        "id": "Q-zyBQQ-fF88",
        "colab_type": "text"
      },
      "source": [
        "#Python基础"
      ]
    },
    {
      "cell_type": "markdown",
      "metadata": {
        "id": "gTWYnhUTH09d",
        "colab_type": "text"
      },
      "source": [
        "###输入和输出"
      ]
    },
    {
      "cell_type": "code",
      "metadata": {
        "id": "WVoWKY0XH1yz",
        "colab_type": "code",
        "outputId": "54ce83f4-743c-43e9-8e16-2a06aa6b699a",
        "colab": {
          "base_uri": "https://localhost:8080/",
          "height": 34
        }
      },
      "source": [
        "print(\"1024 * 768 =\",1024 * 768)\n"
      ],
      "execution_count": 0,
      "outputs": [
        {
          "output_type": "stream",
          "text": [
            "1024 * 768 = 786432\n"
          ],
          "name": "stdout"
        }
      ]
    },
    {
      "cell_type": "markdown",
      "metadata": {
        "id": "7d6--PkDKRjH",
        "colab_type": "text"
      },
      "source": [
        "### 数据类型和变量"
      ]
    },
    {
      "cell_type": "markdown",
      "metadata": {
        "id": "i_QMGOUvKJ1i",
        "colab_type": "text"
      },
      "source": [
        "####字符串\n",
        "\n",
        "\n",
        "*   `转义字符\\可以转义很多字符，比如\\n表示换行，\\t表示制表符，字符\\本身也要转义，所以\\\\表示的字符就是\\` \n",
        "*   如果字符串里面有很多字符都需要转义，就需要加很多\\，为了简化，Python还允许用r''表示''内部的字符串默认不转义\n",
        "\n"
      ]
    },
    {
      "cell_type": "code",
      "metadata": {
        "id": "iX1JVvOTKqC0",
        "colab_type": "code",
        "outputId": "75942b7e-cf27-42df-eb74-87bcc27145b4",
        "colab": {
          "base_uri": "https://localhost:8080/",
          "height": 34
        }
      },
      "source": [
        "print('\\\\\\t\\\\')"
      ],
      "execution_count": 0,
      "outputs": [
        {
          "output_type": "stream",
          "text": [
            "\\\t\\\n"
          ],
          "name": "stdout"
        }
      ]
    },
    {
      "cell_type": "code",
      "metadata": {
        "id": "cR9IUTs6KrLL",
        "colab_type": "code",
        "outputId": "319428b6-700d-495b-e8bf-bcfb8b5dfa53",
        "colab": {
          "base_uri": "https://localhost:8080/",
          "height": 34
        }
      },
      "source": [
        "print(r'\\\\\\t\\\\')"
      ],
      "execution_count": 0,
      "outputs": [
        {
          "output_type": "stream",
          "text": [
            "\\\\\\t\\\\\n"
          ],
          "name": "stdout"
        }
      ]
    },
    {
      "cell_type": "markdown",
      "metadata": {
        "id": "gRyhCuKxK0Hz",
        "colab_type": "text"
      },
      "source": [
        "字符串内部有很多换行，用\\n写在一行里不好阅读，为了简化，Python允许用'''...'''的格式表示多行内容"
      ]
    },
    {
      "cell_type": "code",
      "metadata": {
        "id": "82cpJnhuK2nM",
        "colab_type": "code",
        "outputId": "ad6b7663-a0df-4252-f68d-4cb30b13ac12",
        "colab": {
          "base_uri": "https://localhost:8080/",
          "height": 68
        }
      },
      "source": [
        "print('''line1\n",
        "line2\n",
        "line3''')"
      ],
      "execution_count": 0,
      "outputs": [
        {
          "output_type": "stream",
          "text": [
            "line1\n",
            "line2\n",
            "line3\n"
          ],
          "name": "stdout"
        }
      ]
    },
    {
      "cell_type": "code",
      "metadata": {
        "id": "GensXbEMLEIW",
        "colab_type": "code",
        "outputId": "dae6f218-bd58-4b0a-ee9a-07635768e31f",
        "colab": {
          "base_uri": "https://localhost:8080/",
          "height": 51
        }
      },
      "source": [
        "print(r'''hello,\\n\n",
        "world''')\n"
      ],
      "execution_count": 0,
      "outputs": [
        {
          "output_type": "stream",
          "text": [
            "hello,\\n\n",
            "world\n"
          ],
          "name": "stdout"
        }
      ]
    },
    {
      "cell_type": "markdown",
      "metadata": {
        "id": "6JDZ8RgeLxrX",
        "colab_type": "text"
      },
      "source": [
        "把一个变量a赋值给另一个变量b，这个操作实际上是把变量b指向变量a所指向的数据"
      ]
    },
    {
      "cell_type": "code",
      "metadata": {
        "id": "qq8qP17KLyYF",
        "colab_type": "code",
        "outputId": "c33c06f2-f978-4982-e625-b80a849bdc0e",
        "colab": {
          "base_uri": "https://localhost:8080/",
          "height": 34
        }
      },
      "source": [
        "a = 'ABC'\n",
        "b = a\n",
        "a = 'XYZ'\n",
        "print(b)\n"
      ],
      "execution_count": 0,
      "outputs": [
        {
          "output_type": "stream",
          "text": [
            "ABC\n"
          ],
          "name": "stdout"
        }
      ]
    },
    {
      "cell_type": "markdown",
      "metadata": {
        "id": "5U8_EarkMJmk",
        "colab_type": "text"
      },
      "source": [
        "通常用全部大写的变量名表示常量"
      ]
    },
    {
      "cell_type": "markdown",
      "metadata": {
        "id": "CnDWqt08MbsH",
        "colab_type": "text"
      },
      "source": [
        "在Python中，有两种除法，一种除法是/  \n",
        ",/除法计算结果是浮点数，即使是两个整数恰好整除，结果也是浮点数："
      ]
    },
    {
      "cell_type": "code",
      "metadata": {
        "id": "FNTYPMyjMc4z",
        "colab_type": "code",
        "outputId": "20027e23-c3d0-4a49-f7a0-3c494818d095",
        "colab": {
          "base_uri": "https://localhost:8080/",
          "height": 34
        }
      },
      "source": [
        "10/3"
      ],
      "execution_count": 0,
      "outputs": [
        {
          "output_type": "execute_result",
          "data": {
            "text/plain": [
              "3.3333333333333335"
            ]
          },
          "metadata": {
            "tags": []
          },
          "execution_count": 10
        }
      ]
    },
    {
      "cell_type": "markdown",
      "metadata": {
        "id": "JZcYU2J7MlAH",
        "colab_type": "text"
      },
      "source": [
        "还有一种除法是//，称为地板除，两个整数的除法仍然是整数："
      ]
    },
    {
      "cell_type": "code",
      "metadata": {
        "id": "82XdDKfgMmAm",
        "colab_type": "code",
        "outputId": "39666fe9-280b-4208-fd0c-8fbd69053708",
        "colab": {
          "base_uri": "https://localhost:8080/",
          "height": 34
        }
      },
      "source": [
        "10 // 3"
      ],
      "execution_count": 0,
      "outputs": [
        {
          "output_type": "execute_result",
          "data": {
            "text/plain": [
              "3"
            ]
          },
          "metadata": {
            "tags": []
          },
          "execution_count": 11
        }
      ]
    },
    {
      "cell_type": "markdown",
      "metadata": {
        "id": "Lcx4Vx3vMulY",
        "colab_type": "text"
      },
      "source": [
        "因为//除法只取结果的整数部分，所以Python还提供一个余数运算，可以得到两个整数相除的余数："
      ]
    },
    {
      "cell_type": "code",
      "metadata": {
        "id": "HtRSGQyKM0r2",
        "colab_type": "code",
        "outputId": "46352151-8450-4bdb-93ef-490cadfac35a",
        "colab": {
          "base_uri": "https://localhost:8080/",
          "height": 34
        }
      },
      "source": [
        "10 % 3"
      ],
      "execution_count": 0,
      "outputs": [
        {
          "output_type": "execute_result",
          "data": {
            "text/plain": [
              "1"
            ]
          },
          "metadata": {
            "tags": []
          },
          "execution_count": 12
        }
      ]
    },
    {
      "cell_type": "markdown",
      "metadata": {
        "id": "D6I0jFhXOQa_",
        "colab_type": "text"
      },
      "source": [
        "### 字符串和编码  \n",
        "用记事本编辑的时候，从文件读取的UTF-8字符被转换为Unicode字符到内存里，编辑完成后，保存的时候再把Unicode转换为UTF-8保存到文件： \n",
        "\n",
        "![替代文字](https://www.liaoxuefeng.com/files/attachments/923923787018816/0)  \n",
        "\n",
        "浏览网页的时候，服务器会把动态生成的Unicode内容转换为UTF-8再传输到浏览器：\n",
        "\n",
        "![替代文字](https://www.liaoxuefeng.com/files/attachments/923923759189600/0)\n"
      ]
    },
    {
      "cell_type": "markdown",
      "metadata": {
        "id": "OaFUu3UiPMqY",
        "colab_type": "text"
      },
      "source": [
        "对于单个字符的编码，Python提供了ord()函数获取字符的整数表示，chr()函数把编码转换为对应的字符"
      ]
    },
    {
      "cell_type": "code",
      "metadata": {
        "id": "vZ0gExuvPNmB",
        "colab_type": "code",
        "outputId": "57318954-4274-4452-9b44-35b7b9d32b8f",
        "colab": {
          "base_uri": "https://localhost:8080/",
          "height": 34
        }
      },
      "source": [
        "ord('A')"
      ],
      "execution_count": 0,
      "outputs": [
        {
          "output_type": "execute_result",
          "data": {
            "text/plain": [
              "65"
            ]
          },
          "metadata": {
            "tags": []
          },
          "execution_count": 13
        }
      ]
    },
    {
      "cell_type": "code",
      "metadata": {
        "id": "2KkkX2rUPRPZ",
        "colab_type": "code",
        "outputId": "880b1b4f-401e-412d-85d7-4926dd9cd14d",
        "colab": {
          "base_uri": "https://localhost:8080/",
          "height": 34
        }
      },
      "source": [
        "ord('中')"
      ],
      "execution_count": 0,
      "outputs": [
        {
          "output_type": "execute_result",
          "data": {
            "text/plain": [
              "20013"
            ]
          },
          "metadata": {
            "tags": []
          },
          "execution_count": 14
        }
      ]
    },
    {
      "cell_type": "code",
      "metadata": {
        "id": "mDdb3TrSPTPB",
        "colab_type": "code",
        "outputId": "efa92ba0-c2cb-408b-b021-86118a9e41e3",
        "colab": {
          "base_uri": "https://localhost:8080/",
          "height": 34
        }
      },
      "source": [
        "chr(68)"
      ],
      "execution_count": 0,
      "outputs": [
        {
          "output_type": "execute_result",
          "data": {
            "text/plain": [
              "'D'"
            ]
          },
          "metadata": {
            "tags": []
          },
          "execution_count": 15
        }
      ]
    },
    {
      "cell_type": "code",
      "metadata": {
        "id": "A-jeBgj1PU4z",
        "colab_type": "code",
        "outputId": "fdeb957c-5789-490d-8ae4-ea8c40bd76df",
        "colab": {
          "base_uri": "https://localhost:8080/",
          "height": 34
        }
      },
      "source": [
        "chr(25991)"
      ],
      "execution_count": 0,
      "outputs": [
        {
          "output_type": "execute_result",
          "data": {
            "text/plain": [
              "'文'"
            ]
          },
          "metadata": {
            "tags": []
          },
          "execution_count": 16
        }
      ]
    },
    {
      "cell_type": "markdown",
      "metadata": {
        "id": "JRzZp5IyPbe9",
        "colab_type": "text"
      },
      "source": [
        "如果知道字符的整数编码，还可以用十六进制这么写str：\n",
        "\n"
      ]
    },
    {
      "cell_type": "code",
      "metadata": {
        "id": "iRwdYxREPebC",
        "colab_type": "code",
        "outputId": "b42ca3bb-aac3-4fd3-9ce0-50b99f34af3b",
        "colab": {
          "base_uri": "https://localhost:8080/",
          "height": 34
        }
      },
      "source": [
        "'\\u4e2d\\u6587'"
      ],
      "execution_count": 0,
      "outputs": [
        {
          "output_type": "execute_result",
          "data": {
            "text/plain": [
              "'中文'"
            ]
          },
          "metadata": {
            "tags": []
          },
          "execution_count": 17
        }
      ]
    },
    {
      "cell_type": "markdown",
      "metadata": {
        "id": "fSXwurugPjYm",
        "colab_type": "text"
      },
      "source": [
        "Python对bytes类型的数据用带b前缀的单引号或双引号表示："
      ]
    },
    {
      "cell_type": "code",
      "metadata": {
        "id": "WQxG0soiP8cV",
        "colab_type": "code",
        "colab": {}
      },
      "source": [
        "x = b'ABC'"
      ],
      "execution_count": 0,
      "outputs": []
    },
    {
      "cell_type": "markdown",
      "metadata": {
        "id": "Hvc0r1NfP77C",
        "colab_type": "text"
      },
      "source": [
        "以Unicode表示的str通过encode()方法可以编码为指定的bytes"
      ]
    },
    {
      "cell_type": "code",
      "metadata": {
        "id": "wUD-b_b_QCOu",
        "colab_type": "code",
        "outputId": "a73fb516-cf12-4917-f06f-5f687577ec41",
        "colab": {
          "base_uri": "https://localhost:8080/",
          "height": 34
        }
      },
      "source": [
        "'ABC'.encode('ascii')"
      ],
      "execution_count": 0,
      "outputs": [
        {
          "output_type": "execute_result",
          "data": {
            "text/plain": [
              "b'ABC'"
            ]
          },
          "metadata": {
            "tags": []
          },
          "execution_count": 20
        }
      ]
    },
    {
      "cell_type": "code",
      "metadata": {
        "id": "Li6qapLYQHMR",
        "colab_type": "code",
        "outputId": "b180c037-aeb8-4919-d650-aadeb57c1f4b",
        "colab": {
          "base_uri": "https://localhost:8080/",
          "height": 34
        }
      },
      "source": [
        "'中文'.encode('utf-8')"
      ],
      "execution_count": 0,
      "outputs": [
        {
          "output_type": "execute_result",
          "data": {
            "text/plain": [
              "b'\\xe4\\xb8\\xad\\xe6\\x96\\x87'"
            ]
          },
          "metadata": {
            "tags": []
          },
          "execution_count": 21
        }
      ]
    },
    {
      "cell_type": "markdown",
      "metadata": {
        "id": "bW15eYK5QM2V",
        "colab_type": "text"
      },
      "source": [
        "纯英文的str可以用ASCII编码为bytes，内容是一样的，含有中文的str可以用UTF-8编码为bytes。"
      ]
    },
    {
      "cell_type": "markdown",
      "metadata": {
        "id": "3vPCs3NKQQ8M",
        "colab_type": "text"
      },
      "source": [
        "如果我们从网络或磁盘上读取了字节流，那么读到的数据就是bytes。要把bytes变为str，就需要用decode()方法：\n",
        "\n"
      ]
    },
    {
      "cell_type": "code",
      "metadata": {
        "id": "KBnACkWRQRkw",
        "colab_type": "code",
        "outputId": "0c00f403-3fdd-4288-a455-0c6ccdbf1aa3",
        "colab": {
          "base_uri": "https://localhost:8080/",
          "height": 34
        }
      },
      "source": [
        "b'ABC'.decode('ascii')"
      ],
      "execution_count": 0,
      "outputs": [
        {
          "output_type": "execute_result",
          "data": {
            "text/plain": [
              "'ABC'"
            ]
          },
          "metadata": {
            "tags": []
          },
          "execution_count": 22
        }
      ]
    },
    {
      "cell_type": "code",
      "metadata": {
        "id": "PX5_r4LNQYHG",
        "colab_type": "code",
        "outputId": "189c16dc-73eb-46bc-bcb9-e9cbc641373a",
        "colab": {
          "base_uri": "https://localhost:8080/",
          "height": 34
        }
      },
      "source": [
        "b'\\xe4\\xb8\\xad\\xe6\\x96\\x87'.decode('utf-8')"
      ],
      "execution_count": 0,
      "outputs": [
        {
          "output_type": "execute_result",
          "data": {
            "text/plain": [
              "'中文'"
            ]
          },
          "metadata": {
            "tags": []
          },
          "execution_count": 23
        }
      ]
    },
    {
      "cell_type": "markdown",
      "metadata": {
        "id": "k4RpQO5_RSpP",
        "colab_type": "text"
      },
      "source": [
        "如果bytes中包含无法解码的字节，decode()方法会报错"
      ]
    },
    {
      "cell_type": "code",
      "metadata": {
        "id": "6zLGQCtURTtt",
        "colab_type": "code",
        "outputId": "31fafeef-e1cd-478a-e761-f3438ec12dcf",
        "colab": {
          "base_uri": "https://localhost:8080/",
          "height": 188
        }
      },
      "source": [
        " b'\\xe4\\xb8\\xad\\xff'.decode('utf-8')"
      ],
      "execution_count": 0,
      "outputs": [
        {
          "output_type": "error",
          "ename": "UnicodeDecodeError",
          "evalue": "ignored",
          "traceback": [
            "\u001b[0;31m---------------------------------------------------------------------------\u001b[0m",
            "\u001b[0;31mUnicodeDecodeError\u001b[0m                        Traceback (most recent call last)",
            "\u001b[0;32m<ipython-input-24-cd8de1b11dcd>\u001b[0m in \u001b[0;36m<module>\u001b[0;34m()\u001b[0m\n\u001b[0;32m----> 1\u001b[0;31m \u001b[0;34mb'\\xe4\\xb8\\xad\\xff'\u001b[0m\u001b[0;34m.\u001b[0m\u001b[0mdecode\u001b[0m\u001b[0;34m(\u001b[0m\u001b[0;34m'utf-8'\u001b[0m\u001b[0;34m)\u001b[0m\u001b[0;34m\u001b[0m\u001b[0;34m\u001b[0m\u001b[0m\n\u001b[0m",
            "\u001b[0;31mUnicodeDecodeError\u001b[0m: 'utf-8' codec can't decode byte 0xff in position 3: invalid start byte"
          ]
        }
      ]
    },
    {
      "cell_type": "markdown",
      "metadata": {
        "id": "QNzFXjYhRWRn",
        "colab_type": "text"
      },
      "source": [
        "如果bytes中只有一小部分无效的字节，可以传入errors='ignore'忽略错误的字节："
      ]
    },
    {
      "cell_type": "code",
      "metadata": {
        "id": "GOJmtLofRYOV",
        "colab_type": "code",
        "outputId": "cbfffc2a-28bb-4f4b-bbac-9007a03eff5c",
        "colab": {
          "base_uri": "https://localhost:8080/",
          "height": 34
        }
      },
      "source": [
        "b'\\xe4\\xb8\\xad\\xff'.decode('utf-8', errors='ignore')"
      ],
      "execution_count": 0,
      "outputs": [
        {
          "output_type": "execute_result",
          "data": {
            "text/plain": [
              "'中'"
            ]
          },
          "metadata": {
            "tags": []
          },
          "execution_count": 25
        }
      ]
    },
    {
      "cell_type": "markdown",
      "metadata": {
        "id": "BxP-QvqCRqKg",
        "colab_type": "text"
      },
      "source": [
        "len()函数计算的是str的字符数，如果换成bytes，len()函数就计算字节数："
      ]
    },
    {
      "cell_type": "code",
      "metadata": {
        "id": "rjkCJ0FrRqr5",
        "colab_type": "code",
        "outputId": "9676c57b-516b-40c8-8141-e76137cc810e",
        "colab": {
          "base_uri": "https://localhost:8080/",
          "height": 34
        }
      },
      "source": [
        "len(b'ABC')"
      ],
      "execution_count": 0,
      "outputs": [
        {
          "output_type": "execute_result",
          "data": {
            "text/plain": [
              "3"
            ]
          },
          "metadata": {
            "tags": []
          },
          "execution_count": 26
        }
      ]
    },
    {
      "cell_type": "code",
      "metadata": {
        "id": "wuw3f68RR2GZ",
        "colab_type": "code",
        "outputId": "d7668f83-4fa3-44d4-d86f-363adcdfecf1",
        "colab": {
          "base_uri": "https://localhost:8080/",
          "height": 34
        }
      },
      "source": [
        "len(b'\\xe4\\xb8\\xad\\xe6\\x96\\x87')"
      ],
      "execution_count": 0,
      "outputs": [
        {
          "output_type": "execute_result",
          "data": {
            "text/plain": [
              "6"
            ]
          },
          "metadata": {
            "tags": []
          },
          "execution_count": 27
        }
      ]
    },
    {
      "cell_type": "code",
      "metadata": {
        "id": "1Rol884vR30G",
        "colab_type": "code",
        "outputId": "0d2956bd-0b44-44b2-8da7-ee838566b873",
        "colab": {
          "base_uri": "https://localhost:8080/",
          "height": 34
        }
      },
      "source": [
        "len('中文'.encode('utf-8'))"
      ],
      "execution_count": 0,
      "outputs": [
        {
          "output_type": "execute_result",
          "data": {
            "text/plain": [
              "6"
            ]
          },
          "metadata": {
            "tags": []
          },
          "execution_count": 28
        }
      ]
    },
    {
      "cell_type": "markdown",
      "metadata": {
        "id": "PUEocNAAR9Go",
        "colab_type": "text"
      },
      "source": [
        "1个中文字符经过UTF-8编码后通常会占用3个字节，而1个英文字符只占用1个字节"
      ]
    },
    {
      "cell_type": "markdown",
      "metadata": {
        "id": "pudbqk3VR90U",
        "colab_type": "text"
      },
      "source": [
        "在操作字符串时，我们经常遇到str和bytes的互相转换。为了避免乱码问题，应当始终坚持使用UTF-8编码对str和bytes进行转换。\n",
        "\n"
      ]
    },
    {
      "cell_type": "markdown",
      "metadata": {
        "id": "-aI-G4qlSD8S",
        "colab_type": "text"
      },
      "source": [
        "当Python解释器读取源代码时，为了让它按UTF-8编码读取，我们通常在文件开头写上这两行：\n",
        "\n",
        "\n",
        "\n",
        "```\n",
        "#!/usr/bin/env python3\n",
        "# -*- coding: utf-8 -*-\n",
        "```\n",
        "\n"
      ]
    },
    {
      "cell_type": "markdown",
      "metadata": {
        "id": "lryMUXxHcg1m",
        "colab_type": "text"
      },
      "source": [
        "### 格式化"
      ]
    },
    {
      "cell_type": "code",
      "metadata": {
        "id": "Sg4TDXCddJ8W",
        "colab_type": "code",
        "outputId": "ec54672e-ce05-4299-9134-1ec92054c054",
        "colab": {
          "base_uri": "https://localhost:8080/",
          "height": 34
        }
      },
      "source": [
        "'Hello, %s' % 'world'"
      ],
      "execution_count": 0,
      "outputs": [
        {
          "output_type": "execute_result",
          "data": {
            "text/plain": [
              "'Hello, world'"
            ]
          },
          "metadata": {
            "tags": []
          },
          "execution_count": 29
        }
      ]
    },
    {
      "cell_type": "code",
      "metadata": {
        "id": "JOOaj5kBdbac",
        "colab_type": "code",
        "outputId": "b5293515-a1cb-4556-9aa0-ea27e19301ad",
        "colab": {
          "base_uri": "https://localhost:8080/",
          "height": 34
        }
      },
      "source": [
        "'Hi, %s, you have $%d.' % ('Michael', 1000000)"
      ],
      "execution_count": 0,
      "outputs": [
        {
          "output_type": "execute_result",
          "data": {
            "text/plain": [
              "'Hi, Michael, you have $1000000.'"
            ]
          },
          "metadata": {
            "tags": []
          },
          "execution_count": 30
        }
      ]
    },
    {
      "cell_type": "markdown",
      "metadata": {
        "id": "EN0fhW_vdiWJ",
        "colab_type": "text"
      },
      "source": [
        "%运算符就是用来格式化字符串的。在字符串内部，%s表示用字符串替换，%d表示用整数替换，有几个%?占位符，后面就跟几个变量或者值，顺序要对应好。如果只有一个%?，括号可以省略。"
      ]
    },
    {
      "cell_type": "markdown",
      "metadata": {
        "id": "-fMP6-HwdmMs",
        "colab_type": "text"
      },
      "source": [
        "**常见的占位符**\n",
        "\n",
        "|占位符|替换内容|\n",
        "|:---- |:---- |\n",
        "%d\t|整数\n",
        "%f\t|浮点数\n",
        "%s\t|字符串\n",
        "%x\t|十六进制整数"
      ]
    },
    {
      "cell_type": "markdown",
      "metadata": {
        "id": "ZlfGuzYSe_00",
        "colab_type": "text"
      },
      "source": [
        "格式化整数和浮点数还可以指定是否补0和整数与小数的位数"
      ]
    },
    {
      "cell_type": "code",
      "metadata": {
        "id": "AKJzPNeQfAee",
        "colab_type": "code",
        "outputId": "f5c8fc31-f753-453f-ced6-501cf7b5457d",
        "colab": {
          "base_uri": "https://localhost:8080/",
          "height": 51
        }
      },
      "source": [
        "print('%2d-%02d' % (3, 1))\n",
        "print('%.2f' % 3.1415926)\n"
      ],
      "execution_count": 0,
      "outputs": [
        {
          "output_type": "stream",
          "text": [
            " 3-01\n",
            "3.14\n"
          ],
          "name": "stdout"
        }
      ]
    },
    {
      "cell_type": "markdown",
      "metadata": {
        "id": "gSkIIVEmfHkr",
        "colab_type": "text"
      },
      "source": [
        "%s永远起作用，它会把任何数据类型转换为字符串"
      ]
    },
    {
      "cell_type": "code",
      "metadata": {
        "id": "qw57bpnvfIL8",
        "colab_type": "code",
        "outputId": "9f488716-7d74-40f6-d7dd-c403057ecfe7",
        "colab": {
          "base_uri": "https://localhost:8080/",
          "height": 34
        }
      },
      "source": [
        "'Age: %s. Gender: %s' % (25, True)"
      ],
      "execution_count": 0,
      "outputs": [
        {
          "output_type": "execute_result",
          "data": {
            "text/plain": [
              "'Age: 25. Gender: True'"
            ]
          },
          "metadata": {
            "tags": []
          },
          "execution_count": 32
        }
      ]
    },
    {
      "cell_type": "markdown",
      "metadata": {
        "id": "u_pf9ziufQx0",
        "colab_type": "text"
      },
      "source": [
        "字符串里面的%是一个普通字符怎么办？这个时候就需要转义，用%%来表示一个%"
      ]
    },
    {
      "cell_type": "code",
      "metadata": {
        "id": "mwzr7Mx7fRE2",
        "colab_type": "code",
        "outputId": "18523d74-0170-4f25-9b44-508a5294efe0",
        "colab": {
          "base_uri": "https://localhost:8080/",
          "height": 34
        }
      },
      "source": [
        "'growth rate: %d %%' % 7"
      ],
      "execution_count": 0,
      "outputs": [
        {
          "output_type": "execute_result",
          "data": {
            "text/plain": [
              "'growth rate: 7 %'"
            ]
          },
          "metadata": {
            "tags": []
          },
          "execution_count": 33
        }
      ]
    },
    {
      "cell_type": "markdown",
      "metadata": {
        "id": "2zsO2bnNf7CX",
        "colab_type": "text"
      },
      "source": [
        "另一种格式化字符串的方法是使用字符串的format()方法，它会用传入的参数依次替换字符串内的占位符{0}、{1}……，不过这种方式写起来比%要麻烦得多："
      ]
    },
    {
      "cell_type": "code",
      "metadata": {
        "id": "KV6RMN55f-Bp",
        "colab_type": "code",
        "outputId": "6e813a98-8f70-4bf8-adac-e4bbfdd06fe5",
        "colab": {
          "base_uri": "https://localhost:8080/",
          "height": 34
        }
      },
      "source": [
        "'Hello, {0}, 成绩提升了 {1:.1f}%'.format('小明', 17.125)"
      ],
      "execution_count": 0,
      "outputs": [
        {
          "output_type": "execute_result",
          "data": {
            "text/plain": [
              "'Hello, 小明, 成绩提升了 17.1%'"
            ]
          },
          "metadata": {
            "tags": []
          },
          "execution_count": 34
        }
      ]
    },
    {
      "cell_type": "markdown",
      "metadata": {
        "id": "-m-pexIAi1zC",
        "colab_type": "text"
      },
      "source": [
        "小明的成绩从去年的72分提升到了今年的85分，请计算小明成绩提升的百分点，并用字符串格式化显示出'xx.x%'，只保留小数点后1位："
      ]
    },
    {
      "cell_type": "code",
      "metadata": {
        "id": "7mmPWkBPi2Yg",
        "colab_type": "code",
        "outputId": "afdf25da-49d7-4f69-ade9-7d89d44dad26",
        "colab": {
          "base_uri": "https://localhost:8080/",
          "height": 34
        }
      },
      "source": [
        "s1 = 72\n",
        "s2 = 85\n",
        "r = (s2-s1)/s1*100\n",
        "print('%.1f %%' %r)\n"
      ],
      "execution_count": 0,
      "outputs": [
        {
          "output_type": "stream",
          "text": [
            "18.1 %\n"
          ],
          "name": "stdout"
        }
      ]
    },
    {
      "cell_type": "markdown",
      "metadata": {
        "id": "Yxe6THBEjh3d",
        "colab_type": "text"
      },
      "source": [
        "### list\n",
        "Python内置的一种数据类型是列表：list。list是一种有序的集合，可以随时添加和删除其中的元素"
      ]
    },
    {
      "cell_type": "markdown",
      "metadata": {
        "id": "DRtsPtFBjmLH",
        "colab_type": "text"
      },
      "source": [
        "*  用索引来访问list中每一个位置的元素，记得索引是从0开始的\n",
        "*  当索引超出了范围时，Python会报一个IndexError错误，所以，要确保索引不要越界，记得最后一个元素的索引是len(classmates) - 1。\n",
        "*  如果要取最后一个元素，除了计算索引位置外，还可以用-1做索引，直接获取最后一个元素"
      ]
    },
    {
      "cell_type": "markdown",
      "metadata": {
        "id": "ZXCKL_fmj9pU",
        "colab_type": "text"
      },
      "source": [
        "list是一个可变的有序表，所以，可以往list中追加元素到末尾：\n",
        "\n",
        "```\n",
        "classmates.append('Adam')\n",
        "```\n",
        "\n"
      ]
    },
    {
      "cell_type": "markdown",
      "metadata": {
        "id": "v-phaTRVlDqt",
        "colab_type": "text"
      },
      "source": [
        "把元素插入到指定的位置，比如索引号为1的位置：\n",
        "\n",
        "```\n",
        "classmates.insert(1, 'Jack')\n",
        "```\n",
        "\n"
      ]
    },
    {
      "cell_type": "markdown",
      "metadata": {
        "id": "sVzQ_rHmlPN1",
        "colab_type": "text"
      },
      "source": [
        "删除list末尾的元素，用pop()方法：\n",
        "\n",
        "\n",
        "```\n",
        "classmates.pop()\n",
        "```\n",
        "\n"
      ]
    },
    {
      "cell_type": "markdown",
      "metadata": {
        "id": "QbsxNWZklYdW",
        "colab_type": "text"
      },
      "source": [
        "删除指定位置的元素，用pop(i)方法，其中i是索引位置\n",
        "\n",
        "```\n",
        "classmates.pop(1)\n",
        "```\n",
        "\n"
      ]
    },
    {
      "cell_type": "markdown",
      "metadata": {
        "id": "sGtkELb4ldYI",
        "colab_type": "text"
      },
      "source": [
        "把某个元素替换成别的元素，可以直接赋值给对应的索引位置：\n",
        "\n",
        "\n",
        "```\n",
        "classmates[1] = 'Sarah'\n",
        "```\n",
        "\n"
      ]
    },
    {
      "cell_type": "markdown",
      "metadata": {
        "id": "egjJyAyJlnho",
        "colab_type": "text"
      },
      "source": [
        "list里面的元素的数据类型也可以不同\n",
        "\n",
        "\n",
        "```\n",
        "L = ['Apple', 123, True]\n",
        "```\n",
        "\n"
      ]
    },
    {
      "cell_type": "markdown",
      "metadata": {
        "id": "RjXAbt1alnzU",
        "colab_type": "text"
      },
      "source": [
        "list元素也可以是另一个list\n",
        "\n",
        "\n",
        "```\n",
        "s = ['python', 'java', ['asp', 'php'], 'scheme']\n",
        "```\n",
        "\n"
      ]
    },
    {
      "cell_type": "markdown",
      "metadata": {
        "id": "xwrJw230ln7A",
        "colab_type": "text"
      },
      "source": [
        "如果一个list中一个元素也没有，就是一个空的list，它的长度为0"
      ]
    },
    {
      "cell_type": "markdown",
      "metadata": {
        "id": "XkBkIpiJloAH",
        "colab_type": "text"
      },
      "source": [
        "###  tuple"
      ]
    },
    {
      "cell_type": "markdown",
      "metadata": {
        "id": "Yvyyj3eAloFI",
        "colab_type": "text"
      },
      "source": [
        "另一种有序列表叫元组：tuple。tuple和list非常类似，但是tuple一旦初始化就不能修改"
      ]
    },
    {
      "cell_type": "markdown",
      "metadata": {
        "id": "jLPYWSs1loM9",
        "colab_type": "text"
      },
      "source": [
        "不可变的tuple有什么意义？因为tuple不可变，所以代码更安全。如果可能，能用tuple代替list就尽量用tuple。"
      ]
    },
    {
      "cell_type": "markdown",
      "metadata": {
        "id": "Yfizvj-uloP_",
        "colab_type": "text"
      },
      "source": [
        "tuple的陷阱：当你定义一个tuple时，在定义的时候，tuple的元素就必须被确定下来"
      ]
    },
    {
      "cell_type": "markdown",
      "metadata": {
        "id": "jqOlUG59loIq",
        "colab_type": "text"
      },
      "source": [
        "如果要定义一个空的tuple，可以写成()"
      ]
    },
    {
      "cell_type": "markdown",
      "metadata": {
        "id": "EJI_LtXCloDN",
        "colab_type": "text"
      },
      "source": [
        "只有1个元素的tuple定义时必须加一个逗号,，来消除歧义：\n",
        "\n",
        "```\n",
        "t = (1,)\n",
        "```\n",
        "Python在显示只有1个元素的tuple时，也会加一个逗号,，以免你误解成数学计算意义上的括号。\n"
      ]
    },
    {
      "cell_type": "markdown",
      "metadata": {
        "id": "FEQPWyx3ln-R",
        "colab_type": "text"
      },
      "source": [
        "一个“可变的”tuple：\n",
        "\n",
        "\n",
        "\n",
        "```\n",
        "t = ('a', 'b', ['A', 'B'])\n",
        "t[2][0] = 'X'\n",
        "t[2][1] = 'Y'\n",
        "t\n",
        "('a', 'b', ['X', 'Y'])\n",
        "\n",
        "```\n",
        "![定义的时候tuple](https://www.liaoxuefeng.com/files/attachments/923973516787680/0)\n",
        "![替换后的tuple](https://www.liaoxuefeng.com/files/attachments/923973647515872/0)\n",
        "\n",
        "表面上看，tuple的元素确实变了，但其实变的不是tuple的元素，而是list的元素。tuple一开始指向的list并没有改成别的list，所以，tuple所谓的“不变”是说，tuple的每个元素，指向永远不变。即指向'a'，就不能改成指向'b'，指向一个list，就不能改成指向其他对象，但指向的这个list本身是可变的"
      ]
    },
    {
      "cell_type": "markdown",
      "metadata": {
        "id": "Y3BdKHcUln4m",
        "colab_type": "text"
      },
      "source": [
        "### 条件判断"
      ]
    },
    {
      "cell_type": "markdown",
      "metadata": {
        "id": "5EM_OKzbln2v",
        "colab_type": "text"
      },
      "source": [
        "计算机之所以能做很多自动化的任务，因为它可以自己做条件判断。"
      ]
    },
    {
      "cell_type": "markdown",
      "metadata": {
        "id": "WMn3HaG1npU4",
        "colab_type": "text"
      },
      "source": [
        "elif是else if的缩写，完全可以有多个elif，所以if语句的完整形式就是：\n",
        "\n",
        "\n",
        "\n",
        "```\n",
        "if <条件判断1>:\n",
        "    <执行1>\n",
        "elif <条件判断2>:\n",
        "    <执行2>\n",
        "elif <条件判断3>:\n",
        "    <执行3>\n",
        "else:\n",
        "    <执行4>\n",
        "```\n",
        "if语句执行有个特点，它是从上往下判断，如果在某个判断上是True，把该判断对应的语句执行后，就忽略掉剩下的elif和else\n"
      ]
    },
    {
      "cell_type": "markdown",
      "metadata": {
        "id": "h0oxvte0npYt",
        "colab_type": "text"
      },
      "source": [
        "if判断条件还可以简写，比如写：\n",
        "\n",
        "\n",
        "```\n",
        "if x:\n",
        "    print('True')\n",
        "```\n",
        "只要x是非零数值、非空字符串、非空list等，就判断为True，否则为False。\n"
      ]
    },
    {
      "cell_type": "markdown",
      "metadata": {
        "id": "Ont9oWivnpb0",
        "colab_type": "text"
      },
      "source": [
        "### 再议 input"
      ]
    },
    {
      "cell_type": "markdown",
      "metadata": {
        "id": "eAcVcadhnpfb",
        "colab_type": "text"
      },
      "source": [
        "input()返回的数据类型是str，str不能直接和整数比较，必须先把str转换成整数  \n",
        "Python提供了int()函数来完成这件事情："
      ]
    },
    {
      "cell_type": "markdown",
      "metadata": {
        "id": "Hb2HWz9OnpjM",
        "colab_type": "text"
      },
      "source": [
        "### 循环"
      ]
    },
    {
      "cell_type": "markdown",
      "metadata": {
        "id": "9nDAmyEonpzC",
        "colab_type": "text"
      },
      "source": [
        "为了让计算机能计算成千上万次的重复运算，我们"
      ]
    },
    {
      "cell_type": "markdown",
      "metadata": {
        "id": "EBshEhYvqnAd",
        "colab_type": "text"
      },
      "source": [
        "Python的循环有两种，一种是for...in循环，依次把list或tuple中的每个元素迭代出来"
      ]
    },
    {
      "cell_type": "code",
      "metadata": {
        "id": "EfxIJ8fzqtZx",
        "colab_type": "code",
        "outputId": "7ebe554f-3978-4bda-ee2c-bb94de9a0128",
        "colab": {
          "base_uri": "https://localhost:8080/",
          "height": 34
        }
      },
      "source": [
        "names = ['Michael', 'Bob', 'Tracy']\n",
        "for name in names:\n",
        "    print(name,end=\" \")"
      ],
      "execution_count": 0,
      "outputs": [
        {
          "output_type": "stream",
          "text": [
            "Michael Bob Tracy "
          ],
          "name": "stdout"
        }
      ]
    },
    {
      "cell_type": "markdown",
      "metadata": {
        "id": "vAUGWR30qnEP",
        "colab_type": "text"
      },
      "source": [
        "计算1-10的整数之和，可以用一个sum变量做累加："
      ]
    },
    {
      "cell_type": "code",
      "metadata": {
        "id": "2EZ4eW41q_rG",
        "colab_type": "code",
        "outputId": "f0457793-ac28-429a-a320-90e8a2aeaf00",
        "colab": {
          "base_uri": "https://localhost:8080/",
          "height": 34
        }
      },
      "source": [
        "sum = 0\n",
        "for x in [1, 2, 3, 4, 5, 6, 7, 8, 9, 10]:\n",
        "    sum +=x\n",
        "print(sum)"
      ],
      "execution_count": 0,
      "outputs": [
        {
          "output_type": "stream",
          "text": [
            "55\n"
          ],
          "name": "stdout"
        }
      ]
    },
    {
      "cell_type": "markdown",
      "metadata": {
        "id": "lrJvjH5_qnPl",
        "colab_type": "text"
      },
      "source": [
        "如果要计算1-100的整数之和，从1写到100有点困难，幸好Python提供一个range()函数，可以生成一个整数序列，再通过list()函数可以转换为list。比如range(5)生成的序列是从0开始小于5的整数：\n"
      ]
    },
    {
      "cell_type": "code",
      "metadata": {
        "id": "3ABHpps0raki",
        "colab_type": "code",
        "outputId": "0537ad55-f1f5-47ef-8f3b-1869e7b06efc",
        "colab": {
          "base_uri": "https://localhost:8080/",
          "height": 34
        }
      },
      "source": [
        " list(range(5))"
      ],
      "execution_count": 0,
      "outputs": [
        {
          "output_type": "execute_result",
          "data": {
            "text/plain": [
              "[0, 1, 2, 3, 4]"
            ]
          },
          "metadata": {
            "tags": []
          },
          "execution_count": 41
        }
      ]
    },
    {
      "cell_type": "markdown",
      "metadata": {
        "id": "emN21j4uqnUo",
        "colab_type": "text"
      },
      "source": [
        "range(101)就可以生成0-100的整数序列"
      ]
    },
    {
      "cell_type": "code",
      "metadata": {
        "id": "9plmIhQCt-hm",
        "colab_type": "code",
        "outputId": "560df371-ad0d-475d-bee5-4e7de5240493",
        "colab": {
          "base_uri": "https://localhost:8080/",
          "height": 34
        }
      },
      "source": [
        "sum = 0\n",
        "for x in range(101):\n",
        "    sum += x\n",
        "print(sum)"
      ],
      "execution_count": 0,
      "outputs": [
        {
          "output_type": "stream",
          "text": [
            "5050\n"
          ],
          "name": "stdout"
        }
      ]
    },
    {
      "cell_type": "markdown",
      "metadata": {
        "id": "yQyBioFqqnSt",
        "colab_type": "text"
      },
      "source": [
        "第二种循环是while循环，只要条件满足，就不断循环，条件不满足时退出循环。比如我们要计算100以内所有奇数之和，可以用while循环实现："
      ]
    },
    {
      "cell_type": "code",
      "metadata": {
        "id": "xfdwxa-ouQ3V",
        "colab_type": "code",
        "outputId": "a761db8f-46e0-4def-cb97-335bf56e9cc0",
        "colab": {
          "base_uri": "https://localhost:8080/",
          "height": 34
        }
      },
      "source": [
        "sum = 0\n",
        "n = 99\n",
        "while n > 0:\n",
        "    sum = sum + n\n",
        "    n = n - 2\n",
        "print(sum)"
      ],
      "execution_count": 0,
      "outputs": [
        {
          "output_type": "stream",
          "text": [
            "2500\n"
          ],
          "name": "stdout"
        }
      ]
    },
    {
      "cell_type": "markdown",
      "metadata": {
        "id": "IYIuooK1qnNW",
        "colab_type": "text"
      },
      "source": [
        "### break"
      ]
    },
    {
      "cell_type": "code",
      "metadata": {
        "id": "RSGF4xEEvbL9",
        "colab_type": "code",
        "outputId": "4606080a-e203-45d0-994f-771a69e0c14d",
        "colab": {
          "base_uri": "https://localhost:8080/",
          "height": 54
        }
      },
      "source": [
        "n = 1\n",
        "while n <= 100:\n",
        "    print(n,end=\" \")\n",
        "    n = n + 1\n",
        "print('END')"
      ],
      "execution_count": 0,
      "outputs": [
        {
          "output_type": "stream",
          "text": [
            "1 2 3 4 5 6 7 8 9 10 11 12 13 14 15 16 17 18 19 20 21 22 23 24 25 26 27 28 29 30 31 32 33 34 35 36 37 38 39 40 41 42 43 44 45 46 47 48 49 50 51 52 53 54 55 56 57 58 59 60 61 62 63 64 65 66 67 68 69 70 71 72 73 74 75 76 77 78 79 80 81 82 83 84 85 86 87 88 89 90 91 92 93 94 95 96 97 98 99 100 END\n"
          ],
          "name": "stdout"
        }
      ]
    },
    {
      "cell_type": "code",
      "metadata": {
        "id": "QJ_U7AlwvpR8",
        "colab_type": "code",
        "outputId": "c6a99e80-fd98-4ac7-b359-e036d652c7ef",
        "colab": {
          "base_uri": "https://localhost:8080/",
          "height": 34
        }
      },
      "source": [
        "n = 1\n",
        "while n <= 100:\n",
        "    if n > 10: # 当n = 11时，条件满足，执行break语句\n",
        "        break # break语句会结束当前循环\n",
        "    print(n,end=\" \")\n",
        "    n = n + 1\n",
        "print('END')"
      ],
      "execution_count": 0,
      "outputs": [
        {
          "output_type": "stream",
          "text": [
            "1 2 3 4 5 6 7 8 9 10 END\n"
          ],
          "name": "stdout"
        }
      ]
    },
    {
      "cell_type": "markdown",
      "metadata": {
        "id": "-xqdweFvqnLJ",
        "colab_type": "text"
      },
      "source": [
        "break的作用是提前结束循环"
      ]
    },
    {
      "cell_type": "markdown",
      "metadata": {
        "id": "bt-7QP02qnI9",
        "colab_type": "text"
      },
      "source": [
        "### continue"
      ]
    },
    {
      "cell_type": "markdown",
      "metadata": {
        "id": "lixBdJ81qnHD",
        "colab_type": "text"
      },
      "source": [
        "在循环过程中，也可以通过continue语句，跳过当前的这次循环，直接开始下一次循环"
      ]
    },
    {
      "cell_type": "code",
      "metadata": {
        "id": "dnYJAURqwCpR",
        "colab_type": "code",
        "outputId": "43fe794a-9953-4c79-eaaa-510f5033a004",
        "colab": {
          "base_uri": "https://localhost:8080/",
          "height": 34
        }
      },
      "source": [
        "n = 0\n",
        "while n < 10:\n",
        "    n = n + 1\n",
        "    print(n,end=\" \")"
      ],
      "execution_count": 0,
      "outputs": [
        {
          "output_type": "stream",
          "text": [
            "1 2 3 4 5 6 7 8 9 10 "
          ],
          "name": "stdout"
        }
      ]
    },
    {
      "cell_type": "markdown",
      "metadata": {
        "id": "vu-EWOFKwRo-",
        "colab_type": "text"
      },
      "source": [
        "只打印奇数，可以用continue语句跳过某些循环："
      ]
    },
    {
      "cell_type": "code",
      "metadata": {
        "id": "6UVBTGiQwT9B",
        "colab_type": "code",
        "outputId": "1075c80f-adb7-411c-ee44-1e23d509b633",
        "colab": {
          "base_uri": "https://localhost:8080/",
          "height": 34
        }
      },
      "source": [
        "n = 0\n",
        "while n < 10:\n",
        "    n = n + 1\n",
        "    if n % 2 == 0: # 如果n是偶数，执行continue语句\n",
        "        continue # continue语句会直接继续下一轮循环，后续的print()语句不会执行\n",
        "    print(n,end=\" \")"
      ],
      "execution_count": 0,
      "outputs": [
        {
          "output_type": "stream",
          "text": [
            "1 3 5 7 9 "
          ],
          "name": "stdout"
        }
      ]
    },
    {
      "cell_type": "markdown",
      "metadata": {
        "id": "I3rmh1VbwRuZ",
        "colab_type": "text"
      },
      "source": [
        "continue的作用是提前结束本轮循环，并直接开始下一轮"
      ]
    },
    {
      "cell_type": "markdown",
      "metadata": {
        "id": "ixRUnnRzwRz4",
        "colab_type": "text"
      },
      "source": [
        "### 小结"
      ]
    },
    {
      "cell_type": "markdown",
      "metadata": {
        "id": "KL0gfxpBwR6J",
        "colab_type": "text"
      },
      "source": [
        "\n",
        "\n",
        "*   break语句可以在循环过程中直接退出循环，而continue语句可以提前结束本轮循环，并直接开始下一轮循环。这两个语句通常都必须配合if语句使用。\n",
        "\n",
        "*   不要滥用break和continue语句。break和continue会造成代码执行逻辑分叉过多，容易出错。大多数循环并不需要用到break和continue语句\n",
        "*   如果代码写得有问题，会让程序陷入“死循环”，也就是永远循环下去\n",
        "\n",
        "\n"
      ]
    },
    {
      "cell_type": "markdown",
      "metadata": {
        "id": "1j_9lLigwR_-",
        "colab_type": "text"
      },
      "source": [
        "##使用dict和set"
      ]
    },
    {
      "cell_type": "markdown",
      "metadata": {
        "id": "bzpNxmdpwSFX",
        "colab_type": "text"
      },
      "source": [
        "### dict"
      ]
    },
    {
      "cell_type": "markdown",
      "metadata": {
        "id": "7WmtZADcwSDF",
        "colab_type": "text"
      },
      "source": [
        "Python内置了字典：dict的支持，dict全称dictionary，在其他语言中也称为map，使用键-值（key-value）存储，具有极快的查找速度。"
      ]
    },
    {
      "cell_type": "markdown",
      "metadata": {
        "id": "6DGSK-YuwR3V",
        "colab_type": "text"
      },
      "source": [
        "1. 通过in判断key是否存在\n",
        "2. 通过dict提供的get()方法，如果key不存在，可以返回None，或者自己指定的value\n",
        "\n",
        "```\n",
        "d.get('Thomas')\n",
        "d.get('Thomas', -1)\n",
        "```\n",
        "返回None的时候Python的交互环境不显示结果\n"
      ]
    },
    {
      "cell_type": "markdown",
      "metadata": {
        "id": "0lAQooNBwRxo",
        "colab_type": "text"
      },
      "source": [
        "删除一个key，用pop(key)方法，对应的value也会从dict中删除：\n",
        "\n",
        "```\n",
        "d.pop('Bob')\n",
        "```\n",
        "dict内部存放的顺序和key放入的顺序是没有关系的\n"
      ]
    },
    {
      "cell_type": "markdown",
      "metadata": {
        "id": "slzObKJLwRl8",
        "colab_type": "text"
      },
      "source": [
        "dict有以下几个特点：\n",
        "\n",
        "1.   查找和插入的速度极快，不会随着key的增加而变慢；\n",
        "2.   需要占用大量的内存，内存浪费多\n",
        "\n"
      ]
    },
    {
      "cell_type": "markdown",
      "metadata": {
        "id": "FitYEP870B4u",
        "colab_type": "text"
      },
      "source": [
        "list有以下几个特点：\n",
        "\n",
        "\n",
        "1.   查找和插入的时间随着元素的增加而增加；\n",
        "2.   占用空间小，浪费内存很少\n",
        "\n"
      ]
    },
    {
      "cell_type": "markdown",
      "metadata": {
        "id": "sYTTIgZe0B-1",
        "colab_type": "text"
      },
      "source": [
        "dict是用空间来换取时间的一种方法  \n",
        "dict可以用在需要高速查找的很多地方，在Python代码中几乎无处不在，正确使用dict非常重要，需要牢记的第一条就是dict的key必须是不可变对象  \n",
        "这是因为dict根据key来计算value的存储位置，如果每次计算相同的key得出的结果不同，那dict内部就完全混乱了。这个通过key计算位置的算法称为哈希算法（Hash）。\n",
        "\n",
        "要保证hash的正确性，作为key的对象就不能变。在Python中，字符串、整数等都是不可变的，因此，可以放心地作为key。"
      ]
    },
    {
      "cell_type": "markdown",
      "metadata": {
        "id": "0LKK6zoz0B1z",
        "colab_type": "text"
      },
      "source": [
        "###  set"
      ]
    },
    {
      "cell_type": "markdown",
      "metadata": {
        "id": "7mltC9bdILMu",
        "colab_type": "text"
      },
      "source": [
        "set和dict类似，也是一组key的集合，但不存储value。由于key不能重复，所以，在set中，没有重复的key。\n"
      ]
    },
    {
      "cell_type": "markdown",
      "metadata": {
        "id": "qXmbudh4IPgm",
        "colab_type": "text"
      },
      "source": [
        "创建一个set，需要提供一个list作为输入集合："
      ]
    },
    {
      "cell_type": "code",
      "metadata": {
        "id": "-7Wa0QPaIR_j",
        "colab_type": "code",
        "outputId": "04092bea-d301-4f9f-81d9-acee45be897d",
        "colab": {
          "base_uri": "https://localhost:8080/",
          "height": 34
        }
      },
      "source": [
        "s = set([1, 2, 3])\n",
        "s"
      ],
      "execution_count": 0,
      "outputs": [
        {
          "output_type": "execute_result",
          "data": {
            "text/plain": [
              "{1, 2, 3}"
            ]
          },
          "metadata": {
            "tags": []
          },
          "execution_count": 56
        }
      ]
    },
    {
      "cell_type": "markdown",
      "metadata": {
        "id": "n_Dcg5HeIPlI",
        "colab_type": "text"
      },
      "source": [
        "传入的参数`[1, 2, 3]`是一个list，而显示的{1, 2, 3}只是告诉你这个set内部有1，2，3这3个元素，显示的顺序也不表示set是有序的"
      ]
    },
    {
      "cell_type": "markdown",
      "metadata": {
        "id": "IXra6I_EIPqV",
        "colab_type": "text"
      },
      "source": [
        "重复元素在set中自动被过滤：\n",
        "\n"
      ]
    },
    {
      "cell_type": "code",
      "metadata": {
        "id": "GNzJl4L6Igw0",
        "colab_type": "code",
        "outputId": "27d9297b-280c-4bcb-c871-cc052d0b031e",
        "colab": {
          "base_uri": "https://localhost:8080/",
          "height": 34
        }
      },
      "source": [
        "s = set([1, 1, 2, 2, 3, 3])\n",
        "s"
      ],
      "execution_count": 0,
      "outputs": [
        {
          "output_type": "execute_result",
          "data": {
            "text/plain": [
              "{1, 2, 3}"
            ]
          },
          "metadata": {
            "tags": []
          },
          "execution_count": 57
        }
      ]
    },
    {
      "cell_type": "markdown",
      "metadata": {
        "id": "0rcN5WGwIk-2",
        "colab_type": "text"
      },
      "source": [
        "通过add(key)方法可以添加元素到set中，可以重复添加，但不会有效果："
      ]
    },
    {
      "cell_type": "code",
      "metadata": {
        "id": "RTHb8bDBIqkz",
        "colab_type": "code",
        "outputId": "34233552-8881-4f0f-c79c-53ad58da764c",
        "colab": {
          "base_uri": "https://localhost:8080/",
          "height": 34
        }
      },
      "source": [
        "s.add(4)\n",
        "s"
      ],
      "execution_count": 0,
      "outputs": [
        {
          "output_type": "execute_result",
          "data": {
            "text/plain": [
              "{1, 2, 3, 4}"
            ]
          },
          "metadata": {
            "tags": []
          },
          "execution_count": 58
        }
      ]
    },
    {
      "cell_type": "markdown",
      "metadata": {
        "id": "y1Cg-MB6I65T",
        "colab_type": "text"
      },
      "source": [
        "通过remove(key)方法可以删除元素："
      ]
    },
    {
      "cell_type": "markdown",
      "metadata": {
        "id": "e-FhOz3cI-Ce",
        "colab_type": "text"
      },
      "source": [
        "set可以看成数学意义上的无序和无重复元素的集合，因此，两个set可以做数学意义上的交集、并集等操作："
      ]
    },
    {
      "cell_type": "code",
      "metadata": {
        "id": "OqEdm-7HI_Ba",
        "colab_type": "code",
        "outputId": "ffc29b91-ee00-4c13-f9a0-7f6126f294dc",
        "colab": {
          "base_uri": "https://localhost:8080/",
          "height": 34
        }
      },
      "source": [
        "s1 = set([1, 2, 3])\n",
        "s2 = set([2, 3, 4])\n",
        "s1 & s2"
      ],
      "execution_count": 0,
      "outputs": [
        {
          "output_type": "execute_result",
          "data": {
            "text/plain": [
              "{2, 3}"
            ]
          },
          "metadata": {
            "tags": []
          },
          "execution_count": 59
        }
      ]
    },
    {
      "cell_type": "code",
      "metadata": {
        "id": "qkVC-K0LJFQd",
        "colab_type": "code",
        "outputId": "2c5b7e3c-03e5-41e7-866a-a944b0264856",
        "colab": {
          "base_uri": "https://localhost:8080/",
          "height": 34
        }
      },
      "source": [
        "s1 | s2"
      ],
      "execution_count": 0,
      "outputs": [
        {
          "output_type": "execute_result",
          "data": {
            "text/plain": [
              "{1, 2, 3, 4}"
            ]
          },
          "metadata": {
            "tags": []
          },
          "execution_count": 60
        }
      ]
    },
    {
      "cell_type": "markdown",
      "metadata": {
        "id": "iuszVemwJKaO",
        "colab_type": "text"
      },
      "source": [
        "set和dict的唯一区别仅在于没有存储对应的value，但是，set的原理和dict一样，所以，同样不可以放入可变对象，因为无法判断两个可变对象是否相等，也就无法保证set内部“不会有重复元素”"
      ]
    },
    {
      "cell_type": "markdown",
      "metadata": {
        "id": "18KMWhOFJKYk",
        "colab_type": "text"
      },
      "source": [
        "### 再议不可变对象"
      ]
    },
    {
      "cell_type": "markdown",
      "metadata": {
        "id": "5gabvxc-JgWB",
        "colab_type": "text"
      },
      "source": [
        "对于不变对象来说，调用对象自身的任意方法，也不会改变该对象自身的内容。相反，这些方法会创建新的对象并返回，这样，就保证了不可变对象本身永远是不可变的"
      ]
    },
    {
      "cell_type": "markdown",
      "metadata": {
        "id": "Bvxap5tKJgUK",
        "colab_type": "text"
      },
      "source": [
        "### 小结"
      ]
    },
    {
      "cell_type": "markdown",
      "metadata": {
        "id": "qu5JR5POJkQU",
        "colab_type": "text"
      },
      "source": [
        "使用key-value存储结构的dict在Python中非常有用，选择不可变对象作为key很重要，最常用的key是字符串。\n",
        "\n",
        "\n",
        "*   使用key-value存储结构的dict在Python中非常有用，选择不可变对象作为key很重要，最常用的key是字符串。\n",
        "*   tuple虽然是不变对象，但试试把(1, 2, 3)和`(1, [2, 3])`放入dict或set中，并解释结果。\n",
        "\n"
      ]
    },
    {
      "cell_type": "code",
      "metadata": {
        "id": "7hM9lYSJJ3aD",
        "colab_type": "code",
        "outputId": "0b89f565-d735-4912-97e2-12a0f8a2d41c",
        "colab": {
          "base_uri": "https://localhost:8080/",
          "height": 85
        }
      },
      "source": [
        "d = {\n",
        "    'Michael': 95,\n",
        "    'Bob': 75,\n",
        "    'Tracy': 85\n",
        "}\n",
        "print('d[\\'Michael\\'] =', d['Michael'])\n",
        "print('d[\\'Bob\\'] =', d['Bob'])\n",
        "print('d[\\'Tracy\\'] =', d['Tracy'])\n",
        "print('d.get(\\'Thomas\\', -1) =', d.get('Thomas', -1))"
      ],
      "execution_count": 0,
      "outputs": [
        {
          "output_type": "stream",
          "text": [
            "d['Michael'] = 95\n",
            "d['Bob'] = 75\n",
            "d['Tracy'] = 85\n",
            "d.get('Thomas', -1) = -1\n"
          ],
          "name": "stdout"
        }
      ]
    },
    {
      "cell_type": "markdown",
      "metadata": {
        "id": "6mIGojBtfRjf",
        "colab_type": "text"
      },
      "source": [
        "#函数"
      ]
    },
    {
      "cell_type": "markdown",
      "metadata": {
        "id": "PIRuqZt1fT17",
        "colab_type": "text"
      },
      "source": [
        "###调用函数\n",
        "函数名其实就是指向一个函数对象的引用，完全可以把函数名赋给一个变量，相当于给这个函数起了一个“别名”：  \n"
      ]
    },
    {
      "cell_type": "markdown",
      "metadata": {
        "id": "_pulrirXgnij",
        "colab_type": "text"
      },
      "source": [
        "### 定义函数  \n",
        "在Python中，定义一个函数要使用def语句，依次写出函数名、括号、括号中的参数和冒号:，然后，在缩进块中编写函数体，函数的返回值用return语句返回。  \n",
        "如果你已经把my_abs()的函数定义保存为abstest.py文件了，那么，可以在该文件的当前目录下启动Python解释器，用from abstest import my_abs来导入my_abs()函数\n",
        "\n",
        "```\n",
        "from abstest import my_abs \n",
        "```\n",
        "\n"
      ]
    },
    {
      "cell_type": "markdown",
      "metadata": {
        "id": "UCldR6QCiz3N",
        "colab_type": "text"
      },
      "source": [
        "返回多个值  \n"
      ]
    },
    {
      "cell_type": "code",
      "metadata": {
        "id": "gWWmAiTQvTgO",
        "colab_type": "code",
        "colab": {}
      },
      "source": [
        "import math\n",
        "\n",
        "def move(x, y, step, angle=0):\n",
        "    nx = x + step * math.cos(angle)\n",
        "    ny = y - step * math.sin(angle)\n",
        "    return nx, ny"
      ],
      "execution_count": 0,
      "outputs": []
    },
    {
      "cell_type": "code",
      "metadata": {
        "id": "LLwHCYg8vdhD",
        "colab_type": "code",
        "outputId": "44d6e24c-5afc-4dad-8e72-882605838689",
        "colab": {
          "base_uri": "https://localhost:8080/",
          "height": 34
        }
      },
      "source": [
        "x, y = move(100, 100, 60, math.pi / 6)\n",
        "print(x, y)"
      ],
      "execution_count": 0,
      "outputs": [
        {
          "output_type": "stream",
          "text": [
            "151.96152422706632 70.0\n"
          ],
          "name": "stdout"
        }
      ]
    },
    {
      "cell_type": "markdown",
      "metadata": {
        "id": "qU97weNovpkH",
        "colab_type": "text"
      },
      "source": [
        "Python函数返回的仍然是单一值"
      ]
    },
    {
      "cell_type": "markdown",
      "metadata": {
        "id": "VAstT0hRvuMK",
        "colab_type": "text"
      },
      "source": [
        "Python的函数返回多值其实就是返回一个tuple，但写起来更方便。\n",
        "\n"
      ]
    },
    {
      "cell_type": "markdown",
      "metadata": {
        "id": "oELCN1T0vys7",
        "colab_type": "text"
      },
      "source": [
        "小结  \n",
        "\n",
        "\n",
        "*   定义函数时，需要确定函数名和参数个数；\n",
        "*   如果有必要，可以先对参数的数据类型做检查；\n",
        "\n",
        "\n",
        "*   函数体内部可以用return随时返回函数结果；\n",
        "*   函数执行完毕也没有return语句时，自动return None。\n",
        " \n",
        "*   函数可以同时返回多个值，但其实就是一个tuple。\n",
        "\n",
        "\n",
        "\n",
        "\n",
        "\n"
      ]
    },
    {
      "cell_type": "markdown",
      "metadata": {
        "id": "lHpYl796yuZw",
        "colab_type": "text"
      },
      "source": [
        "### 位置参数\n",
        "调用函数时，传入的两个值按照位置顺序依次赋给参数 "
      ]
    },
    {
      "cell_type": "markdown",
      "metadata": {
        "id": "tZj1uK9K0ew0",
        "colab_type": "text"
      },
      "source": [
        "### 默认参数\n",
        "默认参数可以简化函数的调用。设置默认参数时，有几点要注意：\n",
        "\n",
        "*   必选参数在前，默认参数在后\n",
        "\n",
        "*   当函数有多个参数时，把变化大的参数放前面，变化小的参数放后面。变化小的参数就可以作为默认参数。  \n",
        "默认参数必须指向不变对象！\n",
        "\n"
      ]
    },
    {
      "cell_type": "markdown",
      "metadata": {
        "id": "ItnnHPCm4uAd",
        "colab_type": "text"
      },
      "source": [
        "### 可变参数  \n",
        "可变参数就是传入的参数个数是可变的，可以是1个、2个到任意个，还可以是0个。  \n",
        "定义可变参数和定义一个list或tuple参数相比，仅仅在参数前面加了一个`*`号。在函数内部，参数numbers接收到的是一个tuple，因此，函数代码完全不变。但是，调用该函数时，可以传入任意个参数，包括0个参数：\n",
        "\n",
        "Python允许你在list或tuple前面加一个`*`号，把list或tuple的元素变成可变参数传进去：  \n"
      ]
    },
    {
      "cell_type": "markdown",
      "metadata": {
        "id": "i9uUoTkt5U72",
        "colab_type": "text"
      },
      "source": [
        "### 关键字参数  \n",
        "可变参数允许你传入0个或任意个参数，这些可变参数在函数调用时自动组装为一个tuple。而关键字参数允许你传入0个或任意个含参数名的参数，这些关键字参数在函数内部自动组装为一个dict。"
      ]
    },
    {
      "cell_type": "markdown",
      "metadata": {
        "id": "DCdgmkNo69dD",
        "colab_type": "text"
      },
      "source": [
        "关键字参数可以扩展函数的功能  \n",
        "先组装出一个dict，然后，把该dict转换为关键字参数传进去：\n",
        "\n",
        "和关键字参数`**kw`不同，命名关键字参数需要一个特殊分隔符`*`，`*`后面的参数被视为命名关键字参数。\n"
      ]
    },
    {
      "cell_type": "markdown",
      "metadata": {
        "id": "rIk5m7ebEgnz",
        "colab_type": "text"
      },
      "source": [
        "### 参数组合\n",
        "在Python中定义函数，可以用必选参数、默认参数、可变参数、关键字参数和命名关键字参数，这5种参数都可以组合使用。  \n",
        "参数定义的顺序必须是：\n",
        "1. 必选参数\n",
        "2. 默认参数 \n",
        "3.可变参数 \n",
        "4. 命名关键字参数 \n",
        "5.关键字参数。  \n",
        "\n",
        "对于任意函数，都可以通过类似`func(*args, **kw)`的形式调用它，无论它的参数是如何定义的。\n",
        "\n",
        "\n",
        "```\n",
        "def product(*x):\n",
        "    if len(x)==0: raise TypeError\n",
        "    if len(x)>0:\n",
        "        s=1\n",
        "        for i in x:\n",
        "            s*=i\n",
        "        return s\n",
        "\n",
        "```\n",
        "\n"
      ]
    },
    {
      "cell_type": "markdown",
      "metadata": {
        "id": "ntyVG5TxJlS6",
        "colab_type": "text"
      },
      "source": [
        "###  递归函数  \n",
        "所有的递归函数都可以写成循环的方式，但循环的逻辑不如递归清晰  \n",
        "把循环看成是一种特殊的尾递归函数  \n",
        "尾递归是指，在函数返回的时候，调用自身本身，并且，return语句不能包含表达式。这样，编译器或者解释器就可以把尾递归做优化，使递归本身无论调用多少次，都只占用一个栈帧，不会出现栈溢出的情况"
      ]
    },
    {
      "cell_type": "code",
      "metadata": {
        "id": "EOd4BHStKeL6",
        "colab_type": "code",
        "colab": {}
      },
      "source": [
        "def fact(n):\n",
        "    return fact_iter(n, 1)\n",
        "\n",
        "def fact_iter(num, product):\n",
        "    if num == 1:\n",
        "        return product\n",
        "    return fact_iter(num - 1, num * product)\n",
        "\n"
      ],
      "execution_count": 0,
      "outputs": []
    },
    {
      "cell_type": "code",
      "metadata": {
        "id": "em0IpVsuKz34",
        "colab_type": "code",
        "outputId": "fd97454c-df64-4f00-d5fd-a6fa49f77e62",
        "colab": {
          "base_uri": "https://localhost:8080/",
          "height": 34
        }
      },
      "source": [
        "fact(5)"
      ],
      "execution_count": 0,
      "outputs": [
        {
          "output_type": "execute_result",
          "data": {
            "text/plain": [
              "120"
            ]
          },
          "metadata": {
            "tags": []
          },
          "execution_count": 11
        }
      ]
    },
    {
      "cell_type": "markdown",
      "metadata": {
        "id": "2KMX0TQ3LHKj",
        "colab_type": "text"
      },
      "source": [
        "小结\n",
        "* 使用递归函数的优点是逻辑简单清晰，缺点是过深的调用会导致栈溢出。\n",
        "\n",
        "* 针对尾递归优化的语言可以通过尾递归防止栈溢出。尾递归事实上和循环是等价的，没有循环语句的编程语言只能通过尾递归实现循环。\n",
        "\n",
        "* Python标准的解释器没有针对尾递归做优化，任何递归函数都存在栈溢出的问题。"
      ]
    },
    {
      "cell_type": "markdown",
      "metadata": {
        "id": "anU5WZAzLTzU",
        "colab_type": "text"
      },
      "source": [
        "汉诺塔的移动可以用递归函数非常简单地实现\n",
        "\n",
        "```\n",
        "def move(n, a, b, c):\n",
        "    if n == 1:\n",
        "        print(a, '-->', c)\n",
        "    else:\n",
        "        move(n-1, a, c, b)\n",
        "        move(1, a, b, c)\n",
        "        move(n-1, b, a, c)\n",
        "        \n",
        "```\n",
        "\n"
      ]
    },
    {
      "cell_type": "markdown",
      "metadata": {
        "id": "EJQh1OoEEAvX",
        "colab_type": "text"
      },
      "source": [
        "#高级特性"
      ]
    },
    {
      "cell_type": "markdown",
      "metadata": {
        "id": "GnZZ19UHEE_4",
        "colab_type": "text"
      },
      "source": [
        "代码越少，开发效率越高。"
      ]
    },
    {
      "cell_type": "markdown",
      "metadata": {
        "id": "q5_8VSc8EI2W",
        "colab_type": "text"
      },
      "source": [
        "\n",
        "\n",
        "```\n",
        "def findMinAndMax(L): \n",
        "   if len(L)==0:\n",
        "        imax=None\n",
        "        imin=None\n",
        "    else:\n",
        "        imax=L[0]\n",
        "        imin=L[-1]\n",
        "        for i in L:\n",
        "            if i<imin: imin=i\n",
        "            if i>imax: imax=i\n",
        "    return (imin,imax)\n",
        "\n",
        "```\n",
        "\n"
      ]
    },
    {
      "cell_type": "markdown",
      "metadata": {
        "id": "469bQgpXEI5W",
        "colab_type": "text"
      },
      "source": [
        "### 列表生成式\n",
        "\n",
        "\n",
        "*   把要生成的元素x * x放到前面，后面跟for循环\n",
        "\n",
        "*   for循环后面还可以加上if判\n",
        "*   使用两层循环\n",
        "\n",
        "\n",
        "*   for循环其实可以同时使用两个甚至多个变量\n",
        "\n",
        "\n",
        "\n",
        "*   把一个list中所有的字符串变成小写\n",
        "\n",
        "```\n",
        "[s.lower() for s in L]\n",
        "```\n",
        "\n",
        "\n",
        "\n",
        "***\n",
        "\n",
        "\n",
        "```\n",
        "L2 = [s.lower() for s in L1 if isinstance(s, str)==1]\n",
        "```\n",
        "\n",
        "\n"
      ]
    },
    {
      "cell_type": "markdown",
      "metadata": {
        "id": "Uu3zIDKSEI8S",
        "colab_type": "text"
      },
      "source": [
        "### 生成器"
      ]
    },
    {
      "cell_type": "markdown",
      "metadata": {
        "id": "Qal2FyydEI_8",
        "colab_type": "text"
      },
      "source": [
        "通过for循环来迭代generator\n",
        "这就是定义generator的另一种方法。如果一个函数定义中包含yield关键字，那么这个函数就不再是一个普通函数，而是一个generator  \n",
        "但是用for循环调用generator时，发现拿不到generator的return语句的返回值。如果想要拿到返回值，必须捕获StopIteration错误，返回值包含在StopIteration的value中：\n",
        "\n",
        "\n",
        "```\n",
        " g = fib(6)\n",
        ">>> while True:\n",
        "...     try:\n",
        "...         x = next(g)\n",
        "...         print('g:', x)\n",
        "...     except StopIteration as e:\n",
        "...         print('Generator return value:', e.value)\n",
        "...         break\n",
        "#获取return内容\n",
        "```\n",
        "\n",
        "杨辉三角\n",
        "\n",
        "\n",
        "```\n",
        "def triangles():\n",
        "    p = [1]       \n",
        "\n",
        "    while True:\n",
        "\n",
        "       yield p         \n",
        "\n",
        "       p =[1]+[p[x]+p[x+1] for x in range(len(p)-1)]+[1]    \n",
        "\n",
        "```\n",
        "\n"
      ]
    },
    {
      "cell_type": "markdown",
      "metadata": {
        "id": "3D5Nn_kkEJki",
        "colab_type": "text"
      },
      "source": [
        "### 迭代器\n",
        "以直接作用于for循环的数据类型有以下几种：\n",
        "\n",
        "*   一类是集合数据类型，如list、tuple、dict、set、str等\n",
        "\n",
        "*   一类是generator，包括生成器和带yield的generator function\n",
        "*   可以直接作用于for循环的对象统称为可迭代对象：Iterable\n",
        "\n",
        "生成器都是Iterator对象，但list、dict、str虽然是Iterable，却不是Iterator。  \n",
        "把list、dict、str等Iterable变成Iterator可以使用iter()函数：\n",
        "\n"
      ]
    },
    {
      "cell_type": "markdown",
      "metadata": {
        "id": "HW7qDCY4EFOQ",
        "colab_type": "text"
      },
      "source": [
        "#### 小结\n",
        "\n",
        "*   凡是可作用于for循环的对象都是Iterable类型；\n",
        "\n",
        "*   凡是可作用于next()函数的对象都是Iterator类型，它们表示一个惰性计算的序列；\n",
        "*   集合数据类型如list、dict、str等是Iterable但不是Iterator，不过可以通过iter()函数获得一个Iterator对象\n",
        "\n",
        "\n",
        "*   Python的for循环本质上就是通过不断调用next()函数实现的\n",
        "\n"
      ]
    },
    {
      "cell_type": "markdown",
      "metadata": {
        "id": "li3he_t5EPzw",
        "colab_type": "text"
      },
      "source": [
        "# 函数式编程"
      ]
    },
    {
      "cell_type": "markdown",
      "metadata": {
        "id": "3cBwFDrxEhVF",
        "colab_type": "text"
      },
      "source": [
        "### 高阶函数 \n",
        "高阶函数英文叫Higher-order function  \n",
        "函数本身也可以赋值给变量，即：变量可以指向函数  \n",
        "编写高阶函数，就是让函数的参数能够接收别的函数。"
      ]
    },
    {
      "cell_type": "markdown",
      "metadata": {
        "id": "5hSLeAUWGjao",
        "colab_type": "text"
      },
      "source": [
        "map()函数接收两个参数，一个是函数，一个是Iterable，map将传入的函数依次作用到序列的每个元素，并把结果作为新的Iterator返回。\n",
        "\n",
        "```\n",
        "def f(x):\n",
        "     return x * x\n",
        "\n",
        " r = map(f, [1, 2, 3, 4, 5, 6, 7, 8, 9])\n",
        "\n",
        "list(r)\n",
        "\n",
        "```\n",
        "\n"
      ]
    },
    {
      "cell_type": "markdown",
      "metadata": {
        "id": "FuaauocaGjh1",
        "colab_type": "text"
      },
      "source": [
        "reduce把一个函数作用在一个序列`[x1, x2, x3, ...]`上，这个函数必须接收两个参数，reduce把结果继续和序列的下一个元素做累积计算"
      ]
    },
    {
      "cell_type": "markdown",
      "metadata": {
        "id": "G9qL8sdbGjrR",
        "colab_type": "text"
      },
      "source": [
        "配合map()，我们就可以写出把str转换为int的函数  \n",
        "假设Python没有提供int()函数，你完全可以自己写一个把字符串转化为整数的函数，而且只需要几行代码！\n",
        "\n",
        "```\n",
        ">>> from functools import reduce\n",
        ">>> def fn(x, y):\n",
        "...     return x * 10 + y\n",
        "...\n",
        ">>> def char2num(s):\n",
        "...     digits = {'0': 0, '1': 1, '2': 2, '3': 3, '4': 4, '5': 5, '6': 6, '7': 7, '8': 8, '9': 9}\n",
        "...     return digits[s]\n",
        "...\n",
        "```\n",
        "\n",
        "***\n",
        "整理一下\n",
        "\n",
        "\n",
        "```\n",
        ">>> from functools import reduce\n",
        ">>> def fn(x, y):\n",
        "...     return x * 10 + y\n",
        "...\n",
        ">>> def char2num(s):\n",
        "...     digits = {'0': 0, '1': 1, '2': 2, '3': 3, '4': 4, '5': 5, '6': 6, '7': 7, '8': 8, '9': 9}\n",
        "...     return digits[s]\n",
        "...\n",
        "```\n",
        "\n"
      ]
    },
    {
      "cell_type": "markdown",
      "metadata": {
        "id": "kD3bIWg5JdZY",
        "colab_type": "text"
      },
      "source": [
        "利用map()函数，把用户输入的不规范的英文名字，变为首字母大写，其他小写的规范名字。输入：`['adam', 'LISA', 'barT']`，输出：`['Adam', 'Lisa', 'Bart']`：\n",
        "\n",
        "\n",
        "```\n",
        "def normalize(name):\n",
        "    name=name.capitalize()\n",
        "    return name\n",
        "    \n",
        "    \n",
        "L1 = ['adam', 'LISA', 'barT']\n",
        "L2 = list(map(normalize, L1))\n",
        "print(L2)\n",
        "```\n",
        "\n"
      ]
    },
    {
      "cell_type": "markdown",
      "metadata": {
        "id": "VneogJmLMYBb",
        "colab_type": "text"
      },
      "source": [
        "Python提供的sum()函数可以接受一个list并求和，请编写一个prod()函数，可以接受一个list并利用reduce()求积：\n",
        "\n",
        "\n"
      ]
    },
    {
      "cell_type": "code",
      "metadata": {
        "id": "2zwRmcoZMhNV",
        "colab_type": "code",
        "outputId": "872360a4-a82c-4be2-8852-690d84a96dc8",
        "colab": {
          "base_uri": "https://localhost:8080/",
          "height": 34
        }
      },
      "source": [
        "from functools import reduce\n",
        "def prod(L):\n",
        "    def chen(x,y):\n",
        "        return x*y\n",
        "    return reduce(chen,L)\n",
        "print('3*5*7=',prod([3,5,7]))"
      ],
      "execution_count": 0,
      "outputs": [
        {
          "output_type": "stream",
          "text": [
            "3*5*7= 105\n"
          ],
          "name": "stdout"
        }
      ]
    },
    {
      "cell_type": "markdown",
      "metadata": {
        "id": "wite4AWZOqb2",
        "colab_type": "text"
      },
      "source": [
        "利用map和reduce编写一个str2float函数，把字符串'123.456'转换成浮点数123.456"
      ]
    },
    {
      "cell_type": "code",
      "metadata": {
        "id": "JXFtCJSdOtTl",
        "colab_type": "code",
        "outputId": "ca957693-a76c-450b-eea8-2e6197f812c7",
        "colab": {
          "base_uri": "https://localhost:8080/",
          "height": 34
        }
      },
      "source": [
        "from functools import reduce\n",
        "      \n",
        "def str2float(s):\n",
        "    def fn(x,y):\n",
        "        return x*10+y\n",
        "#    n=s.index('.')\n",
        "    L=s.split('.')\n",
        "#   s1=list(map(int,[x for x in s[:n]]))\n",
        "    s1=list(map(int,[x for x in L[0]]))\n",
        "\n",
        "#   s2=list(map(int,[x for x in s[n+1:]]))\n",
        "    s2=list(map(int,[x for x in L[1]]))\n",
        "    return reduce(fn,s1) + reduce(fn,s2)/10**len(s2)\n",
        "\n",
        "\n",
        "\n",
        "\n",
        "\n",
        "             \n",
        "s=\"123.121\"\n",
        "\n",
        "str2float(s)\n",
        "# 将原始字符串数据分割为两部分\n",
        "#L = s.split('.')"
      ],
      "execution_count": 0,
      "outputs": [
        {
          "output_type": "execute_result",
          "data": {
            "text/plain": [
              "123.121"
            ]
          },
          "metadata": {
            "tags": []
          },
          "execution_count": 5
        }
      ]
    },
    {
      "cell_type": "markdown",
      "metadata": {
        "id": "LLHzUKuZXrv7",
        "colab_type": "text"
      },
      "source": [
        "### filter  \n",
        "Python内建的filter()函数用于过滤序列。\n",
        "\n",
        "*   和map()类似，filter()也接收一个函数和一个序列\n",
        "*   和map()不同的是，filter()把传入的函数依次作用于每个元素，然后根据返回值是True还是False决定保留还是丢弃该元素。\n",
        "\n",
        "\n",
        "把一个序列中的空字符串删掉\n",
        "```\n",
        "def not_empty(s):\n",
        "    return s and s.strip()\n",
        "list(filter(not_empty, ['A', '', 'B', None, 'C', '  ']))\n",
        "```\n",
        "\n",
        "filter()这个高阶函数，关键在于正确实现一个“筛选”函数  \n",
        "filter()函数返回的是一个Iterator，也就是一个惰性序列，所以要强迫filter()完成计算结果，需要用list()函数获得所有结果并返回list。\n",
        "\n",
        "\n",
        "\n"
      ]
    },
    {
      "cell_type": "markdown",
      "metadata": {
        "id": "LkJerV31bFJU",
        "colab_type": "text"
      },
      "source": [
        "### 用filter求素数  \n"
      ]
    },
    {
      "cell_type": "code",
      "metadata": {
        "id": "SOjg8LlBes_4",
        "colab_type": "code",
        "outputId": "862d81e8-df90-4b36-a5f4-b0bc59a34b12",
        "colab": {
          "base_uri": "https://localhost:8080/",
          "height": 54
        }
      },
      "source": [
        "#先构造一个从3开始的奇数序列,因为偶数肯定不是素数\n",
        "def _odd_iter():\n",
        "    n = 1\n",
        "    while True:\n",
        "        n = n + 2\n",
        "        yield n\n",
        "\n",
        "def _not_divisible(n):\n",
        "    return lambda x: x % n > 0\n",
        "def primes():\n",
        "    yield 2\n",
        "    it = _odd_iter() # 初始序列\n",
        "    while True:\n",
        "        n = next(it) # 返回序列的第一个数\n",
        "        yield n\n",
        "        it = filter(_not_divisible(n), it) # 构造新序列\n",
        "for n in primes():\n",
        "    if n < 100:\n",
        "        print(n,end=' ')\n",
        "    else:\n",
        "        break"
      ],
      "execution_count": 0,
      "outputs": [
        {
          "output_type": "stream",
          "text": [
            "2 3 5 7 11 13 17 19 23 29 31 37 41 43 47 53 59 61 67 71 73 79 83 89 97 "
          ],
          "name": "stdout"
        }
      ]
    },
    {
      "cell_type": "markdown",
      "metadata": {
        "id": "XxCn56a0iJL7",
        "colab_type": "text"
      },
      "source": [
        "回数是指从左向右读和从右向左读都是一样的数，例如12321，909。请利用filter()筛选出回数"
      ]
    },
    {
      "cell_type": "code",
      "metadata": {
        "id": "Z1mZJxLviSbe",
        "colab_type": "code",
        "colab": {}
      },
      "source": [
        "def is_palindrome(n):\n",
        "    return str(n)==(str(n))[::-1]\n",
        "output = filter(is_palindrome, range(1, 1000))\n",
        "print('1~1000:', list(output))"
      ],
      "execution_count": 0,
      "outputs": []
    },
    {
      "cell_type": "markdown",
      "metadata": {
        "id": "SAeoJPQgi0kV",
        "colab_type": "text"
      },
      "source": [
        "### 排序算法"
      ]
    },
    {
      "cell_type": "markdown",
      "metadata": {
        "id": "zR5rZ2Rki0i9",
        "colab_type": "text"
      },
      "source": [
        "sorted()函数也是一个高阶函数，它还可以接收一个key函数来实现自定义的排序，例如按绝对值大小排序：\n",
        "\n",
        "\n",
        "```\n",
        "sorted([36, 5, -12, 9, -21], key=abs)\n",
        "```\n",
        "默认情况下，对字符串排序，是按照ASCII的大小比较的，由于'Z' < 'a'，结果，大写字母Z会排在小写字母a的前面。\n"
      ]
    },
    {
      "cell_type": "markdown",
      "metadata": {
        "id": "kog2QKhCjqki",
        "colab_type": "text"
      },
      "source": [
        "要进行反向排序，不必改动key函数，可以传入第三个参数reverse=True：\n",
        "\n",
        "\n",
        "```\n",
        "sorted(['bob', 'about', 'Zoo', 'Credit'], key=str.lower, reverse=True)\n",
        "```\n",
        "\n",
        "sorted()也是一个高阶函数。用sorted()排序的关键在于实现一个映射函数。"
      ]
    },
    {
      "cell_type": "markdown",
      "metadata": {
        "id": "_mJ5AOMgk2gQ",
        "colab_type": "text"
      },
      "source": [
        "\n",
        "\n",
        "假设我们用一组tuple表示学生名字和成绩：\n",
        "```\n",
        "L = [('Bob', 75), ('Adam', 92), ('Bart', 66), ('Lisa', 88)]\n",
        "```\n",
        "请用sorted()对上述列表分别按名字排序：\n",
        "\n",
        "```\n",
        "# 此内容为代码格式\n",
        "```\n",
        "\n",
        "\n"
      ]
    },
    {
      "cell_type": "code",
      "metadata": {
        "id": "PhDdKBFKk_4W",
        "colab_type": "code",
        "outputId": "582ee2a6-c782-47e6-8f3f-16162aca8510",
        "colab": {
          "base_uri": "https://localhost:8080/",
          "height": 34
        }
      },
      "source": [
        "L = [('Bob', 75), ('Adam', 92), ('Bart', 66), ('Lisa', 88)]\n",
        "def by_name(t):\n",
        "    return t[0]\n",
        "L2 = sorted(L, key=by_name)\n",
        "print(L2)"
      ],
      "execution_count": 0,
      "outputs": [
        {
          "output_type": "stream",
          "text": [
            "[('Adam', 92), ('Bart', 66), ('Bob', 75), ('Lisa', 88)]\n"
          ],
          "name": "stdout"
        }
      ]
    },
    {
      "cell_type": "code",
      "metadata": {
        "id": "4CImZzpClJ44",
        "colab_type": "code",
        "outputId": "db53a119-ea06-44b3-fb02-c60236fa4c39",
        "colab": {
          "base_uri": "https://localhost:8080/",
          "height": 34
        }
      },
      "source": [
        "#再按成绩从高到低排序：\n",
        "def by_score(t):\n",
        "    return -t[1]\n",
        "L3 = sorted(L, key=by_score)\n",
        "print(L3)"
      ],
      "execution_count": 0,
      "outputs": [
        {
          "output_type": "stream",
          "text": [
            "[('Adam', 92), ('Lisa', 88), ('Bob', 75), ('Bart', 66)]\n"
          ],
          "name": "stdout"
        }
      ]
    },
    {
      "cell_type": "markdown",
      "metadata": {
        "id": "_TPCTuuglhyf",
        "colab_type": "text"
      },
      "source": [
        "###  返回函数\n",
        "高阶函数除了可以接受函数作为参数外，还可以把函数作为结果值返回。"
      ]
    },
    {
      "cell_type": "markdown",
      "metadata": {
        "id": "kMh0p4XemeFW",
        "colab_type": "text"
      },
      "source": [
        "#### 闭包\n",
        "返回函数不要引用任何循环变量，或者后续会发生变化的变量。"
      ]
    },
    {
      "cell_type": "markdown",
      "metadata": {
        "id": "lthKPKi3oCNY",
        "colab_type": "text"
      },
      "source": [
        "利用闭包返回一个计数器函数，每次调用它返回递增整数："
      ]
    },
    {
      "cell_type": "code",
      "metadata": {
        "id": "dM6VDmTxoEAs",
        "colab_type": "code",
        "colab": {}
      },
      "source": [
        "def createCounter():\n",
        "    l = [0]\n",
        "    def counter():\n",
        "        l[0] += 1\n",
        "        return l[0]\n",
        "    return counter\n",
        " "
      ],
      "execution_count": 0,
      "outputs": []
    },
    {
      "cell_type": "markdown",
      "metadata": {
        "id": "eu2jemshpnwd",
        "colab_type": "text"
      },
      "source": [
        "###  匿名函数\n",
        "当我们在传入函数时，有些时候，不需要显式地定义函数，直接传入匿名函数更方便"
      ]
    },
    {
      "cell_type": "markdown",
      "metadata": {
        "id": "R-Y-zeXZpnvR",
        "colab_type": "text"
      },
      "source": [
        "在Python中，对匿名函数提供了有限支持。还是以map()函数为例，计算f(x)=x2时，除了定义一个f(x)的函数外，还可以直接传入匿名函数："
      ]
    },
    {
      "cell_type": "markdown",
      "metadata": {
        "id": "z8IVrx9Qpw60",
        "colab_type": "text"
      },
      "source": [
        "大名鼎鼎的 lambda 终于脱下了他神秘的外衣"
      ]
    },
    {
      "cell_type": "markdown",
      "metadata": {
        "id": "L2G6t4ouqdeN",
        "colab_type": "text"
      },
      "source": [
        "### 装饰器\n",
        "*  由于函数也是一个对象，而且函数对象可以被赋值给变量，所以，通过变量也能调用该函数。\n",
        "\n",
        "*  函数对象有一个__name__属性，可以拿到函数的名字：\n",
        "\n",
        "*  在代码运行期间动态增加功能的方式，称之为“装饰器”（Decorator）。\n",
        "\n",
        "*  decorator就是一个返回函数的高阶函数\n",
        "\n",
        "\n",
        "\n",
        "```\n",
        "def log(func):\n",
        "    def wrapper(*args, **kw):\n",
        "        print('call %s():' % func.__name__)\n",
        "        return func(*args, **kw)\n",
        "    return wrapper\n",
        "```\n",
        "Python的@语法\n"
      ]
    },
    {
      "cell_type": "markdown",
      "metadata": {
        "id": "s4odGa2rsjxr",
        "colab_type": "text"
      },
      "source": [
        "一个完整的decorator的写法如下  \n",
        "\n",
        "\n",
        "```\n",
        "import functools\n",
        "\n",
        "def log(func):\n",
        "    @functools.wraps(func)\n",
        "    def wrapper(*args, **kw):\n",
        "        print('call %s():' % func.__name__)\n",
        "        return func(*args, **kw)\n",
        "    return wrapper\n",
        "```\n",
        "\n",
        "针对带参数的decorator：\n",
        "\n",
        "\n",
        "\n",
        "```\n",
        "import functools\n",
        "\n",
        "def log(text):\n",
        "    def decorator(func):\n",
        "        @functools.wraps(func)\n",
        "        def wrapper(*args, **kw):\n",
        "            print('%s %s():' % (text, func.__name__))\n",
        "            return func(*args, **kw)\n",
        "        return wrapper\n",
        "    return decorator\n",
        "```\n",
        "**`在定义wrapper()的前面加上@functools.wraps(func)`**"
      ]
    },
    {
      "cell_type": "markdown",
      "metadata": {
        "id": "9V6fA7gxtJ3a",
        "colab_type": "text"
      },
      "source": [
        "请设计一个decorator，它可作用于任何函数上，并打印该函数的执行时间："
      ]
    },
    {
      "cell_type": "code",
      "metadata": {
        "id": "MD7IeoPCvcqU",
        "colab_type": "code",
        "colab": {}
      },
      "source": [
        "import time, functools\n",
        "def metric(fn):\n",
        "\n",
        "    def wrapper(*args):\n",
        "\n",
        "        start = time.time()\n",
        "\n",
        "        res = fn(*args)\n",
        "\n",
        "        end =  time.time()\n",
        "\n",
        "        print('%s executed in %s ms' % (fn.__name__, end - start))\n",
        "\n",
        "        return res\n",
        "\n",
        "    return wrapper"
      ],
      "execution_count": 0,
      "outputs": []
    },
    {
      "cell_type": "markdown",
      "metadata": {
        "id": "c85Ljv8QwUXi",
        "colab_type": "text"
      },
      "source": [
        "### 偏函数 （Partial function）"
      ]
    },
    {
      "cell_type": "markdown",
      "metadata": {
        "id": "dlr39pFgxCJB",
        "colab_type": "text"
      },
      "source": [
        "int()函数还提供额外的base参数，默认值为10。如果传入base参数，就可以做N进制的转换"
      ]
    },
    {
      "cell_type": "markdown",
      "metadata": {
        "id": "rlZyyM6PxCM5",
        "colab_type": "text"
      },
      "source": [
        "要转换大量的二进制字符串，每次都传入int(x, base=2)非常麻烦，于是，我们想到，可以定义一个int2()的函数，默认把base=2传进去：\n",
        "\n",
        "\n",
        "```\n",
        "def int2(x, base=2):\n",
        "    return int(x, base)\n",
        "```\n",
        "\n"
      ]
    },
    {
      "cell_type": "markdown",
      "metadata": {
        "id": "oG7LQnlXxN3z",
        "colab_type": "text"
      },
      "source": [
        "functools.partial就是帮助我们创建一个偏函数的，不需要我们自己定义int2()，可以直接使用下面的代码创建一个新的函数int2：\n",
        "\n",
        "```\n",
        ">>> import functools\n",
        ">>> int2 = functools.partial(int, base=2)\n",
        "```\n",
        "创建偏函数时，实际上可以接收函数对象、`*args`和`**kw这3个参数`\n",
        "\n",
        "当函数的参数个数太多，需要简化时，使用functools.partial可以创建一个新的函数，这个新函数可以固定住原函数的部分参数，从而在调用时更简单。\n",
        "*** \n",
        "***"
      ]
    },
    {
      "cell_type": "markdown",
      "metadata": {
        "id": "-VWnSkjShR8c",
        "colab_type": "text"
      },
      "source": [
        "# 模块"
      ]
    },
    {
      "cell_type": "markdown",
      "metadata": {
        "id": "XW0Ux4JIhSLv",
        "colab_type": "text"
      },
      "source": [
        "为了编写可维护的代码，我们把很多函数分组，分别放到不同的文件里，这样，每个文件包含的代码就相对较少。在Python中，一个.py文件就称之为一个模块（Module）。"
      ]
    },
    {
      "cell_type": "markdown",
      "metadata": {
        "id": "i7Elpgwfhiwn",
        "colab_type": "text"
      },
      "source": [
        "使用模块好处：\n",
        "\n",
        "\n",
        "*   大大提高了代码的可维护性\n",
        "*   避免函数名和变量名冲突\n",
        "\n",
        "[python内置函数](https://docs.python.org/3/library/functions.html)\n",
        "\n"
      ]
    },
    {
      "cell_type": "markdown",
      "metadata": {
        "id": "CYcED7DkiIHf",
        "colab_type": "text"
      },
      "source": [
        "Python又引入了按目录来组织模块的方法----包（Package）  \n",
        "一个abc.py的文件就是一个名字叫abc的模块，一个xyz.py的文件就是一个名字叫xyz的模块。  \n"
      ]
    },
    {
      "cell_type": "markdown",
      "metadata": {
        "id": "y5cyZkLPiINo",
        "colab_type": "text"
      },
      "source": [
        "假设我们的abc和xyz这两个模块名字与其他模块冲突了，于是我们可以通过包来组织模块，避免冲突。方法是选择一个顶层包名，比如mycompany，按照如下目录存放  \n",
        "```\n",
        "mycompany\n",
        "├─ __init__.py\n",
        "├─ abc.py\n",
        "└─ xyz.py\n",
        "    \n",
        "```\n",
        "只要顶层的包名不与别人冲突，那所有模块都不会与别人冲突。现在，abc.py模块的名字就变成了mycompany.abc，类似的，xyz.py的模块名变成了mycompany.xyz。\n",
        "\n",
        "每一个包目录下面都会有一个__init__.py的文件，这个文件是必须存在的，否则，Python就把这个目录当成普通目录，而不是一个包。\n",
        "\n",
        "可以有多级目录，组成多级层次的包结构。比如如下的目录结构：\n",
        "\n",
        "\n",
        "\n",
        "```\n",
        "mycompany\n",
        " ├─ web\n",
        " │  ├─ __init__.py\n",
        " │  ├─ utils.py\n",
        " │  └─ www.py\n",
        " ├─ __init__.py\n",
        " ├─ abc.py\n",
        " └─ xyz.py\n",
        "```\n",
        "\n"
      ]
    },
    {
      "cell_type": "markdown",
      "metadata": {
        "id": "z0a5VN8EiIRC",
        "colab_type": "text"
      },
      "source": [
        "### 使用模块"
      ]
    },
    {
      "cell_type": "markdown",
      "metadata": {
        "id": "MCSD0JJLiIWt",
        "colab_type": "text"
      },
      "source": [
        "Python本身就内置了很多非常有用的模块，只要安装完毕，这些模块就可以立刻使用。"
      ]
    },
    {
      "cell_type": "markdown",
      "metadata": {
        "id": "l_Jq7iMPiIT7",
        "colab_type": "text"
      },
      "source": [
        "Python模块的标准文件模板  \n",
        "自建模块"
      ]
    },
    {
      "cell_type": "markdown",
      "metadata": {
        "id": "OhSoQSawiIZM",
        "colab_type": "text"
      },
      "source": [
        "### 作用域"
      ]
    },
    {
      "cell_type": "markdown",
      "metadata": {
        "id": "WcGd2t6UiIbz",
        "colab_type": "text"
      },
      "source": [
        "在一个模块中，我们可能会定义很多函数和变量，但有的函数和变量我们希望给别人使用，有的函数和变量我们希望仅仅在模块内部使用。在Python中，是通过_前缀来实现的"
      ]
    },
    {
      "cell_type": "markdown",
      "metadata": {
        "id": "cZa9BSt0iIeZ",
        "colab_type": "text"
      },
      "source": [
        "* 正常的函数和变量名是公开的（public），可以被直接引用，比如：abc，x123，PI等"
      ]
    },
    {
      "cell_type": "markdown",
      "metadata": {
        "id": "5nqgZMIiiIhU",
        "colab_type": "text"
      },
      "source": [
        "* 类似`__xxx__`这样的变量是特殊变量，可以被直接引用，但是有特殊用途，比如上面的`__author__`，`__name__`就是特殊变量  \n",
        "\n",
        "* 类似_xxx和` `内嵌代码`__xxx`这样的函数或变量就是非公开的（private），不应该被直接引用，比如_abc，`__abc`等；"
      ]
    },
    {
      "cell_type": "markdown",
      "metadata": {
        "id": "VuYPit_hiIj8",
        "colab_type": "text"
      },
      "source": [
        "Python并没有一种方法可以完全限制访问private函数或变量 ，从编程习惯上不应该引用private函数或变量。"
      ]
    },
    {
      "cell_type": "markdown",
      "metadata": {
        "id": "iX93bGaFiIof",
        "colab_type": "text"
      },
      "source": [
        "private函数或变量 \n",
        "\n",
        "```\n",
        "def _private_1(name):\n",
        "    return 'Hello, %s' % name\n",
        "\n",
        "def _private_2(name):\n",
        "    return 'Hi, %s' % name\n",
        "\n",
        "def greeting(name):\n",
        "    if len(name) > 3:\n",
        "        return _private_1(name)\n",
        "    else:\n",
        "        return _private_2(name)\n",
        "```\n",
        "\n",
        "在模块里公开greeting()函数，而把内部逻辑用private函数隐藏起来了，这样，调用greeting()函数不用关心内部的private函数细节  \n",
        "\n"
      ]
    },
    {
      "cell_type": "markdown",
      "metadata": {
        "id": "9wG8yFkLiIrd",
        "colab_type": "text"
      },
      "source": [
        "在模块里公开greeting()函数，而把内部逻辑用private函数隐藏起来了，这样，调用greeting()函数不用关心内部的private函数细节  \n",
        "\n",
        "外部不需要引用的函数全部定义成private，只有外部需要引用的函数才定义为public。"
      ]
    },
    {
      "cell_type": "markdown",
      "metadata": {
        "id": "y6ISlB1oiIGI",
        "colab_type": "text"
      },
      "source": [
        "### 安装第三方模块"
      ]
    },
    {
      "cell_type": "markdown",
      "metadata": {
        "id": "xym9FaPAx5iL",
        "colab_type": "text"
      },
      "source": [
        "在Python中，安装第三方模块，是通过包管理工具pip完成的"
      ]
    },
    {
      "cell_type": "markdown",
      "metadata": {
        "id": "UjGqQeBkx5rM",
        "colab_type": "text"
      },
      "source": [
        "第三方库都会在Python官方的pypi.python.org网站注册，Pillow的名称叫Pillow，安装Pillow的命令就是：\n",
        "\n",
        "\n",
        "```\n",
        "pip install Pillow\n",
        "```\n",
        "\n"
      ]
    },
    {
      "cell_type": "markdown",
      "metadata": {
        "id": "_RM9ECcJx5wY",
        "colab_type": "text"
      },
      "source": [
        "推荐[Anaconda](https://www.anaconda.com/)"
      ]
    },
    {
      "cell_type": "markdown",
      "metadata": {
        "id": "Muzg63nux5zF",
        "colab_type": "text"
      },
      "source": [
        "要添加自己的搜索目录，有两种方法\n",
        "\n",
        "\n",
        "1.   一是直接修改sys.path，添加要搜索的目录：\n",
        "\n",
        "```\n",
        ">>> import sys\n",
        ">>> sys.path.append('/Users/michael/my_py_scripts')\n",
        "#运行时修改，运行结束后失效\n",
        "```\n",
        "\n",
        "\n",
        "2.   设置环境变量PYTHONPATH\n",
        "\n"
      ]
    },
    {
      "cell_type": "markdown",
      "metadata": {
        "id": "lJiyvXaXx5uc",
        "colab_type": "text"
      },
      "source": [
        "*** \n",
        "***"
      ]
    },
    {
      "cell_type": "markdown",
      "metadata": {
        "id": "ghVUdzRW94G4",
        "colab_type": "text"
      },
      "source": [
        "#  面向对象编程"
      ]
    },
    {
      "cell_type": "markdown",
      "metadata": {
        "id": "tccYDffF96VF",
        "colab_type": "text"
      },
      "source": [
        "面向对象编程——Object Oriented Programming，简称OOP，是一种程序设计思想。OOP把对象作为程序的基本单元，一个对象包含了数据和操作数据的函数。"
      ]
    },
    {
      "cell_type": "markdown",
      "metadata": {
        "id": "-4SPrNhE96eO",
        "colab_type": "text"
      },
      "source": [
        "在Python中，所有数据类型都可以视为对象，当然也可以自定义对象。自定义的对象数据类型就是面向对象中的类（Class）的概念。"
      ]
    },
    {
      "cell_type": "markdown",
      "metadata": {
        "id": "ZN9BCmBJ96gr",
        "colab_type": "text"
      },
      "source": [
        "要处理学生的成绩表，为了表示一个学生的成绩，面向过程的程序可以用一个dict表示：\n",
        "\n",
        "```\n",
        "std1 = { 'name': 'Michael', 'score': 98 }\n",
        "std2 = { 'name': 'Bob', 'score': 81 }\n",
        "```\n",
        "处理学生成绩可以通过函数实现，比如打印学生的成绩：\n",
        "\n",
        "```\n",
        "def print_score(std):\n",
        "    print('%s: %s' % (std['name'], std['score']))\n",
        "```\n",
        "\n",
        "\n"
      ]
    },
    {
      "cell_type": "markdown",
      "metadata": {
        "id": "E96jBXib96lo",
        "colab_type": "text"
      },
      "source": [
        "如果采用面向对象的程序设计思想，是Student这种数据类型应该被视为一个对象，这个对象拥有name和score这两个属性（Property）。  \n",
        "如果要打印一个学生的成绩，首先必须创建出这个学生对应的对象，然后，给对象发一个print_score消息，让对象自己把自己的数据打印出来。\n",
        "\n",
        "```\n",
        "class Student(object):\n",
        "\n",
        "    def __init__(self, name, score):\n",
        "        self.name = name\n",
        "        self.score = score\n",
        "\n",
        "    def print_score(self):\n",
        "        print('%s: %s' % (self.name, self.score))\n",
        "```\n",
        "给对象发消息实际上就是调用对象对应的关联函数，我们称之为对象的方法（Method）。面向对象的程序写出来就像这样：\n",
        "\n",
        "\n",
        "```\n",
        "bart = Student('Bart Simpson', 59)\n",
        "lisa = Student('Lisa Simpson', 87)\n",
        "bart.print_score()\n",
        "lisa.print_score()\n",
        "```\n",
        "\n",
        "\n",
        "* 面向对象的设计思想是抽象出Class，根据Class创建Instance。\n",
        "\n",
        "* 面向对象的抽象程度又比函数要高，因为一个Class既包含数据，又包含操作数据的方法。"
      ]
    },
    {
      "cell_type": "markdown",
      "metadata": {
        "id": "dIlYwxmI96qW",
        "colab_type": "text"
      },
      "source": [
        "### 类和实例\n",
        "面向对象最重要的概念就是类（Class）和实例（Instance），必须牢记类是抽象的模板，比如Student类，而实例是根据类创建出来的一个个具体的“对象”，每个对象都拥有相同的方法，但各自的数据可能不同。\n",
        "\n",
        "在Python中，定义类是通过class关键字：\n",
        "\n",
        "```\n",
        "class Student(object):\n",
        "    pass\n",
        "```\n",
        "class后面紧接着是类名，即Student，类名通常是大写开头的单词，紧接着是(object)，表示该类是从哪个类继承下来的，继承的概念我们后面再讲，通常，如果没有合适的继承类，就使用object类，这是所有类最终都会继承的类。\n"
      ]
    },
    {
      "cell_type": "markdown",
      "metadata": {
        "id": "tcDkWUj-96vm",
        "colab_type": "text"
      },
      "source": [
        "定义好了Student类，就可以根据Student类创建出Student的实例，创建实例是通过类名+()实现的：  \n",
        "\n",
        "\n",
        "```\n",
        ">>> bart = Student()\n",
        ">>> bart\n",
        "<__main__.Student object at 0x10a67a590>\n",
        ">>> Student\n",
        "<class '__main__.Student'>\n",
        "```\n",
        "\n",
        "变量bart指向的就是一个Student的实例，后面的0x10a67a590是内存地址，每个object的地址都不一样，而Student本身则是一个类\n",
        "\n",
        "可以自由地给一个实例变量绑定属性，比如，给实例bart绑定一个name属性：\n",
        "\n",
        "```\n",
        ">>> bart.name = 'Bart Simpson'\n",
        ">>> bart.name\n",
        "'Bart Simpson'\n",
        "```\n",
        "\n",
        "类可以起到模板的作用，因此，可以在创建实例的时候，把一些我们认为必须绑定的属性强制填写进去。通过定义一个特殊的`__init__`方法，在创建实例的时候，就把name，score等属性绑上去：\n",
        "\n",
        "```\n",
        "class Student(object):\n",
        "\n",
        "    def __init__(self, name, score):\n",
        "        self.name = name\n",
        "        self.score = score\n",
        "```\n",
        "注意到`__init__`方法的第一个参数永远是self，表示创建的实例本身，因此，在_`_init__`方法内部，就可以把各种属性绑定到self，因为self就指向创建的实例本身。\n",
        "\n",
        "\n",
        "有了`__init__`方法，在创建实例的时候，就不能传入空的参数了，必须传入与`__init__`方法匹配的参数，但self不需要传，Python解释器自己会把实例变量传进去：\n",
        "\n",
        "\n",
        "\n",
        "```\n",
        ">>> bart = Student('Bart Simpson', 59)\n",
        ">>> bart.name\n",
        "'Bart Simpson'\n",
        ">>> bart.score\n",
        "59\n",
        "```\n",
        "和普通的函数相比，在类中定义的函数只有一点不同，就是第一个参数永远是实例变量self，并且，调用时，不用传递该参数。除此之外，类的方法和普通函数没有什么区别，所以，你仍然可以用默认参数、可变参数、关键字参数和命名关键字参数。\n"
      ]
    },
    {
      "cell_type": "markdown",
      "metadata": {
        "id": "w0ujx2gI964v",
        "colab_type": "text"
      },
      "source": [
        "### 数据封装\n",
        "面向对象编程的一个重要特点就是数据封装。在上面的Student类中，每个实例就拥有各自的name和score这些数据。我们可以通过函数来访问这些数据.\n",
        "\n",
        "\n",
        "```\n",
        ">>> def print_score(std):\n",
        "...     print('%s: %s' % (std.name, std.score))\n",
        "...\n",
        ">>> print_score(bart)\n",
        "Bart Simpson: 59\n",
        "```\n",
        "\n"
      ]
    },
    {
      "cell_type": "markdown",
      "metadata": {
        "id": "NQC7OE1A968F",
        "colab_type": "text"
      },
      "source": [
        "类的方法:直接在Student类的内部定义访问数据的函数，这样，就把“数据”给封装起来了。这些封装数据的函数是和Student类本身是关联起来的\n",
        "\n",
        "```\n",
        "class Student(object):\n",
        "\n",
        "    def __init__(self, name, score):\n",
        "        self.name = name\n",
        "        self.score = score\n",
        "\n",
        "    def print_score(self):\n",
        "        print('%s: %s' % (self.name, self.score))\n",
        "```\n",
        "\n",
        "调用方法：\n",
        "\n",
        "\n",
        "```\n",
        ">>> bart.print_score()\n",
        "Bart Simpson: 59\n",
        "```\n",
        "\n",
        "从外部看Student类，就只需要知道，创建实例需要给出name和score，而如何打印，都是在Student类的内部定义的，这些数据和逻辑被“封装”起来了，调用很容易，但却不用知道内部实现的细节。\n",
        "\n"
      ]
    },
    {
      "cell_type": "markdown",
      "metadata": {
        "id": "6QonvwYm96_T",
        "colab_type": "text"
      },
      "source": [
        "封装的另一个好处是可以给Student类增加新的方法，比如get_grade：\n",
        "\n",
        "```\n",
        "class Student(object):\n",
        "    ...\n",
        "\n",
        "    def get_grade(self):\n",
        "        if self.score >= 90:\n",
        "            return 'A'\n",
        "        elif self.score >= 60:\n",
        "            return 'B'\n",
        "        else:\n",
        "            return 'C'\n",
        "```\n",
        "get_grade方法可以直接在实例变量上调用，不需要知道内部实现细节  \n",
        "\n",
        "\n",
        "```\n",
        "class Student(object):\n",
        "    def __init__(self, name, score):\n",
        "        self.name = name\n",
        "        self.score = score\n",
        "\n",
        "    def get_grade(self):\n",
        "        if self.score >= 90:\n",
        "            return 'A'\n",
        "        elif self.score >= 60:\n",
        "            return 'B'\n",
        "        else:\n",
        "            return 'C'\n",
        "```\n",
        "\n",
        "***\n",
        "\n",
        "\n",
        "```\n",
        "# 结果\n",
        "lisa = Student('Lisa', 99)\n",
        "bart = Student('Bart', 59)\n",
        "print(lisa.name, lisa.get_grade())\n",
        "print(bart.name, bart.get_grade())\n",
        "```\n",
        "\n",
        "\n"
      ]
    },
    {
      "cell_type": "markdown",
      "metadata": {
        "id": "lduZtETv97DP",
        "colab_type": "text"
      },
      "source": [
        "#### 小结\n",
        "\n",
        "\n",
        "*   类是创建实例的模板，而实例则是一个一个具体的对象，各个实例拥有的数据都互相独立，互不影响；\n",
        "\n",
        "*   方法就是与实例绑定的函数，和普通函数不同，方法可以直接访问实例的数据；\n",
        "*   通过在实例上调用方法，我们就直接操作了对象内部的数据，但无需知道方法内部的实现细节。\n",
        "\n",
        "\n",
        "*   和静态语言不同，Python允许对实例变量绑定任何数据，也就是说，对于两个实例变量，虽然它们都是同一个类的不同实例，但拥有的变量名称都可能不同\n",
        "\n"
      ]
    },
    {
      "cell_type": "markdown",
      "metadata": {
        "id": "x0pV3ita97RV",
        "colab_type": "text"
      },
      "source": [
        "### 访问限制"
      ]
    },
    {
      "cell_type": "markdown",
      "metadata": {
        "id": "0y_LlRGa97Ux",
        "colab_type": "text"
      },
      "source": [
        "在Class内部，可以有属性和方法，而外部代码可以通过直接调用实例变量的方法来操作数据，这样，就隐藏了内部的复杂逻辑。"
      ]
    },
    {
      "cell_type": "markdown",
      "metadata": {
        "id": "aBIwDp_O979D",
        "colab_type": "text"
      },
      "source": [
        "从前面Student类的定义来看，外部代码还是可以自由地修改一个实例的name、score属性"
      ]
    },
    {
      "cell_type": "markdown",
      "metadata": {
        "id": "mEyc72oI98Gg",
        "colab_type": "text"
      },
      "source": [
        "如果要让内部属性不被外部访问，可以把属性的名称前加上两个下划线__，在Python中，实例的变量名如果以__开头，就变成了一个私有变量（private），只有内部可以访问，外部不能访问，所以，我们把Student类改一改："
      ]
    },
    {
      "cell_type": "code",
      "metadata": {
        "id": "DsL7TDRvGgIP",
        "colab_type": "code",
        "colab": {}
      },
      "source": [
        "class Student(object):\n",
        "\n",
        "    def __init__(self, name, score):\n",
        "        self.__name = name\n",
        "        self.__score = score\n",
        "\n",
        "    def print_score(self):\n",
        "        print('%s: %s' % (self.__name, self.__score))"
      ],
      "execution_count": 0,
      "outputs": []
    },
    {
      "cell_type": "markdown",
      "metadata": {
        "id": "Xj7iprvg98Tg",
        "colab_type": "text"
      },
      "source": [
        "改完后，对于外部代码来说，没什么变动，但是已经无法从外部访问实例变量.`__name`和实例变量.`__score`了  \n",
        "确保了外部代码不能随意修改对象内部的状态，这样通过访问限制的保护，代码更加健壮。  \n",
        "如果外部代码要获取name和score怎么办？可以给Student类增加get_name和get_score这样的方法：\n",
        "\n",
        "```\n",
        "class Student(object):\n",
        "    ...\n",
        "\n",
        "    def get_name(self):\n",
        "        return self.__name\n",
        "\n",
        "    def get_score(self):\n",
        "        return self.__score\n",
        "```\n",
        "\n",
        "又要允许外部代码修改score怎么办？可以再给Student类增加set_score方法\n",
        "\n",
        "```\n",
        "class Student(object):\n",
        "    ...\n",
        "\n",
        "    def set_score(self, score):\n",
        "        self.__score = score\n",
        "```\n",
        "**在方法中，可以对参数做检查，避免传入无效的参数**  \n",
        "\n",
        "\n",
        "```\n",
        "class Student(object):\n",
        "    ...\n",
        "\n",
        "    def set_score(self, score):\n",
        "        if 0 <= score <= 100:\n",
        "            self.__score = score\n",
        "        else:\n",
        "            raise ValueError('bad score')\n",
        "```\n",
        "\n",
        "不能直接访问`__name`是因为Python解释器对外把`__name`变量改成了`_Student__name`，所以，仍然可以通过`_Student__name`来访问`__name`变量：\n",
        "\n",
        "\n",
        "```\n",
        "bart._Student__name\n",
        "'Bart Simpson'\n",
        "```\n",
        "\n",
        "不同版本的Python解释器可能会把__name改成不同的变量名。  \n",
        "Python本身没有任何机制阻止你干坏事，一切全靠自觉  \n",
        "最后注意下面的这种**错误写法**：\n",
        "\n",
        "\n",
        "```\n",
        "最后注意下面的这种错误写法：\n",
        "\n",
        ">>> bart = Student('Bart Simpson', 59)\n",
        ">>> bart.get_name()\n",
        "'Bart Simpson'\n",
        ">>> bart.__name = 'New Name' # 设置__name变量！\n",
        ">>> bart.__name\n",
        "'New Name'\n",
        "```\n",
        "\n"
      ]
    },
    {
      "cell_type": "code",
      "metadata": {
        "id": "HI5vhFMpOmfg",
        "colab_type": "code",
        "colab": {}
      },
      "source": [
        "class Student(object):\n",
        "    def __init__(self, name, gender):\n",
        "        self.__name = name\n",
        "        self.__gender = gender\n",
        "    def get_gender(self)\n",
        "        return self.__gender\n",
        "    def set_gender(self, gender):\n",
        "        if gender==male or gender==female\n",
        "            self.__gender=gender  \n",
        "        return self.__gender"
      ],
      "execution_count": 0,
      "outputs": []
    },
    {
      "cell_type": "markdown",
      "metadata": {
        "id": "JXZYPPK096t2",
        "colab_type": "text"
      },
      "source": [
        "### 继承和多态"
      ]
    },
    {
      "cell_type": "markdown",
      "metadata": {
        "id": "PIpEBfpF96om",
        "colab_type": "text"
      },
      "source": [
        "当我们定义一个class的时候，可以从某个现有的class继承，新的class称为子类（Subclass），而被继承的class称为基类、父类或超类（Base class、Super class）。"
      ]
    },
    {
      "cell_type": "markdown",
      "metadata": {
        "id": "P0g-uSPP96jo",
        "colab_type": "text"
      },
      "source": [
        "编写了一个名为Animal的class，有一个run()方法可以直接打印：\n",
        "\n",
        "```\n",
        "class Animal(object):\n",
        "    def run(self):\n",
        "        print('Animal is running...')\n",
        "```\n",
        "需要编写Dog和Cat类时，就可以直接从Animal类继承：\n",
        "\n",
        "\n",
        "\n",
        "```\n",
        "class Dog(Animal):\n",
        "    pass\n",
        "\n",
        "class Cat(Animal):\n",
        "    pass\n",
        "```\n",
        "\n",
        "对于Dog来说，Animal就是它的父类，对于Animal来说，Dog就是它的子类。Cat和Dog类似。\n",
        "\n",
        "是子类获得了父类的全部功能。由于Animial实现了run()方法，因此，Dog和Cat作为它的子类，什么事也没干，就自动拥有了run()方法：  \n",
        "\n",
        "当子类和父类都存在相同的run()方法时，我们说，子类的run()覆盖了父类的run()，在代码运行的时候，总是会调用子类的run()\n",
        "继承的另一个好处：多态\n",
        "\n",
        "定义一个class的时候，我们实际上就定义了一种数据类型。我们定义的数据类型和Python自带的数据类型，比如str、list、dict没什么两样：\n",
        "\n",
        "判断一个变量是否是某个类型可以用isinstance()判断：\n",
        "\n",
        "```\n",
        "a = list() # a是list类型\n",
        "b = Animal() # b是Animal类型\n",
        "c = Dog() # c是Dog类型\n",
        "\n",
        ">>> isinstance(a, list)\n",
        "True\n",
        ">>> isinstance(b, Animal)\n",
        "True\n",
        ">>> isinstance(c, Dog)\n",
        "True\n",
        "```\n",
        "\n",
        "在继承关系中，如果一个实例的数据类型是某个子类，那它的数据类型也可以被看做是父类。但是，反过来就不行"
      ]
    },
    {
      "cell_type": "markdown",
      "metadata": {
        "id": "E6hTRDAjdYLR",
        "colab_type": "text"
      },
      "source": [
        "理解多态的好处，我们还需要再编写一个函数，这个函数接受一个Animal类型的变量：\n",
        "\n",
        "\n",
        "\n",
        "```\n",
        "def run_twice(animal):\n",
        "    animal.run()\n",
        "    animal.run()\n",
        "```\n",
        "传入Animal的实例时，run_twice()就打印出\n",
        "\n",
        "\n",
        "```\n",
        ">>> run_twice(Animal())\n",
        "Animal is running...\n",
        "Animal is running...\n",
        "```\n",
        "传入Dog的实例时，run_twice()就打印出：\n",
        "\n",
        "\n",
        "```\n",
        ">>> run_twice(Dog())\n",
        "Dog is running...\n",
        "Dog is running...\n",
        "```\n",
        "\n",
        "当我们传入Cat的实例时，run_twice()就打印出：\n",
        "\n",
        "```\n",
        ">>> run_twice(Cat())\n",
        "Cat is running...\n",
        "Cat is running...\n",
        "```\n",
        "再定义一个Tortoise类型，也从Animal派生：\n",
        "\n",
        "```\n",
        "class Tortoise(Animal):\n",
        "    def run(self):\n",
        "        print('Tortoise is running slowly...')\n",
        "```\n",
        "调用run_twice()时，传入Tortoise的实例：\n",
        "\n",
        "\n",
        "```\n",
        ">>> run_twice(Tortoise())\n",
        "Tortoise is running slowly...\n",
        "Tortoise is running slowly...\n",
        "```\n",
        "\n",
        "新增一个Animal的子类，不必对run_twice()做任何修改，实际上，任何依赖Animal作为参数的函数或者方法都可以不加修改地正常运行，原因就在于多态。\n",
        "\n",
        "多态的好处就是，当我们需要传入Dog、Cat、Tortoise……时，我们只需要接收Animal类型就可以了，因为Dog、Cat、Tortoise……都是Animal类型，然后，按照Animal类型进行操作即可。由于Animal类型有run()方法，因此，传入的任意类型，只要是Animal类或者子类，就会自动调用实际类型的run()方法，这就是多态的意思：\n",
        "\n",
        "对于一个变量，我们只需要知道它是Animal类型，无需确切地知道它的子类型，就可以放心地调用run()方法，而具体调用的run()方法是作用在Animal、Dog、Cat还是Tortoise对象上，由运行时该对象的确切类型决定，这就是多态真正的威力：调用方只管调用，不管细节，而当我们新增一种Animal的子类时，只要确保run()方法编写正确，不用管原来的代码是如何调用的。这就是著名的“开闭”原则：\n",
        "\n",
        "\n",
        "\n"
      ]
    },
    {
      "cell_type": "markdown",
      "metadata": {
        "id": "KKLdT-9XdYJf",
        "colab_type": "text"
      },
      "source": [
        "#### 小结\n",
        "继承可以把父类的所有功能都直接拿过来，这样就不必重零做起，子类只需要新增自己特有的方法，也可以把父类不适合的方法覆盖重写。\n"
      ]
    },
    {
      "cell_type": "markdown",
      "metadata": {
        "id": "z7sJQh-piVTm",
        "colab_type": "text"
      },
      "source": [
        "\n",
        "### 获取对象信息"
      ]
    },
    {
      "cell_type": "markdown",
      "metadata": {
        "id": "SJLGxpSpiVcn",
        "colab_type": "text"
      },
      "source": [
        "\n",
        "\n",
        "*   使用type()\n",
        "\n",
        "\n",
        "\n",
        "```\n",
        ">>> type(123)\n",
        "<class 'int'>\n",
        ">>> type('str')\n",
        "<class 'str'>\n",
        ">>> type(None)\n",
        "<type(None) 'NoneType'>\n",
        "```\n",
        "如果一个变量指向函数或者类，也可以用type()判断：\n",
        "\n",
        "\n",
        "```\n",
        ">>> type(abs)\n",
        "<class 'builtin_function_or_method'>\n",
        ">>> type(a)\n",
        "<class '__main__.Animal'>\n",
        "```\n",
        "type()函数返回的是什么类型呢？它返回对应的Class类型。如果我们要在if语句中判断，就需要比较两个变量的type类型是否相同：\n",
        "\n",
        "```\n",
        ">>> type(123)==type(456)\n",
        "True\n",
        ">>> type(123)==int\n",
        "True\n",
        ">>> type('abc')==type('123')\n",
        "True\n",
        ">>> type('abc')==str\n",
        "True\n",
        ">>> type('abc')==type(123)\n",
        "False\n",
        "```\n",
        "判断一个对象是否是函数怎么办？可以使用types模块中定义的常量：\n",
        "\n",
        "\n",
        "```\n",
        ">>> import types\n",
        ">>> def fn():\n",
        "...     pass\n",
        "...\n",
        ">>> type(fn)==types.FunctionType\n",
        "True\n",
        ">>> type(abs)==types.BuiltinFunctionType\n",
        "True\n",
        ">>> type(lambda x: x)==types.LambdaType\n",
        "True\n",
        ">>> type((x for x in range(10)))==types.GeneratorType\n",
        "True\n",
        "```\n",
        "\n",
        "\n",
        "\n",
        "\n"
      ]
    },
    {
      "cell_type": "markdown",
      "metadata": {
        "id": "Eg6h3YBriVkk",
        "colab_type": "text"
      },
      "source": [
        "*   使用isinstance()\n",
        "对于class的继承关系来说，使用type()就很不方便。我们要判断class的类型，可以使用isinstance()函数  \n",
        "\n",
        "如果继承关系是：\n",
        "\n",
        "```\n",
        "object -> Animal -> Dog -> Husky\n",
        "```\n",
        "isinstance()就可以告诉我们，一个对象是否是某种类型。\n",
        "\n",
        "```\n",
        ">>> a = Animal()\n",
        ">>> d = Dog()\n",
        ">>> h = Husky()\n",
        "```\n",
        "\n",
        "\n",
        "```\n",
        ">>> isinstance(h, Husky)\n",
        "True\n",
        ">>> isinstance(h, Dog)\n",
        "True\n",
        ">>> isinstance(h, Animal)\n",
        "True\n",
        ">>> isinstance(d, Dog) and isinstance(d, Animal)\n",
        "True\n",
        "```\n",
        "\n",
        "\n",
        "\n"
      ]
    },
    {
      "cell_type": "markdown",
      "metadata": {
        "id": "j-LyJ15_iVoi",
        "colab_type": "text"
      },
      "source": [
        "能用type()判断的基本类型也可以用isinstance()判断：\n",
        "\n",
        "```\n",
        ">>> isinstance('a', str)\n",
        "True\n",
        ">>> isinstance(123, int)\n",
        "True\n",
        ">>> isinstance(b'a', bytes)\n",
        "True\n",
        "```\n",
        "一个变量是否是某些类型中的一种，比如下面的代码就可以判断是否是list或者tuple：\n",
        "\n",
        "```\n",
        ">>> isinstance([1, 2, 3], (list, tuple))\n",
        "True\n",
        ">>> isinstance((1, 2, 3), (list, tuple))\n",
        "True\n",
        "```\n",
        "\n",
        "\n"
      ]
    },
    {
      "cell_type": "markdown",
      "metadata": {
        "id": "x_eP9ccaiVsE",
        "colab_type": "text"
      },
      "source": [
        "*  使用dir()\n",
        "要获得一个对象的所有属性和方法，可以使用dir()函数，它返回一个包含字符串的list，比如，获得一个str对象的所有属性和方法：\n",
        "\n",
        "\n",
        "```\n",
        ">>> dir('ABC')\n",
        "['__add__', '__class__',..., '__subclasshook__', 'capitalize', 'casefold',..., 'zfill']\n",
        "```\n",
        "类似__xxx__的属性和方法在Python中都是有特殊用途的，比如__len__方法返回长度。在Python中，如果你调用len()函数试图获取一个对象的长度，实际上，在len()函数内部，它自动去调用该对象的__len__()方法，所以，下面的代码是等价的：\n",
        "\n",
        "```\n",
        ">>> len('ABC')\n",
        "3\n",
        ">>> 'ABC'.__len__()\n",
        "3\n",
        "```\n",
        "自己写的类，如果也想用len(myObj)的话，就自己写一个__len__()方法：\n",
        "\n",
        "```\n",
        ">>> class MyDog(object):\n",
        "...     def __len__(self):\n",
        "...         return 100\n",
        "...\n",
        ">>> dog = MyDog()\n",
        ">>> len(dog)\n",
        "100\n",
        "```\n",
        "\n",
        "\n",
        "\n"
      ]
    },
    {
      "cell_type": "markdown",
      "metadata": {
        "id": "U_uorjxBiVvi",
        "colab_type": "text"
      },
      "source": [
        "lower()返回小写的字符串\n",
        "\n",
        "\n",
        "```\n",
        ">>> 'ABC'.lower()\n",
        "'abc'\n",
        "```\n",
        "配合getattr()、setattr()以及hasattr()，我们可以直接操作一个对象的状态：\n",
        "\n",
        "```\n",
        ">>> class MyObject(object):\n",
        "...     def __init__(self):\n",
        "...         self.x = 9\n",
        "...     def power(self):\n",
        "...         return self.x * self.x\n",
        "...\n",
        ">>> obj = MyObject()\n",
        "```\n",
        "\n",
        "测试该对象的属性：\n",
        "\n",
        "\n",
        "```\n",
        ">>> hasattr(obj, 'x') # 有属性'x'吗？\n",
        "True\n",
        ">>> obj.x\n",
        "9\n",
        ">>> hasattr(obj, 'y') # 有属性'y'吗？\n",
        "False\n",
        ">>> setattr(obj, 'y', 19) # 设置一个属性'y'\n",
        ">>> hasattr(obj, 'y') # 有属性'y'吗？\n",
        "True\n",
        ">>> getattr(obj, 'y') # 获取属性'y'\n",
        "19\n",
        ">>> obj.y # 获取属性'y'\n",
        "19\n",
        "```\n",
        "\n",
        "hasattr() 测试对象属性\n",
        "setattr() 设置对象属性\n",
        "getattr() 获取对象属性\n",
        "可以传入一个default参数，如果属性不存在，就返回默认值：\n",
        "\n",
        "\n",
        "```\n",
        ">>> getattr(obj, 'z', 404) # 获取属性'z'，如果不存在，返回默认值404\n",
        "404\n",
        "```\n",
        "\n",
        "获得对象的方法\n",
        "\n",
        "\n",
        "```\n",
        ">>> hasattr(obj, 'power') # 有属性'power'吗？\n",
        "True\n",
        ">>> getattr(obj, 'power') # 获取属性'power'\n",
        "<bound method MyObject.power of <__main__.MyObject object at 0x10077a6a0>>\n",
        ">>> fn = getattr(obj, 'power') # 获取属性'power'并赋值到变量fn\n",
        ">>> fn # fn指向obj.power\n",
        "<bound method MyObject.power of <__main__.MyObject object at 0x10077a6a0>>\n",
        ">>> fn() # 调用fn()与调用obj.power()是一样的\n",
        "81\n",
        "```\n",
        "\n"
      ]
    },
    {
      "cell_type": "markdown",
      "metadata": {
        "id": "ApwXH89SiVyt",
        "colab_type": "text"
      },
      "source": [
        "#### 小结\n",
        "通过内置的一系列函数，我们可以对任意一个Python对象进行剖析，拿到其内部的数据\n",
        "\n",
        "\n",
        "```\n",
        "def readImage(fp):\n",
        "    if hasattr(fp, 'read'):\n",
        "        return readData(fp)\n",
        "    return None\n",
        "```\n",
        "希望从文件流fp中读取图像，我们首先要判断该fp对象是否存在read方法，如果存在，则该对象是一个流，如果不存在，则无法读取。hasattr()就派上了用场\n",
        "在Python这类动态语言中，根据鸭子类型，有read()方法，不代表该fp对象就是一个文件流，它也可能是网络流，也可能是内存中的一个字节流，但只要read()方法返回的是有效的图像数据，就不影响读取图像的功能。"
      ]
    },
    {
      "cell_type": "markdown",
      "metadata": {
        "id": "fVZIFGzTiV1x",
        "colab_type": "text"
      },
      "source": [
        "### 实例属性和类属性"
      ]
    },
    {
      "cell_type": "markdown",
      "metadata": {
        "id": "ekka6Pn7iV5V",
        "colab_type": "text"
      },
      "source": [
        "由于Python是动态语言，根据类创建的实例可以任意绑定属性。\n",
        "\n",
        "给实例绑定属性的方法是通过实例变量，或者通过self变量：\n",
        "\n",
        "\n",
        "```\n",
        "class Student(object):\n",
        "    def __init__(self, name):\n",
        "        self.name = name\n",
        "\n",
        "s = Student('Bob')\n",
        "s.score = 90\n",
        "```\n",
        "如果Student类本身需要绑定一个属性呢？可以直接在class中定义属性，这种属性是类属性，归Student类所有：\n",
        "\n",
        "\n",
        "```\n",
        "class Student(object):\n",
        "    name = 'Student'\n",
        "```\n",
        "定义了一个类属性后，这个属性虽然归类所有，但类的所有实例都可以访问到。\n",
        "\n",
        "```\n",
        ">>> class Student(object):\n",
        "...     name = 'Student'\n",
        "...\n",
        ">>> s = Student() # 创建实例s\n",
        ">>> print(s.name) # 打印name属性，因为实例并没有name属性，所以会继续查找class的name属性\n",
        "Student\n",
        ">>> print(Student.name) # 打印类的name属性\n",
        "Student\n",
        ">>> s.name = 'Michael' # 给实例绑定name属性\n",
        ">>> print(s.name) # 由于实例属性优先级比类属性高，因此，它会屏蔽掉类的name属性\n",
        "Michael\n",
        ">>> print(Student.name) # 但是类属性并未消失，用Student.name仍然可以访问\n",
        "Student\n",
        ">>> del s.name # 如果删除实例的name属性\n",
        ">>> print(s.name) # 再次调用s.name，由于实例的name属性没有找到，类的name属性就显示出来了\n",
        "Student\n",
        "```\n",
        "\n",
        "千万不要对实例属性和类属性使用相同的名字，因为相同名称的实例属性将屏蔽掉类属性，但是当你删除实例属性后，再使用相同的名称，访问到的将是类属性。\n",
        "\n",
        "\n"
      ]
    },
    {
      "cell_type": "markdown",
      "metadata": {
        "id": "qX44mr_OiV8-",
        "colab_type": "text"
      },
      "source": [
        "为了统计学生人数，可以给Student类增加一个类属性，每创建一个实例，该属性自动增加："
      ]
    },
    {
      "cell_type": "markdown",
      "metadata": {
        "id": "Fxav3lFGiWB9",
        "colab_type": "text"
      },
      "source": [
        ""
      ]
    },
    {
      "cell_type": "code",
      "metadata": {
        "id": "9tX4CVCaq14s",
        "colab_type": "code",
        "colab": {}
      },
      "source": [
        "class Student(object):\n",
        "    count = 0\n",
        "\n",
        "    def __init__(self, name):\n",
        "        self.name = name\n",
        "        Student.count+=1"
      ],
      "execution_count": 0,
      "outputs": []
    },
    {
      "cell_type": "code",
      "metadata": {
        "id": "8B-f4aqbq-_u",
        "colab_type": "code",
        "outputId": "cd52bc31-a1bb-4620-9288-b70cd1482110",
        "colab": {
          "base_uri": "https://localhost:8080/",
          "height": 34
        }
      },
      "source": [
        "bart = Student('Bart')\n",
        "Student.count"
      ],
      "execution_count": 0,
      "outputs": [
        {
          "output_type": "execute_result",
          "data": {
            "text/plain": [
              "1"
            ]
          },
          "metadata": {
            "tags": []
          },
          "execution_count": 8
        }
      ]
    },
    {
      "cell_type": "code",
      "metadata": {
        "id": "2_NCPlrarEXj",
        "colab_type": "code",
        "outputId": "8e0986e0-c42d-44f4-fa28-50315fca52fe",
        "colab": {
          "base_uri": "https://localhost:8080/",
          "height": 34
        }
      },
      "source": [
        "bart2 = Student('Bart2')\n",
        "Student.count"
      ],
      "execution_count": 0,
      "outputs": [
        {
          "output_type": "execute_result",
          "data": {
            "text/plain": [
              "2"
            ]
          },
          "metadata": {
            "tags": []
          },
          "execution_count": 9
        }
      ]
    },
    {
      "cell_type": "markdown",
      "metadata": {
        "id": "2taLvg8LiWFc",
        "colab_type": "text"
      },
      "source": [
        "*** \n",
        "***"
      ]
    },
    {
      "cell_type": "markdown",
      "metadata": {
        "id": "EKYeE0wCxjw6",
        "colab_type": "text"
      },
      "source": [
        "# 面向对象高级编程"
      ]
    },
    {
      "cell_type": "markdown",
      "metadata": {
        "id": "vq3r4e-fxqOM",
        "colab_type": "text"
      },
      "source": [
        "数据封装、继承和多态只是面向对象程序设计中最基础的3个概念。在Python中，面向对象还有很多高级特性，允许我们写出非常强大的功能。  \n",
        "\n",
        "\n",
        "*   多重继承\n",
        "*   定制类\n",
        "*   元类\n",
        "\n",
        "\n"
      ]
    },
    {
      "cell_type": "markdown",
      "metadata": {
        "id": "pAeHZ1FCxqTU",
        "colab_type": "text"
      },
      "source": [
        "###  使用`__slots__`\n",
        "\n",
        "1.   定义class\n",
        "2.   给实例绑定一个属性\n",
        "3.   给实例绑定一个方法 （给一个实例绑定的方法，对另一个实例是不起作用）\n",
        "4.   为了给所有实例都绑定方法，可以给class绑定方法\n",
        "\n",
        "\n",
        "我们想要限制实例的属性怎么办？比如，只允许对Student实例添加name和age属性。\n",
        "为了达到限制的目的，Python允许在定义class的时候，定义一个特殊的__slots__变量，来限制该class实例能添加的属性：\n",
        "\n",
        "```\n",
        "class Student(object):\n",
        "    __slots__ = ('name', 'age')  # 用tuple定义允许绑定的属性名称\n",
        "```\n",
        "\n"
      ]
    },
    {
      "cell_type": "code",
      "metadata": {
        "id": "tivh-UE21cb1",
        "colab_type": "code",
        "colab": {}
      },
      "source": [
        "class Student(object):\n",
        "     __slots__ = ('name', 'age')\n",
        "        "
      ],
      "execution_count": 0,
      "outputs": []
    },
    {
      "cell_type": "code",
      "metadata": {
        "id": "o8bRX_Dg1mFT",
        "colab_type": "code",
        "colab": {}
      },
      "source": [
        "s = Student()\n",
        "s.name = 'Michael'\n",
        "s.age = 25"
      ],
      "execution_count": 0,
      "outputs": []
    },
    {
      "cell_type": "code",
      "metadata": {
        "id": "aza1_DKe1sgD",
        "colab_type": "code",
        "outputId": "2dbe8d26-2ea0-4a66-d385-b19fff917c79",
        "colab": {
          "base_uri": "https://localhost:8080/",
          "height": 181
        }
      },
      "source": [
        "s.score = 99"
      ],
      "execution_count": 0,
      "outputs": [
        {
          "output_type": "error",
          "ename": "AttributeError",
          "evalue": "ignored",
          "traceback": [
            "\u001b[0;31m---------------------------------------------------------------------------\u001b[0m",
            "\u001b[0;31mAttributeError\u001b[0m                            Traceback (most recent call last)",
            "\u001b[0;32m<ipython-input-3-43bad5f5e779>\u001b[0m in \u001b[0;36m<module>\u001b[0;34m()\u001b[0m\n\u001b[0;32m----> 1\u001b[0;31m \u001b[0ms\u001b[0m\u001b[0;34m.\u001b[0m\u001b[0mscore\u001b[0m \u001b[0;34m=\u001b[0m \u001b[0;36m99\u001b[0m\u001b[0;34m\u001b[0m\u001b[0;34m\u001b[0m\u001b[0m\n\u001b[0m",
            "\u001b[0;31mAttributeError\u001b[0m: 'Student' object has no attribute 'score'"
          ]
        }
      ]
    },
    {
      "cell_type": "markdown",
      "metadata": {
        "id": "oaDZ_oflxqWR",
        "colab_type": "text"
      },
      "source": [
        "使用`__slots__`要注意，`__slots__`定义的属性仅对当前类实例起作用，对继承的子类是不起作用的"
      ]
    },
    {
      "cell_type": "markdown",
      "metadata": {
        "id": "n2BdOO1sxqZQ",
        "colab_type": "text"
      },
      "source": [
        "### 使用@property  \n",
        "在绑定属性时，如果我们直接把属性暴露出去，虽然写起来很简单，但是，没办法检查参数，导致可以把成绩随便改  \n",
        "为了限制score的范围，可以通过一个set_score()方法来设置成绩，再通过一个get_score()来获取成绩，这样，在set_score()方法里，就可以检查参数：\n",
        "\n",
        "```\n",
        "class Student(object):\n",
        "\n",
        "    def get_score(self):\n",
        "         return self._score\n",
        "\n",
        "    def set_score(self, value):\n",
        "        if not isinstance(value, int):\n",
        "            raise ValueError('score must be an integer!')\n",
        "        if value < 0 or value > 100:\n",
        "            raise ValueError('score must between 0 ~ 100!')\n",
        "        self._score = value\n",
        "```\n",
        "\n",
        "既能检查参数，又可以用类似属性这样简单的方式来访问类的变量  \n",
        "\n",
        "Python内置的@property装饰器就是负责把一个方法变成属性调用  \n",
        "\n"
      ]
    },
    {
      "cell_type": "code",
      "metadata": {
        "id": "lUSiO6yD6BS0",
        "colab_type": "code",
        "colab": {}
      },
      "source": [
        "class Student(object):\n",
        "\n",
        "    @property\n",
        "    def score(self):\n",
        "        return self._score\n",
        "\n",
        "    @score.setter\n",
        "    def score(self, value):\n",
        "        if not isinstance(value, int):\n",
        "            raise ValueError('score must be an integer!')\n",
        "        if value < 0 or value > 100:\n",
        "            raise ValueError('score must between 0 ~ 100!')\n",
        "        self._score = value"
      ],
      "execution_count": 0,
      "outputs": []
    },
    {
      "cell_type": "markdown",
      "metadata": {
        "id": "VjOQvOGXxqbt",
        "colab_type": "text"
      },
      "source": [
        "定义只读属性"
      ]
    },
    {
      "cell_type": "code",
      "metadata": {
        "id": "plmeknvn7l1g",
        "colab_type": "code",
        "colab": {}
      },
      "source": [
        "class Student(object):\n",
        "\n",
        "    @property\n",
        "    def birth(self):\n",
        "        return self._birth\n",
        "\n",
        "    @birth.setter\n",
        "    def birth(self, value):\n",
        "        self._birth = value\n",
        "\n",
        "    @property\n",
        "    def age(self):\n",
        "        return 2015 - self._birth"
      ],
      "execution_count": 0,
      "outputs": []
    },
    {
      "cell_type": "markdown",
      "metadata": {
        "id": "2vvk69IRxqem",
        "colab_type": "text"
      },
      "source": [
        "### 多重继承  \n",
        "\n",
        "继承是面向对象编程的一个重要的方式，因为通过继承，子类就可以扩展父类的功能。"
      ]
    },
    {
      "cell_type": "markdown",
      "metadata": {
        "id": "_DaF4-_cxqhU",
        "colab_type": "text"
      },
      "source": [
        "通过多重继承，一个子类就可以同时获得多个父类的所有功能。"
      ]
    },
    {
      "cell_type": "markdown",
      "metadata": {
        "id": "XFsOObcVxqo0",
        "colab_type": "text"
      },
      "source": [
        "### MixIn  \n",
        "MixIn的目的就是给一个类增加多个功能，这样，在设计类的时候，我们优先考虑通过多重继承来组合多个MixIn的功能，而不是设计多层次的复杂的继承关系"
      ]
    },
    {
      "cell_type": "markdown",
      "metadata": {
        "id": "PwAs4TpQxqsJ",
        "colab_type": "text"
      },
      "source": [
        "编写一个多进程模式的TCP服务"
      ]
    },
    {
      "cell_type": "code",
      "metadata": {
        "id": "EPZbMKxb_Dqi",
        "colab_type": "code",
        "colab": {}
      },
      "source": [
        "class MyTCPServer(TCPServer, ForkingMixIn):\n",
        "    pass"
      ],
      "execution_count": 0,
      "outputs": []
    },
    {
      "cell_type": "markdown",
      "metadata": {
        "id": "hh-Gys-dxquz",
        "colab_type": "text"
      },
      "source": [
        "编写一个多线程模式的UDP服务"
      ]
    },
    {
      "cell_type": "code",
      "metadata": {
        "id": "Eu_84MJF_IcE",
        "colab_type": "code",
        "colab": {}
      },
      "source": [
        "class MyUDPServer(UDPServer, ThreadingMixIn):\n",
        "    pass"
      ],
      "execution_count": 0,
      "outputs": []
    },
    {
      "cell_type": "markdown",
      "metadata": {
        "id": "_9xQEbGwxqxe",
        "colab_type": "text"
      },
      "source": [
        "打算搞一个更先进的协程模型，可以编写一个CoroutineMixIn"
      ]
    },
    {
      "cell_type": "code",
      "metadata": {
        "id": "ywpycBVY_Npg",
        "colab_type": "code",
        "colab": {}
      },
      "source": [
        "class MyTCPServer(TCPServer, CoroutineMixIn):\n",
        "    pass"
      ],
      "execution_count": 0,
      "outputs": []
    },
    {
      "cell_type": "markdown",
      "metadata": {
        "id": "uE0pbaKexq0H",
        "colab_type": "text"
      },
      "source": [
        "### 定制类"
      ]
    },
    {
      "cell_type": "markdown",
      "metadata": {
        "id": "mcNVbwCUxq2t",
        "colab_type": "text"
      },
      "source": [
        "`__str__`()方法\n",
        "\n",
        "```\n",
        "class Student(object):\n",
        "    def __init__(self, name):\n",
        "        self.name = name\n",
        "    def __str__(self):\n",
        "        return 'Student object (name=%s)' % self.name\n",
        "```\n",
        "直接显示变量调用的不是`__str__`()，而是`__repr__`()，两者的区别是`__str__`()返回用户看到的字符串，而`__repr__`()返回程序开发者看到的字符串，也就是说，_`_repr__`()是为调试服务的。\n",
        "\n",
        "\n",
        "```\n",
        "class Student(object):\n",
        "    def __init__(self, name):\n",
        "        self.name = name\n",
        "    def __str__(self):\n",
        "        return 'Student object (name=%s)' % self.name\n",
        "    __repr__ = __str__\n",
        "```\n",
        "\n"
      ]
    },
    {
      "cell_type": "markdown",
      "metadata": {
        "id": "gTKEmCqmFHBQ",
        "colab_type": "text"
      },
      "source": [
        "`__iter__`  \n",
        "如果一个类想被用于for ... in循环，类似list或tuple那样，就必须实现一个`__iter__()`方法，该方法返回一个迭代对象，然后，Python的for循环就会不断调用该迭代对象的`__next__()`方法拿到循环的下一个值，直到遇到StopIteration错误时退出循环。\n",
        "\n",
        "\n",
        "```\n",
        "class Fib(object):\n",
        "    def __init__(self):\n",
        "        self.a, self.b = 0, 1 # 初始化两个计数器a，b\n",
        "\n",
        "    def __iter__(self):\n",
        "        return self # 实例本身就是迭代对象，故返回自己\n",
        "\n",
        "    def __next__(self):\n",
        "        self.a, self.b = self.b, self.a + self.b # 计算下一个值\n",
        "        if self.a > 100000: # 退出循环的条件\n",
        "            raise StopIteration()\n",
        "        return self.a # 返回下一个值\n",
        "```\n",
        "\n",
        "***\n",
        "\n",
        "```\n",
        " for n in Fib():\n",
        "             print(n)\n",
        "```\n",
        "\n"
      ]
    },
    {
      "cell_type": "markdown",
      "metadata": {
        "id": "3O1tHA-eFHMq",
        "colab_type": "text"
      },
      "source": [
        "`__getitem__`  \n",
        "表现得像list那样按照下标取出元素，需要实现`__getitem__`()方法：\n",
        "\n",
        "```\n",
        "class Fib(object):\n",
        "    def __getitem__(self, n):\n",
        "        a, b = 1, 1\n",
        "        for x in range(n):\n",
        "            a, b = b, a + b\n",
        "        return a\n",
        "```\n",
        "\n",
        "list有个神奇的切片方法：  \n",
        "对于Fib却报错。原因是`__getitem__`()传入的参数可能是一个int，也可能是一个切片对象slice，所以要做判断：\n",
        "\n",
        "\n",
        "```\n",
        "lass Fib(object):\n",
        "    def __getitem__(self, n):\n",
        "        if isinstance(n, int): # n是索引\n",
        "            a, b = 1, 1\n",
        "            for x in range(n):\n",
        "                a, b = b, a + b\n",
        "            return a\n",
        "        if isinstance(n, slice): # n是切片\n",
        "            start = n.start\n",
        "            stop = n.stop\n",
        "            if start is None:\n",
        "                start = 0\n",
        "            a, b = 1, 1\n",
        "            L = []\n",
        "            for x in range(stop):\n",
        "                if x >= start:\n",
        "                    L.append(a)\n",
        "                a, b = b, a + b\n",
        "            return L\n",
        "```\n",
        "\n"
      ]
    },
    {
      "cell_type": "markdown",
      "metadata": {
        "id": "m0KlT9xtFHQp",
        "colab_type": "text"
      },
      "source": [
        "`__getattr__`  \n",
        "写一个`__getattr__`()方法，动态返回一个属性\n",
        "\n",
        "\n",
        "```\n",
        "class Student(object):\n",
        "\n",
        "    def __init__(self):\n",
        "        self.name = 'Michael'\n",
        "\n",
        "    def __getattr__(self, attr):\n",
        "        if attr=='score':\n",
        "            return 99\n",
        "```\n",
        "任意调用如s.abc都会返回None，这是因为我们定义的__getattr__默认返回就是None。要让class只响应特定的几个属性，我们就要按照约定，抛出AttributeError的错误：\n",
        "\n",
        "```\n",
        "class Student(object):\n",
        "\n",
        "    def __getattr__(self, attr):\n",
        "        if attr=='age':\n",
        "            return lambda: 25\n",
        "        raise AttributeError('\\'Student\\' object has no attribute \\'%s\\'' % attr)\n",
        "```\n",
        "\n",
        "\n",
        "以针对完全动态的情况作调用。\n",
        "利用完全动态的__getattr__，我们可以写出一个链式调用：\n",
        "\n",
        "```\n",
        "class Chain(object):\n",
        "\n",
        "    def __init__(self, path=''):\n",
        "        self._path = path\n",
        "\n",
        "    def __getattr__(self, path):\n",
        "        return Chain('%s/%s' % (self._path, path))\n",
        "\n",
        "    def __str__(self):\n",
        "        return self._path\n",
        "\n",
        "    __repr__ = __str__\n",
        "```\n",
        "无论API怎么变，SDK都可以根据URL实现完全动态的调用，而且，不随API的增加而改变！\n",
        "\n",
        "有些REST API会把参数放到URL中，比如GitHub的API：\n",
        "\n",
        "\n",
        "```\n",
        "GET /users/:user/repos\n",
        "```\n",
        "\n",
        "调用时，需要把:user替换为实际用户名。如果我们能写出这样的链式调用：\n",
        "\n",
        "\n",
        "```\n",
        "Chain().users('michael').repos\n",
        "```\n",
        "\n"
      ]
    },
    {
      "cell_type": "markdown",
      "metadata": {
        "id": "TyJbjf89FHTJ",
        "colab_type": "text"
      },
      "source": [
        "`__call__`\n",
        "\n",
        "\n",
        "```\n",
        "class Student(object):\n",
        "    def __init__(self, name):\n",
        "        self.name = name\n",
        "\n",
        "    def __call__(self):\n",
        "        print('My name is %s.' % self.name)\n",
        "```\n",
        "***\n",
        "\n",
        "\n",
        "```\n",
        ">>> s = Student('Michael')\n",
        ">>> s() # self参数不要传入\n",
        "My name is Michael.\n",
        "```\n",
        "么判断一个变量是对象还是函数呢？其实，更多的时候，我们需要判断一个对象是否能被调用，能被调用的对象就是一个Callable对象，比如函数和我们上面定义的带有`__call__`()的类实例：\n",
        "\n",
        "\n",
        "```\n",
        ">>> callable(Student())\n",
        "True\n",
        ">>> callable(max)\n",
        "True\n",
        ">>> callable([1, 2, 3])\n",
        "False\n",
        ">>> callable(None)\n",
        "False\n",
        ">>> callable('str')\n",
        "False\n",
        "```\n",
        "\n",
        "[Python的官方文档](https://docs.python.org/3/reference/datamodel.html#special-method-names)\n"
      ]
    },
    {
      "cell_type": "markdown",
      "metadata": {
        "id": "sEsUaT2XFHV-",
        "colab_type": "text"
      },
      "source": [
        "### 使用枚举类\n",
        "这样的枚举类型定义一个class类型，然后，每个常量都是class的一个唯一实例。Python提供了Enum类来实现这个功能：\n",
        "\n",
        "```\n",
        "from enum import Enum\n",
        "\n",
        "Month = Enum('Month', ('Jan', 'Feb', 'Mar', 'Apr', 'May', 'Jun', 'Jul', 'Aug', 'Sep', 'Oct', 'Nov', 'Dec'))\n",
        "```\n",
        "\n",
        "获得了Month类型的枚举类，可以直接使用Month.Jan来引用一个常量，或者枚举它的所有成员：\n",
        "\n",
        "```\n",
        "  for name, member in Month.__members__.items():\n",
        "    print(name, '=>', member, ',', member.value)\n",
        "\n",
        "```\n",
        "\n"
      ]
    },
    {
      "cell_type": "markdown",
      "metadata": {
        "id": "qHheu6bnJ3_j",
        "colab_type": "text"
      },
      "source": [
        "需要更精确地控制枚举类型，可以从Enum派生出自定义类：\n",
        "\n",
        "```\n",
        "from enum import Enum, unique\n",
        "\n",
        "@unique\n",
        "class Weekday(Enum):\n",
        "    Sun = 0 # Sun的value被设定为0\n",
        "    Mon = 1\n",
        "    Tue = 2\n",
        "    Wed = 3\n",
        "    Thu = 4\n",
        "    Fri = 5\n",
        "    Sat = 6\n",
        "```\n",
        "\n"
      ]
    },
    {
      "cell_type": "markdown",
      "metadata": {
        "id": "dNRN9tN-J4CI",
        "colab_type": "text"
      },
      "source": [
        "@unique装饰器可以帮助我们检查保证没有重复值。"
      ]
    },
    {
      "cell_type": "markdown",
      "metadata": {
        "id": "0_x1j5IQJ4E4",
        "colab_type": "text"
      },
      "source": [
        "把Student的gender属性改造为枚举类型，可以避免使用字符串：\n",
        "\n",
        "\n",
        "```\n",
        "from enum import Enum, unique\n",
        "#Gender = Enum('Gender', ('Male', 'Female'))\n",
        "\n",
        "#@unique\n",
        "class Gender(Enum):\n",
        "    Male = 0\n",
        "    Female = 1\n",
        "\n",
        "#for name, gender in Gender.__members__.items():\n",
        "#    print(name, '=>', member, ',', member.value)\n",
        "\n",
        "class Student(object):\n",
        "    def __init__(self, name, gender):\n",
        "        self.name = name\n",
        "        self.gender = gender\n",
        "\n",
        "```\n",
        "\n"
      ]
    },
    {
      "cell_type": "markdown",
      "metadata": {
        "id": "NEzV6ExNMwXi",
        "colab_type": "text"
      },
      "source": [
        "###  使用元类"
      ]
    },
    {
      "cell_type": "markdown",
      "metadata": {
        "id": "OjAHlq8OMwaO",
        "colab_type": "text"
      },
      "source": [
        "#### type() \n",
        "\n",
        "动态语言和静态语言最大的不同，就是函数和类的定义，不是编译时定义的，而是运行时动态创建的。\n",
        "type()函数可以查看一个类型或变量的类型，Hello是一个class，它的类型就是type，而h是一个实例，它的类型就是class Hello。\n",
        "type()函数既可以返回一个对象的类型，又可以创建出新的类型，比如，我们可以通过type()函数创建出Hello类，而无需通过class Hello(object)...的定义：\n",
        "\n",
        "```\n",
        ">>> def fn(self, name='world'): # 先定义函数\n",
        "...     print('Hello, %s.' % name)\n",
        "...\n",
        ">>> Hello = type('Hello', (object,), dict(hello=fn)) # 创建Hello class\n",
        ">>> h = Hello()\n",
        ">>> h.hello()\n",
        "Hello, world.\n",
        ">>> print(type(Hello))\n",
        "<class 'type'>\n",
        ">>> print(type(h))\n",
        "<class '__main__.Hello'>\n",
        "```\n",
        "\n"
      ]
    },
    {
      "cell_type": "markdown",
      "metadata": {
        "id": "QiM2I_9xMwdY",
        "colab_type": "text"
      },
      "source": [
        "创建一个class对象，type()函数依次传入3个参数\n",
        "\n",
        "1.   class的名称；\n",
        "\n",
        "\n",
        "2.   继承的父类集合，注意Python支持多重继承，如果只有一个父类，别忘了tuple的单元素写法；\n",
        "\n",
        "\n",
        "3.   class的方法名称与函数绑定，这里我们把函数fn绑定到方法名hello上。\n",
        "\n",
        "type()函数也允许我们动态创建出类来，也就是说，动态语言本身支持运行期动态创建类，这和静态语言有非常大的不同，要在静态语言运行期创建类，必须构造源代码字符串再调用编译器，或者借助一些工具生成字节码实现，本质上都是动态编译，会非常复杂。\n"
      ]
    },
    {
      "cell_type": "markdown",
      "metadata": {
        "id": "5eNarAvRMwgL",
        "colab_type": "text"
      },
      "source": [
        "#### metaclass"
      ]
    },
    {
      "cell_type": "markdown",
      "metadata": {
        "id": "4KhiR1hFMwnT",
        "colab_type": "text"
      },
      "source": [
        "除了使用type()动态创建类以外，要控制类的创建行为，还可以使用metaclass。 metaclass，直译为元类"
      ]
    },
    {
      "cell_type": "markdown",
      "metadata": {
        "id": "2xe0QwpBMwqO",
        "colab_type": "text"
      },
      "source": [
        "当我们定义了类以后，就可以根据这个类创建出实例，所以：先定义类，然后创建实例。\n",
        "\n",
        "但是如果我们想创建出类呢？那就必须根据metaclass创建出类，所以：先定义metaclass，然后创建类。\n",
        "\n",
        "1.   先定义metaclass\n",
        "2.   创建类\n",
        "\n",
        "3.   创建实例"
      ]
    },
    {
      "cell_type": "markdown",
      "metadata": {
        "id": "hqXcNMAEMws1",
        "colab_type": "text"
      },
      "source": [
        "ORM全称“Object Relational Mapping”，即对象-关系映射，就是把关系数据库的一行映射为一个对象，也就是一个类对应一个表，这样，写代码更简单，不用直接操作SQL语句。"
      ]
    },
    {
      "cell_type": "markdown",
      "metadata": {
        "id": "jBZpXmZbP0Vn",
        "colab_type": "text"
      },
      "source": [
        "要编写一个ORM框架，所有的类都只能动态定义，因为只有使用者才能根据表的结构定义出对应的类来。"
      ]
    },
    {
      "cell_type": "markdown",
      "metadata": {
        "id": "Dl9GNyZUP0Yp",
        "colab_type": "text"
      },
      "source": [
        "编写底层模块的第一步，就是先把调用接口写出来。比如，使用者如果使用这个ORM框架，想定义一个User类来操作对应的数据库表User，我们期待他写出这样的代码："
      ]
    },
    {
      "cell_type": "markdown",
      "metadata": {
        "id": "Zk-Dtx1EP59G",
        "colab_type": "text"
      },
      "source": [
        "\n",
        "\n",
        "```\n",
        "class User(Model):\n",
        "    # 定义类的属性到列的映射：\n",
        "    id = IntegerField('id')\n",
        "    name = StringField('username')\n",
        "    email = StringField('email')\n",
        "    password = StringField('password')\n",
        "\n",
        "# 创建一个实例：\n",
        "u = User(id=12345, name='Michael', email='test@orm.org', password='my-pwd')\n",
        "# 保存到数据库：\n",
        "u.save(\n",
        "```\n",
        "\n"
      ]
    },
    {
      "cell_type": "markdown",
      "metadata": {
        "id": "ul-Af38KP6FP",
        "colab_type": "text"
      },
      "source": [
        "***\n",
        "***"
      ]
    },
    {
      "cell_type": "markdown",
      "metadata": {
        "id": "SzdKavXLRQxH",
        "colab_type": "text"
      },
      "source": [
        " # 错误、调试和测试\n",
        " \n",
        "\n",
        "*   程序编写有问题造成的\n",
        "*   用户输入造成的\n",
        "*   无法在程序运行过程中预测的\n",
        "\n",
        " \n",
        "Python的pdb可以让我们以单步方式执行代码。\n",
        "\n",
        "\n",
        "编写测试也很重要。有了良好的测试，就可以在程序修改后反复运行，确保程序输出符合我们编写的测试。"
      ]
    },
    {
      "cell_type": "markdown",
      "metadata": {
        "id": "AFk7QAKLRRDt",
        "colab_type": "text"
      },
      "source": [
        "### 错误处理  \n",
        "高级语言通常都内置了一套try...except...finally...的错误处理机制"
      ]
    },
    {
      "cell_type": "markdown",
      "metadata": {
        "id": "N3lRbkCvRRTk",
        "colab_type": "text"
      },
      "source": [
        "当我们认为某些代码可能会出错时，就可以用try来运行这段代码，如果执行出错，则后续代码不会继续执行，而是直接跳转至错误处理代码，即except语句块，执行完except后，如果有finally语句块，则执行finally语句块，至此，执行完毕 \n",
        "\n",
        "\n",
        "```\n",
        "try:\n",
        "    print('try...')\n",
        "    r = 10 / 0\n",
        "    print('result:', r)\n",
        "except ZeroDivisionError as e:\n",
        "    print('except:', e)\n",
        "finally:\n",
        "    print('finally...')\n",
        "print('END')\n",
        "```\n",
        "\n",
        "由于没有错误发生，所以except语句块不会被执行，但是finally如果有，则一定会被执行（可以没有finally语句  \n",
        "\n",
        "如果发生了不同类型的错误，应该由不同的except语句块处理。没错，可以有多个except来捕获不同类型的错误：\n",
        "\n",
        "\n",
        "```\n",
        "ry:\n",
        "    print('try...')\n",
        "    r = 10 / int('a')\n",
        "    print('result:', r)\n",
        "except ValueError as e:\n",
        "    print('ValueError:', e)\n",
        "except ZeroDivisionError as e:\n",
        "    print('ZeroDivisionError:', e)\n",
        "finally:\n",
        "    print('finally...')\n",
        "print('END')\n",
        "```\n",
        "如果没有错误发生，可以在except语句块后面加一个else，当没有错误发生时，会自动执行else语句：\n",
        "\n",
        "```\n",
        "try:\n",
        "    print('try...')\n",
        "    r = 10 / int('2')\n",
        "    print('result:', r)\n",
        "except ValueError as e:\n",
        "    print('ValueError:', e)\n",
        "except ZeroDivisionError as e:\n",
        "    print('ZeroDivisionError:', e)\n",
        "else:\n",
        "    print('no error!')\n",
        "finally:\n",
        "    print('finally...')\n",
        "print('END')\n",
        "```\n",
        "Python所有的错误都是从BaseException类派生的  \n",
        "\n",
        "\n",
        "[常见的错误类型和继承关系](https://docs.python.org/3/library/exceptions.html#exception-hierarchy)\n",
        "\n",
        "不需要在每个可能出错的地方去捕获错误，只要在合适的层次去捕获错误就可以了。这样一来，就大大减少了写try...except...finally的麻烦"
      ]
    },
    {
      "cell_type": "markdown",
      "metadata": {
        "id": "jGc_asqcSxVG",
        "colab_type": "text"
      },
      "source": [
        "### 调用栈 \n",
        "如果错误没有被捕获，它就会一直往上抛，最后被Python解释器捕获，打印一个错误信息，然后程序退出。"
      ]
    },
    {
      "cell_type": "markdown",
      "metadata": {
        "id": "s6d4hB7tSxis",
        "colab_type": "text"
      },
      "source": [
        "出错并不可怕，可怕的是不知道哪里出错了。解读错误信息是定位错误的关键。  \n",
        "\n",
        " 出错的时候，一定要分析错误的调用栈信息，才能定位错误的位置。"
      ]
    },
    {
      "cell_type": "markdown",
      "metadata": {
        "id": "TadWnWQSSxlK",
        "colab_type": "text"
      },
      "source": [
        "### 记录错误  \n",
        "\n",
        "如果不捕获错误，自然可以让Python解释器来打印出错误堆栈，但程序也被结束了。既然我们能捕获错误，就可以把错误堆栈打印出来，然后分析错误原因，同时，让程序继续执行下去。  \n",
        "\n",
        "Python内置的logging模块可以非常容易地记录错误信息\n",
        "\n",
        "```\n",
        "import logging\n",
        "\n",
        "def foo(s):\n",
        "    return 10 / int(s)\n",
        "\n",
        "def bar(s):\n",
        "    return foo(s) * 2\n",
        "\n",
        "def main():\n",
        "    try:\n",
        "        bar('0')\n",
        "    except Exception as e:\n",
        "        logging.exception(e)\n",
        "\n",
        "main()\n",
        "print('END')\n",
        "```\n",
        "\n",
        "通过配置，logging还可以把错误记录到日志文件里，方便事后排查。"
      ]
    },
    {
      "cell_type": "markdown",
      "metadata": {
        "id": "0dHW_i6RW8qS",
        "colab_type": "text"
      },
      "source": [
        "### 抛出错误\n"
      ]
    },
    {
      "cell_type": "markdown",
      "metadata": {
        "id": "iD4nZQrEXEEr",
        "colab_type": "text"
      },
      "source": [
        "因为错误是class，捕获一个错误就是捕获到该class的一个实例。因此，错误并不是凭空产生的，而是有意创建并抛出的。Python的内置函数会抛出很多类型的错误，我们自己编写的函数也可以抛出错误。\n",
        "\n",
        "如果要抛出错误，首先根据需要，可以定义一个错误的class，选择好继承关系，然后，用raise语句抛出一个错误的实例：\n",
        "\n",
        "\n",
        "```\n",
        "# err_raise.py\n",
        "class FooError(ValueError):\n",
        "    pass\n",
        "\n",
        "def foo(s):\n",
        "    n = int(s)\n",
        "    if n==0:\n",
        "        raise FooError('invalid value: %s' % s)\n",
        "    return 10 / n\n",
        "\n",
        "foo('0')\n",
        "```\n",
        "执行，可以最后跟踪到我们自己定义的错误\n",
        "\n",
        "```\n",
        "$ python3 err_raise.py \n",
        "Traceback (most recent call last):\n",
        "  File \"err_throw.py\", line 11, in <module>\n",
        "    foo('0')\n",
        "  File \"err_throw.py\", line 8, in foo\n",
        "    raise FooError('invalid value: %s' % s)\n",
        "__main__.FooError: invalid value: 0\n",
        "```\n",
        "\n",
        "\n",
        "只有在必要的时候才定义我们自己的错误类型。如果可以选择Python已有的内置的错误类型（比如ValueError，TypeError），尽量使用Python内置的错误类型。  \n",
        "\n",
        "\n",
        "错误处理的方式\n",
        "\n",
        "```\n",
        "def foo(s):\n",
        "    n = int(s)\n",
        "    if n==0:\n",
        "        raise ValueError('invalid value: %s' % s)\n",
        "    return 10 / n\n",
        "\n",
        "def bar():\n",
        "    try:\n",
        "        foo('0')\n",
        "    except ValueError as e:\n",
        "        print('ValueError!')\n",
        "        raise\n",
        "\n",
        "bar()\n",
        "```\n",
        "\n",
        "\n",
        "\n",
        "在bar()函数中，我们明明已经捕获了错误，但是，打印一个ValueError!后，又把错误通过raise语句抛出去  \n",
        "\n",
        "捕获错误目的只是记录一下，便于后续追踪。但是，由于当前函数不知道应该怎么处理该错误，所以，最恰当的方式是继续往上抛，让顶层调用者去处理  \n",
        "\n",
        "\n",
        "raise语句如果不带参数，就会把当前错误原样抛出。此外，在except中raise一个Error，还可以把一种类型的错误转化成另一种类型：\n",
        "\n",
        "```\n",
        "try:\n",
        "    10 / 0\n",
        "except ZeroDivisionError:\n",
        "    raise ValueError('input error!')\n",
        "```\n",
        "\n",
        "只要是合理的转换逻辑就可以，但是，决不应该把一个IOError转换成毫不相干的ValueError\n",
        "\n"
      ]
    },
    {
      "cell_type": "code",
      "metadata": {
        "id": "eNFURHBIY8GJ",
        "colab_type": "code",
        "outputId": "a22f058b-3993-4b74-c941-b80e537937c4",
        "colab": {
          "base_uri": "https://localhost:8080/",
          "height": 55
        }
      },
      "source": [
        "from functools import reduce\n",
        "\n",
        "def str2num(s):\n",
        "    try:\n",
        "\n",
        "      return int(s)\n",
        "\n",
        "    except Exception as e:\n",
        "\n",
        "      return float(s)\n",
        "\n",
        "\n",
        "def calc(exp):\n",
        "    ss = exp.split('+')\n",
        "    ns = map(str2num, ss)\n",
        "    return reduce(lambda acc, x: acc + x, ns)\n",
        "\n",
        "def main():\n",
        "    r = calc('100 + 200 + 345')\n",
        "    print('100 + 200 + 345 =', r)\n",
        "    r = calc('99 + 88 + 7.6')\n",
        "    print('99 + 88 + 7.6 =', r)\n",
        "\n",
        "main()\n"
      ],
      "execution_count": 0,
      "outputs": [
        {
          "output_type": "stream",
          "text": [
            "100 + 200 + 345 = 645\n",
            "99 + 88 + 7.6 = 194.6\n"
          ],
          "name": "stdout"
        }
      ]
    },
    {
      "cell_type": "markdown",
      "metadata": {
        "id": "M3VKzNVrzAWR",
        "colab_type": "text"
      },
      "source": [
        "### 调试  \n",
        "需要一整套调试程序的手段来修复bug"
      ]
    },
    {
      "cell_type": "markdown",
      "metadata": {
        "id": "Y03fT_N6zAfz",
        "colab_type": "text"
      },
      "source": [
        "\n",
        "\n",
        "1.    第一种方法简单直接粗暴有效，就是用print()把可能有问题的变量打印出来看看。用print()最大的坏处是将来还得删掉它\n",
        "2.    断言。凡是用print()来辅助查看的地方，都可以用断言（assert）来替代\n",
        "\n"
      ]
    },
    {
      "cell_type": "markdown",
      "metadata": {
        "id": "b2cPhSoBzAip",
        "colab_type": "text"
      },
      "source": [
        "* assert的意思是，表达式n != 0应该是True，否则，根据程序运行的逻辑，后面的代码肯定会出错。\n",
        "\n",
        "* 如果断言失败，assert语句本身就会抛出AssertionErro。启动Python解释器时可以用-O参数来关闭assert\n",
        "\n",
        "* 断言的开关“-O”是英文大写字母O，不是数字0。\n",
        "\n",
        "* 关闭后，你可以把所有的assert语句当成pass来看。\n"
      ]
    },
    {
      "cell_type": "markdown",
      "metadata": {
        "id": "41vppD74zAlh",
        "colab_type": "text"
      },
      "source": [
        "3. logging  把print()替换为logging是第3种方式，和assert比，logging不会抛出错误，而且可以输出到文件"
      ]
    },
    {
      "cell_type": "markdown",
      "metadata": {
        "id": "EvJ0G5AyzAoT",
        "colab_type": "text"
      },
      "source": [
        "logging的好处，它允许你指定记录信息的级别，有debug，info，warning，error等几个级别，当我们指定level=INFO时，logging.debug就不起作用了。同理，指定level=WARNING后，debug和info就不起作用了。这样一来，你可以放心地输出不同级别的信息，也不用删除，最后统一控制输出哪个级别的信息。\n",
        "\n",
        "```\n",
        "import logging\n",
        "logging.basicConfig(level=logging.INFO)\n",
        "\n",
        "$ python err.py\n",
        "INFO:root:n = 0\n",
        "Traceback (most recent call last):\n",
        "  File \"err.py\", line 8, in <module>\n",
        "    print(10 / n)\n",
        "ZeroDivisionError: division by zero\n",
        "```\n",
        "\n",
        "logging的另一个好处是通过简单的配置，一条语句可以同时输出到不同的地方，比如console和文件。"
      ]
    },
    {
      "cell_type": "markdown",
      "metadata": {
        "id": "XVyGRjvnzAqm",
        "colab_type": "text"
      },
      "source": [
        "4. pdb   第4种方式是启动Python的调试器pdb，让程序以单步方式运行，可以随时查看运行状态。\n",
        "\n",
        "*   启动\n",
        "\n",
        "*   以参数-m pdb启动后，pdb定位到下一步要执行的代码-> s = '0'。输入命令l来查看代码\n",
        "*   输入命令n可以单步执行代码：\n",
        "*  任何时候都可以输入命令p 变量名来查看变量：\n",
        "*  输入命令q结束调试\n",
        "\n"
      ]
    },
    {
      "cell_type": "markdown",
      "metadata": {
        "id": "YYi86lVzzAt2",
        "colab_type": "text"
      },
      "source": [
        "5.  pdb.set_trace()  \n",
        "* 只需要import pdb，然后，在可能出错的地方放一个pdb.set_trace()，就可以设置一个断点：\n",
        "* 运行代码，程序会自动在pdb.set_trace()暂停并进入pdb调试环境，可以用命令p查看变量，或者用命令c继续运行："
      ]
    },
    {
      "cell_type": "markdown",
      "metadata": {
        "id": "X8hBk60XzAv_",
        "colab_type": "text"
      },
      "source": [
        "### IDE"
      ]
    },
    {
      "cell_type": "markdown",
      "metadata": {
        "id": "5RiMMhD7zAyy",
        "colab_type": "text"
      },
      "source": [
        "支持调试功能的IDE"
      ]
    },
    {
      "cell_type": "markdown",
      "metadata": {
        "id": "X6Vjrm-x2Abh",
        "colab_type": "text"
      },
      "source": [
        "###  单元测试  \n",
        "“测试驱动开发”（TDD：Test-Driven Development"
      ]
    },
    {
      "cell_type": "markdown",
      "metadata": {
        "id": "UAsGPSYw2AeU",
        "colab_type": "text"
      },
      "source": [
        "单元测试是用来对一个模块、一个函数或者一个类来进行正确性检验的测试工作。"
      ]
    },
    {
      "cell_type": "markdown",
      "metadata": {
        "id": "9IzWDHSj2AhA",
        "colab_type": "text"
      },
      "source": [
        "1. 编写单元测试\n",
        "\n",
        "\n",
        "*   setUp与tearDown :分别在每调用一个测试方法的前后分别被执行  \n",
        "可以在setUp()方法中连接数据库，在tearDown()方法中关闭数据库\n",
        "\n",
        "```\n",
        "class TestDict(unittest.TestCase):\n",
        "\n",
        "    def setUp(self):\n",
        "        print('setUp...')\n",
        "\n",
        "    def tearDown(self):\n",
        "        print('tearDown...')\n",
        "```\n",
        "\n",
        "2. 运行单元测试\n",
        "\n",
        "\n",
        "```\n",
        "import unittest\n",
        "class Student(object):\n",
        "    def __init__(self, name, score):\n",
        "        self.name = name\n",
        "        self.score = score\n",
        "    def get_grade(self):\n",
        "        if 60 <= self.score < 80:\n",
        "\n",
        "            return 'B'\n",
        "\n",
        "        elif 80 <= self.score <=100:\n",
        "\n",
        "            return 'A'\n",
        "\n",
        "        elif 0 <= self.score < 60:\n",
        "\n",
        "            return 'C'\n",
        "\n",
        "        else:\n",
        "\n",
        "            raise ValueError(\"not bad\")\n",
        "\n",
        "\n",
        "```\n",
        "\n"
      ]
    },
    {
      "cell_type": "markdown",
      "metadata": {
        "id": "QiUjNJyB2Ajx",
        "colab_type": "text"
      },
      "source": [
        "#### 小结\n",
        "\n",
        "\n",
        "1.   单元测试可以有效地测试某个程序模块的行为，是未来重构代码的信心保证。\n",
        "\n",
        "2.   单元测试的测试用例要覆盖常用的输入组合、边界条件和异常。\n",
        "3.   单元测试代码要非常简单，如果测试代码太复杂，那么测试代码本身就可能有bug。\n",
        "\n",
        "\n",
        "4.  单元测试通过了并不意味着程序就没有bug了，但是不通过程序肯定有bug。\n"
      ]
    },
    {
      "cell_type": "markdown",
      "metadata": {
        "id": "zXlFOk9q2AmX",
        "colab_type": "text"
      },
      "source": [
        "### 文档测试"
      ]
    },
    {
      "cell_type": "markdown",
      "metadata": {
        "id": "Ztbh01vZ2Ao4",
        "colab_type": "text"
      },
      "source": [
        "* Python内置的“文档测试”（doctest）模块可以直接提取注释中的代码并执行测试。  \n",
        "* doctest严格按照Python交互式命令行的输入和输出来判断测试结果是否正确。只有测试异常的时候，可以用...表示中间一大段烦人的输出。  \n",
        "* 当模块正常导入时，doctest不会被执行。只有在命令行直接运行时，才执行doctest。所以，不必担心doctest会在非测试环境下执行\n",
        "\n",
        "```\n",
        "def abs(n):\n",
        "    '''\n",
        "    Function to get absolute value of number.\n",
        "    \n",
        "    Example:\n",
        "    \n",
        "    >>> abs(1)\n",
        "    1\n",
        "    >>> abs(-1)\n",
        "    1\n",
        "    >>> abs(0)\n",
        "    0\n",
        "    '''\n",
        "    return n if n >= 0 else (-n)\n",
        "```\n",
        "\n",
        "* 更明确地告诉函数的调用者该函数的期望输入和输出。\n",
        "\n",
        "\n",
        "```\n",
        "def fact(n):\n",
        "    '''\n",
        "    Calculate 1*2*...*n\n",
        "    \n",
        "    >>> fact(1)\n",
        "    1\n",
        "    >>> fact(10)\n",
        "    3628800\n",
        "    >>> fact(-1)\n",
        "    Traceback (most recent call last):\n",
        "    ···\n",
        "    ValueError\n",
        "    '''\n",
        "    if n < 1:\n",
        "        raise ValueError()\n",
        "    if n == 1:\n",
        "        return 1\n",
        "    return n * fact(n - 1)\n",
        "    \n",
        "    \n",
        "    \n",
        "    if __name__ == '__main__':\n",
        "    import doctest\n",
        "    doctest.testmod()\n",
        "\n",
        "```\n",
        "\n"
      ]
    },
    {
      "cell_type": "markdown",
      "metadata": {
        "id": "WOwkulAL085L",
        "colab_type": "text"
      },
      "source": [
        "***\n",
        "***"
      ]
    },
    {
      "cell_type": "markdown",
      "metadata": {
        "id": "H2PQnEaB0-4T",
        "colab_type": "text"
      },
      "source": [
        "# IO编程"
      ]
    },
    {
      "cell_type": "markdown",
      "metadata": {
        "id": "dA_22r2C0_Ba",
        "colab_type": "text"
      },
      "source": [
        "\n",
        "\n",
        "*   IO在计算机中指Input/Output，也就是输入和输出。\n",
        "*   IO编程中，Stream（流）是一个很重要的概念，可以把流想象成一个水管，数据就是水管里的水，但是只能单向流动。Input Stream就是数据从外面（磁盘、网络）流进内存，Output Stream就是数据从内存流到外面去。\n",
        "\n",
        "*   同步IO\n",
        "*   异步IO\n",
        "\n",
        "*   同步和异步的区别就在于是否等待IO执行的结果\n",
        "*   用异步IO来编写程序性能会远远高于同步IO，但是异步IO的缺点是编程模型复杂\n",
        "\n",
        "*   操作IO的能力都是由操作系统提供的，每一种编程语言都会把操作系统提供的低级C接口封装起来方便使用\n",
        "\n",
        "\n",
        "\n",
        "\n",
        "\n",
        "\n",
        "\n",
        "\n"
      ]
    },
    {
      "cell_type": "markdown",
      "metadata": {
        "id": "Sk-dAkpA0_GD",
        "colab_type": "text"
      },
      "source": [
        "### 文件读写"
      ]
    },
    {
      "cell_type": "markdown",
      "metadata": {
        "id": "gl-c2qer12Bn",
        "colab_type": "text"
      },
      "source": [
        "读写文件是最常见的IO操作。Python内置了读写文件的函数，用法和C是兼容的"
      ]
    },
    {
      "cell_type": "markdown",
      "metadata": {
        "id": "-fgjhEPG12Fn",
        "colab_type": "text"
      },
      "source": [
        "#### 读文件\n",
        "1. 以读文件的模式打开一个文件对象，使用Python内置的open()函数，传入文件名和标示符\n",
        "\n",
        "```\n",
        "f = open('/Users/michael/test.txt', 'r')\n",
        "```\n",
        "2. 如果文件打开成功，接下来，调用read()方法可以一次读取文件的全部内容，Python把内容读到内存，用一个str对象表示：\n",
        "\n",
        "\n",
        "```\n",
        ">>> f.read()\n",
        "'Hello, world!'\n",
        "```\n",
        "3. 调用close()方法关闭文件。文件使用完毕后必须关闭，因为文件对象会占用操作系统的资源，并且操作系统同一时间能打开的文件数量也是有限的：\n",
        "\n",
        "\n",
        "```\n",
        ">>> f.close()\n",
        "```\n",
        "4. 由于文件读写时都有可能产生IOError，一旦出错，后面的f.close()就不会调用。所以，为了保证无论是否出错都能正确地关闭文件，我们可以使用try ... finally来实现：\n",
        "\n",
        "```\n",
        "try:\n",
        "    f = open('/path/to/file', 'r')\n",
        "    print(f.read())\n",
        "finally:\n",
        "    if f:\n",
        "        f.close()\n",
        "```\n",
        "\n",
        "5. Python引入了with语句来自动帮我们调用close()方法：\n",
        "\n",
        "\n",
        "```\n",
        "with open('/path/to/file', 'r') as f:\n",
        "    print(f.read())\n",
        "```\n",
        "\n"
      ]
    },
    {
      "cell_type": "markdown",
      "metadata": {
        "id": "wQJ4il9s12Je",
        "colab_type": "text"
      },
      "source": [
        "\n",
        "\n",
        "*   调用read()会一次性读取文件的全部内容，如果文件有10G，内存就爆了，所以，要保险起见，可以反复调用read(size)方法，每次最多读取size个字节的内容\n",
        "*   调用readline()可以每次读取一行内容，调用readlines()一次读取所有内容并按行返回list\n",
        "\n",
        "\n",
        "```\n",
        "for line in f.readlines():\n",
        "    print(line.strip()) # 把末尾的'\\n'删掉\n",
        "```\n",
        "\n",
        "\n",
        "\n",
        "\n"
      ]
    },
    {
      "cell_type": "markdown",
      "metadata": {
        "id": "QRcHN3VF12MT",
        "colab_type": "text"
      },
      "source": [
        "#### file-like Object"
      ]
    },
    {
      "cell_type": "markdown",
      "metadata": {
        "id": "6XsHecJK12PG",
        "colab_type": "text"
      },
      "source": [
        "像open()函数返回的这种有个read()方法的对象，在Python中统称为file-like Object。除了file外，还可以是内存的字节流，网络流，自定义流等等。file-like Object不要求从特定类继承，只要写个read()方法就行。"
      ]
    },
    {
      "cell_type": "markdown",
      "metadata": {
        "id": "mra0oXty12Ro",
        "colab_type": "text"
      },
      "source": [
        "StringIO就是在内存中创建的file-like Object，常用作临时缓冲。"
      ]
    },
    {
      "cell_type": "markdown",
      "metadata": {
        "id": "sO-aPEP-12VT",
        "colab_type": "text"
      },
      "source": [
        "#### 二进制文件"
      ]
    },
    {
      "cell_type": "markdown",
      "metadata": {
        "id": "wxJe7wGT12f2",
        "colab_type": "text"
      },
      "source": [
        "要读取二进制文件，比如图片、视频等等，用'rb'模式打开文件即可：\n",
        "\n",
        "```\n",
        ">>> f = open('/Users/michael/test.jpg', 'rb')\n",
        ">>> f.read()\n",
        "b'\\xff\\xd8\\xff\\xe1\\x00\\x18Exif\\x00\\x00...' # 十六进制表示的字节\n",
        "```\n",
        "\n"
      ]
    },
    {
      "cell_type": "markdown",
      "metadata": {
        "id": "87NOIX3T12i_",
        "colab_type": "text"
      },
      "source": [
        "#### 字符编码"
      ]
    },
    {
      "cell_type": "markdown",
      "metadata": {
        "id": "7gknMUL412ly",
        "colab_type": "text"
      },
      "source": [
        "要读取非UTF-8编码的文本文件，需要给open()函数传入encoding参数，例如，读取GBK编码的文件：\n",
        "\n",
        "```\n",
        ">>> f = open('/Users/michael/gbk.txt', 'r', encoding='gbk')\n",
        ">>> f.read()\n",
        "'测试'\n",
        "```\n",
        "表示如果遇到编码错误后如何处理。最简单的方式是直接忽略：\n",
        "\n",
        "```\n",
        "f = open('/Users/michael/gbk.txt', 'r', encoding='gbk', errors='ignore')\n",
        "```\n",
        "\n",
        "\n"
      ]
    },
    {
      "cell_type": "markdown",
      "metadata": {
        "id": "96q9kbBA12ob",
        "colab_type": "text"
      },
      "source": [
        "### 写文件"
      ]
    },
    {
      "cell_type": "markdown",
      "metadata": {
        "id": "CkjOwVP66ipa",
        "colab_type": "text"
      },
      "source": [
        "写文件和读文件是一样的，唯一区别是调用open()函数时，传入标识符'w'或者'wb'表示写文本文件或写二进制文件：\n",
        "\n",
        "```\n",
        ">>> f = open('/Users/michael/test.txt', 'w')\n",
        ">>> f.write('Hello, world!')\n",
        ">>> f.close()\n",
        "```\n",
        "务必要调用f.close()来关闭文件\n",
        "\n",
        "```\n",
        "with open('/Users/michael/test.txt', 'w') as f:\n",
        "    f.write('Hello, world!')\n",
        "```\n",
        "\n",
        "\n"
      ]
    },
    {
      "cell_type": "markdown",
      "metadata": {
        "id": "M18VfFkT6isN",
        "colab_type": "text"
      },
      "source": [
        "要写入特定编码的文本文件，请给open()函数传入encoding参数，将字符串自动转换成指定编码。"
      ]
    },
    {
      "cell_type": "markdown",
      "metadata": {
        "id": "VFR4GcbV6iu5",
        "colab_type": "text"
      },
      "source": [
        "### StringIO"
      ]
    },
    {
      "cell_type": "markdown",
      "metadata": {
        "id": "oPZu-BSi6ixZ",
        "colab_type": "text"
      },
      "source": [
        "\n",
        "\n",
        "*   StringIO顾名思义就是在内存中读写str。\n",
        "\n",
        "要把str写入StringIO，我们需要先创建一个StringIO，然后，像文件一样写入即可\n",
        "\n",
        "```\n",
        ">>> from io import StringIO\n",
        ">>> f = StringIO()\n",
        ">>> f.write('hello')\n",
        "5\n",
        ">>> f.write(' ')\n",
        "1\n",
        ">>> f.write('world!')\n",
        "6\n",
        ">>> print(f.getvalue())\n",
        "hello world!\n",
        "```\n",
        "\n",
        "getvalue()方法用于获得写入后的str。\n",
        "\n",
        "```\n",
        ">>> from io import StringIO\n",
        ">>> f = StringIO('Hello!\\nHi!\\nGoodbye!')\n",
        ">>> while True:\n",
        "...     s = f.readline()\n",
        "...     if s == '':\n",
        "...         break\n",
        "...     print(s.strip())\n",
        "...\n",
        "Hello!\n",
        "Hi!\n",
        "Goodbye!\n",
        "```\n",
        "\n",
        "\n"
      ]
    },
    {
      "cell_type": "markdown",
      "metadata": {
        "id": "VWXKrj4E6i0I",
        "colab_type": "text"
      },
      "source": [
        "### BytesIO"
      ]
    },
    {
      "cell_type": "markdown",
      "metadata": {
        "id": "8jlWvsF66i3a",
        "colab_type": "text"
      },
      "source": [
        "StringIO操作的只能是str，如果要操作二进制数据，就需要使用BytesIO。"
      ]
    },
    {
      "cell_type": "markdown",
      "metadata": {
        "id": "mM7RUciN6i6F",
        "colab_type": "text"
      },
      "source": [
        "BytesIO实现了在内存中读写bytes，我们创建一个BytesIO，然后写入一些bytes\n",
        "\n",
        "```\n",
        ">>> from io import BytesIO\n",
        ">>> f = BytesIO()\n",
        ">>> f.write('中文'.encode('utf-8'))\n",
        "6\n",
        ">>> print(f.getvalue())\n",
        "b'\\xe4\\xb8\\xad\\xe6\\x96\\x87'\n",
        "```\n",
        "写入的不是str，而是经过UTF-8编码的bytes。 \n",
        "\n",
        "和StringIO类似，可以用一个bytes初始化BytesIO，然后，像读文件一样读取\n",
        "\n",
        "```\n",
        ">>> from io import BytesIO\n",
        ">>> f = BytesIO(b'\\xe4\\xb8\\xad\\xe6\\x96\\x87')\n",
        ">>> f.read()\n",
        "b'\\xe4\\xb8\\xad\\xe6\\x96\\x87'\n",
        "```\n",
        "\n",
        "\n"
      ]
    },
    {
      "cell_type": "markdown",
      "metadata": {
        "id": "dyLAb-GB6i8m",
        "colab_type": "text"
      },
      "source": [
        "#### 小结\n",
        "\n",
        "*   StringIO和BytesIO是在内存中操作str和bytes的方法，使得和读写文件具有一致的接口。\n",
        "\n",
        "\n"
      ]
    },
    {
      "cell_type": "markdown",
      "metadata": {
        "id": "jN2gfM_E7gB7",
        "colab_type": "text"
      },
      "source": [
        "### 操作文件和目录"
      ]
    },
    {
      "cell_type": "markdown",
      "metadata": {
        "id": "MKsaYyGg7gL0",
        "colab_type": "text"
      },
      "source": [
        "\n",
        "*   如果我们要操作文件、目录，可以在命令行下面输入操作系统提供的各种命令来完成。比如dir、cp等命令。\n",
        "\n",
        "*   操作系统提供的命令只是简单地调用了操作系统提供的接口函数，Python内置的os模块也可以直接调用操作系统提供的接口函数。\n",
        "\n"
      ]
    },
    {
      "cell_type": "markdown",
      "metadata": {
        "id": "RueOxBT77gWt",
        "colab_type": "text"
      },
      "source": [
        "打开Python交互式命令行，我们来看看如何使用os模块的基本功能：\n",
        "\n",
        "```\n",
        "import os\n",
        "```\n",
        "如果是posix，说明系统是Linux、Unix或Mac OS X，如果是nt，就是Windows系统。\n",
        "\n",
        "\n",
        "*   要获取详细的系统信息，可以调用uname()函数：\n",
        "\n",
        "\n",
        "```\n",
        "os.uname()\n",
        "```\n",
        "注意uname()函数在Windows上不提供\n",
        "\n",
        "\n"
      ]
    },
    {
      "cell_type": "markdown",
      "metadata": {
        "id": "Yknjd3UA7gyS",
        "colab_type": "text"
      },
      "source": [
        "### 环境变量"
      ]
    },
    {
      "cell_type": "markdown",
      "metadata": {
        "id": "Lig1Gmq_8fRQ",
        "colab_type": "text"
      },
      "source": [
        "\n",
        "\n",
        "*   在操作系统中定义的环境变量，全部保存在os.environ这个变量中，可以直接查看\n",
        "\n",
        "```\n",
        "os.environ\n",
        "```\n",
        "\n",
        "\n",
        "*   要获取某个环境变量的值，可以调用os.environ.get('key')：\n",
        "\n",
        "\n",
        "```\n",
        "os.environ.get('PATH')\n",
        "```\n",
        "\n",
        "\n"
      ]
    },
    {
      "cell_type": "markdown",
      "metadata": {
        "id": "_eG9_SGu8fTw",
        "colab_type": "text"
      },
      "source": [
        "### 操作文件和目录"
      ]
    },
    {
      "cell_type": "markdown",
      "metadata": {
        "id": "Y0IrG8E18fWa",
        "colab_type": "text"
      },
      "source": [
        "操作文件和目录的函数一部分放在os模块中，一部分放在os.path模块中，这一点要注意一下。查看、创建和删除目录可以这么调用：\n",
        "\n",
        "```\n",
        "# 查看当前目录的绝对路径:\n",
        ">>> os.path.abspath('.')\n",
        "'/Users/michael'\n",
        "# 在某个目录下创建一个新目录，首先把新目录的完整路径表示出来:\n",
        ">>> os.path.join('/Users/michael', 'testdir')\n",
        "'/Users/michael/testdir'\n",
        "# 然后创建一个目录:\n",
        ">>> os.mkdir('/Users/michael/testdir')\n",
        "# 删掉一个目录:\n",
        ">>> os.rmdir('/Users/michael/testdir')\n",
        "```\n",
        "把两个路径合成一个时，不要直接拼字符串，而要通过os.path.join()函数，这样可以正确处理不同操作系统的路径分隔符。\n",
        "\n",
        "\n",
        "在Linux/Unix/Mac下，os.path.join()返回这样的字符串：\n",
        "\n",
        "```\n",
        "part-1/part-2\n",
        "```\n",
        "\n",
        "而Windows下会返回这样的字符串：\n",
        "\n",
        "```\n",
        "part-1\\part-2\n",
        "```\n",
        "同样的道理，要拆分路径时，也不要直接去拆字符串，而要通过os.path.split()函数，这样可以把一个路径拆分为两部分，后一部分总是最后级别的目录或文件名：\n",
        "\n",
        "```\n",
        "os.path.split('/Users/michael/testdir/file.txt')\n",
        "```\n",
        "\n",
        "os.path.splitext()可以直接让你得到文件扩展名，很多时候非常方便：\n",
        "\n",
        "```\n",
        ">>> os.path.splitext('/path/to/file.txt')\n",
        "('/path/to/file', '.txt')\n",
        "```\n",
        "\n",
        "这些合并、拆分路径的函数并不要求目录和文件要真实存在，它们只对字符串进行操作。\n",
        "\n",
        "文件操作使用下面的函数。假定当前目录下有一个test.txt文件：\n",
        "\n",
        "```\n",
        "# 对文件重命名:\n",
        ">>> os.rename('test.txt', 'test.py')\n",
        "# 删掉文件:\n",
        ">>> os.remove('test.py')\n",
        "```\n",
        "\n",
        "\n"
      ]
    },
    {
      "cell_type": "markdown",
      "metadata": {
        "id": "zLrkv1pU8fZF",
        "colab_type": "text"
      },
      "source": [
        "利用Python的特性来过滤文件。比如我们要列出当前目录下的所有目录，只需要一行代码：\n",
        "\n",
        "```\n",
        ">>> [x for x in os.listdir('.') if os.path.isdir(x)]\n",
        "['.lein', '.local', '.m2', '.npm', '.ssh', '.Trash', '.vim', 'Applications', 'Desktop', ...]\n",
        "```\n",
        "要列出所有的.py文件，也只需一行代码：\n",
        "\n",
        "```\n",
        ">>> [x for x in os.listdir('.') if os.path.isfile(x) and os.path.splitext(x)[1]=='.py']\n",
        "['apis.py', 'config.py', 'models.py', 'pymonitor.py', 'test_db.py', 'urls.py', 'wsgiapp.py']\n",
        "```\n",
        "\n",
        "\n"
      ]
    },
    {
      "cell_type": "markdown",
      "metadata": {
        "id": "vmv5G7yh8fbr",
        "colab_type": "text"
      },
      "source": [
        "### 小结\n",
        "\n",
        "\n",
        "*   ython的os模块封装了操作系统的目录和文件操作，要注意这些函数有的在os模块中，有的在os.path模块中。\n",
        "\n",
        "\n",
        "```\n",
        "import time\n",
        "import os\n",
        "import pwd\n",
        "import grp\n",
        "import sys\n",
        "\n",
        "class OutputFile(object):\n",
        "    def __init__(self):\n",
        "        self.file_name = ''\n",
        "        self.modify_time = ''\n",
        "        self.size = ''\n",
        "        self.mode = ''\n",
        "        self.isdir = ''\n",
        "        self.nlink = ''\n",
        "        self.user_name = ''\n",
        "        self.group_name = ''\n",
        "\n",
        "    def show(self):\n",
        "        dir_str = 'd' if self.isdir else '-'\n",
        "        for i in range(3):\n",
        "            mode = bin(int(self.mode[i]))[-3:]\n",
        "            for j, x in enumerate(['r', 'w', 'x']):\n",
        "                dir_str += x if mode[j] == '1' else '-'\n",
        "        self.user_name = pwd.getpwuid(self.user_name).pw_name\n",
        "        self.group_name = grp.getgrgid(self.group_name).gr_name\n",
        "        f_time = time.localtime(self.modify_time)\n",
        "        currut_time = time.localtime(time.time())\n",
        "        year = f_time.tm_year\n",
        "        if currut_time.tm_year == f_time.tm_year:\n",
        "            year = time.strftime('%H:%M', f_time)\n",
        "        ret = '{:<12}{:>4}{:>10}{:>8}{:>8}{:>3}{:>3}{:>6} {:<20}'.format(dir_str, self.nlink, self.user_name, self.group_name, self.size, f_time.tm_mon, f_time.tm_mday, year, self.file_name)\n",
        "        return ret\n",
        "\n",
        "results = []\n",
        "base_dir = sys.argv[1]\n",
        "files = os.listdir(base_dir)\n",
        "files = sorted(files)\n",
        "for file in files:\n",
        "    if not file.startswith('.'):\n",
        "        stat = os.stat(os.path.join(base_dir, file))\n",
        "        outputfile = OutputFile()\n",
        "        outputfile.file_name = file\n",
        "        outputfile.modify_time = stat[-2]\n",
        "        outputfile.size = stat[6]\n",
        "        outputfile.mode = oct(stat.st_mode)[-3:]\n",
        "        outputfile.isdir = os.path.isdir(os.path.join(base_dir, file))\n",
        "        outputfile.nlink = stat.st_nlink\n",
        "        outputfile.user_name = stat.st_uid\n",
        "        outputfile.group_name = stat.st_gid\n",
        "        results.append(outputfile)\n",
        "for result in results:\n",
        "    print(result.show())\n",
        "```\n",
        "\n",
        "\n",
        "\n"
      ]
    },
    {
      "cell_type": "markdown",
      "metadata": {
        "id": "eyOQ89Y18fl0",
        "colab_type": "text"
      },
      "source": [
        "\n",
        "\n",
        "```\n",
        "import os,time\n",
        "\n",
        "def time_format(x):\n",
        "\treturn time.asctime(time.localtime(x))\n",
        "\n",
        "#第一题\n",
        "def cmd_dir():\n",
        "\tpath = os.path.abspath('.')\n",
        "\tdir_and_file = [x for x in os.listdir('.')]\n",
        "\tgettime = list(map(time_format,map(os.path.getmtime,dir_and_file)))\n",
        "\tgetsize = list(map(os.path.getsize,dir_and_file))\n",
        "\tn = 0\n",
        "\twhile n < len(dir_and_file):\n",
        "\t\tprint(gettime[n],' ==> ',getsize[n],' ==> ',dir_and_file[n])\n",
        "\t\tn += 1\n",
        "#第二题\n",
        "def findstrr(path,st):\n",
        "\tfor x in os.listdir(path):\n",
        "\t\tif os.path.isdir(x):\n",
        "\t\t\tnew_path = os.path.join(path,x)\n",
        "\t\t\tfindstrr(new_path,st)\n",
        "\t\telif st in os.path.splitext(x)[0]:\n",
        "\t\t\tprint(\"相关文件名:%s, 相对路径:  %s\" % (x,os.path.relpath(path)))\n",
        "\n",
        "\n",
        "if __name__ == '__main__':\n",
        "\tf = os.path.abspath('.')\n",
        "\ttext = input('input: ')\n",
        "\tfindstrr(f,text)\n",
        "```\n",
        "\n"
      ]
    },
    {
      "cell_type": "markdown",
      "metadata": {
        "id": "KGhvuFJY47fM",
        "colab_type": "text"
      },
      "source": [
        "### 序列化"
      ]
    },
    {
      "cell_type": "markdown",
      "metadata": {
        "id": "RxalEuJk5DJr",
        "colab_type": "text"
      },
      "source": [
        "*  在程序运行的过程中，所有的变量都是在内存中\n",
        "*  把变量从内存中变成可存储或传输的过程称之为序列化，在Python中叫pickling\n",
        "\n",
        "*  序列化之后，就可以把序列化后的内容写入磁盘，或者通过网络传输到别的机器上\n",
        "\n",
        "*  把变量内容从序列化的对象重新读到内存里称之为反序列化，即unpickling\n",
        "\n",
        "*  Python提供了pickle模块来实现序列化\n",
        "\n",
        "尝试把一个对象序列化并写入文件\n",
        "\n",
        "```\n",
        " import pickle\n",
        ">>> d = dict(name='Bob', age=20, score=88)\n",
        ">>> pickle.dumps(d)\n",
        "b'\\x80\\x03}q\\x00(X\\x03\\x00\\x00\\x00ageq\\x01K\\x14X\\x05\\x00\\x00\\x00scoreq\\x02KXX\\x04\\x00\\x00\\x00nameq\\x03X\\x03\\x00\\x00\\x00Bobq\\x04u.'\n",
        "```\n",
        "\n",
        "pickle.dumps()方法把任意对象序列化成一个bytes，然后，就可以把这个bytes写入文件。或者用另一个方法pickle.dump()直接把对象序列化后写入一个file-like Object：\n",
        "\n",
        "\n",
        "```\n",
        ">>> f = open('dump.txt', 'wb')\n",
        ">>> pickle.dump(d, f)\n",
        ">>> f.close()\n",
        "```\n",
        "\n",
        "要把对象从磁盘读到内存时，可以先把内容读到一个bytes，然后用pickle.loads()方法反序列化出对象，也可以直接用pickle.load()方法从一个file-like Object中直接反序列化出对象。\n",
        "\n",
        "```\n",
        ">>> f = open('dump.txt', 'rb')\n",
        ">>> d = pickle.load(f)\n",
        ">>> f.close()\n",
        ">>> d\n",
        "{'age': 20, 'score': 88, 'name': 'Bob'}\n",
        "```\n",
        "\n"
      ]
    },
    {
      "cell_type": "markdown",
      "metadata": {
        "id": "StbrXi2h5DP3",
        "colab_type": "text"
      },
      "source": [
        "### JSON\n",
        "*  要在不同的编程语言之间传递对象，就必须把对象序列化为标准格式，比如XML，但更好的方法是序列化为JSON，因为JSON表示出来就是一个字符串，可以被所有语言读取，也可以方便地存储到磁盘或者通过网络传输\n",
        "*  JSON不仅是标准格式，并且比XML更快，而且可以直接在Web页面中读取，非常方便。\n"
      ]
    },
    {
      "cell_type": "markdown",
      "metadata": {
        "id": "NJbL0zNY5DS-",
        "colab_type": "text"
      },
      "source": [
        "Python内置的json模块提供了非常完善的Python对象到JSON格式的转换。\n",
        "\n",
        "```\n",
        "import json\n",
        "d = dict(name='Bob', age=20, score=88)\n",
        "json.dumps(d)\n",
        "'{\"age\": 20, \"score\": 88, \"name\": \"Bob\"}'\n",
        "\n",
        "```\n",
        "dumps()方法返回一个str，内容就是标准的JSON。类似的，dump()方法可以直接把JSON写入一个file-like Object。\n",
        "\n",
        "要把JSON反序列化为Python对象，用loads()或者对应的load()方法，前者把JSON的字符串反序列化，后者从file-like Object中读取字符串并反序列化\n",
        "\n",
        "```\n",
        ">>> json_str = '{\"age\": 20, \"score\": 88, \"name\": \"Bob\"}'\n",
        ">>> json.loads(json_str)\n",
        "{'age': 20, 'score': 88, 'name': 'Bob'}\n",
        "```\n",
        "\n",
        "\n",
        "JSON标准规定JSON编码是UTF-8"
      ]
    },
    {
      "cell_type": "markdown",
      "metadata": {
        "id": "9rgS6qgs5DVp",
        "colab_type": "text"
      },
      "source": [
        "### JSON进阶"
      ]
    },
    {
      "cell_type": "markdown",
      "metadata": {
        "id": "eysgEWr25Ddj",
        "colab_type": "text"
      },
      "source": [
        "Python的dict对象可以直接序列化为JSON的{}，不过，很多时候，我们更喜欢用class表示对象，比如定义Student类，然后序列化：\n",
        "\n",
        "dumps(https://docs.python.org/3/library/json.html#json.dumps)\n",
        "```\n",
        "import json\n",
        "\n",
        "class Student(object):\n",
        "    def __init__(self, name, age, score):\n",
        "        self.name = name\n",
        "        self.age = age\n",
        "        self.score = score\n",
        "\n",
        "s = Student('Bob', 20, 88)\n",
        "print(json.dumps(s))\n",
        "\n",
        "\n",
        "\n",
        "def student2dict(std):\n",
        "    return {\n",
        "        'name': std.name,\n",
        "        'age': std.age,\n",
        "        'score': std.score\n",
        "    }\n",
        "\n",
        "\n",
        "\n",
        "\n",
        ">>> print(json.dumps(s, default=student2dict))\n",
        "{\"age\": 20, \"name\": \"Bob\", \"score\": 88}\n",
        "\n",
        "\n",
        "\n",
        "\n",
        "\n",
        "```\n",
        "\n",
        "\n",
        "通常class的实例都有一个__dict__属性，它就是一个dict，用来存储实例变量。也有少数例外，比如定义了__slots__的class。\n",
        "\n",
        "同样的道理，如果我们要把JSON反序列化为一个Student对象实例，loads()方法首先转换出一个dict对象，然后，我们传入的object_hook函数负责把dict转换为Student实例：\n",
        "\n",
        "```\n",
        "def dict2student(d):\n",
        "    return Student(d['name'], d['age'], d['score'])\n",
        "```\n",
        "\n"
      ]
    },
    {
      "cell_type": "markdown",
      "metadata": {
        "id": "xM0VdL12OrGf",
        "colab_type": "text"
      },
      "source": [
        "***\n",
        "***\n"
      ]
    },
    {
      "cell_type": "markdown",
      "metadata": {
        "id": "1dtnrirDOtnu",
        "colab_type": "text"
      },
      "source": [
        "# 进程和线程"
      ]
    },
    {
      "cell_type": "markdown",
      "metadata": {
        "id": "aOrqDn_COvnQ",
        "colab_type": "text"
      },
      "source": [
        "*  对于操作系统来说，一个任务就是一个进程（Process），比如打开一个浏览器就是启动一个浏览器进程，打开一个记事本就启动了一个记事本进程，打开两个记事本就启动了两个记事本进程，打开一个Word就启动了一个Word进程  \n",
        "*  有些进程还不止同时干一件事，比如Word，它可以同时进行打字、拼写检查、打印等事情。在一个进程内部，要同时干多件事，就需要同时运行多个“子任务”，我们把进程内的这些“子任务”称为线程（Thread）。\n",
        "\n",
        "\n",
        "1.   一种是启动多个进程，每个进程虽然只有一个线程，但多个进程可以一块执行多个任务。\n",
        "2.   启动一个进程，在一个进程内启动多个线程，这样，多个线程也可以一块执行多个任务。\n",
        "\n",
        "3.  启动多个进程，每个进程再启动多个线程\n",
        "\n",
        "####小结\n",
        "\n",
        "\n",
        "1.   线程是最小的执行单元，而进程由至少一个线程组成。\n",
        "2.   多进程和多线程的程序涉及到同步、数据共享的问题，编写起来更复杂\n",
        "\n"
      ]
    },
    {
      "cell_type": "markdown",
      "metadata": {
        "id": "TYUSOMCPOvuG",
        "colab_type": "text"
      },
      "source": [
        "##  多进程（multiprocessing）"
      ]
    },
    {
      "cell_type": "markdown",
      "metadata": {
        "id": "JmiBLUWnOvwk",
        "colab_type": "text"
      },
      "source": [
        "Python的os模块封装了常见的系统调用  fork\n",
        "\n",
        "```\n",
        "import os\n",
        "\n",
        "print('Process (%s) start...' % os.getpid())\n",
        "# Only works on Unix/Linux/Mac:\n",
        "pid = os.fork()\n",
        "if pid == 0:\n",
        "    print('I am child process (%s) and my parent is %s.' % (os.getpid(), os.getppid()))\n",
        "else:\n",
        "    print('I (%s) just created a child process (%s).' % (os.getpid(), pid))\n",
        "```\n",
        "***\n",
        "\n",
        "\n",
        "```\n",
        "Process (876) start...\n",
        "I (876) just created a child process (877).\n",
        "I am child process (877) and my parent is 876.\n",
        "```\n",
        "有了fork调用，一个进程在接到新任务时就可以复制出一个子进程来处理新任务，常见的Apache服务器就是由父进程监听端口，每当有新的http请求时，就fork出子进程来处理新的http请求。\n",
        "\n"
      ]
    },
    {
      "cell_type": "markdown",
      "metadata": {
        "id": "_DKt1bwmOvyu",
        "colab_type": "text"
      },
      "source": [
        "*  multiprocessing模块是跨平台版本的多进程模块\n",
        "*  multiprocessing模块提供了一个Process类来代表一个进程对象\n",
        "\n",
        "```\n",
        "from multiprocessing import Process\n",
        "import os\n",
        "\n",
        "# 子进程要执行的代码\n",
        "def run_proc(name):\n",
        "    print('Run child process %s (%s)...' % (name, os.getpid()))\n",
        "\n",
        "if __name__=='__main__':\n",
        "    print('Parent process %s.' % os.getpid())\n",
        "    p = Process(target=run_proc, args=('test',))\n",
        "    print('Child process will start.')\n",
        "    p.start()\n",
        "    p.join()\n",
        "    print('Child process end.')\n",
        "```\n",
        "\n",
        "\n",
        "创建子进程时，只需要传入一个执行函数和函数的参数，创建一个Process实例，用start()方法启动，这样创建进程比fork()还要简单。  \n",
        "\n",
        "join()方法可以等待子进程结束后再继续往下运行，通常用于进程间的同步。"
      ]
    },
    {
      "cell_type": "markdown",
      "metadata": {
        "id": "EXHESV1XOv39",
        "colab_type": "text"
      },
      "source": [
        "### Pool\n",
        "如果要启动大量的子进程，可以用进程池的方式批量创建子进程\n",
        "\n",
        "```\n",
        "from multiprocessing import Pool\n",
        "import os, time, random\n",
        "\n",
        "def long_time_task(name):\n",
        "    print('Run task %s (%s)...' % (name, os.getpid()))\n",
        "    start = time.time()\n",
        "    time.sleep(random.random() * 3)\n",
        "    end = time.time()\n",
        "    print('Task %s runs %0.2f seconds.' % (name, (end - start)))\n",
        "\n",
        "if __name__=='__main__':\n",
        "    print('Parent process %s.' % os.getpid())\n",
        "    p = Pool(4)\n",
        "    for i in range(5):\n",
        "        p.apply_async(long_time_task, args=(i,))\n",
        "    print('Waiting for all subprocesses done...')\n",
        "    p.close()\n",
        "    p.join()\n",
        "    print('All subprocesses done.')\n",
        "```\n",
        "\n",
        "对Pool对象调用join()方法会等待所有子进程执行完毕，调用join()之前必须先调用close()，调用close()之后就不能继续添加新的Process了。  \n",
        "请注意输出的结果，task 0，1，2，3是立刻执行的，而task 4要等待前面某个task完成后才执行，这是因为Pool的默认大小在我的电脑上是4，因此，最多同时执行4个进程。这是Pool有意设计的限制，并不是操作系统的限制。"
      ]
    },
    {
      "cell_type": "markdown",
      "metadata": {
        "id": "P48n5skUOv6v",
        "colab_type": "text"
      },
      "source": [
        "### 子进程"
      ]
    },
    {
      "cell_type": "markdown",
      "metadata": {
        "id": "PJSu0CpxOv9g",
        "colab_type": "text"
      },
      "source": [
        "子进程并不是自身，而是一个外部进程。我们创建了子进程后，还需要控制子进程的输入和输出。"
      ]
    },
    {
      "cell_type": "markdown",
      "metadata": {
        "id": "RApXyNcqOv_x",
        "colab_type": "text"
      },
      "source": [
        "在Python代码中运行命令nslookup www.python.org，这和命令行直接运行的效果是一样的：\n",
        "\n",
        "```\n",
        "import subprocess\n",
        "\n",
        "print('$ nslookup www.python.org')\n",
        "r = subprocess.call(['nslookup', 'www.python.org'])\n",
        "print('Exit code:', r)\n",
        "```\n",
        "结果\n",
        "\n",
        "\n",
        "```\n",
        "$ nslookup www.python.org\n",
        "Server:\t\t192.168.19.4\n",
        "Address:\t192.168.19.4#53\n",
        "\n",
        "Non-authoritative answer:\n",
        "www.python.org\tcanonical name = python.map.fastly.net.\n",
        "Name:\tpython.map.fastly.net\n",
        "Address: 199.27.79.223\n",
        "\n",
        "Exit code: 0\n",
        "```\n",
        "\n",
        "如果子进程还需要输入，则可以通过communicate()方法输入：\n",
        "\n",
        "```\n",
        "import subprocess\n",
        "\n",
        "print('$ nslookup')\n",
        "p = subprocess.Popen(['nslookup'], stdin=subprocess.PIPE, stdout=subprocess.PIPE, stderr=subprocess.PIPE)\n",
        "output, err = p.communicate(b'set q=mx\\npython.org\\nexit\\n')\n",
        "print(output.decode('utf-8'))\n",
        "print('Exit code:', p.returncode)\n",
        "```\n",
        "\n",
        "\n"
      ]
    },
    {
      "cell_type": "markdown",
      "metadata": {
        "id": "SsmbE3J3OwDD",
        "colab_type": "text"
      },
      "source": [
        "### 进程间通信"
      ]
    },
    {
      "cell_type": "markdown",
      "metadata": {
        "id": "lV17S0EJOwHN",
        "colab_type": "text"
      },
      "source": [
        "Process之间肯定是需要通信的，操作系统提供了很多机制来实现进程间的通信。Python的multiprocessing模块包装了底层的机制，提供了Queue、Pipes等多种方式来交换数据。"
      ]
    },
    {
      "cell_type": "markdown",
      "metadata": {
        "id": "Sn8Bf1_QOwJs",
        "colab_type": "text"
      },
      "source": [
        "在Unix/Linux下，multiprocessing模块封装了fork()调用，使我们不需要关注fork()的细节。由于Windows没有fork调用，因此，multiprocessing需要“模拟”出fork的效果，父进程所有Python对象都必须通过pickle序列化再传到子进程去，所有，如果multiprocessing在Windows下调用失败了，要先考虑是不是pickle失败了。"
      ]
    },
    {
      "cell_type": "markdown",
      "metadata": {
        "id": "8nD1YM_FOwUN",
        "colab_type": "text"
      },
      "source": [
        "#### 小结\n",
        "\n",
        "1.   在Unix/Linux下，可以使用fork()调用实现多进程。\n",
        "\n",
        "\n",
        "2.   要实现跨平台的多进程，可以使用multiprocessing模块\n",
        "\n",
        "\n",
        "3.   进程间通信是通过Queue、Pipes等实现的。\n"
      ]
    },
    {
      "cell_type": "markdown",
      "metadata": {
        "id": "JAwh59RSOwW8",
        "colab_type": "text"
      },
      "source": [
        "### 多线程\n",
        "由于线程是操作系统直接支持的执行单元，因此，高级语言通常都内置多线程的支持，Python也不例外，并且，Python的线程是真正的Posix Thread，而不是模拟出来的线程。"
      ]
    },
    {
      "cell_type": "markdown",
      "metadata": {
        "id": "7FMAZAToOwcR",
        "colab_type": "text"
      },
      "source": [
        "Python的标准库提供了两个模块：`_thread`和threading，`_thread`是低级模块，threading是高级模块，对`_thread`进行了封装。绝大多数情况下，我们只需要使用threading这个高级模块。\n",
        "启动一个线程就是把一个函数传入并创建Thread实例，然后调用start()开始执行\n",
        "\n",
        "```\n",
        "import time, threading\n",
        "\n",
        "# 新线程执行的代码:\n",
        "def loop():\n",
        "    print('thread %s is running...' % threading.current_thread().name)\n",
        "    n = 0\n",
        "    while n < 5:\n",
        "        n = n + 1\n",
        "        print('thread %s >>> %s' % (threading.current_thread().name, n))\n",
        "        time.sleep(1)\n",
        "    print('thread %s ended.' % threading.current_thread().name)\n",
        "\n",
        "print('thread %s is running...' % threading.current_thread().name)\n",
        "t = threading.Thread(target=loop, name='LoopThread')\n",
        "t.start()\n",
        "t.join()\n",
        "print('thread %s ended.' % threading.current_thread().name)\n",
        "```\n",
        "\n",
        "任何进程默认就会启动一个线程，我们把该线程称为主线程，主线程又可以启动新的线程  \n",
        "Python的threading模块有个current_thread()函数，它永远返回当前线程的实例。主线程实例的名字叫MainThread，子线程的名字在创建时指定，我们用LoopThread命名子线程。  \n",
        "名字仅仅在打印时用来显示，完全没有其他意义，如果不起名字Python就自动给线程命名为Thread-1，Thread-2……"
      ]
    },
    {
      "cell_type": "markdown",
      "metadata": {
        "id": "xNsPBzEKOwfL",
        "colab_type": "text"
      },
      "source": [
        "### Lock"
      ]
    },
    {
      "cell_type": "markdown",
      "metadata": {
        "id": "kntOtsB4Owho",
        "colab_type": "text"
      },
      "source": [
        "多线程和多进程最大的不同在于，多进程中，同一个变量，各自有一份拷贝存在于每个进程中，互不影响，而多线程中，所有变量都由所有线程共享，所以，任何一个变量都可以被任何一个线程修改，因此，线程之间共享数据最大的危险在于多个线程同时改一个变量，把内容给改乱了。"
      ]
    },
    {
      "cell_type": "markdown",
      "metadata": {
        "id": "qOjZyShYOwTK",
        "colab_type": "text"
      },
      "source": [
        "必须确保一个线程在修改balance的时候，别的线程一定不能改。  \n",
        "要确保balance计算正确，就要给change_it()上一把锁，当某个线程开始执行change_it()时，我们说，该线程因为获得了锁，因此其他线程不能同时执行change_it()，只能等待，直到锁被释放后，获得该锁以后才能改  \n",
        "由于锁只有一个，无论多少线程，同一时刻最多只有一个线程持有该锁，所以，不会造成修改的冲突。创建一个锁就是通过threading.Lock()来实现：\n",
        "\n",
        "```\n",
        "balance = 0\n",
        "lock = threading.Lock()\n",
        "\n",
        "def run_thread(n):\n",
        "    for i in range(100000):\n",
        "        # 先要获取锁:\n",
        "        lock.acquire()\n",
        "        try:\n",
        "            # 放心地改吧:\n",
        "            change_it(n)\n",
        "        finally:\n",
        "            # 改完了一定要释放锁:\n",
        "            lock.release()\n",
        "```\n",
        "\n",
        "当多个线程同时执行lock.acquire()时，只有一个线程能成功地获取锁，然后继续执行代码，其他线程就继续等待直到获得锁为止。\n",
        "\n",
        "获得锁的线程用完后一定要释放锁，否则那些苦苦等待锁的线程将永远等待下去，成为死线程。所以我们用try...finally来确保锁一定会被释放"
      ]
    },
    {
      "cell_type": "markdown",
      "metadata": {
        "id": "D2GEs0ezOwSB",
        "colab_type": "text"
      },
      "source": [
        "### 多核CPU  \n",
        "在Python中，可以使用多线程，但不要指望能有效利用多核。如果一定要通过多线程利用多核，那只能通过C扩展来实现，不过这样就失去了Python简单易用的特点。"
      ]
    },
    {
      "cell_type": "markdown",
      "metadata": {
        "id": "jJTWvO8nOwQz",
        "colab_type": "text"
      },
      "source": [
        "#### 小结\n",
        "\n",
        "\n",
        "1.  多线程编程，模型复杂，容易发生冲突，必须用锁加以隔离，同时，又要小心死锁的发生。\n",
        "2.   Python解释器由于设计时有GIL全局锁，导致了多线程无法利用多核\n",
        "\n"
      ]
    },
    {
      "cell_type": "markdown",
      "metadata": {
        "id": "AIVOOoabOwFB",
        "colab_type": "text"
      },
      "source": [
        "### ThreadLocal"
      ]
    },
    {
      "cell_type": "markdown",
      "metadata": {
        "id": "uIHORd0iOv1p",
        "colab_type": "text"
      },
      "source": [
        "在多线程环境下，每个线程都有自己的数据。一个线程使用自己的局部变量比使用全局变量好，因为局部变量只有线程自己能看见，不会影响其他线程，而全局变量的修改必须加锁。  \n",
        "用一个全局dict存放所有的Student对象，然后以thread自身作为key获得线程对应的Student对象如何？\n",
        "\n",
        "```\n",
        "global_dict = {}\n",
        "\n",
        "def std_thread(name):\n",
        "    std = Student(name)\n",
        "    # 把std放到全局变量global_dict中：\n",
        "    global_dict[threading.current_thread()] = std\n",
        "    do_task_1()\n",
        "    do_task_2()\n",
        "\n",
        "def do_task_1():\n",
        "    # 不传入std，而是根据当前线程查找：\n",
        "    std = global_dict[threading.current_thread()]\n",
        "    ...\n",
        "\n",
        "def do_task_2():\n",
        "    # 任何函数都可以查找出当前线程的std变量：\n",
        "    std = global_dict[threading.current_thread()]\n",
        "    ...\n",
        "```\n",
        "\n",
        "最大的优点是消除了std对象在每层函数中的传递问题，但是，每个函数获取std的代码有点丑。  \n",
        "\n",
        "\n",
        "\n",
        "\n",
        "\n",
        "ThreadLocal应运而生，不用查找dict，ThreadLocal帮你自动做这件事：\n",
        "```\n",
        "import threading\n",
        "    \n",
        "# 创建全局ThreadLocal对象:\n",
        "local_school = threading.local()\n",
        "\n",
        "def process_student():\n",
        "    # 获取当前线程关联的student:\n",
        "    std = local_school.student\n",
        "    print('Hello, %s (in %s)' % (std, threading.current_thread().name))\n",
        "\n",
        "def process_thread(name):\n",
        "    # 绑定ThreadLocal的student:\n",
        "    local_school.student = name\n",
        "    process_student()\n",
        "\n",
        "t1 = threading.Thread(target= process_thread, args=('Alice',), name='Thread-A')\n",
        "t2 = threading.Thread(target= process_thread, args=('Bob',), name='Thread-B')\n",
        "t1.start()\n",
        "t2.start()\n",
        "t1.join()\n",
        "t2.join()\n",
        "```\n",
        "\n",
        "全局变量local_school是一个dict，不但可以用local_school.student，还可以绑定其他变量，如local_school.teacher  \n",
        "\n",
        "ThreadLocal最常用的地方就是为每个线程绑定一个数据库连接，HTTP请求，用户身份信息等，这样一个线程的所有调用到的处理函数都可以非常方便地访问这些资源。\n",
        "\n",
        "#### 小结\n",
        "\n",
        "一个ThreadLocal变量虽然是全局变量，但每个线程都只能读写自己线程的独立副本，互不干扰。ThreadLocal解决了参数在一个线程中各个函数之间互相传递的问题。"
      ]
    },
    {
      "cell_type": "markdown",
      "metadata": {
        "id": "EQaYA_6jOvro",
        "colab_type": "text"
      },
      "source": [
        "### 进程 vs. 线程"
      ]
    },
    {
      "cell_type": "markdown",
      "metadata": {
        "id": "seDC1wy2YeRG",
        "colab_type": "text"
      },
      "source": [
        "要实现多任务，通常我们会设计Master-Worker模式，Master负责分配任务，Worker负责执行任务，因此，多任务环境下，通常是一个Master，多个Worker。\n",
        "\n",
        "*   如果用多进程实现Master-Worker，主进程就是Master，其他进程就是Worker。\n",
        "*   如果用多线程实现Master-Worker，主线程就是Master，其他线程就是Worker。\n",
        "\n"
      ]
    },
    {
      "cell_type": "markdown",
      "metadata": {
        "id": "TcZxhfYVYeT4",
        "colab_type": "text"
      },
      "source": [
        "在Windows下，多线程的效率比多进程要高，所以微软的IIS服务器默认采用多线程模式。由于多线程存在稳定性的问题，IIS的稳定性就不如Apache。为了缓解这个问题，IIS和Apache现在又有多进程+多线程的混合模式，真是把问题越搞越复杂。"
      ]
    },
    {
      "cell_type": "markdown",
      "metadata": {
        "id": "YwRn8FTDYeW_",
        "colab_type": "text"
      },
      "source": [
        "#### 线程切换  \n",
        "操作系统在切换进程或者线程时也是一样的，它需要先保存当前执行的现场环境（CPU寄存器状态、内存页等），然后，把新任务的执行环境准备好（恢复上次的寄存器状态，切换内存页等），才能开始执行。这个切换过程虽然很快，但是也需要耗费时间。如果有几千个任务同时进行，操作系统可能就主要忙着切换任务，根本没有多少时间去执行任务了，这种情况最常见的就是硬盘狂响，点窗口无反应，系统处于假死状态。"
      ]
    },
    {
      "cell_type": "markdown",
      "metadata": {
        "id": "iTPb3xdcYeZh",
        "colab_type": "text"
      },
      "source": [
        "#### 计算密集型 vs. IO密集型\n",
        "任务分为计算密集型和IO密集型。\n",
        "\n",
        "*   要最高效地利用CPU，计算密集型任务同时进行的数量应当等于CPU的核心数。\n",
        "*   涉及到网络、磁盘IO的任务都是IO密集型任务，特点是CPU消耗很少，任务的大部分时间都在等待IO操作完成（因为IO的速度远远低于CPU和内存的速度）  O密集型任务执行期间，99%的时间都花在IO上，花在CPU上的时间很少\n"
      ]
    },
    {
      "cell_type": "markdown",
      "metadata": {
        "id": "HUzx7f7HYecl",
        "colab_type": "text"
      },
      "source": [
        "#### 异步IO  \n",
        "分利用操作系统提供的异步IO支持，就可以用单进程单线程模型来执行多任务，这种全新的模型称为事件驱动模型  \n",
        "Nginx就是支持异步IO的Web服务器，它在单核CPU上采用单进程模型就可以高效地支持多任务。在多核CPU上，可以运行多个进程（数量与CPU核心数相同），充分利用多核CPU。  \n",
        "对应到Python语言，单线程的异步编程模型称为协程，有了协程的支持，就可以基于事件驱动编写高效的多任务程序。"
      ]
    },
    {
      "cell_type": "markdown",
      "metadata": {
        "id": "7VY1vDoFx4am",
        "colab_type": "text"
      },
      "source": [
        "###  分布式进程\n",
        "在Thread和Process中，应当优选Process，因为Process更稳定，而且，Process可以分布到多台机器上，而Thread最多只能分布到同一台机器的多个CPU上。"
      ]
    },
    {
      "cell_type": "markdown",
      "metadata": {
        "id": "GIkGEkZQx4j1",
        "colab_type": "text"
      },
      "source": [
        "如果我们已经有一个通过Queue通信的多进程程序在同一台机器上运行，现在，由于处理任务的进程任务繁重，希望把发送任务的进程和处理任务的进程分布到两台机器上。怎么用分布式进程实现？\n",
        "\n",
        "\n",
        "1.   原有的Queue可以继续使用，但是，通过managers模块把Queue通过网络暴露出去，就可以让其他机器的进程访问Queue了。\n",
        "\n",
        "\n",
        "2.   我们先看服务进程，服务进程负责启动Queue，把Queue注册到网络上，然后往Queue里面写入任务：\n",
        "\n",
        "\n",
        "```\n",
        "# task_master.py\n",
        "\n",
        "import random, time, queue\n",
        "from multiprocessing.managers import BaseManager\n",
        "\n",
        "# 发送任务的队列:\n",
        "task_queue = queue.Queue()\n",
        "# 接收结果的队列:\n",
        "result_queue = queue.Queue()\n",
        "\n",
        "# 从BaseManager继承的QueueManager:\n",
        "class QueueManager(BaseManager):\n",
        "    pass\n",
        "\n",
        "# 把两个Queue都注册到网络上, callable参数关联了Queue对象:\n",
        "QueueManager.register('get_task_queue', callable=lambda: task_queue)\n",
        "QueueManager.register('get_result_queue', callable=lambda: result_queue)\n",
        "# 绑定端口5000, 设置验证码'abc':\n",
        "manager = QueueManager(address=('', 5000), authkey=b'abc')\n",
        "# 启动Queue:\n",
        "manager.start()\n",
        "# 获得通过网络访问的Queue对象:\n",
        "task = manager.get_task_queue()\n",
        "result = manager.get_result_queue()\n",
        "# 放几个任务进去:\n",
        "for i in range(10):\n",
        "    n = random.randint(0, 10000)\n",
        "    print('Put task %d...' % n)\n",
        "    task.put(n)\n",
        "# 从result队列读取结果:\n",
        "print('Try get results...')\n",
        "for i in range(10):\n",
        "    r = result.get(timeout=10)\n",
        "    print('Result: %s' % r)\n",
        "# 关闭:\n",
        "manager.shutdown()\n",
        "print('master exit.')\n",
        "```\n",
        "\n",
        "\n",
        "\n"
      ]
    },
    {
      "cell_type": "markdown",
      "metadata": {
        "id": "HUIXNK4Rx4r_",
        "colab_type": "text"
      },
      "source": [
        "当我们在一台机器上写多进程程序时，创建的Queue可以直接拿来用，但是，在分布式多进程环境下，添加任务到Queue不可以直接对原始的task_queue进行操作，那样就绕过了QueueManager的封装，必须通过manager.get_task_queue()获得的Queue接口添加。"
      ]
    },
    {
      "cell_type": "markdown",
      "metadata": {
        "id": "ZGvSnJ2Py1n7",
        "colab_type": "text"
      },
      "source": [
        "在另一台机器上启动任务进程（本机上启动也可以）：\n",
        "\n",
        "```\n",
        "# task_worker.py\n",
        "\n",
        "import time, sys, queue\n",
        "from multiprocessing.managers import BaseManager\n",
        "\n",
        "# 创建类似的QueueManager:\n",
        "class QueueManager(BaseManager):\n",
        "    pass\n",
        "\n",
        "# 由于这个QueueManager只从网络上获取Queue，所以注册时只提供名字:\n",
        "QueueManager.register('get_task_queue')\n",
        "QueueManager.register('get_result_queue')\n",
        "\n",
        "# 连接到服务器，也就是运行task_master.py的机器:\n",
        "server_addr = '127.0.0.1'\n",
        "print('Connect to server %s...' % server_addr)\n",
        "# 端口和验证码注意保持与task_master.py设置的完全一致:\n",
        "m = QueueManager(address=(server_addr, 5000), authkey=b'abc')\n",
        "# 从网络连接:\n",
        "m.connect()\n",
        "# 获取Queue的对象:\n",
        "task = m.get_task_queue()\n",
        "result = m.get_result_queue()\n",
        "# 从task队列取任务,并把结果写入result队列:\n",
        "for i in range(10):\n",
        "    try:\n",
        "        n = task.get(timeout=1)\n",
        "        print('run task %d * %d...' % (n, n))\n",
        "        r = '%d * %d = %d' % (n, n, n*n)\n",
        "        time.sleep(1)\n",
        "        result.put(r)\n",
        "    except Queue.Empty:\n",
        "        print('task queue is empty.')\n",
        "# 处理结束:\n",
        "print('worker exit.')\n",
        "```\n",
        "\n"
      ]
    },
    {
      "cell_type": "markdown",
      "metadata": {
        "id": "a520sk_Qy5Uo",
        "colab_type": "text"
      },
      "source": [
        "务进程要通过网络连接到服务进程，所以要指定服务进程的IP。"
      ]
    },
    {
      "cell_type": "markdown",
      "metadata": {
        "id": "F8T_yqyry7K-",
        "colab_type": "text"
      },
      "source": [
        "\n",
        "\n",
        "1.   先启动task_master.py服务进程：\n",
        "\n",
        "```\n",
        "$ python3 task_master.py \n",
        "Put task 3411...\n",
        "Put task 1605...\n",
        "Put task 1398...\n",
        "Put task 4729...\n",
        "Put task 5300...\n",
        "Put task 7471...\n",
        "Put task 68...\n",
        "Put task 4219...\n",
        "Put task 339...\n",
        "Put task 7866...\n",
        "Try get results...\n",
        "```\n",
        "\n",
        "\n",
        "2.   task_master.py进程发送完任务后，开始等待result队列的结果。现在启动task_worker.py进程：\n",
        "\n",
        "```\n",
        "$ python3 task_worker.py\n",
        "Connect to server 127.0.0.1...\n",
        "run task 3411 * 3411...\n",
        "run task 1605 * 1605...\n",
        "run task 1398 * 1398...\n",
        "run task 4729 * 4729...\n",
        "run task 5300 * 5300...\n",
        "run task 7471 * 7471...\n",
        "run task 68 * 68...\n",
        "run task 4219 * 4219...\n",
        "run task 339 * 339...\n",
        "run task 7866 * 7866...\n",
        "worker exit.\n",
        "```\n",
        "\n",
        "3.  task_worker.py进程结束，在task_master.py进程中会继续打印出结果：\n",
        "\n",
        "\n",
        "```\n",
        "Result: 3411 * 3411 = 11634921\n",
        "Result: 1605 * 1605 = 2576025\n",
        "Result: 1398 * 1398 = 1954404\n",
        "Result: 4729 * 4729 = 22363441\n",
        "Result: 5300 * 5300 = 28090000\n",
        "Result: 7471 * 7471 = 55815841\n",
        "Result: 68 * 68 = 4624\n",
        "Result: 4219 * 4219 = 17799961\n",
        "Result: 339 * 339 = 114921\n",
        "Result: 7866 * 7866 = 61873956\n",
        "```\n",
        "\n",
        "\n"
      ]
    },
    {
      "cell_type": "markdown",
      "metadata": {
        "id": "vNm0URlYzPBr",
        "colab_type": "text"
      },
      "source": [
        "这就是一个简单但真正的分布式计算，把代码稍加改造，启动多个worker，就可以把任务分布到几台甚至几十台机器上，比如把计算`n*n`的代码换成发送邮件，就实现了邮件队列的异步发送。  \n",
        "Queue对象存储在哪？注意到task_worker.py中根本没有创建Queue的代码，所以，Queue对象存储在task_master.py进程中\n",
        "\n",
        "\n",
        "\n",
        "```\n",
        "                                             │\n",
        "┌─────────────────────────────────────────┐     ┌──────────────────────────────────────┐\n",
        "│task_master.py                           │  │  │task_worker.py                        │\n",
        "│                                         │     │                                      │\n",
        "│  task = manager.get_task_queue()        │  │  │  task = manager.get_task_queue()     │\n",
        "│  result = manager.get_result_queue()    │     │  result = manager.get_result_queue() │\n",
        "│              │                          │  │  │              │                       │\n",
        "│              │                          │     │              │                       │\n",
        "│              ▼                          │  │  │              │                       │\n",
        "│  ┌─────────────────────────────────┐    │     │              │                       │\n",
        "│  │QueueManager                     │    │  │  │              │                       │\n",
        "│  │ ┌────────────┐ ┌──────────────┐ │    │     │              │                       │\n",
        "│  │ │ task_queue │ │ result_queue │ │<───┼──┼──┼──────────────┘                       │\n",
        "│  │ └────────────┘ └──────────────┘ │    │     │                                      │\n",
        "│  └─────────────────────────────────┘    │  │  │                                      │\n",
        "└─────────────────────────────────────────┘     └──────────────────────────────────────┘\n",
        "                                             │\n",
        "\n",
        "                                          Network\n",
        "```\n",
        "\n"
      ]
    },
    {
      "cell_type": "markdown",
      "metadata": {
        "id": "TuNDGgoRzdmX",
        "colab_type": "text"
      },
      "source": [
        "Queue之所以能通过网络访问，就是通过QueueManager实现的。由于QueueManager管理的不止一个Queue，所以，要给每个Queue的网络调用接口起个名字，比如get_task_queue。"
      ]
    },
    {
      "cell_type": "markdown",
      "metadata": {
        "id": "lKG9ka4rzdlJ",
        "colab_type": "text"
      },
      "source": [
        "authkey有什么用？这是为了保证两台机器正常通信，不被其他机器恶意干扰。如果task_worker.py的authkey和task_master.py的authkey不一致，肯定连接不上。\n",
        "\n"
      ]
    },
    {
      "cell_type": "markdown",
      "metadata": {
        "id": "NT1mMnFtzjnv",
        "colab_type": "text"
      },
      "source": [
        "#### 小结"
      ]
    },
    {
      "cell_type": "markdown",
      "metadata": {
        "id": "kxEqrTu4znan",
        "colab_type": "text"
      },
      "source": [
        "* Python的分布式进程接口简单，封装良好，适合需要把繁重任务分布到多台机器的环境下\n",
        "\n",
        "* Queue的作用是用来传递任务和接收结果，每个任务的描述数据量要尽量小。比如发送一个处理日志文件的任务，就不要发送几百兆的日志文件本身，而是发送日志文件存放的完整路径，由Worker进程再去共享的磁盘上读取文件。"
      ]
    },
    {
      "cell_type": "markdown",
      "metadata": {
        "id": "GhWAVhUX0r3v",
        "colab_type": "text"
      },
      "source": [
        "***\n",
        "***"
      ]
    },
    {
      "cell_type": "markdown",
      "metadata": {
        "id": "gJe0RcEz0tpt",
        "colab_type": "text"
      },
      "source": [
        "# 正则表达式"
      ]
    },
    {
      "cell_type": "markdown",
      "metadata": {
        "id": "r-5yEOc30v5g",
        "colab_type": "text"
      },
      "source": [
        "正则表达式是一种用来匹配字符串的强有力的武器。它的设计思想是用一种描述性的语言来给字符串定义一个规则，凡是符合规则的字符串，我们就认为它“匹配”了，否则，该字符串就是不合法的。\n",
        "\n"
      ]
    },
    {
      "cell_type": "markdown",
      "metadata": {
        "id": "J5O4Pc9q010M",
        "colab_type": "text"
      },
      "source": [
        ""
      ]
    },
    {
      "cell_type": "markdown",
      "metadata": {
        "id": "R9Lxlc4C01-S",
        "colab_type": "text"
      },
      "source": [
        ""
      ]
    },
    {
      "cell_type": "markdown",
      "metadata": {
        "id": "05NTTbKB02CL",
        "colab_type": "text"
      },
      "source": [
        ""
      ]
    },
    {
      "cell_type": "markdown",
      "metadata": {
        "id": "p7HuxnbK02TR",
        "colab_type": "text"
      },
      "source": [
        ""
      ]
    }
  ]
}