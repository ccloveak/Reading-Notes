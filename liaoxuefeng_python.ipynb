{
  "nbformat": 4,
  "nbformat_minor": 0,
  "metadata": {
    "colab": {
      "name": "liaoxuefeng python.ipynb",
      "version": "0.3.2",
      "provenance": [],
      "collapsed_sections": [
        "Q-zyBQQ-fF88",
        "7d6--PkDKRjH",
        "D6I0jFhXOQa_",
        "lryMUXxHcg1m",
        "Yxe6THBEjh3d",
        "XkBkIpiJloAH",
        "Y3BdKHcUln4m",
        "Ont9oWivnpb0",
        "Hb2HWz9OnpjM",
        "IYIuooK1qnNW",
        "bt-7QP02qnI9",
        "ixRUnnRzwRz4"
      ],
      "include_colab_link": true
    },
    "kernelspec": {
      "name": "python3",
      "display_name": "Python 3"
    }
  },
  "cells": [
    {
      "cell_type": "markdown",
      "metadata": {
        "id": "view-in-github",
        "colab_type": "text"
      },
      "source": [
        "<a href=\"https://colab.research.google.com/github/ccloveak/Study_Notes/blob/master/liaoxuefeng_python.ipynb\" target=\"_parent\"><img src=\"https://colab.research.google.com/assets/colab-badge.svg\" alt=\"Open In Colab\"/></a>"
      ]
    },
    {
      "cell_type": "markdown",
      "metadata": {
        "id": "Q-zyBQQ-fF88",
        "colab_type": "text"
      },
      "source": [
        "#Python基础"
      ]
    },
    {
      "cell_type": "markdown",
      "metadata": {
        "id": "gTWYnhUTH09d",
        "colab_type": "text"
      },
      "source": [
        "###输入和输出"
      ]
    },
    {
      "cell_type": "code",
      "metadata": {
        "id": "WVoWKY0XH1yz",
        "colab_type": "code",
        "outputId": "54ce83f4-743c-43e9-8e16-2a06aa6b699a",
        "colab": {
          "base_uri": "https://localhost:8080/",
          "height": 34
        }
      },
      "source": [
        "print(\"1024 * 768 =\",1024 * 768)\n"
      ],
      "execution_count": 0,
      "outputs": [
        {
          "output_type": "stream",
          "text": [
            "1024 * 768 = 786432\n"
          ],
          "name": "stdout"
        }
      ]
    },
    {
      "cell_type": "markdown",
      "metadata": {
        "id": "7d6--PkDKRjH",
        "colab_type": "text"
      },
      "source": [
        "### 数据类型和变量"
      ]
    },
    {
      "cell_type": "markdown",
      "metadata": {
        "id": "i_QMGOUvKJ1i",
        "colab_type": "text"
      },
      "source": [
        "####字符串\n",
        "\n",
        "\n",
        "*   `转义字符\\可以转义很多字符，比如\\n表示换行，\\t表示制表符，字符\\本身也要转义，所以\\\\表示的字符就是\\` \n",
        "*   如果字符串里面有很多字符都需要转义，就需要加很多\\，为了简化，Python还允许用r''表示''内部的字符串默认不转义\n",
        "\n"
      ]
    },
    {
      "cell_type": "code",
      "metadata": {
        "id": "iX1JVvOTKqC0",
        "colab_type": "code",
        "outputId": "75942b7e-cf27-42df-eb74-87bcc27145b4",
        "colab": {
          "base_uri": "https://localhost:8080/",
          "height": 34
        }
      },
      "source": [
        "print('\\\\\\t\\\\')"
      ],
      "execution_count": 0,
      "outputs": [
        {
          "output_type": "stream",
          "text": [
            "\\\t\\\n"
          ],
          "name": "stdout"
        }
      ]
    },
    {
      "cell_type": "code",
      "metadata": {
        "id": "cR9IUTs6KrLL",
        "colab_type": "code",
        "outputId": "319428b6-700d-495b-e8bf-bcfb8b5dfa53",
        "colab": {
          "base_uri": "https://localhost:8080/",
          "height": 34
        }
      },
      "source": [
        "print(r'\\\\\\t\\\\')"
      ],
      "execution_count": 0,
      "outputs": [
        {
          "output_type": "stream",
          "text": [
            "\\\\\\t\\\\\n"
          ],
          "name": "stdout"
        }
      ]
    },
    {
      "cell_type": "markdown",
      "metadata": {
        "id": "gRyhCuKxK0Hz",
        "colab_type": "text"
      },
      "source": [
        "字符串内部有很多换行，用\\n写在一行里不好阅读，为了简化，Python允许用'''...'''的格式表示多行内容"
      ]
    },
    {
      "cell_type": "code",
      "metadata": {
        "id": "82cpJnhuK2nM",
        "colab_type": "code",
        "outputId": "ad6b7663-a0df-4252-f68d-4cb30b13ac12",
        "colab": {
          "base_uri": "https://localhost:8080/",
          "height": 68
        }
      },
      "source": [
        "print('''line1\n",
        "line2\n",
        "line3''')"
      ],
      "execution_count": 0,
      "outputs": [
        {
          "output_type": "stream",
          "text": [
            "line1\n",
            "line2\n",
            "line3\n"
          ],
          "name": "stdout"
        }
      ]
    },
    {
      "cell_type": "code",
      "metadata": {
        "id": "GensXbEMLEIW",
        "colab_type": "code",
        "outputId": "dae6f218-bd58-4b0a-ee9a-07635768e31f",
        "colab": {
          "base_uri": "https://localhost:8080/",
          "height": 51
        }
      },
      "source": [
        "print(r'''hello,\\n\n",
        "world''')\n"
      ],
      "execution_count": 0,
      "outputs": [
        {
          "output_type": "stream",
          "text": [
            "hello,\\n\n",
            "world\n"
          ],
          "name": "stdout"
        }
      ]
    },
    {
      "cell_type": "markdown",
      "metadata": {
        "id": "6JDZ8RgeLxrX",
        "colab_type": "text"
      },
      "source": [
        "把一个变量a赋值给另一个变量b，这个操作实际上是把变量b指向变量a所指向的数据"
      ]
    },
    {
      "cell_type": "code",
      "metadata": {
        "id": "qq8qP17KLyYF",
        "colab_type": "code",
        "outputId": "c33c06f2-f978-4982-e625-b80a849bdc0e",
        "colab": {
          "base_uri": "https://localhost:8080/",
          "height": 34
        }
      },
      "source": [
        "a = 'ABC'\n",
        "b = a\n",
        "a = 'XYZ'\n",
        "print(b)\n"
      ],
      "execution_count": 0,
      "outputs": [
        {
          "output_type": "stream",
          "text": [
            "ABC\n"
          ],
          "name": "stdout"
        }
      ]
    },
    {
      "cell_type": "markdown",
      "metadata": {
        "id": "5U8_EarkMJmk",
        "colab_type": "text"
      },
      "source": [
        "通常用全部大写的变量名表示常量"
      ]
    },
    {
      "cell_type": "markdown",
      "metadata": {
        "id": "CnDWqt08MbsH",
        "colab_type": "text"
      },
      "source": [
        "在Python中，有两种除法，一种除法是/  \n",
        ",/除法计算结果是浮点数，即使是两个整数恰好整除，结果也是浮点数："
      ]
    },
    {
      "cell_type": "code",
      "metadata": {
        "id": "FNTYPMyjMc4z",
        "colab_type": "code",
        "outputId": "20027e23-c3d0-4a49-f7a0-3c494818d095",
        "colab": {
          "base_uri": "https://localhost:8080/",
          "height": 34
        }
      },
      "source": [
        "10/3"
      ],
      "execution_count": 0,
      "outputs": [
        {
          "output_type": "execute_result",
          "data": {
            "text/plain": [
              "3.3333333333333335"
            ]
          },
          "metadata": {
            "tags": []
          },
          "execution_count": 10
        }
      ]
    },
    {
      "cell_type": "markdown",
      "metadata": {
        "id": "JZcYU2J7MlAH",
        "colab_type": "text"
      },
      "source": [
        "还有一种除法是//，称为地板除，两个整数的除法仍然是整数："
      ]
    },
    {
      "cell_type": "code",
      "metadata": {
        "id": "82XdDKfgMmAm",
        "colab_type": "code",
        "outputId": "39666fe9-280b-4208-fd0c-8fbd69053708",
        "colab": {
          "base_uri": "https://localhost:8080/",
          "height": 34
        }
      },
      "source": [
        "10 // 3"
      ],
      "execution_count": 0,
      "outputs": [
        {
          "output_type": "execute_result",
          "data": {
            "text/plain": [
              "3"
            ]
          },
          "metadata": {
            "tags": []
          },
          "execution_count": 11
        }
      ]
    },
    {
      "cell_type": "markdown",
      "metadata": {
        "id": "Lcx4Vx3vMulY",
        "colab_type": "text"
      },
      "source": [
        "因为//除法只取结果的整数部分，所以Python还提供一个余数运算，可以得到两个整数相除的余数："
      ]
    },
    {
      "cell_type": "code",
      "metadata": {
        "id": "HtRSGQyKM0r2",
        "colab_type": "code",
        "outputId": "46352151-8450-4bdb-93ef-490cadfac35a",
        "colab": {
          "base_uri": "https://localhost:8080/",
          "height": 34
        }
      },
      "source": [
        "10 % 3"
      ],
      "execution_count": 0,
      "outputs": [
        {
          "output_type": "execute_result",
          "data": {
            "text/plain": [
              "1"
            ]
          },
          "metadata": {
            "tags": []
          },
          "execution_count": 12
        }
      ]
    },
    {
      "cell_type": "markdown",
      "metadata": {
        "id": "D6I0jFhXOQa_",
        "colab_type": "text"
      },
      "source": [
        "### 字符串和编码  \n",
        "用记事本编辑的时候，从文件读取的UTF-8字符被转换为Unicode字符到内存里，编辑完成后，保存的时候再把Unicode转换为UTF-8保存到文件： \n",
        "\n",
        "![替代文字](https://www.liaoxuefeng.com/files/attachments/923923787018816/0)  \n",
        "\n",
        "浏览网页的时候，服务器会把动态生成的Unicode内容转换为UTF-8再传输到浏览器：\n",
        "\n",
        "![替代文字](https://www.liaoxuefeng.com/files/attachments/923923759189600/0)\n"
      ]
    },
    {
      "cell_type": "markdown",
      "metadata": {
        "id": "OaFUu3UiPMqY",
        "colab_type": "text"
      },
      "source": [
        "对于单个字符的编码，Python提供了ord()函数获取字符的整数表示，chr()函数把编码转换为对应的字符"
      ]
    },
    {
      "cell_type": "code",
      "metadata": {
        "id": "vZ0gExuvPNmB",
        "colab_type": "code",
        "outputId": "57318954-4274-4452-9b44-35b7b9d32b8f",
        "colab": {
          "base_uri": "https://localhost:8080/",
          "height": 34
        }
      },
      "source": [
        "ord('A')"
      ],
      "execution_count": 0,
      "outputs": [
        {
          "output_type": "execute_result",
          "data": {
            "text/plain": [
              "65"
            ]
          },
          "metadata": {
            "tags": []
          },
          "execution_count": 13
        }
      ]
    },
    {
      "cell_type": "code",
      "metadata": {
        "id": "2KkkX2rUPRPZ",
        "colab_type": "code",
        "outputId": "880b1b4f-401e-412d-85d7-4926dd9cd14d",
        "colab": {
          "base_uri": "https://localhost:8080/",
          "height": 34
        }
      },
      "source": [
        "ord('中')"
      ],
      "execution_count": 0,
      "outputs": [
        {
          "output_type": "execute_result",
          "data": {
            "text/plain": [
              "20013"
            ]
          },
          "metadata": {
            "tags": []
          },
          "execution_count": 14
        }
      ]
    },
    {
      "cell_type": "code",
      "metadata": {
        "id": "mDdb3TrSPTPB",
        "colab_type": "code",
        "outputId": "efa92ba0-c2cb-408b-b021-86118a9e41e3",
        "colab": {
          "base_uri": "https://localhost:8080/",
          "height": 34
        }
      },
      "source": [
        "chr(68)"
      ],
      "execution_count": 0,
      "outputs": [
        {
          "output_type": "execute_result",
          "data": {
            "text/plain": [
              "'D'"
            ]
          },
          "metadata": {
            "tags": []
          },
          "execution_count": 15
        }
      ]
    },
    {
      "cell_type": "code",
      "metadata": {
        "id": "A-jeBgj1PU4z",
        "colab_type": "code",
        "outputId": "fdeb957c-5789-490d-8ae4-ea8c40bd76df",
        "colab": {
          "base_uri": "https://localhost:8080/",
          "height": 34
        }
      },
      "source": [
        "chr(25991)"
      ],
      "execution_count": 0,
      "outputs": [
        {
          "output_type": "execute_result",
          "data": {
            "text/plain": [
              "'文'"
            ]
          },
          "metadata": {
            "tags": []
          },
          "execution_count": 16
        }
      ]
    },
    {
      "cell_type": "markdown",
      "metadata": {
        "id": "JRzZp5IyPbe9",
        "colab_type": "text"
      },
      "source": [
        "如果知道字符的整数编码，还可以用十六进制这么写str：\n",
        "\n"
      ]
    },
    {
      "cell_type": "code",
      "metadata": {
        "id": "iRwdYxREPebC",
        "colab_type": "code",
        "outputId": "b42ca3bb-aac3-4fd3-9ce0-50b99f34af3b",
        "colab": {
          "base_uri": "https://localhost:8080/",
          "height": 34
        }
      },
      "source": [
        "'\\u4e2d\\u6587'"
      ],
      "execution_count": 0,
      "outputs": [
        {
          "output_type": "execute_result",
          "data": {
            "text/plain": [
              "'中文'"
            ]
          },
          "metadata": {
            "tags": []
          },
          "execution_count": 17
        }
      ]
    },
    {
      "cell_type": "markdown",
      "metadata": {
        "id": "fSXwurugPjYm",
        "colab_type": "text"
      },
      "source": [
        "Python对bytes类型的数据用带b前缀的单引号或双引号表示："
      ]
    },
    {
      "cell_type": "code",
      "metadata": {
        "id": "WQxG0soiP8cV",
        "colab_type": "code",
        "colab": {}
      },
      "source": [
        "x = b'ABC'"
      ],
      "execution_count": 0,
      "outputs": []
    },
    {
      "cell_type": "markdown",
      "metadata": {
        "id": "Hvc0r1NfP77C",
        "colab_type": "text"
      },
      "source": [
        "以Unicode表示的str通过encode()方法可以编码为指定的bytes"
      ]
    },
    {
      "cell_type": "code",
      "metadata": {
        "id": "wUD-b_b_QCOu",
        "colab_type": "code",
        "outputId": "a73fb516-cf12-4917-f06f-5f687577ec41",
        "colab": {
          "base_uri": "https://localhost:8080/",
          "height": 34
        }
      },
      "source": [
        "'ABC'.encode('ascii')"
      ],
      "execution_count": 0,
      "outputs": [
        {
          "output_type": "execute_result",
          "data": {
            "text/plain": [
              "b'ABC'"
            ]
          },
          "metadata": {
            "tags": []
          },
          "execution_count": 20
        }
      ]
    },
    {
      "cell_type": "code",
      "metadata": {
        "id": "Li6qapLYQHMR",
        "colab_type": "code",
        "outputId": "b180c037-aeb8-4919-d650-aadeb57c1f4b",
        "colab": {
          "base_uri": "https://localhost:8080/",
          "height": 34
        }
      },
      "source": [
        "'中文'.encode('utf-8')"
      ],
      "execution_count": 0,
      "outputs": [
        {
          "output_type": "execute_result",
          "data": {
            "text/plain": [
              "b'\\xe4\\xb8\\xad\\xe6\\x96\\x87'"
            ]
          },
          "metadata": {
            "tags": []
          },
          "execution_count": 21
        }
      ]
    },
    {
      "cell_type": "markdown",
      "metadata": {
        "id": "bW15eYK5QM2V",
        "colab_type": "text"
      },
      "source": [
        "纯英文的str可以用ASCII编码为bytes，内容是一样的，含有中文的str可以用UTF-8编码为bytes。"
      ]
    },
    {
      "cell_type": "markdown",
      "metadata": {
        "id": "3vPCs3NKQQ8M",
        "colab_type": "text"
      },
      "source": [
        "如果我们从网络或磁盘上读取了字节流，那么读到的数据就是bytes。要把bytes变为str，就需要用decode()方法：\n",
        "\n"
      ]
    },
    {
      "cell_type": "code",
      "metadata": {
        "id": "KBnACkWRQRkw",
        "colab_type": "code",
        "outputId": "0c00f403-3fdd-4288-a455-0c6ccdbf1aa3",
        "colab": {
          "base_uri": "https://localhost:8080/",
          "height": 34
        }
      },
      "source": [
        "b'ABC'.decode('ascii')"
      ],
      "execution_count": 0,
      "outputs": [
        {
          "output_type": "execute_result",
          "data": {
            "text/plain": [
              "'ABC'"
            ]
          },
          "metadata": {
            "tags": []
          },
          "execution_count": 22
        }
      ]
    },
    {
      "cell_type": "code",
      "metadata": {
        "id": "PX5_r4LNQYHG",
        "colab_type": "code",
        "outputId": "189c16dc-73eb-46bc-bcb9-e9cbc641373a",
        "colab": {
          "base_uri": "https://localhost:8080/",
          "height": 34
        }
      },
      "source": [
        "b'\\xe4\\xb8\\xad\\xe6\\x96\\x87'.decode('utf-8')"
      ],
      "execution_count": 0,
      "outputs": [
        {
          "output_type": "execute_result",
          "data": {
            "text/plain": [
              "'中文'"
            ]
          },
          "metadata": {
            "tags": []
          },
          "execution_count": 23
        }
      ]
    },
    {
      "cell_type": "markdown",
      "metadata": {
        "id": "k4RpQO5_RSpP",
        "colab_type": "text"
      },
      "source": [
        "如果bytes中包含无法解码的字节，decode()方法会报错"
      ]
    },
    {
      "cell_type": "code",
      "metadata": {
        "id": "6zLGQCtURTtt",
        "colab_type": "code",
        "outputId": "31fafeef-e1cd-478a-e761-f3438ec12dcf",
        "colab": {
          "base_uri": "https://localhost:8080/",
          "height": 188
        }
      },
      "source": [
        " b'\\xe4\\xb8\\xad\\xff'.decode('utf-8')"
      ],
      "execution_count": 0,
      "outputs": [
        {
          "output_type": "error",
          "ename": "UnicodeDecodeError",
          "evalue": "ignored",
          "traceback": [
            "\u001b[0;31m---------------------------------------------------------------------------\u001b[0m",
            "\u001b[0;31mUnicodeDecodeError\u001b[0m                        Traceback (most recent call last)",
            "\u001b[0;32m<ipython-input-24-cd8de1b11dcd>\u001b[0m in \u001b[0;36m<module>\u001b[0;34m()\u001b[0m\n\u001b[0;32m----> 1\u001b[0;31m \u001b[0;34mb'\\xe4\\xb8\\xad\\xff'\u001b[0m\u001b[0;34m.\u001b[0m\u001b[0mdecode\u001b[0m\u001b[0;34m(\u001b[0m\u001b[0;34m'utf-8'\u001b[0m\u001b[0;34m)\u001b[0m\u001b[0;34m\u001b[0m\u001b[0;34m\u001b[0m\u001b[0m\n\u001b[0m",
            "\u001b[0;31mUnicodeDecodeError\u001b[0m: 'utf-8' codec can't decode byte 0xff in position 3: invalid start byte"
          ]
        }
      ]
    },
    {
      "cell_type": "markdown",
      "metadata": {
        "id": "QNzFXjYhRWRn",
        "colab_type": "text"
      },
      "source": [
        "如果bytes中只有一小部分无效的字节，可以传入errors='ignore'忽略错误的字节："
      ]
    },
    {
      "cell_type": "code",
      "metadata": {
        "id": "GOJmtLofRYOV",
        "colab_type": "code",
        "outputId": "cbfffc2a-28bb-4f4b-bbac-9007a03eff5c",
        "colab": {
          "base_uri": "https://localhost:8080/",
          "height": 34
        }
      },
      "source": [
        "b'\\xe4\\xb8\\xad\\xff'.decode('utf-8', errors='ignore')"
      ],
      "execution_count": 0,
      "outputs": [
        {
          "output_type": "execute_result",
          "data": {
            "text/plain": [
              "'中'"
            ]
          },
          "metadata": {
            "tags": []
          },
          "execution_count": 25
        }
      ]
    },
    {
      "cell_type": "markdown",
      "metadata": {
        "id": "BxP-QvqCRqKg",
        "colab_type": "text"
      },
      "source": [
        "len()函数计算的是str的字符数，如果换成bytes，len()函数就计算字节数："
      ]
    },
    {
      "cell_type": "code",
      "metadata": {
        "id": "rjkCJ0FrRqr5",
        "colab_type": "code",
        "outputId": "9676c57b-516b-40c8-8141-e76137cc810e",
        "colab": {
          "base_uri": "https://localhost:8080/",
          "height": 34
        }
      },
      "source": [
        "len(b'ABC')"
      ],
      "execution_count": 0,
      "outputs": [
        {
          "output_type": "execute_result",
          "data": {
            "text/plain": [
              "3"
            ]
          },
          "metadata": {
            "tags": []
          },
          "execution_count": 26
        }
      ]
    },
    {
      "cell_type": "code",
      "metadata": {
        "id": "wuw3f68RR2GZ",
        "colab_type": "code",
        "outputId": "d7668f83-4fa3-44d4-d86f-363adcdfecf1",
        "colab": {
          "base_uri": "https://localhost:8080/",
          "height": 34
        }
      },
      "source": [
        "len(b'\\xe4\\xb8\\xad\\xe6\\x96\\x87')"
      ],
      "execution_count": 0,
      "outputs": [
        {
          "output_type": "execute_result",
          "data": {
            "text/plain": [
              "6"
            ]
          },
          "metadata": {
            "tags": []
          },
          "execution_count": 27
        }
      ]
    },
    {
      "cell_type": "code",
      "metadata": {
        "id": "1Rol884vR30G",
        "colab_type": "code",
        "outputId": "0d2956bd-0b44-44b2-8da7-ee838566b873",
        "colab": {
          "base_uri": "https://localhost:8080/",
          "height": 34
        }
      },
      "source": [
        "len('中文'.encode('utf-8'))"
      ],
      "execution_count": 0,
      "outputs": [
        {
          "output_type": "execute_result",
          "data": {
            "text/plain": [
              "6"
            ]
          },
          "metadata": {
            "tags": []
          },
          "execution_count": 28
        }
      ]
    },
    {
      "cell_type": "markdown",
      "metadata": {
        "id": "PUEocNAAR9Go",
        "colab_type": "text"
      },
      "source": [
        "1个中文字符经过UTF-8编码后通常会占用3个字节，而1个英文字符只占用1个字节"
      ]
    },
    {
      "cell_type": "markdown",
      "metadata": {
        "id": "pudbqk3VR90U",
        "colab_type": "text"
      },
      "source": [
        "在操作字符串时，我们经常遇到str和bytes的互相转换。为了避免乱码问题，应当始终坚持使用UTF-8编码对str和bytes进行转换。\n",
        "\n"
      ]
    },
    {
      "cell_type": "markdown",
      "metadata": {
        "id": "-aI-G4qlSD8S",
        "colab_type": "text"
      },
      "source": [
        "当Python解释器读取源代码时，为了让它按UTF-8编码读取，我们通常在文件开头写上这两行：\n",
        "\n",
        "\n",
        "\n",
        "```\n",
        "#!/usr/bin/env python3\n",
        "# -*- coding: utf-8 -*-\n",
        "```\n",
        "\n"
      ]
    },
    {
      "cell_type": "markdown",
      "metadata": {
        "id": "lryMUXxHcg1m",
        "colab_type": "text"
      },
      "source": [
        "### 格式化"
      ]
    },
    {
      "cell_type": "code",
      "metadata": {
        "id": "Sg4TDXCddJ8W",
        "colab_type": "code",
        "outputId": "ec54672e-ce05-4299-9134-1ec92054c054",
        "colab": {
          "base_uri": "https://localhost:8080/",
          "height": 34
        }
      },
      "source": [
        "'Hello, %s' % 'world'"
      ],
      "execution_count": 0,
      "outputs": [
        {
          "output_type": "execute_result",
          "data": {
            "text/plain": [
              "'Hello, world'"
            ]
          },
          "metadata": {
            "tags": []
          },
          "execution_count": 29
        }
      ]
    },
    {
      "cell_type": "code",
      "metadata": {
        "id": "JOOaj5kBdbac",
        "colab_type": "code",
        "outputId": "b5293515-a1cb-4556-9aa0-ea27e19301ad",
        "colab": {
          "base_uri": "https://localhost:8080/",
          "height": 34
        }
      },
      "source": [
        "'Hi, %s, you have $%d.' % ('Michael', 1000000)"
      ],
      "execution_count": 0,
      "outputs": [
        {
          "output_type": "execute_result",
          "data": {
            "text/plain": [
              "'Hi, Michael, you have $1000000.'"
            ]
          },
          "metadata": {
            "tags": []
          },
          "execution_count": 30
        }
      ]
    },
    {
      "cell_type": "markdown",
      "metadata": {
        "id": "EN0fhW_vdiWJ",
        "colab_type": "text"
      },
      "source": [
        "%运算符就是用来格式化字符串的。在字符串内部，%s表示用字符串替换，%d表示用整数替换，有几个%?占位符，后面就跟几个变量或者值，顺序要对应好。如果只有一个%?，括号可以省略。"
      ]
    },
    {
      "cell_type": "markdown",
      "metadata": {
        "id": "-fMP6-HwdmMs",
        "colab_type": "text"
      },
      "source": [
        "**常见的占位符**\n",
        "\n",
        "|占位符|替换内容|\n",
        "|:---- |:---- |\n",
        "%d\t|整数\n",
        "%f\t|浮点数\n",
        "%s\t|字符串\n",
        "%x\t|十六进制整数"
      ]
    },
    {
      "cell_type": "markdown",
      "metadata": {
        "id": "ZlfGuzYSe_00",
        "colab_type": "text"
      },
      "source": [
        "格式化整数和浮点数还可以指定是否补0和整数与小数的位数"
      ]
    },
    {
      "cell_type": "code",
      "metadata": {
        "id": "AKJzPNeQfAee",
        "colab_type": "code",
        "outputId": "f5c8fc31-f753-453f-ced6-501cf7b5457d",
        "colab": {
          "base_uri": "https://localhost:8080/",
          "height": 51
        }
      },
      "source": [
        "print('%2d-%02d' % (3, 1))\n",
        "print('%.2f' % 3.1415926)\n"
      ],
      "execution_count": 0,
      "outputs": [
        {
          "output_type": "stream",
          "text": [
            " 3-01\n",
            "3.14\n"
          ],
          "name": "stdout"
        }
      ]
    },
    {
      "cell_type": "markdown",
      "metadata": {
        "id": "gSkIIVEmfHkr",
        "colab_type": "text"
      },
      "source": [
        "%s永远起作用，它会把任何数据类型转换为字符串"
      ]
    },
    {
      "cell_type": "code",
      "metadata": {
        "id": "qw57bpnvfIL8",
        "colab_type": "code",
        "outputId": "9f488716-7d74-40f6-d7dd-c403057ecfe7",
        "colab": {
          "base_uri": "https://localhost:8080/",
          "height": 34
        }
      },
      "source": [
        "'Age: %s. Gender: %s' % (25, True)"
      ],
      "execution_count": 0,
      "outputs": [
        {
          "output_type": "execute_result",
          "data": {
            "text/plain": [
              "'Age: 25. Gender: True'"
            ]
          },
          "metadata": {
            "tags": []
          },
          "execution_count": 32
        }
      ]
    },
    {
      "cell_type": "markdown",
      "metadata": {
        "id": "u_pf9ziufQx0",
        "colab_type": "text"
      },
      "source": [
        "字符串里面的%是一个普通字符怎么办？这个时候就需要转义，用%%来表示一个%"
      ]
    },
    {
      "cell_type": "code",
      "metadata": {
        "id": "mwzr7Mx7fRE2",
        "colab_type": "code",
        "outputId": "18523d74-0170-4f25-9b44-508a5294efe0",
        "colab": {
          "base_uri": "https://localhost:8080/",
          "height": 34
        }
      },
      "source": [
        "'growth rate: %d %%' % 7"
      ],
      "execution_count": 0,
      "outputs": [
        {
          "output_type": "execute_result",
          "data": {
            "text/plain": [
              "'growth rate: 7 %'"
            ]
          },
          "metadata": {
            "tags": []
          },
          "execution_count": 33
        }
      ]
    },
    {
      "cell_type": "markdown",
      "metadata": {
        "id": "2zsO2bnNf7CX",
        "colab_type": "text"
      },
      "source": [
        "另一种格式化字符串的方法是使用字符串的format()方法，它会用传入的参数依次替换字符串内的占位符{0}、{1}……，不过这种方式写起来比%要麻烦得多："
      ]
    },
    {
      "cell_type": "code",
      "metadata": {
        "id": "KV6RMN55f-Bp",
        "colab_type": "code",
        "outputId": "6e813a98-8f70-4bf8-adac-e4bbfdd06fe5",
        "colab": {
          "base_uri": "https://localhost:8080/",
          "height": 34
        }
      },
      "source": [
        "'Hello, {0}, 成绩提升了 {1:.1f}%'.format('小明', 17.125)"
      ],
      "execution_count": 0,
      "outputs": [
        {
          "output_type": "execute_result",
          "data": {
            "text/plain": [
              "'Hello, 小明, 成绩提升了 17.1%'"
            ]
          },
          "metadata": {
            "tags": []
          },
          "execution_count": 34
        }
      ]
    },
    {
      "cell_type": "markdown",
      "metadata": {
        "id": "-m-pexIAi1zC",
        "colab_type": "text"
      },
      "source": [
        "小明的成绩从去年的72分提升到了今年的85分，请计算小明成绩提升的百分点，并用字符串格式化显示出'xx.x%'，只保留小数点后1位："
      ]
    },
    {
      "cell_type": "code",
      "metadata": {
        "id": "7mmPWkBPi2Yg",
        "colab_type": "code",
        "outputId": "afdf25da-49d7-4f69-ade9-7d89d44dad26",
        "colab": {
          "base_uri": "https://localhost:8080/",
          "height": 34
        }
      },
      "source": [
        "s1 = 72\n",
        "s2 = 85\n",
        "r = (s2-s1)/s1*100\n",
        "print('%.1f %%' %r)\n"
      ],
      "execution_count": 0,
      "outputs": [
        {
          "output_type": "stream",
          "text": [
            "18.1 %\n"
          ],
          "name": "stdout"
        }
      ]
    },
    {
      "cell_type": "markdown",
      "metadata": {
        "id": "Yxe6THBEjh3d",
        "colab_type": "text"
      },
      "source": [
        "### list\n",
        "Python内置的一种数据类型是列表：list。list是一种有序的集合，可以随时添加和删除其中的元素"
      ]
    },
    {
      "cell_type": "markdown",
      "metadata": {
        "id": "DRtsPtFBjmLH",
        "colab_type": "text"
      },
      "source": [
        "*  用索引来访问list中每一个位置的元素，记得索引是从0开始的\n",
        "*  当索引超出了范围时，Python会报一个IndexError错误，所以，要确保索引不要越界，记得最后一个元素的索引是len(classmates) - 1。\n",
        "*  如果要取最后一个元素，除了计算索引位置外，还可以用-1做索引，直接获取最后一个元素"
      ]
    },
    {
      "cell_type": "markdown",
      "metadata": {
        "id": "ZXCKL_fmj9pU",
        "colab_type": "text"
      },
      "source": [
        "list是一个可变的有序表，所以，可以往list中追加元素到末尾：\n",
        "\n",
        "```\n",
        "classmates.append('Adam')\n",
        "```\n",
        "\n"
      ]
    },
    {
      "cell_type": "markdown",
      "metadata": {
        "id": "v-phaTRVlDqt",
        "colab_type": "text"
      },
      "source": [
        "把元素插入到指定的位置，比如索引号为1的位置：\n",
        "\n",
        "```\n",
        "classmates.insert(1, 'Jack')\n",
        "```\n",
        "\n"
      ]
    },
    {
      "cell_type": "markdown",
      "metadata": {
        "id": "sVzQ_rHmlPN1",
        "colab_type": "text"
      },
      "source": [
        "删除list末尾的元素，用pop()方法：\n",
        "\n",
        "\n",
        "```\n",
        "classmates.pop()\n",
        "```\n",
        "\n"
      ]
    },
    {
      "cell_type": "markdown",
      "metadata": {
        "id": "QbsxNWZklYdW",
        "colab_type": "text"
      },
      "source": [
        "删除指定位置的元素，用pop(i)方法，其中i是索引位置\n",
        "\n",
        "```\n",
        "classmates.pop(1)\n",
        "```\n",
        "\n"
      ]
    },
    {
      "cell_type": "markdown",
      "metadata": {
        "id": "sGtkELb4ldYI",
        "colab_type": "text"
      },
      "source": [
        "把某个元素替换成别的元素，可以直接赋值给对应的索引位置：\n",
        "\n",
        "\n",
        "```\n",
        "classmates[1] = 'Sarah'\n",
        "```\n",
        "\n"
      ]
    },
    {
      "cell_type": "markdown",
      "metadata": {
        "id": "egjJyAyJlnho",
        "colab_type": "text"
      },
      "source": [
        "list里面的元素的数据类型也可以不同\n",
        "\n",
        "\n",
        "```\n",
        "L = ['Apple', 123, True]\n",
        "```\n",
        "\n"
      ]
    },
    {
      "cell_type": "markdown",
      "metadata": {
        "id": "RjXAbt1alnzU",
        "colab_type": "text"
      },
      "source": [
        "list元素也可以是另一个list\n",
        "\n",
        "\n",
        "```\n",
        "s = ['python', 'java', ['asp', 'php'], 'scheme']\n",
        "```\n",
        "\n"
      ]
    },
    {
      "cell_type": "markdown",
      "metadata": {
        "id": "xwrJw230ln7A",
        "colab_type": "text"
      },
      "source": [
        "如果一个list中一个元素也没有，就是一个空的list，它的长度为0"
      ]
    },
    {
      "cell_type": "markdown",
      "metadata": {
        "id": "XkBkIpiJloAH",
        "colab_type": "text"
      },
      "source": [
        "###  tuple"
      ]
    },
    {
      "cell_type": "markdown",
      "metadata": {
        "id": "Yvyyj3eAloFI",
        "colab_type": "text"
      },
      "source": [
        "另一种有序列表叫元组：tuple。tuple和list非常类似，但是tuple一旦初始化就不能修改"
      ]
    },
    {
      "cell_type": "markdown",
      "metadata": {
        "id": "jLPYWSs1loM9",
        "colab_type": "text"
      },
      "source": [
        "不可变的tuple有什么意义？因为tuple不可变，所以代码更安全。如果可能，能用tuple代替list就尽量用tuple。"
      ]
    },
    {
      "cell_type": "markdown",
      "metadata": {
        "id": "Yfizvj-uloP_",
        "colab_type": "text"
      },
      "source": [
        "tuple的陷阱：当你定义一个tuple时，在定义的时候，tuple的元素就必须被确定下来"
      ]
    },
    {
      "cell_type": "markdown",
      "metadata": {
        "id": "jqOlUG59loIq",
        "colab_type": "text"
      },
      "source": [
        "如果要定义一个空的tuple，可以写成()"
      ]
    },
    {
      "cell_type": "markdown",
      "metadata": {
        "id": "EJI_LtXCloDN",
        "colab_type": "text"
      },
      "source": [
        "只有1个元素的tuple定义时必须加一个逗号,，来消除歧义：\n",
        "\n",
        "```\n",
        "t = (1,)\n",
        "```\n",
        "Python在显示只有1个元素的tuple时，也会加一个逗号,，以免你误解成数学计算意义上的括号。\n"
      ]
    },
    {
      "cell_type": "markdown",
      "metadata": {
        "id": "FEQPWyx3ln-R",
        "colab_type": "text"
      },
      "source": [
        "一个“可变的”tuple：\n",
        "\n",
        "\n",
        "\n",
        "```\n",
        "t = ('a', 'b', ['A', 'B'])\n",
        "t[2][0] = 'X'\n",
        "t[2][1] = 'Y'\n",
        "t\n",
        "('a', 'b', ['X', 'Y'])\n",
        "\n",
        "```\n",
        "![定义的时候tuple](https://www.liaoxuefeng.com/files/attachments/923973516787680/0)\n",
        "![替换后的tuple](https://www.liaoxuefeng.com/files/attachments/923973647515872/0)\n",
        "\n",
        "表面上看，tuple的元素确实变了，但其实变的不是tuple的元素，而是list的元素。tuple一开始指向的list并没有改成别的list，所以，tuple所谓的“不变”是说，tuple的每个元素，指向永远不变。即指向'a'，就不能改成指向'b'，指向一个list，就不能改成指向其他对象，但指向的这个list本身是可变的"
      ]
    },
    {
      "cell_type": "markdown",
      "metadata": {
        "id": "Y3BdKHcUln4m",
        "colab_type": "text"
      },
      "source": [
        "### 条件判断"
      ]
    },
    {
      "cell_type": "markdown",
      "metadata": {
        "id": "5EM_OKzbln2v",
        "colab_type": "text"
      },
      "source": [
        "计算机之所以能做很多自动化的任务，因为它可以自己做条件判断。"
      ]
    },
    {
      "cell_type": "markdown",
      "metadata": {
        "id": "WMn3HaG1npU4",
        "colab_type": "text"
      },
      "source": [
        "elif是else if的缩写，完全可以有多个elif，所以if语句的完整形式就是：\n",
        "\n",
        "\n",
        "\n",
        "```\n",
        "if <条件判断1>:\n",
        "    <执行1>\n",
        "elif <条件判断2>:\n",
        "    <执行2>\n",
        "elif <条件判断3>:\n",
        "    <执行3>\n",
        "else:\n",
        "    <执行4>\n",
        "```\n",
        "if语句执行有个特点，它是从上往下判断，如果在某个判断上是True，把该判断对应的语句执行后，就忽略掉剩下的elif和else\n"
      ]
    },
    {
      "cell_type": "markdown",
      "metadata": {
        "id": "h0oxvte0npYt",
        "colab_type": "text"
      },
      "source": [
        "if判断条件还可以简写，比如写：\n",
        "\n",
        "\n",
        "```\n",
        "if x:\n",
        "    print('True')\n",
        "```\n",
        "只要x是非零数值、非空字符串、非空list等，就判断为True，否则为False。\n"
      ]
    },
    {
      "cell_type": "markdown",
      "metadata": {
        "id": "Ont9oWivnpb0",
        "colab_type": "text"
      },
      "source": [
        "### 再议 input"
      ]
    },
    {
      "cell_type": "markdown",
      "metadata": {
        "id": "eAcVcadhnpfb",
        "colab_type": "text"
      },
      "source": [
        "input()返回的数据类型是str，str不能直接和整数比较，必须先把str转换成整数  \n",
        "Python提供了int()函数来完成这件事情："
      ]
    },
    {
      "cell_type": "markdown",
      "metadata": {
        "id": "Hb2HWz9OnpjM",
        "colab_type": "text"
      },
      "source": [
        "### 循环"
      ]
    },
    {
      "cell_type": "markdown",
      "metadata": {
        "id": "9nDAmyEonpzC",
        "colab_type": "text"
      },
      "source": [
        "为了让计算机能计算成千上万次的重复运算，我们"
      ]
    },
    {
      "cell_type": "markdown",
      "metadata": {
        "id": "EBshEhYvqnAd",
        "colab_type": "text"
      },
      "source": [
        "Python的循环有两种，一种是for...in循环，依次把list或tuple中的每个元素迭代出来"
      ]
    },
    {
      "cell_type": "code",
      "metadata": {
        "id": "EfxIJ8fzqtZx",
        "colab_type": "code",
        "outputId": "7ebe554f-3978-4bda-ee2c-bb94de9a0128",
        "colab": {
          "base_uri": "https://localhost:8080/",
          "height": 34
        }
      },
      "source": [
        "names = ['Michael', 'Bob', 'Tracy']\n",
        "for name in names:\n",
        "    print(name,end=\" \")"
      ],
      "execution_count": 0,
      "outputs": [
        {
          "output_type": "stream",
          "text": [
            "Michael Bob Tracy "
          ],
          "name": "stdout"
        }
      ]
    },
    {
      "cell_type": "markdown",
      "metadata": {
        "id": "vAUGWR30qnEP",
        "colab_type": "text"
      },
      "source": [
        "计算1-10的整数之和，可以用一个sum变量做累加："
      ]
    },
    {
      "cell_type": "code",
      "metadata": {
        "id": "2EZ4eW41q_rG",
        "colab_type": "code",
        "outputId": "f0457793-ac28-429a-a320-90e8a2aeaf00",
        "colab": {
          "base_uri": "https://localhost:8080/",
          "height": 34
        }
      },
      "source": [
        "sum = 0\n",
        "for x in [1, 2, 3, 4, 5, 6, 7, 8, 9, 10]:\n",
        "    sum +=x\n",
        "print(sum)"
      ],
      "execution_count": 0,
      "outputs": [
        {
          "output_type": "stream",
          "text": [
            "55\n"
          ],
          "name": "stdout"
        }
      ]
    },
    {
      "cell_type": "markdown",
      "metadata": {
        "id": "lrJvjH5_qnPl",
        "colab_type": "text"
      },
      "source": [
        "如果要计算1-100的整数之和，从1写到100有点困难，幸好Python提供一个range()函数，可以生成一个整数序列，再通过list()函数可以转换为list。比如range(5)生成的序列是从0开始小于5的整数：\n"
      ]
    },
    {
      "cell_type": "code",
      "metadata": {
        "id": "3ABHpps0raki",
        "colab_type": "code",
        "outputId": "0537ad55-f1f5-47ef-8f3b-1869e7b06efc",
        "colab": {
          "base_uri": "https://localhost:8080/",
          "height": 34
        }
      },
      "source": [
        " list(range(5))"
      ],
      "execution_count": 0,
      "outputs": [
        {
          "output_type": "execute_result",
          "data": {
            "text/plain": [
              "[0, 1, 2, 3, 4]"
            ]
          },
          "metadata": {
            "tags": []
          },
          "execution_count": 41
        }
      ]
    },
    {
      "cell_type": "markdown",
      "metadata": {
        "id": "emN21j4uqnUo",
        "colab_type": "text"
      },
      "source": [
        "range(101)就可以生成0-100的整数序列"
      ]
    },
    {
      "cell_type": "code",
      "metadata": {
        "id": "9plmIhQCt-hm",
        "colab_type": "code",
        "outputId": "560df371-ad0d-475d-bee5-4e7de5240493",
        "colab": {
          "base_uri": "https://localhost:8080/",
          "height": 34
        }
      },
      "source": [
        "sum = 0\n",
        "for x in range(101):\n",
        "    sum += x\n",
        "print(sum)"
      ],
      "execution_count": 0,
      "outputs": [
        {
          "output_type": "stream",
          "text": [
            "5050\n"
          ],
          "name": "stdout"
        }
      ]
    },
    {
      "cell_type": "markdown",
      "metadata": {
        "id": "yQyBioFqqnSt",
        "colab_type": "text"
      },
      "source": [
        "第二种循环是while循环，只要条件满足，就不断循环，条件不满足时退出循环。比如我们要计算100以内所有奇数之和，可以用while循环实现："
      ]
    },
    {
      "cell_type": "code",
      "metadata": {
        "id": "xfdwxa-ouQ3V",
        "colab_type": "code",
        "outputId": "a761db8f-46e0-4def-cb97-335bf56e9cc0",
        "colab": {
          "base_uri": "https://localhost:8080/",
          "height": 34
        }
      },
      "source": [
        "sum = 0\n",
        "n = 99\n",
        "while n > 0:\n",
        "    sum = sum + n\n",
        "    n = n - 2\n",
        "print(sum)"
      ],
      "execution_count": 0,
      "outputs": [
        {
          "output_type": "stream",
          "text": [
            "2500\n"
          ],
          "name": "stdout"
        }
      ]
    },
    {
      "cell_type": "markdown",
      "metadata": {
        "id": "IYIuooK1qnNW",
        "colab_type": "text"
      },
      "source": [
        "### break"
      ]
    },
    {
      "cell_type": "code",
      "metadata": {
        "id": "RSGF4xEEvbL9",
        "colab_type": "code",
        "outputId": "4606080a-e203-45d0-994f-771a69e0c14d",
        "colab": {
          "base_uri": "https://localhost:8080/",
          "height": 54
        }
      },
      "source": [
        "n = 1\n",
        "while n <= 100:\n",
        "    print(n,end=\" \")\n",
        "    n = n + 1\n",
        "print('END')"
      ],
      "execution_count": 0,
      "outputs": [
        {
          "output_type": "stream",
          "text": [
            "1 2 3 4 5 6 7 8 9 10 11 12 13 14 15 16 17 18 19 20 21 22 23 24 25 26 27 28 29 30 31 32 33 34 35 36 37 38 39 40 41 42 43 44 45 46 47 48 49 50 51 52 53 54 55 56 57 58 59 60 61 62 63 64 65 66 67 68 69 70 71 72 73 74 75 76 77 78 79 80 81 82 83 84 85 86 87 88 89 90 91 92 93 94 95 96 97 98 99 100 END\n"
          ],
          "name": "stdout"
        }
      ]
    },
    {
      "cell_type": "code",
      "metadata": {
        "id": "QJ_U7AlwvpR8",
        "colab_type": "code",
        "outputId": "c6a99e80-fd98-4ac7-b359-e036d652c7ef",
        "colab": {
          "base_uri": "https://localhost:8080/",
          "height": 34
        }
      },
      "source": [
        "n = 1\n",
        "while n <= 100:\n",
        "    if n > 10: # 当n = 11时，条件满足，执行break语句\n",
        "        break # break语句会结束当前循环\n",
        "    print(n,end=\" \")\n",
        "    n = n + 1\n",
        "print('END')"
      ],
      "execution_count": 0,
      "outputs": [
        {
          "output_type": "stream",
          "text": [
            "1 2 3 4 5 6 7 8 9 10 END\n"
          ],
          "name": "stdout"
        }
      ]
    },
    {
      "cell_type": "markdown",
      "metadata": {
        "id": "-xqdweFvqnLJ",
        "colab_type": "text"
      },
      "source": [
        "break的作用是提前结束循环"
      ]
    },
    {
      "cell_type": "markdown",
      "metadata": {
        "id": "bt-7QP02qnI9",
        "colab_type": "text"
      },
      "source": [
        "### continue"
      ]
    },
    {
      "cell_type": "markdown",
      "metadata": {
        "id": "lixBdJ81qnHD",
        "colab_type": "text"
      },
      "source": [
        "在循环过程中，也可以通过continue语句，跳过当前的这次循环，直接开始下一次循环"
      ]
    },
    {
      "cell_type": "code",
      "metadata": {
        "id": "dnYJAURqwCpR",
        "colab_type": "code",
        "outputId": "43fe794a-9953-4c79-eaaa-510f5033a004",
        "colab": {
          "base_uri": "https://localhost:8080/",
          "height": 34
        }
      },
      "source": [
        "n = 0\n",
        "while n < 10:\n",
        "    n = n + 1\n",
        "    print(n,end=\" \")"
      ],
      "execution_count": 0,
      "outputs": [
        {
          "output_type": "stream",
          "text": [
            "1 2 3 4 5 6 7 8 9 10 "
          ],
          "name": "stdout"
        }
      ]
    },
    {
      "cell_type": "markdown",
      "metadata": {
        "id": "vu-EWOFKwRo-",
        "colab_type": "text"
      },
      "source": [
        "只打印奇数，可以用continue语句跳过某些循环："
      ]
    },
    {
      "cell_type": "code",
      "metadata": {
        "id": "6UVBTGiQwT9B",
        "colab_type": "code",
        "outputId": "1075c80f-adb7-411c-ee44-1e23d509b633",
        "colab": {
          "base_uri": "https://localhost:8080/",
          "height": 34
        }
      },
      "source": [
        "n = 0\n",
        "while n < 10:\n",
        "    n = n + 1\n",
        "    if n % 2 == 0: # 如果n是偶数，执行continue语句\n",
        "        continue # continue语句会直接继续下一轮循环，后续的print()语句不会执行\n",
        "    print(n,end=\" \")"
      ],
      "execution_count": 0,
      "outputs": [
        {
          "output_type": "stream",
          "text": [
            "1 3 5 7 9 "
          ],
          "name": "stdout"
        }
      ]
    },
    {
      "cell_type": "markdown",
      "metadata": {
        "id": "I3rmh1VbwRuZ",
        "colab_type": "text"
      },
      "source": [
        "continue的作用是提前结束本轮循环，并直接开始下一轮"
      ]
    },
    {
      "cell_type": "markdown",
      "metadata": {
        "id": "ixRUnnRzwRz4",
        "colab_type": "text"
      },
      "source": [
        "### 小结"
      ]
    },
    {
      "cell_type": "markdown",
      "metadata": {
        "id": "KL0gfxpBwR6J",
        "colab_type": "text"
      },
      "source": [
        "\n",
        "\n",
        "*   break语句可以在循环过程中直接退出循环，而continue语句可以提前结束本轮循环，并直接开始下一轮循环。这两个语句通常都必须配合if语句使用。\n",
        "\n",
        "*   不要滥用break和continue语句。break和continue会造成代码执行逻辑分叉过多，容易出错。大多数循环并不需要用到break和continue语句\n",
        "*   如果代码写得有问题，会让程序陷入“死循环”，也就是永远循环下去\n",
        "\n",
        "\n"
      ]
    },
    {
      "cell_type": "markdown",
      "metadata": {
        "id": "1j_9lLigwR_-",
        "colab_type": "text"
      },
      "source": [
        "##使用dict和set"
      ]
    },
    {
      "cell_type": "markdown",
      "metadata": {
        "id": "bzpNxmdpwSFX",
        "colab_type": "text"
      },
      "source": [
        "### dict"
      ]
    },
    {
      "cell_type": "markdown",
      "metadata": {
        "id": "7WmtZADcwSDF",
        "colab_type": "text"
      },
      "source": [
        "Python内置了字典：dict的支持，dict全称dictionary，在其他语言中也称为map，使用键-值（key-value）存储，具有极快的查找速度。"
      ]
    },
    {
      "cell_type": "markdown",
      "metadata": {
        "id": "6DGSK-YuwR3V",
        "colab_type": "text"
      },
      "source": [
        "1. 通过in判断key是否存在\n",
        "2. 通过dict提供的get()方法，如果key不存在，可以返回None，或者自己指定的value\n",
        "\n",
        "```\n",
        "d.get('Thomas')\n",
        "d.get('Thomas', -1)\n",
        "```\n",
        "返回None的时候Python的交互环境不显示结果\n"
      ]
    },
    {
      "cell_type": "markdown",
      "metadata": {
        "id": "0lAQooNBwRxo",
        "colab_type": "text"
      },
      "source": [
        "删除一个key，用pop(key)方法，对应的value也会从dict中删除：\n",
        "\n",
        "```\n",
        "d.pop('Bob')\n",
        "```\n",
        "dict内部存放的顺序和key放入的顺序是没有关系的\n"
      ]
    },
    {
      "cell_type": "markdown",
      "metadata": {
        "id": "slzObKJLwRl8",
        "colab_type": "text"
      },
      "source": [
        "dict有以下几个特点：\n",
        "\n",
        "1.   查找和插入的速度极快，不会随着key的增加而变慢；\n",
        "2.   需要占用大量的内存，内存浪费多\n",
        "\n"
      ]
    },
    {
      "cell_type": "markdown",
      "metadata": {
        "id": "FitYEP870B4u",
        "colab_type": "text"
      },
      "source": [
        "list有以下几个特点：\n",
        "\n",
        "\n",
        "1.   查找和插入的时间随着元素的增加而增加；\n",
        "2.   占用空间小，浪费内存很少\n",
        "\n"
      ]
    },
    {
      "cell_type": "markdown",
      "metadata": {
        "id": "sYTTIgZe0B-1",
        "colab_type": "text"
      },
      "source": [
        "dict是用空间来换取时间的一种方法  \n",
        "dict可以用在需要高速查找的很多地方，在Python代码中几乎无处不在，正确使用dict非常重要，需要牢记的第一条就是dict的key必须是不可变对象  \n",
        "这是因为dict根据key来计算value的存储位置，如果每次计算相同的key得出的结果不同，那dict内部就完全混乱了。这个通过key计算位置的算法称为哈希算法（Hash）。\n",
        "\n",
        "要保证hash的正确性，作为key的对象就不能变。在Python中，字符串、整数等都是不可变的，因此，可以放心地作为key。"
      ]
    },
    {
      "cell_type": "markdown",
      "metadata": {
        "id": "0LKK6zoz0B1z",
        "colab_type": "text"
      },
      "source": [
        "###  set"
      ]
    },
    {
      "cell_type": "markdown",
      "metadata": {
        "id": "7mltC9bdILMu",
        "colab_type": "text"
      },
      "source": [
        "set和dict类似，也是一组key的集合，但不存储value。由于key不能重复，所以，在set中，没有重复的key。\n"
      ]
    },
    {
      "cell_type": "markdown",
      "metadata": {
        "id": "qXmbudh4IPgm",
        "colab_type": "text"
      },
      "source": [
        "创建一个set，需要提供一个list作为输入集合："
      ]
    },
    {
      "cell_type": "code",
      "metadata": {
        "id": "-7Wa0QPaIR_j",
        "colab_type": "code",
        "outputId": "04092bea-d301-4f9f-81d9-acee45be897d",
        "colab": {
          "base_uri": "https://localhost:8080/",
          "height": 34
        }
      },
      "source": [
        "s = set([1, 2, 3])\n",
        "s"
      ],
      "execution_count": 0,
      "outputs": [
        {
          "output_type": "execute_result",
          "data": {
            "text/plain": [
              "{1, 2, 3}"
            ]
          },
          "metadata": {
            "tags": []
          },
          "execution_count": 56
        }
      ]
    },
    {
      "cell_type": "markdown",
      "metadata": {
        "id": "n_Dcg5HeIPlI",
        "colab_type": "text"
      },
      "source": [
        "传入的参数`[1, 2, 3]`是一个list，而显示的{1, 2, 3}只是告诉你这个set内部有1，2，3这3个元素，显示的顺序也不表示set是有序的"
      ]
    },
    {
      "cell_type": "markdown",
      "metadata": {
        "id": "IXra6I_EIPqV",
        "colab_type": "text"
      },
      "source": [
        "重复元素在set中自动被过滤：\n",
        "\n"
      ]
    },
    {
      "cell_type": "code",
      "metadata": {
        "id": "GNzJl4L6Igw0",
        "colab_type": "code",
        "outputId": "27d9297b-280c-4bcb-c871-cc052d0b031e",
        "colab": {
          "base_uri": "https://localhost:8080/",
          "height": 34
        }
      },
      "source": [
        "s = set([1, 1, 2, 2, 3, 3])\n",
        "s"
      ],
      "execution_count": 0,
      "outputs": [
        {
          "output_type": "execute_result",
          "data": {
            "text/plain": [
              "{1, 2, 3}"
            ]
          },
          "metadata": {
            "tags": []
          },
          "execution_count": 57
        }
      ]
    },
    {
      "cell_type": "markdown",
      "metadata": {
        "id": "0rcN5WGwIk-2",
        "colab_type": "text"
      },
      "source": [
        "通过add(key)方法可以添加元素到set中，可以重复添加，但不会有效果："
      ]
    },
    {
      "cell_type": "code",
      "metadata": {
        "id": "RTHb8bDBIqkz",
        "colab_type": "code",
        "outputId": "34233552-8881-4f0f-c79c-53ad58da764c",
        "colab": {
          "base_uri": "https://localhost:8080/",
          "height": 34
        }
      },
      "source": [
        "s.add(4)\n",
        "s"
      ],
      "execution_count": 0,
      "outputs": [
        {
          "output_type": "execute_result",
          "data": {
            "text/plain": [
              "{1, 2, 3, 4}"
            ]
          },
          "metadata": {
            "tags": []
          },
          "execution_count": 58
        }
      ]
    },
    {
      "cell_type": "markdown",
      "metadata": {
        "id": "y1Cg-MB6I65T",
        "colab_type": "text"
      },
      "source": [
        "通过remove(key)方法可以删除元素："
      ]
    },
    {
      "cell_type": "markdown",
      "metadata": {
        "id": "e-FhOz3cI-Ce",
        "colab_type": "text"
      },
      "source": [
        "set可以看成数学意义上的无序和无重复元素的集合，因此，两个set可以做数学意义上的交集、并集等操作："
      ]
    },
    {
      "cell_type": "code",
      "metadata": {
        "id": "OqEdm-7HI_Ba",
        "colab_type": "code",
        "outputId": "ffc29b91-ee00-4c13-f9a0-7f6126f294dc",
        "colab": {
          "base_uri": "https://localhost:8080/",
          "height": 34
        }
      },
      "source": [
        "s1 = set([1, 2, 3])\n",
        "s2 = set([2, 3, 4])\n",
        "s1 & s2"
      ],
      "execution_count": 0,
      "outputs": [
        {
          "output_type": "execute_result",
          "data": {
            "text/plain": [
              "{2, 3}"
            ]
          },
          "metadata": {
            "tags": []
          },
          "execution_count": 59
        }
      ]
    },
    {
      "cell_type": "code",
      "metadata": {
        "id": "qkVC-K0LJFQd",
        "colab_type": "code",
        "outputId": "2c5b7e3c-03e5-41e7-866a-a944b0264856",
        "colab": {
          "base_uri": "https://localhost:8080/",
          "height": 34
        }
      },
      "source": [
        "s1 | s2"
      ],
      "execution_count": 0,
      "outputs": [
        {
          "output_type": "execute_result",
          "data": {
            "text/plain": [
              "{1, 2, 3, 4}"
            ]
          },
          "metadata": {
            "tags": []
          },
          "execution_count": 60
        }
      ]
    },
    {
      "cell_type": "markdown",
      "metadata": {
        "id": "iuszVemwJKaO",
        "colab_type": "text"
      },
      "source": [
        "set和dict的唯一区别仅在于没有存储对应的value，但是，set的原理和dict一样，所以，同样不可以放入可变对象，因为无法判断两个可变对象是否相等，也就无法保证set内部“不会有重复元素”"
      ]
    },
    {
      "cell_type": "markdown",
      "metadata": {
        "id": "18KMWhOFJKYk",
        "colab_type": "text"
      },
      "source": [
        "### 再议不可变对象"
      ]
    },
    {
      "cell_type": "markdown",
      "metadata": {
        "id": "5gabvxc-JgWB",
        "colab_type": "text"
      },
      "source": [
        "对于不变对象来说，调用对象自身的任意方法，也不会改变该对象自身的内容。相反，这些方法会创建新的对象并返回，这样，就保证了不可变对象本身永远是不可变的"
      ]
    },
    {
      "cell_type": "markdown",
      "metadata": {
        "id": "Bvxap5tKJgUK",
        "colab_type": "text"
      },
      "source": [
        "### 小结"
      ]
    },
    {
      "cell_type": "markdown",
      "metadata": {
        "id": "qu5JR5POJkQU",
        "colab_type": "text"
      },
      "source": [
        "使用key-value存储结构的dict在Python中非常有用，选择不可变对象作为key很重要，最常用的key是字符串。\n",
        "\n",
        "\n",
        "*   使用key-value存储结构的dict在Python中非常有用，选择不可变对象作为key很重要，最常用的key是字符串。\n",
        "*   tuple虽然是不变对象，但试试把(1, 2, 3)和`(1, [2, 3])`放入dict或set中，并解释结果。\n",
        "\n"
      ]
    },
    {
      "cell_type": "code",
      "metadata": {
        "id": "7hM9lYSJJ3aD",
        "colab_type": "code",
        "outputId": "0b89f565-d735-4912-97e2-12a0f8a2d41c",
        "colab": {
          "base_uri": "https://localhost:8080/",
          "height": 85
        }
      },
      "source": [
        "d = {\n",
        "    'Michael': 95,\n",
        "    'Bob': 75,\n",
        "    'Tracy': 85\n",
        "}\n",
        "print('d[\\'Michael\\'] =', d['Michael'])\n",
        "print('d[\\'Bob\\'] =', d['Bob'])\n",
        "print('d[\\'Tracy\\'] =', d['Tracy'])\n",
        "print('d.get(\\'Thomas\\', -1) =', d.get('Thomas', -1))"
      ],
      "execution_count": 0,
      "outputs": [
        {
          "output_type": "stream",
          "text": [
            "d['Michael'] = 95\n",
            "d['Bob'] = 75\n",
            "d['Tracy'] = 85\n",
            "d.get('Thomas', -1) = -1\n"
          ],
          "name": "stdout"
        }
      ]
    },
    {
      "cell_type": "markdown",
      "metadata": {
        "id": "6mIGojBtfRjf",
        "colab_type": "text"
      },
      "source": [
        "#函数"
      ]
    },
    {
      "cell_type": "markdown",
      "metadata": {
        "id": "PIRuqZt1fT17",
        "colab_type": "text"
      },
      "source": [
        "###调用函数\n",
        "函数名其实就是指向一个函数对象的引用，完全可以把函数名赋给一个变量，相当于给这个函数起了一个“别名”：  \n"
      ]
    },
    {
      "cell_type": "markdown",
      "metadata": {
        "id": "_pulrirXgnij",
        "colab_type": "text"
      },
      "source": [
        "### 定义函数  \n",
        "在Python中，定义一个函数要使用def语句，依次写出函数名、括号、括号中的参数和冒号:，然后，在缩进块中编写函数体，函数的返回值用return语句返回。  \n",
        "如果你已经把my_abs()的函数定义保存为abstest.py文件了，那么，可以在该文件的当前目录下启动Python解释器，用from abstest import my_abs来导入my_abs()函数\n",
        "\n",
        "```\n",
        "from abstest import my_abs \n",
        "```\n",
        "\n"
      ]
    },
    {
      "cell_type": "markdown",
      "metadata": {
        "id": "UCldR6QCiz3N",
        "colab_type": "text"
      },
      "source": [
        "返回多个值  \n"
      ]
    },
    {
      "cell_type": "code",
      "metadata": {
        "id": "gWWmAiTQvTgO",
        "colab_type": "code",
        "colab": {}
      },
      "source": [
        "import math\n",
        "\n",
        "def move(x, y, step, angle=0):\n",
        "    nx = x + step * math.cos(angle)\n",
        "    ny = y - step * math.sin(angle)\n",
        "    return nx, ny"
      ],
      "execution_count": 0,
      "outputs": []
    },
    {
      "cell_type": "code",
      "metadata": {
        "id": "LLwHCYg8vdhD",
        "colab_type": "code",
        "outputId": "44d6e24c-5afc-4dad-8e72-882605838689",
        "colab": {
          "base_uri": "https://localhost:8080/",
          "height": 34
        }
      },
      "source": [
        "x, y = move(100, 100, 60, math.pi / 6)\n",
        "print(x, y)"
      ],
      "execution_count": 0,
      "outputs": [
        {
          "output_type": "stream",
          "text": [
            "151.96152422706632 70.0\n"
          ],
          "name": "stdout"
        }
      ]
    },
    {
      "cell_type": "markdown",
      "metadata": {
        "id": "qU97weNovpkH",
        "colab_type": "text"
      },
      "source": [
        "Python函数返回的仍然是单一值"
      ]
    },
    {
      "cell_type": "markdown",
      "metadata": {
        "id": "VAstT0hRvuMK",
        "colab_type": "text"
      },
      "source": [
        "Python的函数返回多值其实就是返回一个tuple，但写起来更方便。\n",
        "\n"
      ]
    },
    {
      "cell_type": "markdown",
      "metadata": {
        "id": "oELCN1T0vys7",
        "colab_type": "text"
      },
      "source": [
        "小结  \n",
        "\n",
        "\n",
        "*   定义函数时，需要确定函数名和参数个数；\n",
        "*   如果有必要，可以先对参数的数据类型做检查；\n",
        "\n",
        "\n",
        "*   函数体内部可以用return随时返回函数结果；\n",
        "*   函数执行完毕也没有return语句时，自动return None。\n",
        " \n",
        "*   函数可以同时返回多个值，但其实就是一个tuple。\n",
        "\n",
        "\n",
        "\n",
        "\n",
        "\n"
      ]
    },
    {
      "cell_type": "markdown",
      "metadata": {
        "id": "lHpYl796yuZw",
        "colab_type": "text"
      },
      "source": [
        "### 位置参数\n",
        "调用函数时，传入的两个值按照位置顺序依次赋给参数 "
      ]
    },
    {
      "cell_type": "markdown",
      "metadata": {
        "id": "tZj1uK9K0ew0",
        "colab_type": "text"
      },
      "source": [
        "### 默认参数\n",
        "默认参数可以简化函数的调用。设置默认参数时，有几点要注意：\n",
        "\n",
        "*   必选参数在前，默认参数在后\n",
        "\n",
        "*   当函数有多个参数时，把变化大的参数放前面，变化小的参数放后面。变化小的参数就可以作为默认参数。  \n",
        "默认参数必须指向不变对象！\n",
        "\n"
      ]
    },
    {
      "cell_type": "markdown",
      "metadata": {
        "id": "ItnnHPCm4uAd",
        "colab_type": "text"
      },
      "source": [
        "### 可变参数  \n",
        "可变参数就是传入的参数个数是可变的，可以是1个、2个到任意个，还可以是0个。  \n",
        "定义可变参数和定义一个list或tuple参数相比，仅仅在参数前面加了一个`*`号。在函数内部，参数numbers接收到的是一个tuple，因此，函数代码完全不变。但是，调用该函数时，可以传入任意个参数，包括0个参数：\n",
        "\n",
        "Python允许你在list或tuple前面加一个`*`号，把list或tuple的元素变成可变参数传进去：  \n"
      ]
    },
    {
      "cell_type": "markdown",
      "metadata": {
        "id": "i9uUoTkt5U72",
        "colab_type": "text"
      },
      "source": [
        "### 关键字参数  \n",
        "可变参数允许你传入0个或任意个参数，这些可变参数在函数调用时自动组装为一个tuple。而关键字参数允许你传入0个或任意个含参数名的参数，这些关键字参数在函数内部自动组装为一个dict。"
      ]
    },
    {
      "cell_type": "markdown",
      "metadata": {
        "id": "DCdgmkNo69dD",
        "colab_type": "text"
      },
      "source": [
        "关键字参数可以扩展函数的功能  \n",
        "先组装出一个dict，然后，把该dict转换为关键字参数传进去：\n",
        "\n",
        "和关键字参数`**kw`不同，命名关键字参数需要一个特殊分隔符`*`，`*`后面的参数被视为命名关键字参数。\n"
      ]
    },
    {
      "cell_type": "markdown",
      "metadata": {
        "id": "rIk5m7ebEgnz",
        "colab_type": "text"
      },
      "source": [
        "### 参数组合\n",
        "在Python中定义函数，可以用必选参数、默认参数、可变参数、关键字参数和命名关键字参数，这5种参数都可以组合使用。  \n",
        "参数定义的顺序必须是：\n",
        "1. 必选参数\n",
        "2. 默认参数 \n",
        "3.可变参数 \n",
        "4. 命名关键字参数 \n",
        "5.关键字参数。  \n",
        "\n",
        "对于任意函数，都可以通过类似`func(*args, **kw)`的形式调用它，无论它的参数是如何定义的。\n",
        "\n",
        "\n",
        "```\n",
        "def product(*x):\n",
        "    if len(x)==0: raise TypeError\n",
        "    if len(x)>0:\n",
        "        s=1\n",
        "        for i in x:\n",
        "            s*=i\n",
        "        return s\n",
        "\n",
        "```\n",
        "\n"
      ]
    },
    {
      "cell_type": "markdown",
      "metadata": {
        "id": "ntyVG5TxJlS6",
        "colab_type": "text"
      },
      "source": [
        "###  递归函数  \n",
        "所有的递归函数都可以写成循环的方式，但循环的逻辑不如递归清晰  \n",
        "把循环看成是一种特殊的尾递归函数  \n",
        "尾递归是指，在函数返回的时候，调用自身本身，并且，return语句不能包含表达式。这样，编译器或者解释器就可以把尾递归做优化，使递归本身无论调用多少次，都只占用一个栈帧，不会出现栈溢出的情况"
      ]
    },
    {
      "cell_type": "code",
      "metadata": {
        "id": "EOd4BHStKeL6",
        "colab_type": "code",
        "colab": {}
      },
      "source": [
        "def fact(n):\n",
        "    return fact_iter(n, 1)\n",
        "\n",
        "def fact_iter(num, product):\n",
        "    if num == 1:\n",
        "        return product\n",
        "    return fact_iter(num - 1, num * product)\n",
        "\n"
      ],
      "execution_count": 0,
      "outputs": []
    },
    {
      "cell_type": "code",
      "metadata": {
        "id": "em0IpVsuKz34",
        "colab_type": "code",
        "outputId": "fd97454c-df64-4f00-d5fd-a6fa49f77e62",
        "colab": {
          "base_uri": "https://localhost:8080/",
          "height": 34
        }
      },
      "source": [
        "fact(5)"
      ],
      "execution_count": 0,
      "outputs": [
        {
          "output_type": "execute_result",
          "data": {
            "text/plain": [
              "120"
            ]
          },
          "metadata": {
            "tags": []
          },
          "execution_count": 11
        }
      ]
    },
    {
      "cell_type": "markdown",
      "metadata": {
        "id": "2KMX0TQ3LHKj",
        "colab_type": "text"
      },
      "source": [
        "小结\n",
        "* 使用递归函数的优点是逻辑简单清晰，缺点是过深的调用会导致栈溢出。\n",
        "\n",
        "* 针对尾递归优化的语言可以通过尾递归防止栈溢出。尾递归事实上和循环是等价的，没有循环语句的编程语言只能通过尾递归实现循环。\n",
        "\n",
        "* Python标准的解释器没有针对尾递归做优化，任何递归函数都存在栈溢出的问题。"
      ]
    },
    {
      "cell_type": "markdown",
      "metadata": {
        "id": "anU5WZAzLTzU",
        "colab_type": "text"
      },
      "source": [
        "汉诺塔的移动可以用递归函数非常简单地实现\n",
        "\n",
        "```\n",
        "def move(n, a, b, c):\n",
        "    if n == 1:\n",
        "        print(a, '-->', c)\n",
        "    else:\n",
        "        move(n-1, a, c, b)\n",
        "        move(1, a, b, c)\n",
        "        move(n-1, b, a, c)\n",
        "        \n",
        "```\n",
        "\n"
      ]
    },
    {
      "cell_type": "markdown",
      "metadata": {
        "id": "EJQh1OoEEAvX",
        "colab_type": "text"
      },
      "source": [
        "#高级特性"
      ]
    },
    {
      "cell_type": "markdown",
      "metadata": {
        "id": "GnZZ19UHEE_4",
        "colab_type": "text"
      },
      "source": [
        "代码越少，开发效率越高。"
      ]
    },
    {
      "cell_type": "markdown",
      "metadata": {
        "id": "q5_8VSc8EI2W",
        "colab_type": "text"
      },
      "source": [
        "\n",
        "\n",
        "```\n",
        "def findMinAndMax(L): \n",
        "   if len(L)==0:\n",
        "        imax=None\n",
        "        imin=None\n",
        "    else:\n",
        "        imax=L[0]\n",
        "        imin=L[-1]\n",
        "        for i in L:\n",
        "            if i<imin: imin=i\n",
        "            if i>imax: imax=i\n",
        "    return (imin,imax)\n",
        "\n",
        "```\n",
        "\n"
      ]
    },
    {
      "cell_type": "markdown",
      "metadata": {
        "id": "469bQgpXEI5W",
        "colab_type": "text"
      },
      "source": [
        "### 列表生成式\n",
        "\n",
        "\n",
        "*   把要生成的元素x * x放到前面，后面跟for循环\n",
        "\n",
        "*   for循环后面还可以加上if判\n",
        "*   使用两层循环\n",
        "\n",
        "\n",
        "*   for循环其实可以同时使用两个甚至多个变量\n",
        "\n",
        "\n",
        "\n",
        "*   把一个list中所有的字符串变成小写\n",
        "\n",
        "```\n",
        "[s.lower() for s in L]\n",
        "```\n",
        "\n",
        "\n",
        "\n",
        "***\n",
        "\n",
        "\n",
        "```\n",
        "L2 = [s.lower() for s in L1 if isinstance(s, str)==1]\n",
        "```\n",
        "\n",
        "\n"
      ]
    },
    {
      "cell_type": "markdown",
      "metadata": {
        "id": "Uu3zIDKSEI8S",
        "colab_type": "text"
      },
      "source": [
        "### 生成器"
      ]
    },
    {
      "cell_type": "markdown",
      "metadata": {
        "id": "Qal2FyydEI_8",
        "colab_type": "text"
      },
      "source": [
        "通过for循环来迭代generator\n",
        "这就是定义generator的另一种方法。如果一个函数定义中包含yield关键字，那么这个函数就不再是一个普通函数，而是一个generator  \n",
        "但是用for循环调用generator时，发现拿不到generator的return语句的返回值。如果想要拿到返回值，必须捕获StopIteration错误，返回值包含在StopIteration的value中：\n",
        "\n",
        "\n",
        "```\n",
        " g = fib(6)\n",
        ">>> while True:\n",
        "...     try:\n",
        "...         x = next(g)\n",
        "...         print('g:', x)\n",
        "...     except StopIteration as e:\n",
        "...         print('Generator return value:', e.value)\n",
        "...         break\n",
        "#获取return内容\n",
        "```\n",
        "\n",
        "杨辉三角\n",
        "\n",
        "\n",
        "```\n",
        "def triangles():\n",
        "    p = [1]       \n",
        "\n",
        "    while True:\n",
        "\n",
        "       yield p         \n",
        "\n",
        "       p =[1]+[p[x]+p[x+1] for x in range(len(p)-1)]+[1]    \n",
        "\n",
        "```\n",
        "\n"
      ]
    },
    {
      "cell_type": "markdown",
      "metadata": {
        "id": "3D5Nn_kkEJki",
        "colab_type": "text"
      },
      "source": [
        "### 迭代器\n",
        "以直接作用于for循环的数据类型有以下几种：\n",
        "\n",
        "*   一类是集合数据类型，如list、tuple、dict、set、str等\n",
        "\n",
        "*   一类是generator，包括生成器和带yield的generator function\n",
        "*   可以直接作用于for循环的对象统称为可迭代对象：Iterable\n",
        "\n",
        "生成器都是Iterator对象，但list、dict、str虽然是Iterable，却不是Iterator。  \n",
        "把list、dict、str等Iterable变成Iterator可以使用iter()函数：\n",
        "\n"
      ]
    },
    {
      "cell_type": "markdown",
      "metadata": {
        "id": "HW7qDCY4EFOQ",
        "colab_type": "text"
      },
      "source": [
        "#### 小结\n",
        "\n",
        "*   凡是可作用于for循环的对象都是Iterable类型；\n",
        "\n",
        "*   凡是可作用于next()函数的对象都是Iterator类型，它们表示一个惰性计算的序列；\n",
        "*   集合数据类型如list、dict、str等是Iterable但不是Iterator，不过可以通过iter()函数获得一个Iterator对象\n",
        "\n",
        "\n",
        "*   Python的for循环本质上就是通过不断调用next()函数实现的\n",
        "\n"
      ]
    },
    {
      "cell_type": "markdown",
      "metadata": {
        "id": "li3he_t5EPzw",
        "colab_type": "text"
      },
      "source": [
        "# 函数式编程"
      ]
    },
    {
      "cell_type": "markdown",
      "metadata": {
        "id": "RXUqMRg3Eg9I",
        "colab_type": "text"
      },
      "source": [
        ""
      ]
    },
    {
      "cell_type": "markdown",
      "metadata": {
        "id": "3cBwFDrxEhVF",
        "colab_type": "text"
      },
      "source": [
        "### 高阶函数 \n",
        "高阶函数英文叫Higher-order function  \n",
        "函数本身也可以赋值给变量，即：变量可以指向函数  \n",
        "编写高阶函数，就是让函数的参数能够接收别的函数。"
      ]
    },
    {
      "cell_type": "markdown",
      "metadata": {
        "id": "5hSLeAUWGjao",
        "colab_type": "text"
      },
      "source": [
        "map()函数接收两个参数，一个是函数，一个是Iterable，map将传入的函数依次作用到序列的每个元素，并把结果作为新的Iterator返回。\n",
        "\n",
        "```\n",
        "def f(x):\n",
        "     return x * x\n",
        "\n",
        " r = map(f, [1, 2, 3, 4, 5, 6, 7, 8, 9])\n",
        "\n",
        "list(r)\n",
        "\n",
        "```\n",
        "\n"
      ]
    },
    {
      "cell_type": "markdown",
      "metadata": {
        "id": "FuaauocaGjh1",
        "colab_type": "text"
      },
      "source": [
        "reduce把一个函数作用在一个序列`[x1, x2, x3, ...]`上，这个函数必须接收两个参数，reduce把结果继续和序列的下一个元素做累积计算"
      ]
    },
    {
      "cell_type": "markdown",
      "metadata": {
        "id": "G9qL8sdbGjrR",
        "colab_type": "text"
      },
      "source": [
        "配合map()，我们就可以写出把str转换为int的函数  \n",
        "假设Python没有提供int()函数，你完全可以自己写一个把字符串转化为整数的函数，而且只需要几行代码！\n",
        "\n",
        "```\n",
        ">>> from functools import reduce\n",
        ">>> def fn(x, y):\n",
        "...     return x * 10 + y\n",
        "...\n",
        ">>> def char2num(s):\n",
        "...     digits = {'0': 0, '1': 1, '2': 2, '3': 3, '4': 4, '5': 5, '6': 6, '7': 7, '8': 8, '9': 9}\n",
        "...     return digits[s]\n",
        "...\n",
        "```\n",
        "\n",
        "***\n",
        "整理一下\n",
        "\n",
        "\n",
        "```\n",
        ">>> from functools import reduce\n",
        ">>> def fn(x, y):\n",
        "...     return x * 10 + y\n",
        "...\n",
        ">>> def char2num(s):\n",
        "...     digits = {'0': 0, '1': 1, '2': 2, '3': 3, '4': 4, '5': 5, '6': 6, '7': 7, '8': 8, '9': 9}\n",
        "...     return digits[s]\n",
        "...\n",
        "```\n",
        "\n"
      ]
    },
    {
      "cell_type": "markdown",
      "metadata": {
        "id": "kD3bIWg5JdZY",
        "colab_type": "text"
      },
      "source": [
        "利用map()函数，把用户输入的不规范的英文名字，变为首字母大写，其他小写的规范名字。输入：`['adam', 'LISA', 'barT']`，输出：`['Adam', 'Lisa', 'Bart']`：\n",
        "\n",
        "\n",
        "```\n",
        "def normalize(name):\n",
        "    name=name.capitalize()\n",
        "    return name\n",
        "    \n",
        "    \n",
        "L1 = ['adam', 'LISA', 'barT']\n",
        "L2 = list(map(normalize, L1))\n",
        "print(L2)\n",
        "```\n",
        "\n"
      ]
    },
    {
      "cell_type": "markdown",
      "metadata": {
        "id": "VneogJmLMYBb",
        "colab_type": "text"
      },
      "source": [
        "Python提供的sum()函数可以接受一个list并求和，请编写一个prod()函数，可以接受一个list并利用reduce()求积：\n",
        "\n",
        "\n"
      ]
    },
    {
      "cell_type": "code",
      "metadata": {
        "id": "2zwRmcoZMhNV",
        "colab_type": "code",
        "colab": {
          "base_uri": "https://localhost:8080/",
          "height": 34
        },
        "outputId": "872360a4-a82c-4be2-8852-690d84a96dc8"
      },
      "source": [
        "from functools import reduce\n",
        "def prod(L):\n",
        "    def chen(x,y):\n",
        "        return x*y\n",
        "    return reduce(chen,L)\n",
        "print('3*5*7=',prod([3,5,7]))"
      ],
      "execution_count": 2,
      "outputs": [
        {
          "output_type": "stream",
          "text": [
            "3*5*7= 105\n"
          ],
          "name": "stdout"
        }
      ]
    },
    {
      "cell_type": "markdown",
      "metadata": {
        "id": "wite4AWZOqb2",
        "colab_type": "text"
      },
      "source": [
        "利用map和reduce编写一个str2float函数，把字符串'123.456'转换成浮点数123.456"
      ]
    },
    {
      "cell_type": "code",
      "metadata": {
        "id": "JXFtCJSdOtTl",
        "colab_type": "code",
        "colab": {
          "base_uri": "https://localhost:8080/",
          "height": 34
        },
        "outputId": "ca957693-a76c-450b-eea8-2e6197f812c7"
      },
      "source": [
        "from functools import reduce\n",
        "      \n",
        "def str2float(s):\n",
        "    def fn(x,y):\n",
        "        return x*10+y\n",
        "#    n=s.index('.')\n",
        "    L=s.split('.')\n",
        "#   s1=list(map(int,[x for x in s[:n]]))\n",
        "    s1=list(map(int,[x for x in L[0]]))\n",
        "\n",
        "#   s2=list(map(int,[x for x in s[n+1:]]))\n",
        "    s2=list(map(int,[x for x in L[1]]))\n",
        "    return reduce(fn,s1) + reduce(fn,s2)/10**len(s2)\n",
        "\n",
        "\n",
        "\n",
        "\n",
        "\n",
        "             \n",
        "s=\"123.121\"\n",
        "\n",
        "str2float(s)\n",
        "# 将原始字符串数据分割为两部分\n",
        "#L = s.split('.')"
      ],
      "execution_count": 5,
      "outputs": [
        {
          "output_type": "execute_result",
          "data": {
            "text/plain": [
              "123.121"
            ]
          },
          "metadata": {
            "tags": []
          },
          "execution_count": 5
        }
      ]
    },
    {
      "cell_type": "markdown",
      "metadata": {
        "id": "LLHzUKuZXrv7",
        "colab_type": "text"
      },
      "source": [
        "### filter  \n",
        "Python内建的filter()函数用于过滤序列。\n",
        "\n",
        "*   和map()类似，filter()也接收一个函数和一个序列\n",
        "*   和map()不同的是，filter()把传入的函数依次作用于每个元素，然后根据返回值是True还是False决定保留还是丢弃该元素。\n",
        "\n",
        "\n",
        "把一个序列中的空字符串删掉\n",
        "```\n",
        "def not_empty(s):\n",
        "    return s and s.strip()\n",
        "list(filter(not_empty, ['A', '', 'B', None, 'C', '  ']))\n",
        "```\n",
        "\n",
        "filter()这个高阶函数，关键在于正确实现一个“筛选”函数  \n",
        "filter()函数返回的是一个Iterator，也就是一个惰性序列，所以要强迫filter()完成计算结果，需要用list()函数获得所有结果并返回list。\n",
        "\n",
        "\n",
        "\n"
      ]
    },
    {
      "cell_type": "markdown",
      "metadata": {
        "id": "LkJerV31bFJU",
        "colab_type": "text"
      },
      "source": [
        "### 用filter求素数  \n"
      ]
    },
    {
      "cell_type": "code",
      "metadata": {
        "id": "SOjg8LlBes_4",
        "colab_type": "code",
        "colab": {
          "base_uri": "https://localhost:8080/",
          "height": 54
        },
        "outputId": "862d81e8-df90-4b36-a5f4-b0bc59a34b12"
      },
      "source": [
        "#先构造一个从3开始的奇数序列,因为偶数肯定不是素数\n",
        "def _odd_iter():\n",
        "    n = 1\n",
        "    while True:\n",
        "        n = n + 2\n",
        "        yield n\n",
        "\n",
        "def _not_divisible(n):\n",
        "    return lambda x: x % n > 0\n",
        "def primes():\n",
        "    yield 2\n",
        "    it = _odd_iter() # 初始序列\n",
        "    while True:\n",
        "        n = next(it) # 返回序列的第一个数\n",
        "        yield n\n",
        "        it = filter(_not_divisible(n), it) # 构造新序列\n",
        "for n in primes():\n",
        "    if n < 100:\n",
        "        print(n,end=' ')\n",
        "    else:\n",
        "        break"
      ],
      "execution_count": 10,
      "outputs": [
        {
          "output_type": "stream",
          "text": [
            "2 3 5 7 11 13 17 19 23 29 31 37 41 43 47 53 59 61 67 71 73 79 83 89 97 "
          ],
          "name": "stdout"
        }
      ]
    },
    {
      "cell_type": "markdown",
      "metadata": {
        "id": "XxCn56a0iJL7",
        "colab_type": "text"
      },
      "source": [
        "回数是指从左向右读和从右向左读都是一样的数，例如12321，909。请利用filter()筛选出回数"
      ]
    },
    {
      "cell_type": "code",
      "metadata": {
        "id": "Z1mZJxLviSbe",
        "colab_type": "code",
        "colab": {}
      },
      "source": [
        "def is_palindrome(n):\n",
        "    return str(n)==(str(n))[::-1]\n",
        "output = filter(is_palindrome, range(1, 1000))\n",
        "print('1~1000:', list(output))"
      ],
      "execution_count": 0,
      "outputs": []
    },
    {
      "cell_type": "markdown",
      "metadata": {
        "id": "SAeoJPQgi0kV",
        "colab_type": "text"
      },
      "source": [
        "### 排序算法"
      ]
    },
    {
      "cell_type": "markdown",
      "metadata": {
        "id": "zR5rZ2Rki0i9",
        "colab_type": "text"
      },
      "source": [
        "sorted()函数也是一个高阶函数，它还可以接收一个key函数来实现自定义的排序，例如按绝对值大小排序：\n",
        "\n",
        "\n",
        "```\n",
        "sorted([36, 5, -12, 9, -21], key=abs)\n",
        "```\n",
        "默认情况下，对字符串排序，是按照ASCII的大小比较的，由于'Z' < 'a'，结果，大写字母Z会排在小写字母a的前面。\n"
      ]
    },
    {
      "cell_type": "markdown",
      "metadata": {
        "id": "kog2QKhCjqki",
        "colab_type": "text"
      },
      "source": [
        "要进行反向排序，不必改动key函数，可以传入第三个参数reverse=True：\n",
        "\n",
        "\n",
        "```\n",
        "sorted(['bob', 'about', 'Zoo', 'Credit'], key=str.lower, reverse=True)\n",
        "```\n",
        "\n",
        "sorted()也是一个高阶函数。用sorted()排序的关键在于实现一个映射函数。"
      ]
    },
    {
      "cell_type": "markdown",
      "metadata": {
        "id": "_mJ5AOMgk2gQ",
        "colab_type": "text"
      },
      "source": [
        "\n",
        "\n",
        "假设我们用一组tuple表示学生名字和成绩：\n",
        "```\n",
        "L = [('Bob', 75), ('Adam', 92), ('Bart', 66), ('Lisa', 88)]\n",
        "```\n",
        "请用sorted()对上述列表分别按名字排序：\n",
        "\n",
        "```\n",
        "# 此内容为代码格式\n",
        "```\n",
        "\n",
        "\n"
      ]
    },
    {
      "cell_type": "code",
      "metadata": {
        "id": "PhDdKBFKk_4W",
        "colab_type": "code",
        "colab": {
          "base_uri": "https://localhost:8080/",
          "height": 34
        },
        "outputId": "582ee2a6-c782-47e6-8f3f-16162aca8510"
      },
      "source": [
        "L = [('Bob', 75), ('Adam', 92), ('Bart', 66), ('Lisa', 88)]\n",
        "def by_name(t):\n",
        "    return t[0]\n",
        "L2 = sorted(L, key=by_name)\n",
        "print(L2)"
      ],
      "execution_count": 12,
      "outputs": [
        {
          "output_type": "stream",
          "text": [
            "[('Adam', 92), ('Bart', 66), ('Bob', 75), ('Lisa', 88)]\n"
          ],
          "name": "stdout"
        }
      ]
    },
    {
      "cell_type": "code",
      "metadata": {
        "id": "4CImZzpClJ44",
        "colab_type": "code",
        "colab": {
          "base_uri": "https://localhost:8080/",
          "height": 34
        },
        "outputId": "db53a119-ea06-44b3-fb02-c60236fa4c39"
      },
      "source": [
        "#再按成绩从高到低排序：\n",
        "def by_score(t):\n",
        "    return -t[1]\n",
        "L3 = sorted(L, key=by_score)\n",
        "print(L3)"
      ],
      "execution_count": 13,
      "outputs": [
        {
          "output_type": "stream",
          "text": [
            "[('Adam', 92), ('Lisa', 88), ('Bob', 75), ('Bart', 66)]\n"
          ],
          "name": "stdout"
        }
      ]
    },
    {
      "cell_type": "markdown",
      "metadata": {
        "id": "_TPCTuuglhyf",
        "colab_type": "text"
      },
      "source": [
        "###  返回函数\n",
        "高阶函数除了可以接受函数作为参数外，还可以把函数作为结果值返回。"
      ]
    },
    {
      "cell_type": "markdown",
      "metadata": {
        "id": "kMh0p4XemeFW",
        "colab_type": "text"
      },
      "source": [
        "#### 闭包\n",
        "返回函数不要引用任何循环变量，或者后续会发生变化的变量。"
      ]
    },
    {
      "cell_type": "markdown",
      "metadata": {
        "id": "lthKPKi3oCNY",
        "colab_type": "text"
      },
      "source": [
        "利用闭包返回一个计数器函数，每次调用它返回递增整数："
      ]
    },
    {
      "cell_type": "code",
      "metadata": {
        "id": "dM6VDmTxoEAs",
        "colab_type": "code",
        "colab": {}
      },
      "source": [
        "def createCounter():\n",
        "    l = [0]\n",
        "    def counter():\n",
        "        l[0] += 1\n",
        "        return l[0]\n",
        "    return counter\n",
        " "
      ],
      "execution_count": 0,
      "outputs": []
    },
    {
      "cell_type": "markdown",
      "metadata": {
        "id": "eu2jemshpnwd",
        "colab_type": "text"
      },
      "source": [
        "###  匿名函数\n",
        "当我们在传入函数时，有些时候，不需要显式地定义函数，直接传入匿名函数更方便"
      ]
    },
    {
      "cell_type": "markdown",
      "metadata": {
        "id": "R-Y-zeXZpnvR",
        "colab_type": "text"
      },
      "source": [
        "在Python中，对匿名函数提供了有限支持。还是以map()函数为例，计算f(x)=x2时，除了定义一个f(x)的函数外，还可以直接传入匿名函数："
      ]
    },
    {
      "cell_type": "markdown",
      "metadata": {
        "id": "z8IVrx9Qpw60",
        "colab_type": "text"
      },
      "source": [
        "大名鼎鼎的 lambda 终于脱下了他神秘的外衣"
      ]
    },
    {
      "cell_type": "markdown",
      "metadata": {
        "id": "L2G6t4ouqdeN",
        "colab_type": "text"
      },
      "source": [
        "### 装饰器\n",
        "*  由于函数也是一个对象，而且函数对象可以被赋值给变量，所以，通过变量也能调用该函数。\n",
        "\n",
        "*  函数对象有一个__name__属性，可以拿到函数的名字：\n",
        "\n",
        "*  在代码运行期间动态增加功能的方式，称之为“装饰器”（Decorator）。\n",
        "\n",
        "*  decorator就是一个返回函数的高阶函数\n",
        "\n",
        "\n",
        "\n",
        "```\n",
        "def log(func):\n",
        "    def wrapper(*args, **kw):\n",
        "        print('call %s():' % func.__name__)\n",
        "        return func(*args, **kw)\n",
        "    return wrapper\n",
        "```\n",
        "Python的@语法\n"
      ]
    },
    {
      "cell_type": "markdown",
      "metadata": {
        "id": "s4odGa2rsjxr",
        "colab_type": "text"
      },
      "source": [
        "一个完整的decorator的写法如下  \n",
        "\n",
        "\n",
        "```\n",
        "import functools\n",
        "\n",
        "def log(func):\n",
        "    @functools.wraps(func)\n",
        "    def wrapper(*args, **kw):\n",
        "        print('call %s():' % func.__name__)\n",
        "        return func(*args, **kw)\n",
        "    return wrapper\n",
        "```\n",
        "\n",
        "针对带参数的decorator：\n",
        "\n",
        "\n",
        "\n",
        "```\n",
        "import functools\n",
        "\n",
        "def log(text):\n",
        "    def decorator(func):\n",
        "        @functools.wraps(func)\n",
        "        def wrapper(*args, **kw):\n",
        "            print('%s %s():' % (text, func.__name__))\n",
        "            return func(*args, **kw)\n",
        "        return wrapper\n",
        "    return decorator\n",
        "```\n",
        "**`在定义wrapper()的前面加上@functools.wraps(func)`**"
      ]
    },
    {
      "cell_type": "markdown",
      "metadata": {
        "id": "9V6fA7gxtJ3a",
        "colab_type": "text"
      },
      "source": [
        "请设计一个decorator，它可作用于任何函数上，并打印该函数的执行时间："
      ]
    },
    {
      "cell_type": "code",
      "metadata": {
        "id": "MD7IeoPCvcqU",
        "colab_type": "code",
        "colab": {}
      },
      "source": [
        "import time, functools\n",
        "def metric(fn):\n",
        "\n",
        "    def wrapper(*args):\n",
        "\n",
        "        start = time.time()\n",
        "\n",
        "        res = fn(*args)\n",
        "\n",
        "        end =  time.time()\n",
        "\n",
        "        print('%s executed in %s ms' % (fn.__name__, end - start))\n",
        "\n",
        "        return res\n",
        "\n",
        "    return wrapper"
      ],
      "execution_count": 0,
      "outputs": []
    },
    {
      "cell_type": "markdown",
      "metadata": {
        "id": "c85Ljv8QwUXi",
        "colab_type": "text"
      },
      "source": [
        "### 偏函数 （Partial function）"
      ]
    },
    {
      "cell_type": "markdown",
      "metadata": {
        "id": "dlr39pFgxCJB",
        "colab_type": "text"
      },
      "source": [
        "int()函数还提供额外的base参数，默认值为10。如果传入base参数，就可以做N进制的转换"
      ]
    },
    {
      "cell_type": "markdown",
      "metadata": {
        "id": "rlZyyM6PxCM5",
        "colab_type": "text"
      },
      "source": [
        "要转换大量的二进制字符串，每次都传入int(x, base=2)非常麻烦，于是，我们想到，可以定义一个int2()的函数，默认把base=2传进去：\n",
        "\n",
        "\n",
        "```\n",
        "def int2(x, base=2):\n",
        "    return int(x, base)\n",
        "```\n",
        "\n"
      ]
    },
    {
      "cell_type": "markdown",
      "metadata": {
        "id": "oG7LQnlXxN3z",
        "colab_type": "text"
      },
      "source": [
        "functools.partial就是帮助我们创建一个偏函数的，不需要我们自己定义int2()，可以直接使用下面的代码创建一个新的函数int2：\n",
        "\n",
        "```\n",
        ">>> import functools\n",
        ">>> int2 = functools.partial(int, base=2)\n",
        "```\n",
        "创建偏函数时，实际上可以接收函数对象、`*args`和`**kw这3个参数`\n",
        "\n",
        "当函数的参数个数太多，需要简化时，使用functools.partial可以创建一个新的函数，这个新函数可以固定住原函数的部分参数，从而在调用时更简单。\n"
      ]
    }
  ]
}