{
  "nbformat": 4,
  "nbformat_minor": 0,
  "metadata": {
    "colab": {
      "name": "liaoxuefeng python.ipynb",
      "version": "0.3.2",
      "provenance": [],
      "collapsed_sections": [
        "Q-zyBQQ-fF88",
        "D6I0jFhXOQa_",
        "MXDdTKjIqr-I",
        "f0eW3AKKqyMy",
        "lryMUXxHcg1m",
        "-m-pexIAi1zC",
        "SuARlOnx5Iqw",
        "Yxe6THBEjh3d",
        "Y3BdKHcUln4m",
        "IliNKmN7E3dT",
        "Ont9oWivnpb0",
        "Hb2HWz9OnpjM",
        "1j_9lLigwR_-",
        "bzpNxmdpwSFX",
        "0LKK6zoz0B1z",
        "18KMWhOFJKYk",
        "DKr-IDiyOWwj",
        "Bvxap5tKJgUK",
        "6mIGojBtfRjf",
        "anU5WZAzLTzU",
        "EJQh1OoEEAvX",
        "7_iu5Tx3xnhO",
        "WWzbylhTy9iT",
        "XCUaRwDS0Tpv",
        "469bQgpXEI5W",
        "Uu3zIDKSEI8S",
        "Qal2FyydEI_8",
        "3D5Nn_kkEJki",
        "-VWnSkjShR8c",
        "OhSoQSawiIZM",
        "ghVUdzRW94G4",
        "EKYeE0wCxjw6",
        "SzdKavXLRQxH",
        "AFk7QAKLRRDt",
        "H2PQnEaB0-4T",
        "1dtnrirDOtnu",
        "gJe0RcEz0tpt",
        "CO363pIZpiny"
      ],
      "include_colab_link": true
    },
    "kernelspec": {
      "name": "python3",
      "display_name": "Python 3"
    }
  },
  "cells": [
    {
      "cell_type": "markdown",
      "metadata": {
        "id": "view-in-github",
        "colab_type": "text"
      },
      "source": [
        "<a href=\"https://colab.research.google.com/github/ccloveak/Study_Notes/blob/master/liaoxuefeng_python.ipynb\" target=\"_parent\"><img src=\"https://colab.research.google.com/assets/colab-badge.svg\" alt=\"Open In Colab\"/></a>"
      ]
    },
    {
      "cell_type": "markdown",
      "metadata": {
        "id": "Q-zyBQQ-fF88",
        "colab_type": "text"
      },
      "source": [
        "#Python基础"
      ]
    },
    {
      "cell_type": "markdown",
      "metadata": {
        "id": "-iq7DXwUlFvC",
        "colab_type": "text"
      },
      "source": [
        "\n",
        "\n",
        "*   Python使用缩进来组织代码块，使用4个空格的缩进\n",
        "\n",
        "*   Python程序是大小写敏感\n",
        "\n",
        "\n"
      ]
    },
    {
      "cell_type": "markdown",
      "metadata": {
        "id": "7d6--PkDKRjH",
        "colab_type": "text"
      },
      "source": [
        "## 数据类型和变量"
      ]
    },
    {
      "cell_type": "markdown",
      "metadata": {
        "id": "V5tvgJjFl4wI",
        "colab_type": "text"
      },
      "source": [
        "### 整数\n",
        "* Python可以处理任意大小的整数，包括负整数。"
      ]
    },
    {
      "cell_type": "markdown",
      "metadata": {
        "id": "xop50rYwl-nn",
        "colab_type": "text"
      },
      "source": [
        "### 浮点数\n",
        "*  浮点数就是小数，按照科学记数法表示时，一个浮点数的小数点位置是可变的。"
      ]
    },
    {
      "cell_type": "markdown",
      "metadata": {
        "id": "i_QMGOUvKJ1i",
        "colab_type": "text"
      },
      "source": [
        "###字符串\n",
        "\n",
        "\n",
        "*   `转义字符\\可以转义很多字符，比如\\n表示换行，\\t表示制表符，字符\\本身也要转义，所以\\\\表示的字符就是\\` \n",
        "\n",
        "*   如果字符串里面有很多字符都需要转义，就需要加很多\\，为了简化，Python还允许用r''表示''内部的字符串默认不转义\n",
        "\n",
        "*   字符串内部有很多换行，用\\n写在一行里不好阅读，为了简化，Python允许用'''...'''的格式表示多行内容\n",
        "\n",
        "\n",
        "\n",
        "\n",
        "\n"
      ]
    },
    {
      "cell_type": "markdown",
      "metadata": {
        "id": "g-wjZKqsm-yL",
        "colab_type": "text"
      },
      "source": [
        "### 布尔值\n",
        "\n",
        "*   布尔值和布尔代数的表示完全一致，一个布尔值只有True、False两种值\n",
        "*   Python中，可以直接用True、False表示布尔值\n",
        "\n",
        "*   布尔值可以用and、or和not运算\n",
        "*   列表项\n",
        "\n",
        "\n",
        "\n"
      ]
    },
    {
      "cell_type": "markdown",
      "metadata": {
        "id": "CyUtIQrenWPL",
        "colab_type": "text"
      },
      "source": [
        "### 空值\n",
        "\n",
        "\n",
        "*   空值是Python里一个特殊的值，用None表示。\n",
        "*   None不能理解为0，因为0是有意义的。\n",
        "\n"
      ]
    },
    {
      "cell_type": "markdown",
      "metadata": {
        "id": "7DYOH4bTnmqi",
        "colab_type": "text"
      },
      "source": [
        "### 变量\n",
        "\n",
        "*   在计算机程序中，变量不仅可以是数字，还可以是任意数据类型\n",
        "*   变量在程序中就是用一个变量名表示了，变量名必须是大小写英文、数字和_的组合，且不能用数字开头\n",
        "*   把一个变量a赋值给另一个变量b，这个操作实际上是把变量b指向变量a所指向的数据\n"
      ]
    },
    {
      "cell_type": "code",
      "metadata": {
        "id": "qq8qP17KLyYF",
        "colab_type": "code",
        "outputId": "2e613528-2b87-4623-df9a-45d5c00a88ec",
        "colab": {
          "base_uri": "https://localhost:8080/",
          "height": 35
        }
      },
      "source": [
        "a = 'ABC'\n",
        "b = a\n",
        "a = 'XYZ'\n",
        "print(b)\n"
      ],
      "execution_count": 0,
      "outputs": [
        {
          "output_type": "stream",
          "text": [
            "ABC\n"
          ],
          "name": "stdout"
        }
      ]
    },
    {
      "cell_type": "markdown",
      "metadata": {
        "id": "bQ8lHsYDoaLh",
        "colab_type": "text"
      },
      "source": [
        "### 常量\n",
        "\n",
        "*   常量就是不能变的变量，比如常用的数学常数π就是一个常量\n",
        "*   Python中，通常用全部大写的变量名表示常量\n",
        "\n",
        "\n"
      ]
    },
    {
      "cell_type": "markdown",
      "metadata": {
        "id": "CnDWqt08MbsH",
        "colab_type": "text"
      },
      "source": [
        "**两种除法：**\n"
      ]
    },
    {
      "cell_type": "markdown",
      "metadata": {
        "id": "C_wPHvsfpMet",
        "colab_type": "text"
      },
      "source": [
        "1. 一种除法是/"
      ]
    },
    {
      "cell_type": "code",
      "metadata": {
        "id": "FNTYPMyjMc4z",
        "colab_type": "code",
        "outputId": "0ade1268-bb46-4e91-fca8-ced25c0107f5",
        "colab": {
          "base_uri": "https://localhost:8080/",
          "height": 35
        }
      },
      "source": [
        "10/3"
      ],
      "execution_count": 0,
      "outputs": [
        {
          "output_type": "execute_result",
          "data": {
            "text/plain": [
              "3.3333333333333335"
            ]
          },
          "metadata": {
            "tags": []
          },
          "execution_count": 2
        }
      ]
    },
    {
      "cell_type": "markdown",
      "metadata": {
        "id": "JZcYU2J7MlAH",
        "colab_type": "text"
      },
      "source": [
        "2. 还有一种除法是//，称为地板除，两个整数的除法仍然是整数："
      ]
    },
    {
      "cell_type": "code",
      "metadata": {
        "id": "82XdDKfgMmAm",
        "colab_type": "code",
        "outputId": "cc27d4c2-3e2f-4898-e7e3-dcb7e32b3e91",
        "colab": {
          "base_uri": "https://localhost:8080/",
          "height": 35
        }
      },
      "source": [
        "10 // 3"
      ],
      "execution_count": 0,
      "outputs": [
        {
          "output_type": "execute_result",
          "data": {
            "text/plain": [
              "3"
            ]
          },
          "metadata": {
            "tags": []
          },
          "execution_count": 3
        }
      ]
    },
    {
      "cell_type": "markdown",
      "metadata": {
        "id": "Lcx4Vx3vMulY",
        "colab_type": "text"
      },
      "source": [
        "3. //除法只取结果的整数部分，Python还提供一个余数运算，可以得到两个整数相除的余数："
      ]
    },
    {
      "cell_type": "code",
      "metadata": {
        "id": "HtRSGQyKM0r2",
        "colab_type": "code",
        "outputId": "e1f44f9d-76fb-4d8d-fb3c-c8e3c7436c1d",
        "colab": {
          "base_uri": "https://localhost:8080/",
          "height": 35
        }
      },
      "source": [
        "10 % 3"
      ],
      "execution_count": 0,
      "outputs": [
        {
          "output_type": "execute_result",
          "data": {
            "text/plain": [
              "1"
            ]
          },
          "metadata": {
            "tags": []
          },
          "execution_count": 4
        }
      ]
    },
    {
      "cell_type": "markdown",
      "metadata": {
        "id": "s_lAIj4Ip2PL",
        "colab_type": "text"
      },
      "source": [
        "### 小结\n",
        "\n",
        "*   在计算机内部，可以把任何数据都看成一个“对象”，而变量就是在程序中用来指向这些数据对象的，对变量赋值就是把数据和变量给关联起来。\n",
        "\n",
        "*   对变量赋值x = y是把变量x指向真正的对象，该对象是变量y所指向的。随后对变量y的赋值不影响变量x的指向。\n",
        "\n",
        "*   Python的整数没有大小限制\n",
        "\n",
        "*   Python的浮点数也没有大小限制，但是超出一定范围就直接表示为inf（无限大）。\n",
        "\n",
        "\n",
        "\n"
      ]
    },
    {
      "cell_type": "markdown",
      "metadata": {
        "id": "D6I0jFhXOQa_",
        "colab_type": "text"
      },
      "source": [
        "## 字符串和编码  \n"
      ]
    },
    {
      "cell_type": "markdown",
      "metadata": {
        "id": "MXDdTKjIqr-I",
        "colab_type": "text"
      },
      "source": [
        "### 字符编码\n",
        "\n",
        "\n",
        "\n",
        "\n",
        "\n",
        "\n"
      ]
    },
    {
      "cell_type": "markdown",
      "metadata": {
        "id": "D9mp8jMRCKio",
        "colab_type": "text"
      },
      "source": [
        "\n",
        "*   最早  ASCII编码\n",
        "*   中国  GB2312编码\n",
        "*   日本  Shift_JIS编码\n",
        "*   韩国   Euc-kr编码\n",
        "\n",
        "*   现在   UTF-8编码"
      ]
    },
    {
      "cell_type": "markdown",
      "metadata": {
        "id": "f0eW3AKKqyMy",
        "colab_type": "text"
      },
      "source": [
        "### Python的字符串"
      ]
    },
    {
      "cell_type": "markdown",
      "metadata": {
        "id": "OaFUu3UiPMqY",
        "colab_type": "text"
      },
      "source": [
        "*    对于单个字符的编码，Python提供了ord()函数获取字符的整数表示，chr()函数把编码转换为对应的字符\n",
        "\n",
        "```\n",
        ">>> ord('A')\n",
        "65\n",
        ">>> ord('中')\n",
        "20013\n",
        ">>> chr(66)\n",
        "'B'\n",
        ">>> chr(25991)\n",
        "'文'\n",
        "```\n",
        "\n"
      ]
    },
    {
      "cell_type": "markdown",
      "metadata": {
        "id": "JRzZp5IyPbe9",
        "colab_type": "text"
      },
      "source": [
        "*   知道字符的整数编码，还可以用十六进制这么写str：\n",
        "\n",
        "\n",
        "```\n",
        ">>> '\\u4e2d\\u6587'\n",
        "'中文'\n",
        "```\n",
        "\n",
        "\n"
      ]
    },
    {
      "cell_type": "markdown",
      "metadata": {
        "id": "fSXwurugPjYm",
        "colab_type": "text"
      },
      "source": [
        "*   要在网络上传输，或者保存到磁盘上，就需要把str变为以字节为单位的bytes  \n",
        "Python对bytes类型的数据用带b前缀的单引号或双引号表示：  \n",
        "\n",
        "\n",
        "```\n",
        "x = b'ABC'\n",
        "```\n",
        "\n"
      ]
    },
    {
      "cell_type": "markdown",
      "metadata": {
        "id": "Hvc0r1NfP77C",
        "colab_type": "text"
      },
      "source": [
        "*   以Unicode表示的str通过encode()方法可以编码为指定的bytes\n",
        "\n",
        "```\n",
        ">>> 'ABC'.encode('ascii')\n",
        "b'ABC'\n",
        ">>> '中文'.encode('utf-8')\n",
        "b'\\xe4\\xb8\\xad\\xe6\\x96\\x87'\n",
        "```\n",
        "\n"
      ]
    },
    {
      "cell_type": "markdown",
      "metadata": {
        "id": "bW15eYK5QM2V",
        "colab_type": "text"
      },
      "source": [
        "*   纯英文的str可以用ASCII编码为bytes，内容是一样的，含有中文的str可以用UTF-8编码为bytes。"
      ]
    },
    {
      "cell_type": "markdown",
      "metadata": {
        "id": "3vPCs3NKQQ8M",
        "colab_type": "text"
      },
      "source": [
        "\n",
        "\n",
        "*   如果我们从网络或磁盘上读取了字节流，那么读到的数据就是bytes。要把bytes变为str，就需要用decode()方法：\n",
        "\n",
        "\n",
        "```\n",
        ">>> b'ABC'.decode('ascii')\n",
        "'ABC'\n",
        ">>> b'\\xe4\\xb8\\xad\\xe6\\x96\\x87'.decode('utf-8')\n",
        "'中文'\n",
        "```"
      ]
    },
    {
      "cell_type": "markdown",
      "metadata": {
        "id": "k4RpQO5_RSpP",
        "colab_type": "text"
      },
      "source": [
        "* 如果bytes中包含无法解码的字节，decode()方法会报错，如果bytes中只有一小部分无效的字节，可以传入errors='ignore'忽略错误的字节：\n",
        "\n",
        "```\n",
        ">>> b'\\xe4\\xb8\\xad\\xff'.decode('utf-8', errors='ignore')\n",
        "'中'\n",
        "```\n",
        "\n"
      ]
    },
    {
      "cell_type": "markdown",
      "metadata": {
        "id": "BxP-QvqCRqKg",
        "colab_type": "text"
      },
      "source": [
        "*   len()函数计算的是str的字符数，如果换成bytes，len()函数就计算字节数：\n",
        "\n",
        "```\n",
        ">>> len(b'ABC')\n",
        "3\n",
        ">>> len(b'\\xe4\\xb8\\xad\\xe6\\x96\\x87')\n",
        "6\n",
        ">>> len('中文'.encode('utf-8'))\n",
        "6\n",
        "```\n",
        "\n"
      ]
    },
    {
      "cell_type": "markdown",
      "metadata": {
        "id": "PUEocNAAR9Go",
        "colab_type": "text"
      },
      "source": [
        "*   1个中文字符经过UTF-8编码后通常会占用3个字节，而1个英文字符只占用1个字节"
      ]
    },
    {
      "cell_type": "markdown",
      "metadata": {
        "id": "pudbqk3VR90U",
        "colab_type": "text"
      },
      "source": [
        "在操作字符串时，我们经常遇到str和bytes的互相转换。为了避免乱码问题，应当始终坚持使用UTF-8编码对str和bytes进行转换。\n",
        "\n"
      ]
    },
    {
      "cell_type": "markdown",
      "metadata": {
        "id": "-aI-G4qlSD8S",
        "colab_type": "text"
      },
      "source": [
        "当Python解释器读取源代码时，为了让它按UTF-8编码读取，我们通常在文件开头写上这两行：\n",
        "\n",
        "\n",
        "\n",
        "```\n",
        "#!/usr/bin/env python3\n",
        "# -*- coding: utf-8 -*-\n",
        "```\n",
        "\n"
      ]
    },
    {
      "cell_type": "markdown",
      "metadata": {
        "id": "lryMUXxHcg1m",
        "colab_type": "text"
      },
      "source": [
        "### 格式化"
      ]
    },
    {
      "cell_type": "code",
      "metadata": {
        "id": "Sg4TDXCddJ8W",
        "colab_type": "code",
        "outputId": "ec54672e-ce05-4299-9134-1ec92054c054",
        "colab": {
          "base_uri": "https://localhost:8080/",
          "height": 34
        }
      },
      "source": [
        "'Hello, %s' % 'world'"
      ],
      "execution_count": 0,
      "outputs": [
        {
          "output_type": "execute_result",
          "data": {
            "text/plain": [
              "'Hello, world'"
            ]
          },
          "metadata": {
            "tags": []
          },
          "execution_count": 29
        }
      ]
    },
    {
      "cell_type": "code",
      "metadata": {
        "id": "JOOaj5kBdbac",
        "colab_type": "code",
        "outputId": "b5293515-a1cb-4556-9aa0-ea27e19301ad",
        "colab": {
          "base_uri": "https://localhost:8080/",
          "height": 34
        }
      },
      "source": [
        "'Hi, %s, you have $%d.' % ('Michael', 1000000)"
      ],
      "execution_count": 0,
      "outputs": [
        {
          "output_type": "execute_result",
          "data": {
            "text/plain": [
              "'Hi, Michael, you have $1000000.'"
            ]
          },
          "metadata": {
            "tags": []
          },
          "execution_count": 30
        }
      ]
    },
    {
      "cell_type": "markdown",
      "metadata": {
        "id": "EN0fhW_vdiWJ",
        "colab_type": "text"
      },
      "source": [
        "*   %运算符就是用来格式化字符串的。在字符串内部，%s表示用字符串替换，%d表示用整数替换，有几个%?占位符，后面就跟几个变量或者值，顺序要对应好。如果只有一个%?，括号可以省略。"
      ]
    },
    {
      "cell_type": "markdown",
      "metadata": {
        "id": "-fMP6-HwdmMs",
        "colab_type": "text"
      },
      "source": [
        "**常见的占位符**\n",
        "\n",
        "|占位符|替换内容|\n",
        "|:---- |:---- |\n",
        "%d\t|整数\n",
        "%f\t|浮点数\n",
        "%s\t|字符串\n",
        "%x\t|十六进制整数"
      ]
    },
    {
      "cell_type": "markdown",
      "metadata": {
        "id": "ZlfGuzYSe_00",
        "colab_type": "text"
      },
      "source": [
        "*   格式化整数和浮点数还可以指定是否补0和整数与小数的位数"
      ]
    },
    {
      "cell_type": "code",
      "metadata": {
        "id": "AKJzPNeQfAee",
        "colab_type": "code",
        "outputId": "f5c8fc31-f753-453f-ced6-501cf7b5457d",
        "colab": {
          "base_uri": "https://localhost:8080/",
          "height": 51
        }
      },
      "source": [
        "print('%2d-%02d' % (3, 1))\n",
        "print('%.2f' % 3.1415926)\n"
      ],
      "execution_count": 0,
      "outputs": [
        {
          "output_type": "stream",
          "text": [
            " 3-01\n",
            "3.14\n"
          ],
          "name": "stdout"
        }
      ]
    },
    {
      "cell_type": "markdown",
      "metadata": {
        "id": "gSkIIVEmfHkr",
        "colab_type": "text"
      },
      "source": [
        "*   %s永远起作用，它会把任何数据类型转换为字符串"
      ]
    },
    {
      "cell_type": "code",
      "metadata": {
        "id": "qw57bpnvfIL8",
        "colab_type": "code",
        "outputId": "9f488716-7d74-40f6-d7dd-c403057ecfe7",
        "colab": {
          "base_uri": "https://localhost:8080/",
          "height": 34
        }
      },
      "source": [
        "'Age: %s. Gender: %s' % (25, True)"
      ],
      "execution_count": 0,
      "outputs": [
        {
          "output_type": "execute_result",
          "data": {
            "text/plain": [
              "'Age: 25. Gender: True'"
            ]
          },
          "metadata": {
            "tags": []
          },
          "execution_count": 32
        }
      ]
    },
    {
      "cell_type": "markdown",
      "metadata": {
        "id": "u_pf9ziufQx0",
        "colab_type": "text"
      },
      "source": [
        "*   字符串里面的%是一个普通字符怎么办？这个时候就需要转义，用%%来表示一个%"
      ]
    },
    {
      "cell_type": "code",
      "metadata": {
        "id": "mwzr7Mx7fRE2",
        "colab_type": "code",
        "outputId": "18523d74-0170-4f25-9b44-508a5294efe0",
        "colab": {
          "base_uri": "https://localhost:8080/",
          "height": 34
        }
      },
      "source": [
        "'growth rate: %d %%' % 7"
      ],
      "execution_count": 0,
      "outputs": [
        {
          "output_type": "execute_result",
          "data": {
            "text/plain": [
              "'growth rate: 7 %'"
            ]
          },
          "metadata": {
            "tags": []
          },
          "execution_count": 33
        }
      ]
    },
    {
      "cell_type": "markdown",
      "metadata": {
        "id": "2zsO2bnNf7CX",
        "colab_type": "text"
      },
      "source": [
        "*   另一种格式化字符串的方法是使用字符串的format()方法，它会用传入的参数依次替换字符串内的占位符{0}、{1}……"
      ]
    },
    {
      "cell_type": "code",
      "metadata": {
        "id": "KV6RMN55f-Bp",
        "colab_type": "code",
        "outputId": "6e813a98-8f70-4bf8-adac-e4bbfdd06fe5",
        "colab": {
          "base_uri": "https://localhost:8080/",
          "height": 34
        }
      },
      "source": [
        "'Hello, {0}, 成绩提升了 {1:.1f}%'.format('小明', 17.125)"
      ],
      "execution_count": 0,
      "outputs": [
        {
          "output_type": "execute_result",
          "data": {
            "text/plain": [
              "'Hello, 小明, 成绩提升了 17.1%'"
            ]
          },
          "metadata": {
            "tags": []
          },
          "execution_count": 34
        }
      ]
    },
    {
      "cell_type": "markdown",
      "metadata": {
        "id": "-m-pexIAi1zC",
        "colab_type": "text"
      },
      "source": [
        "### 练习\n",
        "小明的成绩从去年的72分提升到了今年的85分，请计算小明成绩提升的百分点，并用字符串格式化显示出'xx.x%'，只保留小数点后1位："
      ]
    },
    {
      "cell_type": "code",
      "metadata": {
        "id": "7mmPWkBPi2Yg",
        "colab_type": "code",
        "outputId": "afdf25da-49d7-4f69-ade9-7d89d44dad26",
        "colab": {
          "base_uri": "https://localhost:8080/",
          "height": 34
        }
      },
      "source": [
        "s1 = 72\n",
        "s2 = 85\n",
        "r = (s2-s1)/s1*100\n",
        "print('%.1f %%' %r)\n"
      ],
      "execution_count": 0,
      "outputs": [
        {
          "output_type": "stream",
          "text": [
            "18.1 %\n"
          ],
          "name": "stdout"
        }
      ]
    },
    {
      "cell_type": "markdown",
      "metadata": {
        "id": "G46XGQM75s9i",
        "colab_type": "text"
      },
      "source": [
        "### 小结 \n",
        "\n",
        "*   Python 3的字符串使用Unicode，直接支持多语言\n",
        "*   当str和bytes互相转换时，需要指定编码。最常用的编码是UTF-8\n",
        "*   格式化字符串的时候，可以用Python的交互式环境测试。\n",
        "\n",
        "\n"
      ]
    },
    {
      "cell_type": "markdown",
      "metadata": {
        "id": "SuARlOnx5Iqw",
        "colab_type": "text"
      },
      "source": [
        "## 使用list和tuple"
      ]
    },
    {
      "cell_type": "markdown",
      "metadata": {
        "id": "Yxe6THBEjh3d",
        "colab_type": "text"
      },
      "source": [
        "### list\n",
        "\n",
        "*   Python内置的一种数据类型是列表：list。\n",
        "*   list是一种有序的集合，可以随时添加和删除其中的元素。\n"
      ]
    },
    {
      "cell_type": "markdown",
      "metadata": {
        "id": "DRtsPtFBjmLH",
        "colab_type": "text"
      },
      "source": [
        "\n",
        "*   用len()函数可以获得list元素的个数\n",
        "*   用索引来访问list中每一个位置的元素\n",
        "*  当索引超出了范围时，Python会报一个IndexError错误，所以，要确保索引不要越界，记得最后一个元素的索引是len(classmates) - 1。\n",
        "*  如果要取最后一个元素，除了计算索引位置外，还可以用-1做索引，直接获取最后一个元素"
      ]
    },
    {
      "cell_type": "markdown",
      "metadata": {
        "id": "ZXCKL_fmj9pU",
        "colab_type": "text"
      },
      "source": [
        "*  list是一个可变的有序表，所以，可以往list中追加元素到末尾：\n",
        "\n",
        "```\n",
        "classmates.append('Adam')\n",
        "```\n",
        "\n"
      ]
    },
    {
      "cell_type": "markdown",
      "metadata": {
        "id": "v-phaTRVlDqt",
        "colab_type": "text"
      },
      "source": [
        "*  把元素插入到指定的位置，比如索引号为1的位置：\n",
        "\n",
        "```\n",
        "classmates.insert(1, 'Jack')\n",
        "```\n",
        "\n"
      ]
    },
    {
      "cell_type": "markdown",
      "metadata": {
        "id": "sVzQ_rHmlPN1",
        "colab_type": "text"
      },
      "source": [
        "*   删除list末尾的元素，用pop()方法：\n",
        "\n",
        "\n",
        "```\n",
        "classmates.pop()\n",
        "```\n",
        "\n"
      ]
    },
    {
      "cell_type": "markdown",
      "metadata": {
        "id": "QbsxNWZklYdW",
        "colab_type": "text"
      },
      "source": [
        "*   删除指定位置的元素，用pop(i)方法，其中i是索引位置\n",
        "\n",
        "```\n",
        "classmates.pop(1)\n",
        "```\n",
        "\n"
      ]
    },
    {
      "cell_type": "markdown",
      "metadata": {
        "id": "sGtkELb4ldYI",
        "colab_type": "text"
      },
      "source": [
        "*   把某个元素替换成别的元素，可以直接赋值给对应的索引位置：\n",
        "\n",
        "\n",
        "```\n",
        "classmates[1] = 'Sarah'\n",
        "```\n",
        "\n"
      ]
    },
    {
      "cell_type": "markdown",
      "metadata": {
        "id": "egjJyAyJlnho",
        "colab_type": "text"
      },
      "source": [
        "*   list里面的元素的数据类型也可以不同\n",
        "\n",
        "\n",
        "```\n",
        "L = ['Apple', 123, True]\n",
        "```\n",
        "\n"
      ]
    },
    {
      "cell_type": "markdown",
      "metadata": {
        "id": "RjXAbt1alnzU",
        "colab_type": "text"
      },
      "source": [
        "*   list元素也可以是另一个list\n",
        "\n",
        "\n",
        "```\n",
        "s = ['python', 'java', ['asp', 'php'], 'scheme']\n",
        "```\n",
        "\n"
      ]
    },
    {
      "cell_type": "markdown",
      "metadata": {
        "id": "xwrJw230ln7A",
        "colab_type": "text"
      },
      "source": [
        "*   如果一个list中一个元素也没有，就是一个空的list，它的长度为0"
      ]
    },
    {
      "cell_type": "markdown",
      "metadata": {
        "id": "XkBkIpiJloAH",
        "colab_type": "text"
      },
      "source": [
        "###  tuple"
      ]
    },
    {
      "cell_type": "markdown",
      "metadata": {
        "id": "Yvyyj3eAloFI",
        "colab_type": "text"
      },
      "source": [
        "*   另一种有序列表叫元组：tuple\n",
        "*   tuple一旦初始化就不能修改"
      ]
    },
    {
      "cell_type": "markdown",
      "metadata": {
        "id": "jLPYWSs1loM9",
        "colab_type": "text"
      },
      "source": [
        "*   tuple代码更安全"
      ]
    },
    {
      "cell_type": "markdown",
      "metadata": {
        "id": "Yfizvj-uloP_",
        "colab_type": "text"
      },
      "source": [
        "*   定义一个tuple时，在定义的时候，tuple的元素就必须被确定下来"
      ]
    },
    {
      "cell_type": "markdown",
      "metadata": {
        "id": "jqOlUG59loIq",
        "colab_type": "text"
      },
      "source": [
        "*   定义一个空的tuple，写成()"
      ]
    },
    {
      "cell_type": "markdown",
      "metadata": {
        "id": "EJI_LtXCloDN",
        "colab_type": "text"
      },
      "source": [
        "*   只有1个元素的tuple定义时必须加一个逗号，来消除歧义：\n",
        "\n",
        "```\n",
        "t = (1,)\n",
        "```\n",
        "*   Python在显示只有1个元素的tuple时，也会加一个逗号"
      ]
    },
    {
      "cell_type": "markdown",
      "metadata": {
        "id": "FEQPWyx3ln-R",
        "colab_type": "text"
      },
      "source": [
        "* 一个“可变的”tuple：\n",
        "\n",
        "\n",
        "\n",
        "```\n",
        "t = ('a', 'b', ['A', 'B'])\n",
        "t[2][0] = 'X'\n",
        "t[2][1] = 'Y'\n",
        "t\n",
        "('a', 'b', ['X', 'Y'])\n",
        "\n",
        "```\n",
        "*   tuple所谓的“不变”是说，tuple的每个元素，指向永远不变。即指向'a'，就不能改成指向'b'，指向一个list，就不能改成指向其他对象，但指向的这个list本身是可变的"
      ]
    },
    {
      "cell_type": "markdown",
      "metadata": {
        "id": "h-35O1PNCaXq",
        "colab_type": "text"
      },
      "source": [
        "### 小结\n",
        "\n",
        "\n",
        "*   list和tuple是Python内置的有序集合，一个可变，一个不可变\n",
        "\n",
        "\n"
      ]
    },
    {
      "cell_type": "markdown",
      "metadata": {
        "id": "Y3BdKHcUln4m",
        "colab_type": "text"
      },
      "source": [
        "## 条件判断"
      ]
    },
    {
      "cell_type": "markdown",
      "metadata": {
        "id": "IliNKmN7E3dT",
        "colab_type": "text"
      },
      "source": [
        "### 条件判断"
      ]
    },
    {
      "cell_type": "markdown",
      "metadata": {
        "id": "5EM_OKzbln2v",
        "colab_type": "text"
      },
      "source": [
        "*   计算机之所以能做很多自动化的任务，因为它可以自己做条件判断。\n",
        "\n",
        "*   根据Python的缩进规则，如果if语句判断是True，就把缩进的print语句执行了，否则，什么也不做。\n",
        "*   给if添加一个else语句，意思是，如果if判断是False，不要执行if的内容，去把else执行了\n",
        "\n"
      ]
    },
    {
      "cell_type": "markdown",
      "metadata": {
        "id": "WMn3HaG1npU4",
        "colab_type": "text"
      },
      "source": [
        "*   elif是else if的缩写，完全可以有多个elif，所以if语句的完整形式就是：\n",
        "\n",
        "\n",
        "\n",
        "```\n",
        "if <条件判断1>:\n",
        "    <执行1>\n",
        "elif <条件判断2>:\n",
        "    <执行2>\n",
        "elif <条件判断3>:\n",
        "    <执行3>\n",
        "else:\n",
        "    <执行4>\n",
        "```\n",
        "*    if语句执行有个特点，它是从上往下判断，如果在某个判断上是True，把该判断对应的语句执行后，就忽略掉剩下的elif和else\n"
      ]
    },
    {
      "cell_type": "markdown",
      "metadata": {
        "id": "h0oxvte0npYt",
        "colab_type": "text"
      },
      "source": [
        "*   if判断条件还可以简写，只要x是非零数值、非空字符串、非空list等，就判断为True，否则为False。\n",
        "\n",
        "\n",
        "```\n",
        "if x:\n",
        "    print('True')\n",
        "```\n"
      ]
    },
    {
      "cell_type": "markdown",
      "metadata": {
        "id": "Ont9oWivnpb0",
        "colab_type": "text"
      },
      "source": [
        "### 再议 input"
      ]
    },
    {
      "cell_type": "markdown",
      "metadata": {
        "id": "eAcVcadhnpfb",
        "colab_type": "text"
      },
      "source": [
        "*   input()返回的数据类型是str，str不能直接和整数比较，必须先把str转换成整数  \n",
        "*   Python提供了int()函数来把str转换成整数"
      ]
    },
    {
      "cell_type": "markdown",
      "metadata": {
        "id": "2oBWS1rrJFCL",
        "colab_type": "text"
      },
      "source": [
        "### 小结\n",
        "\n",
        "*   条件判断可以让计算机自己做选择\n",
        "*   条件判断从上向下匹配，当满足条件时执行对应的块内语句，后续的elif和else都不再执行\n",
        "\n"
      ]
    },
    {
      "cell_type": "markdown",
      "metadata": {
        "id": "Hb2HWz9OnpjM",
        "colab_type": "text"
      },
      "source": [
        "## 循环"
      ]
    },
    {
      "cell_type": "markdown",
      "metadata": {
        "id": "9nDAmyEonpzC",
        "colab_type": "text"
      },
      "source": [
        "*   为了让计算机能计算成千上万次的重复运算，我们需要循环语句。"
      ]
    },
    {
      "cell_type": "markdown",
      "metadata": {
        "id": "EBshEhYvqnAd",
        "colab_type": "text"
      },
      "source": [
        "*   Python的循环有两种，一种是for...in循环，依次把list或tuple中的每个元素迭代出来"
      ]
    },
    {
      "cell_type": "code",
      "metadata": {
        "id": "EfxIJ8fzqtZx",
        "colab_type": "code",
        "outputId": "7ebe554f-3978-4bda-ee2c-bb94de9a0128",
        "colab": {
          "base_uri": "https://localhost:8080/",
          "height": 34
        }
      },
      "source": [
        "names = ['Michael', 'Bob', 'Tracy']\n",
        "for name in names:\n",
        "    print(name,end=\" \")"
      ],
      "execution_count": 0,
      "outputs": [
        {
          "output_type": "stream",
          "text": [
            "Michael Bob Tracy "
          ],
          "name": "stdout"
        }
      ]
    },
    {
      "cell_type": "markdown",
      "metadata": {
        "id": "vAUGWR30qnEP",
        "colab_type": "text"
      },
      "source": [
        "*   计算1-10的整数之和，可以用一个sum变量做累加："
      ]
    },
    {
      "cell_type": "code",
      "metadata": {
        "id": "2EZ4eW41q_rG",
        "colab_type": "code",
        "outputId": "f0457793-ac28-429a-a320-90e8a2aeaf00",
        "colab": {
          "base_uri": "https://localhost:8080/",
          "height": 34
        }
      },
      "source": [
        "sum = 0\n",
        "for x in [1, 2, 3, 4, 5, 6, 7, 8, 9, 10]:\n",
        "    sum +=x\n",
        "print(sum)"
      ],
      "execution_count": 0,
      "outputs": [
        {
          "output_type": "stream",
          "text": [
            "55\n"
          ],
          "name": "stdout"
        }
      ]
    },
    {
      "cell_type": "markdown",
      "metadata": {
        "id": "lrJvjH5_qnPl",
        "colab_type": "text"
      },
      "source": [
        "*   Python提供一个range()函数，可以生成一个整数序列，再通过list()函数可以转换为list。range(101)就可以生成0-100的整数序列。"
      ]
    },
    {
      "cell_type": "code",
      "metadata": {
        "id": "9plmIhQCt-hm",
        "colab_type": "code",
        "outputId": "560df371-ad0d-475d-bee5-4e7de5240493",
        "colab": {
          "base_uri": "https://localhost:8080/",
          "height": 34
        }
      },
      "source": [
        "sum = 0\n",
        "for x in range(101):\n",
        "    sum += x\n",
        "print(sum)"
      ],
      "execution_count": 0,
      "outputs": [
        {
          "output_type": "stream",
          "text": [
            "5050\n"
          ],
          "name": "stdout"
        }
      ]
    },
    {
      "cell_type": "markdown",
      "metadata": {
        "id": "yQyBioFqqnSt",
        "colab_type": "text"
      },
      "source": [
        "*   第二种循环是while循环，只要条件满足，就不断循环，条件不满足时退出循环。要计算100以内所有奇数之和，可以用while循环实现："
      ]
    },
    {
      "cell_type": "code",
      "metadata": {
        "id": "xfdwxa-ouQ3V",
        "colab_type": "code",
        "outputId": "a761db8f-46e0-4def-cb97-335bf56e9cc0",
        "colab": {
          "base_uri": "https://localhost:8080/",
          "height": 34
        }
      },
      "source": [
        "sum = 0\n",
        "n = 99\n",
        "while n > 0:\n",
        "    sum = sum + n\n",
        "    n = n - 2\n",
        "print(sum)"
      ],
      "execution_count": 0,
      "outputs": [
        {
          "output_type": "stream",
          "text": [
            "2500\n"
          ],
          "name": "stdout"
        }
      ]
    },
    {
      "cell_type": "markdown",
      "metadata": {
        "id": "IYIuooK1qnNW",
        "colab_type": "text"
      },
      "source": [
        "### break"
      ]
    },
    {
      "cell_type": "code",
      "metadata": {
        "id": "RSGF4xEEvbL9",
        "colab_type": "code",
        "outputId": "4606080a-e203-45d0-994f-771a69e0c14d",
        "colab": {
          "base_uri": "https://localhost:8080/",
          "height": 54
        }
      },
      "source": [
        "n = 1\n",
        "while n <= 100:\n",
        "    print(n,end=\" \")\n",
        "    n = n + 1\n",
        "print('END')"
      ],
      "execution_count": 0,
      "outputs": [
        {
          "output_type": "stream",
          "text": [
            "1 2 3 4 5 6 7 8 9 10 11 12 13 14 15 16 17 18 19 20 21 22 23 24 25 26 27 28 29 30 31 32 33 34 35 36 37 38 39 40 41 42 43 44 45 46 47 48 49 50 51 52 53 54 55 56 57 58 59 60 61 62 63 64 65 66 67 68 69 70 71 72 73 74 75 76 77 78 79 80 81 82 83 84 85 86 87 88 89 90 91 92 93 94 95 96 97 98 99 100 END\n"
          ],
          "name": "stdout"
        }
      ]
    },
    {
      "cell_type": "code",
      "metadata": {
        "id": "QJ_U7AlwvpR8",
        "colab_type": "code",
        "outputId": "c6a99e80-fd98-4ac7-b359-e036d652c7ef",
        "colab": {
          "base_uri": "https://localhost:8080/",
          "height": 34
        }
      },
      "source": [
        "n = 1\n",
        "while n <= 100:\n",
        "    if n > 10: # 当n = 11时，条件满足，执行break语句\n",
        "        break # break语句会结束当前循环\n",
        "    print(n,end=\" \")\n",
        "    n = n + 1\n",
        "print('END')"
      ],
      "execution_count": 0,
      "outputs": [
        {
          "output_type": "stream",
          "text": [
            "1 2 3 4 5 6 7 8 9 10 END\n"
          ],
          "name": "stdout"
        }
      ]
    },
    {
      "cell_type": "markdown",
      "metadata": {
        "id": "-xqdweFvqnLJ",
        "colab_type": "text"
      },
      "source": [
        "*   break的作用是提前结束循环"
      ]
    },
    {
      "cell_type": "markdown",
      "metadata": {
        "id": "bt-7QP02qnI9",
        "colab_type": "text"
      },
      "source": [
        "### continue"
      ]
    },
    {
      "cell_type": "markdown",
      "metadata": {
        "id": "lixBdJ81qnHD",
        "colab_type": "text"
      },
      "source": [
        "*   在循环过程中，也可以通过continue语句，跳过当前的这次循环，直接开始下一次循环"
      ]
    },
    {
      "cell_type": "code",
      "metadata": {
        "id": "dnYJAURqwCpR",
        "colab_type": "code",
        "outputId": "43fe794a-9953-4c79-eaaa-510f5033a004",
        "colab": {
          "base_uri": "https://localhost:8080/",
          "height": 34
        }
      },
      "source": [
        "n = 0\n",
        "while n < 10:\n",
        "    n = n + 1\n",
        "    print(n,end=\" \")"
      ],
      "execution_count": 0,
      "outputs": [
        {
          "output_type": "stream",
          "text": [
            "1 2 3 4 5 6 7 8 9 10 "
          ],
          "name": "stdout"
        }
      ]
    },
    {
      "cell_type": "markdown",
      "metadata": {
        "id": "vu-EWOFKwRo-",
        "colab_type": "text"
      },
      "source": [
        "*  只打印奇数，可以用continue语句跳过某些循环："
      ]
    },
    {
      "cell_type": "code",
      "metadata": {
        "id": "6UVBTGiQwT9B",
        "colab_type": "code",
        "outputId": "1075c80f-adb7-411c-ee44-1e23d509b633",
        "colab": {
          "base_uri": "https://localhost:8080/",
          "height": 34
        }
      },
      "source": [
        "n = 0\n",
        "while n < 10:\n",
        "    n = n + 1\n",
        "    if n % 2 == 0: # 如果n是偶数，执行continue语句\n",
        "        continue # continue语句会直接继续下一轮循环，后续的print()语句不会执行\n",
        "    print(n,end=\" \")"
      ],
      "execution_count": 0,
      "outputs": [
        {
          "output_type": "stream",
          "text": [
            "1 3 5 7 9 "
          ],
          "name": "stdout"
        }
      ]
    },
    {
      "cell_type": "markdown",
      "metadata": {
        "id": "I3rmh1VbwRuZ",
        "colab_type": "text"
      },
      "source": [
        "*  continue的作用是提前结束本轮循环，并直接开始下一轮"
      ]
    },
    {
      "cell_type": "markdown",
      "metadata": {
        "id": "ixRUnnRzwRz4",
        "colab_type": "text"
      },
      "source": [
        "### 小结"
      ]
    },
    {
      "cell_type": "markdown",
      "metadata": {
        "id": "KL0gfxpBwR6J",
        "colab_type": "text"
      },
      "source": [
        "\n",
        "\n",
        "*   break语句可以在循环过程中直接退出循环，而continue语句可以提前结束本轮循环，并直接开始下一轮循环。这两个语句通常都必须配合if语句使用。\n",
        "\n",
        "*   不要滥用break和continue语句。break和continue会造成代码执行逻辑分叉过多，容易出错。大多数循环并不需要用到break和continue语句\n",
        "*   如果代码写得有问题，会让程序陷入“死循环”，也就是永远循环下去\n",
        "\n",
        "\n"
      ]
    },
    {
      "cell_type": "markdown",
      "metadata": {
        "id": "1j_9lLigwR_-",
        "colab_type": "text"
      },
      "source": [
        "##使用dict和set"
      ]
    },
    {
      "cell_type": "markdown",
      "metadata": {
        "id": "bzpNxmdpwSFX",
        "colab_type": "text"
      },
      "source": [
        "### dict"
      ]
    },
    {
      "cell_type": "markdown",
      "metadata": {
        "id": "7WmtZADcwSDF",
        "colab_type": "text"
      },
      "source": [
        "*   Python内置了字典：dict的支持，dict全称dictionary，在其他语言中也称为map，使用键-值（key-value）存储，具有极快的查找速度。"
      ]
    },
    {
      "cell_type": "markdown",
      "metadata": {
        "id": "6DGSK-YuwR3V",
        "colab_type": "text"
      },
      "source": [
        "*  要避免key不存在的错误：\n",
        "1. 通过in判断key是否存在\n",
        "2. 通过dict提供的get()方法，如果key不存在，可以返回None，或者自己指定的value\n",
        "\n",
        "```\n",
        "d.get('Thomas')\n",
        "d.get('Thomas', -1)\n",
        "```\n",
        "返回None的时候Python的交互环境不显示结果\n"
      ]
    },
    {
      "cell_type": "markdown",
      "metadata": {
        "id": "0lAQooNBwRxo",
        "colab_type": "text"
      },
      "source": [
        "*  删除一个key，用pop(key)方法，对应的value也会从dict中删除：\n",
        "\n",
        "```\n",
        "d.pop('Bob')\n",
        "```\n",
        "*  dict内部存放的顺序和key放入的顺序是没有关系的\n"
      ]
    },
    {
      "cell_type": "markdown",
      "metadata": {
        "id": "slzObKJLwRl8",
        "colab_type": "text"
      },
      "source": [
        "*  dict有以下几个特点：\n",
        "\n",
        "1.   查找和插入的速度极快，不会随着key的增加而变慢；\n",
        "2.   需要占用大量的内存，内存浪费多\n",
        "\n"
      ]
    },
    {
      "cell_type": "markdown",
      "metadata": {
        "id": "FitYEP870B4u",
        "colab_type": "text"
      },
      "source": [
        "*  list有以下几个特点：\n",
        "\n",
        "\n",
        "1.   查找和插入的时间随着元素的增加而增加；\n",
        "2.   占用空间小，浪费内存很少\n",
        "\n"
      ]
    },
    {
      "cell_type": "markdown",
      "metadata": {
        "id": "sYTTIgZe0B-1",
        "colab_type": "text"
      },
      "source": [
        "\n",
        "*  dict可以用在需要高速查找的很多地方。\n",
        "*  需要牢记的第一条就是dict的key必须是不可变对象  \n",
        "*  dict根据key来计算value的存储位置，如果每次计算相同的key得出的结果不同，那dict内部就完全混乱了。这个通过key计算位置的算法称为哈希算法（Hash）。在Python中，字符串、整数等都是不可变的，因此，可以放心地作为key。"
      ]
    },
    {
      "cell_type": "markdown",
      "metadata": {
        "id": "0LKK6zoz0B1z",
        "colab_type": "text"
      },
      "source": [
        "###  set"
      ]
    },
    {
      "cell_type": "markdown",
      "metadata": {
        "id": "7mltC9bdILMu",
        "colab_type": "text"
      },
      "source": [
        "*  set和dict类似，也是一组key的集合，但不存储value。由于key不能重复，所以，在set中，没有重复的key。\n"
      ]
    },
    {
      "cell_type": "markdown",
      "metadata": {
        "id": "qXmbudh4IPgm",
        "colab_type": "text"
      },
      "source": [
        "*  创建一个set，需要提供一个list作为输入集合："
      ]
    },
    {
      "cell_type": "code",
      "metadata": {
        "id": "-7Wa0QPaIR_j",
        "colab_type": "code",
        "outputId": "04092bea-d301-4f9f-81d9-acee45be897d",
        "colab": {
          "base_uri": "https://localhost:8080/",
          "height": 34
        }
      },
      "source": [
        "s = set([1, 2, 3])\n",
        "s"
      ],
      "execution_count": 0,
      "outputs": [
        {
          "output_type": "execute_result",
          "data": {
            "text/plain": [
              "{1, 2, 3}"
            ]
          },
          "metadata": {
            "tags": []
          },
          "execution_count": 56
        }
      ]
    },
    {
      "cell_type": "markdown",
      "metadata": {
        "id": "n_Dcg5HeIPlI",
        "colab_type": "text"
      },
      "source": [
        "*  传入的参数`[1, 2, 3]`是一个list，而显示的{1, 2, 3}只是告诉你这个set内部有1，2，3这3个元素，显示的顺序也不表示set是有序的"
      ]
    },
    {
      "cell_type": "markdown",
      "metadata": {
        "id": "IXra6I_EIPqV",
        "colab_type": "text"
      },
      "source": [
        "*  重复元素在set中自动被过滤：\n",
        "\n"
      ]
    },
    {
      "cell_type": "code",
      "metadata": {
        "id": "GNzJl4L6Igw0",
        "colab_type": "code",
        "outputId": "27d9297b-280c-4bcb-c871-cc052d0b031e",
        "colab": {
          "base_uri": "https://localhost:8080/",
          "height": 34
        }
      },
      "source": [
        "s = set([1, 1, 2, 2, 3, 3])\n",
        "s"
      ],
      "execution_count": 0,
      "outputs": [
        {
          "output_type": "execute_result",
          "data": {
            "text/plain": [
              "{1, 2, 3}"
            ]
          },
          "metadata": {
            "tags": []
          },
          "execution_count": 57
        }
      ]
    },
    {
      "cell_type": "markdown",
      "metadata": {
        "id": "0rcN5WGwIk-2",
        "colab_type": "text"
      },
      "source": [
        "*  通过add(key)方法可以添加元素到set中，可以重复添加，但不会有效果："
      ]
    },
    {
      "cell_type": "code",
      "metadata": {
        "id": "RTHb8bDBIqkz",
        "colab_type": "code",
        "outputId": "34233552-8881-4f0f-c79c-53ad58da764c",
        "colab": {
          "base_uri": "https://localhost:8080/",
          "height": 34
        }
      },
      "source": [
        "s.add(4)\n",
        "s"
      ],
      "execution_count": 0,
      "outputs": [
        {
          "output_type": "execute_result",
          "data": {
            "text/plain": [
              "{1, 2, 3, 4}"
            ]
          },
          "metadata": {
            "tags": []
          },
          "execution_count": 58
        }
      ]
    },
    {
      "cell_type": "markdown",
      "metadata": {
        "id": "y1Cg-MB6I65T",
        "colab_type": "text"
      },
      "source": [
        "* 通过remove(key)方法可以删除元素："
      ]
    },
    {
      "cell_type": "markdown",
      "metadata": {
        "id": "e-FhOz3cI-Ce",
        "colab_type": "text"
      },
      "source": [
        "*  set可以看成数学意义上的无序和无重复元素的集合，因此，两个set可以做数学意义上的交集、并集等操作："
      ]
    },
    {
      "cell_type": "code",
      "metadata": {
        "id": "OqEdm-7HI_Ba",
        "colab_type": "code",
        "outputId": "ffc29b91-ee00-4c13-f9a0-7f6126f294dc",
        "colab": {
          "base_uri": "https://localhost:8080/",
          "height": 34
        }
      },
      "source": [
        "s1 = set([1, 2, 3])\n",
        "s2 = set([2, 3, 4])\n",
        "s1 & s2"
      ],
      "execution_count": 0,
      "outputs": [
        {
          "output_type": "execute_result",
          "data": {
            "text/plain": [
              "{2, 3}"
            ]
          },
          "metadata": {
            "tags": []
          },
          "execution_count": 59
        }
      ]
    },
    {
      "cell_type": "code",
      "metadata": {
        "id": "qkVC-K0LJFQd",
        "colab_type": "code",
        "outputId": "2c5b7e3c-03e5-41e7-866a-a944b0264856",
        "colab": {
          "base_uri": "https://localhost:8080/",
          "height": 34
        }
      },
      "source": [
        "s1 | s2"
      ],
      "execution_count": 0,
      "outputs": [
        {
          "output_type": "execute_result",
          "data": {
            "text/plain": [
              "{1, 2, 3, 4}"
            ]
          },
          "metadata": {
            "tags": []
          },
          "execution_count": 60
        }
      ]
    },
    {
      "cell_type": "markdown",
      "metadata": {
        "id": "iuszVemwJKaO",
        "colab_type": "text"
      },
      "source": [
        "*  set和dict的唯一区别仅在于没有存储对应的value，但是，set的原理和dict一样，所以，同样不可以放入可变对象，因为无法判断两个可变对象是否相等，也就无法保证set内部“不会有重复元素”"
      ]
    },
    {
      "cell_type": "markdown",
      "metadata": {
        "id": "18KMWhOFJKYk",
        "colab_type": "text"
      },
      "source": [
        "### 再议不可变对象"
      ]
    },
    {
      "cell_type": "markdown",
      "metadata": {
        "id": "5gabvxc-JgWB",
        "colab_type": "text"
      },
      "source": [
        "*  对于不变对象来说，调用对象自身的任意方法，也不会改变该对象自身的内容。\n",
        "*  这些方法会创建新的对象并返回，这样，就保证了不可变对象本身永远是不可变的。"
      ]
    },
    {
      "cell_type": "markdown",
      "metadata": {
        "id": "DKr-IDiyOWwj",
        "colab_type": "text"
      },
      "source": [
        "### 练习 \n",
        "Python如何实现将列表`：['a','a','b','a','b','c']`输出为字典：{'a':3,'b':2,'c':1}\n"
      ]
    },
    {
      "cell_type": "code",
      "metadata": {
        "id": "QtyJPnp9OoEn",
        "colab_type": "code",
        "outputId": "22f1fccc-3f06-4b76-f0ca-748332a73f51",
        "colab": {
          "base_uri": "https://localhost:8080/",
          "height": 35
        }
      },
      "source": [
        "l=['a','a','b','a','b','c']\n",
        "d=dict(zip([i for i in l],[l.count(i) for i in l]))\n",
        "d"
      ],
      "execution_count": 0,
      "outputs": [
        {
          "output_type": "execute_result",
          "data": {
            "text/plain": [
              "{'a': 3, 'b': 2, 'c': 1}"
            ]
          },
          "metadata": {
            "tags": []
          },
          "execution_count": 4
        }
      ]
    },
    {
      "cell_type": "markdown",
      "metadata": {
        "id": "Bvxap5tKJgUK",
        "colab_type": "text"
      },
      "source": [
        "### 小结"
      ]
    },
    {
      "cell_type": "markdown",
      "metadata": {
        "id": "qu5JR5POJkQU",
        "colab_type": "text"
      },
      "source": [
        "*   使用key-value存储结构的dict在Python中非常有用，选择不可变对象作为key很重要\n",
        "*   最常用的key是字符串\n"
      ]
    },
    {
      "cell_type": "markdown",
      "metadata": {
        "id": "6mIGojBtfRjf",
        "colab_type": "text"
      },
      "source": [
        "#函数\n",
        "函数是最基本的一种代码抽象的方式"
      ]
    },
    {
      "cell_type": "markdown",
      "metadata": {
        "id": "PIRuqZt1fT17",
        "colab_type": "text"
      },
      "source": [
        "##调用函数\n"
      ]
    },
    {
      "cell_type": "markdown",
      "metadata": {
        "id": "7EtDeVNaPZ0m",
        "colab_type": "text"
      },
      "source": [
        "\n",
        "*   Python内置了很多有用的函数，可以直接调用。\n",
        "*   要调用一个函数，需要知道函数的名称和参数\n",
        "*   直接从Python的官方网站查看[文档](https://docs.python.org/3/library/functions.html)\n",
        "\n",
        "\n"
      ]
    },
    {
      "cell_type": "markdown",
      "metadata": {
        "id": "3DRrtzFhQVhk",
        "colab_type": "text"
      },
      "source": [
        "### 练习\n",
        "利用Python内置的hex()函数把一个整数转换成十六进制表示的字符串"
      ]
    },
    {
      "cell_type": "code",
      "metadata": {
        "id": "0kBY_TqsQY9O",
        "colab_type": "code",
        "outputId": "76117b05-9902-4993-c792-31399bcee70e",
        "colab": {
          "base_uri": "https://localhost:8080/",
          "height": 53
        }
      },
      "source": [
        "n1 = 255\n",
        "n2 = 1000\n",
        "print(hex(n1))\n",
        "print(hex(n2))"
      ],
      "execution_count": 0,
      "outputs": [
        {
          "output_type": "stream",
          "text": [
            "0xff\n",
            "0x3e8\n"
          ],
          "name": "stdout"
        }
      ]
    },
    {
      "cell_type": "markdown",
      "metadata": {
        "id": "_pulrirXgnij",
        "colab_type": "text"
      },
      "source": [
        "## 定义函数  \n",
        "\n",
        "\n"
      ]
    },
    {
      "cell_type": "markdown",
      "metadata": {
        "id": "JvTXju4OQnQH",
        "colab_type": "text"
      },
      "source": [
        "*  在Python中，定义一个函数要使用def语句，依次写出函数名、括号、括号中的参数和冒号:，\n",
        "*  在缩进块中编写函数体，函数的返回值用return语句返回。  \n",
        "\n"
      ]
    },
    {
      "cell_type": "markdown",
      "metadata": {
        "id": "uHfXshlFQ8wg",
        "colab_type": "text"
      },
      "source": [
        "### 空函数\n",
        "\n",
        "*   如果想定义一个什么事也不做的空函数，可以用pass语句：\n",
        "\n",
        "```\n",
        "def nop():\n",
        "    pass\n",
        "```\n",
        "\n",
        "\n",
        "*   pass可以用来作为占位符，让代码能运行起来。\n",
        "\n"
      ]
    },
    {
      "cell_type": "markdown",
      "metadata": {
        "id": "W82b7-1DRQ5T",
        "colab_type": "text"
      },
      "source": [
        "### 参数检查"
      ]
    },
    {
      "cell_type": "markdown",
      "metadata": {
        "id": "t3-L0ewwRUFS",
        "colab_type": "text"
      },
      "source": [
        "\n",
        "\n",
        "*   调用函数时，如果参数个数不对，Python解释器会自动检查出来，并抛出TypeError\n",
        "\n"
      ]
    },
    {
      "cell_type": "markdown",
      "metadata": {
        "id": "SwYs0M7cRcPq",
        "colab_type": "text"
      },
      "source": [
        "### 返回多个值"
      ]
    },
    {
      "cell_type": "code",
      "metadata": {
        "id": "gWWmAiTQvTgO",
        "colab_type": "code",
        "colab": {}
      },
      "source": [
        "import math\n",
        "\n",
        "def move(x, y, step, angle=0):\n",
        "    nx = x + step * math.cos(angle)\n",
        "    ny = y - step * math.sin(angle)\n",
        "    return nx, ny"
      ],
      "execution_count": 0,
      "outputs": []
    },
    {
      "cell_type": "code",
      "metadata": {
        "id": "LLwHCYg8vdhD",
        "colab_type": "code",
        "outputId": "44d6e24c-5afc-4dad-8e72-882605838689",
        "colab": {
          "base_uri": "https://localhost:8080/",
          "height": 34
        }
      },
      "source": [
        "x, y = move(100, 100, 60, math.pi / 6)\n",
        "print(x, y)"
      ],
      "execution_count": 0,
      "outputs": [
        {
          "output_type": "stream",
          "text": [
            "151.96152422706632 70.0\n"
          ],
          "name": "stdout"
        }
      ]
    },
    {
      "cell_type": "markdown",
      "metadata": {
        "id": "qU97weNovpkH",
        "colab_type": "text"
      },
      "source": [
        "*  Python函数返回的仍然是单一值"
      ]
    },
    {
      "cell_type": "markdown",
      "metadata": {
        "id": "VAstT0hRvuMK",
        "colab_type": "text"
      },
      "source": [
        "*  Python的函数返回多值其实就是返回一个tuple，但写起来更方便。\n",
        "\n"
      ]
    },
    {
      "cell_type": "markdown",
      "metadata": {
        "id": "nZrFFPX8RoUO",
        "colab_type": "text"
      },
      "source": [
        "### 小结  "
      ]
    },
    {
      "cell_type": "markdown",
      "metadata": {
        "id": "oELCN1T0vys7",
        "colab_type": "text"
      },
      "source": [
        "\n",
        "*   定义函数时，需要确定函数名和参数个数；\n",
        "*   如果有必要，可以先对参数的数据类型做检查；\n",
        "\n",
        "\n",
        "*   函数体内部可以用return随时返回函数结果；\n",
        "*   函数执行完毕也没有return语句时，自动return None。\n",
        " \n",
        "*   函数可以同时返回多个值，但其实就是一个tuple。\n",
        "\n",
        "\n",
        "\n",
        "\n",
        "\n"
      ]
    },
    {
      "cell_type": "markdown",
      "metadata": {
        "id": "ByP2QvhJUEmw",
        "colab_type": "text"
      },
      "source": [
        "### 练习\n",
        "请定义一个函数quadratic(a, b, c)，接收3个参数，返回一元二次方程 ax^2+bx+c=0ax \n",
        "2\n",
        " +bx+c=0 的两个解。"
      ]
    },
    {
      "cell_type": "code",
      "metadata": {
        "id": "v4IORLlDUKNg",
        "colab_type": "code",
        "outputId": "ccbc93ca-7d46-42b8-df25-bf14ae0b5167",
        "colab": {
          "base_uri": "https://localhost:8080/",
          "height": 71
        }
      },
      "source": [
        "import math\n",
        "def quadratic(a, b, c):\n",
        "    if a == 0 or (b**2 - 4 * a * c) < 0:\n",
        "        pass\n",
        "    else:\n",
        "        return (-b + math.sqrt(b**2 - 4 * a * c)) / (2 * a), (-b - math.sqrt(b**2 - 4 * a * c)) / (2 * a)\n",
        "# 测试:\n",
        "print('quadratic(2, 3, 1) =', quadratic(2, 3, 1))\n",
        "print('quadratic(1, 3, -4) =', quadratic(1, 3, -4))\n",
        "\n",
        "if quadratic(2, 3, 1) != (-0.5, -1.0):\n",
        "    print('测试失败')\n",
        "elif quadratic(1, 3, -4) != (1.0, -4.0):\n",
        "    print('测试失败')\n",
        "else:\n",
        "    print('测试成功')"
      ],
      "execution_count": 0,
      "outputs": [
        {
          "output_type": "stream",
          "text": [
            "quadratic(2, 3, 1) = (-0.5, -1.0)\n",
            "quadratic(1, 3, -4) = (1.0, -4.0)\n",
            "测试成功\n"
          ],
          "name": "stdout"
        }
      ]
    },
    {
      "cell_type": "markdown",
      "metadata": {
        "id": "iUvGP54aUXsQ",
        "colab_type": "text"
      },
      "source": [
        "## 函数的参数"
      ]
    },
    {
      "cell_type": "markdown",
      "metadata": {
        "id": "aWGGmsheUf11",
        "colab_type": "text"
      },
      "source": [
        "\n",
        "\n",
        "*   定义函数的时候，我们把参数的名字和位置确定下来，函数的接口定义就完成了。\n",
        "*   对于函数的调用者来说，只需要知道如何传递正确的参数，以及函数将返回什么样的值就够了\n",
        "\n"
      ]
    },
    {
      "cell_type": "markdown",
      "metadata": {
        "id": "lHpYl796yuZw",
        "colab_type": "text"
      },
      "source": [
        "### 位置参数\n",
        "调用函数时，传入的两个值按照位置顺序依次赋给参数 "
      ]
    },
    {
      "cell_type": "markdown",
      "metadata": {
        "id": "tZj1uK9K0ew0",
        "colab_type": "text"
      },
      "source": [
        "### 默认参数\n",
        "默认参数可以简化函数的调用。设置默认参数时，有几点要注意：\n",
        "\n",
        "*   必选参数在前，默认参数在后\n",
        "\n",
        "*   当函数有多个参数时，把变化大的参数放前面，变化小的参数放后面。变化小的参数就可以作为默认参数。  \n",
        "*   默认参数必须指向不变对象！\n",
        "\n"
      ]
    },
    {
      "cell_type": "markdown",
      "metadata": {
        "id": "ItnnHPCm4uAd",
        "colab_type": "text"
      },
      "source": [
        "### 可变参数  \n",
        "*  可变参数就是传入的参数个数是可变的，可以是1个、2个到任意个，还可以是0个。  \n",
        "*  定义可变参数和定义一个list或tuple参数相比，仅仅在参数前面加了一个`*`号。\n",
        "*  在函数内部，参数numbers接收到的是一个tuple，因此，函数代码完全不变。但是，调用该函数时，可以传入任意个参数，包括0个参数\n",
        "*  Python允许你在list或tuple前面加一个`*`号，把list或tuple的元素变成可变参数传进去\n",
        "\n",
        "*   **` *nums`表示把nums这个list的所有元素作为可变参数传进去**\n",
        "\n",
        "\n",
        "\n"
      ]
    },
    {
      "cell_type": "markdown",
      "metadata": {
        "id": "i9uUoTkt5U72",
        "colab_type": "text"
      },
      "source": [
        "### 关键字参数  \n",
        "*  关键字参数允许你传入0个或任意个含参数名的参数，这些关键字参数在函数内部自动组装为一个dict。"
      ]
    },
    {
      "cell_type": "markdown",
      "metadata": {
        "id": "DCdgmkNo69dD",
        "colab_type": "text"
      },
      "source": [
        "*  关键字参数可以扩展函数的功能  \n",
        "*  先组装出一个dict，然后把该dict转换为关键字参数传进去\n",
        "\n",
        "\n"
      ]
    },
    {
      "cell_type": "markdown",
      "metadata": {
        "id": "-MJQdJoWXp8r",
        "colab_type": "text"
      },
      "source": [
        "### 命名关键字参数\n",
        "\n",
        "*  和关键字参数`**kw`不同，命名关键字参数需要一个特殊分隔符`*`，`*`后面的参数被视为命名关键字参数。\n",
        "*  如果函数定义中已经有了一个可变参数，后面跟着的命名关键字参数就不再需要一个特殊分隔符*\n",
        "*  命名关键字参数必须传入参数名，这和位置参数不同。如果没有传入参数名，调用将报错\n",
        "*  使用命名关键字参数时，要特别注意，如果没有可变参数，就必须加一个*作为特殊分隔符。如果缺少*，Python解释器将无法识别位置参数和命名关键字参数"
      ]
    },
    {
      "cell_type": "markdown",
      "metadata": {
        "id": "rIk5m7ebEgnz",
        "colab_type": "text"
      },
      "source": [
        "### 参数组合\n",
        "*  在Python中定义函数，可以用必选参数、默认参数、可变参数、关键字参数和命名关键字参数，这5种参数都可以组合使用。  \n",
        "*  参数定义的顺序必须是：\n",
        "1. 必选参数\n",
        "2. 默认参数 \n",
        "3.可变参数 \n",
        "4. 命名关键字参数 \n",
        "5.关键字参数。  \n",
        "\n",
        "*  对于任意函数，都可以通过类似`func(*args, **kw)`的形式调用它，无论它的参数是如何定义的。\n",
        "\n",
        "\n",
        "\n",
        "\n"
      ]
    },
    {
      "cell_type": "markdown",
      "metadata": {
        "id": "BHOzXFsFa42t",
        "colab_type": "text"
      },
      "source": [
        "### 练习\n",
        "接收一个或多个数并计算乘积"
      ]
    },
    {
      "cell_type": "code",
      "metadata": {
        "id": "EN8yqXmha-5p",
        "colab_type": "code",
        "outputId": "bff55515-fa3b-4e9d-bb62-3d5186bfbaf1",
        "colab": {
          "base_uri": "https://localhost:8080/",
          "height": 107
        }
      },
      "source": [
        "def product(*x):\n",
        "    if len(x)==0: raise TypeError\n",
        "    if len(x)>0:\n",
        "        s=1\n",
        "        for i in x:\n",
        "            s*=i\n",
        "        return s\n",
        "# 测试\n",
        "print('product(5) =', product(5))\n",
        "print('product(5, 6) =', product(5, 6))\n",
        "print('product(5, 6, 7) =', product(5, 6, 7))\n",
        "print('product(5, 6, 7, 9) =', product(5, 6, 7, 9))\n",
        "if product(5) != 5:\n",
        "    print('测试失败!')\n",
        "elif product(5, 6) != 30:\n",
        "    print('测试失败!')\n",
        "elif product(5, 6, 7) != 210:\n",
        "    print('测试失败!')\n",
        "elif product(5, 6, 7, 9) != 1890:\n",
        "    print('测试失败!')\n",
        "else:\n",
        "    try:\n",
        "        product()\n",
        "        print('测试失败!')\n",
        "    except TypeError:\n",
        "        print('测试成功!')"
      ],
      "execution_count": 0,
      "outputs": [
        {
          "output_type": "stream",
          "text": [
            "product(5) = 5\n",
            "product(5, 6) = 30\n",
            "product(5, 6, 7) = 210\n",
            "product(5, 6, 7, 9) = 1890\n",
            "测试成功!\n"
          ],
          "name": "stdout"
        }
      ]
    },
    {
      "cell_type": "markdown",
      "metadata": {
        "id": "Ad7V7HsYbF3e",
        "colab_type": "text"
      },
      "source": [
        "### 小结\n",
        "\n",
        "*   默认参数一定要用不可变对象，如果是可变对象，程序运行时会有逻辑错误！\n",
        "*   注意定义可变参数和关键字参数的语法\n",
        "\n",
        "\n",
        "*   `*`args是可变参数，args接收的是一个tuple\n",
        "*   `**kw`是关键字参数，kw接收的是一个dict\n",
        "\n",
        "\n",
        "*   可变参数既可以直接传入：func(1, 2, 3)，又可以先组装list或tuple，再通过`*`args传入：func(*(1, 2, 3))\n",
        "*   关键字参数既可以直接传入：func(a=1, b=2)，又可以先组装dict，再通过`**kw`传入：func(`**`{'a': 1, 'b': 2})\n",
        "\n",
        "\n",
        "\n",
        "*   使用*args和`**kw`是Python的习惯写法\n",
        "*   命名的关键字参数是为了限制调用者可以传入的参数名，同时可以提供默认值。\n",
        "\n",
        "*   定义命名的关键字参数在没有可变参数的情况下不要忘了写分隔符*\n",
        "\n",
        "\n",
        "\n",
        "\n",
        "\n",
        "\n"
      ]
    },
    {
      "cell_type": "markdown",
      "metadata": {
        "id": "ntyVG5TxJlS6",
        "colab_type": "text"
      },
      "source": [
        "##  递归函数  \n"
      ]
    },
    {
      "cell_type": "markdown",
      "metadata": {
        "id": "KfLytkBRb7tN",
        "colab_type": "text"
      },
      "source": [
        "*  递归函数的优点是定义简单，逻辑清晰\n",
        "*  所有的递归函数都可以写成循环的方式，但循环的逻辑不如递归清晰  \n",
        "*  把循环看成是一种特殊的尾递归函数  \n",
        "*  尾递归是指，在函数返回的时候，调用自身本身，\n",
        "*  return语句不能包含表达式。编译器或者解释器就可以把尾递归做优化，使递归本身无论调用多少次，都只占用一个栈帧，不会出现栈溢出的情况"
      ]
    },
    {
      "cell_type": "code",
      "metadata": {
        "id": "EOd4BHStKeL6",
        "colab_type": "code",
        "colab": {}
      },
      "source": [
        "def fact(n):\n",
        "    return fact_iter(n, 1)\n",
        "\n",
        "def fact_iter(num, product):\n",
        "    if num == 1:\n",
        "        return product\n",
        "    return fact_iter(num - 1, num * product)\n",
        "\n"
      ],
      "execution_count": 0,
      "outputs": []
    },
    {
      "cell_type": "code",
      "metadata": {
        "id": "em0IpVsuKz34",
        "colab_type": "code",
        "outputId": "fd97454c-df64-4f00-d5fd-a6fa49f77e62",
        "colab": {
          "base_uri": "https://localhost:8080/",
          "height": 34
        }
      },
      "source": [
        "fact(5)"
      ],
      "execution_count": 0,
      "outputs": [
        {
          "output_type": "execute_result",
          "data": {
            "text/plain": [
              "120"
            ]
          },
          "metadata": {
            "tags": []
          },
          "execution_count": 11
        }
      ]
    },
    {
      "cell_type": "markdown",
      "metadata": {
        "id": "2KMX0TQ3LHKj",
        "colab_type": "text"
      },
      "source": [
        "### 小结\n",
        "* 使用递归函数的优点是逻辑简单清晰，缺点是过深的调用会导致栈溢出。\n",
        "\n",
        "* 针对尾递归优化的语言可以通过尾递归防止栈溢出。尾递归事实上和循环是等价的，没有循环语句的编程语言只能通过尾递归实现循环。\n",
        "\n",
        "* Python标准的解释器没有针对尾递归做优化，任何递归函数都存在栈溢出的问题。"
      ]
    },
    {
      "cell_type": "markdown",
      "metadata": {
        "id": "anU5WZAzLTzU",
        "colab_type": "text"
      },
      "source": [
        "### 练习\n",
        "汉诺塔的移动可以用递归函数非常简单地实现\n"
      ]
    },
    {
      "cell_type": "code",
      "metadata": {
        "id": "7XBBTllzcyd4",
        "colab_type": "code",
        "outputId": "b750b3f0-02ee-49b3-ff0b-9a345250574b",
        "colab": {
          "base_uri": "https://localhost:8080/",
          "height": 143
        }
      },
      "source": [
        "def move(n, a, b, c):\n",
        "    if n == 1:\n",
        "        print(a, '-->', c)\n",
        "    else:\n",
        "        move(n-1, a, c, b)\n",
        "        move(1, a, b, c)\n",
        "        move(n-1, b, a, c)\n",
        "move(3, 'A', 'B', 'C')"
      ],
      "execution_count": 0,
      "outputs": [
        {
          "output_type": "stream",
          "text": [
            "A --> C\n",
            "A --> B\n",
            "C --> B\n",
            "A --> C\n",
            "B --> A\n",
            "B --> C\n",
            "A --> C\n"
          ],
          "name": "stdout"
        }
      ]
    },
    {
      "cell_type": "markdown",
      "metadata": {
        "id": "EJQh1OoEEAvX",
        "colab_type": "text"
      },
      "source": [
        "#高级特性"
      ]
    },
    {
      "cell_type": "markdown",
      "metadata": {
        "id": "GnZZ19UHEE_4",
        "colab_type": "text"
      },
      "source": [
        "代码越少，开发效率越高。"
      ]
    },
    {
      "cell_type": "markdown",
      "metadata": {
        "id": "Nye1DiFgw9se",
        "colab_type": "text"
      },
      "source": [
        "## 切片"
      ]
    },
    {
      "cell_type": "markdown",
      "metadata": {
        "id": "YEmmTKWBxLDM",
        "colab_type": "text"
      },
      "source": [
        "\n",
        "\n",
        "*   tuple也是一种list，唯一区别是tuple不可变。\n",
        "*   tuple也可以用切片操作，操作的结果是tuple：\n",
        "\n"
      ]
    },
    {
      "cell_type": "markdown",
      "metadata": {
        "id": "7_iu5Tx3xnhO",
        "colab_type": "text"
      },
      "source": [
        "### 练习\n",
        "利用切片操作，实现一个trim()函数，去除字符串首尾的空格，注意不要调用str的strip()方法："
      ]
    },
    {
      "cell_type": "code",
      "metadata": {
        "id": "zgqw6VMhxvQO",
        "colab_type": "code",
        "outputId": "aa2a592f-ebd2-4c02-9dd9-0a59249e5cbb",
        "colab": {
          "base_uri": "https://localhost:8080/",
          "height": 34
        }
      },
      "source": [
        "def trim(s):\n",
        "    while s[:1]==\" \":\n",
        "        s=s[1:]\n",
        "    while s[-1:]==\" \":\n",
        "        s=s[:-1]\n",
        "    return s\n",
        "# 测试:\n",
        "if trim('hello  ') != 'hello':\n",
        "    print('测试失败!')\n",
        "elif trim('  hello') != 'hello':\n",
        "    print('测试失败!')\n",
        "elif trim('  hello  ') != 'hello':\n",
        "    print('测试失败!')\n",
        "elif trim('  hello  world  ') != 'hello  world':\n",
        "    print('测试失败!')\n",
        "elif trim('') != '':\n",
        "    print('测试失败!')\n",
        "elif trim('    ') != '':\n",
        "    print('测试失败!')\n",
        "else:\n",
        "    print('测试成功!')"
      ],
      "execution_count": 0,
      "outputs": [
        {
          "output_type": "stream",
          "text": [
            "测试成功!\n"
          ],
          "name": "stdout"
        }
      ]
    },
    {
      "cell_type": "markdown",
      "metadata": {
        "id": "fpG_GYEPyWvZ",
        "colab_type": "text"
      },
      "source": [
        "### 小结\n",
        "\n",
        "\n",
        "*   有了切片操作，很多地方循环就不再需要了\n",
        "*   Python的切片非常灵活，一行代码就可以实现很多行循环才能完成的操作。\n",
        "\n"
      ]
    },
    {
      "cell_type": "markdown",
      "metadata": {
        "id": "WWzbylhTy9iT",
        "colab_type": "text"
      },
      "source": [
        "## 迭代"
      ]
    },
    {
      "cell_type": "markdown",
      "metadata": {
        "id": "zSW1GgRozBKm",
        "colab_type": "text"
      },
      "source": [
        "*  如果给定一个list或tuple，可以通过for循环来遍历这个list或tuple，这种遍历称为迭代（Iteration）\n",
        "*  Python中，迭代是通过for ... in来完成的\n",
        "*   默认情况下，dict迭代的是key\n",
        "*   要迭代value，可以用for value in d.values()\n",
        "*   由于字符串也是可迭代对象，因此，也可以作用于for循环\n",
        "*   通过collections模块的Iterable类型判断是否可迭代\n",
        "*  Python内置的enumerate函数可以把一个list变成索引-元素对，可以在for循环中同时迭代索引和元素本身\n",
        "\n",
        "\n"
      ]
    },
    {
      "cell_type": "markdown",
      "metadata": {
        "id": "XCUaRwDS0Tpv",
        "colab_type": "text"
      },
      "source": [
        "### 练习\n",
        "请使用迭代查找一个list中最小和最大值，并返回一个tuple："
      ]
    },
    {
      "cell_type": "code",
      "metadata": {
        "id": "3QCM3X9Z0XG4",
        "colab_type": "code",
        "outputId": "ddec4b93-19d8-4b6a-9577-db513aee9f3e",
        "colab": {
          "base_uri": "https://localhost:8080/",
          "height": 34
        }
      },
      "source": [
        "def findMinAndMax(L):\n",
        "    if len(L) == 0:\n",
        "        return None, None    \n",
        "    Min = Max = L[0]\n",
        "    for i in L:\n",
        "        if Min >= i: Min = i\n",
        "        elif Max <= i: Max = i\n",
        "    return Min, Max\n",
        "# 测试\n",
        "if findMinAndMax([]) != (None, None):\n",
        "    print('测试失败!')\n",
        "elif findMinAndMax([7]) != (7, 7):\n",
        "    print('测试失败!')\n",
        "elif findMinAndMax([7, 1]) != (1, 7):\n",
        "    print('测试失败!')\n",
        "elif findMinAndMax([7, 1, 3, 9, 5]) != (1, 9):\n",
        "    print('测试失败!')\n",
        "else:\n",
        "    print('测试成功!')"
      ],
      "execution_count": 0,
      "outputs": [
        {
          "output_type": "stream",
          "text": [
            "测试成功!\n"
          ],
          "name": "stdout"
        }
      ]
    },
    {
      "cell_type": "markdown",
      "metadata": {
        "id": "yMZ3kVkj01wi",
        "colab_type": "text"
      },
      "source": [
        "### 小结\n",
        "任何可迭代对象都可以作用于for循环，包括我们自定义的数据类型，只要符合迭代条件，就可以使用for循环。"
      ]
    },
    {
      "cell_type": "markdown",
      "metadata": {
        "id": "469bQgpXEI5W",
        "colab_type": "text"
      },
      "source": [
        "## 列表生成式\n",
        "\n",
        "\n",
        "\n",
        "\n",
        "\n"
      ]
    },
    {
      "cell_type": "markdown",
      "metadata": {
        "id": "rByv-HfR2yMQ",
        "colab_type": "text"
      },
      "source": [
        "\n",
        "*  ` [要生成的元素 for ** in ** if ** ]`\n",
        "\n",
        "\n",
        "*   使用两层循环\n",
        "\n",
        "*   使用两个变量来生成list\n",
        "\n",
        "* 一个list中所有的字符串变成小写\n",
        "\n",
        "```\n",
        "L = ['Hello', 'World', 'IBM', 'Apple']\n",
        "[s.lower() for s in L]\n",
        "```"
      ]
    },
    {
      "cell_type": "markdown",
      "metadata": {
        "id": "PpCv_gin2zWR",
        "colab_type": "text"
      },
      "source": [
        "### 练习\n",
        "*  使用内建的isinstance函数可以判断一个变量是不是字符串  \n",
        "*  修改列表生成式，通过添加if语句保证列表生成式一个list中所有的字符串变成小写\n"
      ]
    },
    {
      "cell_type": "code",
      "metadata": {
        "id": "DVvIU6mN3MYU",
        "colab_type": "code",
        "outputId": "4fadf1d8-6db5-4a9a-d3ca-585c9ed790a5",
        "colab": {
          "base_uri": "https://localhost:8080/",
          "height": 51
        }
      },
      "source": [
        "L1 = ['Hello', 'World', 18, 'Apple', None]\n",
        "L2 =[s.lower() for s in L1 if isinstance(s,str)==True]\n",
        "# 测试:\n",
        "print(L2)\n",
        "if L2 == ['hello', 'world', 'apple']:\n",
        "    print('测试通过!')\n",
        "else:\n",
        "    print('测试失败!')"
      ],
      "execution_count": 0,
      "outputs": [
        {
          "output_type": "stream",
          "text": [
            "['hello', 'world', 'apple']\n",
            "测试通过!\n"
          ],
          "name": "stdout"
        }
      ]
    },
    {
      "cell_type": "markdown",
      "metadata": {
        "id": "slD4OhJw3cZh",
        "colab_type": "text"
      },
      "source": [
        "### 小结\n",
        "*  运用列表生成式，可以快速生成list，可以通过一个list推导出另一个list，而代码却十分简洁"
      ]
    },
    {
      "cell_type": "markdown",
      "metadata": {
        "id": "Uu3zIDKSEI8S",
        "colab_type": "text"
      },
      "source": [
        "## 生成器"
      ]
    },
    {
      "cell_type": "markdown",
      "metadata": {
        "id": "rol7cN-U4Hto",
        "colab_type": "text"
      },
      "source": [
        "*  把一个列表生成式的`[]`改成()，就创建了一个generator\n",
        "*  创建了一个generator后，通过for循环来迭代它，不需要关心StopIteration的错误。\n",
        "*  如果一个函数定义中包含yield关键字，那么这个函数就不再是一个普通函数，而是一个generator"
      ]
    },
    {
      "cell_type": "markdown",
      "metadata": {
        "id": "Qal2FyydEI_8",
        "colab_type": "text"
      },
      "source": [
        "### 练习\n",
        "把每一行看做一个list，试写一个generator，不断输出下一行的list：  \n",
        "杨辉三角\n",
        "\n",
        "\n",
        "```\n",
        "  \n",
        "\n",
        "```\n",
        "\n"
      ]
    },
    {
      "cell_type": "code",
      "metadata": {
        "id": "ytIfnU3d5heX",
        "colab_type": "code",
        "outputId": "ea4d07b0-0ad2-4edf-b293-553ed45fa9f4",
        "colab": {
          "base_uri": "https://localhost:8080/",
          "height": 204
        }
      },
      "source": [
        "def triangles():\n",
        "    p = [1]       \n",
        "\n",
        "    while True:\n",
        "\n",
        "       yield p         \n",
        "\n",
        "       p =[1]+[p[x]+p[x+1] for x in range(len(p)-1)]+[1]  \n",
        "# 期待输出:\n",
        "# [1]\n",
        "# [1, 1]\n",
        "# [1, 2, 1]\n",
        "# [1, 3, 3, 1]\n",
        "# [1, 4, 6, 4, 1]\n",
        "# [1, 5, 10, 10, 5, 1]\n",
        "# [1, 6, 15, 20, 15, 6, 1]\n",
        "# [1, 7, 21, 35, 35, 21, 7, 1]\n",
        "# [1, 8, 28, 56, 70, 56, 28, 8, 1]\n",
        "# [1, 9, 36, 84, 126, 126, 84, 36, 9, 1]\n",
        "n = 0\n",
        "results = []\n",
        "for t in triangles():\n",
        "    print(t)\n",
        "    results.append(t)\n",
        "    n = n + 1\n",
        "    if n == 10:\n",
        "        break\n",
        "if results == [\n",
        "    [1],\n",
        "    [1, 1],\n",
        "    [1, 2, 1],\n",
        "    [1, 3, 3, 1],\n",
        "    [1, 4, 6, 4, 1],\n",
        "    [1, 5, 10, 10, 5, 1],\n",
        "    [1, 6, 15, 20, 15, 6, 1],\n",
        "    [1, 7, 21, 35, 35, 21, 7, 1],\n",
        "    [1, 8, 28, 56, 70, 56, 28, 8, 1],\n",
        "    [1, 9, 36, 84, 126, 126, 84, 36, 9, 1]\n",
        "]:\n",
        "    print('测试通过!')\n",
        "else:\n",
        "    print('测试失败!')"
      ],
      "execution_count": 0,
      "outputs": [
        {
          "output_type": "stream",
          "text": [
            "[1]\n",
            "[1, 1]\n",
            "[1, 2, 1]\n",
            "[1, 3, 3, 1]\n",
            "[1, 4, 6, 4, 1]\n",
            "[1, 5, 10, 10, 5, 1]\n",
            "[1, 6, 15, 20, 15, 6, 1]\n",
            "[1, 7, 21, 35, 35, 21, 7, 1]\n",
            "[1, 8, 28, 56, 70, 56, 28, 8, 1]\n",
            "[1, 9, 36, 84, 126, 126, 84, 36, 9, 1]\n",
            "测试通过!\n"
          ],
          "name": "stdout"
        }
      ]
    },
    {
      "cell_type": "markdown",
      "metadata": {
        "id": "zLUYjNsA6LSx",
        "colab_type": "text"
      },
      "source": [
        "### 小结\n",
        "\n",
        "\n",
        "*   generator是非常强大的工具，在Python中，可以简单地把列表生成式改成generator，也可以通过函数实现复杂逻辑的generator。\n",
        "\n",
        "*   要理解generator的工作原理，它是在for循环的过程中不断计算出下一个元素，并在适当的条件结束for循环。对于函数改成的generator来说，遇到return语句或者执行到函数体最后一行语句，就是结束generator的指令，for循环随之结束。\n",
        "\n",
        "*   普通函数调用直接返回结果\n",
        "\n",
        "*   generator函数的“调用”实际返回一个generator对象\n",
        "\n"
      ]
    },
    {
      "cell_type": "markdown",
      "metadata": {
        "id": "3D5Nn_kkEJki",
        "colab_type": "text"
      },
      "source": [
        "## 迭代器\n",
        "\n"
      ]
    },
    {
      "cell_type": "markdown",
      "metadata": {
        "id": "yu62PIkk_7yt",
        "colab_type": "text"
      },
      "source": [
        "*  直接作用于for循环的数据类型有以下几种：\n",
        "\n",
        "1.   集合数据类型，如list、tuple、dict、set、str等\n",
        "\n",
        "2.  generator，包括生成器和带yield的generator function\n",
        "*   可以直接作用于for循环的对象统称为可迭代对象：Iterable\n",
        "\n",
        "*  生成器都是Iterator对象，但list、dict、str虽然是Iterable，却不是Iterator。  \n",
        "把list、dict、str等Iterable变成Iterator可以使用iter()函数：\n"
      ]
    },
    {
      "cell_type": "markdown",
      "metadata": {
        "id": "HW7qDCY4EFOQ",
        "colab_type": "text"
      },
      "source": [
        "### 小结\n",
        "\n",
        "*   凡是可作用于for循环的对象都是Iterable类型；\n",
        "\n",
        "*   凡是可作用于next()函数的对象都是Iterator类型，它们表示一个惰性计算的序列；\n",
        "*   集合数据类型如list、dict、str等是Iterable但不是Iterator，不过可以通过iter()函数获得一个Iterator对象\n",
        "\n",
        "\n",
        "*   Python的for循环本质上就是通过不断调用next()函数实现的\n",
        "\n"
      ]
    },
    {
      "cell_type": "markdown",
      "metadata": {
        "id": "li3he_t5EPzw",
        "colab_type": "text"
      },
      "source": [
        "# 函数式编程"
      ]
    },
    {
      "cell_type": "markdown",
      "metadata": {
        "id": "v88rkGzYHD2A",
        "colab_type": "text"
      },
      "source": [
        "\n",
        "*   函数式编程——Functional Programming，虽然可以归结到面向过程的程序设计，但其思想更接近数学计算。\n",
        "*   函数式编程的一个特点就是，允许把函数本身作为参数传入另一个函数，还允许返回一个函数\n",
        "*   由于Python允许使用变量，因此，Python不是纯函数式编程语言。\n",
        "\n",
        "\n",
        "\n"
      ]
    },
    {
      "cell_type": "markdown",
      "metadata": {
        "id": "3cBwFDrxEhVF",
        "colab_type": "text"
      },
      "source": [
        "## 高阶函数 \n"
      ]
    },
    {
      "cell_type": "markdown",
      "metadata": {
        "id": "Aoc_kLEIHn62",
        "colab_type": "text"
      },
      "source": [
        "*   高阶函数英文叫Higher-order function  \n",
        "*   函数本身也可以赋值给变量，即：变量可以指向函数  \n",
        "*   编写高阶函数，就是让函数的参数能够接收别的函数。"
      ]
    },
    {
      "cell_type": "markdown",
      "metadata": {
        "id": "7kETNcSP9ijt",
        "colab_type": "text"
      },
      "source": [
        "### map/reduce"
      ]
    },
    {
      "cell_type": "markdown",
      "metadata": {
        "id": "5hSLeAUWGjao",
        "colab_type": "text"
      },
      "source": [
        "*  map()函数接收两个参数，一个是函数，一个是Iterable，map将传入的函数依次作用到序列的每个元素，并把结果作为新的Iterator返回。\n",
        "\n"
      ]
    },
    {
      "cell_type": "code",
      "metadata": {
        "id": "5QIm0uYG-JKo",
        "colab_type": "code",
        "colab": {
          "base_uri": "https://localhost:8080/",
          "height": 34
        },
        "outputId": "4f854243-8bb6-4fe0-c0e3-f8ff6b7cfa91"
      },
      "source": [
        "def f(x):\n",
        "    return x * x\n",
        "r = map(f, [1, 2, 3, 4, 5, 6, 7, 8, 9])\n",
        "list(r)"
      ],
      "execution_count": 1,
      "outputs": [
        {
          "output_type": "execute_result",
          "data": {
            "text/plain": [
              "[1, 4, 9, 16, 25, 36, 49, 64, 81]"
            ]
          },
          "metadata": {
            "tags": []
          },
          "execution_count": 1
        }
      ]
    },
    {
      "cell_type": "markdown",
      "metadata": {
        "id": "FuaauocaGjh1",
        "colab_type": "text"
      },
      "source": [
        "*  reduce把一个函数作用在一个序列`[x1, x2, x3, ...]`上，这个函数必须接收两个参数，reduce把结果继续和序列的下一个元素做累积计算"
      ]
    },
    {
      "cell_type": "markdown",
      "metadata": {
        "id": "G9qL8sdbGjrR",
        "colab_type": "text"
      },
      "source": [
        "*  配合map()，我们就可以写出把str转换为int的函数  \n",
        "假设Python没有提供int()函数，你完全可以自己写一个把字符串转化为整数的函数，而且只需要几行代码！\n",
        "\n",
        "```\n",
        ">>> from functools import reduce\n",
        ">>> def fn(x, y):\n",
        "...     return x * 10 + y\n",
        "...\n",
        ">>> def char2num(s):\n",
        "...     digits = {'0': 0, '1': 1, '2': 2, '3': 3, '4': 4, '5': 5, '6': 6, '7': 7, '8': 8, '9': 9}\n",
        "...     return digits[s]\n",
        "...\n",
        "```\n",
        "\n",
        "***\n",
        "整理一下\n",
        "\n",
        "\n",
        "```\n",
        ">>> from functools import reduce\n",
        ">>> def fn(x, y):\n",
        "...     return x * 10 + y\n",
        "...\n",
        ">>> def char2num(s):\n",
        "...     digits = {'0': 0, '1': 1, '2': 2, '3': 3, '4': 4, '5': 5, '6': 6, '7': 7, '8': 8, '9': 9}\n",
        "...     return digits[s]\n",
        "...\n",
        "```\n",
        "\n"
      ]
    },
    {
      "cell_type": "markdown",
      "metadata": {
        "id": "kD3bIWg5JdZY",
        "colab_type": "text"
      },
      "source": [
        "#### 练习\n",
        "利用map()函数，把用户输入的不规范的英文名字，变为首字母大写，其他小写的规范名字。输入：`['adam', 'LISA', 'barT']`，输出：`['Adam', 'Lisa', 'Bart']`：\n",
        "\n",
        "\n"
      ]
    },
    {
      "cell_type": "code",
      "metadata": {
        "id": "ISbKVasg-9DL",
        "colab_type": "code",
        "colab": {
          "base_uri": "https://localhost:8080/",
          "height": 51
        },
        "outputId": "430edffd-40dc-4df2-f85f-c6f32ba82dc5"
      },
      "source": [
        "def normalize(name):\n",
        "    name=name.capitalize()\n",
        "    return name\n",
        "    \n",
        "    \n",
        "L1 = ['adam', 'LISA', 'barT']\n",
        "L2 = list(map(normalize, L1))\n",
        "print(L2)\n",
        "# 测试:\n",
        "L1 = ['adam', 'LISA', 'barT']\n",
        "L2 = list(map(normalize, L1))\n",
        "print(L2)"
      ],
      "execution_count": 2,
      "outputs": [
        {
          "output_type": "stream",
          "text": [
            "['Adam', 'Lisa', 'Bart']\n",
            "['Adam', 'Lisa', 'Bart']\n"
          ],
          "name": "stdout"
        }
      ]
    },
    {
      "cell_type": "markdown",
      "metadata": {
        "id": "VneogJmLMYBb",
        "colab_type": "text"
      },
      "source": [
        "Python提供的sum()函数可以接受一个list并求和，请编写一个prod()函数，可以接受一个list并利用reduce()求积：\n",
        "\n",
        "\n"
      ]
    },
    {
      "cell_type": "code",
      "metadata": {
        "id": "2zwRmcoZMhNV",
        "colab_type": "code",
        "outputId": "8b7a2eff-32dd-4a6b-9199-722e3f209f12",
        "colab": {
          "base_uri": "https://localhost:8080/",
          "height": 51
        }
      },
      "source": [
        "from functools import reduce\n",
        "def prod(L):\n",
        "    def chen(x,y):\n",
        "        return x*y\n",
        "    return reduce(chen,L)\n",
        "\n",
        "print('3 * 5 * 7 * 9 =', prod([3, 5, 7, 9]))\n",
        "if prod([3, 5, 7, 9]) == 945:\n",
        "    print('测试成功!')\n",
        "else:\n",
        "    print('测试失败!')"
      ],
      "execution_count": 3,
      "outputs": [
        {
          "output_type": "stream",
          "text": [
            "3 * 5 * 7 * 9 = 945\n",
            "测试成功!\n"
          ],
          "name": "stdout"
        }
      ]
    },
    {
      "cell_type": "markdown",
      "metadata": {
        "id": "wite4AWZOqb2",
        "colab_type": "text"
      },
      "source": [
        "利用map和reduce编写一个str2float函数，把字符串'123.456'转换成浮点数123.456"
      ]
    },
    {
      "cell_type": "code",
      "metadata": {
        "id": "JXFtCJSdOtTl",
        "colab_type": "code",
        "outputId": "ca957693-a76c-450b-eea8-2e6197f812c7",
        "colab": {
          "base_uri": "https://localhost:8080/",
          "height": 34
        }
      },
      "source": [
        "from functools import reduce\n",
        "      \n",
        "def str2float(s):\n",
        "    def fn(x,y):\n",
        "        return x*10+y\n",
        "#    n=s.index('.')\n",
        "    L=s.split('.')\n",
        "#   s1=list(map(int,[x for x in s[:n]]))\n",
        "    s1=list(map(int,[x for x in L[0]]))\n",
        "\n",
        "#   s2=list(map(int,[x for x in s[n+1:]]))\n",
        "    s2=list(map(int,[x for x in L[1]]))\n",
        "    return reduce(fn,s1) + reduce(fn,s2)/10**len(s2)\n",
        "\n",
        "\n",
        "\n",
        "\n",
        "\n",
        "             \n",
        "s=\"123.121\"\n",
        "\n",
        "str2float(s)\n",
        "# 将原始字符串数据分割为两部分\n",
        "#L = s.split('.')"
      ],
      "execution_count": 0,
      "outputs": [
        {
          "output_type": "execute_result",
          "data": {
            "text/plain": [
              "123.121"
            ]
          },
          "metadata": {
            "tags": []
          },
          "execution_count": 5
        }
      ]
    },
    {
      "cell_type": "markdown",
      "metadata": {
        "id": "LLHzUKuZXrv7",
        "colab_type": "text"
      },
      "source": [
        "### filter  \n",
        "Python内建的filter()函数用于过滤序列。\n",
        "\n",
        "*   和map()类似，filter()也接收一个函数和一个序列\n",
        "*   和map()不同的是，filter()把传入的函数依次作用于每个元素，然后根据返回值是True还是False决定保留还是丢弃该元素。\n",
        "\n",
        "\n",
        "把一个序列中的空字符串删掉\n",
        "```\n",
        "def not_empty(s):\n",
        "    return s and s.strip()\n",
        "list(filter(not_empty, ['A', '', 'B', None, 'C', '  ']))\n",
        "```\n",
        "\n",
        "filter()这个高阶函数，关键在于正确实现一个“筛选”函数  \n",
        "filter()函数返回的是一个Iterator，也就是一个惰性序列，所以要强迫filter()完成计算结果，需要用list()函数获得所有结果并返回list。\n",
        "\n",
        "\n",
        "\n"
      ]
    },
    {
      "cell_type": "markdown",
      "metadata": {
        "id": "LkJerV31bFJU",
        "colab_type": "text"
      },
      "source": [
        "#### 用filter求素数  \n"
      ]
    },
    {
      "cell_type": "code",
      "metadata": {
        "id": "SOjg8LlBes_4",
        "colab_type": "code",
        "outputId": "862d81e8-df90-4b36-a5f4-b0bc59a34b12",
        "colab": {
          "base_uri": "https://localhost:8080/",
          "height": 54
        }
      },
      "source": [
        "#先构造一个从3开始的奇数序列,因为偶数肯定不是素数\n",
        "def _odd_iter():\n",
        "    n = 1\n",
        "    while True:\n",
        "        n = n + 2\n",
        "        yield n\n",
        "\n",
        "def _not_divisible(n):\n",
        "    return lambda x: x % n > 0\n",
        "def primes():\n",
        "    yield 2\n",
        "    it = _odd_iter() # 初始序列\n",
        "    while True:\n",
        "        n = next(it) # 返回序列的第一个数\n",
        "        yield n\n",
        "        it = filter(_not_divisible(n), it) # 构造新序列\n",
        "for n in primes():\n",
        "    if n < 100:\n",
        "        print(n,end=' ')\n",
        "    else:\n",
        "        break"
      ],
      "execution_count": 0,
      "outputs": [
        {
          "output_type": "stream",
          "text": [
            "2 3 5 7 11 13 17 19 23 29 31 37 41 43 47 53 59 61 67 71 73 79 83 89 97 "
          ],
          "name": "stdout"
        }
      ]
    },
    {
      "cell_type": "markdown",
      "metadata": {
        "id": "XxCn56a0iJL7",
        "colab_type": "text"
      },
      "source": [
        "#### 练习\n",
        "回数是指从左向右读和从右向左读都是一样的数，例如12321，909。请利用filter()筛选出回数"
      ]
    },
    {
      "cell_type": "code",
      "metadata": {
        "id": "Z1mZJxLviSbe",
        "colab_type": "code",
        "colab": {
          "base_uri": "https://localhost:8080/",
          "height": 71
        },
        "outputId": "5e263bef-9f8b-4520-fa0e-852ef30e0003"
      },
      "source": [
        "def is_palindrome(n):\n",
        "    return str(n)==(str(n))[::-1]\n",
        "output = filter(is_palindrome, range(1, 1000))\n",
        "print('1~1000:', list(output))\n",
        "# 测试:\n",
        "output = filter(is_palindrome, range(1, 1000))\n",
        "#print('1~1000:', list(output))\n",
        "if list(filter(is_palindrome, range(1, 200))) == [1, 2, 3, 4, 5, 6, 7, 8, 9, 11, 22, 33, 44, 55, 66, 77, 88, 99, 101, 111, 121, 131, 141, 151, 161, 171, 181, 191]:\n",
        "    print('测试成功!')\n",
        "else:\n",
        "    print('测试失败!')"
      ],
      "execution_count": 5,
      "outputs": [
        {
          "output_type": "stream",
          "text": [
            "1~1000: [1, 2, 3, 4, 5, 6, 7, 8, 9, 11, 22, 33, 44, 55, 66, 77, 88, 99, 101, 111, 121, 131, 141, 151, 161, 171, 181, 191, 202, 212, 222, 232, 242, 252, 262, 272, 282, 292, 303, 313, 323, 333, 343, 353, 363, 373, 383, 393, 404, 414, 424, 434, 444, 454, 464, 474, 484, 494, 505, 515, 525, 535, 545, 555, 565, 575, 585, 595, 606, 616, 626, 636, 646, 656, 666, 676, 686, 696, 707, 717, 727, 737, 747, 757, 767, 777, 787, 797, 808, 818, 828, 838, 848, 858, 868, 878, 888, 898, 909, 919, 929, 939, 949, 959, 969, 979, 989, 999]\n",
            "测试成功!\n"
          ],
          "name": "stdout"
        }
      ]
    },
    {
      "cell_type": "markdown",
      "metadata": {
        "id": "SAeoJPQgi0kV",
        "colab_type": "text"
      },
      "source": [
        "### 排序算法"
      ]
    },
    {
      "cell_type": "markdown",
      "metadata": {
        "id": "zR5rZ2Rki0i9",
        "colab_type": "text"
      },
      "source": [
        "*  sorted()函数也是一个高阶函数，它还可以接收一个key函数来实现自定义的排序，例如按绝对值大小排序：\n",
        "\n",
        "\n",
        "```\n",
        "sorted([36, 5, -12, 9, -21], key=abs)\n",
        "```\n",
        "*  默认情况下，对字符串排序，是按照ASCII的大小比较的，由于'Z' < 'a'，结果，大写字母Z会排在小写字母a的前面。\n"
      ]
    },
    {
      "cell_type": "markdown",
      "metadata": {
        "id": "kog2QKhCjqki",
        "colab_type": "text"
      },
      "source": [
        "*  要进行反向排序，不必改动key函数，可以传入第三个参数reverse=True：\n",
        "\n",
        "\n",
        "```\n",
        "sorted(['bob', 'about', 'Zoo', 'Credit'], key=str.lower, reverse=True)\n",
        "```\n",
        "\n",
        "*  sorted()也是一个高阶函数。用sorted()排序的关键在于实现一个映射函数。"
      ]
    },
    {
      "cell_type": "markdown",
      "metadata": {
        "id": "9T7Utl00axac",
        "colab_type": "text"
      },
      "source": [
        "#### 练习"
      ]
    },
    {
      "cell_type": "markdown",
      "metadata": {
        "id": "_mJ5AOMgk2gQ",
        "colab_type": "text"
      },
      "source": [
        "\n",
        "\n",
        "假设我们用一组tuple表示学生名字和成绩：\n",
        "```\n",
        "L = [('Bob', 75), ('Adam', 92), ('Bart', 66), ('Lisa', 88)]\n",
        "```\n",
        "请用sorted()对上述列表分别按名字排序：\n",
        "\n",
        "\n",
        "\n"
      ]
    },
    {
      "cell_type": "code",
      "metadata": {
        "id": "PhDdKBFKk_4W",
        "colab_type": "code",
        "outputId": "582ee2a6-c782-47e6-8f3f-16162aca8510",
        "colab": {
          "base_uri": "https://localhost:8080/",
          "height": 34
        }
      },
      "source": [
        "L = [('Bob', 75), ('Adam', 92), ('Bart', 66), ('Lisa', 88)]\n",
        "def by_name(t):\n",
        "    return t[0]\n",
        "L2 = sorted(L, key=by_name)\n",
        "print(L2)"
      ],
      "execution_count": 0,
      "outputs": [
        {
          "output_type": "stream",
          "text": [
            "[('Adam', 92), ('Bart', 66), ('Bob', 75), ('Lisa', 88)]\n"
          ],
          "name": "stdout"
        }
      ]
    },
    {
      "cell_type": "markdown",
      "metadata": {
        "id": "F41sXNBPa97O",
        "colab_type": "text"
      },
      "source": [
        "再按成绩从高到低排序："
      ]
    },
    {
      "cell_type": "code",
      "metadata": {
        "id": "4CImZzpClJ44",
        "colab_type": "code",
        "outputId": "db53a119-ea06-44b3-fb02-c60236fa4c39",
        "colab": {
          "base_uri": "https://localhost:8080/",
          "height": 34
        }
      },
      "source": [
        "def by_score(t):\n",
        "    return -t[1]\n",
        "L3 = sorted(L, key=by_score)\n",
        "print(L3)"
      ],
      "execution_count": 0,
      "outputs": [
        {
          "output_type": "stream",
          "text": [
            "[('Adam', 92), ('Lisa', 88), ('Bob', 75), ('Bart', 66)]\n"
          ],
          "name": "stdout"
        }
      ]
    },
    {
      "cell_type": "markdown",
      "metadata": {
        "id": "_TPCTuuglhyf",
        "colab_type": "text"
      },
      "source": [
        "###  返回函数\n",
        "高阶函数除了可以接受函数作为参数外，还可以把函数作为结果值返回。"
      ]
    },
    {
      "cell_type": "markdown",
      "metadata": {
        "id": "kMh0p4XemeFW",
        "colab_type": "text"
      },
      "source": [
        "#### 闭包\n",
        "返回函数不要引用任何循环变量，或者后续会发生变化的变量。"
      ]
    },
    {
      "cell_type": "markdown",
      "metadata": {
        "id": "lthKPKi3oCNY",
        "colab_type": "text"
      },
      "source": [
        "利用闭包返回一个计数器函数，每次调用它返回递增整数："
      ]
    },
    {
      "cell_type": "code",
      "metadata": {
        "id": "dM6VDmTxoEAs",
        "colab_type": "code",
        "colab": {}
      },
      "source": [
        "def createCounter():\n",
        "    l = [0]\n",
        "    def counter():\n",
        "        l[0] += 1\n",
        "        return l[0]\n",
        "    return counter\n",
        " "
      ],
      "execution_count": 0,
      "outputs": []
    },
    {
      "cell_type": "markdown",
      "metadata": {
        "id": "eu2jemshpnwd",
        "colab_type": "text"
      },
      "source": [
        "###  匿名函数\n",
        "当我们在传入函数时，有些时候，不需要显式地定义函数，直接传入匿名函数更方便"
      ]
    },
    {
      "cell_type": "markdown",
      "metadata": {
        "id": "R-Y-zeXZpnvR",
        "colab_type": "text"
      },
      "source": [
        "在Python中，对匿名函数提供了有限支持。还是以map()函数为例，计算f(x)=x2时，除了定义一个f(x)的函数外，还可以直接传入匿名函数："
      ]
    },
    {
      "cell_type": "markdown",
      "metadata": {
        "id": "z8IVrx9Qpw60",
        "colab_type": "text"
      },
      "source": [
        "大名鼎鼎的 lambda 终于脱下了他神秘的外衣"
      ]
    },
    {
      "cell_type": "markdown",
      "metadata": {
        "id": "L2G6t4ouqdeN",
        "colab_type": "text"
      },
      "source": [
        "### 装饰器\n",
        "*  由于函数也是一个对象，而且函数对象可以被赋值给变量，所以，通过变量也能调用该函数。\n",
        "\n",
        "*  函数对象有一个__name__属性，可以拿到函数的名字：\n",
        "\n",
        "*  在代码运行期间动态增加功能的方式，称之为“装饰器”（Decorator）。\n",
        "\n",
        "*  decorator就是一个返回函数的高阶函数\n",
        "\n",
        "\n",
        "\n",
        "```\n",
        "def log(func):\n",
        "    def wrapper(*args, **kw):\n",
        "        print('call %s():' % func.__name__)\n",
        "        return func(*args, **kw)\n",
        "    return wrapper\n",
        "```\n",
        "Python的@语法\n"
      ]
    },
    {
      "cell_type": "markdown",
      "metadata": {
        "id": "s4odGa2rsjxr",
        "colab_type": "text"
      },
      "source": [
        "一个完整的decorator的写法如下  \n",
        "\n",
        "\n",
        "```\n",
        "import functools\n",
        "\n",
        "def log(func):\n",
        "    @functools.wraps(func)\n",
        "    def wrapper(*args, **kw):\n",
        "        print('call %s():' % func.__name__)\n",
        "        return func(*args, **kw)\n",
        "    return wrapper\n",
        "```\n",
        "\n",
        "针对带参数的decorator：\n",
        "\n",
        "\n",
        "\n",
        "```\n",
        "import functools\n",
        "\n",
        "def log(text):\n",
        "    def decorator(func):\n",
        "        @functools.wraps(func)\n",
        "        def wrapper(*args, **kw):\n",
        "            print('%s %s():' % (text, func.__name__))\n",
        "            return func(*args, **kw)\n",
        "        return wrapper\n",
        "    return decorator\n",
        "```\n",
        "**`在定义wrapper()的前面加上@functools.wraps(func)`**"
      ]
    },
    {
      "cell_type": "markdown",
      "metadata": {
        "id": "9V6fA7gxtJ3a",
        "colab_type": "text"
      },
      "source": [
        "请设计一个decorator，它可作用于任何函数上，并打印该函数的执行时间："
      ]
    },
    {
      "cell_type": "code",
      "metadata": {
        "id": "MD7IeoPCvcqU",
        "colab_type": "code",
        "colab": {}
      },
      "source": [
        "import time, functools\n",
        "def metric(fn):\n",
        "\n",
        "    def wrapper(*args):\n",
        "\n",
        "        start = time.time()\n",
        "\n",
        "        res = fn(*args)\n",
        "\n",
        "        end =  time.time()\n",
        "\n",
        "        print('%s executed in %s ms' % (fn.__name__, end - start))\n",
        "\n",
        "        return res\n",
        "\n",
        "    return wrapper"
      ],
      "execution_count": 0,
      "outputs": []
    },
    {
      "cell_type": "markdown",
      "metadata": {
        "id": "c85Ljv8QwUXi",
        "colab_type": "text"
      },
      "source": [
        "### 偏函数 （Partial function）"
      ]
    },
    {
      "cell_type": "markdown",
      "metadata": {
        "id": "dlr39pFgxCJB",
        "colab_type": "text"
      },
      "source": [
        "int()函数还提供额外的base参数，默认值为10。如果传入base参数，就可以做N进制的转换"
      ]
    },
    {
      "cell_type": "markdown",
      "metadata": {
        "id": "rlZyyM6PxCM5",
        "colab_type": "text"
      },
      "source": [
        "要转换大量的二进制字符串，每次都传入int(x, base=2)非常麻烦，于是，我们想到，可以定义一个int2()的函数，默认把base=2传进去：\n",
        "\n",
        "\n",
        "```\n",
        "def int2(x, base=2):\n",
        "    return int(x, base)\n",
        "```\n",
        "\n"
      ]
    },
    {
      "cell_type": "markdown",
      "metadata": {
        "id": "oG7LQnlXxN3z",
        "colab_type": "text"
      },
      "source": [
        "functools.partial就是帮助我们创建一个偏函数的，不需要我们自己定义int2()，可以直接使用下面的代码创建一个新的函数int2：\n",
        "\n",
        "```\n",
        ">>> import functools\n",
        ">>> int2 = functools.partial(int, base=2)\n",
        "```\n",
        "创建偏函数时，实际上可以接收函数对象、`*args`和`**kw这3个参数`\n",
        "\n",
        "当函数的参数个数太多，需要简化时，使用functools.partial可以创建一个新的函数，这个新函数可以固定住原函数的部分参数，从而在调用时更简单。\n",
        "*** \n",
        "***"
      ]
    },
    {
      "cell_type": "markdown",
      "metadata": {
        "id": "-VWnSkjShR8c",
        "colab_type": "text"
      },
      "source": [
        "# 模块"
      ]
    },
    {
      "cell_type": "markdown",
      "metadata": {
        "id": "XW0Ux4JIhSLv",
        "colab_type": "text"
      },
      "source": [
        "为了编写可维护的代码，我们把很多函数分组，分别放到不同的文件里，这样，每个文件包含的代码就相对较少。在Python中，一个.py文件就称之为一个模块（Module）。"
      ]
    },
    {
      "cell_type": "markdown",
      "metadata": {
        "id": "i7Elpgwfhiwn",
        "colab_type": "text"
      },
      "source": [
        "使用模块好处：\n",
        "\n",
        "\n",
        "*   大大提高了代码的可维护性\n",
        "*   避免函数名和变量名冲突\n",
        "\n",
        "[python内置函数](https://docs.python.org/3/library/functions.html)\n",
        "\n"
      ]
    },
    {
      "cell_type": "markdown",
      "metadata": {
        "id": "CYcED7DkiIHf",
        "colab_type": "text"
      },
      "source": [
        "Python又引入了按目录来组织模块的方法----包（Package）  \n",
        "一个abc.py的文件就是一个名字叫abc的模块，一个xyz.py的文件就是一个名字叫xyz的模块。  \n"
      ]
    },
    {
      "cell_type": "markdown",
      "metadata": {
        "id": "y5cyZkLPiINo",
        "colab_type": "text"
      },
      "source": [
        "假设我们的abc和xyz这两个模块名字与其他模块冲突了，于是我们可以通过包来组织模块，避免冲突。方法是选择一个顶层包名，比如mycompany，按照如下目录存放  \n",
        "```\n",
        "mycompany\n",
        "├─ __init__.py\n",
        "├─ abc.py\n",
        "└─ xyz.py\n",
        "    \n",
        "```\n",
        "只要顶层的包名不与别人冲突，那所有模块都不会与别人冲突。现在，abc.py模块的名字就变成了mycompany.abc，类似的，xyz.py的模块名变成了mycompany.xyz。\n",
        "\n",
        "每一个包目录下面都会有一个__init__.py的文件，这个文件是必须存在的，否则，Python就把这个目录当成普通目录，而不是一个包。\n",
        "\n",
        "可以有多级目录，组成多级层次的包结构。比如如下的目录结构：\n",
        "\n",
        "\n",
        "\n",
        "```\n",
        "mycompany\n",
        " ├─ web\n",
        " │  ├─ __init__.py\n",
        " │  ├─ utils.py\n",
        " │  └─ www.py\n",
        " ├─ __init__.py\n",
        " ├─ abc.py\n",
        " └─ xyz.py\n",
        "```\n",
        "\n"
      ]
    },
    {
      "cell_type": "markdown",
      "metadata": {
        "id": "z0a5VN8EiIRC",
        "colab_type": "text"
      },
      "source": [
        "### 使用模块"
      ]
    },
    {
      "cell_type": "markdown",
      "metadata": {
        "id": "MCSD0JJLiIWt",
        "colab_type": "text"
      },
      "source": [
        "Python本身就内置了很多非常有用的模块，只要安装完毕，这些模块就可以立刻使用。"
      ]
    },
    {
      "cell_type": "markdown",
      "metadata": {
        "id": "l_Jq7iMPiIT7",
        "colab_type": "text"
      },
      "source": [
        "Python模块的标准文件模板  \n",
        "自建模块"
      ]
    },
    {
      "cell_type": "markdown",
      "metadata": {
        "id": "OhSoQSawiIZM",
        "colab_type": "text"
      },
      "source": [
        "### 作用域"
      ]
    },
    {
      "cell_type": "markdown",
      "metadata": {
        "id": "WcGd2t6UiIbz",
        "colab_type": "text"
      },
      "source": [
        "在一个模块中，我们可能会定义很多函数和变量，但有的函数和变量我们希望给别人使用，有的函数和变量我们希望仅仅在模块内部使用。在Python中，是通过_前缀来实现的"
      ]
    },
    {
      "cell_type": "markdown",
      "metadata": {
        "id": "cZa9BSt0iIeZ",
        "colab_type": "text"
      },
      "source": [
        "* 正常的函数和变量名是公开的（public），可以被直接引用，比如：abc，x123，PI等"
      ]
    },
    {
      "cell_type": "markdown",
      "metadata": {
        "id": "5nqgZMIiiIhU",
        "colab_type": "text"
      },
      "source": [
        "* 类似`__xxx__`这样的变量是特殊变量，可以被直接引用，但是有特殊用途，比如上面的`__author__`，`__name__`就是特殊变量  \n",
        "\n",
        "* 类似_xxx和` `内嵌代码`__xxx`这样的函数或变量就是非公开的（private），不应该被直接引用，比如_abc，`__abc`等；"
      ]
    },
    {
      "cell_type": "markdown",
      "metadata": {
        "id": "VuYPit_hiIj8",
        "colab_type": "text"
      },
      "source": [
        "Python并没有一种方法可以完全限制访问private函数或变量 ，从编程习惯上不应该引用private函数或变量。"
      ]
    },
    {
      "cell_type": "markdown",
      "metadata": {
        "id": "iX93bGaFiIof",
        "colab_type": "text"
      },
      "source": [
        "private函数或变量 \n",
        "\n",
        "```\n",
        "def _private_1(name):\n",
        "    return 'Hello, %s' % name\n",
        "\n",
        "def _private_2(name):\n",
        "    return 'Hi, %s' % name\n",
        "\n",
        "def greeting(name):\n",
        "    if len(name) > 3:\n",
        "        return _private_1(name)\n",
        "    else:\n",
        "        return _private_2(name)\n",
        "```\n",
        "\n",
        "在模块里公开greeting()函数，而把内部逻辑用private函数隐藏起来了，这样，调用greeting()函数不用关心内部的private函数细节  \n",
        "\n"
      ]
    },
    {
      "cell_type": "markdown",
      "metadata": {
        "id": "9wG8yFkLiIrd",
        "colab_type": "text"
      },
      "source": [
        "在模块里公开greeting()函数，而把内部逻辑用private函数隐藏起来了，这样，调用greeting()函数不用关心内部的private函数细节  \n",
        "\n",
        "外部不需要引用的函数全部定义成private，只有外部需要引用的函数才定义为public。"
      ]
    },
    {
      "cell_type": "markdown",
      "metadata": {
        "id": "y6ISlB1oiIGI",
        "colab_type": "text"
      },
      "source": [
        "### 安装第三方模块"
      ]
    },
    {
      "cell_type": "markdown",
      "metadata": {
        "id": "xym9FaPAx5iL",
        "colab_type": "text"
      },
      "source": [
        "在Python中，安装第三方模块，是通过包管理工具pip完成的"
      ]
    },
    {
      "cell_type": "markdown",
      "metadata": {
        "id": "UjGqQeBkx5rM",
        "colab_type": "text"
      },
      "source": [
        "第三方库都会在Python官方的pypi.python.org网站注册，Pillow的名称叫Pillow，安装Pillow的命令就是：\n",
        "\n",
        "\n",
        "```\n",
        "pip install Pillow\n",
        "```\n",
        "\n"
      ]
    },
    {
      "cell_type": "markdown",
      "metadata": {
        "id": "_RM9ECcJx5wY",
        "colab_type": "text"
      },
      "source": [
        "推荐[Anaconda](https://www.anaconda.com/)"
      ]
    },
    {
      "cell_type": "markdown",
      "metadata": {
        "id": "Muzg63nux5zF",
        "colab_type": "text"
      },
      "source": [
        "要添加自己的搜索目录，有两种方法\n",
        "\n",
        "\n",
        "1.   一是直接修改sys.path，添加要搜索的目录：\n",
        "\n",
        "```\n",
        ">>> import sys\n",
        ">>> sys.path.append('/Users/michael/my_py_scripts')\n",
        "#运行时修改，运行结束后失效\n",
        "```\n",
        "\n",
        "\n",
        "2.   设置环境变量PYTHONPATH\n",
        "\n"
      ]
    },
    {
      "cell_type": "markdown",
      "metadata": {
        "id": "lJiyvXaXx5uc",
        "colab_type": "text"
      },
      "source": [
        "*** \n",
        "***"
      ]
    },
    {
      "cell_type": "markdown",
      "metadata": {
        "id": "ghVUdzRW94G4",
        "colab_type": "text"
      },
      "source": [
        "#  面向对象编程"
      ]
    },
    {
      "cell_type": "markdown",
      "metadata": {
        "id": "tccYDffF96VF",
        "colab_type": "text"
      },
      "source": [
        "面向对象编程——Object Oriented Programming，简称OOP，是一种程序设计思想。OOP把对象作为程序的基本单元，一个对象包含了数据和操作数据的函数。"
      ]
    },
    {
      "cell_type": "markdown",
      "metadata": {
        "id": "-4SPrNhE96eO",
        "colab_type": "text"
      },
      "source": [
        "在Python中，所有数据类型都可以视为对象，当然也可以自定义对象。自定义的对象数据类型就是面向对象中的类（Class）的概念。"
      ]
    },
    {
      "cell_type": "markdown",
      "metadata": {
        "id": "ZN9BCmBJ96gr",
        "colab_type": "text"
      },
      "source": [
        "要处理学生的成绩表，为了表示一个学生的成绩，面向过程的程序可以用一个dict表示：\n",
        "\n",
        "```\n",
        "std1 = { 'name': 'Michael', 'score': 98 }\n",
        "std2 = { 'name': 'Bob', 'score': 81 }\n",
        "```\n",
        "处理学生成绩可以通过函数实现，比如打印学生的成绩：\n",
        "\n",
        "```\n",
        "def print_score(std):\n",
        "    print('%s: %s' % (std['name'], std['score']))\n",
        "```\n",
        "\n",
        "\n"
      ]
    },
    {
      "cell_type": "markdown",
      "metadata": {
        "id": "E96jBXib96lo",
        "colab_type": "text"
      },
      "source": [
        "如果采用面向对象的程序设计思想，是Student这种数据类型应该被视为一个对象，这个对象拥有name和score这两个属性（Property）。  \n",
        "如果要打印一个学生的成绩，首先必须创建出这个学生对应的对象，然后，给对象发一个print_score消息，让对象自己把自己的数据打印出来。\n",
        "\n",
        "```\n",
        "class Student(object):\n",
        "\n",
        "    def __init__(self, name, score):\n",
        "        self.name = name\n",
        "        self.score = score\n",
        "\n",
        "    def print_score(self):\n",
        "        print('%s: %s' % (self.name, self.score))\n",
        "```\n",
        "给对象发消息实际上就是调用对象对应的关联函数，我们称之为对象的方法（Method）。面向对象的程序写出来就像这样：\n",
        "\n",
        "\n",
        "```\n",
        "bart = Student('Bart Simpson', 59)\n",
        "lisa = Student('Lisa Simpson', 87)\n",
        "bart.print_score()\n",
        "lisa.print_score()\n",
        "```\n",
        "\n",
        "\n",
        "* 面向对象的设计思想是抽象出Class，根据Class创建Instance。\n",
        "\n",
        "* 面向对象的抽象程度又比函数要高，因为一个Class既包含数据，又包含操作数据的方法。"
      ]
    },
    {
      "cell_type": "markdown",
      "metadata": {
        "id": "dIlYwxmI96qW",
        "colab_type": "text"
      },
      "source": [
        "### 类和实例\n",
        "面向对象最重要的概念就是类（Class）和实例（Instance），必须牢记类是抽象的模板，比如Student类，而实例是根据类创建出来的一个个具体的“对象”，每个对象都拥有相同的方法，但各自的数据可能不同。\n",
        "\n",
        "在Python中，定义类是通过class关键字：\n",
        "\n",
        "```\n",
        "class Student(object):\n",
        "    pass\n",
        "```\n",
        "class后面紧接着是类名，即Student，类名通常是大写开头的单词，紧接着是(object)，表示该类是从哪个类继承下来的，继承的概念我们后面再讲，通常，如果没有合适的继承类，就使用object类，这是所有类最终都会继承的类。\n"
      ]
    },
    {
      "cell_type": "markdown",
      "metadata": {
        "id": "tcDkWUj-96vm",
        "colab_type": "text"
      },
      "source": [
        "定义好了Student类，就可以根据Student类创建出Student的实例，创建实例是通过类名+()实现的：  \n",
        "\n",
        "\n",
        "```\n",
        ">>> bart = Student()\n",
        ">>> bart\n",
        "<__main__.Student object at 0x10a67a590>\n",
        ">>> Student\n",
        "<class '__main__.Student'>\n",
        "```\n",
        "\n",
        "变量bart指向的就是一个Student的实例，后面的0x10a67a590是内存地址，每个object的地址都不一样，而Student本身则是一个类\n",
        "\n",
        "可以自由地给一个实例变量绑定属性，比如，给实例bart绑定一个name属性：\n",
        "\n",
        "```\n",
        ">>> bart.name = 'Bart Simpson'\n",
        ">>> bart.name\n",
        "'Bart Simpson'\n",
        "```\n",
        "\n",
        "类可以起到模板的作用，因此，可以在创建实例的时候，把一些我们认为必须绑定的属性强制填写进去。通过定义一个特殊的`__init__`方法，在创建实例的时候，就把name，score等属性绑上去：\n",
        "\n",
        "```\n",
        "class Student(object):\n",
        "\n",
        "    def __init__(self, name, score):\n",
        "        self.name = name\n",
        "        self.score = score\n",
        "```\n",
        "注意到`__init__`方法的第一个参数永远是self，表示创建的实例本身，因此，在_`_init__`方法内部，就可以把各种属性绑定到self，因为self就指向创建的实例本身。\n",
        "\n",
        "\n",
        "有了`__init__`方法，在创建实例的时候，就不能传入空的参数了，必须传入与`__init__`方法匹配的参数，但self不需要传，Python解释器自己会把实例变量传进去：\n",
        "\n",
        "\n",
        "\n",
        "```\n",
        ">>> bart = Student('Bart Simpson', 59)\n",
        ">>> bart.name\n",
        "'Bart Simpson'\n",
        ">>> bart.score\n",
        "59\n",
        "```\n",
        "和普通的函数相比，在类中定义的函数只有一点不同，就是第一个参数永远是实例变量self，并且，调用时，不用传递该参数。除此之外，类的方法和普通函数没有什么区别，所以，你仍然可以用默认参数、可变参数、关键字参数和命名关键字参数。\n"
      ]
    },
    {
      "cell_type": "markdown",
      "metadata": {
        "id": "w0ujx2gI964v",
        "colab_type": "text"
      },
      "source": [
        "### 数据封装\n",
        "面向对象编程的一个重要特点就是数据封装。在上面的Student类中，每个实例就拥有各自的name和score这些数据。我们可以通过函数来访问这些数据.\n",
        "\n",
        "\n",
        "```\n",
        ">>> def print_score(std):\n",
        "...     print('%s: %s' % (std.name, std.score))\n",
        "...\n",
        ">>> print_score(bart)\n",
        "Bart Simpson: 59\n",
        "```\n",
        "\n"
      ]
    },
    {
      "cell_type": "markdown",
      "metadata": {
        "id": "NQC7OE1A968F",
        "colab_type": "text"
      },
      "source": [
        "类的方法:直接在Student类的内部定义访问数据的函数，这样，就把“数据”给封装起来了。这些封装数据的函数是和Student类本身是关联起来的\n",
        "\n",
        "```\n",
        "class Student(object):\n",
        "\n",
        "    def __init__(self, name, score):\n",
        "        self.name = name\n",
        "        self.score = score\n",
        "\n",
        "    def print_score(self):\n",
        "        print('%s: %s' % (self.name, self.score))\n",
        "```\n",
        "\n",
        "调用方法：\n",
        "\n",
        "\n",
        "```\n",
        ">>> bart.print_score()\n",
        "Bart Simpson: 59\n",
        "```\n",
        "\n",
        "从外部看Student类，就只需要知道，创建实例需要给出name和score，而如何打印，都是在Student类的内部定义的，这些数据和逻辑被“封装”起来了，调用很容易，但却不用知道内部实现的细节。\n",
        "\n"
      ]
    },
    {
      "cell_type": "markdown",
      "metadata": {
        "id": "6QonvwYm96_T",
        "colab_type": "text"
      },
      "source": [
        "封装的另一个好处是可以给Student类增加新的方法，比如get_grade：\n",
        "\n",
        "```\n",
        "class Student(object):\n",
        "    ...\n",
        "\n",
        "    def get_grade(self):\n",
        "        if self.score >= 90:\n",
        "            return 'A'\n",
        "        elif self.score >= 60:\n",
        "            return 'B'\n",
        "        else:\n",
        "            return 'C'\n",
        "```\n",
        "get_grade方法可以直接在实例变量上调用，不需要知道内部实现细节  \n",
        "\n",
        "\n",
        "```\n",
        "class Student(object):\n",
        "    def __init__(self, name, score):\n",
        "        self.name = name\n",
        "        self.score = score\n",
        "\n",
        "    def get_grade(self):\n",
        "        if self.score >= 90:\n",
        "            return 'A'\n",
        "        elif self.score >= 60:\n",
        "            return 'B'\n",
        "        else:\n",
        "            return 'C'\n",
        "```\n",
        "\n",
        "***\n",
        "\n",
        "\n",
        "```\n",
        "# 结果\n",
        "lisa = Student('Lisa', 99)\n",
        "bart = Student('Bart', 59)\n",
        "print(lisa.name, lisa.get_grade())\n",
        "print(bart.name, bart.get_grade())\n",
        "```\n",
        "\n",
        "\n"
      ]
    },
    {
      "cell_type": "markdown",
      "metadata": {
        "id": "lduZtETv97DP",
        "colab_type": "text"
      },
      "source": [
        "#### 小结\n",
        "\n",
        "\n",
        "*   类是创建实例的模板，而实例则是一个一个具体的对象，各个实例拥有的数据都互相独立，互不影响；\n",
        "\n",
        "*   方法就是与实例绑定的函数，和普通函数不同，方法可以直接访问实例的数据；\n",
        "*   通过在实例上调用方法，我们就直接操作了对象内部的数据，但无需知道方法内部的实现细节。\n",
        "\n",
        "\n",
        "*   和静态语言不同，Python允许对实例变量绑定任何数据，也就是说，对于两个实例变量，虽然它们都是同一个类的不同实例，但拥有的变量名称都可能不同\n",
        "\n"
      ]
    },
    {
      "cell_type": "markdown",
      "metadata": {
        "id": "x0pV3ita97RV",
        "colab_type": "text"
      },
      "source": [
        "### 访问限制"
      ]
    },
    {
      "cell_type": "markdown",
      "metadata": {
        "id": "0y_LlRGa97Ux",
        "colab_type": "text"
      },
      "source": [
        "在Class内部，可以有属性和方法，而外部代码可以通过直接调用实例变量的方法来操作数据，这样，就隐藏了内部的复杂逻辑。"
      ]
    },
    {
      "cell_type": "markdown",
      "metadata": {
        "id": "aBIwDp_O979D",
        "colab_type": "text"
      },
      "source": [
        "从前面Student类的定义来看，外部代码还是可以自由地修改一个实例的name、score属性"
      ]
    },
    {
      "cell_type": "markdown",
      "metadata": {
        "id": "mEyc72oI98Gg",
        "colab_type": "text"
      },
      "source": [
        "如果要让内部属性不被外部访问，可以把属性的名称前加上两个下划线__，在Python中，实例的变量名如果以__开头，就变成了一个私有变量（private），只有内部可以访问，外部不能访问，所以，我们把Student类改一改："
      ]
    },
    {
      "cell_type": "code",
      "metadata": {
        "id": "DsL7TDRvGgIP",
        "colab_type": "code",
        "colab": {}
      },
      "source": [
        "class Student(object):\n",
        "\n",
        "    def __init__(self, name, score):\n",
        "        self.__name = name\n",
        "        self.__score = score\n",
        "\n",
        "    def print_score(self):\n",
        "        print('%s: %s' % (self.__name, self.__score))"
      ],
      "execution_count": 0,
      "outputs": []
    },
    {
      "cell_type": "markdown",
      "metadata": {
        "id": "Xj7iprvg98Tg",
        "colab_type": "text"
      },
      "source": [
        "改完后，对于外部代码来说，没什么变动，但是已经无法从外部访问实例变量.`__name`和实例变量.`__score`了  \n",
        "确保了外部代码不能随意修改对象内部的状态，这样通过访问限制的保护，代码更加健壮。  \n",
        "如果外部代码要获取name和score怎么办？可以给Student类增加get_name和get_score这样的方法：\n",
        "\n",
        "```\n",
        "class Student(object):\n",
        "    ...\n",
        "\n",
        "    def get_name(self):\n",
        "        return self.__name\n",
        "\n",
        "    def get_score(self):\n",
        "        return self.__score\n",
        "```\n",
        "\n",
        "又要允许外部代码修改score怎么办？可以再给Student类增加set_score方法\n",
        "\n",
        "```\n",
        "class Student(object):\n",
        "    ...\n",
        "\n",
        "    def set_score(self, score):\n",
        "        self.__score = score\n",
        "```\n",
        "**在方法中，可以对参数做检查，避免传入无效的参数**  \n",
        "\n",
        "\n",
        "```\n",
        "class Student(object):\n",
        "    ...\n",
        "\n",
        "    def set_score(self, score):\n",
        "        if 0 <= score <= 100:\n",
        "            self.__score = score\n",
        "        else:\n",
        "            raise ValueError('bad score')\n",
        "```\n",
        "\n",
        "不能直接访问`__name`是因为Python解释器对外把`__name`变量改成了`_Student__name`，所以，仍然可以通过`_Student__name`来访问`__name`变量：\n",
        "\n",
        "\n",
        "```\n",
        "bart._Student__name\n",
        "'Bart Simpson'\n",
        "```\n",
        "\n",
        "不同版本的Python解释器可能会把__name改成不同的变量名。  \n",
        "Python本身没有任何机制阻止你干坏事，一切全靠自觉  \n",
        "最后注意下面的这种**错误写法**：\n",
        "\n",
        "\n",
        "```\n",
        "最后注意下面的这种错误写法：\n",
        "\n",
        ">>> bart = Student('Bart Simpson', 59)\n",
        ">>> bart.get_name()\n",
        "'Bart Simpson'\n",
        ">>> bart.__name = 'New Name' # 设置__name变量！\n",
        ">>> bart.__name\n",
        "'New Name'\n",
        "```\n",
        "\n"
      ]
    },
    {
      "cell_type": "code",
      "metadata": {
        "id": "HI5vhFMpOmfg",
        "colab_type": "code",
        "colab": {}
      },
      "source": [
        "class Student(object):\n",
        "    def __init__(self, name, gender):\n",
        "        self.__name = name\n",
        "        self.__gender = gender\n",
        "    def get_gender(self)\n",
        "        return self.__gender\n",
        "    def set_gender(self, gender):\n",
        "        if gender==male or gender==female\n",
        "            self.__gender=gender  \n",
        "        return self.__gender"
      ],
      "execution_count": 0,
      "outputs": []
    },
    {
      "cell_type": "markdown",
      "metadata": {
        "id": "JXZYPPK096t2",
        "colab_type": "text"
      },
      "source": [
        "### 继承和多态"
      ]
    },
    {
      "cell_type": "markdown",
      "metadata": {
        "id": "PIpEBfpF96om",
        "colab_type": "text"
      },
      "source": [
        "当我们定义一个class的时候，可以从某个现有的class继承，新的class称为子类（Subclass），而被继承的class称为基类、父类或超类（Base class、Super class）。"
      ]
    },
    {
      "cell_type": "markdown",
      "metadata": {
        "id": "P0g-uSPP96jo",
        "colab_type": "text"
      },
      "source": [
        "编写了一个名为Animal的class，有一个run()方法可以直接打印：\n",
        "\n",
        "```\n",
        "class Animal(object):\n",
        "    def run(self):\n",
        "        print('Animal is running...')\n",
        "```\n",
        "需要编写Dog和Cat类时，就可以直接从Animal类继承：\n",
        "\n",
        "\n",
        "\n",
        "```\n",
        "class Dog(Animal):\n",
        "    pass\n",
        "\n",
        "class Cat(Animal):\n",
        "    pass\n",
        "```\n",
        "\n",
        "对于Dog来说，Animal就是它的父类，对于Animal来说，Dog就是它的子类。Cat和Dog类似。\n",
        "\n",
        "是子类获得了父类的全部功能。由于Animial实现了run()方法，因此，Dog和Cat作为它的子类，什么事也没干，就自动拥有了run()方法：  \n",
        "\n",
        "当子类和父类都存在相同的run()方法时，我们说，子类的run()覆盖了父类的run()，在代码运行的时候，总是会调用子类的run()\n",
        "继承的另一个好处：多态\n",
        "\n",
        "定义一个class的时候，我们实际上就定义了一种数据类型。我们定义的数据类型和Python自带的数据类型，比如str、list、dict没什么两样：\n",
        "\n",
        "判断一个变量是否是某个类型可以用isinstance()判断：\n",
        "\n",
        "```\n",
        "a = list() # a是list类型\n",
        "b = Animal() # b是Animal类型\n",
        "c = Dog() # c是Dog类型\n",
        "\n",
        ">>> isinstance(a, list)\n",
        "True\n",
        ">>> isinstance(b, Animal)\n",
        "True\n",
        ">>> isinstance(c, Dog)\n",
        "True\n",
        "```\n",
        "\n",
        "在继承关系中，如果一个实例的数据类型是某个子类，那它的数据类型也可以被看做是父类。但是，反过来就不行"
      ]
    },
    {
      "cell_type": "markdown",
      "metadata": {
        "id": "E6hTRDAjdYLR",
        "colab_type": "text"
      },
      "source": [
        "理解多态的好处，我们还需要再编写一个函数，这个函数接受一个Animal类型的变量：\n",
        "\n",
        "\n",
        "\n",
        "```\n",
        "def run_twice(animal):\n",
        "    animal.run()\n",
        "    animal.run()\n",
        "```\n",
        "传入Animal的实例时，run_twice()就打印出\n",
        "\n",
        "\n",
        "```\n",
        ">>> run_twice(Animal())\n",
        "Animal is running...\n",
        "Animal is running...\n",
        "```\n",
        "传入Dog的实例时，run_twice()就打印出：\n",
        "\n",
        "\n",
        "```\n",
        ">>> run_twice(Dog())\n",
        "Dog is running...\n",
        "Dog is running...\n",
        "```\n",
        "\n",
        "当我们传入Cat的实例时，run_twice()就打印出：\n",
        "\n",
        "```\n",
        ">>> run_twice(Cat())\n",
        "Cat is running...\n",
        "Cat is running...\n",
        "```\n",
        "再定义一个Tortoise类型，也从Animal派生：\n",
        "\n",
        "```\n",
        "class Tortoise(Animal):\n",
        "    def run(self):\n",
        "        print('Tortoise is running slowly...')\n",
        "```\n",
        "调用run_twice()时，传入Tortoise的实例：\n",
        "\n",
        "\n",
        "```\n",
        ">>> run_twice(Tortoise())\n",
        "Tortoise is running slowly...\n",
        "Tortoise is running slowly...\n",
        "```\n",
        "\n",
        "新增一个Animal的子类，不必对run_twice()做任何修改，实际上，任何依赖Animal作为参数的函数或者方法都可以不加修改地正常运行，原因就在于多态。\n",
        "\n",
        "多态的好处就是，当我们需要传入Dog、Cat、Tortoise……时，我们只需要接收Animal类型就可以了，因为Dog、Cat、Tortoise……都是Animal类型，然后，按照Animal类型进行操作即可。由于Animal类型有run()方法，因此，传入的任意类型，只要是Animal类或者子类，就会自动调用实际类型的run()方法，这就是多态的意思：\n",
        "\n",
        "对于一个变量，我们只需要知道它是Animal类型，无需确切地知道它的子类型，就可以放心地调用run()方法，而具体调用的run()方法是作用在Animal、Dog、Cat还是Tortoise对象上，由运行时该对象的确切类型决定，这就是多态真正的威力：调用方只管调用，不管细节，而当我们新增一种Animal的子类时，只要确保run()方法编写正确，不用管原来的代码是如何调用的。这就是著名的“开闭”原则：\n",
        "\n",
        "\n",
        "\n"
      ]
    },
    {
      "cell_type": "markdown",
      "metadata": {
        "id": "KKLdT-9XdYJf",
        "colab_type": "text"
      },
      "source": [
        "#### 小结\n",
        "继承可以把父类的所有功能都直接拿过来，这样就不必重零做起，子类只需要新增自己特有的方法，也可以把父类不适合的方法覆盖重写。\n"
      ]
    },
    {
      "cell_type": "markdown",
      "metadata": {
        "id": "z7sJQh-piVTm",
        "colab_type": "text"
      },
      "source": [
        "\n",
        "### 获取对象信息"
      ]
    },
    {
      "cell_type": "markdown",
      "metadata": {
        "id": "SJLGxpSpiVcn",
        "colab_type": "text"
      },
      "source": [
        "\n",
        "\n",
        "*   使用type()\n",
        "\n",
        "\n",
        "\n",
        "```\n",
        ">>> type(123)\n",
        "<class 'int'>\n",
        ">>> type('str')\n",
        "<class 'str'>\n",
        ">>> type(None)\n",
        "<type(None) 'NoneType'>\n",
        "```\n",
        "如果一个变量指向函数或者类，也可以用type()判断：\n",
        "\n",
        "\n",
        "```\n",
        ">>> type(abs)\n",
        "<class 'builtin_function_or_method'>\n",
        ">>> type(a)\n",
        "<class '__main__.Animal'>\n",
        "```\n",
        "type()函数返回的是什么类型呢？它返回对应的Class类型。如果我们要在if语句中判断，就需要比较两个变量的type类型是否相同：\n",
        "\n",
        "```\n",
        ">>> type(123)==type(456)\n",
        "True\n",
        ">>> type(123)==int\n",
        "True\n",
        ">>> type('abc')==type('123')\n",
        "True\n",
        ">>> type('abc')==str\n",
        "True\n",
        ">>> type('abc')==type(123)\n",
        "False\n",
        "```\n",
        "判断一个对象是否是函数怎么办？可以使用types模块中定义的常量：\n",
        "\n",
        "\n",
        "```\n",
        ">>> import types\n",
        ">>> def fn():\n",
        "...     pass\n",
        "...\n",
        ">>> type(fn)==types.FunctionType\n",
        "True\n",
        ">>> type(abs)==types.BuiltinFunctionType\n",
        "True\n",
        ">>> type(lambda x: x)==types.LambdaType\n",
        "True\n",
        ">>> type((x for x in range(10)))==types.GeneratorType\n",
        "True\n",
        "```\n",
        "\n",
        "\n",
        "\n",
        "\n"
      ]
    },
    {
      "cell_type": "markdown",
      "metadata": {
        "id": "Eg6h3YBriVkk",
        "colab_type": "text"
      },
      "source": [
        "*   使用isinstance()\n",
        "对于class的继承关系来说，使用type()就很不方便。我们要判断class的类型，可以使用isinstance()函数  \n",
        "\n",
        "如果继承关系是：\n",
        "\n",
        "```\n",
        "object -> Animal -> Dog -> Husky\n",
        "```\n",
        "isinstance()就可以告诉我们，一个对象是否是某种类型。\n",
        "\n",
        "```\n",
        ">>> a = Animal()\n",
        ">>> d = Dog()\n",
        ">>> h = Husky()\n",
        "```\n",
        "\n",
        "\n",
        "```\n",
        ">>> isinstance(h, Husky)\n",
        "True\n",
        ">>> isinstance(h, Dog)\n",
        "True\n",
        ">>> isinstance(h, Animal)\n",
        "True\n",
        ">>> isinstance(d, Dog) and isinstance(d, Animal)\n",
        "True\n",
        "```\n",
        "\n",
        "\n",
        "\n"
      ]
    },
    {
      "cell_type": "markdown",
      "metadata": {
        "id": "j-LyJ15_iVoi",
        "colab_type": "text"
      },
      "source": [
        "能用type()判断的基本类型也可以用isinstance()判断：\n",
        "\n",
        "```\n",
        ">>> isinstance('a', str)\n",
        "True\n",
        ">>> isinstance(123, int)\n",
        "True\n",
        ">>> isinstance(b'a', bytes)\n",
        "True\n",
        "```\n",
        "一个变量是否是某些类型中的一种，比如下面的代码就可以判断是否是list或者tuple：\n",
        "\n",
        "```\n",
        ">>> isinstance([1, 2, 3], (list, tuple))\n",
        "True\n",
        ">>> isinstance((1, 2, 3), (list, tuple))\n",
        "True\n",
        "```\n",
        "\n",
        "\n"
      ]
    },
    {
      "cell_type": "markdown",
      "metadata": {
        "id": "x_eP9ccaiVsE",
        "colab_type": "text"
      },
      "source": [
        "*  使用dir()\n",
        "要获得一个对象的所有属性和方法，可以使用dir()函数，它返回一个包含字符串的list，比如，获得一个str对象的所有属性和方法：\n",
        "\n",
        "\n",
        "```\n",
        ">>> dir('ABC')\n",
        "['__add__', '__class__',..., '__subclasshook__', 'capitalize', 'casefold',..., 'zfill']\n",
        "```\n",
        "类似__xxx__的属性和方法在Python中都是有特殊用途的，比如__len__方法返回长度。在Python中，如果你调用len()函数试图获取一个对象的长度，实际上，在len()函数内部，它自动去调用该对象的__len__()方法，所以，下面的代码是等价的：\n",
        "\n",
        "```\n",
        ">>> len('ABC')\n",
        "3\n",
        ">>> 'ABC'.__len__()\n",
        "3\n",
        "```\n",
        "自己写的类，如果也想用len(myObj)的话，就自己写一个__len__()方法：\n",
        "\n",
        "```\n",
        ">>> class MyDog(object):\n",
        "...     def __len__(self):\n",
        "...         return 100\n",
        "...\n",
        ">>> dog = MyDog()\n",
        ">>> len(dog)\n",
        "100\n",
        "```\n",
        "\n",
        "\n",
        "\n"
      ]
    },
    {
      "cell_type": "markdown",
      "metadata": {
        "id": "U_uorjxBiVvi",
        "colab_type": "text"
      },
      "source": [
        "lower()返回小写的字符串\n",
        "\n",
        "\n",
        "```\n",
        ">>> 'ABC'.lower()\n",
        "'abc'\n",
        "```\n",
        "配合getattr()、setattr()以及hasattr()，我们可以直接操作一个对象的状态：\n",
        "\n",
        "```\n",
        ">>> class MyObject(object):\n",
        "...     def __init__(self):\n",
        "...         self.x = 9\n",
        "...     def power(self):\n",
        "...         return self.x * self.x\n",
        "...\n",
        ">>> obj = MyObject()\n",
        "```\n",
        "\n",
        "测试该对象的属性：\n",
        "\n",
        "\n",
        "```\n",
        ">>> hasattr(obj, 'x') # 有属性'x'吗？\n",
        "True\n",
        ">>> obj.x\n",
        "9\n",
        ">>> hasattr(obj, 'y') # 有属性'y'吗？\n",
        "False\n",
        ">>> setattr(obj, 'y', 19) # 设置一个属性'y'\n",
        ">>> hasattr(obj, 'y') # 有属性'y'吗？\n",
        "True\n",
        ">>> getattr(obj, 'y') # 获取属性'y'\n",
        "19\n",
        ">>> obj.y # 获取属性'y'\n",
        "19\n",
        "```\n",
        "\n",
        "hasattr() 测试对象属性\n",
        "setattr() 设置对象属性\n",
        "getattr() 获取对象属性\n",
        "可以传入一个default参数，如果属性不存在，就返回默认值：\n",
        "\n",
        "\n",
        "```\n",
        ">>> getattr(obj, 'z', 404) # 获取属性'z'，如果不存在，返回默认值404\n",
        "404\n",
        "```\n",
        "\n",
        "获得对象的方法\n",
        "\n",
        "\n",
        "```\n",
        ">>> hasattr(obj, 'power') # 有属性'power'吗？\n",
        "True\n",
        ">>> getattr(obj, 'power') # 获取属性'power'\n",
        "<bound method MyObject.power of <__main__.MyObject object at 0x10077a6a0>>\n",
        ">>> fn = getattr(obj, 'power') # 获取属性'power'并赋值到变量fn\n",
        ">>> fn # fn指向obj.power\n",
        "<bound method MyObject.power of <__main__.MyObject object at 0x10077a6a0>>\n",
        ">>> fn() # 调用fn()与调用obj.power()是一样的\n",
        "81\n",
        "```\n",
        "\n"
      ]
    },
    {
      "cell_type": "markdown",
      "metadata": {
        "id": "ApwXH89SiVyt",
        "colab_type": "text"
      },
      "source": [
        "#### 小结\n",
        "通过内置的一系列函数，我们可以对任意一个Python对象进行剖析，拿到其内部的数据\n",
        "\n",
        "\n",
        "```\n",
        "def readImage(fp):\n",
        "    if hasattr(fp, 'read'):\n",
        "        return readData(fp)\n",
        "    return None\n",
        "```\n",
        "希望从文件流fp中读取图像，我们首先要判断该fp对象是否存在read方法，如果存在，则该对象是一个流，如果不存在，则无法读取。hasattr()就派上了用场\n",
        "在Python这类动态语言中，根据鸭子类型，有read()方法，不代表该fp对象就是一个文件流，它也可能是网络流，也可能是内存中的一个字节流，但只要read()方法返回的是有效的图像数据，就不影响读取图像的功能。"
      ]
    },
    {
      "cell_type": "markdown",
      "metadata": {
        "id": "fVZIFGzTiV1x",
        "colab_type": "text"
      },
      "source": [
        "### 实例属性和类属性"
      ]
    },
    {
      "cell_type": "markdown",
      "metadata": {
        "id": "ekka6Pn7iV5V",
        "colab_type": "text"
      },
      "source": [
        "由于Python是动态语言，根据类创建的实例可以任意绑定属性。\n",
        "\n",
        "给实例绑定属性的方法是通过实例变量，或者通过self变量：\n",
        "\n",
        "\n",
        "```\n",
        "class Student(object):\n",
        "    def __init__(self, name):\n",
        "        self.name = name\n",
        "\n",
        "s = Student('Bob')\n",
        "s.score = 90\n",
        "```\n",
        "如果Student类本身需要绑定一个属性呢？可以直接在class中定义属性，这种属性是类属性，归Student类所有：\n",
        "\n",
        "\n",
        "```\n",
        "class Student(object):\n",
        "    name = 'Student'\n",
        "```\n",
        "定义了一个类属性后，这个属性虽然归类所有，但类的所有实例都可以访问到。\n",
        "\n",
        "```\n",
        ">>> class Student(object):\n",
        "...     name = 'Student'\n",
        "...\n",
        ">>> s = Student() # 创建实例s\n",
        ">>> print(s.name) # 打印name属性，因为实例并没有name属性，所以会继续查找class的name属性\n",
        "Student\n",
        ">>> print(Student.name) # 打印类的name属性\n",
        "Student\n",
        ">>> s.name = 'Michael' # 给实例绑定name属性\n",
        ">>> print(s.name) # 由于实例属性优先级比类属性高，因此，它会屏蔽掉类的name属性\n",
        "Michael\n",
        ">>> print(Student.name) # 但是类属性并未消失，用Student.name仍然可以访问\n",
        "Student\n",
        ">>> del s.name # 如果删除实例的name属性\n",
        ">>> print(s.name) # 再次调用s.name，由于实例的name属性没有找到，类的name属性就显示出来了\n",
        "Student\n",
        "```\n",
        "\n",
        "千万不要对实例属性和类属性使用相同的名字，因为相同名称的实例属性将屏蔽掉类属性，但是当你删除实例属性后，再使用相同的名称，访问到的将是类属性。\n",
        "\n",
        "\n"
      ]
    },
    {
      "cell_type": "markdown",
      "metadata": {
        "id": "qX44mr_OiV8-",
        "colab_type": "text"
      },
      "source": [
        "为了统计学生人数，可以给Student类增加一个类属性，每创建一个实例，该属性自动增加："
      ]
    },
    {
      "cell_type": "markdown",
      "metadata": {
        "id": "Fxav3lFGiWB9",
        "colab_type": "text"
      },
      "source": [
        ""
      ]
    },
    {
      "cell_type": "code",
      "metadata": {
        "id": "9tX4CVCaq14s",
        "colab_type": "code",
        "colab": {}
      },
      "source": [
        "class Student(object):\n",
        "    count = 0\n",
        "\n",
        "    def __init__(self, name):\n",
        "        self.name = name\n",
        "        Student.count+=1"
      ],
      "execution_count": 0,
      "outputs": []
    },
    {
      "cell_type": "code",
      "metadata": {
        "id": "8B-f4aqbq-_u",
        "colab_type": "code",
        "outputId": "cd52bc31-a1bb-4620-9288-b70cd1482110",
        "colab": {
          "base_uri": "https://localhost:8080/",
          "height": 34
        }
      },
      "source": [
        "bart = Student('Bart')\n",
        "Student.count"
      ],
      "execution_count": 0,
      "outputs": [
        {
          "output_type": "execute_result",
          "data": {
            "text/plain": [
              "1"
            ]
          },
          "metadata": {
            "tags": []
          },
          "execution_count": 8
        }
      ]
    },
    {
      "cell_type": "code",
      "metadata": {
        "id": "2_NCPlrarEXj",
        "colab_type": "code",
        "outputId": "8e0986e0-c42d-44f4-fa28-50315fca52fe",
        "colab": {
          "base_uri": "https://localhost:8080/",
          "height": 34
        }
      },
      "source": [
        "bart2 = Student('Bart2')\n",
        "Student.count"
      ],
      "execution_count": 0,
      "outputs": [
        {
          "output_type": "execute_result",
          "data": {
            "text/plain": [
              "2"
            ]
          },
          "metadata": {
            "tags": []
          },
          "execution_count": 9
        }
      ]
    },
    {
      "cell_type": "markdown",
      "metadata": {
        "id": "2taLvg8LiWFc",
        "colab_type": "text"
      },
      "source": [
        "*** \n",
        "***"
      ]
    },
    {
      "cell_type": "markdown",
      "metadata": {
        "id": "EKYeE0wCxjw6",
        "colab_type": "text"
      },
      "source": [
        "# 面向对象高级编程"
      ]
    },
    {
      "cell_type": "markdown",
      "metadata": {
        "id": "vq3r4e-fxqOM",
        "colab_type": "text"
      },
      "source": [
        "数据封装、继承和多态只是面向对象程序设计中最基础的3个概念。在Python中，面向对象还有很多高级特性，允许我们写出非常强大的功能。  \n",
        "\n",
        "\n",
        "*   多重继承\n",
        "*   定制类\n",
        "*   元类\n",
        "\n",
        "\n"
      ]
    },
    {
      "cell_type": "markdown",
      "metadata": {
        "id": "pAeHZ1FCxqTU",
        "colab_type": "text"
      },
      "source": [
        "###  使用`__slots__`\n",
        "\n",
        "1.   定义class\n",
        "2.   给实例绑定一个属性\n",
        "3.   给实例绑定一个方法 （给一个实例绑定的方法，对另一个实例是不起作用）\n",
        "4.   为了给所有实例都绑定方法，可以给class绑定方法\n",
        "\n",
        "\n",
        "我们想要限制实例的属性怎么办？比如，只允许对Student实例添加name和age属性。\n",
        "为了达到限制的目的，Python允许在定义class的时候，定义一个特殊的__slots__变量，来限制该class实例能添加的属性：\n",
        "\n",
        "```\n",
        "class Student(object):\n",
        "    __slots__ = ('name', 'age')  # 用tuple定义允许绑定的属性名称\n",
        "```\n",
        "\n"
      ]
    },
    {
      "cell_type": "code",
      "metadata": {
        "id": "tivh-UE21cb1",
        "colab_type": "code",
        "colab": {}
      },
      "source": [
        "class Student(object):\n",
        "     __slots__ = ('name', 'age')\n",
        "        "
      ],
      "execution_count": 0,
      "outputs": []
    },
    {
      "cell_type": "code",
      "metadata": {
        "id": "o8bRX_Dg1mFT",
        "colab_type": "code",
        "colab": {}
      },
      "source": [
        "s = Student()\n",
        "s.name = 'Michael'\n",
        "s.age = 25"
      ],
      "execution_count": 0,
      "outputs": []
    },
    {
      "cell_type": "code",
      "metadata": {
        "id": "aza1_DKe1sgD",
        "colab_type": "code",
        "outputId": "2dbe8d26-2ea0-4a66-d385-b19fff917c79",
        "colab": {
          "base_uri": "https://localhost:8080/",
          "height": 181
        }
      },
      "source": [
        "s.score = 99"
      ],
      "execution_count": 0,
      "outputs": [
        {
          "output_type": "error",
          "ename": "AttributeError",
          "evalue": "ignored",
          "traceback": [
            "\u001b[0;31m---------------------------------------------------------------------------\u001b[0m",
            "\u001b[0;31mAttributeError\u001b[0m                            Traceback (most recent call last)",
            "\u001b[0;32m<ipython-input-3-43bad5f5e779>\u001b[0m in \u001b[0;36m<module>\u001b[0;34m()\u001b[0m\n\u001b[0;32m----> 1\u001b[0;31m \u001b[0ms\u001b[0m\u001b[0;34m.\u001b[0m\u001b[0mscore\u001b[0m \u001b[0;34m=\u001b[0m \u001b[0;36m99\u001b[0m\u001b[0;34m\u001b[0m\u001b[0;34m\u001b[0m\u001b[0m\n\u001b[0m",
            "\u001b[0;31mAttributeError\u001b[0m: 'Student' object has no attribute 'score'"
          ]
        }
      ]
    },
    {
      "cell_type": "markdown",
      "metadata": {
        "id": "oaDZ_oflxqWR",
        "colab_type": "text"
      },
      "source": [
        "使用`__slots__`要注意，`__slots__`定义的属性仅对当前类实例起作用，对继承的子类是不起作用的"
      ]
    },
    {
      "cell_type": "markdown",
      "metadata": {
        "id": "n2BdOO1sxqZQ",
        "colab_type": "text"
      },
      "source": [
        "### 使用@property  \n",
        "在绑定属性时，如果我们直接把属性暴露出去，虽然写起来很简单，但是，没办法检查参数，导致可以把成绩随便改  \n",
        "为了限制score的范围，可以通过一个set_score()方法来设置成绩，再通过一个get_score()来获取成绩，这样，在set_score()方法里，就可以检查参数：\n",
        "\n",
        "```\n",
        "class Student(object):\n",
        "\n",
        "    def get_score(self):\n",
        "         return self._score\n",
        "\n",
        "    def set_score(self, value):\n",
        "        if not isinstance(value, int):\n",
        "            raise ValueError('score must be an integer!')\n",
        "        if value < 0 or value > 100:\n",
        "            raise ValueError('score must between 0 ~ 100!')\n",
        "        self._score = value\n",
        "```\n",
        "\n",
        "既能检查参数，又可以用类似属性这样简单的方式来访问类的变量  \n",
        "\n",
        "Python内置的@property装饰器就是负责把一个方法变成属性调用  \n",
        "\n"
      ]
    },
    {
      "cell_type": "code",
      "metadata": {
        "id": "lUSiO6yD6BS0",
        "colab_type": "code",
        "colab": {}
      },
      "source": [
        "class Student(object):\n",
        "\n",
        "    @property\n",
        "    def score(self):\n",
        "        return self._score\n",
        "\n",
        "    @score.setter\n",
        "    def score(self, value):\n",
        "        if not isinstance(value, int):\n",
        "            raise ValueError('score must be an integer!')\n",
        "        if value < 0 or value > 100:\n",
        "            raise ValueError('score must between 0 ~ 100!')\n",
        "        self._score = value"
      ],
      "execution_count": 0,
      "outputs": []
    },
    {
      "cell_type": "markdown",
      "metadata": {
        "id": "VjOQvOGXxqbt",
        "colab_type": "text"
      },
      "source": [
        "定义只读属性"
      ]
    },
    {
      "cell_type": "code",
      "metadata": {
        "id": "plmeknvn7l1g",
        "colab_type": "code",
        "colab": {}
      },
      "source": [
        "class Student(object):\n",
        "\n",
        "    @property\n",
        "    def birth(self):\n",
        "        return self._birth\n",
        "\n",
        "    @birth.setter\n",
        "    def birth(self, value):\n",
        "        self._birth = value\n",
        "\n",
        "    @property\n",
        "    def age(self):\n",
        "        return 2015 - self._birth"
      ],
      "execution_count": 0,
      "outputs": []
    },
    {
      "cell_type": "markdown",
      "metadata": {
        "id": "2vvk69IRxqem",
        "colab_type": "text"
      },
      "source": [
        "### 多重继承  \n",
        "\n",
        "继承是面向对象编程的一个重要的方式，因为通过继承，子类就可以扩展父类的功能。"
      ]
    },
    {
      "cell_type": "markdown",
      "metadata": {
        "id": "_DaF4-_cxqhU",
        "colab_type": "text"
      },
      "source": [
        "通过多重继承，一个子类就可以同时获得多个父类的所有功能。"
      ]
    },
    {
      "cell_type": "markdown",
      "metadata": {
        "id": "XFsOObcVxqo0",
        "colab_type": "text"
      },
      "source": [
        "### MixIn  \n",
        "MixIn的目的就是给一个类增加多个功能，这样，在设计类的时候，我们优先考虑通过多重继承来组合多个MixIn的功能，而不是设计多层次的复杂的继承关系"
      ]
    },
    {
      "cell_type": "markdown",
      "metadata": {
        "id": "PwAs4TpQxqsJ",
        "colab_type": "text"
      },
      "source": [
        "编写一个多进程模式的TCP服务"
      ]
    },
    {
      "cell_type": "code",
      "metadata": {
        "id": "EPZbMKxb_Dqi",
        "colab_type": "code",
        "colab": {}
      },
      "source": [
        "class MyTCPServer(TCPServer, ForkingMixIn):\n",
        "    pass"
      ],
      "execution_count": 0,
      "outputs": []
    },
    {
      "cell_type": "markdown",
      "metadata": {
        "id": "hh-Gys-dxquz",
        "colab_type": "text"
      },
      "source": [
        "编写一个多线程模式的UDP服务"
      ]
    },
    {
      "cell_type": "code",
      "metadata": {
        "id": "Eu_84MJF_IcE",
        "colab_type": "code",
        "colab": {}
      },
      "source": [
        "class MyUDPServer(UDPServer, ThreadingMixIn):\n",
        "    pass"
      ],
      "execution_count": 0,
      "outputs": []
    },
    {
      "cell_type": "markdown",
      "metadata": {
        "id": "_9xQEbGwxqxe",
        "colab_type": "text"
      },
      "source": [
        "打算搞一个更先进的协程模型，可以编写一个CoroutineMixIn"
      ]
    },
    {
      "cell_type": "code",
      "metadata": {
        "id": "ywpycBVY_Npg",
        "colab_type": "code",
        "colab": {}
      },
      "source": [
        "class MyTCPServer(TCPServer, CoroutineMixIn):\n",
        "    pass"
      ],
      "execution_count": 0,
      "outputs": []
    },
    {
      "cell_type": "markdown",
      "metadata": {
        "id": "uE0pbaKexq0H",
        "colab_type": "text"
      },
      "source": [
        "### 定制类"
      ]
    },
    {
      "cell_type": "markdown",
      "metadata": {
        "id": "mcNVbwCUxq2t",
        "colab_type": "text"
      },
      "source": [
        "`__str__`()方法\n",
        "\n",
        "```\n",
        "class Student(object):\n",
        "    def __init__(self, name):\n",
        "        self.name = name\n",
        "    def __str__(self):\n",
        "        return 'Student object (name=%s)' % self.name\n",
        "```\n",
        "直接显示变量调用的不是`__str__`()，而是`__repr__`()，两者的区别是`__str__`()返回用户看到的字符串，而`__repr__`()返回程序开发者看到的字符串，也就是说，_`_repr__`()是为调试服务的。\n",
        "\n",
        "\n",
        "```\n",
        "class Student(object):\n",
        "    def __init__(self, name):\n",
        "        self.name = name\n",
        "    def __str__(self):\n",
        "        return 'Student object (name=%s)' % self.name\n",
        "    __repr__ = __str__\n",
        "```\n",
        "\n"
      ]
    },
    {
      "cell_type": "markdown",
      "metadata": {
        "id": "gTKEmCqmFHBQ",
        "colab_type": "text"
      },
      "source": [
        "`__iter__`  \n",
        "如果一个类想被用于for ... in循环，类似list或tuple那样，就必须实现一个`__iter__()`方法，该方法返回一个迭代对象，然后，Python的for循环就会不断调用该迭代对象的`__next__()`方法拿到循环的下一个值，直到遇到StopIteration错误时退出循环。\n",
        "\n",
        "\n",
        "```\n",
        "class Fib(object):\n",
        "    def __init__(self):\n",
        "        self.a, self.b = 0, 1 # 初始化两个计数器a，b\n",
        "\n",
        "    def __iter__(self):\n",
        "        return self # 实例本身就是迭代对象，故返回自己\n",
        "\n",
        "    def __next__(self):\n",
        "        self.a, self.b = self.b, self.a + self.b # 计算下一个值\n",
        "        if self.a > 100000: # 退出循环的条件\n",
        "            raise StopIteration()\n",
        "        return self.a # 返回下一个值\n",
        "```\n",
        "\n",
        "***\n",
        "\n",
        "```\n",
        " for n in Fib():\n",
        "             print(n)\n",
        "```\n",
        "\n"
      ]
    },
    {
      "cell_type": "markdown",
      "metadata": {
        "id": "3O1tHA-eFHMq",
        "colab_type": "text"
      },
      "source": [
        "`__getitem__`  \n",
        "表现得像list那样按照下标取出元素，需要实现`__getitem__`()方法：\n",
        "\n",
        "```\n",
        "class Fib(object):\n",
        "    def __getitem__(self, n):\n",
        "        a, b = 1, 1\n",
        "        for x in range(n):\n",
        "            a, b = b, a + b\n",
        "        return a\n",
        "```\n",
        "\n",
        "list有个神奇的切片方法：  \n",
        "对于Fib却报错。原因是`__getitem__`()传入的参数可能是一个int，也可能是一个切片对象slice，所以要做判断：\n",
        "\n",
        "\n",
        "```\n",
        "lass Fib(object):\n",
        "    def __getitem__(self, n):\n",
        "        if isinstance(n, int): # n是索引\n",
        "            a, b = 1, 1\n",
        "            for x in range(n):\n",
        "                a, b = b, a + b\n",
        "            return a\n",
        "        if isinstance(n, slice): # n是切片\n",
        "            start = n.start\n",
        "            stop = n.stop\n",
        "            if start is None:\n",
        "                start = 0\n",
        "            a, b = 1, 1\n",
        "            L = []\n",
        "            for x in range(stop):\n",
        "                if x >= start:\n",
        "                    L.append(a)\n",
        "                a, b = b, a + b\n",
        "            return L\n",
        "```\n",
        "\n"
      ]
    },
    {
      "cell_type": "markdown",
      "metadata": {
        "id": "m0KlT9xtFHQp",
        "colab_type": "text"
      },
      "source": [
        "`__getattr__`  \n",
        "写一个`__getattr__`()方法，动态返回一个属性\n",
        "\n",
        "\n",
        "```\n",
        "class Student(object):\n",
        "\n",
        "    def __init__(self):\n",
        "        self.name = 'Michael'\n",
        "\n",
        "    def __getattr__(self, attr):\n",
        "        if attr=='score':\n",
        "            return 99\n",
        "```\n",
        "任意调用如s.abc都会返回None，这是因为我们定义的__getattr__默认返回就是None。要让class只响应特定的几个属性，我们就要按照约定，抛出AttributeError的错误：\n",
        "\n",
        "```\n",
        "class Student(object):\n",
        "\n",
        "    def __getattr__(self, attr):\n",
        "        if attr=='age':\n",
        "            return lambda: 25\n",
        "        raise AttributeError('\\'Student\\' object has no attribute \\'%s\\'' % attr)\n",
        "```\n",
        "\n",
        "\n",
        "以针对完全动态的情况作调用。\n",
        "利用完全动态的__getattr__，我们可以写出一个链式调用：\n",
        "\n",
        "```\n",
        "class Chain(object):\n",
        "\n",
        "    def __init__(self, path=''):\n",
        "        self._path = path\n",
        "\n",
        "    def __getattr__(self, path):\n",
        "        return Chain('%s/%s' % (self._path, path))\n",
        "\n",
        "    def __str__(self):\n",
        "        return self._path\n",
        "\n",
        "    __repr__ = __str__\n",
        "```\n",
        "无论API怎么变，SDK都可以根据URL实现完全动态的调用，而且，不随API的增加而改变！\n",
        "\n",
        "有些REST API会把参数放到URL中，比如GitHub的API：\n",
        "\n",
        "\n",
        "```\n",
        "GET /users/:user/repos\n",
        "```\n",
        "\n",
        "调用时，需要把:user替换为实际用户名。如果我们能写出这样的链式调用：\n",
        "\n",
        "\n",
        "```\n",
        "Chain().users('michael').repos\n",
        "```\n",
        "\n"
      ]
    },
    {
      "cell_type": "markdown",
      "metadata": {
        "id": "TyJbjf89FHTJ",
        "colab_type": "text"
      },
      "source": [
        "`__call__`\n",
        "\n",
        "\n",
        "```\n",
        "class Student(object):\n",
        "    def __init__(self, name):\n",
        "        self.name = name\n",
        "\n",
        "    def __call__(self):\n",
        "        print('My name is %s.' % self.name)\n",
        "```\n",
        "***\n",
        "\n",
        "\n",
        "```\n",
        ">>> s = Student('Michael')\n",
        ">>> s() # self参数不要传入\n",
        "My name is Michael.\n",
        "```\n",
        "么判断一个变量是对象还是函数呢？其实，更多的时候，我们需要判断一个对象是否能被调用，能被调用的对象就是一个Callable对象，比如函数和我们上面定义的带有`__call__`()的类实例：\n",
        "\n",
        "\n",
        "```\n",
        ">>> callable(Student())\n",
        "True\n",
        ">>> callable(max)\n",
        "True\n",
        ">>> callable([1, 2, 3])\n",
        "False\n",
        ">>> callable(None)\n",
        "False\n",
        ">>> callable('str')\n",
        "False\n",
        "```\n",
        "\n",
        "[Python的官方文档](https://docs.python.org/3/reference/datamodel.html#special-method-names)\n"
      ]
    },
    {
      "cell_type": "markdown",
      "metadata": {
        "id": "sEsUaT2XFHV-",
        "colab_type": "text"
      },
      "source": [
        "### 使用枚举类\n",
        "这样的枚举类型定义一个class类型，然后，每个常量都是class的一个唯一实例。Python提供了Enum类来实现这个功能：\n",
        "\n",
        "```\n",
        "from enum import Enum\n",
        "\n",
        "Month = Enum('Month', ('Jan', 'Feb', 'Mar', 'Apr', 'May', 'Jun', 'Jul', 'Aug', 'Sep', 'Oct', 'Nov', 'Dec'))\n",
        "```\n",
        "\n",
        "获得了Month类型的枚举类，可以直接使用Month.Jan来引用一个常量，或者枚举它的所有成员：\n",
        "\n",
        "```\n",
        "  for name, member in Month.__members__.items():\n",
        "    print(name, '=>', member, ',', member.value)\n",
        "\n",
        "```\n",
        "\n"
      ]
    },
    {
      "cell_type": "markdown",
      "metadata": {
        "id": "qHheu6bnJ3_j",
        "colab_type": "text"
      },
      "source": [
        "需要更精确地控制枚举类型，可以从Enum派生出自定义类：\n",
        "\n",
        "```\n",
        "from enum import Enum, unique\n",
        "\n",
        "@unique\n",
        "class Weekday(Enum):\n",
        "    Sun = 0 # Sun的value被设定为0\n",
        "    Mon = 1\n",
        "    Tue = 2\n",
        "    Wed = 3\n",
        "    Thu = 4\n",
        "    Fri = 5\n",
        "    Sat = 6\n",
        "```\n",
        "\n"
      ]
    },
    {
      "cell_type": "markdown",
      "metadata": {
        "id": "dNRN9tN-J4CI",
        "colab_type": "text"
      },
      "source": [
        "@unique装饰器可以帮助我们检查保证没有重复值。"
      ]
    },
    {
      "cell_type": "markdown",
      "metadata": {
        "id": "0_x1j5IQJ4E4",
        "colab_type": "text"
      },
      "source": [
        "把Student的gender属性改造为枚举类型，可以避免使用字符串：\n",
        "\n",
        "\n",
        "```\n",
        "from enum import Enum, unique\n",
        "#Gender = Enum('Gender', ('Male', 'Female'))\n",
        "\n",
        "#@unique\n",
        "class Gender(Enum):\n",
        "    Male = 0\n",
        "    Female = 1\n",
        "\n",
        "#for name, gender in Gender.__members__.items():\n",
        "#    print(name, '=>', member, ',', member.value)\n",
        "\n",
        "class Student(object):\n",
        "    def __init__(self, name, gender):\n",
        "        self.name = name\n",
        "        self.gender = gender\n",
        "\n",
        "```\n",
        "\n"
      ]
    },
    {
      "cell_type": "markdown",
      "metadata": {
        "id": "NEzV6ExNMwXi",
        "colab_type": "text"
      },
      "source": [
        "###  使用元类"
      ]
    },
    {
      "cell_type": "markdown",
      "metadata": {
        "id": "OjAHlq8OMwaO",
        "colab_type": "text"
      },
      "source": [
        "#### type() \n",
        "\n",
        "动态语言和静态语言最大的不同，就是函数和类的定义，不是编译时定义的，而是运行时动态创建的。\n",
        "type()函数可以查看一个类型或变量的类型，Hello是一个class，它的类型就是type，而h是一个实例，它的类型就是class Hello。\n",
        "type()函数既可以返回一个对象的类型，又可以创建出新的类型，比如，我们可以通过type()函数创建出Hello类，而无需通过class Hello(object)...的定义：\n",
        "\n",
        "```\n",
        ">>> def fn(self, name='world'): # 先定义函数\n",
        "...     print('Hello, %s.' % name)\n",
        "...\n",
        ">>> Hello = type('Hello', (object,), dict(hello=fn)) # 创建Hello class\n",
        ">>> h = Hello()\n",
        ">>> h.hello()\n",
        "Hello, world.\n",
        ">>> print(type(Hello))\n",
        "<class 'type'>\n",
        ">>> print(type(h))\n",
        "<class '__main__.Hello'>\n",
        "```\n",
        "\n"
      ]
    },
    {
      "cell_type": "markdown",
      "metadata": {
        "id": "QiM2I_9xMwdY",
        "colab_type": "text"
      },
      "source": [
        "创建一个class对象，type()函数依次传入3个参数\n",
        "\n",
        "1.   class的名称；\n",
        "\n",
        "\n",
        "2.   继承的父类集合，注意Python支持多重继承，如果只有一个父类，别忘了tuple的单元素写法；\n",
        "\n",
        "\n",
        "3.   class的方法名称与函数绑定，这里我们把函数fn绑定到方法名hello上。\n",
        "\n",
        "type()函数也允许我们动态创建出类来，也就是说，动态语言本身支持运行期动态创建类，这和静态语言有非常大的不同，要在静态语言运行期创建类，必须构造源代码字符串再调用编译器，或者借助一些工具生成字节码实现，本质上都是动态编译，会非常复杂。\n"
      ]
    },
    {
      "cell_type": "markdown",
      "metadata": {
        "id": "5eNarAvRMwgL",
        "colab_type": "text"
      },
      "source": [
        "#### metaclass"
      ]
    },
    {
      "cell_type": "markdown",
      "metadata": {
        "id": "4KhiR1hFMwnT",
        "colab_type": "text"
      },
      "source": [
        "除了使用type()动态创建类以外，要控制类的创建行为，还可以使用metaclass。 metaclass，直译为元类"
      ]
    },
    {
      "cell_type": "markdown",
      "metadata": {
        "id": "2xe0QwpBMwqO",
        "colab_type": "text"
      },
      "source": [
        "当我们定义了类以后，就可以根据这个类创建出实例，所以：先定义类，然后创建实例。\n",
        "\n",
        "但是如果我们想创建出类呢？那就必须根据metaclass创建出类，所以：先定义metaclass，然后创建类。\n",
        "\n",
        "1.   先定义metaclass\n",
        "2.   创建类\n",
        "\n",
        "3.   创建实例"
      ]
    },
    {
      "cell_type": "markdown",
      "metadata": {
        "id": "hqXcNMAEMws1",
        "colab_type": "text"
      },
      "source": [
        "ORM全称“Object Relational Mapping”，即对象-关系映射，就是把关系数据库的一行映射为一个对象，也就是一个类对应一个表，这样，写代码更简单，不用直接操作SQL语句。"
      ]
    },
    {
      "cell_type": "markdown",
      "metadata": {
        "id": "jBZpXmZbP0Vn",
        "colab_type": "text"
      },
      "source": [
        "要编写一个ORM框架，所有的类都只能动态定义，因为只有使用者才能根据表的结构定义出对应的类来。"
      ]
    },
    {
      "cell_type": "markdown",
      "metadata": {
        "id": "Dl9GNyZUP0Yp",
        "colab_type": "text"
      },
      "source": [
        "编写底层模块的第一步，就是先把调用接口写出来。比如，使用者如果使用这个ORM框架，想定义一个User类来操作对应的数据库表User，我们期待他写出这样的代码："
      ]
    },
    {
      "cell_type": "markdown",
      "metadata": {
        "id": "Zk-Dtx1EP59G",
        "colab_type": "text"
      },
      "source": [
        "\n",
        "\n",
        "```\n",
        "class User(Model):\n",
        "    # 定义类的属性到列的映射：\n",
        "    id = IntegerField('id')\n",
        "    name = StringField('username')\n",
        "    email = StringField('email')\n",
        "    password = StringField('password')\n",
        "\n",
        "# 创建一个实例：\n",
        "u = User(id=12345, name='Michael', email='test@orm.org', password='my-pwd')\n",
        "# 保存到数据库：\n",
        "u.save(\n",
        "```\n",
        "\n"
      ]
    },
    {
      "cell_type": "markdown",
      "metadata": {
        "id": "ul-Af38KP6FP",
        "colab_type": "text"
      },
      "source": [
        "***\n",
        "***"
      ]
    },
    {
      "cell_type": "markdown",
      "metadata": {
        "id": "SzdKavXLRQxH",
        "colab_type": "text"
      },
      "source": [
        " # 错误、调试和测试\n",
        " \n",
        "\n",
        "*   程序编写有问题造成的\n",
        "*   用户输入造成的\n",
        "*   无法在程序运行过程中预测的\n",
        "\n",
        " \n",
        "Python的pdb可以让我们以单步方式执行代码。\n",
        "\n",
        "\n",
        "编写测试也很重要。有了良好的测试，就可以在程序修改后反复运行，确保程序输出符合我们编写的测试。"
      ]
    },
    {
      "cell_type": "markdown",
      "metadata": {
        "id": "AFk7QAKLRRDt",
        "colab_type": "text"
      },
      "source": [
        "### 错误处理  \n",
        "高级语言通常都内置了一套try...except...finally...的错误处理机制"
      ]
    },
    {
      "cell_type": "markdown",
      "metadata": {
        "id": "N3lRbkCvRRTk",
        "colab_type": "text"
      },
      "source": [
        "当我们认为某些代码可能会出错时，就可以用try来运行这段代码，如果执行出错，则后续代码不会继续执行，而是直接跳转至错误处理代码，即except语句块，执行完except后，如果有finally语句块，则执行finally语句块，至此，执行完毕 \n",
        "\n",
        "\n",
        "```\n",
        "try:\n",
        "    print('try...')\n",
        "    r = 10 / 0\n",
        "    print('result:', r)\n",
        "except ZeroDivisionError as e:\n",
        "    print('except:', e)\n",
        "finally:\n",
        "    print('finally...')\n",
        "print('END')\n",
        "```\n",
        "\n",
        "由于没有错误发生，所以except语句块不会被执行，但是finally如果有，则一定会被执行（可以没有finally语句  \n",
        "\n",
        "如果发生了不同类型的错误，应该由不同的except语句块处理。没错，可以有多个except来捕获不同类型的错误：\n",
        "\n",
        "\n",
        "```\n",
        "ry:\n",
        "    print('try...')\n",
        "    r = 10 / int('a')\n",
        "    print('result:', r)\n",
        "except ValueError as e:\n",
        "    print('ValueError:', e)\n",
        "except ZeroDivisionError as e:\n",
        "    print('ZeroDivisionError:', e)\n",
        "finally:\n",
        "    print('finally...')\n",
        "print('END')\n",
        "```\n",
        "如果没有错误发生，可以在except语句块后面加一个else，当没有错误发生时，会自动执行else语句：\n",
        "\n",
        "```\n",
        "try:\n",
        "    print('try...')\n",
        "    r = 10 / int('2')\n",
        "    print('result:', r)\n",
        "except ValueError as e:\n",
        "    print('ValueError:', e)\n",
        "except ZeroDivisionError as e:\n",
        "    print('ZeroDivisionError:', e)\n",
        "else:\n",
        "    print('no error!')\n",
        "finally:\n",
        "    print('finally...')\n",
        "print('END')\n",
        "```\n",
        "Python所有的错误都是从BaseException类派生的  \n",
        "\n",
        "\n",
        "[常见的错误类型和继承关系](https://docs.python.org/3/library/exceptions.html#exception-hierarchy)\n",
        "\n",
        "不需要在每个可能出错的地方去捕获错误，只要在合适的层次去捕获错误就可以了。这样一来，就大大减少了写try...except...finally的麻烦"
      ]
    },
    {
      "cell_type": "markdown",
      "metadata": {
        "id": "jGc_asqcSxVG",
        "colab_type": "text"
      },
      "source": [
        "### 调用栈 \n",
        "如果错误没有被捕获，它就会一直往上抛，最后被Python解释器捕获，打印一个错误信息，然后程序退出。"
      ]
    },
    {
      "cell_type": "markdown",
      "metadata": {
        "id": "s6d4hB7tSxis",
        "colab_type": "text"
      },
      "source": [
        "出错并不可怕，可怕的是不知道哪里出错了。解读错误信息是定位错误的关键。  \n",
        "\n",
        " 出错的时候，一定要分析错误的调用栈信息，才能定位错误的位置。"
      ]
    },
    {
      "cell_type": "markdown",
      "metadata": {
        "id": "TadWnWQSSxlK",
        "colab_type": "text"
      },
      "source": [
        "### 记录错误  \n",
        "\n",
        "如果不捕获错误，自然可以让Python解释器来打印出错误堆栈，但程序也被结束了。既然我们能捕获错误，就可以把错误堆栈打印出来，然后分析错误原因，同时，让程序继续执行下去。  \n",
        "\n",
        "Python内置的logging模块可以非常容易地记录错误信息\n",
        "\n",
        "```\n",
        "import logging\n",
        "\n",
        "def foo(s):\n",
        "    return 10 / int(s)\n",
        "\n",
        "def bar(s):\n",
        "    return foo(s) * 2\n",
        "\n",
        "def main():\n",
        "    try:\n",
        "        bar('0')\n",
        "    except Exception as e:\n",
        "        logging.exception(e)\n",
        "\n",
        "main()\n",
        "print('END')\n",
        "```\n",
        "\n",
        "通过配置，logging还可以把错误记录到日志文件里，方便事后排查。"
      ]
    },
    {
      "cell_type": "markdown",
      "metadata": {
        "id": "0dHW_i6RW8qS",
        "colab_type": "text"
      },
      "source": [
        "### 抛出错误\n"
      ]
    },
    {
      "cell_type": "markdown",
      "metadata": {
        "id": "iD4nZQrEXEEr",
        "colab_type": "text"
      },
      "source": [
        "因为错误是class，捕获一个错误就是捕获到该class的一个实例。因此，错误并不是凭空产生的，而是有意创建并抛出的。Python的内置函数会抛出很多类型的错误，我们自己编写的函数也可以抛出错误。\n",
        "\n",
        "如果要抛出错误，首先根据需要，可以定义一个错误的class，选择好继承关系，然后，用raise语句抛出一个错误的实例：\n",
        "\n",
        "\n",
        "```\n",
        "# err_raise.py\n",
        "class FooError(ValueError):\n",
        "    pass\n",
        "\n",
        "def foo(s):\n",
        "    n = int(s)\n",
        "    if n==0:\n",
        "        raise FooError('invalid value: %s' % s)\n",
        "    return 10 / n\n",
        "\n",
        "foo('0')\n",
        "```\n",
        "执行，可以最后跟踪到我们自己定义的错误\n",
        "\n",
        "```\n",
        "$ python3 err_raise.py \n",
        "Traceback (most recent call last):\n",
        "  File \"err_throw.py\", line 11, in <module>\n",
        "    foo('0')\n",
        "  File \"err_throw.py\", line 8, in foo\n",
        "    raise FooError('invalid value: %s' % s)\n",
        "__main__.FooError: invalid value: 0\n",
        "```\n",
        "\n",
        "\n",
        "只有在必要的时候才定义我们自己的错误类型。如果可以选择Python已有的内置的错误类型（比如ValueError，TypeError），尽量使用Python内置的错误类型。  \n",
        "\n",
        "\n",
        "错误处理的方式\n",
        "\n",
        "```\n",
        "def foo(s):\n",
        "    n = int(s)\n",
        "    if n==0:\n",
        "        raise ValueError('invalid value: %s' % s)\n",
        "    return 10 / n\n",
        "\n",
        "def bar():\n",
        "    try:\n",
        "        foo('0')\n",
        "    except ValueError as e:\n",
        "        print('ValueError!')\n",
        "        raise\n",
        "\n",
        "bar()\n",
        "```\n",
        "\n",
        "\n",
        "\n",
        "在bar()函数中，我们明明已经捕获了错误，但是，打印一个ValueError!后，又把错误通过raise语句抛出去  \n",
        "\n",
        "捕获错误目的只是记录一下，便于后续追踪。但是，由于当前函数不知道应该怎么处理该错误，所以，最恰当的方式是继续往上抛，让顶层调用者去处理  \n",
        "\n",
        "\n",
        "raise语句如果不带参数，就会把当前错误原样抛出。此外，在except中raise一个Error，还可以把一种类型的错误转化成另一种类型：\n",
        "\n",
        "```\n",
        "try:\n",
        "    10 / 0\n",
        "except ZeroDivisionError:\n",
        "    raise ValueError('input error!')\n",
        "```\n",
        "\n",
        "只要是合理的转换逻辑就可以，但是，决不应该把一个IOError转换成毫不相干的ValueError\n",
        "\n"
      ]
    },
    {
      "cell_type": "code",
      "metadata": {
        "id": "eNFURHBIY8GJ",
        "colab_type": "code",
        "outputId": "a22f058b-3993-4b74-c941-b80e537937c4",
        "colab": {
          "base_uri": "https://localhost:8080/",
          "height": 55
        }
      },
      "source": [
        "from functools import reduce\n",
        "\n",
        "def str2num(s):\n",
        "    try:\n",
        "\n",
        "      return int(s)\n",
        "\n",
        "    except Exception as e:\n",
        "\n",
        "      return float(s)\n",
        "\n",
        "\n",
        "def calc(exp):\n",
        "    ss = exp.split('+')\n",
        "    ns = map(str2num, ss)\n",
        "    return reduce(lambda acc, x: acc + x, ns)\n",
        "\n",
        "def main():\n",
        "    r = calc('100 + 200 + 345')\n",
        "    print('100 + 200 + 345 =', r)\n",
        "    r = calc('99 + 88 + 7.6')\n",
        "    print('99 + 88 + 7.6 =', r)\n",
        "\n",
        "main()\n"
      ],
      "execution_count": 0,
      "outputs": [
        {
          "output_type": "stream",
          "text": [
            "100 + 200 + 345 = 645\n",
            "99 + 88 + 7.6 = 194.6\n"
          ],
          "name": "stdout"
        }
      ]
    },
    {
      "cell_type": "markdown",
      "metadata": {
        "id": "M3VKzNVrzAWR",
        "colab_type": "text"
      },
      "source": [
        "### 调试  \n",
        "需要一整套调试程序的手段来修复bug"
      ]
    },
    {
      "cell_type": "markdown",
      "metadata": {
        "id": "Y03fT_N6zAfz",
        "colab_type": "text"
      },
      "source": [
        "\n",
        "\n",
        "1.    第一种方法简单直接粗暴有效，就是用print()把可能有问题的变量打印出来看看。用print()最大的坏处是将来还得删掉它\n",
        "2.    断言。凡是用print()来辅助查看的地方，都可以用断言（assert）来替代\n",
        "\n"
      ]
    },
    {
      "cell_type": "markdown",
      "metadata": {
        "id": "b2cPhSoBzAip",
        "colab_type": "text"
      },
      "source": [
        "* assert的意思是，表达式n != 0应该是True，否则，根据程序运行的逻辑，后面的代码肯定会出错。\n",
        "\n",
        "* 如果断言失败，assert语句本身就会抛出AssertionErro。启动Python解释器时可以用-O参数来关闭assert\n",
        "\n",
        "* 断言的开关“-O”是英文大写字母O，不是数字0。\n",
        "\n",
        "* 关闭后，你可以把所有的assert语句当成pass来看。\n"
      ]
    },
    {
      "cell_type": "markdown",
      "metadata": {
        "id": "41vppD74zAlh",
        "colab_type": "text"
      },
      "source": [
        "3. logging  把print()替换为logging是第3种方式，和assert比，logging不会抛出错误，而且可以输出到文件"
      ]
    },
    {
      "cell_type": "markdown",
      "metadata": {
        "id": "EvJ0G5AyzAoT",
        "colab_type": "text"
      },
      "source": [
        "logging的好处，它允许你指定记录信息的级别，有debug，info，warning，error等几个级别，当我们指定level=INFO时，logging.debug就不起作用了。同理，指定level=WARNING后，debug和info就不起作用了。这样一来，你可以放心地输出不同级别的信息，也不用删除，最后统一控制输出哪个级别的信息。\n",
        "\n",
        "```\n",
        "import logging\n",
        "logging.basicConfig(level=logging.INFO)\n",
        "\n",
        "$ python err.py\n",
        "INFO:root:n = 0\n",
        "Traceback (most recent call last):\n",
        "  File \"err.py\", line 8, in <module>\n",
        "    print(10 / n)\n",
        "ZeroDivisionError: division by zero\n",
        "```\n",
        "\n",
        "logging的另一个好处是通过简单的配置，一条语句可以同时输出到不同的地方，比如console和文件。"
      ]
    },
    {
      "cell_type": "markdown",
      "metadata": {
        "id": "XVyGRjvnzAqm",
        "colab_type": "text"
      },
      "source": [
        "4. pdb   第4种方式是启动Python的调试器pdb，让程序以单步方式运行，可以随时查看运行状态。\n",
        "\n",
        "*   启动\n",
        "\n",
        "*   以参数-m pdb启动后，pdb定位到下一步要执行的代码-> s = '0'。输入命令l来查看代码\n",
        "*   输入命令n可以单步执行代码：\n",
        "*  任何时候都可以输入命令p 变量名来查看变量：\n",
        "*  输入命令q结束调试\n",
        "\n"
      ]
    },
    {
      "cell_type": "markdown",
      "metadata": {
        "id": "YYi86lVzzAt2",
        "colab_type": "text"
      },
      "source": [
        "5.  pdb.set_trace()  \n",
        "* 只需要import pdb，然后，在可能出错的地方放一个pdb.set_trace()，就可以设置一个断点：\n",
        "* 运行代码，程序会自动在pdb.set_trace()暂停并进入pdb调试环境，可以用命令p查看变量，或者用命令c继续运行："
      ]
    },
    {
      "cell_type": "markdown",
      "metadata": {
        "id": "X8hBk60XzAv_",
        "colab_type": "text"
      },
      "source": [
        "### IDE"
      ]
    },
    {
      "cell_type": "markdown",
      "metadata": {
        "id": "5RiMMhD7zAyy",
        "colab_type": "text"
      },
      "source": [
        "支持调试功能的IDE"
      ]
    },
    {
      "cell_type": "markdown",
      "metadata": {
        "id": "X6Vjrm-x2Abh",
        "colab_type": "text"
      },
      "source": [
        "###  单元测试  \n",
        "“测试驱动开发”（TDD：Test-Driven Development"
      ]
    },
    {
      "cell_type": "markdown",
      "metadata": {
        "id": "UAsGPSYw2AeU",
        "colab_type": "text"
      },
      "source": [
        "单元测试是用来对一个模块、一个函数或者一个类来进行正确性检验的测试工作。"
      ]
    },
    {
      "cell_type": "markdown",
      "metadata": {
        "id": "9IzWDHSj2AhA",
        "colab_type": "text"
      },
      "source": [
        "1. 编写单元测试\n",
        "\n",
        "\n",
        "*   setUp与tearDown :分别在每调用一个测试方法的前后分别被执行  \n",
        "可以在setUp()方法中连接数据库，在tearDown()方法中关闭数据库\n",
        "\n",
        "```\n",
        "class TestDict(unittest.TestCase):\n",
        "\n",
        "    def setUp(self):\n",
        "        print('setUp...')\n",
        "\n",
        "    def tearDown(self):\n",
        "        print('tearDown...')\n",
        "```\n",
        "\n",
        "2. 运行单元测试\n",
        "\n",
        "\n",
        "```\n",
        "import unittest\n",
        "class Student(object):\n",
        "    def __init__(self, name, score):\n",
        "        self.name = name\n",
        "        self.score = score\n",
        "    def get_grade(self):\n",
        "        if 60 <= self.score < 80:\n",
        "\n",
        "            return 'B'\n",
        "\n",
        "        elif 80 <= self.score <=100:\n",
        "\n",
        "            return 'A'\n",
        "\n",
        "        elif 0 <= self.score < 60:\n",
        "\n",
        "            return 'C'\n",
        "\n",
        "        else:\n",
        "\n",
        "            raise ValueError(\"not bad\")\n",
        "\n",
        "\n",
        "```\n",
        "\n"
      ]
    },
    {
      "cell_type": "markdown",
      "metadata": {
        "id": "QiUjNJyB2Ajx",
        "colab_type": "text"
      },
      "source": [
        "#### 小结\n",
        "\n",
        "\n",
        "1.   单元测试可以有效地测试某个程序模块的行为，是未来重构代码的信心保证。\n",
        "\n",
        "2.   单元测试的测试用例要覆盖常用的输入组合、边界条件和异常。\n",
        "3.   单元测试代码要非常简单，如果测试代码太复杂，那么测试代码本身就可能有bug。\n",
        "\n",
        "\n",
        "4.  单元测试通过了并不意味着程序就没有bug了，但是不通过程序肯定有bug。\n"
      ]
    },
    {
      "cell_type": "markdown",
      "metadata": {
        "id": "zXlFOk9q2AmX",
        "colab_type": "text"
      },
      "source": [
        "### 文档测试"
      ]
    },
    {
      "cell_type": "markdown",
      "metadata": {
        "id": "Ztbh01vZ2Ao4",
        "colab_type": "text"
      },
      "source": [
        "* Python内置的“文档测试”（doctest）模块可以直接提取注释中的代码并执行测试。  \n",
        "* doctest严格按照Python交互式命令行的输入和输出来判断测试结果是否正确。只有测试异常的时候，可以用...表示中间一大段烦人的输出。  \n",
        "* 当模块正常导入时，doctest不会被执行。只有在命令行直接运行时，才执行doctest。所以，不必担心doctest会在非测试环境下执行\n",
        "\n",
        "```\n",
        "def abs(n):\n",
        "    '''\n",
        "    Function to get absolute value of number.\n",
        "    \n",
        "    Example:\n",
        "    \n",
        "    >>> abs(1)\n",
        "    1\n",
        "    >>> abs(-1)\n",
        "    1\n",
        "    >>> abs(0)\n",
        "    0\n",
        "    '''\n",
        "    return n if n >= 0 else (-n)\n",
        "```\n",
        "\n",
        "* 更明确地告诉函数的调用者该函数的期望输入和输出。\n",
        "\n",
        "\n",
        "```\n",
        "def fact(n):\n",
        "    '''\n",
        "    Calculate 1*2*...*n\n",
        "    \n",
        "    >>> fact(1)\n",
        "    1\n",
        "    >>> fact(10)\n",
        "    3628800\n",
        "    >>> fact(-1)\n",
        "    Traceback (most recent call last):\n",
        "    ···\n",
        "    ValueError\n",
        "    '''\n",
        "    if n < 1:\n",
        "        raise ValueError()\n",
        "    if n == 1:\n",
        "        return 1\n",
        "    return n * fact(n - 1)\n",
        "    \n",
        "    \n",
        "    \n",
        "    if __name__ == '__main__':\n",
        "    import doctest\n",
        "    doctest.testmod()\n",
        "\n",
        "```\n",
        "\n"
      ]
    },
    {
      "cell_type": "markdown",
      "metadata": {
        "id": "WOwkulAL085L",
        "colab_type": "text"
      },
      "source": [
        "***\n",
        "***"
      ]
    },
    {
      "cell_type": "markdown",
      "metadata": {
        "id": "H2PQnEaB0-4T",
        "colab_type": "text"
      },
      "source": [
        "# IO编程"
      ]
    },
    {
      "cell_type": "markdown",
      "metadata": {
        "id": "dA_22r2C0_Ba",
        "colab_type": "text"
      },
      "source": [
        "\n",
        "\n",
        "*   IO在计算机中指Input/Output，也就是输入和输出。\n",
        "*   IO编程中，Stream（流）是一个很重要的概念，可以把流想象成一个水管，数据就是水管里的水，但是只能单向流动。Input Stream就是数据从外面（磁盘、网络）流进内存，Output Stream就是数据从内存流到外面去。\n",
        "\n",
        "*   同步IO\n",
        "*   异步IO\n",
        "\n",
        "*   同步和异步的区别就在于是否等待IO执行的结果\n",
        "*   用异步IO来编写程序性能会远远高于同步IO，但是异步IO的缺点是编程模型复杂\n",
        "\n",
        "*   操作IO的能力都是由操作系统提供的，每一种编程语言都会把操作系统提供的低级C接口封装起来方便使用\n",
        "\n",
        "\n",
        "\n",
        "\n",
        "\n",
        "\n",
        "\n",
        "\n"
      ]
    },
    {
      "cell_type": "markdown",
      "metadata": {
        "id": "Sk-dAkpA0_GD",
        "colab_type": "text"
      },
      "source": [
        "### 文件读写"
      ]
    },
    {
      "cell_type": "markdown",
      "metadata": {
        "id": "gl-c2qer12Bn",
        "colab_type": "text"
      },
      "source": [
        "读写文件是最常见的IO操作。Python内置了读写文件的函数，用法和C是兼容的"
      ]
    },
    {
      "cell_type": "markdown",
      "metadata": {
        "id": "-fgjhEPG12Fn",
        "colab_type": "text"
      },
      "source": [
        "#### 读文件\n",
        "1. 以读文件的模式打开一个文件对象，使用Python内置的open()函数，传入文件名和标示符\n",
        "\n",
        "```\n",
        "f = open('/Users/michael/test.txt', 'r')\n",
        "```\n",
        "2. 如果文件打开成功，接下来，调用read()方法可以一次读取文件的全部内容，Python把内容读到内存，用一个str对象表示：\n",
        "\n",
        "\n",
        "```\n",
        ">>> f.read()\n",
        "'Hello, world!'\n",
        "```\n",
        "3. 调用close()方法关闭文件。文件使用完毕后必须关闭，因为文件对象会占用操作系统的资源，并且操作系统同一时间能打开的文件数量也是有限的：\n",
        "\n",
        "\n",
        "```\n",
        ">>> f.close()\n",
        "```\n",
        "4. 由于文件读写时都有可能产生IOError，一旦出错，后面的f.close()就不会调用。所以，为了保证无论是否出错都能正确地关闭文件，我们可以使用try ... finally来实现：\n",
        "\n",
        "```\n",
        "try:\n",
        "    f = open('/path/to/file', 'r')\n",
        "    print(f.read())\n",
        "finally:\n",
        "    if f:\n",
        "        f.close()\n",
        "```\n",
        "\n",
        "5. Python引入了with语句来自动帮我们调用close()方法：\n",
        "\n",
        "\n",
        "```\n",
        "with open('/path/to/file', 'r') as f:\n",
        "    print(f.read())\n",
        "```\n",
        "\n"
      ]
    },
    {
      "cell_type": "markdown",
      "metadata": {
        "id": "wQJ4il9s12Je",
        "colab_type": "text"
      },
      "source": [
        "\n",
        "\n",
        "*   调用read()会一次性读取文件的全部内容，如果文件有10G，内存就爆了，所以，要保险起见，可以反复调用read(size)方法，每次最多读取size个字节的内容\n",
        "*   调用readline()可以每次读取一行内容，调用readlines()一次读取所有内容并按行返回list\n",
        "\n",
        "\n",
        "```\n",
        "for line in f.readlines():\n",
        "    print(line.strip()) # 把末尾的'\\n'删掉\n",
        "```\n",
        "\n",
        "\n",
        "\n",
        "\n"
      ]
    },
    {
      "cell_type": "markdown",
      "metadata": {
        "id": "QRcHN3VF12MT",
        "colab_type": "text"
      },
      "source": [
        "#### file-like Object"
      ]
    },
    {
      "cell_type": "markdown",
      "metadata": {
        "id": "6XsHecJK12PG",
        "colab_type": "text"
      },
      "source": [
        "像open()函数返回的这种有个read()方法的对象，在Python中统称为file-like Object。除了file外，还可以是内存的字节流，网络流，自定义流等等。file-like Object不要求从特定类继承，只要写个read()方法就行。"
      ]
    },
    {
      "cell_type": "markdown",
      "metadata": {
        "id": "mra0oXty12Ro",
        "colab_type": "text"
      },
      "source": [
        "StringIO就是在内存中创建的file-like Object，常用作临时缓冲。"
      ]
    },
    {
      "cell_type": "markdown",
      "metadata": {
        "id": "sO-aPEP-12VT",
        "colab_type": "text"
      },
      "source": [
        "#### 二进制文件"
      ]
    },
    {
      "cell_type": "markdown",
      "metadata": {
        "id": "wxJe7wGT12f2",
        "colab_type": "text"
      },
      "source": [
        "要读取二进制文件，比如图片、视频等等，用'rb'模式打开文件即可：\n",
        "\n",
        "```\n",
        ">>> f = open('/Users/michael/test.jpg', 'rb')\n",
        ">>> f.read()\n",
        "b'\\xff\\xd8\\xff\\xe1\\x00\\x18Exif\\x00\\x00...' # 十六进制表示的字节\n",
        "```\n",
        "\n"
      ]
    },
    {
      "cell_type": "markdown",
      "metadata": {
        "id": "87NOIX3T12i_",
        "colab_type": "text"
      },
      "source": [
        "#### 字符编码"
      ]
    },
    {
      "cell_type": "markdown",
      "metadata": {
        "id": "7gknMUL412ly",
        "colab_type": "text"
      },
      "source": [
        "要读取非UTF-8编码的文本文件，需要给open()函数传入encoding参数，例如，读取GBK编码的文件：\n",
        "\n",
        "```\n",
        ">>> f = open('/Users/michael/gbk.txt', 'r', encoding='gbk')\n",
        ">>> f.read()\n",
        "'测试'\n",
        "```\n",
        "表示如果遇到编码错误后如何处理。最简单的方式是直接忽略：\n",
        "\n",
        "```\n",
        "f = open('/Users/michael/gbk.txt', 'r', encoding='gbk', errors='ignore')\n",
        "```\n",
        "\n",
        "\n"
      ]
    },
    {
      "cell_type": "markdown",
      "metadata": {
        "id": "96q9kbBA12ob",
        "colab_type": "text"
      },
      "source": [
        "### 写文件"
      ]
    },
    {
      "cell_type": "markdown",
      "metadata": {
        "id": "CkjOwVP66ipa",
        "colab_type": "text"
      },
      "source": [
        "写文件和读文件是一样的，唯一区别是调用open()函数时，传入标识符'w'或者'wb'表示写文本文件或写二进制文件：\n",
        "\n",
        "```\n",
        ">>> f = open('/Users/michael/test.txt', 'w')\n",
        ">>> f.write('Hello, world!')\n",
        ">>> f.close()\n",
        "```\n",
        "务必要调用f.close()来关闭文件\n",
        "\n",
        "```\n",
        "with open('/Users/michael/test.txt', 'w') as f:\n",
        "    f.write('Hello, world!')\n",
        "```\n",
        "\n",
        "\n"
      ]
    },
    {
      "cell_type": "markdown",
      "metadata": {
        "id": "M18VfFkT6isN",
        "colab_type": "text"
      },
      "source": [
        "要写入特定编码的文本文件，请给open()函数传入encoding参数，将字符串自动转换成指定编码。"
      ]
    },
    {
      "cell_type": "markdown",
      "metadata": {
        "id": "VFR4GcbV6iu5",
        "colab_type": "text"
      },
      "source": [
        "### StringIO"
      ]
    },
    {
      "cell_type": "markdown",
      "metadata": {
        "id": "oPZu-BSi6ixZ",
        "colab_type": "text"
      },
      "source": [
        "\n",
        "\n",
        "*   StringIO顾名思义就是在内存中读写str。\n",
        "\n",
        "要把str写入StringIO，我们需要先创建一个StringIO，然后，像文件一样写入即可\n",
        "\n",
        "```\n",
        ">>> from io import StringIO\n",
        ">>> f = StringIO()\n",
        ">>> f.write('hello')\n",
        "5\n",
        ">>> f.write(' ')\n",
        "1\n",
        ">>> f.write('world!')\n",
        "6\n",
        ">>> print(f.getvalue())\n",
        "hello world!\n",
        "```\n",
        "\n",
        "getvalue()方法用于获得写入后的str。\n",
        "\n",
        "```\n",
        ">>> from io import StringIO\n",
        ">>> f = StringIO('Hello!\\nHi!\\nGoodbye!')\n",
        ">>> while True:\n",
        "...     s = f.readline()\n",
        "...     if s == '':\n",
        "...         break\n",
        "...     print(s.strip())\n",
        "...\n",
        "Hello!\n",
        "Hi!\n",
        "Goodbye!\n",
        "```\n",
        "\n",
        "\n"
      ]
    },
    {
      "cell_type": "markdown",
      "metadata": {
        "id": "VWXKrj4E6i0I",
        "colab_type": "text"
      },
      "source": [
        "### BytesIO"
      ]
    },
    {
      "cell_type": "markdown",
      "metadata": {
        "id": "8jlWvsF66i3a",
        "colab_type": "text"
      },
      "source": [
        "StringIO操作的只能是str，如果要操作二进制数据，就需要使用BytesIO。"
      ]
    },
    {
      "cell_type": "markdown",
      "metadata": {
        "id": "mM7RUciN6i6F",
        "colab_type": "text"
      },
      "source": [
        "BytesIO实现了在内存中读写bytes，我们创建一个BytesIO，然后写入一些bytes\n",
        "\n",
        "```\n",
        ">>> from io import BytesIO\n",
        ">>> f = BytesIO()\n",
        ">>> f.write('中文'.encode('utf-8'))\n",
        "6\n",
        ">>> print(f.getvalue())\n",
        "b'\\xe4\\xb8\\xad\\xe6\\x96\\x87'\n",
        "```\n",
        "写入的不是str，而是经过UTF-8编码的bytes。 \n",
        "\n",
        "和StringIO类似，可以用一个bytes初始化BytesIO，然后，像读文件一样读取\n",
        "\n",
        "```\n",
        ">>> from io import BytesIO\n",
        ">>> f = BytesIO(b'\\xe4\\xb8\\xad\\xe6\\x96\\x87')\n",
        ">>> f.read()\n",
        "b'\\xe4\\xb8\\xad\\xe6\\x96\\x87'\n",
        "```\n",
        "\n",
        "\n"
      ]
    },
    {
      "cell_type": "markdown",
      "metadata": {
        "id": "dyLAb-GB6i8m",
        "colab_type": "text"
      },
      "source": [
        "#### 小结\n",
        "\n",
        "*   StringIO和BytesIO是在内存中操作str和bytes的方法，使得和读写文件具有一致的接口。\n",
        "\n",
        "\n"
      ]
    },
    {
      "cell_type": "markdown",
      "metadata": {
        "id": "jN2gfM_E7gB7",
        "colab_type": "text"
      },
      "source": [
        "### 操作文件和目录"
      ]
    },
    {
      "cell_type": "markdown",
      "metadata": {
        "id": "MKsaYyGg7gL0",
        "colab_type": "text"
      },
      "source": [
        "\n",
        "*   如果我们要操作文件、目录，可以在命令行下面输入操作系统提供的各种命令来完成。比如dir、cp等命令。\n",
        "\n",
        "*   操作系统提供的命令只是简单地调用了操作系统提供的接口函数，Python内置的os模块也可以直接调用操作系统提供的接口函数。\n",
        "\n"
      ]
    },
    {
      "cell_type": "markdown",
      "metadata": {
        "id": "RueOxBT77gWt",
        "colab_type": "text"
      },
      "source": [
        "打开Python交互式命令行，我们来看看如何使用os模块的基本功能：\n",
        "\n",
        "```\n",
        "import os\n",
        "```\n",
        "如果是posix，说明系统是Linux、Unix或Mac OS X，如果是nt，就是Windows系统。\n",
        "\n",
        "\n",
        "*   要获取详细的系统信息，可以调用uname()函数：\n",
        "\n",
        "\n",
        "```\n",
        "os.uname()\n",
        "```\n",
        "注意uname()函数在Windows上不提供\n",
        "\n",
        "\n"
      ]
    },
    {
      "cell_type": "markdown",
      "metadata": {
        "id": "Yknjd3UA7gyS",
        "colab_type": "text"
      },
      "source": [
        "### 环境变量"
      ]
    },
    {
      "cell_type": "markdown",
      "metadata": {
        "id": "Lig1Gmq_8fRQ",
        "colab_type": "text"
      },
      "source": [
        "\n",
        "\n",
        "*   在操作系统中定义的环境变量，全部保存在os.environ这个变量中，可以直接查看\n",
        "\n",
        "```\n",
        "os.environ\n",
        "```\n",
        "\n",
        "\n",
        "*   要获取某个环境变量的值，可以调用os.environ.get('key')：\n",
        "\n",
        "\n",
        "```\n",
        "os.environ.get('PATH')\n",
        "```\n",
        "\n",
        "\n"
      ]
    },
    {
      "cell_type": "markdown",
      "metadata": {
        "id": "_eG9_SGu8fTw",
        "colab_type": "text"
      },
      "source": [
        "### 操作文件和目录"
      ]
    },
    {
      "cell_type": "markdown",
      "metadata": {
        "id": "Y0IrG8E18fWa",
        "colab_type": "text"
      },
      "source": [
        "操作文件和目录的函数一部分放在os模块中，一部分放在os.path模块中，这一点要注意一下。查看、创建和删除目录可以这么调用：\n",
        "\n",
        "```\n",
        "# 查看当前目录的绝对路径:\n",
        ">>> os.path.abspath('.')\n",
        "'/Users/michael'\n",
        "# 在某个目录下创建一个新目录，首先把新目录的完整路径表示出来:\n",
        ">>> os.path.join('/Users/michael', 'testdir')\n",
        "'/Users/michael/testdir'\n",
        "# 然后创建一个目录:\n",
        ">>> os.mkdir('/Users/michael/testdir')\n",
        "# 删掉一个目录:\n",
        ">>> os.rmdir('/Users/michael/testdir')\n",
        "```\n",
        "把两个路径合成一个时，不要直接拼字符串，而要通过os.path.join()函数，这样可以正确处理不同操作系统的路径分隔符。\n",
        "\n",
        "\n",
        "在Linux/Unix/Mac下，os.path.join()返回这样的字符串：\n",
        "\n",
        "```\n",
        "part-1/part-2\n",
        "```\n",
        "\n",
        "而Windows下会返回这样的字符串：\n",
        "\n",
        "```\n",
        "part-1\\part-2\n",
        "```\n",
        "同样的道理，要拆分路径时，也不要直接去拆字符串，而要通过os.path.split()函数，这样可以把一个路径拆分为两部分，后一部分总是最后级别的目录或文件名：\n",
        "\n",
        "```\n",
        "os.path.split('/Users/michael/testdir/file.txt')\n",
        "```\n",
        "\n",
        "os.path.splitext()可以直接让你得到文件扩展名，很多时候非常方便：\n",
        "\n",
        "```\n",
        ">>> os.path.splitext('/path/to/file.txt')\n",
        "('/path/to/file', '.txt')\n",
        "```\n",
        "\n",
        "这些合并、拆分路径的函数并不要求目录和文件要真实存在，它们只对字符串进行操作。\n",
        "\n",
        "文件操作使用下面的函数。假定当前目录下有一个test.txt文件：\n",
        "\n",
        "```\n",
        "# 对文件重命名:\n",
        ">>> os.rename('test.txt', 'test.py')\n",
        "# 删掉文件:\n",
        ">>> os.remove('test.py')\n",
        "```\n",
        "\n",
        "\n"
      ]
    },
    {
      "cell_type": "markdown",
      "metadata": {
        "id": "zLrkv1pU8fZF",
        "colab_type": "text"
      },
      "source": [
        "利用Python的特性来过滤文件。比如我们要列出当前目录下的所有目录，只需要一行代码：\n",
        "\n",
        "```\n",
        ">>> [x for x in os.listdir('.') if os.path.isdir(x)]\n",
        "['.lein', '.local', '.m2', '.npm', '.ssh', '.Trash', '.vim', 'Applications', 'Desktop', ...]\n",
        "```\n",
        "要列出所有的.py文件，也只需一行代码：\n",
        "\n",
        "```\n",
        ">>> [x for x in os.listdir('.') if os.path.isfile(x) and os.path.splitext(x)[1]=='.py']\n",
        "['apis.py', 'config.py', 'models.py', 'pymonitor.py', 'test_db.py', 'urls.py', 'wsgiapp.py']\n",
        "```\n",
        "\n",
        "\n"
      ]
    },
    {
      "cell_type": "markdown",
      "metadata": {
        "id": "vmv5G7yh8fbr",
        "colab_type": "text"
      },
      "source": [
        "### 小结\n",
        "\n",
        "\n",
        "*   ython的os模块封装了操作系统的目录和文件操作，要注意这些函数有的在os模块中，有的在os.path模块中。\n",
        "\n",
        "\n",
        "```\n",
        "import time\n",
        "import os\n",
        "import pwd\n",
        "import grp\n",
        "import sys\n",
        "\n",
        "class OutputFile(object):\n",
        "    def __init__(self):\n",
        "        self.file_name = ''\n",
        "        self.modify_time = ''\n",
        "        self.size = ''\n",
        "        self.mode = ''\n",
        "        self.isdir = ''\n",
        "        self.nlink = ''\n",
        "        self.user_name = ''\n",
        "        self.group_name = ''\n",
        "\n",
        "    def show(self):\n",
        "        dir_str = 'd' if self.isdir else '-'\n",
        "        for i in range(3):\n",
        "            mode = bin(int(self.mode[i]))[-3:]\n",
        "            for j, x in enumerate(['r', 'w', 'x']):\n",
        "                dir_str += x if mode[j] == '1' else '-'\n",
        "        self.user_name = pwd.getpwuid(self.user_name).pw_name\n",
        "        self.group_name = grp.getgrgid(self.group_name).gr_name\n",
        "        f_time = time.localtime(self.modify_time)\n",
        "        currut_time = time.localtime(time.time())\n",
        "        year = f_time.tm_year\n",
        "        if currut_time.tm_year == f_time.tm_year:\n",
        "            year = time.strftime('%H:%M', f_time)\n",
        "        ret = '{:<12}{:>4}{:>10}{:>8}{:>8}{:>3}{:>3}{:>6} {:<20}'.format(dir_str, self.nlink, self.user_name, self.group_name, self.size, f_time.tm_mon, f_time.tm_mday, year, self.file_name)\n",
        "        return ret\n",
        "\n",
        "results = []\n",
        "base_dir = sys.argv[1]\n",
        "files = os.listdir(base_dir)\n",
        "files = sorted(files)\n",
        "for file in files:\n",
        "    if not file.startswith('.'):\n",
        "        stat = os.stat(os.path.join(base_dir, file))\n",
        "        outputfile = OutputFile()\n",
        "        outputfile.file_name = file\n",
        "        outputfile.modify_time = stat[-2]\n",
        "        outputfile.size = stat[6]\n",
        "        outputfile.mode = oct(stat.st_mode)[-3:]\n",
        "        outputfile.isdir = os.path.isdir(os.path.join(base_dir, file))\n",
        "        outputfile.nlink = stat.st_nlink\n",
        "        outputfile.user_name = stat.st_uid\n",
        "        outputfile.group_name = stat.st_gid\n",
        "        results.append(outputfile)\n",
        "for result in results:\n",
        "    print(result.show())\n",
        "```\n",
        "\n",
        "\n",
        "\n"
      ]
    },
    {
      "cell_type": "markdown",
      "metadata": {
        "id": "eyOQ89Y18fl0",
        "colab_type": "text"
      },
      "source": [
        "\n",
        "\n",
        "```\n",
        "import os,time\n",
        "\n",
        "def time_format(x):\n",
        "\treturn time.asctime(time.localtime(x))\n",
        "\n",
        "#第一题\n",
        "def cmd_dir():\n",
        "\tpath = os.path.abspath('.')\n",
        "\tdir_and_file = [x for x in os.listdir('.')]\n",
        "\tgettime = list(map(time_format,map(os.path.getmtime,dir_and_file)))\n",
        "\tgetsize = list(map(os.path.getsize,dir_and_file))\n",
        "\tn = 0\n",
        "\twhile n < len(dir_and_file):\n",
        "\t\tprint(gettime[n],' ==> ',getsize[n],' ==> ',dir_and_file[n])\n",
        "\t\tn += 1\n",
        "#第二题\n",
        "def findstrr(path,st):\n",
        "\tfor x in os.listdir(path):\n",
        "\t\tif os.path.isdir(x):\n",
        "\t\t\tnew_path = os.path.join(path,x)\n",
        "\t\t\tfindstrr(new_path,st)\n",
        "\t\telif st in os.path.splitext(x)[0]:\n",
        "\t\t\tprint(\"相关文件名:%s, 相对路径:  %s\" % (x,os.path.relpath(path)))\n",
        "\n",
        "\n",
        "if __name__ == '__main__':\n",
        "\tf = os.path.abspath('.')\n",
        "\ttext = input('input: ')\n",
        "\tfindstrr(f,text)\n",
        "```\n",
        "\n"
      ]
    },
    {
      "cell_type": "markdown",
      "metadata": {
        "id": "KGhvuFJY47fM",
        "colab_type": "text"
      },
      "source": [
        "### 序列化"
      ]
    },
    {
      "cell_type": "markdown",
      "metadata": {
        "id": "RxalEuJk5DJr",
        "colab_type": "text"
      },
      "source": [
        "*  在程序运行的过程中，所有的变量都是在内存中\n",
        "*  把变量从内存中变成可存储或传输的过程称之为序列化，在Python中叫pickling\n",
        "\n",
        "*  序列化之后，就可以把序列化后的内容写入磁盘，或者通过网络传输到别的机器上\n",
        "\n",
        "*  把变量内容从序列化的对象重新读到内存里称之为反序列化，即unpickling\n",
        "\n",
        "*  Python提供了pickle模块来实现序列化\n",
        "\n",
        "尝试把一个对象序列化并写入文件\n",
        "\n",
        "```\n",
        " import pickle\n",
        ">>> d = dict(name='Bob', age=20, score=88)\n",
        ">>> pickle.dumps(d)\n",
        "b'\\x80\\x03}q\\x00(X\\x03\\x00\\x00\\x00ageq\\x01K\\x14X\\x05\\x00\\x00\\x00scoreq\\x02KXX\\x04\\x00\\x00\\x00nameq\\x03X\\x03\\x00\\x00\\x00Bobq\\x04u.'\n",
        "```\n",
        "\n",
        "pickle.dumps()方法把任意对象序列化成一个bytes，然后，就可以把这个bytes写入文件。或者用另一个方法pickle.dump()直接把对象序列化后写入一个file-like Object：\n",
        "\n",
        "\n",
        "```\n",
        ">>> f = open('dump.txt', 'wb')\n",
        ">>> pickle.dump(d, f)\n",
        ">>> f.close()\n",
        "```\n",
        "\n",
        "要把对象从磁盘读到内存时，可以先把内容读到一个bytes，然后用pickle.loads()方法反序列化出对象，也可以直接用pickle.load()方法从一个file-like Object中直接反序列化出对象。\n",
        "\n",
        "```\n",
        ">>> f = open('dump.txt', 'rb')\n",
        ">>> d = pickle.load(f)\n",
        ">>> f.close()\n",
        ">>> d\n",
        "{'age': 20, 'score': 88, 'name': 'Bob'}\n",
        "```\n",
        "\n"
      ]
    },
    {
      "cell_type": "markdown",
      "metadata": {
        "id": "StbrXi2h5DP3",
        "colab_type": "text"
      },
      "source": [
        "### JSON\n",
        "*  要在不同的编程语言之间传递对象，就必须把对象序列化为标准格式，比如XML，但更好的方法是序列化为JSON，因为JSON表示出来就是一个字符串，可以被所有语言读取，也可以方便地存储到磁盘或者通过网络传输\n",
        "*  JSON不仅是标准格式，并且比XML更快，而且可以直接在Web页面中读取，非常方便。\n"
      ]
    },
    {
      "cell_type": "markdown",
      "metadata": {
        "id": "NJbL0zNY5DS-",
        "colab_type": "text"
      },
      "source": [
        "Python内置的json模块提供了非常完善的Python对象到JSON格式的转换。\n",
        "\n",
        "```\n",
        "import json\n",
        "d = dict(name='Bob', age=20, score=88)\n",
        "json.dumps(d)\n",
        "'{\"age\": 20, \"score\": 88, \"name\": \"Bob\"}'\n",
        "\n",
        "```\n",
        "dumps()方法返回一个str，内容就是标准的JSON。类似的，dump()方法可以直接把JSON写入一个file-like Object。\n",
        "\n",
        "要把JSON反序列化为Python对象，用loads()或者对应的load()方法，前者把JSON的字符串反序列化，后者从file-like Object中读取字符串并反序列化\n",
        "\n",
        "```\n",
        ">>> json_str = '{\"age\": 20, \"score\": 88, \"name\": \"Bob\"}'\n",
        ">>> json.loads(json_str)\n",
        "{'age': 20, 'score': 88, 'name': 'Bob'}\n",
        "```\n",
        "\n",
        "\n",
        "JSON标准规定JSON编码是UTF-8"
      ]
    },
    {
      "cell_type": "markdown",
      "metadata": {
        "id": "9rgS6qgs5DVp",
        "colab_type": "text"
      },
      "source": [
        "### JSON进阶"
      ]
    },
    {
      "cell_type": "markdown",
      "metadata": {
        "id": "eysgEWr25Ddj",
        "colab_type": "text"
      },
      "source": [
        "Python的dict对象可以直接序列化为JSON的{}，不过，很多时候，我们更喜欢用class表示对象，比如定义Student类，然后序列化：\n",
        "\n",
        "dumps(https://docs.python.org/3/library/json.html#json.dumps)\n",
        "```\n",
        "import json\n",
        "\n",
        "class Student(object):\n",
        "    def __init__(self, name, age, score):\n",
        "        self.name = name\n",
        "        self.age = age\n",
        "        self.score = score\n",
        "\n",
        "s = Student('Bob', 20, 88)\n",
        "print(json.dumps(s))\n",
        "\n",
        "\n",
        "\n",
        "def student2dict(std):\n",
        "    return {\n",
        "        'name': std.name,\n",
        "        'age': std.age,\n",
        "        'score': std.score\n",
        "    }\n",
        "\n",
        "\n",
        "\n",
        "\n",
        ">>> print(json.dumps(s, default=student2dict))\n",
        "{\"age\": 20, \"name\": \"Bob\", \"score\": 88}\n",
        "\n",
        "\n",
        "\n",
        "\n",
        "\n",
        "```\n",
        "\n",
        "\n",
        "通常class的实例都有一个__dict__属性，它就是一个dict，用来存储实例变量。也有少数例外，比如定义了__slots__的class。\n",
        "\n",
        "同样的道理，如果我们要把JSON反序列化为一个Student对象实例，loads()方法首先转换出一个dict对象，然后，我们传入的object_hook函数负责把dict转换为Student实例：\n",
        "\n",
        "```\n",
        "def dict2student(d):\n",
        "    return Student(d['name'], d['age'], d['score'])\n",
        "```\n",
        "\n"
      ]
    },
    {
      "cell_type": "markdown",
      "metadata": {
        "id": "xM0VdL12OrGf",
        "colab_type": "text"
      },
      "source": [
        "***\n",
        "***\n"
      ]
    },
    {
      "cell_type": "markdown",
      "metadata": {
        "id": "1dtnrirDOtnu",
        "colab_type": "text"
      },
      "source": [
        "# 进程和线程"
      ]
    },
    {
      "cell_type": "markdown",
      "metadata": {
        "id": "aOrqDn_COvnQ",
        "colab_type": "text"
      },
      "source": [
        "*  对于操作系统来说，一个任务就是一个进程（Process），比如打开一个浏览器就是启动一个浏览器进程，打开一个记事本就启动了一个记事本进程，打开两个记事本就启动了两个记事本进程，打开一个Word就启动了一个Word进程  \n",
        "*  有些进程还不止同时干一件事，比如Word，它可以同时进行打字、拼写检查、打印等事情。在一个进程内部，要同时干多件事，就需要同时运行多个“子任务”，我们把进程内的这些“子任务”称为线程（Thread）。\n",
        "\n",
        "\n",
        "1.   一种是启动多个进程，每个进程虽然只有一个线程，但多个进程可以一块执行多个任务。\n",
        "2.   启动一个进程，在一个进程内启动多个线程，这样，多个线程也可以一块执行多个任务。\n",
        "\n",
        "3.  启动多个进程，每个进程再启动多个线程\n",
        "\n",
        "####小结\n",
        "\n",
        "\n",
        "1.   线程是最小的执行单元，而进程由至少一个线程组成。\n",
        "2.   多进程和多线程的程序涉及到同步、数据共享的问题，编写起来更复杂\n",
        "\n"
      ]
    },
    {
      "cell_type": "markdown",
      "metadata": {
        "id": "TYUSOMCPOvuG",
        "colab_type": "text"
      },
      "source": [
        "##  多进程（multiprocessing）"
      ]
    },
    {
      "cell_type": "markdown",
      "metadata": {
        "id": "JmiBLUWnOvwk",
        "colab_type": "text"
      },
      "source": [
        "Python的os模块封装了常见的系统调用  fork\n",
        "\n",
        "```\n",
        "import os\n",
        "\n",
        "print('Process (%s) start...' % os.getpid())\n",
        "# Only works on Unix/Linux/Mac:\n",
        "pid = os.fork()\n",
        "if pid == 0:\n",
        "    print('I am child process (%s) and my parent is %s.' % (os.getpid(), os.getppid()))\n",
        "else:\n",
        "    print('I (%s) just created a child process (%s).' % (os.getpid(), pid))\n",
        "```\n",
        "***\n",
        "\n",
        "\n",
        "```\n",
        "Process (876) start...\n",
        "I (876) just created a child process (877).\n",
        "I am child process (877) and my parent is 876.\n",
        "```\n",
        "有了fork调用，一个进程在接到新任务时就可以复制出一个子进程来处理新任务，常见的Apache服务器就是由父进程监听端口，每当有新的http请求时，就fork出子进程来处理新的http请求。\n",
        "\n"
      ]
    },
    {
      "cell_type": "markdown",
      "metadata": {
        "id": "_DKt1bwmOvyu",
        "colab_type": "text"
      },
      "source": [
        "*  multiprocessing模块是跨平台版本的多进程模块\n",
        "*  multiprocessing模块提供了一个Process类来代表一个进程对象\n",
        "\n",
        "```\n",
        "from multiprocessing import Process\n",
        "import os\n",
        "\n",
        "# 子进程要执行的代码\n",
        "def run_proc(name):\n",
        "    print('Run child process %s (%s)...' % (name, os.getpid()))\n",
        "\n",
        "if __name__=='__main__':\n",
        "    print('Parent process %s.' % os.getpid())\n",
        "    p = Process(target=run_proc, args=('test',))\n",
        "    print('Child process will start.')\n",
        "    p.start()\n",
        "    p.join()\n",
        "    print('Child process end.')\n",
        "```\n",
        "\n",
        "\n",
        "创建子进程时，只需要传入一个执行函数和函数的参数，创建一个Process实例，用start()方法启动，这样创建进程比fork()还要简单。  \n",
        "\n",
        "join()方法可以等待子进程结束后再继续往下运行，通常用于进程间的同步。"
      ]
    },
    {
      "cell_type": "markdown",
      "metadata": {
        "id": "EXHESV1XOv39",
        "colab_type": "text"
      },
      "source": [
        "### Pool\n",
        "如果要启动大量的子进程，可以用进程池的方式批量创建子进程\n",
        "\n",
        "```\n",
        "from multiprocessing import Pool\n",
        "import os, time, random\n",
        "\n",
        "def long_time_task(name):\n",
        "    print('Run task %s (%s)...' % (name, os.getpid()))\n",
        "    start = time.time()\n",
        "    time.sleep(random.random() * 3)\n",
        "    end = time.time()\n",
        "    print('Task %s runs %0.2f seconds.' % (name, (end - start)))\n",
        "\n",
        "if __name__=='__main__':\n",
        "    print('Parent process %s.' % os.getpid())\n",
        "    p = Pool(4)\n",
        "    for i in range(5):\n",
        "        p.apply_async(long_time_task, args=(i,))\n",
        "    print('Waiting for all subprocesses done...')\n",
        "    p.close()\n",
        "    p.join()\n",
        "    print('All subprocesses done.')\n",
        "```\n",
        "\n",
        "对Pool对象调用join()方法会等待所有子进程执行完毕，调用join()之前必须先调用close()，调用close()之后就不能继续添加新的Process了。  \n",
        "请注意输出的结果，task 0，1，2，3是立刻执行的，而task 4要等待前面某个task完成后才执行，这是因为Pool的默认大小在我的电脑上是4，因此，最多同时执行4个进程。这是Pool有意设计的限制，并不是操作系统的限制。"
      ]
    },
    {
      "cell_type": "markdown",
      "metadata": {
        "id": "P48n5skUOv6v",
        "colab_type": "text"
      },
      "source": [
        "### 子进程"
      ]
    },
    {
      "cell_type": "markdown",
      "metadata": {
        "id": "PJSu0CpxOv9g",
        "colab_type": "text"
      },
      "source": [
        "子进程并不是自身，而是一个外部进程。我们创建了子进程后，还需要控制子进程的输入和输出。"
      ]
    },
    {
      "cell_type": "markdown",
      "metadata": {
        "id": "RApXyNcqOv_x",
        "colab_type": "text"
      },
      "source": [
        "在Python代码中运行命令nslookup www.python.org，这和命令行直接运行的效果是一样的：\n",
        "\n",
        "```\n",
        "import subprocess\n",
        "\n",
        "print('$ nslookup www.python.org')\n",
        "r = subprocess.call(['nslookup', 'www.python.org'])\n",
        "print('Exit code:', r)\n",
        "```\n",
        "结果\n",
        "\n",
        "\n",
        "```\n",
        "$ nslookup www.python.org\n",
        "Server:\t\t192.168.19.4\n",
        "Address:\t192.168.19.4#53\n",
        "\n",
        "Non-authoritative answer:\n",
        "www.python.org\tcanonical name = python.map.fastly.net.\n",
        "Name:\tpython.map.fastly.net\n",
        "Address: 199.27.79.223\n",
        "\n",
        "Exit code: 0\n",
        "```\n",
        "\n",
        "如果子进程还需要输入，则可以通过communicate()方法输入：\n",
        "\n",
        "```\n",
        "import subprocess\n",
        "\n",
        "print('$ nslookup')\n",
        "p = subprocess.Popen(['nslookup'], stdin=subprocess.PIPE, stdout=subprocess.PIPE, stderr=subprocess.PIPE)\n",
        "output, err = p.communicate(b'set q=mx\\npython.org\\nexit\\n')\n",
        "print(output.decode('utf-8'))\n",
        "print('Exit code:', p.returncode)\n",
        "```\n",
        "\n",
        "\n"
      ]
    },
    {
      "cell_type": "markdown",
      "metadata": {
        "id": "SsmbE3J3OwDD",
        "colab_type": "text"
      },
      "source": [
        "### 进程间通信"
      ]
    },
    {
      "cell_type": "markdown",
      "metadata": {
        "id": "lV17S0EJOwHN",
        "colab_type": "text"
      },
      "source": [
        "Process之间肯定是需要通信的，操作系统提供了很多机制来实现进程间的通信。Python的multiprocessing模块包装了底层的机制，提供了Queue、Pipes等多种方式来交换数据。"
      ]
    },
    {
      "cell_type": "markdown",
      "metadata": {
        "id": "Sn8Bf1_QOwJs",
        "colab_type": "text"
      },
      "source": [
        "在Unix/Linux下，multiprocessing模块封装了fork()调用，使我们不需要关注fork()的细节。由于Windows没有fork调用，因此，multiprocessing需要“模拟”出fork的效果，父进程所有Python对象都必须通过pickle序列化再传到子进程去，所有，如果multiprocessing在Windows下调用失败了，要先考虑是不是pickle失败了。"
      ]
    },
    {
      "cell_type": "markdown",
      "metadata": {
        "id": "8nD1YM_FOwUN",
        "colab_type": "text"
      },
      "source": [
        "#### 小结\n",
        "\n",
        "1.   在Unix/Linux下，可以使用fork()调用实现多进程。\n",
        "\n",
        "\n",
        "2.   要实现跨平台的多进程，可以使用multiprocessing模块\n",
        "\n",
        "\n",
        "3.   进程间通信是通过Queue、Pipes等实现的。\n"
      ]
    },
    {
      "cell_type": "markdown",
      "metadata": {
        "id": "JAwh59RSOwW8",
        "colab_type": "text"
      },
      "source": [
        "### 多线程\n",
        "由于线程是操作系统直接支持的执行单元，因此，高级语言通常都内置多线程的支持，Python也不例外，并且，Python的线程是真正的Posix Thread，而不是模拟出来的线程。"
      ]
    },
    {
      "cell_type": "markdown",
      "metadata": {
        "id": "7FMAZAToOwcR",
        "colab_type": "text"
      },
      "source": [
        "Python的标准库提供了两个模块：`_thread`和threading，`_thread`是低级模块，threading是高级模块，对`_thread`进行了封装。绝大多数情况下，我们只需要使用threading这个高级模块。\n",
        "启动一个线程就是把一个函数传入并创建Thread实例，然后调用start()开始执行\n",
        "\n",
        "```\n",
        "import time, threading\n",
        "\n",
        "# 新线程执行的代码:\n",
        "def loop():\n",
        "    print('thread %s is running...' % threading.current_thread().name)\n",
        "    n = 0\n",
        "    while n < 5:\n",
        "        n = n + 1\n",
        "        print('thread %s >>> %s' % (threading.current_thread().name, n))\n",
        "        time.sleep(1)\n",
        "    print('thread %s ended.' % threading.current_thread().name)\n",
        "\n",
        "print('thread %s is running...' % threading.current_thread().name)\n",
        "t = threading.Thread(target=loop, name='LoopThread')\n",
        "t.start()\n",
        "t.join()\n",
        "print('thread %s ended.' % threading.current_thread().name)\n",
        "```\n",
        "\n",
        "任何进程默认就会启动一个线程，我们把该线程称为主线程，主线程又可以启动新的线程  \n",
        "Python的threading模块有个current_thread()函数，它永远返回当前线程的实例。主线程实例的名字叫MainThread，子线程的名字在创建时指定，我们用LoopThread命名子线程。  \n",
        "名字仅仅在打印时用来显示，完全没有其他意义，如果不起名字Python就自动给线程命名为Thread-1，Thread-2……"
      ]
    },
    {
      "cell_type": "markdown",
      "metadata": {
        "id": "xNsPBzEKOwfL",
        "colab_type": "text"
      },
      "source": [
        "### Lock"
      ]
    },
    {
      "cell_type": "markdown",
      "metadata": {
        "id": "kntOtsB4Owho",
        "colab_type": "text"
      },
      "source": [
        "多线程和多进程最大的不同在于，多进程中，同一个变量，各自有一份拷贝存在于每个进程中，互不影响，而多线程中，所有变量都由所有线程共享，所以，任何一个变量都可以被任何一个线程修改，因此，线程之间共享数据最大的危险在于多个线程同时改一个变量，把内容给改乱了。"
      ]
    },
    {
      "cell_type": "markdown",
      "metadata": {
        "id": "qOjZyShYOwTK",
        "colab_type": "text"
      },
      "source": [
        "必须确保一个线程在修改balance的时候，别的线程一定不能改。  \n",
        "要确保balance计算正确，就要给change_it()上一把锁，当某个线程开始执行change_it()时，我们说，该线程因为获得了锁，因此其他线程不能同时执行change_it()，只能等待，直到锁被释放后，获得该锁以后才能改  \n",
        "由于锁只有一个，无论多少线程，同一时刻最多只有一个线程持有该锁，所以，不会造成修改的冲突。创建一个锁就是通过threading.Lock()来实现：\n",
        "\n",
        "```\n",
        "balance = 0\n",
        "lock = threading.Lock()\n",
        "\n",
        "def run_thread(n):\n",
        "    for i in range(100000):\n",
        "        # 先要获取锁:\n",
        "        lock.acquire()\n",
        "        try:\n",
        "            # 放心地改吧:\n",
        "            change_it(n)\n",
        "        finally:\n",
        "            # 改完了一定要释放锁:\n",
        "            lock.release()\n",
        "```\n",
        "\n",
        "当多个线程同时执行lock.acquire()时，只有一个线程能成功地获取锁，然后继续执行代码，其他线程就继续等待直到获得锁为止。\n",
        "\n",
        "获得锁的线程用完后一定要释放锁，否则那些苦苦等待锁的线程将永远等待下去，成为死线程。所以我们用try...finally来确保锁一定会被释放"
      ]
    },
    {
      "cell_type": "markdown",
      "metadata": {
        "id": "D2GEs0ezOwSB",
        "colab_type": "text"
      },
      "source": [
        "### 多核CPU  \n",
        "在Python中，可以使用多线程，但不要指望能有效利用多核。如果一定要通过多线程利用多核，那只能通过C扩展来实现，不过这样就失去了Python简单易用的特点。"
      ]
    },
    {
      "cell_type": "markdown",
      "metadata": {
        "id": "jJTWvO8nOwQz",
        "colab_type": "text"
      },
      "source": [
        "#### 小结\n",
        "\n",
        "\n",
        "1.  多线程编程，模型复杂，容易发生冲突，必须用锁加以隔离，同时，又要小心死锁的发生。\n",
        "2.   Python解释器由于设计时有GIL全局锁，导致了多线程无法利用多核\n",
        "\n"
      ]
    },
    {
      "cell_type": "markdown",
      "metadata": {
        "id": "AIVOOoabOwFB",
        "colab_type": "text"
      },
      "source": [
        "### ThreadLocal"
      ]
    },
    {
      "cell_type": "markdown",
      "metadata": {
        "id": "uIHORd0iOv1p",
        "colab_type": "text"
      },
      "source": [
        "在多线程环境下，每个线程都有自己的数据。一个线程使用自己的局部变量比使用全局变量好，因为局部变量只有线程自己能看见，不会影响其他线程，而全局变量的修改必须加锁。  \n",
        "用一个全局dict存放所有的Student对象，然后以thread自身作为key获得线程对应的Student对象如何？\n",
        "\n",
        "```\n",
        "global_dict = {}\n",
        "\n",
        "def std_thread(name):\n",
        "    std = Student(name)\n",
        "    # 把std放到全局变量global_dict中：\n",
        "    global_dict[threading.current_thread()] = std\n",
        "    do_task_1()\n",
        "    do_task_2()\n",
        "\n",
        "def do_task_1():\n",
        "    # 不传入std，而是根据当前线程查找：\n",
        "    std = global_dict[threading.current_thread()]\n",
        "    ...\n",
        "\n",
        "def do_task_2():\n",
        "    # 任何函数都可以查找出当前线程的std变量：\n",
        "    std = global_dict[threading.current_thread()]\n",
        "    ...\n",
        "```\n",
        "\n",
        "最大的优点是消除了std对象在每层函数中的传递问题，但是，每个函数获取std的代码有点丑。  \n",
        "\n",
        "\n",
        "\n",
        "\n",
        "\n",
        "ThreadLocal应运而生，不用查找dict，ThreadLocal帮你自动做这件事：\n",
        "```\n",
        "import threading\n",
        "    \n",
        "# 创建全局ThreadLocal对象:\n",
        "local_school = threading.local()\n",
        "\n",
        "def process_student():\n",
        "    # 获取当前线程关联的student:\n",
        "    std = local_school.student\n",
        "    print('Hello, %s (in %s)' % (std, threading.current_thread().name))\n",
        "\n",
        "def process_thread(name):\n",
        "    # 绑定ThreadLocal的student:\n",
        "    local_school.student = name\n",
        "    process_student()\n",
        "\n",
        "t1 = threading.Thread(target= process_thread, args=('Alice',), name='Thread-A')\n",
        "t2 = threading.Thread(target= process_thread, args=('Bob',), name='Thread-B')\n",
        "t1.start()\n",
        "t2.start()\n",
        "t1.join()\n",
        "t2.join()\n",
        "```\n",
        "\n",
        "全局变量local_school是一个dict，不但可以用local_school.student，还可以绑定其他变量，如local_school.teacher  \n",
        "\n",
        "ThreadLocal最常用的地方就是为每个线程绑定一个数据库连接，HTTP请求，用户身份信息等，这样一个线程的所有调用到的处理函数都可以非常方便地访问这些资源。\n",
        "\n",
        "#### 小结\n",
        "\n",
        "一个ThreadLocal变量虽然是全局变量，但每个线程都只能读写自己线程的独立副本，互不干扰。ThreadLocal解决了参数在一个线程中各个函数之间互相传递的问题。"
      ]
    },
    {
      "cell_type": "markdown",
      "metadata": {
        "id": "EQaYA_6jOvro",
        "colab_type": "text"
      },
      "source": [
        "### 进程 vs. 线程"
      ]
    },
    {
      "cell_type": "markdown",
      "metadata": {
        "id": "seDC1wy2YeRG",
        "colab_type": "text"
      },
      "source": [
        "要实现多任务，通常我们会设计Master-Worker模式，Master负责分配任务，Worker负责执行任务，因此，多任务环境下，通常是一个Master，多个Worker。\n",
        "\n",
        "*   如果用多进程实现Master-Worker，主进程就是Master，其他进程就是Worker。\n",
        "*   如果用多线程实现Master-Worker，主线程就是Master，其他线程就是Worker。\n",
        "\n"
      ]
    },
    {
      "cell_type": "markdown",
      "metadata": {
        "id": "TcZxhfYVYeT4",
        "colab_type": "text"
      },
      "source": [
        "在Windows下，多线程的效率比多进程要高，所以微软的IIS服务器默认采用多线程模式。由于多线程存在稳定性的问题，IIS的稳定性就不如Apache。为了缓解这个问题，IIS和Apache现在又有多进程+多线程的混合模式，真是把问题越搞越复杂。"
      ]
    },
    {
      "cell_type": "markdown",
      "metadata": {
        "id": "YwRn8FTDYeW_",
        "colab_type": "text"
      },
      "source": [
        "#### 线程切换  \n",
        "操作系统在切换进程或者线程时也是一样的，它需要先保存当前执行的现场环境（CPU寄存器状态、内存页等），然后，把新任务的执行环境准备好（恢复上次的寄存器状态，切换内存页等），才能开始执行。这个切换过程虽然很快，但是也需要耗费时间。如果有几千个任务同时进行，操作系统可能就主要忙着切换任务，根本没有多少时间去执行任务了，这种情况最常见的就是硬盘狂响，点窗口无反应，系统处于假死状态。"
      ]
    },
    {
      "cell_type": "markdown",
      "metadata": {
        "id": "iTPb3xdcYeZh",
        "colab_type": "text"
      },
      "source": [
        "#### 计算密集型 vs. IO密集型\n",
        "任务分为计算密集型和IO密集型。\n",
        "\n",
        "*   要最高效地利用CPU，计算密集型任务同时进行的数量应当等于CPU的核心数。\n",
        "*   涉及到网络、磁盘IO的任务都是IO密集型任务，特点是CPU消耗很少，任务的大部分时间都在等待IO操作完成（因为IO的速度远远低于CPU和内存的速度）  O密集型任务执行期间，99%的时间都花在IO上，花在CPU上的时间很少\n"
      ]
    },
    {
      "cell_type": "markdown",
      "metadata": {
        "id": "HUzx7f7HYecl",
        "colab_type": "text"
      },
      "source": [
        "#### 异步IO  \n",
        "分利用操作系统提供的异步IO支持，就可以用单进程单线程模型来执行多任务，这种全新的模型称为事件驱动模型  \n",
        "Nginx就是支持异步IO的Web服务器，它在单核CPU上采用单进程模型就可以高效地支持多任务。在多核CPU上，可以运行多个进程（数量与CPU核心数相同），充分利用多核CPU。  \n",
        "对应到Python语言，单线程的异步编程模型称为协程，有了协程的支持，就可以基于事件驱动编写高效的多任务程序。"
      ]
    },
    {
      "cell_type": "markdown",
      "metadata": {
        "id": "7VY1vDoFx4am",
        "colab_type": "text"
      },
      "source": [
        "###  分布式进程\n",
        "在Thread和Process中，应当优选Process，因为Process更稳定，而且，Process可以分布到多台机器上，而Thread最多只能分布到同一台机器的多个CPU上。"
      ]
    },
    {
      "cell_type": "markdown",
      "metadata": {
        "id": "GIkGEkZQx4j1",
        "colab_type": "text"
      },
      "source": [
        "如果我们已经有一个通过Queue通信的多进程程序在同一台机器上运行，现在，由于处理任务的进程任务繁重，希望把发送任务的进程和处理任务的进程分布到两台机器上。怎么用分布式进程实现？\n",
        "\n",
        "\n",
        "1.   原有的Queue可以继续使用，但是，通过managers模块把Queue通过网络暴露出去，就可以让其他机器的进程访问Queue了。\n",
        "\n",
        "\n",
        "2.   我们先看服务进程，服务进程负责启动Queue，把Queue注册到网络上，然后往Queue里面写入任务：\n",
        "\n",
        "\n",
        "```\n",
        "# task_master.py\n",
        "\n",
        "import random, time, queue\n",
        "from multiprocessing.managers import BaseManager\n",
        "\n",
        "# 发送任务的队列:\n",
        "task_queue = queue.Queue()\n",
        "# 接收结果的队列:\n",
        "result_queue = queue.Queue()\n",
        "\n",
        "# 从BaseManager继承的QueueManager:\n",
        "class QueueManager(BaseManager):\n",
        "    pass\n",
        "\n",
        "# 把两个Queue都注册到网络上, callable参数关联了Queue对象:\n",
        "QueueManager.register('get_task_queue', callable=lambda: task_queue)\n",
        "QueueManager.register('get_result_queue', callable=lambda: result_queue)\n",
        "# 绑定端口5000, 设置验证码'abc':\n",
        "manager = QueueManager(address=('', 5000), authkey=b'abc')\n",
        "# 启动Queue:\n",
        "manager.start()\n",
        "# 获得通过网络访问的Queue对象:\n",
        "task = manager.get_task_queue()\n",
        "result = manager.get_result_queue()\n",
        "# 放几个任务进去:\n",
        "for i in range(10):\n",
        "    n = random.randint(0, 10000)\n",
        "    print('Put task %d...' % n)\n",
        "    task.put(n)\n",
        "# 从result队列读取结果:\n",
        "print('Try get results...')\n",
        "for i in range(10):\n",
        "    r = result.get(timeout=10)\n",
        "    print('Result: %s' % r)\n",
        "# 关闭:\n",
        "manager.shutdown()\n",
        "print('master exit.')\n",
        "```\n",
        "\n",
        "\n",
        "\n"
      ]
    },
    {
      "cell_type": "markdown",
      "metadata": {
        "id": "HUIXNK4Rx4r_",
        "colab_type": "text"
      },
      "source": [
        "当我们在一台机器上写多进程程序时，创建的Queue可以直接拿来用，但是，在分布式多进程环境下，添加任务到Queue不可以直接对原始的task_queue进行操作，那样就绕过了QueueManager的封装，必须通过manager.get_task_queue()获得的Queue接口添加。"
      ]
    },
    {
      "cell_type": "markdown",
      "metadata": {
        "id": "ZGvSnJ2Py1n7",
        "colab_type": "text"
      },
      "source": [
        "在另一台机器上启动任务进程（本机上启动也可以）：\n",
        "\n",
        "```\n",
        "# task_worker.py\n",
        "\n",
        "import time, sys, queue\n",
        "from multiprocessing.managers import BaseManager\n",
        "\n",
        "# 创建类似的QueueManager:\n",
        "class QueueManager(BaseManager):\n",
        "    pass\n",
        "\n",
        "# 由于这个QueueManager只从网络上获取Queue，所以注册时只提供名字:\n",
        "QueueManager.register('get_task_queue')\n",
        "QueueManager.register('get_result_queue')\n",
        "\n",
        "# 连接到服务器，也就是运行task_master.py的机器:\n",
        "server_addr = '127.0.0.1'\n",
        "print('Connect to server %s...' % server_addr)\n",
        "# 端口和验证码注意保持与task_master.py设置的完全一致:\n",
        "m = QueueManager(address=(server_addr, 5000), authkey=b'abc')\n",
        "# 从网络连接:\n",
        "m.connect()\n",
        "# 获取Queue的对象:\n",
        "task = m.get_task_queue()\n",
        "result = m.get_result_queue()\n",
        "# 从task队列取任务,并把结果写入result队列:\n",
        "for i in range(10):\n",
        "    try:\n",
        "        n = task.get(timeout=1)\n",
        "        print('run task %d * %d...' % (n, n))\n",
        "        r = '%d * %d = %d' % (n, n, n*n)\n",
        "        time.sleep(1)\n",
        "        result.put(r)\n",
        "    except Queue.Empty:\n",
        "        print('task queue is empty.')\n",
        "# 处理结束:\n",
        "print('worker exit.')\n",
        "```\n",
        "\n"
      ]
    },
    {
      "cell_type": "markdown",
      "metadata": {
        "id": "a520sk_Qy5Uo",
        "colab_type": "text"
      },
      "source": [
        "务进程要通过网络连接到服务进程，所以要指定服务进程的IP。"
      ]
    },
    {
      "cell_type": "markdown",
      "metadata": {
        "id": "F8T_yqyry7K-",
        "colab_type": "text"
      },
      "source": [
        "\n",
        "\n",
        "1.   先启动task_master.py服务进程：\n",
        "\n",
        "```\n",
        "$ python3 task_master.py \n",
        "Put task 3411...\n",
        "Put task 1605...\n",
        "Put task 1398...\n",
        "Put task 4729...\n",
        "Put task 5300...\n",
        "Put task 7471...\n",
        "Put task 68...\n",
        "Put task 4219...\n",
        "Put task 339...\n",
        "Put task 7866...\n",
        "Try get results...\n",
        "```\n",
        "\n",
        "\n",
        "2.   task_master.py进程发送完任务后，开始等待result队列的结果。现在启动task_worker.py进程：\n",
        "\n",
        "```\n",
        "$ python3 task_worker.py\n",
        "Connect to server 127.0.0.1...\n",
        "run task 3411 * 3411...\n",
        "run task 1605 * 1605...\n",
        "run task 1398 * 1398...\n",
        "run task 4729 * 4729...\n",
        "run task 5300 * 5300...\n",
        "run task 7471 * 7471...\n",
        "run task 68 * 68...\n",
        "run task 4219 * 4219...\n",
        "run task 339 * 339...\n",
        "run task 7866 * 7866...\n",
        "worker exit.\n",
        "```\n",
        "\n",
        "3.  task_worker.py进程结束，在task_master.py进程中会继续打印出结果：\n",
        "\n",
        "\n",
        "```\n",
        "Result: 3411 * 3411 = 11634921\n",
        "Result: 1605 * 1605 = 2576025\n",
        "Result: 1398 * 1398 = 1954404\n",
        "Result: 4729 * 4729 = 22363441\n",
        "Result: 5300 * 5300 = 28090000\n",
        "Result: 7471 * 7471 = 55815841\n",
        "Result: 68 * 68 = 4624\n",
        "Result: 4219 * 4219 = 17799961\n",
        "Result: 339 * 339 = 114921\n",
        "Result: 7866 * 7866 = 61873956\n",
        "```\n",
        "\n",
        "\n"
      ]
    },
    {
      "cell_type": "markdown",
      "metadata": {
        "id": "vNm0URlYzPBr",
        "colab_type": "text"
      },
      "source": [
        "这就是一个简单但真正的分布式计算，把代码稍加改造，启动多个worker，就可以把任务分布到几台甚至几十台机器上，比如把计算`n*n`的代码换成发送邮件，就实现了邮件队列的异步发送。  \n",
        "Queue对象存储在哪？注意到task_worker.py中根本没有创建Queue的代码，所以，Queue对象存储在task_master.py进程中\n",
        "\n",
        "\n",
        "\n",
        "```\n",
        "                                             │\n",
        "┌─────────────────────────────────────────┐     ┌──────────────────────────────────────┐\n",
        "│task_master.py                           │  │  │task_worker.py                        │\n",
        "│                                         │     │                                      │\n",
        "│  task = manager.get_task_queue()        │  │  │  task = manager.get_task_queue()     │\n",
        "│  result = manager.get_result_queue()    │     │  result = manager.get_result_queue() │\n",
        "│              │                          │  │  │              │                       │\n",
        "│              │                          │     │              │                       │\n",
        "│              ▼                          │  │  │              │                       │\n",
        "│  ┌─────────────────────────────────┐    │     │              │                       │\n",
        "│  │QueueManager                     │    │  │  │              │                       │\n",
        "│  │ ┌────────────┐ ┌──────────────┐ │    │     │              │                       │\n",
        "│  │ │ task_queue │ │ result_queue │ │<───┼──┼──┼──────────────┘                       │\n",
        "│  │ └────────────┘ └──────────────┘ │    │     │                                      │\n",
        "│  └─────────────────────────────────┘    │  │  │                                      │\n",
        "└─────────────────────────────────────────┘     └──────────────────────────────────────┘\n",
        "                                             │\n",
        "\n",
        "                                          Network\n",
        "```\n",
        "\n"
      ]
    },
    {
      "cell_type": "markdown",
      "metadata": {
        "id": "TuNDGgoRzdmX",
        "colab_type": "text"
      },
      "source": [
        "Queue之所以能通过网络访问，就是通过QueueManager实现的。由于QueueManager管理的不止一个Queue，所以，要给每个Queue的网络调用接口起个名字，比如get_task_queue。"
      ]
    },
    {
      "cell_type": "markdown",
      "metadata": {
        "id": "lKG9ka4rzdlJ",
        "colab_type": "text"
      },
      "source": [
        "authkey有什么用？这是为了保证两台机器正常通信，不被其他机器恶意干扰。如果task_worker.py的authkey和task_master.py的authkey不一致，肯定连接不上。\n",
        "\n"
      ]
    },
    {
      "cell_type": "markdown",
      "metadata": {
        "id": "NT1mMnFtzjnv",
        "colab_type": "text"
      },
      "source": [
        "#### 小结"
      ]
    },
    {
      "cell_type": "markdown",
      "metadata": {
        "id": "kxEqrTu4znan",
        "colab_type": "text"
      },
      "source": [
        "* Python的分布式进程接口简单，封装良好，适合需要把繁重任务分布到多台机器的环境下\n",
        "\n",
        "* Queue的作用是用来传递任务和接收结果，每个任务的描述数据量要尽量小。比如发送一个处理日志文件的任务，就不要发送几百兆的日志文件本身，而是发送日志文件存放的完整路径，由Worker进程再去共享的磁盘上读取文件。"
      ]
    },
    {
      "cell_type": "markdown",
      "metadata": {
        "id": "GhWAVhUX0r3v",
        "colab_type": "text"
      },
      "source": [
        "***\n",
        "***"
      ]
    },
    {
      "cell_type": "markdown",
      "metadata": {
        "id": "gJe0RcEz0tpt",
        "colab_type": "text"
      },
      "source": [
        "# 正则表达式"
      ]
    },
    {
      "cell_type": "markdown",
      "metadata": {
        "id": "r-5yEOc30v5g",
        "colab_type": "text"
      },
      "source": [
        "正则表达式是一种用来匹配字符串的强有力的武器。它的设计思想是用一种描述性的语言来给字符串定义一个规则，凡是符合规则的字符串，我们就认为它“匹配”了，否则，该字符串就是不合法的。\n",
        "\n"
      ]
    },
    {
      "cell_type": "markdown",
      "metadata": {
        "id": "J5O4Pc9q010M",
        "colab_type": "text"
      },
      "source": [
        "所以我们判断一个字符串是否是合法的Email的方法是：\n",
        "\n",
        "1.   创建一个匹配Email的正则表达式\n",
        "2.   用该正则表达式去匹配用户的输入来判断是否合法。\n",
        "\n"
      ]
    },
    {
      "cell_type": "markdown",
      "metadata": {
        "id": "R9Lxlc4C01-S",
        "colab_type": "text"
      },
      "source": [
        "在正则表达式中，如果直接给出字符，就是精确匹配。用\\d可以匹配一个数字，\\w可以匹配一个字母或数字\n",
        "\n",
        "*   '00\\d'可以匹配'007'，但无法匹配'00A'；\n",
        "\n",
        "*   '\\d\\d\\d'可以匹配'010'；\n",
        "*   '\\w\\w\\d'可以匹配'py3'；\n",
        "\n",
        "\n",
        "*   `.`可以匹配任意字符\n",
        "\n",
        "\n",
        "\n",
        "\n",
        "*   'py.'可以匹配'pyc'、'pyo'、'py!'等等。\n",
        "*   用*表示任意个字符（包括0个）\n",
        "\n",
        "*   用+表示至少一个字符\n",
        "\n",
        "*   用?表示0个或1个字符\n",
        "*   用{n}表示n个字符\n",
        "\n",
        "\n",
        "*   \\s可以匹配一个空格（也包括Tab等空白符），所以\\s+表示至少有一个空格，例如匹配' '，' '等；\n",
        "\n",
        "*   \\d{3,8}表示3-8个数字，例如'1234567'\n",
        "*   要匹配'010-12345'  \\d{3}\\-\\d{3,8}\n",
        "\n",
        "\n",
        "\n",
        "\n",
        "\n",
        "\n",
        "\n",
        "\n",
        "\n"
      ]
    },
    {
      "cell_type": "markdown",
      "metadata": {
        "id": "05NTTbKB02CL",
        "colab_type": "text"
      },
      "source": [
        "### 进阶 \n",
        "要做更精确地匹配，可以用`[]`表示范围\n",
        "\n",
        "*  ` [0-9a-zA-Z\\_]`可以匹配一个数字、字母或者下划线；\n",
        "\n",
        "*   `[0-9a-zA-Z\\_]+`可以匹配至少由一个数字、字母或者下划线组成的字符串  比如'a100'，'0_Z'，'Py3000'等等；\n",
        "\n",
        "*   `[a-zA-Z\\_][0-9a-zA-Z\\_]*`可以匹配由字母或下划线开头，后接任意个由一个数字、字母或者下划线组成的字符串，也就是Python合法的变量；\n",
        "*   `[a-zA-Z\\_][0-9a-zA-Z\\_]{0, 19}`更精确地限制了变量的长度是1-20个字符（前面1个字符+后面最多19个字符）。\n",
        "\n",
        "\n",
        "*   A|B可以匹配A或B，所以(P|p)ython可以匹配'Python'或者'python'\n",
        "\n",
        "\n",
        "*   ^表示行的开头，^\\d表示必须以数字开头。\n",
        "\n",
        "*   `$`表示行的结束，`\\d$`表示必须以数字结束。\n",
        "\n",
        "*   py也可以匹配'python'，但是加上`^py$`就变成了整行匹配，就只能匹配'py'了\n",
        "*   列表项\n",
        "\n",
        "\n",
        "\n",
        "\n",
        "\n"
      ]
    },
    {
      "cell_type": "markdown",
      "metadata": {
        "id": "p7HuxnbK02TR",
        "colab_type": "text"
      },
      "source": [
        "### re模块\n",
        "Python提供re模块，包含所有正则表达式的功能。由于Python的字符串本身也用\\转义，所以要特别注意：\n"
      ]
    },
    {
      "cell_type": "markdown",
      "metadata": {
        "id": "3SDZj_vt6iPB",
        "colab_type": "text"
      },
      "source": [
        "使用Python的r前缀，就不用考虑转义的问题了\n",
        "\n",
        "```\n",
        "s = r'ABC\\-001' # Python的字符串\n",
        "# 对应的正则表达式字符串不变：\n",
        "# 'ABC\\-001'\n",
        "```\n",
        "\n"
      ]
    },
    {
      "cell_type": "markdown",
      "metadata": {
        "id": "tWBweWOH6iXr",
        "colab_type": "text"
      },
      "source": [
        "如何判断正则表达式是否匹配：\n",
        "\n",
        "\n",
        "```\n",
        ">>> import re\n",
        ">>> re.match(r'^\\d{3}\\-\\d{3,8}$', '010-12345')\n",
        "<_sre.SRE_Match object; span=(0, 9), match='010-12345'>\n",
        ">>> re.match(r'^\\d{3}\\-\\d{3,8}$', '010 12345')\n",
        ">>>\n",
        "```\n",
        "match()方法判断是否匹配，如果匹配成功，返回一个Match对象，否则返回None。常见的判断方法就是：\n",
        "\n",
        "```\n",
        "test = '用户输入的字符串'\n",
        "if re.match(r'正则表达式', test):\n",
        "    print('ok')\n",
        "else:\n",
        "    print('failed')\n",
        "```\n",
        "\n",
        "\n",
        "\n"
      ]
    },
    {
      "cell_type": "markdown",
      "metadata": {
        "id": "-5N1T1_96ihs",
        "colab_type": "text"
      },
      "source": [
        "### 切分字符串"
      ]
    },
    {
      "cell_type": "markdown",
      "metadata": {
        "id": "qCs50SwM7F1Y",
        "colab_type": "text"
      },
      "source": [
        "用正则表达式切分字符串比用固定的字符更灵活，请看正常的切分代码：\n",
        "\n",
        "```\n",
        ">>> 'a b   c'.split(' ')\n",
        "['a', 'b', '', '', 'c']\n",
        "```\n",
        "无法识别连续的空格\n",
        "\n",
        "```\n",
        ">>> re.split(r'\\s+', 'a b   c')\n",
        "['a', 'b', 'c']\n",
        "```\n",
        "无论多少个空格都可以正常分割。加入,试试：\n",
        "\n",
        "```\n",
        ">>> re.split(r'[\\s\\,]+', 'a,b, c  d')\n",
        "['a', 'b', 'c', 'd']\n",
        "```\n",
        "\n",
        "再加入;试试：\n",
        "\n",
        "```\n",
        ">>> re.split(r'[\\s\\,\\;]+', 'a,b;; c  d')\n",
        "['a', 'b', 'c', 'd']\n",
        "```\n",
        "\n",
        "\n",
        "\n"
      ]
    },
    {
      "cell_type": "markdown",
      "metadata": {
        "id": "6w1RQrpO7F-V",
        "colab_type": "text"
      },
      "source": [
        "### 分组 \n",
        "除了简单地判断是否匹配之外，正则表达式还有提取子串的强大功能。用()表示的就是要提取的分组（Group）"
      ]
    },
    {
      "cell_type": "markdown",
      "metadata": {
        "id": "niykHSmp7GBp",
        "colab_type": "text"
      },
      "source": [
        "^(\\d{3})-(\\d{3,8})$分别定义了两个组，可以直接从匹配的字符串中提取出区号和本地号码：\n",
        "\n",
        "\n",
        "\n",
        "```\n",
        ">>> m = re.match(r'^(\\d{3})-(\\d{3,8})$', '010-12345')\n",
        ">>> m\n",
        "<_sre.SRE_Match object; span=(0, 9), match='010-12345'>\n",
        ">>> m.group(0)\n",
        "'010-12345'\n",
        ">>> m.group(1)\n",
        "'010'\n",
        ">>> m.group(2)\n",
        "'12345'\n",
        "```\n",
        "\n",
        "如果正则表达式中定义了组，就可以在Match对象上用group()方法提取出子串来  \n",
        "注意到group(0)永远是原始字符串，group(1)、group(2)……表示第1、2、……个子串。\n",
        "\n",
        "\n",
        "\n",
        "```\n",
        ">>> t = '19:05:30'\n",
        ">>> m = re.match(r'^(0[0-9]|1[0-9]|2[0-3]|[0-9])\\:(0[0-9]|1[0-9]|2[0-9]|3[0-9]|4[0-9]|5[0-9]|[0-9])\\:(0[0-9]|1[0-9]|2[0-9]|3[0-9]|4[0-9]|5[0-9]|[0-9])$', t)\n",
        ">>> m.groups()\n",
        "('19', '05', '30')\n",
        "```\n",
        "\n"
      ]
    },
    {
      "cell_type": "markdown",
      "metadata": {
        "id": "O4hVnTSsFCrK",
        "colab_type": "text"
      },
      "source": [
        "### 贪婪匹配  \n",
        "正则匹配默认是贪婪匹配，也就是匹配尽可能多的字符。"
      ]
    },
    {
      "cell_type": "markdown",
      "metadata": {
        "id": "faeaUUIgFC30",
        "colab_type": "text"
      },
      "source": [
        "\n",
        "\n",
        "```\n",
        ">>> re.match(r'^(\\d+)(0*)$', '102300').groups()\n",
        "('102300', '')\n",
        "```\n",
        "必须让\\d+采用非贪婪匹配（也就是尽可能少匹配），才能把后面的0匹配出来，加个?就可以让\\d+采用非贪婪匹配：\n",
        "\n",
        "\n",
        "```\n",
        ">>> re.match(r'^(\\d+?)(0*)$', '102300').groups()\n",
        "('1023', '00')\n",
        "```\n",
        "\n",
        "\n"
      ]
    },
    {
      "cell_type": "markdown",
      "metadata": {
        "id": "B-V5LUn8FDAu",
        "colab_type": "text"
      },
      "source": [
        "### 编译\n",
        "re模块内部会干两件事情：\n",
        "\n",
        "1.   编译正则表达式，如果正则表达式的字符串本身不合法，会报错；\n",
        "2.   用编译后的正则表达式去匹配字符串\n",
        "\n",
        "如果一个正则表达式要重复使用几千次，出于效率的考虑，我们可以预编译该正则表达式，接下来重复使用时就不需要编译这个步骤了，直接匹配：\n",
        "\n",
        "```\n",
        ">>> import re\n",
        "# 编译:\n",
        ">>> re_telephone = re.compile(r'^(\\d{3})-(\\d{3,8})$')\n",
        "# 使用：\n",
        ">>> re_telephone.match('010-12345').groups()\n",
        "('010', '12345')\n",
        ">>> re_telephone.match('010-8086').groups()\n",
        "('010', '8086')\n",
        "```\n",
        "\n"
      ]
    },
    {
      "cell_type": "markdown",
      "metadata": {
        "id": "WM3cxlwbFCpX",
        "colab_type": "text"
      },
      "source": [
        "#### 小结 \n",
        "如果你经常遇到正则表达式的问题，你可能需要一本正则表达式的参考书。"
      ]
    },
    {
      "cell_type": "markdown",
      "metadata": {
        "id": "oUnzEBh6IE_k",
        "colab_type": "text"
      },
      "source": [
        "可以提取出带名字的Email地址：\n",
        "\n",
        "\n",
        "*   `<Tom Paris> tom`@voyager.org => Tom Paris\n",
        "*   `bob@example.com` => bob\n",
        "\n",
        "\n",
        "\n",
        "```\n",
        "import re\n",
        "\n",
        "def name_of_email(addr):\n",
        "    n = re.match(r'^[\\<]*([<\\w\\s]*)[\\>]*[\\w\\s]*\\@([\\w\\.]+)$', addr)\n",
        "    return n[1]\n",
        "    \n",
        "    \n",
        " # 测试:\n",
        "assert name_of_email('<Tom Paris> tom@voyager.org') == 'Tom Paris'\n",
        "assert name_of_email('tom@voyager.org') == 'tom'\n",
        "print('ok')\n",
        "```\n",
        "\n"
      ]
    },
    {
      "cell_type": "markdown",
      "metadata": {
        "id": "CvQfUKhnKhTZ",
        "colab_type": "text"
      },
      "source": [
        "验证Email地址的正则表达式\n",
        "\n",
        "```\n",
        "import re\n",
        "def is_valid_email(addr):\n",
        "       ßreturn re.match(r'^[\\w+\\.]+@.+[\\w+\\.]com$', addr) \n",
        "\n",
        "\n",
        "\n",
        "```\n",
        "\n"
      ]
    },
    {
      "cell_type": "markdown",
      "metadata": {
        "id": "_nBL5Fg2pgRa",
        "colab_type": "text"
      },
      "source": [
        "***\n",
        "***"
      ]
    },
    {
      "cell_type": "markdown",
      "metadata": {
        "id": "CO363pIZpiny",
        "colab_type": "text"
      },
      "source": [
        "# 常用内建模块"
      ]
    },
    {
      "cell_type": "markdown",
      "metadata": {
        "id": "m8IMuSUhpsV_",
        "colab_type": "text"
      },
      "source": [
        "## datetime\n",
        "datetime是Python处理日期和时间的标准库。"
      ]
    },
    {
      "cell_type": "markdown",
      "metadata": {
        "id": "um4Yolclpsff",
        "colab_type": "text"
      },
      "source": [
        "### 获取当前日期和时间"
      ]
    },
    {
      "cell_type": "markdown",
      "metadata": {
        "id": "Da706RcGpskp",
        "colab_type": "text"
      },
      "source": [
        "\n",
        "\n",
        "```\n",
        ">>> from datetime import datetime\n",
        ">>> now = datetime.now() # 获取当前datetime\n",
        ">>> print(now)\n",
        "2015-05-18 16:28:07.198690\n",
        ">>> print(type(now))\n",
        "<class 'datetime.datetime'>\n",
        "```\n",
        "* datetime是模块，datetime模块还包含一个datetime类，通过from datetime import datetime导入的才是datetime这个类。\n",
        "\n",
        "* 仅导入import datetime，则必须引用全名datetime.datetime。\n",
        "\n",
        "datetime.now()返回当前日期和时间，其类型是datetime。"
      ]
    },
    {
      "cell_type": "markdown",
      "metadata": {
        "id": "zv4UsjbEpsnq",
        "colab_type": "text"
      },
      "source": [
        "### 获取指定日期和时间"
      ]
    },
    {
      "cell_type": "markdown",
      "metadata": {
        "id": "53RaW3p4psp9",
        "colab_type": "text"
      },
      "source": [
        "指定某个日期和时间，直接用参数构造一个datetime：\n",
        "\n",
        "\n",
        "```\n",
        ">>> from datetime import datetime\n",
        ">>> dt = datetime(2015, 4, 19, 12, 20) # 用指定日期时间创建datetime\n",
        ">>> print(dt)\n",
        "2015-04-19 12:20:00\n",
        "```\n",
        "\n"
      ]
    },
    {
      "cell_type": "markdown",
      "metadata": {
        "id": "yuFbqQLjpssk",
        "colab_type": "text"
      },
      "source": [
        "### datetime转换为timestamp\n",
        "\n",
        "epoch time: 1970年1月1日 00:00:00 UTC+00:00时区的时刻"
      ]
    },
    {
      "cell_type": "markdown",
      "metadata": {
        "id": "MxomOMXYpsvd",
        "colab_type": "text"
      },
      "source": [
        "time stamp: 当前时间就是相对于epoch time的秒数\n",
        "\n",
        "*   timestamp = 0 = 1970-1-1 00:00:00 UTC+0:00\n",
        "\n",
        "*   timestamp = 0 = 1970-1-1 08:00:00 UTC+8:00\n",
        "\n",
        "把一个datetime类型转换为timestamp只需要简单调用timestamp()方法：\n",
        "\n",
        "```\n",
        ">>> from datetime import datetime\n",
        ">>> dt = datetime(2015, 4, 19, 12, 20) # 用指定日期时间创建datetime\n",
        ">>> dt.timestamp() # 把datetime转换为timestamp\n",
        "1429417200.0\n",
        "```\n",
        "\n",
        "\n"
      ]
    },
    {
      "cell_type": "markdown",
      "metadata": {
        "id": "Fjnlm37Dpsx9",
        "colab_type": "text"
      },
      "source": [
        "### timestamp转换为datetime"
      ]
    },
    {
      "cell_type": "markdown",
      "metadata": {
        "id": "g_i7ojyMps0s",
        "colab_type": "text"
      },
      "source": [
        "要把timestamp转换为datetime，使用datetime提供的fromtimestamp()方法\n",
        "\n",
        "```\n",
        ">>> from datetime import datetime\n",
        ">>> t = 1429417200.0\n",
        ">>> print(datetime.fromtimestamp(t))\n",
        "2015-04-19 12:20:00\n",
        "```\n",
        "\n"
      ]
    },
    {
      "cell_type": "markdown",
      "metadata": {
        "id": "EsiI3SUmps3J",
        "colab_type": "text"
      },
      "source": [
        "timestamp也可以直接被转换到UTC标准时区的时间：\n",
        "\n",
        "```\n",
        ">>> from datetime import datetime\n",
        ">>> t = 1429417200.0\n",
        ">>> print(datetime.fromtimestamp(t)) # 本地时间\n",
        "2015-04-19 12:20:00\n",
        ">>> print(datetime.utcfromtimestamp(t)) # UTC时间\n",
        "2015-04-19 04:20:00\n",
        "```\n",
        "\n",
        "\n"
      ]
    },
    {
      "cell_type": "markdown",
      "metadata": {
        "id": "6Nvgxs1Ips5u",
        "colab_type": "text"
      },
      "source": [
        "### str转换为datetime"
      ]
    },
    {
      "cell_type": "markdown",
      "metadata": {
        "id": "RTHOLN0Bps8l",
        "colab_type": "text"
      },
      "source": [
        "转换方法是通过datetime.strptime()实现，需要一个日期和时间的格式化字符串：\n",
        "\n",
        "```\n",
        ">>> from datetime import datetime\n",
        ">>> cday = datetime.strptime('2015-6-1 18:19:59', '%Y-%m-%d %H:%M:%S')\n",
        ">>> print(cday)\n",
        "2015-06-01 18:19:59\n",
        "```\n",
        "字符串'%Y-%m-%d %H:%M:%S'规定了日期和时间部分的格式。详细的说明请参考[Python文档](https://docs.python.org/3/library/datetime.html#strftime-strptime-behavior)。\n"
      ]
    },
    {
      "cell_type": "markdown",
      "metadata": {
        "id": "qup19lfvps_S",
        "colab_type": "text"
      },
      "source": [
        "### datetime加减"
      ]
    },
    {
      "cell_type": "markdown",
      "metadata": {
        "id": "hI_z-XJfptCI",
        "colab_type": "text"
      },
      "source": [
        "对日期和时间进行加减实际上就是把datetime往后或往前计算，得到新的datetime。加减可以直接用+和-运算符，不过需要导入timedelta这个类：\n",
        "\n",
        "```\n",
        ">>> from datetime import datetime, timedelta\n",
        ">>> now = datetime.now()\n",
        ">>> now\n",
        "datetime.datetime(2015, 5, 18, 16, 57, 3, 540997)\n",
        ">>> now + timedelta(hours=10)\n",
        "datetime.datetime(2015, 5, 19, 2, 57, 3, 540997)\n",
        ">>> now - timedelta(days=1)\n",
        "datetime.datetime(2015, 5, 17, 16, 57, 3, 540997)\n",
        ">>> now + timedelta(days=2, hours=12)\n",
        "datetime.datetime(2015, 5, 21, 4, 57, 3, 540997)\n",
        "```\n",
        "\n"
      ]
    },
    {
      "cell_type": "markdown",
      "metadata": {
        "id": "vI_uQwVoptFL",
        "colab_type": "text"
      },
      "source": [
        "### 本地时间转换为UTC时间"
      ]
    },
    {
      "cell_type": "markdown",
      "metadata": {
        "id": "_EfNXVE1ptHo",
        "colab_type": "text"
      },
      "source": [
        "一个datetime类型有一个时区属性tzinfo，但是默认为None，所以无法区分这个datetime到底是哪个时区，除非强行给datetime设置一个时区：\n",
        "\n",
        "```\n",
        ">>> from datetime import datetime, timedelta, timezone\n",
        ">>> tz_utc_8 = timezone(timedelta(hours=8)) # 创建时区UTC+8:00\n",
        ">>> now = datetime.now()\n",
        ">>> now\n",
        "datetime.datetime(2015, 5, 18, 17, 2, 10, 871012)\n",
        ">>> dt = now.replace(tzinfo=tz_utc_8) # 强制设置为UTC+8:00\n",
        ">>> dt\n",
        "datetime.datetime(2015, 5, 18, 17, 2, 10, 871012, tzinfo=datetime.timezone(datetime.timedelta(0, 28800)))\n",
        "```\n",
        "\n"
      ]
    },
    {
      "cell_type": "markdown",
      "metadata": {
        "id": "1ttsSQHDptKY",
        "colab_type": "text"
      },
      "source": [
        "### 时区转换\n",
        "先通过utcnow()拿到当前的UTC时间，再转换为任意时区的时间：\n",
        "\n",
        "\n",
        "```\n",
        "# 拿到UTC时间，并强制设置时区为UTC+0:00:\n",
        ">>> utc_dt = datetime.utcnow().replace(tzinfo=timezone.utc)\n",
        ">>> print(utc_dt)\n",
        "2015-05-18 09:05:12.377316+00:00\n",
        "# astimezone()将转换时区为北京时间:\n",
        ">>> bj_dt = utc_dt.astimezone(timezone(timedelta(hours=8)))\n",
        ">>> print(bj_dt)\n",
        "2015-05-18 17:05:12.377316+08:00\n",
        "# astimezone()将转换时区为东京时间:\n",
        ">>> tokyo_dt = utc_dt.astimezone(timezone(timedelta(hours=9)))\n",
        ">>> print(tokyo_dt)\n",
        "2015-05-18 18:05:12.377316+09:00\n",
        "# astimezone()将bj_dt转换时区为东京时间:\n",
        ">>> tokyo_dt2 = bj_dt.astimezone(timezone(timedelta(hours=9)))\n",
        ">>> print(tokyo_dt2)\n",
        "2015-05-18 18:05:12.377316+09:00\n",
        "```\n",
        "\n",
        "* 时区转换的关键在于，拿到一个datetime时，要获知其正确的时区，然后强制设置时区，作为基准时间。\n",
        "\n",
        "* 利用带时区的datetime，通过astimezone()方法，可以转换到任意时区。\n",
        "\n",
        "* 不是必须从UTC+0:00时区转换到其他时区，任何带时区的datetime都可以正确转换，例如上述bj_dt到tokyo_dt的转换。\n",
        "\n"
      ]
    },
    {
      "cell_type": "markdown",
      "metadata": {
        "id": "cDniskYuptPO",
        "colab_type": "text"
      },
      "source": [
        "### 小结"
      ]
    },
    {
      "cell_type": "markdown",
      "metadata": {
        "id": "uykx6PGIptSF",
        "colab_type": "text"
      },
      "source": [
        "\n",
        "\n",
        "*   datetime表示的时间需要时区信息才能确定一个特定的时间，否则只能视为本地时间。\n",
        "*   如果要存储datetime，最佳方法是将其转换为timestamp再存储，因为timestamp的值与时区完全无关。\n",
        "\n"
      ]
    },
    {
      "cell_type": "markdown",
      "metadata": {
        "id": "tR4gFbLqptUm",
        "colab_type": "text"
      },
      "source": [
        "获取了用户输入的日期和时间如2015-1-21 9:01:30，以及一个时区信息如UTC+5:00，均是str，请编写一个函数将其转换为timestamp：\n",
        "\n",
        "```\n",
        "\n",
        "import re\n",
        "from datetime import datetime, timezone, timedelta\n",
        "\n",
        "def to_timestamp(dt_str, tz_str):\n",
        "    m = re.match(r'UTC(\\-|\\+)(2[0-4]|1[0-9]|0[0-9]|[0-9])\\:00', tz_str)\n",
        "    cal = m.group(1)\n",
        "    num = int(m.group(2))\n",
        "    if cal == '+':\n",
        "        tz = timezone(timedelta(hours=num))\n",
        "    if cal == '-':\n",
        "        tz = timezone(-timedelta(hours=num))\n",
        "    dt = datetime.strptime(dt_str, '%Y-%m-%d %H:%M:%S').replace(tzinfo=tz)\n",
        "    return dt.timestamp()\n",
        "```\n",
        "\n",
        "***\n",
        "\n",
        "\n",
        "```\n",
        "def to_timestamp(dt_str, tz_str):\n",
        "    the_time = datetime.strptime(dt_str, '%Y-%m-%d %H:%M:%S')\n",
        "    n = re.findall('UTC(.*):\\d\\d',tz_str)[0]\n",
        "    n = int(n)\n",
        "    tz_utc_n = timezone(timedelta(hours=n))\n",
        "    dt = the_time.replace(tzinfo=tz_utc_n)\n",
        "    return dt.timestamp()\n",
        "```\n",
        "\n"
      ]
    },
    {
      "cell_type": "markdown",
      "metadata": {
        "id": "IDkuH5nEptXk",
        "colab_type": "text"
      },
      "source": [
        "## collections\n",
        "collections是Python内建的一个集合模块，提供了许多有用的集合类"
      ]
    },
    {
      "cell_type": "markdown",
      "metadata": {
        "id": "N0n8MVXzptZ3",
        "colab_type": "text"
      },
      "source": [
        "### namedtuple\n",
        "* tuple元素的个数，并可以用属性而不是索引来引用tuple的某个元素。\n",
        "\n",
        "* 用namedtuple可以很方便地定义一种数据类型，它具备tuple的不变性，又可以根据属性来引用，使用十分方便。\n",
        "\n",
        "\n",
        "```\n",
        ">>> from collections import namedtuple\n",
        ">>> Point = namedtuple('Point', ['x', 'y'])\n",
        ">>> p = Point(1, 2)\n",
        ">>> p.x\n",
        "1\n",
        ">>> p.y\n",
        "2\n",
        "```\n",
        "\n",
        "\n",
        "\n",
        "* 可以验证创建的Point对象是tuple的一种子类：\n",
        "\n",
        "\n",
        "```\n",
        ">>> isinstance(p, Point)\n",
        "True\n",
        ">>> isinstance(p, tuple)\n",
        "True\n",
        "```\n",
        "\n",
        "要用坐标和半径表示一个圆，也可以用namedtuple定义：\n",
        "\n",
        "\n",
        "```\n",
        "# namedtuple('名称', [属性list]):\n",
        "Circle = namedtuple('Circle', ['x', 'y', 'r'])\n",
        "```\n",
        "\n"
      ]
    },
    {
      "cell_type": "markdown",
      "metadata": {
        "id": "ifBHy9unptc0",
        "colab_type": "text"
      },
      "source": [
        "### deque\n",
        "deque是为了高效实现插入和删除操作的双向列表，适合用于队列和栈"
      ]
    },
    {
      "cell_type": "markdown",
      "metadata": {
        "id": "bDkjFrz2ptfc",
        "colab_type": "text"
      },
      "source": [
        "\n",
        "\n",
        "```\n",
        ">>> from collections import deque\n",
        ">>> q = deque(['a', 'b', 'c'])\n",
        ">>> q.append('x')\n",
        ">>> q.appendleft('y')\n",
        ">>> q\n",
        "deque(['y', 'a', 'b', 'c', 'x'])\n",
        "```\n",
        "deque除了实现list的append()和pop()外，还支持appendleft()和popleft()，这样就可以非常高效地往头部添加或删除元素。\n"
      ]
    },
    {
      "cell_type": "markdown",
      "metadata": {
        "id": "-lGsQEkbptiI",
        "colab_type": "text"
      },
      "source": [
        "### defaultdict"
      ]
    },
    {
      "cell_type": "markdown",
      "metadata": {
        "id": "QXSoGzih01n6",
        "colab_type": "text"
      },
      "source": [
        "使用dict时，如果引用的Key不存在，就会抛出KeyError。如果希望key不存在时，返回一个默认值，就可以用defaultdict："
      ]
    },
    {
      "cell_type": "markdown",
      "metadata": {
        "id": "6ZT8pqeD01qq",
        "colab_type": "text"
      },
      "source": [
        "\n",
        "\n",
        "```\n",
        ">>> from collections import defaultdict\n",
        ">>> dd = defaultdict(lambda: 'N/A')\n",
        ">>> dd['key1'] = 'abc'\n",
        ">>> dd['key1'] # key1存在\n",
        "'abc'\n",
        ">>> dd['key2'] # key2不存在，返回默认值\n",
        "'N/A'\n",
        "```\n",
        "* 默认值是调用函数返回的，而函数在创建defaultdict对象时传入\n",
        "* 除了在Key不存在时返回默认值，defaultdict的其他行为跟dict是完全一样的。\n"
      ]
    },
    {
      "cell_type": "markdown",
      "metadata": {
        "id": "3o_1h60v01tW",
        "colab_type": "text"
      },
      "source": [
        "### OrderedDict\n",
        "要保持Key的顺序，可以用OrderedDict：\n",
        "\n",
        "```\n",
        ">>> from collections import OrderedDict\n",
        ">>> d = dict([('a', 1), ('b', 2), ('c', 3)])\n",
        ">>> d # dict的Key是无序的\n",
        "{'a': 1, 'c': 3, 'b': 2}\n",
        ">>> od = OrderedDict([('a', 1), ('b', 2), ('c', 3)])\n",
        ">>> od # OrderedDict的Key是有序的\n",
        "OrderedDict([('a', 1), ('b', 2), ('c', 3)]\n",
        "```\n",
        "\n",
        "注意，OrderedDict的Key会按照插入的顺序排列，不是Key本身排序："
      ]
    },
    {
      "cell_type": "markdown",
      "metadata": {
        "id": "iln-v4En01yJ",
        "colab_type": "text"
      },
      "source": [
        "OrderedDict可以实现一个FIFO（先进先出）的dict，当容量超出限制时，先删除最早添加的Key：\n",
        "\n",
        "\n",
        "```\n",
        "from collections import OrderedDict\n",
        "\n",
        "class LastUpdatedOrderedDict(OrderedDict):\n",
        "\n",
        "    def __init__(self, capacity):\n",
        "        super(LastUpdatedOrderedDict, self).__init__()\n",
        "        self._capacity = capacity\n",
        "\n",
        "    def __setitem__(self, key, value):\n",
        "        containsKey = 1 if key in self else 0\n",
        "        if len(self) - containsKey >= self._capacity:\n",
        "            last = self.popitem(last=False)\n",
        "            print('remove:', last)\n",
        "        if containsKey:\n",
        "            del self[key]\n",
        "            print('set:', (key, value))\n",
        "        else:\n",
        "            print('add:', (key, value))\n",
        "        OrderedDict.__setitem__(self, key, value)\n",
        "```\n",
        "\n"
      ]
    },
    {
      "cell_type": "markdown",
      "metadata": {
        "id": "ewlB8TnJ011B",
        "colab_type": "text"
      },
      "source": [
        "### ChainMap\n"
      ]
    },
    {
      "cell_type": "markdown",
      "metadata": {
        "id": "CpWCQUkE015k",
        "colab_type": "text"
      },
      "source": [
        "ChainMap可以把一组dict串起来并组成一个逻辑上的dict。ChainMap本身也是一个dict，但是查找的时候，会按照顺序在内部的dict依次查找。  \n",
        "什么时候使用ChainMap最合适？举个例子：应用程序往往都需要传入参数，参数可以通过命令行传入，可以通过环境变量传入，还可以有默认参数。我们可以用ChainMap实现参数的优先级查找，即先查命令行参数，如果没有传入，再查环境变量，如果没有，就使用默认参数。"
      ]
    },
    {
      "cell_type": "markdown",
      "metadata": {
        "id": "DqVsHbcg018O",
        "colab_type": "text"
      },
      "source": [
        "演示了如何查找user和color这两个参数：\n",
        "\n",
        "```\n",
        "from collections import ChainMap\n",
        "import os, argparse\n",
        "\n",
        "# 构造缺省参数:\n",
        "defaults = {\n",
        "    'color': 'red',\n",
        "    'user': 'guest'\n",
        "}\n",
        "\n",
        "# 构造命令行参数:\n",
        "parser = argparse.ArgumentParser()\n",
        "parser.add_argument('-u', '--user')\n",
        "parser.add_argument('-c', '--color')\n",
        "namespace = parser.parse_args()\n",
        "command_line_args = { k: v for k, v in vars(namespace).items() if v }\n",
        "\n",
        "# 组合成ChainMap:\n",
        "combined = ChainMap(command_line_args, os.environ, defaults)\n",
        "\n",
        "# 打印参数:\n",
        "print('color=%s' % combined['color'])\n",
        "print('user=%s' % combined['user'])\n",
        "```\n",
        "\n",
        "没有任何参数时，打印出默认参数：\n",
        "\n",
        "```\n",
        "$ python3 use_chainmap.py \n",
        "color=red\n",
        "user=guest\n",
        "```\n",
        "\n",
        "当传入命令行参数时，优先使用命令行参数：\n",
        "\n",
        "```\n",
        "$ python3 use_chainmap.py -u bob\n",
        "color=red\n",
        "user=bob\n",
        "```\n",
        "\n",
        "同时传入命令行参数和环境变量，命令行参数的优先级较高：\n",
        "\n",
        "```\n",
        "$ user=admin color=green python3 use_chainmap.py -u bob\n",
        "```\n",
        "\n"
      ]
    },
    {
      "cell_type": "markdown",
      "metadata": {
        "id": "ptJCFBan01-s",
        "colab_type": "text"
      },
      "source": [
        "### Counter  \n",
        "Counter是一个简单的计数器"
      ]
    },
    {
      "cell_type": "markdown",
      "metadata": {
        "id": "9Un1kEuE02EB",
        "colab_type": "text"
      },
      "source": [
        "统计字符出现的个数：\n",
        "\n",
        "```\n",
        ">>> from collections import Counter\n",
        ">>> c = Counter()\n",
        ">>> for ch in 'programming':\n",
        "...     c[ch] = c[ch] + 1\n",
        "...\n",
        ">>> c\n",
        "Counter({'g': 2, 'm': 2, 'r': 2, 'a': 1, 'i': 1, 'o': 1, 'n': 1, 'p': 1})\n",
        "```\n",
        "Counter实际上是dict的一个子类\n"
      ]
    },
    {
      "cell_type": "markdown",
      "metadata": {
        "id": "zo4K9kXx02Gq",
        "colab_type": "text"
      },
      "source": [
        "### 小结\n",
        "collections模块提供了一些有用的集合类"
      ]
    },
    {
      "cell_type": "markdown",
      "metadata": {
        "id": "nNcD-goh02J3",
        "colab_type": "text"
      },
      "source": [
        "## base64\n",
        "Base64是一种用64个字符来表示任意二进制数据的方法。"
      ]
    },
    {
      "cell_type": "markdown",
      "metadata": {
        "id": "APGiIGEr02N8",
        "colab_type": "text"
      },
      "source": [
        "Base64是一种最常见的二进制编码方法"
      ]
    },
    {
      "cell_type": "markdown",
      "metadata": {
        "id": "9KgFvIw902QY",
        "colab_type": "text"
      },
      "source": [
        "### 原理"
      ]
    },
    {
      "cell_type": "markdown",
      "metadata": {
        "id": "UWYB0aUmGgc7",
        "colab_type": "text"
      },
      "source": [
        "1. 准备一个包含64个字符的数组：\n",
        "\n",
        "```\n",
        "['A', 'B', 'C', ... 'a', 'b', 'c', ... '0', '1', ... '+', '/']\n",
        "```\n",
        "2. 对二进制数据进行处理，每3个字节一组，一共是3x8=24bit，划为4组，每组正好6个bit：\n",
        "\n",
        "3. 得到4个数字作为索引，然后查表，获得相应的4个字符，就是编码后的字符串。\n",
        "\n",
        "\n",
        "Base64编码会把3字节的二进制数据编码为4字节的文本数据，长度增加33%，好处是编码后的文本数据可以在邮件正文、网页等直接显示\n",
        " \n",
        " 要编码的二进制数据不是3的倍数，最后会剩下1个或2个字节怎么办？Base64用\\x00字节在末尾补足后，再在编码的末尾加上1个或2个=号，表示补了多少字节，解码的时候，会自动去掉。\n"
      ]
    },
    {
      "cell_type": "markdown",
      "metadata": {
        "id": "jMxQSRFcGgfy",
        "colab_type": "text"
      },
      "source": [
        "### Python内置的base64可以直接进行base64的编解码：\n",
        "\n",
        "```\n",
        ">>> import base64\n",
        ">>> base64.b64encode(b'binary\\x00string')\n",
        "b'YmluYXJ5AHN0cmluZw=='\n",
        ">>> base64.b64decode(b'YmluYXJ5AHN0cmluZw==')\n",
        "b'binary\\x00string'\n",
        "```\n",
        "\n"
      ]
    },
    {
      "cell_type": "markdown",
      "metadata": {
        "id": "kBSXo8LhGgil",
        "colab_type": "text"
      },
      "source": [
        "由于标准的Base64编码后可能出现字符+和/，在URL中就不能直接作为参数，所以又有一种\"url safe\"的base64编码，其实就是把字符+和/分别变成-和_：\n",
        "\n",
        "```\n",
        ">>> base64.b64encode(b'i\\xb7\\x1d\\xfb\\xef\\xff')\n",
        "b'abcd++//'\n",
        ">>> base64.urlsafe_b64encode(b'i\\xb7\\x1d\\xfb\\xef\\xff')\n",
        "b'abcd--__'\n",
        ">>> base64.urlsafe_b64decode('abcd--__')\n",
        "b'i\\xb7\\x1d\\xfb\\xef\\xff'\n",
        "```\n",
        "\n",
        "* Base64是一种通过查表的编码方法，不能用于加密，即使使用自定义的编码表也不行。\n",
        "\n",
        "* Base64适用于小段内容的编码，比如数字证书签名、Cookie的内容等。\n",
        "\n",
        "* 为Base64是把3个字节变为4个字节，所以，Base64编码的长度永远是4的倍数，因此，需要加上=把Base64字符串的长度变为4的倍数，就可以正常解码了。"
      ]
    },
    {
      "cell_type": "markdown",
      "metadata": {
        "id": "aLE-JIbbGgmG",
        "colab_type": "text"
      },
      "source": [
        "### 小结\n",
        "Base64是一种任意二进制到文本字符串的编码方法，常用于在URL、Cookie、网页中传输少量二进制数据。"
      ]
    },
    {
      "cell_type": "markdown",
      "metadata": {
        "id": "SXNB66nKJDsw",
        "colab_type": "text"
      },
      "source": [
        "一个能处理去掉=的base64解码函数："
      ]
    },
    {
      "cell_type": "code",
      "metadata": {
        "id": "uFppN6LAI6lR",
        "colab_type": "code",
        "colab": {}
      },
      "source": [
        "# -*- coding: utf-8 -*-\n",
        "import base64\n",
        "def safe_base64_decode(s):\n",
        "    while len(s) % 4 > 0:\n",
        "        s += b'\\x3d'\n",
        "    return base64.b64decode(s)"
      ],
      "execution_count": 0,
      "outputs": []
    },
    {
      "cell_type": "code",
      "metadata": {
        "id": "yKu5Qx_JJBE-",
        "colab_type": "code",
        "outputId": "c766b813-3346-4afc-a7b0-160a1698c393",
        "colab": {
          "base_uri": "https://localhost:8080/",
          "height": 35
        }
      },
      "source": [
        "# 测试:\n",
        "assert b'abcd' == safe_base64_decode(b'YWJjZA=='), safe_base64_decode('YWJjZA==')\n",
        "assert b'abcd' == safe_base64_decode(b'YWJjZA'), safe_base64_decode('YWJjZA')\n",
        "print('ok')"
      ],
      "execution_count": 0,
      "outputs": [
        {
          "output_type": "stream",
          "text": [
            "ok\n"
          ],
          "name": "stdout"
        }
      ]
    },
    {
      "cell_type": "markdown",
      "metadata": {
        "id": "iT7GUiUteRcR",
        "colab_type": "text"
      },
      "source": [
        "## struct"
      ]
    },
    {
      "cell_type": "markdown",
      "metadata": {
        "id": "AHV8cGd2eTtz",
        "colab_type": "text"
      },
      "source": [
        "要把一个32位无符号整数变成字节，也，你得配合位运算符这么写：\n",
        "\n",
        "\n",
        "```\n",
        ">>> n = 10240099\n",
        ">>> b1 = (n & 0xff000000) >> 24\n",
        ">>> b2 = (n & 0xff0000) >> 16\n",
        ">>> b3 = (n & 0xff00) >> 8\n",
        ">>> b4 = n & 0xff\n",
        ">>> bs = bytes([b1, b2, b3, b4])\n",
        ">>> bs\n",
        "b'\\x00\\x9c@c'\n",
        "```\n",
        "\n"
      ]
    },
    {
      "cell_type": "markdown",
      "metadata": {
        "id": "QmZgdLMJeT4J",
        "colab_type": "text"
      },
      "source": [
        "* python提供了一个struct模块来解决bytes和其他二进制数据类型的转换。\n",
        "* struct的pack函数把任意数据类型变成bytes：\n",
        "\n",
        "```\n",
        ">>> import struct\n",
        ">>> struct.pack('>I', 10240099)\n",
        "b'\\x00\\x9c@c'\n",
        "```\n",
        "* pack的第一个参数是处理指令，'>I'的意思是：>表示字节顺序是big-endian，也就是网络序，I表示4字节无符号整数。>表示字节顺序是big-endian，也就是网络序，I表示4字节无符号整数。  \n",
        "* unpack把bytes变成相应的数据类型\n",
        "\n",
        "\n",
        "```\n",
        ">>> struct.unpack('>IH', b'\\xf0\\xf0\\xf0\\xf0\\x80\\x80')\n",
        "(4042322160, 32896)\n",
        "\n",
        "```\n",
        "\n",
        "根据>IH的说明，后面的bytes依次变为I：4字节无符号整数和H：2字节无符号整数。\n",
        "\n",
        "\n",
        "\n"
      ]
    },
    {
      "cell_type": "markdown",
      "metadata": {
        "id": "WE2T5QB_eUAE",
        "colab_type": "text"
      },
      "source": [
        "检查任意文件是否是位图文件，如果是，打印出图片大小和颜色数。"
      ]
    },
    {
      "cell_type": "code",
      "metadata": {
        "id": "QEg850813iFS",
        "colab_type": "code",
        "outputId": "bc7a863b-ea9e-4180-c6e4-dd325fb1f24a",
        "colab": {
          "base_uri": "https://localhost:8080/",
          "height": 51
        }
      },
      "source": [
        "import base64, struct\n",
        "bmp_data = base64.b64decode('Qk1oAgAAAAAAADYAAAAoAAAAHAAAAAoAAAABABAAAAAAADICAAASCwAAEgsAAAAAAAAAAAAA/3//f/9//3//f/9//3//f/9//3//f/9//3//f/9//3//f/9//3//f/9//3//f/9//3//f/9//3//f/9/AHwAfAB8AHwAfAB8AHwAfP9//3//fwB8AHwAfAB8/3//f/9/AHwAfAB8AHz/f/9//3//f/9//38AfAB8AHwAfAB8AHwAfAB8AHz/f/9//38AfAB8/3//f/9//3//fwB8AHz/f/9//3//f/9//3//f/9/AHwAfP9//3//f/9/AHwAfP9//3//fwB8AHz/f/9//3//f/9/AHwAfP9//3//f/9//3//f/9//38AfAB8AHwAfAB8AHwAfP9//3//f/9/AHwAfP9//3//f/9//38AfAB8/3//f/9//3//f/9//3//fwB8AHwAfAB8AHwAfAB8/3//f/9//38AfAB8/3//f/9//3//fwB8AHz/f/9//3//f/9//3//f/9/AHwAfP9//3//f/9/AHwAfP9//3//fwB8AHz/f/9/AHz/f/9/AHwAfP9//38AfP9//3//f/9/AHwAfAB8AHwAfAB8AHwAfAB8/3//f/9/AHwAfP9//38AfAB8AHwAfAB8AHwAfAB8/3//f/9//38AfAB8AHwAfAB8AHwAfAB8/3//f/9/AHwAfAB8AHz/fwB8AHwAfAB8AHwAfAB8AHz/f/9//3//f/9//3//f/9//3//f/9//3//f/9//3//f/9//3//f/9//3//f/9//3//f/9//3//f/9//38AAA==')\n",
        "def bmp_info(data):\n",
        "    bmpbytes = data[:30]\n",
        "    s = struct.unpack('<ccIIIIIIHH', bmpbytes)\n",
        "\n",
        "    if s[1] == b'M':\n",
        "        print('该文件是位图文件。')\n",
        "        return {\n",
        "            'width': s[6],\n",
        "            'height': s[7],\n",
        "            'color': s[9],\n",
        "        }\n",
        "    else:\n",
        "        print('该文件不是位图文件。')\n",
        "# 测试\n",
        "bi = bmp_info(bmp_data)\n",
        "assert bi['width'] == 28\n",
        "assert bi['height'] == 10\n",
        "assert bi['color'] == 16\n",
        "print('ok')"
      ],
      "execution_count": 0,
      "outputs": [
        {
          "output_type": "stream",
          "text": [
            "该文件是位图文件。\n",
            "ok\n"
          ],
          "name": "stdout"
        }
      ]
    },
    {
      "cell_type": "markdown",
      "metadata": {
        "id": "z6OhCCf4eUFf",
        "colab_type": "text"
      },
      "source": [
        "## hashlib \n",
        "摘要算法又称哈希算法、散列算法。它通过一个函数，把任意长度的数据转换为一个长度固定的数据串（通常用16进制的字符串表示）。\n",
        "以常见的摘要算法MD5为例，计算出一个字符串的MD5值：\n",
        "\n",
        "\n",
        "```\n",
        "import hashlib\n",
        "\n",
        "md5 = hashlib.md5()\n",
        "md5.update('how to use md5 in python hashlib?'.encode('utf-8'))\n",
        "print(md5.hexdigest())\n",
        "```\n",
        "如果数据量很大，可以分块多次调用update()，最后计算的结果是一样的：\n",
        "\n",
        "```\n",
        "import hashlib\n",
        "\n",
        "md5 = hashlib.md5()\n",
        "md5.update('how to use md5 in '.encode('utf-8'))\n",
        "md5.update('python hashlib?'.encode('utf-8'))\n",
        "print(md5.hexdigest())\n",
        "```\n",
        "\n",
        "MD5是最常见的摘要算法，速度很快，生成结果是固定的128 bit字节，通常用一个32位的16进制字符串表示。  \n",
        "另一种常见的摘要算法是SHA1，调用SHA1和调用MD5完全类似：\n",
        "\n",
        "```\n",
        "import hashlib\n",
        "\n",
        "sha1 = hashlib.sha1()\n",
        "sha1.update('how to use sha1 in '.encode('utf-8'))\n",
        "sha1.update('python hashlib?'.encode('utf-8'))\n",
        "print(sha1.hexdigest())\n",
        "```\n",
        "\n",
        "\n",
        "SHA1的结果是160 bit字节，通常用一个40位的16进制字符串表示。"
      ]
    },
    {
      "cell_type": "markdown",
      "metadata": {
        "id": "nAaigyLleULv",
        "colab_type": "text"
      },
      "source": [
        "### 摘要算法应用"
      ]
    },
    {
      "cell_type": "markdown",
      "metadata": {
        "id": "xN9ICR2beURt",
        "colab_type": "text"
      },
      "source": [
        "1. 任何允许用户登录的网站都会存储用户登录的用户名和口令。如何存储用户名和口令呢？方法是存到数据库表中：     \n",
        "2. 如果以明文保存用户口令，如果数据库泄露，所有用户的口令就落入黑客的手里。此外，网站运维人员是可以访问数据库的，也就是能获取到所有用户的口令。\n",
        "3. 正确的保存口令的方式是不存储用户的明文口令，而是存储用户口令的摘要，比如MD5：\n",
        "4. 当用户登录时，首先计算用户输入的明文口令的MD5，然后和数据库存储的MD5对比，如果一致，说明口令输入正确，如果不一致，口令肯定错误。\n",
        "5. 存储MD5的好处是即使运维人员能访问数据库，也无法获知用户的明文口令。\n",
        "6.设计一个验证用户登录的函数，根据用户输入的口令是否正确，返回True或False："
      ]
    },
    {
      "cell_type": "markdown",
      "metadata": {
        "id": "YYCUNcmieUZA",
        "colab_type": "text"
      },
      "source": [
        "根据用户输入的口令，计算出存储在数据库中的MD5口令："
      ]
    },
    {
      "cell_type": "code",
      "metadata": {
        "id": "I5L6NLKL9Cbp",
        "colab_type": "code",
        "outputId": "49b60377-93ac-462a-c76f-efb4231f485d",
        "colab": {
          "base_uri": "https://localhost:8080/",
          "height": 34
        }
      },
      "source": [
        "import hashlib\n",
        "db = {\n",
        "    'michael': 'e10adc3949ba59abbe56e057f20f883e',\n",
        "    'bob': '878ef96e86145580c38c87f0410ad153',\n",
        "    'alice': '99b1c2188db85afee403b1536010c2c9'\n",
        "}\n",
        "def calc_md5(password):\n",
        "    md5 = hashlib.md5()\n",
        "    md5.update(password.encode('utf-8'))\n",
        "    return md5.hexdigest()\n",
        "\n",
        "def login(user, password):\n",
        "    return True if db[user] == calc_md5(password) else False\n",
        "\n",
        "\n",
        "# 测试:\n",
        "assert login('michael', '123456')\n",
        "assert login('bob', 'abc999')\n",
        "assert login('alice', 'alice2008')\n",
        "assert not login('michael', '1234567')\n",
        "assert not login('bob', '123456')\n",
        "assert not login('alice', 'Alice2008')\n",
        "print('ok')"
      ],
      "execution_count": 0,
      "outputs": [
        {
          "output_type": "stream",
          "text": [
            "ok\n"
          ],
          "name": "stdout"
        }
      ]
    },
    {
      "cell_type": "markdown",
      "metadata": {
        "id": "Y7vbmBy5A9St",
        "colab_type": "text"
      },
      "source": [
        "根据修改后的MD5算法实现用户登录的验证"
      ]
    },
    {
      "cell_type": "code",
      "metadata": {
        "id": "AC14zJrwA-Am",
        "colab_type": "code",
        "outputId": "6310fa55-169e-40ae-fa99-44eb6900f04b",
        "colab": {
          "base_uri": "https://localhost:8080/",
          "height": 34
        }
      },
      "source": [
        "import hashlib, random\n",
        "def register(username, password):\n",
        "    db[username] = get_md5(password + username + 'the-Salt')\n",
        "def get_md5(s):\n",
        "    return hashlib.md5(s.encode('utf-8')).hexdigest()\n",
        "\n",
        "class User(object):\n",
        "    def __init__(self, username, password):\n",
        "        self.username = username\n",
        "        self.salt = ''.join([chr(random.randint(48, 122)) for i in range(20)])\n",
        "        self.password = get_md5(password + self.salt)\n",
        "db = {\n",
        "    'michael': User('michael', '123456'),\n",
        "    'bob': User('bob', 'abc999'),\n",
        "    'alice': User('alice', 'alice2008')\n",
        "}\n",
        "def login(username, password):\n",
        "    user = db[username]\n",
        "    return user.password == get_md5(password+user.salt)\n",
        "# 测试:\n",
        "assert login('michael', '123456')\n",
        "assert login('bob', 'abc999')\n",
        "assert login('alice', 'alice2008')\n",
        "assert not login('michael', '1234567')\n",
        "assert not login('bob', '123456')\n",
        "assert not login('alice', 'Alice2008')\n",
        "print('ok')"
      ],
      "execution_count": 0,
      "outputs": [
        {
          "output_type": "stream",
          "text": [
            "ok\n"
          ],
          "name": "stdout"
        }
      ]
    },
    {
      "cell_type": "markdown",
      "metadata": {
        "id": "w72jfSZ-eUfb",
        "colab_type": "text"
      },
      "source": [
        "### 小结\n",
        "单向计算特性决定了可以在不存储明文口令的情况下验证用户口令"
      ]
    },
    {
      "cell_type": "markdown",
      "metadata": {
        "id": "VpS2xPgaeUtZ",
        "colab_type": "text"
      },
      "source": [
        "##  hmac\n",
        "Hmac算法：Keyed-Hashing for Message Authentication。它通过一个标准算法，在计算哈希的过程中，把key混入计算过程中"
      ]
    },
    {
      "cell_type": "markdown",
      "metadata": {
        "id": "bt7o5dpKeUws",
        "colab_type": "text"
      },
      "source": [
        "Python自带的hmac模块实现了标准的Hmac算法"
      ]
    },
    {
      "cell_type": "code",
      "metadata": {
        "id": "lZkmgjbkCopL",
        "colab_type": "code",
        "outputId": "9d0cdae0-c456-405b-eb3b-5fd1c9b4cf41",
        "colab": {
          "base_uri": "https://localhost:8080/",
          "height": 34
        }
      },
      "source": [
        "import hmac\n",
        "message = b'Hello, world!'\n",
        "key = b'secret'\n",
        "h = hmac.new(key, message, digestmod='MD5')\n",
        "h.hexdigest()"
      ],
      "execution_count": 0,
      "outputs": [
        {
          "output_type": "execute_result",
          "data": {
            "text/plain": [
              "'fa4ee7d173f2d97ee79022d1a7355bcf'"
            ]
          },
          "metadata": {
            "tags": []
          },
          "execution_count": 18
        }
      ]
    },
    {
      "cell_type": "markdown",
      "metadata": {
        "id": "N1pLcurGeUc6",
        "colab_type": "text"
      },
      "source": [
        "hmac输出的长度和原始哈希算法的长度一致。需要注意传入的key和message都是bytes类型，str类型需要首先编码为bytes"
      ]
    },
    {
      "cell_type": "markdown",
      "metadata": {
        "id": "uvwCSYfNeUWY",
        "colab_type": "text"
      },
      "source": [
        "salt改为标准的hmac算法"
      ]
    },
    {
      "cell_type": "code",
      "metadata": {
        "id": "PRPLQEWoDBWy",
        "colab_type": "code",
        "outputId": "d5158c56-bf84-42ea-e179-36c0b4746427",
        "colab": {
          "base_uri": "https://localhost:8080/",
          "height": 34
        }
      },
      "source": [
        "import hmac, random\n",
        "\n",
        "def hmac_md5(key, s):\n",
        "    return hmac.new(key.encode('utf-8'), s.encode('utf-8'), 'MD5').hexdigest()\n",
        "\n",
        "class User(object):\n",
        "    def __init__(self, username, password):\n",
        "        self.username = username\n",
        "        self.key = ''.join([chr(random.randint(48, 122)) for i in range(20)])\n",
        "        self.password = hmac_md5(self.key, password)\n",
        "\n",
        "db = {\n",
        "    'michael': User('michael', '123456'),\n",
        "    'bob': User('bob', 'abc999'),\n",
        "    'alice': User('alice', 'alice2008')\n",
        "}\n",
        "def login(username, password):\n",
        "    user = db[username]\n",
        "    return user.password == hmac_md5(user.key, password)\n",
        "# 测试:\n",
        "assert login('michael', '123456')\n",
        "assert login('bob', 'abc999')\n",
        "assert login('alice', 'alice2008')\n",
        "assert not login('michael', '1234567')\n",
        "assert not login('bob', '123456')\n",
        "assert not login('alice', 'Alice2008')\n",
        "print('ok')"
      ],
      "execution_count": 0,
      "outputs": [
        {
          "output_type": "stream",
          "text": [
            "ok\n"
          ],
          "name": "stdout"
        }
      ]
    },
    {
      "cell_type": "markdown",
      "metadata": {
        "id": "6JhQ5QpzeUPd",
        "colab_type": "text"
      },
      "source": [
        "### 小结\n",
        "Python内置的hmac模块实现了标准的Hmac算法，它利用一个key对message计算“杂凑”后的hash，使用hmac算法比标准hash算法更安全，因为针对相同的message，不同的key会产生不同的hash。"
      ]
    },
    {
      "cell_type": "markdown",
      "metadata": {
        "id": "DP3lLx9oeUJp",
        "colab_type": "text"
      },
      "source": [
        "## itertools\n",
        "Python的内建模块itertools提供了非常有用的用于操作迭代对象的函数。\n",
        "\n",
        "\n"
      ]
    },
    {
      "cell_type": "markdown",
      "metadata": {
        "id": "Cnim3iu8eUD7",
        "colab_type": "text"
      },
      "source": [
        "\n",
        "\n",
        "*   count()会创建一个无限的迭代器\n",
        "*   cycle()会把传入的一个序列无限重复下去\n",
        "\n",
        "\n",
        "\n",
        "*  repeat()负责把一个元素无限重复下去，不过如果提供第二个参数就可以限定重复次数\n",
        "*   无限序列只有在for迭代时才会无限地迭代下去，如果只是创建了一个迭代对象，它不会事先把无限个元素生成出来，事实上也不可能在内存中创建无限多个元素。\n",
        "\n",
        "*  无限序列虽然可以无限迭代下去，但是通常我们会通过takewhile()等函数根据条件判断来截取出一个有限的序列：\n",
        "\n",
        "```\n",
        ">>> natuals = itertools.count(1)\n",
        ">>> ns = itertools.takewhile(lambda x: x <= 10, natuals)\n",
        ">>> list(ns)\n",
        "[1, 2, 3, 4, 5, 6, 7, 8, 9, 10]\n",
        "```\n",
        "\n",
        "\n",
        "\n",
        "\n",
        "\n"
      ]
    },
    {
      "cell_type": "markdown",
      "metadata": {
        "id": "Ops6aBsweT9m",
        "colab_type": "text"
      },
      "source": [
        "### chain()"
      ]
    },
    {
      "cell_type": "markdown",
      "metadata": {
        "id": "E6j6VwW1eT7Z",
        "colab_type": "text"
      },
      "source": [
        "chain()可以把一组迭代对象串联起来，形成一个更大的迭代器：\n",
        "\n",
        "```\n",
        ">>> for c in itertools.chain('ABC', 'XYZ'):\n",
        "...     print(c)\n",
        "# 迭代效果：'A' 'B' 'C' 'X' 'Y' 'Z'\n",
        "```\n",
        "\n"
      ]
    },
    {
      "cell_type": "markdown",
      "metadata": {
        "id": "0CvQq_gpEYE7",
        "colab_type": "text"
      },
      "source": [
        "### groupby()"
      ]
    },
    {
      "cell_type": "markdown",
      "metadata": {
        "id": "3CJ6L-HpEYJ6",
        "colab_type": "text"
      },
      "source": [
        "groupby()把迭代器中相邻的重复元素挑出来放在一起：\n",
        "\n",
        "```\n",
        ">>> for key, group in itertools.groupby('AAABBBCCAAA'):\n",
        "...     print(key, list(group))\n",
        "...\n",
        "A ['A', 'A', 'A']\n",
        "B ['B', 'B', 'B']\n",
        "C ['C', 'C']\n",
        "A ['A', 'A', 'A']\n",
        "```\n",
        "实际上挑选规则是通过函数完成的，只要作用于函数的两个元素返回的值相等，这两个元素就被认为是在一组的，而函数返回值作为组的key。如果我们要忽略大小写分组，就可以让元素'A'和'a'都返回相同的key：\n",
        "\n",
        "```\n",
        ">>> for key, group in itertools.groupby('AaaBBbcCAAa', lambda c: c.upper()):\n",
        "...     print(key, list(group))\n",
        "...\n",
        "A ['A', 'a', 'a']\n",
        "B ['B', 'B', 'b']\n",
        "C ['c', 'C']\n",
        "A ['A', 'A', 'a']\n",
        "```\n",
        "\n",
        "\n"
      ]
    },
    {
      "cell_type": "markdown",
      "metadata": {
        "id": "RQiSV1ZzEYVC",
        "colab_type": "text"
      },
      "source": [
        "计算圆周率可以根据公式："
      ]
    },
    {
      "cell_type": "markdown",
      "metadata": {
        "id": "FG-7ZN-MEYg9",
        "colab_type": "text"
      },
      "source": [
        "利用Python提供的itertools模块，我们来计算这个序列的前N项和："
      ]
    },
    {
      "cell_type": "code",
      "metadata": {
        "id": "fa96f9j7E0SW",
        "colab_type": "code",
        "outputId": "1d009b70-58e0-4f02-b67f-6662ab091e9c",
        "colab": {
          "base_uri": "https://localhost:8080/",
          "height": 102
        }
      },
      "source": [
        "import itertools\n",
        "def pi(N):\n",
        "    '计算pi的值'   \n",
        "     # 创建一个奇数序列：1，3，5，7，9...    \n",
        "    js = itertools.count(1, 2)\n",
        "    # 取奇数序列的前N项    \n",
        "    num = itertools.takewhile(lambda x: x < 2 * N, js)\n",
        "    sum = 0    \n",
        "    # 添加正负号并用4除: 4/1, -4/3, 4/5, -4/7, 4/9, ...    \n",
        "    for i in num:\n",
        "        if i % 4 == 1:\n",
        "            i = 4 / i\n",
        "        else:\n",
        "            i = -4 / i\n",
        "        sum += i\n",
        "        #print('i:', i, 'sum:', sum)\n",
        "    return sum\n",
        "# 测试:\n",
        "print(pi(10))\n",
        "print(pi(100))\n",
        "print(pi(1000))\n",
        "print(pi(10000))\n",
        "assert 3.04 < pi(10) < 3.05\n",
        "assert 3.13 < pi(100) < 3.14\n",
        "assert 3.140 < pi(1000) < 3.141\n",
        "assert 3.1414 < pi(10000) < 3.1415\n",
        "print('ok')"
      ],
      "execution_count": 0,
      "outputs": [
        {
          "output_type": "stream",
          "text": [
            "3.0418396189294032\n",
            "3.1315929035585537\n",
            "3.140592653839794\n",
            "3.1414926535900345\n",
            "ok\n"
          ],
          "name": "stdout"
        }
      ]
    },
    {
      "cell_type": "markdown",
      "metadata": {
        "id": "YD8-fkwJEYfW",
        "colab_type": "text"
      },
      "source": [
        "## contextlib"
      ]
    },
    {
      "cell_type": "markdown",
      "metadata": {
        "id": "HDYMJl4DEYcY",
        "colab_type": "text"
      },
      "source": [
        "@contextmanager这个decorator接受一个generator，用yield语句把with ... as var把变量输出出去，然后，with语句就可以正常地工作了："
      ]
    },
    {
      "cell_type": "markdown",
      "metadata": {
        "id": "h-ePRTwLEYaf",
        "colab_type": "text"
      },
      "source": [
        "希望在某段代码执行前后自动执行特定代码，也可以用@contextmanager实现\n",
        "\n",
        "```\n",
        "@contextmanager\n",
        "def tag(name):\n",
        "    print(\"<%s>\" % name)\n",
        "    yield\n",
        "    print(\"</%s>\" % name)\n",
        "\n",
        "with tag(\"h1\"):\n",
        "    print(\"hello\")\n",
        "    print(\"world\")\n",
        "```\n",
        "代码的执行顺序是：\n",
        "\n",
        "1.   with语句首先执行yield之前的语句，因此打印出`<h1>`；\n",
        "\n",
        "2.   yield调用会执行with语句内部的所有语句，因此打印出hello和world；\n",
        "3.   最后执行yield之后的语句，打印出`</h1>`。\n",
        "\n",
        "\n",
        "\n",
        "@contextmanager让我们通过编写generator来简化上下文管理"
      ]
    },
    {
      "cell_type": "markdown",
      "metadata": {
        "id": "GaSIXcCyEYYE",
        "colab_type": "text"
      },
      "source": [
        "### @closing\n",
        "如果一个对象没有实现上下文，我们就不能把它用于with语句。这个时候，可以用closing()来把该对象变为上下文对象。"
      ]
    },
    {
      "cell_type": "markdown",
      "metadata": {
        "id": "NDFOWS6_EYSR",
        "colab_type": "text"
      },
      "source": [
        "closing也是一个经过@contextmanager装饰的generator\n",
        "\n",
        "```\n",
        "@contextmanager\n",
        "def closing(thing):\n",
        "    try:\n",
        "        yield thing\n",
        "    finally:\n",
        "        thing.close()\n",
        "```\n",
        "它的作用就是把任意对象变为上下文对象，并支持with语句。\n"
      ]
    },
    {
      "cell_type": "markdown",
      "metadata": {
        "id": "g2ktCQoaEYP7",
        "colab_type": "text"
      },
      "source": [
        "## urllib \n",
        "urllib提供了一系列用于操作URL的功能。"
      ]
    },
    {
      "cell_type": "markdown",
      "metadata": {
        "id": "29eaNLefEYNd",
        "colab_type": "text"
      },
      "source": [
        "### get "
      ]
    },
    {
      "cell_type": "markdown",
      "metadata": {
        "id": "GAHjnMoTEYDG",
        "colab_type": "text"
      },
      "source": [
        "urllib的request模块可以非常方便地抓取URL内容，也就是发送一个GET请求到指定的页面，然后返回HTTP的响应：\n",
        "\n",
        "对豆瓣的一个URL`https://api.douban.com/v2/book/2129650`进行抓取，并返回响应：\n",
        "\n",
        "\n",
        "```\n",
        "from urllib import request\n",
        "\n",
        "with request.urlopen('https://api.douban.com/v2/book/2129650') as f:\n",
        "    data = f.read()\n",
        "    print('Status:', f.status, f.reason)\n",
        "    for k, v in f.getheaders():\n",
        "        print('%s: %s' % (k, v))\n",
        "    print('Data:', data.decode('utf-8'))\n",
        "```\n",
        "\n",
        "\n"
      ]
    },
    {
      "cell_type": "markdown",
      "metadata": {
        "id": "iPmYMM5JIPNs",
        "colab_type": "text"
      },
      "source": [
        "模拟浏览器发送GET请求，就需要使用Request对象，通过往Request对象添加HTTP头，我们就可以把请求伪装成浏览器。例如，模拟iPhone 6去请求豆瓣首页："
      ]
    },
    {
      "cell_type": "code",
      "metadata": {
        "id": "fEUZejI5HQ0H",
        "colab_type": "code",
        "outputId": "8a462096-7e7e-4558-d8c3-3f40a9c0017f",
        "colab": {
          "base_uri": "https://localhost:8080/",
          "height": 4797
        }
      },
      "source": [
        "from urllib import request\n",
        "\n",
        "\n",
        "\n",
        "req = request.Request('http://www.douban.com/')\n",
        "req.add_header('User-Agent', 'Mozilla/6.0 (iPhone; CPU iPhone OS 8_0 like Mac OS X) AppleWebKit/536.26 (KHTML, like Gecko) Version/8.0 Mobile/10A5376e Safari/8536.25')\n",
        "with request.urlopen(req) as f:\n",
        "    print('Status:', f.status, f.reason)\n",
        "    for k, v in f.getheaders():\n",
        "        print('%s: %s' % (k, v))\n",
        "    print('Data:', f.read().decode('utf-8'))"
      ],
      "execution_count": 0,
      "outputs": [
        {
          "output_type": "stream",
          "text": [
            "Status: 200 OK\n",
            "Date: Fri, 07 Jun 2019 08:47:36 GMT\n",
            "Content-Type: text/html; charset=utf-8\n",
            "Transfer-Encoding: chunked\n",
            "Connection: close\n",
            "Vary: Accept-Encoding\n",
            "X-Xss-Protection: 1; mode=block\n",
            "X-Douban-Mobileapp: 0\n",
            "Expires: Sun, 1 Jan 2006 01:00:00 GMT\n",
            "Pragma: no-cache\n",
            "Cache-Control: must-revalidate, no-cache, private\n",
            "Set-Cookie: talionnav_show_app=\"0\"\n",
            "Set-Cookie: bid=D3ZMXKTyhIw; Expires=Sat, 06-Jun-20 08:47:36 GMT; Domain=.douban.com; Path=/\n",
            "X-DOUBAN-NEWBID: D3ZMXKTyhIw\n",
            "X-DAE-Node: brand37\n",
            "X-DAE-App: talion\n",
            "Server: dae\n",
            "X-Frame-Options: SAMEORIGIN\n",
            "Strict-Transport-Security: max-age=15552000;\n",
            "X-Content-Type-Options: nosniff\n",
            "Data: \n",
            "\n",
            "\n",
            "<!DOCTYPE html>\n",
            "<html itemscope itemtype=\"http://schema.org/WebPage\" class=\"ua-safari ua-mobile \">\n",
            "    <head>\n",
            "        <meta charset=\"UTF-8\">\n",
            "        <title>豆瓣(手机版)</title>\n",
            "        <meta name=\"google-site-verification\" content=\"ok0wCgT20tBBgo9_zat2iAcimtN4Ftf5ccsh092Xeyw\" />\n",
            "        <meta name=\"viewport\" content=\"width=device-width, height=device-height, user-scalable=no, initial-scale=1.0, minimum-scale=1.0, maximum-scale=1.0\">\n",
            "        <meta name=\"format-detection\" content=\"telephone=no\">\n",
            "        <link rel=\"canonical\" href=\"\n",
            "http://m.douban.com/\">\n",
            "        <link href=\"https://img3.doubanio.com/f/talion/8d84a75b70e143438e6441a7ef95224142100474/css/card/base.css\" rel=\"stylesheet\">\n",
            "        \n",
            "    <meta name=\"description\" content=\"读书、看电影、涨知识、学穿搭...，加入兴趣小组，获得达人们的高质量生活经验，找到有相同爱好的小伙伴。\">\n",
            "    <meta name=\"keywords\" content=\"豆瓣,手机豆瓣,豆瓣手机版,豆瓣电影,豆瓣读书,豆瓣同城\">\n",
            "    \n",
            "    \n",
            "\n",
            "    <!-- Schema.org markup for Google+ -->\n",
            "    <meta itemprop=\"name\" content=\"豆瓣\">\n",
            "    <meta itemprop=\"description\" content=\"读书、看电影、涨知识、学穿搭...，加入兴趣小组，获得达人们的高质量生活经验，找到有相同爱好的小伙伴。\">\n",
            "    <meta itemprop=\"image\" content=\"https://img3.doubanio.com/f/talion/8e7b9cbd097c02972c4191aa03fdb084524505c4/pics/icon/m_logo_180.png\">\n",
            "    <!-- Twitter meta -->\n",
            "    <meta name=\"twitter:card\" content=\"summary\" />\n",
            "    <!-- Open Graph meta -->\n",
            "    <meta property=\"og:title\" content=\"豆瓣\" />\n",
            "    <meta property=\"og:description\" content=\"读书、看电影、涨知识、学穿搭...，加入兴趣小组，获得达人们的高质量生活经验，找到有相同爱好的小伙伴。\" />\n",
            "    <meta property=\"og:site_name\" content=\"豆瓣(手机版)\" />\n",
            "    <meta property=\"og:url\" content=\"https://m.douban.com/\" />\n",
            "    <meta property=\"og:image\" content=\"https://img3.doubanio.com/f/talion/8e7b9cbd097c02972c4191aa03fdb084524505c4/pics/icon/m_logo_180.png\" />\n",
            "    <meta property=\"og:image:type\" content=\"image/png\" />\n",
            "    <meta property=\"og:image:width\" content=\"300\" />\n",
            "    <meta property=\"og:image:height\" content=\"300\" />\n",
            "    <meta property=\"og:type\" content=\"article\" />\n",
            "    <!-- Wechat meta -->\n",
            "    <meta property=\"weixin:timeline_title\" content=\"豆瓣\" />\n",
            "    <meta property=\"weixin:chat_title\" content=\"豆瓣\" />\n",
            "    <meta property=\"weixin:description\" content=\"读书、看电影、涨知识、学穿搭...，加入兴趣小组，获得达人们的高质量生活经验，找到有相同爱好的小伙伴。\" />\n",
            "    <meta property=\"weixin:image\" content=\"https://img3.doubanio.com/f/talion/8e7b9cbd097c02972c4191aa03fdb084524505c4/pics/icon/m_logo_180.png\" />\n",
            "    <script>\n",
            "    ;(function () {\n",
            "        window.setMeta = function (name, val) {\n",
            "          var meta = document.querySelectorAll('meta[property=\"' + name + '\"], meta[name=\"' + name + '\"]')\n",
            "          if (!meta.length) {\n",
            "            meta = document.createElement('meta')\n",
            "            meta.name = name\n",
            "            document.head.appendChild(meta)\n",
            "            meta = [meta]\n",
            "          }\n",
            "         meta[0].content = val || ''\n",
            "        }\n",
            "        window.getMeta = function (name) {\n",
            "          var meta = document.querySelectorAll('meta[property=\"' + name + '\"], meta[name=\"' + name + '\"]')\n",
            "          if (!meta.length) {\n",
            "            return ''\n",
            "          } else {\n",
            "            return meta[0].content\n",
            "          }\n",
            "        }\n",
            "        !getMeta('weixin:chat_title') && setMeta('weixin:chat_title', document.title)\n",
            "        !getMeta('weixin:timeline_title') && setMeta('weixin:timeline_title', document.title)\n",
            "        !getMeta('weixin:description') && setMeta('weixin:description', getMeta('og:description'))\n",
            "    })();\n",
            "    </script>\n",
            "\n",
            "\n",
            "        <link rel=\"stylesheet\" href=\"https://img3.doubanio.com/misc/mixed_static/468e9211d89502ad.css\">\n",
            "        <link rel=\"icon\" type=\"image/png\" sizes=\"16x16\" href=\"https://img3.doubanio.com/f/talion/c970bb0d720963a7392f7dd6c77068bb9925caaf/pics/icon/dou16.png\">\n",
            "        <link rel=\"icon\" type=\"image/png\" sizes=\"32x32\" href=\"https://img3.doubanio.com/f/talion/2f3c0bc0f35b031d4535fd993ae3936f4e40e6c8/pics/icon/dou32.png\">\n",
            "        <link rel=\"icon\" type=\"image/png\" sizes=\"48x48\" href=\"https://img3.doubanio.com/f/talion/10a4a913a5715f628e4b598f7f9f2c18621bdcb3/pics/icon/dou48.png\">\n",
            "        <!-- iOS touch icon -->\n",
            "        <link rel=\"apple-touch-icon-precomposed\" href=\"https://img3.doubanio.com/f/talion/997f2018d82979da970030a5eb84c77f0123ae5f/pics/icon/m_logo_76.png\">\n",
            "        <link rel=\"apple-touch-icon-precomposed\" sizes=\"76x76\" href=\"https://img3.doubanio.com/f/talion/997f2018d82979da970030a5eb84c77f0123ae5f/pics/icon/m_logo_76.png\">\n",
            "        <link rel=\"apple-touch-icon-precomposed\" sizes=\"120x120\" href=\"https://img3.doubanio.com/f/talion/18932a3e71a60ed7150ca2ca7ebf21ddadd7092e/pics/icon/m_logo_120.png\">\n",
            "        <link rel=\"apple-touch-icon-precomposed\" sizes=\"152x152\" href=\"https://img3.doubanio.com/f/talion/b99497ff8538c54b9ba6f40867da932396ab2562/pics/icon/m_logo_152.png\">\n",
            "        <link rel=\"apple-touch-icon-precomposed\" sizes=\"167x167\" href=\"https://img3.doubanio.com/f/talion/0c233ada957a95e632f81607e30230d16e8293e8/pics/icon/m_logo_167.png\">\n",
            "        <link rel=\"apple-touch-icon-precomposed\" sizes=\"180x180\" href=\"https://img3.doubanio.com/f/talion/8e7b9cbd097c02972c4191aa03fdb084524505c4/pics/icon/m_logo_180.png\">\n",
            "        <link rel=\"apple-touch-icon-precomposed\" sizes=\"200x200\" href=\"https://img3.doubanio.com/f/talion/7c6364aadf368dc0210173c940cfd0f64ceddc66/pics/icon/m_logo_200.png\">\n",
            "        <!-- For Android -->\n",
            "        <link rel=\"icon\" sizes=\"128x128\" href=\"https://img3.doubanio.com/f/talion/b99497ff8538c54b9ba6f40867da932396ab2562/pics/icon/m_logo_152.png\">\n",
            "        <link rel=\"icon\" sizes=\"192x192\" href=\"https://img3.doubanio.com/f/talion/7c6364aadf368dc0210173c940cfd0f64ceddc66/pics/icon/m_logo_200.png\">\n",
            "        <!-- For Web App Manifest -->\n",
            "        \n",
            "  \n",
            "  \n",
            "  <link rel=\"manifest\" href=\"/pwa/manifest?path=/&short_name=%E8%B1%86%E7%93%A3%28%E6%89%8B%E6%9C%BA%E7%89%88%29&name=%E8%B1%86%E7%93%A3%28%E6%89%8B%E6%9C%BA%E7%89%88%29\">\n",
            "  <meta name=\"theme-color\" content=\"#42bd56\">\n",
            "\n",
            "\n",
            "        <link type=\"application/opensearchdescription+xml\" rel=\"search\" href=\"/opensearch\"/>\n",
            "            <!-- hm baidu -->\n",
            "            <script type=\"text/javascript\">\n",
            "            var _hmt = _hmt || [];\n",
            "            (function() {\n",
            "              var hm = document.createElement(\"script\");\n",
            "              hm.src = \"https://hm.baidu.com/hm.js?6d4a8cfea88fa457c3127e14fb5fabc2\";\n",
            "              var s = document.getElementsByTagName(\"script\")[0];\n",
            "              s.parentNode.insertBefore(hm, s);\n",
            "            })();\n",
            "            _hmt.logTruncate = function(type) {\n",
            "                _hmt.push(['_trackEvent', 'article', 'truncate', type, 1]);\n",
            "            }\n",
            "            </script>\n",
            "    </head>\n",
            "    <body ontouchstart=\"\">\n",
            "        \n",
            "        \n",
            "\n",
            "        \n",
            "    \n",
            "    \n",
            "        <div id=\"TalionNav\"><header class=\"TalionNav\"><div class=\"TalionNav-primary\"><a href=\"/\" class=\"logo\"><h1>豆瓣</h1></a><nav><span class=\"\"></span><a href=\"javascript:;;\" class=\"openapp\" id=\"topnav-openapp\">打开豆瓣App</a></nav></div><div class=\"TalionNav-secondary\"><a class=\"close-nav\" href=\"javascript:;\">关闭</a><form action=\"/search\" method=\"GET\"><div><input name=\"query\" type=\"search\"></div></form><ul><li><div><a href=\"/movie\" target=\"_blank\"><strong style=\"color: #2384E8;\">电影</strong><span>影院热映</span></a><a href=\"https://douban.com/location\" target=\"\"><strong style=\"color: #E6467E;\">同城</strong><span>周末活动</span></a><a href=\"https://read.douban.com\" target=\"\"><strong style=\"color: #9F7860;\">阅读</strong><span>电子书</span></a><a href=\"/status\" target=\"_blank\"><strong style=\"color: #E1644D;\">广播</strong><span>友邻动态</span></a></div></li><li><div><a href=\"/tv\" target=\"_blank\"><strong style=\"color: #7A6ADB;\">电视</strong><span>正在热播</span></a><a href=\"/group\" target=\"_blank\"><strong style=\"color: #2AB8CC;\">小组</strong><span>志趣相投</span></a><a href=\"/game\" target=\"_blank\"><strong style=\"color: #5774C5;\">游戏</strong><span>虚拟世界</span></a><a href=\"https://douban.fm\" target=\"\"><strong style=\"color: #40CFA9;\">FM</strong><span>红心歌单</span></a></div></li><li><div><a href=\"/book\" target=\"_blank\"><strong style=\"color: #9F7860;\">图书</strong><span>畅销排行</span></a><a href=\"/music\" target=\"_blank\"><strong style=\"color: #F48F2E;\">音乐</strong><span>新碟榜</span></a><a href=\"/mobileapp\" target=\"_blank\"><strong style=\"color: #596CDD;\">应用</strong><span>玩手机</span></a><a href=\"https://market.douban.com/?utm_campaign=mobile_web_douban_nav&amp;utm_source=douban&amp;utm_medium=mobile_web\" target=\"\"><strong style=\"color: #42BD56;\">豆品</strong><span>生活美学</span></a></div></li></ul><div class=\"navBottom\"><div class=\"nav-item\"><a class=\"toUser\" href=\"/mine/\">我的豆瓣</a><a class=\"toExit\" href=\"https://accounts.douban.com/logout?ck=undefined&amp;redir=http://accounts.douban.com/passport/login\">退出豆瓣</a></div><div class=\"nav-item\"><a class=\"toPC\" href=\"/to_pc/?url=about%3Ablank\">使用桌面版</a><a class=\"toApp\">使用豆瓣App</a></div></div></div></header></div>\n",
            "\n",
            "\n",
            "        <div class=\"page\">\n",
            "            \n",
            "    <div class=\"card\">\n",
            "        <ul class=\"quick-nav\">\n",
            "            <li>\n",
            "                <a href=\"/movie/nowintheater?loc_id=108288\">影院热映</a>\n",
            "            </li>\n",
            "              <li>\n",
            "                  <a href=\"/group/explore/livingaboard/\">生活在别处</a>\n",
            "              </li>\n",
            "            <li>\n",
            "                <a id=\"hot-topics\" href=\"https://m.douban.com/time/?dt_time_source=douban-msite_shortcut\">豆瓣时间</a>\n",
            "            </li>\n",
            "            <li>\n",
            "                <a href=\"https://www.douban.com/doubanapp/app?channel=card_home&direct_dl=1\">使用豆瓣App</a>\n",
            "            </li>\n",
            "        </ul>\n",
            "        <section id=\"recommend-feed\"></section>\n",
            "    </div>\n",
            "\n",
            "        </div>\n",
            "\n",
            "        <script src=\"https://img3.doubanio.com/f/talion/ee8e0c54293aefb5709ececbdf082f8091ad5e49/js/card/zepto.min.js\"></script>\n",
            "        <script src=\"https://img3.doubanio.com/f/talion/623e2eaf89ec30075943ef7ffa57c00aee9a4b0d/js/card/main.js\"></script>\n",
            "        <script src=\"https://img3.doubanio.com/f/talion/00b50b657d0a2bb4d58dc336d996fdb774431842/js/lib/douban-ad-helper.js\"></script>\n",
            "\n",
            "\n",
            "\n",
            "        \n",
            "    \n",
            "  \n",
            "\n",
            "\n",
            "        \n",
            "  \n",
            "\n",
            "  \n",
            "        <script src=\"https://img3.doubanio.com/f/talion/88fc2b21c8dda5c93aa4c011eb15b74f8850978f/js/lib/react/15.3.0/react-all.min.js\"></script>\n",
            "\n",
            "\n",
            "  <script type=\"text/javascript\">\n",
            "    var userCfg = {}\n",
            "  </script>\n",
            "\n",
            "  \n",
            "\n",
            "  \n",
            "  \n",
            "\n",
            "\n",
            "\n",
            "        <script type=\"text/javascript\" src=\"https://img3.doubanio.com/misc/mixed_static/588f7e500ec86180.js\"></script>\n",
            "        \n",
            "\n",
            "\n",
            "<script type=\"text/javascript\" data-mobile=\"true\">\n",
            "    (function (global) {\n",
            "        var newNode = global.document.createElement('script'),\n",
            "            existingNode = global.document.getElementsByTagName('script')[0],\n",
            "            adSource = '//erebor.douban.com/',\n",
            "            userId = '',\n",
            "            browserId = 'D3ZMXKTyhIw',\n",
            "            criteria = '3:/',\n",
            "            preview = '',\n",
            "            debug = false;\n",
            "\n",
            "        global.DoubanAdRequest = {src: adSource, uid: userId, bid: browserId, crtr: criteria, prv: preview, debug: debug};\n",
            "\n",
            "        newNode.setAttribute('type', 'text/javascript');\n",
            "        newNode.setAttribute('src', 'https://img3.doubanio.com/f/adjs/b2a623018cd76036bb32ad74c28ea231fb2aa462/ad.release.js');\n",
            "        newNode.setAttribute('async', true);\n",
            "        existingNode.parentNode.insertBefore(newNode, existingNode);\n",
            "    })(this);\n",
            "</script>\n",
            "\n",
            "\n",
            "        \n",
            "  \n",
            "\n",
            "\n",
            "        <script type='text/javascript'>\n",
            "            \n",
            "            ;(function(global) {\n",
            "                if (window.DoubanAdRequest) {\n",
            "                    window.DoubanAdRequest.filter = []\n",
            "                }\n",
            "                global.DoubanAdSlots = global.DoubanAdSlots || []\n",
            "            })(window);\n",
            "        </script>\n",
            "            <!-- Google Tag Manager -->\n",
            "<!-- Global site tag (gtag.js) - Google Analytics -->\n",
            "<script async src=\"https://www.googletagmanager.com/gtag/js?id=UA-53594431-7\"></script>\n",
            "<script>\n",
            "  window.dataLayer = window.dataLayer || [];\n",
            "  function gtag(){dataLayer.push(arguments);}\n",
            "  gtag('js', new Date());\n",
            "\n",
            "  gtag('config', 'UA-53594431-7', { sample_rate: .1, site_speed_sample_rate: .0001 });\n",
            "</script>\n",
            "<!-- End Google Analytics -->\n",
            "\n",
            "        \n",
            "\n",
            "\n",
            "\n",
            "\n",
            "\n",
            "\n",
            "        <script type='text/javascript'>\n",
            "        (function(){\n",
            "            var site_list = window.white_site_list || new RegExp ([\n",
            "                '^https?://(.+\\\\.douban\\\\.com',\n",
            "                '|web[0-9]?\\\\.qq\\\\.com',\n",
            "                '|hao\\\\.qq\\\\.com',\n",
            "                '|(hao\\\\.)*360\\\\.cn',\n",
            "                '|so\\\\.com',\n",
            "                '|www\\\\.soso\\\\.com',\n",
            "                '|(www\\\\.)?growingio\\\\.com',\n",
            "                '|m-douban-com\\\\.mipcdn\\\\.com',\n",
            "                '|.+\\\\.baidu\\\\.com',\n",
            "                ')(\\\\:[\\\\d]+)?/'\n",
            "            ].join(''));\n",
            "            if (self !== top && document.referrer.search(site_list) === -1) {\n",
            "                top.location = self.location;\n",
            "            }\n",
            "        })();\n",
            "        </script>\n",
            "    </body>\n",
            "</html>\n",
            "\n",
            "\n",
            "\n",
            "\n",
            "\n",
            "\n",
            "\n",
            "\n",
            "\n",
            "\n",
            "\n",
            "\n",
            "\n",
            "\n",
            "\n"
          ],
          "name": "stdout"
        }
      ]
    },
    {
      "cell_type": "markdown",
      "metadata": {
        "id": "wbA-kH6qIwOI",
        "colab_type": "text"
      },
      "source": [
        "### Post"
      ]
    },
    {
      "cell_type": "markdown",
      "metadata": {
        "id": "vKqqUbrzIwgr",
        "colab_type": "text"
      },
      "source": [
        "如果要以POST发送一个请求，只需要把参数data以bytes形式传入"
      ]
    },
    {
      "cell_type": "markdown",
      "metadata": {
        "id": "LRy-VXp2Iwmh",
        "colab_type": "text"
      },
      "source": [
        "我们模拟一个微博登录，先读取登录的邮箱和口令，然后按照weibo.cn的登录页的格式以username=xxx&password=xxx的编码传入：\n",
        "\n"
      ]
    },
    {
      "cell_type": "code",
      "metadata": {
        "id": "3E3xbSzyJUfc",
        "colab_type": "code",
        "outputId": "14e41550-7d26-47aa-d88f-1c90cc95cea2",
        "colab": {
          "base_uri": "https://localhost:8080/",
          "height": 394
        }
      },
      "source": [
        "from urllib import request, parse\n",
        "\n",
        "print('Login to weibo.cn...')\n",
        "email = input('Email: ')\n",
        "passwd = input('Password: ')\n",
        "login_data = parse.urlencode([\n",
        "    ('username', email),\n",
        "    ('password', passwd),\n",
        "    ('entry', 'mweibo'),\n",
        "    ('client_id', ''),\n",
        "    ('savestate', '1'),\n",
        "    ('ec', ''),\n",
        "    ('pagerefer', 'https://passport.weibo.cn/signin/welcome?entry=mweibo&r=http%3A%2F%2Fm.weibo.cn%2F')\n",
        "])\n",
        "\n",
        "req = request.Request('https://passport.weibo.cn/sso/login')\n",
        "req.add_header('Origin', 'https://passport.weibo.cn')\n",
        "req.add_header('User-Agent', 'Mozilla/6.0 (iPhone; CPU iPhone OS 8_0 like Mac OS X) AppleWebKit/536.26 (KHTML, like Gecko) Version/8.0 Mobile/10A5376e Safari/8536.25')\n",
        "req.add_header('Referer', 'https://passport.weibo.cn/signin/login?entry=mweibo&res=wel&wm=3349&r=http%3A%2F%2Fm.weibo.cn%2F')\n",
        "\n",
        "with request.urlopen(req, data=login_data.encode('utf-8')) as f:\n",
        "    print('Status:', f.status, f.reason)\n",
        "    for k, v in f.getheaders():\n",
        "        print('%s: %s' % (k, v))\n",
        "    print('Data:', f.read().decode('utf-8'))"
      ],
      "execution_count": 0,
      "outputs": [
        {
          "output_type": "stream",
          "text": [
            "Login to weibo.cn...\n",
            "Email: 18611663207\n",
            "Password: zsw56264876\n",
            "Status: 200 OK\n",
            "Server: nginx/1.2.0\n",
            "Date: Fri, 07 Jun 2019 08:54:36 GMT\n",
            "Content-Type: text/html\n",
            "Transfer-Encoding: chunked\n",
            "Connection: close\n",
            "Vary: Accept-Encoding\n",
            "Cache-Control: no-cache, must-revalidate\n",
            "Expires: Sat, 26 Jul 1997 05:00:00 GMT\n",
            "Pragma: no-cache\n",
            "Access-Control-Allow-Origin: https://passport.weibo.cn\n",
            "Access-Control-Allow-Credentials: true\n",
            "Set-Cookie: TMPTOKEN=jS036fUvkCXvCXMN9Hjl3Sxm63gGAijEXn4RtT7nKgVnIxdm4f8GcOLKLlu26Pj2; expires=Friday, 07-Jun-2019 09:24:36 GMT; path=/; domain=.weibo.cn; httponly\n",
            "DPOOL_HEADER: dryad63\n",
            "Set-Cookie: login=48088277f83072f029fddb1edad3803b; Path=/\n",
            "SINA-LB: aGEuOTAuZzEucXhnLmxiLnNpbmFub2RlLmNvbQ==\n",
            "SINA-TS: YjFjYTk0Y2UgMCAwIDAgMyA0MjkK\n",
            "Data: {\"retcode\":50050004,\"msg\":\"\\u60a8\\u5df2\\u5f00\\u542f\\u767b\\u5f55\\u4fdd\\u62a4\\uff0c\\u8bf7\\u4f7f\\u7528\\u9a8c\\u8bc1\\u7801\\u767b\\u5f55\",\"data\":{\"errline\":449}}\n"
          ],
          "name": "stdout"
        }
      ]
    },
    {
      "cell_type": "markdown",
      "metadata": {
        "id": "Zletcf6HIxgR",
        "colab_type": "text"
      },
      "source": [
        "### Handler"
      ]
    },
    {
      "cell_type": "markdown",
      "metadata": {
        "id": "1ITd8jYxIxuY",
        "colab_type": "text"
      },
      "source": [
        "如果还需要更复杂的控制，比如通过一个Proxy去访问网站，我们需要利用ProxyHandler来处理，示例代码如下：\n",
        "\n"
      ]
    },
    {
      "cell_type": "markdown",
      "metadata": {
        "id": "DzY0jIkuKAD4",
        "colab_type": "text"
      },
      "source": [
        "### 小结\n",
        "urllib提供的功能就是利用程序去执行各种HTTP请求。如果要模拟浏览器完成特定功能，需要把请求伪装成浏览器。伪装的方法是先监控浏览器发出的请求，再根据浏览器的请求头来伪装，User-Agent头就是用来标识浏览器的。\n",
        "\n"
      ]
    },
    {
      "cell_type": "markdown",
      "metadata": {
        "id": "SmRmyaOAKEkY",
        "colab_type": "text"
      },
      "source": [
        "### 练习\n",
        "利用urllib读取JSON，然后将JSON解析为Python对象："
      ]
    },
    {
      "cell_type": "markdown",
      "metadata": {
        "id": "7ZgCCi53MEWM",
        "colab_type": "text"
      },
      "source": [
        "## HTMLParser"
      ]
    },
    {
      "cell_type": "markdown",
      "metadata": {
        "id": "mJqxjc-gMI7r",
        "colab_type": "text"
      },
      "source": [
        "如果我们要编写一个搜索引擎，第一步是用爬虫把目标网站的页面抓下来，第二步就是解析该HTML页面，看看里面的内容到底是新闻、图片还是视频。"
      ]
    },
    {
      "cell_type": "markdown",
      "metadata": {
        "id": "xYmnt8D-MIxh",
        "colab_type": "text"
      },
      "source": [
        "假设第一步已经完成了，第二步应该如何解析HTML呢？"
      ]
    },
    {
      "cell_type": "markdown",
      "metadata": {
        "id": "5tfE6VBHMI2C",
        "colab_type": "text"
      },
      "source": [
        "HTML本质上是XML的子集，但是HTML的语法没有XML那么严格，所以不能用标准的DOM或SAX来解析HTML。好在Python提供了HTMLParser来非常方便地解析HTML，只需简单几行代码："
      ]
    },
    {
      "cell_type": "code",
      "metadata": {
        "id": "qWppFtjJMTqJ",
        "colab_type": "code",
        "outputId": "4fe5ca74-fd30-40cf-badb-665d7ce7b901",
        "colab": {
          "base_uri": "https://localhost:8080/",
          "height": 459
        }
      },
      "source": [
        "from html.parser import HTMLParser\n",
        "from html.entities import name2codepoint\n",
        "\n",
        "class MyHTMLParser(HTMLParser):\n",
        "\n",
        "    def handle_starttag(self, tag, attrs):\n",
        "        print('<%s>' % tag)\n",
        "\n",
        "    def handle_endtag(self, tag):\n",
        "        print('</%s>' % tag)\n",
        "\n",
        "    def handle_startendtag(self, tag, attrs):\n",
        "        print('<%s/>' % tag)\n",
        "\n",
        "    def handle_data(self, data):\n",
        "        print(data)\n",
        "\n",
        "    def handle_comment(self, data):\n",
        "        print('<!--', data, '-->')\n",
        "\n",
        "    def handle_entityref(self, name):\n",
        "        print('&%s;' % name)\n",
        "\n",
        "    def handle_charref(self, name):\n",
        "        print('&#%s;' % name)\n",
        "\n",
        "parser = MyHTMLParser()\n",
        "parser.feed('''<html>\n",
        "<head></head>\n",
        "<body>\n",
        "<!-- test html parser -->\n",
        "    <p>Some <a href=\\\"#\\\">html</a> HTML&nbsp;tutorial...<br>END</p>\n",
        "</body></html>''')"
      ],
      "execution_count": 0,
      "outputs": [
        {
          "output_type": "stream",
          "text": [
            "<html>\n",
            "\n",
            "\n",
            "<head>\n",
            "</head>\n",
            "\n",
            "\n",
            "<body>\n",
            "\n",
            "\n",
            "<!--  test html parser  -->\n",
            "\n",
            "    \n",
            "<p>\n",
            "Some \n",
            "<a>\n",
            "html\n",
            "</a>\n",
            " HTML tutorial...\n",
            "<br>\n",
            "END\n",
            "</p>\n",
            "\n",
            "\n",
            "</body>\n",
            "</html>\n"
          ],
          "name": "stdout"
        }
      ]
    },
    {
      "cell_type": "markdown",
      "metadata": {
        "id": "pdGq0gVeMbi1",
        "colab_type": "text"
      },
      "source": [
        "feed()方法可以多次调用，也就是不一定一次把整个HTML字符串都塞进去，可以一部分一部分塞进去。\n",
        "\n",
        "特殊字符有两种，一种是英文表示的&nbsp;，一种是数字表示的&#1234;，这两种字符都可以通过Parser解析出来。\n",
        "\n"
      ]
    },
    {
      "cell_type": "markdown",
      "metadata": {
        "id": "AcFV8-UaMdRt",
        "colab_type": "text"
      },
      "source": [
        "### 小结\n",
        "利用HTMLParser，可以把网页中的文本、图像等解析出来。"
      ]
    },
    {
      "cell_type": "markdown",
      "metadata": {
        "id": "_1t5H393MtJd",
        "colab_type": "text"
      },
      "source": [
        "用浏览器查看源码并复制，然后尝试解析一下HTML，输出Python官网发布的会议时间、名称和地点"
      ]
    },
    {
      "cell_type": "code",
      "metadata": {
        "id": "F7NRatQZMnZU",
        "colab_type": "code",
        "outputId": "6ed92598-4cfa-42c2-b606-8d560497c19a",
        "colab": {
          "base_uri": "https://localhost:8080/",
          "height": 717
        }
      },
      "source": [
        "from html.parser import HTMLParser\n",
        "# from html.entities import name2codepoint\n",
        "from urllib import request\n",
        "import re\n",
        "\n",
        "class MyHTMLParser(HTMLParser):\n",
        "    def __init__(self):\n",
        "        super(MyHTMLParser,self).__init__()\n",
        "        self.__parsedata='' # 设置一个空的标志位\n",
        "\n",
        "    def handle_starttag(self, tag, attrs):\n",
        "        if ('class', 'event-title') in attrs:\n",
        "            self.__parsedata = 'name'  # 通过属性判断如果该标签是我们要找的标签，设置标志位\n",
        "        if tag == 'time':\n",
        "            self.__parsedata = 'time'\n",
        "        if ('class', 'say-no-more') in attrs:\n",
        "            self.__parsedata = 'year'\n",
        "        if ('class', 'event-location') in attrs:\n",
        "            self.__parsedata = 'location'\n",
        "\n",
        "    def handle_endtag(self, tag):\n",
        "        self.__parsedata = ''# 在HTML 标签结束时，把标志位清空\n",
        "\n",
        "    def handle_data(self, data):\n",
        "        if self.__parsedata == 'name': \n",
        "            print('会议名称:%s' % data) # 通过标志位判断，输出打印标签内容\n",
        "\n",
        "        if self.__parsedata == 'time':\n",
        "            print('会议时间:%s' % data)\n",
        "\n",
        "        if self.__parsedata == 'year':\n",
        "            if re.match(r'\\s\\d{4}', data): # 因为后面还有两组 say-no-more 后面的data却不是年份信息,所以用正则检测一下\n",
        "                print('会议年份:%s' % data.strip())\n",
        "\n",
        "        if self.__parsedata == 'location':\n",
        "            print('会议地点:%s' % data)\n",
        "            print('----------------------------------')\n",
        "\n",
        "parser = MyHTMLParser()\n",
        "\n",
        "URL = 'https://www.python.org/events/python-events/'\n",
        "\n",
        "with request.urlopen(URL, timeout=15) as f:  # 打开网页并取到数据\n",
        "    data = f.read()\n",
        "parser.feed(data.decode('utf-8'))"
      ],
      "execution_count": 0,
      "outputs": [
        {
          "output_type": "stream",
          "text": [
            "会议名称:PyCon CZ 2019\n",
            "会议时间:14 June – 16 June \n",
            "会议年份:2019\n",
            "会议地点:Ostrava, Czech Republic\n",
            "----------------------------------\n",
            "会议名称:PyLondinium\n",
            "会议时间:14 June – 16 June \n",
            "会议年份:2019\n",
            "会议地点:London, UK\n",
            "----------------------------------\n",
            "会议名称:PyCon Thailand\n",
            "会议时间:15 June – 16 June \n",
            "会议年份:2019\n",
            "会议地点:Bangkok, Thailand\n",
            "----------------------------------\n",
            "会议名称:GeoPython 2019\n",
            "会议时间:24 June – 26 June \n",
            "会议年份:2019\n",
            "会议地点:Basel, Switzerland\n",
            "----------------------------------\n",
            "会议名称:PyDay Pereira\n",
            "会议时间:29 June\n",
            "会议年份:2019\n",
            "会议地点:Pereira, Colombia\n",
            "----------------------------------\n",
            "会议名称:Caipyra 2019\n",
            "会议时间:07 July – 10 July \n",
            "会议年份:2019\n",
            "会议地点:São Carlos, SP, Brazil\n",
            "----------------------------------\n",
            "会议名称:PyCon Israel 2019\n",
            "会议时间:03 June – 05 June \n",
            "会议年份:2019\n",
            "会议地点:Ramat Gan, Israel\n",
            "----------------------------------\n",
            "会议名称:PyConWeb 2019\n",
            "会议时间:25 May – 26 May \n",
            "会议年份:2019\n",
            "会议地点:Microsoft Deutschland GmbH, Walter-Gropius-Straße 5, 80807 München, Germany\n",
            "----------------------------------\n"
          ],
          "name": "stdout"
        }
      ]
    }
  ]
}