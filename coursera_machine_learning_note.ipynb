{
  "nbformat": 4,
  "nbformat_minor": 0,
  "metadata": {
    "colab": {
      "name": "coursera machine learning note.ipynb",
      "version": "0.3.2",
      "provenance": [],
      "collapsed_sections": [],
      "include_colab_link": true
    },
    "kernelspec": {
      "name": "python3",
      "display_name": "Python 3"
    }
  },
  "cells": [
    {
      "cell_type": "markdown",
      "metadata": {
        "id": "view-in-github",
        "colab_type": "text"
      },
      "source": [
        "<a href=\"https://colab.research.google.com/github/ccloveak/Study_Notes/blob/master/coursera_machine_learning_note.ipynb\" target=\"_parent\"><img src=\"https://colab.research.google.com/assets/colab-badge.svg\" alt=\"Open In Colab\"/></a>"
      ]
    },
    {
      "cell_type": "markdown",
      "metadata": {
        "id": "6-RV1rF_FYg6",
        "colab_type": "text"
      },
      "source": [
        "#week 1"
      ]
    },
    {
      "cell_type": "markdown",
      "metadata": {
        "id": "kpC0h-3iGZRM",
        "colab_type": "text"
      },
      "source": [
        "基本数学概念"
      ]
    },
    {
      "cell_type": "markdown",
      "metadata": {
        "id": "OpkIvP-1Gh1d",
        "colab_type": "text"
      },
      "source": [
        "#week 2"
      ]
    },
    {
      "cell_type": "markdown",
      "metadata": {
        "id": "irK8u8fYGiAO",
        "colab_type": "text"
      },
      "source": [
        "梯度下降算法及其matlab实现"
      ]
    },
    {
      "cell_type": "markdown",
      "metadata": {
        "id": "LYoqP31aGwQB",
        "colab_type": "text"
      },
      "source": [
        "#week 3"
      ]
    },
    {
      "cell_type": "markdown",
      "metadata": {
        "id": "QfsuXCJSGx__",
        "colab_type": "text"
      },
      "source": [
        "*  逻辑回归算法\n",
        "*   sigmoid function\n",
        "*   logistic function\n",
        "\n",
        "*   逻辑回归算法用matlab实现\n",
        "*   利用matlab自带库 计算学习效率\n",
        "\n",
        "\n",
        "\n"
      ]
    }
  ]
}